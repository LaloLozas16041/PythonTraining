{
 "cells": [
  {
   "cell_type": "markdown",
   "metadata": {
    "id": "bIDMTVrBR0MW"
   },
   "source": [
    "# CLASE 2 "
   ]
  },
  {
   "cell_type": "code",
   "execution_count": 6,
   "metadata": {},
   "outputs": [],
   "source": [
    "if True:\n",
    "    # print(\"Hola\")\n",
    "    pass\n",
    "else:\n",
    "    print(\"Mundo\")"
   ]
  },
  {
   "cell_type": "code",
   "execution_count": 4,
   "metadata": {},
   "outputs": [],
   "source": [
    "if True:\n",
    "    pass\n"
   ]
  },
  {
   "cell_type": "markdown",
   "metadata": {},
   "source": [
    "## Ciclos"
   ]
  },
  {
   "cell_type": "code",
   "execution_count": 20,
   "metadata": {},
   "outputs": [
    {
     "name": "stdout",
     "output_type": "stream",
     "text": [
      "a\n",
      "b\n",
      "d\n",
      "e\n",
      "g\n",
      "h\n",
      "j\n",
      "k\n",
      "m\n",
      "n\n",
      "p\n",
      "q\n",
      "s\n",
      "t\n",
      "v\n",
      "w\n",
      "y\n",
      "z\n"
     ]
    }
   ],
   "source": [
    "lista = [0, 1, ('a',4), \"hola\", 4, 5,6,7,8,9,10,'clase',{}]\n",
    "lista2 = ['a', 'b', 'd', 'e', 'g', 'h', 'j', 'k', 'm', 'n', 'p', 'q', 's', 't', 'v', 'w', 'y', 'z']\n",
    "for item in lista2:\n",
    "    print(item)"
   ]
  },
  {
   "cell_type": "code",
   "execution_count": 14,
   "metadata": {},
   "outputs": [
    {
     "name": "stdout",
     "output_type": "stream",
     "text": [
      "[5, 6, 7, 8, 9]\n"
     ]
    }
   ],
   "source": [
    "print(list(range(5,10)))"
   ]
  },
  {
   "cell_type": "code",
   "execution_count": null,
   "metadata": {},
   "outputs": [],
   "source": [
    "i"
   ]
  },
  {
   "cell_type": "code",
   "execution_count": 21,
   "metadata": {},
   "outputs": [
    {
     "name": "stdout",
     "output_type": "stream",
     "text": [
      "5\n",
      "6\n",
      "7\n",
      "8\n",
      "9\n"
     ]
    }
   ],
   "source": [
    "for i in range(5,10):\n",
    "    print(i)"
   ]
  },
  {
   "cell_type": "code",
   "execution_count": 17,
   "metadata": {},
   "outputs": [
    {
     "name": "stdout",
     "output_type": "stream",
     "text": [
      "5\n",
      "6\n",
      "7\n",
      "8\n",
      "9\n"
     ]
    }
   ],
   "source": [
    "numero = 5\n",
    "while numero <= 10:\n",
    "    print(numero)\n",
    "    numero += 1 #     numero = numero + 1\n"
   ]
  },
  {
   "cell_type": "code",
   "execution_count": 23,
   "metadata": {},
   "outputs": [
    {
     "name": "stdout",
     "output_type": "stream",
     "text": [
      "Primero del for =  1\n",
      "Ultimo del for =  1\n",
      "--------------------------------------\n",
      "Primero del for =  2\n",
      "Ultimo del for =  2\n",
      "--------------------------------------\n",
      "Primero del for =  3\n",
      "Ultimo del for =  3\n",
      "--------------------------------------\n",
      "Primero del for =  4\n",
      "          Dentro del if =  4\n",
      "Primero del for =  5\n",
      "Ultimo del for =  5\n",
      "--------------------------------------\n",
      "Primero del for =  6\n",
      "Ultimo del for =  6\n",
      "--------------------------------------\n",
      "Primero del for =  7\n",
      "Ultimo del for =  7\n",
      "--------------------------------------\n",
      "Primero del for =  8\n",
      "Ultimo del for =  8\n",
      "--------------------------------------\n",
      "Primero del for =  9\n"
     ]
    }
   ],
   "source": [
    "for num in range(1,100):\n",
    "    print(\"Primero del for = \",num)\n",
    "    if(num < 5 and num > 3):\n",
    "        print(\"          Dentro del if = \",num)\n",
    "        continue\n",
    "    elif(num > 8):\n",
    "        break\n",
    "    print(\"Ultimo del for = \",num)\n",
    "    print(\"--------------------------------------\")\n"
   ]
  },
  {
   "cell_type": "markdown",
   "metadata": {},
   "source": [
    "#### Ejercicio 1\n",
    "\n",
    "Escribir un programa que pregunte al usuario su edad y muestre por pantalla todos los años que ha cumplido (desde 1 hasta su edad)."
   ]
  },
  {
   "cell_type": "code",
   "execution_count": 27,
   "metadata": {},
   "outputs": [
    {
     "name": "stdout",
     "output_type": "stream",
     "text": [
      "Ingresa tu edad: 3\n",
      "2020\n",
      "2021\n",
      "2022\n",
      "2023\n"
     ]
    }
   ],
   "source": [
    "edad= int(input('Ingresa tu edad: '))\n",
    "birth= 2023 - edad\n",
    "i=0\n",
    "while i <= edad:\n",
    "    print(birth)\n",
    "    birth=birth+1\n",
    "    i=i+1"
   ]
  },
  {
   "cell_type": "code",
   "execution_count": 29,
   "metadata": {},
   "outputs": [
    {
     "name": "stdout",
     "output_type": "stream",
     "text": [
      "ingresa tu edad: 3\n",
      "2022\n",
      "2021\n"
     ]
    }
   ],
   "source": [
    "edad = input(\"ingresa tu edad: \")\n",
    "edad = int(edad)\n",
    "years = (range(1,edad))\n",
    "calendar_year = 2023\n",
    "\n",
    "\n",
    "for year in years:\n",
    "  print (calendar_year - year)"
   ]
  },
  {
   "cell_type": "code",
   "execution_count": 28,
   "metadata": {},
   "outputs": [
    {
     "name": "stdout",
     "output_type": "stream",
     "text": [
      "¿Cuántos años tienes? 3\n",
      "2020\n",
      "2021\n",
      "2022\n",
      "2023\n"
     ]
    }
   ],
   "source": [
    "x = int(input(\"¿Cuántos años tienes? \"))\n",
    "\n",
    "for i in range(2023-x, 2024):\n",
    "    print(i)"
   ]
  },
  {
   "cell_type": "code",
   "execution_count": 30,
   "metadata": {},
   "outputs": [
    {
     "name": "stdout",
     "output_type": "stream",
     "text": [
      "Cual es tu edad:3\n",
      "2020\n",
      "2021\n",
      "2022\n",
      "2023\n"
     ]
    }
   ],
   "source": [
    "import datetime as dt\n",
    "edad= int(input(\"Cual es tu edad:\"))\n",
    "\n",
    "hoy=dt.datetime.now()\n",
    "for num in range(hoy.year-edad,hoy.year+1):\n",
    "    print(num)"
   ]
  },
  {
   "cell_type": "markdown",
   "metadata": {},
   "source": [
    "#### Ejercicio 2\n",
    "Escribir un programa que almacene la cadena de caracteres contraseña en una variable, pregunte al usuario por la contraseña hasta que introduzca la contraseña correcta."
   ]
  },
  {
   "cell_type": "code",
   "execution_count": 31,
   "metadata": {},
   "outputs": [
    {
     "name": "stdout",
     "output_type": "stream",
     "text": [
      "Introduzca la contraseña\n",
      "Admin123\n",
      "Introduzca la contraseña\n",
      "admin123\n",
      "Introduzca la contraseña\n",
      "easdfa\n",
      "Introduzca la contraseña\n",
      "esaefreasdf\n",
      "Introduzca la contraseña\n",
      "54574\n",
      "Introduzca la contraseña\n",
      "Admin 123\n",
      "Introduzca la contraseña\n",
      "Admin123\n",
      "Introduzca la contraseña\n",
      "Admin123\n",
      "Introduzca la contraseña\n",
      "pa$$w0rd\n",
      "Bienvenido\n"
     ]
    }
   ],
   "source": [
    "autenticado = False\n",
    "realpass = \"pa$$w0rd\"\n",
    "while autenticado == False:\n",
    "    print(\"Introduzca la contraseña\")\n",
    "    contraseña = input()\n",
    "    if contraseña == realpass:\n",
    "        autenticado = True\n",
    "        print(\"Bienvenido\")"
   ]
  },
  {
   "cell_type": "code",
   "execution_count": 32,
   "metadata": {},
   "outputs": [
    {
     "name": "stdout",
     "output_type": "stream",
     "text": [
      "introduce una contraseña por favor: Admin123\n",
      "introduce la misma contraseña otra vez por favor: admin123\n",
      "la contraseña introducida es incorrecta\n",
      "introduce la misma contraseña otra vez por favor: Admin123\n",
      "es correcto, gracias\n"
     ]
    }
   ],
   "source": [
    "contraseña = input('introduce una contraseña por favor: ')\n",
    "controlador=True\n",
    "contraseña2 = input('introduce la misma contraseña otra vez por favor: ')\n",
    "while controlador :\n",
    "    if contraseña2==contraseña:\n",
    "        controlador=False\n",
    "        print('es correcto, gracias')\n",
    "    else:\n",
    "        print('la contraseña introducida es incorrecta')\n",
    "        contraseña2 = input('introduce la misma contraseña otra vez por favor: ')"
   ]
  },
  {
   "cell_type": "code",
   "execution_count": null,
   "metadata": {},
   "outputs": [],
   "source": [
    "contraseña = 'PerroYgato'\n",
    "print('intenta la contraseña')\n",
    "intento = input()\n",
    "cont = list(contraseña)\n",
    "inte = list(intento)\n",
    "r = 0\n",
    "u = 0\n",
    "for letra in cont:\n",
    "    if inte[r] == cont[u]:\n",
    "        r +=\n",
    "        u +=\n",
    "        continue\n",
    "    else :\n",
    "        print('la contraseña es incorrecta')"
   ]
  },
  {
   "cell_type": "markdown",
   "metadata": {},
   "source": [
    "## Diccionarios"
   ]
  },
  {
   "cell_type": "code",
   "execution_count": 33,
   "metadata": {},
   "outputs": [
    {
     "name": "stdout",
     "output_type": "stream",
     "text": [
      "<class 'dict'>\n"
     ]
    }
   ],
   "source": [
    "my_dict0 = {}\n",
    "print(type(my_dict0))"
   ]
  },
  {
   "cell_type": "code",
   "execution_count": 34,
   "metadata": {},
   "outputs": [
    {
     "name": "stdout",
     "output_type": "stream",
     "text": [
      "{'a': 1, 'b': 2, 'c': 3}\n"
     ]
    }
   ],
   "source": [
    "my_dict1 = {'a': 1, 'b': 2, 'c': 3}\n",
    "print(my_dict1)"
   ]
  },
  {
   "cell_type": "code",
   "execution_count": 35,
   "metadata": {},
   "outputs": [
    {
     "name": "stdout",
     "output_type": "stream",
     "text": [
      "{'a': 1, 'b': 2, 'c': 3}\n"
     ]
    }
   ],
   "source": [
    "my_dict2 = dict(a=1, b=2, c=3)\n",
    "print(my_dict2)"
   ]
  },
  {
   "cell_type": "code",
   "execution_count": 36,
   "metadata": {},
   "outputs": [
    {
     "name": "stdout",
     "output_type": "stream",
     "text": [
      "diccionario inicial ->  {'a': 1, 'b': 2}\n",
      "agregamos w ->  {'a': 1, 'b': 2, 'w': 100}\n",
      "cambiamos b ->  {'a': 1, 'b': 4, 'w': 100}\n",
      "eliminamos a ->  {'b': 4, 'w': 100}\n"
     ]
    }
   ],
   "source": [
    "my_dict3 = {'a': 1, 'b': 2}\n",
    "print('diccionario inicial -> ',my_dict3)\n",
    "my_dict3['w'] = 100\n",
    "print('agregamos w -> ',my_dict3)\n",
    "\n",
    "my_dict3['b'] = 4\n",
    "print('cambiamos b -> ', my_dict3)\n",
    "\n",
    "del my_dict3['a']\n",
    "print('eliminamos a -> ',my_dict3)"
   ]
  },
  {
   "cell_type": "markdown",
   "metadata": {},
   "source": [
    "#### Ejemplo: \n",
    "Escribir un programa que pregunte al usuario su nombre, edad, dirección y teléfono y lo guarde en un diccionario. Después debe mostrar por pantalla el mensaje <nombre> tiene <edad> años, vive en <dirección> y su número de teléfono es <teléfono>."
   ]
  },
  {
   "cell_type": "code",
   "execution_count": 37,
   "metadata": {},
   "outputs": [
    {
     "name": "stdout",
     "output_type": "stream",
     "text": [
      "¿Cómo te llamas? Ana\n",
      "¿Cuántos años tienes? 3\n",
      "¿Cuál es tu dirección? Zapopan\n",
      "¿Cuál es tu número de teléfono? 222\n"
     ]
    }
   ],
   "source": [
    "nombre = input('¿Cómo te llamas? ')\n",
    "edad = input('¿Cuántos años tienes? ')\n",
    "direccion = input('¿Cuál es tu dirección? ')\n",
    "telefono = input('¿Cuál es tu número de teléfono? ')"
   ]
  },
  {
   "cell_type": "code",
   "execution_count": 40,
   "metadata": {},
   "outputs": [],
   "source": [
    "persona = {'nombre': nombre,\n",
    "           'edad': edad, \n",
    "           'direccion': direccion, \n",
    "           'telefono': telefono }"
   ]
  },
  {
   "cell_type": "code",
   "execution_count": 43,
   "metadata": {},
   "outputs": [
    {
     "name": "stdout",
     "output_type": "stream",
     "text": [
      "Ana tiene 3 años, vive en Zapopan y su número de teléfono es 222\n"
     ]
    }
   ],
   "source": [
    "print(persona[\"nombre\"], \"tiene\", persona['edad'], 'años, vive en', persona['direccion'], 'y su número de teléfono es', persona['telefono'])"
   ]
  },
  {
   "cell_type": "code",
   "execution_count": 44,
   "metadata": {},
   "outputs": [
    {
     "data": {
      "text/plain": [
       "dict_keys(['nombre', 'edad', 'direccion', 'telefono'])"
      ]
     },
     "execution_count": 44,
     "metadata": {},
     "output_type": "execute_result"
    }
   ],
   "source": [
    "persona.keys()"
   ]
  },
  {
   "cell_type": "code",
   "execution_count": 45,
   "metadata": {},
   "outputs": [
    {
     "data": {
      "text/plain": [
       "dict_values(['Ana', '3', 'Zapopan', '222'])"
      ]
     },
     "execution_count": 45,
     "metadata": {},
     "output_type": "execute_result"
    }
   ],
   "source": [
    "persona.values()"
   ]
  },
  {
   "cell_type": "code",
   "execution_count": 46,
   "metadata": {},
   "outputs": [
    {
     "data": {
      "text/plain": [
       "dict_items([('nombre', 'Ana'), ('edad', '3'), ('direccion', 'Zapopan'), ('telefono', '222')])"
      ]
     },
     "execution_count": 46,
     "metadata": {},
     "output_type": "execute_result"
    }
   ],
   "source": [
    "persona.items()"
   ]
  },
  {
   "cell_type": "code",
   "execution_count": 47,
   "metadata": {},
   "outputs": [],
   "source": [
    "persona[\"nombre\"]=['Ana', 'juan', 'carlos']"
   ]
  },
  {
   "cell_type": "code",
   "execution_count": 48,
   "metadata": {},
   "outputs": [
    {
     "data": {
      "text/plain": [
       "{'nombre': ['Ana', 'juan', 'carlos'],\n",
       " 'edad': '3',\n",
       " 'direccion': 'Zapopan',\n",
       " 'telefono': '222'}"
      ]
     },
     "execution_count": 48,
     "metadata": {},
     "output_type": "execute_result"
    }
   ],
   "source": [
    "persona"
   ]
  },
  {
   "cell_type": "markdown",
   "metadata": {},
   "source": [
    "#### Ejercicio 3\n",
    "Escribir un programa que guarde en un diccionario los precios de las frutas de la tabla, pregunte al usuario por una fruta, un número de kilos y muestre por pantalla el precio de ese número de kilos de fruta. Si la fruta no está en el diccionario debe mostrar un mensaje informando de ello.\n",
    "|  Fruta  | Precio |\n",
    "|:-------:|:------:|\n",
    "| Plátano |  1.35  |\n",
    "| Manzana |  0.80  |\n",
    "|   Pera  |  0.85  |\n",
    "| Naranja |  0.70  |"
   ]
  },
  {
   "cell_type": "code",
   "execution_count": 53,
   "metadata": {},
   "outputs": [
    {
     "name": "stdout",
     "output_type": "stream",
     "text": [
      "qué fruta deseas?\n",
      "Pera\n",
      "cuantos kilos?\n",
      "1\n",
      "El precio es 0.85\n"
     ]
    }
   ],
   "source": [
    "tabla = {'Plátano' : 1.35, 'Manzana' : 0.8, 'Pera': 0.85, 'Naranja' : 0.7}\n",
    "print('qué fruta deseas?')\n",
    "fruta = input()\n",
    "if not fruta in tabla.keys():\n",
    "    print('No tenemos esa fruta')\n",
    "print('cuantos kilos?')\n",
    "kg = float(input())\n",
    "precio = tabla[fruta] * kg\n",
    "print('El precio es', precio)"
   ]
  },
  {
   "cell_type": "code",
   "execution_count": 54,
   "metadata": {},
   "outputs": [
    {
     "name": "stdout",
     "output_type": "stream",
     "text": [
      "¿Qué fruta desea comprar? Pera\n",
      "Ingrese la cantidad de kilos que desea comprar: 1\n",
      "El costo de tu compra sería: $0.85\n"
     ]
    }
   ],
   "source": [
    "tienda = {\n",
    "    'Platano': 1.35,\n",
    "    'Manzana': 0.8,\n",
    "    'Pera': 0.85,\n",
    "    'Naranja': 0.7\n",
    "}\n",
    "fruta = input('¿Qué fruta desea comprar? ')\n",
    "if fruta in tienda:\n",
    "    kilos = float(input('Ingrese la cantidad de kilos que desea comprar: '))\n",
    "    print(f'El costo de tu compra sería: ${kilos * tienda[fruta]}')\n",
    "else:\n",
    "    print('Por el momento no contamos con ese producto')"
   ]
  },
  {
   "cell_type": "code",
   "execution_count": 55,
   "metadata": {},
   "outputs": [
    {
     "name": "stdout",
     "output_type": "stream",
     "text": [
      "Que fruta deseas llevar?Pera\n",
      "Ingresa cuantos kilos deseas llevar: 1\n",
      "Tu llevaras Pera a precio de:  0.85\n"
     ]
    }
   ],
   "source": [
    "frutas={'Platano' : 1.35, 'Manzana' : 0.8 , 'Pera' : 0.85 , 'Naranja': 0.7}\n",
    "fruta= str(input('Que fruta deseas llevar?'))\n",
    "kilos= int(input('Ingresa cuantos kilos deseas llevar: '))\n",
    "print(f'Tu llevaras {fruta}', 'a precio de: ', frutas[fruta]*kilos)"
   ]
  },
  {
   "cell_type": "code",
   "execution_count": 57,
   "metadata": {},
   "outputs": [
    {
     "name": "stdout",
     "output_type": "stream",
     "text": [
      "que fruta quieres?: pera\n",
      "cuantos kilos?: 1\n",
      "costo total es de:  0.85\n"
     ]
    }
   ],
   "source": [
    "fruits = {'platano':1.35, 'manzana':.80, 'pera':.85, 'naranja':.70}\n",
    "\n",
    "fruit = input(\"que fruta quieres?: \")\n",
    "kilo = input(\"cuantos kilos?: \")\n",
    "kilo = int(kilo)\n",
    "\n",
    "total = fruits[fruit] * kilo\n",
    "print(\"costo total es de: \" ,total)\n",
    "\n"
   ]
  },
  {
   "cell_type": "code",
   "execution_count": 58,
   "metadata": {},
   "outputs": [
    {
     "name": "stdout",
     "output_type": "stream",
     "text": [
      "Ingresa el nombre de la fruta deseada: pera\n",
      "Ingresa la cantidad en kilos deseada: 1\n",
      "El precio total de pera es: $ 0.85\n"
     ]
    }
   ],
   "source": [
    "precios_frutas = {\n",
    "    \"plátano\": 1.35,\n",
    "    \"manzana\": 0.80,\n",
    "    \"pera\": 0.85,\n",
    "    \"naranja\": 0.70\n",
    "}\n",
    "fruta_deseada = input(\"Ingresa el nombre de la fruta deseada: \")\n",
    "if fruta_deseada in precios_frutas:\n",
    "    cantidad_kilos = float(input(\"Ingresa la cantidad en kilos deseada: \"))\n",
    "    precio_fruta = precios_frutas[fruta_deseada]\n",
    "    precio_total = precio_fruta * cantidad_kilos\n",
    "    print(\"El precio total de\", fruta_deseada, \"es: $\", precio_total)\n",
    "else:\n",
    "    print(\"Lo siento, la fruta\", fruta_deseada,\"no se encuentra en la lista\")"
   ]
  },
  {
   "cell_type": "code",
   "execution_count": 59,
   "metadata": {},
   "outputs": [
    {
     "name": "stdout",
     "output_type": "stream",
     "text": [
      "¿Qué fruta quieres? Pera\n",
      "¿Cuántos kilos? 1\n",
      "1.0 kilos de Pera valen 0.85 $\n"
     ]
    }
   ],
   "source": [
    "frutas = {'Plátano':1.35, 'Manzana':0.8, 'Pera':0.85, 'Naranja':0.7}\n",
    "fruta = input('¿Qué fruta quieres? ').title()\n",
    "kg = float(input('¿Cuántos kilos? '))\n",
    "if fruta in frutas:\n",
    "    print(kg, 'kilos de', fruta, 'valen', frutas[fruta]*kg, '$')\n",
    "else: \n",
    "    print(\"Lo siento, la fruta\", fruta, \"no está disponible.\")"
   ]
  },
  {
   "cell_type": "code",
   "execution_count": 61,
   "metadata": {},
   "outputs": [
    {
     "name": "stdout",
     "output_type": "stream",
     "text": [
      "¿Qué fruta desea?\n",
      "Pera\n",
      "¿Cuantos kilos desea?\n",
      "1\n",
      "El precio es 0.85\n"
     ]
    }
   ],
   "source": [
    "dict_fruta = {'Platano': 1.35, 'Manzana': 0.80, 'Pera': 0.85, 'Naranja': 0.70}\n",
    "print(\"¿Qué fruta desea?\")\n",
    "fruta = input()\n",
    "if not fruta in dict_fruta.keys():\n",
    "    print(\"No tenemos esa fruta\")\n",
    "else:\n",
    "    print(\"¿Cuantos kilos desea?\")\n",
    "    kilos = int(input())\n",
    "    precio = dict_fruta[fruta] * kilos\n",
    "    print(\"El precio es\", precio)\n"
   ]
  },
  {
   "cell_type": "code",
   "execution_count": 63,
   "metadata": {},
   "outputs": [
    {
     "name": "stdout",
     "output_type": "stream",
     "text": [
      "¿Qué fruta quiere llevar?kiwi\n",
      "¿Cuántos kilos?1\n"
     ]
    },
    {
     "ename": "KeyError",
     "evalue": "'kiwi'",
     "output_type": "error",
     "traceback": [
      "\u001b[0;31m---------------------------------------------------------------------------\u001b[0m",
      "\u001b[0;31mKeyError\u001b[0m                                  Traceback (most recent call last)",
      "Cell \u001b[0;32mIn[63], line 7\u001b[0m\n\u001b[1;32m      5\u001b[0m fruta \u001b[38;5;241m=\u001b[39m \u001b[38;5;28minput\u001b[39m(\u001b[38;5;124m\"\u001b[39m\u001b[38;5;124m¿Qué fruta quiere llevar?\u001b[39m\u001b[38;5;124m\"\u001b[39m)\n\u001b[1;32m      6\u001b[0m kilo \u001b[38;5;241m=\u001b[39m \u001b[38;5;28mfloat\u001b[39m(\u001b[38;5;28minput\u001b[39m(\u001b[38;5;124m\"\u001b[39m\u001b[38;5;124m¿Cuántos kilos?\u001b[39m\u001b[38;5;124m\"\u001b[39m))\n\u001b[0;32m----> 7\u001b[0m total \u001b[38;5;241m=\u001b[39m \u001b[43mfruit_list\u001b[49m\u001b[43m[\u001b[49m\u001b[43mfruta\u001b[49m\u001b[43m]\u001b[49m\u001b[38;5;241m*\u001b[39mkilo\n\u001b[1;32m      8\u001b[0m \u001b[38;5;28mprint\u001b[39m (\u001b[38;5;124m\"\u001b[39m\u001b[38;5;124mSerían\u001b[39m\u001b[38;5;124m\"\u001b[39m, total, \u001b[38;5;124m\"\u001b[39m\u001b[38;5;124mpor su\u001b[39m\u001b[38;5;124m\"\u001b[39m, fruta)\n",
      "\u001b[0;31mKeyError\u001b[0m: 'kiwi'"
     ]
    }
   ],
   "source": [
    "fruit_list = {\"Platano\" : 1.35,\n",
    "             \"Manzana\": 0.80,\n",
    "             \"Pera\": 0.85,\n",
    "             \"Naranja\" : 0.70}\n",
    "fruta = input(\"¿Qué fruta quiere llevar?\")\n",
    "kilo = float(input(\"¿Cuántos kilos?\"))\n",
    "total = fruit_list[fruta]*kilo\n",
    "print (\"Serían\", total, \"por su\", fruta)"
   ]
  },
  {
   "cell_type": "markdown",
   "metadata": {},
   "source": [
    "## Funciones\n"
   ]
  },
  {
   "cell_type": "code",
   "execution_count": 64,
   "metadata": {},
   "outputs": [],
   "source": [
    "def saludar(nombre):\n",
    "    print(\"Hola, \" + nombre + \"!\")"
   ]
  },
  {
   "cell_type": "code",
   "execution_count": 65,
   "metadata": {},
   "outputs": [
    {
     "name": "stdout",
     "output_type": "stream",
     "text": [
      "Hola, Pedro!\n"
     ]
    }
   ],
   "source": [
    "saludar(\"Pedro\")"
   ]
  },
  {
   "cell_type": "code",
   "execution_count": 66,
   "metadata": {},
   "outputs": [
    {
     "name": "stdout",
     "output_type": "stream",
     "text": [
      "Hola, Bart!\n"
     ]
    }
   ],
   "source": [
    "name='Bart'\n",
    "saludar(name)"
   ]
  },
  {
   "cell_type": "code",
   "execution_count": 67,
   "metadata": {},
   "outputs": [
    {
     "name": "stdout",
     "output_type": "stream",
     "text": [
      "Cual es tu nombre?Ana\n",
      "Hola, Ana!\n"
     ]
    }
   ],
   "source": [
    "saludar(input(\"Cual es tu nombre?\"))"
   ]
  },
  {
   "cell_type": "code",
   "execution_count": 68,
   "metadata": {},
   "outputs": [],
   "source": [
    "def suma(a,b):\n",
    "    c = a + b\n",
    "    return c"
   ]
  },
  {
   "cell_type": "code",
   "execution_count": 70,
   "metadata": {},
   "outputs": [
    {
     "name": "stdout",
     "output_type": "stream",
     "text": [
      "8\n",
      "La suma entre 3 y 5 es 8\n"
     ]
    }
   ],
   "source": [
    "a=3\n",
    "b=5\n",
    "c=suma(a,b)\n",
    "print(c)\n",
    "print(f\"La suma entre {a} y {b} es {suma(a,b)}\")"
   ]
  },
  {
   "cell_type": "code",
   "execution_count": 71,
   "metadata": {},
   "outputs": [
    {
     "data": {
      "text/plain": [
       "15"
      ]
     },
     "execution_count": 71,
     "metadata": {},
     "output_type": "execute_result"
    }
   ],
   "source": [
    "suma(8,7)"
   ]
  },
  {
   "cell_type": "code",
   "execution_count": 73,
   "metadata": {},
   "outputs": [],
   "source": [
    "def resta(a,b):\n",
    "    return a-b"
   ]
  },
  {
   "cell_type": "code",
   "execution_count": 74,
   "metadata": {},
   "outputs": [
    {
     "name": "stdout",
     "output_type": "stream",
     "text": [
      "La resta entre 3 y 5 es -2\n"
     ]
    }
   ],
   "source": [
    "a=3\n",
    "b=5\n",
    "print(f\"La resta entre {a} y {b} es {resta(a,b)}\")"
   ]
  },
  {
   "cell_type": "code",
   "execution_count": 75,
   "metadata": {},
   "outputs": [
    {
     "name": "stdout",
     "output_type": "stream",
     "text": [
      "Funcion len() = 5\n",
      "Funcion contador = 5\n"
     ]
    }
   ],
   "source": [
    "# La funcion len() devuelve la longitud (el número de elementos) de un objeto.\n",
    "\n",
    "lista= ['a','b','c','d','e']\n",
    "print('Funcion len() =' ,len(lista))\n",
    "\n",
    "def contador(lista):\n",
    "    count=0\n",
    "    for i in lista:\n",
    "        count += 1 # count = count+1\n",
    "    return(count)\n",
    "\n",
    "print('Funcion contador =',contador(lista))"
   ]
  },
  {
   "cell_type": "markdown",
   "metadata": {},
   "source": [
    "#### Ejemplo: \n",
    "Escribir una función que calcule el total de una factura tras aplicarle el IVA. La función debe recibir la cantidad sin IVA y el porcentaje de IVA a aplicar, y devolver el total de la factura. Si se invoca la función sin pasarle el porcentaje de IVA, deberá aplicar un 21%."
   ]
  },
  {
   "cell_type": "code",
   "execution_count": 76,
   "metadata": {},
   "outputs": [],
   "source": [
    "def factura_con_IVA(venta, iva=21):\n",
    "    impuesto = venta * iva / 100\n",
    "    total = venta + impuesto\n",
    "    return total"
   ]
  },
  {
   "cell_type": "code",
   "execution_count": 77,
   "metadata": {},
   "outputs": [
    {
     "name": "stdout",
     "output_type": "stream",
     "text": [
      "116.0\n",
      "116.0\n"
     ]
    }
   ],
   "source": [
    "venta=100\n",
    "iva=16\n",
    "print(factura_con_IVA(100,16))\n",
    "print(factura_con_IVA(venta,iva))"
   ]
  },
  {
   "cell_type": "code",
   "execution_count": 78,
   "metadata": {},
   "outputs": [
    {
     "name": "stdout",
     "output_type": "stream",
     "text": [
      "121.0\n"
     ]
    }
   ],
   "source": [
    "print(factura_con_IVA(venta))"
   ]
  },
  {
   "cell_type": "markdown",
   "metadata": {},
   "source": [
    "#### Ejercicio 4\n",
    "Escribir una función que reciba un número entero positivo y devuelva su factorial."
   ]
  },
  {
   "cell_type": "code",
   "execution_count": 80,
   "metadata": {},
   "outputs": [
    {
     "data": {
      "text/plain": [
       "5040"
      ]
     },
     "execution_count": 80,
     "metadata": {},
     "output_type": "execute_result"
    }
   ],
   "source": [
    "import numpy as np\n",
    "\n",
    "np.math.factorial(7)"
   ]
  },
  {
   "cell_type": "code",
   "execution_count": 83,
   "metadata": {},
   "outputs": [
    {
     "ename": "TypeError",
     "evalue": "'int' object is not iterable",
     "output_type": "error",
     "traceback": [
      "\u001b[0;31m---------------------------------------------------------------------------\u001b[0m",
      "\u001b[0;31mTypeError\u001b[0m                                 Traceback (most recent call last)",
      "Cell \u001b[0;32mIn[83], line 10\u001b[0m\n\u001b[1;32m      8\u001b[0m         u \u001b[38;5;241m+\u001b[39m\u001b[38;5;241m=\u001b[39m \u001b[38;5;241m1\u001b[39m\n\u001b[1;32m      9\u001b[0m     \u001b[38;5;28;01mreturn\u001b[39;00m t\n\u001b[0;32m---> 10\u001b[0m \u001b[43mfactorial\u001b[49m\u001b[43m(\u001b[49m\u001b[38;5;241;43m7\u001b[39;49m\u001b[43m)\u001b[49m\n",
      "Cell \u001b[0;32mIn[83], line 5\u001b[0m, in \u001b[0;36mfactorial\u001b[0;34m(f)\u001b[0m\n\u001b[1;32m      3\u001b[0m k \u001b[38;5;241m=\u001b[39m \u001b[38;5;241m1\u001b[39m\n\u001b[1;32m      4\u001b[0m t \u001b[38;5;241m=\u001b[39m \u001b[38;5;241m0\u001b[39m\n\u001b[0;32m----> 5\u001b[0m \u001b[38;5;28;01mfor\u001b[39;00m i \u001b[38;5;129;01min\u001b[39;00m f:\n\u001b[1;32m      6\u001b[0m     t \u001b[38;5;241m=\u001b[39m (k \u001b[38;5;241m*\u001b[39m u) \u001b[38;5;241m+\u001b[39m k\n\u001b[1;32m      7\u001b[0m     k \u001b[38;5;241m+\u001b[39m\u001b[38;5;241m=\u001b[39m \u001b[38;5;241m1\u001b[39m\n",
      "\u001b[0;31mTypeError\u001b[0m: 'int' object is not iterable"
     ]
    }
   ],
   "source": [
    "def factorial(f):\n",
    "    u = 1\n",
    "    k = 1\n",
    "    t = 0\n",
    "    for i in f:\n",
    "        t = (k * u) + k\n",
    "        k += 1\n",
    "        u += 1\n",
    "    return t\n",
    "factorial(7)"
   ]
  },
  {
   "cell_type": "code",
   "execution_count": 84,
   "metadata": {},
   "outputs": [
    {
     "name": "stdout",
     "output_type": "stream",
     "text": [
      "ingresa un numero entero del cual quieras saber su factorial:7\n",
      "el factorial es:  5040\n"
     ]
    }
   ],
   "source": [
    "num = input('ingresa un numero entero del cual quieras saber su factorial:')\n",
    "num = int(num)\n",
    "\n",
    "def factorial(num):\n",
    "  if num > 0:\n",
    "    fact = 1\n",
    "    while(num > 1):\n",
    "      fact *= num\n",
    "      num -= 1\n",
    "    return fact\n",
    "  \n",
    "  elif num == 0:\n",
    "    return 1\n",
    "  \n",
    "  else:\n",
    "    return \"negativo, ingresa otro numero\"\n",
    "\n",
    "print('el factorial es: ', factorial(num))"
   ]
  },
  {
   "cell_type": "code",
   "execution_count": 85,
   "metadata": {},
   "outputs": [
    {
     "name": "stdout",
     "output_type": "stream",
     "text": [
      "Ingresa numero: 7\n",
      "El factorial del número es: 5040\n"
     ]
    }
   ],
   "source": [
    "def factorial(numero):\n",
    "    resultado = 1\n",
    "    for numero in range(2, numero + 1):\n",
    "        resultado *= numero\n",
    "    return resultado\n",
    "\n",
    "num = int(input('Ingresa numero: '))\n",
    "print(f'El factorial del número es: {factorial(num)}')"
   ]
  },
  {
   "cell_type": "code",
   "execution_count": 87,
   "metadata": {},
   "outputs": [
    {
     "name": "stdout",
     "output_type": "stream",
     "text": [
      "Ingresa un número entero positivo: 7\n",
      "El factorial de 7 es 5040\n"
     ]
    }
   ],
   "source": [
    "numero = 7\n",
    "def factorial(n):\n",
    "    if n == 0:\n",
    "        return 1\n",
    "    else:\n",
    "        return n * factorial(n-1)\n",
    "\n",
    "numero = int(input(\"Ingresa un número entero positivo: \"))\n",
    "print(\"El factorial de\", numero, \"es\", factorial(numero))"
   ]
  },
  {
   "cell_type": "code",
   "execution_count": 90,
   "metadata": {},
   "outputs": [
    {
     "name": "stdout",
     "output_type": "stream",
     "text": [
      "El factorial de 7 es 5040\n"
     ]
    },
    {
     "data": {
      "text/plain": [
       "5040"
      ]
     },
     "execution_count": 90,
     "metadata": {},
     "output_type": "execute_result"
    }
   ],
   "source": [
    "def fact(num):\n",
    "    factorial = 1\n",
    "    if num < 0:\n",
    "        print(\"No existe factorial de números negativos.\")\n",
    "    elif num == 0:\n",
    "        print(\"El factorial de 0 es 1\")\n",
    "    else:\n",
    "        for i in range(1, num+1):\n",
    "            factorial = factorial * i\n",
    "        print(\"El factorial de\", num, \"es\", factorial)\n",
    "    return factorial\n",
    "\n",
    "fact(7)"
   ]
  },
  {
   "cell_type": "markdown",
   "metadata": {},
   "source": [
    "#### Ejercicio 5\n",
    "Escribir una función que calcule el área de un círculo y otra que calcule el volumen de un cilindro usando la primera función."
   ]
  },
  {
   "cell_type": "code",
   "execution_count": 97,
   "metadata": {},
   "outputs": [
    {
     "data": {
      "text/plain": [
       "62.832"
      ]
     },
     "execution_count": 97,
     "metadata": {},
     "output_type": "execute_result"
    }
   ],
   "source": [
    "def areacirc(radio):\n",
    "    return 3.1416 * radio ** 2\n",
    "\n",
    "def volcilindro(altura, radio):\n",
    "    return areacirc(radio) * altura\n",
    "\n",
    "volcilindro(5, 2)"
   ]
  },
  {
   "cell_type": "code",
   "execution_count": 98,
   "metadata": {},
   "outputs": [
    {
     "name": "stdout",
     "output_type": "stream",
     "text": [
      "62.830000000000005\n"
     ]
    }
   ],
   "source": [
    "def circle_area(radius):\n",
    "   \n",
    "    pi = 3.1415\n",
    "    return pi*radius**2\n",
    "\n",
    "def cilinder_volume(radius, high):\n",
    "  \n",
    "    return circle_area(radius)*high\n",
    "\n",
    "print(cilinder_volume(2,5))"
   ]
  },
  {
   "cell_type": "code",
   "execution_count": 99,
   "metadata": {},
   "outputs": [
    {
     "data": {
      "text/plain": [
       "62.83184"
      ]
     },
     "execution_count": 99,
     "metadata": {},
     "output_type": "execute_result"
    }
   ],
   "source": [
    "def area_circulo(radio):\n",
    "    return 3.141592 * radio**2\n",
    "\n",
    "def volumen_cilindro(radio, altura):\n",
    "    return area_circulo(radio)*altura\n",
    "\n",
    "\n",
    "volumen_cilindro(2,5)"
   ]
  },
  {
   "cell_type": "code",
   "execution_count": 100,
   "metadata": {},
   "outputs": [
    {
     "data": {
      "text/plain": [
       "62.8318"
      ]
     },
     "execution_count": 100,
     "metadata": {},
     "output_type": "execute_result"
    }
   ],
   "source": [
    "def CirArea(radius):\n",
    "    return 3.14159 * radius * radius\n",
    "def CilVol(radius, height):\n",
    "    return CirArea(radius) * height\n",
    "CilVol(2, 5)"
   ]
  },
  {
   "cell_type": "code",
   "execution_count": 102,
   "metadata": {},
   "outputs": [
    {
     "data": {
      "text/plain": [
       "62.83185307179586"
      ]
     },
     "execution_count": 102,
     "metadata": {},
     "output_type": "execute_result"
    }
   ],
   "source": [
    "import math\n",
    "def area_cir(r):\n",
    "    return math.pi*r*r\n",
    "area_cir(10)\n",
    "\n",
    "def vol_cil(r, h):\n",
    "    return area_cir(r)*h\n",
    "vol_cil(2,5)"
   ]
  },
  {
   "cell_type": "code",
   "execution_count": null,
   "metadata": {},
   "outputs": [],
   "source": [
    "def circle_area(radius):\n",
    "    pi = 3.1415\n",
    "    return pi*radius**2\n",
    "\n",
    "def cilinder_volume(radius, high):\n",
    "    return circle_area(radius)*high\n",
    "\n",
    "cilinder_volume(2, 5)"
   ]
  },
  {
   "cell_type": "markdown",
   "metadata": {},
   "source": [
    "#### Ejercicio 6\n",
    "Escribir un programa que reciba una cadena de caracteres y devuelva un diccionario con cada palabra que contiene y su frecuencia. Escribir otra función que reciba el diccionario generado con la función anterior y devuelva una tupla con la palabra más repetida y su frecuencia."
   ]
  }
 ],
 "metadata": {
  "colab": {
   "private_outputs": true,
   "provenance": []
  },
  "kernelspec": {
   "display_name": "Python 3 (ipykernel)",
   "language": "python",
   "name": "python3"
  },
  "language_info": {
   "codemirror_mode": {
    "name": "ipython",
    "version": 3
   },
   "file_extension": ".py",
   "mimetype": "text/x-python",
   "name": "python",
   "nbconvert_exporter": "python",
   "pygments_lexer": "ipython3",
   "version": "3.10.10"
  }
 },
 "nbformat": 4,
 "nbformat_minor": 1
}
