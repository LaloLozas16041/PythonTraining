{
 "cells": [
  {
   "cell_type": "markdown",
   "id": "1397902e",
   "metadata": {},
   "source": [
    "# Clase 4 Fundamentos de Python\n"
   ]
  },
  {
   "cell_type": "markdown",
   "id": "472275e8",
   "metadata": {},
   "source": [
    "## Ejercicio 1\n",
    "Escribir una función que reciba otra función numerica de transformacion y una lista de numeros, y devuelva otra lista con el resultado de aplicar la función dada a cada uno de los elementos de la lista.\n",
    "\n",
    "- def aplicar_funcion(funcion_A,lista) : \n",
    "    return lista_nueva\n",
    " \n",
    "- def funcion_A(numero) : \n",
    "    return calculo\n",
    " \n",
    "- def funcion_B(numero) : \n",
    "    return calculo"
   ]
  },
  {
   "cell_type": "code",
   "execution_count": 1,
   "id": "938fe9b8",
   "metadata": {},
   "outputs": [
    {
     "name": "stdout",
     "output_type": "stream",
     "text": [
      "[2, 3, 4]\n",
      "[1, 8, 27]\n"
     ]
    }
   ],
   "source": [
    "def al_cubo(nume):\n",
    "    res = nume **3\n",
    "    return res\n",
    "\n",
    "def mas_uno(numi):\n",
    "    ru = numi + 1\n",
    "    return ru\n",
    "\n",
    "def dame(funcion,lista):\n",
    "    ux = []\n",
    "    for t in lista:\n",
    "        ux.append(funcion(t))\n",
    "    return ux\n",
    "\n",
    "nums=[1,2,3]\n",
    "\n",
    "print(dame(mas_uno,nums))\n",
    "print(dame(al_cubo,nums))"
   ]
  },
  {
   "cell_type": "code",
   "execution_count": null,
   "id": "859e8957",
   "metadata": {},
   "outputs": [],
   "source": [
    "nums = [1,2,3]\n",
    "\n",
    "def funcion_A(num):\n",
    "  return num * num * num\n",
    "\n",
    "def funcion_B(num):\n",
    "  return num + 100\n",
    "\n",
    "def aplicar_funcion(funcion_A,nums):\n",
    "  new_list = []\n",
    "  for num in nums:\n",
    "    new_list.append(funcion_A(num))\n",
    "  return new_list\n",
    "\n",
    "print(aplicar_funcion(funcion_A,nums))\n",
    "print(aplicar_funcion(funcion_B,nums))"
   ]
  },
  {
   "cell_type": "code",
   "execution_count": 2,
   "id": "080e77ee",
   "metadata": {},
   "outputs": [
    {
     "name": "stdout",
     "output_type": "stream",
     "text": [
      "[1, 2, 6]\n",
      "[1, 4, 9]\n"
     ]
    }
   ],
   "source": [
    "def cuadrado(numero):\n",
    "    return numero ** 2\n",
    "\n",
    "def factorial(numero):\n",
    "    resultado = 1\n",
    "    for numero in range(2, numero + 1):\n",
    "        resultado *= numero\n",
    "    return resultado\n",
    "\n",
    "def aplicar_funcion(funcion, lista):\n",
    "    nueva_lista = []\n",
    "    for num in lista:\n",
    "        num_temp = funcion(num)\n",
    "        nueva_lista.append(num_temp)\n",
    "    return nueva_lista\n",
    "\n",
    "nums=[1,2,3]\n",
    "\n",
    "print(aplicar_funcion(factorial,nums))\n",
    "print(aplicar_funcion(cuadrado,nums))"
   ]
  },
  {
   "cell_type": "code",
   "execution_count": 3,
   "id": "68ca9e01",
   "metadata": {},
   "outputs": [
    {
     "name": "stdout",
     "output_type": "stream",
     "text": [
      "[1, 4, 9, 16, 25]\n",
      "[2, 4, 6, 8, 10]\n"
     ]
    }
   ],
   "source": [
    "def aplicar_funcion(funcion, lista):\n",
    "    nueva_lista=[]\n",
    "    for num in lista:\n",
    "        nueva_lista.append(funcion(num))\n",
    "    \n",
    "    return nueva_lista\n",
    "\n",
    "def funcion_A(numero):\n",
    "    return numero**2\n",
    "\n",
    "def funcion_B(numero):\n",
    "    return numero*2\n",
    "\n",
    "\n",
    "mi_lista=[1,2,3,4,5]\n",
    "print(aplicar_funcion(funcion_A,mi_lista))\n",
    "print(aplicar_funcion(funcion_B,mi_lista))"
   ]
  },
  {
   "cell_type": "code",
   "execution_count": 62,
   "id": "f30f6405",
   "metadata": {},
   "outputs": [
    {
     "name": "stdout",
     "output_type": "stream",
     "text": [
      "Longitud de la lista: 3\n",
      "Escribe un numero: 1\n",
      "Escribe un numero: 2\n",
      "Escribe un numero: 3\n",
      "[1, 2, 3]\n",
      "[1, 4, 9]\n"
     ]
    }
   ],
   "source": [
    "from math import sqrt\n",
    "\n",
    "def raizcuadrada(numero):\n",
    "  calculo = sqrt(numero)\n",
    "  return calculo\n",
    "\n",
    "def cuadrado(numero):\n",
    "  calculo = numero ** 2\n",
    "  return calculo\n",
    "\n",
    "def aplicar_funcion(funcion_A, lista):\n",
    "  nueva_lista = []\n",
    "  for elemento in lista:\n",
    "    nueva_lista.append(funcion_A(elemento))\n",
    "  return nueva_lista\n",
    "\n",
    "long_lista = int(input('Longitud de la lista: '))\n",
    "lista_usr = []\n",
    "\n",
    "while long_lista > 0:\n",
    "  lista_usr.append(int(input('Escribe un numero: ')))\n",
    "  long_lista -= 1\n",
    "\n",
    "print(aplicar_funcion(cuadrado,lista_usr))"
   ]
  },
  {
   "cell_type": "code",
   "execution_count": null,
   "id": "a7783e6b",
   "metadata": {},
   "outputs": [],
   "source": [
    "def aplica_funcion_lista(funcion, lista):\n",
    "    new_list = []\n",
    "    for i in lista:\n",
    "        new_list.append(funcion(i))\n",
    "    return new_list\n",
    "\n",
    "def cuadrado(n):\n",
    "    return n * n\n",
    "\n",
    "def mas_uno(n):\n",
    "    return n+1\n",
    "\n",
    "def mas_cuatro(n):\n",
    "    return n+4\n",
    "\n",
    "\n",
    "print(aplica_funcion_lista(cuadrado, [1, 2, 3, 4]))\n",
    "print(aplica_funcion_lista(mas_uno, [1, 2, 3, 4]))\n",
    "print(aplica_funcion_lista(mas_cuatro, [1, 2, 3, 4]))"
   ]
  },
  {
   "cell_type": "markdown",
   "id": "1d2317ad",
   "metadata": {},
   "source": [
    "## Ejercicio 2\n",
    "\n",
    "Escribir una función que reciba una frase y devuelva un diccionario con las palabras que contiene y su longitud.\n",
    "\n",
    "Diccionario={\n",
    "    \"Welcome\": 7,\n",
    "    \"to\":2,...\n",
    "}"
   ]
  },
  {
   "cell_type": "code",
   "execution_count": 10,
   "id": "969584de",
   "metadata": {},
   "outputs": [],
   "source": [
    "frase_2 = \"Welcome to the jungle . Watch it bring you to your knees, knees. Oh, I wanna watch you bleed\""
   ]
  },
  {
   "cell_type": "code",
   "execution_count": null,
   "id": "19d953d7",
   "metadata": {},
   "outputs": [],
   "source": [
    "#  {\n",
    "#    \"Welcome\": 7,\n",
    "#    \"to\":2,\n",
    "#  }"
   ]
  },
  {
   "cell_type": "code",
   "execution_count": 4,
   "id": "9c6ce4d3",
   "metadata": {},
   "outputs": [
    {
     "name": "stdout",
     "output_type": "stream",
     "text": [
      "Escribe un textoWelcome to the jungle . Watch it bring you to your knees , knees . Oh, I wanna watch you bleed\n",
      "{0: 'Welcome', 1: 'to', 2: 'the', 3: 'jungle', 4: '.', 5: 'Watch', 6: 'it', 7: 'bring', 8: 'you', 9: 'to', 10: 'your', 11: 'knees', 12: ',', 13: 'knees', 14: '.', 15: 'Oh,', 16: 'I', 17: 'wanna', 18: 'watch', 19: 'you', 20: 'bleed'}\n"
     ]
    }
   ],
   "source": [
    "texto = input('Escribe un texto')\n",
    "\n",
    "temp = texto.split(' ')\n",
    "count=0\n",
    "dic ={}\n",
    "for palabra in temp:\n",
    "    dic[count]=palabra\n",
    "    count+=1\n",
    "    \n",
    "print(dic)"
   ]
  },
  {
   "cell_type": "code",
   "execution_count": 11,
   "id": "b078b24a",
   "metadata": {},
   "outputs": [
    {
     "name": "stdout",
     "output_type": "stream",
     "text": [
      "{'Welcome': 7, 'to': 2, 'the': 3, 'jungle': 6, '.': 1, 'Watch': 5, 'it': 2, 'bring': 5, 'you': 3, 'your': 4, 'knees,': 6, 'knees.': 6, 'Oh,': 3, 'I': 1, 'wanna': 5, 'watch': 5, 'bleed': 5}\n"
     ]
    }
   ],
   "source": [
    "def frase(cadena):\n",
    "    lista = cadena.split(\" \")\n",
    "    diccionario = {}\n",
    "    for elemento in lista:\n",
    "        cantidad_temp = len(elemento)\n",
    "        diccionario[elemento] = cantidad_temp\n",
    "    return diccionario\n",
    "\n",
    "print(frase(frase_2))"
   ]
  },
  {
   "cell_type": "code",
   "execution_count": 13,
   "id": "f5e7b083",
   "metadata": {},
   "outputs": [
    {
     "data": {
      "text/plain": [
       "{'Welcome': 7,\n",
       " 'to': 2,\n",
       " 'the': 3,\n",
       " 'jungle': 6,\n",
       " '.': 1,\n",
       " 'Watch': 5,\n",
       " 'it': 2,\n",
       " 'bring': 5,\n",
       " 'you': 3,\n",
       " 'your': 4,\n",
       " 'knees,': 6,\n",
       " 'knees.': 6,\n",
       " 'Oh,': 3,\n",
       " 'I': 1,\n",
       " 'wanna': 5,\n",
       " 'watch': 5,\n",
       " 'bleed': 5}"
      ]
     },
     "execution_count": 13,
     "metadata": {},
     "output_type": "execute_result"
    }
   ],
   "source": [
    "texto = frase_2\n",
    "\n",
    "temp = texto.split(' ')\n",
    "count=0\n",
    "dic ={}\n",
    "for palabra in temp:\n",
    "    dic[palabra]=len(palabra)\n",
    "    count+=1\n",
    "dic"
   ]
  },
  {
   "cell_type": "code",
   "execution_count": 14,
   "id": "d87a676e",
   "metadata": {},
   "outputs": [
    {
     "name": "stdout",
     "output_type": "stream",
     "text": [
      "{'Cuando': 6, 'calienta': 8, 'el': 2, 'sol,': 4, 'aqui': 4, 'en': 2, 'la': 2, 'playaaaa': 8}\n"
     ]
    }
   ],
   "source": [
    "def palabras_longitud(frase):\n",
    "    palabras = frase.split()\n",
    "    diccionario = {}\n",
    "    for palabra in palabras:\n",
    "        longitud = len(palabra)\n",
    "        if palabra not in diccionario:\n",
    "            diccionario[palabra] = longitud\n",
    "    return diccionario\n",
    "frase = \"Cuando calienta el sol, aqui en la playaaaa\"\n",
    "resultado = palabras_longitud(frase)\n",
    "print(resultado)"
   ]
  },
  {
   "cell_type": "code",
   "execution_count": 66,
   "id": "9f8cba7f",
   "metadata": {},
   "outputs": [
    {
     "name": "stdout",
     "output_type": "stream",
     "text": [
      "welcome to the jungle watch it bring you to your knees knees oh i wanna watch you bleed\n",
      "['welcome', 'to', 'the', 'jungle', 'watch', 'it', 'bring', 'you', 'to', 'your', 'knees', 'knees', 'oh', 'i', 'wanna', 'watch', 'you', 'bleed']\n"
     ]
    }
   ],
   "source": [
    "frase = \"Welcome to the jungle.Watch it bring you to your knees,knees.Oh,I wanna watch you bleed\"\n",
    "frase = frase.lower().replace('.',' ').replace(',',' ')\n",
    "print(frase)\n",
    "print(frase.split())\n"
   ]
  },
  {
   "cell_type": "code",
   "execution_count": 65,
   "id": "b02d645d",
   "metadata": {},
   "outputs": [
    {
     "name": "stdout",
     "output_type": "stream",
     "text": [
      "{'welcome': 7, 'to': 2, 'the': 3, 'jungle': 6, 'watch': 5, 'it': 2, 'bring': 5, 'you': 3, 'your': 4, 'knees': 5, 'oh': 2, 'i': 1, 'wanna': 5, 'bleed': 5}\n"
     ]
    }
   ],
   "source": [
    "# Crea un diccionario con la llave igual a la palabra\n",
    "# y el valor igual al numero de letras que tiene la palabra\n",
    "def dic_len_words(sentence):\n",
    "    return {word:len(word) for word in sentence.split()}\n",
    "\n",
    "print(dic_len_words(frase))"
   ]
  },
  {
   "cell_type": "code",
   "execution_count": 64,
   "id": "a7608a61",
   "metadata": {},
   "outputs": [
    {
     "name": "stdout",
     "output_type": "stream",
     "text": [
      "[('welcome', 7), ('to', 2), ('the', 3), ('jungle', 6), ('watch', 5), ('it', 2), ('bring', 5), ('you', 3), ('to', 2), ('your', 4), ('knees', 5), ('knees', 5), ('oh', 2), ('i', 1), ('wanna', 5), ('watch', 5), ('you', 3), ('bleed', 5)]\n"
     ]
    }
   ],
   "source": [
    "# Crea una lista con una tupla confomada por \n",
    "# la palabra y el numero de letras que tiene la palabra\n",
    "def list_len_words(sentence):\n",
    "    return [(word,len(word)) for word in sentence.split()]\n",
    "\n",
    "print(list_len_words(frase))"
   ]
  },
  {
   "cell_type": "markdown",
   "id": "d2058c5d",
   "metadata": {},
   "source": [
    "## Manejo de Archivos"
   ]
  },
  {
   "cell_type": "code",
   "execution_count": 18,
   "id": "0b4e56a9",
   "metadata": {},
   "outputs": [],
   "source": [
    "folder = '/Users/anacaros/Aletia/cursos/python_fundamentals/clase4_data/'"
   ]
  },
  {
   "cell_type": "markdown",
   "id": "3cc4709d",
   "metadata": {},
   "source": [
    "### Archivos de texto"
   ]
  },
  {
   "cell_type": "code",
   "execution_count": 21,
   "id": "bd2de041",
   "metadata": {},
   "outputs": [],
   "source": [
    "#archivo-salida.py\n",
    "file_name = 'HolaMundo.txt'\n",
    "f = open (folder+file_name,'w') #solo escritura, si el archivo existe sobrecribe su contenido\n",
    "f.write('Adios Mundo')\n",
    "f.close()"
   ]
  },
  {
   "cell_type": "code",
   "execution_count": 22,
   "id": "3e46ea55",
   "metadata": {},
   "outputs": [
    {
     "name": "stdout",
     "output_type": "stream",
     "text": [
      "Adios Mundo\n"
     ]
    }
   ],
   "source": [
    "# archivo-entrada.py\n",
    "f = open (folder+file_name,'r') # solo lectura\n",
    "mensaje = f.read()\n",
    "print(mensaje)\n",
    "f.close()"
   ]
  },
  {
   "cell_type": "code",
   "execution_count": 23,
   "id": "fbe955fc",
   "metadata": {},
   "outputs": [],
   "source": [
    "# archivo-apendice.py\n",
    "f = open(folder+file_name,'a') # Permite agregar nueva informacion al archivo\n",
    "f.write('!!!\\n' + 'Hola Python')\n",
    "f.close()"
   ]
  },
  {
   "cell_type": "code",
   "execution_count": 24,
   "id": "a1855f51",
   "metadata": {},
   "outputs": [
    {
     "name": "stdout",
     "output_type": "stream",
     "text": [
      "Adios Mundo!!!\n",
      "\n",
      "Hola Python\n"
     ]
    }
   ],
   "source": [
    "with open(folder+file_name) as archivo:\n",
    "    for linea in archivo:\n",
    "        print(linea)"
   ]
  },
  {
   "cell_type": "code",
   "execution_count": 32,
   "id": "67f8fe51",
   "metadata": {},
   "outputs": [],
   "source": [
    "filename = \"app.txt\"\n",
    "data = [\"You\\n\", \"are\\n\", \"Wizard\\n\", \"Harry \", \"Potter !!\\n\"]\n",
    "fl = open(folder+filename, \"w\")\n",
    "fl.writelines(data)\n",
    "fl.close()"
   ]
  },
  {
   "cell_type": "code",
   "execution_count": 33,
   "id": "daf6424a",
   "metadata": {},
   "outputs": [
    {
     "name": "stdout",
     "output_type": "stream",
     "text": [
      "Line1: You\n",
      "Line2: are\n",
      "Line3: Wizard\n",
      "Line4: Harry Potter !!\n"
     ]
    }
   ],
   "source": [
    "# Using readlines()\n",
    "\n",
    "fl = open(folder+filename, \"r\")\n",
    "lines = fl.readlines()\n",
    "\n",
    "count = 0\n",
    "# Strips the newline character\n",
    "for line in lines:\n",
    "  count += 1\n",
    "  print(\"Line{}: {}\".format(count, line.strip()))"
   ]
  },
  {
   "cell_type": "markdown",
   "id": "4a210d1d",
   "metadata": {},
   "source": [
    "##### Ejemplo\n",
    "Escribir una funcion que acceda a un fichero TXT y muestre por pantalla el número de palabras que contiene."
   ]
  },
  {
   "cell_type": "code",
   "execution_count": 34,
   "id": "e052a8fc",
   "metadata": {},
   "outputs": [],
   "source": [
    "filename = \"app.txt\"\n",
    "\n",
    "def open_txt(filename,folder):\n",
    "    try:\n",
    "        f = open(folder+filename, \"r\")\n",
    "        texto = f.read()\n",
    "        return texto\n",
    "    except:\n",
    "        print(f\"El archivo {filename} no puede ser leido o no se encuentra.\")\n",
    "        return \"\"\n",
    "\n",
    "def contar_palabras(texto):\n",
    "    palabras = texto.split()\n",
    "    return len(palabras)\n"
   ]
  },
  {
   "cell_type": "code",
   "execution_count": 37,
   "id": "1ba6291a",
   "metadata": {},
   "outputs": [
    {
     "name": "stdout",
     "output_type": "stream",
     "text": [
      "['You', 'are', 'Wizard', 'Harry', 'Potter', '!!']\n",
      "6\n"
     ]
    }
   ],
   "source": [
    "documento = open_txt(filename,folder)\n",
    "print(documento.split())\n",
    "print(contar_palabras(documento))"
   ]
  },
  {
   "cell_type": "markdown",
   "id": "5930cf73",
   "metadata": {},
   "source": [
    "### ARCHIVOS CSV"
   ]
  },
  {
   "cell_type": "code",
   "execution_count": 39,
   "id": "6a092c6c",
   "metadata": {},
   "outputs": [
    {
     "name": "stdout",
     "output_type": "stream",
     "text": [
      "['Nombre', 'Final', 'Máximo', 'Mínimo', 'Volumen', 'Efectivo']\n",
      "['ACCIONA', '95,95', '96,75', '94,4', '84.962', '8166,11']\n",
      "['ACERINOX', '8668', '8672', '8468', '885.99', '7633,81']\n",
      "['ACS', '37,28', '37,66', '37,22', '655.982', '24517,29']\n",
      "['AENA', '167,1', '167,5', '166,1', '133.738', '22336,10']\n",
      "['AMADEUS', '69,96', '70,64', '69,56', '640.476', '44795,47']\n",
      "['ARCELORMIT.', '14152', '14318', '14,08', '702.841', '9989,65']\n",
      "['BA.SABADELL', '1,0165', '1033', '1,0165', '12.358.512', '12637,65']\n",
      "['BA.SANTANDER', '4,02', '4,0675', '4,01', '36.129.692', '145765,44']\n",
      "['BANKIA', '2249', '2262', '2224', '3.024.454', '6803,54']\n",
      "['BANKINTER', '6,56', '6604', '6522', '1.375.976', '9030,20']\n",
      "['BBVA', '5024', '5,05', '4969', '26.447.612', '132560,15']\n",
      "['CAIXABANK', '2763', '2806', '2762', '13.031.097', '36239,22']\n",
      "['CELLNEX', '30,17', '30,7', '30,17', '857.237', '25965,29']\n",
      "['CIE AUTOMOT.', '23,44', '23,74', '23,4', '99.506', '2343,09']\n",
      "['ENAGAS', '25,6', '25,66', '25,07', '842.54', '21524,77']\n",
      "['ENCE', '3882', '3974', '3846', '2.099.698', '8219,83']\n",
      "['ENDESA', '22,95', '23,03', '22,62', '1.236.799', '28233,46']\n",
      "['FERROVIAL', '21,61', '21,72', '21,38', '2.065.931', '44656,05']\n",
      "['GRIFOLS CL.A', '23,3', '23,6', '23,27', '719.503', '16787,55']\n",
      "['IAG', '5,3', '5,46', '5292', '2.155.081', '11561,95']\n",
      "['IBERDROLA', '8,45', '8,45', '8262', '15.637.958', '131426,05']\n",
      "['INDITEX', '24,93', '25,19', '24,87', '2.600.144', '65012,92']\n",
      "['INDRA A', '9,56', '9685', '9535', '392.06', '3755,57']\n",
      "['INM.COLONIAL', '9915', '9915', '9745', '671.753', '6640,38']\n",
      "['MAPFRE', '2654', '2654', '2,62', '3.045.972', '8063,13']\n",
      "['MEDIASET', '6446', '6592', '6446', '2.647.557', '17277,04']\n",
      "['MELIA HOTELS', '8,14', '8,19', '8,02', '480.21', '3914,93']\n",
      "['MERLIN', '12,08', '12,08', '11,83', '777.543', '9357,77']\n",
      "['NATURGY', '26,7', '26,77', '26,53', '2.100.737', '55986,54']\n",
      "['R.E.C.', '19705', '19875', '19675', '1.246.171', '24585,33']\n",
      "['REPSOL', '14515', '14605', '14,46', '5.046.648', '73333,78']\n",
      "['SIEMENS GAME', '14,33', '14,39', '14155', '1.054.847', '15084,56']\n",
      "['TEC.REUNIDAS', '23', '23,2', '22,78', '122.1', '2807,19']\n",
      "['TELEFONICA', '7204', '7256', '7185', '9.913.249', '71564,99']\n",
      "['VISCOFAN', '48,46', '49,12', '48,46', '67.71', '3295,43']\n"
     ]
    }
   ],
   "source": [
    "import csv\n",
    "filename = \"cotizacion.csv\"\n",
    "with open(folder+filename, newline=\"\") as csvfile:\n",
    "    reader = csv.reader(csvfile, delimiter=\";\")\n",
    "    for row in reader:\n",
    "        print(row)"
   ]
  },
  {
   "cell_type": "code",
   "execution_count": 40,
   "id": "5665e70e",
   "metadata": {},
   "outputs": [
    {
     "data": {
      "text/html": [
       "<div>\n",
       "<style scoped>\n",
       "    .dataframe tbody tr th:only-of-type {\n",
       "        vertical-align: middle;\n",
       "    }\n",
       "\n",
       "    .dataframe tbody tr th {\n",
       "        vertical-align: top;\n",
       "    }\n",
       "\n",
       "    .dataframe thead th {\n",
       "        text-align: right;\n",
       "    }\n",
       "</style>\n",
       "<table border=\"1\" class=\"dataframe\">\n",
       "  <thead>\n",
       "    <tr style=\"text-align: right;\">\n",
       "      <th></th>\n",
       "      <th></th>\n",
       "      <th></th>\n",
       "      <th></th>\n",
       "      <th>Nombre;Final;Máximo;Mínimo;Volumen;Efectivo</th>\n",
       "    </tr>\n",
       "  </thead>\n",
       "  <tbody>\n",
       "    <tr>\n",
       "      <th>ACCIONA;95</th>\n",
       "      <th>95;96</th>\n",
       "      <th>75;94</th>\n",
       "      <th>4;84.962;8166</th>\n",
       "      <td>11.0</td>\n",
       "    </tr>\n",
       "    <tr>\n",
       "      <th>ACERINOX;8668;8672;8468;885.99;7633</th>\n",
       "      <th>81</th>\n",
       "      <th>NaN</th>\n",
       "      <th>NaN</th>\n",
       "      <td>NaN</td>\n",
       "    </tr>\n",
       "    <tr>\n",
       "      <th>ACS;37</th>\n",
       "      <th>28;37</th>\n",
       "      <th>66;37</th>\n",
       "      <th>22;655.982;24517</th>\n",
       "      <td>29.0</td>\n",
       "    </tr>\n",
       "    <tr>\n",
       "      <th>AENA;167</th>\n",
       "      <th>1;167</th>\n",
       "      <th>5;166</th>\n",
       "      <th>1;133.738;22336</th>\n",
       "      <td>10.0</td>\n",
       "    </tr>\n",
       "    <tr>\n",
       "      <th>AMADEUS;69</th>\n",
       "      <th>96;70</th>\n",
       "      <th>64;69</th>\n",
       "      <th>56;640.476;44795</th>\n",
       "      <td>47.0</td>\n",
       "    </tr>\n",
       "    <tr>\n",
       "      <th>ARCELORMIT.;14152;14318;14</th>\n",
       "      <th>08;702.841;9989</th>\n",
       "      <th>65</th>\n",
       "      <th>NaN</th>\n",
       "      <td>NaN</td>\n",
       "    </tr>\n",
       "    <tr>\n",
       "      <th>BA.SABADELL;1</th>\n",
       "      <th>0165;1033;1</th>\n",
       "      <th>0165;12.358.512;12637</th>\n",
       "      <th>65</th>\n",
       "      <td>NaN</td>\n",
       "    </tr>\n",
       "    <tr>\n",
       "      <th>BA.SANTANDER;4</th>\n",
       "      <th>02;4</th>\n",
       "      <th>0675;4</th>\n",
       "      <th>01;36.129.692;145765</th>\n",
       "      <td>44.0</td>\n",
       "    </tr>\n",
       "    <tr>\n",
       "      <th>BANKIA;2249;2262;2224;3.024.454;6803</th>\n",
       "      <th>54</th>\n",
       "      <th>NaN</th>\n",
       "      <th>NaN</th>\n",
       "      <td>NaN</td>\n",
       "    </tr>\n",
       "    <tr>\n",
       "      <th>BANKINTER;6</th>\n",
       "      <th>56;6604;6522;1.375.976;9030</th>\n",
       "      <th>20</th>\n",
       "      <th>NaN</th>\n",
       "      <td>NaN</td>\n",
       "    </tr>\n",
       "    <tr>\n",
       "      <th>BBVA;5024;5</th>\n",
       "      <th>05;4969;26.447.612;132560</th>\n",
       "      <th>15</th>\n",
       "      <th>NaN</th>\n",
       "      <td>NaN</td>\n",
       "    </tr>\n",
       "    <tr>\n",
       "      <th>CAIXABANK;2763;2806;2762;13.031.097;36239</th>\n",
       "      <th>22</th>\n",
       "      <th>NaN</th>\n",
       "      <th>NaN</th>\n",
       "      <td>NaN</td>\n",
       "    </tr>\n",
       "    <tr>\n",
       "      <th>CELLNEX;30</th>\n",
       "      <th>17;30</th>\n",
       "      <th>7;30</th>\n",
       "      <th>17;857.237;25965</th>\n",
       "      <td>29.0</td>\n",
       "    </tr>\n",
       "    <tr>\n",
       "      <th>CIE AUTOMOT.;23</th>\n",
       "      <th>44;23</th>\n",
       "      <th>74;23</th>\n",
       "      <th>4;99.506;2343</th>\n",
       "      <td>9.0</td>\n",
       "    </tr>\n",
       "    <tr>\n",
       "      <th>ENAGAS;25</th>\n",
       "      <th>6;25</th>\n",
       "      <th>66;25</th>\n",
       "      <th>07;842.54;21524</th>\n",
       "      <td>77.0</td>\n",
       "    </tr>\n",
       "    <tr>\n",
       "      <th>ENCE;3882;3974;3846;2.099.698;8219</th>\n",
       "      <th>83</th>\n",
       "      <th>NaN</th>\n",
       "      <th>NaN</th>\n",
       "      <td>NaN</td>\n",
       "    </tr>\n",
       "    <tr>\n",
       "      <th>ENDESA;22</th>\n",
       "      <th>95;23</th>\n",
       "      <th>03;22</th>\n",
       "      <th>62;1.236.799;28233</th>\n",
       "      <td>46.0</td>\n",
       "    </tr>\n",
       "    <tr>\n",
       "      <th>FERROVIAL;21</th>\n",
       "      <th>61;21</th>\n",
       "      <th>72;21</th>\n",
       "      <th>38;2.065.931;44656</th>\n",
       "      <td>5.0</td>\n",
       "    </tr>\n",
       "    <tr>\n",
       "      <th>GRIFOLS CL.A;23</th>\n",
       "      <th>3;23</th>\n",
       "      <th>6;23</th>\n",
       "      <th>27;719.503;16787</th>\n",
       "      <td>55.0</td>\n",
       "    </tr>\n",
       "    <tr>\n",
       "      <th>IAG;5</th>\n",
       "      <th>3;5</th>\n",
       "      <th>46;5292;2.155.081;11561</th>\n",
       "      <th>95</th>\n",
       "      <td>NaN</td>\n",
       "    </tr>\n",
       "    <tr>\n",
       "      <th>IBERDROLA;8</th>\n",
       "      <th>45;8</th>\n",
       "      <th>45;8262;15.637.958;131426</th>\n",
       "      <th>05</th>\n",
       "      <td>NaN</td>\n",
       "    </tr>\n",
       "    <tr>\n",
       "      <th>INDITEX;24</th>\n",
       "      <th>93;25</th>\n",
       "      <th>19;24</th>\n",
       "      <th>87;2.600.144;65012</th>\n",
       "      <td>92.0</td>\n",
       "    </tr>\n",
       "    <tr>\n",
       "      <th>INDRA A;9</th>\n",
       "      <th>56;9685;9535;392.06;3755</th>\n",
       "      <th>57</th>\n",
       "      <th>NaN</th>\n",
       "      <td>NaN</td>\n",
       "    </tr>\n",
       "    <tr>\n",
       "      <th>INM.COLONIAL;9915;9915;9745;671.753;6640</th>\n",
       "      <th>38</th>\n",
       "      <th>NaN</th>\n",
       "      <th>NaN</th>\n",
       "      <td>NaN</td>\n",
       "    </tr>\n",
       "    <tr>\n",
       "      <th>MAPFRE;2654;2654;2</th>\n",
       "      <th>62;3.045.972;8063</th>\n",
       "      <th>13</th>\n",
       "      <th>NaN</th>\n",
       "      <td>NaN</td>\n",
       "    </tr>\n",
       "    <tr>\n",
       "      <th>MEDIASET;6446;6592;6446;2.647.557;17277</th>\n",
       "      <th>04</th>\n",
       "      <th>NaN</th>\n",
       "      <th>NaN</th>\n",
       "      <td>NaN</td>\n",
       "    </tr>\n",
       "    <tr>\n",
       "      <th>MELIA HOTELS;8</th>\n",
       "      <th>14;8</th>\n",
       "      <th>19;8</th>\n",
       "      <th>02;480.21;3914</th>\n",
       "      <td>93.0</td>\n",
       "    </tr>\n",
       "    <tr>\n",
       "      <th>MERLIN;12</th>\n",
       "      <th>08;12</th>\n",
       "      <th>08;11</th>\n",
       "      <th>83;777.543;9357</th>\n",
       "      <td>77.0</td>\n",
       "    </tr>\n",
       "    <tr>\n",
       "      <th>NATURGY;26</th>\n",
       "      <th>7;26</th>\n",
       "      <th>77;26</th>\n",
       "      <th>53;2.100.737;55986</th>\n",
       "      <td>54.0</td>\n",
       "    </tr>\n",
       "    <tr>\n",
       "      <th>R.E.C.;19705;19875;19675;1.246.171;24585</th>\n",
       "      <th>33</th>\n",
       "      <th>NaN</th>\n",
       "      <th>NaN</th>\n",
       "      <td>NaN</td>\n",
       "    </tr>\n",
       "    <tr>\n",
       "      <th>REPSOL;14515;14605;14</th>\n",
       "      <th>46;5.046.648;73333</th>\n",
       "      <th>78</th>\n",
       "      <th>NaN</th>\n",
       "      <td>NaN</td>\n",
       "    </tr>\n",
       "    <tr>\n",
       "      <th>SIEMENS GAME;14</th>\n",
       "      <th>33;14</th>\n",
       "      <th>39;14155;1.054.847;15084</th>\n",
       "      <th>56</th>\n",
       "      <td>NaN</td>\n",
       "    </tr>\n",
       "    <tr>\n",
       "      <th>TEC.REUNIDAS;23;23</th>\n",
       "      <th>2;22</th>\n",
       "      <th>78;122.1;2807</th>\n",
       "      <th>19</th>\n",
       "      <td>NaN</td>\n",
       "    </tr>\n",
       "    <tr>\n",
       "      <th>TELEFONICA;7204;7256;7185;9.913.249;71564</th>\n",
       "      <th>99</th>\n",
       "      <th>NaN</th>\n",
       "      <th>NaN</th>\n",
       "      <td>NaN</td>\n",
       "    </tr>\n",
       "    <tr>\n",
       "      <th>VISCOFAN;48</th>\n",
       "      <th>46;49</th>\n",
       "      <th>12;48</th>\n",
       "      <th>46;67.71;3295</th>\n",
       "      <td>43.0</td>\n",
       "    </tr>\n",
       "  </tbody>\n",
       "</table>\n",
       "</div>"
      ],
      "text/plain": [
       "                                                                                                                      Nombre;Final;Máximo;Mínimo;Volumen;Efectivo\n",
       "ACCIONA;95                                95;96                       75;94                     4;84.962;8166                                                11.0\n",
       "ACERINOX;8668;8672;8468;885.99;7633       81                          NaN                       NaN                                                           NaN\n",
       "ACS;37                                    28;37                       66;37                     22;655.982;24517                                             29.0\n",
       "AENA;167                                  1;167                       5;166                     1;133.738;22336                                              10.0\n",
       "AMADEUS;69                                96;70                       64;69                     56;640.476;44795                                             47.0\n",
       "ARCELORMIT.;14152;14318;14                08;702.841;9989             65                        NaN                                                           NaN\n",
       "BA.SABADELL;1                             0165;1033;1                 0165;12.358.512;12637     65                                                            NaN\n",
       "BA.SANTANDER;4                            02;4                        0675;4                    01;36.129.692;145765                                         44.0\n",
       "BANKIA;2249;2262;2224;3.024.454;6803      54                          NaN                       NaN                                                           NaN\n",
       "BANKINTER;6                               56;6604;6522;1.375.976;9030 20                        NaN                                                           NaN\n",
       "BBVA;5024;5                               05;4969;26.447.612;132560   15                        NaN                                                           NaN\n",
       "CAIXABANK;2763;2806;2762;13.031.097;36239 22                          NaN                       NaN                                                           NaN\n",
       "CELLNEX;30                                17;30                       7;30                      17;857.237;25965                                             29.0\n",
       "CIE AUTOMOT.;23                           44;23                       74;23                     4;99.506;2343                                                 9.0\n",
       "ENAGAS;25                                 6;25                        66;25                     07;842.54;21524                                              77.0\n",
       "ENCE;3882;3974;3846;2.099.698;8219        83                          NaN                       NaN                                                           NaN\n",
       "ENDESA;22                                 95;23                       03;22                     62;1.236.799;28233                                           46.0\n",
       "FERROVIAL;21                              61;21                       72;21                     38;2.065.931;44656                                            5.0\n",
       "GRIFOLS CL.A;23                           3;23                        6;23                      27;719.503;16787                                             55.0\n",
       "IAG;5                                     3;5                         46;5292;2.155.081;11561   95                                                            NaN\n",
       "IBERDROLA;8                               45;8                        45;8262;15.637.958;131426 05                                                            NaN\n",
       "INDITEX;24                                93;25                       19;24                     87;2.600.144;65012                                           92.0\n",
       "INDRA A;9                                 56;9685;9535;392.06;3755    57                        NaN                                                           NaN\n",
       "INM.COLONIAL;9915;9915;9745;671.753;6640  38                          NaN                       NaN                                                           NaN\n",
       "MAPFRE;2654;2654;2                        62;3.045.972;8063           13                        NaN                                                           NaN\n",
       "MEDIASET;6446;6592;6446;2.647.557;17277   04                          NaN                       NaN                                                           NaN\n",
       "MELIA HOTELS;8                            14;8                        19;8                      02;480.21;3914                                               93.0\n",
       "MERLIN;12                                 08;12                       08;11                     83;777.543;9357                                              77.0\n",
       "NATURGY;26                                7;26                        77;26                     53;2.100.737;55986                                           54.0\n",
       "R.E.C.;19705;19875;19675;1.246.171;24585  33                          NaN                       NaN                                                           NaN\n",
       "REPSOL;14515;14605;14                     46;5.046.648;73333          78                        NaN                                                           NaN\n",
       "SIEMENS GAME;14                           33;14                       39;14155;1.054.847;15084  56                                                            NaN\n",
       "TEC.REUNIDAS;23;23                        2;22                        78;122.1;2807             19                                                            NaN\n",
       "TELEFONICA;7204;7256;7185;9.913.249;71564 99                          NaN                       NaN                                                           NaN\n",
       "VISCOFAN;48                               46;49                       12;48                     46;67.71;3295                                                43.0"
      ]
     },
     "execution_count": 40,
     "metadata": {},
     "output_type": "execute_result"
    }
   ],
   "source": [
    "import pandas as pd\n",
    "\n",
    "data=pd.read_csv(folder+filename)\n",
    "data"
   ]
  },
  {
   "cell_type": "code",
   "execution_count": 44,
   "id": "e43e5ee4",
   "metadata": {},
   "outputs": [
    {
     "name": "stdout",
     "output_type": "stream",
     "text": [
      "          Nombre   Final  Máximo  Mínimo     Volumen   Efectivo\n",
      "0        ACCIONA   95,95   96,75    94,4      84.962    8166,11\n",
      "1       ACERINOX    8668    8672    8468      885.99    7633,81\n",
      "2            ACS   37,28   37,66   37,22     655.982   24517,29\n",
      "3           AENA   167,1   167,5   166,1     133.738   22336,10\n",
      "4        AMADEUS   69,96   70,64   69,56     640.476   44795,47\n",
      "5    ARCELORMIT.   14152   14318   14,08     702.841    9989,65\n",
      "6    BA.SABADELL  1,0165    1033  1,0165  12.358.512   12637,65\n",
      "7   BA.SANTANDER    4,02  4,0675    4,01  36.129.692  145765,44\n",
      "8         BANKIA    2249    2262    2224   3.024.454    6803,54\n",
      "9      BANKINTER    6,56    6604    6522   1.375.976    9030,20\n",
      "10          BBVA    5024    5,05    4969  26.447.612  132560,15\n",
      "11     CAIXABANK    2763    2806    2762  13.031.097   36239,22\n",
      "12       CELLNEX   30,17    30,7   30,17     857.237   25965,29\n",
      "13  CIE AUTOMOT.   23,44   23,74    23,4      99.506    2343,09\n",
      "14        ENAGAS    25,6   25,66   25,07      842.54   21524,77\n",
      "15          ENCE    3882    3974    3846   2.099.698    8219,83\n",
      "16        ENDESA   22,95   23,03   22,62   1.236.799   28233,46\n",
      "17     FERROVIAL   21,61   21,72   21,38   2.065.931   44656,05\n",
      "18  GRIFOLS CL.A    23,3    23,6   23,27     719.503   16787,55\n",
      "19           IAG     5,3    5,46    5292   2.155.081   11561,95\n",
      "20     IBERDROLA    8,45    8,45    8262  15.637.958  131426,05\n",
      "21       INDITEX   24,93   25,19   24,87   2.600.144   65012,92\n",
      "22       INDRA A    9,56    9685    9535      392.06    3755,57\n",
      "23  INM.COLONIAL    9915    9915    9745     671.753    6640,38\n",
      "24        MAPFRE    2654    2654    2,62   3.045.972    8063,13\n",
      "25      MEDIASET    6446    6592    6446   2.647.557   17277,04\n",
      "26  MELIA HOTELS    8,14    8,19    8,02      480.21    3914,93\n",
      "27        MERLIN   12,08   12,08   11,83     777.543    9357,77\n",
      "28       NATURGY    26,7   26,77   26,53   2.100.737   55986,54\n",
      "29        R.E.C.   19705   19875   19675   1.246.171   24585,33\n",
      "30        REPSOL   14515   14605   14,46   5.046.648   73333,78\n",
      "31  SIEMENS GAME   14,33   14,39   14155   1.054.847   15084,56\n",
      "32  TEC.REUNIDAS      23    23,2   22,78       122.1    2807,19\n",
      "33    TELEFONICA    7204    7256    7185   9.913.249   71564,99\n",
      "34      VISCOFAN   48,46   49,12   48,46       67.71    3295,43\n"
     ]
    }
   ],
   "source": [
    "data=pd.read_csv(folder+filename,sep=';')\n",
    "print(data)"
   ]
  },
  {
   "cell_type": "code",
   "execution_count": null,
   "id": "f1110854",
   "metadata": {},
   "outputs": [],
   "source": [
    "! pip install xlwt openpyxl xlsxwriter xlrd"
   ]
  },
  {
   "cell_type": "code",
   "execution_count": 45,
   "id": "e1d2ab90",
   "metadata": {},
   "outputs": [],
   "source": [
    "filename = 'cotizaciones.xlsx'\n",
    "data.to_excel(folder+filename)"
   ]
  },
  {
   "cell_type": "markdown",
   "id": "ebcab422",
   "metadata": {},
   "source": [
    "### ARCHIVOS JSON"
   ]
  },
  {
   "cell_type": "code",
   "execution_count": 51,
   "id": "6e870a98",
   "metadata": {},
   "outputs": [
    {
     "data": {
      "text/plain": [
       "{'clients': [{'first_name': 'Sigrid',\n",
       "   'last_name': 'Mannock',\n",
       "   'age': 27,\n",
       "   'amount': 7.17},\n",
       "  {'first_name': 'Joe',\n",
       "   'last_name': 'Hinners',\n",
       "   'age': 31,\n",
       "   'amount': [1.9, 5.5]},\n",
       "  {'first_name': 'Theodoric',\n",
       "   'last_name': 'Rivers',\n",
       "   'age': 36,\n",
       "   'amount': 1.11}]}"
      ]
     },
     "execution_count": 51,
     "metadata": {},
     "output_type": "execute_result"
    }
   ],
   "source": [
    "import json\n",
    "\n",
    "data = {}\n",
    "data['clients'] = []\n",
    "\n",
    "data['clients'].append({\n",
    "    'first_name': 'Sigrid',\n",
    "    'last_name': 'Mannock',\n",
    "    'age': 27,\n",
    "    'amount': 7.17})\n",
    "\n",
    "data['clients'].append({\n",
    "    'first_name': 'Joe',\n",
    "    'last_name': 'Hinners',\n",
    "    'age': 31,\n",
    "    'amount': [1.90, 5.50]})\n",
    "\n",
    "data['clients'].append({\n",
    "    'first_name': 'Theodoric',\n",
    "    'last_name': 'Rivers',\n",
    "    'age': 36,\n",
    "    'amount': 1.11})\n",
    "data"
   ]
  },
  {
   "cell_type": "code",
   "execution_count": 52,
   "id": "1706cc78",
   "metadata": {},
   "outputs": [],
   "source": [
    "filename = 'data.json'\n",
    "with open(folder+filename, 'w') as file:\n",
    "    json.dump(data, file, indent=4)"
   ]
  },
  {
   "cell_type": "code",
   "execution_count": 53,
   "id": "56cf5543",
   "metadata": {},
   "outputs": [
    {
     "name": "stdout",
     "output_type": "stream",
     "text": [
      "First name: Sigrid\n",
      "Last name: Mannock\n",
      "Age: 27\n",
      "Amount: 7.17\n",
      "\n",
      "First name: Joe\n",
      "Last name: Hinners\n",
      "Age: 31\n",
      "Amount: [1.9, 5.5]\n",
      "\n",
      "First name: Theodoric\n",
      "Last name: Rivers\n",
      "Age: 36\n",
      "Amount: 1.11\n",
      "\n"
     ]
    }
   ],
   "source": [
    "with open(folder+filename) as file:\n",
    "    data = json.load(file)\n",
    "    for client in data['clients']:\n",
    "        print('First name:', client['first_name'])\n",
    "        print('Last name:', client['last_name'])\n",
    "        print('Age:', client['age'])\n",
    "        print('Amount:', client['amount'])\n",
    "        print('')"
   ]
  },
  {
   "cell_type": "markdown",
   "id": "6784d393",
   "metadata": {},
   "source": [
    "### Ejercicio 1\n",
    "\n",
    "Escribir una función que pida un número entero entre 1 y 10 y guarde en un fichero con el nombre `tabla-n.txt` la tabla de multiplicar de ese número, done `n` es el número introducido."
   ]
  },
  {
   "cell_type": "code",
   "execution_count": null,
   "id": "f7704601",
   "metadata": {},
   "outputs": [],
   "source": [
    "1 x 1 = 1\n",
    "1 x 2 = 2"
   ]
  },
  {
   "cell_type": "code",
   "execution_count": 54,
   "id": "74ba7c50",
   "metadata": {},
   "outputs": [
    {
     "name": "stdout",
     "output_type": "stream",
     "text": [
      "tecle el numero1\n"
     ]
    }
   ],
   "source": [
    "valor = int(input('tecle el numero'))\n",
    "\n",
    "if 1<=valor<=10:\n",
    "    with open(f'tabla-{valor}.txt','w') as arch: \n",
    "        for num in range(1,11):\n",
    "            arch.writelines(f'{num} X {valor}={num*valor}\\n')\n",
    "\n",
    "else:\n",
    "    print(' el valor no esta permitido')"
   ]
  },
  {
   "cell_type": "code",
   "execution_count": 56,
   "id": "86d5c14f",
   "metadata": {},
   "outputs": [
    {
     "name": "stdout",
     "output_type": "stream",
     "text": [
      "Introduce un número entero entre 1 y 10: 2\n"
     ]
    }
   ],
   "source": [
    "n = int(input('Introduce un número entero entre 1 y 10: '))\n",
    "nombre_fichero = 'tabla-' + str(n) + '.txt'\n",
    "f = open(nombre_fichero, 'w')\n",
    "for i in range(1, 11):\n",
    "    f.write(str(n) + ' x ' + str(i) + ' = ' + str(n * i) + '\\n')\n",
    "f.close()"
   ]
  },
  {
   "cell_type": "code",
   "execution_count": 57,
   "id": "d82a5a0f",
   "metadata": {},
   "outputs": [
    {
     "name": "stdout",
     "output_type": "stream",
     "text": [
      "Introduce un número entero entre 1 y 10: 6\n",
      "6 x 1 = 6\n",
      "\n",
      "6 x 2 = 12\n",
      "\n",
      "6 x 3 = 18\n",
      "\n",
      "6 x 4 = 24\n",
      "\n",
      "6 x 5 = 30\n",
      "\n",
      "6 x 6 = 36\n",
      "\n",
      "6 x 7 = 42\n",
      "\n",
      "6 x 8 = 48\n",
      "\n",
      "6 x 9 = 54\n",
      "\n",
      "6 x 10 = 60\n",
      "\n"
     ]
    }
   ],
   "source": [
    "n = int(input('Introduce un número entero entre 1 y 10: '))\n",
    "nombre_fichero = 'tabla-' + str(n) + '.txt'\n",
    "f = open(folder+nombre_fichero, 'w')\n",
    "for i in range(1, 11):\n",
    "    texto = str(n) + ' x ' + str(i) + ' = ' + str(n * i) + '\\n'\n",
    "    print(texto)\n",
    "    f.write(texto)\n",
    "f.close()"
   ]
  },
  {
   "cell_type": "markdown",
   "id": "5c72f025",
   "metadata": {},
   "source": [
    "### Ejercicio 2\n",
    "Escribir una función que pida dos números n y m entre 1 y 10, lea el fichero tabla-n.txt con la tabla de multiplicar de ese número, y muestre por pantalla la línea m del fichero. Si el fichero no existe debe mostrar un mensaje por pantalla informando de ello."
   ]
  },
  {
   "cell_type": "code",
   "execution_count": 59,
   "id": "3fcc9092",
   "metadata": {},
   "outputs": [
    {
     "name": "stdout",
     "output_type": "stream",
     "text": [
      "Introduce un número entero entre 1 y 10: 1\n",
      "Introduce otro número entero entre 1 y 10: 6\n",
      "6 X 1=6\n",
      "\n"
     ]
    }
   ],
   "source": [
    "n = int(input('Introduce un número entero entre 1 y 10: '))\n",
    "m = int(input('Introduce otro número entero entre 1 y 10: '))\n",
    "nombre_fichero = 'tabla-' + str(n) + '.txt'\n",
    "try: \n",
    "    with open(nombre_fichero, 'r') as f:\n",
    "        lineas = f.readlines()\n",
    "    print(lineas[m - 1])\n",
    "except FileNotFoundError:\n",
    "    print('No existe el fichero con la tabla del ', n)\n",
    "    "
   ]
  }
 ],
 "metadata": {
  "kernelspec": {
   "display_name": "Python 3 (ipykernel)",
   "language": "python",
   "name": "python3"
  },
  "language_info": {
   "codemirror_mode": {
    "name": "ipython",
    "version": 3
   },
   "file_extension": ".py",
   "mimetype": "text/x-python",
   "name": "python",
   "nbconvert_exporter": "python",
   "pygments_lexer": "ipython3",
   "version": "3.10.10"
  }
 },
 "nbformat": 4,
 "nbformat_minor": 5
}
