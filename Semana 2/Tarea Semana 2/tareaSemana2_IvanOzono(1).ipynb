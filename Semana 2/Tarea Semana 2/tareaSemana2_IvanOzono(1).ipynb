{
 "cells": [
  {
   "attachments": {},
   "cell_type": "markdown",
   "metadata": {},
   "source": [
    "Ejercicio 1\n",
    "\n",
    "Las matemáticas financieras, resumidas en una frase, las podríamos definir como la rama de las matemáticas que estudia los flujos de dinero a través del tiempo. Básicamente se presupone que el dinero tiene menos valor en el futuro que en el presente, ya sea por un tema inflacionario o por la preferencia natural de las personas a priorizar el consumo presente.\n",
    "\n",
    "El valor futuro es el valor alcanzado por un determinado capital al final del período determinado (para el ejemplo usaremos la fórmula del interés compuesto). Para calcularlo se utiliza la siguiente fórmula VF=VA* ( 1+i )n\n",
    "\n",
    "El valor presente de una inversión es cuando calculamos el valor actual que tendrá una determinada cantidad que recibiremos o pagaremos en un futuro. Para calcularlo se utiliza la siguiente fórmula\n",
    "\n",
    "VA=VF( 1+i )n \n",
    "\n",
    "Donde \n",
    " VF es el valor futuro, \n",
    " VA es el valor actual o inicial de la inversión, \n",
    " i es el tipo de interés y \n",
    " n es número de años de la inversión.\n",
    "\n",
    "Crear una función que reciba como entrada un capital, un tipo de interés y un número de años, y muestre por pantalla el valor futuro de la inversión cada año del periodo indicado.\n",
    "Crear una función que reciba como entrada un capital, un tipo de interés y un número de años, y muestre por pantalla el valor actual del capital cada año del periodo indicado.\n"
   ]
  },
  {
   "cell_type": "code",
   "execution_count": 6,
   "metadata": {},
   "outputs": [
    {
     "name": "stdout",
     "output_type": "stream",
     "text": [
      "Año\tValor Futuro\n",
      "1\t40.00\n",
      "2\t160.00\n",
      "3\t640.00\n",
      "4\t2560.00\n",
      "5\t10240.00\n",
      "Año\tValor Presente\n",
      "1\t2.50\n",
      "2\t0.62\n",
      "3\t0.16\n",
      "4\t0.04\n",
      "5\t0.01\n"
     ]
    }
   ],
   "source": [
    "\n",
    "def calcular_valor_futuro(capital, tasa_interes, num_anios):\n",
    "\n",
    "    print(\"Año\\tValor Futuro\")\n",
    "    for anio in range(1, num_anios + 1):\n",
    "        valor_futuro = (capital * ((1 + tasa_interes) ** anio))\n",
    "        print(f\"{anio}\\t{valor_futuro:.2f}\")\n",
    "\n",
    "def calcular_valor_presente(capital, tasa_interes, num_anios):\n",
    "    print(\"Año\\tValor Presente\")\n",
    "    for anio in range(1, num_anios + 1):\n",
    "        valor_presente = capital / ((1 + tasa_interes) ** anio)\n",
    "        print(f\"{anio}\\t{valor_presente:.2f}\")\n",
    "   \n",
    "\n",
    "\n",
    "capital = float(input(\"Ingrese el capital inicial: \"))\n",
    "tasa_interes = float(input(\"Ingrese la tasa de interés anual (decimal): \"))\n",
    "num_anios = int(input(\"Ingrese el número de años de la inversión: \"))\n",
    "\n",
    "calcular_valor_futuro(capital, tasa_interes, num_anios)\n",
    "calcular_valor_presente(capital, tasa_interes, num_anios)\n",
    "\n"
   ]
  },
  {
   "attachments": {},
   "cell_type": "markdown",
   "metadata": {},
   "source": [
    "Explicacion: Ayudo a reforzar el tema de funciones, no tuve tanta difcultad"
   ]
  },
  {
   "attachments": {},
   "cell_type": "markdown",
   "metadata": {},
   "source": [
    "EJERCICIO 2  \n",
    "\n",
    "El archivo cotización.csv (archivo adjunto ) contiene las cotizaciones de empresas con las siguientes columnas: \n",
    "Nombre (nombre de la empresa), \n",
    "Final (precio de la acción al cierre de bolsa), \n",
    "Máximo (precio máximo de la acción durante la jornada), \n",
    "Mínimo (precio mínimo de la acción durante la jornada), \n",
    "Volumen (Volumen al cierre de bolsa), \n",
    "Efectivo (capitalización al cierre en miles de euros).\n",
    "\n",
    "Construir una función reciba el fichero de cotizaciones y devuelva un diccionario con los datos del fichero por columnas.\n",
    "Construir una función que reciba el diccionario devuelto por la función anterior y cree un fichero en formato csv con el mínimo, el máximo y la media de cada columna.\n"
   ]
  },
  {
   "cell_type": "code",
   "execution_count": 22,
   "metadata": {},
   "outputs": [
    {
     "name": "stdout",
     "output_type": "stream",
     "text": [
      "{'Nombre': ['ACCIONA', 'ACERINOX', 'ACS', 'AENA', 'AMADEUS', 'ARCELORMIT.', 'BA.SABADELL', 'BA.SANTANDER', 'BANKIA', 'BANKINTER', 'BBVA', 'CAIXABANK', 'CELLNEX', 'CIE AUTOMOT.', 'ENAGAS', 'ENCE', 'ENDESA', 'FERROVIAL', 'GRIFOLS CL.A', 'IAG', 'IBERDROLA', 'INDITEX', 'INDRA A', 'INM.COLONIAL', 'MAPFRE', 'MEDIASET', 'MELIA HOTELS', 'MERLIN', 'NATURGY', 'R.E.C.', 'REPSOL', 'SIEMENS GAME', 'TEC.REUNIDAS', 'TELEFONICA', 'VISCOFAN'], 'Final': ['95.95', '8,668.00', '37.28', '167.10', '69.96', '14,152.00', '10.16', '4.02', '2,249.00', '6.56', '5,024.00', '2,763.00', '30.17', '23.44', '25.60', '3,882.00', '22.95', '21.61', '23.30', '5.30', '8.45', '24.93', '9.56', '9,915.00', '2,654.00', '6,446.00', '8.14', '12.08', '26.70', '19,705.00', '14,515.00', '14.33', '23.00', '7,204.00', '48.46'], 'Máximo': ['96.75', '8,672.00', '37.66', '167.50', '70.64', '14,318.00', '1,033.00', '40.67', '2,262.00', '6,604.00', '5.05', '2,806.00', '30.70', '23.74', '25.66', '3,974.00', '23.03', '21.72', '23.60', '5.46', '8.45', '25.19', '9,685.00', '9,915.00', '2,654.00', '6,592.00', '8.19', '12.08', '26.77', '19,875.00', '14,605.00', '14.39', '23.20', '7,256.00', '49.12'], 'Mínimo': ['94.40', '8,468.00', '37.22', '166.10', '69.56', '14.08', '10.16', '4.01', '2,224.00', '6,522.00', '4,969.00', '2,762.00', '30.17', '23.40', '25.07', '3,846.00', '22.62', '21.38', '23.27', '5,292.00', '8,262.00', '24.87', '9,535.00', '9,745.00', '2.62', '6,446.00', '8.02', '11.83', '26.53', '19,675.00', '14.46', '14,155.00', '22.78', '7,185.00', '48.46'], 'Volumen': ['84,962.00', '88,599.00', '655,982.00', '133,738.00', '640,476.00', '702,841.00', '12,358,512.00', '36,129,692.00', '3,024,454.00', '1,375,976.00', '26,447,612.00', '13,031,097.00', '857,237.00', '99,506.00', '84,254.00', '2,099,698.00', '1,236,799.00', '2,065,931.00', '719,503.00', '2,155,081.00', '15,637,958.00', '2,600,144.00', '39,206.00', '671,753.00', '3,045,972.00', '2,647,557.00', '48,021.00', '777,543.00', '2,100,737.00', '1,246,171.00', '5,046,648.00', '1,054,847.00', '1,221.00', '9,913,249.00', '6,771.00'], 'Efectivo': ['8,166.11', '7,633.81', '24,517.29', '22,336.10', '44,795.47', '9,989.65', '12,637.65', '145,765.44', '6,803.54', '9,030.20', '132,560.15', '36,239.22', '25,965.29', '2,343.09', '21,524.77', '8,219.83', '28,233.46', '44,656.05', '16,787.55', '11,561.95', '131,426.05', '65,012.92', '3,755.57', '6,640.38', '8,063.13', '17,277.04', '3,914.93', '9,357.77', '55,986.54', '24,585.33', '73,333.78', '15,084.56', '2,807.19', '71,564.99', '3,295.43']}\n"
     ]
    }
   ],
   "source": [
    "import csv\n",
    "from statistics import mean\n",
    "\n",
    "# Crear un diccionario vacio\n",
    "dict_datos = {\n",
    "    \"Nombre\": [],\n",
    "    \"Final\": [],\n",
    "    \"Máximo\": [],\n",
    "    \"Mínimo\": [],\n",
    "    \"Volumen\": [],\n",
    "    \"Efectivo\": []\n",
    "}\n",
    "\n",
    "# Abrir y leer el archivo \n",
    "with open(\"cotizacion.csv\", \"r\") as archivo:\n",
    "    # Crear el  CSV reader object\n",
    "    lector_csv = csv.reader(archivo)\n",
    "    # Saltarse la primera linea \n",
    "    next(lector_csv)\n",
    "    # Iterar por las lineas restantes\n",
    "    for valores in lector_csv:\n",
    "        # Append cada valor de la lista en el diccionario\n",
    "        dict_datos[\"Nombre\"].append(valores[0])\n",
    "        dict_datos[\"Final\"].append(valores[1])\n",
    "        dict_datos[\"Máximo\"].append(valores[2])\n",
    "        dict_datos[\"Mínimo\"].append(valores[3])\n",
    "        dict_datos[\"Volumen\"].append(valores[4])\n",
    "        dict_datos[\"Efectivo\"].append(valores[5])\n",
    "    \n",
    "    # Funcion que remueve los puntos, y reemplaza las comas por punto\n",
    "def clean_value(value):\n",
    "    value = value.replace('.', '').replace(',', '.')\n",
    "    return value\n",
    "\n",
    "# Iterar a traves del diccionario\n",
    "for key, values in dict_datos.items():\n",
    "    # Verificar si el valor es un string\n",
    "    if isinstance(values, str):\n",
    "        # Limpiar el valor\n",
    "        values = clean_value(values)\n",
    "        # ACtualizar el valor ya modificado\n",
    "        dict_datos[key] = values\n",
    "\n",
    "    # Iterar a traves de lista de valores\n",
    "    values = [clean_value(val) if val.replace('.', '').replace(',', '').isdigit() else val for val in values]\n",
    "    # Anadir el separador para miles\n",
    "    values = [format(float(val), ',.2f') if val.replace('.', '').replace(',', '').isdigit() else val for val in values]\n",
    "\n",
    "    # Actualizar el diccionario con la lista modificada de valores\n",
    "    dict_datos[key] = values\n",
    "\n",
    "\n",
    "  \n",
    "# Print el diccionario\n",
    "print(dict_datos)\n",
    "\n",
    "\n",
    "\n",
    "\n",
    "\n"
   ]
  },
  {
   "attachments": {},
   "cell_type": "markdown",
   "metadata": {},
   "source": [
    "EXPLICACION:  Fue un reto este ejercicio, especialmente para limpiar los datos , todavia tengo pendiente la funcion B"
   ]
  }
 ],
 "metadata": {
  "kernelspec": {
   "display_name": "base",
   "language": "python",
   "name": "python3"
  },
  "language_info": {
   "codemirror_mode": {
    "name": "ipython",
    "version": 3
   },
   "file_extension": ".py",
   "mimetype": "text/x-python",
   "name": "python",
   "nbconvert_exporter": "python",
   "pygments_lexer": "ipython3",
   "version": "3.10.10"
  },
  "orig_nbformat": 4
 },
 "nbformat": 4,
 "nbformat_minor": 2
}
