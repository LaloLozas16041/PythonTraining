{
 "cells": [
  {
   "cell_type": "markdown",
   "id": "63ed9aa9",
   "metadata": {},
   "source": [
    "# TAREA SEMANA 2: FUNDAMENTOS DE PYTHON\n",
    "    \n",
    "### Nombre: Alfredo Ernesto Hernandez de Haro"
   ]
  },
  {
   "cell_type": "markdown",
   "id": "5e914da9",
   "metadata": {},
   "source": [
    "#### Ejercicio 1\n",
    "\n",
    "A. Crear una función que reciba como entrada un capital, un tipo de interés y un número de años, y muestre por pantalla el valor futuro de la inversión cada año del periodo indicado.\n",
    "B. Crear una función que reciba como entrada un capital, un tipo de interés y un número de años, y muestre por pantalla el valor actual del capital cada año del periodo indicado.\n"
   ]
  },
  {
   "cell_type": "code",
   "execution_count": 21,
   "id": "ee8360ed",
   "metadata": {},
   "outputs": [
    {
     "name": "stdout",
     "output_type": "stream",
     "text": [
      "El valor futuro en el año 1 es de $ 107.00\n",
      "El valor futuro en el año 2 es de $ 114.49\n",
      "El valor futuro en el año 3 es de $ 122.50\n",
      "El valor presente en el año 1 es de $ 43.48\n",
      "El valor presente en el año 2 es de $ 37.81\n",
      "El valor presente en el año 3 es de $ 32.88\n",
      "El valor presente en el año 4 es de $ 28.59\n",
      "El valor presente en el año 5 es de $ 24.86\n",
      "El valor presente en el año 6 es de $ 21.62\n",
      "El valor presente en el año 7 es de $ 18.80\n",
      "El valor presente en el año 8 es de $ 16.35\n",
      "El valor presente en el año 9 es de $ 14.21\n",
      "El valor presente en el año 10 es de $ 12.36\n"
     ]
    }
   ],
   "source": [
    "def valorFut(capital,interes,años):\n",
    "    for año in range(1,años+1):\n",
    "        vf=capital*(1+interes)**año\n",
    "        print(f\"El valor futuro en el año {año} es de $ {vf:.2f}\")\n",
    "\n",
    "def valorPresent(valor_futuro,interes,años):\n",
    "    for año in range(1,años+1):\n",
    "        va=valor_futuro/(1+interes)**año\n",
    "        print(f\"El valor presente en el año {año} es de $ {va:.2f}\")\n",
    "\n",
    "valorFut(100,0.07,3)\n",
    "valorPresent(50,0.15,10)\n"
   ]
  },
  {
   "cell_type": "markdown",
   "id": "35dd2d79",
   "metadata": {},
   "source": [
    "#### Explicación:\n",
    "\n",
    "Ambas funciones reciben tres parametros similares. La diferencia principal radica en la formula para calcular el valor futuro o valor presente. Utilice un for para ir año por año. Recordar que el range no include el ultimo elemento por lo que es necesario sumarle 1. Tambien tuve problemas para recordar como usar el format string. Simplemente poner un print y dentro del parentesis la f para format string."
   ]
  },
  {
   "cell_type": "markdown",
   "id": "cc337358",
   "metadata": {},
   "source": [
    "#### Ejercicio 2\n",
    "\n",
    "A. Construir una función reciba el fichero de cotizaciones y devuelva un diccionario con los datos del fichero por columnas.\n",
    "B. Construir una función que reciba el diccionario devuelto por la función anterior y cree un fichero en formato csv con el mínimo, el máximo y la media de cada columna.\n"
   ]
  },
  {
   "cell_type": "code",
   "execution_count": 62,
   "id": "82a23c3d",
   "metadata": {},
   "outputs": [
    {
     "name": "stdout",
     "output_type": "stream",
     "text": [
      "{'Nombre': ['ACCIONA', 'ACERINOX', 'ACS', 'AENA', 'AMADEUS', 'ARCELORMIT.', 'BA.SABADELL', 'BA.SANTANDER', 'BANKIA', 'BANKINTER', 'BBVA', 'CAIXABANK', 'CELLNEX', 'CIE AUTOMOT.', 'ENAGAS', 'ENCE', 'ENDESA', 'FERROVIAL', 'GRIFOLS CL.A', 'IAG', 'IBERDROLA', 'INDITEX', 'INDRA A', 'INM.COLONIAL', 'MAPFRE', 'MEDIASET', 'MELIA HOTELS', 'MERLIN', 'NATURGY', 'R.E.C.', 'REPSOL', 'SIEMENS GAME', 'TEC.REUNIDAS', 'TELEFONICA', 'VISCOFAN'], 'Final': ['95,95', '8668', '37,28', '167,1', '69,96', '14152', '1,0165', '4,02', '2249', '6,56', '5024', '2763', '30,17', '23,44', '25,6', '3882', '22,95', '21,61', '23,3', '5,3', '8,45', '24,93', '9,56', '9915', '2654', '6446', '8,14', '12,08', '26,7', '19705', '14515', '14,33', '23', '7204', '48,46'], 'Maximo': ['96,75', '8672', '37,66', '167,5', '70,64', '14318', '1033', '4,0675', '2262', '6604', '5,05', '2806', '30,7', '23,74', '25,66', '3974', '23,03', '21,72', '23,6', '5,46', '8,45', '25,19', '9685', '9915', '2654', '6592', '8,19', '12,08', '26,77', '19875', '14605', '14,39', '23,2', '7256', '49,12'], 'Minimo': ['94,4', '8468', '37,22', '166,1', '69,56', '14,08', '1,0165', '4,01', '2224', '6522', '4969', '2762', '30,17', '23,4', '25,07', '3846', '22,62', '21,38', '23,27', '5292', '8262', '24,87', '9535', '9745', '2,62', '6446', '8,02', '11,83', '26,53', '19675', '14,46', '14155', '22,78', '7185', '48,46'], 'Volumen': ['84.962', '885.99', '655.982', '133.738', '640.476', '702.841', '12.358.512', '36.129.692', '3.024.454', '1.375.976', '26.447.612', '13.031.097', '857.237', '99.506', '842.54', '2.099.698', '1.236.799', '2.065.931', '719.503', '2.155.081', '15.637.958', '2.600.144', '392.06', '671.753', '3.045.972', '2.647.557', '480.21', '777.543', '2.100.737', '1.246.171', '5.046.648', '1.054.847', '122.1', '9.913.249', '67.71'], 'Efectivo': ['8166,11', '7633,81', '24517,29', '22336,10', '44795,47', '9989,65', '12637,65', '145765,44', '6803,54', '9030,20', '132560,15', '36239,22', '25965,29', '2343,09', '21524,77', '8219,83', '28233,46', '44656,05', '16787,55', '11561,95', '131426,05', '65012,92', '3755,57', '6640,38', '8063,13', '17277,04', '3914,93', '9357,77', '55986,54', '24585,33', '73333,78', '15084,56', '2807,19', '71564,99', '3295,43']}\n"
     ]
    }
   ],
   "source": [
    "import csv\n",
    "\n",
    "def csv_To_Dictionary(filename):\n",
    "    dictionary={}\n",
    "    with open(filename,'r') as csvfile:\n",
    "        reader=csv.DictReader(csvfile,delimiter=\";\")\n",
    "        for row in reader:\n",
    "            for key,value in row.items():\n",
    "                if key not in dictionary:\n",
    "                    dictionary[key]=[]\n",
    "                dictionary[key].append(value)\n",
    "    return dictionary\n",
    "\n",
    "\n",
    "\"\"\"def dict_to_fichero(dictionary):\n",
    "    keys=list(dictionary.keys())\n",
    "    minimo=[]\n",
    "    maximo=[]\n",
    "    media=[]\n",
    "    for key in keys:\n",
    "        values=dictionary[key]\n",
    "        valor_minimo=min(values)\n",
    "        valor_maximo=max(values)\n",
    "        valor_media=sum(values)/(len(values))\n",
    "        minimo.append(valor_minimo)\n",
    "        maximo.append(valor_maximo)\n",
    "        media.append(valor_media)\n",
    "        \n",
    "    with open(\"estadisticas.csv\",\"w\",newline=\"\") as file:\n",
    "        writer=csv.writer(file)\n",
    "        writer.writerow(keys)\n",
    "        writer.writerow(minimo)\n",
    "        writer.writerow(maximo)\n",
    "        writer.writerow(media)\n",
    "\"\"\"\n",
    "     \n",
    "columnas=csv_To_Dictionary(\"cotizacion.csv\")\n",
    "print(columnas)\n",
    "\n",
    "#del columnas['Nombre']\n",
    "#dict_to_fichero(columnas)"
   ]
  },
  {
   "cell_type": "code",
   "execution_count": 51,
   "id": "e6a4c175",
   "metadata": {},
   "outputs": [
    {
     "name": "stdout",
     "output_type": "stream",
     "text": [
      "dict_keys(['Final', 'Maximo', 'Minimo', 'Volumen', 'Efectivo'])\n"
     ]
    }
   ],
   "source": [
    "print(columnas.keys())\n"
   ]
  },
  {
   "cell_type": "markdown",
   "id": "0f70eed8",
   "metadata": {},
   "source": [
    "#### Explicación:\n",
    "La funcion csv_To_Dictionary abre el archivo cotizacion.csv en modo lectura. Utilice la propiedad DictReader para leer la informacion y mapearla en un diccionario. Recorrimos el archivo csv por filas y almacenamos los valores de cada fila que pertenecen al mismo header por medio de un for. Falta de tiempo para completar el inciso B. Obtuve un error en la obtencion de la media que se debe a la disparidad de los datatypes."
   ]
  },
  {
   "cell_type": "markdown",
   "id": "973b26d2",
   "metadata": {},
   "source": [
    "#### Ejercicio 3\n",
    "Escribir un programa para gestionar un listado telefónico con los nombres y los teléfonos de los clientes de una empresa. \n",
    "El programa debe crear el archivo TXT con la lista si no existe\n",
    "El programa debe  tener una función para consultar el teléfono de un cliente e imprimirlo en pantalla.\n",
    "El programa debe  tener una función para  añadir el teléfono de un nuevo cliente al archivo TXT.\n",
    "El programa debe tener una función que permita visualizar todo el listado telefónico\n",
    "El programa debe tener una función que guarde esta lista en un archivo CSV.\n"
   ]
  },
  {
   "cell_type": "code",
   "execution_count": 61,
   "id": "d3850463",
   "metadata": {},
   "outputs": [
    {
     "name": "stdout",
     "output_type": "stream",
     "text": [
      "Archivo ListadoTelefonico.txt creado\n",
      "Alfredo con telefono 3511846028 añadido al archivo\n",
      "Raul con telefono 4428345678 añadido al archivo\n",
      "Sam con telefono 558007634 añadido al archivo\n",
      "El numero telefonico de Raul es 4428345678\n",
      "Listado telefonico: \n",
      "Alfredo:3511846028\n",
      "Raul:4428345678\n",
      "Sam:558007634\n",
      "Lista telefonica guardada en Listado_Telefonico.csv\n"
     ]
    }
   ],
   "source": [
    "import csv\n",
    "filename=\"ListadoTelefonico.txt\"\n",
    "csv_file=\"Listado_Telefonico.csv\"\n",
    "\n",
    "def crear_archivo():\n",
    "    try:\n",
    "        with open(filename, \"x\"):\n",
    "            print(f\"Archivo {filename} creado\")\n",
    "    except FileExistsError:\n",
    "            print(f\"Archivo {filename} ya existe\")\n",
    "\n",
    "\n",
    "def consulta_tel(nombre):\n",
    "    with open(filename,\"r\") as f:\n",
    "        for line in f:\n",
    "            cliente, telefono=line.strip().split(\",\")\n",
    "            if cliente==nombre:\n",
    "                print(f\"El numero telefonico de {nombre} es {telefono}\")\n",
    "                return\n",
    "    print(f\"{nombre} no se encuentra\")\n",
    "\n",
    "def añadir_tel(nombre,telefono):\n",
    "    with open(filename,\"a\") as f:\n",
    "        f.write(f\"{nombre},{telefono}\\n\")\n",
    "    print(f\"{nombre} con telefono {telefono} añadido al archivo\")\n",
    "\n",
    "def ver_telefonos():\n",
    "    with open(filename,\"r\") as f:\n",
    "        print(\"Listado telefonico: \")\n",
    "        for line in f:\n",
    "            cliente, telefono=line.strip().split(\",\")\n",
    "            print(f\"{cliente}:{telefono}\")\n",
    "    \n",
    "def crear_csv():\n",
    "    with open(filename, \"r\") as f:\n",
    "        with open(csv_file,\"w\", newline=\"\") as csv_f:\n",
    "            writer=csv.writer(csv_f)\n",
    "            writer.writerow([\"Nombre cliente\",\"Telefono\"])\n",
    "            for line in f:\n",
    "                cliente, telefono=line.strip().split(\",\")\n",
    "                writer.writerow([cliente,telefono])\n",
    "    print(f\"Lista telefonica guardada en {csv_file}\")\n",
    "\n",
    "    \n",
    "crear_archivo()\n",
    "\n",
    "añadir_tel(\"Alfredo\",\"3511846028\")\n",
    "añadir_tel(\"Raul\", \"4428345678\")\n",
    "añadir_tel(\"Sam\", \"558007634\")\n",
    "\n",
    "consulta_tel(\"Raul\")\n",
    "\n",
    "ver_telefonos()\n",
    "\n",
    "crear_csv()"
   ]
  },
  {
   "cell_type": "markdown",
   "id": "51beee3b",
   "metadata": {},
   "source": [
    "#### Explicacion\n",
    "Existe una funcion para cada uno de los incisos. La funcion crear_archivo crea un nuevo archivo o en caso contrario indica que el archivo ya existe. La funcion consulta_tel ingresa al documento en modo lectura y busca una coincidencia entre el nombre proporcionado y los nombres del archivo. La funcion añadir_tel agrega elementos al archivo (modo \"a\") al archivo ya existente. La funcion crear_csv crea un archivo csv donde primeramente esta en modo lectura el archivo txt y en escritura para el nuevo archivo csv creando dos columnas \"Nombre cliente\" y \"Telefono\"."
   ]
  },
  {
   "cell_type": "markdown",
   "id": "37007ae3",
   "metadata": {},
   "source": [
    "#### Ejercicio 4\n",
    "Una función que reciba el archivo de calificaciones y devuelva una lista de diccionarios, donde cada diccionario contiene la información de los exámenes y la asistencia de un alumno. La lista tiene que estar ordenada por apellidos.\n",
    "Una función que reciba una lista de diccionarios como la que devuelve la función anterior y añada a cada diccionario una nueva llave con la nota final del curso.  Teniendo en cuenta los siguientes criterios de evaluación \n",
    "Practicas 10 %\n",
    "Practica Final 30% \n",
    "Promedio de Parciales 1 y 2  20%\n",
    "Promedio de Exámenes 1 y 2 40%\n",
    "Una función que reciba una lista de diccionarios como la que devuelve la función anterior y devuelva dos listas, una con los alumnos aprobados y otra con los alumnos reprobados. Para aprobar el curso toma en cuenta lo siguiente : \n",
    "La asistencia tiene que ser mayor o igual que el 75%\n",
    "La nota final debe ser mayor o igual a 8.0\n"
   ]
  },
  {
   "cell_type": "code",
   "execution_count": 93,
   "id": "a7dbf00b",
   "metadata": {
    "scrolled": true
   },
   "outputs": [
    {
     "name": "stdout",
     "output_type": "stream",
     "text": [
      "{'Apellidos': 'Anido Bonet', 'Nombre': 'David', 'Asistencia': '90%', 'Parcial1': '5.5', 'Parcial2': '2.75', 'Examen1': '0', 'Examen2': '5', 'Practicas': '0', 'Practica Final': '0'}\n",
      "{'Apellidos': 'Bueno Cerdeira', 'Nombre': 'Patricia', 'Asistencia': '95%', 'Parcial1': '9.5', 'Parcial2': '9', 'Examen1': '0', 'Examen2': '0', 'Practicas': '6.25', 'Practica Final': '0'}\n",
      "{'Apellidos': 'Casariego GarcÃ\\xada', 'Nombre': 'RaÃºl', 'Asistencia': '98%', 'Parcial1': '4.25', 'Parcial2': '5.75', 'Examen1': '6', 'Examen2': '0', 'Practicas': '4', 'Practica Final': '5'}\n",
      "{'Apellidos': 'Curbelo SÃ¡nchez', 'Nombre': 'Jorge', 'Asistencia': '75%', 'Parcial1': '6.75', 'Parcial2': '4.25', 'Examen1': '5', 'Examen2': '0', 'Practicas': '0', 'Practica Final': '6.5'}\n",
      "{'Apellidos': 'DÃ\\xadaz Souto', 'Nombre': 'SofÃ\\xada', 'Asistencia': '82%', 'Parcial1': '7', 'Parcial2': '6.5', 'Examen1': '0', 'Examen2': '0', 'Practicas': '9', 'Practica Final': '0'}\n",
      "{'Apellidos': 'GarcÃ\\xada Perez', 'Nombre': 'Yaiza', 'Asistencia': '85%', 'Parcial1': '10', 'Parcial2': '8', 'Examen1': '0', 'Examen2': '0', 'Practicas': '7.5', 'Practica Final': '0'}\n",
      "{'Apellidos': 'SÃ¡nchez JordÃ¡n', 'Nombre': 'MarÃ\\xada', 'Asistencia': '92%', 'Parcial1': '8.75', 'Parcial2': '9', 'Examen1': '7', 'Examen2': '0', 'Practicas': '6.5', 'Practica Final': '0'}\n",
      "{'Apellidos': 'Lorenzo GarcÃ\\xada', 'Nombre': 'Jaime', 'Asistencia': '100%', 'Parcial1': '9.75', 'Parcial2': '8.25', 'Examen1': '0', 'Examen2': '0', 'Practicas': '7.5', 'Practica Final': '0'}\n",
      "{'Apellidos': 'MartÃ\\xadnez Lucas', 'Nombre': 'Cecilia', 'Asistencia': '86%', 'Parcial1': '7', 'Parcial2': '4', 'Examen1': '0', 'Examen2': '0', 'Practicas': '6.25', 'Practica Final': '0'}\n",
      "{'Apellidos': 'Mora PeÃ±aloza', 'Nombre': 'Sandra', 'Asistencia': '70%', 'Parcial1': '5.25', 'Parcial2': '2', 'Examen1': '0', 'Examen2': '4', 'Practicas': '6.5', 'Practica Final': '0'}\n",
      "{'Apellidos': 'Morillo Escudero', 'Nombre': 'Ana', 'Asistencia': '100%', 'Parcial1': '9.5', 'Parcial2': '10', 'Examen1': '3', 'Examen2': '0', 'Practicas': '8.75', 'Practica Final': '0'}\n",
      "{'Apellidos': 'MuÃ±oz GÃ³mez', 'Nombre': 'Carolina', 'Asistencia': '94%', 'Parcial1': '7.75', 'Parcial2': '6.5', 'Examen1': '0', 'Examen2': '0', 'Practicas': '4', 'Practica Final': '0'}\n",
      "{'Apellidos': 'Ramirez de la Puente', 'Nombre': 'Raquel', 'Asistencia': '75%', 'Parcial1': '0', 'Parcial2': '1', 'Examen1': '1', 'Examen2': '2.75', 'Practicas': '2.25', 'Practica Final': '3.25'}\n",
      "{'Apellidos': 'Riego Pizarro', 'Nombre': 'Carlos', 'Asistencia': '75%', 'Parcial1': '4', 'Parcial2': '2.5', 'Examen1': '5', 'Examen2': '3.75', 'Practicas': '0', 'Practica Final': '0'}\n",
      "{'Apellidos': 'RodrÃ\\xadguez de Blas', 'Nombre': 'Ignacio', 'Asistencia': '80%', 'Parcial1': '8.25', 'Parcial2': '5.25', 'Examen1': '0', 'Examen2': '0', 'Practicas': '6.5', 'Practica Final': '0'}\n",
      "{'Apellidos': 'Moreno Angulo', 'Nombre': 'Antonio', 'Asistencia': '88%', 'Parcial1': '9', 'Parcial2': '6.75', 'Examen1': '4', 'Examen2': '0', 'Practicas': '5.25', 'Practica Final': '0'}\n"
     ]
    }
   ],
   "source": [
    "import csv\n",
    "\n",
    "def read_dict_estudiante(filename):\n",
    "    with open(filename) as f:\n",
    "        lines = f.readlines()\n",
    "\n",
    "    headers = lines[1].strip().split(',')\n",
    "    calif_list = []\n",
    "    for line in lines[2:]:\n",
    "        values = line.strip().split(',')\n",
    "        calif_dict = dict(zip(headers, values))\n",
    "        calif_list.append(calif_dict)\n",
    "    return calif_list\n",
    "\n",
    "#def notaFinal(lista_diccionarios):\n",
    "    #for alumno in lista_diccionarios:\n",
    "        #alumno[\"Calificacion final\"]=0.10*(alumno['Practicas'])+0.3*(alumno[\"Practica Final\"])+0.2*((alumno[\"Parcial1\"]+alumno[\"Parcial2\"])/2)+0.4*((alumno[\"Examen1\"]+alumno[\"Examen2\"])/2)\n",
    "                                                                                                \n",
    "        \n",
    "    \n",
    "Calificaciones=read_dict_estudiante(\"calificaciones.csv\")\n",
    "#print(calificaciones[0])\n",
    "#print(len(calificaciones))  #16\n",
    "#print(len(calificaciones[0])) #9\n",
    "for alumno in Calificaciones:\n",
    "    print(alumno)\n",
    "\n",
    "#calculaNotaFinal=notaFinal(Calificaciones)    \n",
    "#print(calculaNotaFinal)                                                                              "
   ]
  },
  {
   "cell_type": "markdown",
   "id": "e353894f",
   "metadata": {},
   "source": [
    "#### Explicacion:\n",
    "\n",
    "La funcion read_dict_estudiante lee el archivo calificaciones.csv. Hace la lectura linea por linea y para obtener los encabezados de columna tomo la linea [1] (segunda linea). Posteriormente recorre el archivo csv linea por linea con un ciclo for a partir de la linea [2] donde aparece la informacion del primer alumno hasta el ultimo. Generé un dictionario donde key es el encabezado y value corresponde a los datos de cada alumno. Al llamar la funcion, agregamos un ciclo for para descomprimir cada elemento de la lista compuesta por diccionarios."
   ]
  },
  {
   "cell_type": "code",
   "execution_count": null,
   "id": "360f550c",
   "metadata": {},
   "outputs": [],
   "source": []
  }
 ],
 "metadata": {
  "kernelspec": {
   "display_name": "Python 3 (ipykernel)",
   "language": "python",
   "name": "python3"
  },
  "language_info": {
   "codemirror_mode": {
    "name": "ipython",
    "version": 3
   },
   "file_extension": ".py",
   "mimetype": "text/x-python",
   "name": "python",
   "nbconvert_exporter": "python",
   "pygments_lexer": "ipython3",
   "version": "3.9.13"
  }
 },
 "nbformat": 4,
 "nbformat_minor": 5
}
