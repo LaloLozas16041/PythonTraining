{
 "cells": [
  {
   "cell_type": "markdown",
   "id": "06bde31f",
   "metadata": {},
   "source": [
    "# TAREA SEMANA 2 : FUNDAMENTOS DE PYTHON\n",
    "## Nombre : Salvador Trejo Espinosa"
   ]
  },
  {
   "cell_type": "markdown",
   "id": "0e5b2aa1",
   "metadata": {},
   "source": [
    "### Ejercicio 1\n",
    "Las matemáticas financieras, resumidas en una frase, las podríamos definir como la rama de las matemáticas que estudia los flujos de dinero a través del tiempo. Básicamente se presupone que el dinero tiene menos valor en el futuro que en el presente, ya sea por un tema inflacionario o por la preferencia natural de las personas a priorizar el consumo presente.\n",
    "\n",
    "El valor futuro es el valor alcanzado por un determinado capital al final del período determinado (para el ejemplo usaremos la fórmula del interés compuesto). Para calcularlo se utiliza la siguiente fórmula\n",
    "\n",
    "$$\n",
    "VF=VA* ( 1+i )^n\n",
    "$$\n",
    "\n",
    "El valor presente de una inversión es cuando calculamos el valor actual que tendrá una determinada cantidad que recibiremos o pagaremos en un futuro. Para calcularlo se utiliza la siguiente fórmula\n",
    "\n",
    "$$\n",
    "VA=\\frac{VF}{( 1+i )^n} \n",
    "$$\n",
    "\n",
    "Donde \n",
    "\n",
    " * VF es el valor futuro, \n",
    " \n",
    " * VA es el valor actual o inicial de la inversión, \n",
    " \n",
    " * i es el tipo de interés y\n",
    " \n",
    " * n es número de años de la inversión.\n",
    "\n",
    "A. Crear una función que reciba como entrada un capital, un tipo de interés y un número de años, y muestre por pantalla el valor futuro de la inversión cada año del periodo indicado.\n",
    "\n",
    "B. Crear una función que reciba como entrada un capital, un tipo de interés y un número de años, y muestre por pantalla el valor actual del capital cada año del periodo indicado."
   ]
  },
  {
   "cell_type": "code",
   "execution_count": 22,
   "id": "37bf1b3c",
   "metadata": {},
   "outputs": [
    {
     "name": "stdout",
     "output_type": "stream",
     "text": [
      "año 1: Valor Futuro = 1050.00\n",
      "año 2: Valor Futuro = 1102.50\n",
      "año 3: Valor Futuro = 1157.63\n",
      "año 4: Valor Futuro = 1215.51\n",
      "año 5: Valor Futuro = 1276.28\n"
     ]
    }
   ],
   "source": [
    "Valor_Futuro(1000, 0.05, 5) # se define los valores a usar para calcular el valor futuro\n",
    "\n",
    "def Valor_Futuro(inversion, tipodeinteres, añosdeinversion): # se define la funcion de valor futuro con lo tres argumentos para su calculo\n",
    "    for añosdeinversion in range(1, añosdeinversion+1): # aplicamos un for para hacer los calculos por cada año indicado\n",
    "        Valor_Futuro = inversion * (1 + tipodeinteres)**añosdeinversion # ejecutamos la formula dentro del ciclo for para que lo haga por año\n",
    "        print(f\"año {añosdeinversion}: Valor Futuro = {Valor_Futuro:.2f}\") # y vamos imprimiendo cada valor usando cadena f para limpiar al volver empezar y .2f para limpiar el de valor futuro hasta con 2 decimales\n",
    "        "
   ]
  },
  {
   "cell_type": "code",
   "execution_count": 25,
   "id": "14e3b4bc",
   "metadata": {},
   "outputs": [
    {
     "name": "stdout",
     "output_type": "stream",
     "text": [
      "año 1: Valor Actual = 952.38\n",
      "año 2: Valor Actual = 907.03\n",
      "año 3: Valor Actual = 863.84\n",
      "año 4: Valor Actual = 822.70\n",
      "año 5: Valor Actual = 783.53\n",
      "año 6: Valor Actual = 746.22\n",
      "año 7: Valor Actual = 710.68\n",
      "año 8: Valor Actual = 676.84\n",
      "año 9: Valor Actual = 644.61\n",
      "año 10: Valor Actual = 613.91\n"
     ]
    }
   ],
   "source": [
    "\n",
    "def Valor_Actual(capital, tipodeinteres, añosdeinversion):\n",
    "      for añosdeinversion in range(1, añosdeinversion+1):\n",
    "        Valor_Actual = capital / (1 + tipodeinteres) ** añosdeinversion\n",
    "        print(f\"año {añosdeinversion}: Valor Actual = {Valor_Actual:.2f}\")\n",
    "        \n",
    "Valor_Actual(1000, 0.05, 10)"
   ]
  },
  {
   "cell_type": "markdown",
   "id": "0f44a4ce",
   "metadata": {},
   "source": [
    "**Explicacion:**\n",
    "no entendia como es que se iban a definir los valores  y al final para imprimir los valores no salian de manera ordenada hasta que busque como hacer una impresion asi"
   ]
  },
  {
   "cell_type": "markdown",
   "id": "b46ac132",
   "metadata": {},
   "source": [
    "### Ejercicio 2\n",
    "\n",
    "El archivo cotización.csv (archivo adjunto ) contiene las cotizaciones de empresas con las siguientes columnas: \n",
    "* Nombre (nombre de la empresa), \n",
    "* Final (precio de la acción al cierre de bolsa), \n",
    "* Máximo (precio máximo de la acción durante la jornada), \n",
    "* Mínimo (precio mínimo de la acción durante la jornada), \n",
    "* Volumen (Volumen al cierre de bolsa), \n",
    "* Efectivo (capitalización al cierre en miles de euros).\n",
    "\n",
    "A. Construir una función reciba el fichero de cotizaciones y devuelva un diccionario con los datos del fichero por columnas.\n",
    "\n",
    "B. Construir una función que reciba el diccionario devuelto por la función anterior y cree un fichero en formato csv con el mínimo, el máximo y la media de cada columna.\n"
   ]
  },
  {
   "cell_type": "code",
   "execution_count": 23,
   "id": "0d65bcdd",
   "metadata": {},
   "outputs": [
    {
     "name": "stdout",
     "output_type": "stream",
     "text": [
      "['Nombre;Final;MÃ¡ximo;MÃ\\xadnimo;Volumen;Efectivo']\n",
      "['ACCIONA;95', '95;96', '75;94', '4;84.962;8166', '11']\n",
      "['ACERINOX;8668;8672;8468;885.99;7633', '81']\n",
      "['ACS;37', '28;37', '66;37', '22;655.982;24517', '29']\n",
      "['AENA;167', '1;167', '5;166', '1;133.738;22336', '10']\n",
      "['AMADEUS;69', '96;70', '64;69', '56;640.476;44795', '47']\n",
      "['ARCELORMIT.;14152;14318;14', '08;702.841;9989', '65']\n",
      "['BA.SABADELL;1', '0165;1033;1', '0165;12.358.512;12637', '65']\n",
      "['BA.SANTANDER;4', '02;4', '0675;4', '01;36.129.692;145765', '44']\n",
      "['BANKIA;2249;2262;2224;3.024.454;6803', '54']\n",
      "['BANKINTER;6', '56;6604;6522;1.375.976;9030', '20']\n",
      "['BBVA;5024;5', '05;4969;26.447.612;132560', '15']\n",
      "['CAIXABANK;2763;2806;2762;13.031.097;36239', '22']\n",
      "['CELLNEX;30', '17;30', '7;30', '17;857.237;25965', '29']\n",
      "['CIE AUTOMOT.;23', '44;23', '74;23', '4;99.506;2343', '09']\n",
      "['ENAGAS;25', '6;25', '66;25', '07;842.54;21524', '77']\n",
      "['ENCE;3882;3974;3846;2.099.698;8219', '83']\n",
      "['ENDESA;22', '95;23', '03;22', '62;1.236.799;28233', '46']\n",
      "['FERROVIAL;21', '61;21', '72;21', '38;2.065.931;44656', '05']\n",
      "['GRIFOLS CL.A;23', '3;23', '6;23', '27;719.503;16787', '55']\n",
      "['IAG;5', '3;5', '46;5292;2.155.081;11561', '95']\n",
      "['IBERDROLA;8', '45;8', '45;8262;15.637.958;131426', '05']\n",
      "['INDITEX;24', '93;25', '19;24', '87;2.600.144;65012', '92']\n",
      "['INDRA A;9', '56;9685;9535;392.06;3755', '57']\n",
      "['INM.COLONIAL;9915;9915;9745;671.753;6640', '38']\n",
      "['MAPFRE;2654;2654;2', '62;3.045.972;8063', '13']\n",
      "['MEDIASET;6446;6592;6446;2.647.557;17277', '04']\n",
      "['MELIA HOTELS;8', '14;8', '19;8', '02;480.21;3914', '93']\n",
      "['MERLIN;12', '08;12', '08;11', '83;777.543;9357', '77']\n",
      "['NATURGY;26', '7;26', '77;26', '53;2.100.737;55986', '54']\n",
      "['R.E.C.;19705;19875;19675;1.246.171;24585', '33']\n",
      "['REPSOL;14515;14605;14', '46;5.046.648;73333', '78']\n",
      "['SIEMENS GAME;14', '33;14', '39;14155;1.054.847;15084', '56']\n",
      "['TEC.REUNIDAS;23;23', '2;22', '78;122.1;2807', '19']\n",
      "['TELEFONICA;7204;7256;7185;9.913.249;71564', '99']\n",
      "['VISCOFAN;48', '46;49', '12;48', '46;67.71;3295', '43']\n"
     ]
    }
   ],
   "source": [
    "import csv\n",
    "\n",
    "# mandamos abrir el archivo CSV \n",
    "with open('cotizacion.csv', 'r') as csvfile:\n",
    "    # creamos la variable que contiene el archivo csv\n",
    "    csvreader = csv.reader(csvfile)\n",
    "\n",
    "    # empezamos a leer cada fila del CSV\n",
    "    for row in csvreader:\n",
    "        print(row) #lo imprimimos\n"
   ]
  },
  {
   "cell_type": "code",
   "execution_count": 29,
   "id": "43be49a9",
   "metadata": {},
   "outputs": [
    {
     "ename": "IndexError",
     "evalue": "list index out of range",
     "output_type": "error",
     "traceback": [
      "\u001b[1;31m---------------------------------------------------------------------------\u001b[0m",
      "\u001b[1;31mIndexError\u001b[0m                                Traceback (most recent call last)",
      "\u001b[1;32m~\\AppData\\Local\\Temp\\ipykernel_8732\\2320783620.py\u001b[0m in \u001b[0;36m<module>\u001b[1;34m\u001b[0m\n\u001b[0;32m     41\u001b[0m \u001b[1;33m\u001b[0m\u001b[0m\n\u001b[0;32m     42\u001b[0m \u001b[1;31m# Example usage\u001b[0m\u001b[1;33m\u001b[0m\u001b[1;33m\u001b[0m\u001b[0m\n\u001b[1;32m---> 43\u001b[1;33m \u001b[0mquotes_dict\u001b[0m \u001b[1;33m=\u001b[0m \u001b[0mread_quotes_file\u001b[0m\u001b[1;33m(\u001b[0m\u001b[1;34m'cotizacion.csv'\u001b[0m\u001b[1;33m)\u001b[0m\u001b[1;33m\u001b[0m\u001b[1;33m\u001b[0m\u001b[0m\n\u001b[0m\u001b[0;32m     44\u001b[0m \u001b[0mprint\u001b[0m\u001b[1;33m(\u001b[0m\u001b[0mquotes_dict\u001b[0m\u001b[1;33m)\u001b[0m\u001b[1;33m\u001b[0m\u001b[1;33m\u001b[0m\u001b[0m\n",
      "\u001b[1;32m~\\AppData\\Local\\Temp\\ipykernel_8732\\2320783620.py\u001b[0m in \u001b[0;36mread_quotes_file\u001b[1;34m(filename)\u001b[0m\n\u001b[0;32m     23\u001b[0m             \u001b[1;31m# Add the data to the appropriate list\u001b[0m\u001b[1;33m\u001b[0m\u001b[1;33m\u001b[0m\u001b[0m\n\u001b[0;32m     24\u001b[0m             \u001b[0mnames\u001b[0m\u001b[1;33m.\u001b[0m\u001b[0mappend\u001b[0m\u001b[1;33m(\u001b[0m\u001b[0mrow\u001b[0m\u001b[1;33m[\u001b[0m\u001b[1;36m0\u001b[0m\u001b[1;33m]\u001b[0m\u001b[1;33m)\u001b[0m\u001b[1;33m\u001b[0m\u001b[1;33m\u001b[0m\u001b[0m\n\u001b[1;32m---> 25\u001b[1;33m             \u001b[0mfinals\u001b[0m\u001b[1;33m.\u001b[0m\u001b[0mappend\u001b[0m\u001b[1;33m(\u001b[0m\u001b[0mfloat\u001b[0m\u001b[1;33m(\u001b[0m\u001b[0mrow\u001b[0m\u001b[1;33m[\u001b[0m\u001b[1;36m1\u001b[0m\u001b[1;33m]\u001b[0m\u001b[1;33m)\u001b[0m\u001b[1;33m)\u001b[0m\u001b[1;33m\u001b[0m\u001b[1;33m\u001b[0m\u001b[0m\n\u001b[0m\u001b[0;32m     26\u001b[0m             \u001b[0mmaximums\u001b[0m\u001b[1;33m.\u001b[0m\u001b[0mappend\u001b[0m\u001b[1;33m(\u001b[0m\u001b[0mfloat\u001b[0m\u001b[1;33m(\u001b[0m\u001b[0mrow\u001b[0m\u001b[1;33m[\u001b[0m\u001b[1;36m2\u001b[0m\u001b[1;33m]\u001b[0m\u001b[1;33m)\u001b[0m\u001b[1;33m)\u001b[0m\u001b[1;33m\u001b[0m\u001b[1;33m\u001b[0m\u001b[0m\n\u001b[0;32m     27\u001b[0m             \u001b[0mminimums\u001b[0m\u001b[1;33m.\u001b[0m\u001b[0mappend\u001b[0m\u001b[1;33m(\u001b[0m\u001b[0mfloat\u001b[0m\u001b[1;33m(\u001b[0m\u001b[0mrow\u001b[0m\u001b[1;33m[\u001b[0m\u001b[1;36m3\u001b[0m\u001b[1;33m]\u001b[0m\u001b[1;33m)\u001b[0m\u001b[1;33m)\u001b[0m\u001b[1;33m\u001b[0m\u001b[1;33m\u001b[0m\u001b[0m\n",
      "\u001b[1;31mIndexError\u001b[0m: list index out of range"
     ]
    }
   ],
   "source": [
    "import csv\n",
    "\n",
    "def read_quotes_file(filename):\n",
    "    # creamos una lista vacia con los encabezados del archivo\n",
    "    names = []\n",
    "    finals = []\n",
    "    maximums = []\n",
    "    minimums = []\n",
    "    volumes = []\n",
    "    cashes = []\n",
    "\n",
    "    # abrimos el archivo CSV\n",
    "    with open(filename, 'r') as csvfile:\n",
    "        # creamos la variable que contiene al archivo\n",
    "        csvreader = csv.reader(csvfile)\n",
    "\n",
    "        # aplicamos el for para poder leer cada fila del CSV\n",
    "        for row in csvreader:\n",
    "            # le indicamos que se salte el encabezado \n",
    "            if row[0] == 'Name':\n",
    "                continue\n",
    "\n",
    "            # le indicamos que valor es el de cada columna\n",
    "            names.append(row[0])\n",
    "            finals.append(float(row[1]))\n",
    "            maximums.append(float(row[2]))\n",
    "            minimums.append(float(row[3]))\n",
    "            volumes.append(int(row[4]))\n",
    "            cashes.append(float(row[5]))\n",
    "\n",
    "    # creamos el diccionario como le indicamos que es cada columna \n",
    "    quotes_dict = {'Name': names,\n",
    "                   'Final': finals,\n",
    "                   'Maximum': maximums,\n",
    "                   'Minimum': minimums,\n",
    "                   'Volume': volumes,\n",
    "                   'Cash': cashes}\n",
    "\n",
    "    return quotes_dict\n",
    "\n",
    "\n",
    "# mandamos llamar al archivo para ejecutarlo\n",
    "quotes_dict = read_quotes_file('cotizacion.csv')\n",
    "print(quotes_dict)\n"
   ]
  },
  {
   "cell_type": "markdown",
   "id": "0ff13581",
   "metadata": {},
   "source": [
    "**Explicacion:**\n",
    "Hay algo mal en el archivo pero no logre identificar que esta mal, no pude hacerlo, no entiendo bien el objetivo del ejercicio que se debe hacer, como se debe limpiar el archivo?"
   ]
  },
  {
   "cell_type": "markdown",
   "id": "b16920b7",
   "metadata": {},
   "source": [
    "### Ejercicio 3\n",
    "\n",
    "Escribir un programa para gestionar un listado telefónico con los nombres y los teléfonos de los clientes de una empresa. \n",
    "* El programa debe crear el archivo TXT con la lista si no existe\n",
    "* El programa debe  tener una función para consultar el teléfono de un cliente e imprimirlo en pantalla.\n",
    "* El programa debe  tener una función para  añadir el teléfono de un nuevo cliente al archivo TXT.\n",
    "* El programa debe tener una función que permita visualizar todo el listado telefónico\n",
    "* El programa debe tener una función que guarde esta lista en un archivo CSV.\n"
   ]
  },
  {
   "cell_type": "code",
   "execution_count": 37,
   "id": "e11d2706",
   "metadata": {},
   "outputs": [
    {
     "name": "stdout",
     "output_type": "stream",
     "text": [
      "Phone list file phone_list.csv created successfully.\n",
      "Pedro Perez added to the phone list.\n",
      "Salvador Trejo added to the phone list.\n",
      "Karina Ruiz not found in the phone list.\n",
      "Anabel trejo not found in the phone list.\n",
      "Name: Phone Number\n",
      "Pedro Perez: 123-456-7890\n",
      "Salvador Trejo: 555-555-5555\n",
      "Phone list saved to phone_list_copy.csv successfully.\n"
     ]
    }
   ],
   "source": [
    "import csv  # la escribimos para poder escribir el archivo\n",
    "\n",
    "def create_phone_list(filename): # creamos la funcion que toma un nombre de archivo como argumento. \n",
    "    try:\n",
    "        with open(filename, 'x') as f:\n",
    "            writer = csv.writer(f) # definimos la variable\n",
    "            writer.writerow(['Name', 'Phone Number']) # pedimos se escriba el encabezado\n",
    "        print(f'Phone list file {filename} created successfully.')# esrbumos el nombre del archivo\n",
    "    except FileExistsError:\n",
    "        print(f'Phone list file {filename} already exists.')# si ya existe le decimos que  lo diga\n",
    "\n",
    "def add_customer(filename, name, phone_number): # funcion para añadir un nuevo cliente\n",
    "    with open(filename, 'a', newline='') as f:\n",
    "        writer = csv.writer(f)\n",
    "        writer.writerow([name, phone_number])\n",
    "    print(f'{name} added to the phone list.')\n",
    "\n",
    "def find_phone_number(filename, name): # definimos funcion para consultar telefono\n",
    "    with open(filename, 'r', newline='') as f:\n",
    "        reader = csv.reader(f)\n",
    "        for row in reader:\n",
    "            if len(row) >= 2 and row[0] == name: # le decimos que al menos revise si tiene dos elementos cada linea\n",
    "                print(f'{name}\\'s phone number is {row[1]}.')\n",
    "                break\n",
    "        else:\n",
    "            print(f'{name} not found in the phone list.')\n",
    "\n",
    "def view_phone_list(filename): # le mostramos todo el listado\n",
    "    with open(filename, 'r') as f:\n",
    "        reader = csv.reader(f)\n",
    "        for row in reader:\n",
    "            if len(row) >= 2:\n",
    "                print(f'{row[0]}: {row[1]}')\n",
    "\n",
    "def save_phone_list_to_csv(filename, new_filename): #  guardamos la lista en un archivo csv\n",
    "    with open(filename, 'r') as f:\n",
    "        reader = csv.reader(f)\n",
    "        with open(new_filename, 'w', newline='') as f2:\n",
    "            writer = csv.writer(f2)\n",
    "            for row in reader:\n",
    "                writer.writerow(row)\n",
    "    print(f'Phone list saved to {new_filename} successfully.')\n",
    "\n",
    "    ## proporcionamos la lista y nombre de los archivos\n",
    "if __name__ == '__main__':\n",
    "    phone_list_file = 'phone_list.csv'\n",
    "    create_phone_list(phone_list_file)\n",
    "    add_customer(phone_list_file, 'Pedro Perez', '123-456-7890')\n",
    "    add_customer(phone_list_file, 'Salvador Trejo', '555-555-5555')\n",
    "    find_phone_number(phone_list_file, 'Karina Ruiz')\n",
    "    find_phone_number(phone_list_file, 'Anabel trejo')\n",
    "    view_phone_list(phone_list_file)\n",
    "    save_phone_list_to_csv(phone_list_file, 'phone_list_copy.csv')\n"
   ]
  },
  {
   "cell_type": "markdown",
   "id": "7220bc4c",
   "metadata": {},
   "source": [
    "**Explicacion:**\n",
    "lo dificil aqui fue mostrarle que pasa si solo se introducia un dato, pero lo investigue y fue lo que encontre.\n"
   ]
  },
  {
   "cell_type": "markdown",
   "id": "914ba1ab",
   "metadata": {},
   "source": [
    "### Ejercicio 4\n",
    "\n",
    "El archivo calificaciones.csv (archivo adjunto ) contiene las calificaciones de un curso. Durante el curso se realizaron dos exámenes parciales de teoría y un examen de prácticas. Escribir un programa que contenga las siguientes funciones:\n",
    "\n",
    "A.- Una función que reciba el archivo de calificaciones y devuelva una lista de diccionarios, donde cada diccionario contiene la información de los exámenes y la asistencia de un alumno. La lista tiene que estar ordenada por apellidos.\n",
    "\n",
    "B.-Una función que reciba una lista de diccionarios como la que devuelve la función anterior y añada a cada diccionario una nueva llave con la nota final del curso.  Teniendo en cuenta los siguientes criterios de evaluación \n",
    "\n",
    "* Practicas 10 %\n",
    "* Practica Final 30% \n",
    "* Promedio de Parciales 1 y 2  20%\n",
    "* Promedio de Exámenes 1 y 2 40%\n",
    "\n",
    "C.- Una función que reciba una lista de diccionarios como la que devuelve la función anterior y devuelva dos listas, una con los alumnos aprobados y otra con los alumnos suspensos. Para aprobar el curso\n",
    "* La asistencia tiene que ser mayor o igual que el 75%\n",
    "* La nota final debe ser mayor o igual a 8.0\n"
   ]
  },
  {
   "cell_type": "code",
   "execution_count": 5,
   "id": "04f7c57c",
   "metadata": {},
   "outputs": [
    {
     "ename": "KeyError",
     "evalue": "'final_grades'",
     "output_type": "error",
     "traceback": [
      "\u001b[1;31m---------------------------------------------------------------------------\u001b[0m",
      "\u001b[1;31mKeyError\u001b[0m                                  Traceback (most recent call last)",
      "\u001b[1;32m~\\AppData\\Local\\Temp\\ipykernel_12568\\2412233754.py\u001b[0m in \u001b[0;36m<module>\u001b[1;34m\u001b[0m\n\u001b[0;32m     53\u001b[0m \u001b[1;32mif\u001b[0m \u001b[0m__name__\u001b[0m \u001b[1;33m==\u001b[0m \u001b[1;34m'__main__'\u001b[0m\u001b[1;33m:\u001b[0m\u001b[1;33m\u001b[0m\u001b[1;33m\u001b[0m\u001b[0m\n\u001b[0;32m     54\u001b[0m     \u001b[0mstudents\u001b[0m \u001b[1;33m=\u001b[0m \u001b[0mread_csv_file\u001b[0m\u001b[1;33m(\u001b[0m\u001b[1;34m'calificaciones.csv'\u001b[0m\u001b[1;33m)\u001b[0m\u001b[1;33m\u001b[0m\u001b[1;33m\u001b[0m\u001b[0m\n\u001b[1;32m---> 55\u001b[1;33m     \u001b[0mpassed\u001b[0m\u001b[1;33m,\u001b[0m \u001b[0mfailed\u001b[0m \u001b[1;33m=\u001b[0m \u001b[0mpassed_failed_students\u001b[0m\u001b[1;33m(\u001b[0m\u001b[0mstudents\u001b[0m\u001b[1;33m)\u001b[0m\u001b[1;33m\u001b[0m\u001b[1;33m\u001b[0m\u001b[0m\n\u001b[0m\u001b[0;32m     56\u001b[0m     \u001b[0mprint\u001b[0m\u001b[1;33m(\u001b[0m\u001b[1;34mf'Number of passed students: {len(passed)}'\u001b[0m\u001b[1;33m)\u001b[0m\u001b[1;33m\u001b[0m\u001b[1;33m\u001b[0m\u001b[0m\n\u001b[0;32m     57\u001b[0m     \u001b[0mprint\u001b[0m\u001b[1;33m(\u001b[0m\u001b[1;34mf'Number of failed students: {len(failed)}'\u001b[0m\u001b[1;33m)\u001b[0m\u001b[1;33m\u001b[0m\u001b[1;33m\u001b[0m\u001b[0m\n",
      "\u001b[1;32m~\\AppData\\Local\\Temp\\ipykernel_12568\\2412233754.py\u001b[0m in \u001b[0;36mpassed_failed_students\u001b[1;34m(students)\u001b[0m\n\u001b[0;32m     44\u001b[0m     \u001b[1;32mfor\u001b[0m \u001b[0mstudent\u001b[0m \u001b[1;32min\u001b[0m \u001b[0mstudents\u001b[0m\u001b[1;33m:\u001b[0m\u001b[1;33m\u001b[0m\u001b[1;33m\u001b[0m\u001b[0m\n\u001b[0;32m     45\u001b[0m         \u001b[0mattendance\u001b[0m \u001b[1;33m=\u001b[0m \u001b[0mfloat\u001b[0m\u001b[1;33m(\u001b[0m\u001b[0mstudent\u001b[0m\u001b[1;33m[\u001b[0m\u001b[1;34m'Asistencia'\u001b[0m\u001b[1;33m]\u001b[0m\u001b[1;33m.\u001b[0m\u001b[0mreplace\u001b[0m\u001b[1;33m(\u001b[0m\u001b[1;34m'%'\u001b[0m\u001b[1;33m,\u001b[0m \u001b[1;34m''\u001b[0m\u001b[1;33m)\u001b[0m\u001b[1;33m)\u001b[0m \u001b[1;33m/\u001b[0m \u001b[1;36m100\u001b[0m\u001b[1;33m\u001b[0m\u001b[1;33m\u001b[0m\u001b[0m\n\u001b[1;32m---> 46\u001b[1;33m         \u001b[0mfinal_grade\u001b[0m \u001b[1;33m=\u001b[0m \u001b[0mfloat\u001b[0m\u001b[1;33m(\u001b[0m\u001b[0mstudent\u001b[0m\u001b[1;33m[\u001b[0m\u001b[1;34m'final_grades'\u001b[0m\u001b[1;33m]\u001b[0m\u001b[1;33m)\u001b[0m\u001b[1;33m\u001b[0m\u001b[1;33m\u001b[0m\u001b[0m\n\u001b[0m\u001b[0;32m     47\u001b[0m         \u001b[1;32mif\u001b[0m \u001b[0mattendance\u001b[0m \u001b[1;33m>=\u001b[0m \u001b[1;36m0.75\u001b[0m \u001b[1;32mand\u001b[0m \u001b[0mfinal_grade\u001b[0m \u001b[1;33m>=\u001b[0m \u001b[1;36m8.0\u001b[0m\u001b[1;33m:\u001b[0m\u001b[1;33m\u001b[0m\u001b[1;33m\u001b[0m\u001b[0m\n\u001b[0;32m     48\u001b[0m             \u001b[0mpassed\u001b[0m\u001b[1;33m.\u001b[0m\u001b[0mappend\u001b[0m\u001b[1;33m(\u001b[0m\u001b[0mstudent\u001b[0m\u001b[1;33m)\u001b[0m\u001b[1;33m\u001b[0m\u001b[1;33m\u001b[0m\u001b[0m\n",
      "\u001b[1;31mKeyError\u001b[0m: 'final_grades'"
     ]
    }
   ],
   "source": [
    "import csv\n",
    "\n",
    "def read_grades_file(filename):\n",
    "    with open(filename, newline='') as csvfile:\n",
    "        reader = csv.DictReader(csvfile, delimiter=',')\n",
    "        grades_list = []\n",
    "        for row in reader:\n",
    "            grades_dict = {}\n",
    "            grades_dict['Apellido'] = row['Apellidos']\n",
    "            grades_dict['Nombre'] = row['Nombre']\n",
    "            grades_dict['asistencia'] = int(row['Asistencia'].strip('%'))\n",
    "            grades_dict['examen teorico 1'] = float(row['Parcial1'])\n",
    "            grades_dict['examen teorico 2'] = float(row['Parcial2' ])\n",
    "            grades_dict['examen 1'] = float(row['Examen1'])\n",
    "            grades_dict['examen 2'] = float(row['Examen2'])\n",
    "            grades_dict['practicas'] = float(row['Practicas'])\n",
    "            grades_dict['practica final'] = float (row['Practica Final'])                                      \n",
    "            grades_list.append(grades_dict)\n",
    "\n",
    "    sorted_grades_list = sorted(grades_list, key=lambda x: x['Apellido'])\n",
    "    return sorted_grades_list\n",
    "\n",
    "def calculate_final_grades(grades_list):\n",
    "    for grades_dict in grades_list:\n",
    "        practice_grade = grades_dict['practicas'] * 0.1\n",
    "        final_practice_grade = grades_dict['practica final'] * 0.3\n",
    "        theory_grade = (grades_dict['examen teorico 1'] + grades_dict['examen teorico 2']) / 2 * 0.2\n",
    "        exam_grade = (grades_dict['examen 1'] + grades_dict['examen 2']) / 2 * 0.4\n",
    "        final_grade = practice_grade + final_practice_grade + theory_grade + exam_grade\n",
    "        grades_dict['Final Grade'] = final_grade\n",
    "    return grades_list\n",
    "\n",
    "grades = read_grades_file('calificaciones.csv')\n",
    "final_grades = calculate_final_grades(grades)\n",
    "\n",
    "def read_csv_file(filename):\n",
    "    with open(filename, newline='') as csvfile:\n",
    "        reader = csv.DictReader(csvfile)\n",
    "        return [row for row in reader]\n",
    "    \n",
    "def passed_failed_students(students):\n",
    "    passed = []\n",
    "    failed = []\n",
    "    for student in students:\n",
    "        attendance = float(student['Asistencia'].replace('%', '')) / 100\n",
    "        final_grade = float(student['final_grades'])\n",
    "        if attendance >= 0.75 and final_grade >= 8.0:\n",
    "            passed.append(student)\n",
    "        else:\n",
    "            failed.append(student)\n",
    "    return passed, failed\n",
    "\n",
    "if __name__ == '__main__':\n",
    "    students = read_csv_file('calificaciones.csv')\n",
    "    passed, failed = passed_failed_students(students)\n",
    "    print(f'Number of passed students: {len(passed)}')\n",
    "    print(f'Number of failed students: {len(failed)}')\n"
   ]
  },
  {
   "cell_type": "markdown",
   "id": "ff828835",
   "metadata": {},
   "source": [
    "**Explicacion:**\n",
    "sobre este ejercicio estoy algo perdido creo que no logro mandar ejecutar los archivos CSV o los diccionarios, eso es lo que se me esta complicando, hasta la funcion de .... def calculate_final_grades.... se ejecuta el programa pero no se si estoy bien o o mal y para el inciso C del ejercicio deifini la funcion:........... def passed_failed_students(students):.... pero tengo el siguiente error, mi problema esta en que no estoy entendiendo como hacer los diccionarios al parecer.\n",
    "\n"
   ]
  },
  {
   "cell_type": "code",
   "execution_count": null,
   "id": "e5dbd0e4",
   "metadata": {},
   "outputs": [],
   "source": []
  }
 ],
 "metadata": {
  "kernelspec": {
   "display_name": "Python 3 (ipykernel)",
   "language": "python",
   "name": "python3"
  },
  "language_info": {
   "codemirror_mode": {
    "name": "ipython",
    "version": 3
   },
   "file_extension": ".py",
   "mimetype": "text/x-python",
   "name": "python",
   "nbconvert_exporter": "python",
   "pygments_lexer": "ipython3",
   "version": "3.9.13"
  }
 },
 "nbformat": 4,
 "nbformat_minor": 5
}
