{
 "cells": [
  {
   "cell_type": "code",
   "execution_count": null,
   "id": "9bdba4d3",
   "metadata": {},
   "outputs": [],
   "source": [
    "Ejercicio 1\n",
    "Las matemáticas financieras, resumidas en una frase, las podríamos definir como la rama de las matemáticas que estudia los flujos de dinero a través del tiempo. Básicamente se presupone que el dinero tiene menos valor en el futuro que en el presente, ya sea por un tema inflacionario o por la preferencia natural de las personas a priorizar el consumo presente.\n",
    "\n",
    "El valor futuro es el valor alcanzado por un determinado capital al final del período determinado (para el ejemplo usaremos la fórmula del interés compuesto). Para calcularlo se utiliza la siguiente fórmula\n",
    "VF=VA* ( 1+i )n\n",
    "\n",
    "El valor presente de una inversión es cuando calculamos el valor actual que tendrá una determinada cantidad que recibiremos o pagaremos en un futuro. Para calcularlo se utiliza la siguiente fórmula\n",
    "\n",
    "VA=VF( 1+i )n \n",
    "\n",
    "Donde \n",
    " VF es el valor futuro, \n",
    " VA es el valor actual o inicial de la inversión, \n",
    " i es el tipo de interés y \n",
    " n es número de años de la inversión.\n",
    "\n",
    "Crear una función que reciba como entrada un capital, un tipo de interés y un número de años, y muestre por pantalla el valor futuro de la inversión cada año del periodo indicado.\n",
    "Crear una función que reciba como entrada un capital, un tipo de interés y un número de años, y muestre por pantalla el valor actual del capital cada año del periodo indicado."
   ]
  },
  {
   "cell_type": "code",
   "execution_count": 9,
   "id": "a1870f58",
   "metadata": {},
   "outputs": [
    {
     "name": "stdout",
     "output_type": "stream",
     "text": [
      "999.9405902149953\n",
      "4177.248169415656\n"
     ]
    }
   ],
   "source": [
    "def valor_actual(val):\n",
    "    va=(val[0])/((1+val[1])**val[2])\n",
    "    return va\n",
    "\n",
    "def valor_futuro(val):\n",
    "    vf=(val[0])*(1+val[1])**val[2]\n",
    "    return vf\n",
    "\n",
    "calcula_val_act=[4177,0.1,15]\n",
    "calcula_val_fut=[1000,0.1,15]\n",
    "print(valor_actual(calcula_val_act))\n",
    "print(valor_futuro(calcula_val_fut))\n"
   ]
  },
  {
   "cell_type": "code",
   "execution_count": null,
   "id": "cb3e50a1",
   "metadata": {},
   "outputs": [],
   "source": [
    "En este ejercicio se aplicaron funciones, yo ocupe listas para calcular los valores"
   ]
  },
  {
   "cell_type": "code",
   "execution_count": null,
   "id": "4bfe3039",
   "metadata": {},
   "outputs": [],
   "source": [
    "Ejercicio 2\n",
    "El archivo cotización.csv (archivo adjunto ) contiene las cotizaciones de empresas con las siguientes columnas: \n",
    "Nombre (nombre de la empresa), \n",
    "Final (precio de la acción al cierre de bolsa), \n",
    "Máximo (precio máximo de la acción durante la jornada), \n",
    "Mínimo (precio mínimo de la acción durante la jornada), \n",
    "Volumen (Volumen al cierre de bolsa), \n",
    "Efectivo (capitalización al cierre en miles de euros).\n",
    "\n",
    "Construir una función reciba el fichero de cotizaciones y devuelva un diccionario con los datos del fichero por columnas.\n",
    "Construir una función que reciba el diccionario devuelto por la función anterior y cree un fichero en formato csv con el mínimo, el máximo y la media de cada columna.\n"
   ]
  },
  {
   "cell_type": "code",
   "execution_count": null,
   "id": "590e9edd",
   "metadata": {},
   "outputs": [],
   "source": [
    "def mayor(lista):\n",
    "    max = lista[0];\n",
    "    for x in lista:\n",
    "        if x > max:\n",
    "            max = x\n",
    "    return max    \n",
    " \n",
    "def menor(lista):\n",
    "    min = lista[0];\n",
    "    for x in lista:\n",
    "        if x < min:\n",
    "            min = x\n",
    "    return min\n",
    "def media(lista):\n",
    "    sum=0\n",
    "    for x in lista:\n",
    "        sum+=float(x)\n",
    "    return sum/len(lista)\n",
    "def calcular(archivo):\n",
    "    with open(archivo, 'r') as f:\n",
    "            lineas = f.read().split('\\n')\n",
    "    lineas.pop(36)\n",
    "    keys = lineas[0]\n",
    "    keys =  keys[:-1].split(',')\n",
    "    diccionario = {}\n",
    "    for i in  keys:\n",
    "        diccionario[i] = []\n",
    "    lineas.pop(0)\n",
    "    for linea in lineas:\n",
    "        celda = linea.split(sep=',')\n",
    "        for i in range(len( keys)):\n",
    "            diccionario[ keys[i]].append(celda[i].replace('\"',''))\n",
    "    return diccionario\n",
    "\n",
    "def medidas(diccionario, ruta):\n",
    "    diccionario.pop('Nombre')\n",
    "    f = open(ruta, 'w')\n",
    "    f.write('Nombre')\n",
    "    for key in diccionario.keys():\n",
    "        f.write('  ' + str(key))\n",
    "    f.write('\\nMínimo')\n",
    "    for valores in diccionario.values():\n",
    "        f.write('  ' + str(float(menor(valores))))\n",
    "    f.write('\\nMáximo')\n",
    "    for valores in diccionario.values():\n",
    "        f.write('  ' + str(float(mayor(valores))))\n",
    "    f.write('\\nMedia')\n",
    "    for valores in diccionario.values():\n",
    "        f.write('  ' + str(media(valores)))\n",
    "    \n",
    "diccionario = calcular('cotizacion.csv')\n",
    "print(diccionario)\n",
    "medidas(diccionario, 'medidas.csv')"
   ]
  },
  {
   "cell_type": "code",
   "execution_count": null,
   "id": "3dad5586",
   "metadata": {},
   "outputs": [],
   "source": [
    "Lo mas dificl de este ejercicio es limpiar los valores para que sean adecuados"
   ]
  },
  {
   "cell_type": "code",
   "execution_count": null,
   "id": "ae89aa95",
   "metadata": {},
   "outputs": [],
   "source": [
    "Ejercicio 3\n",
    "Escribir un programa para gestionar un listado telefónico con los nombres y los teléfonos de los clientes de una empresa. \n",
    "El programa debe crear el archivo TXT con la lista si no existe\n",
    "El programa debe  tener una función para consultar el teléfono de un cliente e imprimirlo en pantalla.\n",
    "El programa debe  tener una función para  añadir el teléfono de un nuevo cliente al archivo TXT.\n",
    "El programa debe tener una función que permita visualizar todo el listado telefónico\n",
    "El programa debe tener una función que guarde esta lista en un archivo CSV.\n"
   ]
  },
  {
   "cell_type": "code",
   "execution_count": null,
   "id": "de2521bc",
   "metadata": {},
   "outputs": [],
   "source": [
    "def crear_dir(directorio):\n",
    "    f=open(directorio,'w')\n",
    "    f.close()\n",
    "\n",
    "def añade(directorio,cliente, telefono):\n",
    "    f = open(directorio, 'a')\n",
    "    f.write(cliente + ',' + telefono +'\\n')\n",
    "    f.close()\n",
    "    \n",
    "    \n",
    "   \n",
    "def consultar(direct,cliente):\n",
    "    f = open(direct, 'r')\n",
    "    text = f.read().split('\\n')\n",
    "    \n",
    "    clientes=[]\n",
    "    telefonos=[]\n",
    "    for line in text:\n",
    "        if line !='':\n",
    "            line=line.split(',')\n",
    "            clientes.append(line[0])\n",
    "            telefonos.append(line[1])\n",
    "   \n",
    "        \n",
    "    dictionary = {clientes[i]: telefonos[i] for i in range(len(clientes))}\n",
    "    print(dictionary[cliente]) \n",
    "    \n",
    "def visualizar(direc):\n",
    "    f = open(direc, 'r')\n",
    "    text= f.read()\n",
    "    print(text)\n",
    "    \n",
    "def guardar(direc):\n",
    "    f = open(direc, 'r')\n",
    "    text= f.read()\n",
    "    archivo = open(\"dir.csv\", \"w\", newline='')\n",
    "    archivo.write(text)\n",
    "    archivo.close()\n",
    "\n",
    "\n",
    "crear_dir('directorio.txt')\n",
    "añade('directorio.txt','Marlo','5555')\n",
    "añade('directorio.txt','Rulo','6666')\n",
    "#visualizar('directorio.txt')\n",
    "guardar('directorio.txt')\n",
    "consultar('directorio.txt','Marlo')"
   ]
  },
  {
   "cell_type": "code",
   "execution_count": null,
   "id": "2982bc5b",
   "metadata": {},
   "outputs": [],
   "source": [
    "Lo mas dificil fue establecer un orden en las operaciones "
   ]
  },
  {
   "cell_type": "code",
   "execution_count": null,
   "id": "3ee39cf0",
   "metadata": {},
   "outputs": [],
   "source": [
    "Ejercicio 4\n",
    "El archivo calificaciones.csv (archivo adjunto ) contiene las calificaciones de un curso. Durante el curso se realizaron dos exámenes parciales de teoría y un examen de prácticas. Escribir un programa que contenga las siguientes funciones:\n",
    "\n",
    "Una función que reciba el archivo de calificaciones y devuelva una lista de diccionarios, donde cada diccionario contiene la información de los exámenes y la asistencia de un alumno. La lista tiene que estar ordenada por apellidos.\n",
    "Una función que reciba una lista de diccionarios como la que devuelve la función anterior y añada a cada diccionario una nueva llave con la nota final del curso.  Teniendo en cuenta los siguientes criterios de evaluación \n",
    "Practicas 10 %\n",
    "Practica Final 30% \n",
    "Promedio de Parciales 1 y 2  20%\n",
    "Promedio de Exámenes 1 y 2 40%\n",
    "Una función que reciba una lista de diccionarios como la que devuelve la función anterior y devuelva dos listas, una con los alumnos aprobados y otra con los alumnos reprobados. Para aprobar el curso toma en cuenta lo siguiente : \n",
    "La asistencia tiene que ser mayor o igual que el 75%\n",
    "La nota final debe ser mayor o igual a 8.0\n"
   ]
  },
  {
   "cell_type": "code",
   "execution_count": null,
   "id": "95657ecc",
   "metadata": {},
   "outputs": [],
   "source": [
    "def agregar_calif(registro):\n",
    "        practicas=(float(registro['Practicas']))*0.1\n",
    "        practica_final=(float(registro['Practica Final']))*0.3\n",
    "        parcial=(float(registro['Parcial1'])+float(registro['Parcial2']))\n",
    "        parcial=parcial*0.2/2\n",
    "        examen=float(registro['Examen1'])+float(registro['Examen2'])\n",
    "        examen=examen*0.4/2\n",
    "        registro['Calif_final']=practicas+practica_final+parcial+examen\n",
    "        return registro\n",
    "    \n",
    "def calif(archivo):\n",
    "    f = open(archivo, 'r')\n",
    "    lineas = f.readlines()\n",
    "    f.close()\n",
    "    claves = lineas[1][:-1].split(',')\n",
    "    calif = []\n",
    "    for i in lineas[2:]:\n",
    "        valores = i[:].split(',')\n",
    "        registro= {}\n",
    "       \n",
    "        registro = {claves[j]: valores[j] for j in range(len(valores))}\n",
    "        calif.append(registro)\n",
    "    print(calif)\n",
    "    return registro\n",
    "\n",
    "\n",
    "calif('calificaciones.csv')\n",
    "print(agregar_calif(calif('calificaciones.csv')))"
   ]
  },
  {
   "cell_type": "code",
   "execution_count": null,
   "id": "3b044bc4",
   "metadata": {},
   "outputs": [],
   "source": [
    "No supe como aplicar la nota final a todos los estudiantes, solo lo hice con uno X("
   ]
  }
 ],
 "metadata": {
  "kernelspec": {
   "display_name": "Python 3 (ipykernel)",
   "language": "python",
   "name": "python3"
  },
  "language_info": {
   "codemirror_mode": {
    "name": "ipython",
    "version": 3
   },
   "file_extension": ".py",
   "mimetype": "text/x-python",
   "name": "python",
   "nbconvert_exporter": "python",
   "pygments_lexer": "ipython3",
   "version": "3.9.13"
  }
 },
 "nbformat": 4,
 "nbformat_minor": 5
}
