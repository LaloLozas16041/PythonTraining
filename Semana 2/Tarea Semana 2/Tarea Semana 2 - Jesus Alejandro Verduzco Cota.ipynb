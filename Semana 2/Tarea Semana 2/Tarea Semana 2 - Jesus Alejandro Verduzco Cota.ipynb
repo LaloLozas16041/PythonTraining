{
 "cells": [
  {
   "cell_type": "markdown",
   "id": "56450d0f",
   "metadata": {},
   "source": [
    "# TAREA SEMANA  2: FUNDAMENTOS DE PYTHON\n",
    "## Nombre : Jesus Alejandro Verduzco Cota\n"
   ]
  },
  {
   "cell_type": "markdown",
   "id": "a49fb6c4",
   "metadata": {},
   "source": [
    "### - Ejercicio 1\n",
    "Las matemáticas financieras, resumidas en una frase, las podríamos definir como la rama de las matemáticas que estudia los flujos de dinero a través del tiempo. Básicamente se presupone que el dinero tiene menos valor en el futuro que en el presente, ya sea por un tema inflacionario o por la preferencia natural de las personas a priorizar el consumo presente.\n",
    "\n",
    "El valor futuro es el valor alcanzado por un determinado capital al final del período determinado (para el ejemplo usaremos la fórmula del interés compuesto). Para calcularlo se utiliza la siguiente fórmula\n",
    "$$ VF = VA \\times (1 + i)^n  $$\n",
    "\n",
    "El valor presente de una inversión es cuando calculamos el valor actual que tendrá una determinada cantidad que recibiremos o pagaremos en un futuro. Para calcularlo se utiliza la siguiente fórmula\n",
    "$$ VA = \\frac{VF}{(1 + i)^n}  $$\n",
    "\n",
    "Donde: \n",
    " - VF es el valor futuro, \n",
    " - VA es el valor actual o inicial de la inversión, \n",
    " - i es el tipo de interés (tasa) y \n",
    " - n es número de años de la inversión.\n",
    "\n",
    "    A. Crear una función que reciba como entrada un capital, un tipo de interés y un número de años, y muestre por pantalla el valor futuro de la inversión cada año del periodo indicado.\n",
    "    \n",
    "    B. Crear una función que reciba como entrada un capital, un tipo de interés y un número de años, y muestre por pantalla el valor actual del capital cada año del periodo indicado."
   ]
  },
  {
   "cell_type": "code",
   "execution_count": 1,
   "id": "e610966a",
   "metadata": {},
   "outputs": [],
   "source": [
    "# A\n",
    "def VF_interes_comp(capital, interes, años):\n",
    "    for año in range(1,años+1):\n",
    "        VF = capital * (1 + (interes/100))**año\n",
    "        print(f'Valor futuro de la inversión en el año {str(año)}: {round(VF,3)}')\n",
    "\n",
    "# B\n",
    "def VA_interes_comp(capital, interes, años):\n",
    "    for año in range(1,años+1):\n",
    "        VA = capital / ((1 + (interes/100))**año )\n",
    "        print(f'Valor actual del capital en el año {str(año)}: {round(VA,3)}')"
   ]
  },
  {
   "cell_type": "code",
   "execution_count": 4,
   "id": "7a382cbf",
   "metadata": {},
   "outputs": [
    {
     "name": "stdout",
     "output_type": "stream",
     "text": [
      "Valor actual del capital en el año 1: 9090.909\n",
      "Valor actual del capital en el año 2: 8264.463\n"
     ]
    }
   ],
   "source": [
    "VA_interes_comp(10000,10,2)"
   ]
  },
  {
   "cell_type": "code",
   "execution_count": 5,
   "id": "04d0e33f",
   "metadata": {},
   "outputs": [
    {
     "name": "stdout",
     "output_type": "stream",
     "text": [
      "Valor futuro de la inversión en el año 1: 11000.0\n",
      "Valor futuro de la inversión en el año 2: 12100.0\n"
     ]
    }
   ],
   "source": [
    "VF_interes_comp(10000,10,2)"
   ]
  },
  {
   "cell_type": "markdown",
   "id": "c05b37a2",
   "metadata": {},
   "source": [
    "### Explicación\n",
    "La implementación de las formulas fue sencilla, solo tuve que leer un poco sobre interés compuesto para tener más contexto y conocer el significado de los términos involucrados. Ya teniendo la fórmula programada, hay que agregar un ciclo para imprimir el valor de cada periodo.\n"
   ]
  },
  {
   "cell_type": "markdown",
   "id": "6b99b628",
   "metadata": {},
   "source": [
    "### - Ejercicio 2\n",
    "El archivo cotización.csv (archivo adjunto ) contiene las cotizaciones de empresas con las siguientes columnas: \n",
    "- Nombre (nombre de la empresa), \n",
    "- Final (precio de la acción al cierre de bolsa), \n",
    "- Máximo (precio máximo de la acción durante la jornada), \n",
    "- Mínimo (precio mínimo de la acción durante la jornada), \n",
    "- Volumen (Volumen al cierre de bolsa), \n",
    "- Efectivo (capitalización al cierre en miles de euros).\n",
    "\n",
    "    A. Construir una función reciba el fichero de cotizaciones y devuelva un diccionario con los datos del fichero por columnas (el nombre de la Columna debe ser la llave del diccionario).\n",
    "    \n",
    "    B. Construir una función que reciba el diccionario devuelto por la función anterior y cree un fichero en formato csv con el mínimo, el máximo y la media de cada columna.\n"
   ]
  },
  {
   "cell_type": "code",
   "execution_count": 59,
   "id": "64299883",
   "metadata": {},
   "outputs": [],
   "source": [
    "# Código funcion A\n",
    "import csv\n",
    "folder = 'C:/Users/alejv/Documents/Aletia Bootcamp/semana 2/data/'\n",
    "file_name = 'cotizacion.csv'\n",
    "\n",
    "def cotizacion(folder,file):\n",
    "    with open(folder+file_name,'r') as csvfile:\n",
    "        dict_cotizacion = {}\n",
    "        reader = csv.reader(csvfile, delimiter=',')\n",
    "        columnas = next(reader)\n",
    "        for col in columnas:\n",
    "            dict_cotizacion[col] = []\n",
    "    \n",
    "        for row in reader:\n",
    "            for col, valor in zip(columnas, row):\n",
    "                dict_cotizacion[col].append(valor)\n",
    "    return(dict_cotizacion)\n"
   ]
  },
  {
   "cell_type": "code",
   "execution_count": 81,
   "id": "9776eb14",
   "metadata": {
    "scrolled": false
   },
   "outputs": [],
   "source": [
    "# Funcion B\n",
    "def crear_csv_cotizacion(diccionario, nombre_archivo):\n",
    "    # El siguiente código es para eliminar puntos de la columna Volumen\n",
    "    # en caso de que tenga más de un punto, sigue dejando los valores como string\n",
    "    for i in range(len(dict_cot['Volumen'])):\n",
    "        num = dict_cot['Volumen'][i]\n",
    "        if num.count('.') > 1:\n",
    "            dict_cot['Volumen'][i] = num.replace('.', '', 1)\n",
    "        else:\n",
    "            dict_cot['Volumen'][i] = num\n",
    "            \n",
    "    # Se crea el archivo csv donde se escrbirá       \n",
    "    with open(nombre_archivo+'.csv', 'w', newline='') as archivo:\n",
    "        escritor_csv = csv.writer(archivo)\n",
    "        escritor_csv.writerow(['Columna', 'Mínimo', 'Máximo', 'Media'])\n",
    "        llaves = list(diccionario.keys())\n",
    "        for llave in llaves[1:]:\n",
    "            minimo = min([float(x) for x in dict_cot[llave]])\n",
    "            maximo = max([float(x) for x in dict_cot[llave]])\n",
    "            media = sum([float(x) for x in dict_cot[llave]]) / len([float(x) for x in dict_cot[llave]])\n",
    "            escritor_csv.writerow([llave, minimo, maximo, media])\n",
    "                        "
   ]
  },
  {
   "cell_type": "code",
   "execution_count": 82,
   "id": "c367e456",
   "metadata": {},
   "outputs": [],
   "source": [
    "crear_csv_cotizacion(cotizacion(folder,file_name),'calculos_cot')"
   ]
  },
  {
   "cell_type": "markdown",
   "id": "c13072a6",
   "metadata": {},
   "source": [
    "### Explicación\n",
    "Para el ejercicio A la funcion recibe la direccion de la carpeta donde esta el archivo y el nombre del archivo. Seguido se crea un diccionario vacio, se lee el archivo con un objeto reader y se guarda la primera fila como una variable que contiene el nombre de las columnas. Se usa esta última variable para ponerle los nombres de las llaves al diccionario. Por ultimo queda recorrer el resto de filas añadiendo como valores a la llave correspondiente.\n",
    "\n",
    "En el ejercicio B, me resultó algo complicado y tardado, iniciando por una limpieza en excel que hice sustituyendo comas por puntos. Esta tambien el caso particular de la columna Volumen que en algunos registros tiene más de un punto separando el número, se hizo una seccion de código dentro de la funcion que si ve que hay más de un punto en un número elimina el primer punto que se encontró. \n",
    "Despues hay que crear el archivo y ponerle sus encabezados. Seguido se hace un for que recorre la lista de llave pero saltandose la primera llave (Nombre) ya que en esta se tienen a las compañias y no se llevan a cabo operaciones sobre esta información. En las siguientes lineas se calcula el valor mínimo, máximo y promedio de los valores de la llave en turno y se almacenan cada en una variable separada. Por último se escribe en una fila del csv el nombre de la llave/columna, el minimo, máximo y promedio."
   ]
  },
  {
   "cell_type": "markdown",
   "id": "35795a16",
   "metadata": {},
   "source": [
    "### - Ejercicio 3\n",
    "Escribir un programa para gestionar un listado telefónico con los nombres y los teléfonos de los clientes de una empresa. \n",
    "\n",
    "    A. El programa debe crear el archivo TXT con la lista si no existe\n",
    "    B. El programa debe  tener una función para consultar el teléfono de un cliente e imprimirlo en pantalla.\n",
    "    C. El programa debe  tener una función para  añadir el teléfono de un nuevo cliente al archivo TXT.\n",
    "    D. El programa debe tener una función que permita visualizar todo el listado telefónico\n",
    "    E. El programa debe tener una función que guarde esta lista en un archivo CSV.\n"
   ]
  },
  {
   "cell_type": "code",
   "execution_count": 184,
   "id": "4e14ae5d",
   "metadata": {
    "scrolled": true
   },
   "outputs": [
    {
     "name": "stdout",
     "output_type": "stream",
     "text": [
      "Archivo existente, continuemos.\n",
      "Ingresa el número de la opcion deseada:\n",
      "1. Consultar teléfono de cliente\n",
      "2. Añadir teléfono de cliente\n",
      "3. Ver todo el directorio\n",
      "4. Guardar directorio en CSV.\n",
      "3\n",
      "Nombre, Teléfono\n",
      "\n",
      "Juan,986\n",
      "\n",
      "Lalo,235\n",
      "\n",
      "Adri,231\n",
      "\n"
     ]
    }
   ],
   "source": [
    "\n",
    "folder_3 = 'C:/Users/alejv/Documents/Aletia Bootcamp/semana 2/data/'\n",
    "file_name_3 = 'directorio.txt'\n",
    "\n",
    "\n",
    "import os\n",
    "# Verificación de existencia de archivo\n",
    "existe = os.path.exists(folder_3+file_name_3)\n",
    "\n",
    "if existe == False:\n",
    "    f = open(folder_3+file_name_3, 'w')\n",
    "    f.write('Nombre, Teléfono\\n')\n",
    "    f.close()\n",
    "    print('Archivo creado.')\n",
    "else:\n",
    "    print('Archivo existente, continuemos.')\n",
    "    \n",
    "# Decisión de usuario sobre función a realizar  \n",
    "opcion=int(input('Ingresa el número de la opcion deseada:\\n'+\n",
    "'1. Consultar teléfono de cliente\\n'+\n",
    "'2. Añadir teléfono de cliente\\n'+\n",
    "'3. Ver todo el directorio\\n'+\n",
    "'4. Guardar directorio en CSV.\\n')\n",
    ")    \n",
    "\n",
    "# 1. Consultar teléfono de cliente\n",
    "if opcion == 1:\n",
    "    nombre = input('Escriba el nombre del cliente.\\n').lower()\n",
    "    with open(folder_3+file_name_3,'r') as f:\n",
    "        for line in f:\n",
    "            datos = line.strip().split(',')\n",
    "            if datos[0].lower() == nombre:\n",
    "                print(f'El teléfono de {nombre.capitalize()} es {datos[1]}.')\n",
    "# 2. Añadir teléfono de cliente\n",
    "if opcion == 2:\n",
    "    nombre = input('Escriba el nombre del cliente a añadir: ').lower()\n",
    "    telefono = int(input('Ingrese el teléfono del cliente: '))\n",
    "    with open(folder_3+file_name_3,'a') as f:\n",
    "        f.write(f'{nombre.capitalize()},{telefono}'+'\\n')\n",
    "    print(f\"Cliente {nombre.capitalize()} añadido.\")\n",
    "\n",
    "# 3. Ver todo el directorio    \n",
    "if opcion == 3:\n",
    "    with open(folder_3+file_name_3,'r') as f:\n",
    "        for line in f:\n",
    "            print(line)\n",
    "\n",
    "\n",
    "# Guardar directorio en CSV   \n",
    "import csv\n",
    "if opcion == 4:\n",
    "    nombre_csv = input('Ingrese el nombre deseado del archivo CSV.\\n')+'.csv'\n",
    "    with open(folder_3+file_name_3,'r') as f:\n",
    "        with open(folder_3+nombre_csv,'w') as g:\n",
    "            writer = csv.writer(g)\n",
    "            for line in f:\n",
    "                writer.writerow(line.strip().split(','))\n",
    "    print('Archivo CSV creado.')\n"
   ]
  },
  {
   "cell_type": "markdown",
   "id": "b7883248",
   "metadata": {},
   "source": [
    "### Explicación\n",
    "\n",
    "Al principio me pareció complicado ya que no había comprendido bien el manejo de archivos, después de poder verificar la existencia del archivo y dividir la tarea en 4 subsecciones con cada una de las opciones resulto mas fácil.\n",
    "- 1. Hay que preguntar al cliente el nombre de la persona a consultar, leer el archivo con los datos y separar la linea, el primer elemento es el nombre del cliente y se compara con el nombre ingresado para despues imprimir el telefono.\n",
    "\n",
    "- 2. Aqui es necesario preguntar nombre y telefono del cliente a añadir y abrir el archivo en modo 'a'.\n",
    "\n",
    "- 3. Solo hay que leer el archivo e imprimirlo por lineas.\n",
    "\n",
    "- 4. Hay que solicitar el nombre deseado para el archivo. Se abre el archivo con los datos y sea crea el nuevo archivo donde se depositarán los datos, después se va escribiendo linea por linea.\n"
   ]
  },
  {
   "cell_type": "markdown",
   "id": "c66020e9",
   "metadata": {},
   "source": [
    "### Ejercicio 4\n",
    "El archivo calificaciones.csv (archivo adjunto ) contiene las calificaciones de un curso. Durante el curso se realizaron dos exámenes parciales de teoría y un examen de prácticas. Escribir un programa que contenga las siguientes funciones:\n",
    "\n",
    "    A. Una función que reciba el archivo de calificaciones y devuelva una lista de diccionarios, donde cada diccionario contiene la información de los exámenes y la asistencia de un alumno. La lista tiene que estar ordenada por apellidos.\n",
    "    B. Una función que reciba una lista de diccionarios como la que devuelve la función anterior y añada a cada diccionario una nueva llave con la nota final del curso.  Teniendo en cuenta los siguientes criterios de evaluación \n",
    "        a. Practicas 10 %\n",
    "        b. Practica Final 30% \n",
    "        c. Promedio de Parciales 1 y 2  20%\n",
    "        d. Promedio de Exámenes 1 y 2 40%\n",
    "    C. Una función que reciba una lista de diccionarios como la que devuelve la función anterior y devuelva dos listas, una con los alumnos aprobados y otra con los alumnos suspensos. Para aprobar el curso\n",
    "        a. La asistencia tiene que ser mayor o igual que el 75%\n",
    "        b. La nota final debe ser mayor o igual a 8.0\n"
   ]
  },
  {
   "cell_type": "code",
   "execution_count": 104,
   "id": "3463c472",
   "metadata": {},
   "outputs": [],
   "source": [
    "# A\n",
    "folder_4 = 'data//'\n",
    "file_4 = 'calificaciones.csv'\n",
    "\n",
    "import csv\n",
    "def diccionario_cal(pathfile):\n",
    "    with open(folder_4+file_4) as csvfile:\n",
    "        reader = csv.reader(csvfile, delimiter=\",\")\n",
    "        next(reader, None)\n",
    "        next(reader, None)\n",
    "        lista_calificaciones = []\n",
    "\n",
    "        for row in reader:\n",
    "            alumno = {}\n",
    "            alumno['Apellidos'] = row[0]\n",
    "            alumno['Nombre'] = row[1]\n",
    "            alumno['Asistencia'] = float(row[2].strip('%'))/100\n",
    "            alumno['Parcial1'] = float(row[3])\n",
    "            alumno['Parcial2'] = float(row[4])\n",
    "            alumno['Examen1'] = float(row[5])\n",
    "            alumno['Examen2'] = float(row[6])\n",
    "            alumno['Practicas'] = float(row[7])\n",
    "            alumno['Practica Final'] = float(row[8])\n",
    "            lista_calificaciones.append(alumno)\n",
    "            lista_calificaciones = sorted(lista_calificaciones, key=lambda k: k['Apellidos'])\n",
    "    return lista_calificaciones"
   ]
  },
  {
   "cell_type": "code",
   "execution_count": 130,
   "id": "06a1e928",
   "metadata": {},
   "outputs": [],
   "source": [
    "# B \n",
    "def añadir_nota_final(lis_cal):\n",
    "    for i in range(0,len(lis_cal)):\n",
    "        lis_cal[i]['Nota final']=round((lis_cal[i]['Practicas'] * 0.1 ) + (lis_cal[i]['Practica Final'] * 0.3 ) + ( ((lis_cal[i]['Parcial1'] + lis_cal[i]['Parcial2'])/2) * 0.2 ) + ( ((lis_cal[i]['Examen1'] + lis_cal[i]['Examen2'])/2) * 0.4 ),3)\n",
    "    return lis_cal"
   ]
  },
  {
   "cell_type": "code",
   "execution_count": 180,
   "id": "a9e053b9",
   "metadata": {},
   "outputs": [],
   "source": [
    "# C \n",
    "def lista_final(notas_finales):\n",
    "    aprobados = []\n",
    "    no_aprobados = []\n",
    "    for i in range(0,len(notas_finales)):\n",
    "\n",
    "        if (notas_finales[i]['Asistencia'] >= 0.75 and notas_finales[i]['Nota final'] >= 8) == True:\n",
    "            aprobados.append(notas_finales[i]['Nombre'],notas_finales[i]['Apellidos'])\n",
    "        else:\n",
    "            no_aprobados.append(notas_finales[i]['Nombre']+' '+notas_finales[i]['Apellidos'])\n",
    "    return aprobados, no_aprobados\n",
    "\n",
    "    "
   ]
  },
  {
   "cell_type": "code",
   "execution_count": 181,
   "id": "77c3faee",
   "metadata": {},
   "outputs": [],
   "source": [
    "si, no = lista_final( añadir_nota_final(diccionario_cal(folder_4+file_4)) )"
   ]
  },
  {
   "cell_type": "markdown",
   "id": "767bd08f",
   "metadata": {},
   "source": [
    "### Explicación\n",
    "A. En esta funcion se lee el archivo original, se saltan las primeras dos lineas y crea una lista vacía donde se almacenará el resultado. Después, en un ciclo for se itera sobre las lineas del archivo leído y cada valor se asigna a la llave correspondiente, creando un diccionario por linea/alumno y al final de la iteración se añade dicho diccionario a la lista que contendrá todos los diccionarios.\n",
    "\n",
    "B. Esta funcion recibe una lista de diccionarios y con un ciclo for agrega una nueva llave llamada Nota final y le asigna de valor la nota que se recibe considerando los criterios de evaluación indicados.\n",
    "\n",
    "C. Se recibe como entrada la lista de la función B. Se crea una lista vacia para almacenar los nombres de aprobados y otra para los nombres de los no aprobados. Se comprueba las dos condiciones para aprobación y si se cumplen el nombre del alumno se agrega a la lista de aprobados, de lo contrario se agrega a la lista de no aprobados."
   ]
  }
 ],
 "metadata": {
  "kernelspec": {
   "display_name": "Python 3 (ipykernel)",
   "language": "python",
   "name": "python3"
  },
  "language_info": {
   "codemirror_mode": {
    "name": "ipython",
    "version": 3
   },
   "file_extension": ".py",
   "mimetype": "text/x-python",
   "name": "python",
   "nbconvert_exporter": "python",
   "pygments_lexer": "ipython3",
   "version": "3.11.3"
  }
 },
 "nbformat": 4,
 "nbformat_minor": 5
}
