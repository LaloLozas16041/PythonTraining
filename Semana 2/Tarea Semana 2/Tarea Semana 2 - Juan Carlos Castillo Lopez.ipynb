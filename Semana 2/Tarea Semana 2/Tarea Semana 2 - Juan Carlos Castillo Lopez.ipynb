{
 "cells": [
  {
   "cell_type": "markdown",
   "id": "ea1a43b2",
   "metadata": {},
   "source": [
    "# Tarea Semana 2: FUNDAMENTOS DE PYTHON\n",
    "## Nombre: Juan Carlos Castillo"
   ]
  },
  {
   "cell_type": "markdown",
   "id": "6eb00326",
   "metadata": {},
   "source": [
    "### Ejercicio 1 \n",
    "#### Las matemáticas financieras, resumidas en una frase, las podríamos definir como la rama de las matemáticas que estudia los flujos de dinero a través del tiempo. Básicamente se presupone que el dinero tiene menos valor en el futuro que en el presente, ya sea por un tema inflacionario o por la preferencia natural de las personas a priorizar el consumo presente. <br> El valor futuro es el valor alcanzado por un determinado capital al final del período determinado (para el ejemplo usaremos la fórmula del interés compuesto). Para calcularlo se utiliza la siguiente fórmula\n",
    "### <center> VF=VA* ( 1+i )n </center>\n",
    "\n",
    "#### El valor presente de una inversión es cuando calculamos el valor actual que tendrá una determinada cantidad que recibiremos o pagaremos en un futuro. Para calcularlo se utiliza la siguiente fórmula\n",
    "\n",
    "### <center>VA=VF( 1+i )n </center>\n",
    "\n",
    "#### Donde: \n",
    "### <br> <center> VF = valor futuro, </center> <br><center>VA = valor actual o inicial de la inversión, </center> <br> <center>i = tipo de interés </center><br> <center>n = número de años de la inversión.</center>\n",
    "\n",
    "#### 1.-Crear una función que reciba como entrada un capital, un tipo de interés y un número de años, y muestre por pantalla el valor futuro de la inversión cada año del periodo indicado.\n",
    "#### 2.-Crear una función que reciba como entrada un capital, un tipo de interés y un número de años, y muestre por pantalla el valor actual del capital cada año del periodo indicado."
   ]
  },
  {
   "cell_type": "code",
   "execution_count": null,
   "id": "4421e09f",
   "metadata": {},
   "outputs": [],
   "source": []
  },
  {
   "cell_type": "code",
   "execution_count": 25,
   "id": "37abfd57",
   "metadata": {},
   "outputs": [
    {
     "name": "stdout",
     "output_type": "stream",
     "text": [
      "¿Deseas calcular Valor Futuro o Valor Actual? (VA / VF)va\n",
      "¿Cual es el monto del valor?12\n",
      "¿Cuanto capital vas a invertir?12\n",
      "¿Cual es el interes?12\n",
      "¿Cuantos años durara la inversion?12\n",
      "El valor actual es: 5.150637890158986e-13\n"
     ]
    }
   ],
   "source": [
    "tipo =  input(\"¿Deseas calcular Valor Futuro o Valor Actual? (VA / VF)\")\n",
    "valor = int(input(\"¿Cual es el monto del valor?\"))\n",
    "capital = int(input(\"¿Cuanto capital vas a invertir?\"))\n",
    "interes = int(input(\"¿Cual es el interes?\"))\n",
    "anios  = int(input(\"¿Cuantos años durara la inversion?\"))\n",
    "\n",
    "if tipo.upper() == \"VF\":\n",
    "    VF=valor*(1+interes)*anios\n",
    "    print (\"El valor futuro es:\",VF)\n",
    "elif tipo.upper() == \"VA\":\n",
    "    VA=valor/((1+interes)**anios)\n",
    "    print (\"El valor actual es:\",VA)\n",
    "else:\n",
    "    print(\"Elegiste un tipo de valor no adecuado\")\n",
    "# quit()"
   ]
  },
  {
   "cell_type": "markdown",
   "id": "bb3c7704",
   "metadata": {},
   "source": [
    "#### Los problemas para este ejercicio fueorn:\n",
    "#### Olvido en cuanto a los tipos de datos, ya que python los tomaba como cadenas <br> La sintaxis del if <br> Por ultimo se olvido imprimir el resultado <br> -------------------------------------------------------------------------------------------------------------------------------------------------------------------"
   ]
  },
  {
   "cell_type": "markdown",
   "id": "b11d9ecf",
   "metadata": {},
   "source": [
    "### Ejercicio 2\n",
    "#### El archivo cotización.csv (archivo adjunto ) contiene las cotizaciones de empresas con las siguientes columnas: \n",
    "#### ●\tNombre (nombre de la empresa), <br>●\tFinal (precio de la acción al cierre de bolsa), <br>●\tMáximo (precio máximo de la acción durante la jornada), <br>●\tMínimo (precio mínimo de la acción durante la jornada), <br> ●\tVolumen (Volumen al cierre de bolsa), <br>●\tEfectivo (capitalización al cierre en miles de euros).\n",
    "\n",
    "#### A.\tConstruir una función reciba el fichero de cotizaciones y devuelva un diccionario con los datos del fichero por columnas.\n",
    "#### B.\tConstruir una función que reciba el diccionario devuelto por la función anterior y cree un fichero en formato csv con el mínimo, el máximo y la media de cada columna."
   ]
  },
  {
   "cell_type": "code",
   "execution_count": 83,
   "id": "c6b3ca83",
   "metadata": {},
   "outputs": [
    {
     "name": "stdout",
     "output_type": "stream",
     "text": [
      "Archivo generado\n"
     ]
    }
   ],
   "source": [
    "import csv\n",
    "\n",
    "def Abre_CSV(ruta):\n",
    "    with open(ruta, newline='') as archivo:\n",
    "        lector = csv.reader(archivo,delimiter=\";\")\n",
    "        lineas = list(lector)\n",
    "\n",
    "    Nombres= []\n",
    "    Finales= []\n",
    "    Maximos = []\n",
    "    Minimos = []\n",
    "    Volumenes = []\n",
    "    Efectivos= []\n",
    "    cont = 0\n",
    "\n",
    "    for linea in lineas:\n",
    "        if cont > 0:\n",
    "            Nombres.append(linea[0].replace(\",\",\".\"))\n",
    "            Finales.append(linea[1].replace(\",\",\".\"))\n",
    "            Maximos.append(linea[2].replace(\",\",\".\"))\n",
    "            Minimos.append(linea[3].replace(\",\",\".\"))\n",
    "            Volumenes.append(linea[4].replace(\",\",\".\"))\n",
    "            Efectivos.append(linea[5].replace(\",\",\".\"))\n",
    "        cont = cont + 1\n",
    "\n",
    "    diccionario = dict(Nombre=Nombres,Final=Finales,Máximo=Maximos,Minimo=Minimos,Volumen=Volumenes,Efectivo=Efectivos)\n",
    "    return diccionario\n",
    "\n",
    "def Genera_Archivo(dic):\n",
    "    Min = dic['Minimo']\n",
    "    Max = dic['Máximo']\n",
    "    Med = []\n",
    "\n",
    "    with open(r\"C:\\Users\\juan carlos\\Documents\\Cursos\\Aletia\\Aletia-Python fundamentals\\Semana 2 Python Fundamentals\\csvfile.csv\",'w') as file:\n",
    "        cont= 0\n",
    "        linea = \"Minimo,Maximo,Media\" + \"\\n\"\n",
    "        file.write(linea)\n",
    "        for item in Min:\n",
    "            media = float((float(Min[cont]) + float(Max[cont]))/2)\n",
    "            Med.append(media)\n",
    "            linea = str(Min[cont]) + \",\" + str(Max[cont]) + \",\" + str(Med[cont]) + \"\\n\"\n",
    "            file.write(linea)\n",
    "            cont = cont +1\n",
    "        \n",
    "        \n",
    "dic = Abre_CSV(r\"C:\\Users\\juan carlos\\Documents\\Cursos\\Aletia\\Aletia-Python fundamentals\\Semana 2 Python Fundamentals\\cotizacion.csv\")\n",
    "Genera_Archivo(dic)\n",
    "print(\"Archivo generado\")"
   ]
  },
  {
   "cell_type": "markdown",
   "id": "23833a2a",
   "metadata": {},
   "source": [
    "#### En este ejercicio hubo muchos problemas en cuanto a sintaxis en el codigo a genarar mas que en la logica \n",
    "#### Encontrar el delimitador necesario para ordenar el archivo<br>La sustitucion de comas por decimales para manejar las cantidades correctamente <br>La extracion de los elementos de las listas para utilizar el metodo append() a cada una de las listas que estabamos generando <br> La creacion de la funcion para recpcion de parametros <br>La genaracion de la cadena a agregar al archivo CSV ytambien represneto problemas ya que se inicio convirtiendo a enteros en lugar de flotantes <br> El contador iniciando en cero y con la condicion cont >0 causo problemas ya que al inicio puse cont > 1 <br> -----------------------------------------------------------------------------------------------------------------------------------------------------------------------"
   ]
  },
  {
   "cell_type": "markdown",
   "id": "7d61142f",
   "metadata": {},
   "source": [
    "### Ejercicio 3\n",
    "#### Escribir un programa para gestionar un listado telefónico con los nombres y los teléfonos de los clientes de una empresa. \n",
    "#### A.\tEl programa debe crear el archivo TXT con la lista si no existe <br> B.\tEl programa debe  tener una función para consultar el teléfono de un cliente e imprimirlo en pantalla. <br> C.\tEl programa debe  tener una función para  añadir el teléfono de un nuevo cliente al archivo TXT. <br> D.\tEl programa debe tener una función que permita visualizar todo el listado telefónico <br> E.\tEl programa debe tener una función que guarde esta lista en un archivo CSV.\n"
   ]
  },
  {
   "cell_type": "code",
   "execution_count": 85,
   "id": "715edde5",
   "metadata": {},
   "outputs": [
    {
     "name": "stdout",
     "output_type": "stream",
     "text": [
      "que cliente quieres consultar: HP\n",
      "('el telefono del cliente es:', '444-444')\n",
      "agregar un nuevo cliente y su numero en formato cliente,xxx-xxx: rolex,222-333\n",
      "['Empresa,Telefono,\\n', 'coca-cola,555-555,\\n', 'HP,444-444,\\n', 'intel,333-333,\\n', 'sony,999-999\\n', 'LG,888-888\\n', 'otro,111-111\\n', 'otro,111-111\\n', 'otro,111-111\\n', 'casio,111-222\\n', 'rolex,222-333\\n']\n",
      "archivo CSV generado\n"
     ]
    }
   ],
   "source": [
    "from os.path import exists\n",
    "\n",
    "def consulta(path, cliente):\n",
    "    file = open(path,'r')\n",
    "    contents = file.readlines()\n",
    "    #print(contents)\n",
    "    tel_cliente=\"\"\n",
    "    for line in contents:\n",
    "        data = line.split(\",\")\n",
    "        #print(data)\n",
    "        if data[0]==cliente:\n",
    "            tel_cliente = data[1]\n",
    "            return(\"el telefono del cliente es:\", tel_cliente)\n",
    "            exit()\n",
    "    return (\"Cliente NO localizado\")\n",
    "\n",
    "def addInfo(path,info):\n",
    "    with open(path, \"a\") as file:\n",
    "        file.write(info)\n",
    "\n",
    "def show_info(path):\n",
    "    file = open(path,'r')\n",
    "    contents = file.readlines()\n",
    "    return (contents)\n",
    "\n",
    "def save_in_CSV(path):\n",
    "    with open(path,'w') as file:\n",
    "        for i in data:\n",
    "            info = i.split(\",\")\n",
    "            file.write(info[0] + \",\" + info[1] + \"\\n\")\n",
    "    print(\"archivo CSV generado\")\n",
    "\n",
    "path = r\"C:\\Users\\juan carlos\\Documents\\Cursos\\Aletia\\Aletia-Python fundamentals\\Semana 2 Python Fundamentals\\directorio.txt\"\n",
    "ExistFile = exists(path)\n",
    "\n",
    "if not ExistFile:\n",
    "    with open(path, 'w') as file:\n",
    "        file.write(\"Empresa,Telefono,\" + \"\\n\")\n",
    "        file.write(\"coca-cola,555-555,\" + \"\\n\")\n",
    "        file.write(\"HP,444-444,\" + \"\\n\")\n",
    "        file.write(\"intel,333-333,\" + \"\\n\")\n",
    "\n",
    "cliente = input(\"que cliente quieres consultar: \")\n",
    "print(consulta(path,cliente))\n",
    "\n",
    "new_info = input(\"agregar un nuevo cliente y su numero en formato cliente,xxx-xxx: \")\n",
    "addInfo(path,new_info + \"\\n\")\n",
    "\n",
    "data= show_info(path)\n",
    "print(data)\n",
    "\n",
    "path = r\"C:\\Users\\juan carlos\\Documents\\Cursos\\Aletia\\Aletia-Python fundamentals\\Semana 2 Python Fundamentals\\directorio.csv\"\n",
    "save_in_CSV(path)\n"
   ]
  },
  {
   "cell_type": "markdown",
   "id": "e621d8d2",
   "metadata": {},
   "source": [
    "#### Para este ejercicio los principales problemas furo los siguientes:\n",
    "#### Recorrer el contenido del archivo buscando el cliente ya que no sabiamos almacenar la informacion leida <br> Encontrar el metodo append para agregar informacion al archivo generado <br>Crear el archivo con el salto de linea <br> \n"
   ]
  },
  {
   "cell_type": "code",
   "execution_count": null,
   "id": "5d07c98b",
   "metadata": {},
   "outputs": [],
   "source": []
  }
 ],
 "metadata": {
  "kernelspec": {
   "display_name": "Python 3 (ipykernel)",
   "language": "python",
   "name": "python3"
  },
  "language_info": {
   "codemirror_mode": {
    "name": "ipython",
    "version": 3
   },
   "file_extension": ".py",
   "mimetype": "text/x-python",
   "name": "python",
   "nbconvert_exporter": "python",
   "pygments_lexer": "ipython3",
   "version": "3.9.13"
  }
 },
 "nbformat": 4,
 "nbformat_minor": 5
}
