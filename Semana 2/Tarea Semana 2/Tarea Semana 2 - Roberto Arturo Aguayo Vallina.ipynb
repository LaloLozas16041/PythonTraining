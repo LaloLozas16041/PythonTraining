{
 "cells": [
  {
   "cell_type": "markdown",
   "id": "1e079851",
   "metadata": {},
   "source": [
    "# TAREA SEMANA 2 - FUNDAMENTOS DE PYTHON \n",
    "# ROBERTO ARTURO AGUAYO VALLINA"
   ]
  },
  {
   "cell_type": "markdown",
   "id": "20ab2321",
   "metadata": {},
   "source": [
    "Ejercicio 1: Crear una función que reciba como entrada un capital, un tipo de interés y un número de años, y muestre por pantalla el valor futuro de la inversión cada año del periodo indicado.\n",
    "Crear una función que reciba como entrada un capital, un tipo de interés y un número de años, y muestre por pantalla el valor actual del capital cada año del periodo indicado."
   ]
  },
  {
   "cell_type": "code",
   "execution_count": 9,
   "id": "242fe100",
   "metadata": {},
   "outputs": [
    {
     "name": "stdout",
     "output_type": "stream",
     "text": [
      "146.93280768000005\n"
     ]
    }
   ],
   "source": [
    "def valor_futuro(valor_pres, tasa_int, num_anios): \n",
    "    return valor_pres * (1 + tasa_int) ** num_anios\n",
    "\n",
    "print(valor_futuro(valor_pres = 100, tasa_int = 0.08, num_anios = 5))"
   ]
  },
  {
   "cell_type": "code",
   "execution_count": 10,
   "id": "83ac1053",
   "metadata": {},
   "outputs": [
    {
     "name": "stdout",
     "output_type": "stream",
     "text": [
      "68.05831970337529\n"
     ]
    }
   ],
   "source": [
    "def valor_pres(valor_futuro, tasa_int, num_anios):\n",
    "    return valor_futuro / (1 + tasa_int) ** num_anios\n",
    "\n",
    "print(valor_pres(valor_futuro=100, tasa_int=0.08, num_anios=5))"
   ]
  },
  {
   "cell_type": "markdown",
   "id": "f6f283aa",
   "metadata": {},
   "source": [
    "Explicación: La línea con el return me marcaba error, cambiaba y corría hasta que dí con que debía quitar los dos puntos al final de num_anios.\n",
    "Luego puse los valores para cada variable por separado abajo del return pero luego se me ocurrió meterlos adentro del print para\n",
    "que no se viera tan largo."
   ]
  },
  {
   "cell_type": "markdown",
   "id": "a5284f18",
   "metadata": {},
   "source": [
    "Ejercicio 2: Construir una función reciba el fichero de cotizaciones y devuelva un diccionario con los datos del fichero por columnas.\n",
    "Construir una función que reciba el diccionario devuelto por la función anterior y cree un fichero en formato csv con el mínimo, el máximo y la media de cada columna.\n"
   ]
  },
  {
   "cell_type": "code",
   "execution_count": 16,
   "id": "3ad587e8",
   "metadata": {},
   "outputs": [
    {
     "name": "stdout",
     "output_type": "stream",
     "text": [
      "['Nombre', 'Final', 'MÃ¡ximo', 'MÃ\\xadnimo', 'Volumen', 'Efectivo']\n",
      "['ACCIONA', '95,95', '96,75', '94,4', '84.962', '8166,11']\n",
      "['ACERINOX', '8668', '8672', '8468', '885.99', '7633,81']\n",
      "['ACS', '37,28', '37,66', '37,22', '655.982', '24517,29']\n",
      "['AENA', '167,1', '167,5', '166,1', '133.738', '22336,10']\n",
      "['AMADEUS', '69,96', '70,64', '69,56', '640.476', '44795,47']\n",
      "['ARCELORMIT.', '14152', '14318', '14,08', '702.841', '9989,65']\n",
      "['BA.SABADELL', '1,0165', '1033', '1,0165', '12.358.512', '12637,65']\n",
      "['BA.SANTANDER', '4,02', '4,0675', '4,01', '36.129.692', '145765,44']\n",
      "['BANKIA', '2249', '2262', '2224', '3.024.454', '6803,54']\n",
      "['BANKINTER', '6,56', '6604', '6522', '1.375.976', '9030,20']\n",
      "['BBVA', '5024', '5,05', '4969', '26.447.612', '132560,15']\n",
      "['CAIXABANK', '2763', '2806', '2762', '13.031.097', '36239,22']\n",
      "['CELLNEX', '30,17', '30,7', '30,17', '857.237', '25965,29']\n",
      "['CIE AUTOMOT.', '23,44', '23,74', '23,4', '99.506', '2343,09']\n",
      "['ENAGAS', '25,6', '25,66', '25,07', '842.54', '21524,77']\n",
      "['ENCE', '3882', '3974', '3846', '2.099.698', '8219,83']\n",
      "['ENDESA', '22,95', '23,03', '22,62', '1.236.799', '28233,46']\n",
      "['FERROVIAL', '21,61', '21,72', '21,38', '2.065.931', '44656,05']\n",
      "['GRIFOLS CL.A', '23,3', '23,6', '23,27', '719.503', '16787,55']\n",
      "['IAG', '5,3', '5,46', '5292', '2.155.081', '11561,95']\n",
      "['IBERDROLA', '8,45', '8,45', '8262', '15.637.958', '131426,05']\n",
      "['INDITEX', '24,93', '25,19', '24,87', '2.600.144', '65012,92']\n",
      "['INDRA A', '9,56', '9685', '9535', '392.06', '3755,57']\n",
      "['INM.COLONIAL', '9915', '9915', '9745', '671.753', '6640,38']\n",
      "['MAPFRE', '2654', '2654', '2,62', '3.045.972', '8063,13']\n",
      "['MEDIASET', '6446', '6592', '6446', '2.647.557', '17277,04']\n",
      "['MELIA HOTELS', '8,14', '8,19', '8,02', '480.21', '3914,93']\n",
      "['MERLIN', '12,08', '12,08', '11,83', '777.543', '9357,77']\n",
      "['NATURGY', '26,7', '26,77', '26,53', '2.100.737', '55986,54']\n",
      "['R.E.C.', '19705', '19875', '19675', '1.246.171', '24585,33']\n",
      "['REPSOL', '14515', '14605', '14,46', '5.046.648', '73333,78']\n",
      "['SIEMENS GAME', '14,33', '14,39', '14155', '1.054.847', '15084,56']\n",
      "['TEC.REUNIDAS', '23', '23,2', '22,78', '122.1', '2807,19']\n",
      "['TELEFONICA', '7204', '7256', '7185', '9.913.249', '71564,99']\n",
      "['VISCOFAN', '48,46', '49,12', '48,46', '67.71', '3295,43']\n"
     ]
    }
   ],
   "source": [
    "import csv\n",
    "filename = \"cotizacion.csv\"\n",
    "with open(filename, newline=\"\") as csvfile:\n",
    "    reader = csv.reader(csvfile, delimiter=\";\")\n",
    "    for column in reader:\n",
    "        print(column)\n"
   ]
  },
  {
   "cell_type": "code",
   "execution_count": null,
   "id": "f21b63a2",
   "metadata": {},
   "outputs": [],
   "source": [
    "def dict_columnas(ruta):\n",
    "    f = open(ruta, 'r')\n",
    "       \n",
    "    lineas = f.readlines()\n",
    "    f.close()\n",
    "    claves = lineas [0]\n",
    "    claves = claves[:-1].split(';')\n",
    "    \n",
    "    cotizacion = {}\n",
    "    for i in claves:\n",
    "        cotizacion[i] = []\n",
    "        for linea in lines[1:]:\n",
    "            linea = linea[:-1].split(';')\n",
    "            cotizacion[claves[0]].append(linea[0])\n",
    "            for i in range(1, len(cotizacion)):\n",
    "                cotizacion[claves[i]].append(limpiar(linea[i]))\n",
    "    return cotizacion\n",
    "    "
   ]
  },
  {
   "cell_type": "markdown",
   "id": "1dda7322",
   "metadata": {},
   "source": [
    "Explicación: Batallé en armar la lógica para que me regresara en columnas, adicionalmente por alguna razón no me corre el código\n",
    "    si está bien o mal."
   ]
  },
  {
   "cell_type": "markdown",
   "id": "48d1cc3c",
   "metadata": {},
   "source": [
    "Ejercicio 3: Escribir un programa para gestionar un listado telefónico con los nombres y los teléfonos de los clientes de una empresa. \n",
    "El programa debe crear el archivo TXT con la lista si no existe\n",
    "El programa debe  tener una función para consultar el teléfono de un cliente e imprimirlo en pantalla.\n",
    "El programa debe  tener una función para  añadir el teléfono de un nuevo cliente al archivo TXT.\n",
    "El programa debe tener una función que permita visualizar todo el listado telefónico\n",
    "El programa debe tener una función que guarde esta lista en un archivo CSV.\n"
   ]
  },
  {
   "cell_type": "code",
   "execution_count": 4,
   "id": "de65ddca",
   "metadata": {},
   "outputs": [],
   "source": [
    "def crear_archivo():\n",
    "    if not path.exists(\"listado_telefonico.txt\"):\n",
    "        with open(\"listado_telefonico.txt\", \"w\") as archivo:\n",
    "            archivo.write(\"Nombre, Telefono\\n\")\n",
    "            print(\"¡Listado creado!\")\n",
    "    else:\n",
    "        print(\"El listado telefonico ya existe\")"
   ]
  },
  {
   "cell_type": "code",
   "execution_count": null,
   "id": "28be18f9",
   "metadata": {},
   "outputs": [],
   "source": [
    "def consultar_telefono(nombre):\n",
    "    with open(\"listado_telefonico.txt\", \"r\") as archivo:\n",
    "        for linea in archivo:\n",
    "            campos = linea.strip().split(\", \")\n",
    "            if campos[0].lower() == nombre.lower():\n",
    "                print(\"El teléfono de {} es {}\".format(campos[0], campos[1]))\n",
    "                return\n",
    "        print(\"No se encontró el nombre en la lista.\")"
   ]
  },
  {
   "cell_type": "code",
   "execution_count": null,
   "id": "e5759a9d",
   "metadata": {},
   "outputs": [],
   "source": [
    "def agregar_cliente(nombre, telefono):\n",
    "    with open(\"listado_telefonico.txt\", \"a\") as archivo:\n",
    "        archivo.write(nombre + \", \" + telefono + \"\\n\")\n",
    "    print(\"El cliente ha sido agregado!\")"
   ]
  },
  {
   "cell_type": "code",
   "execution_count": null,
   "id": "927f8922",
   "metadata": {},
   "outputs": [],
   "source": [
    "def mostrar_listado():\n",
    "    with open(\"listado_telefonico.txt\", \"r\") as archivo:\n",
    "        for linea in archivo:\n",
    "            print(linea.strip())"
   ]
  },
  {
   "cell_type": "code",
   "execution_count": null,
   "id": "49a9d8c4",
   "metadata": {},
   "outputs": [],
   "source": [
    "def guardar_csv():\n",
    "    with open(\"listado_telefonico.txt\", \"r\") as archivo_txt, open(\"listado_telefonico.csv\", \"w\", newline='') as archivo_csv:\n",
    "        csv_writer = csv.writer(archivo_csv)\n",
    "        for linea in archivo_txt:\n",
    "            campos = linea.strip().split(\", \")\n",
    "            csv_writer.writerow(campos)\n",
    "    print(\"La lista ha sido guardada en formato CSV!\")"
   ]
  },
  {
   "cell_type": "code",
   "execution_count": 7,
   "id": "79eeec1c",
   "metadata": {},
   "outputs": [
    {
     "name": "stdout",
     "output_type": "stream",
     "text": [
      "\n",
      "--- MENÚ ---\n",
      "1. Consultar telefono\n",
      "2. Agregar cliente\n",
      "3. Mostrar listado\n",
      "4. Guardar como CSV\n",
      "5. Salir\n",
      "Ingrese la opcion deseada: 1\n",
      "Ingrese el nombre del cliente: Arturo\n"
     ]
    },
    {
     "ename": "NameError",
     "evalue": "name 'consultar_telefono' is not defined",
     "output_type": "error",
     "traceback": [
      "\u001b[1;31m---------------------------------------------------------------------------\u001b[0m",
      "\u001b[1;31mNameError\u001b[0m                                 Traceback (most recent call last)",
      "Cell \u001b[1;32mIn[7], line 15\u001b[0m\n\u001b[0;32m     13\u001b[0m \u001b[38;5;28;01mif\u001b[39;00m opcion \u001b[38;5;241m==\u001b[39m \u001b[38;5;124m\"\u001b[39m\u001b[38;5;124m1\u001b[39m\u001b[38;5;124m\"\u001b[39m:\n\u001b[0;32m     14\u001b[0m     nombre \u001b[38;5;241m=\u001b[39m \u001b[38;5;28minput\u001b[39m(\u001b[38;5;124m\"\u001b[39m\u001b[38;5;124mIngrese el nombre del cliente: \u001b[39m\u001b[38;5;124m\"\u001b[39m)\n\u001b[1;32m---> 15\u001b[0m     \u001b[43mconsultar_telefono\u001b[49m(nombre)\n\u001b[0;32m     16\u001b[0m \u001b[38;5;28;01melif\u001b[39;00m opcion \u001b[38;5;241m==\u001b[39m \u001b[38;5;124m\"\u001b[39m\u001b[38;5;124m2\u001b[39m\u001b[38;5;124m\"\u001b[39m:\n\u001b[0;32m     17\u001b[0m     nombre \u001b[38;5;241m=\u001b[39m \u001b[38;5;28minput\u001b[39m(\u001b[38;5;124m\"\u001b[39m\u001b[38;5;124mIngrese el nombre del nuevo cliente: \u001b[39m\u001b[38;5;124m\"\u001b[39m)\n",
      "\u001b[1;31mNameError\u001b[0m: name 'consultar_telefono' is not defined"
     ]
    }
   ],
   "source": [
    "def menu():\n",
    "    print(\"\\n--- MENÚ ---\")\n",
    "    print(\"1. Consultar telefono\")\n",
    "    print(\"2. Agregar cliente\")\n",
    "    print(\"3. Mostrar listado\")\n",
    "    print(\"4. Guardar como CSV\")\n",
    "    print(\"5. Salir\")\n",
    "    opcion = input(\"Ingrese la opcion deseada: \")\n",
    "    return opcion\n",
    "\n",
    "while True:\n",
    "    opcion = menu()\n",
    "    if opcion == \"1\":\n",
    "        nombre = input(\"Ingrese el nombre del cliente: \")\n",
    "        consultar_telefono(nombre)\n",
    "    elif opcion == \"2\":\n",
    "        nombre = input(\"Ingrese el nombre del nuevo cliente: \")\n",
    "        telefono = input(\"Ingrese el teléfono del nuevo cliente: \")\n",
    "        agregar_cliente(nombre, telefono)\n",
    "    elif opcion == \"3\":\n",
    "        mostrar_listado()\n",
    "    elif opcion == \"4\":\n",
    "        guardar_csv()\n",
    "    elif opcion == \"5\":\n",
    "        print(\"¡Hasta luego!\")\n",
    "        break\n",
    "    else:\n",
    "        print(\"Opción no valida.\")"
   ]
  },
  {
   "cell_type": "markdown",
   "id": "187eccc1",
   "metadata": {},
   "source": [
    "Explicación: Usé el cuerpo de código de una función simple para indicar la creación del archivo .txt, después otras concilos for para\n",
    "    el listado, el cliente y el guardado. El input para ingresar las opciones del menú que deben desplegarse con prints. Para cada input hay\n",
    "    un if para condicionar lo que debe arrojar el programa."
   ]
  },
  {
   "cell_type": "markdown",
   "id": "f83b8909",
   "metadata": {},
   "source": [
    "Ejercicio 4: Una función que reciba el archivo de calificaciones y devuelva una lista de diccionarios, donde cada diccionario contiene la información de los exámenes y la asistencia de un alumno. La lista tiene que estar ordenada por apellidos.\n",
    "Una función que reciba una lista de diccionarios como la que devuelve la función anterior y añada a cada diccionario una nueva llave con la nota final del curso.  Teniendo en cuenta los siguientes criterios de evaluación \n",
    "Practicas 10 %\n",
    "Practica Final 30% \n",
    "Promedio de Parciales 1 y 2  20%\n",
    "Promedio de Exámenes 1 y 2 40%\n",
    "Una función que reciba una lista de diccionarios como la que devuelve la función anterior y devuelva dos listas, una con los alumnos aprobados y otra con los alumnos reprobados. Para aprobar el curso toma en cuenta lo siguiente : \n",
    "La asistencia tiene que ser mayor o igual que el 75%\n",
    "La nota final debe ser mayor o igual a 8.0\n"
   ]
  },
  {
   "cell_type": "code",
   "execution_count": null,
   "id": "0c53c648",
   "metadata": {},
   "outputs": [],
   "source": [
    "import csv\n",
    "filename = \"calificaciones.csv\"\n",
    "with open(filename, newline=\"\") as csvfile:\n",
    "    reader = csv.reader(csvfile, delimiter=\";\")\n",
    "    for column in reader:\n",
    "        print(column)"
   ]
  },
  {
   "cell_type": "code",
   "execution_count": null,
   "id": "66b1e55c",
   "metadata": {},
   "outputs": [],
   "source": [
    "calificaciones = leer_calificaciones(\"calificaciones.csv\")\n",
    "def leer_calificaciones(archivo):\n",
    "    with open(archivo, \"r\") as f:\n",
    "        lineas = f.readlines()\n",
    "        encabezado = lineas.pop(0)\n",
    "        \n",
    "        datos = []\n",
    "    \n",
    "        for linea in lineas:\n",
    "            campos = linea.strip().split(\",\")\n",
    "            \n",
    "            alumno = {\n",
    "                \"Apellidos\": campos[0],\n",
    "                \"Nombre\": campos[1],\n",
    "                \"Asistencia\": campos[2],\n",
    "                \"Parcial1\": float(campos[3]),\n",
    "                \"Parcial2\": float(campos[4]),\n",
    "                \"Examen1\": float(campos[5]),\n",
    "                \"Examen2\": float(campos[6]),\n",
    "                \"Practicas\": float(campos[4]),\n",
    "                \"Practica_Final\": int(campos[5])\n",
    "            }\n",
    "            \n",
    "            datos.append(alumno)\n",
    "            datos = sorted(datos, key=lambda x: x[\"apellido\"])\n",
    "            return datos"
   ]
  },
  {
   "cell_type": "code",
   "execution_count": null,
   "id": "da645eac",
   "metadata": {},
   "outputs": [],
   "source": [
    "calificaciones = leer_calificaciones(\"calificaciones.csv\")\n",
    "calcular_nota_final(calificaciones)\n",
    "\n",
    "def calcular_nota_final(datos):\n",
    "    for alumno in datos:\n",
    "        \n",
    "        nota_practicas = alumno[\"Practicas\"] * 0.1\n",
    "        nota_pf = alumno[\"Practica_Final\"] * 0.3\n",
    "        nota_pp = (alumno[\"Parcial1\"] + alumno[\"Parcial2\"]) / 2 * 0.2\n",
    "        nota_pe = (alumno[\"Examen1\"] + alumno[\"Examen2\"]) / 2 * 0.4\n",
    "        nota_final = nota_practicas + nota_pf + nota_pp + nota_pe\n",
    "        \n",
    "        alumno[\"nota_final\"] = nota_final\n",
    "        for alumno in calificaciones:\n",
    "    print(alumno[\"apellido\"], alumno[\"nombre\"], alumno[\"nota_final\"])"
   ]
  },
  {
   "cell_type": "code",
   "execution_count": null,
   "id": "c8cd1731",
   "metadata": {},
   "outputs": [],
   "source": [
    "calificaciones = leer_calificaciones(\"calificaciones.csv\")\n",
    "calcular_nota_final(calificaciones)\n",
    "aprobados, reprobados = clasificar_alumnos(calificaciones)\n",
    "def clasificar_alumnos(datos):\n",
    "    aprobados = []\n",
    "    reprobados = []\n",
    "    for alumno in datos:\n",
    "        if alumno[\"asistencia\"] >= 0.75 and alumno[\"nota_final\"] >= 8.0:\n",
    "            aprobados.append(alumno)\n",
    "        else:\n",
    "            reprobados.append(alumno)\n",
    "    return aprobados, reprobados"
   ]
  },
  {
   "cell_type": "markdown",
   "id": "151a3f27",
   "metadata": {},
   "source": [
    "Explicación: Batallé de nuevo porque  no me corre el código la selección de salta a la siguiente celda si lo intento.\n",
    "    Quise que se leyera el archivo CSV en la misma celda denominando variables para cada columna con las operaciones dentro de un for."
   ]
  }
 ],
 "metadata": {
  "kernelspec": {
   "display_name": "Python 3 (ipykernel)",
   "language": "python",
   "name": "python3"
  },
  "language_info": {
   "codemirror_mode": {
    "name": "ipython",
    "version": 3
   },
   "file_extension": ".py",
   "mimetype": "text/x-python",
   "name": "python",
   "nbconvert_exporter": "python",
   "pygments_lexer": "ipython3",
   "version": "3.10.9"
  }
 },
 "nbformat": 4,
 "nbformat_minor": 5
}
