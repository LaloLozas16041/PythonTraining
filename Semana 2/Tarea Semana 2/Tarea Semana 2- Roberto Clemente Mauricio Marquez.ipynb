{
 "cells": [
  {
   "cell_type": "markdown",
   "id": "4efe6595",
   "metadata": {},
   "source": [
    "# TAREA SEMANA 2: FUNDAMENTOS DE PYTHON\n",
    "\n",
    "## Nombre: Roberto Clemente Mauricio Márquez"
   ]
  },
  {
   "cell_type": "markdown",
   "id": "cb2791b9",
   "metadata": {},
   "source": [
    "### Ejercicio 1\n",
    "\n",
    "Las matemáticas financieras, resumidas en una frase, las podríamos definir como la rama de\n",
    "las matemáticas que estudia los flujos de dinero a través del tiempo. Básicamente se\n",
    "presupone que el dinero tiene menos valor en el futuro que en el presente, ya sea por un tema\n",
    "inflacionario o por la preferencia natural de las personas a priorizar el consumo presente.\n",
    "El valor futuro es el valor alcanzado por un determinado capital al final del período determinado\n",
    "(para el ejemplo usaremos la fórmula del interés compuesto). Para calcularlo se utiliza la\n",
    "siguiente fórmula\n",
    "\n",
    "𝑉𝐹 = 𝑉𝐴 * ( 1 + 𝑖 )𝑛\n",
    "\n",
    "El valor presente de una inversión es cuando calculamos el valor actual que tendrá una\n",
    "determinada cantidad que recibiremos o pagaremos en un futuro. Para calcularlo se utiliza la\n",
    "siguiente fórmula\n",
    "\n",
    "𝑉𝐴 = 𝑉𝐹 / ( 1+𝑖 )𝑛\n",
    "\n",
    "Donde\n",
    "● VF es el valor futuro,\n",
    "\n",
    "● VA es el valor actual o inicial de la inversión,\n",
    "\n",
    "● i es el tipo de interés y\n",
    "\n",
    "● n es número de años de la inversión.\n",
    "\n",
    "A. Crear una función que reciba como entrada un capital, un tipo de interés y un número\n",
    "de años, y muestre por pantalla el valor futuro de la inversión cada año del periodo\n",
    "indicado.\n",
    "B. Crear una función que reciba como entrada un capital, un tipo de interés y un número\n",
    "de años, y muestre por pantalla el valor actual del capital cada año del periodo indicado."
   ]
  },
  {
   "cell_type": "code",
   "execution_count": 73,
   "id": "97ae5e93",
   "metadata": {
    "scrolled": true
   },
   "outputs": [
    {
     "name": "stdout",
     "output_type": "stream",
     "text": [
      "Cual es el capital:$ 100\n",
      "Cual es la tasa de interes:% 5\n",
      "Cual es el numero de años: 3\n",
      "Año: 1 Saldo:$ 105.0\n",
      "Año: 2 Saldo:$ 110.25\n",
      "Año: 3 Saldo:$ 115.76250000000002\n",
      "---------------------------------\n",
      "Año Actual: 1 Saldo:$ 95.23809523809524\n",
      "Año Actual: 2 Saldo:$ 90.70294784580499\n",
      "Año Actual: 3 Saldo:$ 86.3837598531476\n"
     ]
    }
   ],
   "source": [
    "# A: vf = va * ( 1 + i )n\n",
    "def cada_año(a,b,c):    \n",
    "    for x in range(1,c+1):\n",
    "        vf = (a * ((1+b/100)**x))\n",
    "        print(\"Año:\",x,\"Saldo:$\",vf)\n",
    "        \n",
    "# B: va = vf / ( 1+i )n\n",
    "def debe_año(d,e,f):\n",
    "    for y in range(1,f+1):\n",
    "        va = (d / ((1+e/100)**y))\n",
    "        print(\"Año Actual:\",y,\"Saldo:$\",va)\n",
    "        \n",
    "capital = int(input('Cual es el capital:$ '))\n",
    "i = float(input('Cual es la tasa de interes:% '))\n",
    "n = int(input('Cual es el numero de años: '))\n",
    "\n",
    "cada_año(capital,i,n)\n",
    "print(\"---------------------------------\")\n",
    "debe_año(capital,i,n)"
   ]
  },
  {
   "cell_type": "code",
   "execution_count": null,
   "id": "2f590424",
   "metadata": {},
   "outputs": [],
   "source": []
  },
  {
   "cell_type": "markdown",
   "id": "331c0d9d",
   "metadata": {},
   "source": [
    "#### Explicación\n",
    "Primero tome los datos de entrada y despues de investigar lo del calculo del interes compuesto realice las funciones, y por ultimo desplegar los calculos por año"
   ]
  },
  {
   "cell_type": "code",
   "execution_count": null,
   "id": "d0afe6a9",
   "metadata": {},
   "outputs": [],
   "source": []
  },
  {
   "cell_type": "markdown",
   "id": "e2f10ce0",
   "metadata": {},
   "source": [
    "### Ejercicio 2\n",
    "El archivo cotización.csv (archivo adjunto ) contiene las cotizaciones de empresas con las\n",
    "siguientes columnas:\n",
    "\n",
    "● Nombre (nombre de la empresa),\n",
    "\n",
    "● Final (precio de la acción al cierre de bolsa),\n",
    "\n",
    "● Máximo (precio máximo de la acción durante la jornada),\n",
    "\n",
    "● Mínimo (precio mínimo de la acción durante la jornada),\n",
    "\n",
    "● Volumen (Volumen al cierre de bolsa),\n",
    "\n",
    "● Efectivo (capitalización al cierre en miles de euros).\n",
    "\n",
    "A. Construir una función reciba el fichero de cotizaciones y devuelva un diccionario con los\n",
    "datos del fichero por columnas.\n",
    "\n",
    "B. Construir una función que reciba el diccionario devuelto por la función anterior y cree un\n",
    "fichero en formato csv con el mínimo, el máximo y la media de cada columna."
   ]
  },
  {
   "cell_type": "code",
   "execution_count": null,
   "id": "52f7d3ab",
   "metadata": {
    "scrolled": true
   },
   "outputs": [],
   "source": [
    "import csv\n",
    "\n",
    "def convertira_diccionario(archivo):\n",
    "    #cambiar comas y puntos ypuntos a comas\n",
    "    text = open(archivo, \"r\")\n",
    "    text = ''.join([i for i in text]) \n",
    "    text = text.replace(\".\", \"-\")\n",
    "    text = text.replace(\",\", \".\")\n",
    "    text = text.replace(\"-\", \"\")\n",
    "    x = open(\"output.csv\",\"w\")\n",
    "    x.writelines(text)\n",
    "    x.close()\n",
    "    with open(\"output.csv\", encoding=\"utf-8\") as csvfile:\n",
    "        reader = csv.reader(csvfile, delimiter=\";\")\n",
    "        next(reader)\n",
    "        nombre = []\n",
    "        final = []\n",
    "        maximo = []\n",
    "        minimo = []\n",
    "        volumen = []\n",
    "        efectivo = []\n",
    "    #almacenar las listas de cada llave para vaciar despues\n",
    "        for linea in reader:\n",
    "            nombre.append(linea[0]) \n",
    "            final.append(float(linea[1]))\n",
    "            maximo.append(float(linea[2]))\n",
    "            minimo.append(float(linea[3]))\n",
    "            volumen.append(float(linea[4]))\n",
    "            efectivo.append(float(linea[5]))\n",
    "    #llenar el Diccionario        \n",
    "    acciones = { \"nombre\": nombre,\n",
    "                 \"final\": final,\n",
    "                 \"maximo\": maximo,\n",
    "                 \"minimo\": minimo,\n",
    "                 \"volumen\": volumen,\n",
    "                 \"efectivo\": efectivo }\n",
    "    return acciones\n",
    "    \n",
    "import numpy\n",
    "def max_min_prom(diccionario):\n",
    "    datos = diccionario\n",
    "    promedio = numpy.average(datos)\n",
    "    maximo = numpy.max(datos)\n",
    "    minimo = numpy.min(datos)\n",
    "    return promedio, maximo, minimo\n",
    "\n",
    "def crear_csv():\n",
    "    with open('estadistica_cotizacion.csv', 'w' , newline='',encoding=\"utf-8\") as file:\n",
    "        writer = csv.writer(file, delimiter=';', quotechar='\"', quoting=csv.QUOTE_NONNUMERIC)\n",
    "        writer.writerow(['Estadistica','Promedio', 'Maximo', 'Minimo'])\n",
    "        est_final = max_min_prom (acciones['final'])\n",
    "        writer.writerow(['Final', est_final[0], est_final[1], est_final[2]])\n",
    "        est_maximo = max_min_prom (acciones['maximo'])\n",
    "        writer.writerow(['Maximo', est_maximo[0], est_maximo[1], est_maximo[2]])  \n",
    "        est_minimo = max_min_prom (acciones['minimo'])\n",
    "        writer.writerow(['Minimo', est_minimo[0], est_minimo[1], est_minimo[2]]) \n",
    "        est_volumen = max_min_prom (acciones['volumen'])\n",
    "        writer.writerow(['Volumen', est_volumen[0], est_volumen[1], est_volumen[2]]) \n",
    "        est_efectivo = max_min_prom (acciones['efectivo'])\n",
    "        writer.writerow(['Efectivo', est_efectivo[0], est_efectivo[1], est_efectivo[2]])  \n",
    "\n",
    "acciones = convertira_diccionario (\"cotizacion.csv\")\n",
    "print(type(acciones))\n",
    "print(acciones)\n",
    "crear_csv()\n"
   ]
  },
  {
   "cell_type": "markdown",
   "id": "3d4ed67d",
   "metadata": {},
   "source": [
    "#### Explicación\n",
    "Desarrolle el programa  con el problema inicial que fue el como asignar varios valores a una llave en un diccionario\n",
    "mi teacher me ayudo con iniciar el almacenamiento en una lista primero de los valores de cada llave y luego asignarselos en el diccionario a cada llave, posteriormente invertigue como usar Numpy para los calculos estadisticos, despues cree una funcion para los calculos y finalmente otra funcion para crear el archivo CSV, con los resultados de los calculos"
   ]
  },
  {
   "cell_type": "markdown",
   "id": "3d5a1029",
   "metadata": {},
   "source": [
    "### Ejercicio 3\n",
    "\n",
    "Escribir un programa para gestionar un listado telefónico con los nombres y los teléfonos de los\n",
    "clientes de una empresa.\n",
    "\n",
    "A. El programa debe crear el archivo TXT con la lista si no existe\n",
    "\n",
    "B. El programa debe tener una función para consultar el teléfono de un cliente e imprimirlo\n",
    "en pantalla.\n",
    "\n",
    "C. El programa debe tener una función para añadir el teléfono de un nuevo cliente al\n",
    "archivo TXT.\n",
    "\n",
    "D. El programa debe tener una función que permita visualizar todo el listado telefónico\n",
    "\n",
    "E. El programa debe tener una función que guarde esta lista en un archivo CSV."
   ]
  },
  {
   "cell_type": "code",
   "execution_count": null,
   "id": "0f320cb4",
   "metadata": {
    "scrolled": true
   },
   "outputs": [],
   "source": [
    "#Desarrollo de programa"
   ]
  },
  {
   "cell_type": "markdown",
   "id": "1e5d8f64",
   "metadata": {},
   "source": [
    "#### Explicación\n"
   ]
  },
  {
   "cell_type": "code",
   "execution_count": null,
   "id": "75bd673f",
   "metadata": {},
   "outputs": [],
   "source": []
  },
  {
   "cell_type": "markdown",
   "id": "795c007d",
   "metadata": {},
   "source": [
    "### Ejercicio 4\n",
    "\n",
    "El archivo calificaciones.csv (archivo adjunto ) contiene las calificaciones de un curso.\n",
    "Durante el curso se realizaron dos exámenes parciales de teoría y un examen de prácticas.\n",
    "Escribir un programa que contenga las siguientes funciones:\n",
    "A. Una función que reciba el archivo de calificaciones y devuelva una lista de diccionarios,\n",
    "donde cada diccionario contiene la información de los exámenes y la asistencia de un\n",
    "alumno. La lista tiene que estar ordenada por apellidos.\n",
    "\n",
    "B. Una función que reciba una lista de diccionarios como la que devuelve la función\n",
    "anterior y añada a cada diccionario una nueva llave con la nota final del curso.\n",
    "Teniendo en cuenta los siguientes criterios de evaluación\n",
    "\n",
    "a. Practicas 10 %\n",
    "\n",
    "b. Practica Final 30%\n",
    "\n",
    "c. Promedio de Parciales 1 y 2 20%\n",
    "\n",
    "d. Promedio de Exámenes 1 y 2 40%\n",
    "\n",
    "C. Una función que reciba una lista de diccionarios como la que devuelve la función\n",
    "anterior y devuelva dos listas, una con los alumnos aprobados y otra con los alumnos\n",
    "suspensos. Para aprobar el curso\n",
    "\n",
    "a. La asistencia tiene que ser mayor o igual que el 75%\n",
    "\n",
    "b. La nota final debe ser mayor o igual a 8.0"
   ]
  },
  {
   "cell_type": "code",
   "execution_count": null,
   "id": "631699df",
   "metadata": {
    "scrolled": true
   },
   "outputs": [],
   "source": [
    "#Desarrollo de programa"
   ]
  },
  {
   "cell_type": "markdown",
   "id": "11fcb4e7",
   "metadata": {},
   "source": [
    "#### Explicación\n"
   ]
  },
  {
   "cell_type": "code",
   "execution_count": null,
   "id": "8769189f",
   "metadata": {},
   "outputs": [],
   "source": []
  }
 ],
 "metadata": {
  "kernelspec": {
   "display_name": "Python 3 (ipykernel)",
   "language": "python",
   "name": "python3"
  },
  "language_info": {
   "codemirror_mode": {
    "name": "ipython",
    "version": 3
   },
   "file_extension": ".py",
   "mimetype": "text/x-python",
   "name": "python",
   "nbconvert_exporter": "python",
   "pygments_lexer": "ipython3",
   "version": "3.10.6"
  }
 },
 "nbformat": 4,
 "nbformat_minor": 5
}
