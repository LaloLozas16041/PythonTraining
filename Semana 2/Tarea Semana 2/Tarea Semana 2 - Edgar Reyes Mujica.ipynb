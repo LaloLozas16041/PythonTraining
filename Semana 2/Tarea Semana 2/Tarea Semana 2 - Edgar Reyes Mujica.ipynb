{
 "cells": [
  {
   "cell_type": "markdown",
   "metadata": {},
   "source": [
    "### TAREA SEMANA 2 : FUNDAMENTOS DE PYTHON\n",
    "#### Nombre : Edgar Reyes Mujica"
   ]
  },
  {
   "cell_type": "markdown",
   "metadata": {},
   "source": [
    "#### Ejercicio 1\n",
    "Las matemáticas financieras, resumidas en una frase, las podríamos definir como la rama de las matemáticas que estudia los flujos de dinero a través del tiempo. Básicamente se presupone que el dinero tiene menos valor en el futuro que en el presente, ya sea por un tema inflacionario o por la preferencia natural de las personas a priorizar el consumo presente.\n",
    "\n",
    "El valor futuro es el valor alcanzado por un determinado capital al final del período determinado (para el ejemplo usaremos la fórmula del interés compuesto). Para calcularlo se utiliza la siguiente fórmula\n",
    "\n",
    "VF=VA* ( 1+i )**n\n",
    "\n",
    "El valor presente de una inversión es cuando calculamos el valor actual que tendrá una determinada cantidad que recibiremos o pagaremos en un futuro. Para calcularlo se utiliza la siguiente fórmula\n",
    "\n",
    "VA=VF/( 1+i )**n \n",
    "\n",
    "Donde \n",
    "\n",
    "*VF es el valor futuro, \n",
    "\n",
    "*VA es el valor actual o inicial de la inversión, \n",
    "\n",
    "*i es el tipo de interés y \n",
    "\n",
    "*n es número de años de la inversión.\n",
    "\n",
    "A.- Crear una función que reciba como entrada un capital, un tipo de interés y un número de años, y muestre por pantalla el valor futuro de la inversión cada año del periodo indicado.\n",
    "\n",
    "B.-Crear una función que reciba como entrada un capital, un tipo de interés y un número de años, y muestre por pantalla el valor actual del capital cada año del periodo indicado."
   ]
  },
  {
   "cell_type": "code",
   "execution_count": 7,
   "metadata": {},
   "outputs": [
    {
     "name": "stdout",
     "output_type": "stream",
     "text": [
      "El valor futuro en el año 1 es de: 15.0\n",
      "El valor futuro en el año 2 es de: 22.5\n",
      "El valor futuro en el año 3 es de: 33.75\n",
      "El valor futuro en el año 4 es de: 50.625\n",
      "El valor futuro en el año 5 es de: 75.9375\n"
     ]
    }
   ],
   "source": [
    "def calcular_valor_futuro(capital, interes, años):\n",
    "    for i in range(1, años+1):\n",
    "        vf = capital * (1+interes)**i\n",
    "        print(f\"El valor futuro en el año {i} es de: {vf}\")\n",
    "\n",
    "calcular_valor_futuro(float(input('Introduzca su capital: ')),float(input('Tipo de interes: ')),int(input('A cuantos años seria: ')))"
   ]
  },
  {
   "cell_type": "code",
   "execution_count": null,
   "metadata": {},
   "outputs": [],
   "source": [
    "def calcular_valor_actual(capital, interes, años):\n",
    "    for i in range(1, años+1):\n",
    "        va = capital / (1+interes)**i\n",
    "        print(f\"El valor actual en el año {i} es de: {va}\")\n",
    "\n",
    "calcular_valor_actual(float(input('Introduzca su capital: ')),float(input('Tipo de interes: ')),int(input('A cuantos años seria: ')))\n"
   ]
  },
  {
   "attachments": {},
   "cell_type": "markdown",
   "metadata": {},
   "source": [
    "Explicacion: En este ejercicio no lo senti complicado ya que solo era iterar en un rango dado por la formula e imprimir esas iteraciones lo complicado lo senti en la segunda formula ya que senti que hizo lo mismo entonces no se si no entendi el ejercicio o tenia que hacer algo mas con la formula. "
   ]
  },
  {
   "cell_type": "markdown",
   "metadata": {},
   "source": [
    "#### Ejercicio 2\n",
    "El archivo cotización.csv (archivo adjunto ) contiene las cotizaciones de empresas con las siguientes columnas: \n",
    "\n",
    "*Nombre (nombre de la empresa), \n",
    "\n",
    "*Final (precio de la acción al cierre de bolsa), \n",
    "\n",
    "*Máximo (precio máximo de la acción durante la jornada), \n",
    "\n",
    "*Mínimo (precio mínimo de la acción durante la jornada), \n",
    "\n",
    "*Volumen (Volumen al cierre de bolsa), \n",
    "\n",
    "*Efectivo (capitalización al cierre en miles de euros).\n",
    "\n",
    "A.- Construir una función reciba el fichero de cotizaciones y devuelva un diccionario con los datos del fichero por columnas.\n",
    "\n",
    "B.-Construir una función que reciba el diccionario devuelto por la función anterior y cree un fichero en formato csv con el mínimo, el máximo y la media de cada columna."
   ]
  },
  {
   "cell_type": "code",
   "execution_count": 6,
   "metadata": {},
   "outputs": [
    {
     "name": "stdout",
     "output_type": "stream",
     "text": [
      "{'Nombre': ['ACCIONA', 'ACERINOX', 'ACS', 'AENA', 'AMADEUS', 'ARCELORMIT.', 'BA.SABADELL', 'BA.SANTANDER', 'BANKIA', 'BANKINTER', 'BBVA', 'CAIXABANK', 'CELLNEX', 'CIE AUTOMOT.', 'ENAGAS', 'ENCE', 'ENDESA', 'FERROVIAL', 'GRIFOLS CL.A', 'IAG', 'IBERDROLA', 'INDITEX', 'INDRA A', 'INM.COLONIAL', 'MAPFRE', 'MEDIASET', 'MELIA HOTELS', 'MERLIN', 'NATURGY', 'R.E.C.', 'REPSOL', 'SIEMENS GAME', 'TEC.REUNIDAS', 'TELEFONICA', 'VISCOFAN'], 'Final': [95.95, 8668.0, 37.28, 167.1, 69.96, 14152.0, 1.0165, 4.02, 2249.0, 6.56, 5024.0, 2763.0, 30.17, 23.44, 25.6, 3882.0, 22.95, 21.61, 23.3, 5.3, 8.45, 24.93, 9.56, 9915.0, 2654.0, 6446.0, 8.14, 12.08, 26.7, 19705.0, 14515.0, 14.33, 23.0, 7204.0, 48.46], 'Máximo': [96.75, 8672.0, 37.66, 167.5, 70.64, 14318.0, 1033.0, 4.0675, 2262.0, 6604.0, 5.05, 2806.0, 30.7, 23.74, 25.66, 3974.0, 23.03, 21.72, 23.6, 5.46, 8.45, 25.19, 9685.0, 9915.0, 2654.0, 6592.0, 8.19, 12.08, 26.77, 19875.0, 14605.0, 14.39, 23.2, 7256.0, 49.12], 'Mínimo': [94.4, 8468.0, 37.22, 166.1, 69.56, 14.08, 1.0165, 4.01, 2224.0, 6522.0, 4969.0, 2762.0, 30.17, 23.4, 25.07, 3846.0, 22.62, 21.38, 23.27, 5292.0, 8262.0, 24.87, 9535.0, 9745.0, 2.62, 6446.0, 8.02, 11.83, 26.53, 19675.0, 14.46, 14155.0, 22.78, 7185.0, 48.46], 'Volumen': [84962.0, 88599.0, 655982.0, 133738.0, 640476.0, 702841.0, 12358512.0, 36129692.0, 3024454.0, 1375976.0, 26447612.0, 13031097.0, 857237.0, 99506.0, 84254.0, 2099698.0, 1236799.0, 2065931.0, 719503.0, 2155081.0, 15637958.0, 2600144.0, 39206.0, 671753.0, 3045972.0, 2647557.0, 48021.0, 777543.0, 2100737.0, 1246171.0, 5046648.0, 1054847.0, 1221.0, 9913249.0, 6771.0], 'Efectivo': [8166.11, 7633.81, 24517.29, 22336.1, 44795.47, 9989.65, 12637.65, 145765.44, 6803.54, 9030.2, 132560.15, 36239.22, 25965.29, 2343.09, 21524.77, 8219.83, 28233.46, 44656.05, 16787.55, 11561.95, 131426.05, 65012.92, 3755.57, 6640.38, 8063.13, 17277.04, 3914.93, 9357.77, 55986.54, 24585.33, 73333.78, 15084.56, 2807.19, 71564.99, 3295.43]}\n"
     ]
    }
   ],
   "source": [
    "import csv\n",
    "\n",
    "def dict_cotizaciones():\n",
    "    cotizaciones = {'Nombre': [], 'Final': [], 'Máximo': [], 'Mínimo': [], 'Volumen': [], 'Efectivo': []}\n",
    "    with open('cotizacion.csv', 'r', newline='') as archivo:\n",
    "        lector = csv.reader(archivo, delimiter=';')\n",
    "        next(lector)\n",
    "        for valores in lector:\n",
    "            cotizaciones['Nombre'].append(valores[0])\n",
    "            cotizaciones['Final'].append(float(valores[1].replace(',', '.')))\n",
    "            cotizaciones['Máximo'].append(float(valores[2].replace(',', '.')))\n",
    "            cotizaciones['Mínimo'].append(float(valores[3].replace(',', '.')))\n",
    "            cotizaciones['Volumen'].append(float(valores[4].replace('.', '').replace(',', '.')))\n",
    "            cotizaciones['Efectivo'].append(float(valores[5].replace(',', '.')))\n",
    "    return cotizaciones\n",
    "print(dict_cotizaciones())\n"
   ]
  },
  {
   "cell_type": "code",
   "execution_count": 8,
   "metadata": {},
   "outputs": [],
   "source": [
    "import csv\n",
    "\n",
    "def escribir_estadisticas(cotizaciones):\n",
    "    with open('estadisticas.csv', 'w', newline='') as archivo:\n",
    "        escritor = csv.writer(archivo)\n",
    "        escritor.writerow(['Columna', 'Mínimo', 'Máximo', 'Media'])\n",
    "        for columna in cotizaciones.keys():\n",
    "            if columna == 'Nombre':\n",
    "                continue\n",
    "            valores = cotizaciones[columna]\n",
    "            valores_numericos = list(map(float, valores))\n",
    "            minimo = min(valores_numericos)\n",
    "            maximo = max(valores_numericos)\n",
    "            media = sum(valores_numericos) / len(valores_numericos)\n",
    "            escritor.writerow([columna, minimo, maximo, media])\n",
    "\n",
    "cotizaciones = dict_cotizaciones()\n",
    "escribir_estadisticas(cotizaciones)"
   ]
  },
  {
   "attachments": {},
   "cell_type": "markdown",
   "metadata": {},
   "source": [
    "Explicacion: Este ejercio fue mas complicado ya que tenia que contruir un diccionario con los datos dados en el archivo csv lo primero fue el crear el diccionario con todas las keys y luego utilizando un for este iba a iterar e ir guardando los valores seleccionados [n] en cada una de las keys correspondientes utilizando el append, esto con cada una de ellas como en el archivo habia numeros que se dividian las decimales por una \",\" tuve que reemplazarlas por \".\" pero en la columna de volumen habian 2 \".\" por lo que no supe como eleiminar solo el primero haciendo que tuviese que eliminar los dos para que el codigo me pudiera correr al final solo hice que se creara un nuevo archivo para guardar los valores que se querian que era el minimo, maximo y media de cada columna esto convirtiendo todo en una lista e iterando para solo obtener los valores de cada columna."
   ]
  },
  {
   "cell_type": "markdown",
   "metadata": {},
   "source": [
    "#### Ejercicio 3\n",
    "Escribir un programa para gestionar un listado telefónico con los nombres y los teléfonos de los clientes de una empresa. \n",
    "\n",
    "El programa debe crear el archivo TXT con la lista si no existe\n",
    "\n",
    "El programa debe  tener una función para consultar el teléfono de un cliente e imprimirlo en pantalla.\n",
    "\n",
    "El programa debe  tener una función para  añadir el teléfono de un nuevo cliente al archivo TXT.\n",
    "\n",
    "El programa debe tener una función que permita visualizar todo el listado telefónico\n",
    "\n",
    "El programa debe tener una función que guarde esta lista en un archivo CSV.\n"
   ]
  },
  {
   "cell_type": "code",
   "execution_count": null,
   "metadata": {},
   "outputs": [],
   "source": [
    "folder = '/Users/ragde/Desktop/python fundamentals/tarea semana 2/'\n",
    "file_name = 'listado.txt'\n",
    "f = open (folder+file_name,'w')\n",
    "f.write('Nombre,Telefono\\n')\n",
    "f.close()"
   ]
  },
  {
   "cell_type": "code",
   "execution_count": null,
   "metadata": {},
   "outputs": [],
   "source": [
    "def agregar_datos (nombre, telefono):\n",
    "    with open('listado.txt', 'a') as archivo:\n",
    "        archivo.write(f\"{nombre},{telefono}\\n\")\n",
    "        print(f\"Se ha agregado {nombre} con el teléfono {telefono} al listado\")\n",
    "\n",
    "agregar_datos(input('Agregue el nombre:'),input('Agregue telefono: '))"
   ]
  },
  {
   "cell_type": "code",
   "execution_count": null,
   "metadata": {},
   "outputs": [],
   "source": [
    "def consultar_telefono(nombre):\n",
    "    with open('listado.txt', 'r') as archivo:\n",
    "        for linea in archivo:\n",
    "            datos = linea.split(',')\n",
    "            if datos[0] == nombre:\n",
    "                print(f\"El teléfono de {nombre} es {datos[1]}\")\n",
    "                return\n",
    "        print(f\"No se encontró un cliente con el nombre {nombre}\")\n",
    "consultar_telefono(input('Agregue el nombre de quien quiera consultar el telefono: '))"
   ]
  },
  {
   "cell_type": "code",
   "execution_count": null,
   "metadata": {},
   "outputs": [],
   "source": [
    "def visualizar_listado():\n",
    "    with open('listado.txt', 'r') as archivo:\n",
    "        for linea in archivo:\n",
    "            print(linea)\n",
    "        return\n",
    "visualizar_listado()"
   ]
  },
  {
   "cell_type": "code",
   "execution_count": null,
   "metadata": {},
   "outputs": [],
   "source": [
    "txt = open('listado.txt', 'r')\n",
    "file_name = 'listado.csv'\n",
    "f = open (file_name,'w')\n",
    "f.close()\n",
    "for linea in txt.readlines():\n",
    "    archivo_csv = open('listado.csv', 'a')\n",
    "    archivo_csv.write(linea)\n",
    "    archivo_csv.close()\n",
    "txt.close()"
   ]
  },
  {
   "attachments": {},
   "cell_type": "markdown",
   "metadata": {},
   "source": [
    "Explicacion: para empezar este programa lo hice en bloques por que no queria confundirme y queria ir verificando que todo fuera funcionando como se debe, primero inicie creando un archivo de texto el cual iba conteneter toda la informacion que se le agregaria lo cual fue sencillo ya que se hizo con lo visto en clase, despues hice la funcion para agregar datos al listado esto solamente mandando a abrir el archivo ya creado y escribiendo dentro en este caso solo el nombre y el numero de telefono quepedian, despues hice la funcion para consultar un telefono el cual iba a utilizar como principal herramienta de busqueda el nombre, asi que primero mandamos a llamar el archivo en modo de lectura y despues volvemos cada linea como una lista como sabemos que el nombre se encuentra en la primera posicion solo tenemos que mandar a hacer un ciclo for para poder comparar mediante una condicional if si el nombre que estamos buscando se encuentra en esa columa de ser asi este nos arrojara el valor de la linea pudiendo obtener los valores de ella y asi poder saber el nombre y el numero y en caso de que el nombre buscado no se encuentre dentro del listado este nos indicara que no se encuentra. Despues se pedia que el archivo se pudiera visualizar el listado solo hicimos una funcion que iterara con un ciclo for entre las lineas y las mandamos a imprimir y por ultimo era que guardaramos todo el listado en un archivo txt esto se hizo mandando a abrir el archivo listado.txt y luego creando el archivo csv al final solo con un ciclo for hicimos que cada linea que corriera se fuera grabando en el csv con el .write() una ves esto estuviera echo ya se podia cerrar los dos archivos y el archivo csv ya iba a contener lo que contenia el txt."
   ]
  },
  {
   "cell_type": "markdown",
   "metadata": {},
   "source": [
    "#### Ejercicio 4\n",
    "\n",
    "El archivo calificaciones.csv (archivo adjunto ) contiene las calificaciones de un curso. Durante el curso se realizaron dos exámenes parciales de teoría y un examen de prácticas. Escribir un programa que contenga las siguientes funciones:\n",
    "\n",
    "A.- Una función que reciba el archivo de calificaciones y devuelva una lista de diccionarios, donde cada diccionario contiene la información de los exámenes y la asistencia de un alumno. La lista tiene que estar ordenada por apellidos.\n",
    "\n",
    "B.- Una función que reciba una lista de diccionarios como la que devuelve la función anterior y añada a cada diccionario una nueva llave con la nota final del curso.  Teniendo en cuenta los siguientes criterios de evaluación:\n",
    "\n",
    "a.-Practicas 10 % \n",
    "\n",
    "b.-Practica Final 30% \n",
    "\n",
    "c.-Promedio de Parciales 1 y 2  20%\n",
    "\n",
    "d.-Promedio de Exámenes 1 y 2 40%\n",
    "\n",
    "C.- Una función que reciba una lista de diccionarios como la que devuelve la función anterior y devuelva dos listas, una con los alumnos aprobados y otra con los alumnos suspensos. Para aprobar el curso:\n",
    "    \n",
    " a.-La asistencia tiene que ser mayor o igual que el 75%\n",
    "    \n",
    " b.-La nota final debe ser mayor o igual a 8.0\n"
   ]
  },
  {
   "cell_type": "code",
   "execution_count": null,
   "metadata": {},
   "outputs": [],
   "source": [
    "import csv\n",
    "filename = \"calificaciones.csv\"\n",
    "with open(filename, newline=\"\") as csvfile:\n",
    "    reader = csv.reader(csvfile, delimiter=\",\")\n",
    "    for row in reader:\n",
    "        print(row)"
   ]
  },
  {
   "cell_type": "code",
   "execution_count": null,
   "metadata": {},
   "outputs": [],
   "source": [
    "import csv\n",
    "\n",
    "def leer_calificaciones():\n",
    "    calificaciones = {'Apellidos': [], 'Asistencia': [], 'Examen1': [], 'Examen2': []}\n",
    "    \n",
    "    with open('calificaciones.csv', 'r', newline='') as archivo:\n",
    "        lector = csv.reader(archivo, delimiter=',')\n",
    "        next(lector)\n",
    "        next(lector)\n",
    "        for valores in lector:\n",
    "            calificaciones['Apellidos'].append(valores[0])\n",
    "            calificaciones['Asistencia'].append(float(valores[2].replace('%', ' ')))\n",
    "            calificaciones['Examen1'].append(float(valores[5]))\n",
    "            calificaciones['Examen2'].append(float(valores[6]))\n",
    "        return calificaciones\n",
    "print(leer_calificaciones())"
   ]
  },
  {
   "cell_type": "code",
   "execution_count": 9,
   "metadata": {},
   "outputs": [
    {
     "ename": "TypeError",
     "evalue": "list indices must be integers or slices, not str",
     "output_type": "error",
     "traceback": [
      "\u001b[1;31m---------------------------------------------------------------------------\u001b[0m",
      "\u001b[1;31mTypeError\u001b[0m                                 Traceback (most recent call last)",
      "\u001b[1;32mc:\\Users\\ragde\\Desktop\\python fundamentals\\tarea semana 2\\Tarea Semana 2 - Edgar Reyes Mujica.ipynb Celda 20\u001b[0m in \u001b[0;36m<module>\u001b[1;34m\u001b[0m\n\u001b[0;32m     <a href='vscode-notebook-cell:/c%3A/Users/ragde/Desktop/python%20fundamentals/tarea%20semana%202/Tarea%20Semana%202%20-%20Edgar%20Reyes%20Mujica.ipynb#X30sZmlsZQ%3D%3D?line=11'>12</a>\u001b[0m             calificacion[\u001b[39m'\u001b[39m\u001b[39mcalificacion Final\u001b[39m\u001b[39m'\u001b[39m] \u001b[39m=\u001b[39m promedio_final\n\u001b[0;32m     <a href='vscode-notebook-cell:/c%3A/Users/ragde/Desktop/python%20fundamentals/tarea%20semana%202/Tarea%20Semana%202%20-%20Edgar%20Reyes%20Mujica.ipynb#X30sZmlsZQ%3D%3D?line=12'>13</a>\u001b[0m         \u001b[39mreturn\u001b[39;00m \n\u001b[1;32m---> <a href='vscode-notebook-cell:/c%3A/Users/ragde/Desktop/python%20fundamentals/tarea%20semana%202/Tarea%20Semana%202%20-%20Edgar%20Reyes%20Mujica.ipynb#X30sZmlsZQ%3D%3D?line=13'>14</a>\u001b[0m calcular_promedio_final()\n",
      "\u001b[1;32mc:\\Users\\ragde\\Desktop\\python fundamentals\\tarea semana 2\\Tarea Semana 2 - Edgar Reyes Mujica.ipynb Celda 20\u001b[0m in \u001b[0;36mcalcular_promedio_final\u001b[1;34m()\u001b[0m\n\u001b[0;32m      <a href='vscode-notebook-cell:/c%3A/Users/ragde/Desktop/python%20fundamentals/tarea%20semana%202/Tarea%20Semana%202%20-%20Edgar%20Reyes%20Mujica.ipynb#X30sZmlsZQ%3D%3D?line=5'>6</a>\u001b[0m \u001b[39mnext\u001b[39m(lector)\n\u001b[0;32m      <a href='vscode-notebook-cell:/c%3A/Users/ragde/Desktop/python%20fundamentals/tarea%20semana%202/Tarea%20Semana%202%20-%20Edgar%20Reyes%20Mujica.ipynb#X30sZmlsZQ%3D%3D?line=6'>7</a>\u001b[0m \u001b[39mfor\u001b[39;00m calificacion \u001b[39min\u001b[39;00m lector:\n\u001b[1;32m----> <a href='vscode-notebook-cell:/c%3A/Users/ragde/Desktop/python%20fundamentals/tarea%20semana%202/Tarea%20Semana%202%20-%20Edgar%20Reyes%20Mujica.ipynb#X30sZmlsZQ%3D%3D?line=7'>8</a>\u001b[0m     promedio_parciales \u001b[39m=\u001b[39m (\u001b[39mfloat\u001b[39m(calificacion[\u001b[39m'\u001b[39;49m\u001b[39mParcial1\u001b[39;49m\u001b[39m'\u001b[39;49m]) \u001b[39m+\u001b[39m \u001b[39mfloat\u001b[39m(calificacion[\u001b[39m'\u001b[39m\u001b[39mParcial2\u001b[39m\u001b[39m'\u001b[39m])) \u001b[39m/\u001b[39m \u001b[39m2\u001b[39m\n\u001b[0;32m      <a href='vscode-notebook-cell:/c%3A/Users/ragde/Desktop/python%20fundamentals/tarea%20semana%202/Tarea%20Semana%202%20-%20Edgar%20Reyes%20Mujica.ipynb#X30sZmlsZQ%3D%3D?line=8'>9</a>\u001b[0m     promedio_examenes \u001b[39m=\u001b[39m (\u001b[39mfloat\u001b[39m(calificacion[\u001b[39m'\u001b[39m\u001b[39mExamen1\u001b[39m\u001b[39m'\u001b[39m]) \u001b[39m+\u001b[39m \u001b[39mfloat\u001b[39m(calificacion[\u001b[39m'\u001b[39m\u001b[39mExamen2\u001b[39m\u001b[39m'\u001b[39m])) \u001b[39m/\u001b[39m \u001b[39m2\u001b[39m\n\u001b[0;32m     <a href='vscode-notebook-cell:/c%3A/Users/ragde/Desktop/python%20fundamentals/tarea%20semana%202/Tarea%20Semana%202%20-%20Edgar%20Reyes%20Mujica.ipynb#X30sZmlsZQ%3D%3D?line=9'>10</a>\u001b[0m     promedio_practicas \u001b[39m=\u001b[39m \u001b[39mfloat\u001b[39m(calificacion[\u001b[39m'\u001b[39m\u001b[39mPracticas\u001b[39m\u001b[39m'\u001b[39m]) \u001b[39m*\u001b[39m \u001b[39m0.1\u001b[39m \u001b[39m+\u001b[39m \u001b[39mfloat\u001b[39m(calificacion[\u001b[39m'\u001b[39m\u001b[39mPractica Final\u001b[39m\u001b[39m'\u001b[39m]) \u001b[39m*\u001b[39m \u001b[39m0.3\u001b[39m\n",
      "\u001b[1;31mTypeError\u001b[0m: list indices must be integers or slices, not str"
     ]
    }
   ],
   "source": [
    "import csv\n",
    "\n",
    "def calcular_promedio_final():\n",
    "    with open('calificaciones.csv', 'r', newline='') as archivo:\n",
    "        lector = csv.reader(archivo, delimiter=',')\n",
    "        next(lector)\n",
    "        for calificacion in lector:\n",
    "            promedio_parciales = (float(calificacion['Parcial1']) + float(calificacion['Parcial2'])) / 2\n",
    "            promedio_examenes = (float(calificacion['Examen1']) + float(calificacion['Examen2'])) / 2\n",
    "            promedio_practicas = float(calificacion['Practicas']) * 0.1 + float(calificacion['Practica Final']) * 0.3\n",
    "            promedio_final = promedio_parciales * 0.2 + promedio_examenes * 0.4 + promedio_practicas\n",
    "            calificacion['calificacion Final'] = promedio_final\n",
    "        return \n",
    "calcular_promedio_final()"
   ]
  },
  {
   "attachments": {},
   "cell_type": "markdown",
   "metadata": {},
   "source": [
    "Explicacion: Este ejercicio fue el mas dificil de todos primero comence por visualizar el archivo para ver el contenido, una vez echo esto procedi a realizar el diccionario solicitado para mi esto fue complicado ya que al crear el diccionario siempre me daba error tarde en notar que este error se debia a que al momento de dar la lectura este corria desde la primera fila la cual contenia solo \"calificaciones\" y la segunda  linea contenia lo que tendrian que se las llaves del diccionario asi que para que pudiera leer los valores directos tube que hacer un doble salto de linea dspues mediante un for podia iterar entre los valores de las columnas solicitadas y guardar el valor en el diccionario, lo que no pude hacer fue acomodarlos en orden alfabetico, aunque utilizara la funcion sort este siempre me mandaba error no importa como lo escribiera y no pude entender por que. En la segunda funcion que solicitaba el crear una columna con el promedio final de las calificaicones intente hacerlo de manera directa leyendo el archivo y mandando a llamar de la columna seleccionada los valores para crear una nueva columna con la calificacion final pero esta siempre me mando error, intente buscar otras manera pero fue muy complicado y aunque encontre otras herramientas estas no estaban dentro de lo que vimos en clase entonces se me hizo muy complicado terminar este ejercicio ya que no sabia de que otra forma seguie avanzando."
   ]
  }
 ],
 "metadata": {
  "kernelspec": {
   "display_name": "Python 3 (ipykernel)",
   "language": "python",
   "name": "python3"
  },
  "language_info": {
   "codemirror_mode": {
    "name": "ipython",
    "version": 3
   },
   "file_extension": ".py",
   "mimetype": "text/x-python",
   "name": "python",
   "nbconvert_exporter": "python",
   "pygments_lexer": "ipython3",
   "version": "3.10.11"
  }
 },
 "nbformat": 4,
 "nbformat_minor": 2
}
