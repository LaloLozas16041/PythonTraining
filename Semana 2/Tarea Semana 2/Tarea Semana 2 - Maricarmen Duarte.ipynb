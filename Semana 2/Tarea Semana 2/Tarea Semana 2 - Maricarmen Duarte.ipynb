{
 "cells": [
  {
   "cell_type": "markdown",
   "id": "c60d14f3",
   "metadata": {},
   "source": [
    "TAREA SEMANA 2 : FUNDAMENTOS DE PYTHON\n",
    "Nombre : Maricarmen Duarte Aké"
   ]
  },
  {
   "cell_type": "markdown",
   "id": "7d5a0889",
   "metadata": {},
   "source": [
    "Ejercicio 1 \n",
    "Las matemáticas financieras, resumidas en una frase, las podríamos definir como la rama de las matemáticas que estudia los flujos de dinero a través del tiempo. Básicamente se presupone que el dinero tiene menos valor en el futuro que en el presente, ya sea por un tema inflacionario o por la preferencia natural de las personas a priorizar el consumo presente.\n",
    "\n",
    "El valor futuro es el valor alcanzado por un determinado capital al final del período determinado (para el ejemplo usaremos la fórmula del interés compuesto). Para calcularlo se utiliza la siguiente fórmula\n",
    "VF=VA* ( 1+i )n\n",
    "\n",
    "El valor presente de una inversión es cuando calculamos el valor actual que tendrá una determinada cantidad que recibiremos o pagaremos en un futuro. Para calcularlo se utiliza la siguiente fórmula\n",
    "\n",
    "VA=VF/( 1+i )n \n",
    "\n",
    "Donde \n",
    " VF es el valor futuro, \n",
    " VA es el valor actual o inicial de la inversión, \n",
    " i es el tipo de interés y \n",
    " n es número de años de la inversión.\n",
    "\n",
    "Crear una función que reciba como entrada un capital, un tipo de interés y un número de años, y muestre por pantalla el valor futuro de la inversión cada año del periodo indicado.\n",
    "Crear una función que reciba como entrada un capital, un tipo de interés y un número de años, y muestre por pantalla el valor actual del capital cada año del periodo indicado."
   ]
  },
  {
   "cell_type": "code",
   "execution_count": 7,
   "id": "9c1f72b5",
   "metadata": {},
   "outputs": [
    {
     "name": "stdout",
     "output_type": "stream",
     "text": [
      "¿Cuánto es su capital para invertir? 500\n",
      "¿Cuántos años desea mantener su inversión? 10\n",
      "Valor futuro de su inversión con 10% de interés\n",
      "Año 0 : 550.0\n",
      "Año 1 : 605.0000000000001\n",
      "Año 2 : 665.5000000000002\n",
      "Año 3 : 732.0500000000002\n",
      "Año 4 : 805.2550000000002\n",
      "Año 5 : 885.7805000000004\n",
      "Año 6 : 974.3585500000006\n",
      "Año 7 : 1071.7944050000008\n",
      "Año 8 : 1178.973845500001\n",
      "Año 9 : 1296.8712300500013\n",
      "Valor actual de su inversión con 10% de interés\n",
      "Año 0 : 454.5454545454545\n",
      "Año 1 : 413.2231404958677\n",
      "Año 2 : 375.65740045078877\n",
      "Año 3 : 341.50672768253526\n",
      "Año 4 : 310.46066152957746\n",
      "Año 5 : 282.2369650268886\n",
      "Año 6 : 256.57905911535323\n",
      "Año 7 : 233.25369010486654\n",
      "Año 8 : 212.0488091862423\n",
      "Año 9 : 192.7716447147657\n"
     ]
    }
   ],
   "source": [
    "capital = float(input(\"¿Cuánto es su capital para invertir? \"))\n",
    "interes = 0.1\n",
    "anios = int(input(\"¿Cuántos años desea mantener su inversión? \"))\n",
    "def Vf(capital, interes, anios):\n",
    "    for i in range(anios):\n",
    "        Vfi= capital * pow((1+interes), (i + 1))\n",
    "        print (\"Año\", i, \":\", Vfi)\n",
    "    \n",
    "def Va(capital, interes, anios):\n",
    "    for i in range(anios):\n",
    "        print (\"Año\", i, \":\", capital / pow((1+interes), (i + 1)))\n",
    "\n",
    "print (\"Valor futuro de su inversión con 10% de interés\")\n",
    "Vf(capital, interes, anios)\n",
    "print (\"Valor actual de su inversión con 10% de interés\")\n",
    "Va(capital, interes, anios)"
   ]
  },
  {
   "cell_type": "markdown",
   "id": "1cd75a3d",
   "metadata": {},
   "source": [
    "Explicación: En este caso tal vez no entendí la instrucción. Entiendo que el primer año no hay un interés (en el año cero), por lo que la primera función queda bien. Ahora la parte de Valor actual no entendí la definición y estaba dudando si poner el capital o la función Vf. En este caso si pongo la función Vf me pone un error de tipos y sí me da un resultado distinto. "
   ]
  },
  {
   "cell_type": "markdown",
   "id": "c1f01654",
   "metadata": {},
   "source": [
    "Ejercicio 2\n",
    "El archivo cotización.csv (archivo adjunto ) contiene las cotizaciones de empresas con las siguientes columnas: \n",
    "Nombre (nombre de la empresa), \n",
    "Final (precio de la acción al cierre de bolsa), \n",
    "Máximo (precio máximo de la acción durante la jornada), \n",
    "Mínimo (precio mínimo de la acción durante la jornada), \n",
    "Volumen (Volumen al cierre de bolsa), \n",
    "Efectivo (capitalización al cierre en miles de euros).\n",
    "\n",
    "Construir una función reciba el fichero de cotizaciones y devuelva un diccionario con los datos del fichero por columnas.\n",
    "Construir una función que reciba el diccionario devuelto por la función anterior y cree un fichero en formato csv con el mínimo, el máximo y la media de cada columna."
   ]
  },
  {
   "cell_type": "code",
   "execution_count": 35,
   "id": "5383c02d",
   "metadata": {},
   "outputs": [],
   "source": [
    "#Primero cambiar las comas por puntos\n",
    "import csv\n",
    "\n",
    "filename = \"/Users/marid/Desktop/Aletia/cotizacion.csv\"\n",
    "\n",
    "with open(filename, \"r\", newline='', encoding=\"utf8\") as csvfile:\n",
    "    reader = csv.reader(csvfile)\n",
    "    data = [row for row in reader]\n",
    "\n",
    "data = [[value.replace(\",\", \".\") for value in row] for row in data]\n",
    "\n",
    "with open(\"cotizacion_modified.csv\", \"w\", newline=\"\", encoding=\"utf8\") as csvfile:\n",
    "    writer = csv.writer(csvfile)\n",
    "    writer.writerows(data)"
   ]
  },
  {
   "cell_type": "code",
   "execution_count": 36,
   "id": "29c77068",
   "metadata": {},
   "outputs": [
    {
     "name": "stdout",
     "output_type": "stream",
     "text": [
      "Nombre ['ACCIONA', 'ACERINOX', 'ACS', 'AENA', 'AMADEUS', 'ARCELORMIT.', 'BA.SABADELL', 'BA.SANTANDER', 'BANKIA', 'BANKINTER', 'BBVA', 'CAIXABANK', 'CELLNEX', 'CIE AUTOMOT.', 'ENAGAS', 'ENCE', 'ENDESA', 'FERROVIAL', 'GRIFOLS CL.A', 'IAG', 'IBERDROLA', 'INDITEX', 'INDRA A', 'INM.COLONIAL', 'MAPFRE', 'MEDIASET', 'MELIA HOTELS', 'MERLIN', 'NATURGY', 'R.E.C.', 'REPSOL', 'SIEMENS GAME', 'TEC.REUNIDAS', 'TELEFONICA', 'VISCOFAN']\n",
      "Final ['95.95', '8668', '37.28', '167.1', '69.96', '14152', '10.165', '4.02', '2249', '6.56', '5024', '2763', '30.17', '23.44', '25.6', '3882', '22.95', '21.61', '23.3', '5.3', '8.45', '24.93', '9.56', '9915', '2654', '6446', '8.14', '12.08', '26.7', '19705', '14515', '14.33', '23', '7204', '48.46']\n",
      "Máximo ['96.75', '8672', '37.66', '167.5', '70.64', '14318', '1033', '40.675', '2262', '6604', '5.05', '2806', '30.7', '23.74', '25.66', '3974', '23.03', '21.72', '23.6', '5.46', '8.45', '25.19', '9685', '9915', '2654', '6592', '8.19', '12.08', '26.77', '19875', '14605', '14.39', '23.2', '7256', '49.12']\n",
      "Mínimo ['94.4', '8468', '37.22', '166.1', '69.56', '14.08', '10.165', '4.01', '2224', '6522', '4969', '2762', '30.17', '23.4', '25.07', '3846', '22.62', '21.38', '23.27', '5292', '8262', '24.87', '9535', '9745', '2.62', '6446', '8.02', '11.83', '26.53', '19675', '14.46', '14155', '22.78', '7185', '48.46']\n",
      "Volumen ['84.962', '885.99', '655.982', '133.738', '640.476', '702.841', '12.358.512', '36.129.692', '3.024.454', '1.375.976', '26.447.612', '13.031.097', '857.237', '99.506', '842.54', '2.099.698', '1.236.799', '2.065.931', '719.503', '2.155.081', '15.637.958', '2.600.144', '392.06', '671.753', '3.045.972', '2.647.557', '480.21', '777.543', '2.100.737', '1.246.171', '5.046.648', '1.054.847', '122.1', '9.913.249', '67.71']\n",
      "Efectivo ['8166.11', '7633.81', '24517.29', '22336.10', '44795.47', '9989.65', '12637.65', '145765.44', '6803.54', '9030.20', '132560.15', '36239.22', '25965.29', '2343.09', '21524.77', '8219.83', '28233.46', '44656.05', '16787.55', '11561.95', '131426.05', '65012.92', '3755.57', '6640.38', '8063.13', '17277.04', '3914.93', '9357.77', '55986.54', '24585.33', '73333.78', '15084.56', '2807.19', '71564.99', '3295.43']\n"
     ]
    }
   ],
   "source": [
    "import csv\n",
    "from collections import defaultdict\n",
    "filename= \"/Users/marid/Desktop/Aletia/cotizacion_modified.csv\"\n",
    "def csv_to_dict(filename):\n",
    "    share_dict= defaultdict(list)\n",
    "    with open(filename, newline=\"\", encoding=\"utf8\") as csvfile:\n",
    "        reader = csv.DictReader(csvfile)\n",
    "        for row in reader:\n",
    "            for k, v in row.items():\n",
    "                share_dict[k].append(v)\n",
    "    return share_dict\n",
    "\n",
    "share_dict = csv_to_dict(filename)\n",
    "\n",
    "for k, v in share_dict.items():\n",
    "    print(k, v)"
   ]
  },
  {
   "cell_type": "code",
   "execution_count": 41,
   "id": "79405798",
   "metadata": {},
   "outputs": [],
   "source": [
    "def create_new_csv(filename, header1, header2):\n",
    "    header1_values=share_dict[\"Máximo\"]\n",
    "    header2_values=share_dict[\"Mínimo\"]\n",
    "    \n",
    "    mean_values = [(float(header1_values[i]) + float(header2_values[i])) / 2.0 for i in range(len(header1_values))]\n",
    "    \n",
    "    with open(\"new_file.csv\", \"w\", newline=\"\", encoding=\"utf8\") as csvfile:\n",
    "        writer = csv.writer(csvfile)\n",
    "        writer.writerow([\"Máximo\", \"Mínimo\", \"Media\"])\n",
    "        for i in range(len(header1_values)):\n",
    "            writer.writerow([header1_values[i], header2_values[i], mean_values[i]])\n",
    "\n",
    "create_new_csv(filename, \"Máximo\", \"Mínimo\")"
   ]
  },
  {
   "cell_type": "markdown",
   "id": "31907f57",
   "metadata": {},
   "source": [
    "Explicación: Primero hay que limpiar el archivo, entonces se hace la modificación del CSV para cambiar las comas por los puntos, luego se trabaja sobre el archivo nuevo para no tener problemas. Encontré maneras de usar el defaultdict para crear el diccionario nuevo. Como no tengo familiaridad con Python estuve revisando maneras de hacer este código distintas a los resueltos en línea. Tuve muchos errores para encontrar la mejor manera y aun no estoy segura de porqué funcionan algunas partes. USé el DictReader porque hacía un diccionario de cada row, y para separar por columnas encontré que se podía iterar sobre cada columna llamando cada valor de cada key para poder hacer la columna completa del key dado.\n",
    "Para la segunda parte de la media me costó trabajo encontrar como ahcer que la media fuera para cada par de valores. También vi varios videos de Youtube con diferentes soluciones ya que me considero principiante en la programación. "
   ]
  },
  {
   "cell_type": "markdown",
   "id": "668feb4d",
   "metadata": {},
   "source": [
    "Ejercicio 3\n",
    "Escribir un programa para gestionar un listado telefónico con los nombres y los teléfonos de los clientes de una empresa. \n",
    "El programa debe crear el archivo TXT con la lista si no existe\n",
    "El programa debe  tener una función para consultar el teléfono de un cliente e imprimirlo en pantalla.\n",
    "El programa debe  tener una función para  añadir el teléfono de un nuevo cliente al archivo TXT.\n",
    "El programa debe tener una función que permita visualizar todo el listado telefónico\n",
    "El programa debe tener una función que guarde esta lista en un archivo CSV."
   ]
  },
  {
   "cell_type": "code",
   "execution_count": null,
   "id": "b60679bf",
   "metadata": {},
   "outputs": [
    {
     "name": "stdout",
     "output_type": "stream",
     "text": [
      "Select an option:\n",
      "1. Add a client\n",
      "2. Get a client's phone number\n",
      "3. See complete list and save to csv\n",
      "4. Exit\n",
      "Enter your choice: 1\n",
      "Enter client name: Michiberto\n",
      "Enter client phone number: 9993456678\n",
      "Client added successfully.\n",
      "Select an option:\n",
      "1. Add a client\n",
      "2. Get a client's phone number\n",
      "3. See complete list and save to csv\n",
      "4. Exit\n",
      "Enter your choice: 2\n",
      "Enter client name: MIchi\n",
      "Client not found.\n",
      "Select an option:\n",
      "1. Add a client\n",
      "2. Get a client's phone number\n",
      "3. See complete list and save to csv\n",
      "4. Exit\n",
      "Enter your choice: 2\n",
      "Enter client name: Michi\n",
      "Client not found.\n",
      "Select an option:\n",
      "1. Add a client\n",
      "2. Get a client's phone number\n",
      "3. See complete list and save to csv\n",
      "4. Exit\n",
      "Enter your choice: Michiberto\n",
      "Invalid choice. Please try again.\n",
      "Select an option:\n",
      "1. Add a client\n",
      "2. Get a client's phone number\n",
      "3. See complete list and save to csv\n",
      "4. Exit\n",
      "Enter your choice: 3\n",
      "List saved to clients.csv successfully.\n",
      "Select an option:\n",
      "1. Add a client\n",
      "2. Get a client's phone number\n",
      "3. See complete list and save to csv\n",
      "4. Exit\n",
      "Enter your choice: 2\n",
      "Enter client name: Michiberto\n",
      "Phone number for Michiberto is 9993456678\n",
      "Select an option:\n",
      "1. Add a client\n",
      "2. Get a client's phone number\n",
      "3. See complete list and save to csv\n",
      "4. Exit\n",
      "Enter your choice: 1\n",
      "Enter client name: Catgust\n",
      "Enter client phone number: 9990332211\n",
      "Client added successfully.\n",
      "Select an option:\n",
      "1. Add a client\n",
      "2. Get a client's phone number\n",
      "3. See complete list and save to csv\n",
      "4. Exit\n",
      "Enter your choice: 1\n"
     ]
    }
   ],
   "source": [
    "import csv\n",
    "import os\n",
    "\n",
    "FILE_NAME = \"clients.txt\"\n",
    "\n",
    "def create_file_if_not_exists():\n",
    "    if not os.path.exists(FILE_NAME):\n",
    "        with open(FILE_NAME, \"w\") as f:\n",
    "            f.write(\"Name,Phone Number\\n\")\n",
    "\n",
    "def add_client(name, phone_number):\n",
    "    with open(FILE_NAME, \"a\") as f:\n",
    "        f.write(\"{},{}\\n\".format(name, phone_number))\n",
    "\n",
    "def get_phone_number(name):\n",
    "    with open(FILE_NAME, \"r\") as f:\n",
    "        reader = csv.reader(f)\n",
    "        next(reader) # skip header row\n",
    "        for row in reader:\n",
    "            if row[0] == name:\n",
    "                return row[1]\n",
    "        return None\n",
    "\n",
    "def save_list_to_csv():\n",
    "    with open(\"clients.csv\", \"w\", newline='') as f:\n",
    "        writer = csv.writer(f)\n",
    "        writer.writerow([\"Name\", \"Phone Number\"])\n",
    "        with open(FILE_NAME, \"r\") as f2:\n",
    "            reader = csv.reader(f2)\n",
    "            next(reader) # skip header row\n",
    "            for row in reader:\n",
    "                writer.writerow(row)\n",
    "\n",
    "create_file_if_not_exists()\n",
    "\n",
    "while True:\n",
    "    print(\"Select an option:\")\n",
    "    print(\"1. Add a client\")\n",
    "    print(\"2. Get a client's phone number\")\n",
    "    print(\"3. See complete list and save to csv\")\n",
    "    print(\"4. Exit\")\n",
    "    choice = input(\"Enter your choice: \")\n",
    "\n",
    "    if choice == \"1\":\n",
    "        name = input(\"Enter client name: \")\n",
    "        phone_number = input(\"Enter client phone number: \")\n",
    "        add_client(name, phone_number)\n",
    "        print(\"Client added successfully.\")\n",
    "    elif choice == \"2\":\n",
    "        name = input(\"Enter client name: \")\n",
    "        phone_number = get_phone_number(name)\n",
    "        if phone_number:\n",
    "            print(\"Phone number for {} is {}\".format(name, phone_number))\n",
    "        else:\n",
    "            print(\"Client not found.\")\n",
    "    elif choice == \"3\":\n",
    "        save_list_to_csv()\n",
    "        print(\"List saved to clients.csv successfully.\")\n",
    "    elif choice == \"4\":\n",
    "        break\n",
    "    else:\n",
    "        print(\"Invalid choice. Please try again.\")\n"
   ]
  },
  {
   "cell_type": "markdown",
   "id": "2ba7f878",
   "metadata": {},
   "source": [
    "Explicación: Primero se definieron las funciones para realizar todas las acciones solicitadas en el enunciado. Se usó un selector de opciones para usar las funciones antes definidas dentro de ellas y por último poder pasar todos los datos a un csv."
   ]
  },
  {
   "cell_type": "markdown",
   "id": "cf925178",
   "metadata": {},
   "source": [
    "Ejercicio 4\n",
    "El archivo calificaciones.csv (archivo adjunto ) contiene las calificaciones de un curso. Durante el curso se realizaron dos exámenes parciales de teoría y un examen de prácticas. Escribir un programa que contenga las siguientes funciones:\n",
    "\n",
    "Una función que reciba el archivo de calificaciones y devuelva una lista de diccionarios, donde cada diccionario contiene la información de los exámenes y la asistencia de un alumno. La lista tiene que estar ordenada por apellidos.\n",
    "Una función que reciba una lista de diccionarios como la que devuelve la función anterior y añada a cada diccionario una nueva llave con la nota final del curso.  Teniendo en cuenta los siguientes criterios de evaluación \n",
    "Practicas 10 %\n",
    "Practica Final 30% \n",
    "Promedio de Parciales 1 y 2  20%\n",
    "Promedio de Exámenes 1 y 2 40%\n",
    "Una función que reciba una lista de diccionarios como la que devuelve la función anterior y devuelva dos listas, una con los alumnos aprobados y otra con los alumnos suspensos. Para aprobar el curso\n",
    "La asistencia tiene que ser mayor o igual que el 75%\n",
    "La nota final debe ser mayor o igual a 8."
   ]
  },
  {
   "cell_type": "code",
   "execution_count": 1,
   "id": "2c7b6be6",
   "metadata": {},
   "outputs": [
    {
     "name": "stdout",
     "output_type": "stream",
     "text": [
      "[{'Apellidos': 'Anido Bonet', 'Nombre': 'David', 'Asistencia': '90%', 'Parcial1': '5.5', 'Parcial2': '2.75', 'Examen1': '0', 'Examen2': '5', 'Practicas': '0', 'Practica Final': '0', 'Final': 1.8250000000000002}, {'Apellidos': 'Bueno Cerdeira', 'Nombre': 'Patricia', 'Asistencia': '95%', 'Parcial1': '9.5', 'Parcial2': '9', 'Examen1': '0', 'Examen2': '0', 'Practicas': '6.25', 'Practica Final': '0', 'Final': 2.475}, {'Apellidos': 'Casariego García', 'Nombre': 'Raúl', 'Asistencia': '98%', 'Parcial1': '4.25', 'Parcial2': '5.75', 'Examen1': '6', 'Examen2': '0', 'Practicas': '4', 'Practica Final': '5', 'Final': 4.1}, {'Apellidos': 'Curbelo Sánchez', 'Nombre': 'Jorge', 'Asistencia': '75%', 'Parcial1': '6.75', 'Parcial2': '4.25', 'Examen1': '5', 'Examen2': '0', 'Practicas': '0', 'Practica Final': '6.5', 'Final': 4.050000000000001}, {'Apellidos': 'Díaz Souto', 'Nombre': 'Sofía', 'Asistencia': '82%', 'Parcial1': '7', 'Parcial2': '6.5', 'Examen1': '0', 'Examen2': '0', 'Practicas': '9', 'Practica Final': '0', 'Final': 2.25}, {'Apellidos': 'García Perez', 'Nombre': 'Yaiza', 'Asistencia': '85%', 'Parcial1': '10', 'Parcial2': '8', 'Examen1': '0', 'Examen2': '0', 'Practicas': '7.5', 'Practica Final': '0', 'Final': 2.55}, {'Apellidos': 'Lorenzo García', 'Nombre': 'Jaime', 'Asistencia': '100%', 'Parcial1': '9.75', 'Parcial2': '8.25', 'Examen1': '0', 'Examen2': '0', 'Practicas': '7.5', 'Practica Final': '0', 'Final': 2.55}, {'Apellidos': 'Martínez Lucas', 'Nombre': 'Cecilia', 'Asistencia': '86%', 'Parcial1': '7', 'Parcial2': '4', 'Examen1': '0', 'Examen2': '0', 'Practicas': '6.25', 'Practica Final': '0', 'Final': 1.725}, {'Apellidos': 'Mora Peñaloza', 'Nombre': 'Sandra', 'Asistencia': '70%', 'Parcial1': '5.25', 'Parcial2': '2', 'Examen1': '0', 'Examen2': '4', 'Practicas': '6.5', 'Practica Final': '0', 'Final': 2.175}, {'Apellidos': 'Moreno Angulo', 'Nombre': 'Antonio', 'Asistencia': '88%', 'Parcial1': '9', 'Parcial2': '6.75', 'Examen1': '4', 'Examen2': '0', 'Practicas': '5.25', 'Practica Final': '0', 'Final': 2.9000000000000004}, {'Apellidos': 'Morillo Escudero', 'Nombre': 'Ana', 'Asistencia': '100%', 'Parcial1': '9.5', 'Parcial2': '10', 'Examen1': '3', 'Examen2': '0', 'Practicas': '8.75', 'Practica Final': '0', 'Final': 3.4250000000000003}, {'Apellidos': 'Muñoz Gómez', 'Nombre': 'Carolina', 'Asistencia': '94%', 'Parcial1': '7.75', 'Parcial2': '6.5', 'Examen1': '0', 'Examen2': '0', 'Practicas': '4', 'Practica Final': '0', 'Final': 1.8250000000000002}, {'Apellidos': 'Ramirez de la Puente', 'Nombre': 'Raquel', 'Asistencia': '75%', 'Parcial1': '0', 'Parcial2': '1', 'Examen1': '1', 'Examen2': '2.75', 'Practicas': '2.25', 'Practica Final': '3.25', 'Final': 2.0500000000000003}, {'Apellidos': 'Riego Pizarro', 'Nombre': 'Carlos', 'Asistencia': '75%', 'Parcial1': '4', 'Parcial2': '2.5', 'Examen1': '5', 'Examen2': '3.75', 'Practicas': '0', 'Practica Final': '0', 'Final': 2.4}, {'Apellidos': 'Rodríguez de Blas', 'Nombre': 'Ignacio', 'Asistencia': '80%', 'Parcial1': '8.25', 'Parcial2': '5.25', 'Examen1': '0', 'Examen2': '0', 'Practicas': '6.5', 'Practica Final': '0', 'Final': 2.0}, {'Apellidos': 'Sánchez Jordán', 'Nombre': 'María', 'Asistencia': '92%', 'Parcial1': '8.75', 'Parcial2': '9', 'Examen1': '7', 'Examen2': '0', 'Practicas': '6.5', 'Practica Final': '0', 'Final': 3.825}]\n"
     ]
    }
   ],
   "source": [
    "import csv\n",
    "file_name1 = \"/Users/marid/Desktop/Aletia/calificaciones.csv\"\n",
    "def list_dict(file_name1):\n",
    "    student_list = []\n",
    "    with open(file_name1, \"r\", newline=\"\", encoding=\"utf8\") as csvfile:\n",
    "        reader1=csv.reader(csvfile)\n",
    "        headers=next(reader1)\n",
    "        headers=next(reader1)\n",
    "        for row in reader1:\n",
    "            student_dict= {headers[i]: row[i] for i in range(len(headers))}\n",
    "            final_grade = (((float(student_dict[\"Examen1\"]))+ float(student_dict[\"Examen2\"]))/2 * 0.4) + (float(student_dict[\"Practica Final\"]) * 0.3) + ((float(student_dict[\"Parcial1\"]) + float(student_dict[\"Parcial2\"]))/2* 0.2 + (float(student_dict[\"Practicas\"])*0.1))\n",
    "            student_dict[\"Final\"] = final_grade\n",
    "            student_list.append(student_dict)\n",
    "    return student_list\n",
    "student_list= list_dict(file_name1)\n",
    "sorted_list = sorted(student_list, key=lambda x:x[\"Apellidos\"])\n",
    "\n",
    "print(sorted_list)"
   ]
  },
  {
   "cell_type": "code",
   "execution_count": 9,
   "id": "fe91233c",
   "metadata": {},
   "outputs": [
    {
     "name": "stdout",
     "output_type": "stream",
     "text": [
      "Estudiantes Aprobados:\n",
      "\n",
      "Estudiantes Reprobados:\n",
      "David Anido Bonet\n",
      "Patricia Bueno Cerdeira\n",
      "Raúl Casariego García\n",
      "Jorge Curbelo Sánchez\n",
      "Sofía Díaz Souto\n",
      "Yaiza García Perez\n",
      "María Sánchez Jordán\n",
      "Jaime Lorenzo García\n",
      "Cecilia Martínez Lucas\n",
      "Sandra Mora Peñaloza\n",
      "Ana Morillo Escudero\n",
      "Carolina Muñoz Gómez\n",
      "Raquel Ramirez de la Puente\n",
      "Carlos Riego Pizarro\n",
      "Ignacio Rodríguez de Blas\n",
      "Antonio Moreno Angulo\n"
     ]
    }
   ],
   "source": [
    "def filter_students(student_list):\n",
    "    passed_students = []\n",
    "    failed_students = []\n",
    "    for student in student_list:\n",
    "        attendance = int(student[\"Asistencia\"].replace(\"%\", \"\"))\n",
    "        if attendance >= 75 and student[\"Final\"] >= 8:\n",
    "            passed_students.append(student)\n",
    "        else:\n",
    "            failed_students.append(student)\n",
    "    return passed_students, failed_students\n",
    "\n",
    "student_list = list_dict(file_name1)\n",
    "passed_students, failed_students = filter_students(student_list)\n",
    "\n",
    "print(\"Estudiantes Aprobados:\")\n",
    "for student in passed_students:\n",
    "    print(student[\"Nombre\"], student[\"Apellidos\"])\n",
    "\n",
    "print(\"\\nEstudiantes Reprobados:\")\n",
    "for student in failed_students:\n",
    "    print(student[\"Nombre\"], student[\"Apellidos\"])"
   ]
  },
  {
   "cell_type": "markdown",
   "id": "13a2b573",
   "metadata": {},
   "source": [
    "En este problema de las calificaciones pude hacer los dos primeros enunciados usando el reader de csv para poder calcular el promedio final y ordenar los datos en una lista de diccionarios. El segundo se usaron iteraciones y operadores lógicos para hacer las listas con los estudiantes aprobados y reprobados. Parece que no es un grupo muy bueno. "
   ]
  }
 ],
 "metadata": {
  "kernelspec": {
   "display_name": "Python 3 (ipykernel)",
   "language": "python",
   "name": "python3"
  },
  "language_info": {
   "codemirror_mode": {
    "name": "ipython",
    "version": 3
   },
   "file_extension": ".py",
   "mimetype": "text/x-python",
   "name": "python",
   "nbconvert_exporter": "python",
   "pygments_lexer": "ipython3",
   "version": "3.10.9"
  }
 },
 "nbformat": 4,
 "nbformat_minor": 5
}
