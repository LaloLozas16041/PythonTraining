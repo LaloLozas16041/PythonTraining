{
 "cells": [
  {
   "cell_type": "markdown",
   "id": "e2642e8f",
   "metadata": {},
   "source": [
    "TAREA 2 : FUNDAMENTOS DE PYTHON\n",
    "\n",
    "Nombre: Francisco Rafael Tenorio Naranjo"
   ]
  },
  {
   "cell_type": "markdown",
   "id": "5cee2648",
   "metadata": {},
   "source": [
    "Ejercicio 1\n",
    "Las matemáticas financieras, resumidas en una frase, las podríamos definir como la rama de las matemáticas que estudia los flujos de dinero a través del tiempo. Básicamente se presupone que el dinero tiene menos valor en el futuro que en el presente, ya sea por un tema inflacionario o por la preferencia natural de las personas a priorizar el consumo presente.\n",
    "\n",
    "El valor futuro es el valor alcanzado por un determinado capital al final del período determinado (para el ejemplo usaremos la fórmula del interés compuesto). Para calcularlo se utiliza la siguiente fórmula\n",
    "\n",
    "VF=VA* ( 1+i )^n\n",
    "\n",
    "El valor presente de una inversión es cuando calculamos el valor actual que tendrá una determinada cantidad que recibiremos o pagaremos en un futuro. Para calcularlo se utiliza la siguiente fórmula\n",
    "\n",
    "VA=VF/( 1+i )^n\n",
    "\n",
    "Donde \n",
    " VF es el valor futuro, \n",
    " VA es el valor actual o inicial de la inversión, \n",
    " i es el tipo de interés y \n",
    " n es número de años de la inversión.\n",
    "\n",
    "Crear una función que reciba como entrada un capital, un tipo de interés y un número de años, y muestre por pantalla el valor futuro de la inversión cada año del periodo indicado.\n",
    "\n",
    "Crear una función que reciba como entrada un capital, un tipo de interés y un número de años, y muestre por pantalla el valor actual del capital cada año del periodo indicado."
   ]
  },
  {
   "cell_type": "markdown",
   "id": "f04d17b1",
   "metadata": {},
   "source": [
    "Ejercicio A\n",
    "\n",
    "Crear una función que reciba como entrada un capital, un tipo de interés y un número de años, y muestre por pantalla el valor futuro de la inversión cada año del periodo indicado."
   ]
  },
  {
   "cell_type": "code",
   "execution_count": 60,
   "id": "7439cd75",
   "metadata": {},
   "outputs": [
    {
     "name": "stdout",
     "output_type": "stream",
     "text": [
      "Cual es tu capital ? :1200\n",
      "Cual es la tasa de interes?12\n",
      "A cuantos anhos para el valor futuro?12\n",
      "Para el anho 1  el valor futuro del capital es 1071.4285714285713\n",
      "Para el anho 2  el valor futuro del capital es 956.6326530612243\n",
      "Para el anho 3  el valor futuro del capital es 854.136297376093\n",
      "Para el anho 4  el valor futuro del capital es 762.6216940857973\n",
      "Para el anho 5  el valor futuro del capital es 680.912226862319\n",
      "Para el anho 6  el valor futuro del capital es 607.9573454127848\n",
      "Para el anho 7  el valor futuro del capital es 542.819058404272\n",
      "Para el anho 8  el valor futuro del capital es 484.65987357524284\n",
      "Para el anho 9  el valor futuro del capital es 432.7320299778953\n",
      "Para el anho 10  el valor futuro del capital es 386.3678839088351\n",
      "Para el anho 11  el valor futuro del capital es 344.9713249186027\n",
      "Para el anho 12  el valor futuro del capital es 308.01011153446666\n"
     ]
    }
   ],
   "source": [
    "capital = int(input(\"Cual es tu capital ? :\"))\n",
    "interes = int(input(\"Cual es la tasa de interes?\"))\n",
    "anhos= int(input(\"A cuantos anhos para el valor futuro?\"))\n",
    "\n",
    "def vfut(capital, interes, anhos):\n",
    "    for num in range(1, anhos+1):\n",
    "        VF = capital /(1 + (interes/100))**num\n",
    "        print(\"Para el anho\",num,\" el valor futuro del capital es\",VF)\n",
    "vfut(capital, interes, anhos)"
   ]
  },
  {
   "cell_type": "markdown",
   "id": "ea5ea10d",
   "metadata": {},
   "source": [
    "Explicacion:\n",
    "\n",
    "    1. Se realizo el input de las variables necesarias para calcular el valor futuro.\n",
    "    2. Se crea la funcion vfut que depende de las variables ingresadas como input().\n",
    "    3. Se realiza el commando for dentro de la funcion para iterar la ecuacion del valor futuro con el numero de anos \n",
    "    4. Se ejecuta el comando print para mostrar los resultados\n",
    "    5. Se ejecuta la funcion\n",
    "    \n",
    "    Problemas: Tuve problemas al escribir la funcion print, ya que queria usar el commando return de la funcion y despues print, marcandome error."
   ]
  },
  {
   "cell_type": "markdown",
   "id": "5b26e8e8",
   "metadata": {},
   "source": [
    "Ejercicio B"
   ]
  },
  {
   "cell_type": "markdown",
   "id": "8ec88157",
   "metadata": {},
   "source": [
    "Crear una función que reciba como entrada un capital, un tipo de interés y un número de años, y muestre por pantalla el valor actual del capital cada año del periodo indicado."
   ]
  },
  {
   "cell_type": "code",
   "execution_count": 62,
   "id": "c273096e",
   "metadata": {},
   "outputs": [
    {
     "name": "stdout",
     "output_type": "stream",
     "text": [
      "Cual es tu capital ? :1200\n",
      "Cual es la tasa de interes?12\n",
      "A cuantos anhos para el valor presente?12\n",
      "Para que el valor del capital futuro al anho 1 sea igual a 1200 el valor presente del capital tiene que ser 1344.0000000000002\n",
      "Para que el valor del capital futuro al anho 2 sea igual a 1200 el valor presente del capital tiene que ser 1505.2800000000002\n",
      "Para que el valor del capital futuro al anho 3 sea igual a 1200 el valor presente del capital tiene que ser 1685.9136000000005\n",
      "Para que el valor del capital futuro al anho 4 sea igual a 1200 el valor presente del capital tiene que ser 1888.2232320000007\n",
      "Para que el valor del capital futuro al anho 5 sea igual a 1200 el valor presente del capital tiene que ser 2114.8100198400007\n",
      "Para que el valor del capital futuro al anho 6 sea igual a 1200 el valor presente del capital tiene que ser 2368.5872222208013\n",
      "Para que el valor del capital futuro al anho 7 sea igual a 1200 el valor presente del capital tiene que ser 2652.8176888872977\n",
      "Para que el valor del capital futuro al anho 8 sea igual a 1200 el valor presente del capital tiene que ser 2971.1558115537737\n",
      "Para que el valor del capital futuro al anho 9 sea igual a 1200 el valor presente del capital tiene que ser 3327.694508940227\n",
      "Para que el valor del capital futuro al anho 10 sea igual a 1200 el valor presente del capital tiene que ser 3727.0178500130546\n",
      "Para que el valor del capital futuro al anho 11 sea igual a 1200 el valor presente del capital tiene que ser 4174.259992014621\n",
      "Para que el valor del capital futuro al anho 12 sea igual a 1200 el valor presente del capital tiene que ser 4675.171191056376\n"
     ]
    }
   ],
   "source": [
    "capital1 = int(input(\"Cual es tu capital ? :\"))\n",
    "interes1 = int(input(\"Cual es la tasa de interes?\"))\n",
    "anhos1= int(input(\"A cuantos anhos para el valor presente?\"))\n",
    "\n",
    "def valpres(capital1,interes1,anhos1):\n",
    "    for num in range(1,anhos1 + 1):\n",
    "        VP = capital *(1 + (interes/100))**num\n",
    "        print(\"Para que el valor del capital futuro al anho\",num,\"sea igual a\",capital,\"el valor presente del capital tiene que ser\",VP)\n",
    "\n",
    "valpres(capital1,interes1,anhos1)\n",
    "        "
   ]
  },
  {
   "cell_type": "markdown",
   "id": "d09e1726",
   "metadata": {},
   "source": [
    "Explicacion:\n",
    "\n",
    "1. Se realizo el input de las variables necesarias para calcular el presente.\n",
    "2. Se crea la funcion valpres que depende de las variables ingresadas como input().\n",
    "3. Se realiza el commando \"for\" dentro de la funcion para iterar la ecuacion del valor presente con el numero de anhos \n",
    "4. Se ejecuta el comando print para mostrar los resultados\n",
    "5. Se ejecuta la funcion"
   ]
  },
  {
   "cell_type": "markdown",
   "id": "17777bd6",
   "metadata": {},
   "source": [
    "Ejercicio 2\n",
    "\n",
    "El archivo cotización.csv (archivo adjunto ) contiene las cotizaciones de empresas con las siguientes columnas: \n",
    "    \n",
    "Nombre (nombre de la empresa), \n",
    "Final (precio de la acción al cierre de bolsa), \n",
    "Máximo (precio máximo de la acción durante la jornada), \n",
    "Mínimo (precio mínimo de la acción durante la jornada), \n",
    "Volumen (Volumen al cierre de bolsa), \n",
    "Efectivo (capitalización al cierre en miles de euros).\n"
   ]
  },
  {
   "cell_type": "markdown",
   "id": "cadcdebb",
   "metadata": {},
   "source": [
    "A. Construir una función reciba el fichero de cotizaciones y devuelva un diccionario con los datos del fichero por columnas."
   ]
  },
  {
   "cell_type": "code",
   "execution_count": 9,
   "id": "d28cbad6",
   "metadata": {},
   "outputs": [
    {
     "name": "stdout",
     "output_type": "stream",
     "text": [
      "{'Nombre,Final,Máximo,Mínimo,Volumen,Efectivo': ['ACCIONA,\"95,95\",\"96,75\",\"94,4\",84.962,\"8166,11\"', 'ACERINOX,8668,8672,8468,885.99,\"7633,81\"', 'ACS,\"37,28\",\"37,66\",\"37,22\",655.982,\"24517,29\"', 'AENA,\"167,1\",\"167,5\",\"166,1\",133.738,\"22336,1\"', 'AMADEUS,\"69,96\",\"70,64\",\"69,56\",640.476,\"44795,47\"', 'ARCELORMIT.,14152,14318,\"14,08\",702.841,\"9989,65\"', 'BA.SABADELL,\"10,165\",1033,\"10,165\",12.358.512,\"12637,65\"', 'BA.SANTANDER,\"4,02\",\"40,675\",\"4,01\",36.129.692,\"145765,44\"', 'BANKIA,2249,2262,2224,3.024.454,\"6803,54\"', 'BANKINTER,\"6,56\",6604,6522,1.375.976,\"9030,2\"', 'BBVA,5024,\"5,05\",4969,26.447.612,\"132560,15\"', 'CAIXABANK,2763,2806,2762,13.031.097,\"36239,22\"', 'CELLNEX,\"30,17\",\"30,7\",\"30,17\",857.237,\"25965,29\"', 'CIE AUTOMOT.,\"23,44\",\"23,74\",\"23,4\",99.506,\"2343,09\"', 'ENAGAS,\"25,6\",\"25,66\",\"25,07\",842.54,\"21524,77\"', 'ENCE,3882,3974,3846,2.099.698,\"8219,83\"', 'ENDESA,\"22,95\",\"23,03\",\"22,62\",1.236.799,\"28233,46\"', 'FERROVIAL,\"21,61\",\"21,72\",\"21,38\",2.065.931,\"44656,05\"', 'GRIFOLS CL.A,\"23,3\",\"23,6\",\"23,27\",719.503,\"16787,55\"', 'IAG,\"5,3\",\"5,46\",5292,2.155.081,\"11561,95\"', 'IBERDROLA,\"8,45\",\"8,45\",8262,15.637.958,\"131426,05\"', 'INDITEX,\"24,93\",\"25,19\",\"24,87\",2.600.144,\"65012,92\"', 'INDRA A,\"9,56\",9685,9535,392.06,\"3755,57\"', 'INM.COLONIAL,9915,9915,9745,671.753,\"6640,38\"', 'MAPFRE,2654,2654,\"2,62\",3.045.972,\"8063,13\"', 'MEDIASET,6446,6592,6446,2.647.557,\"17277,04\"', 'MELIA HOTELS,\"8,14\",\"8,19\",\"8,02\",480.21,\"3914,93\"', 'MERLIN,\"12,08\",\"12,08\",\"11,83\",777.543,\"9357,77\"', 'NATURGY,\"26,7\",\"26,77\",\"26,53\",2.100.737,\"55986,54\"', 'R.E.C.,19705,19875,19675,1.246.171,\"24585,33\"', 'REPSOL,14515,14605,\"14,46\",5.046.648,\"73333,78\"', 'SIEMENS GAME,\"14,33\",\"14,39\",14155,1.054.847,\"15084,56\"', 'TEC.REUNIDAS,23,\"23,2\",\"22,78\",122.1,\"2807,19\"', 'TELEFONICA,7204,7256,7185,9.913.249,\"71564,99\"', 'VISCOFAN,\"48,46\",\"49,12\",\"48,46\",67.71,\"3295,43\"']}\n"
     ]
    }
   ],
   "source": [
    "import csv\n",
    "\n",
    "def read_csv(file_name):\n",
    "    data={}\n",
    "    with open(file_name, newline=\"\") as archive:\n",
    "        reader= csv.reader(archive, delimiter=\";\")\n",
    "        header=next(reader)\n",
    "        for column in header:\n",
    "            data[column]=[]\n",
    "        for row in reader:\n",
    "            for i, column in enumerate(header):\n",
    "                data[column].append(row[i])\n",
    "    return data\n",
    "\n",
    "data1 =  read_csv(\"cotizacion.csv\")\n",
    "\n",
    "print(data1)"
   ]
  },
  {
   "cell_type": "markdown",
   "id": "7801c863",
   "metadata": {},
   "source": [
    "Explicacion:"
   ]
  },
  {
   "cell_type": "markdown",
   "id": "ce11a460",
   "metadata": {},
   "source": [
    "1. Se crea la funcion read_csv.\n",
    "2. Se crea un diccionario vacio con el nombre data, la cual se iran agregando las llaves y valores.\n",
    "3. Dentro de la funcion read_csv se define el commando para abrir el archivo.\n",
    "4. Se asignan dos variables, la primera reader donde se define la delimitacion de variables por \";\", la otra variable creada \"header\" se asginan los encabezados de la variable reader.\n",
    "5. Se asigna el commando for para agregar las llaves al diccionario \"data\".\n",
    "6. Se asigna el segundo comando for para agregar los valores a todos los diccionarios. ( esta parte tuve que buscarla ya que no sabia como realizarla).\n",
    "7. Se inicia la funcion indicando el nombre del archivo.\n",
    "6. Se ejecuta la funcion print para visualizar le diccionario."
   ]
  },
  {
   "cell_type": "markdown",
   "id": "0d6c5e30",
   "metadata": {},
   "source": [
    "Ejercicio 3"
   ]
  },
  {
   "cell_type": "markdown",
   "id": "ed2b2810",
   "metadata": {},
   "source": [
    "Escribir un programa para gestionar un listado telefónico con los nombres y los teléfonos de los clientes de una empresa. \n",
    "\n",
    "A.\tEl programa debe crear el archivo TXT con la lista si no existe\n"
   ]
  },
  {
   "cell_type": "code",
   "execution_count": 71,
   "id": "48fc9c8f",
   "metadata": {},
   "outputs": [],
   "source": [
    "telefonos=(('Carlos','12345'),('Paco','23456'),('Pedro','34567'),('Pablo','45678'))\n",
    "\n",
    "archivo = open(\"telefonos.txt\",\"w\")\n",
    "\n",
    "for nombre, telefono in telefonos:\n",
    "    archivo.write(nombre + \",\" +telefono + \"\\n\")\n",
    "                  \n",
    "archivo.close()"
   ]
  },
  {
   "cell_type": "markdown",
   "id": "da541fef",
   "metadata": {},
   "source": [
    "Explicacion:\n",
    "    \n",
    "1. Se crea una lista con nombres y telefonos, se asgina a la variable telefonos.\n",
    "2. Se crea un archivo txt con el nombre telefonos.\n",
    "3. Se aplica el comando for para agregar la lista al archivo txrt creado.\n",
    "4. Se cierra el archivo."
   ]
  },
  {
   "cell_type": "markdown",
   "id": "2f4041e1",
   "metadata": {},
   "source": [
    "B.\tEl programa debe  tener una función para consultar el teléfono de un cliente e imprimirlo en pantalla."
   ]
  },
  {
   "cell_type": "code",
   "execution_count": 122,
   "id": "887c9702",
   "metadata": {},
   "outputs": [
    {
     "name": "stdout",
     "output_type": "stream",
     "text": [
      "De que persona buscas su numero telefonico? :Carlos\n",
      "El numero telefonico de Carlos es : 12345\n"
     ]
    }
   ],
   "source": [
    "busqueda = input(\"De que persona buscas su numero telefonico? :\")\n",
    "\n",
    "def consulta(nom_per):\n",
    "\n",
    "    archivo = open(\"telefonos.txt\",\"r\")\n",
    "    lineas1=archivo.readlines()\n",
    "\n",
    "    for linea in lineas1:\n",
    "        valores = linea.strip().split(\",\")\n",
    "        if len(valores) == 2:\n",
    "            nombre, telefono = valores\n",
    "            if nombre == nom_per:\n",
    "                print(\"El numero telefonico de\", busqueda,\"es :\",telefono)\n",
    "\n",
    "consulta(busqueda)"
   ]
  },
  {
   "cell_type": "markdown",
   "id": "b8cc9539",
   "metadata": {},
   "source": [
    "Explicacion:\n",
    "\n",
    "1. Se hace un input preguntando el nombre de la persona para la busqueda de su telefono.\n",
    "2. Se crea la funcion consulta, la cual consta de leer el archivo telefonos.txt.\n",
    "3. Dentro de la funcion se leen las lineas del archivo, despues se aplica el comando for para separar cada nombre con su telefono asignado por una coma \",\".\n",
    "4. Se aplican las condiciones if, la primera para definir si los valores son igual a dos, la cual es nombre y telefono.\n",
    "5. La segunda condicion es si el nombre es igual a la variable hecha por el input, esta imprime el telefono.\n",
    "6. Se ejecuta la funcion."
   ]
  },
  {
   "cell_type": "markdown",
   "id": "4eb815c8",
   "metadata": {},
   "source": [
    "C.\tEl programa debe  tener una función para  añadir el teléfono de un nuevo cliente al archivo TXT."
   ]
  },
  {
   "cell_type": "code",
   "execution_count": 93,
   "id": "28549ff3",
   "metadata": {},
   "outputs": [
    {
     "name": "stdout",
     "output_type": "stream",
     "text": [
      "Por favor ingrese el nombre de la persona: Karla\n",
      "Por favor ingrese su numero telefonico: 345678\n"
     ]
    }
   ],
   "source": [
    "nom=input(\"Por favor ingrese el nombre de la persona: \")\n",
    "tel=input(\"Por favor ingrese su numero telefonico: \")\n",
    "\n",
    "def agr_tel(nombre,telefono):\n",
    "    archivo = open(\"telefonos.txt\",\"a\")\n",
    "    archivo.write(nombre + \",\" + telefono + \"\\n\")\n",
    "    archivo.close()\n",
    "\n",
    "agr_tel(nom,tel)"
   ]
  },
  {
   "cell_type": "markdown",
   "id": "0e6c3dde",
   "metadata": {},
   "source": [
    "Explicacion.\n",
    "\n",
    "1. Se crean dos variables las cuales se les asigna un input con un nombre y un telefono.\n",
    "2. Se crea la funcion, la cual abre el archivo telefonos.txt en forma de append \"a\". La cual es necesaria para aregar informacion. Si lo hicieramos en modo \"w\" sobreescribiria la informacion lo cual resultaria en eliminar lo datos previos.\n",
    "3. en la funcion se aplica el comando .write para agregar las variables de los input.\n",
    "4. Se ejcuta la funcion."
   ]
  },
  {
   "cell_type": "markdown",
   "id": "8447bacb",
   "metadata": {},
   "source": [
    "D.\tEl programa debe tener una función que permita visualizar todo el listado telefónico.\n",
    "\n",
    "E.\tEl programa debe tener una función que guarde esta lista en un archivo CSV."
   ]
  },
  {
   "cell_type": "code",
   "execution_count": 119,
   "id": "7ced8671",
   "metadata": {},
   "outputs": [
    {
     "name": "stdout",
     "output_type": "stream",
     "text": [
      "['Carlos', '12345']\n",
      "['Paco', '23456']\n",
      "['Pedro', '34567']\n",
      "['Pablo', '45678']\n",
      "['Martha', '09876']\n",
      "['Karla', '345678']\n"
     ]
    }
   ],
   "source": [
    "import csv\n",
    "\n",
    "def listado(archivo):\n",
    "    with open(archivo,\"r\") as archivo_txt, open(\"telefonos.csv\",\"w\",newline='') as archivo_csv:\n",
    "        lineas=archivo_txt.readlines()\n",
    "        escritor_csv = csv.writer(archivo_csv)\n",
    "        for linea in lineas:\n",
    "            valores = linea.strip().split(\",\")\n",
    "            escritor_csv.writerow(valores)\n",
    "            print(valores)\n",
    "\n",
    "listado(\"telefonos.txt\")"
   ]
  },
  {
   "cell_type": "markdown",
   "id": "35e9b7b4",
   "metadata": {},
   "source": [
    "Explicacion: \n",
    "\n",
    "1. Se crea un funcion la cual abre un archivo txt y crea un archivo csv.\n",
    "2. Se leen las lineas del archivo txt y se asigna a la variable lineas, para el archivo csv se aplica el commando .writer y se asgina a una variable.\n",
    "3. Se aplica el comando for para separar la valores de la lista del archivo txt y estas mismas se escriben en el archivo csv.\n",
    "4. Se utiliza el comando print para mostrar los valores de las listas ya separados.\n",
    "5. Se ejecuta la funcion.\n",
    "\n",
    "En este ejercicio, hice busqueda de como abrir y leer un archivo txt, ademas de crear un archivo csv y ejecutar los comandos en una sola funcion."
   ]
  },
  {
   "cell_type": "code",
   "execution_count": null,
   "id": "09d1ef1d",
   "metadata": {},
   "outputs": [],
   "source": []
  },
  {
   "cell_type": "markdown",
   "id": "3d518baf",
   "metadata": {},
   "source": [
    "Ejercicio 4\n",
    "\n",
    "El archivo calificaciones.csv (archivo adjunto ) contiene las calificaciones de un curso. Durante el curso se realizaron dos exámenes parciales de teoría y un examen de prácticas. Escribir un programa que contenga las siguientes funciones:\n",
    "\n",
    "A.\tUna función que reciba el archivo de calificaciones y devuelva una lista de diccionarios, donde cada diccionario contiene la información de los exámenes y la asistencia de un alumno. \n",
    "La lista tiene que estar ordenada por apellidos.\n",
    "\n",
    "B.\tUna función que reciba una lista de diccionarios como la que devuelve la función anterior y añada a cada diccionario una nueva llave con la nota final del curso.  Teniendo en cuenta los siguientes criterios de evaluación \n",
    "\n",
    "a.\tPracticas 10 %\n",
    "b.\tPractica Final 30% \n",
    "c.\tPromedio de Parciales 1 y 2  20%\n",
    "d.\tPromedio de Exámenes 1 y 2 40%\n",
    "\n",
    "C.\tUna función que reciba una lista de diccionarios como la que devuelve la función anterior y devuelva dos listas, una con los alumnos aprobados y otra con los alumnos suspensos. Para aprobar el curso\n",
    "\n",
    "a.\tLa asistencia tiene que ser mayor o igual que el 75%\n",
    "b.\tLa nota final debe ser mayor o igual a 8.0\n"
   ]
  },
  {
   "cell_type": "code",
   "execution_count": 149,
   "id": "609d47d2",
   "metadata": {},
   "outputs": [
    {
     "name": "stdout",
     "output_type": "stream",
     "text": [
      "Lista de aprobados:\n",
      "\n",
      "Lista de suspensos:\n",
      "David Anido Bonet\n",
      "Patricia Bueno Cerdeira\n",
      "RaÃºl Casariego GarcÃ­a\n",
      "Jorge Curbelo SÃ¡nchez\n",
      "SofÃ­a DÃ­az Souto\n",
      "Yaiza GarcÃ­a Perez\n",
      "Jaime Lorenzo GarcÃ­a\n",
      "Cecilia MartÃ­nez Lucas\n",
      "Sandra Mora PeÃ±aloza\n",
      "Antonio Moreno Angulo\n",
      "Ana Morillo Escudero\n",
      "Carolina MuÃ±oz GÃ³mez\n",
      "Raquel Ramirez de la Puente\n",
      "Carlos Riego Pizarro\n",
      "Ignacio RodrÃ­guez de Blas\n",
      "MarÃ­a SÃ¡nchez JordÃ¡n\n"
     ]
    }
   ],
   "source": [
    "import csv\n",
    "\n",
    "def leer_calificaciones(archivo):\n",
    "    \"\"\"\n",
    "    Función que lee el archivo de calificaciones y devuelve una lista de diccionarios,\n",
    "    donde cada diccionario contiene la información de los exámenes y la asistencia de un alumno.\n",
    "    La lista está ordenada por apellidos.\n",
    "    \"\"\"\n",
    "    with open(archivo, \"r\") as archivo_csv:\n",
    "        lector_csv = csv.DictReader(archivo_csv)\n",
    "        calificaciones = []\n",
    "        for fila in lector_csv:\n",
    "            calificaciones.append(fila)\n",
    "        calificaciones.sort(key=lambda x: x[\"Apellidos\"])\n",
    "    return calificaciones\n",
    "\n",
    "def calcular_nota_final(calificaciones):\n",
    "    \"\"\"\n",
    "    Función que recibe una lista de diccionarios con las calificaciones de cada alumno,\n",
    "    y añade a cada diccionario una nueva llave con la nota final del curso, calculada\n",
    "    según los criterios de evaluación especificados en el enunciado.\n",
    "    \"\"\"\n",
    "    for alumno in calificaciones:\n",
    "        practicas = float(alumno[\"Practicas\"]) * 0.1\n",
    "        practica_final = float(alumno[\"Practica Final\"]) * 0.3\n",
    "        parciales = (float(alumno[\"Parcial1\"]) + float(alumno[\"Parcial2\"])) / 2 * 0.2\n",
    "        examenes = (float(alumno[\"Examen1\"]) + float(alumno[\"Examen2\"])) / 2 * 0.4\n",
    "        nota_final = practicas + practica_final + parciales + examenes\n",
    "        alumno[\"Nota final\"] = nota_final\n",
    "    \n",
    "def separar_aprobados_suspensos(calificaciones):\n",
    "    \"\"\"\n",
    "    Función que recibe una lista de diccionarios con las calificaciones de cada alumno,\n",
    "    y devuelve dos listas, una con los alumnos aprobados y otra con los alumnos suspensos.\n",
    "    Para aprobar el curso, la asistencia tiene que ser mayor o igual que el 75% y la nota\n",
    "    final debe ser mayor o igual a 8.0.\n",
    "    \"\"\"\n",
    "    aprobados = []\n",
    "    suspensos = []\n",
    "    for alumno in calificaciones:\n",
    "        asistencia = float(alumno[\"Asistencia\"].strip('%'))\n",
    "        nota_final = float(alumno[\"Nota final\"])\n",
    "        if asistencia >= 75 and nota_final >= 8.0:\n",
    "            aprobados.append(alumno)\n",
    "        else:\n",
    "            suspensos.append(alumno)\n",
    "    return aprobados, suspensos\n",
    "\n",
    "\n",
    "\n",
    "calificaciones = leer_calificaciones(\"calificaciones1.csv\")\n",
    "calcular_nota_final(calificaciones)\n",
    "aprobados, suspensos = separar_aprobados_suspensos(calificaciones)\n",
    "\n",
    "print(\"Lista de aprobados:\")\n",
    "for alumno in aprobados:\n",
    "    print(alumno[\"Nombre\"], alumno[\"Apellidos\"])\n",
    "\n",
    "print(\"\\nLista de suspensos:\")\n",
    "for alumno in suspensos:\n",
    "    print(alumno[\"Nombre\"], alumno[\"Apellidos\"])\n",
    "\n"
   ]
  },
  {
   "cell_type": "markdown",
   "id": "69abe5f4",
   "metadata": {},
   "source": [
    "Explicacion:\n",
    "\n",
    "Honestamente debido a falta de tiempo , este ejercicio lo realize con el chat gpt, pero aun asi trate de entender todos los comandos y funciones."
   ]
  }
 ],
 "metadata": {
  "kernelspec": {
   "display_name": "Python 3 (ipykernel)",
   "language": "python",
   "name": "python3"
  },
  "language_info": {
   "codemirror_mode": {
    "name": "ipython",
    "version": 3
   },
   "file_extension": ".py",
   "mimetype": "text/x-python",
   "name": "python",
   "nbconvert_exporter": "python",
   "pygments_lexer": "ipython3",
   "version": "3.10.9"
  }
 },
 "nbformat": 4,
 "nbformat_minor": 5
}
