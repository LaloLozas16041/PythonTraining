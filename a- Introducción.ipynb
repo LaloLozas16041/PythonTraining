{
  "cells": [
    {
      "cell_type": "markdown",
      "metadata": {
        "id": "bIDMTVrBR0MW"
      },
      "source": [
        "# Introducción a Python"
      ]
    },
    {
      "cell_type": "markdown",
      "metadata": {},
      "source": [
        "### Por: Eduardo Lozas"
      ]
    },
    {
      "cell_type": "code",
      "execution_count": 1,
      "metadata": {
        "id": "g13kvl9YRhaB"
      },
      "outputs": [
        {
          "name": "stdout",
          "output_type": "stream",
          "text": [
            "Hola Mundo\n"
          ]
        }
      ],
      "source": [
        "print(\"Hola Mundo\")"
      ]
    },
    {
      "cell_type": "code",
      "execution_count": 2,
      "metadata": {
        "id": "bfBGMUx05Bcm"
      },
      "outputs": [
        {
          "name": "stdout",
          "output_type": "stream",
          "text": [
            "Hola!!\n",
            "Mucho gusto , espero que aprendamos juntos Python!\n"
          ]
        }
      ],
      "source": [
        "print(\"Hola!!\")\n",
        "nombre = input(\"¿Cuál es tum nombre? \")\n",
        "print(f\"Mucho gusto {nombre}, espero que aprendamos juntos Python!\")"
      ]
    },
    {
      "cell_type": "markdown",
      "metadata": {
        "id": "Pqj2Y5oWUB2C"
      },
      "source": [
        "## Tipos de datos"
      ]
    },
    {
      "cell_type": "markdown",
      "metadata": {
        "id": "XYzndSE5myaK"
      },
      "source": [
        "### Texto o cadenas de caracteres"
      ]
    },
    {
      "cell_type": "code",
      "execution_count": 3,
      "metadata": {
        "id": "fX1ajo7ORhXS"
      },
      "outputs": [],
      "source": [
        "string1 = \"azul\"\n",
        "string2 = \"perro\"\n",
        "string3 = \" la escuela esta lejos\""
      ]
    },
    {
      "cell_type": "code",
      "execution_count": 4,
      "metadata": {
        "id": "PIhDi2Zb5Bco"
      },
      "outputs": [
        {
          "name": "stdout",
          "output_type": "stream",
          "text": [
            "azul perro  la escuela esta lejos\n"
          ]
        }
      ],
      "source": [
        "print(string1,string2,string3)"
      ]
    },
    {
      "cell_type": "code",
      "execution_count": 5,
      "metadata": {
        "id": "hQrk2w7M5Bco"
      },
      "outputs": [
        {
          "name": "stdout",
          "output_type": "stream",
          "text": [
            "azulperro la escuela esta lejos\n"
          ]
        }
      ],
      "source": [
        "print(string1 + string2 + string3)"
      ]
    },
    {
      "cell_type": "code",
      "execution_count": 6,
      "metadata": {
        "id": "m7gj3FDk5Bco"
      },
      "outputs": [
        {
          "name": "stdout",
          "output_type": "stream",
          "text": [
            "azul perro  la escuela esta lejos\n"
          ]
        }
      ],
      "source": [
        "print(string1+' '+string2+' '+string3)"
      ]
    },
    {
      "cell_type": "code",
      "execution_count": 7,
      "metadata": {
        "id": "tteG_64NnBvH"
      },
      "outputs": [
        {
          "data": {
            "text/plain": [
              "str"
            ]
          },
          "execution_count": 7,
          "metadata": {},
          "output_type": "execute_result"
        }
      ],
      "source": [
        "type(string1)"
      ]
    },
    {
      "cell_type": "code",
      "execution_count": 8,
      "metadata": {
        "id": "zpNCs8d95Bcp"
      },
      "outputs": [
        {
          "data": {
            "text/plain": [
              "int"
            ]
          },
          "execution_count": 8,
          "metadata": {},
          "output_type": "execute_result"
        }
      ],
      "source": [
        "# Recuerden que si asignamos un numero a una variable str su tipo cambiara a int\n",
        "string1=333\n",
        "type(string1)"
      ]
    },
    {
      "cell_type": "markdown",
      "metadata": {
        "id": "-znN5uep5Bcp"
      },
      "source": [
        "### Númericos como los enteros, decimales y complejos"
      ]
    },
    {
      "cell_type": "code",
      "execution_count": 9,
      "metadata": {
        "id": "J0WuF4U7RhUd"
      },
      "outputs": [],
      "source": [
        "integer1=1\n",
        "integer2=5\n",
        "integer3=12\n",
        "integer4=56"
      ]
    },
    {
      "cell_type": "code",
      "execution_count": 10,
      "metadata": {
        "id": "5c0LaHmV5Bcq"
      },
      "outputs": [
        {
          "name": "stdout",
          "output_type": "stream",
          "text": [
            "1 5 12 56\n"
          ]
        }
      ],
      "source": [
        "print(integer1,integer2,integer3,integer4)"
      ]
    },
    {
      "cell_type": "code",
      "execution_count": 11,
      "metadata": {
        "id": "-F9sDOrr5Bcq"
      },
      "outputs": [
        {
          "name": "stdout",
          "output_type": "stream",
          "text": [
            "Estos son los numeros =  1 , 5 , 12 y 56\n"
          ]
        }
      ],
      "source": [
        "print(\"Estos son los numeros = \",integer1,',',integer2,',',integer3,'y',integer4)"
      ]
    },
    {
      "cell_type": "code",
      "execution_count": 12,
      "metadata": {
        "id": "l2agdZ4c5Bcq"
      },
      "outputs": [
        {
          "name": "stdout",
          "output_type": "stream",
          "text": [
            "74\n"
          ]
        }
      ],
      "source": [
        "print(integer1+integer2+integer3+integer4)# 1+5+12+56"
      ]
    },
    {
      "cell_type": "code",
      "execution_count": 13,
      "metadata": {
        "id": "f7hczVKb5Bcq"
      },
      "outputs": [
        {
          "data": {
            "text/plain": [
              "74"
            ]
          },
          "execution_count": 13,
          "metadata": {},
          "output_type": "execute_result"
        }
      ],
      "source": [
        "integer1+integer2+integer3+integer4"
      ]
    },
    {
      "cell_type": "code",
      "execution_count": 14,
      "metadata": {
        "id": "Z85qTa8H5Bcq"
      },
      "outputs": [
        {
          "name": "stdout",
          "output_type": "stream",
          "text": [
            "25\n"
          ]
        }
      ],
      "source": [
        "print(integer2**2) # 5^2"
      ]
    },
    {
      "cell_type": "code",
      "execution_count": 15,
      "metadata": {
        "id": "5Y8zSrBZnEsL"
      },
      "outputs": [
        {
          "data": {
            "text/plain": [
              "int"
            ]
          },
          "execution_count": 15,
          "metadata": {},
          "output_type": "execute_result"
        }
      ],
      "source": [
        "type(integer2)"
      ]
    },
    {
      "cell_type": "code",
      "execution_count": 16,
      "metadata": {
        "id": "n8FCv707RhSK"
      },
      "outputs": [],
      "source": [
        "float1 = 1.2\n",
        "float2 = -4.2\n",
        "float3 = 5.123"
      ]
    },
    {
      "cell_type": "code",
      "execution_count": 17,
      "metadata": {
        "id": "po8zfKcF5Bcr"
      },
      "outputs": [
        {
          "name": "stdout",
          "output_type": "stream",
          "text": [
            "1.2 -4.2 5.123\n"
          ]
        }
      ],
      "source": [
        "print(float1,float2,float3)"
      ]
    },
    {
      "cell_type": "code",
      "execution_count": 18,
      "metadata": {
        "id": "kUFNXYkg5Bcr"
      },
      "outputs": [
        {
          "name": "stdout",
          "output_type": "stream",
          "text": [
            "-5.04\n"
          ]
        }
      ],
      "source": [
        "print(float1*float2) # 1.2*(-4.2)"
      ]
    },
    {
      "cell_type": "code",
      "execution_count": 19,
      "metadata": {
        "id": "Xu9bJ1QnnItf"
      },
      "outputs": [
        {
          "data": {
            "text/plain": [
              "float"
            ]
          },
          "execution_count": 19,
          "metadata": {},
          "output_type": "execute_result"
        }
      ],
      "source": [
        "type(float2)"
      ]
    },
    {
      "cell_type": "code",
      "execution_count": 20,
      "metadata": {
        "id": "xm-RfZIh5Bcr"
      },
      "outputs": [
        {
          "name": "stdout",
          "output_type": "stream",
          "text": [
            "(3+4j)\n",
            "La parte imaginaria de complex1 es 4.0 otra frase aqui\n",
            "La parte real de complex2 es 3.0 otra frase aqui\n"
          ]
        }
      ],
      "source": [
        "complex1 = complex(3 + 4j)\n",
        "print(complex1)\n",
        "print(\"La parte imaginaria de complex1 es\",complex1.imag,\"otra frase aqui\")\n",
        "print(f\"La parte real de complex2 es {complex1.real} otra frase aqui\")"
      ]
    },
    {
      "cell_type": "code",
      "execution_count": 21,
      "metadata": {
        "id": "ehw_eHD05Bcr"
      },
      "outputs": [
        {
          "name": "stdout",
          "output_type": "stream",
          "text": [
            "(12-1j)\n",
            "La parte imaginaria de complex1 es -1.0\n",
            "La parte real de complex2 es 12.0\n"
          ]
        }
      ],
      "source": [
        "complex2 =complex(12,-1)\n",
        "print(complex2)\n",
        "print(\"La parte imaginaria de complex1 es\",complex2.imag)\n",
        "print(f\"La parte real de complex2 es {complex2.real}\")"
      ]
    },
    {
      "cell_type": "code",
      "execution_count": 22,
      "metadata": {
        "id": "Vte4xvEq5Bcr"
      },
      "outputs": [
        {
          "data": {
            "text/plain": [
              "complex"
            ]
          },
          "execution_count": 22,
          "metadata": {},
          "output_type": "execute_result"
        }
      ],
      "source": [
        "type(complex2)"
      ]
    },
    {
      "cell_type": "markdown",
      "metadata": {
        "id": "gWweoZ4Q5Bcr"
      },
      "source": [
        "### Booleanos"
      ]
    },
    {
      "cell_type": "code",
      "execution_count": 23,
      "metadata": {
        "id": "B7XzgzO9ijqG"
      },
      "outputs": [
        {
          "name": "stdout",
          "output_type": "stream",
          "text": [
            "True False\n",
            "la variable bool1 dice True\n",
            "la variable bool2 dice False\n"
          ]
        }
      ],
      "source": [
        "bool1 = True\n",
        "bool2 = False\n",
        "print(bool1,bool2)\n",
        "print(f\"la variable bool1 dice {bool1}\")\n",
        "print(\"la variable bool2 dice\", bool2)"
      ]
    },
    {
      "cell_type": "code",
      "execution_count": 24,
      "metadata": {
        "id": "bhhxOKlCnNa7"
      },
      "outputs": [
        {
          "data": {
            "text/plain": [
              "bool"
            ]
          },
          "execution_count": 24,
          "metadata": {},
          "output_type": "execute_result"
        }
      ],
      "source": [
        "type(bool1)"
      ]
    },
    {
      "cell_type": "code",
      "execution_count": 25,
      "metadata": {
        "id": "9xqy7Utl5Bcs"
      },
      "outputs": [
        {
          "data": {
            "text/plain": [
              "0"
            ]
          },
          "execution_count": 25,
          "metadata": {},
          "output_type": "execute_result"
        }
      ],
      "source": [
        "# Para cambiar a 0 o 1 convertimos la variable booleana a entero\n",
        "int(False)"
      ]
    },
    {
      "cell_type": "code",
      "execution_count": 26,
      "metadata": {
        "id": "Bfwe_X745Bcs"
      },
      "outputs": [
        {
          "data": {
            "text/plain": [
              "1"
            ]
          },
          "execution_count": 26,
          "metadata": {},
          "output_type": "execute_result"
        }
      ],
      "source": [
        "int(bool1)"
      ]
    },
    {
      "cell_type": "markdown",
      "metadata": {
        "id": "YlQCpt2b5Bcs"
      },
      "source": [
        "## Condicionales\n"
      ]
    },
    {
      "cell_type": "code",
      "execution_count": 27,
      "metadata": {
        "id": "1Q5rgltp5Bcs"
      },
      "outputs": [
        {
          "name": "stdout",
          "output_type": "stream",
          "text": [
            "Es False\n"
          ]
        }
      ],
      "source": [
        "x=False\n",
        "if x:\n",
        "    print(\"Es True\")\n",
        "else:\n",
        "    print(\"Es False\")\n"
      ]
    },
    {
      "cell_type": "code",
      "execution_count": 28,
      "metadata": {
        "id": "aU95UJ835Bcs"
      },
      "outputs": [
        {
          "name": "stdout",
          "output_type": "stream",
          "text": [
            "10 es igual o mayor a 10\n"
          ]
        }
      ],
      "source": [
        "x = 10\n",
        "\n",
        "if x == \"Hola\":\n",
        "    print(f'{x} es mayor que 10')\n",
        "elif x < 10:\n",
        "    print(f'{x} es menor que 10')\n",
        "else :\n",
        "    print(x,'es igual o mayor a 10')"
      ]
    }
  ],
  "metadata": {
    "colab": {
      "private_outputs": true,
      "provenance": []
    },
    "kernelspec": {
      "display_name": "Python 3 (ipykernel)",
      "language": "python",
      "name": "python3"
    },
    "language_info": {
      "codemirror_mode": {
        "name": "ipython",
        "version": 3
      },
      "file_extension": ".py",
      "mimetype": "text/x-python",
      "name": "python",
      "nbconvert_exporter": "python",
      "pygments_lexer": "ipython3",
      "version": "3.9.13"
    }
  },
  "nbformat": 4,
  "nbformat_minor": 0
}
