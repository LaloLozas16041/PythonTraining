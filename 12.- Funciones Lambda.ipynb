{
  "nbformat": 4,
  "nbformat_minor": 0,
  "metadata": {
    "colab": {
      "provenance": [],
      "toc_visible": true
    },
    "kernelspec": {
      "name": "python3",
      "display_name": "Python 3"
    }
  },
  "cells": [
    {
      "cell_type": "markdown",
      "metadata": {
        "id": "yTMl_zvpvZQ5"
      },
      "source": [
        "# Funciones `lambda`\n",
        "\n"
      ]
    },
    {
      "cell_type": "markdown",
      "metadata": {
        "id": "dOVM-A5-FiFm"
      },
      "source": [
        "## Funciones `lambda`\n",
        "\n",
        "Son un tipo especial de funciones de `Python` que tienen la sintaxis siguiente"
      ]
    },
    {
      "cell_type": "code",
      "metadata": {
        "id": "uOfxSUmjvvUb"
      },
      "source": [
        "lambda parámetros: expresión"
      ],
      "execution_count": null,
      "outputs": []
    },
    {
      "cell_type": "markdown",
      "metadata": {
        "id": "UZF6R7zFvzzK"
      },
      "source": [
        "- Son útiles para ejecutar funciones en una sola línea\n",
        "- Pueden tomar cualquier número de argumentos\n",
        "- Tienen una limitación: solamente pueden contener una expresión\n",
        "\n",
        "Veamos algunos ejemplos\n",
        "\n"
      ]
    },
    {
      "cell_type": "markdown",
      "metadata": {
        "id": "lvnBReyPFltn"
      },
      "source": [
        "---\n",
        "\n",
        "#### Ejemplo 1\n",
        "\n",
        "Función que dado un número, le suma 10 puntos más:"
      ]
    },
    {
      "cell_type": "code",
      "metadata": {
        "colab": {
          "base_uri": "https://localhost:8080/"
        },
        "id": "MRnWT4-Dz8yJ",
        "outputId": "ef2f5890-849e-47ba-883d-68a8e73ee170"
      },
      "source": [
        "plus10 = lambda x: x + 10\n",
        "plus10(5)"
      ],
      "execution_count": null,
      "outputs": [
        {
          "output_type": "execute_result",
          "data": {
            "text/plain": [
              "15"
            ]
          },
          "metadata": {
            "tags": []
          },
          "execution_count": 1
        }
      ]
    },
    {
      "cell_type": "markdown",
      "metadata": {
        "id": "npUEMWbu0Dd7"
      },
      "source": [
        "---\n",
        "\n",
        "#### Ejemplo 2\n",
        "\n",
        "Función que calcula el producto de dos números:"
      ]
    },
    {
      "cell_type": "code",
      "metadata": {
        "id": "EM19vCokv_Lp"
      },
      "source": [
        "prod = lambda x, y: x * y"
      ],
      "execution_count": null,
      "outputs": []
    },
    {
      "cell_type": "code",
      "metadata": {
        "colab": {
          "base_uri": "https://localhost:8080/"
        },
        "id": "enxD7WvLwCtl",
        "outputId": "23ef2e3d-d1ec-45af-f6e6-233377ed1751"
      },
      "source": [
        "prod(5, 10)"
      ],
      "execution_count": null,
      "outputs": [
        {
          "output_type": "execute_result",
          "data": {
            "text/plain": [
              "50"
            ]
          },
          "metadata": {
            "tags": []
          },
          "execution_count": 3
        }
      ]
    },
    {
      "cell_type": "markdown",
      "metadata": {
        "id": "yibBaY-94Mha"
      },
      "source": [
        "---\n",
        "\n",
        "#### Ejemplo 3\n",
        "\n",
        "Función que dados 3 números, calcula el discriminante de la ecuación de segundo grado.\n",
        "\n",
        "Recordemos que dada una ecuación de segundo grado de la forma $$ax^2 + bx + c = 0$$\n",
        "\n",
        "el discriminante es $$\\triangle =  b^2-4ac$$\n",
        "\n",
        "y dependiendo de su signo, nos indica cuantas soluciones reales va a tener la ecuación:\n",
        "\n",
        "- Si $\\triangle > 0$, entonces hay dos soluciones diferentes\n",
        "- Si $\\triangle = 0$, entonces hay dos soluciones que son iguales\n",
        "- Si $\\triangle < 0$, entonces no hay solución"
      ]
    },
    {
      "cell_type": "code",
      "metadata": {
        "colab": {
          "base_uri": "https://localhost:8080/"
        },
        "id": "V5DG4CFW41c4",
        "outputId": "c7b5b7df-d536-447b-d085-55eefa853d93"
      },
      "source": [
        "discriminante = lambda a, b, c: b ** 2 - 4 * a * c\n",
        "discriminante(1, 2, 1) # Se corresponde a la ecuación x^2 + 2x + 1 = 0, cuya única solución es x = -1"
      ],
      "execution_count": null,
      "outputs": [
        {
          "output_type": "execute_result",
          "data": {
            "text/plain": [
              "0"
            ]
          },
          "metadata": {
            "tags": []
          },
          "execution_count": 4
        }
      ]
    },
    {
      "cell_type": "markdown",
      "metadata": {
        "id": "tcWMDcsG5ZN3"
      },
      "source": [
        "---"
      ]
    },
    {
      "cell_type": "markdown",
      "metadata": {
        "id": "xe1Ttp5ZwGKe"
      },
      "source": [
        "## La función `filter()`\n",
        "\n",
        "- Aplica una función a todos los elementos de un objeto iterable\n",
        "- Devuelve un objeto generador, de ahí que usemos la función `list()` para convertirlo a lista\n",
        "- Como output, devuelve los elementos para los cuales el aplicar la función ha devuelto `True`\n",
        "\n",
        "Con la ayuda de las funciones `lambda`, apliquemos `filter()` para quedarnos con los números múltiplos de 7 de la siguiente lista llamada `nums`"
      ]
    },
    {
      "cell_type": "code",
      "metadata": {
        "colab": {
          "base_uri": "https://localhost:8080/"
        },
        "id": "T5cjAfOkwizf",
        "outputId": "b3cc632f-03d7-47d7-9b45-4689e35ad5ac"
      },
      "source": [
        "nums = [49, 57, 62, 147, 2101, 22]\n",
        "list(filter(lambda x: (x % 7 == 0), nums))"
      ],
      "execution_count": null,
      "outputs": [
        {
          "output_type": "execute_result",
          "data": {
            "text/plain": [
              "[49, 147]"
            ]
          },
          "metadata": {
            "tags": []
          },
          "execution_count": 5
        }
      ]
    },
    {
      "cell_type": "markdown",
      "metadata": {
        "id": "AeH0WM_666HK"
      },
      "source": [
        "La función proporcionada a `filter()` no tiene por qué ser `lambda`, sino que puede ser una ya existente, o bien una creada por nosotros mismos.\n",
        "\n",
        "Con las siguientes líneas de código vamos a obtener todas las palabras cuya tercera letra sea `s` haciendo uso de `filter()` y la función creada `third_letter_is_s()`:"
      ]
    },
    {
      "cell_type": "code",
      "metadata": {
        "id": "AjVNskBe7vAD"
      },
      "source": [
        "def third_letter_is_s(word):\n",
        "  return word[2] == \"s\""
      ],
      "execution_count": null,
      "outputs": []
    },
    {
      "cell_type": "code",
      "metadata": {
        "colab": {
          "base_uri": "https://localhost:8080/"
        },
        "id": "k1C7-JWf76Lp",
        "outputId": "75667494-1ef6-4f3a-b569-90f253706b00"
      },
      "source": [
        "words = [\"castaña\", \"astronomía\", \"masa\", \"bolígrafo\", \"mando\", \"tostada\"]\n",
        "list(filter(third_letter_is_s, words))"
      ],
      "execution_count": null,
      "outputs": [
        {
          "output_type": "execute_result",
          "data": {
            "text/plain": [
              "['castaña', 'masa', 'tostada']"
            ]
          },
          "metadata": {
            "tags": []
          },
          "execution_count": 7
        }
      ]
    },
    {
      "cell_type": "markdown",
      "metadata": {
        "id": "CyI_nHtLw2Qk"
      },
      "source": [
        "## La función `reduce()`\n",
        "\n",
        "- Aplica continuamente una misma función a los elementos de un objeto iterable\n",
        "\n",
        "    1. Aplica la función a los primeros dos elementos\n",
        "    2. Aplica la función al resultado del paso anterior y el tercer elemento\n",
        "    3. Aplica la función al resultado del paso anterior y el cuarto elemento\n",
        "    4. Sigue así hasta que solo queda un elemento\n",
        "- Devuelve el valor resultante\n",
        "\n",
        "Con la ayuda de las funciones `lambda`, apliquemos `reduce()` para calcular el producto de todos los elementos de una lista"
      ]
    },
    {
      "cell_type": "code",
      "metadata": {
        "id": "nOVFz8uuw0UJ"
      },
      "source": [
        "from functools import reduce"
      ],
      "execution_count": null,
      "outputs": []
    },
    {
      "cell_type": "code",
      "metadata": {
        "colab": {
          "base_uri": "https://localhost:8080/"
        },
        "id": "W8fGtGNaxj-5",
        "outputId": "18cc4811-f9b5-4c6c-b4dc-175ce8aa215b"
      },
      "source": [
        "nums = [1, 2, 3, 4, 5, 6]\n",
        "reduce(lambda x, y: x * y, nums)"
      ],
      "execution_count": null,
      "outputs": [
        {
          "output_type": "execute_result",
          "data": {
            "text/plain": [
              "720"
            ]
          },
          "metadata": {
            "tags": []
          },
          "execution_count": 9
        }
      ]
    },
    {
      "cell_type": "markdown",
      "metadata": {
        "id": "9u7E8ixv8M02"
      },
      "source": [
        "De nuevo, la función proporcionada a `reduce()` no tiene por qué ser `lambda`, sino que puede ser una ya existente o bien, una creada por nosotros mismos.\n",
        "\n",
        "Con las siguientes líneas de código, vamos a obtener el máximo de una lista dada, haciendo uso de `reduce()` y la función creada `bigger_than()`:"
      ]
    },
    {
      "cell_type": "code",
      "metadata": {
        "id": "nfXGOSCA9CAf"
      },
      "source": [
        "def bigger_than(a, b):\n",
        "  if a > b:\n",
        "    return a\n",
        "  return b"
      ],
      "execution_count": null,
      "outputs": []
    },
    {
      "cell_type": "code",
      "metadata": {
        "colab": {
          "base_uri": "https://localhost:8080/"
        },
        "id": "vKYBPswJFxWw",
        "outputId": "17d878f9-4875-43f4-d22a-311d48223270"
      },
      "source": [
        "bigger_than(14, 7)"
      ],
      "execution_count": null,
      "outputs": [
        {
          "output_type": "execute_result",
          "data": {
            "text/plain": [
              "14"
            ]
          },
          "metadata": {
            "tags": []
          },
          "execution_count": 12
        }
      ]
    },
    {
      "cell_type": "code",
      "metadata": {
        "colab": {
          "base_uri": "https://localhost:8080/"
        },
        "id": "YkR81poo9NEZ",
        "outputId": "6ab2c1d8-96bd-4a29-9944-f33a94812f6a"
      },
      "source": [
        "nums = [-10, 5, 7, -3, 16, -30, 2, 33]\n",
        "reduce(bigger_than, nums)"
      ],
      "execution_count": null,
      "outputs": [
        {
          "output_type": "execute_result",
          "data": {
            "text/plain": [
              "33"
            ]
          },
          "metadata": {
            "tags": []
          },
          "execution_count": 13
        }
      ]
    },
    {
      "cell_type": "markdown",
      "metadata": {
        "id": "c0kYiYJ0x0lH"
      },
      "source": [
        "## La función `map()`\n",
        "\n",
        "- Aplica una misma función a todos los elementos de un objeto iterable\n",
        "- Devuelve un objeto generador, de ahí que usemos la función `list()` para convertirlo a lista\n",
        "- Como output, devuelve el resultado de aplicar la función a cada elemento\n",
        "\n",
        "Con la ayuda de las funciones `lambda`, apliquemos `map()` para calcular las longitudes de las siguientes palabras"
      ]
    },
    {
      "cell_type": "code",
      "metadata": {
        "colab": {
          "base_uri": "https://localhost:8080/"
        },
        "id": "3D4MNmF9xp_V",
        "outputId": "2cc49aa4-e0b1-4b19-9ef7-172a4c7e000c"
      },
      "source": [
        "words = [\"zapato\", \"amigo\", \"yoyo\", \"barco\", \"xilófono\", \"césped\"]\n",
        "list(map(lambda w: len(w), words))"
      ],
      "execution_count": null,
      "outputs": [
        {
          "output_type": "execute_result",
          "data": {
            "text/plain": [
              "[6, 5, 4, 5, 8, 6]"
            ]
          },
          "metadata": {
            "tags": []
          },
          "execution_count": 14
        }
      ]
    },
    {
      "cell_type": "markdown",
      "metadata": {
        "id": "YTk0daHbyWJS"
      },
      "source": [
        "Sin embargo, para este caso en concreto no haría falta usar funciones `lambda`, pues podríamos hacer directamente"
      ]
    },
    {
      "cell_type": "code",
      "metadata": {
        "colab": {
          "base_uri": "https://localhost:8080/"
        },
        "id": "aldFAJFkyfCk",
        "outputId": "2e426103-83b9-4874-b90f-fd0043fe1398"
      },
      "source": [
        "list(map(len, words))"
      ],
      "execution_count": null,
      "outputs": [
        {
          "output_type": "execute_result",
          "data": {
            "text/plain": [
              "[6, 5, 4, 5, 8, 6]"
            ]
          },
          "metadata": {
            "tags": []
          },
          "execution_count": 9
        }
      ]
    },
    {
      "cell_type": "markdown",
      "metadata": {
        "id": "BHi1SsQwyjI9"
      },
      "source": [
        "## La función `sorted()`\n",
        "\n",
        "- Ordena los elementos del objeto iterable que indiquemos de acuerdo a la función que pasemos por parámetro\n",
        "- Como output, devuelve una permutación del objeto iterable ordenado según la función indicada\n",
        "\n",
        "Con la ayuda de las funciones `lambda`, apliquemos `sorted()` para ordenar la lista `words` en función de las longitudes de las palabras en orden descendente."
      ]
    },
    {
      "cell_type": "code",
      "metadata": {
        "colab": {
          "base_uri": "https://localhost:8080/"
        },
        "id": "nhusSK4hygr1",
        "outputId": "5459e67f-8a9c-4524-8a53-3f4793061038"
      },
      "source": [
        "words = [\"zapato\", \"amigo\", \"yoyo\", \"barco\", \"xilófono\", \"césped\"]\n",
        "sorted(words, key = lambda x: len(x), reverse = True)"
      ],
      "execution_count": null,
      "outputs": [
        {
          "output_type": "execute_result",
          "data": {
            "text/plain": [
              "['xilófono', 'zapato', 'césped', 'amigo', 'barco', 'yoyo']"
            ]
          },
          "metadata": {
            "tags": []
          },
          "execution_count": 15
        }
      ]
    },
    {
      "cell_type": "markdown",
      "metadata": {
        "id": "LxV471EnzGRY"
      },
      "source": [
        "De nuevo, podríamos en este caso evitar el uso de las funciones `lambda` haciendo uso del siguiente código:"
      ]
    },
    {
      "cell_type": "code",
      "metadata": {
        "colab": {
          "base_uri": "https://localhost:8080/"
        },
        "id": "BRhVg0lNzC-c",
        "outputId": "c2bc68c4-c640-4fdd-eba8-b0f69914199a"
      },
      "source": [
        "sorted(words, key = len, reverse = True)"
      ],
      "execution_count": null,
      "outputs": [
        {
          "output_type": "execute_result",
          "data": {
            "text/plain": [
              "['xilófono', 'zapato', 'césped', 'amigo', 'barco', 'yoyo']"
            ]
          },
          "metadata": {
            "tags": []
          },
          "execution_count": 16
        }
      ]
    },
    {
      "cell_type": "markdown",
      "metadata": {
        "id": "QvgnMCWhzPzp"
      },
      "source": [
        "**Observación.** Si quisiésemos ordenar en orden ascendente, simplemente tendríamos que indicar `reverse = False`, que al ser el valor por defecto, bastaría con omitir dicho parámetro.\n",
        "\n",
        "**Observación.** Si el tipo de objeto a ser ordenado es un string y no indicamos parámetro `key`, entonces se ordenan por defecto: orden alfabético ascendente."
      ]
    },
    {
      "cell_type": "code",
      "metadata": {
        "id": "_lLiSMQYtNJi",
        "colab": {
          "base_uri": "https://localhost:8080/"
        },
        "outputId": "770f7f83-d792-49f1-bfb5-f6fcd224493b"
      },
      "source": [
        "sorted(words, key = len)"
      ],
      "execution_count": null,
      "outputs": [
        {
          "output_type": "execute_result",
          "data": {
            "text/plain": [
              "['yoyo', 'amigo', 'barco', 'zapato', 'césped', 'xilófono']"
            ]
          },
          "metadata": {
            "tags": []
          },
          "execution_count": 17
        }
      ]
    },
    {
      "cell_type": "code",
      "metadata": {
        "colab": {
          "base_uri": "https://localhost:8080/"
        },
        "id": "_W_nZHZqIXbh",
        "outputId": "007c281a-46a2-4095-d493-c23bfc438935"
      },
      "source": [
        "sorted(words)"
      ],
      "execution_count": null,
      "outputs": [
        {
          "output_type": "execute_result",
          "data": {
            "text/plain": [
              "['amigo', 'barco', 'césped', 'xilófono', 'yoyo', 'zapato']"
            ]
          },
          "metadata": {
            "tags": []
          },
          "execution_count": 18
        }
      ]
    },
    {
      "cell_type": "code",
      "metadata": {
        "id": "ryZ2TW6cKVBU"
      },
      "source": [],
      "execution_count": null,
      "outputs": []
    }
  ]
}