{
  "cells": [
    {
      "cell_type": "markdown",
      "metadata": {
        "id": "bIDMTVrBR0MW"
      },
      "source": [
        "# CLASE 1 : Introducción a Python"
      ]
    },
    {
      "cell_type": "code",
      "execution_count": null,
      "metadata": {
        "id": "g13kvl9YRhaB"
      },
      "outputs": [],
      "source": [
        "print(\"Hola Mundo\")"
      ]
    },
    {
      "cell_type": "code",
      "execution_count": null,
      "metadata": {
        "id": "bfBGMUx05Bcm"
      },
      "outputs": [],
      "source": [
        "print(\"Hola!!\")\n",
        "nombre = input(\"¿Cómo te llamas? \")\n",
        "print(f\"Mucho gusto {nombre}, espero que aprendamos juntos Python!\")"
      ]
    },
    {
      "cell_type": "markdown",
      "metadata": {
        "id": "Pqj2Y5oWUB2C"
      },
      "source": [
        "## Tipos de datos"
      ]
    },
    {
      "cell_type": "markdown",
      "metadata": {
        "id": "XYzndSE5myaK"
      },
      "source": [
        "### Texto o cadenas de caracteres"
      ]
    },
    {
      "cell_type": "code",
      "execution_count": null,
      "metadata": {
        "id": "fX1ajo7ORhXS"
      },
      "outputs": [],
      "source": [
        "string1 = \"azul\"\n",
        "string2 = \"perro\"\n",
        "string3 = \" la escuela esta lejos\""
      ]
    },
    {
      "cell_type": "code",
      "execution_count": null,
      "metadata": {
        "id": "PIhDi2Zb5Bco"
      },
      "outputs": [],
      "source": [
        "print(string1,string2,string3)"
      ]
    },
    {
      "cell_type": "code",
      "execution_count": null,
      "metadata": {
        "id": "hQrk2w7M5Bco"
      },
      "outputs": [],
      "source": [
        "print(string1 + string2 + string3)"
      ]
    },
    {
      "cell_type": "code",
      "execution_count": null,
      "metadata": {
        "id": "m7gj3FDk5Bco"
      },
      "outputs": [],
      "source": [
        "print(string1+' '+string2+' '+string3)"
      ]
    },
    {
      "cell_type": "code",
      "execution_count": null,
      "metadata": {
        "id": "tteG_64NnBvH"
      },
      "outputs": [],
      "source": [
        "type(string1)"
      ]
    },
    {
      "cell_type": "code",
      "execution_count": null,
      "metadata": {
        "id": "zpNCs8d95Bcp"
      },
      "outputs": [],
      "source": [
        "# Recuerden que si asignamos un numero a una variable str su tipo cambiara a int\n",
        "string1=333\n",
        "type(string1)"
      ]
    },
    {
      "cell_type": "markdown",
      "metadata": {
        "id": "-znN5uep5Bcp"
      },
      "source": [
        "### Númericos como los enteros, decimales y complejos"
      ]
    },
    {
      "cell_type": "code",
      "execution_count": null,
      "metadata": {
        "id": "J0WuF4U7RhUd"
      },
      "outputs": [],
      "source": [
        "integer1=1\n",
        "integer2=5\n",
        "integer3=12\n",
        "integer4=56"
      ]
    },
    {
      "cell_type": "code",
      "execution_count": null,
      "metadata": {
        "id": "5c0LaHmV5Bcq"
      },
      "outputs": [],
      "source": [
        "print(integer1,integer2,integer3,integer4)"
      ]
    },
    {
      "cell_type": "code",
      "execution_count": null,
      "metadata": {
        "id": "-F9sDOrr5Bcq"
      },
      "outputs": [],
      "source": [
        "print(\"Estos son los numeros = \",integer1,',',integer2,',',integer3,'y',integer4)"
      ]
    },
    {
      "cell_type": "code",
      "execution_count": null,
      "metadata": {
        "id": "l2agdZ4c5Bcq"
      },
      "outputs": [],
      "source": [
        "print(integer1+integer2+integer3+integer4)# 1+5+12+56"
      ]
    },
    {
      "cell_type": "code",
      "execution_count": null,
      "metadata": {
        "id": "f7hczVKb5Bcq"
      },
      "outputs": [],
      "source": [
        "integer1+integer2+integer3+integer4"
      ]
    },
    {
      "cell_type": "code",
      "execution_count": null,
      "metadata": {
        "id": "Z85qTa8H5Bcq"
      },
      "outputs": [],
      "source": [
        "print(integer2**2) # 5^2"
      ]
    },
    {
      "cell_type": "code",
      "execution_count": null,
      "metadata": {
        "id": "5Y8zSrBZnEsL"
      },
      "outputs": [],
      "source": [
        "type(integer2)"
      ]
    },
    {
      "cell_type": "code",
      "execution_count": null,
      "metadata": {
        "id": "n8FCv707RhSK"
      },
      "outputs": [],
      "source": [
        "float1 = 1.2\n",
        "float2 = -4.2\n",
        "float3 = 5.123"
      ]
    },
    {
      "cell_type": "code",
      "execution_count": null,
      "metadata": {
        "id": "po8zfKcF5Bcr"
      },
      "outputs": [],
      "source": [
        "print(float1,float2,float3)"
      ]
    },
    {
      "cell_type": "code",
      "execution_count": null,
      "metadata": {
        "id": "kUFNXYkg5Bcr"
      },
      "outputs": [],
      "source": [
        "print(float1*float2) # 1.2*(-4.2)"
      ]
    },
    {
      "cell_type": "code",
      "execution_count": null,
      "metadata": {
        "id": "Xu9bJ1QnnItf"
      },
      "outputs": [],
      "source": [
        "type(float2)"
      ]
    },
    {
      "cell_type": "code",
      "execution_count": null,
      "metadata": {
        "id": "xm-RfZIh5Bcr"
      },
      "outputs": [],
      "source": [
        "complex1 = complex(3 + 4j)\n",
        "print(complex1)\n",
        "print(\"La parte imaginaria de complex1 es\",complex1.imag,\"otra frase aqui\")\n",
        "print(f\"La parte real de complex2 es {complex1.real} otra frase aqui\")"
      ]
    },
    {
      "cell_type": "code",
      "execution_count": null,
      "metadata": {
        "id": "ehw_eHD05Bcr"
      },
      "outputs": [],
      "source": [
        "complex2 =complex(12,-1)\n",
        "print(complex2)\n",
        "print(\"La parte imaginaria de complex1 es\",complex2.imag)\n",
        "print(f\"La parte real de complex2 es {complex2.real}\")"
      ]
    },
    {
      "cell_type": "code",
      "execution_count": null,
      "metadata": {
        "id": "Vte4xvEq5Bcr"
      },
      "outputs": [],
      "source": [
        "type(complex2)"
      ]
    },
    {
      "cell_type": "markdown",
      "metadata": {
        "id": "gWweoZ4Q5Bcr"
      },
      "source": [
        "### Booleanos"
      ]
    },
    {
      "cell_type": "code",
      "execution_count": null,
      "metadata": {
        "id": "B7XzgzO9ijqG"
      },
      "outputs": [],
      "source": [
        "bool1 = True\n",
        "bool2 = False\n",
        "print(bool1,bool2)\n",
        "print(f\"la variable bool1 dice {bool1}\")\n",
        "print(\"la variable bool2 dice\", bool2)"
      ]
    },
    {
      "cell_type": "code",
      "execution_count": null,
      "metadata": {
        "id": "bhhxOKlCnNa7"
      },
      "outputs": [],
      "source": [
        "type(bool1)"
      ]
    },
    {
      "cell_type": "code",
      "execution_count": null,
      "metadata": {
        "id": "9xqy7Utl5Bcs"
      },
      "outputs": [],
      "source": [
        "# Para cambiar a 0 o 1 convertimos la variable booleana a entero\n",
        "int(False)"
      ]
    },
    {
      "cell_type": "code",
      "execution_count": null,
      "metadata": {
        "id": "Bfwe_X745Bcs"
      },
      "outputs": [],
      "source": [
        "int(bool1)"
      ]
    },
    {
      "cell_type": "markdown",
      "metadata": {
        "id": "YlQCpt2b5Bcs"
      },
      "source": [
        "## Condicionales\n"
      ]
    },
    {
      "cell_type": "code",
      "execution_count": null,
      "metadata": {
        "id": "1Q5rgltp5Bcs"
      },
      "outputs": [],
      "source": [
        "x=False\n",
        "if x:\n",
        "    print(\"Es True\")\n",
        "else:\n",
        "    print(\"Es False\")\n"
      ]
    },
    {
      "cell_type": "code",
      "execution_count": null,
      "metadata": {
        "id": "aU95UJ835Bcs"
      },
      "outputs": [],
      "source": [
        "x = 10\n",
        "\n",
        "if x == \"Hola\":\n",
        "    print(f'{x} es mayor que 10')\n",
        "elif x < 10:\n",
        "    print(f'{x} es menor que 10')\n",
        "else :\n",
        "    print(x,'es igual o mayor a 10')"
      ]
    },
    {
      "cell_type": "markdown",
      "metadata": {
        "id": "QVFkH-dk5Bcs"
      },
      "source": [
        "## Ejercicios en clase\n",
        "1. Escribe un programa que muestre en pantalla el resultado de la siguiente operación\n",
        "$$\\left (  \\frac{3+2}{2*5} \\right )^2$$"
      ]
    },
    {
      "cell_type": "markdown",
      "metadata": {
        "id": "1AJ85MJr5Bcs"
      },
      "source": [
        "2. Escribe un programa utilizando solo condicionales que reciba en pantalla un color y devuelva una frase indicando si el color pertenece o no al arcoiris. NOTA: Utilicen input para recibir el color por pantalla y las funciones lower() o upper() para estadarizar el texto.\n",
        "\n",
        "<img src = \"https://s1.significados.com/foto/colores-es.png?auto_optimize=low&width=655\">"
      ]
    },
    {
      "cell_type": "code",
      "execution_count": null,
      "metadata": {
        "id": "EKDtuIFN5Bcs"
      },
      "outputs": [],
      "source": []
    },
    {
      "cell_type": "code",
      "execution_count": null,
      "metadata": {
        "id": "x-VgK2YM5Bct"
      },
      "outputs": [],
      "source": []
    },
    {
      "cell_type": "code",
      "execution_count": null,
      "metadata": {
        "id": "QVvHfyZc5Bct"
      },
      "outputs": [],
      "source": []
    }
  ],
  "metadata": {
    "colab": {
      "private_outputs": true,
      "provenance": []
    },
    "kernelspec": {
      "display_name": "Python 3 (ipykernel)",
      "language": "python",
      "name": "python3"
    },
    "language_info": {
      "codemirror_mode": {
        "name": "ipython",
        "version": 3
      },
      "file_extension": ".py",
      "mimetype": "text/x-python",
      "name": "python",
      "nbconvert_exporter": "python",
      "pygments_lexer": "ipython3",
      "version": "3.10.10"
    }
  },
  "nbformat": 4,
  "nbformat_minor": 0
}