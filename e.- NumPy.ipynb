{
  "cells": [
    {
      "cell_type": "markdown",
      "id": "18f82e85",
      "metadata": {
        "id": "18f82e85"
      },
      "source": [
        "# Clase5 : Numpy"
      ]
    },
    {
      "cell_type": "code",
      "execution_count": null,
      "id": "d4c3ca5a",
      "metadata": {
        "id": "d4c3ca5a",
        "outputId": "54e48230-4678-43dc-db82-4815483dff49"
      },
      "outputs": [
        {
          "name": "stdout",
          "output_type": "stream",
          "text": [
            "Requirement already satisfied: numpy in /Library/Frameworks/Python.framework/Versions/3.10/lib/python3.10/site-packages (1.24.2)\r\n"
          ]
        }
      ],
      "source": [
        "!pip install numpy"
      ]
    },
    {
      "cell_type": "code",
      "execution_count": null,
      "id": "55e55803",
      "metadata": {
        "id": "55e55803"
      },
      "outputs": [],
      "source": [
        "import numpy as np"
      ]
    },
    {
      "cell_type": "markdown",
      "id": "71cab0ed",
      "metadata": {
        "id": "71cab0ed"
      },
      "source": [
        "## Creación de arrays"
      ]
    },
    {
      "cell_type": "code",
      "execution_count": null,
      "id": "583bdb0b",
      "metadata": {
        "id": "583bdb0b",
        "outputId": "234b060f-b078-4e11-eea9-df96a22bc5eb"
      },
      "outputs": [
        {
          "data": {
            "text/plain": [
              "array([1, 2, 3, 4, 5])"
            ]
          },
          "execution_count": 3,
          "metadata": {},
          "output_type": "execute_result"
        }
      ],
      "source": [
        "# Crear un array NumPy a partir de una lista\n",
        "arr1 = np.array([1, 2, 3, 4, 5])\n",
        "arr1"
      ]
    },
    {
      "cell_type": "code",
      "execution_count": null,
      "id": "50eb36d5",
      "metadata": {
        "id": "50eb36d5",
        "outputId": "7b0e88a3-775e-4428-bc03-c20a139165ff"
      },
      "outputs": [
        {
          "data": {
            "text/plain": [
              "array([0., 0., 0., 0., 0.])"
            ]
          },
          "execution_count": 4,
          "metadata": {},
          "output_type": "execute_result"
        }
      ],
      "source": [
        "# Crear un array NumPy de ceros\n",
        "arr_zeros = np.zeros(5)\n",
        "arr_zeros"
      ]
    },
    {
      "cell_type": "code",
      "execution_count": null,
      "id": "6d0d39f5",
      "metadata": {
        "id": "6d0d39f5",
        "outputId": "2d76a6ff-3f39-4329-8cba-4b136be868b3"
      },
      "outputs": [
        {
          "data": {
            "text/plain": [
              "array([1., 1., 1., 1., 1.])"
            ]
          },
          "execution_count": 5,
          "metadata": {},
          "output_type": "execute_result"
        }
      ],
      "source": [
        "# Crear un array NumPy de unos\n",
        "arr_ones = np.ones(5)\n",
        "arr_ones"
      ]
    },
    {
      "cell_type": "code",
      "execution_count": null,
      "id": "0a16b34d",
      "metadata": {
        "id": "0a16b34d",
        "outputId": "3fa9b7fe-f871-40fb-dcb8-addc958befd2"
      },
      "outputs": [
        {
          "data": {
            "text/plain": [
              "array([0.        , 0.11111111, 0.22222222, 0.33333333, 0.44444444,\n",
              "       0.55555556, 0.66666667, 0.77777778, 0.88888889, 1.        ])"
            ]
          },
          "execution_count": 6,
          "metadata": {},
          "output_type": "execute_result"
        }
      ],
      "source": [
        "# Crear un array NumPy de números equiespaciados\n",
        "# numpy.linspace(start, stop, num=50, endpoint=True, retstep=False, dtype=None)\n",
        "\n",
        "arr_linspace = np.linspace(0, 1, 10)  # 10 números entre 0 y 1\n",
        "arr_linspace"
      ]
    },
    {
      "cell_type": "code",
      "execution_count": null,
      "id": "fa51ee63",
      "metadata": {
        "id": "fa51ee63",
        "outputId": "aee0d5bf-d084-4b39-e69c-5bc4b34c8270"
      },
      "outputs": [
        {
          "data": {
            "text/plain": [
              "array([0, 2, 4, 6, 8])"
            ]
          },
          "execution_count": 7,
          "metadata": {},
          "output_type": "execute_result"
        }
      ],
      "source": [
        "# Crear un array NumPy de números equiespaciados\n",
        "# numpy.arange(start, stop, step, dtype=None)\n",
        "\n",
        "arr_arange = np.arange(0,10,2)  # números entre 0 y 10 con espacio de 2\n",
        "arr_arange"
      ]
    },
    {
      "cell_type": "code",
      "execution_count": null,
      "id": "386223a9",
      "metadata": {
        "id": "386223a9",
        "outputId": "8fb9e14d-99d2-4820-f773-3f660e3a9a9a"
      },
      "outputs": [
        {
          "data": {
            "text/plain": [
              "array([0.29791806, 0.59171509, 0.44101208, 0.29714174, 0.63131699])"
            ]
          },
          "execution_count": 8,
          "metadata": {},
          "output_type": "execute_result"
        }
      ],
      "source": [
        "# Crear un array NumPy con números aleatorios\n",
        "arr_random = np.random.rand(5)  # 5 números aleatorios entre 0 y 1\n",
        "arr_random"
      ]
    },
    {
      "cell_type": "markdown",
      "id": "409710f7",
      "metadata": {
        "id": "409710f7"
      },
      "source": [
        "## Operaciones básicas"
      ]
    },
    {
      "cell_type": "code",
      "execution_count": null,
      "id": "94683830",
      "metadata": {
        "id": "94683830"
      },
      "outputs": [],
      "source": [
        "arr1 = np.array([1, 2, 3])\n",
        "arr2 = np.array([4, 5, 6])"
      ]
    },
    {
      "cell_type": "code",
      "execution_count": null,
      "id": "7147e7a0",
      "metadata": {
        "id": "7147e7a0",
        "outputId": "08a25b61-50f5-45b4-bae9-baed6a251943"
      },
      "outputs": [
        {
          "data": {
            "text/plain": [
              "array([5, 7, 9])"
            ]
          },
          "execution_count": 10,
          "metadata": {},
          "output_type": "execute_result"
        }
      ],
      "source": [
        "# Suma de arrays\n",
        "suma = arr1 + arr2\n",
        "suma"
      ]
    },
    {
      "cell_type": "code",
      "execution_count": null,
      "id": "811aa991",
      "metadata": {
        "id": "811aa991",
        "outputId": "910167ab-631c-4cb5-8aab-8dd0cb0b3d45"
      },
      "outputs": [
        {
          "data": {
            "text/plain": [
              "array([-3, -3, -3])"
            ]
          },
          "execution_count": 11,
          "metadata": {},
          "output_type": "execute_result"
        }
      ],
      "source": [
        "# Resta de arrays\n",
        "resta = arr1 - arr2\n",
        "resta"
      ]
    },
    {
      "cell_type": "code",
      "execution_count": null,
      "id": "33615192",
      "metadata": {
        "id": "33615192",
        "outputId": "5c67e4f2-6f48-4bfc-c292-96d94ecd42de"
      },
      "outputs": [
        {
          "data": {
            "text/plain": [
              "array([ 4, 10, 18])"
            ]
          },
          "execution_count": 12,
          "metadata": {},
          "output_type": "execute_result"
        }
      ],
      "source": [
        "# Producto elemento por elemento\n",
        "producto = arr1 * arr2\n",
        "producto"
      ]
    },
    {
      "cell_type": "code",
      "execution_count": null,
      "id": "351fb024",
      "metadata": {
        "id": "351fb024",
        "outputId": "1babdd0d-e494-41e2-b27a-390e60970f4f"
      },
      "outputs": [
        {
          "data": {
            "text/plain": [
              "32"
            ]
          },
          "execution_count": 13,
          "metadata": {},
          "output_type": "execute_result"
        }
      ],
      "source": [
        "# Producto punto (dot product)\n",
        "dot_product = np.dot(arr1, arr2)\n",
        "dot_product"
      ]
    },
    {
      "cell_type": "code",
      "execution_count": null,
      "id": "fda3569f",
      "metadata": {
        "id": "fda3569f",
        "outputId": "36ea4c91-a395-432a-cee4-4c7313c84b32"
      },
      "outputs": [
        {
          "data": {
            "text/plain": [
              "array([1, 2, 3])"
            ]
          },
          "execution_count": 14,
          "metadata": {},
          "output_type": "execute_result"
        }
      ],
      "source": [
        "# Transposición de un array\n",
        "transpuesto = arr1.T\n",
        "transpuesto"
      ]
    },
    {
      "cell_type": "markdown",
      "id": "132f0632",
      "metadata": {
        "id": "132f0632"
      },
      "source": [
        "## Manipulación"
      ]
    },
    {
      "cell_type": "code",
      "execution_count": null,
      "id": "f8b6083a",
      "metadata": {
        "id": "f8b6083a"
      },
      "outputs": [],
      "source": [
        "arr = np.array([[1, 2, 3], [4, 5, 6], [7, 8, 9]])"
      ]
    },
    {
      "cell_type": "code",
      "execution_count": null,
      "id": "7f50dd58",
      "metadata": {
        "id": "7f50dd58",
        "outputId": "460280d6-148d-400d-da37-9cb5bf7b8bc0"
      },
      "outputs": [
        {
          "data": {
            "text/plain": [
              "(3, 3)"
            ]
          },
          "execution_count": 23,
          "metadata": {},
          "output_type": "execute_result"
        }
      ],
      "source": [
        "# Obtener la forma (shape) de un array\n",
        "arr_shape = arr.shape\n",
        "arr_shape # (filas,columnas)"
      ]
    },
    {
      "cell_type": "code",
      "execution_count": null,
      "id": "be98a566",
      "metadata": {
        "id": "be98a566",
        "outputId": "5ee98f1f-017c-436a-9427-d89989004194"
      },
      "outputs": [
        {
          "data": {
            "text/plain": [
              "3"
            ]
          },
          "execution_count": 24,
          "metadata": {},
          "output_type": "execute_result"
        }
      ],
      "source": [
        "arr_shape[0]"
      ]
    },
    {
      "cell_type": "code",
      "execution_count": null,
      "id": "0533ec3e",
      "metadata": {
        "id": "0533ec3e",
        "outputId": "bc0fc479-a5b6-4eea-8e4f-4a574da96a8a"
      },
      "outputs": [
        {
          "data": {
            "text/plain": [
              "array([[1, 2, 3],\n",
              "       [4, 5, 6],\n",
              "       [7, 8, 9]])"
            ]
          },
          "execution_count": 25,
          "metadata": {},
          "output_type": "execute_result"
        }
      ],
      "source": [
        "# Cambiar la forma de un array\n",
        "arr_reshape = arr.reshape(3, 3)\n",
        "arr_reshape"
      ]
    },
    {
      "cell_type": "code",
      "execution_count": null,
      "id": "d601c409",
      "metadata": {
        "id": "d601c409",
        "outputId": "9ef95554-fca2-4128-d181-69156bea2b9d"
      },
      "outputs": [
        {
          "data": {
            "text/plain": [
              "array([[2, 3],\n",
              "       [5, 6]])"
            ]
          },
          "execution_count": 26,
          "metadata": {},
          "output_type": "execute_result"
        }
      ],
      "source": [
        "# Indexación y segmentación de arrays\n",
        "subarray = arr[0:2, 1:3]\n",
        "subarray"
      ]
    },
    {
      "cell_type": "code",
      "execution_count": null,
      "id": "d377f72c",
      "metadata": {
        "id": "d377f72c",
        "outputId": "341525a1-eb32-407d-9e7b-a49e066dec37"
      },
      "outputs": [
        {
          "data": {
            "text/plain": [
              "8"
            ]
          },
          "execution_count": 28,
          "metadata": {},
          "output_type": "execute_result"
        }
      ],
      "source": [
        "arr[2,1]"
      ]
    },
    {
      "cell_type": "code",
      "execution_count": null,
      "id": "493f988c",
      "metadata": {
        "id": "493f988c",
        "outputId": "89049701-e707-49eb-dea4-8e169d4f767d"
      },
      "outputs": [
        {
          "data": {
            "text/plain": [
              "array([[4, 5],\n",
              "       [7, 8]])"
            ]
          },
          "execution_count": 33,
          "metadata": {},
          "output_type": "execute_result"
        }
      ],
      "source": [
        "arr[1:3, 0:2]"
      ]
    },
    {
      "cell_type": "code",
      "execution_count": null,
      "id": "0d369dac",
      "metadata": {
        "id": "0d369dac",
        "outputId": "40848bd7-0a2c-417a-ec9c-05eb68aeca7f"
      },
      "outputs": [
        {
          "data": {
            "text/plain": [
              "(1, 9)"
            ]
          },
          "execution_count": 34,
          "metadata": {},
          "output_type": "execute_result"
        }
      ],
      "source": [
        "# Obtener el valor máximo y mínimo de un array\n",
        "max_value = np.max(arr)\n",
        "min_value = np.min(arr)\n",
        "min_value,max_value"
      ]
    },
    {
      "cell_type": "markdown",
      "id": "3191c8dc",
      "metadata": {
        "id": "3191c8dc"
      },
      "source": [
        "## Funciones matemáticas"
      ]
    },
    {
      "cell_type": "code",
      "execution_count": null,
      "id": "4365d078",
      "metadata": {
        "id": "4365d078"
      },
      "outputs": [],
      "source": [
        "arr = np.array([1, 2, 3])"
      ]
    },
    {
      "cell_type": "code",
      "execution_count": null,
      "id": "61a3d724",
      "metadata": {
        "id": "61a3d724",
        "outputId": "ec28b49b-1ca5-40ee-94d6-56b1eb4f9239"
      },
      "outputs": [
        {
          "data": {
            "text/plain": [
              "array([0.84147098, 0.90929743, 0.14112001])"
            ]
          },
          "execution_count": 36,
          "metadata": {},
          "output_type": "execute_result"
        }
      ],
      "source": [
        "seno = np.sin(arr)\n",
        "seno"
      ]
    },
    {
      "cell_type": "code",
      "execution_count": null,
      "id": "b33d347a",
      "metadata": {
        "id": "b33d347a",
        "outputId": "57c673ac-ef9c-427b-9092-6c94cd99af83"
      },
      "outputs": [
        {
          "data": {
            "text/plain": [
              "array([ 0.54030231, -0.41614684, -0.9899925 ])"
            ]
          },
          "execution_count": 37,
          "metadata": {},
          "output_type": "execute_result"
        }
      ],
      "source": [
        "coseno = np.cos(arr)\n",
        "coseno"
      ]
    },
    {
      "cell_type": "code",
      "execution_count": null,
      "id": "6cf176be",
      "metadata": {
        "id": "6cf176be",
        "outputId": "65c951c4-3c24-4b63-96b9-d795f839e710"
      },
      "outputs": [
        {
          "data": {
            "text/plain": [
              "array([ 2.71828183,  7.3890561 , 20.08553692])"
            ]
          },
          "execution_count": 38,
          "metadata": {},
          "output_type": "execute_result"
        }
      ],
      "source": [
        "exponencial = np.exp(arr)\n",
        "exponencial"
      ]
    },
    {
      "cell_type": "code",
      "execution_count": null,
      "id": "15fd21bd",
      "metadata": {
        "id": "15fd21bd",
        "outputId": "193085e1-30e3-4eeb-ac0c-1ef3f4e86cc8"
      },
      "outputs": [
        {
          "data": {
            "text/plain": [
              "array([0.   , 0.693, 1.099])"
            ]
          },
          "execution_count": 43,
          "metadata": {},
          "output_type": "execute_result"
        }
      ],
      "source": [
        "logaritmo = np.log(arr)\n",
        "np.round(logaritmo,3)"
      ]
    },
    {
      "cell_type": "code",
      "execution_count": null,
      "id": "60066f5c",
      "metadata": {
        "id": "60066f5c",
        "outputId": "0d9f35b3-b1e5-4b22-cfa8-0f9b641ed4c0"
      },
      "outputs": [
        {
          "data": {
            "text/plain": [
              "array([1.2, 2.7, 3.5])"
            ]
          },
          "execution_count": 41,
          "metadata": {},
          "output_type": "execute_result"
        }
      ],
      "source": [
        "redondeo = np.round([1.2, 2.7, 3.5],2)\n",
        "redondeo"
      ]
    },
    {
      "cell_type": "markdown",
      "id": "74a70231",
      "metadata": {
        "id": "74a70231"
      },
      "source": [
        "## Álgebra lineal"
      ]
    },
    {
      "cell_type": "code",
      "execution_count": null,
      "id": "bce66dbe",
      "metadata": {
        "id": "bce66dbe",
        "outputId": "7c40d734-d656-40c1-ed67-d383f74a62d0"
      },
      "outputs": [
        {
          "data": {
            "text/plain": [
              "array([5, 6])"
            ]
          },
          "execution_count": 44,
          "metadata": {},
          "output_type": "execute_result"
        }
      ],
      "source": [
        "vector = np.array([5, 6])\n",
        "vector"
      ]
    },
    {
      "cell_type": "code",
      "execution_count": null,
      "id": "ff9efccc",
      "metadata": {
        "id": "ff9efccc",
        "outputId": "009962ad-8492-46db-c3e9-f0cf8dcfa6f0"
      },
      "outputs": [
        {
          "data": {
            "text/plain": [
              "array([[1, 2],\n",
              "       [3, 4]])"
            ]
          },
          "execution_count": 45,
          "metadata": {},
          "output_type": "execute_result"
        }
      ],
      "source": [
        "matriz = np.array([[1, 2], [3, 4]])\n",
        "matriz"
      ]
    },
    {
      "cell_type": "code",
      "execution_count": null,
      "id": "7fcea6a0",
      "metadata": {
        "id": "7fcea6a0",
        "outputId": "e78b7b8e-2787-4db1-e0cc-a3556671b443"
      },
      "outputs": [
        {
          "data": {
            "text/plain": [
              "array([17, 39])"
            ]
          },
          "execution_count": 46,
          "metadata": {},
          "output_type": "execute_result"
        }
      ],
      "source": [
        "producto_matriz = np.dot(matriz, vector)\n",
        "producto_matriz"
      ]
    },
    {
      "cell_type": "code",
      "execution_count": null,
      "id": "9c039c29",
      "metadata": {
        "id": "9c039c29",
        "outputId": "a2e059b3-b0e8-46b4-d6c1-8530d07b2780"
      },
      "outputs": [
        {
          "data": {
            "text/plain": [
              "-2.0000000000000004"
            ]
          },
          "execution_count": 47,
          "metadata": {},
          "output_type": "execute_result"
        }
      ],
      "source": [
        "determinante = np.linalg.det(matriz)\n",
        "determinante"
      ]
    },
    {
      "cell_type": "code",
      "execution_count": null,
      "id": "3822c34d",
      "metadata": {
        "id": "3822c34d",
        "outputId": "d689202e-c78e-4fe9-808a-4537191edfb3"
      },
      "outputs": [
        {
          "data": {
            "text/plain": [
              "array([[-2. ,  1. ],\n",
              "       [ 1.5, -0.5]])"
            ]
          },
          "execution_count": 48,
          "metadata": {},
          "output_type": "execute_result"
        }
      ],
      "source": [
        "inversa = np.linalg.inv(matriz)\n",
        "inversa"
      ]
    },
    {
      "cell_type": "code",
      "execution_count": null,
      "id": "41b64e28",
      "metadata": {
        "id": "41b64e28",
        "outputId": "f852a46b-3b0e-40f2-e4ec-d2a0beac541c"
      },
      "outputs": [
        {
          "data": {
            "text/plain": [
              "array([[1, 3],\n",
              "       [2, 4]])"
            ]
          },
          "execution_count": 49,
          "metadata": {},
          "output_type": "execute_result"
        }
      ],
      "source": [
        "traspuesta = np.transpose(matriz)\n",
        "traspuesta"
      ]
    },
    {
      "cell_type": "code",
      "execution_count": null,
      "id": "5621e0d7",
      "metadata": {
        "id": "5621e0d7"
      },
      "outputs": [],
      "source": [
        "valores_propios,vectores_propios=np.linalg.eig(matriz)"
      ]
    },
    {
      "cell_type": "code",
      "execution_count": null,
      "id": "8abb20f5",
      "metadata": {
        "id": "8abb20f5",
        "outputId": "41e995e4-15f2-4be3-8114-a0e714ec9efe"
      },
      "outputs": [
        {
          "data": {
            "text/plain": [
              "array([[-0.82456484, -0.41597356],\n",
              "       [ 0.56576746, -0.90937671]])"
            ]
          },
          "execution_count": 51,
          "metadata": {},
          "output_type": "execute_result"
        }
      ],
      "source": [
        "vectores_propios"
      ]
    },
    {
      "cell_type": "code",
      "execution_count": null,
      "id": "e783ae80",
      "metadata": {
        "id": "e783ae80",
        "outputId": "5763ceee-f4a8-4497-d9b3-0751de9172fe"
      },
      "outputs": [
        {
          "data": {
            "text/plain": [
              "array([-0.37228132,  5.37228132])"
            ]
          },
          "execution_count": 52,
          "metadata": {},
          "output_type": "execute_result"
        }
      ],
      "source": [
        "valores_propios"
      ]
    },
    {
      "cell_type": "code",
      "execution_count": null,
      "id": "daafd7b0",
      "metadata": {
        "id": "daafd7b0"
      },
      "outputs": [],
      "source": []
    }
  ],
  "metadata": {
    "kernelspec": {
      "display_name": "Python 3 (ipykernel)",
      "language": "python",
      "name": "python3"
    },
    "language_info": {
      "codemirror_mode": {
        "name": "ipython",
        "version": 3
      },
      "file_extension": ".py",
      "mimetype": "text/x-python",
      "name": "python",
      "nbconvert_exporter": "python",
      "pygments_lexer": "ipython3",
      "version": "3.10.10"
    },
    "colab": {
      "provenance": []
    }
  },
  "nbformat": 4,
  "nbformat_minor": 5
}