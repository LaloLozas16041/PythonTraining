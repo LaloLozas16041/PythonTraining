{
  "nbformat": 4,
  "nbformat_minor": 0,
  "metadata": {
    "colab": {
      "provenance": []
    },
    "kernelspec": {
      "name": "python3",
      "display_name": "Python 3"
    }
  },
  "cells": [
    {
      "cell_type": "markdown",
      "metadata": {
        "id": "dT2x6kcV3g8S"
      },
      "source": [
        "# Scripts y Módulos en `Python`"
      ]
    },
    {
      "cell_type": "markdown",
      "metadata": {
        "id": "TMugytgS5V8q"
      },
      "source": [
        "## Scripts\n",
        "\n",
        "**Script.** Es un archivo que contiene líneas de código. En nuestro caso, dichas líneas estarán escritas con el lenguaje de programación `Python`\n",
        "\n",
        "Un script de `Python` tiene la extensión `.py`.\n",
        "\n",
        "Para ejecutar un script de `Python` necesitamos un intérprete como bien puede ser `Spyder`, `Jupyter`, `Google Colab`, ... pero para crearlo nos basta un editor de texto como por ejemplo Text Editor.\n",
        "\n"
      ]
    },
    {
      "cell_type": "markdown",
      "metadata": {
        "id": "fOIMuYWKGYO6"
      },
      "source": [
        "### Creando un script de `Python`\n",
        "\n",
        "En primer lugar, para trabajar con scripts desde Google Drive necesitaremos la aplicación gratuita Text Editor que se consigue en este [link](https://chrome.google.com/webstore/detail/text-editor/gpgjomejfimnbmobcocilppikhncegaj) de la Chrome Web Store.\n",
        "\n",
        "Una vez descargado, podemos crear un nuevo documento de Text Editor. Lo llamaremos `my_first_script.py` y escribiremos la siguiente línea de código:"
      ]
    },
    {
      "cell_type": "code",
      "metadata": {
        "colab": {
          "base_uri": "https://localhost:8080/"
        },
        "id": "Tn2M8klpRlsQ",
        "outputId": "07a628a0-34b3-4283-e68b-3e0aae935196"
      },
      "source": [
        "print(\"Mi primer script dice ¡HOLA!\")"
      ],
      "execution_count": null,
      "outputs": [
        {
          "output_type": "stream",
          "text": [
            "Mi primer script dice ¡HOLA!\n"
          ],
          "name": "stdout"
        }
      ]
    },
    {
      "cell_type": "markdown",
      "metadata": {
        "id": "oVxtevRBRyH5"
      },
      "source": [
        "### Importando un script de `Python`\n",
        "\n",
        "Una vez creado el script, lo guardamos. Una vez guardado, lo podemos importar a este notebook para ejecutarlo.\n",
        "\n",
        "Para ello, lo primero que haremos será darle al notebook acceso a nuestro drive, pues allí es donde tenemos guardado nuestro script llamado `my_first_script.py`\n",
        "\n",
        "Al ejecutar la celda, nos saldrá un link que nos llevará a una página de inicio de sesión de nuestra cuenta de Google Drive. Al proporcionar tanto correo como contraseña, se nos proporcionará un código de acceso que tendremos que introducir en la casilla correspondiente. Una vez completado este último paso, ya tendremos configurado Google Drive en nuestro notebook."
      ]
    },
    {
      "cell_type": "code",
      "metadata": {
        "colab": {
          "base_uri": "https://localhost:8080/"
        },
        "id": "3FkV1SDNTItG",
        "outputId": "c36f65b3-be01-46b7-aa7d-008e4cb217fe"
      },
      "source": [
        "from google.colab import drive\n",
        "drive.mount('/content/drive')"
      ],
      "execution_count": null,
      "outputs": [
        {
          "output_type": "stream",
          "text": [
            "Drive already mounted at /content/drive; to attempt to forcibly remount, call drive.mount(\"/content/drive\", force_remount=True).\n"
          ],
          "name": "stdout"
        }
      ]
    },
    {
      "cell_type": "markdown",
      "metadata": {
        "id": "G6hf_mHQUlAv"
      },
      "source": [
        "A continuación, para poder acceder a nuestro script, necesitamos que la carpeta donde éste esté guardado sea nuestro directorio de trabajo.\n",
        "\n",
        "Para obtener dicha ruta fácilmente, podemos irnos a Archivos, que se encuentra en el menú lateral izquierdo. Allí podemos ver la carpeta drive, que contiene todos nuestros documentos almacenados en Google Drive. Entonces, navegamos hasta la carpeta en cuestión, en nuestro caso, la carpeta scripts. Hacemos click derecho sobre dicha carpeta y seleccionamos Copiar ruta.\n",
        "\n",
        "Entonces, para cambiar el directorio de trabajo, ejecutamos la siguiente línea de código, indicando como path el que acabos de copiar."
      ]
    },
    {
      "cell_type": "code",
      "metadata": {
        "colab": {
          "base_uri": "https://localhost:8080/"
        },
        "id": "FbBwH_bPZQjl",
        "outputId": "c9981108-03cd-401f-d3a5-f21d89fe19b4"
      },
      "source": [
        "%cd /content/drive/MyDrive/python-basico/scripts"
      ],
      "execution_count": null,
      "outputs": [
        {
          "output_type": "stream",
          "text": [
            "/content/drive/.shortcut-targets-by-id/1fzUi9z3DVf4g3auSHypriI3sXmShzLpa/python-basico/scripts\n"
          ],
          "name": "stdout"
        }
      ]
    },
    {
      "cell_type": "markdown",
      "metadata": {
        "id": "NtBeCEB6W3oF"
      },
      "source": [
        "Ya lo tenemos todo listo para importar nuestro primer script:"
      ]
    },
    {
      "cell_type": "code",
      "metadata": {
        "id": "JSFi9BPkW8gR"
      },
      "source": [
        "import my_first_script"
      ],
      "execution_count": null,
      "outputs": []
    },
    {
      "cell_type": "markdown",
      "metadata": {
        "id": "Ep0n-Fe1ZvVT"
      },
      "source": [
        "**¡Cuidado!** Si realizamos algún cambio en el script, no bastará con guardarlo y volver a importar el script. Habrá que reinciar el Kernel y volver a ejecutar todas las líneas de código anteriores: desde la vinculación de Google Drive a nuestro notebook hasta la importación del script."
      ]
    },
    {
      "cell_type": "markdown",
      "metadata": {
        "id": "reK0N9Dj4N9J"
      },
      "source": [
        "## Módulos\n",
        "\n",
        "**Módulo.** Es una librería de código. Es un script que contiene un conjunto de funciones.\n",
        "\n",
        "Un módulo de `Python`, al ser un script, tiene la extensión `.py`.\n",
        "\n",
        "Para ejecutar un módulo de `Python` necesitaremos seguir los mismos pasos que cuando trabajábamos con scripts\n"
      ]
    },
    {
      "cell_type": "markdown",
      "metadata": {
        "id": "Q7RdFpCW7CvY"
      },
      "source": [
        "### Creando un módulo\n",
        "\n",
        "Hemos dicho que un módulo es un script que contiene funciones. Por tanto, lo primero que hacemos es crear un nuevo documento con Text Editor, al que llamaremos `my_first_module.py`.\n",
        "\n",
        "En él declararemos las siguientes funciones:"
      ]
    },
    {
      "cell_type": "code",
      "metadata": {
        "id": "jnrJPN7wjPci"
      },
      "source": [
        "def sum(*numbers):\n",
        "    \"\"\"\n",
        "    Función que suma los elementos que introduzcamos por parámetro\n",
        "    \"\"\"\n",
        "    result = 0\n",
        "    for n in numbers:\n",
        "        result += n\n",
        "\n",
        "    return result\n",
        "\n",
        "def prod(*numbers):\n",
        "    \"\"\"\n",
        "    Función que multiplica los elementos que introduzcamos por parámetro\n",
        "    \"\"\"\n",
        "    result = 1\n",
        "    for n in numbers:\n",
        "        result *= n\n",
        "\n",
        "    return result\n",
        "\n",
        "def description():\n",
        "    print(\"Este módulo tiene 3 funciones: \")\n",
        "    print(\"\\t- la que muestra la descripción del módulo\")\n",
        "    print(\"\\t- la que suma los números que introduzcamos por parámetro\")\n",
        "    print(\"\\t- la que multiplica los números que introduzcamos por parámetro\")"
      ],
      "execution_count": null,
      "outputs": []
    },
    {
      "cell_type": "markdown",
      "metadata": {
        "id": "o8qwBpcw7LLw"
      },
      "source": [
        "### Importando un módulo de `Python`\n",
        "\n"
      ]
    },
    {
      "cell_type": "markdown",
      "metadata": {
        "id": "aoGojeleksOA"
      },
      "source": [
        "Una vez creado el módulo, lo guardamos. Una vez guardado, lo podemos importar a este notebook para ejecutarlo.\n",
        "\n",
        "Para ello, lo primero que haremos será darle al notebook acceso a nuestro drive.\n"
      ]
    },
    {
      "cell_type": "code",
      "metadata": {
        "colab": {
          "base_uri": "https://localhost:8080/"
        },
        "id": "fSjXNTw3kzKa",
        "outputId": "69000229-f6ff-4750-9fa4-87282e792ef2"
      },
      "source": [
        "from google.colab import drive\n",
        "drive.mount('/content/drive')"
      ],
      "execution_count": null,
      "outputs": [
        {
          "output_type": "stream",
          "text": [
            "Mounted at /content/drive\n"
          ],
          "name": "stdout"
        }
      ]
    },
    {
      "cell_type": "markdown",
      "metadata": {
        "id": "OWbuBUGVk348"
      },
      "source": [
        "A continuación, nos aseguramos de que el directorio de trabajo es la carpeta donde tenemos guardado el módulo"
      ]
    },
    {
      "cell_type": "code",
      "metadata": {
        "colab": {
          "base_uri": "https://localhost:8080/"
        },
        "id": "AH9t_rgSk-Jd",
        "outputId": "f35b7307-401c-4379-f4e5-61e837a7ecf6"
      },
      "source": [
        "%cd /content/drive/MyDrive/python-basico/scripts"
      ],
      "execution_count": null,
      "outputs": [
        {
          "output_type": "stream",
          "text": [
            "/content/drive/.shortcut-targets-by-id/1fzUi9z3DVf4g3auSHypriI3sXmShzLpa/python-basico/scripts\n"
          ],
          "name": "stdout"
        }
      ]
    },
    {
      "cell_type": "markdown",
      "metadata": {
        "id": "0hqsA_9JlD3X"
      },
      "source": [
        "Finalmente, importamos el módulo y accedemos a su función con la siguiente sintaxis"
      ]
    },
    {
      "cell_type": "code",
      "metadata": {
        "colab": {
          "base_uri": "https://localhost:8080/"
        },
        "id": "71zfa0OSlDHt",
        "outputId": "dca01818-7f40-471d-95c1-6f3a5f8ada73"
      },
      "source": [
        "import my_first_module\n",
        "\n",
        "my_first_module.my_description()\n",
        "total_sum = my_first_module.my_sum(1, 2, 3, 4, 5, 6, 7, 8, 9, 10)\n",
        "total_prod = my_first_module.my_prod(1, 2, 3, 4, 5, 6, 7, 8, 9, 10)\n",
        "\n",
        "print(\"\\nEl resultado de la suma ha sido {} y el del producto, {}\".format(total_sum, total_prod))"
      ],
      "execution_count": null,
      "outputs": [
        {
          "output_type": "stream",
          "text": [
            "Este módulo tiene 3 funciones: \n",
            "\t- la que muestra la descripción del módulo\n",
            "\t- la que suma los números que introduzcamos por parámetro\n",
            "\t- la que multiplica los números que introduzcamos por parámetro\n",
            "\n",
            "El resultado de la suma ha sido 55 y el del producto, 3628800\n"
          ],
          "name": "stdout"
        }
      ]
    },
    {
      "cell_type": "markdown",
      "metadata": {
        "id": "YocwP3O77mSw"
      },
      "source": [
        "#### Renombrando un módulo"
      ]
    },
    {
      "cell_type": "markdown",
      "metadata": {
        "id": "SKawaE_bltOV"
      },
      "source": [
        "Como recordaréis, cuando vimos por primera vez la palabra reservada `import`, si lo combinábamos con la palabra reservada `as`, conseguíamos renombrar el objeto que importábamos.\n",
        "\n",
        "En este caso, `my_first_module` es un nombre muy largo. Podemos renombrarlo a `mfm` con la siguiente línea de código, de modo que a partir de ahora cuando queramos invocar alguna función de nuestro módulo, en vez de preceder a cada función por `my_first_module`, lo haremos por `mfm`"
      ]
    },
    {
      "cell_type": "code",
      "metadata": {
        "colab": {
          "base_uri": "https://localhost:8080/"
        },
        "id": "Nu0SeK1OmL5A",
        "outputId": "56d3a4c5-f12f-4821-b1ed-a9cd449fc400"
      },
      "source": [
        "import my_first_module as mfm\n",
        "\n",
        "mfm.my_description()\n",
        "total_sum = mfm.my_sum(1, 2, 3, 4, 5, 6, 7, 8, 9, 10)\n",
        "total_prod = mfm.my_prod(1, 2, 3, 4, 5, 6, 7, 8, 9, 10)\n",
        "\n",
        "print(\"\\nEl resultado de la suma ha sido {} y el del producto, {}\".format(total_sum, total_prod))"
      ],
      "execution_count": null,
      "outputs": [
        {
          "output_type": "stream",
          "text": [
            "Este módulo tiene 3 funciones: \n",
            "\t- la que muestra la descripción del módulo\n",
            "\t- la que suma los números que introduzcamos por parámetro\n",
            "\t- la que multiplica los números que introduzcamos por parámetro\n",
            "\n",
            "El resultado de la suma ha sido 55 y el del producto, 3628800\n"
          ],
          "name": "stdout"
        }
      ]
    },
    {
      "cell_type": "markdown",
      "metadata": {
        "id": "-WKMBwrQ7peQ"
      },
      "source": [
        "#### Variables en un módulo"
      ]
    },
    {
      "cell_type": "markdown",
      "metadata": {
        "id": "otIuy90wmadn"
      },
      "source": [
        "Hasta ahora solo hemos visto como acceder a funciones de un módulo, pero los módulos también pueden contener variables. Añadamos a nuestro módulo las dos siguientes líneas de código:"
      ]
    },
    {
      "cell_type": "code",
      "metadata": {
        "id": "U86IXur6mjZX"
      },
      "source": [
        "sum1to10 = my_sum(1, 2, 3, 4, 5, 6, 7, 8, 9, 10)\n",
        "prod1to10 = my_prod(1, 2, 3, 4, 5, 6, 7, 8, 9, 10)"
      ],
      "execution_count": null,
      "outputs": []
    },
    {
      "cell_type": "markdown",
      "metadata": {
        "id": "0gZw-MRJmvfT"
      },
      "source": [
        "**¡Cuidado!** Recordad que si realizamos algún cambio en el script, no bastará con guardarlo y volver a importar el script. Habrá que reinciar el Kernel y volver a ejecutar todas las líneas de código anteriores: desde la vinculación de Google Drive a nuestro notebook hasta la importación del módulo."
      ]
    },
    {
      "cell_type": "markdown",
      "metadata": {
        "id": "rkI9oGj2nIhZ"
      },
      "source": [
        "Volvemos a importar el módulo, pues hemos reinciado el kernel. Esta vez, solamente vamos a acceder a esas dos nuevas variables: `sum1to10` y `prod1to10`. Y lo hacemos del siguiente modo"
      ]
    },
    {
      "cell_type": "code",
      "metadata": {
        "colab": {
          "base_uri": "https://localhost:8080/"
        },
        "id": "cZEvwJT4nXAX",
        "outputId": "c9b72be7-3202-4e93-e84e-d8fc71928902"
      },
      "source": [
        "import my_first_module as mfm\n",
        "\n",
        "print(\"\\nEl resultado de la suma de los 10 primeros números enteros es {} y su producto, {}\".\n",
        "      format(mfm.sum1to10, mfm.prod1to10))"
      ],
      "execution_count": null,
      "outputs": [
        {
          "output_type": "stream",
          "text": [
            "\n",
            "El resultado de la suma de los 10 primeros números enteros es 55 y su producto, 3628800\n"
          ],
          "name": "stdout"
        }
      ]
    },
    {
      "cell_type": "markdown",
      "metadata": {
        "id": "2iWwjJqdnusY"
      },
      "source": [
        "Si recordáis, cuando vimos la función `import`, observamos que no era necesario importar todo el módulo, sino que podíamos importar funciones o incluso variables concretas del módulo con la sintaxis siguiente, y así evitar tener que indicar el nombre del módulo previo al nombre de la función o la variable en cuestión"
      ]
    },
    {
      "cell_type": "code",
      "metadata": {
        "id": "5_6slXBOn9l0"
      },
      "source": [
        "from my_first_module import sum1to10, prod1to10"
      ],
      "execution_count": null,
      "outputs": []
    },
    {
      "cell_type": "markdown",
      "metadata": {
        "id": "WZerIbbxoXSD"
      },
      "source": [
        "De modo que el `print` anterior queda modificado del siguiente modo"
      ]
    },
    {
      "cell_type": "code",
      "metadata": {
        "colab": {
          "base_uri": "https://localhost:8080/"
        },
        "id": "jdY-kueuobBu",
        "outputId": "1e38617d-5dae-4442-aed8-404671f2f9cd"
      },
      "source": [
        "print(\"\\nEl resultado de la suma de los 10 primeros números enteros es {} y su producto, {}\".\n",
        "      format(sum1to10, prod1to10))"
      ],
      "execution_count": null,
      "outputs": [
        {
          "output_type": "stream",
          "text": [
            "\n",
            "El resultado de la suma de los 10 primeros números enteros es 55 y su producto, 3628800\n"
          ],
          "name": "stdout"
        }
      ]
    },
    {
      "cell_type": "markdown",
      "metadata": {
        "id": "WjHyYJv3ohhY"
      },
      "source": [
        "Finalmente, así como podemos modificar el nombre de los módulos, también podemos modificar el nombre tanto de las funciones como de las variables del módulo:"
      ]
    },
    {
      "cell_type": "code",
      "metadata": {
        "colab": {
          "base_uri": "https://localhost:8080/"
        },
        "id": "GhE_XFFLoo1p",
        "outputId": "7afb7e0e-67c5-4c20-cdab-1b145102be94"
      },
      "source": [
        "from my_first_module import my_description as mfm_desc\n",
        "mfm_desc()"
      ],
      "execution_count": null,
      "outputs": [
        {
          "output_type": "stream",
          "text": [
            "Este módulo tiene 3 funciones: \n",
            "\t- la que muestra la descripción del módulo\n",
            "\t- la que suma los números que introduzcamos por parámetro\n",
            "\t- la que multiplica los números que introduzcamos por parámetro\n"
          ],
          "name": "stdout"
        }
      ]
    },
    {
      "cell_type": "markdown",
      "metadata": {
        "id": "KC19WSnW7bBI"
      },
      "source": [
        "### Módulos de `Python`\n",
        "\n",
        "`Python` es un software libre que de por sí ya tiene muchos módulos creados que nos son de mucha utilidad:\n",
        "\n",
        "- `pandas` para trabajar con dataframes\n",
        "- `math` para trabajar con funciones y variables matemáticas\n",
        "- `numpy` para trabajar con elementos numérico\n",
        "- `matplotlib` para hacer representaciones gráficas\n",
        "\n",
        "¡Y muchos más!\n",
        "\n",
        "En secciones futuras veremos en detalle algunos de estos módulos para saber aprovecharlos al máximo."
      ]
    },
    {
      "cell_type": "markdown",
      "metadata": {
        "id": "wftq4uww7gRi"
      },
      "source": [
        "### La función `dir()`"
      ]
    },
    {
      "cell_type": "markdown",
      "metadata": {
        "id": "F6q54bF-pczl"
      },
      "source": [
        "La función `dir()` aplicada a un script nos devuelve los métodos y las variables que contiene.\n",
        "\n",
        "Si la aplicamos a nuestro módulo, al que recordad habíamos renombrado como `mfm`, lo que obtenemos es la siguiente lista de métodos y variables."
      ]
    },
    {
      "cell_type": "code",
      "metadata": {
        "id": "jR0axygB7Kd4",
        "colab": {
          "base_uri": "https://localhost:8080/"
        },
        "outputId": "97c0fb0d-576e-4bb1-b0de-1f3d7850dda2"
      },
      "source": [
        "dir(mfm)"
      ],
      "execution_count": null,
      "outputs": [
        {
          "output_type": "execute_result",
          "data": {
            "text/plain": [
              "['__builtins__',\n",
              " '__cached__',\n",
              " '__doc__',\n",
              " '__file__',\n",
              " '__loader__',\n",
              " '__name__',\n",
              " '__package__',\n",
              " '__spec__',\n",
              " 'my_description',\n",
              " 'my_prod',\n",
              " 'my_sum',\n",
              " 'prod1to10',\n",
              " 'sum1to10']"
            ]
          },
          "metadata": {
            "tags": []
          },
          "execution_count": 10
        }
      ]
    },
    {
      "cell_type": "markdown",
      "metadata": {
        "id": "dkTKW3ANps5X"
      },
      "source": [
        "**Observación.** Como resultado no solamente hemos obtenido los métodos y las variables creados por nosotros, sino que se muestran algunos atributos extras como `.__file__`, que guarda el path donde está guardado el módulo, que son los que se han creado por defecto y a los cuales también podemos acceder:"
      ]
    },
    {
      "cell_type": "code",
      "metadata": {
        "colab": {
          "base_uri": "https://localhost:8080/",
          "height": 37
        },
        "id": "0vPLbNMep7lh",
        "outputId": "3d7c92cf-543a-4b8c-eb72-a75a75b5c632"
      },
      "source": [
        "mfm.__file__"
      ],
      "execution_count": null,
      "outputs": [
        {
          "output_type": "execute_result",
          "data": {
            "application/vnd.google.colaboratory.intrinsic+json": {
              "type": "string"
            },
            "text/plain": [
              "'/content/drive/My Drive/python-basico/scripts/my_first_module.py'"
            ]
          },
          "metadata": {
            "tags": []
          },
          "execution_count": 13
        }
      ]
    }
  ]
}