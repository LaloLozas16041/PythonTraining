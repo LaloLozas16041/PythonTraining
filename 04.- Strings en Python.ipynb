{
  "nbformat": 4,
  "nbformat_minor": 0,
  "metadata": {
    "colab": {
      "provenance": []
    },
    "kernelspec": {
      "name": "python3",
      "display_name": "Python 3"
    }
  },
  "cells": [
    {
      "cell_type": "markdown",
      "metadata": {
        "id": "pWGdvvZGDSM7"
      },
      "source": [
        "# Strings en `Python`"
      ]
    },
    {
      "cell_type": "markdown",
      "metadata": {
        "id": "p1MJUGv7DXFh"
      },
      "source": [
        "## Variable string\n",
        "\n",
        "**String.** Cadena ordenada de caracteres.\n",
        "\n",
        "Una variable de tipo string es aquella que guarda un string. Cuando queremos que una variable se trate de una variable de tipo string, `str` en `Python`, a la hora de declararla, el contenido de la variable debe ir o bien entre comillas dobles `\" \"`, o bien entre comillas simples `' ' `."
      ]
    },
    {
      "cell_type": "code",
      "metadata": {
        "id": "z9K1rKqJDUL2",
        "colab": {
          "base_uri": "https://localhost:8080/"
        },
        "outputId": "2205c46d-9fe4-4634-ed6a-b0cbd7592a6f"
      },
      "source": [
        "s1 = \"Esto es un string entre comillas dobles\"\n",
        "type(s1)"
      ],
      "execution_count": null,
      "outputs": [
        {
          "output_type": "execute_result",
          "data": {
            "text/plain": [
              "str"
            ]
          },
          "metadata": {
            "tags": []
          },
          "execution_count": 24
        }
      ]
    },
    {
      "cell_type": "code",
      "metadata": {
        "id": "mzpZ1jlRDvzG",
        "colab": {
          "base_uri": "https://localhost:8080/"
        },
        "outputId": "d5aee9a1-7668-4b3b-eb60-31fe1e6d7b82"
      },
      "source": [
        "s2 = 'Esto es un string entre comillas simples'\n",
        "type(s2)"
      ],
      "execution_count": null,
      "outputs": [
        {
          "output_type": "execute_result",
          "data": {
            "text/plain": [
              "str"
            ]
          },
          "metadata": {
            "tags": []
          },
          "execution_count": 25
        }
      ]
    },
    {
      "cell_type": "markdown",
      "metadata": {
        "id": "CP00rWi1NqN8"
      },
      "source": [
        "**¡Cuidado!** `Python` no trabaja bien con los acentos. Por tanto, aunque no esté del todo bien escrito, mejor evitarlos, pues nos ahorraremos muchos problemas."
      ]
    },
    {
      "cell_type": "markdown",
      "metadata": {
        "id": "yQE5dsY9EsBd"
      },
      "source": [
        "### String literals\n",
        "\n",
        "El hecho de que el contenido de las variables de tipo `str` vaya entre comillas, ya sean simples o dobles, conlleva a que algunos caracteres deban ser tratados de forma especial.\n",
        "\n",
        "Aquí entran en juego los string literals. Algunos de los más utilizados se muestran en la siguiente tabla:\n",
        "\n",
        "Código | Significado |\n",
        "--- | --- |\n",
        "`\\\\` | Backslash, `\\`|\n",
        "`\\'` | Comilla simple, `'`|\n",
        "`\\\"` | Comilla doble, `\"`|  \n",
        "`\\n` | Salto de línea|\n",
        "`\\t` | Tabulación horizontal|\n",
        "\n",
        "Para más información acerca de los string literals ir a la [documentación](https://docs.python.org/3.7/reference/lexical_analysis.html#string-and-bytes-literals).\n"
      ]
    },
    {
      "cell_type": "markdown",
      "metadata": {
        "id": "jSI6oVIcHPAK"
      },
      "source": [
        "---\n",
        "#### Ejemplo 1\n",
        "\n",
        "Si queremos guardar en una variable el siguiente texto,\n",
        "\n",
        "`Juan dijo: \"me gusta el chocolate\"`\n",
        "\n",
        "lo tendremos que hacer del siguiente modo"
      ]
    },
    {
      "cell_type": "code",
      "metadata": {
        "id": "q5TXs8tMEKZj",
        "colab": {
          "base_uri": "https://localhost:8080/",
          "height": 35
        },
        "outputId": "bc171040-a658-4449-fc2f-159300b5f0e7"
      },
      "source": [
        "s1 = \"Juan dijo: \\\"me gusta el chocolate \\\"\"\n",
        "s1"
      ],
      "execution_count": null,
      "outputs": [
        {
          "output_type": "execute_result",
          "data": {
            "application/vnd.google.colaboratory.intrinsic+json": {
              "type": "string"
            },
            "text/plain": [
              "'Juan dijo: \"me gusta el chocolate \"'"
            ]
          },
          "metadata": {
            "tags": []
          },
          "execution_count": 7
        }
      ]
    },
    {
      "cell_type": "code",
      "metadata": {
        "id": "DMlEKKGRILc_",
        "colab": {
          "base_uri": "https://localhost:8080/",
          "height": 35
        },
        "outputId": "fe00d98e-00fb-481f-a9d6-a4d697013c3a"
      },
      "source": [
        "s2 = 'Juan dijo: \"me gusta el chocolate \"'\n",
        "s2"
      ],
      "execution_count": null,
      "outputs": [
        {
          "output_type": "execute_result",
          "data": {
            "application/vnd.google.colaboratory.intrinsic+json": {
              "type": "string"
            },
            "text/plain": [
              "'Juan dijo: \"me gusta el chocolate \"'"
            ]
          },
          "metadata": {
            "tags": []
          },
          "execution_count": 5
        }
      ]
    },
    {
      "cell_type": "markdown",
      "metadata": {
        "id": "v-6s10ZbIaV3"
      },
      "source": [
        "**Observación.** Si usamos comillas dobles, para guardar la frase de este ejemplo necesitaremos usar string literals, ya que si no nos saltará error. Sin embargo, si usamos comillas simples, para guardar la frase de este ejemplo en una variable no hace falta que cambiemos nada.\n",
        "\n",
        "---\n",
        "\n",
        "---\n",
        "#### Ejemplo 2\n",
        "\n",
        "Si queremos guardar en una variable el siguiente texto,\n",
        "\n",
        "`Ricardo dijo: 'me gusta la playa'`\n",
        "\n",
        "lo tendremos que hacer del siguiente modo"
      ]
    },
    {
      "cell_type": "code",
      "metadata": {
        "id": "NJUu6Z9IIO7c",
        "colab": {
          "base_uri": "https://localhost:8080/",
          "height": 35
        },
        "outputId": "a0a5d3f2-a072-44c5-e344-50d48b80aacd"
      },
      "source": [
        "s1 = \"Ricardo dijo: 'me gusta la playa'\"\n",
        "s1"
      ],
      "execution_count": null,
      "outputs": [
        {
          "output_type": "execute_result",
          "data": {
            "application/vnd.google.colaboratory.intrinsic+json": {
              "type": "string"
            },
            "text/plain": [
              "\"Ricardo dijo: 'me gusta la playa'\""
            ]
          },
          "metadata": {
            "tags": []
          },
          "execution_count": 8
        }
      ]
    },
    {
      "cell_type": "code",
      "metadata": {
        "id": "o7h1UMMfJD9e",
        "colab": {
          "base_uri": "https://localhost:8080/",
          "height": 35
        },
        "outputId": "b87331fc-49a4-40f3-d29c-6ec6a27a12d8"
      },
      "source": [
        "s2 = 'Ricardo dijo: \\'me gusta la playa\\''\n",
        "s2"
      ],
      "execution_count": null,
      "outputs": [
        {
          "output_type": "execute_result",
          "data": {
            "application/vnd.google.colaboratory.intrinsic+json": {
              "type": "string"
            },
            "text/plain": [
              "\"Ricardo dijo: 'me gusta la playa'\""
            ]
          },
          "metadata": {
            "tags": []
          },
          "execution_count": 9
        }
      ]
    },
    {
      "cell_type": "markdown",
      "metadata": {
        "id": "_ScRiZYLJK3f"
      },
      "source": [
        "**Observación.** Si usamos comillas dobles, para guardar la frase de este ejemplo no necesitaremos usar string literals. Sin embargo, si usamos comillas simples, para guardar la frase de este ejemplo en una variable tendremos que usar string literals, porque si no nos saltará un error.\n",
        "\n",
        "---\n",
        "\n"
      ]
    },
    {
      "cell_type": "markdown",
      "metadata": {
        "id": "qHOqGw_WDVxv"
      },
      "source": [
        "---\n",
        "#### Ejemplo 3\n",
        "\n",
        "Si queremos guardar en una variable el siguiente texto y que se conserve el salto de línea,\n",
        "\n",
        "`Con diez cañones por banda,`\n",
        "\n",
        "`viento en popa a toda vela`\n",
        "\n",
        "lo tendremos que hacer del siguiente modo"
      ]
    },
    {
      "cell_type": "code",
      "metadata": {
        "id": "vItHOB6gR0Nh",
        "colab": {
          "base_uri": "https://localhost:8080/",
          "height": 35
        },
        "outputId": "fd1cc9b4-8dc3-4e74-be9d-a525144f7974"
      },
      "source": [
        "s3 = \"Con diez cañones por banda,\\nviento en popa a toda vela\"\n",
        "s3"
      ],
      "execution_count": null,
      "outputs": [
        {
          "output_type": "execute_result",
          "data": {
            "application/vnd.google.colaboratory.intrinsic+json": {
              "type": "string"
            },
            "text/plain": [
              "'Con diez cañones por banda,\\nviento en popa a toda vela'"
            ]
          },
          "metadata": {
            "tags": []
          },
          "execution_count": 1
        }
      ]
    },
    {
      "cell_type": "markdown",
      "metadata": {
        "id": "_pXp4xoPSDOD"
      },
      "source": [
        "**Observación.** El resultado con el salto de línea aplicado lo veremos cuando hablemos de la función `print()`, cosa que haremos más adelante en esta sección.\n",
        "\n",
        "---"
      ]
    },
    {
      "cell_type": "markdown",
      "metadata": {
        "id": "ALPGQb7JJcg6"
      },
      "source": [
        "## Concatenación de strings\n",
        "\n",
        "La concatenación es una operación que une dos o más strings en uno solo.\n",
        "\n",
        "En `Python`, para concatenar dos variables de tipo string usamos la función `+`."
      ]
    },
    {
      "cell_type": "code",
      "metadata": {
        "id": "z_7YiTa_JJBl",
        "colab": {
          "base_uri": "https://localhost:8080/",
          "height": 35
        },
        "outputId": "e599ec10-8d67-44fc-a163-dd3a7015100b"
      },
      "source": [
        "s1 = \"Hola, \"\n",
        "s2 = \"Juan\"\n",
        "s1 + s2"
      ],
      "execution_count": null,
      "outputs": [
        {
          "output_type": "execute_result",
          "data": {
            "application/vnd.google.colaboratory.intrinsic+json": {
              "type": "string"
            },
            "text/plain": [
              "'Hola, Juan'"
            ]
          },
          "metadata": {
            "tags": []
          },
          "execution_count": 2
        }
      ]
    },
    {
      "cell_type": "markdown",
      "metadata": {
        "id": "rNOCfEiSJwYw"
      },
      "source": [
        "**Observación.** La concatenación viene a ser como pegar el final del primer string con el princio del segundo. Entonces, conviene poner un espacio al final de la primera variable a concatenar, o bien al principio de la segunda para que así, al realizar la concatenación, exista ese espacio entre las palabras.\n",
        "\n",
        "De no añadir espacios adicionales, obtendríamos resultados como el mostrado en el siguiente chunk:"
      ]
    },
    {
      "cell_type": "code",
      "metadata": {
        "id": "jdF-7yN2Juxn",
        "colab": {
          "base_uri": "https://localhost:8080/",
          "height": 35
        },
        "outputId": "2e4147ca-543c-4d0e-ffd1-39780aa0a8fd"
      },
      "source": [
        "s1 = \"Bienvenido\"\n",
        "s2 = \"al curso.\"\n",
        "s1 + s2"
      ],
      "execution_count": null,
      "outputs": [
        {
          "output_type": "execute_result",
          "data": {
            "application/vnd.google.colaboratory.intrinsic+json": {
              "type": "string"
            },
            "text/plain": [
              "'Bienvenidoal curso.'"
            ]
          },
          "metadata": {
            "tags": []
          },
          "execution_count": 3
        }
      ]
    },
    {
      "cell_type": "markdown",
      "metadata": {
        "id": "d9dZEzk_KWAz"
      },
      "source": [
        "Si dejamos un espacio adicional al final del string `s1`, obtenemos"
      ]
    },
    {
      "cell_type": "code",
      "metadata": {
        "id": "_EJuV27TKRbh",
        "colab": {
          "base_uri": "https://localhost:8080/",
          "height": 35
        },
        "outputId": "19c66f11-4a31-4682-e914-bc3871b0e7e8"
      },
      "source": [
        "s1 = \"Bienvenido \"\n",
        "s2 = \"al curso.\"\n",
        "s1 + s2"
      ],
      "execution_count": null,
      "outputs": [
        {
          "output_type": "execute_result",
          "data": {
            "application/vnd.google.colaboratory.intrinsic+json": {
              "type": "string"
            },
            "text/plain": [
              "'Bienvenido al curso.'"
            ]
          },
          "metadata": {
            "tags": []
          },
          "execution_count": 4
        }
      ]
    },
    {
      "cell_type": "markdown",
      "metadata": {
        "id": "9du5E41ZKav0"
      },
      "source": [
        "Si dejamos un espacio adicional al principio del string `s2` obtenemos"
      ]
    },
    {
      "cell_type": "code",
      "metadata": {
        "id": "3vP2F5IaKZ_6",
        "colab": {
          "base_uri": "https://localhost:8080/",
          "height": 35
        },
        "outputId": "2fb991f5-de92-4ad0-f585-a9b79b69773d"
      },
      "source": [
        "s1 = \"Bienvenido\"\n",
        "s2 = \" al curso.\"\n",
        "s1 + s2"
      ],
      "execution_count": null,
      "outputs": [
        {
          "output_type": "execute_result",
          "data": {
            "application/vnd.google.colaboratory.intrinsic+json": {
              "type": "string"
            },
            "text/plain": [
              "'Bienvenido al curso.'"
            ]
          },
          "metadata": {
            "tags": []
          },
          "execution_count": 5
        }
      ]
    },
    {
      "cell_type": "markdown",
      "metadata": {
        "id": "Ym6pM_JpKjZc"
      },
      "source": [
        "Si dejamos un espacio adicional tanto al final del string `s1` como al principio del string `s2` obtenemos"
      ]
    },
    {
      "cell_type": "code",
      "metadata": {
        "id": "9LuM4dKXKgXm",
        "colab": {
          "base_uri": "https://localhost:8080/",
          "height": 35
        },
        "outputId": "c2ba1eef-9d13-4fce-eb29-69f6e76b2698"
      },
      "source": [
        "s1 = \"Bienvenido \"\n",
        "s2 = \" al curso.\"\n",
        "s1 + s2"
      ],
      "execution_count": null,
      "outputs": [
        {
          "output_type": "execute_result",
          "data": {
            "application/vnd.google.colaboratory.intrinsic+json": {
              "type": "string"
            },
            "text/plain": [
              "'Bienvenido  al curso.'"
            ]
          },
          "metadata": {
            "tags": []
          },
          "execution_count": 6
        }
      ]
    },
    {
      "cell_type": "markdown",
      "metadata": {
        "id": "NU_rFNFgK89O"
      },
      "source": [
        "Si dejamos más de un espacio adicional ya sea al final del string `s1` como al principio del string `s2` obtenemos"
      ]
    },
    {
      "cell_type": "code",
      "metadata": {
        "id": "r7Z3Nk5aKntY",
        "colab": {
          "base_uri": "https://localhost:8080/",
          "height": 35
        },
        "outputId": "6caf3db9-35fb-43cd-b269-d0d760bcfd50"
      },
      "source": [
        "s1 = \"Bienvenido   \" # Se han dejado 3 espacios adicionales\n",
        "s2 = \"al curso.\"\n",
        "s1 + s2"
      ],
      "execution_count": null,
      "outputs": [
        {
          "output_type": "execute_result",
          "data": {
            "application/vnd.google.colaboratory.intrinsic+json": {
              "type": "string"
            },
            "text/plain": [
              "'Bienvenido   al curso.'"
            ]
          },
          "metadata": {
            "tags": []
          },
          "execution_count": 7
        }
      ]
    },
    {
      "cell_type": "markdown",
      "metadata": {
        "id": "vzQYnkCGLGkm"
      },
      "source": [
        "**Observación.** El número de espacios añadidos se conserva. Más adelante en esta sección veremos como eliminar los posibles espacios en blanco sobrantes."
      ]
    },
    {
      "cell_type": "markdown",
      "metadata": {
        "id": "qHgzWLOSLinW"
      },
      "source": [
        "## Repetición de strings\n",
        "\n",
        "La repetición es una operación que repite la variable string tantas veces como indiquemos.\n",
        "\n",
        "En `Python`, para repetir una variable de tipo string usamos la función `*`. El orden de los factores no altera el producto. Es decir, tanto da usar la sintaxis `num_repeticiones * variable_str` como `variable_str * num__repeticiones`."
      ]
    },
    {
      "cell_type": "code",
      "metadata": {
        "id": "LpodGsA0LEin",
        "colab": {
          "base_uri": "https://localhost:8080/",
          "height": 35
        },
        "outputId": "c288395f-3ee0-4755-cd74-627d48ecfede"
      },
      "source": [
        "s1 = \"¿Falta mucho? \"\n",
        "s1 * 5"
      ],
      "execution_count": null,
      "outputs": [
        {
          "output_type": "execute_result",
          "data": {
            "application/vnd.google.colaboratory.intrinsic+json": {
              "type": "string"
            },
            "text/plain": [
              "'¿Falta mucho? ¿Falta mucho? ¿Falta mucho? ¿Falta mucho? ¿Falta mucho? '"
            ]
          },
          "metadata": {
            "tags": []
          },
          "execution_count": 8
        }
      ]
    },
    {
      "cell_type": "code",
      "metadata": {
        "id": "sztiZXAvLyZ6",
        "colab": {
          "base_uri": "https://localhost:8080/",
          "height": 35
        },
        "outputId": "6bd3c979-cc85-462e-c2b8-e4043f62d205"
      },
      "source": [
        "s2 = \" ¿Hemos llegado ya?\"\n",
        "5 * s2"
      ],
      "execution_count": null,
      "outputs": [
        {
          "output_type": "execute_result",
          "data": {
            "application/vnd.google.colaboratory.intrinsic+json": {
              "type": "string"
            },
            "text/plain": [
              "' ¿Hemos llegado ya? ¿Hemos llegado ya? ¿Hemos llegado ya? ¿Hemos llegado ya? ¿Hemos llegado ya?'"
            ]
          },
          "metadata": {
            "tags": []
          },
          "execution_count": 9
        }
      ]
    },
    {
      "cell_type": "markdown",
      "metadata": {
        "id": "cSIsJQ_BL_Y9"
      },
      "source": [
        "**Observación.** Al igual que ocurría con la concatenación, hay que añadir manualmente uno o más espacios en blanco al principio o al final del string para que las repeticiones no estén pegadas las unas a las otras, tal y como ocurre en el siguiente chunk de código."
      ]
    },
    {
      "cell_type": "code",
      "metadata": {
        "id": "_pzo0JaSL7Vp",
        "colab": {
          "base_uri": "https://localhost:8080/",
          "height": 35
        },
        "outputId": "430d6037-d736-4a83-b7ee-ee4b67f33c2d"
      },
      "source": [
        "s3 = \"Había una vez un barquito chiquitito\"\n",
        "s3 * 2"
      ],
      "execution_count": null,
      "outputs": [
        {
          "output_type": "execute_result",
          "data": {
            "application/vnd.google.colaboratory.intrinsic+json": {
              "type": "string"
            },
            "text/plain": [
              "'Había una vez un barquito chiquititoHabía una vez un barquito chiquitito'"
            ]
          },
          "metadata": {
            "tags": []
          },
          "execution_count": 10
        }
      ]
    },
    {
      "cell_type": "markdown",
      "metadata": {
        "id": "wo25mW-rOrXR"
      },
      "source": [
        "## La función `print()`\n",
        "\n",
        "Hasta ahora, cada vez que mostrábamos strings por pantalla, estos salían entre comillas simples.\n",
        "\n",
        "La función `print()` nos sirve, entre otras muchas cosas, para mostrar strings por pantalla."
      ]
    },
    {
      "cell_type": "code",
      "metadata": {
        "id": "K2MoiN21M1uA",
        "colab": {
          "base_uri": "https://localhost:8080/",
          "height": 35
        },
        "outputId": "df10937e-89a8-4667-db6e-010c57d25485"
      },
      "source": [
        "s = \"Hello world\"\n",
        "s"
      ],
      "execution_count": null,
      "outputs": [
        {
          "output_type": "execute_result",
          "data": {
            "application/vnd.google.colaboratory.intrinsic+json": {
              "type": "string"
            },
            "text/plain": [
              "'Hello world'"
            ]
          },
          "metadata": {
            "tags": []
          },
          "execution_count": 11
        }
      ]
    },
    {
      "cell_type": "code",
      "metadata": {
        "id": "xVQc9sEsPO8Z",
        "colab": {
          "base_uri": "https://localhost:8080/"
        },
        "outputId": "7856c0a2-33e7-45f2-b909-d7d526794f0a"
      },
      "source": [
        "print(s)"
      ],
      "execution_count": null,
      "outputs": [
        {
          "output_type": "stream",
          "text": [
            "Hello world\n"
          ],
          "name": "stdout"
        }
      ]
    },
    {
      "cell_type": "markdown",
      "metadata": {
        "id": "dtYOLUMpPTIW"
      },
      "source": [
        "**Observación.** Como véis, una de las principales diferencias entre usar la función `print()` o no usarla es que a la hora de mostrar la cadena de caracteres por pantalla, ésta no va entre comillas simples y el formato en que se imprime también es diferente."
      ]
    },
    {
      "cell_type": "markdown",
      "metadata": {
        "id": "MYnRe5auPdQY"
      },
      "source": [
        "No solamente podemos imprimir strings, sino que podemos mostrar el resultado de cualquier variable (numérica o de tipo string)"
      ]
    },
    {
      "cell_type": "code",
      "metadata": {
        "id": "ENJnmijKPPZC",
        "colab": {
          "base_uri": "https://localhost:8080/"
        },
        "outputId": "539e0083-ee0f-4edf-9e2d-041ef31a24f8"
      },
      "source": [
        "x = \"Vivo en una isla\"\n",
        "print(x)"
      ],
      "execution_count": null,
      "outputs": [
        {
          "output_type": "stream",
          "text": [
            "Vivo en una isla\n"
          ],
          "name": "stdout"
        }
      ]
    },
    {
      "cell_type": "code",
      "metadata": {
        "id": "dtGN6_P1PiP-",
        "colab": {
          "base_uri": "https://localhost:8080/"
        },
        "outputId": "e353b9df-1a4d-48ca-e2ab-cb611edde575"
      },
      "source": [
        "y = 2.0\n",
        "print(y)"
      ],
      "execution_count": null,
      "outputs": [
        {
          "output_type": "stream",
          "text": [
            "2.0\n"
          ],
          "name": "stdout"
        }
      ]
    },
    {
      "cell_type": "markdown",
      "metadata": {
        "id": "GHlENu3_PkfP"
      },
      "source": [
        "Al igual que podíamos concatenar strings con la función `+`, combinando ésta junto con la función `print()` podemos concatenar strings con variables que almacenan strings"
      ]
    },
    {
      "cell_type": "code",
      "metadata": {
        "id": "HB77iDi_Pjkg",
        "colab": {
          "base_uri": "https://localhost:8080/"
        },
        "outputId": "104833c3-f49a-4740-e2c7-c9a4fa11e115"
      },
      "source": [
        "name = \"Don Pepito\"\n",
        "print(\"¡Buenos días, \" + name + \"!\")"
      ],
      "execution_count": null,
      "outputs": [
        {
          "output_type": "stream",
          "text": [
            "¡Buenos días, Don Pepito!\n"
          ],
          "name": "stdout"
        }
      ]
    },
    {
      "cell_type": "markdown",
      "metadata": {
        "id": "MDtylwkDQIkh"
      },
      "source": [
        "**Observación.** Recordad introducir un espacio adicional siempre que vayáis a concatenar cualquier cosa (strings con strings, strings con variables...), para que así el resultado quede legible.\n",
        "\n",
        "**Observación.** Utilizando la función `print()`, el uso de acentos o de algunos caracteres especiales como `¿` o `¡` ya no dan problemas a la hora de mostrarse por pantalla.\n",
        "\n",
        "**Observación.** Podemos obtener exactamente el mismo resultado utilizando comas (`,`) en vez de la función `+`. Eso sí, después de cada coma se nos añade automáticamente un espacio en blanco que no siempre buscamos, como ocurre a continuación después del resultado de la variable `name`."
      ]
    },
    {
      "cell_type": "code",
      "metadata": {
        "colab": {
          "base_uri": "https://localhost:8080/"
        },
        "id": "XXvLP3cZkCBz",
        "outputId": "44d9d965-bd86-42c3-db42-6939bf616580"
      },
      "source": [
        "name = \"Don Pepito\"\n",
        "print(\"¡Buenos días,\", name, \"!\")"
      ],
      "execution_count": null,
      "outputs": [
        {
          "output_type": "stream",
          "text": [
            "¡Buenos días, Don Pepito !\n"
          ],
          "name": "stdout"
        }
      ]
    },
    {
      "cell_type": "markdown",
      "metadata": {
        "id": "FfdJvochQjiq"
      },
      "source": [
        "Al igual que podíamos repetir un mismo string un número cualquiera de veces con la función `*`, combinando ésta junto con la función `print()` podemos multiplicar un string o variables que contengan strings"
      ]
    },
    {
      "cell_type": "code",
      "metadata": {
        "id": "OihlvdsJPz4g",
        "colab": {
          "base_uri": "https://localhost:8080/"
        },
        "outputId": "58e0d4c2-3b85-4e80-b6cb-35b7a894d2ea"
      },
      "source": [
        "print(\"¿Falta mucho? \" * 5)"
      ],
      "execution_count": null,
      "outputs": [
        {
          "output_type": "stream",
          "text": [
            "¿Falta mucho? ¿Falta mucho? ¿Falta mucho? ¿Falta mucho? ¿Falta mucho? \n"
          ],
          "name": "stdout"
        }
      ]
    },
    {
      "cell_type": "code",
      "metadata": {
        "id": "YSdUxXurQpJA",
        "colab": {
          "base_uri": "https://localhost:8080/"
        },
        "outputId": "171ce0e8-bfca-4015-aaff-54dcec02f392"
      },
      "source": [
        "pregunta = \"¿Falta mucho? \"\n",
        "print(pregunta * 5)"
      ],
      "execution_count": null,
      "outputs": [
        {
          "output_type": "stream",
          "text": [
            "¿Falta mucho? ¿Falta mucho? ¿Falta mucho? ¿Falta mucho? ¿Falta mucho? \n"
          ],
          "name": "stdout"
        }
      ]
    },
    {
      "cell_type": "markdown",
      "metadata": {
        "id": "wvEiZ5QaQtlO"
      },
      "source": [
        "### La función `str()`\n",
        "\n",
        "Con la función `str()`, podemos concatenar strings y variables de cualquier tipo dentro de un `print()`:"
      ]
    },
    {
      "cell_type": "code",
      "metadata": {
        "id": "AX3MbsTIQqtw",
        "colab": {
          "base_uri": "https://localhost:8080/"
        },
        "outputId": "8ef69a6c-b870-4be3-dfc8-8878d1a90277"
      },
      "source": [
        "nombre = \"María\"\n",
        "edad = 22\n",
        "print(\"Mi hermana se llama \" + nombre + \" y su edad es \" + str(edad))"
      ],
      "execution_count": null,
      "outputs": [
        {
          "output_type": "stream",
          "text": [
            "Mi hermana se llama María y su edad es 22\n"
          ],
          "name": "stdout"
        }
      ]
    },
    {
      "cell_type": "markdown",
      "metadata": {
        "id": "Ih9glB7MQ86u"
      },
      "source": [
        "### El método `.format()`\n",
        "\n",
        "Existe otra forma de concatenar strings y variables de cualquier tipo dentro de un `print()` y es gracias al método `.format()`. Lo que hay que hacer es indicar con llaves, `{}`, donde queremos situar el resultado de las variables y luego, dentro de los paréntesis del método `.format()`, indicar las variables en su respectivo orden"
      ]
    },
    {
      "cell_type": "code",
      "metadata": {
        "id": "JXsuEE6mQ5-2",
        "colab": {
          "base_uri": "https://localhost:8080/"
        },
        "outputId": "f9294588-a09b-449c-be2a-5fd8e4228e8d"
      },
      "source": [
        "nombre = \"Ricardo\"\n",
        "numero_gatos = 3\n",
        "print(\"Mi abuelo se llama {} y tiene {} gatos\".format(nombre, numero_gatos))"
      ],
      "execution_count": null,
      "outputs": [
        {
          "output_type": "stream",
          "text": [
            "Mi abuelo se llama Ricardo y tiene 3 gatos\n"
          ],
          "name": "stdout"
        }
      ]
    },
    {
      "cell_type": "markdown",
      "metadata": {
        "id": "h1aW0ELISP5F"
      },
      "source": [
        "### Saltos de línea y tabulaciones\n",
        "\n",
        "Si recordáis el ejemplo 3, teníamos la variable `s3`, que contenía un salto de línea"
      ]
    },
    {
      "cell_type": "code",
      "metadata": {
        "id": "iWt5g6NYROV6"
      },
      "source": [
        "s3 = \"Con diez cañones por banda,\\nviento en popa a toda vela\""
      ],
      "execution_count": null,
      "outputs": []
    },
    {
      "cell_type": "markdown",
      "metadata": {
        "id": "LB2fFkedSeGH"
      },
      "source": [
        "Con la función `print()`, seremos capaces de visualizar dicho salto de línea"
      ]
    },
    {
      "cell_type": "code",
      "metadata": {
        "id": "_GkauiL5SdL6",
        "colab": {
          "base_uri": "https://localhost:8080/"
        },
        "outputId": "19a0384c-73ae-470a-a015-51749be06a12"
      },
      "source": [
        "print(s3)"
      ],
      "execution_count": null,
      "outputs": [
        {
          "output_type": "stream",
          "text": [
            "Con diez cañones por banda,\n",
            "viento en popa a toda vela\n"
          ],
          "name": "stdout"
        }
      ]
    },
    {
      "cell_type": "markdown",
      "metadata": {
        "id": "s3XBd_rTSjzf"
      },
      "source": [
        "Y lo mismo ocurriría con la tabulación horizontal."
      ]
    },
    {
      "cell_type": "code",
      "metadata": {
        "id": "0SKrWJ9wSipI",
        "colab": {
          "base_uri": "https://localhost:8080/",
          "height": 35
        },
        "outputId": "3c32bcdd-8499-47ab-a39d-79989761bafb"
      },
      "source": [
        "s4 = \"La string literal \\\\t producía \\t una tabulación horizontal\"\n",
        "s4"
      ],
      "execution_count": null,
      "outputs": [
        {
          "output_type": "execute_result",
          "data": {
            "application/vnd.google.colaboratory.intrinsic+json": {
              "type": "string"
            },
            "text/plain": [
              "'La string literal \\\\t producía \\t una tabulación horizontal'"
            ]
          },
          "metadata": {
            "tags": []
          },
          "execution_count": 23
        }
      ]
    },
    {
      "cell_type": "code",
      "metadata": {
        "id": "X6bxByQ1Sx1l",
        "colab": {
          "base_uri": "https://localhost:8080/"
        },
        "outputId": "3cea97c8-dc1a-482a-f81f-5a245dd40e57"
      },
      "source": [
        "print(s4)"
      ],
      "execution_count": null,
      "outputs": [
        {
          "output_type": "stream",
          "text": [
            "La string literal \\t producía \t una tabulación horizontal\n"
          ],
          "name": "stdout"
        }
      ]
    },
    {
      "cell_type": "markdown",
      "metadata": {
        "id": "WoD3EBWYS4ts"
      },
      "source": [
        "## Substrings\n",
        "\n",
        "Para acceder a un caracter de una variable string usamos la sintaxis de `[]`"
      ]
    },
    {
      "cell_type": "code",
      "metadata": {
        "id": "HDNHCkOuS84O"
      },
      "source": [
        "s = \"Soy fan de los videojuegos\""
      ],
      "execution_count": null,
      "outputs": []
    },
    {
      "cell_type": "code",
      "metadata": {
        "id": "mleJd9yDz2aO",
        "colab": {
          "base_uri": "https://localhost:8080/",
          "height": 37
        },
        "outputId": "20a6f5d9-4cdb-4541-8af7-cb792626054b"
      },
      "source": [
        "s[0] # Primer caracter"
      ],
      "execution_count": null,
      "outputs": [
        {
          "output_type": "execute_result",
          "data": {
            "application/vnd.google.colaboratory.intrinsic+json": {
              "type": "string"
            },
            "text/plain": [
              "'S'"
            ]
          },
          "metadata": {},
          "execution_count": 2
        }
      ]
    },
    {
      "cell_type": "code",
      "metadata": {
        "id": "zuTsx3EWz20K",
        "colab": {
          "base_uri": "https://localhost:8080/",
          "height": 37
        },
        "outputId": "12098609-47ad-4440-c615-defb88ff5336"
      },
      "source": [
        "s[5] # Sexto caracter"
      ],
      "execution_count": null,
      "outputs": [
        {
          "output_type": "execute_result",
          "data": {
            "application/vnd.google.colaboratory.intrinsic+json": {
              "type": "string"
            },
            "text/plain": [
              "'a'"
            ]
          },
          "metadata": {},
          "execution_count": 3
        }
      ]
    },
    {
      "cell_type": "markdown",
      "metadata": {
        "id": "LHb1cjRfz9qi"
      },
      "source": [
        "**¡Cuidado!** En `Python`, los índices siempre empiezan en 0, al contrario de lo que ocurre con otros lenguajes de programación, como por ejemplo `R`."
      ]
    },
    {
      "cell_type": "markdown",
      "metadata": {
        "id": "hLzZPNdt0Gha"
      },
      "source": [
        "Si precedemos el índice por un `-`, entonces empezamos desde el final"
      ]
    },
    {
      "cell_type": "code",
      "metadata": {
        "id": "GkCm5VQVz6uM",
        "colab": {
          "base_uri": "https://localhost:8080/",
          "height": 37
        },
        "outputId": "175701ae-77fe-4e3d-e8d5-53b847db3d0a"
      },
      "source": [
        "s[-1] # Último elemento"
      ],
      "execution_count": null,
      "outputs": [
        {
          "output_type": "execute_result",
          "data": {
            "application/vnd.google.colaboratory.intrinsic+json": {
              "type": "string"
            },
            "text/plain": [
              "'s'"
            ]
          },
          "metadata": {
            "tags": []
          },
          "execution_count": 4
        }
      ]
    },
    {
      "cell_type": "code",
      "metadata": {
        "id": "niBjyqij0LHK",
        "colab": {
          "base_uri": "https://localhost:8080/",
          "height": 37
        },
        "outputId": "de4fba97-f38b-487f-eb5e-9f2945097539"
      },
      "source": [
        "s[-7] # Séptimo elemento empezando por el final"
      ],
      "execution_count": null,
      "outputs": [
        {
          "output_type": "execute_result",
          "data": {
            "application/vnd.google.colaboratory.intrinsic+json": {
              "type": "string"
            },
            "text/plain": [
              "'o'"
            ]
          },
          "metadata": {
            "tags": []
          },
          "execution_count": 5
        }
      ]
    },
    {
      "cell_type": "markdown",
      "metadata": {
        "id": "TUyZcCC10cw7"
      },
      "source": [
        "Si queremos acceder a varios caracteres seguidos, podemos utilizar la función `:`"
      ]
    },
    {
      "cell_type": "code",
      "metadata": {
        "id": "_RoR2o970Phv",
        "colab": {
          "base_uri": "https://localhost:8080/",
          "height": 35
        },
        "outputId": "8d940521-08b3-4ef1-a836-1765cb62af82"
      },
      "source": [
        "s[4:7] # Del quinto al séptimo"
      ],
      "execution_count": null,
      "outputs": [
        {
          "output_type": "execute_result",
          "data": {
            "application/vnd.google.colaboratory.intrinsic+json": {
              "type": "string"
            },
            "text/plain": [
              "'fan'"
            ]
          },
          "metadata": {
            "tags": []
          },
          "execution_count": 28
        }
      ]
    },
    {
      "cell_type": "code",
      "metadata": {
        "id": "AxGN5YDN0hUI",
        "colab": {
          "base_uri": "https://localhost:8080/",
          "height": 35
        },
        "outputId": "571a1899-278d-4517-9670-b9e83945af24"
      },
      "source": [
        "s[:7] # Del primero al séptimo"
      ],
      "execution_count": null,
      "outputs": [
        {
          "output_type": "execute_result",
          "data": {
            "application/vnd.google.colaboratory.intrinsic+json": {
              "type": "string"
            },
            "text/plain": [
              "'Soy fan'"
            ]
          },
          "metadata": {
            "tags": []
          },
          "execution_count": 29
        }
      ]
    },
    {
      "cell_type": "code",
      "metadata": {
        "id": "teaoOQ6-0wTL",
        "colab": {
          "base_uri": "https://localhost:8080/",
          "height": 37
        },
        "outputId": "ed49329f-dbd9-489e-8899-11decbf77157"
      },
      "source": [
        "s[8:] # Del noveno al final"
      ],
      "execution_count": null,
      "outputs": [
        {
          "output_type": "execute_result",
          "data": {
            "application/vnd.google.colaboratory.intrinsic+json": {
              "type": "string"
            },
            "text/plain": [
              "'de los videojuegos'"
            ]
          },
          "metadata": {},
          "execution_count": 4
        }
      ]
    },
    {
      "cell_type": "markdown",
      "metadata": {
        "id": "5K42r-av1Afn"
      },
      "source": [
        "**¡Cuidado!** En `Python`, siempre que usemos la función `:`, el índice que se encuentra a la derecha nunca es incluido, tal y como hemos visto en los ejemplos anteriores."
      ]
    },
    {
      "cell_type": "markdown",
      "metadata": {
        "id": "0rlXs9bj1ODn"
      },
      "source": [
        "Si precedemos por `-` al índice de la izquierda de `:` y no ponemos ninguno a su derecha, lo que hacemos es obtener los últimos elementos"
      ]
    },
    {
      "cell_type": "code",
      "metadata": {
        "id": "cyF8_JVM07ju",
        "colab": {
          "base_uri": "https://localhost:8080/",
          "height": 35
        },
        "outputId": "591dea98-195d-4399-b773-8f6ccbfc7ee9"
      },
      "source": [
        "s[-10:] # Diez últimos elementos"
      ],
      "execution_count": null,
      "outputs": [
        {
          "output_type": "execute_result",
          "data": {
            "application/vnd.google.colaboratory.intrinsic+json": {
              "type": "string"
            },
            "text/plain": [
              "'ideojuegos'"
            ]
          },
          "metadata": {
            "tags": []
          },
          "execution_count": 30
        }
      ]
    },
    {
      "cell_type": "markdown",
      "metadata": {
        "id": "f6j9wom51fMl"
      },
      "source": [
        "Si al contrario, precedemos por `-` al índice de la derecha, sin poner ningún índice a la izquierda de `:`, obtendremos todos los elementos salvo el número de elementos indicados por el índice (recordemos que si precedíamos por `-`, los índices empezaban desde el final)."
      ]
    },
    {
      "cell_type": "code",
      "metadata": {
        "id": "WVoZjls11Wj2",
        "colab": {
          "base_uri": "https://localhost:8080/",
          "height": 35
        },
        "outputId": "8f1d50b6-aef2-4518-d131-5b517b055922"
      },
      "source": [
        "s[:-10]"
      ],
      "execution_count": null,
      "outputs": [
        {
          "output_type": "execute_result",
          "data": {
            "application/vnd.google.colaboratory.intrinsic+json": {
              "type": "string"
            },
            "text/plain": [
              "'Soy fan de los v'"
            ]
          },
          "metadata": {
            "tags": []
          },
          "execution_count": 31
        }
      ]
    },
    {
      "cell_type": "markdown",
      "metadata": {
        "id": "u7sP_Cdi2dZk"
      },
      "source": [
        "## Métodos para trabajar con strings\n",
        "\n",
        "El método `.lower()` nos transforma el string que indiquemos a minúsculas."
      ]
    },
    {
      "cell_type": "code",
      "metadata": {
        "id": "Gn-wbbuA2ffk",
        "colab": {
          "base_uri": "https://localhost:8080/",
          "height": 35
        },
        "outputId": "8d83f78d-e152-42f6-d398-f2a998ecea7e"
      },
      "source": [
        "s = \"Me ENCANTAN el chocolate y las galletas\"\n",
        "s.lower()"
      ],
      "execution_count": null,
      "outputs": [
        {
          "output_type": "execute_result",
          "data": {
            "application/vnd.google.colaboratory.intrinsic+json": {
              "type": "string"
            },
            "text/plain": [
              "'me encantan el chocolate y las galletas'"
            ]
          },
          "metadata": {
            "tags": []
          },
          "execution_count": 32
        }
      ]
    },
    {
      "cell_type": "markdown",
      "metadata": {
        "id": "pVwPf8GF2rP9"
      },
      "source": [
        "El método `.upper()`, por el contrario, lo transforma a mayúsculas."
      ]
    },
    {
      "cell_type": "code",
      "metadata": {
        "id": "GjKFBLe12ono",
        "colab": {
          "base_uri": "https://localhost:8080/",
          "height": 35
        },
        "outputId": "4abab68c-9db9-4560-c827-4e2682ca81ee"
      },
      "source": [
        "s.upper()"
      ],
      "execution_count": null,
      "outputs": [
        {
          "output_type": "execute_result",
          "data": {
            "application/vnd.google.colaboratory.intrinsic+json": {
              "type": "string"
            },
            "text/plain": [
              "'ME ENCANTAN EL CHOCOLATE Y LAS GALLETAS'"
            ]
          },
          "metadata": {
            "tags": []
          },
          "execution_count": 33
        }
      ]
    },
    {
      "cell_type": "markdown",
      "metadata": {
        "id": "d-U6pEFr2w_8"
      },
      "source": [
        "El método `.count()` cuenta cuántas veces aparece una letra o un string dentro del string al cuál le aplicamos dicho método."
      ]
    },
    {
      "cell_type": "code",
      "metadata": {
        "id": "WHrUtUGm22Qv",
        "colab": {
          "base_uri": "https://localhost:8080/"
        },
        "outputId": "57078580-f350-4237-cf69-f2121ae0021b"
      },
      "source": [
        "s.count(\"o\")"
      ],
      "execution_count": null,
      "outputs": [
        {
          "output_type": "execute_result",
          "data": {
            "text/plain": [
              "2"
            ]
          },
          "metadata": {
            "tags": []
          },
          "execution_count": 34
        }
      ]
    },
    {
      "cell_type": "code",
      "metadata": {
        "id": "v1NpXiaw23Zy",
        "colab": {
          "base_uri": "https://localhost:8080/"
        },
        "outputId": "b122bf0d-c03f-4493-b845-98dc436e2cad"
      },
      "source": [
        "s.count(\"la\")"
      ],
      "execution_count": null,
      "outputs": [
        {
          "output_type": "execute_result",
          "data": {
            "text/plain": [
              "2"
            ]
          },
          "metadata": {
            "tags": []
          },
          "execution_count": 35
        }
      ]
    },
    {
      "cell_type": "markdown",
      "metadata": {
        "id": "gTXHdGeP24_0"
      },
      "source": [
        "El método `.capitalize()` convierte a mayúscula el primer caracter de un string."
      ]
    },
    {
      "cell_type": "code",
      "metadata": {
        "id": "BszJBqto299f",
        "colab": {
          "base_uri": "https://localhost:8080/",
          "height": 35
        },
        "outputId": "7fd4b057-c8a7-4eae-fd82-bf02a10181f1"
      },
      "source": [
        "s = \"me encanta aprender con udemy\"\n",
        "s.capitalize()"
      ],
      "execution_count": null,
      "outputs": [
        {
          "output_type": "execute_result",
          "data": {
            "application/vnd.google.colaboratory.intrinsic+json": {
              "type": "string"
            },
            "text/plain": [
              "'Me encanta aprender con udemy'"
            ]
          },
          "metadata": {
            "tags": []
          },
          "execution_count": 36
        }
      ]
    },
    {
      "cell_type": "markdown",
      "metadata": {
        "id": "1zIb1zEU3BQN"
      },
      "source": [
        "El método `.title()` convierte a mayúscula el primer caracter de cada palabra de un string."
      ]
    },
    {
      "cell_type": "code",
      "metadata": {
        "id": "s2gL1zRF3AoF",
        "colab": {
          "base_uri": "https://localhost:8080/",
          "height": 35
        },
        "outputId": "ea5e794a-5cf6-43a8-8311-0e9dfbfe83aa"
      },
      "source": [
        "s.title()"
      ],
      "execution_count": null,
      "outputs": [
        {
          "output_type": "execute_result",
          "data": {
            "application/vnd.google.colaboratory.intrinsic+json": {
              "type": "string"
            },
            "text/plain": [
              "'Me Encanta Aprender Con Udemy'"
            ]
          },
          "metadata": {
            "tags": []
          },
          "execution_count": 37
        }
      ]
    },
    {
      "cell_type": "markdown",
      "metadata": {
        "id": "2fqeJUOn3ILj"
      },
      "source": [
        "El método `.swapcase()` convierte a mayúscula las minúsculas y viceversa."
      ]
    },
    {
      "cell_type": "code",
      "metadata": {
        "id": "VeU1qC4u3HXP",
        "colab": {
          "base_uri": "https://localhost:8080/",
          "height": 35
        },
        "outputId": "0d327abd-0782-404f-818d-8d284dfec243"
      },
      "source": [
        "s = \"Me ENCANTA aprender con Udemy\"\n",
        "s.swapcase()"
      ],
      "execution_count": null,
      "outputs": [
        {
          "output_type": "execute_result",
          "data": {
            "application/vnd.google.colaboratory.intrinsic+json": {
              "type": "string"
            },
            "text/plain": [
              "'mE encanta APRENDER CON uDEMY'"
            ]
          },
          "metadata": {
            "tags": []
          },
          "execution_count": 38
        }
      ]
    },
    {
      "cell_type": "markdown",
      "metadata": {
        "id": "5WVp6XYF3lo7"
      },
      "source": [
        "El método `.replace()` reemplaza el caracter (o caracteres) que le indiquemos por el string que queramos."
      ]
    },
    {
      "cell_type": "code",
      "metadata": {
        "id": "xQkL3nnw3iHq",
        "colab": {
          "base_uri": "https://localhost:8080/",
          "height": 35
        },
        "outputId": "51ef3a0a-d53b-455d-c260-2c43bbff5e12"
      },
      "source": [
        "s = \"Los tomberis son buenos\"\n",
        "s.replace(\"buenos\", \"malos\")"
      ],
      "execution_count": null,
      "outputs": [
        {
          "output_type": "execute_result",
          "data": {
            "application/vnd.google.colaboratory.intrinsic+json": {
              "type": "string"
            },
            "text/plain": [
              "'Los tomberis son malos'"
            ]
          },
          "metadata": {
            "tags": []
          },
          "execution_count": 39
        }
      ]
    },
    {
      "cell_type": "markdown",
      "metadata": {
        "id": "gxSJQG3K3mTr"
      },
      "source": [
        "El método `.split()` rompe el string en el caracter que le indiquemos y elimina dicho caracter."
      ]
    },
    {
      "cell_type": "code",
      "metadata": {
        "id": "jhGO866B3mlm",
        "colab": {
          "base_uri": "https://localhost:8080/"
        },
        "outputId": "5a79563f-055a-4914-d9b7-ee052f61bd93"
      },
      "source": [
        "s = \"El elefante tiene las orejas muy grandes\"\n",
        "s.split(\"e\") # Rompemos por la letra e minúscula"
      ],
      "execution_count": null,
      "outputs": [
        {
          "output_type": "execute_result",
          "data": {
            "text/plain": [
              "['El ', 'l', 'fant', ' ti', 'n', ' las or', 'jas muy grand', 's']"
            ]
          },
          "metadata": {
            "tags": []
          },
          "execution_count": 40
        }
      ]
    },
    {
      "cell_type": "code",
      "metadata": {
        "id": "DOgE3iLB3w5a",
        "colab": {
          "base_uri": "https://localhost:8080/"
        },
        "outputId": "64a5abaa-b9df-4a7d-916e-c344af69a40f"
      },
      "source": [
        "s.split(\" \") # Rompemos por los espacios"
      ],
      "execution_count": null,
      "outputs": [
        {
          "output_type": "execute_result",
          "data": {
            "text/plain": [
              "['El', 'elefante', 'tiene', 'las', 'orejas', 'muy', 'grandes']"
            ]
          },
          "metadata": {
            "tags": []
          },
          "execution_count": 41
        }
      ]
    },
    {
      "cell_type": "code",
      "metadata": {
        "id": "ZBHs-oAf30f7",
        "colab": {
          "base_uri": "https://localhost:8080/"
        },
        "outputId": "875aba5e-6f76-403c-86ff-b80012b39f84"
      },
      "source": [
        "s.split(\"tiene\") # Rompemos por la palabra tiene"
      ],
      "execution_count": null,
      "outputs": [
        {
          "output_type": "execute_result",
          "data": {
            "text/plain": [
              "['El elefante ', ' las orejas muy grandes']"
            ]
          },
          "metadata": {
            "tags": []
          },
          "execution_count": 42
        }
      ]
    },
    {
      "cell_type": "markdown",
      "metadata": {
        "id": "jnkzw3ud3zWr"
      },
      "source": [
        "El método `.strip()` elimina los espacios sobrantes a principio y final del string."
      ]
    },
    {
      "cell_type": "code",
      "metadata": {
        "id": "174KMod83z6f",
        "colab": {
          "base_uri": "https://localhost:8080/",
          "height": 35
        },
        "outputId": "b097b563-1eee-48f9-e217-1b47645a4ddb"
      },
      "source": [
        "s = \"       El elefante tiene las orejas muy grandes        \"\n",
        "s.strip()"
      ],
      "execution_count": null,
      "outputs": [
        {
          "output_type": "execute_result",
          "data": {
            "application/vnd.google.colaboratory.intrinsic+json": {
              "type": "string"
            },
            "text/plain": [
              "'El elefante tiene las orejas muy grandes'"
            ]
          },
          "metadata": {
            "tags": []
          },
          "execution_count": 43
        }
      ]
    },
    {
      "cell_type": "markdown",
      "metadata": {
        "id": "M34jtbv23mw2"
      },
      "source": [
        "El método `.rstrip()` elimina los espacios sobrantes al final del string."
      ]
    },
    {
      "cell_type": "code",
      "metadata": {
        "id": "7QFOJlwt3m7S",
        "colab": {
          "base_uri": "https://localhost:8080/",
          "height": 35
        },
        "outputId": "51f17b8f-563c-4491-85b2-f1a022b2c14c"
      },
      "source": [
        "s.rstrip()"
      ],
      "execution_count": null,
      "outputs": [
        {
          "output_type": "execute_result",
          "data": {
            "application/vnd.google.colaboratory.intrinsic+json": {
              "type": "string"
            },
            "text/plain": [
              "'       El elefante tiene las orejas muy grandes'"
            ]
          },
          "metadata": {
            "tags": []
          },
          "execution_count": 44
        }
      ]
    },
    {
      "cell_type": "markdown",
      "metadata": {
        "id": "0yM1RMrb3nEM"
      },
      "source": [
        "El método .lstrip() elimina los espacios sobrantes al principio del string."
      ]
    },
    {
      "cell_type": "code",
      "metadata": {
        "id": "4FCine1W3nNk",
        "colab": {
          "base_uri": "https://localhost:8080/",
          "height": 35
        },
        "outputId": "33b79f0f-b4d2-449c-e17c-cdbf2c59b8f5"
      },
      "source": [
        "s.lstrip()"
      ],
      "execution_count": null,
      "outputs": [
        {
          "output_type": "execute_result",
          "data": {
            "application/vnd.google.colaboratory.intrinsic+json": {
              "type": "string"
            },
            "text/plain": [
              "'El elefante tiene las orejas muy grandes        '"
            ]
          },
          "metadata": {
            "tags": []
          },
          "execution_count": 45
        }
      ]
    },
    {
      "cell_type": "markdown",
      "metadata": {
        "id": "Z9oSmTbA4L3W"
      },
      "source": [
        "El método `.find()` busca el caracter que indiquemos y nos devuelve la primera posición en la que aparece."
      ]
    },
    {
      "cell_type": "code",
      "metadata": {
        "id": "rEaaxUSd4MDY",
        "colab": {
          "base_uri": "https://localhost:8080/"
        },
        "outputId": "2281a15a-9b52-4537-f536-c033e00be162"
      },
      "source": [
        "s = \"Este es un curso de Python para hacer en casa o en cualquier lado\"\n",
        "s.find(\"e\")"
      ],
      "execution_count": null,
      "outputs": [
        {
          "output_type": "execute_result",
          "data": {
            "text/plain": [
              "3"
            ]
          },
          "metadata": {
            "tags": []
          },
          "execution_count": 47
        }
      ]
    },
    {
      "cell_type": "markdown",
      "metadata": {
        "id": "4Y2hu9Jt4ML4"
      },
      "source": [
        "Si le pedimos buscar un conjunto de caracteres, nos devuelve la posición del primer caracter de dicho conjunto"
      ]
    },
    {
      "cell_type": "code",
      "metadata": {
        "id": "gsnhV2gR4MWf",
        "colab": {
          "base_uri": "https://localhost:8080/"
        },
        "outputId": "01e4f791-364c-4aa4-b1d8-90dbdc7f2ef8"
      },
      "source": [
        "s.find(\"casa\")"
      ],
      "execution_count": null,
      "outputs": [
        {
          "output_type": "execute_result",
          "data": {
            "text/plain": [
              "41"
            ]
          },
          "metadata": {
            "tags": []
          },
          "execution_count": 48
        }
      ]
    },
    {
      "cell_type": "markdown",
      "metadata": {
        "id": "AfIpgQEd4Mfp"
      },
      "source": [
        "El método `.find()` tiene otros dos parámetros de uso opcional: `start` y `end`, que sirven para indicar donde queremos que empiece la búsqueda y donde queremos que acabe."
      ]
    },
    {
      "cell_type": "code",
      "metadata": {
        "id": "6GZODGOe4MqF",
        "colab": {
          "base_uri": "https://localhost:8080/"
        },
        "outputId": "87b5d56d-fcd7-481f-d988-a30a18952dfe"
      },
      "source": [
        "s.find(\"e\", 10) # Solamente indicamos start"
      ],
      "execution_count": null,
      "outputs": [
        {
          "output_type": "execute_result",
          "data": {
            "text/plain": [
              "18"
            ]
          },
          "metadata": {
            "tags": []
          },
          "execution_count": 49
        }
      ]
    },
    {
      "cell_type": "code",
      "metadata": {
        "id": "pxqhw5R74Jkc",
        "colab": {
          "base_uri": "https://localhost:8080/"
        },
        "outputId": "42dc7657-406b-494c-8724-f615a02d6e12"
      },
      "source": [
        "s.find(\"e\", 30, 40) # Indicamos start y end"
      ],
      "execution_count": null,
      "outputs": [
        {
          "output_type": "execute_result",
          "data": {
            "text/plain": [
              "35"
            ]
          },
          "metadata": {
            "tags": []
          },
          "execution_count": 50
        }
      ]
    },
    {
      "cell_type": "markdown",
      "metadata": {
        "id": "lv0GUT774du7"
      },
      "source": [
        "El método `.index()` busca el caracter que indiquemos y nos devuelve la primera posición en la que aparece."
      ]
    },
    {
      "cell_type": "code",
      "metadata": {
        "id": "mhAHevAp4c-D",
        "colab": {
          "base_uri": "https://localhost:8080/"
        },
        "outputId": "ecd54fe7-cc72-4ba0-9096-28026f88b28d"
      },
      "source": [
        "s = \"Este es un curso de Python para hacer en casa o en cualquier lado\"\n",
        "s.index(\"e\")"
      ],
      "execution_count": null,
      "outputs": [
        {
          "output_type": "execute_result",
          "data": {
            "text/plain": [
              "3"
            ]
          },
          "metadata": {
            "tags": []
          },
          "execution_count": 51
        }
      ]
    },
    {
      "cell_type": "markdown",
      "metadata": {
        "id": "ReL419Ff4f2O"
      },
      "source": [
        "Si le pedimos buscar un conjunto de caracteres, nos devuelve la posición del primer caracter de dicho conjunto"
      ]
    },
    {
      "cell_type": "code",
      "metadata": {
        "id": "3qw39rOo4gAs",
        "colab": {
          "base_uri": "https://localhost:8080/"
        },
        "outputId": "c60836bd-567c-44d8-d0ed-f47e5a8e6ca7"
      },
      "source": [
        "s.index(\"casa\")"
      ],
      "execution_count": null,
      "outputs": [
        {
          "output_type": "execute_result",
          "data": {
            "text/plain": [
              "41"
            ]
          },
          "metadata": {
            "tags": []
          },
          "execution_count": 52
        }
      ]
    },
    {
      "cell_type": "markdown",
      "metadata": {
        "id": "Q55AVtkc4gJb"
      },
      "source": [
        "El método `.index()` tiene otros dos parámetros de uso opcional: `start` y `end`, que sirven para indicar donde queremos que empiece la búsqueda y donde queremos que acabe."
      ]
    },
    {
      "cell_type": "code",
      "metadata": {
        "id": "PL2h_YI_4gSq",
        "colab": {
          "base_uri": "https://localhost:8080/"
        },
        "outputId": "a9bf83b5-4752-4b25-a124-340d4bf0b2eb"
      },
      "source": [
        "s.index(\"e\", 10) # Solamente indicamos start"
      ],
      "execution_count": null,
      "outputs": [
        {
          "output_type": "execute_result",
          "data": {
            "text/plain": [
              "18"
            ]
          },
          "metadata": {
            "tags": []
          },
          "execution_count": 53
        }
      ]
    },
    {
      "cell_type": "code",
      "metadata": {
        "id": "SzG-6ySH4gh3",
        "colab": {
          "base_uri": "https://localhost:8080/"
        },
        "outputId": "71ab95be-3fe9-44d3-d3c5-5ea03ce1729c"
      },
      "source": [
        "s.index(\"e\", 30, 40) # Indicamos start y end"
      ],
      "execution_count": null,
      "outputs": [
        {
          "output_type": "execute_result",
          "data": {
            "text/plain": [
              "35"
            ]
          },
          "metadata": {
            "tags": []
          },
          "execution_count": 54
        }
      ]
    },
    {
      "cell_type": "markdown",
      "metadata": {
        "id": "QdICgelP41YE"
      },
      "source": [
        "**Observación.** Observemos que los métodos `.index()` y `.find()` son casi idénticos. El único punto en que difieren es que si el caracter indicado no se encuentra en el string, el método `.index()` arroja error, mientras que `.find()` arroja el índice -1."
      ]
    },
    {
      "cell_type": "markdown",
      "metadata": {
        "id": "9fR30sFA5AVz"
      },
      "source": [
        "El método `.rindex()` busca el caracter que indiquemos y devuelve el último indice en el que fue encontrado."
      ]
    },
    {
      "cell_type": "code",
      "metadata": {
        "id": "liuRHCVn4z9x",
        "colab": {
          "base_uri": "https://localhost:8080/"
        },
        "outputId": "ea1b0ecf-7992-47b6-9e99-9967e5204202"
      },
      "source": [
        "s.rindex(\"e\")"
      ],
      "execution_count": null,
      "outputs": [
        {
          "output_type": "execute_result",
          "data": {
            "text/plain": [
              "58"
            ]
          },
          "metadata": {
            "tags": []
          },
          "execution_count": 55
        }
      ]
    },
    {
      "cell_type": "markdown",
      "metadata": {
        "id": "nuQI5n_v5EWq"
      },
      "source": [
        "También consta de los dos parámetros de uso opcional: `start` y `end`, que sirven para indicar donde queremos que empiece la búsqueda y donde queremos que acabe."
      ]
    },
    {
      "cell_type": "markdown",
      "metadata": {
        "id": "jH8Zr1mK40lM"
      },
      "source": [
        "## Otras funciones a tener en cuenta\n",
        "\n",
        "La función `len()` nos devuelve el número de caracteres del string."
      ]
    },
    {
      "cell_type": "code",
      "metadata": {
        "id": "z50sileY4g1z",
        "colab": {
          "base_uri": "https://localhost:8080/"
        },
        "outputId": "c08ee6d2-b9a1-4b3c-c200-9279eb4e70cf"
      },
      "source": [
        "s = \"Tengo hambre\"\n",
        "len(s)"
      ],
      "execution_count": null,
      "outputs": [
        {
          "output_type": "execute_result",
          "data": {
            "text/plain": [
              "12"
            ]
          },
          "metadata": {
            "tags": []
          },
          "execution_count": 56
        }
      ]
    },
    {
      "cell_type": "markdown",
      "metadata": {
        "id": "EEJNBlbC5T-7"
      },
      "source": [
        "**Observación.** Los espacios en blanco también son caracteres, por lo que éstos también son incluidos al contar el número de caracteres de los que consta un string."
      ]
    },
    {
      "cell_type": "markdown",
      "metadata": {
        "id": "3nZ0nBmv4hk0"
      },
      "source": [
        "Si tenemos un número en formato string, por mucho que sea un número para nosotros, en realidad `Python` no lo ve así. El gran problema es cuando queremos operar con un número que se encuentra en formato string. Ahí es donde entran en juego las funciones `int()` y `float()`, que lo que hacen es convertir a formato integer o float, respectivamente."
      ]
    },
    {
      "cell_type": "code",
      "metadata": {
        "id": "cU-KTJuE5kJU",
        "colab": {
          "base_uri": "https://localhost:8080/"
        },
        "outputId": "c55da4a3-82a4-4419-a6c6-d6d3dfb50770"
      },
      "source": [
        "numero = \"5\"\n",
        "type(numero)"
      ],
      "execution_count": null,
      "outputs": [
        {
          "output_type": "execute_result",
          "data": {
            "text/plain": [
              "str"
            ]
          },
          "metadata": {
            "tags": []
          },
          "execution_count": 58
        }
      ]
    },
    {
      "cell_type": "markdown",
      "metadata": {
        "id": "qbKkQv974hH6"
      },
      "source": [
        "En este caso, pasamos a formato integer:"
      ]
    },
    {
      "cell_type": "code",
      "metadata": {
        "id": "2kVHNJMh5oYW",
        "colab": {
          "base_uri": "https://localhost:8080/"
        },
        "outputId": "d7f7e2a9-3bdb-4c80-945d-d5d7a8667491"
      },
      "source": [
        "numero_int = int(numero)\n",
        "numero_int"
      ],
      "execution_count": null,
      "outputs": [
        {
          "output_type": "execute_result",
          "data": {
            "text/plain": [
              "5"
            ]
          },
          "metadata": {
            "tags": []
          },
          "execution_count": 59
        }
      ]
    },
    {
      "cell_type": "code",
      "metadata": {
        "id": "PPRmbP5X5rwP",
        "colab": {
          "base_uri": "https://localhost:8080/"
        },
        "outputId": "718f0126-53e0-4e52-b8e6-ee631baa661c"
      },
      "source": [
        "numero_int ** 2"
      ],
      "execution_count": null,
      "outputs": [
        {
          "output_type": "execute_result",
          "data": {
            "text/plain": [
              "25"
            ]
          },
          "metadata": {
            "tags": []
          },
          "execution_count": 60
        }
      ]
    },
    {
      "cell_type": "code",
      "metadata": {
        "id": "kHioebTH5sfv",
        "colab": {
          "base_uri": "https://localhost:8080/"
        },
        "outputId": "5c6b7d8d-6586-4a43-e035-06d6743937bd"
      },
      "source": [
        "type(numero_int)"
      ],
      "execution_count": null,
      "outputs": [
        {
          "output_type": "execute_result",
          "data": {
            "text/plain": [
              "int"
            ]
          },
          "metadata": {
            "tags": []
          },
          "execution_count": 61
        }
      ]
    },
    {
      "cell_type": "markdown",
      "metadata": {
        "id": "bQsxU4Zx4guI"
      },
      "source": [
        "En este otro caso, pasamos a formato float:"
      ]
    },
    {
      "cell_type": "code",
      "metadata": {
        "id": "ktSLVA5f5xTW",
        "colab": {
          "base_uri": "https://localhost:8080/"
        },
        "outputId": "416ca8fa-7ce6-4199-d2cc-a5dd865f6e7c"
      },
      "source": [
        "numero_float = float(numero)\n",
        "numero_float"
      ],
      "execution_count": null,
      "outputs": [
        {
          "output_type": "execute_result",
          "data": {
            "text/plain": [
              "5.0"
            ]
          },
          "metadata": {
            "tags": []
          },
          "execution_count": 62
        }
      ]
    },
    {
      "cell_type": "code",
      "metadata": {
        "id": "ZVTn6fCW5xiS",
        "colab": {
          "base_uri": "https://localhost:8080/"
        },
        "outputId": "f4ffc392-5b7b-4810-b901-dece4a309176"
      },
      "source": [
        "numero_float ** 2 - numero_float"
      ],
      "execution_count": null,
      "outputs": [
        {
          "output_type": "execute_result",
          "data": {
            "text/plain": [
              "20.0"
            ]
          },
          "metadata": {
            "tags": []
          },
          "execution_count": 63
        }
      ]
    },
    {
      "cell_type": "code",
      "metadata": {
        "id": "tIGai4WN5xw0",
        "colab": {
          "base_uri": "https://localhost:8080/"
        },
        "outputId": "b4aff40f-3523-4c2a-c64a-da12827c5e90"
      },
      "source": [
        "type(numero_float)"
      ],
      "execution_count": null,
      "outputs": [
        {
          "output_type": "execute_result",
          "data": {
            "text/plain": [
              "float"
            ]
          },
          "metadata": {
            "tags": []
          },
          "execution_count": 64
        }
      ]
    },
    {
      "cell_type": "markdown",
      "metadata": {
        "id": "8ORueZaL4gbA"
      },
      "source": [
        "La función `input()` sirve para que el usuario introduzca un string por consola:"
      ]
    },
    {
      "cell_type": "code",
      "metadata": {
        "id": "Gx6GXzVx57u5",
        "colab": {
          "base_uri": "https://localhost:8080/"
        },
        "outputId": "d4aaf52a-f7b6-4561-eaf3-1a345c33fa6f"
      },
      "source": [
        "print(\"Introduce tu nombre: \")\n",
        "name = input(\"Nombre: \")"
      ],
      "execution_count": null,
      "outputs": [
        {
          "output_type": "stream",
          "text": [
            "Introduce tu nombre: \n",
            "Nombre: Juan Gabriel Gomila\n"
          ],
          "name": "stdout"
        }
      ]
    },
    {
      "cell_type": "code",
      "metadata": {
        "id": "qnzcoY_s59oq",
        "colab": {
          "base_uri": "https://localhost:8080/",
          "height": 35
        },
        "outputId": "d3dc31d8-5d33-4176-d52b-e5e6286d32f3"
      },
      "source": [
        "name"
      ],
      "execution_count": null,
      "outputs": [
        {
          "output_type": "execute_result",
          "data": {
            "application/vnd.google.colaboratory.intrinsic+json": {
              "type": "string"
            },
            "text/plain": [
              "'Juan Gabriel Gomila'"
            ]
          },
          "metadata": {
            "tags": []
          },
          "execution_count": 73
        }
      ]
    },
    {
      "cell_type": "markdown",
      "metadata": {
        "id": "llPqUXvI6FAj"
      },
      "source": [
        "Aquí también nos serán útiles las funciones `int()` y `float()`, pues si en vez del nombre queremos que el usuario nos indique su edad o su altura, querremos tratar dichos valores como números. Entonces, haríamos lo siguiente"
      ]
    },
    {
      "cell_type": "code",
      "metadata": {
        "id": "gXoEV0_o6Axu",
        "colab": {
          "base_uri": "https://localhost:8080/"
        },
        "outputId": "1cc7f5d2-ed82-4de0-b68e-8e5c7464370c"
      },
      "source": [
        "print(\"Introduce tu edad: \")\n",
        "age = int(input(\"Edad: \"))"
      ],
      "execution_count": null,
      "outputs": [
        {
          "output_type": "stream",
          "text": [
            "Introduce tu edad: \n",
            "Edad: 32\n"
          ],
          "name": "stdout"
        }
      ]
    },
    {
      "cell_type": "code",
      "metadata": {
        "id": "ianS3k6G6L5p",
        "colab": {
          "base_uri": "https://localhost:8080/"
        },
        "outputId": "9b0ff897-0479-43f1-8dec-8b8888c108a1"
      },
      "source": [
        "print(\"Introduce tu altura: \")\n",
        "height = float(input(\"Altura (en m): \"))"
      ],
      "execution_count": null,
      "outputs": [
        {
          "output_type": "stream",
          "text": [
            "Introduce tu altura: \n",
            "Altura (en m): 1.66\n"
          ],
          "name": "stdout"
        }
      ]
    },
    {
      "cell_type": "code",
      "metadata": {
        "id": "qUCy1G-v6Owg",
        "colab": {
          "base_uri": "https://localhost:8080/"
        },
        "outputId": "1e066d95-d679-4776-b3b0-fea58e10c025"
      },
      "source": [
        "print(\"La edad de {} es {} y mide {}m\".format(name, age, height))"
      ],
      "execution_count": null,
      "outputs": [
        {
          "output_type": "stream",
          "text": [
            "La edad de Juan Gabriel Gomila es 32 y mide 1.66m\n"
          ],
          "name": "stdout"
        }
      ]
    }
  ]
}