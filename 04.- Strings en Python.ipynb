{
  "cells": [
    {
      "cell_type": "markdown",
      "metadata": {
        "id": "pWGdvvZGDSM7"
      },
      "source": [
        "# Strings en `Python`"
      ]
    },
    {
      "cell_type": "markdown",
      "metadata": {
        "id": "p1MJUGv7DXFh"
      },
      "source": [
        "## Variable string\n",
        "\n",
        "**String.** Cadena ordenada de caracteres.\n",
        "\n",
        "Una variable de tipo string es aquella que guarda un string. Cuando queremos que una variable se trate de una variable de tipo string, `str` en `Python`, a la hora de declararla, el contenido de la variable debe ir o bien entre comillas dobles `\" \"`, o bien entre comillas simples `' ' `."
      ]
    },
    {
      "cell_type": "code",
      "execution_count": 1,
      "metadata": {
        "colab": {
          "base_uri": "https://localhost:8080/"
        },
        "id": "z9K1rKqJDUL2",
        "outputId": "2205c46d-9fe4-4634-ed6a-b0cbd7592a6f"
      },
      "outputs": [
        {
          "data": {
            "text/plain": [
              "str"
            ]
          },
          "execution_count": 1,
          "metadata": {},
          "output_type": "execute_result"
        }
      ],
      "source": [
        "s1 = \"Esto es un string entre comillas dobles\"\n",
        "type(s1)"
      ]
    },
    {
      "cell_type": "code",
      "execution_count": 2,
      "metadata": {
        "colab": {
          "base_uri": "https://localhost:8080/"
        },
        "id": "mzpZ1jlRDvzG",
        "outputId": "d5aee9a1-7668-4b3b-eb60-31fe1e6d7b82"
      },
      "outputs": [
        {
          "data": {
            "text/plain": [
              "str"
            ]
          },
          "execution_count": 2,
          "metadata": {},
          "output_type": "execute_result"
        }
      ],
      "source": [
        "s2 = 'Esto es un string entre comillas simples'\n",
        "type(s2)"
      ]
    },
    {
      "cell_type": "markdown",
      "metadata": {
        "id": "CP00rWi1NqN8"
      },
      "source": [
        "**¡Cuidado!** `Python` no trabaja bien con los acentos. Por tanto, aunque no esté del todo bien escrito, mejor evitarlos, pues nos ahorraremos muchos problemas."
      ]
    },
    {
      "cell_type": "markdown",
      "metadata": {
        "id": "yQE5dsY9EsBd"
      },
      "source": [
        "### String literals\n",
        "\n",
        "El hecho de que el contenido de las variables de tipo `str` vaya entre comillas, ya sean simples o dobles, conlleva a que algunos caracteres deban ser tratados de forma especial.\n",
        "\n",
        "Aquí entran en juego los string literals. Algunos de los más utilizados se muestran en la siguiente tabla:\n",
        "\n",
        "Código | Significado |\n",
        "--- | --- |\n",
        "`\\\\` | Backslash, `\\`|\n",
        "`\\'` | Comilla simple, `'`|\n",
        "`\\\"` | Comilla doble, `\"`|  \n",
        "`\\n` | Salto de línea|\n",
        "`\\t` | Tabulación horizontal|\n",
        "\n",
        "Para más información acerca de los string literals ir a la [documentación](https://docs.python.org/3.7/reference/lexical_analysis.html#string-and-bytes-literals).\n"
      ]
    },
    {
      "cell_type": "markdown",
      "metadata": {
        "id": "jSI6oVIcHPAK"
      },
      "source": [
        "---\n",
        "#### Ejemplo 1\n",
        "\n",
        "Si queremos guardar en una variable el siguiente texto,\n",
        "\n",
        "`Juan dijo: \"me gusta el chocolate\"`\n",
        "\n",
        "lo tendremos que hacer del siguiente modo"
      ]
    },
    {
      "cell_type": "code",
      "execution_count": 3,
      "metadata": {
        "colab": {
          "base_uri": "https://localhost:8080/",
          "height": 35
        },
        "id": "q5TXs8tMEKZj",
        "outputId": "bc171040-a658-4449-fc2f-159300b5f0e7"
      },
      "outputs": [
        {
          "data": {
            "text/plain": [
              "'Juan dijo: \"me gusta el chocolate \"'"
            ]
          },
          "execution_count": 3,
          "metadata": {},
          "output_type": "execute_result"
        }
      ],
      "source": [
        "s1 = \"Juan dijo: \\\"me gusta el chocolate \\\"\"\n",
        "s1"
      ]
    },
    {
      "cell_type": "code",
      "execution_count": 4,
      "metadata": {
        "colab": {
          "base_uri": "https://localhost:8080/",
          "height": 35
        },
        "id": "DMlEKKGRILc_",
        "outputId": "fe00d98e-00fb-481f-a9d6-a4d697013c3a"
      },
      "outputs": [
        {
          "data": {
            "text/plain": [
              "'Juan dijo: \"me gusta el chocolate \"'"
            ]
          },
          "execution_count": 4,
          "metadata": {},
          "output_type": "execute_result"
        }
      ],
      "source": [
        "s2 = 'Juan dijo: \"me gusta el chocolate \"'\n",
        "s2"
      ]
    },
    {
      "cell_type": "markdown",
      "metadata": {
        "id": "v-6s10ZbIaV3"
      },
      "source": [
        "**Observación.** Si usamos comillas dobles, para guardar la frase de este ejemplo necesitaremos usar string literals, ya que si no nos saltará error. Sin embargo, si usamos comillas simples, para guardar la frase de este ejemplo en una variable no hace falta que cambiemos nada.\n",
        "\n",
        "---\n",
        "\n",
        "---\n",
        "#### Ejemplo 2\n",
        "\n",
        "Si queremos guardar en una variable el siguiente texto,\n",
        "\n",
        "`Ricardo dijo: 'me gusta la playa'`\n",
        "\n",
        "lo tendremos que hacer del siguiente modo"
      ]
    },
    {
      "cell_type": "code",
      "execution_count": 5,
      "metadata": {
        "colab": {
          "base_uri": "https://localhost:8080/",
          "height": 35
        },
        "id": "NJUu6Z9IIO7c",
        "outputId": "a0a5d3f2-a072-44c5-e344-50d48b80aacd"
      },
      "outputs": [
        {
          "data": {
            "text/plain": [
              "\"Ricardo dijo: 'me gusta la playa'\""
            ]
          },
          "execution_count": 5,
          "metadata": {},
          "output_type": "execute_result"
        }
      ],
      "source": [
        "s1 = \"Ricardo dijo: 'me gusta la playa'\"\n",
        "s1"
      ]
    },
    {
      "cell_type": "code",
      "execution_count": 6,
      "metadata": {
        "colab": {
          "base_uri": "https://localhost:8080/",
          "height": 35
        },
        "id": "o7h1UMMfJD9e",
        "outputId": "b87331fc-49a4-40f3-d29c-6ec6a27a12d8"
      },
      "outputs": [
        {
          "data": {
            "text/plain": [
              "\"Ricardo dijo: 'me gusta la playa'\""
            ]
          },
          "execution_count": 6,
          "metadata": {},
          "output_type": "execute_result"
        }
      ],
      "source": [
        "s2 = 'Ricardo dijo: \\'me gusta la playa\\''\n",
        "s2"
      ]
    },
    {
      "cell_type": "markdown",
      "metadata": {
        "id": "_ScRiZYLJK3f"
      },
      "source": [
        "**Observación.** Si usamos comillas dobles, para guardar la frase de este ejemplo no necesitaremos usar string literals. Sin embargo, si usamos comillas simples, para guardar la frase de este ejemplo en una variable tendremos que usar string literals, porque si no nos saltará un error.\n",
        "\n",
        "---\n",
        "\n"
      ]
    },
    {
      "cell_type": "markdown",
      "metadata": {
        "id": "qHOqGw_WDVxv"
      },
      "source": [
        "---\n",
        "#### Ejemplo 3\n",
        "\n",
        "Si queremos guardar en una variable el siguiente texto y que se conserve el salto de línea,\n",
        "\n",
        "`Con diez cañones por banda,`\n",
        "\n",
        "`viento en popa a toda vela`\n",
        "\n",
        "lo tendremos que hacer del siguiente modo"
      ]
    },
    {
      "cell_type": "code",
      "execution_count": 7,
      "metadata": {
        "colab": {
          "base_uri": "https://localhost:8080/",
          "height": 35
        },
        "id": "vItHOB6gR0Nh",
        "outputId": "fd1cc9b4-8dc3-4e74-be9d-a525144f7974"
      },
      "outputs": [
        {
          "data": {
            "text/plain": [
              "'Con diez cañones por banda,\\nviento en popa a toda vela'"
            ]
          },
          "execution_count": 7,
          "metadata": {},
          "output_type": "execute_result"
        }
      ],
      "source": [
        "s3 = \"Con diez cañones por banda,\\nviento en popa a toda vela\"\n",
        "s3"
      ]
    },
    {
      "cell_type": "markdown",
      "metadata": {
        "id": "_pXp4xoPSDOD"
      },
      "source": [
        "**Observación.** El resultado con el salto de línea aplicado lo veremos cuando hablemos de la función `print()`, cosa que haremos más adelante en esta sección.\n",
        "\n",
        "---"
      ]
    },
    {
      "cell_type": "markdown",
      "metadata": {
        "id": "ALPGQb7JJcg6"
      },
      "source": [
        "## Concatenación de strings\n",
        "\n",
        "La concatenación es una operación que une dos o más strings en uno solo.\n",
        "\n",
        "En `Python`, para concatenar dos variables de tipo string usamos la función `+`."
      ]
    },
    {
      "cell_type": "code",
      "execution_count": 8,
      "metadata": {
        "colab": {
          "base_uri": "https://localhost:8080/",
          "height": 35
        },
        "id": "z_7YiTa_JJBl",
        "outputId": "e599ec10-8d67-44fc-a163-dd3a7015100b"
      },
      "outputs": [
        {
          "data": {
            "text/plain": [
              "'Hola, Juan'"
            ]
          },
          "execution_count": 8,
          "metadata": {},
          "output_type": "execute_result"
        }
      ],
      "source": [
        "s1 = \"Hola, \"\n",
        "s2 = \"Juan\"\n",
        "s1 + s2"
      ]
    },
    {
      "cell_type": "markdown",
      "metadata": {
        "id": "rNOCfEiSJwYw"
      },
      "source": [
        "**Observación.** La concatenación viene a ser como pegar el final del primer string con el princio del segundo. Entonces, conviene poner un espacio al final de la primera variable a concatenar, o bien al principio de la segunda para que así, al realizar la concatenación, exista ese espacio entre las palabras.\n",
        "\n",
        "De no añadir espacios adicionales, obtendríamos resultados como el mostrado en el siguiente chunk:"
      ]
    },
    {
      "cell_type": "code",
      "execution_count": 9,
      "metadata": {
        "colab": {
          "base_uri": "https://localhost:8080/",
          "height": 35
        },
        "id": "jdF-7yN2Juxn",
        "outputId": "2e4147ca-543c-4d0e-ffd1-39780aa0a8fd"
      },
      "outputs": [
        {
          "data": {
            "text/plain": [
              "'Bienvenidoal curso.'"
            ]
          },
          "execution_count": 9,
          "metadata": {},
          "output_type": "execute_result"
        }
      ],
      "source": [
        "s1 = \"Bienvenido\"\n",
        "s2 = \"al curso.\"\n",
        "s1 + s2"
      ]
    },
    {
      "cell_type": "markdown",
      "metadata": {
        "id": "d9dZEzk_KWAz"
      },
      "source": [
        "Si dejamos un espacio adicional al final del string `s1`, obtenemos"
      ]
    },
    {
      "cell_type": "code",
      "execution_count": 10,
      "metadata": {
        "colab": {
          "base_uri": "https://localhost:8080/",
          "height": 35
        },
        "id": "_EJuV27TKRbh",
        "outputId": "19c66f11-4a31-4682-e914-bc3871b0e7e8"
      },
      "outputs": [
        {
          "data": {
            "text/plain": [
              "'Bienvenido al curso.'"
            ]
          },
          "execution_count": 10,
          "metadata": {},
          "output_type": "execute_result"
        }
      ],
      "source": [
        "s1 = \"Bienvenido \"\n",
        "s2 = \"al curso.\"\n",
        "s1 + s2"
      ]
    },
    {
      "cell_type": "markdown",
      "metadata": {
        "id": "9du5E41ZKav0"
      },
      "source": [
        "Si dejamos un espacio adicional al principio del string `s2` obtenemos"
      ]
    },
    {
      "cell_type": "code",
      "execution_count": 11,
      "metadata": {
        "colab": {
          "base_uri": "https://localhost:8080/",
          "height": 35
        },
        "id": "3vP2F5IaKZ_6",
        "outputId": "2fb991f5-de92-4ad0-f585-a9b79b69773d"
      },
      "outputs": [
        {
          "data": {
            "text/plain": [
              "'Bienvenido al curso.'"
            ]
          },
          "execution_count": 11,
          "metadata": {},
          "output_type": "execute_result"
        }
      ],
      "source": [
        "s1 = \"Bienvenido\"\n",
        "s2 = \" al curso.\"\n",
        "s1 + s2"
      ]
    },
    {
      "cell_type": "markdown",
      "metadata": {
        "id": "Ym6pM_JpKjZc"
      },
      "source": [
        "Si dejamos un espacio adicional tanto al final del string `s1` como al principio del string `s2` obtenemos"
      ]
    },
    {
      "cell_type": "code",
      "execution_count": 12,
      "metadata": {
        "colab": {
          "base_uri": "https://localhost:8080/",
          "height": 35
        },
        "id": "9LuM4dKXKgXm",
        "outputId": "c2ba1eef-9d13-4fce-eb29-69f6e76b2698"
      },
      "outputs": [
        {
          "data": {
            "text/plain": [
              "'Bienvenido  al curso.'"
            ]
          },
          "execution_count": 12,
          "metadata": {},
          "output_type": "execute_result"
        }
      ],
      "source": [
        "s1 = \"Bienvenido \"\n",
        "s2 = \" al curso.\"\n",
        "s1 + s2"
      ]
    },
    {
      "cell_type": "markdown",
      "metadata": {
        "id": "NU_rFNFgK89O"
      },
      "source": [
        "Si dejamos más de un espacio adicional ya sea al final del string `s1` como al principio del string `s2` obtenemos"
      ]
    },
    {
      "cell_type": "code",
      "execution_count": 13,
      "metadata": {
        "colab": {
          "base_uri": "https://localhost:8080/",
          "height": 35
        },
        "id": "r7Z3Nk5aKntY",
        "outputId": "6caf3db9-35fb-43cd-b269-d0d760bcfd50"
      },
      "outputs": [
        {
          "data": {
            "text/plain": [
              "'Bienvenido   al curso.'"
            ]
          },
          "execution_count": 13,
          "metadata": {},
          "output_type": "execute_result"
        }
      ],
      "source": [
        "s1 = \"Bienvenido   \" # Se han dejado 3 espacios adicionales\n",
        "s2 = \"al curso.\"\n",
        "s1 + s2"
      ]
    },
    {
      "cell_type": "markdown",
      "metadata": {
        "id": "vzQYnkCGLGkm"
      },
      "source": [
        "**Observación.** El número de espacios añadidos se conserva. Más adelante en esta sección veremos como eliminar los posibles espacios en blanco sobrantes."
      ]
    },
    {
      "cell_type": "markdown",
      "metadata": {
        "id": "qHgzWLOSLinW"
      },
      "source": [
        "## Repetición de strings\n",
        "\n",
        "La repetición es una operación que repite la variable string tantas veces como indiquemos.\n",
        "\n",
        "En `Python`, para repetir una variable de tipo string usamos la función `*`. El orden de los factores no altera el producto. Es decir, tanto da usar la sintaxis `num_repeticiones * variable_str` como `variable_str * num__repeticiones`."
      ]
    },
    {
      "cell_type": "code",
      "execution_count": 14,
      "metadata": {
        "colab": {
          "base_uri": "https://localhost:8080/",
          "height": 35
        },
        "id": "LpodGsA0LEin",
        "outputId": "c288395f-3ee0-4755-cd74-627d48ecfede"
      },
      "outputs": [
        {
          "data": {
            "text/plain": [
              "'¿Falta mucho? ¿Falta mucho? ¿Falta mucho? ¿Falta mucho? ¿Falta mucho? '"
            ]
          },
          "execution_count": 14,
          "metadata": {},
          "output_type": "execute_result"
        }
      ],
      "source": [
        "s1 = \"¿Falta mucho? \"\n",
        "s1 * 5"
      ]
    },
    {
      "cell_type": "code",
      "execution_count": 15,
      "metadata": {
        "colab": {
          "base_uri": "https://localhost:8080/",
          "height": 35
        },
        "id": "sztiZXAvLyZ6",
        "outputId": "6bd3c979-cc85-462e-c2b8-e4043f62d205"
      },
      "outputs": [
        {
          "data": {
            "text/plain": [
              "' ¿Hemos llegado ya? ¿Hemos llegado ya? ¿Hemos llegado ya? ¿Hemos llegado ya? ¿Hemos llegado ya?'"
            ]
          },
          "execution_count": 15,
          "metadata": {},
          "output_type": "execute_result"
        }
      ],
      "source": [
        "s2 = \" ¿Hemos llegado ya?\"\n",
        "5 * s2"
      ]
    },
    {
      "cell_type": "markdown",
      "metadata": {
        "id": "cSIsJQ_BL_Y9"
      },
      "source": [
        "**Observación.** Al igual que ocurría con la concatenación, hay que añadir manualmente uno o más espacios en blanco al principio o al final del string para que las repeticiones no estén pegadas las unas a las otras, tal y como ocurre en el siguiente chunk de código."
      ]
    },
    {
      "cell_type": "code",
      "execution_count": 16,
      "metadata": {
        "colab": {
          "base_uri": "https://localhost:8080/",
          "height": 35
        },
        "id": "_pzo0JaSL7Vp",
        "outputId": "430d6037-d736-4a83-b7ee-ee4b67f33c2d"
      },
      "outputs": [
        {
          "data": {
            "text/plain": [
              "'Había una vez un barquito chiquititoHabía una vez un barquito chiquitito'"
            ]
          },
          "execution_count": 16,
          "metadata": {},
          "output_type": "execute_result"
        }
      ],
      "source": [
        "s3 = \"Había una vez un barquito chiquitito\"\n",
        "s3 * 2"
      ]
    },
    {
      "cell_type": "markdown",
      "metadata": {
        "id": "wo25mW-rOrXR"
      },
      "source": [
        "## La función `print()`\n",
        "\n",
        "Hasta ahora, cada vez que mostrábamos strings por pantalla, estos salían entre comillas simples.\n",
        "\n",
        "La función `print()` nos sirve, entre otras muchas cosas, para mostrar strings por pantalla."
      ]
    },
    {
      "cell_type": "code",
      "execution_count": 17,
      "metadata": {
        "colab": {
          "base_uri": "https://localhost:8080/",
          "height": 35
        },
        "id": "K2MoiN21M1uA",
        "outputId": "df10937e-89a8-4667-db6e-010c57d25485"
      },
      "outputs": [
        {
          "data": {
            "text/plain": [
              "'Hello world'"
            ]
          },
          "execution_count": 17,
          "metadata": {},
          "output_type": "execute_result"
        }
      ],
      "source": [
        "s = \"Hello world\"\n",
        "s"
      ]
    },
    {
      "cell_type": "code",
      "execution_count": 18,
      "metadata": {
        "colab": {
          "base_uri": "https://localhost:8080/"
        },
        "id": "xVQc9sEsPO8Z",
        "outputId": "7856c0a2-33e7-45f2-b909-d7d526794f0a"
      },
      "outputs": [
        {
          "name": "stdout",
          "output_type": "stream",
          "text": [
            "Hello world\n"
          ]
        }
      ],
      "source": [
        "print(s)"
      ]
    },
    {
      "cell_type": "markdown",
      "metadata": {
        "id": "dtYOLUMpPTIW"
      },
      "source": [
        "**Observación.** Como ves, una de las principales diferencias entre usar la función `print()` o no usarla es que a la hora de mostrar la cadena de caracteres por pantalla, ésta no va entre comillas simples y el formato en que se imprime también es diferente."
      ]
    },
    {
      "cell_type": "markdown",
      "metadata": {
        "id": "MYnRe5auPdQY"
      },
      "source": [
        "No solamente podemos imprimir strings, sino que podemos mostrar el resultado de cualquier variable (numérica o de tipo string)"
      ]
    },
    {
      "cell_type": "code",
      "execution_count": 19,
      "metadata": {
        "colab": {
          "base_uri": "https://localhost:8080/"
        },
        "id": "ENJnmijKPPZC",
        "outputId": "539e0083-ee0f-4edf-9e2d-041ef31a24f8"
      },
      "outputs": [
        {
          "name": "stdout",
          "output_type": "stream",
          "text": [
            "Vivo en una isla\n"
          ]
        }
      ],
      "source": [
        "x = \"Vivo en una isla\"\n",
        "print(x)"
      ]
    },
    {
      "cell_type": "code",
      "execution_count": 20,
      "metadata": {
        "colab": {
          "base_uri": "https://localhost:8080/"
        },
        "id": "dtGN6_P1PiP-",
        "outputId": "e353b9df-1a4d-48ca-e2ab-cb611edde575"
      },
      "outputs": [
        {
          "name": "stdout",
          "output_type": "stream",
          "text": [
            "2.0\n"
          ]
        }
      ],
      "source": [
        "y = 2.0\n",
        "print(y)"
      ]
    },
    {
      "cell_type": "markdown",
      "metadata": {
        "id": "GHlENu3_PkfP"
      },
      "source": [
        "Al igual que podíamos concatenar strings con la función `+`, combinando ésta junto con la función `print()` podemos concatenar strings con variables que almacenan strings"
      ]
    },
    {
      "cell_type": "code",
      "execution_count": 21,
      "metadata": {
        "colab": {
          "base_uri": "https://localhost:8080/"
        },
        "id": "HB77iDi_Pjkg",
        "outputId": "104833c3-f49a-4740-e2c7-c9a4fa11e115"
      },
      "outputs": [
        {
          "name": "stdout",
          "output_type": "stream",
          "text": [
            "¡Buenos días, Don Pepito!\n"
          ]
        }
      ],
      "source": [
        "name = \"Don Pepito\"\n",
        "print(\"¡Buenos días, \" + name + \"!\")"
      ]
    },
    {
      "cell_type": "markdown",
      "metadata": {
        "id": "MDtylwkDQIkh"
      },
      "source": [
        "**Observación.** Recuerda introducir un espacio adicional siempre que vayas a concatenar cualquier cosa (strings con strings, strings con variables...), para que así el resultado quede legible.\n",
        "\n",
        "**Observación.** Utilizando la función `print()`, el uso de acentos o de algunos caracteres especiales como `¿` o `¡` ya no dan problemas a la hora de mostrarse por pantalla.\n",
        "\n",
        "**Observación.** Podemos obtener exactamente el mismo resultado utilizando comas (`,`) en vez de la función `+`. Eso sí, después de cada coma se nos añade automáticamente un espacio en blanco que no siempre buscamos, como ocurre a continuación después del resultado de la variable `name`."
      ]
    },
    {
      "cell_type": "code",
      "execution_count": 22,
      "metadata": {
        "colab": {
          "base_uri": "https://localhost:8080/"
        },
        "id": "XXvLP3cZkCBz",
        "outputId": "44d9d965-bd86-42c3-db42-6939bf616580"
      },
      "outputs": [
        {
          "name": "stdout",
          "output_type": "stream",
          "text": [
            "¡Buenos días, Don Pepito !\n"
          ]
        }
      ],
      "source": [
        "name = \"Don Pepito\"\n",
        "print(\"¡Buenos días,\", name, \"!\")"
      ]
    },
    {
      "cell_type": "markdown",
      "metadata": {
        "id": "FfdJvochQjiq"
      },
      "source": [
        "Al igual que podíamos repetir un mismo string un número cualquiera de veces con la función `*`, combinando ésta junto con la función `print()` podemos multiplicar un string o variables que contengan strings"
      ]
    },
    {
      "cell_type": "code",
      "execution_count": 23,
      "metadata": {
        "colab": {
          "base_uri": "https://localhost:8080/"
        },
        "id": "OihlvdsJPz4g",
        "outputId": "58e0d4c2-3b85-4e80-b6cb-35b7a894d2ea"
      },
      "outputs": [
        {
          "name": "stdout",
          "output_type": "stream",
          "text": [
            "¿Falta mucho? ¿Falta mucho? ¿Falta mucho? ¿Falta mucho? ¿Falta mucho? \n"
          ]
        }
      ],
      "source": [
        "print(\"¿Falta mucho? \" * 5)"
      ]
    },
    {
      "cell_type": "code",
      "execution_count": 24,
      "metadata": {
        "colab": {
          "base_uri": "https://localhost:8080/"
        },
        "id": "YSdUxXurQpJA",
        "outputId": "171ce0e8-bfca-4015-aaff-54dcec02f392"
      },
      "outputs": [
        {
          "name": "stdout",
          "output_type": "stream",
          "text": [
            "¿Falta mucho? ¿Falta mucho? ¿Falta mucho? ¿Falta mucho? ¿Falta mucho? \n"
          ]
        }
      ],
      "source": [
        "pregunta = \"¿Falta mucho? \"\n",
        "print(pregunta * 5)"
      ]
    },
    {
      "cell_type": "markdown",
      "metadata": {
        "id": "wvEiZ5QaQtlO"
      },
      "source": [
        "### La función `str()`\n",
        "\n",
        "Con la función `str()`, podemos concatenar strings y variables de cualquier tipo dentro de un `print()`:"
      ]
    },
    {
      "cell_type": "code",
      "execution_count": 25,
      "metadata": {
        "colab": {
          "base_uri": "https://localhost:8080/"
        },
        "id": "AX3MbsTIQqtw",
        "outputId": "8ef69a6c-b870-4be3-dfc8-8878d1a90277"
      },
      "outputs": [
        {
          "name": "stdout",
          "output_type": "stream",
          "text": [
            "Mi hermana se llama Karen y su edad es 25\n"
          ]
        }
      ],
      "source": [
        "nombre = \"Karen\"\n",
        "edad = 25\n",
        "print(\"Mi hermana se llama \" + nombre + \" y su edad es \" + str(edad))"
      ]
    },
    {
      "cell_type": "markdown",
      "metadata": {
        "id": "Ih9glB7MQ86u"
      },
      "source": [
        "### El método `.format()`\n",
        "\n",
        "Existe otra forma de concatenar strings y variables de cualquier tipo dentro de un `print()` y es gracias al método `.format()`. Lo que hay que hacer es indicar con llaves, `{}`, donde queremos situar el resultado de las variables y luego, dentro de los paréntesis del método `.format()`, indicar las variables en su respectivo orden"
      ]
    },
    {
      "cell_type": "code",
      "execution_count": 26,
      "metadata": {
        "colab": {
          "base_uri": "https://localhost:8080/"
        },
        "id": "JXsuEE6mQ5-2",
        "outputId": "f9294588-a09b-449c-be2a-5fd8e4228e8d"
      },
      "outputs": [
        {
          "name": "stdout",
          "output_type": "stream",
          "text": [
            "Mi abuelo se llama Ricardo y tiene 3 gatos\n"
          ]
        }
      ],
      "source": [
        "nombre = \"Ricardo\"\n",
        "numero_gatos = 3\n",
        "print(\"Mi abuelo se llama {} y tiene {} gatos\".format(nombre, numero_gatos))"
      ]
    },
    {
      "cell_type": "markdown",
      "metadata": {
        "id": "h1aW0ELISP5F"
      },
      "source": [
        "### Saltos de línea y tabulaciones\n",
        "\n",
        "Si recordáis el ejemplo 3, teníamos la variable `s3`, que contenía un salto de línea"
      ]
    },
    {
      "cell_type": "code",
      "execution_count": 27,
      "metadata": {
        "id": "iWt5g6NYROV6"
      },
      "outputs": [],
      "source": [
        "s3 = \"Con diez cañones por banda,\\nviento en popa a toda vela\""
      ]
    },
    {
      "cell_type": "markdown",
      "metadata": {
        "id": "LB2fFkedSeGH"
      },
      "source": [
        "Con la función `print()`, seremos capaces de visualizar dicho salto de línea"
      ]
    },
    {
      "cell_type": "code",
      "execution_count": 28,
      "metadata": {
        "colab": {
          "base_uri": "https://localhost:8080/"
        },
        "id": "_GkauiL5SdL6",
        "outputId": "19a0384c-73ae-470a-a015-51749be06a12"
      },
      "outputs": [
        {
          "name": "stdout",
          "output_type": "stream",
          "text": [
            "Con diez cañones por banda,\n",
            "viento en popa a toda vela\n"
          ]
        }
      ],
      "source": [
        "print(s3)"
      ]
    },
    {
      "cell_type": "markdown",
      "metadata": {
        "id": "s3XBd_rTSjzf"
      },
      "source": [
        "Y lo mismo ocurriría con la tabulación horizontal."
      ]
    },
    {
      "cell_type": "code",
      "execution_count": 29,
      "metadata": {
        "colab": {
          "base_uri": "https://localhost:8080/",
          "height": 35
        },
        "id": "0SKrWJ9wSipI",
        "outputId": "3c32bcdd-8499-47ab-a39d-79989761bafb"
      },
      "outputs": [
        {
          "data": {
            "text/plain": [
              "'La string literal \\\\t producía \\t una tabulación horizontal'"
            ]
          },
          "execution_count": 29,
          "metadata": {},
          "output_type": "execute_result"
        }
      ],
      "source": [
        "s4 = \"La string literal \\\\t producía \\t una tabulación horizontal\"\n",
        "s4"
      ]
    },
    {
      "cell_type": "code",
      "execution_count": 30,
      "metadata": {
        "colab": {
          "base_uri": "https://localhost:8080/"
        },
        "id": "X6bxByQ1Sx1l",
        "outputId": "3cea97c8-dc1a-482a-f81f-5a245dd40e57"
      },
      "outputs": [
        {
          "name": "stdout",
          "output_type": "stream",
          "text": [
            "La string literal \\t producía \t una tabulación horizontal\n"
          ]
        }
      ],
      "source": [
        "print(s4)"
      ]
    },
    {
      "cell_type": "markdown",
      "metadata": {
        "id": "WoD3EBWYS4ts"
      },
      "source": [
        "## Substrings\n",
        "\n",
        "Para acceder a un caracter de una variable string usamos la sintaxis de `[]`"
      ]
    },
    {
      "cell_type": "code",
      "execution_count": 31,
      "metadata": {
        "id": "HDNHCkOuS84O"
      },
      "outputs": [],
      "source": [
        "s = \"Soy fan de los videojuegos\""
      ]
    },
    {
      "cell_type": "code",
      "execution_count": 32,
      "metadata": {
        "colab": {
          "base_uri": "https://localhost:8080/",
          "height": 37
        },
        "id": "mleJd9yDz2aO",
        "outputId": "20a6f5d9-4cdb-4541-8af7-cb792626054b"
      },
      "outputs": [
        {
          "data": {
            "text/plain": [
              "'S'"
            ]
          },
          "execution_count": 32,
          "metadata": {},
          "output_type": "execute_result"
        }
      ],
      "source": [
        "s[0] # Primer caracter"
      ]
    },
    {
      "cell_type": "code",
      "execution_count": 33,
      "metadata": {
        "colab": {
          "base_uri": "https://localhost:8080/",
          "height": 37
        },
        "id": "zuTsx3EWz20K",
        "outputId": "12098609-47ad-4440-c615-defb88ff5336"
      },
      "outputs": [
        {
          "data": {
            "text/plain": [
              "'a'"
            ]
          },
          "execution_count": 33,
          "metadata": {},
          "output_type": "execute_result"
        }
      ],
      "source": [
        "s[5] # Sexto caracter"
      ]
    },
    {
      "cell_type": "markdown",
      "metadata": {
        "id": "LHb1cjRfz9qi"
      },
      "source": [
        "**¡Cuidado!** En `Python`, los índices siempre empiezan en 0, al contrario de lo que ocurre con otros lenguajes de programación, como por ejemplo `R`."
      ]
    },
    {
      "cell_type": "markdown",
      "metadata": {
        "id": "hLzZPNdt0Gha"
      },
      "source": [
        "Si precedemos el índice por un `-`, entonces empezamos desde el final"
      ]
    },
    {
      "cell_type": "code",
      "execution_count": 34,
      "metadata": {
        "colab": {
          "base_uri": "https://localhost:8080/",
          "height": 37
        },
        "id": "GkCm5VQVz6uM",
        "outputId": "175701ae-77fe-4e3d-e8d5-53b847db3d0a"
      },
      "outputs": [
        {
          "data": {
            "text/plain": [
              "'s'"
            ]
          },
          "execution_count": 34,
          "metadata": {},
          "output_type": "execute_result"
        }
      ],
      "source": [
        "s[-1] # Último elemento"
      ]
    },
    {
      "cell_type": "code",
      "execution_count": 35,
      "metadata": {
        "colab": {
          "base_uri": "https://localhost:8080/",
          "height": 37
        },
        "id": "niBjyqij0LHK",
        "outputId": "de4fba97-f38b-487f-eb5e-9f2945097539"
      },
      "outputs": [
        {
          "data": {
            "text/plain": [
              "'o'"
            ]
          },
          "execution_count": 35,
          "metadata": {},
          "output_type": "execute_result"
        }
      ],
      "source": [
        "s[-7] # Séptimo elemento empezando por el final"
      ]
    },
    {
      "cell_type": "markdown",
      "metadata": {
        "id": "TUyZcCC10cw7"
      },
      "source": [
        "Si queremos acceder a varios caracteres seguidos, podemos utilizar la función `:`"
      ]
    },
    {
      "cell_type": "code",
      "execution_count": 36,
      "metadata": {
        "colab": {
          "base_uri": "https://localhost:8080/",
          "height": 35
        },
        "id": "_RoR2o970Phv",
        "outputId": "8d940521-08b3-4ef1-a836-1765cb62af82"
      },
      "outputs": [
        {
          "data": {
            "text/plain": [
              "'fan'"
            ]
          },
          "execution_count": 36,
          "metadata": {},
          "output_type": "execute_result"
        }
      ],
      "source": [
        "s[4:7] # Del quinto al séptimo"
      ]
    },
    {
      "cell_type": "code",
      "execution_count": 37,
      "metadata": {
        "colab": {
          "base_uri": "https://localhost:8080/",
          "height": 35
        },
        "id": "AxGN5YDN0hUI",
        "outputId": "571a1899-278d-4517-9670-b9e83945af24"
      },
      "outputs": [
        {
          "data": {
            "text/plain": [
              "'Soy fan'"
            ]
          },
          "execution_count": 37,
          "metadata": {},
          "output_type": "execute_result"
        }
      ],
      "source": [
        "s[:7] # Del primero al séptimo"
      ]
    },
    {
      "cell_type": "code",
      "execution_count": 38,
      "metadata": {
        "colab": {
          "base_uri": "https://localhost:8080/",
          "height": 37
        },
        "id": "teaoOQ6-0wTL",
        "outputId": "ed49329f-dbd9-489e-8899-11decbf77157"
      },
      "outputs": [
        {
          "data": {
            "text/plain": [
              "'de los videojuegos'"
            ]
          },
          "execution_count": 38,
          "metadata": {},
          "output_type": "execute_result"
        }
      ],
      "source": [
        "s[8:] # Del noveno al final"
      ]
    },
    {
      "cell_type": "markdown",
      "metadata": {
        "id": "5K42r-av1Afn"
      },
      "source": [
        "**¡Cuidado!** En `Python`, siempre que usemos la función `:`, el índice que se encuentra a la derecha nunca es incluido, tal y como hemos visto en los ejemplos anteriores."
      ]
    },
    {
      "cell_type": "markdown",
      "metadata": {
        "id": "0rlXs9bj1ODn"
      },
      "source": [
        "Si precedemos por `-` al índice de la izquierda de `:` y no ponemos ninguno a su derecha, lo que hacemos es obtener los últimos elementos"
      ]
    },
    {
      "cell_type": "code",
      "execution_count": 39,
      "metadata": {
        "colab": {
          "base_uri": "https://localhost:8080/",
          "height": 35
        },
        "id": "cyF8_JVM07ju",
        "outputId": "591dea98-195d-4399-b773-8f6ccbfc7ee9"
      },
      "outputs": [
        {
          "data": {
            "text/plain": [
              "'ideojuegos'"
            ]
          },
          "execution_count": 39,
          "metadata": {},
          "output_type": "execute_result"
        }
      ],
      "source": [
        "s[-10:] # Diez últimos elementos"
      ]
    },
    {
      "cell_type": "markdown",
      "metadata": {
        "id": "f6j9wom51fMl"
      },
      "source": [
        "Si al contrario, precedemos por `-` al índice de la derecha, sin poner ningún índice a la izquierda de `:`, obtendremos todos los elementos salvo el número de elementos indicados por el índice (recordemos que si precedíamos por `-`, los índices empezaban desde el final)."
      ]
    },
    {
      "cell_type": "code",
      "execution_count": 40,
      "metadata": {
        "colab": {
          "base_uri": "https://localhost:8080/",
          "height": 35
        },
        "id": "WVoZjls11Wj2",
        "outputId": "8f1d50b6-aef2-4518-d131-5b517b055922"
      },
      "outputs": [
        {
          "data": {
            "text/plain": [
              "'Soy fan de los v'"
            ]
          },
          "execution_count": 40,
          "metadata": {},
          "output_type": "execute_result"
        }
      ],
      "source": [
        "s[:-10]"
      ]
    },
    {
      "cell_type": "markdown",
      "metadata": {
        "id": "u7sP_Cdi2dZk"
      },
      "source": [
        "## Métodos para trabajar con strings\n",
        "\n",
        "El método `.lower()` nos transforma el string que indiquemos a minúsculas."
      ]
    },
    {
      "cell_type": "code",
      "execution_count": 41,
      "metadata": {
        "colab": {
          "base_uri": "https://localhost:8080/",
          "height": 35
        },
        "id": "Gn-wbbuA2ffk",
        "outputId": "8d83f78d-e152-42f6-d398-f2a998ecea7e"
      },
      "outputs": [
        {
          "data": {
            "text/plain": [
              "'me encantan el chocolate y las galletas'"
            ]
          },
          "execution_count": 41,
          "metadata": {},
          "output_type": "execute_result"
        }
      ],
      "source": [
        "s = \"Me ENCANTAN el chocolate y las galletas\"\n",
        "s.lower()"
      ]
    },
    {
      "cell_type": "markdown",
      "metadata": {
        "id": "pVwPf8GF2rP9"
      },
      "source": [
        "El método `.upper()`, por el contrario, lo transforma a mayúsculas."
      ]
    },
    {
      "cell_type": "code",
      "execution_count": 42,
      "metadata": {
        "colab": {
          "base_uri": "https://localhost:8080/",
          "height": 35
        },
        "id": "GjKFBLe12ono",
        "outputId": "4abab68c-9db9-4560-c827-4e2682ca81ee"
      },
      "outputs": [
        {
          "data": {
            "text/plain": [
              "'ME ENCANTAN EL CHOCOLATE Y LAS GALLETAS'"
            ]
          },
          "execution_count": 42,
          "metadata": {},
          "output_type": "execute_result"
        }
      ],
      "source": [
        "s.upper()"
      ]
    },
    {
      "cell_type": "markdown",
      "metadata": {
        "id": "d-U6pEFr2w_8"
      },
      "source": [
        "El método `.count()` cuenta cuántas veces aparece una letra o un string dentro del string al cuál le aplicamos dicho método."
      ]
    },
    {
      "cell_type": "code",
      "execution_count": 43,
      "metadata": {
        "colab": {
          "base_uri": "https://localhost:8080/"
        },
        "id": "WHrUtUGm22Qv",
        "outputId": "57078580-f350-4237-cf69-f2121ae0021b"
      },
      "outputs": [
        {
          "data": {
            "text/plain": [
              "2"
            ]
          },
          "execution_count": 43,
          "metadata": {},
          "output_type": "execute_result"
        }
      ],
      "source": [
        "s.count(\"o\")"
      ]
    },
    {
      "cell_type": "code",
      "execution_count": 44,
      "metadata": {
        "colab": {
          "base_uri": "https://localhost:8080/"
        },
        "id": "v1NpXiaw23Zy",
        "outputId": "b122bf0d-c03f-4493-b845-98dc436e2cad"
      },
      "outputs": [
        {
          "data": {
            "text/plain": [
              "2"
            ]
          },
          "execution_count": 44,
          "metadata": {},
          "output_type": "execute_result"
        }
      ],
      "source": [
        "s.count(\"la\")"
      ]
    },
    {
      "cell_type": "markdown",
      "metadata": {
        "id": "gTXHdGeP24_0"
      },
      "source": [
        "El método `.capitalize()` convierte a mayúscula el primer caracter de un string."
      ]
    },
    {
      "cell_type": "code",
      "execution_count": 45,
      "metadata": {
        "colab": {
          "base_uri": "https://localhost:8080/",
          "height": 35
        },
        "id": "BszJBqto299f",
        "outputId": "7fd4b057-c8a7-4eae-fd82-bf02a10181f1"
      },
      "outputs": [
        {
          "data": {
            "text/plain": [
              "'Me encanta aprender con alethia'"
            ]
          },
          "execution_count": 45,
          "metadata": {},
          "output_type": "execute_result"
        }
      ],
      "source": [
        "s = \"me encanta aprender con alethia\"\n",
        "s.capitalize()"
      ]
    },
    {
      "cell_type": "markdown",
      "metadata": {
        "id": "1zIb1zEU3BQN"
      },
      "source": [
        "El método `.title()` convierte a mayúscula el primer caracter de cada palabra de un string."
      ]
    },
    {
      "cell_type": "code",
      "execution_count": 46,
      "metadata": {
        "colab": {
          "base_uri": "https://localhost:8080/",
          "height": 35
        },
        "id": "s2gL1zRF3AoF",
        "outputId": "ea5e794a-5cf6-43a8-8311-0e9dfbfe83aa"
      },
      "outputs": [
        {
          "data": {
            "text/plain": [
              "'Me Encanta Aprender Con Alethia'"
            ]
          },
          "execution_count": 46,
          "metadata": {},
          "output_type": "execute_result"
        }
      ],
      "source": [
        "s.title()"
      ]
    },
    {
      "cell_type": "markdown",
      "metadata": {
        "id": "2fqeJUOn3ILj"
      },
      "source": [
        "El método `.swapcase()` convierte a mayúscula las minúsculas y viceversa."
      ]
    },
    {
      "cell_type": "code",
      "execution_count": 47,
      "metadata": {
        "colab": {
          "base_uri": "https://localhost:8080/",
          "height": 35
        },
        "id": "VeU1qC4u3HXP",
        "outputId": "0d327abd-0782-404f-818d-8d284dfec243"
      },
      "outputs": [
        {
          "data": {
            "text/plain": [
              "'mE encanta APRENDER CON uDEMY'"
            ]
          },
          "execution_count": 47,
          "metadata": {},
          "output_type": "execute_result"
        }
      ],
      "source": [
        "s = \"Me ENCANTA aprender con Udemy\"\n",
        "s.swapcase()"
      ]
    },
    {
      "cell_type": "markdown",
      "metadata": {
        "id": "5WVp6XYF3lo7"
      },
      "source": [
        "El método `.replace()` reemplaza el caracter (o caracteres) que le indiquemos por el string que queramos."
      ]
    },
    {
      "cell_type": "code",
      "execution_count": 48,
      "metadata": {
        "colab": {
          "base_uri": "https://localhost:8080/",
          "height": 35
        },
        "id": "xQkL3nnw3iHq",
        "outputId": "51ef3a0a-d53b-455d-c260-2c43bbff5e12"
      },
      "outputs": [
        {
          "data": {
            "text/plain": [
              "'Los tomberis son malos'"
            ]
          },
          "execution_count": 48,
          "metadata": {},
          "output_type": "execute_result"
        }
      ],
      "source": [
        "s = \"Los tomberis son buenos\"\n",
        "s.replace(\"buenos\", \"malos\")"
      ]
    },
    {
      "cell_type": "markdown",
      "metadata": {
        "id": "gxSJQG3K3mTr"
      },
      "source": [
        "El método `.split()` rompe el string en el caracter que le indiquemos y elimina dicho caracter."
      ]
    },
    {
      "cell_type": "code",
      "execution_count": 49,
      "metadata": {
        "colab": {
          "base_uri": "https://localhost:8080/"
        },
        "id": "jhGO866B3mlm",
        "outputId": "5a79563f-055a-4914-d9b7-ee052f61bd93"
      },
      "outputs": [
        {
          "data": {
            "text/plain": [
              "['El ', 'l', 'fant', ' ti', 'n', ' las or', 'jas muy grand', 's']"
            ]
          },
          "execution_count": 49,
          "metadata": {},
          "output_type": "execute_result"
        }
      ],
      "source": [
        "s = \"El elefante tiene las orejas muy grandes\"\n",
        "s.split(\"e\") # Rompemos por la letra e minúscula"
      ]
    },
    {
      "cell_type": "code",
      "execution_count": 50,
      "metadata": {
        "colab": {
          "base_uri": "https://localhost:8080/"
        },
        "id": "DOgE3iLB3w5a",
        "outputId": "64a5abaa-b9df-4a7d-916e-c344af69a40f"
      },
      "outputs": [
        {
          "data": {
            "text/plain": [
              "['El', 'elefante', 'tiene', 'las', 'orejas', 'muy', 'grandes']"
            ]
          },
          "execution_count": 50,
          "metadata": {},
          "output_type": "execute_result"
        }
      ],
      "source": [
        "s.split(\" \") # Rompemos por los espacios"
      ]
    },
    {
      "cell_type": "code",
      "execution_count": 51,
      "metadata": {
        "colab": {
          "base_uri": "https://localhost:8080/"
        },
        "id": "ZBHs-oAf30f7",
        "outputId": "875aba5e-6f76-403c-86ff-b80012b39f84"
      },
      "outputs": [
        {
          "data": {
            "text/plain": [
              "['El elefante ', ' las orejas muy grandes']"
            ]
          },
          "execution_count": 51,
          "metadata": {},
          "output_type": "execute_result"
        }
      ],
      "source": [
        "s.split(\"tiene\") # Rompemos por la palabra tiene"
      ]
    },
    {
      "cell_type": "markdown",
      "metadata": {
        "id": "jnkzw3ud3zWr"
      },
      "source": [
        "El método `.strip()` elimina los espacios sobrantes a principio y final del string."
      ]
    },
    {
      "cell_type": "code",
      "execution_count": 52,
      "metadata": {
        "colab": {
          "base_uri": "https://localhost:8080/",
          "height": 35
        },
        "id": "174KMod83z6f",
        "outputId": "b097b563-1eee-48f9-e217-1b47645a4ddb"
      },
      "outputs": [
        {
          "data": {
            "text/plain": [
              "'El elefante tiene las orejas muy grandes'"
            ]
          },
          "execution_count": 52,
          "metadata": {},
          "output_type": "execute_result"
        }
      ],
      "source": [
        "s = \"       El elefante tiene las orejas muy grandes        \"\n",
        "s.strip()"
      ]
    },
    {
      "cell_type": "markdown",
      "metadata": {
        "id": "M34jtbv23mw2"
      },
      "source": [
        "El método `.rstrip()` elimina los espacios sobrantes al final del string."
      ]
    },
    {
      "cell_type": "code",
      "execution_count": 53,
      "metadata": {
        "colab": {
          "base_uri": "https://localhost:8080/",
          "height": 35
        },
        "id": "7QFOJlwt3m7S",
        "outputId": "51f17b8f-563c-4491-85b2-f1a022b2c14c"
      },
      "outputs": [
        {
          "data": {
            "text/plain": [
              "'       El elefante tiene las orejas muy grandes'"
            ]
          },
          "execution_count": 53,
          "metadata": {},
          "output_type": "execute_result"
        }
      ],
      "source": [
        "s.rstrip()"
      ]
    },
    {
      "cell_type": "markdown",
      "metadata": {
        "id": "0yM1RMrb3nEM"
      },
      "source": [
        "El método .lstrip() elimina los espacios sobrantes al principio del string."
      ]
    },
    {
      "cell_type": "code",
      "execution_count": 54,
      "metadata": {
        "colab": {
          "base_uri": "https://localhost:8080/",
          "height": 35
        },
        "id": "4FCine1W3nNk",
        "outputId": "33b79f0f-b4d2-449c-e17c-cdbf2c59b8f5"
      },
      "outputs": [
        {
          "data": {
            "text/plain": [
              "'El elefante tiene las orejas muy grandes        '"
            ]
          },
          "execution_count": 54,
          "metadata": {},
          "output_type": "execute_result"
        }
      ],
      "source": [
        "s.lstrip()"
      ]
    },
    {
      "cell_type": "markdown",
      "metadata": {
        "id": "Z9oSmTbA4L3W"
      },
      "source": [
        "El método `.find()` busca el caracter que indiquemos y nos devuelve la primera posición en la que aparece."
      ]
    },
    {
      "cell_type": "code",
      "execution_count": 55,
      "metadata": {
        "colab": {
          "base_uri": "https://localhost:8080/"
        },
        "id": "rEaaxUSd4MDY",
        "outputId": "2281a15a-9b52-4537-f536-c033e00be162"
      },
      "outputs": [
        {
          "data": {
            "text/plain": [
              "3"
            ]
          },
          "execution_count": 55,
          "metadata": {},
          "output_type": "execute_result"
        }
      ],
      "source": [
        "s = \"Este es un curso de Python para hacer en casa o en cualquier lado\"\n",
        "s.find(\"e\")"
      ]
    },
    {
      "cell_type": "markdown",
      "metadata": {
        "id": "4Y2hu9Jt4ML4"
      },
      "source": [
        "Si le pedimos buscar un conjunto de caracteres, nos devuelve la posición del primer caracter de dicho conjunto"
      ]
    },
    {
      "cell_type": "code",
      "execution_count": 56,
      "metadata": {
        "colab": {
          "base_uri": "https://localhost:8080/"
        },
        "id": "gsnhV2gR4MWf",
        "outputId": "01e4f791-364c-4aa4-b1d8-90dbdc7f2ef8"
      },
      "outputs": [
        {
          "data": {
            "text/plain": [
              "41"
            ]
          },
          "execution_count": 56,
          "metadata": {},
          "output_type": "execute_result"
        }
      ],
      "source": [
        "s.find(\"casa\")"
      ]
    },
    {
      "cell_type": "markdown",
      "metadata": {
        "id": "AfIpgQEd4Mfp"
      },
      "source": [
        "El método `.find()` tiene otros dos parámetros de uso opcional: `start` y `end`, que sirven para indicar donde queremos que empiece la búsqueda y donde queremos que acabe."
      ]
    },
    {
      "cell_type": "code",
      "execution_count": 57,
      "metadata": {
        "colab": {
          "base_uri": "https://localhost:8080/"
        },
        "id": "6GZODGOe4MqF",
        "outputId": "87b5d56d-fcd7-481f-d988-a30a18952dfe"
      },
      "outputs": [
        {
          "data": {
            "text/plain": [
              "18"
            ]
          },
          "execution_count": 57,
          "metadata": {},
          "output_type": "execute_result"
        }
      ],
      "source": [
        "s.find(\"e\", 10) # Solamente indicamos start"
      ]
    },
    {
      "cell_type": "code",
      "execution_count": 58,
      "metadata": {
        "colab": {
          "base_uri": "https://localhost:8080/"
        },
        "id": "pxqhw5R74Jkc",
        "outputId": "42dc7657-406b-494c-8724-f615a02d6e12"
      },
      "outputs": [
        {
          "data": {
            "text/plain": [
              "35"
            ]
          },
          "execution_count": 58,
          "metadata": {},
          "output_type": "execute_result"
        }
      ],
      "source": [
        "s.find(\"e\", 30, 40) # Indicamos start y end"
      ]
    },
    {
      "cell_type": "markdown",
      "metadata": {
        "id": "lv0GUT774du7"
      },
      "source": [
        "El método `.index()` busca el caracter que indiquemos y nos devuelve la primera posición en la que aparece."
      ]
    },
    {
      "cell_type": "code",
      "execution_count": 59,
      "metadata": {
        "colab": {
          "base_uri": "https://localhost:8080/"
        },
        "id": "mhAHevAp4c-D",
        "outputId": "ecd54fe7-cc72-4ba0-9096-28026f88b28d"
      },
      "outputs": [
        {
          "data": {
            "text/plain": [
              "3"
            ]
          },
          "execution_count": 59,
          "metadata": {},
          "output_type": "execute_result"
        }
      ],
      "source": [
        "s = \"Este es un curso de Python para hacer en casa o en cualquier lado\"\n",
        "s.index(\"e\")"
      ]
    },
    {
      "cell_type": "markdown",
      "metadata": {
        "id": "ReL419Ff4f2O"
      },
      "source": [
        "Si le pedimos buscar un conjunto de caracteres, nos devuelve la posición del primer caracter de dicho conjunto"
      ]
    },
    {
      "cell_type": "code",
      "execution_count": 60,
      "metadata": {
        "colab": {
          "base_uri": "https://localhost:8080/"
        },
        "id": "3qw39rOo4gAs",
        "outputId": "c60836bd-567c-44d8-d0ed-f47e5a8e6ca7"
      },
      "outputs": [
        {
          "data": {
            "text/plain": [
              "41"
            ]
          },
          "execution_count": 60,
          "metadata": {},
          "output_type": "execute_result"
        }
      ],
      "source": [
        "s.index(\"casa\")"
      ]
    },
    {
      "cell_type": "markdown",
      "metadata": {
        "id": "Q55AVtkc4gJb"
      },
      "source": [
        "El método `.index()` tiene otros dos parámetros de uso opcional: `start` y `end`, que sirven para indicar donde queremos que empiece la búsqueda y donde queremos que acabe."
      ]
    },
    {
      "cell_type": "code",
      "execution_count": 61,
      "metadata": {
        "colab": {
          "base_uri": "https://localhost:8080/"
        },
        "id": "PL2h_YI_4gSq",
        "outputId": "a9bf83b5-4752-4b25-a124-340d4bf0b2eb"
      },
      "outputs": [
        {
          "data": {
            "text/plain": [
              "18"
            ]
          },
          "execution_count": 61,
          "metadata": {},
          "output_type": "execute_result"
        }
      ],
      "source": [
        "s.index(\"e\", 10) # Solamente indicamos start"
      ]
    },
    {
      "cell_type": "code",
      "execution_count": 62,
      "metadata": {
        "colab": {
          "base_uri": "https://localhost:8080/"
        },
        "id": "SzG-6ySH4gh3",
        "outputId": "71ab95be-3fe9-44d3-d3c5-5ea03ce1729c"
      },
      "outputs": [
        {
          "data": {
            "text/plain": [
              "35"
            ]
          },
          "execution_count": 62,
          "metadata": {},
          "output_type": "execute_result"
        }
      ],
      "source": [
        "s.index(\"e\", 30, 40) # Indicamos start y end"
      ]
    },
    {
      "cell_type": "markdown",
      "metadata": {
        "id": "QdICgelP41YE"
      },
      "source": [
        "**Observación.** Observemos que los métodos `.index()` y `.find()` son casi idénticos. El único punto en que difieren es que si el caracter indicado no se encuentra en el string, el método `.index()` arroja error, mientras que `.find()` arroja el índice -1."
      ]
    },
    {
      "cell_type": "markdown",
      "metadata": {
        "id": "9fR30sFA5AVz"
      },
      "source": [
        "El método `.rindex()` busca el caracter que indiquemos y devuelve el último indice en el que fue encontrado."
      ]
    },
    {
      "cell_type": "code",
      "execution_count": 63,
      "metadata": {
        "colab": {
          "base_uri": "https://localhost:8080/"
        },
        "id": "liuRHCVn4z9x",
        "outputId": "ea1b0ecf-7992-47b6-9e99-9967e5204202"
      },
      "outputs": [
        {
          "data": {
            "text/plain": [
              "58"
            ]
          },
          "execution_count": 63,
          "metadata": {},
          "output_type": "execute_result"
        }
      ],
      "source": [
        "s.rindex(\"e\")"
      ]
    },
    {
      "cell_type": "markdown",
      "metadata": {
        "id": "nuQI5n_v5EWq"
      },
      "source": [
        "También consta de los dos parámetros de uso opcional: `start` y `end`, que sirven para indicar donde queremos que empiece la búsqueda y donde queremos que acabe."
      ]
    },
    {
      "cell_type": "markdown",
      "metadata": {
        "id": "jH8Zr1mK40lM"
      },
      "source": [
        "## Otras funciones a tener en cuenta\n",
        "\n",
        "La función `len()` nos devuelve el número de caracteres del string."
      ]
    },
    {
      "cell_type": "code",
      "execution_count": 64,
      "metadata": {
        "colab": {
          "base_uri": "https://localhost:8080/"
        },
        "id": "z50sileY4g1z",
        "outputId": "c08ee6d2-b9a1-4b3c-c200-9279eb4e70cf"
      },
      "outputs": [
        {
          "data": {
            "text/plain": [
              "12"
            ]
          },
          "execution_count": 64,
          "metadata": {},
          "output_type": "execute_result"
        }
      ],
      "source": [
        "s = \"Tengo hambre\"\n",
        "len(s)"
      ]
    },
    {
      "cell_type": "markdown",
      "metadata": {
        "id": "EEJNBlbC5T-7"
      },
      "source": [
        "**Observación.** Los espacios en blanco también son caracteres, por lo que éstos también son incluidos al contar el número de caracteres de los que consta un string."
      ]
    },
    {
      "cell_type": "markdown",
      "metadata": {
        "id": "3nZ0nBmv4hk0"
      },
      "source": [
        "Si tenemos un número en formato string, por mucho que sea un número para nosotros, en realidad `Python` no lo ve así. El gran problema es cuando queremos operar con un número que se encuentra en formato string. Ahí es donde entran en juego las funciones `int()` y `float()`, que lo que hacen es convertir a formato integer o float, respectivamente."
      ]
    },
    {
      "cell_type": "code",
      "execution_count": 65,
      "metadata": {
        "colab": {
          "base_uri": "https://localhost:8080/"
        },
        "id": "cU-KTJuE5kJU",
        "outputId": "c55da4a3-82a4-4419-a6c6-d6d3dfb50770"
      },
      "outputs": [
        {
          "data": {
            "text/plain": [
              "str"
            ]
          },
          "execution_count": 65,
          "metadata": {},
          "output_type": "execute_result"
        }
      ],
      "source": [
        "numero = \"5\"\n",
        "type(numero)"
      ]
    },
    {
      "cell_type": "markdown",
      "metadata": {
        "id": "qbKkQv974hH6"
      },
      "source": [
        "En este caso, pasamos a formato integer:"
      ]
    },
    {
      "cell_type": "code",
      "execution_count": 66,
      "metadata": {
        "colab": {
          "base_uri": "https://localhost:8080/"
        },
        "id": "2kVHNJMh5oYW",
        "outputId": "d7f7e2a9-3bdb-4c80-945d-d5d7a8667491"
      },
      "outputs": [
        {
          "data": {
            "text/plain": [
              "5"
            ]
          },
          "execution_count": 66,
          "metadata": {},
          "output_type": "execute_result"
        }
      ],
      "source": [
        "numero_int = int(numero)\n",
        "numero_int"
      ]
    },
    {
      "cell_type": "code",
      "execution_count": 67,
      "metadata": {
        "colab": {
          "base_uri": "https://localhost:8080/"
        },
        "id": "PPRmbP5X5rwP",
        "outputId": "718f0126-53e0-4e52-b8e6-ee631baa661c"
      },
      "outputs": [
        {
          "data": {
            "text/plain": [
              "25"
            ]
          },
          "execution_count": 67,
          "metadata": {},
          "output_type": "execute_result"
        }
      ],
      "source": [
        "numero_int ** 2"
      ]
    },
    {
      "cell_type": "code",
      "execution_count": 68,
      "metadata": {
        "colab": {
          "base_uri": "https://localhost:8080/"
        },
        "id": "kHioebTH5sfv",
        "outputId": "5c6b7d8d-6586-4a43-e035-06d6743937bd"
      },
      "outputs": [
        {
          "data": {
            "text/plain": [
              "int"
            ]
          },
          "execution_count": 68,
          "metadata": {},
          "output_type": "execute_result"
        }
      ],
      "source": [
        "type(numero_int)"
      ]
    },
    {
      "cell_type": "markdown",
      "metadata": {
        "id": "bQsxU4Zx4guI"
      },
      "source": [
        "En este otro caso, pasamos a formato float:"
      ]
    },
    {
      "cell_type": "code",
      "execution_count": 69,
      "metadata": {
        "colab": {
          "base_uri": "https://localhost:8080/"
        },
        "id": "ktSLVA5f5xTW",
        "outputId": "416ca8fa-7ce6-4199-d2cc-a5dd865f6e7c"
      },
      "outputs": [
        {
          "data": {
            "text/plain": [
              "5.0"
            ]
          },
          "execution_count": 69,
          "metadata": {},
          "output_type": "execute_result"
        }
      ],
      "source": [
        "numero_float = float(numero)\n",
        "numero_float"
      ]
    },
    {
      "cell_type": "code",
      "execution_count": 70,
      "metadata": {
        "colab": {
          "base_uri": "https://localhost:8080/"
        },
        "id": "ZVTn6fCW5xiS",
        "outputId": "f4ffc392-5b7b-4810-b901-dece4a309176"
      },
      "outputs": [
        {
          "data": {
            "text/plain": [
              "20.0"
            ]
          },
          "execution_count": 70,
          "metadata": {},
          "output_type": "execute_result"
        }
      ],
      "source": [
        "numero_float ** 2 - numero_float"
      ]
    },
    {
      "cell_type": "code",
      "execution_count": 71,
      "metadata": {
        "colab": {
          "base_uri": "https://localhost:8080/"
        },
        "id": "tIGai4WN5xw0",
        "outputId": "b4aff40f-3523-4c2a-c64a-da12827c5e90"
      },
      "outputs": [
        {
          "data": {
            "text/plain": [
              "float"
            ]
          },
          "execution_count": 71,
          "metadata": {},
          "output_type": "execute_result"
        }
      ],
      "source": [
        "type(numero_float)"
      ]
    },
    {
      "cell_type": "markdown",
      "metadata": {
        "id": "8ORueZaL4gbA"
      },
      "source": [
        "La función `input()` sirve para que el usuario introduzca un string por consola:"
      ]
    },
    {
      "cell_type": "code",
      "execution_count": 75,
      "metadata": {
        "colab": {
          "base_uri": "https://localhost:8080/"
        },
        "id": "Gx6GXzVx57u5",
        "outputId": "d4aaf52a-f7b6-4561-eaf3-1a345c33fa6f"
      },
      "outputs": [
        {
          "name": "stdout",
          "output_type": "stream",
          "text": [
            "Introduce tu nombre: \n"
          ]
        }
      ],
      "source": [
        "print(\"Introduce tu nombre: \")\n",
        "name = input(\"Nombre: \")"
      ]
    },
    {
      "cell_type": "code",
      "execution_count": 73,
      "metadata": {
        "colab": {
          "base_uri": "https://localhost:8080/",
          "height": 35
        },
        "id": "qnzcoY_s59oq",
        "outputId": "d3dc31d8-5d33-4176-d52b-e5e6286d32f3"
      },
      "outputs": [
        {
          "data": {
            "text/plain": [
              "''"
            ]
          },
          "execution_count": 73,
          "metadata": {},
          "output_type": "execute_result"
        }
      ],
      "source": [
        "name"
      ]
    },
    {
      "cell_type": "markdown",
      "metadata": {
        "id": "llPqUXvI6FAj"
      },
      "source": [
        "Aquí también nos serán útiles las funciones `int()` y `float()`, pues si en vez del nombre queremos que el usuario nos indique su edad o su altura, querremos tratar dichos valores como números. Entonces, haríamos lo siguiente"
      ]
    },
    {
      "cell_type": "code",
      "execution_count": 76,
      "metadata": {
        "colab": {
          "base_uri": "https://localhost:8080/"
        },
        "id": "gXoEV0_o6Axu",
        "outputId": "1cc7f5d2-ed82-4de0-b68e-8e5c7464370c"
      },
      "outputs": [
        {
          "name": "stdout",
          "output_type": "stream",
          "text": [
            "Introduce tu edad: \n"
          ]
        }
      ],
      "source": [
        "print(\"Introduce tu edad: \")\n",
        "age = int(input(\"Edad: \"))"
      ]
    },
    {
      "cell_type": "code",
      "execution_count": 77,
      "metadata": {
        "colab": {
          "base_uri": "https://localhost:8080/"
        },
        "id": "ianS3k6G6L5p",
        "outputId": "9b0ff897-0479-43f1-8dec-8b8888c108a1"
      },
      "outputs": [
        {
          "name": "stdout",
          "output_type": "stream",
          "text": [
            "Introduce tu altura: \n"
          ]
        }
      ],
      "source": [
        "print(\"Introduce tu altura: \")\n",
        "height = float(input(\"Altura (en m): \"))"
      ]
    },
    {
      "cell_type": "code",
      "execution_count": 78,
      "metadata": {
        "colab": {
          "base_uri": "https://localhost:8080/"
        },
        "id": "qUCy1G-v6Owg",
        "outputId": "1e066d95-d679-4776-b3b0-fea58e10c025"
      },
      "outputs": [
        {
          "name": "stdout",
          "output_type": "stream",
          "text": [
            "La edad de Lalo Lozas es 29 y mide 1.71m\n"
          ]
        }
      ],
      "source": [
        "print(\"La edad de {} es {} y mide {}m\".format(name, age, height))"
      ]
    }
  ],
  "metadata": {
    "colab": {
      "provenance": []
    },
    "kernelspec": {
      "display_name": "Python 3",
      "name": "python3"
    },
    "language_info": {
      "codemirror_mode": {
        "name": "ipython",
        "version": 3
      },
      "file_extension": ".py",
      "mimetype": "text/x-python",
      "name": "python",
      "nbconvert_exporter": "python",
      "pygments_lexer": "ipython3",
      "version": "3.7.6"
    }
  },
  "nbformat": 4,
  "nbformat_minor": 0
}
