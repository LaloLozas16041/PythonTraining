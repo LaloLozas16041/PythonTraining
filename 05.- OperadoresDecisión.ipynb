{
  "cells": [
    {
      "cell_type": "markdown",
      "metadata": {
        "id": "s47zwXMk0BDU"
      },
      "source": [
        "# Variables booleanas y operadores de decisión\n",
        "\n"
      ]
    },
    {
      "cell_type": "markdown",
      "metadata": {
        "id": "1g57qvzgDhuy"
      },
      "source": [
        "## Booleanos\n",
        "\n",
        "**Dato booleano.** Es un tipo de dato que solamente puede tomar 2 valores: `True` (verdadero) o `False` (falso).\n",
        "\n",
        "**Variable lógica.** Variable que almacena datos booleanos."
      ]
    },
    {
      "cell_type": "code",
      "execution_count": null,
      "metadata": {
        "colab": {
          "base_uri": "https://localhost:8080/"
        },
        "id": "gye-i_dlz33O",
        "outputId": "a3f1d4b6-576b-4f07-bb82-751322c5f5aa"
      },
      "outputs": [
        {
          "data": {
            "text/plain": [
              "bool"
            ]
          },
          "execution_count": 1,
          "metadata": {
            "tags": []
          },
          "output_type": "execute_result"
        }
      ],
      "source": [
        "is_adult = True\n",
        "type(is_adult)"
      ]
    },
    {
      "cell_type": "markdown",
      "metadata": {
        "id": "vZMLp1YN4_4-"
      },
      "source": [
        "**Observación.** Observad que tanto `True` como `False` únicamente tienen la primera letra mayúscula. Además, a diferencia de otros lenguajes de programación, como por ejemplo `R`, `Python` solamente admite los booleanos escritos de esta forma: `True` o `False`.\n",
        "\n"
      ]
    },
    {
      "cell_type": "markdown",
      "metadata": {
        "id": "SVFyPtpzDkyV"
      },
      "source": [
        "### Tablas de verdad\n",
        "\n",
        "Dadas dos variables lógicas, $A$ y $B$, , podemos definir los operadores básicos mediante tablas de verdad, donde el valor verdadero se representa con la letra $V$ o bien con un $1$, mientras que el valor falso se representa mediante la letra $F$ o bien con un $0$.\n",
        "\n",
        "La tabla de verdad para la variable $A$ sería\n",
        "\n",
        "| $A$ |\n",
        "| :---: |\n",
        "| $V$ |\n",
        "| $F$ |\n",
        "\n",
        "La tabla de verdad para la variable $B$ sería\n",
        "\n",
        "| $B$ |\n",
        "| :---: |\n",
        "| $V$ |\n",
        "| $F$ |\n",
        "\n"
      ]
    },
    {
      "cell_type": "markdown",
      "metadata": {
        "id": "TpzYQoYYDnON"
      },
      "source": [
        "#### Negación\n",
        "\n",
        "El operador negación aplicado a una variable se representa con $\\neg$ y devuelve el valor contrario.\n",
        "\n",
        "| $A$ | $\\neg A$ |\n",
        "| :---: | :---: |\n",
        "| $V$ | $F$ |\n",
        "| $F$ | $V$ |\n",
        "\n"
      ]
    },
    {
      "cell_type": "markdown",
      "metadata": {
        "id": "gDTb9pLDDo5R"
      },
      "source": [
        "#### Conjunción\n",
        "\n",
        "La conjunción entre dos variables se representa con $\\wedge$ y devuelve verdadero únicamente cuando ambas variables valen verdadero.\n",
        "\n",
        "| $A$ | $B$ | $A\\wedge B$ |\n",
        "| :---: | :---: | :---: |\n",
        "| $V$ | $V$ | $V$ |\n",
        "| $V$ | $F$ | $F$ |\n",
        "| $F$ | $V$ | $F$ |\n",
        "| $F$ | $F$ | $F$ |\n",
        "\n"
      ]
    },
    {
      "cell_type": "markdown",
      "metadata": {
        "id": "AS4LzZGcDqc5"
      },
      "source": [
        "#### Disyunción\n",
        "\n",
        "La disyunción entre dos variables se representa con $\\vee$ y devuelve verdadero cuando almenos una de las variables lógicas vale verdadero.\n",
        "\n",
        "| $A$ | $B$ | $A\\vee B$ |\n",
        "| :---: | :---: | :---: |\n",
        "| $V$ | $V$ | $V$ |\n",
        "| $V$ | $F$ | $V$ |\n",
        "| $F$ | $V$ | $V$ |\n",
        "| $F$ | $F$ | $F$ |\n",
        "\n"
      ]
    },
    {
      "cell_type": "markdown",
      "metadata": {
        "id": "VNJEPSYjDrrM"
      },
      "source": [
        "### Operadores lógicos en `Python`\n",
        "\n",
        "Para hacer la negación, utilizamos el operador `not`."
      ]
    },
    {
      "cell_type": "code",
      "execution_count": null,
      "metadata": {
        "colab": {
          "base_uri": "https://localhost:8080/"
        },
        "id": "YedWFMKR49wc",
        "outputId": "48eea8f2-4f88-4d15-8210-d039d39859fb"
      },
      "outputs": [
        {
          "data": {
            "text/plain": [
              "False"
            ]
          },
          "execution_count": 2,
          "metadata": {
            "tags": []
          },
          "output_type": "execute_result"
        }
      ],
      "source": [
        "A = True\n",
        "not A"
      ]
    },
    {
      "cell_type": "code",
      "execution_count": null,
      "metadata": {
        "colab": {
          "base_uri": "https://localhost:8080/"
        },
        "id": "bBaEocdf7Mjo",
        "outputId": "b9f5c3b8-5349-496a-89d8-e87759e82490"
      },
      "outputs": [
        {
          "data": {
            "text/plain": [
              "True"
            ]
          },
          "execution_count": 3,
          "metadata": {
            "tags": []
          },
          "output_type": "execute_result"
        }
      ],
      "source": [
        "B = False\n",
        "not B"
      ]
    },
    {
      "cell_type": "markdown",
      "metadata": {
        "id": "jneoqYgc7Pgm"
      },
      "source": [
        "Para hacer la conjunción entre dos variables lógicas, utilizamos el operador `and`."
      ]
    },
    {
      "cell_type": "code",
      "execution_count": null,
      "metadata": {
        "colab": {
          "base_uri": "https://localhost:8080/"
        },
        "id": "KwQs5B1t7N1w",
        "outputId": "9cf11d23-5471-4ad8-db80-c946edeaf7d5"
      },
      "outputs": [
        {
          "data": {
            "text/plain": [
              "True"
            ]
          },
          "execution_count": 12,
          "metadata": {
            "tags": []
          },
          "output_type": "execute_result"
        }
      ],
      "source": [
        "A, B = True, True\n",
        "A and B"
      ]
    },
    {
      "cell_type": "code",
      "execution_count": null,
      "metadata": {
        "colab": {
          "base_uri": "https://localhost:8080/"
        },
        "id": "34ucQLP97aNV",
        "outputId": "3a08e7e4-655c-4c1a-f92a-3844b6aa4bc3"
      },
      "outputs": [
        {
          "data": {
            "text/plain": [
              "False"
            ]
          },
          "execution_count": 13,
          "metadata": {
            "tags": []
          },
          "output_type": "execute_result"
        }
      ],
      "source": [
        "A and (not B)"
      ]
    },
    {
      "cell_type": "markdown",
      "metadata": {
        "id": "Ijh4Ji4D7dWX"
      },
      "source": [
        "Para hacer la disyunción entre dos variables lógicas, utilizamos el operador `or`."
      ]
    },
    {
      "cell_type": "code",
      "execution_count": null,
      "metadata": {
        "colab": {
          "base_uri": "https://localhost:8080/"
        },
        "id": "KLQadtui7bGw",
        "outputId": "767019f9-ec3a-4a42-de9e-8f668cac744b"
      },
      "outputs": [
        {
          "data": {
            "text/plain": [
              "False"
            ]
          },
          "execution_count": 22,
          "metadata": {
            "tags": []
          },
          "output_type": "execute_result"
        }
      ],
      "source": [
        "A, B = False, False\n",
        "A or B"
      ]
    },
    {
      "cell_type": "code",
      "execution_count": null,
      "metadata": {
        "colab": {
          "base_uri": "https://localhost:8080/"
        },
        "id": "4gMxSunp7iBa",
        "outputId": "fdee777b-a23c-4703-8ca0-80cd18826f02"
      },
      "outputs": [
        {
          "data": {
            "text/plain": [
              "True"
            ]
          },
          "execution_count": 23,
          "metadata": {
            "tags": []
          },
          "output_type": "execute_result"
        }
      ],
      "source": [
        "(not A) or B"
      ]
    },
    {
      "cell_type": "markdown",
      "metadata": {
        "id": "4LrbKUx_7lBi"
      },
      "source": [
        "### Operadores de comparación\n",
        "\n",
        "En `Python` podemos comparar datos y obtener un resultado booleano. Los operadores de comparación disponibles son\n",
        "\n",
        "| Operador | Significado |\n",
        "| :---: | :--- |\n",
        "| $>$ | Estrictamente mayor |\n",
        "| $\\ge$ | Mayor o igual |\n",
        "| $<$ | Estrictamente menor |\n",
        "| $\\le$ | Menor o igual |\n",
        "| $==$ | Igual |\n",
        "| $!=$ | Diferente |"
      ]
    },
    {
      "cell_type": "code",
      "execution_count": null,
      "metadata": {
        "colab": {
          "base_uri": "https://localhost:8080/"
        },
        "id": "K6ai4SkG7i-B",
        "outputId": "df55f715-6510-4a2c-a836-ecf777fec0ab"
      },
      "outputs": [
        {
          "data": {
            "text/plain": [
              "True"
            ]
          },
          "execution_count": 31,
          "metadata": {
            "tags": []
          },
          "output_type": "execute_result"
        }
      ],
      "source": [
        "7 == 7.0"
      ]
    },
    {
      "cell_type": "code",
      "execution_count": null,
      "metadata": {
        "colab": {
          "base_uri": "https://localhost:8080/"
        },
        "id": "TCZ848jt8K9T",
        "outputId": "b0d3b025-fbf1-4ce5-ca9d-e95b7ac8a38c"
      },
      "outputs": [
        {
          "data": {
            "text/plain": [
              "False"
            ]
          },
          "execution_count": 25,
          "metadata": {
            "tags": []
          },
          "output_type": "execute_result"
        }
      ],
      "source": [
        "3.14 > 9"
      ]
    },
    {
      "cell_type": "code",
      "execution_count": null,
      "metadata": {
        "colab": {
          "base_uri": "https://localhost:8080/"
        },
        "id": "fDlhbGUB8MDS",
        "outputId": "b04f2c90-b972-4718-cd01-765449ba0ae7"
      },
      "outputs": [
        {
          "data": {
            "text/plain": [
              "True"
            ]
          },
          "execution_count": 28,
          "metadata": {
            "tags": []
          },
          "output_type": "execute_result"
        }
      ],
      "source": [
        "7 != \"7\""
      ]
    },
    {
      "cell_type": "code",
      "execution_count": null,
      "metadata": {
        "colab": {
          "base_uri": "https://localhost:8080/"
        },
        "id": "mGKSNyex8OXC",
        "outputId": "e604fc41-44ba-4794-f073-b22555e2df27"
      },
      "outputs": [
        {
          "data": {
            "text/plain": [
              "True"
            ]
          },
          "execution_count": 29,
          "metadata": {
            "tags": []
          },
          "output_type": "execute_result"
        }
      ],
      "source": [
        "0.01 <= 1"
      ]
    },
    {
      "cell_type": "markdown",
      "metadata": {
        "id": "AYmhmERK8SxI"
      },
      "source": [
        "**Observación.** Observad que cuando hemos comparado el número 7 en formato integer y en formato float, hemos obtenido que eran iguales, mientras que al haber comparado el número 7 en formato integer con el mismo número, pero en formato string, nos ha devuelto que son diferentes. Esto lo que nos viene a decir es que numéricamente, `Python` considera iguales los números enteros tanto si están en formato integer como en formato float. No obstante, nunca considerará iguales dos datos donde uno esté en formato numérico y el otro, en formato string.\n",
        "\n"
      ]
    },
    {
      "cell_type": "markdown",
      "metadata": {
        "id": "ag98MpnSDw2M"
      },
      "source": [
        "#### Múltiples comparaciones simultáneas\n",
        "\n",
        "Podemos realizar múltiples comparaciones a la vez.\n",
        "\n",
        "Supongamos que tenemos que tener 16 años o más, pero como mucho 40 para poder concertar una entrevista y aspirar a ser miembros de la tripulación del pirata Pyratilla.\n",
        "\n",
        "Queremos saber si nos concederá una entrevista si tenemos 17 años."
      ]
    },
    {
      "cell_type": "code",
      "execution_count": null,
      "metadata": {
        "colab": {
          "base_uri": "https://localhost:8080/"
        },
        "id": "tl1aTygu8O5A",
        "outputId": "b14f362b-abdf-43fb-8637-3bea7b92c75f"
      },
      "outputs": [
        {
          "data": {
            "text/plain": [
              "True"
            ]
          },
          "execution_count": 36,
          "metadata": {
            "tags": []
          },
          "output_type": "execute_result"
        }
      ],
      "source": [
        "edad = 17\n",
        "(edad >= 16) and (edad <= 40)"
      ]
    },
    {
      "cell_type": "markdown",
      "metadata": {
        "id": "msdjUkeo-PAN"
      },
      "source": [
        "Hemos obtenido `True`, por tanto podemos concertar una entrevista. Que nos admita o no en su tripulación tras la entrevista, eso ya es otra cosa."
      ]
    },
    {
      "cell_type": "markdown",
      "metadata": {
        "id": "05v5Mxqn-0Sz"
      },
      "source": [
        "#### Comparaciones de strings\n",
        "\n",
        "No solamente podemos comparar datos numéricos, sino que también podemos comparar strings en relación al orden alfabético."
      ]
    },
    {
      "cell_type": "code",
      "execution_count": null,
      "metadata": {
        "colab": {
          "base_uri": "https://localhost:8080/"
        },
        "id": "6OmXJHWw-xwT",
        "outputId": "55f276fd-b2a5-480d-ef1f-0f7d33d07018"
      },
      "outputs": [
        {
          "data": {
            "text/plain": [
              "False"
            ]
          },
          "execution_count": 37,
          "metadata": {
            "tags": []
          },
          "output_type": "execute_result"
        }
      ],
      "source": [
        "\"Mallorca\" < \"Dubai\""
      ]
    },
    {
      "cell_type": "markdown",
      "metadata": {
        "id": "3qC1IlA7_Znt"
      },
      "source": [
        "El resultado que obtenemos no se debe a que Mallorca sea mejor que Dubai, sino a que la primera letra de la primera palabra, M, no se encuentra antes en el abecedario que la primera letra de la segunda palabra, D.\n",
        "\n",
        "**Observación.** En caso de que la primera letra de cada una de las palabras comparadas coincidan, se comparan los caracteres que se encuentran en la siguiente posición. En caso de empate, seguiríamos comparando los caracteres de la tercera posición y así sucesivamente."
      ]
    },
    {
      "cell_type": "code",
      "execution_count": null,
      "metadata": {
        "colab": {
          "base_uri": "https://localhost:8080/"
        },
        "id": "ksZj0IdF_V0H",
        "outputId": "35111c91-82d5-42de-b902-75b083fcc07f"
      },
      "outputs": [
        {
          "data": {
            "text/plain": [
              "True"
            ]
          },
          "execution_count": 38,
          "metadata": {
            "tags": []
          },
          "output_type": "execute_result"
        }
      ],
      "source": [
        "\"Mallorca\" >= \"Madrid\""
      ]
    },
    {
      "cell_type": "markdown",
      "metadata": {
        "id": "ZBMJ5Tg9_t-2"
      },
      "source": [
        "### Más métodos de string\n",
        "\n",
        "El método `.startswith()` nos devuelve verdadero si el string empieza con el caracter o la cadena de caracteres indicado."
      ]
    },
    {
      "cell_type": "code",
      "execution_count": null,
      "metadata": {
        "colab": {
          "base_uri": "https://localhost:8080/"
        },
        "id": "1URYsNpt_e2k",
        "outputId": "f30eb5b2-f4a9-4baf-e72b-b96b289a66cb"
      },
      "outputs": [
        {
          "data": {
            "text/plain": [
              "False"
            ]
          },
          "execution_count": 39,
          "metadata": {
            "tags": []
          },
          "output_type": "execute_result"
        }
      ],
      "source": [
        "s = \"Mallorca es una isla preciosa\"\n",
        "s.startswith(\"m\")"
      ]
    },
    {
      "cell_type": "code",
      "execution_count": null,
      "metadata": {
        "colab": {
          "base_uri": "https://localhost:8080/"
        },
        "id": "59iNH5QdAC7A",
        "outputId": "21c20926-fd72-428f-fb8e-b6ccebf781ad"
      },
      "outputs": [
        {
          "data": {
            "text/plain": [
              "True"
            ]
          },
          "execution_count": 40,
          "metadata": {
            "tags": []
          },
          "output_type": "execute_result"
        }
      ],
      "source": [
        "s.startswith(\"Mallorca\")"
      ]
    },
    {
      "cell_type": "markdown",
      "metadata": {
        "id": "dlYrhEBXAGzQ"
      },
      "source": [
        "**Observación.** Como podéis observar, `Python` diferencia entre letras en mayúscula y letras en minúscula. Por eso es que obtenemos falso al preguntar si el string empieza por m, en vez de M.\n",
        "\n",
        "El método `.endswith()` nos devuelve verdadero si el string acaba con el caracter o la cadena de caracteres indicado."
      ]
    },
    {
      "cell_type": "code",
      "execution_count": null,
      "metadata": {
        "colab": {
          "base_uri": "https://localhost:8080/"
        },
        "id": "mRQvBBAzAEY7",
        "outputId": "160c728b-59a7-4c0c-c526-41ed03317464"
      },
      "outputs": [
        {
          "data": {
            "text/plain": [
              "True"
            ]
          },
          "execution_count": 41,
          "metadata": {
            "tags": []
          },
          "output_type": "execute_result"
        }
      ],
      "source": [
        "s = \"Mallorca es una isla preciosa\"\n",
        "s.endswith(\"a\")"
      ]
    },
    {
      "cell_type": "code",
      "execution_count": null,
      "metadata": {
        "colab": {
          "base_uri": "https://localhost:8080/"
        },
        "id": "O3C6T9NgATDz",
        "outputId": "84e4d82b-cd95-4ca3-c912-a9e3d6c514cf"
      },
      "outputs": [
        {
          "data": {
            "text/plain": [
              "False"
            ]
          },
          "execution_count": 42,
          "metadata": {
            "tags": []
          },
          "output_type": "execute_result"
        }
      ],
      "source": [
        "s.endswith(\"bonita\")"
      ]
    },
    {
      "cell_type": "markdown",
      "metadata": {
        "id": "CGAU5S9yAVLq"
      },
      "source": [
        "El método `.isalnum()` nos devuelve verdadero si todos los caracteres del string son alfanuméricos."
      ]
    },
    {
      "cell_type": "code",
      "execution_count": null,
      "metadata": {
        "colab": {
          "base_uri": "https://localhost:8080/"
        },
        "id": "85hsbd2KAUP4",
        "outputId": "de1e4971-5bb7-4730-d61a-5e60e63d8c08"
      },
      "outputs": [
        {
          "data": {
            "text/plain": [
              "True"
            ]
          },
          "execution_count": 43,
          "metadata": {
            "tags": []
          },
          "output_type": "execute_result"
        }
      ],
      "source": [
        "s = \"Python365\"\n",
        "s.isalnum()"
      ]
    },
    {
      "cell_type": "code",
      "execution_count": null,
      "metadata": {
        "colab": {
          "base_uri": "https://localhost:8080/"
        },
        "id": "l-MJMFuOAaCb",
        "outputId": "474c43d5-43cc-403a-ba10-ba4f4470dd52"
      },
      "outputs": [
        {
          "data": {
            "text/plain": [
              "False"
            ]
          },
          "execution_count": 44,
          "metadata": {
            "tags": []
          },
          "output_type": "execute_result"
        }
      ],
      "source": [
        "s = \"Han creado un blog llamado Python365\"\n",
        "s.isalnum()"
      ]
    },
    {
      "cell_type": "markdown",
      "metadata": {
        "id": "c1EL8qH6AcZP"
      },
      "source": [
        "**¡Cuidado!** No se consideran caracteres alfanuméricos los siguientes: espacio en blanco, !, %, ?, & y un largo etcétera.\n",
        "\n",
        "El método `.isalpha()` nos devuelve verdadero si todos los caracteres del string son del alfabeto."
      ]
    },
    {
      "cell_type": "code",
      "execution_count": null,
      "metadata": {
        "colab": {
          "base_uri": "https://localhost:8080/"
        },
        "id": "D8oQyYwEAb0M",
        "outputId": "5ffd494b-8be5-4ae1-d0e3-ecbffa2ed897"
      },
      "outputs": [
        {
          "data": {
            "text/plain": [
              "True"
            ]
          },
          "execution_count": 45,
          "metadata": {
            "tags": []
          },
          "output_type": "execute_result"
        }
      ],
      "source": [
        "s = \"Cachalote\"\n",
        "s.isalpha()"
      ]
    },
    {
      "cell_type": "code",
      "execution_count": null,
      "metadata": {
        "colab": {
          "base_uri": "https://localhost:8080/"
        },
        "id": "91DZ0Sf9AxpI",
        "outputId": "3094d99f-fd18-41c4-bb5c-ef643e6f18c2"
      },
      "outputs": [
        {
          "data": {
            "text/plain": [
              "False"
            ]
          },
          "execution_count": 46,
          "metadata": {
            "tags": []
          },
          "output_type": "execute_result"
        }
      ],
      "source": [
        "s = \"Mi perro se llama Guindilla\"\n",
        "s.isalpha()"
      ]
    },
    {
      "cell_type": "markdown",
      "metadata": {
        "id": "ceo-DE86A1WZ"
      },
      "source": [
        "El método `.isdigit()` nos devuelve verdadero si todos los caracteres del string son dígitos."
      ]
    },
    {
      "cell_type": "code",
      "execution_count": null,
      "metadata": {
        "colab": {
          "base_uri": "https://localhost:8080/"
        },
        "id": "lEXhe8B6AzAS",
        "outputId": "d5cb5c50-8cb6-4afb-822b-5353e8886ef6"
      },
      "outputs": [
        {
          "data": {
            "text/plain": [
              "True"
            ]
          },
          "execution_count": 47,
          "metadata": {
            "tags": []
          },
          "output_type": "execute_result"
        }
      ],
      "source": [
        "s = \"365\"\n",
        "s.isdigit()"
      ]
    },
    {
      "cell_type": "code",
      "execution_count": null,
      "metadata": {
        "colab": {
          "base_uri": "https://localhost:8080/"
        },
        "id": "h7bDgu1PA5M_",
        "outputId": "295259f3-41b3-4ea2-c11f-332bceb51e6c"
      },
      "outputs": [
        {
          "data": {
            "text/plain": [
              "False"
            ]
          },
          "execution_count": 48,
          "metadata": {
            "tags": []
          },
          "output_type": "execute_result"
        }
      ],
      "source": [
        "s = \"Pyo365\"\n",
        "s.isdigit()"
      ]
    },
    {
      "cell_type": "markdown",
      "metadata": {
        "id": "LiNtvxYoA-Vk"
      },
      "source": [
        "El método `.isspace()` nos devuelve verdadero si todos los caracteres del string son espacios en blanco."
      ]
    },
    {
      "cell_type": "code",
      "execution_count": null,
      "metadata": {
        "colab": {
          "base_uri": "https://localhost:8080/"
        },
        "id": "UzUgTI68A8PP",
        "outputId": "a46df570-4e84-41bb-c2bb-d11cc01b54d9"
      },
      "outputs": [
        {
          "data": {
            "text/plain": [
              "True"
            ]
          },
          "execution_count": 49,
          "metadata": {
            "tags": []
          },
          "output_type": "execute_result"
        }
      ],
      "source": [
        "s = \"                  \"\n",
        "s.isspace()"
      ]
    },
    {
      "cell_type": "markdown",
      "metadata": {
        "id": "NF14qe4NBCyk"
      },
      "source": [
        "El método `.islower()` nos devuelve verdadero si todos los caracteres del string están en minúscula."
      ]
    },
    {
      "cell_type": "code",
      "execution_count": null,
      "metadata": {
        "colab": {
          "base_uri": "https://localhost:8080/"
        },
        "id": "USudoA3ZBB6W",
        "outputId": "2b718759-d5db-497e-9c6f-009a510a37e5"
      },
      "outputs": [
        {
          "data": {
            "text/plain": [
              "False"
            ]
          },
          "execution_count": 50,
          "metadata": {
            "tags": []
          },
          "output_type": "execute_result"
        }
      ],
      "source": [
        "s = \"Mi gato se llama Bigotes\"\n",
        "s.islower()"
      ]
    },
    {
      "cell_type": "code",
      "execution_count": null,
      "metadata": {
        "colab": {
          "base_uri": "https://localhost:8080/"
        },
        "id": "nCIDtydoBHnX",
        "outputId": "80fbe8bf-26cd-471b-f137-ffe5b61ef95b"
      },
      "outputs": [
        {
          "data": {
            "text/plain": [
              "True"
            ]
          },
          "execution_count": 51,
          "metadata": {
            "tags": []
          },
          "output_type": "execute_result"
        }
      ],
      "source": [
        "s = \"me gusta hacer puzzles\"\n",
        "s.islower()"
      ]
    },
    {
      "cell_type": "markdown",
      "metadata": {
        "id": "ZMaIjOzkBLY4"
      },
      "source": [
        "El método `.isupper()` nos devuelve verdadero si todos los caracteres del string están en mayúscula."
      ]
    },
    {
      "cell_type": "code",
      "execution_count": null,
      "metadata": {
        "colab": {
          "base_uri": "https://localhost:8080/"
        },
        "id": "QbNOBb1NBJDo",
        "outputId": "c06948da-7f16-4247-9ba5-27c9966e42a9"
      },
      "outputs": [
        {
          "data": {
            "text/plain": [
              "False"
            ]
          },
          "execution_count": 52,
          "metadata": {
            "tags": []
          },
          "output_type": "execute_result"
        }
      ],
      "source": [
        "s = \"Mi gato se llama Bigotes\"\n",
        "s.isupper()"
      ]
    },
    {
      "cell_type": "code",
      "execution_count": null,
      "metadata": {
        "colab": {
          "base_uri": "https://localhost:8080/"
        },
        "id": "FlPHtioaBO3Y",
        "outputId": "994a14a9-e3be-4b7d-d969-003419eae0bc"
      },
      "outputs": [
        {
          "data": {
            "text/plain": [
              "True"
            ]
          },
          "execution_count": 53,
          "metadata": {
            "tags": []
          },
          "output_type": "execute_result"
        }
      ],
      "source": [
        "s = \"ME GUSTA HACER PUZZLES\"\n",
        "s.isupper()"
      ]
    },
    {
      "cell_type": "markdown",
      "metadata": {
        "id": "YBuOWqm2BRuK"
      },
      "source": [
        "El método `.istitle()` nos devuelve verdadero si todas las palabras del string empiezan en mayúscula y el resto de las letras de la palabra están en minúscula."
      ]
    },
    {
      "cell_type": "code",
      "execution_count": null,
      "metadata": {
        "colab": {
          "base_uri": "https://localhost:8080/"
        },
        "id": "aF--NJBwBQS3",
        "outputId": "7a1729da-b408-4ece-f80d-2a435c7c4b44"
      },
      "outputs": [
        {
          "data": {
            "text/plain": [
              "True"
            ]
          },
          "execution_count": 54,
          "metadata": {
            "tags": []
          },
          "output_type": "execute_result"
        }
      ],
      "source": [
        "s = \"Platero Y Yo\"\n",
        "s.istitle()"
      ]
    },
    {
      "cell_type": "code",
      "execution_count": null,
      "metadata": {
        "colab": {
          "base_uri": "https://localhost:8080/"
        },
        "id": "zxkSvUe0BXto",
        "outputId": "d391e435-13cc-449f-e396-af314cad6957"
      },
      "outputs": [
        {
          "data": {
            "text/plain": [
              "False"
            ]
          },
          "execution_count": 55,
          "metadata": {
            "tags": []
          },
          "output_type": "execute_result"
        }
      ],
      "source": [
        "s = \"PLATERO Y YO\"\n",
        "s.istitle()"
      ]
    },
    {
      "cell_type": "markdown",
      "metadata": {
        "id": "frJnbjX3BawD"
      },
      "source": [
        "## Operadores de decisión\n",
        "\n",
        "\n"
      ]
    },
    {
      "cell_type": "markdown",
      "metadata": {
        "id": "DAK502eYD5pT"
      },
      "source": [
        "### `if`\n",
        "\n",
        "Cuando queremos comprobar si se cumple alguna condición, utilizamos el operador de decisión `if`. La sintaxis que debemos seguir es la siguiente:\n"
      ]
    },
    {
      "cell_type": "code",
      "execution_count": null,
      "metadata": {
        "id": "YdlOvDPjBZAk"
      },
      "outputs": [],
      "source": [
        "if condicion:\n",
        "    consecuencia"
      ]
    },
    {
      "cell_type": "markdown",
      "metadata": {
        "id": "LdYNZT4tD1tS"
      },
      "source": [
        "**¡Cuidado!** La sintaxis de los dos puntos después de la condición y la indentación (equivalente a una tabulación, un total de 4 espacios en blanco) que precede a la consecuencia es muy importante. De hecho, si se omite alguna de las dos cosas o bien nos pasamos de indentación, nos saltará error.\n",
        "\n",
        "- Si quieres hacer una tabulación, debéis pulsar el tabulador una vez.\n",
        "- Puedes hacer tabulaciones en bloque seleccionando las líneas de código que quieras indentar y, a continuación, pulsando el tabulador.\n",
        "- Puedes deshacer tabulaciones pulsando Shift + Tab\n",
        "- Puedes deshacer tabulaciones en bloque seleccionando las líneas de código que quieras desindentar y, a continuación, pulsando el Shift + Tab.\n",
        "\n",
        "Siguiendo con nuestro ejemplo, si el usuario tiene más de 16 años, pero menos de 40, entonces puede formar parte de la tripulación de Pyratilla."
      ]
    },
    {
      "cell_type": "code",
      "execution_count": null,
      "metadata": {
        "colab": {
          "base_uri": "https://localhost:8080/"
        },
        "id": "O6UngCPDEIgW",
        "outputId": "5f2f47f9-844a-4ebf-9aee-8452083ac270"
      },
      "outputs": [
        {
          "name": "stdout",
          "output_type": "stream",
          "text": [
            "Puedes formar parte de la tripulación de Pyratilla\n"
          ]
        }
      ],
      "source": [
        "age = 23\n",
        "if (age >= 16 and age <= 40):\n",
        "    print(\"Puedes formar parte de la tripulación de Pyratilla\")"
      ]
    },
    {
      "cell_type": "markdown",
      "metadata": {
        "id": "xgXTymltFKFb"
      },
      "source": [
        "### `else`\n",
        "\n",
        "Ahora, nos podríamos preguntar qué le podríamos decir al usuario en el caso en que no satisfaga la condición. Ahí es donde entra en juego el operador de decisión `else`. Esta vez, la sintaxis a seguir es la siguiente:"
      ]
    },
    {
      "cell_type": "code",
      "execution_count": null,
      "metadata": {
        "id": "YXBPowOmFG_P"
      },
      "outputs": [],
      "source": [
        "if condición:\n",
        "    consecuencia_si_es_verdad\n",
        "else:\n",
        "    consecuencia_si_es_falsa"
      ]
    },
    {
      "cell_type": "markdown",
      "metadata": {
        "id": "8e1k4FTgFZoD"
      },
      "source": [
        "Siguiendo el ejemplo anterior, si el usuario tiene 16 años o más, pero menos de 40, entonces puede formar parte de la tripulación de Pyratilla. Si no, le diremos que no satisface una necesidad básica para ser miembro."
      ]
    },
    {
      "cell_type": "code",
      "execution_count": null,
      "metadata": {
        "colab": {
          "base_uri": "https://localhost:8080/"
        },
        "id": "ng2PZLJoFi8T",
        "outputId": "5f3adb9c-ac36-4b6a-900f-91dbfc657b7f"
      },
      "outputs": [
        {
          "name": "stdout",
          "output_type": "stream",
          "text": [
            "No satisfaces una necesidad básica para pertenecer a la tripulación del gran Pyratilla\n"
          ]
        }
      ],
      "source": [
        "age = 13\n",
        "if (age >= 16 and age <= 40):\n",
        "    print(\"Puedes formar parte de la tripulación de Pyratilla\")\n",
        "else:\n",
        "    print(\"No satisfaces una necesidad básica para pertenecer a la tripulación del gran Pyratilla\")"
      ]
    },
    {
      "cell_type": "markdown",
      "metadata": {
        "id": "77HNiAkbFx-P"
      },
      "source": [
        "### `elif`\n",
        "\n",
        "Ahora, en vez de comprobar si se cumple o no una condición, nos podríamos preguntar cómo haríamos para comprobar más de una condición. Podríamos hacerlo a lo bruto anidando operadores `if`, esto es, metiendo un `if` dentro de otro; o bien, podríamos hacerlo utilizando el operador de decisión `elif`.\n",
        "\n",
        "El operador `elif` funciona del siguiente modo: se empieza con un operador `if`; si la condición de este no se cumple, pasamos a la siguiente condición posible precedida de un `elif`; si esta tampoco se cumple, pasamos al siguiente `elif`; seguimos así hasta que o bien se satisface alguna condición y realizamos su consecuencia, o hasta llegar al `else`, que implica que no se ha satisfecho ninguna de las condiciones anteriores.\n",
        "\n",
        "La sintaxis del operador de decisión `elif` es la siguiente:"
      ]
    },
    {
      "cell_type": "code",
      "execution_count": null,
      "metadata": {
        "id": "kH-sAyUNGNw8"
      },
      "outputs": [],
      "source": [
        "if condición_1:\n",
        "  consecuencia\n",
        "elif condición_2:\n",
        "  consecuencia\n",
        "elif condición_3:\n",
        "  consecuencia\n",
        ".\n",
        ".\n",
        ".\n",
        "else:\n",
        "  consecuencia"
      ]
    },
    {
      "cell_type": "markdown",
      "metadata": {
        "id": "xi8inDseFUaF"
      },
      "source": [
        "Recuperemos el ejemplo de que tenemos que tener 16 años o más, pero menos de 40 para ser miembros de la tripulación del pirata Pyratilla. Vamos a mejorar lo que habíamos conseguido con el `if` y el `else`, añadiendo el operador `elif`.\n",
        "\n",
        "Además, veremos que nos dice con la edad de 20 años."
      ]
    },
    {
      "cell_type": "code",
      "execution_count": null,
      "metadata": {
        "colab": {
          "base_uri": "https://localhost:8080/"
        },
        "id": "FuDXd3ieGY0O",
        "outputId": "26d8eb2a-24de-48c9-fced-890165a3da54"
      },
      "outputs": [
        {
          "name": "stdout",
          "output_type": "stream",
          "text": [
            "Podrás optar a pertenecer la tripulación. Aún te queda superar la entrevista con el capitán.\n"
          ]
        }
      ],
      "source": [
        "age = 20\n",
        "\n",
        "if age > 40:\n",
        "  print(\"No puedes pertenecer a la tripulación, te pasas de la edad límite que ha puesto el gran capitán Pyratilla.\")\n",
        "elif age >= 16:\n",
        "  print(\"Podrás optar a pertenecer la tripulación. Aún te queda superar la entrevista con el capitán.\")\n",
        "else:\n",
        "  print(\"Eres muy pequeño todavía para la vida pirata!\")"
      ]
    },
    {
      "cell_type": "markdown",
      "metadata": {
        "id": "_3J6uQFMHq5W"
      },
      "source": [
        "El funcionamiento del código anterior es el siguiente:\n",
        "\n",
        "- El `if` comprueba si la edad introducida es mayor a 40.\n",
        "- El `elif` comprueba si la edad se encuentra en el intervalo [16, 40]\n",
        "- El `else` implica que la edad introducida es menor a 16"
      ]
    },
    {
      "cell_type": "markdown",
      "metadata": {
        "id": "5ysq4F4jH6qR"
      },
      "source": [
        "### Operador ternario\n",
        "\n",
        "Si queremos hacer un simple `if` / `else` en una sola línea de código, podemos utilizar el operador ternario, que tiene la siguiente estructura:"
      ]
    },
    {
      "cell_type": "code",
      "execution_count": null,
      "metadata": {
        "id": "G-u9CzRCHYTZ"
      },
      "outputs": [],
      "source": [
        "consecuencia_cierto if condición else consecuencia_falso"
      ]
    },
    {
      "cell_type": "markdown",
      "metadata": {
        "id": "vUmCX9WGIHoD"
      },
      "source": [
        "Por ejemplo, hagamos el caso de mayor de edad. Si la edad es mayor o igual a 18, entonces es mayor de edad en España. Si no, entonces es menor de edad en España."
      ]
    },
    {
      "cell_type": "code",
      "execution_count": null,
      "metadata": {
        "colab": {
          "base_uri": "https://localhost:8080/"
        },
        "id": "thCBwMwuIJqc",
        "outputId": "e12e12f2-79de-40ed-81b4-acf2eeaa4a3e"
      },
      "outputs": [
        {
          "name": "stdout",
          "output_type": "stream",
          "text": [
            "Eres mayor de edad en España\n"
          ]
        }
      ],
      "source": [
        "age = 20\n",
        "texto_mayor = \"Eres mayor de edad en España\"\n",
        "texto_menor = \"Eres menor de edad en España\"\n",
        "\n",
        "print(texto_mayor) if age >= 18 else print(texto_menor)"
      ]
    },
    {
      "cell_type": "markdown",
      "metadata": {
        "id": "WGWZnkbKODlg"
      },
      "source": [
        "### Operadores Anidados"
      ]
    },
    {
      "cell_type": "code",
      "execution_count": null,
      "metadata": {
        "colab": {
          "base_uri": "https://localhost:8080/"
        },
        "id": "-vvWPoz2K6gq",
        "outputId": "dc349db6-8a65-4064-96f1-644ef903cf45"
      },
      "outputs": [
        {
          "name": "stdout",
          "output_type": "stream",
          "text": [
            "Eres muy joven\n"
          ]
        }
      ],
      "source": [
        "age = 20\n",
        "name = \"Martin\"\n",
        "\n",
        "if age >= 18:\n",
        "  if name.startswith(\"M\") or name.startswith(\"m\"):\n",
        "    print(\"Eres mayor de edad pues tienes {} años y tu nombre, que es {}, empieza por M\".format(age, name))\n",
        "  else:\n",
        "    print(\"Eres mayor de edad pues tienes {} años\".format(age))\n",
        "else:\n",
        "  print(\"Eres muy joven\")"
      ]
    }
  ],
  "metadata": {
    "colab": {
      "provenance": [],
      "toc_visible": true
    },
    "kernelspec": {
      "display_name": "Python 3",
      "name": "python3"
    }
  },
  "nbformat": 4,
  "nbformat_minor": 0
}
