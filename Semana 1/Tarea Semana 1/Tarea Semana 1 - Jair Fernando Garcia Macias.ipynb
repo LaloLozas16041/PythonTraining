{
 "cells": [
  {
   "cell_type": "markdown",
   "id": "cfa17280",
   "metadata": {},
   "source": [
    "# TAREA SEMANA 1 : FUNDAMENTOS DE PYTHON\n",
    "## Nombre: Jair Fernando Garcia Macias"
   ]
  },
  {
   "cell_type": "markdown",
   "id": "eb54f632",
   "metadata": {},
   "source": [
    "### Ejercicio 1\n",
    "Crea un programa que tome un número ingresado por el usuario y determine si es par o impar."
   ]
  },
  {
   "cell_type": "code",
   "execution_count": null,
   "id": "9a03cf23",
   "metadata": {},
   "outputs": [],
   "source": [
    "numero = int(input('Ingresa número: '))\n",
    "if numero % 2 == 0:\n",
    "    print('Ingresó número PAR')\n",
    "else:\n",
    "    print('Ingresó número IMPAR')"
   ]
  },
  {
   "cell_type": "markdown",
   "id": "ce4bb03e",
   "metadata": {},
   "source": [
    "#### Explicación:\n",
    "Inicialmente, este código me arrojaba un error al momento en donde se realizaba la primer evakuación de la variable \"numero\". Bastó con ingresar la función int() en el input para solucionarlo."
   ]
  },
  {
   "cell_type": "markdown",
   "id": "5bb37ed6",
   "metadata": {},
   "source": [
    "### Ejercicio 2\n",
    "Escribe un programa que convierta una cadena de texto en mayúsculas."
   ]
  },
  {
   "cell_type": "code",
   "execution_count": null,
   "id": "8dcc93b4",
   "metadata": {},
   "outputs": [],
   "source": [
    "texto = input('Ingresa texto: ')\n",
    "texto = texto.upper()\n",
    "print(texto)"
   ]
  },
  {
   "cell_type": "markdown",
   "id": "c360b29b",
   "metadata": {},
   "source": [
    "#### Explicación:\n",
    "No hubo inconvenientes al realizar el ejercicio."
   ]
  },
  {
   "cell_type": "markdown",
   "id": "cdd17cb8",
   "metadata": {},
   "source": [
    "### Ejercicio 3\n",
    "Crea un programa que lea una cadena de texto ingresada por el usuario y que cuente cuántas veces aparece una letra específica en ella."
   ]
  },
  {
   "cell_type": "code",
   "execution_count": null,
   "id": "df86ac0e",
   "metadata": {},
   "outputs": [],
   "source": [
    "cadena = input('Ingresa texto: ')\n",
    "letra_a_buscar = input('Ingresa la letra a buscar dentro de texto: ')\n",
    "cuenta = 0\n",
    "for letra in cadena:\n",
    "    if letra_a_buscar == letra:\n",
    "        cuenta += 1\n",
    "print(f'La letra {letra_a_buscar} se encontró {cuenta} veces dentro del texto')"
   ]
  },
  {
   "cell_type": "markdown",
   "id": "6745e6cc",
   "metadata": {},
   "source": [
    "#### Explicación:\n",
    "En lugar de utilizar el \"==\" también se pudiera utilizar el \"in\"."
   ]
  },
  {
   "cell_type": "markdown",
   "id": "53616e00",
   "metadata": {},
   "source": [
    "### Ejercicio 4\n",
    "Escribe un programa que determine si un número es primo o no."
   ]
  },
  {
   "cell_type": "code",
   "execution_count": null,
   "id": "f0fb241b",
   "metadata": {},
   "outputs": [],
   "source": [
    "numero = int(input('Ingresa número: '))\n",
    "primo = True\n",
    "if numero > 1:\n",
    "    for num in range(2, numero):\n",
    "        if numero % num == 0:\n",
    "            primo = False\n",
    "else:\n",
    "    primo = False\n",
    "if primo == False:\n",
    "    print(f'El número {numero} NO es primo')\n",
    "else:\n",
    "    print(f'El número {numero} SI es primo')"
   ]
  },
  {
   "cell_type": "markdown",
   "id": "7262c9a1",
   "metadata": {},
   "source": [
    "#### Explicación:\n",
    "Tuve complicaciones en encontrar la forma de cómo evaluar cada número para determinar si se trata de un número primo. Una vez entendiendo lo que son, ya no tuve problemas."
   ]
  },
  {
   "cell_type": "markdown",
   "id": "b078066c",
   "metadata": {},
   "source": [
    "### Ejercicio 5\n",
    "Crea un programa que calcule el área de un triángulo a partir de la base y la altura ingresadas por el usuario."
   ]
  },
  {
   "cell_type": "code",
   "execution_count": null,
   "id": "9d47c995",
   "metadata": {},
   "outputs": [],
   "source": [
    "base = int(input('Ingresa la BASE del triángulo: '))\n",
    "altura = int(input('Ingresa la ALTURA del triángulo: '))\n",
    "area = (base * altura) / 2\n",
    "print(f'El área del triángulo es: {area}')"
   ]
  },
  {
   "cell_type": "markdown",
   "id": "23493af1",
   "metadata": {},
   "source": [
    "#### Explicación:\n",
    "No hubo problemas algenerar un algorítmo para este ejercicio."
   ]
  },
  {
   "cell_type": "markdown",
   "id": "6d01a9eb",
   "metadata": {},
   "source": [
    "### Ejercicio 6\n",
    "Escribe un programa que tome una lista de números y devuelva la suma de todos ellos."
   ]
  },
  {
   "cell_type": "code",
   "execution_count": null,
   "id": "7e51e6b2",
   "metadata": {},
   "outputs": [],
   "source": [
    "raw_list = []\n",
    "sumatoria = 0\n",
    "numero_temp = int(input('Ingresa número (0 para finalizar): '))\n",
    "while numero_temp != 0:\n",
    "    sumatoria += numero_temp\n",
    "    numero_temp = int(input('Ingresa número (0 para finalizar): '))\n",
    "print(f'La suma de los elementos en la lista es: {sumatoria}')"
   ]
  },
  {
   "cell_type": "markdown",
   "id": "f69e8fca",
   "metadata": {},
   "source": [
    "#### Explicación:\n",
    "El único punto que creo se debe aclarar para el usuario, es la parte en cómo debe ingresar los números que conformarán la lista."
   ]
  },
  {
   "cell_type": "markdown",
   "id": "0d14c92e",
   "metadata": {},
   "source": [
    "### Ejercicio 7\n",
    "Crea un programa que reciba una lista de nombres y que imprima solo aquellos que comiencen con una letra específica dada por el usuario."
   ]
  },
  {
   "cell_type": "code",
   "execution_count": null,
   "id": "4395bc9f",
   "metadata": {},
   "outputs": [],
   "source": [
    "nombres = []\n",
    "nombre_temp = input('Ingresa nombre (0 para finalizar): ')\n",
    "while nombre_temp != '0':\n",
    "    nombres.append(nombre_temp)\n",
    "    nombre_temp = input('Ingresa nombre (0 para finalizar): ')\n",
    "letra = input('Ingresa letra a evaluar: ')\n",
    "nueva_lista = []\n",
    "for nombre in nombres:\n",
    "    if nombre[0].upper() == letra.upper():\n",
    "        nueva_lista.append(nombre)\n",
    "print(nueva_lista)"
   ]
  },
  {
   "cell_type": "markdown",
   "id": "b5f80d50",
   "metadata": {},
   "source": [
    "#### Explicación:\n",
    "La única complicación fue encontrar la manera en que el usuario ingresara los valores que inegrarían la lista inicial."
   ]
  },
  {
   "cell_type": "markdown",
   "id": "16a30f78",
   "metadata": {},
   "source": [
    "### Ejercicio 8\n",
    "Escribe un programa que determine si una cadena de texto es un palíndromo o no."
   ]
  },
  {
   "cell_type": "code",
   "execution_count": null,
   "id": "916705de",
   "metadata": {},
   "outputs": [],
   "source": [
    "palabra_frase = input('Ingresa palabra o frase: ')\n",
    "al_derecho = palabra_frase.lower().replace(\" \",\"\")\n",
    "posiciones = len(al_derecho) - 1\n",
    "al_reves = ''\n",
    "while posiciones >= 0:\n",
    "    al_reves += al_derecho[posiciones]\n",
    "    posiciones -= 1\n",
    "if al_derecho == al_reves:\n",
    "    print('La palabra o frase ingresada SI es un palíndromo')\n",
    "else:\n",
    "    print('La palabra o frase ingresada NO es un palíndromo')"
   ]
  },
  {
   "cell_type": "markdown",
   "id": "48dfda24",
   "metadata": {},
   "source": [
    "#### Explicación:\n",
    "Se pudo haber utilizado un ciclo \"for\" para recorrer la cadena de texto ingresada y eliminar los espacios en blanco, pero es más rápido si utilizamos la función \"replace()\"."
   ]
  },
  {
   "cell_type": "markdown",
   "id": "00af2293",
   "metadata": {},
   "source": [
    "### Ejercicio 9\n",
    "Crea un programa que tome una lista de números y elimine todos los duplicados."
   ]
  },
  {
   "cell_type": "code",
   "execution_count": null,
   "id": "55266add",
   "metadata": {},
   "outputs": [],
   "source": [
    "lista_temp = input('Ingresa números separados por espacio: ')\n",
    "lista = lista_temp.split(\" \")\n",
    "numeros_distintos = []\n",
    "for numero in lista:\n",
    "    if numero not in numeros_distintos:\n",
    "        numeros_distintos.append(numero)\n",
    "print(numeros_distintos)"
   ]
  },
  {
   "cell_type": "markdown",
   "id": "86e21b95",
   "metadata": {},
   "source": [
    "#### Explicación:\n",
    "No hubo complicación. La idea es crear una tabla temporal que nos ayuda a almacenar los números distintos pertenecientes al listado inicial."
   ]
  },
  {
   "cell_type": "markdown",
   "id": "70b86155",
   "metadata": {},
   "source": [
    "### Ejercicio 10\n",
    "Escribe un programa que tome una lista de números y devuelva el valor máximo."
   ]
  },
  {
   "cell_type": "code",
   "execution_count": null,
   "id": "8dfd7332",
   "metadata": {},
   "outputs": [],
   "source": [
    "lista_temp = input('Ingresa números separados por espacio: ')\n",
    "lista_temp = lista_temp.split(\" \")\n",
    "lista_num = []\n",
    "for elemento in lista_temp:\n",
    "    lista_num.append(int(elemento))\n",
    "for numero in lista_num:\n",
    "    if lista_num.index(numero) == 0:\n",
    "        numero_max = numero\n",
    "    else:\n",
    "        if numero > numero_max:\n",
    "            numero_max = numero\n",
    "print(numero_max)"
   ]
  },
  {
   "cell_type": "markdown",
   "id": "e2d451ec",
   "metadata": {},
   "source": [
    "#### Explicación:\n",
    "Tuve que covertir el listado de str a int, ya que no se pueden hace validaciones con el condicional \"if\" usando la función int()"
   ]
  },
  {
   "cell_type": "markdown",
   "id": "2e03444e",
   "metadata": {},
   "source": [
    "### Ejercicio 11\n",
    "Crea un programa que solicite al usuario su edad y que determine en que etapa de la vida se encuentra:\n",
    "Primera Infancia (0-5 años)\n",
    "Infancia (6 - 11 años)\n",
    "Adolescencia (12 - 18 años)\n",
    "Juventud (14 - 26 años)\n",
    "Adultez (27- 59 años)\n",
    "Persona Mayor (60 años o más)."
   ]
  },
  {
   "cell_type": "code",
   "execution_count": null,
   "id": "d6121d6a",
   "metadata": {},
   "outputs": [],
   "source": [
    "edad = int(input('Ingresa tu edad: '))\n",
    "if 0 <= edad <= 5:\n",
    "    print('Te encuentras en la etapa de la primera infancia')\n",
    "elif 6 <= edad <= 11:\n",
    "    print('Te encuentras en la etapa de la infancia')\n",
    "elif 12 <= edad <= 18:\n",
    "    print('Te encuentras en la etapa de la adolecencia')\n",
    "elif 19 <= edad <= 26:\n",
    "    print('Te encuentras en la etapa de la juventud')\n",
    "elif 27 <= edad <= 59:\n",
    "    print('Te encuentras en la etapa de la adultez')\n",
    "elif edad >= 60:\n",
    "    print('Te encuentras en la etapa de ser una persona mayor')\n",
    "else:\n",
    "    print('Ingrese una edad válida')"
   ]
  },
  {
   "cell_type": "markdown",
   "id": "c663796e",
   "metadata": {},
   "source": [
    "#### Explicación:\n",
    "En lugar de \"if\" o \"elif\" también se pudiera utilizar \"in range(0,5)\" por ejemplo, para cada condición."
   ]
  },
  {
   "cell_type": "markdown",
   "id": "b3c253ec",
   "metadata": {},
   "source": [
    "### Ejercicio 12\n",
    "Escribe un programa que tome una cadena de texto y que la divida en palabras, eliminando los espacios en blanco."
   ]
  },
  {
   "cell_type": "code",
   "execution_count": null,
   "id": "c431fecb",
   "metadata": {},
   "outputs": [],
   "source": [
    "cadena = input('Ingresa texto: ')\n",
    "lista = cadena.split(\" \")"
   ]
  },
  {
   "cell_type": "markdown",
   "id": "8b2db91a",
   "metadata": {},
   "source": [
    "#### Explicación:\n",
    "Mientras no se deba hacer algo más con cada palabra, la solución es sencilla."
   ]
  },
  {
   "cell_type": "markdown",
   "id": "a410913a",
   "metadata": {},
   "source": [
    "### Ejercicio 13\n",
    "Crea un programa que tome dos listas de números y que devuelva una tercera lista con los elementos comunes a ambas."
   ]
  },
  {
   "cell_type": "code",
   "execution_count": null,
   "id": "e9225401",
   "metadata": {},
   "outputs": [],
   "source": [
    "lista1_temp = input('Ingresa valores de lista 1 (separador por espacio): ')\n",
    "lista2_temp = input('Ingresa valores de lista 2 (separador por espacio): ')\n",
    "lista1 = lista1_temp.split(\" \")\n",
    "lista2 = lista2_temp.split(\" \")\n",
    "lista_num1 = []\n",
    "lista_num2 = []\n",
    "for elemento in lista1:\n",
    "    lista_num1.append(int(elemento))\n",
    "for elemento in lista2:\n",
    "    lista_num2.append(int(elemento))\n",
    "set1 = set(lista_num1)\n",
    "set2 = set(lista_num2)\n",
    "lista_num3 = list(set1.intersection(set2))\n",
    "print(lista_num3)"
   ]
  },
  {
   "cell_type": "markdown",
   "id": "f5beb3e7",
   "metadata": {},
   "source": [
    "#### Explicación:\n",
    "Pude haber hecho menos líneas de código, pero necesitaba convertir los strings en números para cumplir con las condiciones de \"listas de numeros\"."
   ]
  },
  {
   "cell_type": "markdown",
   "id": "5ecaa24c",
   "metadata": {},
   "source": [
    "### Ejercicio 14\n",
    "Escribe un programa que tome una cadena de texto y que cuente cuántas palabras hay en ella."
   ]
  },
  {
   "cell_type": "code",
   "execution_count": null,
   "id": "35260550",
   "metadata": {},
   "outputs": [],
   "source": [
    "cadena = input('Ingresa cadena de texto: ')\n",
    "lista_palabras = list(cadena.split(\" \"))\n",
    "cuenta = 0\n",
    "for palabra in lista_palabras:\n",
    "    cuenta += 1\n",
    "print(f'La cadena de texto ingresada contiene {cuenta} palabras')"
   ]
  },
  {
   "cell_type": "markdown",
   "id": "d73d6bf3",
   "metadata": {},
   "source": [
    "#### Explicación:\n",
    "También se pudo haber llegado al mismo resultado utilizando la función \"len()\"."
   ]
  },
  {
   "cell_type": "markdown",
   "id": "9a22a810",
   "metadata": {},
   "source": [
    "### Ejercicio 15\n",
    "Crea un programa que calcule el área de un círculo a partir del radio ingresado por el usuario."
   ]
  },
  {
   "cell_type": "code",
   "execution_count": null,
   "id": "19eb8d18",
   "metadata": {},
   "outputs": [],
   "source": [
    "radio = input('Ingresa el radio del círculo: ')\n",
    "decimal = False\n",
    "for elemento in radio:\n",
    "    if \".\" == elemento:\n",
    "        decimal = True\n",
    "if decimal == True:\n",
    "    print(f'El área del círculo es: {3.1416 * (float(radio) ** 2)}')\n",
    "else:\n",
    "    print(f'El área del círculo es: {3.1416 * (int(radio) ** 2)}')"
   ]
  },
  {
   "cell_type": "markdown",
   "id": "ea828670",
   "metadata": {},
   "source": [
    "#### Explicación:\n",
    "Agregué una pequeña evaluación (ciclo for) para determinar si el número que ingresó el usuario es entero o decimal y así, realizar la conversión necesaria."
   ]
  },
  {
   "cell_type": "markdown",
   "id": "c2fb03f8",
   "metadata": {},
   "source": [
    " ### Ejercicio 16\n",
    " Escribe un programa que tome una lista de números y que devuelva la media aritmética."
   ]
  },
  {
   "cell_type": "code",
   "execution_count": null,
   "id": "1e0ccddb",
   "metadata": {},
   "outputs": [],
   "source": [
    "numeros = input('Ingresa los valores que integrarán la lista de números: ')\n",
    "lista_num = numeros.split(\" \")\n",
    "lista_filtrada = []\n",
    "for elemento in lista_num:\n",
    "    decimal = False\n",
    "    for caracter in elemento:\n",
    "        if caracter == \".\":\n",
    "            decimal = True\n",
    "    if decimal == True:\n",
    "        lista_filtrada.append(float(elemento))\n",
    "    else:\n",
    "        lista_filtrada.append(int(elemento))\n",
    "suma = 0\n",
    "denominador = 0\n",
    "for elemento in lista_filtrada:\n",
    "    denominador += 1\n",
    "    suma += elemento\n",
    "print(f'la media aritmética de la lista de números es: {suma / denominador}')"
   ]
  },
  {
   "cell_type": "markdown",
   "id": "2daa8fc6",
   "metadata": {},
   "source": [
    "#### Explicación:\n",
    "Agregué un ciclo \"for\" anidado con la finalidad de determinar si el valor en cuestión se trata de un decimal o entero. Este ciclo lo pude haber evitado si usara la función \"in\" para comparar valores."
   ]
  },
  {
   "cell_type": "markdown",
   "id": "0300a690",
   "metadata": {},
   "source": [
    "### Ejercicio 17\n",
    "Crea un programa que reciba dos números ingresados por el usuario y que devuelva su producto."
   ]
  },
  {
   "cell_type": "code",
   "execution_count": null,
   "id": "14a81480",
   "metadata": {},
   "outputs": [],
   "source": [
    "numero1 = input('Ingresa el primer número a multiplicar: ')\n",
    "numero2 = input('Ingresa el segundo número a multiplicar: ')\n",
    "decimal = False\n",
    "for elemento in numero1:\n",
    "    if \".\" == elemento:\n",
    "        decimal = True\n",
    "if decimal == True:\n",
    "    numero_1 = float(numero1)\n",
    "else:\n",
    "    numero_1 = int(numero1)\n",
    "decinal = False\n",
    "for elemento in numero2:\n",
    "    if \".\" == elemento:\n",
    "        decimal = True\n",
    "if decimal == True:\n",
    "    numero_2 = float(numero2)\n",
    "else:\n",
    "    numero_2 = int(numero2)\n",
    "print(f'El resultado de multiplicar ambos números es: {numero_1 * numero_2}')"
   ]
  },
  {
   "cell_type": "markdown",
   "id": "b415bd43",
   "metadata": {},
   "source": [
    "#### Explicación:\n",
    "Agregué algunos filtros (condicionales) para determinar si cada elemento ingresado es un entero o un decimal."
   ]
  },
  {
   "cell_type": "markdown",
   "id": "5f3825e3",
   "metadata": {},
   "source": [
    "### Ejercicio 18\n",
    "Escribe un programa que tome una lista de palabras y que devuelva una lista con todas las palabras en mayúsculas."
   ]
  },
  {
   "cell_type": "code",
   "execution_count": null,
   "id": "959c5864",
   "metadata": {},
   "outputs": [],
   "source": [
    "palabras = input('Ingresa las palabrfas que conformarán la lista de palabras (separadas por espacio): ')\n",
    "listado = palabras.split(\" \")\n",
    "listado_mayusculas = []\n",
    "for elemento in listado:\n",
    "    listado_mayusculas.append(elemento.upper())\n",
    "print(listado_mayusculas)"
   ]
  },
  {
   "cell_type": "markdown",
   "id": "238c605a",
   "metadata": {},
   "source": [
    "#### Explicación:\n",
    "Sin problema. Sólo recolecto un listado de palabras y vacío cada palabra en una lista nueva usando la función \"upper\" para realizar la conversión a mayúsculas."
   ]
  },
  {
   "cell_type": "markdown",
   "id": "20204114",
   "metadata": {},
   "source": [
    "### Ejercicio 19\n",
    "Crea un programa que tome una lista de números y que devuelva la suma de aquellos que son mayores a un valor específico ingresado por el usuario."
   ]
  },
  {
   "cell_type": "code",
   "execution_count": null,
   "id": "31409339",
   "metadata": {},
   "outputs": [],
   "source": [
    "lista = input('Ingresa los números que conformarán el listado (separados por espacio): ')\n",
    "numero = input('Ingresa el valor que evaluará cada elemento del listado: ')\n",
    "listado = lista.split(\" \")\n",
    "lista_filtrada = []\n",
    "for elemento in listado:\n",
    "    decimal = False\n",
    "    for caracter in elemento:\n",
    "        if \".\" == caracter:\n",
    "            decimal = True\n",
    "    if decimal == True:\n",
    "        lista_filtrada.append(float(elemento))\n",
    "    else:\n",
    "        lista_filtrada.append(int(elemento))\n",
    "decimal = False\n",
    "for caracter in numero:\n",
    "    if \".\" == caracter:\n",
    "        decimal = True\n",
    "if decimal == True:\n",
    "    numero_filtrado = float(numero)\n",
    "else:\n",
    "    numero_filtrado = int(numero)\n",
    "suma = 0\n",
    "for num in lista_filtrada:\n",
    "    if num > numero_filtrado:\n",
    "        suma += num\n",
    "print(f'El resultado de la suma es: {suma}')"
   ]
  },
  {
   "cell_type": "markdown",
   "id": "83b1f88a",
   "metadata": {},
   "source": [
    "#### Explicación:\n",
    "Agregué filtros para determinar el tipo de números en la lista y en el número que evaluará la lista."
   ]
  },
  {
   "cell_type": "markdown",
   "id": "d7979118",
   "metadata": {},
   "source": [
    "### Ejercicio 20\n",
    "Escribe un programa que tome una cadena de texto y que devuelva una nueva cadena con todas las letras en mayúsculas excepto la primera letra de cada palabra, que debe ser en minúsculas."
   ]
  },
  {
   "cell_type": "code",
   "execution_count": null,
   "id": "2f23e1f3",
   "metadata": {},
   "outputs": [],
   "source": [
    "lista = input('Ingresa cadena de texto: ')\n",
    "listado = lista.split(\" \")\n",
    "nueva_frase = ''\n",
    "for palabra in listado:\n",
    "    palabra_temp = ''\n",
    "    for letra in palabra:\n",
    "        if palabra.index(letra) == 0:\n",
    "            palabra_temp = letra.lower()\n",
    "        else:\n",
    "            palabra_temp += letra.upper()\n",
    "    nueva_frase += palabra_temp + \" \"\n",
    "print(f'La nueva frase es: {nueva_frase}')"
   ]
  },
  {
   "cell_type": "markdown",
   "id": "536c6186",
   "metadata": {},
   "source": [
    "#### Explicación:\n",
    "Debo recorrer cada letra que corresponde a cada palabra para cambiar la primer palabra a minúscula y las demás a minúsculas. Después de recorrer cada letra de cada palabra, agrego la palabra, seguido de un espacio en blanco a una variable, con la finalidad de formar la nueva frase."
   ]
  }
 ],
 "metadata": {
  "kernelspec": {
   "display_name": "Python 3 (ipykernel)",
   "language": "python",
   "name": "python3"
  },
  "language_info": {
   "codemirror_mode": {
    "name": "ipython",
    "version": 3
   },
   "file_extension": ".py",
   "mimetype": "text/x-python",
   "name": "python",
   "nbconvert_exporter": "python",
   "pygments_lexer": "ipython3",
   "version": "3.9.7"
  }
 },
 "nbformat": 4,
 "nbformat_minor": 5
}
