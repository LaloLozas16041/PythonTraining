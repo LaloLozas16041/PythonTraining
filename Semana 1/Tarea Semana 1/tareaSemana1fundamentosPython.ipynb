{
 "cells": [
  {
   "attachments": {},
   "cell_type": "markdown",
   "metadata": {},
   "source": [
    "\n",
    "\n",
    "TAREA \n",
    "SEMANA 1\n",
    "FUNDAMENTOS DE PYTHON\n",
    "\n",
    "IVAN OZONO"
   ]
  },
  {
   "attachments": {},
   "cell_type": "markdown",
   "metadata": {},
   "source": [
    "1 - Crea un programa que tome un número ingresado por el usuario y determine si es par o impar.\n"
   ]
  },
  {
   "cell_type": "code",
   "execution_count": 4,
   "metadata": {},
   "outputs": [
    {
     "name": "stdout",
     "output_type": "stream",
     "text": [
      "El numero que ingresaste es: par\n"
     ]
    }
   ],
   "source": [
    "num = int(input(\"Ingresa un numero: \"))\n",
    "if num % 2 == 0:\n",
    "    tipo = \"par\"\n",
    "else :\n",
    "    tipo = \"impar\"\n",
    "\n",
    "print (f\"El numero que ingresaste es: {tipo}\")"
   ]
  },
  {
   "attachments": {},
   "cell_type": "markdown",
   "metadata": {},
   "source": [
    "No tuve problemas. El código solicita al usuario que ingrese un número, luego verifica si el número ingresado es par o impar utilizando el operador de módulo %. Si el residuo de la división del número entre 2 es igual a cero, se asigna el tipo \"par\" a la variable tipo, de lo contrario se asigna \"impar\". Finalmente, se imprime un mensaje que muestra el tipo del número ingresado."
   ]
  },
  {
   "attachments": {},
   "cell_type": "markdown",
   "metadata": {},
   "source": [
    "2- Escribe un programa que convierta una cadena de texto en mayúsculas."
   ]
  },
  {
   "cell_type": "code",
   "execution_count": 15,
   "metadata": {},
   "outputs": [
    {
     "name": "stdout",
     "output_type": "stream",
     "text": [
      " La palabra en mayusculas es: HOLA\n"
     ]
    }
   ],
   "source": [
    "texto = input(\"Escribe una palabra: \")\n",
    "print(f\" La palabra en mayusculas es: {texto.upper()}\")"
   ]
  },
  {
   "attachments": {},
   "cell_type": "markdown",
   "metadata": {},
   "source": [
    "No tuve problemas. El código solicita al usuario que ingrese una palabra utilizando la función input() y almacena el valor ingresado en la variable texto. Luego, utiliza el método upper() en la variable texto para convertir la palabra a mayúsculas. Finalmente, utiliza la función print() para imprimir un mensaje que muestra la palabra en mayúsculas utilizando una f-string (cadena formateada) que incluye el resultado de texto.upper() dentro de las llaves {}"
   ]
  },
  {
   "attachments": {},
   "cell_type": "markdown",
   "metadata": {},
   "source": [
    "3 - Crea un programa que lea una cadena de texto ingresada por el usuario y que cuente cuántas veces aparece una letra específica en ella."
   ]
  },
  {
   "cell_type": "code",
   "execution_count": 19,
   "metadata": {},
   "outputs": [
    {
     "name": "stdout",
     "output_type": "stream",
     "text": [
      "En la palabra 'HOLA' la letra 'p' aparece: 0 veces\n"
     ]
    }
   ],
   "source": [
    "texto = input('Escibre una palabra: ')\n",
    "letra = input('Puedo conocer cuantas veces aparece una letra, dame la letra: ')\n",
    "texto = texto.lower()\n",
    "letra = letra.lower()\n",
    "count = texto.count(letra)\n",
    "print(f\"En la palabra '{texto}' la letra '{letra}' aparece: {count} veces\")\n",
    "        \n"
   ]
  },
  {
   "attachments": {},
   "cell_type": "markdown",
   "metadata": {},
   "source": [
    "Tuve que buscar la documentacion del metodo count() en strings"
   ]
  },
  {
   "attachments": {},
   "cell_type": "markdown",
   "metadata": {},
   "source": [
    "4 - Escribe un programa que determine si un número es primo o no."
   ]
  },
  {
   "cell_type": "code",
   "execution_count": 21,
   "metadata": {},
   "outputs": [
    {
     "name": "stdout",
     "output_type": "stream",
     "text": [
      "9 no es un número primo.\n"
     ]
    }
   ],
   "source": [
    "num = int(input(\"Ingresa un número entero positivo mayor a 1: \")) \n",
    "# Verifica si el número ingresado es mayor a 1\n",
    "if num > 1:\n",
    "    # Itera desde 2 hasta la mitad del número ingresado\n",
    "    for i in range(2, num//2 + 1):\n",
    "        if num % i == 0:\n",
    "            print(f\"{num} no es un número primo.\")  \n",
    "            break\n",
    "    else:\n",
    "        print(f\"{num} es un número primo.\")  \n",
    "else:\n",
    "    print(\"El número ingresado no es válido.\")  "
   ]
  },
  {
   "attachments": {},
   "cell_type": "markdown",
   "metadata": {},
   "source": [
    "Aprendi que la ' // ' asegura que la division de un numero entero, lo redondea "
   ]
  },
  {
   "attachments": {},
   "cell_type": "markdown",
   "metadata": {},
   "source": [
    "5 - Crea un programa que calcule el área de un triángulo a partir de la base y la altura ingresadas por el usuario."
   ]
  },
  {
   "cell_type": "code",
   "execution_count": 24,
   "metadata": {},
   "outputs": [
    {
     "name": "stdout",
     "output_type": "stream",
     "text": [
      "El area del triangulo es : 25.0\n"
     ]
    }
   ],
   "source": [
    "base = input ('Dame la base del triángulo: ')\n",
    "altura = input ('Dame la altura del triangulo')\n",
    "base = int(base)\n",
    "altura = int(altura)\n",
    "area = (base * altura)/2\n",
    "print(f'El area del triangulo es : {area}')"
   ]
  },
  {
   "attachments": {},
   "cell_type": "markdown",
   "metadata": {},
   "source": [
    "No tuve problemas"
   ]
  },
  {
   "attachments": {},
   "cell_type": "markdown",
   "metadata": {},
   "source": [
    "6 - Escribe un programa que tome una lista de números y devuelva la suma de todos ellos."
   ]
  },
  {
   "cell_type": "code",
   "execution_count": 26,
   "metadata": {},
   "outputs": [
    {
     "name": "stdout",
     "output_type": "stream",
     "text": [
      "La suma de los números es: 12\n"
     ]
    }
   ],
   "source": [
    "numeros = input(\"Ingresa una lista de números separados por espacios: \")\n",
    "\n",
    "# Convertir la entrada en una lista de números enteros\n",
    "numeros = [int(num) for num in numeros.split()]\n",
    "suma = sum(numeros)\n",
    "print(f\"La suma de los números es: {suma}\")\n"
   ]
  },
  {
   "attachments": {},
   "cell_type": "markdown",
   "metadata": {},
   "source": [
    "Investigue la funcion split() que se aplica a la cadena de texto numeros para dividirla en una lista de subcadenas separadas por espacios en blanco. Por ejemplo, si el usuario ingresa \"1 2 3\", numeros.split() producirá la lista ['1', '2', '3']. int(num): Dentro del bucle, se aplica la función int() a cada elemento num para convertirlo en un número entero."
   ]
  },
  {
   "attachments": {},
   "cell_type": "markdown",
   "metadata": {},
   "source": [
    "7 - Crea un programa que reciba una lista de nombres y que imprima solo aquellos que comiencen con una letra específica dada por el usuario."
   ]
  },
  {
   "cell_type": "code",
   "execution_count": 28,
   "metadata": {},
   "outputs": [
    {
     "name": "stdout",
     "output_type": "stream",
     "text": [
      "Los nombres que comienzan con la letra 'l' son: \n",
      "luis\n"
     ]
    }
   ],
   "source": [
    "\n",
    "nombres = input(\"Ingresa una lista de nombres separados por comas: \")\n",
    "# Convertir la entrada en una lista de nombres\n",
    "nombres = nombres.split(\",\")\n",
    "letra = input(\"Ingresa una letra para filtrar los nombres: \")\n",
    "# Filtrar los nombres que comienzan con la letra específica\n",
    "nombres_filtrados = [nombre.strip() \n",
    "    for nombre in nombres \n",
    "        if nombre.strip().lower().startswith(letra.lower())]\n",
    "\n",
    "# Mostrar los nombres filtrados\n",
    "print(f\"Los nombres que comienzan con la letra '{letra}' son: \")\n",
    "for nombre in nombres_filtrados:\n",
    "    print(nombre)\n"
   ]
  },
  {
   "attachments": {},
   "cell_type": "markdown",
   "metadata": {},
   "source": [
    "Investigue la funcion nombre.strip(): que es utilizada para eliminar los espacios en blanco alrededor de cada nombre en la lista. Esto asegura que no haya espacios en blanco extra que puedan afectar a la comparación posterior de letras.\n",
    "\n",
    "for nombre in nombres: Este es un bucle for que recorre cada elemento de la lista nombres y lo asigna a la variable nombre en cada iteración."
   ]
  },
  {
   "attachments": {},
   "cell_type": "markdown",
   "metadata": {},
   "source": [
    "8 - Escribe un programa que determine si una cadena de texto es un palíndromo o no."
   ]
  },
  {
   "cell_type": "code",
   "execution_count": 29,
   "metadata": {},
   "outputs": [
    {
     "name": "stdout",
     "output_type": "stream",
     "text": [
      "La cadena de texto no es un palíndromo.\n"
     ]
    }
   ],
   "source": [
    "def es_palindromo(texto):\n",
    "    texto = texto.lower()\n",
    "    if texto == texto[::-1]:\n",
    "        return True\n",
    "    else:\n",
    "        return False\n",
    "\n",
    "texto = input(\"Ingresa una cadena de texto: \")\n",
    "if es_palindromo(texto):\n",
    "    print(\"La cadena de texto es un palíndromo.\")\n",
    "else:\n",
    "    print(\"La cadena de texto no es un palíndromo.\")\n"
   ]
  },
  {
   "attachments": {},
   "cell_type": "markdown",
   "metadata": {},
   "source": [
    "Investigacion de que es un palíndromo, texto[::-1] invierte la palabra"
   ]
  },
  {
   "attachments": {},
   "cell_type": "markdown",
   "metadata": {},
   "source": [
    "9 - Crea un programa que tome una lista de números y elimine todos los duplicados. "
   ]
  },
  {
   "cell_type": "code",
   "execution_count": 31,
   "metadata": {},
   "outputs": [
    {
     "name": "stdout",
     "output_type": "stream",
     "text": [
      "La lista sin duplicados es: [0, 66, 3, 2, 5, 7, 8, 9, 77]\n"
     ]
    }
   ],
   "source": [
    "\n",
    "\n",
    "numeros = input(\"Ingresa una lista de números separados por espacios: \")\n",
    "# Convertir la entrada del usuario en una lista de números\n",
    "numeros = list(map(int, numeros.split()))\n",
    "\n",
    "lista_sin_duplicados = list(set(numeros))\n",
    "print(\"La lista sin duplicados es:\", lista_sin_duplicados)\n"
   ]
  },
  {
   "attachments": {},
   "cell_type": "markdown",
   "metadata": {},
   "source": [
    " Investige sobre los conjuntos en Python que es una colección no ordenada de elementos únicos, lo que significa que no puede haber duplicados en un conjunto. Al convertir una lista a un conjunto utilizando set(), se eliminan automáticamente los duplicados"
   ]
  },
  {
   "attachments": {},
   "cell_type": "markdown",
   "metadata": {},
   "source": [
    "10 - Escribe un programa que tome una lista de números y devuelva el valor máximo."
   ]
  },
  {
   "cell_type": "code",
   "execution_count": 32,
   "metadata": {},
   "outputs": [
    {
     "name": "stdout",
     "output_type": "stream",
     "text": [
      "El valor máximo en la lista es: 777\n"
     ]
    }
   ],
   "source": [
    "numeros = input(\"Ingresa una lista de números separados por espacios: \")\n",
    "# Convertir la entrada del usuario en una lista de números enteros\n",
    "numeros = [int(num) for num in numeros.split()]\n",
    "# Encontrar el valor máximo en la lista\n",
    "maximo = max(numeros)\n",
    "print(f\"El valor máximo en la lista es: {maximo}\")\n"
   ]
  },
  {
   "attachments": {},
   "cell_type": "markdown",
   "metadata": {},
   "source": [
    "Aplicacion de la funcion max() "
   ]
  },
  {
   "attachments": {},
   "cell_type": "markdown",
   "metadata": {},
   "source": [
    "11 - Crea un programa que solicite al usuario su edad y que determine en que etapa de la vida se encuentra:\n",
    "Primera Infancia (0-5 años)\n",
    "Infancia (6 - 11 años)\n",
    "Adolescencia (12 - 18 años)\n",
    "Juventud (14 - 26 años)\n",
    "Adultez (27- 59 años)\n",
    "Persona Mayor (60 años o más)."
   ]
  },
  {
   "cell_type": "code",
   "execution_count": 33,
   "metadata": {},
   "outputs": [
    {
     "name": "stdout",
     "output_type": "stream",
     "text": [
      "Tu edad corresponde a la etapa de: Persona Mayor\n"
     ]
    }
   ],
   "source": [
    "\n",
    "edad = int(input(\"Ingresa tu edad: \"))\n",
    "# Determinar la etapa de la vida\n",
    "if edad >= 0 and edad <= 5:\n",
    "    etapa = \"Primera Infancia\"\n",
    "elif edad >= 6 and edad <= 11:\n",
    "    etapa = \"Infancia\"\n",
    "elif edad >= 12 and edad <= 18:\n",
    "    etapa = \"Adolescencia\"\n",
    "elif edad >= 19 and edad <= 26:\n",
    "    etapa = \"Juventud\"\n",
    "elif edad >= 27 and edad <= 59:\n",
    "    etapa = \"Adultez\"\n",
    "else:\n",
    "    etapa = \"Persona Mayor\"\n",
    "print(f\"Tu edad corresponde a la etapa de: {etapa}\")\n"
   ]
  },
  {
   "attachments": {},
   "cell_type": "markdown",
   "metadata": {},
   "source": [
    "No tuve problemas"
   ]
  },
  {
   "attachments": {},
   "cell_type": "markdown",
   "metadata": {},
   "source": [
    "12 - Escribe un programa que tome una cadena de texto y que la divida en palabras, eliminando los espacios en blanco."
   ]
  },
  {
   "cell_type": "code",
   "execution_count": 34,
   "metadata": {},
   "outputs": [
    {
     "name": "stdout",
     "output_type": "stream",
     "text": [
      "Las palabras en la cadena son: \n",
      "El\n",
      "arbol\n",
      "es\n",
      "grande\n",
      "La cadena sin espacios en blanco es: \n",
      "Elarbolesgrande\n"
     ]
    }
   ],
   "source": [
    "texto = input(\"Ingresa una cadena de texto: \")\n",
    "\n",
    "# Dividir la cadena en palabras y eliminar espacios en blanco\n",
    "palabras = texto.split()\n",
    "texto_sin_espacios = \"\".join(palabras)\n",
    "\n",
    "# Imprimir la cadena dividida en palabras sin espacios en blanco\n",
    "print(\"Las palabras en la cadena son: \")\n",
    "print(*palabras, sep='\\n')\n",
    "\n",
    "# Imprimir la cadena sin espacios en blanco\n",
    "print(\"La cadena sin espacios en blanco es: \")\n",
    "print(texto_sin_espacios)\n"
   ]
  },
  {
   "attachments": {},
   "cell_type": "markdown",
   "metadata": {},
   "source": [
    "Investigacion del método join() que es utilizado en una cadena de texto (representada por las comillas dobles \"\" en este caso) y toma una lista como argumento. Los elementos de la lista son concatenados con el texto que está antes del método join(), en este caso una cadena vacía \"\", que se utiliza para indicar que no se agregará ningún carácter adicional entre los elementos de la lista.\n",
    "\n",
    "Tambien (*palabras): Es un desempaquetado de la lista palabras, lo que significa que los elementos de la lista se pasan como argumentos individuales a la función print(). El asterisco (*) delante de la lista palabras realiza esta operación de desempaquetado.\n",
    "\n",
    "sep='\\n': Es un argumento opcional de la función print() que se utiliza para especificar el separador entre los elementos que se están imprimiendo. En este caso, se establece como '\\n', que es el carácter de nueva línea, lo que indica que cada elemento de la lista palabras se imprimirá en una línea separada."
   ]
  },
  {
   "attachments": {},
   "cell_type": "markdown",
   "metadata": {},
   "source": [
    "13 - Crea un programa que tome dos listas de números y que devuelva una tercera lista con los elementos comunes a ambas."
   ]
  },
  {
   "cell_type": "code",
   "execution_count": 35,
   "metadata": {},
   "outputs": [
    {
     "name": "stdout",
     "output_type": "stream",
     "text": [
      "Elementos comunes en ambas listas:  [7, 8, 9, 0]\n"
     ]
    }
   ],
   "source": [
    "\n",
    "lista1 = input(\"Ingresa los números de la lista 1 separados por espacio: \").split()\n",
    "lista2 = input(\"Ingresa los números de la lista 2 separados por espacio: \").split()\n",
    "\n",
    "# Convertir los elementos de las listas a enteros\n",
    "lista1 = list(map(int, lista1))\n",
    "lista2 = list(map(int, lista2))\n",
    "\n",
    "lista_comunes = []\n",
    "\n",
    "# Iterar sobre los elementos de la lista1\n",
    "for num in lista1:\n",
    "    # Verificar si el número está en la lista2\n",
    "    if num in lista2:\n",
    "        # Agregar el número a la lista de elementos comunes\n",
    "        lista_comunes.append(num)\n",
    "\n",
    "print(\"Elementos comunes en ambas listas: \", lista_comunes)\n"
   ]
  },
  {
   "attachments": {},
   "cell_type": "markdown",
   "metadata": {},
   "source": [
    "No tuve problemas"
   ]
  },
  {
   "attachments": {},
   "cell_type": "markdown",
   "metadata": {},
   "source": [
    "14 - Escribe un programa que tome una cadena de texto y que cuente cuántas palabras hay en ella."
   ]
  },
  {
   "cell_type": "code",
   "execution_count": 36,
   "metadata": {},
   "outputs": [
    {
     "name": "stdout",
     "output_type": "stream",
     "text": [
      "La cantidad de palabras en el texto ingresado es: 13\n"
     ]
    }
   ],
   "source": [
    "texto = input(\"Ingresa una cadena de texto: \")\n",
    "\n",
    "# Dividir el texto en palabras utilizando el espacio en blanco como separador\n",
    "palabras = texto.split()\n",
    "\n",
    "# Contar la cantidad de palabras\n",
    "cantidad_palabras = len(palabras)\n",
    "\n",
    "print(f\"La cantidad de palabras en el texto ingresado es: {cantidad_palabras}\")\n"
   ]
  },
  {
   "attachments": {},
   "cell_type": "markdown",
   "metadata": {},
   "source": [
    "No tuve problemas"
   ]
  },
  {
   "attachments": {},
   "cell_type": "markdown",
   "metadata": {},
   "source": [
    "15 - Crea un programa que calcule el área de un círculo a partir del radio ingresado por el usuario."
   ]
  },
  {
   "cell_type": "code",
   "execution_count": 37,
   "metadata": {},
   "outputs": [
    {
     "name": "stdout",
     "output_type": "stream",
     "text": [
      "El área del círculo con radio 8.9 es: 248.84534390000002\n"
     ]
    }
   ],
   "source": [
    "\n",
    "radio = float(input(\"Ingresa el radio del círculo: \"))\n",
    "\n",
    "# Calcular el área del círculo utilizando la fórmula: área = pi * radio al cuadrado\n",
    "area = 3.14159 * radio ** 2\n",
    "\n",
    "\n",
    "print(f\"El área del círculo con radio {radio} es: {area}\")\n"
   ]
  },
  {
   "attachments": {},
   "cell_type": "markdown",
   "metadata": {},
   "source": [
    "No tuve problemas"
   ]
  },
  {
   "attachments": {},
   "cell_type": "markdown",
   "metadata": {},
   "source": [
    "16 - Escribe un programa que tome una lista de números y que devuelva la media aritmética."
   ]
  },
  {
   "cell_type": "code",
   "execution_count": 38,
   "metadata": {},
   "outputs": [
    {
     "name": "stdout",
     "output_type": "stream",
     "text": [
      "La media aritmética de los números ingresados es: 29.555555555555557\n"
     ]
    }
   ],
   "source": [
    "numeros = input(\"Ingresa una lista de números separados por espacios: \")\n",
    "# Convertir la lista de números ingresada por el usuario en una lista de números enteros\n",
    "numeros = [int(num) for num in numeros.split()]\n",
    "suma = sum(numeros)\n",
    "cantidad = len(numeros)\n",
    "media = suma / cantidad\n",
    "\n",
    "print(f\"La media aritmética de los números ingresados es: {media}\")\n"
   ]
  },
  {
   "attachments": {},
   "cell_type": "markdown",
   "metadata": {},
   "source": [
    "No tuve problemas"
   ]
  },
  {
   "attachments": {},
   "cell_type": "markdown",
   "metadata": {},
   "source": [
    "17 - Crea un programa que reciba dos números ingresados por el usuario y que devuelva su producto."
   ]
  },
  {
   "cell_type": "code",
   "execution_count": 39,
   "metadata": {},
   "outputs": [
    {
     "name": "stdout",
     "output_type": "stream",
     "text": [
      "El producto de 3 y 4 es : 12\n"
     ]
    }
   ],
   "source": [
    "num1 = int(input('Escribe un numero: '))\n",
    "num2 = int(input('Escribre otro numero'))\n",
    "print(f'El producto de {num1} y {num2} es : {num1*num2}')"
   ]
  },
  {
   "attachments": {},
   "cell_type": "markdown",
   "metadata": {},
   "source": [
    "No tuve problemas"
   ]
  },
  {
   "attachments": {},
   "cell_type": "markdown",
   "metadata": {},
   "source": [
    "18 - Escribe un programa que tome una lista de palabras y que devuelva una lista con todas las palabras en mayúsculas."
   ]
  },
  {
   "cell_type": "code",
   "execution_count": 40,
   "metadata": {},
   "outputs": [
    {
     "name": "stdout",
     "output_type": "stream",
     "text": [
      "Las palabras en mayúsculas son: \n",
      "HOLA\n",
      "MUNDO\n",
      "PYTHON\n"
     ]
    }
   ],
   "source": [
    "palabras = input(\"Ingresa una lista de palabras separadas por espacios: \")\n",
    "\n",
    "# Convertir la lista de palabras ingresada por el usuario en una lista de palabras en mayúsculas\n",
    "palabras = [palabra.upper() for palabra in palabras.split()]\n",
    "\n",
    "print(\"Las palabras en mayúsculas son: \")\n",
    "print(*palabras, sep=\"\\n\")\n"
   ]
  },
  {
   "attachments": {},
   "cell_type": "markdown",
   "metadata": {},
   "source": [
    "No tuve problemas"
   ]
  },
  {
   "attachments": {},
   "cell_type": "markdown",
   "metadata": {},
   "source": [
    "19 - Crea un programa que tome una lista de números y que devuelva la suma de aquellos que son mayores a un valor específico ingresado por el usuario."
   ]
  },
  {
   "cell_type": "code",
   "execution_count": 41,
   "metadata": {},
   "outputs": [
    {
     "name": "stdout",
     "output_type": "stream",
     "text": [
      "La suma de los números mayores a 4 es: 30\n"
     ]
    }
   ],
   "source": [
    "numeros = input(\"Ingresa una lista de números separados por espacios: \")\n",
    "\n",
    "# Convertir la lista de números ingresada por el usuario en una lista de números\n",
    "numeros = [int(num) for num in numeros.split()]\n",
    "\n",
    "# Solicitar al usuario ingresar el valor específico\n",
    "valor = int(input(\"Ingresa un valor específico: \"))\n",
    "\n",
    "# Calcular la suma de los números mayores al valor específico\n",
    "suma = sum([num for num in numeros if num > valor])\n",
    "\n",
    "\n",
    "print(f\"La suma de los números mayores a {valor} es: {suma}\")\n"
   ]
  },
  {
   "attachments": {},
   "cell_type": "markdown",
   "metadata": {},
   "source": [
    "No tuve problemas"
   ]
  },
  {
   "attachments": {},
   "cell_type": "markdown",
   "metadata": {},
   "source": [
    "20 - Escribe un programa que tome una cadena de texto y que devuelva una nueva cadena con todas las letras en mayúsculas excepto la primera letra de cada palabra, que debe ser en minúsculas."
   ]
  },
  {
   "cell_type": "code",
   "execution_count": 42,
   "metadata": {},
   "outputs": [
    {
     "name": "stdout",
     "output_type": "stream",
     "text": [
      "La cadena de texto modificada es: eL aRBOL eS gRANDE\n"
     ]
    }
   ],
   "source": [
    "texto = input(\"Ingresa una cadena de texto: \")\n",
    "\n",
    "# Dividir el texto en palabras\n",
    "palabras = texto.split()\n",
    "\n",
    "# Crear una lista para almacenar las palabras modificadas\n",
    "palabras_modificadas = []\n",
    "\n",
    "# Recorrer cada palabra y convertir la primera letra en minúscula y el resto en mayúsculas\n",
    "for palabra in palabras:\n",
    "    # Obtener la primera letra de la palabra en minúscula\n",
    "    primera_letra = palabra[0].lower()\n",
    "    # Obtener el resto de la palabra en mayúsculas\n",
    "    resto_palabra = palabra[1:].upper()\n",
    "    # Concatenar la primera letra en minúscula y el resto de la palabra en mayúsculas\n",
    "    palabra_modificada = primera_letra + resto_palabra\n",
    "    # Agregar la palabra modificada a la lista de palabras modificadas\n",
    "    palabras_modificadas.append(palabra_modificada)\n",
    "\n",
    "# Unir las palabras modificadas en una nueva cadena de texto\n",
    "texto_modificado = \" \".join(palabras_modificadas)\n",
    "\n",
    "\n",
    "print(\"La cadena de texto modificada es:\", texto_modificado)\n"
   ]
  },
  {
   "attachments": {},
   "cell_type": "markdown",
   "metadata": {},
   "source": [
    "Me gusto este ejercicio pues se se tuvo que dividir el texto en palabras, luego las palabras en letras, despues separar la primera letra del resto, agregarlas a una nueva lista, y despues unirlas. Desafiante"
   ]
  }
 ],
 "metadata": {
  "kernelspec": {
   "display_name": "base",
   "language": "python",
   "name": "python3"
  },
  "language_info": {
   "codemirror_mode": {
    "name": "ipython",
    "version": 3
   },
   "file_extension": ".py",
   "mimetype": "text/x-python",
   "name": "python",
   "nbconvert_exporter": "python",
   "pygments_lexer": "ipython3",
   "version": "3.10.10"
  },
  "orig_nbformat": 4
 },
 "nbformat": 4,
 "nbformat_minor": 2
}
