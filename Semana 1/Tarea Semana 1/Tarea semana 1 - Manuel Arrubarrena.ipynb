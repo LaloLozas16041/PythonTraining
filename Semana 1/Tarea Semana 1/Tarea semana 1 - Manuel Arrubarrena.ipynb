{
 "cells": [
  {
   "cell_type": "markdown",
   "metadata": {},
   "source": [
    "# Tarea Semana 1: Fundamentos de Python\n",
    "\n",
    "## Nombre: Manuel Arrubarrena Tame\n",
    "\n",
    "### Ejercicio 1:\n",
    "Crea un programa que tome un número ingresado por el usuario y determine si es par o impar."
   ]
  },
  {
   "cell_type": "code",
   "execution_count": null,
   "metadata": {},
   "outputs": [],
   "source": [
    "print('Ingrese un número para saber si es par')\n",
    "num = float(input())\n",
    "if num % 2 == 0 :\n",
    "    print(num,'es un numero par')\n",
    "else : \n",
    "    print(num,'no es numero par')"
   ]
  },
  {
   "cell_type": "markdown",
   "metadata": {},
   "source": [
    "### Explicación\n",
    "Tuve que definir la variable de entrada como float para que funcionara, de entrada da string"
   ]
  },
  {
   "cell_type": "markdown",
   "metadata": {},
   "source": [
    "### Ejercicio 2:\n",
    "Escribe un programa que convierta una cadena de texto en mayúsculas."
   ]
  },
  {
   "cell_type": "code",
   "execution_count": null,
   "metadata": {},
   "outputs": [],
   "source": [
    "texto = ['Pedro', 'juan', 'pajaro', 'ARBOL', 'color', 'todos']\n",
    "r = 0\n",
    "#print(texto[0].upper())\n",
    "for j in texto :\n",
    "    texto[r] = texto[r].upper()\n",
    "    r = r+1\n",
    "print(texto)"
   ]
  },
  {
   "cell_type": "markdown",
   "metadata": {},
   "source": [
    "### Explicación\n",
    "Tuve que poner una variable extra para el for e ir igualando cada valor"
   ]
  },
  {
   "cell_type": "markdown",
   "metadata": {},
   "source": [
    "### Ejercicio 3:\n",
    "Crea un programa que lea una cadena de texto ingresada por el usuario y que cuente cuántas veces aparece una letra específica en ella."
   ]
  },
  {
   "cell_type": "code",
   "execution_count": null,
   "metadata": {},
   "outputs": [],
   "source": [
    "print('Ingrese una cadena de texto')\n",
    "frase = list(input())\n",
    "print('escoge una letra para ver cuantas veces se repite')\n",
    "letra = input()\n",
    "p = 0\n",
    "l = 0\n",
    "for k in frase :\n",
    "    if frase[p] == letra :\n",
    "        l = l + 1\n",
    "    p = p + 1\n",
    "print('la letra',letra, 'se repite',l, 'veces')"
   ]
  },
  {
   "cell_type": "markdown",
   "metadata": {},
   "source": [
    "### Explicacion\n",
    "tuve que meter dos variables independientes que se fueran sumando con las condicionales"
   ]
  },
  {
   "cell_type": "markdown",
   "metadata": {},
   "source": [
    "### Ejercicio 4:\n",
    "Escribe un programa que determine si un número es primo o no."
   ]
  },
  {
   "cell_type": "code",
   "execution_count": null,
   "metadata": {},
   "outputs": [],
   "source": [
    "print('Ingrese un numero entrero para saber si es primo')\n",
    "primo = int(input())\n",
    "a = 0\n",
    "for f in range(primo) :\n",
    "    if f != 0 :\n",
    "        if primo % f == 0 :\n",
    "            a = a+1 \n",
    "if a == 1 :\n",
    "    print('el numero',primo,'es primo')\n",
    "else : \n",
    "    print('el numero',primo,'no es primo')"
   ]
  },
  {
   "cell_type": "markdown",
   "metadata": {},
   "source": [
    "### Explicacion\n",
    "tuve que poner condicionante para que no empezara en cero. Pensé que también llegaba a dividirse entre el mismo, pero al hacer pruebas me lanzó que no y es solo con un divisorio"
   ]
  },
  {
   "cell_type": "markdown",
   "metadata": {},
   "source": [
    "### Ejercicio 5\n",
    "Crea un programa que calcule el área de un triángulo a partir de la base y la altura ingresadas por el usuario."
   ]
  },
  {
   "cell_type": "code",
   "execution_count": null,
   "metadata": {},
   "outputs": [],
   "source": [
    "print('ingresa la base')\n",
    "base =  float(input())\n",
    "print('ingresa la altura')\n",
    "altura =  float(input())\n",
    "area = (base * altura) / 2\n",
    "print('el area de tu triángulo es',area)"
   ]
  },
  {
   "cell_type": "markdown",
   "metadata": {},
   "source": [
    "### Explicación\n",
    "No tuve muchos problemas para resolver este"
   ]
  },
  {
   "cell_type": "markdown",
   "metadata": {},
   "source": [
    "### Ejercicio 6\n",
    "Escribe un programa que tome una lista de números y devuelva la suma de todos ellos."
   ]
  },
  {
   "cell_type": "code",
   "execution_count": null,
   "metadata": {},
   "outputs": [],
   "source": [
    "listn = [1,2,8,9,4,6,8,4,3,7,1,3,9]\n",
    "aq = 0\n",
    "ar = 0\n",
    "for e in listn :\n",
    "    aq = listn[ar] + aq\n",
    "    ar = ar + 1\n",
    "print(aq)"
   ]
  },
  {
   "cell_type": "markdown",
   "metadata": {},
   "source": [
    "### Explicacion\n",
    "tuve que definir dos variables para que corrieran y sumaran diferente"
   ]
  },
  {
   "cell_type": "markdown",
   "metadata": {},
   "source": [
    "### Ejercicio 7\n",
    "Crea un programa que reciba una lista de nombres y que imprima solo aquellos que comiencen con una letra específica dada por el usuario."
   ]
  },
  {
   "cell_type": "code",
   "execution_count": null,
   "metadata": {},
   "outputs": [],
   "source": [
    "nomb = ['pedro', 'juan', 'alberto', 'roman', 'manuel', 'ricardo', 'guadalupe', 'jose', 'omar', 'andrea', 'fernanda']\n",
    "print('dame una letra para darte los nombres que empiecen con ella en la lista')\n",
    "let = input()\n",
    "resl = []\n",
    "#resl.append(3)\n",
    "qw = 0\n",
    "for t in nomb :\n",
    "    u = list(nomb[qw])\n",
    "    if let == u[0] :\n",
    "        resl.append(nomb[qw])\n",
    "    qw = qw + 1\n",
    "print(resl)"
   ]
  },
  {
   "cell_type": "markdown",
   "metadata": {},
   "source": [
    "### Explicacion\n",
    "pensé que en el append tenía que igualarlo, pero solo con la función va agregando lo necesario"
   ]
  },
  {
   "cell_type": "markdown",
   "metadata": {},
   "source": [
    "### Ejercicio 8\n",
    "Escribe un programa que determine si una cadena de texto es un palíndromo o no."
   ]
  },
  {
   "cell_type": "code",
   "execution_count": null,
   "metadata": {},
   "outputs": [],
   "source": [
    "print('dame una palabra')\n",
    "pal = input()\n",
    "pali = list(pal)\n",
    "comp = []\n",
    "#comp2 = []\n",
    "for ui in reversed(pali) :\n",
    "    comp.append(ui)\n",
    "#for y in comp :\n",
    "#    comp2 = comp2 + y\n",
    "#print(comp2)\n",
    "comp = ''.join(comp)\n",
    "if pal == comp :\n",
    "    print('tu palabra es palíndromo')\n",
    "else :\n",
    "    print('tu palabra no es palíndromo')"
   ]
  },
  {
   "cell_type": "markdown",
   "metadata": {},
   "source": [
    "### Explicacion\n",
    "pensé que con otro for podría unuir las letras dentro de la lista, pero tuve que investigar una manera de juntarlas en internet, ya despues de eso solo las comparé."
   ]
  },
  {
   "cell_type": "markdown",
   "metadata": {},
   "source": [
    "### Ejercicio 9\n",
    "Crea un programa que tome una lista de números y elimine todos los duplicados."
   ]
  },
  {
   "cell_type": "code",
   "execution_count": null,
   "metadata": {},
   "outputs": [],
   "source": [
    "lisn = [6,5,9,11,3,22,3,5,4,7,55,7,9,66,5,3,2,1,5,96,66,54,11,2,3,2,4,7,3]\n",
    "nv = []\n",
    "for ty in lisn:\n",
    "    aw = 0\n",
    "    for ti in lisn :\n",
    "        if ti == ty :\n",
    "            aw = aw + 1\n",
    "            if aw == 2 :\n",
    "                nv.append(ti)\n",
    "                break\n",
    "#print(nv)\n",
    "nv = set(nv)\n",
    "lisn = set(lisn)\n",
    "sindup = lisn.symmetric_difference(nv)\n",
    "print(list(sindup))"
   ]
  },
  {
   "cell_type": "markdown",
   "metadata": {},
   "source": [
    "### Explicación\n",
    "este ejercicio estuvo retador, pues tuve que usar muchas condicionantes dentro de ellas mismas y al final aplicar una diferencia simétrica para compararlos. Otra pudo haber sido que eliminara los valores directo si ya los encontraba duplicados, en lugar de hacer el .append, sólo que el acomodo luego afecta al for."
   ]
  },
  {
   "cell_type": "markdown",
   "metadata": {},
   "source": [
    "### Ejercicio 10\n",
    "Escribe un programa que tome una lista de números y devuelva el valor máximo."
   ]
  },
  {
   "cell_type": "code",
   "execution_count": null,
   "metadata": {},
   "outputs": [],
   "source": [
    "kl = [15,1,5,8,2,6,958,5,9,9,2,6,9,1010,15,2,6655,0,1,6,77]\n",
    "ut = 0\n",
    "posq = 0\n",
    "for io in kl:\n",
    "    if posq > 0 :\n",
    "        if io > ut:\n",
    "            ut = io\n",
    "            posq = posq + 1 \n",
    "        else:\n",
    "            posq = posq + 1\n",
    "    else:    \n",
    "        ut = io\n",
    "        posq = posq + 1\n",
    "#print(max(kl))\n",
    "print(ut)"
   ]
  },
  {
   "cell_type": "markdown",
   "metadata": {},
   "source": [
    "### Explicacion\n",
    "hice todo unos for que al final se podían conseguir con imprimir el máximo de la lista"
   ]
  },
  {
   "cell_type": "markdown",
   "metadata": {},
   "source": [
    "### Ejercicio 11\n",
    "Crea un programa que solicite al usuario su edad y que determine en que etapa de la vida se encuentra:\n",
    "    Primera Infancia (0-5 años)\n",
    "    Infancia (6 - 11 años)\n",
    "    Adolescencia (12 - 18 años)\n",
    "    Juventud (14 - 26 años)\n",
    "    Adultez (27- 59 años)\n",
    "    Persona Mayor (60 años o más)."
   ]
  },
  {
   "cell_type": "code",
   "execution_count": null,
   "metadata": {},
   "outputs": [],
   "source": [
    "print('dame tu edad')\n",
    "edad = int(input())\n",
    "if edad <= 5 :\n",
    "    print('Primera infancia')\n",
    "if edad >= 6 and edad <= 11 :\n",
    "    print('Infancia')\n",
    "if edad >= 12 and edad <= 18 :\n",
    "    print('Adolescencia')\n",
    "if edad >= 19 and edad <= 26 :\n",
    "    print('Juventud')\n",
    "if edad >= 27 and edad <= 59 :\n",
    "    print('Adultez')\n",
    "if edad >= 60 :\n",
    "    print('Persona Mayor')"
   ]
  },
  {
   "cell_type": "markdown",
   "metadata": {},
   "source": [
    "### Explicacion\n",
    "fue hacer una serie de condicionantes entre rangos"
   ]
  },
  {
   "cell_type": "markdown",
   "metadata": {},
   "source": [
    "### Ejercicio 12\n",
    "Escribe un programa que tome una cadena de texto y que la divida en palabras, eliminando los espacios en blanco."
   ]
  },
  {
   "cell_type": "code",
   "execution_count": null,
   "metadata": {},
   "outputs": [],
   "source": [
    "cadena = ['Hola como estás amigo']\n",
    "palabras1 = str(cadena)\n",
    "#print(type(palabras1))\n",
    "palabras1 = palabras1.split()\n",
    "print(palabras1)\n",
    "print(palabras1[0]+palabras1[1]+palabras1[2]+palabras1[3])"
   ]
  },
  {
   "cell_type": "markdown",
   "metadata": {},
   "source": [
    "### Explicacion\n",
    "Aqui pude convertir la cadena en lista, haciendo que tenga palabra por palabra, luego un for que elimine los espacios y luego juntarlo todo de nuevo con un join, pero me pareció mas sencillo este metodo"
   ]
  },
  {
   "cell_type": "markdown",
   "metadata": {},
   "source": [
    "### Ejercicio 13\n",
    "Crea un programa que tome dos listas de números y que devuelva una tercera lista con los elementos comunes a ambas."
   ]
  },
  {
   "cell_type": "code",
   "execution_count": null,
   "metadata": {},
   "outputs": [],
   "source": [
    "list1a = [2,3,5,4,85,3,5,6,4,6,6,4,56,58,25,6,6,47,5,87,7,4]\n",
    "lista1b = [2,5,3,5,41,5,8,6,54,89,5,2,3,5,4,2,3,5,556,3,6,455,7,59,8,86,3,2]\n",
    "set1a = set(list1a)\n",
    "set1b = set(lista1b)\n",
    "set2 = set1a.intersection(set1b)\n",
    "print(list(set2))"
   ]
  },
  {
   "cell_type": "markdown",
   "metadata": {},
   "source": [
    "### Explicacion\n",
    "Con la interseccion es más facil que correr for y asignar valores que se repitan a una lista"
   ]
  },
  {
   "cell_type": "markdown",
   "metadata": {},
   "source": [
    "### Ejercicio 14\n",
    "Escribe un programa que tome una cadena de texto y que cuente cuántas palabras hay en ella."
   ]
  },
  {
   "cell_type": "code",
   "execution_count": null,
   "metadata": {},
   "outputs": [],
   "source": [
    "tx = ['hola amigo como estas hoy']\n",
    "pa = str(tx)\n",
    "pa = pa.split()\n",
    "print('las palabras son:', len(pa))"
   ]
  },
  {
   "cell_type": "markdown",
   "metadata": {},
   "source": [
    "### Explicacion\n",
    "separé las palabras y luego las cuento con longitud"
   ]
  },
  {
   "cell_type": "markdown",
   "metadata": {},
   "source": [
    "### Ejercicio 15\n",
    "Crea un programa que calcule el área de un círculo a partir del radio ingresado por el usuario."
   ]
  },
  {
   "cell_type": "code",
   "execution_count": null,
   "metadata": {},
   "outputs": [],
   "source": [
    "print('dame una medida')\n",
    "ra = float(input())\n",
    "arci = 3.1416 * (ra**2)\n",
    "print('el área de tu círculo es', arci)"
   ]
  },
  {
   "cell_type": "markdown",
   "metadata": {},
   "source": [
    "### Explicacion\n",
    "aquí tuve que convertir la entrada a flotante para trabajar"
   ]
  },
  {
   "cell_type": "markdown",
   "metadata": {},
   "source": [
    "### Ejercicio 16\n",
    "Escribe un programa que tome una lista de números y que devuelva la media aritmética."
   ]
  },
  {
   "cell_type": "code",
   "execution_count": null,
   "metadata": {},
   "outputs": [],
   "source": [
    "pe = [5,2,8,7,6,9,58,8,877,8,2,47,12,366,3322,8,5,2,6,999,5,22,5,58,65,2,658,8,66,856,69,863252,66,5,6,89,0,41,7]\n",
    "tot = len(pe)\n",
    "siu = 0\n",
    "for iu in pe :\n",
    "    siu = siu + iu\n",
    "print(siu/tot)"
   ]
  },
  {
   "cell_type": "markdown",
   "metadata": {},
   "source": [
    "### Explicacion\n",
    "aquí con la función de un for y longitud pude conseguirlo sin usar la funcion de la media de python"
   ]
  },
  {
   "cell_type": "markdown",
   "metadata": {},
   "source": [
    "### Ejercicio 17\n",
    "Crea un programa que reciba dos números ingresados por el usuario y que devuelva su producto."
   ]
  },
  {
   "cell_type": "code",
   "execution_count": null,
   "metadata": {},
   "outputs": [],
   "source": [
    "print('dame un número')\n",
    "n1a = float(input())\n",
    "print('dame otro número')\n",
    "n2a = float(input())\n",
    "print('el producto de ambos es',n2a*n1a)"
   ]
  },
  {
   "cell_type": "markdown",
   "metadata": {},
   "source": [
    "### Explicación\n",
    "Aquí convertí los numeros a float y después los multipliqué"
   ]
  },
  {
   "cell_type": "markdown",
   "metadata": {},
   "source": [
    "### Ejercicio 18\n",
    "Escribe un programa que tome una lista de palabras y que devuelva una lista con todas las palabras en mayúsculas."
   ]
  },
  {
   "cell_type": "code",
   "execution_count": null,
   "metadata": {},
   "outputs": [],
   "source": [
    "tex = ['Pedro', 'juan', 'pajaro', 'ARBOL', 'color', 'todos', 'COLUMNA']\n",
    "rx = []\n",
    "#print(texto[0].upper())\n",
    "for j in tex :\n",
    "    if j == j.upper() :\n",
    "        rx.append(j)\n",
    "print(rx)"
   ]
  },
  {
   "cell_type": "markdown",
   "metadata": {},
   "source": [
    "### Explicación\n",
    "Aquí hago una comparación entre la lista y las posibles salidas en mayúsculas"
   ]
  },
  {
   "cell_type": "markdown",
   "metadata": {},
   "source": [
    "### Ejercicio 19\n",
    "Crea un programa que tome una lista de números y que devuelva la suma de aquellos que son mayores a un valor específico ingresado por el usuario."
   ]
  },
  {
   "cell_type": "code",
   "execution_count": null,
   "metadata": {},
   "outputs": [],
   "source": [
    "nn = [6,55,6,8,4,5,2,55,69,5,52,56,6999,2,36,6,69,2,66,5,6,62,0,1,58,58,2,0,5,4,5,69,8,69,7,21,2,47,6,82,888]\n",
    "print('dame un número')\n",
    "smj = 0\n",
    "nm = float(input())\n",
    "for hij in nn:\n",
    "    if hij > nm :\n",
    "        smj = hij +smj\n",
    "print('la suma de los números mayores a ese es', smj)"
   ]
  },
  {
   "cell_type": "markdown",
   "metadata": {},
   "source": [
    "### Explicacion\n",
    "Use un par de condicionantes para que me diera el resultado esperado"
   ]
  },
  {
   "cell_type": "markdown",
   "metadata": {},
   "source": [
    "### Ejercicio 20\n",
    "Escribe un programa que tome una cadena de texto y que devuelva una nueva cadena con todas las letras en mayúsculas excepto la primera letra de cada palabra, que debe ser en minúsculas."
   ]
  },
  {
   "cell_type": "code",
   "execution_count": null,
   "metadata": {},
   "outputs": [],
   "source": [
    "uyi = 'Estas listo para hacer este ejercicio muchacho'\n",
    "uyil = str(uyi).split(\" \")\n",
    "otra = []\n",
    "ox = 0\n",
    "otri = []\n",
    "otri2 = []\n",
    "otri3 = []\n",
    "#print(len(uyil))\n",
    "#print(uyil[0].upper())\n",
    "#print(len(uyil[0]))\n",
    "for tb in uyil:\n",
    "    otri2.append(str(uyil[ox]).upper())\n",
    "    otri2[ox] = list(otri2[ox])\n",
    "    ox = ox + 1\n",
    "    otri3 = otri2\n",
    "print(len(otri3[0]))\n",
    "print(len(otri3))\n",
    "ow = 0\n",
    "for tba in otri3:\n",
    "    otra = otri3[ow]\n",
    "    otra = list(otra)\n",
    "    otra[0] = otra[0].lower()\n",
    "    otra = ''.join(otra)\n",
    "    otri.append(otra)\n",
    "    ow = ow + 1\n",
    "print(otri)"
   ]
  },
  {
   "cell_type": "markdown",
   "metadata": {},
   "source": [
    "### Explicación\n",
    "Me costó trabajor lograr este ejercicio, pero tuve que hacer que la frase de entrada no estuviera en una lista y simplemente fuera string. Después ya fue jugar con las diferentes funciones y entender bien los ciclos"
   ]
  }
 ],
 "metadata": {
  "kernelspec": {
   "display_name": "Python 3",
   "language": "python",
   "name": "python3"
  },
  "language_info": {
   "codemirror_mode": {
    "name": "ipython",
    "version": 3
   },
   "file_extension": ".py",
   "mimetype": "text/x-python",
   "name": "python",
   "nbconvert_exporter": "python",
   "pygments_lexer": "ipython3",
   "version": "3.7.0"
  }
 },
 "nbformat": 4,
 "nbformat_minor": 2
}
