{
 "cells": [
  {
   "cell_type": "markdown",
   "id": "570712e0",
   "metadata": {},
   "source": [
    "# SEMANA 1 : FUNDAMENTOS DE PYTHON\n",
    "# Nombre : Roberto Arturo Aguayo Vallina"
   ]
  },
  {
   "cell_type": "markdown",
   "id": "463857a2",
   "metadata": {},
   "source": [
    "Ejercicio 1: Crea un programa que tome un número ingresado por el usuario y determine si es par o impar."
   ]
  },
  {
   "cell_type": "code",
   "execution_count": 9,
   "id": "1a35ac49",
   "metadata": {
    "scrolled": true
   },
   "outputs": [
    {
     "name": "stdout",
     "output_type": "stream",
     "text": [
      "Ingrese un número: 3\n",
      "3 es impar\n"
     ]
    }
   ],
   "source": [
    "número = int(input(\"Ingrese un número: \"))\n",
    "\n",
    "# Revisa si el número es par o impar\n",
    "if número % 2 == 0:\n",
    "    print(número, \"es par\")\n",
    "else:\n",
    "    print(número, \"es impar\")"
   ]
  },
  {
   "cell_type": "markdown",
   "id": "e1dc699c",
   "metadata": {},
   "source": [
    "Explicación: Usé input para crear un recuadro para teclear el número que se va a analizar, el int para asegurarme que la máquina entienda el caracter ingresado como número y no como texto. Como había que decidir entre dos opciones le metí el condicional if y el else. Mi mayor dificultad fue el como armar bien la lógica en el if."
   ]
  },
  {
   "cell_type": "markdown",
   "id": "6563cf82",
   "metadata": {},
   "source": [
    "Ejercicio 2: Escribe un programa que convierta una cadena de texto en mayúsculas."
   ]
  },
  {
   "cell_type": "code",
   "execution_count": 10,
   "id": "246d1f6c",
   "metadata": {},
   "outputs": [
    {
     "name": "stdout",
     "output_type": "stream",
     "text": [
      "ANALISTA DE DATOS\n"
     ]
    }
   ],
   "source": [
    "cadena = \"analista de datos\"\n",
    "mayusculas = cadena.upper()\n",
    "print(mayusculas)"
   ]
  },
  {
   "cell_type": "markdown",
   "id": "d74d8e1d",
   "metadata": {},
   "source": [
    "Explicación: No se me ocurrió otra manera más que esta de usar la función upper para convertir la variable \"cadena\" en mayúsculas."
   ]
  },
  {
   "cell_type": "markdown",
   "id": "99a36215",
   "metadata": {},
   "source": [
    "Ejercicio 3: Crea un programa que lea una cadena de texto ingresada por el usuario y que cuente cuántas veces aparece una letra específica en ella."
   ]
  },
  {
   "cell_type": "code",
   "execution_count": null,
   "id": "0f552f87",
   "metadata": {},
   "outputs": [],
   "source": [
    "texto = input(\"Ingrese un texto:\")\n",
    "letra = input(\"Ingrese una letra:\")\n",
    "\n",
    "son = texto.count(\"letra\")\n",
    "    \n",
    "    print(\"son\")"
   ]
  },
  {
   "cell_type": "markdown",
   "id": "227015b0",
   "metadata": {},
   "source": [
    "Ejercicio 4: Escribe un programa que determine si un número es primo o no."
   ]
  },
  {
   "cell_type": "code",
   "execution_count": 24,
   "id": "93468c69",
   "metadata": {},
   "outputs": [
    {
     "ename": "SyntaxError",
     "evalue": "invalid syntax (2453852705.py, line 5)",
     "output_type": "error",
     "traceback": [
      "\u001b[1;36m  Cell \u001b[1;32mIn[24], line 5\u001b[1;36m\u001b[0m\n\u001b[1;33m    elif \"número\" / \"número\":\u001b[0m\n\u001b[1;37m    ^\u001b[0m\n\u001b[1;31mSyntaxError\u001b[0m\u001b[1;31m:\u001b[0m invalid syntax\n"
     ]
    }
   ],
   "source": [
    "número = int(input(\"Ingrese un número: \"))\n",
    "\n",
    "# Revisa si el número es primo o no\n",
    "if número / 1:\n",
    "    elif \"número\" / \"número\":\n",
    "        \n",
    "    print(número, \"es número primo\")\n",
    "else:\n",
    "    print(número, \"no es número primo\")"
   ]
  },
  {
   "cell_type": "markdown",
   "id": "1d114545",
   "metadata": {},
   "source": [
    "Explicación: Leí sobre la matemática de los números primos pero no logré entender como traducir eso en Python."
   ]
  },
  {
   "cell_type": "markdown",
   "id": "232214e8",
   "metadata": {},
   "source": [
    "Ejercicio 5: Crea un programa que calcule el área de un triángulo a partir de la base y la altura ingresadas por el usuario."
   ]
  },
  {
   "cell_type": "code",
   "execution_count": 20,
   "id": "678bbf88",
   "metadata": {},
   "outputs": [
    {
     "name": "stdout",
     "output_type": "stream",
     "text": [
      "Ingrese base del triángulo20\n",
      "Ingrese altura del triángulo10\n",
      "100.0\n"
     ]
    }
   ],
   "source": [
    "base = float(input(\"Ingrese base del triángulo\"))\n",
    "altura = float(input(\"Ingrese altura del triángulo\"))\n",
    "\n",
    "ar_triang = 0.5 * base * altura\n",
    "\n",
    "print(ar_triang)"
   ]
  },
  {
   "cell_type": "markdown",
   "id": "196109c2",
   "metadata": {},
   "source": [
    "Explicación: Primero ingresé los input sin el float y luego declaré la variable para el resultado usando la fórmula para sacar el área pero al imprimir Jupyter me indicó que tenía que añadir el float para correr."
   ]
  },
  {
   "cell_type": "markdown",
   "id": "8c265cc3",
   "metadata": {},
   "source": [
    "Ejercicio 6: Escribe un programa que tome una lista de números y devuelva la suma de todos ellos."
   ]
  },
  {
   "cell_type": "code",
   "execution_count": 25,
   "id": "f21c93fe",
   "metadata": {},
   "outputs": [
    {
     "name": "stdout",
     "output_type": "stream",
     "text": [
      "La suma de los números de la lista es: 2\n",
      "La suma de los números de la lista es: 6\n",
      "La suma de los números de la lista es: 12\n",
      "La suma de los números de la lista es: 22\n"
     ]
    }
   ],
   "source": [
    "numeros = [2, 4, 6, 10]\n",
    "sum = 0\n",
    "\n",
    "for num in numeros:\n",
    "    sum += num\n",
    "    \n",
    "    print(\"La suma de los números de la lista es:\", sum)"
   ]
  },
  {
   "cell_type": "markdown",
   "id": "ed232b7b",
   "metadata": {},
   "source": [
    "Explicación: La suma inicia en 0 porque es la posición en que inicia el orden en Python, busqué como podía aplicar el for para operaciones\n",
    "     aritméticas."
   ]
  },
  {
   "cell_type": "markdown",
   "id": "6faf3b34",
   "metadata": {},
   "source": [
    "Ejercicio 7: Crea un programa que reciba una lista de nombres y que imprima solo aquellos que comiencen con una letra específica dada por el usuario."
   ]
  },
  {
   "cell_type": "code",
   "execution_count": 26,
   "id": "4d488cf1",
   "metadata": {},
   "outputs": [
    {
     "name": "stdout",
     "output_type": "stream",
     "text": [
      "Ingresa una letra: A\n",
      "Arturo\n",
      "Ana\n"
     ]
    }
   ],
   "source": [
    "letra = input(\"Ingresa una letra: \")\n",
    "nombres = [\"Arturo\", \"Pedro\", \"Carolina\", \"Nora\", \"Ana\", \"Carlos\"]\n",
    "for nombre in nombres:\n",
    "    if nombre.startswith(letra):\n",
    "        print(nombre)"
   ]
  },
  {
   "cell_type": "markdown",
   "id": "de0803af",
   "metadata": {},
   "source": [
    "Explicación: Consultando la información de las listas ví que hay una función startswitch así que la metí en condicional."
   ]
  },
  {
   "cell_type": "markdown",
   "id": "2a0d3b2a",
   "metadata": {},
   "source": [
    "Ejercicio 8: Escribe un programa que determine si una cadena de texto es un palíndromo o no."
   ]
  },
  {
   "cell_type": "code",
   "execution_count": 27,
   "id": "bbcd4092",
   "metadata": {},
   "outputs": [
    {
     "name": "stdout",
     "output_type": "stream",
     "text": [
      "Ingresa una cadena de texto: Medem\n",
      "Es un palíndromo.\n"
     ]
    }
   ],
   "source": [
    "cadena = input(\"Ingresa una cadena de texto: \")\n",
    "\n",
    "cadena = cadena.lower().replace(\" \", \"\")\n",
    "\n",
    "cadena_invertida = cadena[::-1]\n",
    "\n",
    "if cadena == cadena_invertida:\n",
    "    print(\"Es un palíndromo.\")\n",
    "else:\n",
    "    print(\"No es un palíndromo.\")\n"
   ]
  },
  {
   "cell_type": "markdown",
   "id": "7b78f36c",
   "metadata": {},
   "source": [
    "Explicación: Mi dificultad fue que tuve que leerme sobre las cadenas y sus características para entender como funciona un problema como este."
   ]
  },
  {
   "cell_type": "markdown",
   "id": "15dd815d",
   "metadata": {},
   "source": [
    "Ejercicio 9: Crea un programa que tome una lista de números y elimine todos los duplicados."
   ]
  },
  {
   "cell_type": "code",
   "execution_count": 28,
   "id": "3b6d0d1f",
   "metadata": {},
   "outputs": [
    {
     "name": "stdout",
     "output_type": "stream",
     "text": [
      "La lista de números sin duplicados es: [1, 2, 3, 4, 5, 6, 7, 9, 8]\n"
     ]
    }
   ],
   "source": [
    "numeros = [1, 2, 3, 4, 5, 2, 4, 6, 7, 1, 3, 9, 8, 7]\n",
    "numeros_irrepetibles = []\n",
    "\n",
    "for numero in numeros:\n",
    "    if numero not in numeros_irrepetibles:\n",
    "        numeros_irrepetibles.append(numero)\n",
    "\n",
    "print(\"La lista de números sin duplicados es:\", numeros_irrepetibles)\n"
   ]
  },
  {
   "cell_type": "markdown",
   "id": "6040a38b",
   "metadata": {},
   "source": [
    "Explicación: intenté usar el remove como dentro de un conjunto pero no me compilaba al principio así que busqué una alternativa."
   ]
  },
  {
   "cell_type": "markdown",
   "id": "b551fd0a",
   "metadata": {},
   "source": [
    "Ejercicio 10: Escribe un programa que tome una lista de números y devuelva el valor máximo."
   ]
  },
  {
   "cell_type": "code",
   "execution_count": 29,
   "id": "1f2f64a3",
   "metadata": {},
   "outputs": [
    {
     "name": "stdout",
     "output_type": "stream",
     "text": [
      "El valor máximo en la lista es: 60\n"
     ]
    }
   ],
   "source": [
    "numbers = [10, 25, 30, 45, 50, 60]\n",
    "\n",
    "max_valor = numbers[0]\n",
    "for num in numbers:\n",
    "    if num > max_valor:\n",
    "        max_valor = num\n",
    "\n",
    "print(\"El valor máximo en la lista es:\", max_valor)\n"
   ]
  },
  {
   "cell_type": "markdown",
   "id": "a3277807",
   "metadata": {},
   "source": [
    "Explicación: Usando lógica de mayor o igual que."
   ]
  },
  {
   "cell_type": "markdown",
   "id": "83aced92",
   "metadata": {},
   "source": [
    "Ejercicio 11: Crea un programa que solicite al usuario su edad y que determine en que etapa de la vida se encuentra: ○ Primera Infancia (0-5 años) ○ Infancia (6 - 11 años) ○ Adolescencia (12 - 18 años) ○ Juventud (14 - 26 años) ○ Adultez (27- 59 años) ○ Persona Mayor (60 años o más)."
   ]
  },
  {
   "cell_type": "code",
   "execution_count": 30,
   "id": "dc104b89",
   "metadata": {},
   "outputs": [
    {
     "name": "stdout",
     "output_type": "stream",
     "text": [
      "Por favor, introduce tu edad: 27\n",
      "Estás en la etapa de Adultez.\n"
     ]
    }
   ],
   "source": [
    "edad = int(input(\"Por favor, introduce tu edad: \"))\n",
    "\n",
    "if edad >= 0 and edad <= 5:\n",
    "    print(\"Estás en la etapa de Primera Infancia.\")\n",
    "elif edad >= 6 and edad <= 11:\n",
    "    print(\"Estás en la etapa de Infancia.\")\n",
    "elif edad >= 12 and edad <= 18:\n",
    "    print(\"Estás en la etapa de Adolescencia.\")\n",
    "elif edad >= 14 and edad <= 26:\n",
    "    print(\"Estás en la etapa de Juventud.\")\n",
    "elif edad >= 27 and edad <= 59:\n",
    "    print(\"Estás en la etapa de Adultez.\")\n",
    "else:\n",
    "    print(\"Eres una Persona Mayor.\")\n"
   ]
  },
  {
   "cell_type": "markdown",
   "id": "5e6854f6",
   "metadata": {},
   "source": [
    "Explicación: Como son varias etapas de la vida le puse un elif para cada una como si fuese una condición entre un set de opciones."
   ]
  },
  {
   "cell_type": "markdown",
   "id": "396f748f",
   "metadata": {},
   "source": [
    "Ejercicio 12: Escribe un programa que tome una cadena de texto y que la divida en palabras, eliminando los espacios en blanco."
   ]
  },
  {
   "cell_type": "code",
   "execution_count": 31,
   "id": "40194863",
   "metadata": {},
   "outputs": [
    {
     "name": "stdout",
     "output_type": "stream",
     "text": [
      "Ingresa una cadena de texto: Buenod días Mundo, ¿cómo están?\n",
      "Las palabras en la cadena son:\n",
      "Buenod\n",
      "días\n",
      "Mundo,\n",
      "¿cómo\n",
      "están?\n"
     ]
    }
   ],
   "source": [
    "cadena = input(\"Ingresa una cadena de texto: \")\n",
    "palabras = cadena.split()\n",
    "print(\"Las palabras en la cadena son:\")\n",
    "for palabra in palabras:\n",
    "    print(palabra)"
   ]
  },
  {
   "cell_type": "markdown",
   "id": "e4e141b7",
   "metadata": {},
   "source": [
    "Explicación: Me releí las funciones y la de split aplicaba para este caso."
   ]
  },
  {
   "cell_type": "markdown",
   "id": "d7ae6662",
   "metadata": {},
   "source": [
    "Ejercicio 13: Crea un programa que tome dos listas de números y que devuelva una tercera lista con los elementos comunes a ambas."
   ]
  },
  {
   "cell_type": "code",
   "execution_count": 32,
   "id": "d81ab944",
   "metadata": {},
   "outputs": [
    {
     "name": "stdout",
     "output_type": "stream",
     "text": [
      "Elementos comunes:  [3, 5]\n"
     ]
    }
   ],
   "source": [
    "def common_elements(list1, list2):\n",
    "\n",
    "    common = []\n",
    "    for i in list1:\n",
    "        if i in list2 and i not in common:\n",
    "            common.append(i)\n",
    "    return common\n",
    "\n",
    "# Ejemplo de uso\n",
    "lista1 = [1, 2, 3, 4, 5]\n",
    "lista2 = [3, 5, 7, 9, 11]\n",
    "lista_comun = common_elements(lista1, lista2)\n",
    "print(\"Elementos comunes: \", lista_comun)\n"
   ]
  },
  {
   "cell_type": "markdown",
   "id": "a8d49eb5",
   "metadata": {},
   "source": [
    "Explicación: Buscando información de la función de append para entender más sobre como aplicarla."
   ]
  },
  {
   "cell_type": "markdown",
   "id": "4eb527fb",
   "metadata": {},
   "source": [
    "Ejercicio 14: Escribe un programa que tome una cadena de texto y que cuente cuántas palabras hay en ella."
   ]
  },
  {
   "cell_type": "code",
   "execution_count": 33,
   "id": "b4e1581b",
   "metadata": {},
   "outputs": [
    {
     "name": "stdout",
     "output_type": "stream",
     "text": [
      "Ingrese una cadena de texto: Estoy aprendiendo Python, todavía no lo domino.\n",
      "El número de palabras en la cadena de texto es: 7\n"
     ]
    }
   ],
   "source": [
    "texto = input(\"Ingrese una cadena de texto: \")\n",
    "texto = texto.strip()\n",
    "palabras = len(texto.split())\n",
    "print(\"El número de palabras en la cadena de texto es:\", palabras)\n"
   ]
  },
  {
   "cell_type": "markdown",
   "id": "66c323fb",
   "metadata": {},
   "source": [
    "Explicación: Por lo que veo con estas funciones me cuenta el punto y la coma como palabras, no sé si sea correcto."
   ]
  },
  {
   "cell_type": "markdown",
   "id": "f04580e4",
   "metadata": {},
   "source": [
    "Ejercicio 15: Crea un programa que calcule el área de un círculo a partir del radio ingresado por el usuario."
   ]
  },
  {
   "cell_type": "code",
   "execution_count": 34,
   "id": "a02a1c37",
   "metadata": {},
   "outputs": [
    {
     "name": "stdout",
     "output_type": "stream",
     "text": [
      "Ingrese el radio del círculo: 2.5\n",
      "El área del círculo es: 19.63\n"
     ]
    }
   ],
   "source": [
    "import math\n",
    "\n",
    "radio = float(input(\"Ingrese el radio del círculo: \"))\n",
    "area = math.pi * radio ** 2\n",
    "\n",
    "print(\"El área del círculo es:\", round(area, 2))\n"
   ]
  },
  {
   "cell_type": "markdown",
   "id": "d7b6e378",
   "metadata": {},
   "source": [
    "Explicación: De nueva cuenta me señaló el programa el incluir float porque me marcaba error en una línea."
   ]
  },
  {
   "cell_type": "markdown",
   "id": "8b191ba2",
   "metadata": {},
   "source": [
    "Ejercicio 16: Escribe un programa que tome una lista de números y que devuelva la media aritmética."
   ]
  },
  {
   "cell_type": "code",
   "execution_count": 35,
   "id": "96befb0e",
   "metadata": {},
   "outputs": [
    {
     "name": "stdout",
     "output_type": "stream",
     "text": [
      "Ingrese una lista de números separados por comas: 2, 3, 4, 8, 5\n"
     ]
    },
    {
     "ename": "TypeError",
     "evalue": "'int' object is not callable",
     "output_type": "error",
     "traceback": [
      "\u001b[1;31m---------------------------------------------------------------------------\u001b[0m",
      "\u001b[1;31mTypeError\u001b[0m                                 Traceback (most recent call last)",
      "Cell \u001b[1;32mIn[35], line 3\u001b[0m\n\u001b[0;32m      1\u001b[0m nums \u001b[38;5;241m=\u001b[39m \u001b[38;5;28minput\u001b[39m(\u001b[38;5;124m\"\u001b[39m\u001b[38;5;124mIngrese una lista de números separados por comas: \u001b[39m\u001b[38;5;124m\"\u001b[39m)\n\u001b[0;32m      2\u001b[0m num_list \u001b[38;5;241m=\u001b[39m \u001b[38;5;28mlist\u001b[39m(\u001b[38;5;28mmap\u001b[39m(\u001b[38;5;28mint\u001b[39m, nums\u001b[38;5;241m.\u001b[39msplit(\u001b[38;5;124m\"\u001b[39m\u001b[38;5;124m,\u001b[39m\u001b[38;5;124m\"\u001b[39m)))\n\u001b[1;32m----> 3\u001b[0m media \u001b[38;5;241m=\u001b[39m \u001b[38;5;28;43msum\u001b[39;49m\u001b[43m(\u001b[49m\u001b[43mnum_list\u001b[49m\u001b[43m)\u001b[49m \u001b[38;5;241m/\u001b[39m \u001b[38;5;28mlen\u001b[39m(num_list)\n\u001b[0;32m      4\u001b[0m \u001b[38;5;28mprint\u001b[39m(\u001b[38;5;124m\"\u001b[39m\u001b[38;5;124mLa media aritmética de la lista es:\u001b[39m\u001b[38;5;124m\"\u001b[39m, media)\n",
      "\u001b[1;31mTypeError\u001b[0m: 'int' object is not callable"
     ]
    }
   ],
   "source": [
    "nums = input(\"Ingrese una lista de números separados por comas: \")\n",
    "num_list = list(map(int, nums.split(\",\")))\n",
    "media = sum(num_list) / len(num_list)\n",
    "print(\"La media aritmética de la lista es:\", media)\n"
   ]
  },
  {
   "cell_type": "markdown",
   "id": "f392f884",
   "metadata": {},
   "source": [
    "Explicación: No comprendo porque la suma me marca error."
   ]
  },
  {
   "cell_type": "markdown",
   "id": "a058bd98",
   "metadata": {},
   "source": [
    "Ejercicio 17: Crea un programa que reciba dos números ingresados por el usuario y que devuelva su producto."
   ]
  },
  {
   "cell_type": "code",
   "execution_count": 36,
   "id": "06a18744",
   "metadata": {},
   "outputs": [
    {
     "name": "stdout",
     "output_type": "stream",
     "text": [
      "Ingresa el primer número: 2\n",
      "Ingresa el segundo número: 4\n",
      "El producto de 2.0 y 4.0 es: 8.0\n"
     ]
    }
   ],
   "source": [
    "num1 = float(input(\"Ingresa el primer número: \"))\n",
    "num2 = float(input(\"Ingresa el segundo número: \"))\n",
    "\n",
    "producto = num1 * num2\n",
    "\n",
    "print(\"El producto de\", num1, \"y\", num2, \"es:\", producto)\n"
   ]
  },
  {
   "cell_type": "markdown",
   "id": "9ad56ade",
   "metadata": {},
   "source": [
    "Explicación: Ahora si ingresé el float desde el inicio y no tuve problemas."
   ]
  },
  {
   "cell_type": "markdown",
   "id": "dc6a1ca2",
   "metadata": {},
   "source": [
    "Ejercicio 18: Escribe un programa que tome una lista de palabras y que devuelva una lista con todas las palabras en mayúsculas."
   ]
  },
  {
   "cell_type": "code",
   "execution_count": 37,
   "id": "a308931d",
   "metadata": {},
   "outputs": [
    {
     "name": "stdout",
     "output_type": "stream",
     "text": [
      "['HOLA', 'MUNDO', 'PYTHON', 'PROGRAMACION']\n"
     ]
    }
   ],
   "source": [
    "palabras = ['hola', 'mundo', 'python', 'programacion']\n",
    "\n",
    "palabras_mayusculas = []\n",
    "\n",
    "for palabra in palabras:\n",
    "    palabras_mayusculas.append(palabra.upper())\n",
    "\n",
    "print(palabras_mayusculas)\n"
   ]
  },
  {
   "cell_type": "markdown",
   "id": "94b77b04",
   "metadata": {},
   "source": [
    "Explicación: Reutilizando la función upper para volverlas mayúsculas dentro de una lista."
   ]
  },
  {
   "cell_type": "markdown",
   "id": "99deb10b",
   "metadata": {},
   "source": [
    "Ejercicio 19: Crea un programa que tome una lista de números y que devuelva la suma de aquellos que son mayores a un valor específico ingresado por el usuario."
   ]
  },
  {
   "cell_type": "code",
   "execution_count": 38,
   "id": "f2f6f84c",
   "metadata": {},
   "outputs": [
    {
     "name": "stdout",
     "output_type": "stream",
     "text": [
      "45\n"
     ]
    }
   ],
   "source": [
    "def sum_greater_than(numeros, valor):\n",
    "    total = 0\n",
    "    for num in numeros:\n",
    "        if num > valor:\n",
    "            total += num\n",
    "    return total\n",
    "\n",
    "numeros = [2, 5, 8, 10, 12, 15]\n",
    "valor = 7\n",
    "resultado = sum_greater_than(numeros, valor)\n",
    "print(resultado)\n"
   ]
  },
  {
   "cell_type": "markdown",
   "id": "2feeca60",
   "metadata": {},
   "source": [
    "Explicación: Usando una lista ligada a un for y un condicional para los cálculos."
   ]
  },
  {
   "cell_type": "markdown",
   "id": "2b1872f3",
   "metadata": {},
   "source": [
    "Ejercicio 20: Escribe un programa que tome una cadena de texto y que devuelva una nueva cadena con todas las letras en mayúsculas excepto la primera letra de cada palabra, que debe ser en minúsculas."
   ]
  },
  {
   "cell_type": "code",
   "execution_count": 40,
   "id": "f3bdd186",
   "metadata": {},
   "outputs": [
    {
     "name": "stdout",
     "output_type": "stream",
     "text": [
      "Ingrese una cadena de texto: Hola, seré analista de datos\n",
      "Hola, Seré Analista De Datos\n"
     ]
    }
   ],
   "source": [
    "cadena = input(\"Ingrese una cadena de texto: \")\n",
    "palabras = cadena.split()\n",
    "nueva_cadena = \"\"\n",
    "for palabra in palabras:\n",
    "    nueva_cadena += palabra.capitalize() + \" \"\n",
    "nueva_cadena = nueva_cadena[:-1]\n",
    "print(nueva_cadena)\n"
   ]
  },
  {
   "cell_type": "markdown",
   "id": "80f3c5d7",
   "metadata": {},
   "source": [
    "Explicación: Quedé confundido porque me salió al revés."
   ]
  }
 ],
 "metadata": {
  "kernelspec": {
   "display_name": "Python 3 (ipykernel)",
   "language": "python",
   "name": "python3"
  },
  "language_info": {
   "codemirror_mode": {
    "name": "ipython",
    "version": 3
   },
   "file_extension": ".py",
   "mimetype": "text/x-python",
   "name": "python",
   "nbconvert_exporter": "python",
   "pygments_lexer": "ipython3",
   "version": "3.10.9"
  }
 },
 "nbformat": 4,
 "nbformat_minor": 5
}
