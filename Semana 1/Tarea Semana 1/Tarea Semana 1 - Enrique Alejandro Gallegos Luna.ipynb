{
 "cells": [
  {
   "cell_type": "markdown",
   "id": "eb484923",
   "metadata": {},
   "source": [
    "# TAREA SEMANA 1: Fundamentos de Python\n",
    "## Nombre: Enrique Alejandro Gallegos Luna"
   ]
  },
  {
   "cell_type": "markdown",
   "id": "5c4cbe3c",
   "metadata": {},
   "source": [
    "### Ejercicio 1\n",
    "Crea un programa que tome un número ingresado por el usuario y determine si es par o impar.\n"
   ]
  },
  {
   "cell_type": "code",
   "execution_count": 1,
   "id": "c69cb5c3",
   "metadata": {},
   "outputs": [
    {
     "name": "stdout",
     "output_type": "stream",
     "text": [
      "Ingresa un numero: 3\n",
      "Numero Impar\n"
     ]
    }
   ],
   "source": [
    "#Codigo ejercicio 1\n",
    "Num= int(input('Ingresa un numero: '))\n",
    "if Num % 2== 0:\n",
    "    print('El Numero es Par')\n",
    "else: \n",
    "    print('Numero Impar')"
   ]
  },
  {
   "cell_type": "markdown",
   "id": "3e2c1aea",
   "metadata": {},
   "source": [
    "En la primer linea, solicitamos un numero, pero lo convertimos a numero entero para evitar trabajar con numeros decimales\n",
    "despues de eso utilizamos el modulo, el cual nos devuelvo el residuo de la division, si este es = 0 cuando usamos el modulo de 2, significa que es par. Para hacer valida esta condicion, utilizamos un If y un Else.\n"
   ]
  },
  {
   "cell_type": "markdown",
   "id": "edd7d542",
   "metadata": {},
   "source": [
    "### Ejercicio 2\n",
    "Escribe un programa que convierta una cadena de texto en mayúsculas."
   ]
  },
  {
   "cell_type": "code",
   "execution_count": 2,
   "id": "07904bd8",
   "metadata": {},
   "outputs": [
    {
     "name": "stdout",
     "output_type": "stream",
     "text": [
      "Ingresa algun texto:Hola\n",
      "Tu texto en mayusculas es:  HOLA\n"
     ]
    }
   ],
   "source": [
    "#Codigo ejercicio 2\n",
    "cadena=str(input('Ingresa algun texto: '))\n",
    "cadena=cadena.upper()\n",
    "print('Tu texto en mayusculas es:',cadena)"
   ]
  },
  {
   "cell_type": "markdown",
   "id": "ce66b4c5",
   "metadata": {},
   "source": [
    "Solicitamos una cadena, lo convertimos a STR para evitar cualquier tipo de error. Una vez tenemos esa cadena, utilizamos el metodo upper, el cual convierte todo a mayusculas. "
   ]
  },
  {
   "cell_type": "markdown",
   "id": "73629f33",
   "metadata": {},
   "source": [
    "### Ejercicio 3\n",
    "Crea un programa que lea una cadena de texto ingresada por el usuario y que cuente cuántas veces aparece una letra específica en ella.\n"
   ]
  },
  {
   "cell_type": "code",
   "execution_count": 3,
   "id": "ef885f71",
   "metadata": {},
   "outputs": [
    {
     "name": "stdout",
     "output_type": "stream",
     "text": [
      "Ingresa un Texto: Hola, soy Enrique\n",
      "Ingresa la letra a buscare\n",
      "Las veces que aparece la letra e en el texto es: 2\n"
     ]
    }
   ],
   "source": [
    "#Ejercicio 3 codigo\n",
    "cadena=str(input('Ingresa un Texto: '))\n",
    "cadena=cadena.lower()\n",
    "letra=str(input('Ingresa la letra a buscar: '))\n",
    "letra=letra.lower()\n",
    "Conteo=0\n",
    "for i in cadena:\n",
    "    if i==letra:\n",
    "        Conteo=Conteo+1\n",
    "print(f'Las veces que aparece la letra {letra} en el texto es:',Conteo)\n"
   ]
  },
  {
   "cell_type": "markdown",
   "id": "0f492c73",
   "metadata": {},
   "source": [
    "Aqui la dificultad del problema, fue que el for, especificamente la variable que itera, es en base a un objeto, o sea la letra \"i\" no va de 0,1,2,3.... sino va de los objetos en nuestra cadena i=H,o,l,a..... \n",
    "Esto me confundio un poco, pero una vez identificado este comportamiento, pude meter la condicion del If, ya que si i==letra. Se cumple la condicion y podria irlas contando de esta manera.\n",
    "\n"
   ]
  },
  {
   "cell_type": "markdown",
   "id": "2d2d33fb",
   "metadata": {},
   "source": [
    "### Ejercicio 4\n",
    "Escribe un programa que determine si un número es primo o no.\n"
   ]
  },
  {
   "cell_type": "code",
   "execution_count": 18,
   "id": "f383795a",
   "metadata": {},
   "outputs": [
    {
     "name": "stdout",
     "output_type": "stream",
     "text": [
      "Ingresa un Numero: 5\n",
      "[2, 3, 4]\n",
      "Es un numero primo\n"
     ]
    }
   ],
   "source": [
    "#Codigo del ejercicio 4\n",
    "num=int(input('Ingresa un Numero: '))\n",
    "count=0\n",
    "rango=range(2,num)\n",
    "rango=list(rango)\n",
    "print(rango)\n",
    "for i in range(2,num):\n",
    "    if num % i== 0:\n",
    "        count=count+1\n",
    "if count > 0:\n",
    "    print('No es numero primo')\n",
    "else:\n",
    "    print('Es un numero primo')"
   ]
  },
  {
   "cell_type": "markdown",
   "id": "a2d74869",
   "metadata": {},
   "source": [
    "Aqui mi principal problema fue la secuencia, tenia que encontrar una manera en que se generara una lista desde 2 hasta el numero que yo estaba buscando, la variable 'i' estaria iterando en los objetos de esa lista, asi como en el ejemplo anterior. Esta vez utilice el mod == 0 , ya que si algun numero era divisible desde 2.....num, significa que no es numero primo, ya que los primos solo son divisibles entre si mismos y la unidad. \n",
    "Por lo cual, la lista que se estaria iterando, no debe considerar ni el num, ni la unidad.\n"
   ]
  },
  {
   "cell_type": "markdown",
   "id": "ae14fac3",
   "metadata": {},
   "source": [
    "### Ejercicio 5\n",
    "Crea un programa que calcule el área de un triángulo a partir de la base y la altura ingresadas por el usuario.\n"
   ]
  },
  {
   "cell_type": "code",
   "execution_count": 21,
   "id": "34dea5f1",
   "metadata": {},
   "outputs": [
    {
     "name": "stdout",
     "output_type": "stream",
     "text": [
      "Ingresa la base:-4\n",
      "Ingresa la altura:2\n",
      "Calculaste un area negativa (lo cual es raro) cuyo valor es: -4.0\n"
     ]
    }
   ],
   "source": [
    "base=float(input('Ingresa la base:'))\n",
    "altura=float(input('Ingresa la altura:'))\n",
    "area=(base*altura)/2\n",
    "if area < 0 :\n",
    "    print('Calculaste un area negativa (lo cual es raro) cuyo valor es:',area)\n",
    "else:\n",
    "    print('Calculaste un area positiva cuyo valor es:',area)"
   ]
  },
  {
   "cell_type": "markdown",
   "id": "60ec3575",
   "metadata": {},
   "source": [
    "Aqui mi inquietud fue trabajar con areas negativas. \n"
   ]
  },
  {
   "cell_type": "markdown",
   "id": "e3758766",
   "metadata": {},
   "source": [
    "### Ejercicio 6\n",
    "Escribe un programa que tome una lista de números y devuelva la suma de todos ellos.\n",
    "\n"
   ]
  },
  {
   "cell_type": "code",
   "execution_count": 34,
   "id": "35a0a8b6",
   "metadata": {},
   "outputs": [
    {
     "name": "stdout",
     "output_type": "stream",
     "text": [
      "Digita un numero :\n",
      " 1\n",
      "Quieres agregar otro numero? 0= Si, cualquier otra tecla = No\n",
      "0\n",
      "Digita un numero :\n",
      " 2\n",
      "Quieres agregar otro numero? 0= Si, cualquier otra tecla = No\n",
      "0\n",
      "Digita un numero :\n",
      " 3\n",
      "Quieres agregar otro numero? 0= Si, cualquier otra tecla = No\n",
      "0\n",
      "Digita un numero :\n",
      " 4\n",
      "Quieres agregar otro numero? 0= Si, cualquier otra tecla = No\n",
      "4\n",
      "\n",
      "La suma es 10\n"
     ]
    }
   ],
   "source": [
    "lista = [ ]\n",
    "suma=0\n",
    "o=0\n",
    "while o==0 :\n",
    "    num=int(input(\"Digita un numero :\\n \"))\n",
    "    lista.append(num)\n",
    "    o=int(input('Quieres agregar otro numero? 0= Si, cualquier otra tecla = No\\n'))\n",
    "    \n",
    "\n",
    "\n",
    "for i in lista:\n",
    "    suma=suma+i\n",
    "print(f'\\nLa suma es {suma}')\n"
   ]
  },
  {
   "cell_type": "markdown",
   "id": "7aea36ae",
   "metadata": {},
   "source": [
    "Mi complicacion fue el definir la lista de numeros, se me ocurrio utilizar una variable donde mientras ese valor sea igual a 0 ejecutar iteradas veces una linea de codigo cuya funcion era pedir un numero, ese numero lo voy agregando a una lista que inicialice anteriormente en el codigo, una vez interrumpido esa linea de codigo, hago la suma con un ciclo for.\n",
    "\n"
   ]
  },
  {
   "cell_type": "markdown",
   "id": "f6f23e98",
   "metadata": {},
   "source": [
    "### Ejercicio 7\n",
    "Crea un programa que reciba una lista de nombres y que imprima solo aquellos que comiencen con una letra específica dada por el usuario.\n"
   ]
  },
  {
   "cell_type": "code",
   "execution_count": 42,
   "id": "fe639b02",
   "metadata": {},
   "outputs": [
    {
     "name": "stdout",
     "output_type": "stream",
     "text": [
      "Agrega un nombre :\n",
      " Enrique\n",
      "Quieres agregar otro nombre? 0= Si, cualquier otra tecla = No\n",
      "0\n",
      "Agrega un nombre :\n",
      " Kenia\n",
      "Quieres agregar otro nombre? 0= Si, cualquier otra tecla = No\n",
      "0\n",
      "Agrega un nombre :\n",
      " Erika\n",
      "Quieres agregar otro nombre? 0= Si, cualquier otra tecla = No\n",
      "1\n",
      "Digita la letra que quieres: e\n",
      "Enrique\n",
      "Erika\n"
     ]
    }
   ],
   "source": [
    "#Codigo 7\n",
    "lista = [ ]\n",
    "o=0\n",
    "while o==0 :\n",
    "    num=str(input(\"Agrega un nombre :\\n \"))\n",
    "    lista.append(num)\n",
    "    o=int(input('Quieres agregar otro nombre? 0= Si, cualquier otra tecla = No\\n'))\n",
    "    \n",
    "letra=str(input('Digita la letra que quieres: '))\n",
    "letra=letra.upper()\n",
    "lista=list(lista)\n",
    "for i in lista:\n",
    "    if i[0] == letra:\n",
    "        print(i)\n",
    "\n",
    "    "
   ]
  },
  {
   "cell_type": "markdown",
   "id": "35917850",
   "metadata": {},
   "source": [
    "Aqui utilice la misma logica en la primer parte del codigo como en el ejemplo anterior.\n",
    "Lo diferente aqui es el for. \n",
    "Aqui lo yo que buscaba era que la primer letra es lo que importaba, entonces la variable 'i' esta iterando de nombre en nombre, \n",
    "asi que utilice 'i[0]' para identificar a la primera letra del objeto, si esa letra, coincide con la primera del nombre, ya con eso me da luz verde para imprimirla.\n",
    "Todos los nombres empiezan con mayuscula, asi que la letra que yo quiero buscar la tengo que convertir enmayuscula."
   ]
  },
  {
   "cell_type": "markdown",
   "id": "679b95b9",
   "metadata": {},
   "source": [
    "### Ejercicio 8\n",
    "Escribe un programa que determine si una cadena de texto es un palíndromo o no.\n"
   ]
  },
  {
   "cell_type": "code",
   "execution_count": 109,
   "id": "a78869dd",
   "metadata": {},
   "outputs": [
    {
     "name": "stdout",
     "output_type": "stream",
     "text": [
      "Digita tu cadena: Anita lava la tina\n",
      "anit al aval atina\n",
      "Es palindromo\n"
     ]
    }
   ],
   "source": [
    "#Codigo ejercicio 8\n",
    "cadena=str(input('Digita tu cadena: '))\n",
    "cadena= cadena.lower()\n",
    "cadena2=''\n",
    "for i in cadena:\n",
    "    cadena2=i+cadena2\n",
    "print('Se va a leer',cadena2)\n",
    "cadena=cadena.replace(' ','')\n",
    "cadena2=cadena2.replace(' ','')\n",
    "if cadena == cadena2:\n",
    "    print('Es palindromo')"
   ]
  },
  {
   "cell_type": "markdown",
   "id": "33da03e5",
   "metadata": {},
   "source": [
    "Okey, primero converti toda la cadena a minusculas, despues, lo que hice fue crear una nueva cadena, pero esta vez se creara con la intencion de que se vaya creando de manera invertida. \n",
    "Se van agregando las letras, conforme van ingresando las primeras letras, se van recorriendo hasta el final, hasta finalizar por lo ultima letra que quedara al inicio. \n",
    "Despues elimine los espacios reemplazandolos por un espacio vacio, esto con la intencion de que los espacios no sean considerandos para los palindromos. \n",
    "\n",
    "Mi dificultad aqui fue crear la cadena al reves, tarde mas de una hora en llegar a ese resultado.\n"
   ]
  },
  {
   "cell_type": "markdown",
   "id": "300a407f",
   "metadata": {},
   "source": [
    "### Ejercicio 9\n",
    "crea un programa que tome una lista de números y elimine todos los duplicados.\n"
   ]
  },
  {
   "cell_type": "code",
   "execution_count": 192,
   "id": "bd1ab2a4",
   "metadata": {},
   "outputs": [
    {
     "name": "stdout",
     "output_type": "stream",
     "text": [
      "[1, 2, 3, 4, 5, 6, 7, 8]\n"
     ]
    }
   ],
   "source": [
    "lista= [1,2,3,4,5,4,5,6,7,8,1]\n",
    "lista2= []\n",
    "for i in lista:\n",
    "    if i not in lista2:\n",
    "        lista2.append(i)\n",
    "print(lista2)\n",
    "    "
   ]
  },
  {
   "cell_type": "markdown",
   "id": "98042773",
   "metadata": {},
   "source": [
    "Usare el truco de en base mi lista, crear una segunda lista sin duplicados.\n",
    "Para ello creare otra lista vacia, en donde si la i AUN no se encuentra en la lista vacia, se agrega i, de otra forma pasa a la siguiente iteracion."
   ]
  },
  {
   "cell_type": "markdown",
   "id": "a128f55d",
   "metadata": {},
   "source": [
    "### Ejercicio 10\n",
    "Escribe un programa que tome una lista de números y devuelva el valor máximo.\n"
   ]
  },
  {
   "cell_type": "code",
   "execution_count": 198,
   "id": "dcbafbf4",
   "metadata": {},
   "outputs": [
    {
     "name": "stdout",
     "output_type": "stream",
     "text": [
      "10\n"
     ]
    }
   ],
   "source": [
    "lista = [1,2,3,5,8,9,4,1,10]\n",
    "\n",
    "maxi=0\n",
    "\n",
    "for i in lista:\n",
    "    if i > maxi:\n",
    "        maxi = i\n",
    "print(maxi)"
   ]
  },
  {
   "cell_type": "markdown",
   "id": "a7229733",
   "metadata": {},
   "source": [
    "En este problema use una variable auxiliar \"maxi\", la cual la inicie en 0. \n",
    "Cuando aparezca un valor mayor a 0. Maxi tomara dicho valor hasta que aparezca otro valor mayor a el y asi sucesivamente."
   ]
  },
  {
   "cell_type": "markdown",
   "id": "8cc88f78",
   "metadata": {},
   "source": [
    "### Ejercicio 11\n",
    "Crea un programa que solicite al usuario su edad y que determine en que etapa de la vida se encuentra:\n",
    "Primera Infancia (0-5 años)\n",
    "Infancia (6 - 11 años)\n",
    "Adolescencia (12 - 18 años)\n",
    "Juventud (19- 26 años)\n",
    "Adultez (27- 59 años)\n",
    "Persona Mayor (60 años o más).\n"
   ]
  },
  {
   "cell_type": "code",
   "execution_count": 194,
   "id": "a923ed4a",
   "metadata": {},
   "outputs": [
    {
     "name": "stdout",
     "output_type": "stream",
     "text": [
      "Ingresa tu edad: 59\n",
      "Adultez\n"
     ]
    }
   ],
   "source": [
    "edad=int(input('Ingresa tu edad: '))\n",
    "if edad >= 0 and edad <= 5:\n",
    "    print('Primera infancia')\n",
    "elif edad >= 6 and edad <= 11:\n",
    "    print('Infancia')\n",
    "elif edad >= 12 and edad <=18:\n",
    "    print('Adolescencia')\n",
    "elif edad >= 19 and edad <= 26:\n",
    "    print('Juventud')\n",
    "elif edad >= 27 and edad <= 59:\n",
    "    print('Adultez')\n",
    "elif edad >= 60:\n",
    "    print('Persona Mayor')"
   ]
  },
  {
   "cell_type": "markdown",
   "id": "480e57e4",
   "metadata": {},
   "source": [
    "En este problema realmente no habia dificultad, solamente era usar varios elif"
   ]
  },
  {
   "cell_type": "markdown",
   "id": "8861c717",
   "metadata": {},
   "source": [
    "### Problema 12\n",
    "Escribe un programa que tome una cadena de texto y que la divida en palabras, eliminando los espacios en blanco.\n"
   ]
  },
  {
   "cell_type": "code",
   "execution_count": null,
   "id": "765a83cb",
   "metadata": {},
   "outputs": [],
   "source": [
    "# No le entendi"
   ]
  },
  {
   "cell_type": "markdown",
   "id": "da5bda5c",
   "metadata": {},
   "source": [
    "No le entendi."
   ]
  },
  {
   "cell_type": "markdown",
   "id": "eb9c20b7",
   "metadata": {},
   "source": [
    "### Problema 13\n",
    "Crea un programa que tome dos listas de números y que devuelva una tercera lista con los elementos comunes a ambas."
   ]
  },
  {
   "cell_type": "code",
   "execution_count": 199,
   "id": "b4c3f38b",
   "metadata": {},
   "outputs": [
    {
     "name": "stdout",
     "output_type": "stream",
     "text": [
      "{1, 3, 5, 7}\n"
     ]
    }
   ],
   "source": [
    "#Codigo 13\n",
    "lista = set([1,2,3,4,5,6,7,4,3])\n",
    "lista2= set([1,5,10,11,15,3,5,7])\n",
    "lista3 = []\n",
    "\n",
    "interseccion = lista & lista2\n",
    "\n",
    "print(interseccion)\n"
   ]
  },
  {
   "cell_type": "markdown",
   "id": "41109ac2",
   "metadata": {},
   "source": [
    "Para este problema se utilizo teoria de conjuntos, especialmente la interseccion."
   ]
  },
  {
   "cell_type": "markdown",
   "id": "1e2d2424",
   "metadata": {},
   "source": [
    "### Problema 14\n",
    "Escribe un programa que tome una cadena de texto y que cuente cuántas palabras hay en ella.\n"
   ]
  },
  {
   "cell_type": "code",
   "execution_count": 202,
   "id": "876c0eb4",
   "metadata": {},
   "outputs": [
    {
     "name": "stdout",
     "output_type": "stream",
     "text": [
      "Introduce una cadena: Hola\n",
      "1\n"
     ]
    }
   ],
   "source": [
    "cadena = str(input('Introduce una cadena: '))\n",
    "count=0\n",
    "for i in cadena:\n",
    "    if i == \" \":\n",
    "        count= count+1\n",
    "print(count+1)"
   ]
  },
  {
   "cell_type": "markdown",
   "id": "0a6c25ab",
   "metadata": {},
   "source": [
    "En este problema yo me centre en contar los espacios, al final se le suma 1 porque la primer palabra no tiene espacio. \n",
    "Ejemplo: Si yo ingreso la cadena \"Hola\" el usuario no digito ningun espacio, pero hay una palabra."
   ]
  },
  {
   "cell_type": "markdown",
   "id": "8ce9f964",
   "metadata": {},
   "source": [
    "### Problame 15\n",
    "Crea un programa que calcule el área de un círculo a partir del radio ingresado por el usuario.\n"
   ]
  },
  {
   "cell_type": "code",
   "execution_count": 206,
   "id": "3e91d12a",
   "metadata": {},
   "outputs": [
    {
     "name": "stdout",
     "output_type": "stream",
     "text": [
      "ingrese un radio: 3\n",
      "28.2744\n"
     ]
    }
   ],
   "source": [
    "rad= float(input('ingrese un radio: '))\n",
    "area = 3.1416 *rad*rad\n",
    "print(area)"
   ]
  },
  {
   "cell_type": "markdown",
   "id": "f1ea6df8",
   "metadata": {},
   "source": [
    "Utilice una aproximacion del numero Pi para este problema. Aunque creo que hay librerias las cuales ya nos dan el numero Pi \"exacto\"."
   ]
  },
  {
   "cell_type": "markdown",
   "id": "60aa34c4",
   "metadata": {},
   "source": [
    "### Problema 16\n",
    "Escribe un programa que tome una lista de números y que devuelva la media aritmética.\n"
   ]
  },
  {
   "cell_type": "code",
   "execution_count": 213,
   "id": "325bd5b1",
   "metadata": {},
   "outputs": [
    {
     "name": "stdout",
     "output_type": "stream",
     "text": [
      "Promedio es:  5.0\n"
     ]
    }
   ],
   "source": [
    "lista = [1,2,4,6,8,9]\n",
    "suma=0\n",
    "count = 0\n",
    "for i in lista:\n",
    "    suma=suma+i\n",
    "    count = count+1\n",
    "print('Promedio es: ',suma/count)\n",
    "\n",
    "    "
   ]
  },
  {
   "cell_type": "markdown",
   "id": "7c45ede7",
   "metadata": {},
   "source": [
    "Hago una suma de todo lo que hay en la lista y a la par lo voy contando. \n",
    "Al final solo hago la proporcion"
   ]
  },
  {
   "cell_type": "markdown",
   "id": "9aa56f14",
   "metadata": {},
   "source": [
    "### Problema 17\n",
    "Crea un programa que reciba dos números ingresados por el usuario y que devuelva su producto."
   ]
  },
  {
   "cell_type": "code",
   "execution_count": 214,
   "id": "0bffc101",
   "metadata": {},
   "outputs": [
    {
     "name": "stdout",
     "output_type": "stream",
     "text": [
      "Ingresa numero: 1\n",
      "Ingresa numero: 2\n",
      "El producto es:  2\n"
     ]
    }
   ],
   "source": [
    "Num1=int(input('Ingresa numero: '))\n",
    "Num2=int(input('Ingresa numero: '))\n",
    "\n",
    "print('El producto es: ',Num1*Num2)\n"
   ]
  },
  {
   "cell_type": "markdown",
   "id": "a1e16b91",
   "metadata": {},
   "source": [
    "### Problema 18\n",
    "Escribe un programa que tome una lista de palabras y que devuelva una lista con todas las palabras en mayúsculas."
   ]
  },
  {
   "cell_type": "code",
   "execution_count": 215,
   "id": "e5e79fed",
   "metadata": {},
   "outputs": [
    {
     "name": "stdout",
     "output_type": "stream",
     "text": [
      "['PEDRO', 'KENIA', 'ENRIQUE']\n"
     ]
    }
   ],
   "source": [
    "lista = ['pedro','kenia','Enrique']\n",
    "lista= str(lista)\n",
    "lista= lista.upper()\n",
    "print(lista)"
   ]
  },
  {
   "cell_type": "markdown",
   "id": "20bac971",
   "metadata": {},
   "source": [
    "Convierto la lista en Str, una vez convertida, utilizo elmetodo Upper"
   ]
  },
  {
   "cell_type": "markdown",
   "id": "a3edfdc2",
   "metadata": {},
   "source": [
    "### Problema 19\n",
    "Crea un programa que tome una lista de números y que devuelva la suma de aquellos que son mayores a un\n",
    "valor específico ingresado por el usuario.\n"
   ]
  },
  {
   "cell_type": "code",
   "execution_count": 216,
   "id": "d9a3e8fb",
   "metadata": {},
   "outputs": [
    {
     "name": "stdout",
     "output_type": "stream",
     "text": [
      "La suma es 31\n"
     ]
    }
   ],
   "source": [
    "lista= [1,2,4,6,8,8,9]\n",
    "num=5\n",
    "suma=0\n",
    "for i in lista:\n",
    "    if i > num:\n",
    "        suma= suma+i\n",
    "print(f'La suma es {suma}')"
   ]
  },
  {
   "cell_type": "markdown",
   "id": "c13797a0",
   "metadata": {},
   "source": [
    "### Problema 20 \n",
    "Escribe un programa que tome una cadena de texto y que devuelva una nueva cadena con todas las letras en mayúsculas excepto la primera letra de cada palabra, que debe ser en minúsculas.\n"
   ]
  },
  {
   "cell_type": "code",
   "execution_count": 224,
   "id": "788cd022",
   "metadata": {},
   "outputs": [
    {
     "name": "stdout",
     "output_type": "stream",
     "text": [
      "['PEDRO', 'KENIA', 'ENRIQUE']\n"
     ]
    }
   ],
   "source": [
    "### No me salio jeje."
   ]
  },
  {
   "cell_type": "code",
   "execution_count": null,
   "id": "f25929ee",
   "metadata": {},
   "outputs": [],
   "source": []
  }
 ],
 "metadata": {
  "kernelspec": {
   "display_name": "Python 3 (ipykernel)",
   "language": "python",
   "name": "python3"
  },
  "language_info": {
   "codemirror_mode": {
    "name": "ipython",
    "version": 3
   },
   "file_extension": ".py",
   "mimetype": "text/x-python",
   "name": "python",
   "nbconvert_exporter": "python",
   "pygments_lexer": "ipython3",
   "version": "3.8.16"
  }
 },
 "nbformat": 4,
 "nbformat_minor": 5
}
