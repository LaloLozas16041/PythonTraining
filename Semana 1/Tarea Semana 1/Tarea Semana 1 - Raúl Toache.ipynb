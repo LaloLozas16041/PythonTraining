{
 "cells": [
  {
   "cell_type": "markdown",
   "id": "2260586b",
   "metadata": {},
   "source": [
    "TAREA SEMANA 1: FUNDAMENTOS DE PYTHON"
   ]
  },
  {
   "cell_type": "markdown",
   "id": "2aefbace",
   "metadata": {},
   "source": [
    "Nombre: Raúl Eduardo Toache Thomas"
   ]
  },
  {
   "cell_type": "markdown",
   "id": "db18027d",
   "metadata": {},
   "source": [
    "Ejercicio 1: Crea un programa que tome un número ingresado por el usuario y determine si es par o impar."
   ]
  },
  {
   "cell_type": "code",
   "execution_count": 4,
   "id": "187f5d98",
   "metadata": {},
   "outputs": [
    {
     "name": "stdout",
     "output_type": "stream",
     "text": [
      "Ingrese un numero\n",
      "10\n",
      "El numero es par\n"
     ]
    }
   ],
   "source": [
    "print(\"Ingrese un numero\")\n",
    "numero = int(input())\n",
    "if (numero % 2 == 0):\n",
    "    print(\"El numero es par\")\n",
    "else:\n",
    "    print(\"El numero no es par\")"
   ]
  },
  {
   "cell_type": "markdown",
   "id": "4fa7b7a5",
   "metadata": {},
   "source": [
    "Explicación: En este programa usamos la primera linea de codigo para solicitar al usuario que ingrese un numero. Por medio de la segunda linea de codigo tomamos el valor introducido por el usuario, los transformamos en entero ya que originalmente llega como cadena o string y se asigna a la variable numero. Finalmente se utiliza la condición if para verificar si al dividir el numero entre 2 nos queda un residuo o no. En el caso de no tener residuo se imprime un texto afirmando que es par y de lo contrario se especifica que no lo es. "
   ]
  },
  {
   "cell_type": "markdown",
   "id": "ddda7573",
   "metadata": {},
   "source": [
    "Ejercicio 2: Escribe un programa que convierta una cadena de texto en mayúsculas."
   ]
  },
  {
   "cell_type": "code",
   "execution_count": 7,
   "id": "9f5c30c7",
   "metadata": {},
   "outputs": [
    {
     "name": "stdout",
     "output_type": "stream",
     "text": [
      "Ingresa un texto y presiona enter. Se convertira el mayúsculas.\n",
      "Hola Mundo!\n",
      "HOLA MUNDO!\n"
     ]
    }
   ],
   "source": [
    "print(\"Ingresa un texto y presiona enter. Se convertira el mayúsculas.\")\n",
    "texto = input()\n",
    "print(texto.upper())"
   ]
  },
  {
   "cell_type": "markdown",
   "id": "dc2be74b",
   "metadata": {},
   "source": [
    "Explicación: Se empieza por solicitar al usuario que introduzca una cadena de texto. Se asigna a una variable y posteriormente se imprime la cadena de texto en mayúsculas."
   ]
  },
  {
   "cell_type": "markdown",
   "id": "e9c05adc",
   "metadata": {},
   "source": [
    "Ejercicio 3: Crea un programa que lea una cadena de texto ingresada por el usuario y que cuente cuántas veces aparece una letra específica en ella."
   ]
  },
  {
   "cell_type": "code",
   "execution_count": 7,
   "id": "1d9093f8",
   "metadata": {},
   "outputs": [
    {
     "name": "stdout",
     "output_type": "stream",
     "text": [
      "Ingrese un texto.\n",
      "hola esto es una prueba\n",
      "Ingrese la letra de la cual se realizara el conteo de apariciones en el texto que ingreso anteriormente\n",
      "j\n",
      "La letra j aparece 0 veces en el texto\n"
     ]
    }
   ],
   "source": [
    "print(\"Ingrese un texto.\")\n",
    "texto = input()\n",
    "print(\"Ingrese la letra de la cual se realizara el conteo de apariciones en el texto que ingreso anteriormente\")\n",
    "letra = input()\n",
    "suma = 0\n",
    "for i in range(0, len(texto)):\n",
    "    if (letra == texto[i]):\n",
    "        suma = suma + 1\n",
    "print(\"La letra\", str(letra), \"aparece\", str(suma), \"veces en el texto\")"
   ]
  },
  {
   "cell_type": "markdown",
   "id": "11e37f74",
   "metadata": {},
   "source": [
    "Explicación: Se solicita al usuario la cadena de texto y la letra a buscar. Luego se inicializa la variable que realizara la suma y se inicia un ciclo for que ciclara de acuerdo a la cantidad de caracteres de la cadena de texto y en cada ciclo realizara un verificación condicional con if para revisar que si la letra en la posicion correspondiente a la cadena de texto es la misma a la que el usuario solicito, en caso de serlo se suma uno a la variable de suma y al terminar el ciclo se notifica cuantas veces se encontro la letra deseada dentro del texto."
   ]
  },
  {
   "cell_type": "markdown",
   "id": "5f051fd6",
   "metadata": {},
   "source": [
    "Ejercicio 4: Escribe un programa que determine si un número es primo o no."
   ]
  },
  {
   "cell_type": "code",
   "execution_count": 10,
   "id": "3064b0ab",
   "metadata": {},
   "outputs": [
    {
     "name": "stdout",
     "output_type": "stream",
     "text": [
      "Ingrese un número\n",
      "6\n",
      "6 no es un número primo\n"
     ]
    }
   ],
   "source": [
    "print(\"Ingrese un número\")\n",
    "numero = int(input())\n",
    "verif = False\n",
    "if numero == 1:\n",
    "    print(numero, \"no es un número primo\")\n",
    "elif numero > 1:\n",
    "    for i in range(2, numero):\n",
    "        if (numero % i) == 0:\n",
    "            verif = True\n",
    "            break\n",
    "    if verif:\n",
    "        print(numero, \"no es un número primo\")\n",
    "    else:\n",
    "        print(numero, \"es un número primo\")"
   ]
  },
  {
   "cell_type": "markdown",
   "id": "21d9bba6",
   "metadata": {},
   "source": [
    "Explicación: Una vez que el usuario a ingresado el número que desea verificar si es primo o no se inicializa una variable tipo bool en Falso la cual nos ayudara a realizar la verificación previo a mandar mensaje determinando si el número es primo. Posterior a esto se verifica que valor ingresado no sea uno, ya que en ese caso se descarta el proceso y luego se verifica que el valor sea mayor a 1 (positivo), al pasar lo anterior se inicia un ciclo de verificación tomando en cuenta todos los números desde el 2 hasta un número antes del valor ingresado por el usuario, si la división es perfecta se termina la ejecución del ciclo y se notifica que no es primo y en caso contrario al terminar el ciclo aparecera el mensaje de que se trata de un número primo."
   ]
  },
  {
   "cell_type": "markdown",
   "id": "112d8e39",
   "metadata": {},
   "source": [
    "Ejercicio 5: Crea un programa que calcule el área de un triángulo a partir de la base y la altura ingresadas por el usuario."
   ]
  },
  {
   "cell_type": "code",
   "execution_count": 11,
   "id": "2b3a3a0a",
   "metadata": {},
   "outputs": [
    {
     "name": "stdout",
     "output_type": "stream",
     "text": [
      "Ingrese la base del triángulo\n",
      "5\n",
      "Ingrese la altura del triángulo\n",
      "2\n",
      "El área del triángulo es 5.0\n"
     ]
    }
   ],
   "source": [
    "print(\"Ingrese la base del triángulo\")\n",
    "base = int(input())\n",
    "print(\"Ingrese la altura del triángulo\")\n",
    "alt = int(input())\n",
    "area = (base * alt) / 2\n",
    "print(\"El área del triángulo es\", area)"
   ]
  },
  {
   "cell_type": "markdown",
   "id": "9ce9a2d9",
   "metadata": {},
   "source": [
    "Explicación: El usuario ingresa base y altura del triángulo, se realiza la operación y se devuelve el resultado."
   ]
  },
  {
   "cell_type": "markdown",
   "id": "fbc3bc13",
   "metadata": {},
   "source": [
    "Ejercicio 6: Escribe un programa que tome una lista de números y devuelva la suma de todos ellos."
   ]
  },
  {
   "cell_type": "code",
   "execution_count": 12,
   "id": "8c3485d0",
   "metadata": {},
   "outputs": [
    {
     "name": "stdout",
     "output_type": "stream",
     "text": [
      "La suma de la lista de números da 108\n"
     ]
    }
   ],
   "source": [
    "lista = [4, 8, 15, 16, 23, 42]\n",
    "suma = 0;\n",
    "for i in range(0, len(lista)):\n",
    "    suma = suma + lista[i]\n",
    "print(\"La suma de la lista de números da\", suma)"
   ]
  },
  {
   "cell_type": "markdown",
   "id": "f81b4206",
   "metadata": {},
   "source": [
    "Explicación: Se determino una lista de números dentro del programa (son los números de la serie LOST), se inicializo una variable para realizar la suma y se ciclo (for) a lo largo de la lista para sumar uno a uno todos los elementos y devolverlos en un texto a la pantalla(print)."
   ]
  },
  {
   "cell_type": "markdown",
   "id": "c18e51cc",
   "metadata": {},
   "source": [
    "Ejercicio 7: Crea un programa que reciba una lista de nombres y que imprima solo aquellos que comiencen con una letra específica dada por el usuario."
   ]
  },
  {
   "cell_type": "code",
   "execution_count": 15,
   "id": "a8f32095",
   "metadata": {},
   "outputs": [
    {
     "name": "stdout",
     "output_type": "stream",
     "text": [
      "Ingrese una letra\n",
      "D\n",
      "La siguiente es una lista de artistas cuyos nombres empiezan con la letra D\n",
      "David Gilmour\n",
      "Dolores ORiordan\n"
     ]
    }
   ],
   "source": [
    "lista = ['David Gilmour', 'Roger Waters', 'Richard Wright', 'Nick Mason', 'Mike Hogan', 'Noel Hogan', 'Fergan Lawler', 'Niall Quinn', 'Dolores ORiordan']\n",
    "print(\"Ingrese una letra\")\n",
    "letra = input()\n",
    "print(\"La siguiente es una lista de artistas cuyos nombres empiezan con la letra\", letra)\n",
    "for i in range(0, len(lista)):\n",
    "    if lista[i][0] == letra:\n",
    "        print(lista[i])"
   ]
  },
  {
   "cell_type": "markdown",
   "id": "604c92a1",
   "metadata": {},
   "source": [
    "Explicación: se crea una lista de artistas en la memoria del programa y solicita al usuario que ingrese la letra inicial deseada para conocer los artistas que comienzan sus nombres con esa letra. Posteriormente se imprime que la siguiente lista contendra dichos artistas comenzando con la letra seleccionada y se ejecuta un for que imprime los nombres de los artistas que comienzan con la letra ingresada por el usuario al inicio."
   ]
  },
  {
   "cell_type": "markdown",
   "id": "500f175b",
   "metadata": {},
   "source": [
    "Ejercicio 8: Escribe un programa que determine si una cadena de texto es un palíndromo o no."
   ]
  },
  {
   "cell_type": "code",
   "execution_count": 23,
   "id": "cc3d29df",
   "metadata": {},
   "outputs": [
    {
     "name": "stdout",
     "output_type": "stream",
     "text": [
      "Ingresa una palabra que desees verificar si es un palíndromo.\n",
      "hola\n",
      "No es palindromo.\n"
     ]
    }
   ],
   "source": [
    "print(\"Ingresa una palabra que desees verificar si es un palíndromo.\")\n",
    "palabra = input()\n",
    "palabra2 = ''\n",
    "for i in palabra:\n",
    "    palabra2 = i + palabra2\n",
    "if palabra == palabra2:\n",
    "    print(\"Es un palindromo!\")\n",
    "else:\n",
    "    print(\"No es palindromo.\")"
   ]
  },
  {
   "cell_type": "markdown",
   "id": "5093e9bf",
   "metadata": {},
   "source": [
    "Explicación: Usuario ingresa palabra y se crea una segunda palabra que es la misma pero en orden inverso usando un ciclo for para terminar unicamente verificando si ambas palabras son exactamente las mismas y por ende son palindromos, o si no son las mismas y tampoco se trata de un palindromo."
   ]
  },
  {
   "cell_type": "markdown",
   "id": "b3a87aeb",
   "metadata": {},
   "source": [
    "Ejercicio 9: Crea un programa que tome una lista de números y elimine todos los duplicados."
   ]
  },
  {
   "cell_type": "code",
   "execution_count": 25,
   "id": "523cf4e2",
   "metadata": {},
   "outputs": [
    {
     "name": "stdout",
     "output_type": "stream",
     "text": [
      "Lista despues de quitar elementos repetidos:  [4, 8, 42, 15, 16, 23, 24, 61]\n"
     ]
    }
   ],
   "source": [
    "lista = [4, 8, 15, 16, 23, 42, 24, 23, 61, 15, 8, 4]\n",
    "lista2 = [*set(lista)]\n",
    "print(\"Lista despues de quitar elementos repetidos: \", lista2)"
   ]
  },
  {
   "cell_type": "markdown",
   "id": "3a35c3ca",
   "metadata": {},
   "source": [
    "Explicación: Se hace uso de los sets de Python pero como en ellos no se permiten duplicados en automatico quedan fuera y todo esto se guarda en una segunda lista (lista2) ya que los sets suelen crear diccionarios y de este modo mantenemos todo dentro de una lista."
   ]
  },
  {
   "cell_type": "markdown",
   "id": "ac90b264",
   "metadata": {},
   "source": [
    "Ejercicio 10: Escribe un programa que tome una lista de números y devuelva el valor máximo."
   ]
  },
  {
   "cell_type": "code",
   "execution_count": 27,
   "id": "f09822de",
   "metadata": {},
   "outputs": [
    {
     "name": "stdout",
     "output_type": "stream",
     "text": [
      "El valor más alto en la lista de números es 42\n"
     ]
    }
   ],
   "source": [
    "lista = [4, 8, 15, 16, 23, 42, 42, 23, 16, 15, 8, 4]\n",
    "valormax = 0\n",
    "for i in range(0, len(lista)):\n",
    "    if valormax <= lista[i]:\n",
    "        valormax = lista[i]\n",
    "print(\"El valor más alto en la lista de números es\", valormax)"
   ]
  },
  {
   "cell_type": "markdown",
   "id": "484381f8",
   "metadata": {},
   "source": [
    "Explicación: Tomamos una lista (la de LOST y añadimos los mismos numeros en orden inverso al final para que sirva de verificación), inicializamos valormax que sera la variable encargada de mantener el valor más alto iteración tras iteración. Iteramos a traves de la lista comparando valormax con la posición actual a evaluar dentro de la lista y si valormax es menor entonces tomamos el valor de la iteración actual de la lista y lo asignamos a la variable. Al finalizar la variable valormax tiene el valor mas alto de toda la lista y lo imprime en la pantalla."
   ]
  },
  {
   "cell_type": "markdown",
   "id": "0f281857",
   "metadata": {},
   "source": [
    "Ejercicio 11: Crea un programa que solicite al usuario su edad y que determine en que etapa de la vida se encuentra:\n",
    "Primera Infancia (0-5 años)\n",
    "Infancia (6 - 11 años)\n",
    "Adolescencia (12 - 18 años)\n",
    "Juventud (14 - 26 años)\n",
    "Adultez (27- 59 años)\n",
    "Persona Mayor (60 años o más).\n"
   ]
  },
  {
   "cell_type": "code",
   "execution_count": 28,
   "id": "d9bfea13",
   "metadata": {},
   "outputs": [
    {
     "name": "stdout",
     "output_type": "stream",
     "text": [
      "¿Cuantos años tienes?\n",
      "29\n",
      "Estas en la etapa de Adultez\n"
     ]
    }
   ],
   "source": [
    "print(\"¿Cuantos años tienes?\")\n",
    "edad = int(input())\n",
    "if edad > 0 and edad <= 5:\n",
    "    print(\"Estas en la etapa de Primera Infancia\")\n",
    "elif edad >= 6 and edad <= 11:\n",
    "    print(\"Estas en la etapa de Infancia\")\n",
    "elif edad >= 12 and edad <= 18:\n",
    "    print(\"Estas en la etapa de Adolescencia\")\n",
    "elif edad >= 19 and edad <= 26:\n",
    "    print(\"Estas en la etapa de Juventud\")\n",
    "elif edad >= 27 and edad <= 59:\n",
    "    print(\"Estas en la etapa de Adultez\")\n",
    "elif edad >= 60 and edad <= 120:\n",
    "    print(\"Estas en la etapa de Persona Mayor\")"
   ]
  },
  {
   "cell_type": "markdown",
   "id": "30f27a5d",
   "metadata": {},
   "source": [
    "Explicación: Se usa verificación de edad por medio de condiciones if y en la que se cumpla la condición se expresa el mensaje que contiene la etapa de vida de la persona. Se uso el valor maximo de 120 años ya que de acuerdo con Google la persona con más años de vida que actualmente aun vive en este momento tiene 116 años."
   ]
  },
  {
   "cell_type": "markdown",
   "id": "fe31a595",
   "metadata": {},
   "source": [
    "Ejercicio 12: Escribe un programa que tome una cadena de texto y que la divida en palabras, eliminando los espacios en blanco."
   ]
  },
  {
   "cell_type": "code",
   "execution_count": 30,
   "id": "93390bfd",
   "metadata": {},
   "outputs": [
    {
     "data": {
      "text/plain": [
       "['Esta', 'es', 'una', 'cadena', 'de', 'texto']"
      ]
     },
     "execution_count": 30,
     "metadata": {},
     "output_type": "execute_result"
    }
   ],
   "source": [
    "texto = \"Esta es una cadena de texto\"\n",
    "lista = []\n",
    "palabra = \"\"\n",
    "for i in range(0, len(texto)):\n",
    "    if texto[i] != \" \":\n",
    "        palabra = palabra + texto[i]\n",
    "    elif texto[i] == \" \":\n",
    "        lista.append(palabra)\n",
    "        palabra = \"\"\n",
    "lista.append(palabra)\n",
    "lista"
   ]
  },
  {
   "cell_type": "markdown",
   "id": "7043dfd7",
   "metadata": {},
   "source": [
    "Explicación: Se crea un string, una lista vacia y otro string vacio. A traves de un ciclo for se verifica cada posicion para determinar donde no hay espacio debera tomar el caracter y añadirlo en el segundo string, al llegar a un espacio debera poner la palabra en un elemento de la lista y borrar el progreso que lleva con la palabra. Al finalizar las letras restantes se unen para conformar la ultima palabra dentro del ultimo elemento de la lista."
   ]
  },
  {
   "cell_type": "markdown",
   "id": "ddb38ce7",
   "metadata": {},
   "source": [
    "Ejercicio 13: Crea un programa que tome dos listas de números y que devuelva una tercera lista con los elementos comunes a ambas."
   ]
  },
  {
   "cell_type": "code",
   "execution_count": 31,
   "id": "c7a5048f",
   "metadata": {},
   "outputs": [
    {
     "data": {
      "text/plain": [
       "[15, 23, 42]"
      ]
     },
     "execution_count": 31,
     "metadata": {},
     "output_type": "execute_result"
    }
   ],
   "source": [
    "lista1 = [4, 8, 15, 16, 23, 42]\n",
    "lista2 = [1, 2, 15, 20, 23, 42]\n",
    "lista3 = []\n",
    "for x in range(0, len(lista1)):\n",
    "    for y in range(0, len(lista2)):\n",
    "        if lista1[x] == lista2[y]:\n",
    "            lista3.append(lista1[x])\n",
    "            \n",
    "lista3"
   ]
  },
  {
   "cell_type": "markdown",
   "id": "361aecf4",
   "metadata": {},
   "source": [
    "Explicación: Se tienen dos listas y por medio de dos ciclos for se itera a traves de cada elemento de cada lista. Al interior de ambos ciclos for se encuentra un if que se encarga de determinar si los elementos son iguales y en caso de ser así lo añade a la lista 3"
   ]
  },
  {
   "cell_type": "markdown",
   "id": "165e2ff9",
   "metadata": {},
   "source": [
    "Ejercicio 14: Escribe un programa que tome una cadena de texto y que cuente cuántas palabras hay en ella."
   ]
  },
  {
   "cell_type": "code",
   "execution_count": 33,
   "id": "8c4a9d55",
   "metadata": {},
   "outputs": [
    {
     "data": {
      "text/plain": [
       "6"
      ]
     },
     "execution_count": 33,
     "metadata": {},
     "output_type": "execute_result"
    }
   ],
   "source": [
    "texto = \"Esta es una cadena de texto\"\n",
    "c = 0\n",
    "for i in range(0, len(texto)):\n",
    "    if texto[i] == \" \":\n",
    "        c = c + 1\n",
    "c = c + 1\n",
    "c"
   ]
  },
  {
   "cell_type": "markdown",
   "id": "c64a9a2d",
   "metadata": {},
   "source": [
    "Explicación: Se asume que todo texto sera introducido sin espacios posterior a la ultima palabra. Por eso mismo justo antes de imprimir el resultado se vuelve a sumar. Se puede mejorar el código, así que si me alcanza el tiempo vuelvo a este ejercicio."
   ]
  },
  {
   "cell_type": "markdown",
   "id": "b3b06795",
   "metadata": {},
   "source": [
    "Ejercicio 15: Crea un programa que calcule el área de un círculo a partir del radio ingresado por el usuario."
   ]
  },
  {
   "cell_type": "code",
   "execution_count": 34,
   "id": "0e0dcbf8",
   "metadata": {},
   "outputs": [
    {
     "name": "stdout",
     "output_type": "stream",
     "text": [
      "¿Cual es el radio del circulo?\n",
      "15\n",
      "El area del circulo es de 706.86\n"
     ]
    }
   ],
   "source": [
    "print(\"¿Cual es el radio del circulo?\")\n",
    "radio = int(input())\n",
    "area = 3.1416 * radio ** 2\n",
    "print(\"El area del circulo es de\", area)"
   ]
  },
  {
   "cell_type": "markdown",
   "id": "af8e2f12",
   "metadata": {},
   "source": [
    "Explicación: El área se calcula multiplicando pi por el radio al cuadrado."
   ]
  },
  {
   "cell_type": "markdown",
   "id": "e81a0372",
   "metadata": {},
   "source": [
    "Ejercicio 16: Escribe un programa que tome una lista de números y que devuelva la media aritmética."
   ]
  },
  {
   "cell_type": "code",
   "execution_count": 37,
   "id": "3adfb21c",
   "metadata": {},
   "outputs": [
    {
     "data": {
      "text/plain": [
       "18.0"
      ]
     },
     "execution_count": 37,
     "metadata": {},
     "output_type": "execute_result"
    }
   ],
   "source": [
    "lista = [4, 8, 15, 16, 23, 42]\n",
    "suma = 0\n",
    "c = len(lista)\n",
    "for i in range(0, len(lista)):\n",
    "    suma = suma + lista[i]\n",
    "media = suma / c\n",
    "media"
   ]
  },
  {
   "cell_type": "markdown",
   "id": "0997f97c",
   "metadata": {},
   "source": [
    "Explicación: La media aritmetica es el promedio por lo cual sumamos todos los valores dentro de la lista y esta suma la dividimos entre el numero de elementos dentro de la misma."
   ]
  },
  {
   "cell_type": "markdown",
   "id": "c0bf76f0",
   "metadata": {},
   "source": [
    "Ejercicio 17: Crea un programa que reciba dos números ingresados por el usuario y que devuelva su producto."
   ]
  },
  {
   "cell_type": "code",
   "execution_count": 38,
   "id": "707ac902",
   "metadata": {},
   "outputs": [
    {
     "name": "stdout",
     "output_type": "stream",
     "text": [
      "Introduzca el primer valor.\n",
      "2\n",
      "Introduzca el segundo valor.\n",
      "5\n",
      "El producto es 10\n"
     ]
    }
   ],
   "source": [
    "print(\"Introduzca el primer valor.\")\n",
    "valor1 = int(input())\n",
    "print(\"Introduzca el segundo valor.\")\n",
    "valor2 = int(input())\n",
    "prod = valor1 * valor2\n",
    "print(\"El producto es\", prod)"
   ]
  },
  {
   "cell_type": "markdown",
   "id": "c377cf6d",
   "metadata": {},
   "source": [
    "Explicación: Producto es el resultado de la multiplicación y es por eso que ambos valores se multiplican y se imprime un resultado."
   ]
  },
  {
   "cell_type": "markdown",
   "id": "cbc13fca",
   "metadata": {},
   "source": [
    "Ejercicio 18: Escribe un programa que tome una lista de palabras y que devuelva una lista con todas las palabras en mayúsculas."
   ]
  },
  {
   "cell_type": "code",
   "execution_count": 40,
   "id": "acb54704",
   "metadata": {},
   "outputs": [
    {
     "data": {
      "text/plain": [
       "['ESTA', 'ES', 'UNA', 'LISTA']"
      ]
     },
     "execution_count": 40,
     "metadata": {},
     "output_type": "execute_result"
    }
   ],
   "source": [
    "lista = ['Esta', 'es', 'una', 'lista']\n",
    "listaMayusc = []\n",
    "for i in range(0, len(lista)):\n",
    "    listaMayusc.append(lista[i].upper())\n",
    "listaMayusc"
   ]
  },
  {
   "cell_type": "markdown",
   "id": "b61fc013",
   "metadata": {},
   "source": [
    "Explicación: Se toma una lista llena de cadenas de texto, se crea otra lista vacia. En un ciclo for se itera a traves de la lista con palabras y a traves de cada iteración se van añadiendo las mismas palabras a la nueva lista aplicando la función upper()."
   ]
  },
  {
   "cell_type": "markdown",
   "id": "2833c0ef",
   "metadata": {},
   "source": [
    "Ejercicio 19: Crea un programa que tome una lista de números y que devuelva la suma de aquellos que son mayores a un valor específico ingresado por el usuario."
   ]
  },
  {
   "cell_type": "code",
   "execution_count": 43,
   "id": "40775f71",
   "metadata": {},
   "outputs": [
    {
     "name": "stdout",
     "output_type": "stream",
     "text": [
      "Ingresa un número\n",
      "15\n"
     ]
    },
    {
     "data": {
      "text/plain": [
       "81"
      ]
     },
     "execution_count": 43,
     "metadata": {},
     "output_type": "execute_result"
    }
   ],
   "source": [
    "lista = [4, 8, 15, 16, 23, 42]\n",
    "print(\"Ingresa un número\")\n",
    "num = int(input())\n",
    "suma = 0\n",
    "for i in range(0, len(lista)):\n",
    "    if lista[i] > num:\n",
    "        suma = suma + lista[i]\n",
    "suma"
   ]
  },
  {
   "cell_type": "markdown",
   "id": "ca3cb198",
   "metadata": {},
   "source": [
    "Explicación: A traves de un ciclo for que cicla a traves de los valores de la lista, se realizan condiciones if para verificar que el valor en turno es mayor al número ingresado por el usuario, en caso de serlo este valor se suma a la suma actual de valores que han pasado la condición."
   ]
  },
  {
   "cell_type": "markdown",
   "id": "cb105da7",
   "metadata": {},
   "source": [
    "Ejercicio 20: Escribe un programa que tome una cadena de texto y que devuelva una nueva cadena con todas las letras en mayúsculas excepto la primera letra de cada palabra, que debe ser en minúsculas."
   ]
  },
  {
   "cell_type": "code",
   "execution_count": 53,
   "id": "aea73a59",
   "metadata": {},
   "outputs": [
    {
     "data": {
      "text/plain": [
       "'eSTA eS uNA cADENA dE tEXTO.'"
      ]
     },
     "execution_count": 53,
     "metadata": {},
     "output_type": "execute_result"
    }
   ],
   "source": [
    "texto = \"Esta es una cadena de texto.\"\n",
    "texto = texto.upper()\n",
    "texto2 = \"\"\n",
    "inicial = True\n",
    "for i in range(0, len(texto)):\n",
    "    if inicial == True:\n",
    "        texto2 = texto2 + texto[i].lower()\n",
    "        inicial = False\n",
    "    elif inicial == False:\n",
    "        texto2 = texto2 + texto[i]\n",
    "        if texto[i] == \" \":\n",
    "            inicial = True\n",
    "    \n",
    "texto2"
   ]
  },
  {
   "cell_type": "markdown",
   "id": "269bc1f0",
   "metadata": {},
   "source": [
    "Explicación: Comenzamos por definir una cadena de texto y convertirla completamente a mayusculas (de este modo garantizamos que todo el texto cumple un mismo formato) y definimos una segunda variable para texto en la que iremos almacenando nuestra nueva cadena de texto, tambien definimos una variable tipo bool que se volvera positiva siempre que se detecte un espacio de modo que al siguiente ciclo en automatico convierta la letra a minuscula. En cada ciclo se traspasa una letra pero solo si la letra ha sido identificada como inicial (usando como referencia el espacia en la ubicación anterior) procedemos a pasarla transformandola en minuscula."
   ]
  },
  {
   "cell_type": "code",
   "execution_count": null,
   "id": "fe988f2f",
   "metadata": {},
   "outputs": [],
   "source": []
  }
 ],
 "metadata": {
  "kernelspec": {
   "display_name": "Python 3 (ipykernel)",
   "language": "python",
   "name": "python3"
  },
  "language_info": {
   "codemirror_mode": {
    "name": "ipython",
    "version": 3
   },
   "file_extension": ".py",
   "mimetype": "text/x-python",
   "name": "python",
   "nbconvert_exporter": "python",
   "pygments_lexer": "ipython3",
   "version": "3.10.11"
  }
 },
 "nbformat": 4,
 "nbformat_minor": 5
}
