{
 "cells": [
  {
   "cell_type": "markdown",
   "id": "90476e3b",
   "metadata": {},
   "source": [
    "# TAREA SEMANA 1 : FUNDAMENTOS DE PYTHON\n",
    "\n",
    "## Nombre : Francisco Rafael Tenorio Naranjo"
   ]
  },
  {
   "cell_type": "markdown",
   "id": "cc1eb66f",
   "metadata": {},
   "source": [
    "Ejercicio 1 \n",
    "\n",
    "Crea un programa que tome un número ingresado por el usuario y determine si es par o impar."
   ]
  },
  {
   "cell_type": "code",
   "execution_count": 5,
   "id": "8a9bc068",
   "metadata": {},
   "outputs": [
    {
     "name": "stdout",
     "output_type": "stream",
     "text": [
      "Please insert your favourite number :21\n",
      "your number is odd\n"
     ]
    }
   ],
   "source": [
    "number = int(input(\"Please insert your favourite number :\"))\n",
    "\n",
    "if number % 2 == 0:\n",
    "    print(\"your number is even\")\n",
    "else:\n",
    "    print(\"your number is odd\")"
   ]
  },
  {
   "cell_type": "markdown",
   "id": "1c691173",
   "metadata": {},
   "source": [
    "Primero utilice la funcion input para ingresar un numero, el cual con la funcion int es convertido a numero enter\n",
    "Segundo, aplique una condicion donde se declara si el resudual del a division del numero entre 2 es igual a 0, es numero par(even).\n",
    "Tercero, con la condicion restante else, si no cumple la condicion anterior, el numero es impar (odd)"
   ]
  },
  {
   "cell_type": "markdown",
   "id": "49b107bd",
   "metadata": {},
   "source": [
    "Ejercicio 2 \n",
    "\n",
    "Escribe un programa que convierta una cadena de texto en mayúsculas.\n"
   ]
  },
  {
   "cell_type": "code",
   "execution_count": 8,
   "id": "9c48c941",
   "metadata": {},
   "outputs": [
    {
     "name": "stdout",
     "output_type": "stream",
     "text": [
      "THIS IS AN EXMAPLE MADE ON APRIL FIFTEEN\n"
     ]
    }
   ],
   "source": [
    "text = \"This is an exmaple made on april fifteen\"\n",
    "capital_text = text.upper()\n",
    "print(capital_text)"
   ]
  },
  {
   "cell_type": "markdown",
   "id": "e1743ed1",
   "metadata": {},
   "source": [
    "Primero, se asigna texto (string) a la variable text\n",
    "Segundo, se crea una segunda variable aplicando la funcion upper() a la primera variable\n",
    "Tercer, se us la fucnion print para mostrar el texto modificado"
   ]
  },
  {
   "cell_type": "markdown",
   "id": "f0ea626b",
   "metadata": {},
   "source": [
    "Ejercicio 3\n",
    "\n",
    "Crea un programa que lea una cadena de texto ingresada por el usuario y que cuente cuántas veces aparece una letra específica en ella."
   ]
  },
  {
   "cell_type": "code",
   "execution_count": 11,
   "id": "3afa3045",
   "metadata": {},
   "outputs": [
    {
     "name": "stdout",
     "output_type": "stream",
     "text": [
      "Please insert a comment here: That was an amazing movie last night\n"
     ]
    },
    {
     "data": {
      "text/plain": [
       "6"
      ]
     },
     "execution_count": 11,
     "metadata": {},
     "output_type": "execute_result"
    }
   ],
   "source": [
    "text1= input(\"Please insert a comment here: \")\n",
    "text1.count(\"a\")"
   ]
  },
  {
   "cell_type": "markdown",
   "id": "6e3242bb",
   "metadata": {},
   "source": [
    "Ejercicio 4\n",
    "\n",
    "Escribe un programa que determine si un número es primo o no."
   ]
  },
  {
   "cell_type": "code",
   "execution_count": 27,
   "id": "fd0c29a2",
   "metadata": {},
   "outputs": [
    {
     "name": "stdout",
     "output_type": "stream",
     "text": [
      "Please insert your number to verify if it is a primer number: 6\n",
      "6 is not a primer number\n"
     ]
    }
   ],
   "source": [
    "number = int(input(\"Please insert your number to verify if it is a primer number: \"))\n",
    "\n",
    "if number <= 1:\n",
    "    print(number,\"is not a prime number\")\n",
    "if number == 2 or number == 3:\n",
    "    print(number,\"is a prime number\")\n",
    "if number % 2 == 0:\n",
    "    print(number,\"is not a primer number\")\n",
    "else:\n",
    "    i = 3\n",
    "    while i*i <= number:\n",
    "        if number % i == 0:\n",
    "            print(number,\"is not a primer number\")\n",
    "            break\n",
    "        i += 2\n",
    "    else:\n",
    "        print(number, \" is a prime number\")\n",
    "    "
   ]
  },
  {
   "cell_type": "markdown",
   "id": "4c26563b",
   "metadata": {},
   "source": [
    "Tuve dificultades para definir lo que es un numero primo matematicamente e insertarlo con condicion else en python. Lo cual tuve que buscar las expresiones correctas para definirlo matematicamente\n",
    "Primero, se asigna un numero a la variable number usando la funcion input\n",
    "Segundo se asginand condiciones para los numeros 1,2 y 3. Tambien, la condicion si el residual de la division entre dos es igual a 0.\n",
    "Tercero, en la condicion else usando la funcion while es la que busque y copie y pegue."
   ]
  },
  {
   "cell_type": "markdown",
   "id": "eaee022a",
   "metadata": {},
   "source": [
    "Ejercicio 5 \n",
    "\n",
    "Crea un programa que calcule el área de un triángulo a partir de la base y la altura ingresadas por el usuario."
   ]
  },
  {
   "cell_type": "code",
   "execution_count": 30,
   "id": "5d63576b",
   "metadata": {},
   "outputs": [
    {
     "name": "stdout",
     "output_type": "stream",
     "text": [
      "To obtain the area of a triangle we need base and height\n",
      "Please, input the nummber for the base: 34\n",
      "please, input the number for the height: 12\n",
      "204.0 this is the triangle area\n"
     ]
    }
   ],
   "source": [
    "print(\"To obtain the area of a triangle we need base and height\")\n",
    "base=int(input(\"Please, input the nummber for the base: \"))\n",
    "altura=int(input(\"please, input the number for the height: \"))\n",
    "\n",
    "area = (base*altura)/2\n",
    "\n",
    "print(area, \"this is the triangle area\")"
   ]
  },
  {
   "cell_type": "markdown",
   "id": "94def957",
   "metadata": {},
   "source": [
    "Ejercicio 6 \n",
    "\n",
    "Escribe un programa que tome una lista de números y devuelva la suma de todos ellos."
   ]
  },
  {
   "cell_type": "code",
   "execution_count": 40,
   "id": "7b0b6433",
   "metadata": {},
   "outputs": [
    {
     "name": "stdout",
     "output_type": "stream",
     "text": [
      "The sum of all numbers included in the is:  55\n"
     ]
    }
   ],
   "source": [
    "numbers = [1,2,3,4,5,6,7,8,9,10]\n",
    "sumnumbers=0\n",
    "for num in range(numbers[0],numbers[-1]+1):\n",
    "    sumnumbers = sumnumbers + num\n",
    "print(\"The sum of all numbers included in the is: \", sumnumbers)"
   ]
  },
  {
   "cell_type": "markdown",
   "id": "a640d6b5",
   "metadata": {},
   "source": [
    "Primero, un lista de numeros es creada, ademas una variable con valor 0\n",
    "Segundo, con la funcion for en un rango definido por la lista se hace la suma de los numeros incluidos en la lista\n",
    "Tercer, seutiliza la funcion print para mostrar la suma obtenida"
   ]
  },
  {
   "cell_type": "markdown",
   "id": "0f9ae515",
   "metadata": {},
   "source": [
    "Ejercicio 7\n",
    "\n",
    "Crea un programa que reciba una lista de nombres y que imprima solo aquellos que comiencen con una letra específica dada por el usuario."
   ]
  },
  {
   "cell_type": "code",
   "execution_count": 83,
   "id": "05ca3f66",
   "metadata": {},
   "outputs": [
    {
     "name": "stdout",
     "output_type": "stream",
     "text": [
      "Please enter a letter to verify names: P\n",
      "Paco\n",
      "Pedro\n"
     ]
    }
   ],
   "source": [
    "names = [\"Paco\", \"Carlos\",\"Pedro\",\"Hugo\", \"Cesar\"]\n",
    "letter = input(\"Please enter a letter to verify names: \")\n",
    "letter1 = letter.upper()\n",
    "for name in names:\n",
    "    if name[0] == letter or name[0] == letter1:\n",
    "        print(name)\n",
    "\n",
    "\n"
   ]
  },
  {
   "cell_type": "markdown",
   "id": "3cdb58e1",
   "metadata": {},
   "source": [
    "Primero, se crea una lista con diferentes nombres.\n",
    "\n",
    "Segundo, Se asgina una letra a una variable.\n",
    "\n",
    "Tercero, la letra se cambia a capital para compararla en caso de que la lista tenga letras capital.\n",
    "\n",
    "Cuarto, se aplica la funcion for para comparar todos los nombres con la letra signada con la condicion if.\n",
    "\n",
    "Quinto, se muestran los nombres en pantalla"
   ]
  },
  {
   "cell_type": "markdown",
   "id": "dc0828c1",
   "metadata": {},
   "source": [
    "Ejercicio 8\n",
    "\n",
    "Escribe un programa que determine si una cadena de texto es un palíndromo o no."
   ]
  },
  {
   "cell_type": "code",
   "execution_count": 96,
   "id": "ab6a3f40",
   "metadata": {},
   "outputs": [
    {
     "name": "stdout",
     "output_type": "stream",
     "text": [
      "Please input a word to verify if it is a palindrome: Madam\n",
      "Madam is a palindrome\n"
     ]
    }
   ],
   "source": [
    "word = input(\"Please input a word to verify if it is a palindrome: \")\n",
    "word1 = word.lower()\n",
    "word2 = word1[::-1]\n",
    "if word1 == word2:\n",
    "    print(word,\"is a palindrome\")\n",
    "else:\n",
    "    print(word,\"is not a palindrome\")\n",
    "\n"
   ]
  },
  {
   "cell_type": "markdown",
   "id": "e446b021",
   "metadata": {},
   "source": [
    "Primero, se asgina una palabra a la variable word.\n",
    "Segundo, se hace letra minusculas la variable word1.\n",
    "Tercero, se obtiene la letra en formato revero en word2.\n",
    "Cuarto, Se aplica la condicion para verificar si la palabra es igual al reverso"
   ]
  },
  {
   "cell_type": "markdown",
   "id": "1c3b543f",
   "metadata": {},
   "source": [
    "Ejercicio 9\n",
    "\n",
    "Crea un programa que tome una lista de números y elimine todos los duplicados."
   ]
  },
  {
   "cell_type": "code",
   "execution_count": 101,
   "id": "68c2588d",
   "metadata": {},
   "outputs": [
    {
     "name": "stdout",
     "output_type": "stream",
     "text": [
      "{0, 1, 2, 3, 4, 5, 6, 7, 8, 9, 10, 11, 12, 13}\n"
     ]
    }
   ],
   "source": [
    "numbers_list=[0,0,1,1,2,3,4,5,5,6,6,7,7,8,9,10,11,12,13]\n",
    "numbers=set(numbers_list)\n",
    "print(numbers)"
   ]
  },
  {
   "cell_type": "markdown",
   "id": "bea3dd0a",
   "metadata": {},
   "source": [
    "Primero, se crea una lista con numeros, incluyendo algunos repetidos.\n",
    "Segundo, se convierte la lista a set, ya que los sets no incluyen valores repetidos\n",
    "Tercero, se utiliza la funcion print para mostrar los valores del set"
   ]
  },
  {
   "cell_type": "markdown",
   "id": "455cfd7d",
   "metadata": {},
   "source": [
    "Ejercicio 10\n",
    "\n",
    "Escribe un programa que tome una lista de números y devuelva el valor máximo."
   ]
  },
  {
   "cell_type": "code",
   "execution_count": 106,
   "id": "4576354a",
   "metadata": {},
   "outputs": [
    {
     "name": "stdout",
     "output_type": "stream",
     "text": [
      "20 is the maximum value in the list\n"
     ]
    }
   ],
   "source": [
    "list= [1,2,3,4,5,6,7,8,9,20,19,18,17,16,15,14,13,11,10]\n",
    "max_value=max(list)\n",
    "print(max_value, \"is the maximum value in the list\")"
   ]
  },
  {
   "cell_type": "markdown",
   "id": "8fa0a0e3",
   "metadata": {},
   "source": [
    "Primero, se crea una lista con difrerentes numeros.\n",
    "Segundo, se asgina el valor maximo de la lista a la variable max_value.\n",
    "Tercero, se utiliza la funcion print para mostrar el numero maximo."
   ]
  },
  {
   "cell_type": "markdown",
   "id": "f7a5e569",
   "metadata": {},
   "source": [
    "Ejercicio 11\n",
    "\n",
    "Crea un programa que solicite al usuario su edad y que determine en que etapa de la vida se encuentra:\n",
    "\n",
    "Primera Infancia (0-5 años)\n",
    "\n",
    "Infancia (6 - 11 años)\n",
    "\n",
    "Adolescencia (12 - 18 años)\n",
    "\n",
    "Juventud (14 - 26 años)\n",
    "\n",
    "Adultez (27- 59 años)\n",
    "\n",
    "Persona Mayor (60 años o más)."
   ]
  },
  {
   "cell_type": "code",
   "execution_count": 117,
   "id": "0ddc250a",
   "metadata": {},
   "outputs": [
    {
     "name": "stdout",
     "output_type": "stream",
     "text": [
      "Please input your age :5\n",
      "you are in Early Childhood \n"
     ]
    }
   ],
   "source": [
    "age = int(input(\"Please input your age :\"))\n",
    "if age >=0 and age <=5:\n",
    "    print(\"you are in Early Childhood \")\n",
    "if age >=6 and age <=11:\n",
    "    print(\"you are in Childhood\")\n",
    "if age >=12 and age <=18:\n",
    "    print(\"you are in Adolescence \")\n",
    "if age >=19 and age <=26:\n",
    "    print(\"you are in Youth\")\n",
    "if age >=27 and age <= 59:\n",
    "    print(\"you are in Adulthood\")\n",
    "if age >=60:\n",
    "    print(\"you are in Elderlyhood\")\n"
   ]
  },
  {
   "cell_type": "markdown",
   "id": "b4ac55d2",
   "metadata": {},
   "source": [
    "Prmero se asigna una edad a la variable age.\n",
    "Segundo se asignan condiciones en etapas.\n",
    "Tercero, se usa la funcion print para mostrar la etapaen la que se encuentra."
   ]
  },
  {
   "cell_type": "markdown",
   "id": "c439ef7e",
   "metadata": {},
   "source": [
    "Ejercicio 12 \n",
    "\n",
    "Escribe un programa que tome una cadena de texto y que la divida en palabras, eliminando los espacios en blanco."
   ]
  },
  {
   "cell_type": "code",
   "execution_count": 122,
   "id": "c67e1ba9",
   "metadata": {},
   "outputs": [
    {
     "name": "stdout",
     "output_type": "stream",
     "text": [
      "['This', 'is', 'an', 'example', 'for', 'the', 'exercise', 'number', 'twelve']\n"
     ]
    }
   ],
   "source": [
    "phrase = \"This is an example for the exercise number twelve\"\n",
    "list1 = phrase.split(\" \")\n",
    "print(list1)\n"
   ]
  },
  {
   "cell_type": "markdown",
   "id": "97354dc0",
   "metadata": {},
   "source": [
    "Primero, se crea una cadena de texto asignado a la variable phrase.\n",
    "Segundo, se separa la cadena de texto en palabras creando una lista.\n",
    "Tercero, se utiliza la funcion print para mostrar las palabras de la lista."
   ]
  },
  {
   "cell_type": "markdown",
   "id": "afcd1fba",
   "metadata": {},
   "source": [
    "Ejercicio 13\n",
    "\n",
    "Crea un programa que tome dos listas de números y que devuelva una tercera lista con los elementos comunes a ambas."
   ]
  },
  {
   "cell_type": "code",
   "execution_count": 123,
   "id": "7dcbc4d9",
   "metadata": {},
   "outputs": [
    {
     "name": "stdout",
     "output_type": "stream",
     "text": [
      "{11, 21, 15}\n"
     ]
    }
   ],
   "source": [
    "set1={10,15,20,25,11,14,21,26}\n",
    "set2={15,21,11,8,44,55,67,28}\n",
    "set3= set1 & set2\n",
    "\n",
    "print(set3)"
   ]
  },
  {
   "cell_type": "markdown",
   "id": "09d23965",
   "metadata": {},
   "source": [
    "Primero, se crena dos sets con algunos numeros comunes entre ambos.\n",
    "Segundo, se crea un tercer set haciendo una interseccion entre lo dos anteriores usando &.\n",
    "Tercero, se utiliza la funcion print para mostrar el tercer set con los numeros comunes."
   ]
  },
  {
   "cell_type": "markdown",
   "id": "221640ea",
   "metadata": {},
   "source": [
    "Ejercicio 14\n",
    "\n",
    "Escribe un programa que tome una cadena de texto y que cuente cuántas palabras hay en ella."
   ]
  },
  {
   "cell_type": "code",
   "execution_count": 197,
   "id": "1b995eef",
   "metadata": {},
   "outputs": [
    {
     "name": "stdout",
     "output_type": "stream",
     "text": [
      "The are 12 words in the phrase\n"
     ]
    }
   ],
   "source": [
    "phrase = \"This is an example of a phrase for the exercise number fourteen\"\n",
    "words= phrase.split()\n",
    "print(\"The are\",len(words),\"words in the phrase\")\n"
   ]
  },
  {
   "cell_type": "markdown",
   "id": "92105625",
   "metadata": {},
   "source": [
    "Ejercicio 15 \n",
    "\n",
    "Crea un programa que calcule el área de un círculo a partir del radio ingresado por el usuario."
   ]
  },
  {
   "cell_type": "code",
   "execution_count": 198,
   "id": "5a07876e",
   "metadata": {},
   "outputs": [
    {
     "name": "stdout",
     "output_type": "stream",
     "text": [
      "Please type the radio to calculte the area of a circle: 23\n",
      "1661.90111\n"
     ]
    }
   ],
   "source": [
    "radio = int(input(\"Please type the radio to calculte the area of a circle: \"))\n",
    "area = (radio**2)*(3.14159)\n",
    "print(area)"
   ]
  },
  {
   "cell_type": "markdown",
   "id": "e9c5bfa3",
   "metadata": {},
   "source": [
    "Primero, se asigna un numero a la variable radio.\n",
    "Segundo, se aplica la formula matematica para encontrar el area usando la variable radio.\n",
    "Tercero, se utiliza la funcion print para mostrar el area calculada."
   ]
  },
  {
   "cell_type": "markdown",
   "id": "8278cbc1",
   "metadata": {},
   "source": [
    "Ejercicio 16\n",
    "\n",
    "Escribe un programa que tome una lista de números y que devuelva la media aritmética."
   ]
  },
  {
   "cell_type": "code",
   "execution_count": 199,
   "id": "bf5fd42b",
   "metadata": {},
   "outputs": [
    {
     "name": "stdout",
     "output_type": "stream",
     "text": [
      "the arithmetic mean is: 10.5\n"
     ]
    }
   ],
   "source": [
    "list1=[1,2,3,4,5,6,7,8,9,10,11,12,13,14,15,16,17,18,19,20]\n",
    "suma=sum(list1)\n",
    "number=len(list1)\n",
    "avg= suma/number\n",
    "print(\"the arithmetic mean is:\",avg )"
   ]
  },
  {
   "cell_type": "markdown",
   "id": "83d5b86d",
   "metadata": {},
   "source": [
    "Primero, se crea una lista con diferentes numeros.\n",
    "Segundo, se hace una suma de todos los numeros de la lista usando la funcion sum y se asgina al a variable suma.\n",
    "Tercero, se us la funcion len para encontrar el numero de valores encontrados en la lista.\n",
    "Cuarto, se realiza una operacion aritmetica para encontrar el promedio.\n",
    "Quinto, se utilia la funcion print para mostrar el promedio."
   ]
  },
  {
   "cell_type": "markdown",
   "id": "88d54099",
   "metadata": {},
   "source": [
    "Ejercicio 17\n",
    "\n",
    "Crea un programa que reciba dos números ingresados por el usuario y que devuelva su producto."
   ]
  },
  {
   "cell_type": "code",
   "execution_count": 200,
   "id": "4ddcd825",
   "metadata": {},
   "outputs": [
    {
     "name": "stdout",
     "output_type": "stream",
     "text": [
      "Please type your first number:2345\n",
      "Please type your second number:567\n",
      "The product of the numbers is 1329615\n"
     ]
    }
   ],
   "source": [
    "number1 = int(input(\"Please type your first number:\"))\n",
    "number2 = int(input(\"Please type your second number:\"))\n",
    "number3 = number1*number2\n",
    "print(\"The product of the numbers is\",number3)"
   ]
  },
  {
   "cell_type": "markdown",
   "id": "97a6fd0c",
   "metadata": {},
   "source": [
    "Primero, se asigna el primer numero a la variable number1.\n",
    "Segundo, se asigna el segundo numero a la variable number2.\n",
    "Tercero, se realiza la multiplicacion de los dos numeros asignados creando la variable number3.\n",
    "Cuarto, se utiliza la funcion print para mostrar el prodcuto de los dos numeros."
   ]
  },
  {
   "cell_type": "markdown",
   "id": "f59602d7",
   "metadata": {},
   "source": [
    "Ejercicio 18\n",
    "\n",
    "Escribe un programa que tome una lista de palabras y que devuelva una lista con todas las palabras en mayúsculas.\n"
   ]
  },
  {
   "cell_type": "code",
   "execution_count": 201,
   "id": "e6de3fbf",
   "metadata": {},
   "outputs": [
    {
     "name": "stdout",
     "output_type": "stream",
     "text": [
      "['SUN', 'MERCURY', 'VENUS', 'EARTH', 'MARS', 'JUPITER', 'SATURN', 'URANUS', 'NEPTUNE']\n"
     ]
    }
   ],
   "source": [
    "words = [\"sun\",\"mercury\",\"venus\",\"earth\",\"mars\",\"jupiter\",\"saturn\",\"uranus\",\"neptune\",]\n",
    "words1=[]\n",
    "for word in words:\n",
    "    words1.append(word.upper())\n",
    "print(words1)"
   ]
  },
  {
   "cell_type": "markdown",
   "id": "c5aac285",
   "metadata": {},
   "source": [
    "Primero, se crea la lista con differentes palabras(words).\n",
    "Segundo, se crea una lista vacia (words1).\n",
    "Tercero, se utiliza la funcion for para tomar cada palabra de la lista, cada palabra se anade a la lista words1 en letras capital.\n",
    "Cuarto, se utiliza la funcion print para mostrar la lista con las palabras en capital."
   ]
  },
  {
   "cell_type": "markdown",
   "id": "ed3110d9",
   "metadata": {},
   "source": [
    "Ejercicio 19\n",
    "\n",
    "Crea un programa que tome una lista de números y que devuelva la suma de aquellos que son mayores a un valor específico ingresado por el usuario."
   ]
  },
  {
   "cell_type": "code",
   "execution_count": 202,
   "id": "263f9a8f",
   "metadata": {},
   "outputs": [
    {
     "name": "stdout",
     "output_type": "stream",
     "text": [
      "Please type your number: 5\n",
      "40\n"
     ]
    }
   ],
   "source": [
    "numbers = [1,2,3,4,5,6,7,8,9,10]\n",
    "numbers1=[]\n",
    "x = int(input(\"Please type your number: \"))\n",
    "for i in numbers:\n",
    "    if i > x:\n",
    "        numbers1.append(i)\n",
    "sum_numbers = sum(numbers1)\n",
    "print(sum_numbers)\n"
   ]
  },
  {
   "cell_type": "markdown",
   "id": "5e1d4cff",
   "metadata": {},
   "source": [
    "Primero, se crea una lista con diferentes numeros (numbers).\n",
    "Segundo, se crea una lista vacia (numbers1).\n",
    "Tercero, se asigna un numero a la variable x.\n",
    "Cuarto, utilizando la funcion for con una condicion, se asignan los numeros mayores al valor asignado y se anaden a la lista numbers1.\n",
    "Quinto, se hace la suma de los valores de la lista numbers1.\n",
    "Sexto, se utiliza la funcion print para mostrar la suma de los valores."
   ]
  },
  {
   "cell_type": "markdown",
   "id": "8aec4e60",
   "metadata": {},
   "source": [
    "Ejercicio 20\n",
    "\n",
    "Escribe un programa que tome una cadena de texto y que devuelva una nueva cadena con todas las letras en mayúsculas excepto la primera letra de cada palabra, que debe ser en minúsculas."
   ]
  },
  {
   "cell_type": "code",
   "execution_count": 204,
   "id": "3eb099e1",
   "metadata": {},
   "outputs": [
    {
     "name": "stdout",
     "output_type": "stream",
     "text": [
      "tHE jOURNEY oF a tHOUSAND mILES bEGINS wITH oNE sTEP\n"
     ]
    }
   ],
   "source": [
    "phrase = \"The journey of a thousand miles begins with one step\"\n",
    "phrase1 = phrase.split(\" \")\n",
    "phrase2 =[]\n",
    "for word in phrase1:\n",
    "    phrase2.append(word[0].lower()+word[1:].upper())\n",
    "phrase3 = \" \".join(phrase2)\n",
    "print(phrase3)"
   ]
  },
  {
   "cell_type": "markdown",
   "id": "fe3b1c13",
   "metadata": {},
   "source": [
    "Primero, se crea una cadena de texto asginada a la variable phrase.\n",
    "Segundo, se divide la cadena de texto en palabras y se asignan a la variable phase2.\n",
    "Tercero, se crea una lista vacia en la variable phrase2.\n",
    "Cuarto, se utiliza la funcion for para anadir a la variable phrase2 las palabras con pirmera letra en minuscula y las demas en mayuscula.\n",
    "Quinto, se unen todas las palabras para crear una cadena de texto en la variable phrase3.\n",
    "Sexto, se utiliza la funcion print para mostrar la nueva cadea de texto modificada."
   ]
  }
 ],
 "metadata": {
  "kernelspec": {
   "display_name": "Python 3 (ipykernel)",
   "language": "python",
   "name": "python3"
  },
  "language_info": {
   "codemirror_mode": {
    "name": "ipython",
    "version": 3
   },
   "file_extension": ".py",
   "mimetype": "text/x-python",
   "name": "python",
   "nbconvert_exporter": "python",
   "pygments_lexer": "ipython3",
   "version": "3.10.9"
  }
 },
 "nbformat": 4,
 "nbformat_minor": 5
}
