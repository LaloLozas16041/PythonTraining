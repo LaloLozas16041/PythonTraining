{
 "cells": [
  {
   "cell_type": "markdown",
   "id": "aa2a7213",
   "metadata": {},
   "source": [
    "# TAREA SEMANA 1: FUNDAMENTOS DE PYTHON\n",
    "    \n",
    "### Nombre: Alfredo Ernesto Hernandez de Haro"
   ]
  },
  {
   "cell_type": "markdown",
   "id": "ddba997e",
   "metadata": {},
   "source": [
    "#### Ejercicio 1\n",
    "\n",
    "Crea un programa que tome un número ingresado por el usuario y determine si es par o impar."
   ]
  },
  {
   "cell_type": "code",
   "execution_count": 8,
   "id": "d35d1ec3",
   "metadata": {},
   "outputs": [
    {
     "name": "stdout",
     "output_type": "stream",
     "text": [
      "Ingresa un numero137\n",
      "El numero es impar\n"
     ]
    }
   ],
   "source": [
    "num=input(\"Ingresa un numero\")\n",
    "if int(num) % 2==0:\n",
    "    print(f\"El numero es par\")\n",
    "else:\n",
    "    print(f\"El numero es impar\")"
   ]
  },
  {
   "cell_type": "markdown",
   "id": "3bc25012",
   "metadata": {},
   "source": [
    "#### Explicacion:\n",
    "Obtuve un error en con la discrepancia de tipo de datos. Estaba recibiendo el numero como string al entrar a la condicion y por ello, utilice la funcion int para modificar el dato string a int."
   ]
  },
  {
   "cell_type": "markdown",
   "id": "a6f6a9b8",
   "metadata": {},
   "source": [
    "#### Ejercicio 2\n",
    "Escribe un programa que convierta una cadena de texto en mayúsculas."
   ]
  },
  {
   "cell_type": "code",
   "execution_count": 15,
   "id": "0194ec26",
   "metadata": {},
   "outputs": [
    {
     "name": "stdout",
     "output_type": "stream",
     "text": [
      "Escribe una cadena de texto:Hola\n",
      "HOLA\n"
     ]
    }
   ],
   "source": [
    "cadena=input(\"Escribe una cadena de texto:\")\n",
    "may_cadena=cadena.upper()\n",
    "print(may_cadena)"
   ]
  },
  {
   "cell_type": "markdown",
   "id": "fc4f05fd",
   "metadata": {},
   "source": [
    "#### Explicacion:\n",
    "Importante recordar que la funcion upper va despues de la variable."
   ]
  },
  {
   "cell_type": "markdown",
   "id": "ecb81456",
   "metadata": {},
   "source": [
    "#### Ejercicio 3\n",
    "Crea un programa que lea una cadena de texto ingresada por el usuario y que cuente cuántas veces aparece una letra específica en ella."
   ]
  },
  {
   "cell_type": "code",
   "execution_count": 19,
   "id": "53d2cc76",
   "metadata": {},
   "outputs": [
    {
     "name": "stdout",
     "output_type": "stream",
     "text": [
      "Escribe una cadena de texto:     yu\n",
      "Buscar letra: \n",
      "5\n"
     ]
    }
   ],
   "source": [
    "cadena=input(\"Escribe una cadena de texto:\")\n",
    "letra=input(\"Buscar letra:\")\n",
    "count=0\n",
    "for caracter in cadena:\n",
    "    if caracter==letra:\n",
    "        count=count+1\n",
    "    else:\n",
    "        pass\n",
    "print(count)"
   ]
  },
  {
   "cell_type": "markdown",
   "id": "268738a9",
   "metadata": {},
   "source": [
    "#### Explicacion:\n",
    "Utilice un ciclo for para recorrer cada letra dentro de la cadena y una variable (count) que cuente la letra que nos interesa contar."
   ]
  },
  {
   "cell_type": "markdown",
   "id": "27d98a7b",
   "metadata": {},
   "source": [
    "#### Ejercicio 4\n",
    "Escribe un programa que determine si un número es primo o no."
   ]
  },
  {
   "cell_type": "code",
   "execution_count": 8,
   "id": "78cc005c",
   "metadata": {},
   "outputs": [
    {
     "name": "stdout",
     "output_type": "stream",
     "text": [
      "Ingresa un numero: 4\n"
     ]
    }
   ],
   "source": [
    "numero=int(input(\"Ingresa un numero: \"))\n",
    "if numero==1 or numero==1:\n",
    "    print(\"No es un numero primo\")\n",
    "#else:\n",
    "    #for n in range(2,numero):\n",
    "        #if numero%n==0:\n",
    "           #valor=True\n",
    "        "
   ]
  },
  {
   "cell_type": "markdown",
   "id": "a008dd4d",
   "metadata": {},
   "source": [
    "#### Explicacion:\n",
    "Un numero primo es aquel que es divisible entre el mismo y el 1 dando un resultado entero de dicha division.\n",
    "Pendiente."
   ]
  },
  {
   "cell_type": "markdown",
   "id": "0954128a",
   "metadata": {},
   "source": [
    "#### Ejercicio 5\n",
    "Crea un programa que calcule el área de un triángulo a partir de la base y la altura ingresadas por el usuario."
   ]
  },
  {
   "cell_type": "code",
   "execution_count": 22,
   "id": "f4db4dd0",
   "metadata": {},
   "outputs": [
    {
     "name": "stdout",
     "output_type": "stream",
     "text": [
      "Ingresa la base: 4\n",
      "Ingresa la altura: 2\n"
     ]
    },
    {
     "data": {
      "text/plain": [
       "4.0"
      ]
     },
     "execution_count": 22,
     "metadata": {},
     "output_type": "execute_result"
    }
   ],
   "source": [
    "def area(base,altura):\n",
    "    return (base*altura)/2\n",
    "\n",
    "base=int(input(\"Ingresa la base: \"))\n",
    "altura=int(input(\"Ingresa la altura: \"))\n",
    "\n",
    "area(base,altura)"
   ]
  },
  {
   "cell_type": "markdown",
   "id": "5c587132",
   "metadata": {},
   "source": [
    "#### Explicacion:\n",
    "Implemente una funcion que recibe los parametros de base, altura. Importante recordar que tenemos que llamar a la funcion en el cuerpo del programa y brindarle los parametros de entrada."
   ]
  },
  {
   "cell_type": "markdown",
   "id": "5fc7a5a7",
   "metadata": {},
   "source": [
    "#### Ejercicio 6\n",
    "Escribe un programa que tome una lista de números y devuelva la suma de todos ellos."
   ]
  },
  {
   "cell_type": "code",
   "execution_count": 32,
   "id": "e40a02d5",
   "metadata": {},
   "outputs": [
    {
     "name": "stdout",
     "output_type": "stream",
     "text": [
      "45\n"
     ]
    }
   ],
   "source": [
    "lista_num=[1,3,4,5,6,7,8,9,2]\n",
    "suma=0\n",
    "for numero in lista_num:\n",
    "    suma=suma+numero\n",
    "print(suma)"
   ]
  },
  {
   "cell_type": "markdown",
   "id": "b47c8c02",
   "metadata": {},
   "source": [
    "#### Explicacion:\n",
    "Utilice un ciclo for para recorrer la lista. Al principio tuve problemas para identificar que valor representaba la variable numero en mi ciclo for. En este caso, la variable numero es el valor de cada posicion dentro de la lista, por lo que puedo usarla para sumar acumulutativamente en la variable suma."
   ]
  },
  {
   "cell_type": "markdown",
   "id": "379d0c91",
   "metadata": {},
   "source": [
    "#### Ejercicio 7\n",
    "Crea un programa que reciba una lista de nombres y que imprima solo aquellos que comiencen con una letra específica dada por el usuario.\n"
   ]
  },
  {
   "cell_type": "code",
   "execution_count": 13,
   "id": "61d98cfa",
   "metadata": {},
   "outputs": [
    {
     "name": "stdout",
     "output_type": "stream",
     "text": [
      "Ingrese letra: a\n",
      "Arcangel\n",
      "Ana\n"
     ]
    }
   ],
   "source": [
    "lista_nombres=[\"Arcangel\",\"Gabriel\",\"Ana\", \"Raul\"]\n",
    "letra_usu=input(\"Ingrese letra: \")\n",
    "letra_usu=letra_usu.upper()\n",
    "for persona in lista_nombres:\n",
    "    if (persona[0]==letra_usu):\n",
    "        print(persona)"
   ]
  },
  {
   "cell_type": "markdown",
   "id": "c0f7e7f2",
   "metadata": {},
   "source": [
    "#### Explicacion:\n",
    "Recorri la lista por medio de un ciclo for y tenia la duda si podia hacer string slicing con cada uno de los elementos de la lista. La respuesta es que si se puede y gracias a ello puedo comparar la primera letra con la letra del usuario."
   ]
  },
  {
   "cell_type": "markdown",
   "id": "79446656",
   "metadata": {},
   "source": [
    "#### Ejercicio 8\n",
    "Escribe un programa que determine si una cadena de texto es un palíndromo o no."
   ]
  },
  {
   "cell_type": "code",
   "execution_count": 5,
   "id": "ac5c2cf4",
   "metadata": {
    "scrolled": true
   },
   "outputs": [
    {
     "name": "stdout",
     "output_type": "stream",
     "text": [
      "Es palindromo\n"
     ]
    }
   ],
   "source": [
    "palabra=\"abccba\"\n",
    "if palabra==palabra[::-1]:\n",
    "    print(f\"Es palindromo\")\n",
    "else:\n",
    "     print(f\"No es palindromo\")"
   ]
  },
  {
   "cell_type": "markdown",
   "id": "9f430249",
   "metadata": {},
   "source": [
    "#### Explicacion:\n",
    "Podemos usar string slicing para recorrer la palabra desde el final al inicio por medio de un step negativo de -1."
   ]
  },
  {
   "cell_type": "markdown",
   "id": "2c85dabe",
   "metadata": {},
   "source": [
    "#### Ejercicio 9\n",
    "Crea un programa que tome una lista de números y elimine todos los duplicados."
   ]
  },
  {
   "cell_type": "code",
   "execution_count": 14,
   "id": "9aab1e92",
   "metadata": {},
   "outputs": [
    {
     "name": "stdout",
     "output_type": "stream",
     "text": [
      "[1, 2, 4, 67, 53, 3]\n"
     ]
    }
   ],
   "source": [
    "list_num=[1,2,4,67,53,1,2,3,4]\n",
    "list_unica=[]\n",
    "for numero in list_num:\n",
    "    if numero not in list_unica:\n",
    "        list_unica.append(numero)\n",
    "print(list_unica)"
   ]
  },
  {
   "cell_type": "markdown",
   "id": "707ce10a",
   "metadata": {},
   "source": [
    "#### Explicacion:\n",
    "Se crea una lista vacia que por medio de la condicion if detecta si el numero ya existe o no en dicha lista nueva. Si existe, ya no lo agrega (funcion append)."
   ]
  },
  {
   "cell_type": "markdown",
   "id": "45e534e2",
   "metadata": {},
   "source": [
    "#### Ejercicio 10\n",
    "Escribe un programa que tome una lista de números y devuelva el valor máximo."
   ]
  },
  {
   "cell_type": "code",
   "execution_count": 18,
   "id": "9f36c336",
   "metadata": {},
   "outputs": [
    {
     "name": "stdout",
     "output_type": "stream",
     "text": [
      "67\n"
     ]
    }
   ],
   "source": [
    "list_num=[1,2,4,67,53,1,2,3,4]\n",
    "max_val=list_num[0]\n",
    "for numero in list_num:\n",
    "    if numero>max_val:\n",
    "        max_val=numero\n",
    "print(max_val)"
   ]
  },
  {
   "cell_type": "markdown",
   "id": "633a47bf",
   "metadata": {},
   "source": [
    "#### Explicacion:\n",
    "La variable max_val toma un valor inicial equivalente al primer elemento de la lista. Ciclo for para leer cada uno de los elementos de la lista y agrega una condicion donde si el numero recorrido es mayor a max_val, max_val toma su valor."
   ]
  },
  {
   "cell_type": "markdown",
   "id": "0ea8b900",
   "metadata": {},
   "source": [
    "#### Ejercicio 11\n",
    "Crea un programa que solicite al usuario su edad y que determine en que etapa de la vida se encuentra:\n",
    "Primera Infancia (0-5 años)\n",
    "Infancia (6 - 11 años)\n",
    "Adolescencia (12 - 18 años)\n",
    "Juventud (14 - 26 años)\n",
    "Adultez (27- 59 años)\n",
    "Persona Mayor (60 años o más).\n"
   ]
  },
  {
   "cell_type": "code",
   "execution_count": 22,
   "id": "0a6ca829",
   "metadata": {},
   "outputs": [
    {
     "name": "stdout",
     "output_type": "stream",
     "text": [
      "Proporcione su edad: 11\n",
      "Infancia\n"
     ]
    }
   ],
   "source": [
    "edad=int(input(\"Proporcione su edad: \"))\n",
    "if edad<6:\n",
    "    print(\"Primera infancia\")\n",
    "elif (6 <= edad <12):\n",
    "    print(\"Infancia\")\n",
    "elif (12 <= edad <19):\n",
    "    print(\"Adolescencia\")\n",
    "elif (19 <= edad <27):\n",
    "    print(\"Juventud\")\n",
    "elif (27 <= edad <60):\n",
    "    print(\"Adultez\")\n",
    "else:\n",
    "    print(\"Persona Mayor\")\n",
    "    "
   ]
  },
  {
   "cell_type": "markdown",
   "id": "bc21bde0",
   "metadata": {},
   "source": [
    "#### Explicacion:\n",
    "Por medio de varios if's podemos interponer condiciones de acuerdo a la edad del usuario."
   ]
  },
  {
   "cell_type": "markdown",
   "id": "ce2d78db",
   "metadata": {},
   "source": [
    "#### Ejercicio 12\n",
    "Escribe un programa que tome una cadena de texto y que la divida en palabras, eliminando los espacios en blanco."
   ]
  },
  {
   "cell_type": "code",
   "execution_count": 28,
   "id": "e9291445",
   "metadata": {},
   "outputs": [
    {
     "name": "stdout",
     "output_type": "stream",
     "text": [
      "['Me', 'gusta', 'tomar', 'el', 'sol']\n"
     ]
    }
   ],
   "source": [
    "cadena=\"Me gusta tomar el sol\"\n",
    "x=cadena.split()\n",
    "print(x)"
   ]
  },
  {
   "cell_type": "markdown",
   "id": "e96c1407",
   "metadata": {},
   "source": [
    "#### Explicacion:\n",
    "La funcion split nos permita separar el string de acuerdo al parametro recibido. No se proporciona parametro, por lo tanto, se entiende que se eliminan los espacios (\" \")."
   ]
  },
  {
   "cell_type": "markdown",
   "id": "0309e0a9",
   "metadata": {},
   "source": [
    "#### Ejercicio 13\n",
    "Crea un programa que tome dos listas de números y que devuelva una tercera lista con los elementos comunes a ambas.\n"
   ]
  },
  {
   "cell_type": "code",
   "execution_count": 38,
   "id": "838867eb",
   "metadata": {},
   "outputs": [
    {
     "name": "stdout",
     "output_type": "stream",
     "text": [
      "[1, 4, 7]\n"
     ]
    }
   ],
   "source": [
    "A=[1,2,4,3,6,7]\n",
    "B=[1,4,5,7,8,9]\n",
    "C=set(A) & set(B)\n",
    "print(list(C))"
   ]
  },
  {
   "cell_type": "markdown",
   "id": "4eceab76",
   "metadata": {},
   "source": [
    "#### Explicacion:\n",
    "Transformamos ambas listas a un conjunto y por medio del caracter & podemos hacer la interseccion de ambos conjuntos."
   ]
  },
  {
   "cell_type": "markdown",
   "id": "92381331",
   "metadata": {},
   "source": [
    "#### Ejercicio 14\n",
    "Escribe un programa que tome una cadena de texto y que cuente cuántas palabras hay en ella."
   ]
  },
  {
   "cell_type": "code",
   "execution_count": 42,
   "id": "3a07fc6f",
   "metadata": {},
   "outputs": [
    {
     "name": "stdout",
     "output_type": "stream",
     "text": [
      "4\n"
     ]
    }
   ],
   "source": [
    "mi_cadena=\"Bienvenidos a mi casa\"\n",
    "x=mi_cadena.split()\n",
    "print(len(x))"
   ]
  },
  {
   "cell_type": "markdown",
   "id": "96d3dad5",
   "metadata": {},
   "source": [
    "#### Explicacion:\n",
    "Por medio de la funcion split separamos la cadena en espacios y posteriormente obtenemos cuantos elementos tiene la lista x."
   ]
  },
  {
   "cell_type": "markdown",
   "id": "71d70649",
   "metadata": {},
   "source": [
    "#### Ejercicio 15\n",
    "Crea un programa que calcule el área de un círculo a partir del radio ingresado por el usuario."
   ]
  },
  {
   "cell_type": "code",
   "execution_count": 3,
   "id": "67375fc0",
   "metadata": {},
   "outputs": [
    {
     "name": "stdout",
     "output_type": "stream",
     "text": [
      "Proporciona el valor del radio: 5\n",
      "78.53981633974483\n"
     ]
    }
   ],
   "source": [
    "import math\n",
    "radio=int(input(\"Proporciona el valor del radio: \"))\n",
    "area= math.pi*(radio**2)\n",
    "print(area)"
   ]
  },
  {
   "cell_type": "markdown",
   "id": "cc7bc1d7",
   "metadata": {},
   "source": [
    "#### Explicacion:\n",
    "Importamos la libreria math para usar el valor exacto de pi y el uso de doble asterisco para indicar potencia. La formula para obtener el area del circulo es A=pi*r^2."
   ]
  },
  {
   "cell_type": "markdown",
   "id": "293d96f1",
   "metadata": {},
   "source": [
    "#### Ejercicio 16\n",
    "Escribe un programa que tome una lista de números y que devuelva la media aritmética."
   ]
  },
  {
   "cell_type": "code",
   "execution_count": 5,
   "id": "4fdf2101",
   "metadata": {},
   "outputs": [
    {
     "name": "stdout",
     "output_type": "stream",
     "text": [
      "4.833333333333333\n"
     ]
    }
   ],
   "source": [
    "list_num=[1,4,5,7,8,4]\n",
    "suma=0\n",
    "for element in list_num:\n",
    "    suma=suma+element\n",
    "prom=suma/(len(list_num))\n",
    "print(prom)"
   ]
  },
  {
   "cell_type": "markdown",
   "id": "c240465b",
   "metadata": {},
   "source": [
    "#### Explicacion: \n",
    "Ciclo for para recorrer cada uno de los elementos en la lista y obtener una suma acumulativa en la variable suma. Posteriormente, obtener el promedio por medio del valor de la variable suma dividido entre la longitud de la lista inicial."
   ]
  },
  {
   "cell_type": "markdown",
   "id": "7c3e1e96",
   "metadata": {},
   "source": [
    "#### Ejercicio 17\n",
    "Crea un programa que reciba dos números ingresados por el usuario y que devuelva su producto."
   ]
  },
  {
   "cell_type": "code",
   "execution_count": 8,
   "id": "8b63c827",
   "metadata": {},
   "outputs": [
    {
     "name": "stdout",
     "output_type": "stream",
     "text": [
      "Dame un numero: 3\n",
      "Dame otro numero: 2\n",
      "6\n"
     ]
    }
   ],
   "source": [
    "num1=int(input(\"Dame un numero: \"))\n",
    "num2=int(input(\"Dame otro numero: \"))\n",
    "producto=num1*num2\n",
    "print(producto)"
   ]
  },
  {
   "cell_type": "markdown",
   "id": "5490b033",
   "metadata": {},
   "source": [
    "#### Explicacion:\n",
    "Convertir entradas a int y posteriormente multiplicar."
   ]
  },
  {
   "cell_type": "markdown",
   "id": "ca733b45",
   "metadata": {},
   "source": [
    "#### Ejercicio 18\n",
    "Escribe un programa que tome una lista de palabras y que devuelva una lista con todas las palabras en mayúsculas."
   ]
  },
  {
   "cell_type": "code",
   "execution_count": 11,
   "id": "c48e66b7",
   "metadata": {},
   "outputs": [
    {
     "name": "stdout",
     "output_type": "stream",
     "text": [
      "['HOLA', 'BONJOUR', 'HELLO', 'ARIGATO', 'HI']\n"
     ]
    }
   ],
   "source": [
    "palabras=[\"Hola\",\"Bonjour\",\"Hello\",\"Arigato\",\"Hi\"]\n",
    "may_palabras=[palabra.upper() for palabra in palabras]\n",
    "print(may_palabras)"
   ]
  },
  {
   "cell_type": "markdown",
   "id": "e8de04c7",
   "metadata": {},
   "source": [
    "#### Explicacion:\n",
    "Defini una nueva lista (may_palabras) que por cada palabra recorrida dentro la lista original se convierte a mayuscula por la funcion upper."
   ]
  },
  {
   "cell_type": "markdown",
   "id": "71c65148",
   "metadata": {},
   "source": [
    "#### Ejercicio 19\n",
    "Crea un programa que tome una lista de números y que devuelva la suma de aquellos que son mayores a un valor específico ingresado por el usuario.\n"
   ]
  },
  {
   "cell_type": "code",
   "execution_count": 2,
   "id": "66a84bfa",
   "metadata": {},
   "outputs": [
    {
     "name": "stdout",
     "output_type": "stream",
     "text": [
      "A partir de este valor, se sumaran los numeros que solo sean mayores: 5\n",
      "25\n"
     ]
    }
   ],
   "source": [
    "lista_numer=[2,3,5,6,8,11]\n",
    "valor=int(input(\"A partir de este valor, se sumaran los numeros que solo sean mayores: \"))\n",
    "suma_clas=0\n",
    "for numero in lista_numer:\n",
    "    if numero > valor:\n",
    "        suma_clas=suma_clas+numero\n",
    "print(suma_clas)"
   ]
  },
  {
   "cell_type": "markdown",
   "id": "e40c6f2e",
   "metadata": {},
   "source": [
    "#### Explicacion:\n",
    "Por medio de un ciclo for recorrer los elementos de la lista. El valor proporcionado por el usuario es parte de mi condicion para discriminar que valores se encuentran por encima de dicho valor."
   ]
  },
  {
   "cell_type": "markdown",
   "id": "133a5ca1",
   "metadata": {},
   "source": [
    "#### Ejercicio 20\n",
    "Escribe un programa que tome una cadena de texto y que devuelva una nueva cadena con todas las letras en mayúsculas excepto la primera letra de cada palabra, que debe ser en minúsculas."
   ]
  },
  {
   "cell_type": "code",
   "execution_count": 7,
   "id": "480de870",
   "metadata": {},
   "outputs": [],
   "source": [
    "my_string=\"Hoy ha sido un dia muy caluroso\"\n",
    "#my_list=list(my_string)\n",
    "#print(my_list)\n"
   ]
  },
  {
   "cell_type": "markdown",
   "id": "3d7ae238",
   "metadata": {},
   "source": [
    "#### Explicacion:"
   ]
  },
  {
   "cell_type": "code",
   "execution_count": null,
   "id": "037fb779",
   "metadata": {},
   "outputs": [],
   "source": [
    "Pendiente"
   ]
  }
 ],
 "metadata": {
  "kernelspec": {
   "display_name": "Python 3 (ipykernel)",
   "language": "python",
   "name": "python3"
  },
  "language_info": {
   "codemirror_mode": {
    "name": "ipython",
    "version": 3
   },
   "file_extension": ".py",
   "mimetype": "text/x-python",
   "name": "python",
   "nbconvert_exporter": "python",
   "pygments_lexer": "ipython3",
   "version": "3.9.13"
  }
 },
 "nbformat": 4,
 "nbformat_minor": 5
}
