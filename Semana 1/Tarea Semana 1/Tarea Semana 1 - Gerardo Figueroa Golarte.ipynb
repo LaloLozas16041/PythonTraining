{
 "cells": [
  {
   "cell_type": "markdown",
   "id": "9b777eb7",
   "metadata": {},
   "source": [
    "# TAREA SEMANA 1 : FUNDAMENTOS DE PYTHON\n",
    "## Nombre : Gerardo Figueroa Golarte"
   ]
  },
  {
   "cell_type": "markdown",
   "id": "fa5b6cdd",
   "metadata": {},
   "source": [
    "### Ejercicio 1\n",
    "#### Crea un programa que tome un número ingresado por el usuario y determine si es par o impar."
   ]
  },
  {
   "cell_type": "code",
   "execution_count": 22,
   "id": "0570112f",
   "metadata": {},
   "outputs": [
    {
     "name": "stdout",
     "output_type": "stream",
     "text": [
      "Odd or Pair? 3\n",
      "3 is an odd number\n"
     ]
    }
   ],
   "source": [
    "number = input(\"Odd or Pair? \")\n",
    "if number.isnumeric() == True:\n",
    "    number = (int(number))\n",
    "    if number % 2 == 0:\n",
    "        print (number,\"is a pair number\")\n",
    "    elif number % 2 == 1:\n",
    "        print (number,\"is an odd number\")\n",
    "else:\n",
    "    print(\"Please introduce a whole number\")"
   ]
  },
  {
   "cell_type": "markdown",
   "id": "28ec8eee",
   "metadata": {},
   "source": [
    "#### **Explicación**:\n",
    "#### En este ejercicio tuve dificultad al inicio ya que pensé que el input sería automáticamente detectado como integer pero se quedaba registrado como string. Pensé en solucionarlo y aplique la función \"int()\" a la variable \"number\" en las claúsulas de \"if\". Luego pensé que sería más sencillo aplicarla desde el inicio al asignarle el input a la variable. También quería que imprimiera otro mensaje si el input no era numero y revisé si había manera de tomar input de manera más flexible pero no encontré. Así que solo use un \"if\" para detectar si el string era númerico y ya convertirlo a integer y lo demás normal. Desde el inicio se me ocurrió usar el modulo % para saber si un numero era impar o par ya que así me lo enseñaron en la primaria."
   ]
  },
  {
   "cell_type": "markdown",
   "id": "b13a4541",
   "metadata": {},
   "source": [
    "### Ejercicio 2\n",
    "#### Escribe un programa que convierta una cadena de texto en mayúsculas."
   ]
  },
  {
   "cell_type": "code",
   "execution_count": 17,
   "id": "48adb29e",
   "metadata": {},
   "outputs": [
    {
     "name": "stdout",
     "output_type": "stream",
     "text": [
      "Type a word or random letters to capitalize: hallo\n",
      "HALLO\n"
     ]
    }
   ],
   "source": [
    "chain = input(\"Type a word or random letters to capitalize: \")\n",
    "if chain.isalpha() == False:\n",
    "    print(\"Letters only\")\n",
    "else:\n",
    "    print(chain.upper())"
   ]
  },
  {
   "cell_type": "markdown",
   "id": "a201fe4e",
   "metadata": {},
   "source": [
    "#### **Explicación**:\n",
    "#### En este ejercicio, recordé que hay una función que convierte las letras minúsculas a mayúsculas y la fui a buscar. Le añadí un \"if\" para diferenciar letras de otros símbolos. Directamente en el print utilicé la función upper() para convertir el input en mayúsculas."
   ]
  },
  {
   "cell_type": "markdown",
   "id": "c38d57cb",
   "metadata": {},
   "source": [
    "### Ejercicio 3\n",
    "#### Crea un programa que lea una cadena de texto ingresada por el usuario y que cuente cuántas veces aparece una letra específica en ella."
   ]
  },
  {
   "cell_type": "code",
   "execution_count": 3,
   "id": "40a343d4",
   "metadata": {},
   "outputs": [
    {
     "name": "stdout",
     "output_type": "stream",
     "text": [
      "Ingresa muchas letras con repeticiones: asdasdasdad\n",
      "¿Cuál letra quieres saber cuántas veces se repite? a\n",
      "4\n"
     ]
    }
   ],
   "source": [
    "repchain = input(\"Ingresa muchas letras con repeticiones: \")\n",
    "repletter = input(\"¿Cuál letra quieres saber cuántas veces se repite? \")\n",
    "count = 0\n",
    "for i in repchain:\n",
    "    if i == repletter:\n",
    "        count += 1\n",
    "print(count)"
   ]
  },
  {
   "cell_type": "markdown",
   "id": "9ec2c7b3",
   "metadata": {},
   "source": [
    "#### **Explicación**:\n",
    "#### - Pedí input para la cadena de texto (repchain).\n",
    "#### - Pedí input para la letra que se debe contar (repletra).\n",
    "#### - Le asigné 0 a una variable para contar en ella la letra (count)\n",
    "#### - Establecí un for loop con la cadena ingresada y la condición para que contara si la letra era igual a la del input.\n",
    "\n",
    "#### Es la primera vez que hago un loop por mi cuenta, me ayudé con el video en el documento de la sección 4. La verdad no he entendido completamente o no he terminado de asimilarlo."
   ]
  },
  {
   "cell_type": "markdown",
   "id": "5b0bad52",
   "metadata": {},
   "source": [
    "### Ejercicio 4\n",
    "#### Escribe un programa que determine si un número es primo o no."
   ]
  },
  {
   "cell_type": "code",
   "execution_count": 15,
   "id": "9452a9c4",
   "metadata": {},
   "outputs": [
    {
     "name": "stdout",
     "output_type": "stream",
     "text": [
      "Enter a number: 15\n",
      "15 is not a prime number\n"
     ]
    }
   ],
   "source": [
    "prime_number = input(\"Enter a number: \")\n",
    "\n",
    "if prime_number.isnumeric() == True:\n",
    "    prime_number = (int(prime_number))\n",
    "    prime_minus_one = (prime_number - 1)\n",
    "  \n",
    "    for i in range(2, prime_minus_one):\n",
    "        if prime_number % i == 0:\n",
    "                print(prime_number, \"is not a prime number\")\n",
    "                break\n",
    "    else:\n",
    "        print(prime_number, \"is a prime number\")\n",
    "else:\n",
    "    print(\"Please type in a whole number.\")"
   ]
  },
  {
   "cell_type": "markdown",
   "id": "eeae95bc",
   "metadata": {},
   "source": [
    "#### ****Explicación****   \n",
    "#### Pedí input. Verifiqué que fuera numérico. Asigné a una variable un valor menor por uno al input. Abrí un loop para verificar que el residuo del input dividido por cualquier numero menor empezando por el dos no fuera cero. Si el residuo de alguna división que no sea uno ni el mismo número es cero, el número no es primo. Si ninguna división deja residuo de cero, es un número primo."
   ]
  },
  {
   "cell_type": "markdown",
   "id": "3e7ab631",
   "metadata": {},
   "source": [
    "### Ejercicio 5\n",
    "#### Crea un programa que calcule el área de un triángulo a partir de la base y la altura ingresadas por el usuario."
   ]
  },
  {
   "cell_type": "code",
   "execution_count": 24,
   "id": "96b8e517",
   "metadata": {},
   "outputs": [
    {
     "name": "stdout",
     "output_type": "stream",
     "text": [
      "Enter triangle height: 3\n",
      "Enter triangle base width: 5\n",
      "The triangle's area is 7.5\n"
     ]
    }
   ],
   "source": [
    "height = input(\"Enter triangle height: \")\n",
    "base = input (\"Enter triangle base width: \")\n",
    "if height.isnumeric() == True and base.isnumeric() == True:\n",
    "    height = int(height)\n",
    "    base = int (base)\n",
    "    print(\"The triangle's area is\",(height * base) / 2)\n",
    "else:\n",
    "    print(\"Please enter numbers\")"
   ]
  },
  {
   "cell_type": "markdown",
   "id": "384da018",
   "metadata": {},
   "source": [
    "#### **Explicación**:\n",
    "#### Aquí solo me enfoqué en definir las dos variables, verificar que sean numéricas y hacer la operación correspondiente (base por altura entre 2)."
   ]
  },
  {
   "cell_type": "markdown",
   "id": "ddf40b1a",
   "metadata": {},
   "source": [
    "### Ejercicio 6\n",
    "#### Escribe un programa que tome una lista de números y devuelva la suma de todos ellos."
   ]
  },
  {
   "cell_type": "code",
   "execution_count": null,
   "id": "4d480ba2",
   "metadata": {},
   "outputs": [],
   "source": [
    "numberlist = list(map(int, input(\"Give me your numbers: \").split()))\n",
    "suma = 0\n",
    "for i in numberlist:\n",
    "    suma += int(i)\n",
    "print(suma)    "
   ]
  },
  {
   "cell_type": "markdown",
   "id": "0512b090",
   "metadata": {},
   "source": [
    "#### **Explicación**:\n",
    "#### Aprendí a ingresar listas de número para poder hacer sumas de números de un dígito. Aquí abrí un loop para que cada número del input se sumara a la  variable \"suma\"."
   ]
  },
  {
   "cell_type": "markdown",
   "id": "34243550",
   "metadata": {},
   "source": [
    "### Ejercicio 7\n",
    "#### Crea un programa que reciba una lista de nombres y que imprima solo aquellos que comiencen con una letra específica dada por el usuario."
   ]
  },
  {
   "cell_type": "code",
   "execution_count": 26,
   "id": "e677e038",
   "metadata": {},
   "outputs": [
    {
     "name": "stdout",
     "output_type": "stream",
     "text": [
      "Enter names: gerardo gael ruben\n",
      "Enter a letter: g\n",
      "gerardo\n",
      "gael\n"
     ]
    }
   ],
   "source": [
    "name_list = list(map(str, input(\"Enter names: \").split()))\n",
    "                \n",
    "initial_letter = input(\"Enter a letter: \")\n",
    "\n",
    "for i in name_list:\n",
    "    if i[0] == initial_letter:\n",
    "        print(i)        "
   ]
  },
  {
   "cell_type": "markdown",
   "id": "80d309d9",
   "metadata": {},
   "source": [
    "#### **Explicación**:\n",
    "#### En este ejercicio pedí de input varios nombres. También pedí una letra de input para usarla para seleccionar nombres que inicien con esta. Abrí un loop para que se imprimiera cada nombre cuya letra inicial sea igual a la letra del input. "
   ]
  },
  {
   "cell_type": "markdown",
   "id": "8ad42428",
   "metadata": {},
   "source": [
    "### Ejercicio 8\n",
    "#### Escribe un programa que determine si una cadena de texto es un palíndromo o no."
   ]
  },
  {
   "cell_type": "code",
   "execution_count": null,
   "id": "0a83fd5f",
   "metadata": {},
   "outputs": [],
   "source": [
    "palin = input(\"Ingrese una palabra para verificar si es un palíndromo: \")\n",
    "nilap = palin[::-1]\n",
    "print(palin == nilap)"
   ]
  },
  {
   "cell_type": "markdown",
   "id": "ad3bc693",
   "metadata": {},
   "source": [
    "#### **Explicación**:\n",
    "#### Pedí una palabra de input y la asigné a la variable \"palin\". A esta variable le apliqué el split en reversa con el -1 en la tercer posición para que me diera su valor al revés y se asignó a la variable \"nilap\". Comparé el valor de ambias variables y si es igual, se imprime True."
   ]
  },
  {
   "cell_type": "markdown",
   "id": "85150969",
   "metadata": {},
   "source": [
    "### Ejercicio 9\n",
    "#### Crea un programa que tome una lista de números y elimine todos los duplicados."
   ]
  },
  {
   "cell_type": "code",
   "execution_count": 17,
   "id": "846002e1",
   "metadata": {},
   "outputs": [
    {
     "name": "stdout",
     "output_type": "stream",
     "text": [
      "Type numbers and repeat some: 1 2 2 3\n",
      "['1', '3', '2']\n"
     ]
    }
   ],
   "source": [
    "numberlist9 = list(map(str, input(\"Type numbers and repeat some: \").split()))\n",
    "numberlist9 = set(numberlist9)\n",
    "numberlist9 = list(numberlist9)\n",
    "print(numberlist9)"
   ]
  },
  {
   "cell_type": "markdown",
   "id": "50d22a8f",
   "metadata": {},
   "source": [
    "#### **Explicación**:\n",
    "#### Pedí el input y lo convertí a lista. Convertí la variable donde lo guardé en un conjunto para eliminar valores repetidos. Imprimí el conjunto."
   ]
  },
  {
   "cell_type": "markdown",
   "id": "8b418617",
   "metadata": {},
   "source": [
    "### Ejercicio 10\n",
    "#### Escribe un programa que tome una lista de números y devuelva el valor máximo."
   ]
  },
  {
   "cell_type": "code",
   "execution_count": 1,
   "id": "eaca2fd8",
   "metadata": {},
   "outputs": [
    {
     "name": "stdout",
     "output_type": "stream",
     "text": [
      "ingrese sus números: 4 5 6 20\n",
      "El valor máximo es 20\n"
     ]
    }
   ],
   "source": [
    "numlistmax = list(map(int, input(\"ingrese sus números: \").split()))\n",
    "maxvalue = numlistmax[0]\n",
    "\n",
    "\"\"\"for i in numlistmax:\n",
    "    if i > maxvalue:\n",
    "        maxvalue = i\n",
    "        print(maxvalue)\"\"\"\n",
    "        \n",
    "print(\"El valor máximo es\", max(numlistmax))"
   ]
  },
  {
   "cell_type": "markdown",
   "id": "63ff1c0a",
   "metadata": {},
   "source": [
    "#### **Explicación**:\n",
    "#### Traté de usar un loop para comparar cada valor del string con los demás pero no funcionó. Encontré una función que te da el valor máximo directamente. "
   ]
  },
  {
   "cell_type": "markdown",
   "id": "343cdf7d",
   "metadata": {},
   "source": [
    "### Ejercicio 11\n",
    "#### Crea un programa que solicite al usuario su edad y que determine en que etapa de la vida se encuentra:\n",
    "#### Primera Infancia (0-5 años)\n",
    "#### Infancia (6 - 11 años)\n",
    "#### Adolescencia (12 - 18 años)\n",
    "#### Juventud (14 - 26 años)\n",
    "#### Adultez (27- 59 años)\n",
    "#### Persona Mayor (60 años o más)."
   ]
  },
  {
   "cell_type": "code",
   "execution_count": 26,
   "id": "f96e069f",
   "metadata": {},
   "outputs": [
    {
     "name": "stdout",
     "output_type": "stream",
     "text": [
      "Si me dices tu edad, te digo en qué etapa de la vida te encuentras 18\n",
      "Te encuentras en la Adolescencia\n"
     ]
    }
   ],
   "source": [
    "age = input(\"Si me dices tu edad, te digo en qué etapa de la vida te encuentras \")\n",
    "if age.isnumeric() == True:\n",
    "    age = int(age)\n",
    "    if age >= 0 and age < 6:\n",
    "        print(\"Te encuentras en la Primera Infancia\")\n",
    "    elif 5 < age < 12:\n",
    "        print(\"Te encuentras en la Infancia\")\n",
    "    elif 11 < age < 19:\n",
    "        print(\"Te encuentras en la Adolescencia\")\n",
    "    elif 18 < age < 27:\n",
    "        print(\"Te encuentras en la Juventud\")\n",
    "    elif 26 < age < 60:\n",
    "        print(\"Te encuentras en la Adultez\")\n",
    "    elif age > 59:\n",
    "        print(\"Eres una Persona Mayor\")\n",
    "else:\n",
    "    print(\"Type a real age\")"
   ]
  },
  {
   "cell_type": "markdown",
   "id": "805c3298",
   "metadata": {},
   "source": [
    "#### **Explicación**: #### Asigné el input a una variable y verifiqué que el input fuera númerico. Después, con los símbolos \"menor que\" y \"mayor que\" me aseguré de imprimir la clasificación correspondiente a cada rango de edad."
   ]
  },
  {
   "cell_type": "markdown",
   "id": "b1ef15cf",
   "metadata": {},
   "source": [
    "### Ejercicio 12\n",
    "#### Escribe un programa que tome una cadena de texto y que la divida en palabras, eliminando los espacios en blanco"
   ]
  },
  {
   "cell_type": "code",
   "execution_count": 1,
   "id": "3c6babcd",
   "metadata": {},
   "outputs": [
    {
     "name": "stdout",
     "output_type": "stream",
     "text": [
      "Ingrese su cadena de texto: hola señor como esta\n",
      "hola\n",
      "señor\n",
      "como\n",
      "esta\n"
     ]
    }
   ],
   "source": [
    "txtchain = list(map(str, input(\"Ingrese su cadena de texto: \").split()))\n",
    "\n",
    "for i in txtchain:\n",
    "    print(i)"
   ]
  },
  {
   "cell_type": "markdown",
   "id": "e9953769",
   "metadata": {},
   "source": [
    "#### **Explicación**:\n",
    "#### Me pareció una indicación ambigua, no estaba seguro de lo que debía hacer. Opté por tomar un input en formato de lista e imprimir cada uno de sus elementos uno por uno con un loop."
   ]
  },
  {
   "cell_type": "markdown",
   "id": "8d065a8d",
   "metadata": {},
   "source": [
    "### Ejercicio 13\n",
    "#### Crea un programa que tome dos listas de números y que devuelva una tercera lista con los elementos comunes a ambas."
   ]
  },
  {
   "cell_type": "code",
   "execution_count": 19,
   "id": "0b96b8e9",
   "metadata": {},
   "outputs": [
    {
     "name": "stdout",
     "output_type": "stream",
     "text": [
      "Ingresa un conjunto:Gerardo\n",
      "Ingresa otro conjunto: Genaro\n",
      "{'a', 'e', 'o', 'r', 'G'}\n"
     ]
    }
   ],
   "source": [
    "conjunto1 = set(input(\"Ingresa un conjunto:\"))\n",
    "conjunto2 = set(input(\"Ingresa otro conjunto: \"))\n",
    "intersección = conjunto1 & conjunto2\n",
    "print(intersección)"
   ]
  },
  {
   "cell_type": "markdown",
   "id": "d572ba9b",
   "metadata": {},
   "source": [
    "#### **Explicación**:\n",
    "#### Asigné a dos variables un input pidiendo enf romato de conjunto. Luego le asigné a otra variable el resultado de la intersección de ambos conjuntos utilizando el operador \"&\".  Procedí a imprimirlo."
   ]
  },
  {
   "cell_type": "markdown",
   "id": "66fd6b31",
   "metadata": {},
   "source": [
    "### Ejercicio 14\n",
    "#### Escribe un programa que tome una cadena de texto y que cuente cuántas palabras hay en ella."
   ]
  },
  {
   "cell_type": "code",
   "execution_count": 7,
   "id": "c3b0fe86",
   "metadata": {},
   "outputs": [
    {
     "name": "stdout",
     "output_type": "stream",
     "text": [
      "Ingrese su texto: hola jaja\n",
      "Su texto contiene 2 palabras\n"
     ]
    }
   ],
   "source": [
    "how_many_words = input(\"Ingrese su texto: \")\n",
    "count = 0\n",
    "for i in how_many_words:\n",
    "    if i == ' ':\n",
    "        count += 1\n",
    "print(\"Su texto contiene\", count + 1, \"palabras\")"
   ]
  },
  {
   "cell_type": "markdown",
   "id": "b424dca6",
   "metadata": {},
   "source": [
    "#### **Explicación**:\n",
    "#### Me recordó a un ejercicio similar de cs50. Recordaba que debía contar los espacios y sumar uno para saber cúantas palabras hay en un texto."
   ]
  },
  {
   "cell_type": "markdown",
   "id": "59237fc8",
   "metadata": {},
   "source": [
    "### Ejercicio 15\n",
    "#### Crea un programa que calcule el área de un círculo a partir del radio ingresado por el usuario."
   ]
  },
  {
   "cell_type": "code",
   "execution_count": 4,
   "id": "4c113f29",
   "metadata": {},
   "outputs": [
    {
     "name": "stdout",
     "output_type": "stream",
     "text": [
      "Insert radius: 4\n",
      "El area de circulo es de 50.26544\n"
     ]
    }
   ],
   "source": [
    "radius = input(\"Insert radius: \")\n",
    "if radius.isnumeric() == True:\n",
    "    radius = int(radius)\n",
    "    area = 3.14159 * (radius ** 2)\n",
    "    print(\"El area de circulo es de\", area)\n",
    "else:\n",
    "    print(\"Obey initial instruction.\")"
   ]
  },
  {
   "cell_type": "markdown",
   "id": "970ad966",
   "metadata": {},
   "source": [
    "#### **Explicación**: \n",
    "#### Asigné un input a la variable radio, verifiqué que fuera numérica y despues escribí la operación correspondiente ( pi multiplicado por radio al cuadrado). Asigné la operación a la variable \"área\" y la imprimí."
   ]
  },
  {
   "cell_type": "markdown",
   "id": "e4dbeaf1",
   "metadata": {},
   "source": [
    "### Ejercicio 16\n",
    "#### Escribe un programa que tome una lista de números y que devuelva la media aritmética."
   ]
  },
  {
   "cell_type": "code",
   "execution_count": 3,
   "id": "6b2c79db",
   "metadata": {},
   "outputs": [
    {
     "name": "stdout",
     "output_type": "stream",
     "text": [
      "Números a promediar: 10 20 30\n",
      "El promedio de los números ingresados es 20.0\n"
     ]
    }
   ],
   "source": [
    "avglistnum = list(map(int, input(\"Números a promediar: \").split()))\n",
    "suma = 0\n",
    "numnumbers = len(avglistnum)\n",
    "\n",
    "for i in avglistnum:\n",
    "    suma = suma + int(i)\n",
    "print(\"El promedio de los números ingresados es\", suma/numnumbers)\n",
    "    "
   ]
  },
  {
   "cell_type": "markdown",
   "id": "ab2ace9b",
   "metadata": {},
   "source": [
    "#### **Explicación**:\n",
    "#### Aquí le asigné a la variable \"avglistnum\" un input de integers en lista. Abrí la variable \"suma\" donde se irán sumando los valores en el loop. Abrí otra variable para guardar el número de elementos en la lista. Abrí un loop para sumar los valores en la variable \"suma\" y finalicé imprimiendo la suma total dividida por el número de elementos."
   ]
  },
  {
   "cell_type": "markdown",
   "id": "af393909",
   "metadata": {},
   "source": [
    "### Ejercicio 17\n",
    "#### Crea un programa que reciba dos números ingresados por el usuario y que devuelva su producto."
   ]
  },
  {
   "cell_type": "code",
   "execution_count": 4,
   "id": "ef62f47a",
   "metadata": {},
   "outputs": [
    {
     "name": "stdout",
     "output_type": "stream",
     "text": [
      "Ingresa un número: 3\n",
      "Ingresa otro número: 5\n",
      "El producto de sus números es: 15\n"
     ]
    }
   ],
   "source": [
    "num1 = input(\"Ingresa un número: \")\n",
    "num2 = input(\"Ingresa otro número: \")\n",
    "if num1.isnumeric() == True and num2.isnumeric() == True:\n",
    "    num1 = int(num1)\n",
    "    num2 = int(num2)\n",
    "    product = num1 * num2\n",
    "    print(\"El producto de sus números es:\", product)\n",
    "else:\n",
    "    print(\"Please type only numbers\")"
   ]
  },
  {
   "cell_type": "markdown",
   "id": "c58448ad",
   "metadata": {},
   "source": [
    "#### **Explicación**: \n",
    "#### Pedí dos inputs que asigné a su correspondiente variable, verifiqué que ambas fueran numéricas y asigné a la variable \"product\" la multiplicación de ambas variables. Luego inserte la variable \"product\" en un print()."
   ]
  },
  {
   "cell_type": "markdown",
   "id": "4c4414c1",
   "metadata": {},
   "source": [
    "### Ejercicio 18\n",
    "#### Escribe un programa que tome una lista de palabras y que devuelva una lista con todas las palabras en mayúsculas."
   ]
  },
  {
   "cell_type": "code",
   "execution_count": 27,
   "id": "55260462",
   "metadata": {},
   "outputs": [
    {
     "name": "stdout",
     "output_type": "stream",
     "text": [
      "Enter several words: Hello, my good friend, Ouagadougou\n",
      "HELLO, MY GOOD FRIEND, OUAGADOUGOU\n"
     ]
    }
   ],
   "source": [
    "wordlist = input(\"Enter several words: \")\n",
    "print(wordlist.upper())"
   ]
  },
  {
   "cell_type": "markdown",
   "id": "94169f63",
   "metadata": {},
   "source": [
    "#### **Explicación**: \n",
    "#### Solo asigne un input, que ya está definido como string, a una variable y la imprimí aplicándole la función \"upper()\"."
   ]
  },
  {
   "cell_type": "markdown",
   "id": "2827bf2c",
   "metadata": {},
   "source": [
    "### Ejercicio 19\n",
    "#### Crea un programa que tome una lista de números y que devuelva la suma de aquellos que son mayores a un valor específico ingresado por el usuario."
   ]
  },
  {
   "cell_type": "code",
   "execution_count": 24,
   "id": "2f2d76a1",
   "metadata": {},
   "outputs": [
    {
     "name": "stdout",
     "output_type": "stream",
     "text": [
      "Ingresa una lista de números: 20 30 40\n",
      "Ingrese un número parar separa la lista y sumar los valores superiores a este.: 24\n",
      "La suma de los números mayores a 24 es 70\n"
     ]
    }
   ],
   "source": [
    "numlist19 = list(map(int, input(\"Ingresa una lista de números: \").split()))\n",
    "parameter = int(input(\"Ingrese un número parar separa la lista y sumar los valores superiores a este: \"))\n",
    "sum19 = 0\n",
    "for i in numlist19:\n",
    "    if i > parameter:\n",
    "        sum19 = sum19 + i\n",
    "print(\"La suma de los números mayores a\", parameter, \"es\", sum19)"
   ]
  },
  {
   "cell_type": "markdown",
   "id": "378b6f4d",
   "metadata": {},
   "source": [
    "#### **Explicación**:\n",
    "#### Abrí dos variables, guardando en una una lista de números y en otra el valor específico. Abrí una variable sin valor para ir haciendo la suma en el loop. Abrí un loop con la condición de que se sumarán los números si eran mayores al valor específico. "
   ]
  },
  {
   "cell_type": "markdown",
   "id": "6375c4f4",
   "metadata": {},
   "source": [
    "### Ejercicio 20\n",
    "#### Escribe un programa que tome una cadena de texto y que devuelva una nueva cadena con todas las letras en mayúsculas excepto la primera letra de cada palabra, que debe ser en minúsculas."
   ]
  },
  {
   "cell_type": "code",
   "execution_count": 1,
   "id": "ecc2e648",
   "metadata": {},
   "outputs": [
    {
     "name": "stdout",
     "output_type": "stream",
     "text": [
      "¿Gusta compartir algunas palabras capitalizadas correctamente? hola buenas tardes\n"
     ]
    },
    {
     "ename": "TypeError",
     "evalue": "can only concatenate list (not \"str\") to list",
     "output_type": "error",
     "traceback": [
      "\u001b[1;31m---------------------------------------------------------------------------\u001b[0m",
      "\u001b[1;31mTypeError\u001b[0m                                 Traceback (most recent call last)",
      "Cell \u001b[1;32mIn[1], line 5\u001b[0m\n\u001b[0;32m      2\u001b[0m txto \u001b[38;5;241m=\u001b[39m \u001b[38;5;124m'\u001b[39m\u001b[38;5;124m'\u001b[39m\n\u001b[0;32m      4\u001b[0m \u001b[38;5;28;01mfor\u001b[39;00m word \u001b[38;5;129;01min\u001b[39;00m txt:\n\u001b[1;32m----> 5\u001b[0m     txt \u001b[38;5;241m=\u001b[39m  \u001b[43mtxt\u001b[49m\u001b[43m \u001b[49m\u001b[38;5;241;43m+\u001b[39;49m\u001b[43m \u001b[49m\u001b[43mword\u001b[49m\u001b[43m[\u001b[49m\u001b[38;5;241;43m0\u001b[39;49m\u001b[43m]\u001b[49m\u001b[38;5;241;43m.\u001b[39;49m\u001b[43mlower\u001b[49m\u001b[43m(\u001b[49m\u001b[43m)\u001b[49m \u001b[38;5;241m+\u001b[39m word[\u001b[38;5;241m1\u001b[39m:]\u001b[38;5;241m.\u001b[39mupper()\n\u001b[0;32m      6\u001b[0m \u001b[38;5;28mprint\u001b[39m(txt)\n",
      "\u001b[1;31mTypeError\u001b[0m: can only concatenate list (not \"str\") to list"
     ]
    }
   ],
   "source": [
    "txt = input(\"¿Gusta compartir algunas palabras capitalizadas correctamente? \")\n",
    "\n",
    "for i in txt: \n",
    "    i[0].lower() and i[1:].upper()\n",
    "print(txt)"
   ]
  },
  {
   "cell_type": "markdown",
   "id": "8d929869",
   "metadata": {},
   "source": [
    "#### **Explicación**: Este ejercicio me pareció sumamente díficil con los recursos actuales. Me pareció que debía de crear una función con un argumento len() que creara el número de variables de las palabras en el string. Tendría que separar las palabras y una por una convertirlas en minúsculas sus primeras letras y en mayúsculas las demás. Hice lo que pude según mi habilidad lógica pero de ninguna manera funcionó."
   ]
  }
 ],
 "metadata": {
  "kernelspec": {
   "display_name": "Python 3 (ipykernel)",
   "language": "python",
   "name": "python3"
  },
  "language_info": {
   "codemirror_mode": {
    "name": "ipython",
    "version": 3
   },
   "file_extension": ".py",
   "mimetype": "text/x-python",
   "name": "python",
   "nbconvert_exporter": "python",
   "pygments_lexer": "ipython3",
   "version": "3.11.3"
  }
 },
 "nbformat": 4,
 "nbformat_minor": 5
}
