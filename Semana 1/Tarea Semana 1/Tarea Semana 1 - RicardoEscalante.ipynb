{
 "cells": [
  {
   "cell_type": "markdown",
   "id": "ce886f41",
   "metadata": {},
   "source": [
    "TAREA SEMANA 1 : FUNDAMENTOS DE PYTHON\n",
    "Nombre : RICARDO ESCALANTE JAUREGUI\n",
    "1.-Crea un programa que tome un número ingresado por el usuario y determine si es par o impar.\n",
    "\n"
   ]
  },
  {
   "cell_type": "code",
   "execution_count": 3,
   "id": "69a4c599",
   "metadata": {},
   "outputs": [
    {
     "name": "stdout",
     "output_type": "stream",
     "text": [
      "teclea un numero5\n",
      "es impar\n"
     ]
    }
   ],
   "source": [
    "valor= input(\"teclea un numero\")\n",
    "\n",
    "if int(valor)%2==0:\n",
    "    print(\"es par\")\n",
    "else:\n",
    "    print(\"es impar\")\n",
    "    "
   ]
  },
  {
   "cell_type": "markdown",
   "id": "82a974b0",
   "metadata": {},
   "source": [
    "Explicación:\n",
    "puide el valor al usuario, el valor lo toma como un string entonces hay que parsear el valor, ese valor entero se divide entre dos y si el residuo es cero entonces significa que es multiplo de dos o es par, de otra manera es impar\n"
   ]
  },
  {
   "cell_type": "markdown",
   "id": "52aecc4e",
   "metadata": {},
   "source": [
    "2.-Escribe un programa que convierta una cadena de texto en mayúsculas.\n"
   ]
  },
  {
   "cell_type": "code",
   "execution_count": 4,
   "id": "82c04348",
   "metadata": {},
   "outputs": [
    {
     "data": {
      "text/plain": [
       "'HOLA MUNDO, ESTO ES SOLO UN TEXTO'"
      ]
     },
     "execution_count": 4,
     "metadata": {},
     "output_type": "execute_result"
    }
   ],
   "source": [
    "cad = 'Hola mundo, esto es solo un texto'\n",
    "cad.upper()"
   ]
  },
  {
   "cell_type": "markdown",
   "id": "a851584c",
   "metadata": {},
   "source": [
    "Explicación: toma la variable con la cadena de y hace uso de la funcion upper() que convierte todos los valores en la cadena a mayusculas"
   ]
  },
  {
   "cell_type": "markdown",
   "id": "e66f877a",
   "metadata": {},
   "source": [
    "3.-Crea un programa que lea una cadena de texto ingresada por el usuario y que cuente cuántas veces aparece una letra específica en ella.\n"
   ]
  },
  {
   "cell_type": "code",
   "execution_count": 28,
   "id": "f7bb353b",
   "metadata": {},
   "outputs": [
    {
     "name": "stdout",
     "output_type": "stream",
     "text": [
      "Escriba una cadena: esto es una prueba\n",
      "a-2\n",
      "b-1\n",
      "e-3\n",
      "n-1\n",
      "o-1\n",
      "p-1\n",
      "r-1\n",
      "s-2\n",
      "t-1\n",
      "u-2\n"
     ]
    }
   ],
   "source": [
    "mi_cadena= input(\"Escriba una cadena: \")\n",
    "lista = {'a':0,'b':0,'c':0,'d':0,'e':0,'f':0,'g':0,'h':0,'i':0,'j':0,'k':0,'l':0,'m':0,'n':0,'ñ':0,'o':0,'p':0,'q':0,'r':0,'s':0,'t':0,'u':0,'v':0,'w':0,'x':0,'y':0,'z':0}\n",
    "mi_cadena=mi_cadena.lower().replace(' ','')\n",
    "for letra in mi_cadena:\n",
    "    lista[letra] += 1\n",
    "    #print(f' {letra}-{lista[letra]}')\n",
    "    \n",
    "for key, values in lista.items():\n",
    "    if values>0:\n",
    "        print(f'{key}-{values}')\n",
    "      \n",
    "        "
   ]
  },
  {
   "cell_type": "markdown",
   "id": "a2c30f30",
   "metadata": {},
   "source": [
    "Explicación: se crea un diccionario con las letras y a todas se les asigna un valor de 0 y por cada vez que encuentra un valor en la respectiva letra del diccionaro se le suma 1 a ese valor respectivo."
   ]
  },
  {
   "cell_type": "markdown",
   "id": "a8178440",
   "metadata": {},
   "source": [
    "4.-Escribe un programa que determine si un número es primo o no.\n"
   ]
  },
  {
   "cell_type": "code",
   "execution_count": null,
   "id": "62a8ca96",
   "metadata": {},
   "outputs": [],
   "source": [
    "num = int(input(\"Escriba un numero:\"))\n",
    "es_primo=True\n",
    "\n",
    "for n in range(2,num):\n",
    "    if num % n == 0:\n",
    "        es_primo=False\n",
    "        break\n",
    "\n",
    "if es_primo: \n",
    "    print(f'{num}-es primo')\n",
    "else:\n",
    "    print(f'{num}-no es primo')\n",
    "    "
   ]
  },
  {
   "cell_type": "markdown",
   "id": "71adfafd",
   "metadata": {},
   "source": [
    "Explicación: se captura el numero y se recorre desde el 2 hasta el numero capturado para encontrar  si existe el modulo/residuo lo cual significa que no se cumplen la regla de números primos donde dice: \"solo debe ser divisible entre 1 y si mismo\" de otra manera es número primo"
   ]
  },
  {
   "cell_type": "markdown",
   "id": "e37ccb7c",
   "metadata": {},
   "source": [
    "5.-Crea un programa que calcule el área de un triángulo a partir de la base y la altura ingresadas por el usuario."
   ]
  },
  {
   "cell_type": "code",
   "execution_count": 3,
   "id": "819257d8",
   "metadata": {},
   "outputs": [
    {
     "name": "stdout",
     "output_type": "stream",
     "text": [
      "dame la base del triangula (cm):3\n",
      "dame la base del triangula (cm):2\n",
      "el área del triangulo es : 3.0\n"
     ]
    }
   ],
   "source": [
    "base=input(\"dame la base del triangula (cm):\")\n",
    "altura=input(\"dame la altura del triangula (cm):\")\n",
    "area = float(base) * float(altura)/2\n",
    "print(f'el área del triangulo es : {area}')"
   ]
  },
  {
   "cell_type": "markdown",
   "id": "8f3c0cc2",
   "metadata": {},
   "source": [
    "Explicación: el area de un triangulo es la base por la altura entre 2 "
   ]
  },
  {
   "cell_type": "markdown",
   "id": "f08aeff3",
   "metadata": {},
   "source": [
    "6.- Escribe un programa que tome una lista de números y devuelva la suma de todos ellos.\n"
   ]
  },
  {
   "cell_type": "code",
   "execution_count": 4,
   "id": "1d2e5c19",
   "metadata": {},
   "outputs": [
    {
     "name": "stdout",
     "output_type": "stream",
     "text": [
      "41\n"
     ]
    }
   ],
   "source": [
    "mi_lista = [2,5,4,6,7,8,9]\n",
    "suma=0\n",
    "for num in mi_lista:\n",
    "    suma += num\n",
    "    \n",
    "print(suma)"
   ]
  },
  {
   "cell_type": "markdown",
   "id": "b7f215ce",
   "metadata": {},
   "source": [
    "Explicación: se recorre en un for los elementos de la lista y la sumatoria se acumula para despues mostrarla "
   ]
  },
  {
   "cell_type": "markdown",
   "id": "e3f2f9de",
   "metadata": {},
   "source": [
    "7.-Crea un programa que reciba una lista de nombres y que imprima solo aquellos que comiencen con una letra específica dada por el usuario.\n"
   ]
  },
  {
   "cell_type": "code",
   "execution_count": 6,
   "id": "a032df6d",
   "metadata": {},
   "outputs": [
    {
     "name": "stdout",
     "output_type": "stream",
     "text": [
      "da una letra con la cual quieras que comience el nombre:c\n",
      "Cesar\n",
      "Claudia\n"
     ]
    }
   ],
   "source": [
    "mi_lista = ['Ana','Rocio','Oscar','Guadalupe','Jacqueline','Cesar','Karla','Claudia']\n",
    "letra= input('da una letra con la cual quieras que comience el nombre:')\n",
    "\n",
    "for nombre in mi_lista:\n",
    "    if nombre[0].lower()== letra:\n",
    "        print(nombre)\n",
    "        \n",
    "        "
   ]
  },
  {
   "cell_type": "markdown",
   "id": "22fdf2dd",
   "metadata": {},
   "source": [
    "Explicación: se recorre en un for los elementos de la lista y se compara con la primera letra de cada nombre en minuscula"
   ]
  },
  {
   "cell_type": "markdown",
   "id": "f49bd6f9",
   "metadata": {},
   "source": [
    "8.-Escribe un programa que determine si una cadena de texto es un palíndromo o no.\n"
   ]
  },
  {
   "cell_type": "code",
   "execution_count": null,
   "id": "7c86920b",
   "metadata": {},
   "outputs": [],
   "source": [
    "palabra = input('teclee la palabra a validar si es palindrome:')\n",
    "_palabra = palabra.lower().replace(' ','')\n",
    "no_palindrome = False\n",
    "for i in range(0, len(_palabra)):\n",
    "    if _palabra[i] != _palabra[-i-1]:\n",
    "        no_palindrome = True\n",
    "        break\n",
    "    else:\n",
    "        continue\n",
    "#Dabale arroz a la zorra el abad\n",
    "#Anita lava la tina\n",
    "if no_palindrome:\n",
    "    print(f'La palabra {palabra} no es palindrome')\n",
    "else:\n",
    "    print(f'la palabra {palabra} si es palindrome')\n",
    "\n",
    "              \n",
    "        \n",
    "        "
   ]
  },
  {
   "cell_type": "markdown",
   "id": "11e77ea1",
   "metadata": {},
   "source": [
    "Explicación: se recorre en un for los elementos de la palabra y se compara el primero contra el mismo indice pero de adelante hacia atras"
   ]
  },
  {
   "cell_type": "markdown",
   "id": "aab01ad5",
   "metadata": {},
   "source": [
    "9.-Crea un programa que tome una lista de números y elimine todos los duplicados.\n"
   ]
  },
  {
   "cell_type": "code",
   "execution_count": null,
   "id": "ce3d3930",
   "metadata": {},
   "outputs": [],
   "source": [
    "mi_lista = [45, 67, 12, 1, 2, 3, 1, 2, 3, 4]\n",
    "lista_temp = []\n",
    "\n",
    "for num in mi_lista:\n",
    "    if num in lista_temp:\n",
    "        continue\n",
    "    else:\n",
    "        lista_temp.append(num)\n",
    "\n",
    "print(lista_temp)"
   ]
  },
  {
   "cell_type": "markdown",
   "id": "608cec46",
   "metadata": {},
   "source": [
    "Explicación: se recorre en un for los elementos de la lista is todos los que no existan se agregan en una lista tempora, si ya existen solo se ignoran."
   ]
  },
  {
   "cell_type": "markdown",
   "id": "1f4b150f",
   "metadata": {},
   "source": [
    "10.-Escribe un programa que tome una lista de números y devuelva el valor máximo.\n"
   ]
  },
  {
   "cell_type": "code",
   "execution_count": null,
   "id": "83d12689",
   "metadata": {},
   "outputs": [],
   "source": [
    "mi_lista = [45, 67, 12, 1, 2, 3, 1, 2, 3, 4]\n",
    "\n",
    "maximo=0\n",
    "\n",
    "for num in mi_lista:\n",
    "    if num>maximo:\n",
    "        maximo= num\n",
    "        \n",
    "        \n",
    "print(maximo)"
   ]
  },
  {
   "cell_type": "markdown",
   "id": "1e363df5",
   "metadata": {},
   "source": [
    "Explicación: se recorre en un for los elementos de la lista mientras y el numero maximo se asigna si el actual numero que se esta revisando no sea mayos al numero maximo previamente registrado"
   ]
  },
  {
   "cell_type": "markdown",
   "id": "1b632a43",
   "metadata": {},
   "source": [
    "11.-Crea un programa que solicite al usuario su edad y que determine en que etapa de la vida se encuentra:\n",
    "Primera Infancia (0-5 años)\n",
    "Infancia (6 - 11 años)\n",
    "Adolescencia (12 - 18 años)\n",
    "Juventud (14 - 26 años)\n",
    "Adultez (27- 59 años)\n",
    "Persona Mayor (60 años o más).\n"
   ]
  },
  {
   "cell_type": "code",
   "execution_count": null,
   "id": "7b36535a",
   "metadata": {},
   "outputs": [],
   "source": [
    "edad= int(input(\"cual es tu edad:\"))\n",
    "\n",
    "if 0<edad<=5:\n",
    "    print('Primera Infancia')\n",
    "if 6<=edad<=11:\n",
    "    print('Infancia')\n",
    "if 12<=edad<=18:\n",
    "    print('Adolecencia')\n",
    "if 14<=edad<=26:\n",
    "    print('Juventud')\n",
    "if 27<=edad<=59:\n",
    "    print('Adultez')\n",
    "if edad>=60:\n",
    "    print('Persona Mayor')\n",
    "    "
   ]
  },
  {
   "cell_type": "markdown",
   "id": "a54a7b36",
   "metadata": {},
   "source": [
    "Explicación: mediante ifs se determina el rango en el que se encuentra la edad y se muestra la etapa de la persona\n"
   ]
  },
  {
   "cell_type": "markdown",
   "id": "e93600d6",
   "metadata": {},
   "source": [
    "12.-Escribe un programa que tome una cadena de texto y que la divida en palabras, eliminando los espacios en blanco.\n"
   ]
  },
  {
   "cell_type": "code",
   "execution_count": null,
   "id": "8c454e56",
   "metadata": {},
   "outputs": [],
   "source": [
    "mi_texto = \"Esto es un texto que se utiliza para una variable\"\n",
    "\n",
    "texto=mi_texto.split(' ')\n",
    "print(texto)"
   ]
  },
  {
   "cell_type": "markdown",
   "id": "d9652eb1",
   "metadata": {},
   "source": [
    "Explicación: se separan las palabras usando la funcion split y se guarda en una lista"
   ]
  },
  {
   "cell_type": "markdown",
   "id": "390e45a1",
   "metadata": {},
   "source": [
    "13.-Crea un programa que tome dos listas de números y que devuelva una tercera lista con los elementos comunes a ambas."
   ]
  },
  {
   "cell_type": "code",
   "execution_count": null,
   "id": "6c0ca213",
   "metadata": {},
   "outputs": [],
   "source": [
    "lista1 = [1,4,8,3,7,6,5]\n",
    "lista2 = [1,4,3,6,0,1,5,5,5]\n",
    "lista3 = []\n",
    "lista3 =  set(lista2) & set(lista1)\n",
    "\n",
    "print(lista3)"
   ]
  },
  {
   "cell_type": "markdown",
   "id": "920ec517",
   "metadata": {},
   "source": [
    "Explicación: mediante un set y la operacion and se trae los elementos en comun de las dos listas"
   ]
  },
  {
   "cell_type": "markdown",
   "id": "8a36a4f3",
   "metadata": {},
   "source": [
    "14.-Escribe un programa que tome una cadena de texto y que cuente cuántas palabras hay en ella."
   ]
  },
  {
   "cell_type": "code",
   "execution_count": null,
   "id": "d086c262",
   "metadata": {},
   "outputs": [],
   "source": [
    "mi_texto = \"Esto es un texto que se utiliza para una variable\"\n",
    "\n",
    "texto=mi_texto.split(' ')\n",
    "print(len(texto))"
   ]
  },
  {
   "cell_type": "markdown",
   "id": "d9804ac7",
   "metadata": {},
   "source": [
    "Explicación: Se separa por espacios en blanco en una lista y se cuenta el numero de elementos en la lista"
   ]
  },
  {
   "cell_type": "markdown",
   "id": "6cbdc6f4",
   "metadata": {},
   "source": [
    "15.-Crea un programa que calcule el área de un círculo a partir del radio ingresado por el usuario.\n"
   ]
  },
  {
   "cell_type": "code",
   "execution_count": null,
   "id": "2efbf510",
   "metadata": {},
   "outputs": [],
   "source": [
    "import math\n",
    "radio = float(input(\"ingrese el radio del circulo: \"))\n",
    "area= (math.pi*radio)**2\n",
    "print(f'El área del circulo es {area}')"
   ]
  },
  {
   "cell_type": "markdown",
   "id": "ae174cc8",
   "metadata": {},
   "source": [
    "Explicación: el unico dato requerido es el radio que se le pide al usuario y se procede a hacer la formula del area de un circulo usando la constante pi de la libreria math"
   ]
  },
  {
   "cell_type": "markdown",
   "id": "1f35c413",
   "metadata": {},
   "source": [
    "16.-Escribe un programa que tome una lista de números y que devuelva la media aritmética.\n"
   ]
  },
  {
   "cell_type": "code",
   "execution_count": null,
   "id": "a607bfc4",
   "metadata": {},
   "outputs": [],
   "source": [
    "lista1 = [1,4,8,3,7,6,5]\n",
    "sum = 0\n",
    "for num in lista1:\n",
    "    sum +=num\n",
    "\n",
    "media_aritmetica = sum/len(lista1)\n",
    "print(media_aritmetica)"
   ]
  },
  {
   "cell_type": "markdown",
   "id": "69c56754",
   "metadata": {},
   "source": [
    "Explicación: se obtiene con la suma de un conjunto de valores dividida entre el número total de sumandos."
   ]
  },
  {
   "cell_type": "markdown",
   "id": "34c94606",
   "metadata": {},
   "source": [
    "17.-Crea un programa que reciba dos números ingresados por el usuario y que devuelva su producto.\n"
   ]
  },
  {
   "cell_type": "code",
   "execution_count": null,
   "id": "98048146",
   "metadata": {},
   "outputs": [],
   "source": [
    "num1 = float(input(\"Ingrese el primer número:\"))\n",
    "num2 = float(input(\"Ingrese el segundo número:\"))\n",
    "\n",
    "print (num1*num2)"
   ]
  },
  {
   "cell_type": "markdown",
   "id": "ba4c8c65",
   "metadata": {},
   "source": [
    "Explicación: se piden los numeros y se hace el producto"
   ]
  },
  {
   "cell_type": "markdown",
   "id": "5df25290",
   "metadata": {},
   "source": [
    "18.-Escribe un programa que tome una lista de palabras y que devuelva una lista con todas las palabras en mayúsculas.\n"
   ]
  },
  {
   "cell_type": "code",
   "execution_count": null,
   "id": "921f2665",
   "metadata": {},
   "outputs": [],
   "source": [
    "lista_palabras = ['Esto', 'es', 'un', 'texto', 'que', 'se', 'utiliza', 'para', 'una', 'variable']\n",
    "cad= ' '.join(lista_palabras)\n",
    "print(cad.upper().split(' '))"
   ]
  },
  {
   "cell_type": "markdown",
   "id": "a2e754e5",
   "metadata": {},
   "source": [
    "Explicación: se toma la lista y se une en un solo texto, se aplica la funcion upper para convertirlas en mayusculas y despues se regresa a una lista"
   ]
  },
  {
   "cell_type": "markdown",
   "id": "ca978eca",
   "metadata": {},
   "source": [
    "19.-Crea un programa que tome una lista de números y que devuelva la suma de aquellos que son mayores a un valor específico ingresado por el usuario.\n"
   ]
  },
  {
   "cell_type": "code",
   "execution_count": null,
   "id": "579898c1",
   "metadata": {},
   "outputs": [],
   "source": [
    "\n",
    "lista1 = [1,4,8,3,7,6,5]\n",
    "numero= int(input(\"Teclea el número:\"))\n",
    "suma=0\n",
    "for num in lista1:\n",
    "    if num>numero:\n",
    "        suma += num\n",
    "\n",
    "print(f'La suma de numeros mayores a {numero} en la lista {lista1} es {suma}')\n"
   ]
  },
  {
   "cell_type": "markdown",
   "id": "08ac4f11",
   "metadata": {},
   "source": [
    "Explicación: se recorre la lista buscando todos los numeros mayores al numero tecleado por el usuario y se suma, posteriormente se muestra esa suma."
   ]
  },
  {
   "cell_type": "markdown",
   "id": "f62e84d9",
   "metadata": {},
   "source": [
    "20.-Escribe un programa que tome una cadena de texto y que devuelva una nueva cadena con todas las letras en mayúsculas excepto la primera letra de cada palabra, que debe ser en minúsculas.\n"
   ]
  },
  {
   "cell_type": "code",
   "execution_count": null,
   "id": "6101af96",
   "metadata": {},
   "outputs": [],
   "source": [
    "mi_texto = \"Esto es un texto que se utiliza para una variable\"\n",
    "texto_mayusculas= mi_texto.upper()\n",
    "texto=texto_mayusculas.split(' ')\n",
    "lista_temp=[]\n",
    "\n",
    "for palabra in texto:\n",
    "    lista_temp.append(palabra[0].lower()+palabra[1:])\n",
    "\n",
    "\n",
    "\n",
    "mi_texto=' '.join(lista_temp)\n",
    "print(mi_texto)"
   ]
  },
  {
   "cell_type": "markdown",
   "id": "fde3f1e1",
   "metadata": {},
   "source": [
    "Explicación: Se convierte a mayusculas, posteriormente se separa en una lista y esa lista se recorre para cambiar la primera letra a minuscula en una lista tempora, posteriormente se convirete la lista temporal al texto origina pero con minusculas la primera leta "
   ]
  }
 ],
 "metadata": {
  "kernelspec": {
   "display_name": "Python 3 (ipykernel)",
   "language": "python",
   "name": "python3"
  },
  "language_info": {
   "codemirror_mode": {
    "name": "ipython",
    "version": 3
   },
   "file_extension": ".py",
   "mimetype": "text/x-python",
   "name": "python",
   "nbconvert_exporter": "python",
   "pygments_lexer": "ipython3",
   "version": "3.9.13"
  }
 },
 "nbformat": 4,
 "nbformat_minor": 5
}
