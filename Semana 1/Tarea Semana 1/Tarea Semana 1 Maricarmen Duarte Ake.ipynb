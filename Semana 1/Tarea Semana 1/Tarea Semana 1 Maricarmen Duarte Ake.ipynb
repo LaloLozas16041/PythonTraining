{
 "cells": [
  {
   "cell_type": "markdown",
   "id": "78701228",
   "metadata": {},
   "source": [
    "TAREA SEMANA 1 : FUNDAMENTOS DE PYTHON"
   ]
  },
  {
   "cell_type": "markdown",
   "id": "8338196c",
   "metadata": {},
   "source": [
    "Nombre: Maricarmen Duarte Ake"
   ]
  },
  {
   "cell_type": "markdown",
   "id": "fb47aadc",
   "metadata": {},
   "source": [
    "Ejercicio 1"
   ]
  },
  {
   "cell_type": "markdown",
   "id": "57d17c25",
   "metadata": {},
   "source": [
    "Crea un programa que tome un número ingresado por el usuario y determine si es par o impar."
   ]
  },
  {
   "cell_type": "code",
   "execution_count": 1,
   "id": "cbe93186",
   "metadata": {},
   "outputs": [
    {
     "name": "stdout",
     "output_type": "stream",
     "text": [
      "El número 10 es par\n"
     ]
    }
   ],
   "source": [
    "num = 10\n",
    "if num%2 == 0:\n",
    "    print (\"El número \" + str(num) + \" es par\")\n",
    "else: \n",
    "    print (\"El número \" + str(num) + \"es impar\")"
   ]
  },
  {
   "cell_type": "markdown",
   "id": "f1a6f3ab",
   "metadata": {},
   "source": [
    "Explicación: También se le podría poner un input. Lo curioso es que me daba error el else cuando estaba espaciado y por ello aprendí que debe ir a la misma altura que el if."
   ]
  },
  {
   "cell_type": "markdown",
   "id": "24b1f8b8",
   "metadata": {},
   "source": [
    "Ejercicio 2"
   ]
  },
  {
   "cell_type": "markdown",
   "id": "4a4f4769",
   "metadata": {},
   "source": [
    "Escribe un programa que convierta una cadena de texto en mayúsculas."
   ]
  },
  {
   "cell_type": "code",
   "execution_count": 2,
   "id": "df6371b3",
   "metadata": {},
   "outputs": [
    {
     "name": "stdout",
     "output_type": "stream",
     "text": [
      "Tu nombre en mayúsculas:  MARCOS\n"
     ]
    }
   ],
   "source": [
    "name = \"Marcos\"\n",
    "print (\"Tu nombre en mayúsculas: \", name.upper())"
   ]
  },
  {
   "cell_type": "markdown",
   "id": "d1e99f73",
   "metadata": {},
   "source": [
    "Explicación: Revisando la librería, encontré el método upper para este problema. "
   ]
  },
  {
   "cell_type": "markdown",
   "id": "b0f6400c",
   "metadata": {},
   "source": [
    "Ejercicio 3"
   ]
  },
  {
   "cell_type": "markdown",
   "id": "77985331",
   "metadata": {},
   "source": [
    "Crea un programa que lea una cadena de texto ingresada por el usuario y que cuente cuántas veces aparece una letra específica en ella."
   ]
  },
  {
   "cell_type": "code",
   "execution_count": 2,
   "id": "ab6b4fcd",
   "metadata": {},
   "outputs": [
    {
     "name": "stdout",
     "output_type": "stream",
     "text": [
      "La letra a está 4 veces\n"
     ]
    }
   ],
   "source": [
    "thing = \"calabaza\"\n",
    "letter= \"a\"\n",
    "print (\"La letra\", letter, \"está\", thing.count(letter), \"veces\")"
   ]
  },
  {
   "cell_type": "markdown",
   "id": "b276a46c",
   "metadata": {},
   "source": [
    "Explicación: el método count puede contar el número de veces que un argumento está en un objeto"
   ]
  },
  {
   "cell_type": "raw",
   "id": "5263706b",
   "metadata": {},
   "source": [
    "Ejercicio 4"
   ]
  },
  {
   "cell_type": "markdown",
   "id": "bda8a1ef",
   "metadata": {},
   "source": [
    "Escribe un programa que determine si un número es primo o no."
   ]
  },
  {
   "cell_type": "code",
   "execution_count": 35,
   "id": "9599807f",
   "metadata": {},
   "outputs": [
    {
     "name": "stdout",
     "output_type": "stream",
     "text": [
      "Es primo\n"
     ]
    }
   ],
   "source": [
    "num = 97\n",
    "if num % 2 != 0 and num % 3 != 0 and num % 5 != 0 and num % 7 != 0 or num ==2 or num ==3 or num ==5 or num == 7:\n",
    "    print (\"Es primo\")\n",
    "else:\n",
    "    print (\"No es primo\")"
   ]
  },
  {
   "cell_type": "markdown",
   "id": "7637661e",
   "metadata": {},
   "source": [
    "Explicación: Probé hasta el 29 de uno en uno y testeé algunos números primos y sí funciona. La lógica sigue todos los primos son impares, así que por eso intenté comprobar que no fueran divisibles por los primeros números impares, que al mismo tiempo son los primeros números primos, por eso puse las condiciones or para estos casos especiales."
   ]
  },
  {
   "cell_type": "markdown",
   "id": "46d3c3bf",
   "metadata": {},
   "source": [
    "Ejercicio 5"
   ]
  },
  {
   "cell_type": "markdown",
   "id": "7f807be0",
   "metadata": {},
   "source": [
    "Crea un programa que calcule el área de un triángulo a partir de la base y la altura ingresadas por el usuario."
   ]
  },
  {
   "cell_type": "code",
   "execution_count": 36,
   "id": "dc7d4b7b",
   "metadata": {},
   "outputs": [
    {
     "name": "stdout",
     "output_type": "stream",
     "text": [
      "El área del triángulo es: 100.0\n"
     ]
    }
   ],
   "source": [
    "b= 10\n",
    "h = 20\n",
    "print (\"El área del triángulo es:\", b*h/2)"
   ]
  },
  {
   "cell_type": "markdown",
   "id": "e0299afe",
   "metadata": {},
   "source": [
    "Explicación: solo apliqué la fórmula del área de un triángulo"
   ]
  },
  {
   "cell_type": "markdown",
   "id": "2ff29c89",
   "metadata": {},
   "source": [
    "Ejercicio 6"
   ]
  },
  {
   "cell_type": "markdown",
   "id": "7c45b586",
   "metadata": {},
   "source": [
    "Escribe un programa que tome una lista de números y devuelva la suma de todos ellos."
   ]
  },
  {
   "cell_type": "code",
   "execution_count": 37,
   "id": "9f77a195",
   "metadata": {},
   "outputs": [
    {
     "name": "stdout",
     "output_type": "stream",
     "text": [
      "La suma de los números en la lista es: 21\n"
     ]
    }
   ],
   "source": [
    "num_list = [1,2,3,4,5,6]\n",
    "print (\"La suma de los números en la lista es:\", sum(num_list))"
   ]
  },
  {
   "cell_type": "markdown",
   "id": "267ab3f4",
   "metadata": {},
   "source": [
    "Explicación: usé el método sum de python para calcular la suma"
   ]
  },
  {
   "cell_type": "markdown",
   "id": "954e4af2",
   "metadata": {},
   "source": [
    "Ejercicio 7"
   ]
  },
  {
   "cell_type": "markdown",
   "id": "3d294069",
   "metadata": {},
   "source": [
    "Crea un programa que reciba una lista de nombres y que imprima solo aquellos que comiencen con una letra específica dada por el usuario."
   ]
  },
  {
   "cell_type": "code",
   "execution_count": 54,
   "id": "5e7f2e64",
   "metadata": {},
   "outputs": [
    {
     "name": "stdout",
     "output_type": "stream",
     "text": [
      "El nombre Marcos comienza con M\n",
      "El nombre Manuel comienza con M\n"
     ]
    }
   ],
   "source": [
    "name_list = [\"Marcos\", \"Carlos\", \"Enrique\", \"Fabián\", \"Omar\", \"Rodolfo\", \"Manuel\"]\n",
    "lett= \"M\"\n",
    "\n",
    "if name_list[0][0] == lett:\n",
    "    print (\"El nombre\", name_list[0], \"comienza con\", lett)\n",
    "if name_list[1][0] == lett:\n",
    "    print (\"El nombre\", name_list[1], \"comienza con\", lett)\n",
    "if name_list[2][0] == lett:\n",
    "    print (\"El nombre\", name_list[2], \"comienza con\", lett)\n",
    "if name_list[3][0] == lett:\n",
    "    print (\"El nombre\", name_list[3], \"comienza con\", lett)\n",
    "if name_list[4][0] == lett:\n",
    "    print (\"El nombre\", name_list[4], \"comienza con\", lett)\n",
    "if name_list[5][0] == lett:\n",
    "    print (\"El nombre\", name_list[5], \"comienza con\", lett)\n",
    "if name_list[6][0] == lett:\n",
    "    print (\"El nombre\", name_list[6], \"comienza con\", lett)"
   ]
  },
  {
   "cell_type": "markdown",
   "id": "197185c1",
   "metadata": {},
   "source": [
    "Explicación: Debe haber una mejor manera, pero logré que cumpla su función"
   ]
  },
  {
   "cell_type": "markdown",
   "id": "f3c869e5",
   "metadata": {},
   "source": [
    "Ejercicio 8"
   ]
  },
  {
   "cell_type": "markdown",
   "id": "9baff59a",
   "metadata": {},
   "source": [
    "Escribe un programa que determine si una cadena de texto es un palíndromo o no."
   ]
  },
  {
   "cell_type": "code",
   "execution_count": 58,
   "id": "62f3769d",
   "metadata": {},
   "outputs": [
    {
     "name": "stdout",
     "output_type": "stream",
     "text": [
      "La palabra rapar es palíndromo\n"
     ]
    }
   ],
   "source": [
    "palabra1 = \"costa\"\n",
    "palabra2 = \"rapar\"\n",
    "rever1 = palabra1[::-1]\n",
    "rever2 = palabra2[::-1]\n",
    "if palabra1 == rever1 :\n",
    "    print (\"La palabra\", palabra1, \"es palíndromo\")\n",
    "elif palabra2 == rever2:\n",
    "    print(\"La palabra\", palabra2, \"es palíndromo\")"
   ]
  },
  {
   "cell_type": "markdown",
   "id": "6db75b73",
   "metadata": {},
   "source": [
    "Explicación: Usando este artículo de W3 https://www.w3schools.com/python/python_howto_reverse_string.asp pude encontrar un método para hacer más sencillo el programa. "
   ]
  },
  {
   "cell_type": "markdown",
   "id": "eb41738f",
   "metadata": {},
   "source": [
    "Ejercicio 9"
   ]
  },
  {
   "cell_type": "markdown",
   "id": "2598a6b3",
   "metadata": {},
   "source": [
    "Crea un programa que tome una lista de números y elimine todos los duplicados."
   ]
  },
  {
   "cell_type": "code",
   "execution_count": 61,
   "id": "02f3f39a",
   "metadata": {},
   "outputs": [
    {
     "name": "stdout",
     "output_type": "stream",
     "text": [
      "[1, 2, 3, 4, 5, 6, 7, 8, 9, 10]\n"
     ]
    }
   ],
   "source": [
    "nu_list = [1,2,3,4,4,5,6,1,7,8,3,9,10]\n",
    "nu2_list = list(set(nu_list))\n",
    "print (nu2_list)"
   ]
  },
  {
   "cell_type": "markdown",
   "id": "6b03ef67",
   "metadata": {},
   "source": [
    "Explicación, los set no permiten duplicados, en este caso son números ordenados. Se tendría que probar otro método para cuando el orden importa"
   ]
  },
  {
   "cell_type": "markdown",
   "id": "0fce6edc",
   "metadata": {},
   "source": [
    "Ejercicio 10"
   ]
  },
  {
   "cell_type": "markdown",
   "id": "b5c97ca3",
   "metadata": {},
   "source": [
    "Escribe un programa que tome una lista de números y devuelva el valor máximo"
   ]
  },
  {
   "cell_type": "code",
   "execution_count": 62,
   "id": "2047c416",
   "metadata": {},
   "outputs": [
    {
     "name": "stdout",
     "output_type": "stream",
     "text": [
      "El número mayor es 900\n"
     ]
    }
   ],
   "source": [
    "num2_list = [35,109,900,450,258,300,78]\n",
    "print (\"El número mayor es\", max(num2_list))"
   ]
  },
  {
   "cell_type": "markdown",
   "id": "858be203",
   "metadata": {},
   "source": [
    "Explicación: Ya existe la función en python que nos puede indicar el número mayor."
   ]
  },
  {
   "cell_type": "markdown",
   "id": "d82b16ac",
   "metadata": {},
   "source": [
    "Ejercicio 11"
   ]
  },
  {
   "cell_type": "markdown",
   "id": "dad11c9d",
   "metadata": {},
   "source": [
    "Crea un programa que solicite al usuario su edad y que determine en que etapa de la vida se encuentra:\n",
    "Primera Infancia (0-5 años)\n",
    "Infancia (6 - 11 años)\n",
    "Adolescencia (12 - 18 años)\n",
    "Juventud (14 - 26 años)\n",
    "Adultez (27- 59 años)\n",
    "Persona Mayor (60 años o más)."
   ]
  },
  {
   "cell_type": "code",
   "execution_count": 67,
   "id": "5000e26a",
   "metadata": {},
   "outputs": [
    {
     "name": "stdout",
     "output_type": "stream",
     "text": [
      "Usted ya es una persona mayor\n"
     ]
    }
   ],
   "source": [
    "edad= 90\n",
    "if edad <= 5:\n",
    "    print (\"Usted está en la primera infancia\")\n",
    "elif edad >=6 and edad <=11:\n",
    "    print (\"Usted está en la infancia\")\n",
    "elif edad >=12 and edad <=18:\n",
    "    print (\"Usted está en la adolescencia\")\n",
    "elif edad >=14 and edad <=26:\n",
    "    print (\"Usted está en la juventud\")\n",
    "elif edad >=27 and edad <=59:\n",
    "    print (\"Usted está en la adultez\")\n",
    "elif edad >= 60:\n",
    "    print (\"Usted ya es una persona mayor\")"
   ]
  },
  {
   "cell_type": "markdown",
   "id": "0167c679",
   "metadata": {},
   "source": [
    "Explicación: Usé elif para determinar los rangos"
   ]
  },
  {
   "cell_type": "markdown",
   "id": "c2cbc3b9",
   "metadata": {},
   "source": [
    "Ejercicio 12"
   ]
  },
  {
   "cell_type": "markdown",
   "id": "09d2c23b",
   "metadata": {},
   "source": [
    "Escribe un programa que tome una cadena de texto y que la divida en palabras, eliminando los espacios en blanco."
   ]
  },
  {
   "cell_type": "code",
   "execution_count": 68,
   "id": "2b125de1",
   "metadata": {},
   "outputs": [
    {
     "name": "stdout",
     "output_type": "stream",
     "text": [
      "['El', 'primo', 'de', 'tu', 'hermano', 'es', 'mi', 'hermano']\n"
     ]
    }
   ],
   "source": [
    "text = \"El primo de tu hermano es mi hermano\"\n",
    "print (text.split(\" \"))"
   ]
  },
  {
   "cell_type": "markdown",
   "id": "e79e6814",
   "metadata": {},
   "source": [
    "Explicación: No estoy segura de haber entendido el enunciado, o se requería que haya una megapalabra sin espacios"
   ]
  },
  {
   "cell_type": "markdown",
   "id": "7c54784c",
   "metadata": {},
   "source": [
    "Ejercicio 13"
   ]
  },
  {
   "cell_type": "markdown",
   "id": "d05fc805",
   "metadata": {},
   "source": [
    "Crea un programa que tome dos listas de números y que devuelva una tercera lista con los elementos comunes a ambas."
   ]
  },
  {
   "cell_type": "code",
   "execution_count": 70,
   "id": "0a690eaf",
   "metadata": {},
   "outputs": [
    {
     "name": "stdout",
     "output_type": "stream",
     "text": [
      "{7, 8, 9, 10, 11, 12, 13}\n"
     ]
    }
   ],
   "source": [
    "num1_set = {1,2,3,4,5,6,7,8,9,10,11,12,13}\n",
    "num2_set = {7,8,9,10,11,12,13,14,15,16,17}\n",
    "num3_set = num1_set.intersection(num2_set)\n",
    "print (num3_set)"
   ]
  },
  {
   "cell_type": "markdown",
   "id": "e85513c8",
   "metadata": {},
   "source": [
    "Explicación: Usando intersection se pueden tomar los elementos comunes de ambas listas."
   ]
  },
  {
   "cell_type": "markdown",
   "id": "48e033f8",
   "metadata": {},
   "source": [
    "Ejercicio 14"
   ]
  },
  {
   "cell_type": "markdown",
   "id": "27b9ee21",
   "metadata": {},
   "source": [
    "Escribe un programa que tome una cadena de texto y que cuente cuántas palabras hay en ella."
   ]
  },
  {
   "cell_type": "code",
   "execution_count": 79,
   "id": "c1927418",
   "metadata": {},
   "outputs": [
    {
     "name": "stdout",
     "output_type": "stream",
     "text": [
      "7\n"
     ]
    }
   ],
   "source": [
    "text14 = \"El color morado es mi color favorito\"\n",
    "words = len(text14.split())\n",
    "print (words)"
   ]
  },
  {
   "cell_type": "markdown",
   "id": "8673f15b",
   "metadata": {},
   "source": [
    "Explicación: split divide el string en varios elemntos y len los cuenta"
   ]
  },
  {
   "cell_type": "markdown",
   "id": "3b85f59b",
   "metadata": {},
   "source": [
    "Ejercicio 15"
   ]
  },
  {
   "cell_type": "markdown",
   "id": "b62b964d",
   "metadata": {},
   "source": [
    "Crea un programa que calcule el área de un círculo a partir del radio ingresado por el usuario."
   ]
  },
  {
   "cell_type": "code",
   "execution_count": 81,
   "id": "e7af2346",
   "metadata": {},
   "outputs": [
    {
     "name": "stdout",
     "output_type": "stream",
     "text": [
      "El área del círculo es 314.1592653589793\n"
     ]
    }
   ],
   "source": [
    "import math\n",
    "r= 10\n",
    "area = math.pi * r * r\n",
    "print (\"El área del círculo es\", area)"
   ]
  },
  {
   "cell_type": "markdown",
   "id": "4d16341d",
   "metadata": {},
   "source": [
    "Ejercicio 16"
   ]
  },
  {
   "cell_type": "markdown",
   "id": "789206c6",
   "metadata": {},
   "source": [
    "Escribe un programa que tome una lista de números y que devuelva la media aritmética."
   ]
  },
  {
   "cell_type": "code",
   "execution_count": 83,
   "id": "fc49cf1f",
   "metadata": {},
   "outputs": [
    {
     "name": "stdout",
     "output_type": "stream",
     "text": [
      "El promedio de la lista es 13.0\n"
     ]
    }
   ],
   "source": [
    "list15 = [1,5,6,7,8,9,23,45]\n",
    "num_elem = len(list15)\n",
    "print (\"El promedio de la lista es\", sum(list15)/num_elem)"
   ]
  },
  {
   "cell_type": "markdown",
   "id": "6ba7e24d",
   "metadata": {},
   "source": [
    "Revisé que hay un método pero aun no aprendemos a usar pandas, por lo que lo hice con unas líneas más de código. "
   ]
  },
  {
   "cell_type": "markdown",
   "id": "6f10fd86",
   "metadata": {},
   "source": [
    "Ejercicio 17"
   ]
  },
  {
   "cell_type": "markdown",
   "id": "5b19f368",
   "metadata": {},
   "source": [
    "Crea un programa que reciba dos números ingresados por el usuario y que devuelva su producto."
   ]
  },
  {
   "cell_type": "code",
   "execution_count": 84,
   "id": "601e9c0c",
   "metadata": {},
   "outputs": [
    {
     "name": "stdout",
     "output_type": "stream",
     "text": [
      "El producto de sus números es 35\n"
     ]
    }
   ],
   "source": [
    "x1 = 5\n",
    "x2 = 7\n",
    "print (\"El producto de sus números es\", x1*x2)"
   ]
  },
  {
   "cell_type": "markdown",
   "id": "c0d2cfee",
   "metadata": {},
   "source": [
    "Explicación: No estoy segura de como usar input en jupyter por lo que ingreso yo los números."
   ]
  },
  {
   "cell_type": "markdown",
   "id": "03548d14",
   "metadata": {},
   "source": [
    "Ejercicio 18"
   ]
  },
  {
   "cell_type": "markdown",
   "id": "c3f3234a",
   "metadata": {},
   "source": [
    "Escribe un programa que tome una lista de palabras y que devuelva una lista con todas las palabras en mayúsculas."
   ]
  },
  {
   "cell_type": "code",
   "execution_count": 88,
   "id": "e41ad72b",
   "metadata": {},
   "outputs": [
    {
     "name": "stdout",
     "output_type": "stream",
     "text": [
      "['AMARILLO', 'VERDE', 'CAFÉ', 'MORADO', 'ROJO', 'AZUL']\n"
     ]
    }
   ],
   "source": [
    "words_list= [\"amarillo\", \"verde\", \"café\", \"morado\", \"rojo\", \"azul\"]\n",
    "words_list_cap = [words_list[0].upper(), words_list[1].upper(), words_list[2].upper(), words_list[3].upper(),words_list[4].upper(),words_list[5].upper()]\n",
    "print (words_list_cap)"
   ]
  },
  {
   "cell_type": "markdown",
   "id": "cd7b0300",
   "metadata": {},
   "source": [
    "Explicación: como aun no usamos for, es la manera más rudimentaria. "
   ]
  },
  {
   "cell_type": "markdown",
   "id": "867cbcd9",
   "metadata": {},
   "source": [
    "Ejercicio 19"
   ]
  },
  {
   "cell_type": "markdown",
   "id": "6ecc0470",
   "metadata": {},
   "source": [
    "Crea un programa que tome una lista de números y que devuelva la suma de aquellos que son mayores a un valor específico ingresado por el usuario."
   ]
  },
  {
   "cell_type": "code",
   "execution_count": 100,
   "id": "bbc554c3",
   "metadata": {},
   "outputs": [
    {
     "name": "stdout",
     "output_type": "stream",
     "text": [
      "[2, 3, 5, 6, 7, 9, 12, 22, 33, 34, 56, 89]\n",
      "La suma de los números mayores a 20 es 212\n"
     ]
    }
   ],
   "source": [
    "num19_list = [3,6,7,89,12,34,56,22,33,2,5,9]\n",
    "user_num = 20\n",
    "num19_list.sort(reverse = False)\n",
    "print (num19_list)\n",
    "print (\"La suma de los números mayores a 20 es\", sum(num19_list[8:]))\n",
    " "
   ]
  },
  {
   "cell_type": "markdown",
   "id": "b0166fd6",
   "metadata": {},
   "source": [
    "Explicación: Primero ordené la lista para revisar la posición de los números mayores a 20 y de esa posición al final hice la suma"
   ]
  },
  {
   "cell_type": "markdown",
   "id": "36963a57",
   "metadata": {},
   "source": [
    "Ejercicio 20"
   ]
  },
  {
   "cell_type": "markdown",
   "id": "60802477",
   "metadata": {},
   "source": [
    "Escribe un programa que tome una cadena de texto y que devuelva una nueva cadena con todas las letras en mayúsculas excepto la primera letra de cada palabra, que debe ser en minúsculas."
   ]
  },
  {
   "cell_type": "code",
   "execution_count": 103,
   "id": "28592795",
   "metadata": {},
   "outputs": [
    {
     "name": "stdout",
     "output_type": "stream",
     "text": [
      "cOLORINES\n"
     ]
    }
   ],
   "source": [
    "text20 = \"colorines\"\n",
    "print (text20[0].lower()+text20[1:].upper())"
   ]
  },
  {
   "cell_type": "markdown",
   "id": "5ca8f2d7",
   "metadata": {},
   "source": [
    "Explicación: usando el índice de las letras, se puede lograr que solo la primera vaya en minúscula usando lower y el resto en mayúsculas usando upper. "
   ]
  }
 ],
 "metadata": {
  "kernelspec": {
   "display_name": "Python 3 (ipykernel)",
   "language": "python",
   "name": "python3"
  },
  "language_info": {
   "codemirror_mode": {
    "name": "ipython",
    "version": 3
   },
   "file_extension": ".py",
   "mimetype": "text/x-python",
   "name": "python",
   "nbconvert_exporter": "python",
   "pygments_lexer": "ipython3",
   "version": "3.10.9"
  }
 },
 "nbformat": 4,
 "nbformat_minor": 5
}
