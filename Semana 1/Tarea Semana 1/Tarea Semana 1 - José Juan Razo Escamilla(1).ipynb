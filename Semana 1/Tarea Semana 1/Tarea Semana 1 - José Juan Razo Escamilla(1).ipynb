{
 "cells": [
  {
   "cell_type": "code",
   "execution_count": null,
   "id": "fbef0e9e",
   "metadata": {},
   "outputs": [],
   "source": [
    "#TAREA SEMANA 1 : FUNDAMENTOS DE PYTHON\n",
    "##José Juan Razo Escamilla\n"
   ]
  },
  {
   "cell_type": "code",
   "execution_count": null,
   "id": "a0e8a739",
   "metadata": {},
   "outputs": [],
   "source": [
    "#1. Crea un programa que tome un número ingresado por el usuario y determine si es par o impar."
   ]
  },
  {
   "cell_type": "code",
   "execution_count": 4,
   "id": "ba170616",
   "metadata": {},
   "outputs": [
    {
     "name": "stdout",
     "output_type": "stream",
     "text": [
      "ingresa un numero para analizar 4\n",
      "el numero introducido es par\n"
     ]
    }
   ],
   "source": [
    "var1=int(input('ingresa un numero para analizar '))\n",
    "if not (var1) % 2 != 0:\n",
    "    print('el numero introducido es par')\n",
    "else :\n",
    "    print('el numero introducido es impar')"
   ]
  },
  {
   "cell_type": "code",
   "execution_count": null,
   "id": "b94cbbe0",
   "metadata": {},
   "outputs": [],
   "source": [
    "#en este ejercicio, el unico problema fue introducir correctamente la condicion de par/impar. \n",
    "#la puse toda junta y parece ser que JN no la reconoció."
   ]
  },
  {
   "cell_type": "code",
   "execution_count": null,
   "id": "6853d478",
   "metadata": {},
   "outputs": [],
   "source": [
    "#2. Escribe un programa que convierta una cadena de texto en mayúsculas."
   ]
  },
  {
   "cell_type": "code",
   "execution_count": 7,
   "id": "a51f9d7b",
   "metadata": {},
   "outputs": [
    {
     "name": "stdout",
     "output_type": "stream",
     "text": [
      "ingresa un texto cualquiera aab\n",
      "AAB\n"
     ]
    }
   ],
   "source": [
    "var1=(input('ingresa un texto cualquiera '))\n",
    "print(var1.upper())"
   ]
  },
  {
   "cell_type": "code",
   "execution_count": null,
   "id": "c4716aaa",
   "metadata": {},
   "outputs": [],
   "source": [
    "#el problema se presentó al investigar que comando usar para convertir min a mayusc "
   ]
  },
  {
   "cell_type": "code",
   "execution_count": null,
   "id": "6344e8b1",
   "metadata": {},
   "outputs": [],
   "source": [
    "#3. Crea un programa que lea una cadena de texto ingresada por el usuario y que cuente cuántas veces aparece una letra específica en ella.\n"
   ]
  },
  {
   "cell_type": "code",
   "execution_count": 9,
   "id": "ebb1b885",
   "metadata": {},
   "outputs": [
    {
     "name": "stdout",
     "output_type": "stream",
     "text": [
      "ingresa un texto cualquiera hola perro\n",
      "que letra desea analizar? r\n",
      "el numero de veces que r está presente en el texto es 2\n"
     ]
    }
   ],
   "source": [
    "var1=(input('ingresa un texto cualquiera '))\n",
    "var2=(input('que letra desea analizar? '))\n",
    "contador=0\n",
    "lista=list(var1)\n",
    "for i in range(len(lista)):\n",
    "    if var2==lista[i]:\n",
    "        contador=contador+1\n",
    "    else :\n",
    "        pass\n",
    "print(f'el numero de veces que {var2} está presente en el texto es {contador}')"
   ]
  },
  {
   "cell_type": "code",
   "execution_count": null,
   "id": "3b4acc61",
   "metadata": {},
   "outputs": [],
   "source": [
    "#el problema fue indexar, pues estaba usando lista(x) cuando era lista[x], me salia un error de lista no callable"
   ]
  },
  {
   "cell_type": "code",
   "execution_count": null,
   "id": "69a0f6b3",
   "metadata": {},
   "outputs": [],
   "source": [
    "#4. Escribe un programa que determine si un número es primo o no."
   ]
  },
  {
   "cell_type": "code",
   "execution_count": 10,
   "id": "8138a048",
   "metadata": {},
   "outputs": [
    {
     "name": "stdout",
     "output_type": "stream",
     "text": [
      "introduce un numero entero a analizar: 17\n",
      "17 es un numero primo\n"
     ]
    }
   ],
   "source": [
    "var1 = int(input(\"introduce un numero entero a analizar: \"))\n",
    "respuesta = False\n",
    "if var1 == 1:\n",
    "    print(var1, \"no es un numero primo\")\n",
    "elif var1 > 1:\n",
    "    for i in range(2, var1):\n",
    "        if (var1 % i) == 0:\n",
    "            respuesta = True\n",
    "            break\n",
    "    if respuesta:\n",
    "        print(var1, \"no es un numero primo\")\n",
    "    else:\n",
    "        print(var1, \"es un numero primo\")"
   ]
  },
  {
   "cell_type": "code",
   "execution_count": null,
   "id": "49cd8394",
   "metadata": {},
   "outputs": [],
   "source": [
    "#la dificultad de este problema radica un poco en solo determinar el orden de las condiciones y en poner correctamente \n",
    "# la operacion de (var1 % i) == 0"
   ]
  },
  {
   "cell_type": "code",
   "execution_count": null,
   "id": "d96134f5",
   "metadata": {},
   "outputs": [],
   "source": [
    "#5. Crea un programa que calcule el área de un triángulo a partir de la base y la altura ingresadas por el usuario.\n"
   ]
  },
  {
   "cell_type": "code",
   "execution_count": 13,
   "id": "f31fde95",
   "metadata": {},
   "outputs": [
    {
     "name": "stdout",
     "output_type": "stream",
     "text": [
      "introduce la medida de la base del triangulo: 2.1\n",
      "introduce la medida de la altura del triangulo: 1\n",
      "El area del triangulo es 1.05\n"
     ]
    }
   ],
   "source": [
    "var1=float(input('introduce la medida de la base del triangulo: '))\n",
    "var2=float(input('introduce la medida de la altura del triangulo: '))\n",
    "print(f'El area del triangulo es {(var1*var2)/2}')"
   ]
  },
  {
   "cell_type": "code",
   "execution_count": null,
   "id": "fe2dd17b",
   "metadata": {},
   "outputs": [],
   "source": [
    "#este problema no fue dificil pues involucra casi las mismas funciones que los anteriores (pedir al usuario info a introducir)"
   ]
  },
  {
   "cell_type": "code",
   "execution_count": null,
   "id": "8302307c",
   "metadata": {},
   "outputs": [],
   "source": [
    "#6. Escribe un programa que tome una lista de números y devuelva la suma de todos ellos.\n"
   ]
  },
  {
   "cell_type": "code",
   "execution_count": null,
   "id": "bcb7d5db",
   "metadata": {},
   "outputs": [],
   "source": [
    "var1=int(input('introduce un numero a la lista: '))\n",
    "lista=[]\n",
    "controlador=True\n",
    "\n",
    "while controlador == True:\n",
    "   lista.append(var1)\n",
    "   var2=input('quieres introducir otro numero (si/no): ')\n",
    "   if var2 == 'si':\n",
    "       controlador=True\n",
    "       var1=int(input('introduce un numero a la lista: '))\n",
    "   else:\n",
    "       controlador=False\n",
    "       break\n",
    "   \n",
    "print(f'la lista es {lista} y su suma es {sum(lista)}')"
   ]
  },
  {
   "cell_type": "code",
   "execution_count": null,
   "id": "465eb392",
   "metadata": {},
   "outputs": [],
   "source": [
    "#Este problema fue más complicado porque decidí que el usuario pudiera formar su lista y determinar cuando terminarla\n",
    "#por ende los ciclos fueron un tanto complejos, sobretodo en su orden y lógica\n",
    "#otro problema es el uso y diferencia entre tupla y lista, pues me confundo al usar () o []"
   ]
  },
  {
   "cell_type": "code",
   "execution_count": null,
   "id": "c9368abf",
   "metadata": {},
   "outputs": [],
   "source": [
    "#7. Crea un programa que reciba una lista de nombres y que imprima solo aquellos que comiencen con una letra específica dada por el usuario.\n"
   ]
  },
  {
   "cell_type": "code",
   "execution_count": null,
   "id": "6ce52dbb",
   "metadata": {},
   "outputs": [],
   "source": [
    "var1=(input('introduce un nombre a la lista: '))\n",
    "lista=[]\n",
    "controlador=True\n",
    "\n",
    "while controlador == True:\n",
    "   lista.append(var1)\n",
    "   var2=input('quieres introducir otro nombre (si/no): ')\n",
    "   if var2 == 'si':\n",
    "       controlador=True\n",
    "       var1=(input('introduce un nombre a la lista: '))\n",
    "   else:\n",
    "       controlador=False\n",
    "       break\n",
    "   \n",
    "letra=input('introduce una letra para seleccionar los nombres: ')\n",
    "denegador=True\n",
    "for i in range(len(lista)):\n",
    "    comparador=lista[i]\n",
    "    if letra == comparador[0]:\n",
    "        print(f'el nombre {lista[i]} incia con la letra {letra}')\n",
    "        denegador=False\n",
    "    else :\n",
    "        pass\n",
    "if denegador :\n",
    "    print(f'no hay ningun nombre en la lista que inicie con la letra {letra}')"
   ]
  },
  {
   "cell_type": "code",
   "execution_count": null,
   "id": "d009648b",
   "metadata": {},
   "outputs": [],
   "source": [
    "#Para este ejercicio tomé la parte de la introduccion y decision por parte del usuario\n",
    "#lo dificil fue hacer las comparaciones de las letras, para ello utilice el ciclo for para analizar cada objeto de la lista.\n",
    "#luego a cada objeto de la lista lo transforme en otra lista para indexarlo y analizar su primera letra. \n"
   ]
  },
  {
   "cell_type": "code",
   "execution_count": null,
   "id": "93f6336d",
   "metadata": {},
   "outputs": [],
   "source": [
    "#8. Escribe un programa que determine si una cadena de texto es un palíndromo o no."
   ]
  },
  {
   "cell_type": "code",
   "execution_count": null,
   "id": "59b82d0e",
   "metadata": {},
   "outputs": [],
   "source": [
    "var1=input('introduce una palabra a analizar: ')\n",
    "lista=list(var1)\n",
    "lista_inversa=lista[::-1]\n",
    "type(lista)\n",
    "controlador=False\n",
    "for i in range(len(lista)):\n",
    "    if lista[i]==lista_inversa[i]:\n",
    "        controlador=True\n",
    "    else:\n",
    "        controlador=False\n",
    "        break\n",
    "if controlador :\n",
    "    print(f'la palabra {var1} es un palindromo')\n",
    "else:\n",
    "    print(f'la palabra {var1} no es un palindromo')"
   ]
  },
  {
   "cell_type": "code",
   "execution_count": null,
   "id": "47054f42",
   "metadata": {},
   "outputs": [],
   "source": [
    "#nuevamente tengo dificultades al usar indexacion porque confundo listas con tuplas\n",
    "#yo inicié programando en google colab y ahí la lista es con () y tupla []\n",
    "#Haciendo el programa en Spyder, encuentro que lista es [] y tupla () donde tupla no es \"callable\"\n",
    "#otro problema fue que no podia revertir la lista, no se porque no funciona .reverse() pues me genera una lista y no dupla\n",
    "#update, ya se porque .reverse me trajo tantos problemas, es mejor usar [::-1]\n"
   ]
  },
  {
   "cell_type": "code",
   "execution_count": null,
   "id": "75d08a18",
   "metadata": {},
   "outputs": [],
   "source": [
    "#9. Crea un programa que tome una lista de números y elimine todos los duplicados."
   ]
  },
  {
   "cell_type": "code",
   "execution_count": null,
   "id": "645379f2",
   "metadata": {},
   "outputs": [],
   "source": [
    "var1=int(input('introduce un numero a la lista: '))\n",
    "lista=[]\n",
    "controlador=True\n",
    "\n",
    "while controlador == True:\n",
    "   lista.append(var1)\n",
    "   var2=input('quieres introducir otro numero (si/no): ')\n",
    "   if var2 == 'si':\n",
    "       controlador=True\n",
    "       var1=int(input('introduce un numero a la lista: '))\n",
    "   else:\n",
    "       controlador=False\n",
    "       break\n",
    "print(f'la lista introducida es {lista}')\n",
    "set1=set(lista)\n",
    "lista_sin_duplicados=list(set1)\n",
    "print(f'los duplicados fueron eliminados, la lista sin duplicados es {lista_sin_duplicados}')"
   ]
  },
  {
   "cell_type": "code",
   "execution_count": null,
   "id": "01996e79",
   "metadata": {},
   "outputs": [],
   "source": [
    "#este ejercicio lo hice para que nuevamente el usuario ingrese los datos de manera manual\n",
    "#no puse una estructura condicional para ver si hay duplicados, no me quise complicar la vida\n",
    "#solo pasé la lista generada al usuario a set (que elimina repeticiones sola) y luego lo volvi a pasar a lista"
   ]
  },
  {
   "cell_type": "code",
   "execution_count": null,
   "id": "1126d21a",
   "metadata": {},
   "outputs": [],
   "source": [
    "#10. Escribe un programa que tome una lista de números y devuelva el valor máximo."
   ]
  },
  {
   "cell_type": "code",
   "execution_count": 16,
   "id": "bad9dc3f",
   "metadata": {},
   "outputs": [
    {
     "name": "stdout",
     "output_type": "stream",
     "text": [
      "introduce un numero a la lista: 23\n",
      "quieres introducir otro numero (si/no): si\n",
      "introduce un numero a la lista: 2.1\n",
      "quieres introducir otro numero (si/no): si\n",
      "introduce un numero a la lista: 2.99\n",
      "quieres introducir otro numero (si/no): no\n",
      "la lista introducida es [23.0, 2.1, 2.99]\n",
      "el numero mayor de la lista es 23.0\n"
     ]
    }
   ],
   "source": [
    "var1=float(input('introduce un numero a la lista: '))\n",
    "lista=[]\n",
    "controlador=True\n",
    "\n",
    "while controlador == True:\n",
    "   lista.append(var1)\n",
    "   var2=input('quieres introducir otro numero (si/no): ')\n",
    "   if var2 == 'si':\n",
    "       controlador=True\n",
    "       var1=float(input('introduce un numero a la lista: '))\n",
    "   else:\n",
    "       controlador=False\n",
    "       break\n",
    "print(f'la lista introducida es {lista}')\n",
    "i=0\n",
    "while i<=len(lista):\n",
    "  if i==0:\n",
    "      mayornumero=lista[i]\n",
    "  if i==len(lista):\n",
    "      break\n",
    "  if lista[i]>=mayornumero:\n",
    "      mayornumero=lista[i]\n",
    "  i=i+1\n",
    "print(f'el numero mayor de la lista es {mayornumero}')"
   ]
  },
  {
   "cell_type": "code",
   "execution_count": null,
   "id": "60a0fbc9",
   "metadata": {},
   "outputs": [],
   "source": [
    "#en este problema se me complicó considerablemente la comparación entre los objetos que conforman la lista del usuario\n",
    "#tuve muchos errores con for y while del tipo out of range pues siempre me salia al indexar del range del tamaño de lista\n",
    "#me acomodé más con while al tener un poco más de control al ver el valor de i (control del ciclo)\n",
    "#puse unas condicionales para no tener errores en el programa al iniciar i=0 y al estar cerca de acabar el ciclo \n",
    "#evite porer el i+1 para evitar el fuera de rango\n"
   ]
  },
  {
   "cell_type": "code",
   "execution_count": null,
   "id": "14d92c4c",
   "metadata": {},
   "outputs": [],
   "source": [
    "#11. Crea un programa que solicite al usuario su edad y que determine en que etapa de la vida se encuentra:\n",
    "#Primera Infancia (0-5 años)\n",
    "#Infancia (6 - 11 años)\n",
    "#Adolescencia (12 - 18 años)\n",
    "#Juventud (14 - 26 años)\n",
    "#Adultez (27- 59 años)\n",
    "#Persona Mayor (60 años o más).\n"
   ]
  },
  {
   "cell_type": "code",
   "execution_count": null,
   "id": "3a126477",
   "metadata": {},
   "outputs": [],
   "source": [
    "edad=int(input('introduce tu edad en años: '))\n",
    "if edad >=0 and edad <=5 :\n",
    "    print(f'tu edad de {edad} años esta en el sector de Primera Infancia (0-5 años)')\n",
    "elif edad >=6 and edad <=11 :\n",
    "    print(f'tu edad de {edad} años esta en el sector de Infancia (6 - 11 años)')\n",
    "elif edad >=12 and edad <=18 :\n",
    "    print(f'tu edad de {edad} años esta en el sector de Adolescencia (12 - 18 años)')\n",
    "elif edad >=19 and edad <=26 :\n",
    "    print(f'tu edad de {edad} años esta en el sector de Juventud (19 - 26 años)')\n",
    "elif edad >=27 and edad <=59 :\n",
    "    print(f'tu edad de {edad} años esta en el sector de Adultez (27- 59 años)')\n",
    "elif edad >=60:\n",
    "    print(f'tu edad de {edad} años esta en el sector de Persona Mayor (60 años o más)')\n"
   ]
  },
  {
   "cell_type": "code",
   "execution_count": null,
   "id": "493c2b1d",
   "metadata": {},
   "outputs": [],
   "source": [
    "#La unica dificultad de esta actividad es saber poner los elif y las condiciones, evitando mezclar rangos de edades entre \n",
    "#las condiciones"
   ]
  },
  {
   "cell_type": "code",
   "execution_count": null,
   "id": "6ebbabae",
   "metadata": {},
   "outputs": [],
   "source": [
    "#12. Escribe un programa que tome una cadena de texto y que la divida en palabras, eliminando los espacios en blanco.\n"
   ]
  },
  {
   "cell_type": "code",
   "execution_count": 12,
   "id": "aa21b52d",
   "metadata": {},
   "outputs": [
    {
     "name": "stdout",
     "output_type": "stream",
     "text": [
      "ingrese un texto cualquiera: hola perro g m\n",
      "['h', 'o', 'l', 'a', 'p', 'e', 'r', 'r', 'o', 'g', 'm']\n"
     ]
    }
   ],
   "source": [
    "var1=input('ingrese un texto cualquiera: ')\n",
    "lista=list(var1)\n",
    "lista1=list(var1)\n",
    "\n",
    "lista=[lista[x] for x in range(len(lista)) if not lista[x]==\" \"]\n",
    "print(str(lista))"
   ]
  },
  {
   "cell_type": "code",
   "execution_count": null,
   "id": "f0de80fb",
   "metadata": {},
   "outputs": [],
   "source": [
    "#definitivamente este es el problema mas dificil del problemario, pues al utilizar un metodo como remove o pop se transforma\n",
    "#o cambia la longitud de la lista, por dicha razón, al usar simplemente un while o for determinado por el rango de la longitud\n",
    "#de la lista siempre se llega a un error de out of range\n",
    "#para evitar este problema hay que usar una comprension de lista anidando un if que determine cuando un espacio se encuentre"
   ]
  },
  {
   "cell_type": "code",
   "execution_count": null,
   "id": "e08fcd65",
   "metadata": {},
   "outputs": [],
   "source": [
    "#Crea un programa que tome dos listas de números y que devuelva una tercera lista con los elementos comunes a ambas."
   ]
  },
  {
   "cell_type": "code",
   "execution_count": null,
   "id": "a138b7d7",
   "metadata": {},
   "outputs": [],
   "source": [
    "var1=int(input('introduce un numero a la lista 1: '))\n",
    "lista1=[]\n",
    "controlador=True\n",
    "\n",
    "while controlador == True:\n",
    "   lista1.append(var1)\n",
    "   var2=input('quieres introducir otro numero (si/no): ')\n",
    "   if var2 == 'si':\n",
    "       controlador=True\n",
    "       var1=int(input('introduce un numero a la lista 1: '))\n",
    "   else:\n",
    "       controlador=False\n",
    "       break\n",
    "\n",
    "var3=int(input('introduce un numero a la lista 2: '))\n",
    "lista2=[]\n",
    "controlador=True\n",
    "while controlador == True:\n",
    "   lista2.append(var3)\n",
    "   var2=input('quieres introducir otro numero (si/no): ')\n",
    "   if var2 == 'si':\n",
    "       controlador=True\n",
    "       var3=int(input('introduce un numero a la lista 2: '))\n",
    "   else:\n",
    "       controlador=False\n",
    "       break\n",
    "print(f'la lista 1 introducida es {lista1}')\n",
    "print(f'la lista 2 introducida es {lista2}')\n",
    "conjunto1=set(lista1)\n",
    "conjunto2=set(lista2)\n",
    "interseccion = conjunto1 & conjunto2\n",
    "print(interseccion)"
   ]
  },
  {
   "cell_type": "code",
   "execution_count": null,
   "id": "b255836e",
   "metadata": {},
   "outputs": [],
   "source": [
    "#en este ejercicio decidí que el usuario formara sus 2 listas por cuenta propia\n",
    "#tranformé las listas completas en conjuntos o sets y luego utilice la operación de interseccion"
   ]
  },
  {
   "cell_type": "code",
   "execution_count": null,
   "id": "a9f79c11",
   "metadata": {},
   "outputs": [],
   "source": [
    "#14.Escribe un programa que tome una cadena de texto y que cuente cuántas palabras hay en ella."
   ]
  },
  {
   "cell_type": "code",
   "execution_count": null,
   "id": "e1787e04",
   "metadata": {},
   "outputs": [],
   "source": [
    "import string\n",
    "var1=(input('introduce un texto a la lista: '))\n",
    "lista1=list(var1)\n",
    "\n",
    "\n",
    "print(f'la lista introducida es {lista1}')\n",
    "\n",
    "\n",
    "abecedario = list(string.ascii_letters)\n",
    "contador=0\n",
    "for i in range(len(lista1)):\n",
    "    if lista1[i] in abecedario:\n",
    "        contador=contador+1\n",
    "print(f'en la lista hay {contador} letras')   \n"
   ]
  },
  {
   "cell_type": "code",
   "execution_count": null,
   "id": "63eaeff4",
   "metadata": {},
   "outputs": [],
   "source": [
    "#en este problema fue un tanto dificil saber con que hacer la comparación de caracteres para reconocer si un dato introducido\n",
    "#es letra, espacio, numero, etc. Por esa razon hice una lista con todas las letras del abecedario. Por esa razon mi programa \n",
    "#distingue unicamente letras en una lista (usando string-ascii_letters)"
   ]
  },
  {
   "cell_type": "code",
   "execution_count": null,
   "id": "584895f8",
   "metadata": {},
   "outputs": [],
   "source": [
    "#15. Crea un programa que calcule el área de un círculo a partir del radio ingresado por el usuario."
   ]
  },
  {
   "cell_type": "code",
   "execution_count": null,
   "id": "be2de002",
   "metadata": {},
   "outputs": [],
   "source": [
    "#primer ejemplo con pi como constante pre introducida\n",
    "var1=int(input('introduce la medida del radio del circulo: '))\n",
    "print(f'El area del circulo es {3.141592*(var1**2)}')"
   ]
  },
  {
   "cell_type": "code",
   "execution_count": null,
   "id": "3c90fd60",
   "metadata": {},
   "outputs": [],
   "source": [
    "#segundo ejemplo con pi utilizando una libreria\n",
    "import math\n",
    "var1=int(input('introduce la medida del radio del circulo: '))\n",
    "print(f'El area del circulo es {math.pi*(var1**2)}')"
   ]
  },
  {
   "cell_type": "code",
   "execution_count": null,
   "id": "ed6bd79c",
   "metadata": {},
   "outputs": [],
   "source": [
    "#el unico problema de este ejercicio fue la declaración de pi, ya sea como constante introducida en el codigo o como\n",
    "#constante por libreria"
   ]
  },
  {
   "cell_type": "code",
   "execution_count": null,
   "id": "8ff53dab",
   "metadata": {},
   "outputs": [],
   "source": [
    "#16. Escribe un programa que tome una lista de números y que devuelva la media aritmética."
   ]
  },
  {
   "cell_type": "code",
   "execution_count": null,
   "id": "534f1f2f",
   "metadata": {},
   "outputs": [],
   "source": [
    "var1=int(input('introduce un numero a la lista: '))\n",
    "lista=[]\n",
    "controlador=True\n",
    "\n",
    "while controlador == True:\n",
    "   lista.append(var1)\n",
    "   var2=input('quieres introducir otro numero (si/no)?: ')\n",
    "   if var2 == 'si':\n",
    "       controlador=True\n",
    "       var1=int(input('introduce un numero a la lista: '))\n",
    "   else:\n",
    "       controlador=False\n",
    "       break\n",
    "print(f'la lista introducida es {lista}')\n",
    "promedio=(sum(lista)/len(lista))\n",
    "print(f'el promedio de la lista introducida es {promedio}')"
   ]
  },
  {
   "cell_type": "code",
   "execution_count": null,
   "id": "eaeb86da",
   "metadata": {},
   "outputs": [],
   "source": [
    "#realmente no hubo complicaciones aquí, utilicé las herramientas básicas de sum y len, además de pedir al usuario\n",
    "#la introduccion de datos"
   ]
  },
  {
   "cell_type": "code",
   "execution_count": null,
   "id": "2a243729",
   "metadata": {},
   "outputs": [],
   "source": [
    "#17. Crea un programa que reciba dos números ingresados por el usuario y que devuelva su producto."
   ]
  },
  {
   "cell_type": "code",
   "execution_count": null,
   "id": "241db639",
   "metadata": {},
   "outputs": [],
   "source": [
    "var1=float(input('introduce el primer numero para el producto: '))\n",
    "var2=float(input('introduce el segundo numero para el producto: '))\n",
    "print(f'El producto es {var1*var2}')"
   ]
  },
  {
   "cell_type": "code",
   "execution_count": null,
   "id": "cb0c53c8",
   "metadata": {},
   "outputs": [],
   "source": [
    "#este problema solo involucra colocar el signo del producto para el resultado, decidí colocar float para que el usuario \n",
    "#pueda poner numeros con punto decimal"
   ]
  },
  {
   "cell_type": "code",
   "execution_count": null,
   "id": "6551679a",
   "metadata": {},
   "outputs": [],
   "source": [
    "#18. Escribe un programa que tome una lista de palabras y que devuelva una lista con todas las palabras en mayúsculas."
   ]
  },
  {
   "cell_type": "code",
   "execution_count": null,
   "id": "cd6fcc69",
   "metadata": {},
   "outputs": [],
   "source": [
    "var1=(input('introduce una palabra a la lista: '))\n",
    "lista=[]\n",
    "controlador=True\n",
    "\n",
    "while controlador == True:\n",
    "   lista.append(var1)\n",
    "   var2=input('quieres introducir otra palabra (si/no): ')\n",
    "   if var2 == 'si':\n",
    "       controlador=True\n",
    "       var1=(input('introduce una palabra a la lista: '))\n",
    "   else:\n",
    "       controlador=False\n",
    "       break\n",
    "lista_palabras=[]\n",
    "for i in range(len(lista)):\n",
    "   var3=(str(lista[i])).upper()\n",
    "   print(var3)\n",
    "   lista_palabras.append(var3)\n",
    "print(f'la lista introducida es {lista}')\n",
    "print(f'la lista modificada a mayusculas es {lista_palabras}')"
   ]
  },
  {
   "cell_type": "code",
   "execution_count": null,
   "id": "89c14dce",
   "metadata": {},
   "outputs": [],
   "source": [
    "#en este programa encontré que el comando upper no se puede usar en listas, por lo que tuve que desarrollar un for\n",
    "#para que tomara cada elemento de la lista y luego guardar cada elemento en una variable var3, pasarlo a texto y luego\n",
    "#usar el comando upper. Todos los valores de var3 se guardan en una lista alterna"
   ]
  },
  {
   "cell_type": "code",
   "execution_count": null,
   "id": "d5504049",
   "metadata": {},
   "outputs": [],
   "source": [
    "#19. Crea un programa que tome una lista de números y que devuelva la suma de aquellos que son mayores a un valor específico ingresado por el usuario"
   ]
  },
  {
   "cell_type": "code",
   "execution_count": null,
   "id": "b1d37b3b",
   "metadata": {},
   "outputs": [],
   "source": [
    "var1=float(input('introduce un numero a la lista: '))\n",
    "lista=[]\n",
    "controlador=True\n",
    "\n",
    "while controlador == True:\n",
    "   lista.append(var1)\n",
    "   var2=(input('quieres introducir otro numero (si/no): '))\n",
    "   if var2 == 'si':\n",
    "       controlador=True\n",
    "       var1=float(input('introduce un numero a la lista: '))\n",
    "   else:\n",
    "       controlador=False\n",
    "       break\n",
    "var3=float(input('que valor especifico desea introducir para comparar?: '))\n",
    "lista_numeros=[]\n",
    "for i in range(len(lista)):\n",
    "    if lista[i]>var3:\n",
    "        lista_numeros.append(lista[i])\n",
    "resultado=sum(lista_numeros)\n",
    "print(f'la lista de numeros introducidos es {lista}')\n",
    "print(f'la lista de numeros mayor a {var3} es {lista_numeros}')\n",
    "print(f'el resultado de la suma de {lista_numeros} es {resultado}')"
   ]
  },
  {
   "cell_type": "code",
   "execution_count": null,
   "id": "32ad58a9",
   "metadata": {},
   "outputs": [],
   "source": [
    "#este es un problema parecido a pasados ejercicios (hacer suma de lista, excluir datos de lista segun un criterio, etc.)\n",
    "#sin embargo decidí utilizar numero tanto enteros como decimales para dar más variedad al problema\n",
    "#el conflito apareció cuando en los ciclos había algunas entradas en str y otras en float porque no modifiqué el tipo\n",
    "#de variable dentro del while (de introducción de datos), por lo que dentro del for (en el if) se estaba comparando un str con float\n",
    "#que es una operación no posible. Modifiqué el tipo de variable y todo salió bien"
   ]
  },
  {
   "cell_type": "code",
   "execution_count": null,
   "id": "2ad94523",
   "metadata": {},
   "outputs": [],
   "source": [
    "#20. Escribe un programa que tome una cadena de texto y que devuelva una nueva cadena con todas las letras en mayúsculas excepto la primera letra de cada palabra, que debe ser en minúsculas.\n"
   ]
  },
  {
   "cell_type": "code",
   "execution_count": null,
   "id": "1ce15eb3",
   "metadata": {},
   "outputs": [],
   "source": [
    "var1=input('ingresa una cadena de texto cualquiera: ')\n",
    "var2=list(var1)\n",
    "for i in range(len(var1)):\n",
    "    if i==0:\n",
    "        var2[i]=(var1[i])\n",
    "    elif i>0 and var1[i-1]==' ':\n",
    "        var2[i]=(var1[i])\n",
    "    else :\n",
    "        var2[i]=(var1[i].upper())\n",
    "var3=''.join(map(str, var2))\n",
    "print(var3)"
   ]
  },
  {
   "cell_type": "code",
   "execution_count": null,
   "id": "e5d9b3fc",
   "metadata": {},
   "outputs": [],
   "source": [
    "#en este codigo tuve algunos problemas en la logica y en la mutabilidad. Empezando con la logica, pues saldrían errores de rango \n",
    "#al tener ese i-1 que sirve para saber si hay una palabra separada por espacio para hacer distincion de mayusculas\n",
    "#para evitar problemas use el if dentro del for\n",
    "#otro problema fue la indexacion y mutabilidad, pues una cadena de texto o variable string es indexable mas no mutable \n",
    "#para modificar cada letra del texto tuve que utilizar una lista que guardara datos conforme el for se movia en longitud de cadena de texto\n",
    "#una vez que la lista ya contiene todas las letras modificadas (segun las restricciones if) tuve que buscar la manera de convertir\n",
    "#la lista en cadena de texto, por lo cual use el metodo .join(map()) pues para string no hay .append o pop \n"
   ]
  }
 ],
 "metadata": {
  "kernelspec": {
   "display_name": "Python 3 (ipykernel)",
   "language": "python",
   "name": "python3"
  },
  "language_info": {
   "codemirror_mode": {
    "name": "ipython",
    "version": 3
   },
   "file_extension": ".py",
   "mimetype": "text/x-python",
   "name": "python",
   "nbconvert_exporter": "python",
   "pygments_lexer": "ipython3",
   "version": "3.11.3"
  }
 },
 "nbformat": 4,
 "nbformat_minor": 5
}
