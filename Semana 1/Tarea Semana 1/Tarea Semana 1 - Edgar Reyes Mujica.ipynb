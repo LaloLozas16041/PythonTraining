{
 "cells": [
  {
   "cell_type": "markdown",
   "metadata": {},
   "source": [
    "TAREA SEMANA 1 : FUNDAMENTOS DE PYTHON\n",
    "Nombre : Edgar Reyes Mujica"
   ]
  },
  {
   "cell_type": "markdown",
   "metadata": {},
   "source": [
    "Ejercicio 1: Crea un programa que tome un número ingresado por el usuario y determine si es par o impar."
   ]
  },
  {
   "cell_type": "code",
   "execution_count": 1,
   "metadata": {},
   "outputs": [
    {
     "name": "stdout",
     "output_type": "stream",
     "text": [
      "Ingrese su numero: 7\n",
      "el numero es impar\n"
     ]
    }
   ],
   "source": [
    "NumUsuario = int (input(\"Ingrese su numero: \"))\n",
    "if NumUsuario%2 == 0:\n",
    "    print('el numero es par')\n",
    "else:\n",
    "     print('el numero es impar')"
   ]
  },
  {
   "cell_type": "markdown",
   "metadata": {},
   "source": [
    "Me costo un poco de trabajo hacer la operacion en la condicional por que no conocia bien el funcionamiento del operador % hasta que buscando una manera vi como funcionaba y pude llegar al resultado deseado."
   ]
  },
  {
   "cell_type": "markdown",
   "metadata": {},
   "source": [
    "Ejercicio2: Escribe un programa que convierta una cadena de texto en mayúsculas."
   ]
  },
  {
   "cell_type": "code",
   "execution_count": 4,
   "metadata": {},
   "outputs": [
    {
     "name": "stdout",
     "output_type": "stream",
     "text": [
      "HOLA\n"
     ]
    }
   ],
   "source": [
    "palabra = \"hola\"\n",
    "print (palabra.upper())"
   ]
  },
  {
   "cell_type": "markdown",
   "metadata": {},
   "source": [
    "Este fue muy sencillo primero lo habia hecho creando otra variable para guardar la palabra.upper() pero despues me di cuenta que lo podia imprimir directamente"
   ]
  },
  {
   "cell_type": "markdown",
   "metadata": {},
   "source": [
    "Ejercicio 3: Crea un programa que lea una cadena de texto ingresada por el usuario y que cuente cuántas veces aparece una letra específica en ella."
   ]
  },
  {
   "cell_type": "code",
   "execution_count": 8,
   "metadata": {},
   "outputs": [
    {
     "name": "stdout",
     "output_type": "stream",
     "text": [
      "Ingreso su textohola como estas\n",
      "Que letra quiere contar: o\n",
      "hay  3 letras\n"
     ]
    }
   ],
   "source": [
    "texto = input('Ingreso su texto: ')\n",
    "conteo = texto.count(input('Que letra quiere contar: '))\n",
    "print('hay',conteo,'letras')"
   ]
  },
  {
   "cell_type": "markdown",
   "metadata": {},
   "source": [
    "En esta me costo un poco por la sintaxis ya que tarde un poco en descubrir que podia poner el input de la letra que queria agregar dentro del count()"
   ]
  },
  {
   "cell_type": "markdown",
   "metadata": {},
   "source": [
    "Ejercicio 4: Escribe un programa que determine si un número es primo o no."
   ]
  },
  {
   "cell_type": "code",
   "execution_count": 11,
   "metadata": {},
   "outputs": [
    {
     "name": "stdout",
     "output_type": "stream",
     "text": [
      "Escriba su numero: 8\n",
      "El numero 8 no es primo\n"
     ]
    }
   ],
   "source": [
    "numero = int(input('Escriba su numero: '))\n",
    "x = 1\n",
    "y = 0\n",
    "while x <= numero:\n",
    "    if numero % x == 0:\n",
    "        y = y + 1\n",
    "    x = x + 1\n",
    "if y == 2:\n",
    "    print('El numero',numero,'es primo')\n",
    "else:\n",
    "    print('El numero', numero, 'no es primo')"
   ]
  },
  {
   "cell_type": "markdown",
   "metadata": {},
   "source": [
    "Este fue algo complicado ya que estaba haciendo la operacion direcatamene dividiendolo pero no obtenia los resultados que queria, asi que decidi usar el % para asi poder utilizas las condicionales ya que al no quedar residuo encontraba una manera de contar cuantas veces se dividia un numero y ese dato si podia utilizarlo para hacer comparaciones y decidir si el numero era primo o no"
   ]
  },
  {
   "cell_type": "markdown",
   "metadata": {},
   "source": [
    "Ejercicio 5: Crea un programa que calcule el área de un triángulo a partir de la base y la altura ingresadas por el usuario."
   ]
  },
  {
   "cell_type": "code",
   "execution_count": 6,
   "metadata": {},
   "outputs": [
    {
     "name": "stdout",
     "output_type": "stream",
     "text": [
      "Ingrese la base: 2.5\n",
      "Ingrese la altura: 3.6\n",
      "El area es:  4.5\n"
     ]
    }
   ],
   "source": [
    "base = float (input('Ingrese la base: '))\n",
    "altura = float (input('Ingrese la altura: '))\n",
    "area =(base*altura)/2\n",
    "print('El area es: ', area)"
   ]
  },
  {
   "cell_type": "markdown",
   "metadata": {},
   "source": [
    "Este fue muy sencillo lo unico que tuve que cambiar fue el declarar que los numeros eran flotantes ya que si no lo hacia y agregaba numeros flotantes me mandaba erros de sintaxis"
   ]
  },
  {
   "cell_type": "markdown",
   "metadata": {},
   "source": [
    "Ejercicio 6: Escribe un programa que tome una lista de números y devuelva la suma de todos ellos."
   ]
  },
  {
   "cell_type": "code",
   "execution_count": 7,
   "metadata": {},
   "outputs": [
    {
     "name": "stdout",
     "output_type": "stream",
     "text": [
      "45\n"
     ]
    }
   ],
   "source": [
    "numeros = [1, 2, 3, 4, 5, 6, 7, 8, 9]\n",
    "suma = 0\n",
    "for item in numeros:\n",
    "    suma = item + suma\n",
    "print(suma)"
   ]
  },
  {
   "cell_type": "markdown",
   "metadata": {},
   "source": [
    "Este fue sencillo lo unico fue el descubrir que si queria sumar todos los numeros tenia que declarar otra variable donde estuviera guardando toda la suma y al final solo mandarla a imprimir"
   ]
  },
  {
   "cell_type": "markdown",
   "metadata": {},
   "source": [
    "Ejercicio 7: Crea un programa que reciba una lista de nombres y que imprima solo aquellos que comiencen con una letra específica dada por el usuario."
   ]
  },
  {
   "cell_type": "code",
   "execution_count": 40,
   "metadata": {},
   "outputs": [
    {
     "name": "stdout",
     "output_type": "stream",
     "text": [
      "primer nombre: paco\n",
      "segund nombre: pedro\n",
      "tercero nombre: ana\n",
      "cuarto nombre: manu\n",
      "quinto nombre: caro\n",
      "Ingrese letra a buscar: p\n",
      "Estos son los nombres:  paco pedro\n"
     ]
    }
   ],
   "source": [
    "nombre1 = str(input('primer nombre: '))\n",
    "nombre2 = str(input('segund nombre: '))\n",
    "nombre3 = str(input('tercero nombre: '))\n",
    "nombre4 = str(input('cuarto nombre: '))\n",
    "nombre5 = str(input('quinto nombre: '))\n",
    "lista = [nombre1, nombre2, nombre3, nombre4, nombre5]\n",
    "\n",
    "busqueda = str(input('Ingrese letra a buscar: '))\n",
    "\n",
    "imprimir = []\n",
    "\n",
    "for i in lista:\n",
    "    if i[0] == busqueda:\n",
    "        imprimir.append(i)\n",
    "print ('Estos son los nombres: ', \" \".join(imprimir))\n"
   ]
  },
  {
   "cell_type": "markdown",
   "metadata": {},
   "source": [
    "Este fue un poco complicado ya que no sabia si al agregar los nombres debia de tener algun limite o solo los que yo declarara tambien el poder buscar en la lsta solo la primera palabra fue un poco complicado idear la sintaxis pero al final todo salio bien."
   ]
  },
  {
   "cell_type": "markdown",
   "metadata": {},
   "source": [
    "Ejercicio 8: Escribe un programa que determine si una cadena de texto es un palíndromo o no.\n"
   ]
  },
  {
   "cell_type": "code",
   "execution_count": 9,
   "metadata": {},
   "outputs": [
    {
     "name": "stdout",
     "output_type": "stream",
     "text": [
      "Ingrese su frase o palabraanita lava la tina\n",
      "Es palindromo\n"
     ]
    }
   ],
   "source": [
    "texto = str(input('Ingrese su frase o palabra'))\n",
    "nuevotexto = texto.replace(\" \",\"\")\n",
    "\n",
    "if str(nuevotexto) == str(nuevotexto)[::-1] :\n",
    "    print(\"Es palindromo\")\n",
    "else:\n",
    "    print(\"No es palindromo\")"
   ]
  },
  {
   "cell_type": "markdown",
   "metadata": {},
   "source": [
    "En este la cosa fue borrar los espacios ya que si no borraba los espacios al momento que se hacia la lectura no se detectaba bien, tambien el hecho de hacer leer de forma inversa el texto fue complicado ya que sabia que para empezar por lo ultimo era con el -1 pero no sabia la sintaxis para que recorriera todos los caracteres apartir de ahí"
   ]
  },
  {
   "cell_type": "markdown",
   "metadata": {},
   "source": [
    "Ejercicio 9: Crea un programa que tome una lista de números y elimine todos los duplicados."
   ]
  },
  {
   "cell_type": "code",
   "execution_count": 11,
   "metadata": {},
   "outputs": [
    {
     "name": "stdout",
     "output_type": "stream",
     "text": [
      "[2, 4, 7, 6, 3, 8, 9, 0]\n"
     ]
    }
   ],
   "source": [
    "lista = [2, 4, 7, 6, 2, 3, 8, 6, 9, 3, 2, 0, 4]\n",
    "nuevalista = []\n",
    "\n",
    "for num in lista:\n",
    "    if num not in nuevalista:\n",
    "        nuevalista.append(num)\n",
    "\n",
    "print(nuevalista)"
   ]
  },
  {
   "cell_type": "markdown",
   "metadata": {},
   "source": [
    "Aqui solo fue cuestion de recordar como usar el not ya que con la condicional podiamos verificar si un numero estaba o no en la nueva lista y con ese comparador de no estar el numero se agregaba"
   ]
  },
  {
   "cell_type": "markdown",
   "metadata": {},
   "source": [
    "Ejercico 10:Escribe un programa que tome una lista de números y devuelva el valor máximo."
   ]
  },
  {
   "cell_type": "code",
   "execution_count": 13,
   "metadata": {},
   "outputs": [
    {
     "name": "stdout",
     "output_type": "stream",
     "text": [
      "23\n"
     ]
    }
   ],
   "source": [
    "lista = [2, 4, 7, 6, 2, 3, 8, 6, 9, 3, 2, 0, 4, 11, 23]\n",
    "x = 0\n",
    "for num in lista:\n",
    "    if x <= num:\n",
    "        x = num\n",
    "print (x)\n",
    "    \n",
    "    "
   ]
  },
  {
   "cell_type": "markdown",
   "metadata": {},
   "source": [
    "Este fue sencillo ya que solo teniamos que recorrer la variable y hacer las comprobaciones con el comparador y de cumplirse la condicion solo se sustituia el numero en la variable"
   ]
  },
  {
   "cell_type": "markdown",
   "metadata": {},
   "source": [
    "Ejercicio 11: Crea un programa que solicite al usuario su edad y que determine en que etapa de la vida se encuentra:\n",
    "Primera Infancia (0-5 años)\n",
    "Infancia (6 - 11 años)\n",
    "Adolescencia (12 - 18 años)\n",
    "Juventud (14 - 26 años)\n",
    "Adultez (27- 59 años)\n",
    "Persona Mayor (60 años o más).\n"
   ]
  },
  {
   "cell_type": "code",
   "execution_count": 19,
   "metadata": {},
   "outputs": [
    {
     "name": "stdout",
     "output_type": "stream",
     "text": [
      "Ingrese su edad: 35\n",
      "Adultez\n"
     ]
    }
   ],
   "source": [
    "edad = int(input('Ingrese su edad: '))\n",
    "\n",
    "if 0 <= edad <= 5:\n",
    "    print('Primera infancia')\n",
    "elif 6 <= edad <= 11:\n",
    "    print('Infancia')\n",
    "elif 12 <= edad <= 18:\n",
    "    print('Adolescencia')    \n",
    "elif 19 <= edad <= 26:\n",
    "    print('Juventud')\n",
    "elif 27 <= edad <= 59:\n",
    "    print('Adultez')\n",
    "else:\n",
    "    print('Persona mayor')\n"
   ]
  },
  {
   "cell_type": "markdown",
   "metadata": {},
   "source": [
    "Me costo trabajo saber como acomodar los valores y la variable, tambien en como usar los comparadores ya que me confundian un poco "
   ]
  },
  {
   "cell_type": "markdown",
   "metadata": {},
   "source": [
    "Ejercicio 12: Escribe un programa que tome una cadena de texto y que la divida en palabras, eliminando los espacios en blanco."
   ]
  },
  {
   "cell_type": "code",
   "execution_count": 20,
   "metadata": {},
   "outputs": [
    {
     "name": "stdout",
     "output_type": "stream",
     "text": [
      "['Un', 'perro', 'muy', 'hambriento', 'caminaba', 'de', 'aquí', 'para', 'allá', 'buscando', 'algo', 'para', 'comer']\n",
      "Unperromuyhambrientocaminabadeaquíparaallábuscandoalgoparacomer\n"
     ]
    }
   ],
   "source": [
    "cadena = ('Un perro muy hambriento caminaba de aquí para allá buscando algo para comer')\n",
    "print(cadena.split())\n",
    "\n",
    "print(cadena.replace(\" \",\"\"))"
   ]
  },
  {
   "cell_type": "markdown",
   "metadata": {},
   "source": [
    "este ejercicio no entendi muy bien lo que se pedia ya que decia que queria que el texto se dividiera pero que eliminara los espacios entonces no supe si queria que se dividiera como una lista  o que si quedara como una cadena de texto pero sin espacios"
   ]
  },
  {
   "cell_type": "markdown",
   "metadata": {},
   "source": [
    "Ejercicio 13:Crea un programa que tome dos listas de números y que devuelva una tercera lista con los elementos comunes a ambas."
   ]
  },
  {
   "cell_type": "code",
   "execution_count": 21,
   "metadata": {},
   "outputs": [
    {
     "name": "stdout",
     "output_type": "stream",
     "text": [
      "{2, 3, 4, 8, 11, 23}\n"
     ]
    }
   ],
   "source": [
    "lista1 = {2, 4, 7, 6, 2, 3, 8, 6, 9, 3, 2, 0, 4, 11, 23}\n",
    "lista2 = {1, 2, 3, 4, 5, 8, 20, 22, 11, 23}\n",
    "comun = lista1 & lista2\n",
    "print(comun)"
   ]
  },
  {
   "cell_type": "markdown",
   "metadata": {},
   "source": [
    "Aquí solo fue que por un momento olvide que para conjuntos se usaban llaves en lugar de corchetes "
   ]
  },
  {
   "cell_type": "markdown",
   "metadata": {},
   "source": [
    "Ejercicio 14: Escribe un programa que tome una cadena de texto y que cuente cuántas palabras hay en ella."
   ]
  },
  {
   "cell_type": "code",
   "execution_count": 22,
   "metadata": {},
   "outputs": [
    {
     "name": "stdout",
     "output_type": "stream",
     "text": [
      "13\n"
     ]
    }
   ],
   "source": [
    "cadena = ('Un perro muy hambriento caminaba de aquí para allá buscando algo para comer')\n",
    "cadena2 = len(cadena.split())\n",
    "print(cadena2)"
   ]
  },
  {
   "cell_type": "markdown",
   "metadata": {},
   "source": [
    "Fue complicado ya que no encontraba la manera de contar el numero de palabras en una cadena de texto y lo mejor que se me ocurrio fue conevertirlo a lista y mejor contar el numero de objetos en este caso las palabras"
   ]
  },
  {
   "cell_type": "markdown",
   "metadata": {},
   "source": [
    "Ejercicio 15: Crea un programa que calcule el área de un círculo a partir del radio ingresado por el usuario."
   ]
  },
  {
   "cell_type": "code",
   "execution_count": 2,
   "metadata": {},
   "outputs": [
    {
     "name": "stdout",
     "output_type": "stream",
     "text": [
      "28.2744\n"
     ]
    }
   ],
   "source": [
    "radio = float(input('Ingrese el radio: '))\n",
    "pi = 3.1416\n",
    "area = pi * (radio)**2\n",
    "print(area)"
   ]
  },
  {
   "cell_type": "markdown",
   "metadata": {},
   "source": [
    "Aqui no sabia si tenia que buscar algun tipo de funcion para obtener de alguna forma PI, pero lo agregue como otra variable mas."
   ]
  },
  {
   "cell_type": "markdown",
   "metadata": {},
   "source": [
    "Ejercicio 16: Escribe un programa que tome una lista de números y que devuelva la media aritmética."
   ]
  },
  {
   "cell_type": "code",
   "execution_count": 26,
   "metadata": {},
   "outputs": [
    {
     "name": "stdout",
     "output_type": "stream",
     "text": [
      "8.764705882352942\n"
     ]
    }
   ],
   "source": [
    "lista = [2, 4, 7, 6, 2, 3, 8, 6, 9, 3, 2, 0, 4, 11, 23, 24, 35]\n",
    "total1 = len(lista)\n",
    "total2 = 0\n",
    "\n",
    "for num in lista:\n",
    "    total2 = total2 + num\n",
    "\n",
    "promedio = total2/total1\n",
    "print(promedio)"
   ]
  },
  {
   "cell_type": "markdown",
   "metadata": {},
   "source": [
    "Lo que se me complico aqui es que yo declare la variable promedio despues del \"total2\" y cuando hacia correr el programa no me daba resultado fue que hasta poner la variable \"promedio\" despues de la condicional for me dio el resultado pero no entendi bien por que sucedia esto."
   ]
  },
  {
   "cell_type": "markdown",
   "metadata": {},
   "source": [
    "Ejercicio 17: Crea un programa que reciba dos números ingresados por el usuario y que devuelva su producto."
   ]
  },
  {
   "cell_type": "code",
   "execution_count": 5,
   "metadata": {},
   "outputs": [
    {
     "name": "stdout",
     "output_type": "stream",
     "text": [
      "15.0\n"
     ]
    }
   ],
   "source": [
    "num1 = float(input('Ingrese primer numero: '))\n",
    "num2 = float(input('Ingrese segundo numero: '))\n",
    "producto = num1 * num2\n",
    "print(producto)"
   ]
  },
  {
   "cell_type": "markdown",
   "metadata": {},
   "source": [
    "Este fue sencillo"
   ]
  },
  {
   "cell_type": "markdown",
   "metadata": {},
   "source": [
    "Ejercicio 18: Escribe un programa que tome una lista de palabras y que devuelva una lista con todas las palabras en mayúsculas"
   ]
  },
  {
   "cell_type": "code",
   "execution_count": 27,
   "metadata": {},
   "outputs": [
    {
     "name": "stdout",
     "output_type": "stream",
     "text": [
      "['GATO', 'PERRO', 'ARBOL', 'CASA', 'CARRO', 'BUS', 'TIENDA', 'MERCADO']\n"
     ]
    }
   ],
   "source": [
    "palabras = ['gato', 'perro', 'arbol', 'casa', 'carro', 'bus', 'tienda', 'mercado']\n",
    "cadena = \" \".join(palabras)\n",
    "mayusculas = cadena.upper()\n",
    "print (mayusculas.split())"
   ]
  },
  {
   "cell_type": "markdown",
   "metadata": {},
   "source": [
    "Lo que se me ocurrio aqui fue volver toda la lista en una cadena de texto por que no encontraba la manera de convertir directamente la lista a mayusculas y una vez tuviera la cadena volverlos mayusculas y despues volver a transformala en una lista."
   ]
  },
  {
   "cell_type": "markdown",
   "metadata": {},
   "source": [
    "Ejercicio 19: Crea un programa que tome una lista de números y que devuelva la suma de aquellos que son mayores a un valor específico ingresado por el usuario."
   ]
  },
  {
   "cell_type": "code",
   "execution_count": 28,
   "metadata": {},
   "outputs": [
    {
     "name": "stdout",
     "output_type": "stream",
     "text": [
      "Ingrese su numero: 13\n",
      "47\n"
     ]
    }
   ],
   "source": [
    "lista = [2, 4, 7, 6, 2, 3, 8, 6, 9, 3, 2, 0, 4, 11, 23, 24]\n",
    "numero = float(input('Ingrese su numero: '))\n",
    "suma = 0\n",
    "for num in lista:\n",
    "    if numero < num:\n",
    "        suma = suma + num\n",
    "print (suma)\n"
   ]
  },
  {
   "cell_type": "markdown",
   "metadata": {},
   "source": [
    "Aqui tuve que utilizar dos condicionales un for para poder comparar en cada variable el numero dado y el if para saber si el numero agregado era mayor a los otros numero y de no ser asi agregar ese numero en otra variable pero asi sumarlas y al final tener el resultado"
   ]
  },
  {
   "cell_type": "markdown",
   "metadata": {},
   "source": [
    "Ejercicio 20: Escribe un programa que tome una cadena de texto y que devuelva una nueva cadena con todas las letras en mayúsculas excepto la primera letra de cada palabra, que debe ser en minúsculas."
   ]
  },
  {
   "cell_type": "code",
   "execution_count": 29,
   "metadata": {},
   "outputs": [
    {
     "name": "stdout",
     "output_type": "stream",
     "text": [
      "uN pERRO mUY hAMBRIENTO cAMINABA dE aQUÍ pARA aLLÁ bUSCANDO aLGO pARA cOMER\n"
     ]
    }
   ],
   "source": [
    "cadena = ('Un perro muy hambriento caminaba de aquí para allá buscando algo para comer')\n",
    "mayusculas = cadena.title()\n",
    "print(mayusculas.swapcase())"
   ]
  },
  {
   "cell_type": "markdown",
   "metadata": {},
   "source": [
    "Con este tuve un poco de problema ya que en clase no vimos el title y el swapcase, pero como me estaba costando hacerlo con solo lo que vimos en clase decidi investigar un poco mas solo que no se si ese era el fin de este ejercicio."
   ]
  }
 ],
 "metadata": {
  "kernelspec": {
   "display_name": "Python 3 (ipykernel)",
   "language": "python",
   "name": "python3"
  },
  "language_info": {
   "codemirror_mode": {
    "name": "ipython",
    "version": 3
   },
   "file_extension": ".py",
   "mimetype": "text/x-python",
   "name": "python",
   "nbconvert_exporter": "python",
   "pygments_lexer": "ipython3",
   "version": "3.10.11"
  }
 },
 "nbformat": 4,
 "nbformat_minor": 2
}
