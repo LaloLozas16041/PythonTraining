{
 "cells": [
  {
   "cell_type": "markdown",
   "id": "b1ab7021",
   "metadata": {},
   "source": [
    "# TAREA SEMANA 1: FUNDAMENTOS DE PYTHON\n",
    "## Nombre: Pérez Araiza José Antonio\n",
    "### Ejercicio 1\n",
    "#### Crea un programa que tome un número ingresado por el usuario y determine si es par o impar.\n"
   ]
  },
  {
   "cell_type": "code",
   "execution_count": null,
   "id": "efcda618",
   "metadata": {},
   "outputs": [],
   "source": [
    "numero = int(input(\"PONGA UN NUMERO: \")) \n",
    "if numero % 2 == 0:\n",
    "    print('ESTE NUMERO ES PAR')\n",
    "else:\n",
    "    print(\"ESTE NUMERO ES IMPAR\")"
   ]
  },
  {
   "cell_type": "code",
   "execution_count": null,
   "id": "349a1a8a",
   "metadata": {},
   "outputs": [],
   "source": [
    "# no hubo mayor problema."
   ]
  },
  {
   "cell_type": "markdown",
   "id": "dc899f38",
   "metadata": {},
   "source": [
    "### Ejercicio 2\n",
    "#### Escribe un programa que convierta una cadena de texto en mayúsculas."
   ]
  },
  {
   "cell_type": "code",
   "execution_count": null,
   "id": "8f71d86a",
   "metadata": {},
   "outputs": [],
   "source": [
    "texto = \"hola hola\"\n",
    "\n",
    "texto_upper = texto.upper()\n",
    "print(texto_upper)"
   ]
  },
  {
   "cell_type": "code",
   "execution_count": null,
   "id": "91ab98d7",
   "metadata": {},
   "outputs": [],
   "source": [
    "#Tuve una confusion con la variable _upper y el comando .upper al momento de ejecutar el print."
   ]
  },
  {
   "cell_type": "markdown",
   "id": "5170ace9",
   "metadata": {},
   "source": [
    "### Ejercicio 3\n",
    "#### Crea un programa que lea una cadena de texto ingresada por el usuario y que cuente cuántas veces aparece una letra específica en ella."
   ]
  },
  {
   "cell_type": "code",
   "execution_count": null,
   "id": "f34750a6",
   "metadata": {},
   "outputs": [],
   "source": [
    "texto = input(\"ingresa texto: \")\n",
    "letra = input('Que letra desea contar: ')\n",
    "\n",
    "conteo = texto.count(letra)\n",
    "print(conteo)"
   ]
  },
  {
   "cell_type": "code",
   "execution_count": null,
   "id": "cdeef303",
   "metadata": {},
   "outputs": [],
   "source": [
    "#en este ejercicio me tarde un poco pues no estaba seguro que funcion utilizar."
   ]
  },
  {
   "cell_type": "markdown",
   "id": "c675358e",
   "metadata": {},
   "source": [
    "### Ejercicio 4\n",
    "#### Escribe un programa que determine si un número es primo o no."
   ]
  },
  {
   "cell_type": "code",
   "execution_count": null,
   "id": "e81b4e5a",
   "metadata": {},
   "outputs": [],
   "source": [
    "print (\"Escriba un numero\")\n",
    "numero = input()\n",
    "a = int(numero)\n",
    "i = 0\n",
    "x = 0\n",
    "if a == 1:\n",
    "    print (a,\"Es primo\")\n",
    "elif a == 2:\n",
    "    print (a,\"Es primo\")\n",
    "else:\n",
    "    while i < a/2:\n",
    "        resto = a%(2+i)\n",
    "        if resto:\n",
    "            i = i+1\n",
    "        else:\n",
    "            print (a,\"No es primo\")\n",
    "            x = 1\n",
    "            break\n",
    "if x:\n",
    "    pass\n",
    "else:\n",
    "     print (a,\"Es primo\")"
   ]
  },
  {
   "cell_type": "code",
   "execution_count": null,
   "id": "09668877",
   "metadata": {},
   "outputs": [],
   "source": [
    "# lo difícil de este ejercicio para empezar fue entender como funcionan los numeros primos y la lógica del ciclo y el break."
   ]
  },
  {
   "cell_type": "markdown",
   "id": "be7625ec",
   "metadata": {},
   "source": [
    "### Ejercicio 5\n",
    "#### Crea un programa que calcule el área de un triángulo a partir de la base y la altura ingresadas por el usuario.¶"
   ]
  },
  {
   "cell_type": "code",
   "execution_count": null,
   "id": "31a88ed2",
   "metadata": {},
   "outputs": [],
   "source": [
    "print (\"Cual es la base del triangulo en cm\")\n",
    "base = input()\n",
    "b = float(base)\n",
    "print (\"Determina la altura del triangulo en cm\")\n",
    "altura = input()\n",
    "a = float(altura)\n",
    "area = b*a/2\n",
    "print (\"El area del triangulo es de\",area,\"cm cuadrados\")"
   ]
  },
  {
   "cell_type": "code",
   "execution_count": null,
   "id": "4f1add04",
   "metadata": {},
   "outputs": [],
   "source": [
    "# no hubo mayor tema."
   ]
  },
  {
   "cell_type": "markdown",
   "id": "6d178508",
   "metadata": {},
   "source": [
    "### Ejercicio 6\n",
    "#### Escribe un programa que tome una lista de números y devuelva la suma de todos ellos."
   ]
  },
  {
   "cell_type": "code",
   "execution_count": null,
   "id": "c2fe9fbc",
   "metadata": {},
   "outputs": [],
   "source": [
    "lista = []\n",
    "print (\"Establece el numero de elementos de tu lista\")\n",
    "x = int(input())\n",
    "y = 0\n",
    "while y < x:\n",
    "    a = y+1\n",
    "    print (\"Ingresa el valor numero\",a)\n",
    "    num = int(input())\n",
    "    lista.append(num)\n",
    "    y = y+1\n",
    "y = y-1\n",
    "suma = lista[y]\n",
    "while y > 0:\n",
    "    suma = suma+lista[y-1]\n",
    "    y = y-1\n",
    "print (\"La suma es\",suma)"
   ]
  },
  {
   "cell_type": "code",
   "execution_count": null,
   "id": "b820ddbf",
   "metadata": {},
   "outputs": [],
   "source": [
    "# tampoco hubo mayor complicacion"
   ]
  },
  {
   "cell_type": "markdown",
   "id": "cf2ef43a",
   "metadata": {},
   "source": [
    "### Ejercicio 7 \n",
    "#### Crea un programa que reciba una lista de nombres y que imprima solo aquellos que comiencen con una letra específica dada por el usuario."
   ]
  },
  {
   "cell_type": "code",
   "execution_count": null,
   "id": "ebbb4533",
   "metadata": {},
   "outputs": [],
   "source": [
    "lista = []\n",
    "x = 0\n",
    "y = 1\n",
    "while y:\n",
    "    print (\"Escriba un nombre\")\n",
    "    nom = input()\n",
    "    \n",
    "    lista.insert(x,nom)\n",
    "    print (\"Deseas introducir otro nombre? S/N\")\n",
    "    con = input()\n",
    "    con = con.lower()\n",
    "    if con == \"s\":\n",
    "        x = x+1\n",
    "    else:\n",
    "        y = 0\n",
    "print (\"Especifica la inicial de los nombre que se conservaran\")\n",
    "ini = input()\n",
    "ini = ini.lower()\n",
    "a = 0\n",
    "cadena = \"\"\n",
    "while a <= x:\n",
    "    nom = lista[a]\n",
    "    innom = nom[0]\n",
    "    innom = innom.lower()\n",
    "    if innom == ini:\n",
    "        cadena = cadena + \" \" + lista[a]\n",
    "    else:\n",
    "        pass\n",
    "    a = a+1\n",
    "cadena = cadena.strip()\n",
    "cadena = cadena.upper()\n",
    "print (cadena)"
   ]
  },
  {
   "cell_type": "code",
   "execution_count": null,
   "id": "3b007f1b",
   "metadata": {},
   "outputs": [],
   "source": [
    "# si costo un poco de trabajo pues algunas variables me arrojaba error despues de poner un nombre en el input."
   ]
  },
  {
   "cell_type": "markdown",
   "id": "bb1d484d",
   "metadata": {},
   "source": [
    "### Ejercicio 8\n",
    "#### Escribe un programa que determine si una cadena de texto es palíndromo o no."
   ]
  },
  {
   "cell_type": "code",
   "execution_count": null,
   "id": "ab659b2f",
   "metadata": {},
   "outputs": [],
   "source": [
    "print (\"Escribe una frase\")\n",
    "frase = input()\n",
    "frase = frase.split(\" \")\n",
    "a = len(frase)-1\n",
    "cadena = \"\"\n",
    "flag = 1\n",
    "while a >= 0:\n",
    "    cadena = frase[a] + cadena\n",
    "    a = a-1\n",
    "cadena = cadena.lower()\n",
    "a = len(cadena)%2\n",
    "x = 0\n",
    "if a:\n",
    "    b = (len(cadena)-1)/2\n",
    "    c = int(b)\n",
    "    while x < b:\n",
    "        if cadena[c-1] == cadena[-c]:\n",
    "            x = x+1\n",
    "            c = c-1\n",
    "            flag = 0\n",
    "        else:\n",
    "            flag = 1\n",
    "            break\n",
    "else:\n",
    "    b = len(cadena)/2\n",
    "    c = int(b)\n",
    "    while x < b:\n",
    "        if cadena[c-1] == cadena[-c]:\n",
    "            x = x+1\n",
    "            c = c-1\n",
    "            flag = 0\n",
    "        else:\n",
    "            flag = 1\n",
    "            break\n",
    "if flag:\n",
    "    print (\"No es palindromo\")\n",
    "else:\n",
    "    print (\"Es palindromo\")"
   ]
  },
  {
   "cell_type": "markdown",
   "id": "71c0116d",
   "metadata": {},
   "source": [
    "### Ejercicio 9\n",
    "#### Crea un programa que tome una lista de números  elimine todos los duplicados."
   ]
  },
  {
   "cell_type": "code",
   "execution_count": null,
   "id": "c252db42",
   "metadata": {},
   "outputs": [],
   "source": [
    "lista = []\n",
    "y = 0\n",
    "x = 1\n",
    "while x:\n",
    "    print (\"Escribe un numero\")\n",
    "    num = int(input())\n",
    "    lista.insert(y,num)\n",
    "    print (\"quieres capturar otro numero? S/N\")\n",
    "    s = input()\n",
    "    s = s.lower()\n",
    "    if s == \"s\":\n",
    "        y = y+1\n",
    "    else:\n",
    "        x = 0\n",
    "lista = set(lista)\n",
    "print (lista)"
   ]
  },
  {
   "cell_type": "code",
   "execution_count": null,
   "id": "36580259",
   "metadata": {},
   "outputs": [],
   "source": [
    "# fue facil uitilizando la función set."
   ]
  },
  {
   "cell_type": "markdown",
   "id": "6d716c1e",
   "metadata": {},
   "source": [
    "### Ejercicio 10\n",
    "#### Escribe un programa que tome una lista de números y devuelva el valor máximo."
   ]
  },
  {
   "cell_type": "code",
   "execution_count": null,
   "id": "a562f7d4",
   "metadata": {},
   "outputs": [],
   "source": [
    "lista = [25,34,6,23,98,56,3,12,63]\n",
    "lista = sorted(lista)\n",
    "print (lista[-1])"
   ]
  },
  {
   "cell_type": "code",
   "execution_count": null,
   "id": "a5e897ab",
   "metadata": {},
   "outputs": [],
   "source": [
    "# haciendo uso de la funcion sorted fue cmas facil acomodar los datos y solo imprimir el primero de la derecha"
   ]
  },
  {
   "cell_type": "markdown",
   "id": "57556f8f",
   "metadata": {},
   "source": [
    "### Ejercicio 11\n",
    "#### Crea un programa que solicite al usuario su edad y que determine en etapa de la vida se encuentra:\n",
    "    | Primera infancia (0-5 años)\n",
    "    | -Infancia (6-11 años)\n",
    "    | Adolescencia (12-18 años)\n",
    "    | Juventud (19-26 años)\n",
    "    | Adultez (27-59 años)\n",
    "    | Persona mayor (60 o mas años)\n",
    "    "
   ]
  },
  {
   "cell_type": "code",
   "execution_count": null,
   "id": "d720b4b7",
   "metadata": {},
   "outputs": [],
   "source": [
    "edad = int(input(\"Cual es su edad=\"))\n",
    "if edad <= 5:\n",
    "    print('Primera infancia')\n",
    "elif edad >= 6 and edad <= 11:\n",
    "    print('Infancia')\n",
    "if edad >=12 and edad <=18:\n",
    "    print(\"Adolescencia\")\n",
    "elif edad >=19 and edad <=26:\n",
    "    print(\"Juventud\")\n",
    "if edad >=27 and edad <=59:\n",
    "    print(\"Adultez\")\n",
    "elif edad >=60:\n",
    "    print(\"Persona mayor\")"
   ]
  },
  {
   "cell_type": "code",
   "execution_count": null,
   "id": "99172375",
   "metadata": {},
   "outputs": [],
   "source": [
    "# tuve problema al inicio con la sintaxis del if y elif pues despues del primer rango no colocaba de nuevo la variable edad."
   ]
  },
  {
   "cell_type": "markdown",
   "id": "c1ca7466",
   "metadata": {},
   "source": [
    "### Ejercicio 12\n",
    "#### Escribe un programa que tome una cadena de texto y que la divida en palabras, eliminando los espacios en blanco."
   ]
  },
  {
   "cell_type": "code",
   "execution_count": null,
   "id": "e20649d2",
   "metadata": {},
   "outputs": [],
   "source": [
    "print (\"Introduzca una frase\")\n",
    "frase = input()\n",
    "frase = frase.strip()\n",
    "frase = frase.split(\" \")\n",
    "a = 0\n",
    "b = len(frase)\n",
    "while a < b:\n",
    "    if frase[a] == \" \":\n",
    "        frase.pop(a)\n",
    "        b = b-1\n",
    "    elif frase[a] == \"\":\n",
    "        frase.pop(a)\n",
    "        b = b-1\n",
    "    else:\n",
    "        a = a+1\n",
    "print (frase)"
   ]
  },
  {
   "cell_type": "code",
   "execution_count": null,
   "id": "c3dcc015",
   "metadata": {},
   "outputs": [],
   "source": []
  },
  {
   "cell_type": "markdown",
   "id": "95e0028a",
   "metadata": {},
   "source": [
    "### Ejercicio 13\n",
    "#### Cree un rograma que tome dos listas de números y que devuelva una tercera lista con los elementos comunes a ambas."
   ]
  },
  {
   "cell_type": "code",
   "execution_count": null,
   "id": "797f9fc8",
   "metadata": {},
   "outputs": [],
   "source": [
    "lista1 = {24, 6, 58, 29, 57, 90, 5, 78, 23, 45, 4, 7, 98}\n",
    "lista2 = {25, 6, 5, 85, 29, 50, 70, 5, 78, 27, 46, 4, 7, 148}\n",
    "lista3 = lista1.intersection(lista2)\n",
    "print (lista3)"
   ]
  },
  {
   "cell_type": "code",
   "execution_count": null,
   "id": "a4699d8e",
   "metadata": {},
   "outputs": [],
   "source": []
  },
  {
   "cell_type": "markdown",
   "id": "11407a0b",
   "metadata": {},
   "source": [
    "### Ejercicio 14\n",
    "#### Escribe un programa que tome una cadena de texto y que cuente cuantas palabras hay en ella."
   ]
  },
  {
   "cell_type": "code",
   "execution_count": null,
   "id": "b8b7db57",
   "metadata": {},
   "outputs": [],
   "source": [
    "print (\"Introduce una frase\")\n",
    "frase = input()\n",
    "frase = frase.strip()\n",
    "frase = frase.split(\" \")\n",
    "a = 0\n",
    "b = len(frase)\n",
    "while a < b:\n",
    "    if frase[a] == \" \":\n",
    "        frase.pop(a)\n",
    "        b = b-1\n",
    "    elif frase[a] == \"\":\n",
    "        frase.pop(a)\n",
    "        b = b-1\n",
    "    else:\n",
    "        a = a+1\n",
    "print (\"Hay\",len (frase),\"palabras\")"
   ]
  },
  {
   "cell_type": "code",
   "execution_count": null,
   "id": "4b80b82b",
   "metadata": {},
   "outputs": [],
   "source": [
    "# similar al ejercicio 12 usando split."
   ]
  },
  {
   "cell_type": "markdown",
   "id": "c7b95d93",
   "metadata": {},
   "source": [
    "### Ejercicio 15\n",
    "#### Crea un programa que calcule el área de un círculo a partir del radio ingresado por el usuario."
   ]
  },
  {
   "cell_type": "code",
   "execution_count": null,
   "id": "88acf6af",
   "metadata": {},
   "outputs": [],
   "source": [
    "import math\n",
    "radio = float(input(\"INGRESE EL RADIO: \"))\n",
    "area = math.pi * radio**2\n",
    "print(f\"El area de su circulo es:{area}\")"
   ]
  },
  {
   "cell_type": "code",
   "execution_count": null,
   "id": "4bc70a72",
   "metadata": {},
   "outputs": [],
   "source": []
  },
  {
   "cell_type": "markdown",
   "id": "9aa79ab1",
   "metadata": {},
   "source": [
    "### Ejercicio 16 \n",
    "#### Escribe un programa que tome una lista de números y que devuelva la media aritmética."
   ]
  },
  {
   "cell_type": "code",
   "execution_count": null,
   "id": "e5b61369",
   "metadata": {},
   "outputs": [],
   "source": [
    "lista = [75, 16, 15, 55, 19, 20, 10, 15, 28, 17, 36, 7, 9, 100]\n",
    "a = 0\n",
    "b = len(lista)\n",
    "num = 0\n",
    "while a < b:\n",
    "    num = num + lista[a]\n",
    "    a = a+1\n",
    "num = num/len(lista)\n",
    "print (num)"
   ]
  },
  {
   "cell_type": "code",
   "execution_count": null,
   "id": "c6c38773",
   "metadata": {},
   "outputs": [],
   "source": []
  },
  {
   "cell_type": "markdown",
   "id": "aeb0babc",
   "metadata": {},
   "source": [
    "### Ejercicio 17\n",
    "#### Crea un programa que que reciba dos números ingresados por el usuario y que devuelva su producto."
   ]
  },
  {
   "cell_type": "code",
   "execution_count": null,
   "id": "f2a7a0ef",
   "metadata": {},
   "outputs": [],
   "source": [
    "print (\"Pon el primer numero\")\n",
    "a = float(input())\n",
    "print (\"Pon el segundo numero\")\n",
    "b = float(input())\n",
    "c = a*b\n",
    "print (c)"
   ]
  },
  {
   "cell_type": "code",
   "execution_count": null,
   "id": "1fd09aeb",
   "metadata": {},
   "outputs": [],
   "source": []
  },
  {
   "cell_type": "markdown",
   "id": "8c5ba118",
   "metadata": {},
   "source": [
    "### Ejercicio 18\n",
    "#### Escribe un programa que tome una lista de palabras y que devuelva una lista con todas las palabras en mayúsculas."
   ]
  },
  {
   "cell_type": "code",
   "execution_count": null,
   "id": "6f17930f",
   "metadata": {},
   "outputs": [],
   "source": [
    "lista = [\"LETICIA\", \"tiene\", \"dos\", \"perritos\"]\n",
    "a = len(lista)\n",
    "b = 0\n",
    "lista1 = []\n",
    "mayus = \"\"\n",
    "while b < a:\n",
    "    mayus = lista[b]\n",
    "    mayus = mayus.upper()\n",
    "    lista1.insert(b, mayus)\n",
    "    b = b+1\n",
    "print(lista1)"
   ]
  },
  {
   "cell_type": "code",
   "execution_count": null,
   "id": "c44df677",
   "metadata": {},
   "outputs": [],
   "source": []
  },
  {
   "cell_type": "markdown",
   "id": "aeff0e8e",
   "metadata": {},
   "source": [
    "### Ejercicio 19\n",
    "#### Crea un programa que tome una lista de números y que devuelva la suma de aquellos que son mayores a un valor específico ingresado por el usuario."
   ]
  },
  {
   "cell_type": "code",
   "execution_count": 1,
   "id": "6020010b",
   "metadata": {},
   "outputs": [
    {
     "name": "stdout",
     "output_type": "stream",
     "text": [
      "Asigna un valor numerico para hacer una suma de los numeros mayores \n",
      "50\n",
      "La suma de los numeros mayores a 50.0 es 753\n"
     ]
    }
   ],
   "source": [
    "lista = [75, 4, 3, 65, 19, 40, 20, 1, 7, 17, 26, 43, 17, 100, 352, 161, 4, 3]\n",
    "print (\"Asigna un valor numerico para hacer una suma de los numeros mayores \")\n",
    "num = float(input())\n",
    "b = len (lista)\n",
    "a = 0\n",
    "suma = 0\n",
    "while a < b:\n",
    "    if lista[a] > num:\n",
    "        suma = suma + lista[a]\n",
    "        a = a+1\n",
    "    else:\n",
    "        a = a+1\n",
    "print (\"La suma de los numeros mayores a\",num,\"es\",suma)"
   ]
  },
  {
   "cell_type": "markdown",
   "id": "d934dea0",
   "metadata": {},
   "source": [
    "### Ejercicio 20\n",
    "#### Escribe un programa que tome una cadena de texto y que devuelva una nueva cadena con todas las letras en mayúsculas excepto la primera letra de cada palabra que debe ser en minúscula."
   ]
  },
  {
   "cell_type": "code",
   "execution_count": null,
   "id": "dc17d74c",
   "metadata": {},
   "outputs": [],
   "source": []
  },
  {
   "cell_type": "code",
   "execution_count": null,
   "id": "3460bc89",
   "metadata": {},
   "outputs": [],
   "source": []
  }
 ],
 "metadata": {
  "kernelspec": {
   "display_name": "Python 3 (ipykernel)",
   "language": "python",
   "name": "python3"
  },
  "language_info": {
   "codemirror_mode": {
    "name": "ipython",
    "version": 3
   },
   "file_extension": ".py",
   "mimetype": "text/x-python",
   "name": "python",
   "nbconvert_exporter": "python",
   "pygments_lexer": "ipython3",
   "version": "3.11.3"
  }
 },
 "nbformat": 4,
 "nbformat_minor": 5
}
