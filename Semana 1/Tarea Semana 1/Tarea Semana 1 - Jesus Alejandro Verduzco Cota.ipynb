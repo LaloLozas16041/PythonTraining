{
 "cells": [
  {
   "cell_type": "markdown",
   "id": "56450d0f",
   "metadata": {},
   "source": [
    "# TAREA SEMANA 1 : FUNDAMENTOS DE PYTHON\n",
    "## Nombre : Jesus Alejandro Verduzco Cota\n"
   ]
  },
  {
   "cell_type": "markdown",
   "id": "a49fb6c4",
   "metadata": {},
   "source": [
    "### Ejercicio 1\n",
    "Crea un programa que tome un número ingresado por el usuario y determine si es par o impar."
   ]
  },
  {
   "cell_type": "code",
   "execution_count": 1,
   "id": "e610966a",
   "metadata": {},
   "outputs": [
    {
     "name": "stdout",
     "output_type": "stream",
     "text": [
      "Ingresa un número: 5\n",
      "El número 5.0 es impar.\n"
     ]
    }
   ],
   "source": [
    "numero = float(input('Ingresa un número: '))\n",
    "if numero%2 == 0:\n",
    "    print(f'El número {numero} es par.')\n",
    "else:\n",
    "    print(f'El número {numero} es impar.')\n"
   ]
  },
  {
   "cell_type": "markdown",
   "id": "1dc2e797",
   "metadata": {},
   "source": [
    "### Explicación\n",
    "Si divides un número par entre 2 su remanente es 0, si su remanente es diferente de 0 sería impar. En el primer intento cometí el error de no haber convertido el input en un número, ya que es string originalmente."
   ]
  },
  {
   "cell_type": "markdown",
   "id": "75e8e187",
   "metadata": {},
   "source": [
    "### Ejercicio 2\n",
    "Escribe un programa que convierta una cadena de texto en mayúsculas."
   ]
  },
  {
   "cell_type": "code",
   "execution_count": 2,
   "id": "1e77992a",
   "metadata": {},
   "outputs": [
    {
     "name": "stdout",
     "output_type": "stream",
     "text": [
      "STRING\n"
     ]
    }
   ],
   "source": [
    "string = 'string'\n",
    "print(string.upper())\n"
   ]
  },
  {
   "cell_type": "markdown",
   "id": "2d1b9367",
   "metadata": {},
   "source": [
    "### Explicación\n",
    "Aquí simplemente recordé la función upper() con la que ya estaba familiarizado."
   ]
  },
  {
   "cell_type": "markdown",
   "id": "8635dafb",
   "metadata": {},
   "source": [
    "### Ejercicio 3\n",
    "Crea un programa que lea una cadena de texto ingresada por el usuario y que cuente cuántas veces aparece una letra específica en ella."
   ]
  },
  {
   "cell_type": "code",
   "execution_count": 3,
   "id": "2dea2514",
   "metadata": {},
   "outputs": [
    {
     "name": "stdout",
     "output_type": "stream",
     "text": [
      "Ingresa una palabra u oración:Hola me llamo Alejandro\n",
      "La letra a aparece 4 veces.\n"
     ]
    }
   ],
   "source": [
    "cadena_usuario = input('Ingresa una palabra u oración:').lower()\n",
    "letra = 'A'.lower()\n",
    "cont = 0\n",
    "\n",
    "for i in cadena_usuario:\n",
    "    if letra == i:\n",
    "        cont += 1\n",
    "    else:\n",
    "        cont += 0\n",
    "print(f'La letra {letra} aparece {cont} veces.')\n"
   ]
  },
  {
   "cell_type": "markdown",
   "id": "602f44f2",
   "metadata": {},
   "source": [
    "### Explicación\n",
    "Se ingresa la cadena y la letra a buscar, se inicia un ciclo for que va a comparar cada elemento de la cadena con la letra a buscar, cada vez que encuentre una coincidencia el contador aumenta 1 valor. Se convierte a minúscula tanto la cadena como la letra para evitar errores."
   ]
  },
  {
   "cell_type": "markdown",
   "id": "300c953c",
   "metadata": {},
   "source": [
    "### Ejercicio 4\n",
    "Escribe un programa que determine si un número es primo o no."
   ]
  },
  {
   "cell_type": "code",
   "execution_count": 4,
   "id": "2f9a3804",
   "metadata": {
    "scrolled": true
   },
   "outputs": [
    {
     "data": {
      "text/plain": [
       "True"
      ]
     },
     "metadata": {},
     "output_type": "display_data"
    },
    {
     "data": {
      "text/plain": [
       "False"
      ]
     },
     "metadata": {},
     "output_type": "display_data"
    },
    {
     "data": {
      "text/plain": [
       "False"
      ]
     },
     "metadata": {},
     "output_type": "display_data"
    }
   ],
   "source": [
    "def es_primo(num):\n",
    "  for i in range(2,num):\n",
    "    if num%i == 0:\n",
    "      return False\n",
    "  return True\n",
    "\n",
    "display(es_primo(5))\n",
    "display(es_primo(9))\n",
    "display(es_primo(10))"
   ]
  },
  {
   "cell_type": "markdown",
   "id": "46a62c21",
   "metadata": {},
   "source": [
    "### Explicación\n",
    " Número primo es aquel donde si haces la división por cualquier número que no sea 1 o él mismo, se obtiene un resto distinto de cero. Entonces, si dividiendo el numero ingresado por cada uno de los valores inferiores (sin contar el 1) se encuentra una operación con residuo de 0 significa que el número es divisible por otro, entonces no es primo. Tuve dificultades implementandolo con un for, me resultó mas sencillo con una función."
   ]
  },
  {
   "cell_type": "markdown",
   "id": "cec026c9",
   "metadata": {},
   "source": [
    "### Ejercicio 5\n",
    "Crea un programa que calcule el área de un triángulo a partir de la base y la altura ingresadas por el usuario."
   ]
  },
  {
   "cell_type": "code",
   "execution_count": 5,
   "id": "2b1d89f6",
   "metadata": {},
   "outputs": [
    {
     "name": "stdout",
     "output_type": "stream",
     "text": [
      "Ingrese la base del triángulo:5\n",
      "Ingrese la altura del triángulo:10\n",
      "El área es 25.0.\n"
     ]
    }
   ],
   "source": [
    "base = float(input('Ingrese la base del triángulo:'))\n",
    "h = float(input('Ingrese la altura del triángulo:'))\n",
    "print(f'El área es {(base*h)/2}.')"
   ]
  },
  {
   "cell_type": "markdown",
   "id": "75cb1581",
   "metadata": {},
   "source": [
    "### Explicación\n",
    "El área o superficie de un triángulo cualquiera es igual al producto de la base por la altura dividido por dos."
   ]
  },
  {
   "cell_type": "markdown",
   "id": "3e7c0a71",
   "metadata": {},
   "source": [
    "### Ejercicio 6\n",
    "Escribe un programa que tome una lista de números y devuelva la suma de todos ellos."
   ]
  },
  {
   "cell_type": "code",
   "execution_count": 6,
   "id": "ee4393e6",
   "metadata": {},
   "outputs": [
    {
     "data": {
      "text/plain": [
       "53"
      ]
     },
     "execution_count": 6,
     "metadata": {},
     "output_type": "execute_result"
    }
   ],
   "source": [
    "lista = [3,5,8,9,1,6,9,8,1,3]\n",
    "total = 0\n",
    "for n in lista:\n",
    "    total += n\n",
    "total"
   ]
  },
  {
   "cell_type": "code",
   "execution_count": 7,
   "id": "7fbbd298",
   "metadata": {},
   "outputs": [
    {
     "data": {
      "text/plain": [
       "53"
      ]
     },
     "execution_count": 7,
     "metadata": {},
     "output_type": "execute_result"
    }
   ],
   "source": [
    "# Comprobación\n",
    "sum(lista)"
   ]
  },
  {
   "cell_type": "markdown",
   "id": "5e482cc1",
   "metadata": {},
   "source": [
    "### Explicación\n",
    "Me pareció sencillo ya con la práctica adquirida en ciclos for, solo se define un total que inicia en cero y se va agregando cada elemento de la lista al total. Con la función sum() comprobé el resultado."
   ]
  },
  {
   "cell_type": "markdown",
   "id": "27ba98cf",
   "metadata": {},
   "source": [
    "### Ejercicio 7\n",
    "Crea un programa que reciba una lista de nombres y que imprima solo aquellos que comiencen con una letra específica dada por el usuario."
   ]
  },
  {
   "cell_type": "code",
   "execution_count": 8,
   "id": "088cfa17",
   "metadata": {},
   "outputs": [
    {
     "name": "stdout",
     "output_type": "stream",
     "text": [
      "Reyna\n"
     ]
    }
   ],
   "source": [
    "nombres = ['Pedro','María','Juan','Alberto','Angel','Reyna']\n",
    "letra = 'r'\n",
    "for nombre in nombres:\n",
    "    if nombre[0].lower() == letra.lower():\n",
    "        print(nombre)"
   ]
  },
  {
   "cell_type": "markdown",
   "id": "c553e90c",
   "metadata": {},
   "source": [
    "### Explicación\n",
    "Hay que hacer un ciclo que recorra todos los nombre en la lista y compare la letra de interes con el primer elemento del nombre en turno."
   ]
  },
  {
   "cell_type": "markdown",
   "id": "12d5497c",
   "metadata": {},
   "source": [
    "### Ejercicio 8\n",
    "Escribe un programa que determine si una cadena de texto es un palíndromo o no."
   ]
  },
  {
   "cell_type": "code",
   "execution_count": 9,
   "id": "2c469612",
   "metadata": {},
   "outputs": [
    {
     "name": "stdout",
     "output_type": "stream",
     "text": [
      "perro no es un palíndromo.\n"
     ]
    }
   ],
   "source": [
    "cadena_pal = 'reconocer'\n",
    "cadena_pal = 'perro'\n",
    "cadena_alr = ''\n",
    "for i in range(len(cadena_pal)):\n",
    "    cadena_alr += cadena_pal[(i+1)*-1]\n",
    "\n",
    "if cadena_alr == cadena_pal:\n",
    "    print(f'{cadena_pal} es un palíndromo.')\n",
    "else: \n",
    "    print(f'{cadena_pal} no es un palíndromo.')\n"
   ]
  },
  {
   "cell_type": "markdown",
   "id": "1bc7b473",
   "metadata": {},
   "source": [
    "### Explicación\n",
    "Lo primero que pensé es en voltear la palabra, almacenarla y compararla con la original. Lo complicado fue idear la forma de ir agregando a la nueva variable en su primera posición el último elemento de la cadena original, después en segunda posicion el penultimo elemento y asi sucesivamente. Después de definir el rango que iria de 0 a la longitud de la cadena original, formule que i siendo 0 si le sumabas 1 y multiplicas por -1 te da la ultima posición, siendo i 1 y aplicando la suma y multiplo da -2 y así lo solucioné."
   ]
  },
  {
   "cell_type": "markdown",
   "id": "a833b729",
   "metadata": {},
   "source": [
    "### Ejercicio 9\n",
    "Crea un programa que tome una lista de números y elimine todos los duplicados."
   ]
  },
  {
   "cell_type": "code",
   "execution_count": 10,
   "id": "84c57d67",
   "metadata": {},
   "outputs": [
    {
     "data": {
      "text/plain": [
       "[5, 9, 6, 2, 1, 3]"
      ]
     },
     "execution_count": 10,
     "metadata": {},
     "output_type": "execute_result"
    }
   ],
   "source": [
    "lista_num = [5,9,6,2,5,1,3,9]\n",
    "lista_nueva = []\n",
    "for i in lista_num:\n",
    "    if i not in lista_nueva:\n",
    "        lista_nueva.append(i)\n",
    "lista_nueva"
   ]
  },
  {
   "cell_type": "markdown",
   "id": "78f0164f",
   "metadata": {},
   "source": [
    "### Explicación\n",
    "Pense en crear una nueva lista vacía, con un ciclo for y un if se verifica que cada número no esté ya en la nueva lista, si no existe se agrega, si ya existe se continua al siguiente número."
   ]
  },
  {
   "cell_type": "markdown",
   "id": "881aa0cb",
   "metadata": {},
   "source": [
    "### Ejercicio 10\n",
    "Escribe un programa que tome una lista de números y devuelva el valor máximo."
   ]
  },
  {
   "cell_type": "code",
   "execution_count": 11,
   "id": "1b942fb2",
   "metadata": {},
   "outputs": [
    {
     "name": "stdout",
     "output_type": "stream",
     "text": [
      "33\n"
     ]
    }
   ],
   "source": [
    "lista_num2 = [5,9,6,2,5,1,3,9,33]\n",
    "\n",
    "max_val = lista_num2[0]\n",
    "for n in lista_num2:\n",
    "    if n > max_val:\n",
    "        max_val = n\n",
    "print(max_val)"
   ]
  },
  {
   "cell_type": "markdown",
   "id": "b3a9ce79",
   "metadata": {},
   "source": [
    "### Explicación\n",
    "Se toma el primer valor de la lista como primer candidato a numero mayor, después se itera sobre la lista de números tomando cada elemento y verificando si es mayor que el primer candidato a número mayor, si el numero actual de la iteración es mayor al candidato, ese se vuelve el número mayor hasta ese momento. Así se continua hasta que se termina la lista."
   ]
  },
  {
   "cell_type": "markdown",
   "id": "6e9f89f1",
   "metadata": {},
   "source": [
    "### Ejercicio 11\n",
    "Crea un programa que solicite al usuario su edad y que determine en que etapa de la vida se encuentra:\n",
    "Primera Infancia (0-5 años)\n",
    "Infancia (6 - 11 años)\n",
    "Adolescencia (12 - 18 años)\n",
    "Juventud (14 - 26 años)\n",
    "Adultez (27- 59 años)\n",
    "Persona Mayor (60 años o más).\n"
   ]
  },
  {
   "cell_type": "code",
   "execution_count": 12,
   "id": "3afd9ca0",
   "metadata": {},
   "outputs": [
    {
     "name": "stdout",
     "output_type": "stream",
     "text": [
      "Ingresa tu edad:28\n",
      "Adultez\n"
     ]
    }
   ],
   "source": [
    "edad = int(input('Ingresa tu edad:'))\n",
    "if edad < 0:\n",
    "    print('Edad no válida') \n",
    "elif edad >= 0 and edad <= 5:\n",
    "    print('Primera Infancia')\n",
    "elif edad >= 6 and edad <= 11:\n",
    "    print('Infancia')\n",
    "elif edad >= 12 and edad <= 18:\n",
    "    print('Adolescencia')\n",
    "elif edad >= 19 and edad <= 26:\n",
    "    print('Juventud')\n",
    "elif edad >= 27 and edad <= 59:\n",
    "    print('Adultez')\n",
    "else:\n",
    "    print('Persona mayor')"
   ]
  },
  {
   "cell_type": "markdown",
   "id": "b3970cbb",
   "metadata": {},
   "source": [
    "### Explicación\n",
    "Solo hay que hacer if's que encasillen cada grupo de edad, y para el último dejarlo en el else."
   ]
  },
  {
   "cell_type": "markdown",
   "id": "b1db49ce",
   "metadata": {},
   "source": [
    "### Ejercicio 12\n",
    "Escribe un programa que tome una cadena de texto y que la divida en palabras, eliminando los espacios en blanco."
   ]
  },
  {
   "cell_type": "code",
   "execution_count": 13,
   "id": "85ddf3fd",
   "metadata": {},
   "outputs": [
    {
     "name": "stdout",
     "output_type": "stream",
     "text": [
      "['Me', 'gusta', 'el', 'chocolate']\n"
     ]
    }
   ],
   "source": [
    "cadena_dividir = 'Me gusta el chocolate'\n",
    "cadena_dividida = cadena_dividir.split()\n",
    "print(cadena_dividida)"
   ]
  },
  {
   "cell_type": "markdown",
   "id": "063988a6",
   "metadata": {},
   "source": [
    "### Explicación\n",
    "La función .split() realiza esta función de forma sencilla."
   ]
  },
  {
   "cell_type": "markdown",
   "id": "8a1c964c",
   "metadata": {},
   "source": [
    "### Ejercicio 13\n",
    "Crea un programa que tome dos listas de números y que devuelva una tercera lista con los elementos comunes a ambas."
   ]
  },
  {
   "cell_type": "code",
   "execution_count": 14,
   "id": "9f88a2f7",
   "metadata": {},
   "outputs": [
    {
     "name": "stdout",
     "output_type": "stream",
     "text": [
      "[8, 9, 6, 7]\n"
     ]
    }
   ],
   "source": [
    "lista1 = [1,5,9,6,7,1,8]\n",
    "lista2 = [9,8,6,2,4,7,8]\n",
    "lista3 = list(set(lista1) & set(lista2))\n",
    "print(lista3)"
   ]
  },
  {
   "cell_type": "markdown",
   "id": "0d67f574",
   "metadata": {},
   "source": [
    "### Explicación\n",
    "Usando conjuntos y el operador \"&\" es sencillo, solo hay que convertir apropiadamente las listas a conjuntos y devolverlo a una lista."
   ]
  },
  {
   "cell_type": "markdown",
   "id": "df3108f5",
   "metadata": {},
   "source": [
    "### Ejercicio 14\n",
    "Escribe un programa que tome una cadena de texto y que cuente cuántas palabras hay en ella"
   ]
  },
  {
   "cell_type": "code",
   "execution_count": 15,
   "id": "d5604f52",
   "metadata": {},
   "outputs": [
    {
     "data": {
      "text/plain": [
       "6"
      ]
     },
     "execution_count": 15,
     "metadata": {},
     "output_type": "execute_result"
    }
   ],
   "source": [
    "cadena_dividir = 'Me gusta el chocolate amargo más'\n",
    "cadena_dividida = cadena_dividir.split()\n",
    "len(cadena_dividida)"
   ]
  },
  {
   "cell_type": "markdown",
   "id": "c9b76f0c",
   "metadata": {},
   "source": [
    "### Explicación\n",
    "Se divide la cadena con la función split y se guarda en una lista, después se ve cuántos elementos tiene esa lista."
   ]
  },
  {
   "cell_type": "markdown",
   "id": "cfa9c7b7",
   "metadata": {},
   "source": [
    "### Ejercicio 15\n",
    "Crea un programa que calcule el área de un círculo a partir del radio ingresado por el usuario."
   ]
  },
  {
   "cell_type": "code",
   "execution_count": 16,
   "id": "4eb8ed05",
   "metadata": {},
   "outputs": [
    {
     "name": "stdout",
     "output_type": "stream",
     "text": [
      "Ingresa el radio del círculo: 59\n",
      "10935.91\n"
     ]
    }
   ],
   "source": [
    "r = int(input('Ingresa el radio del círculo: '))\n",
    "pi = 3.1416\n",
    "area_cir = round(pi * (r**2),2)\n",
    "print(area_cir)"
   ]
  },
  {
   "cell_type": "markdown",
   "id": "a680f0b7",
   "metadata": {},
   "source": [
    "### Explicación\n",
    "Solo busqué la fórmula del área del circula usando el radio y la programé. En una de las pruebas me arrojó muchos decimales así que redondié con round()."
   ]
  },
  {
   "cell_type": "markdown",
   "id": "68a84db6",
   "metadata": {},
   "source": [
    "### Ejercicio 16\n",
    "Escribe un programa que tome una lista de números y que devuelva la media aritmética."
   ]
  },
  {
   "cell_type": "code",
   "execution_count": 17,
   "id": "cea9ce37",
   "metadata": {},
   "outputs": [
    {
     "name": "stdout",
     "output_type": "stream",
     "text": [
      "10.916666666666666\n"
     ]
    }
   ],
   "source": [
    "lista = [3,5,8,9,1,6,9,8,1,3,56,22]\n",
    "total = 0\n",
    "for n in lista:\n",
    "    total += n\n",
    "total\n",
    "\n",
    "media = total/len(lista)\n",
    "print(media)"
   ]
  },
  {
   "cell_type": "code",
   "execution_count": 18,
   "id": "f2fdb632",
   "metadata": {},
   "outputs": [
    {
     "name": "stdout",
     "output_type": "stream",
     "text": [
      "10.916666666666666\n"
     ]
    }
   ],
   "source": [
    "print(sum(lista)/len(lista))"
   ]
  },
  {
   "cell_type": "markdown",
   "id": "18d91ebb",
   "metadata": {},
   "source": [
    "### Explicación\n",
    "Es necesario sumar el total de la lista, contar cuántos elementos tiene y dividir el total sobre el número de elementos. Para sumar el total reutilicé el código del ejercicio 6."
   ]
  },
  {
   "cell_type": "markdown",
   "id": "66acd46a",
   "metadata": {},
   "source": [
    "### Ejercicio 17\n",
    "Crea un programa que reciba dos números ingresados por el usuario y que devuelva su producto."
   ]
  },
  {
   "cell_type": "code",
   "execution_count": 19,
   "id": "a69f7683",
   "metadata": {},
   "outputs": [
    {
     "name": "stdout",
     "output_type": "stream",
     "text": [
      "Ingresa el primero número: 5\n",
      "Ingresa el segundo número: 36\n",
      "El producto de los dos números es 180.0.\n"
     ]
    }
   ],
   "source": [
    "num1 = float(input('Ingresa el primero número: '))\n",
    "num2 = float(input('Ingresa el segundo número: '))\n",
    "print(f'El producto de los dos números es {round(num1*num2 , 2)}.')"
   ]
  },
  {
   "cell_type": "markdown",
   "id": "c1cac1a6",
   "metadata": {},
   "source": [
    "### Explicación\n",
    "Hay que obtener del usuario dos numeros, multiplicarlos y presentarlo."
   ]
  },
  {
   "cell_type": "markdown",
   "id": "a028d7e1",
   "metadata": {},
   "source": [
    "### Ejercicio 18\n",
    "Escribe un programa que tome una lista de palabras y que devuelva una lista con todas las palabras en mayúsculas."
   ]
  },
  {
   "cell_type": "code",
   "execution_count": 20,
   "id": "8affc639",
   "metadata": {},
   "outputs": [],
   "source": [
    "lista_palabras = ['Hola','me','llamo','alejandro','mucho','gusto']\n",
    "lista_mayusculas = []\n",
    "for palabra in lista_palabras:\n",
    "    lista_mayusculas.append(palabra.upper())"
   ]
  },
  {
   "cell_type": "code",
   "execution_count": 21,
   "id": "b2d2a86e",
   "metadata": {},
   "outputs": [
    {
     "name": "stdout",
     "output_type": "stream",
     "text": [
      "['HOLA', 'ME', 'LLAMO', 'ALEJANDRO', 'MUCHO', 'GUSTO']\n"
     ]
    }
   ],
   "source": [
    "print(lista_mayusculas)"
   ]
  },
  {
   "cell_type": "markdown",
   "id": "928f3e4c",
   "metadata": {},
   "source": [
    "### Explicación\n",
    "Primero intenté usar upper() en la lista, pero no funcionó ya que solo sirve en strings. Hice un ciclo for que convirtiera cada palabra en mayuscula y lo añadiera una nueva lista."
   ]
  },
  {
   "cell_type": "markdown",
   "id": "d00c1c07",
   "metadata": {},
   "source": [
    "### Ejercicio 19\n",
    "Crea un programa que tome una lista de números y que devuelva la suma de aquellos que son mayores a un valor específico ingresado por el usuario."
   ]
  },
  {
   "cell_type": "code",
   "execution_count": 22,
   "id": "e4e8b21d",
   "metadata": {},
   "outputs": [
    {
     "name": "stdout",
     "output_type": "stream",
     "text": [
      "17\n"
     ]
    }
   ],
   "source": [
    "numeros = [5,9,3,1,5,8,3,4,7]\n",
    "valor = 7\n",
    "tot = 0\n",
    "for n in numeros:\n",
    "    if n > valor:\n",
    "        tot += n\n",
    "print(tot)"
   ]
  },
  {
   "cell_type": "markdown",
   "id": "33aa1278",
   "metadata": {},
   "source": [
    "### Explicación\n",
    "Se define la lista, el valor de referencia y una variable para almacenar el total. Se recorre con un ciclo for cada número de la lista, si el número es mayor que el valor de referencia se añade la variable del total."
   ]
  },
  {
   "cell_type": "markdown",
   "id": "b48c00c4",
   "metadata": {},
   "source": [
    "### Ejercicio 20\n",
    "Escribe un programa que tome una cadena de texto y que devuelva una nueva cadena con todas las letras en mayúsculas excepto la primera letra de cada palabra, que debe ser en minúsculas."
   ]
  },
  {
   "cell_type": "code",
   "execution_count": 23,
   "id": "0ca4da5a",
   "metadata": {},
   "outputs": [
    {
     "name": "stdout",
     "output_type": "stream",
     "text": [
      "hOLA mE lLAMO aLEJANDRO \n"
     ]
    }
   ],
   "source": [
    "cadena_minus = 'Hola me llamo Alejandro'\n",
    "cadena_sep = cadena_minus.split()\n",
    "nueva_cadena = ''\n",
    "\n",
    "for word in cadena_sep:\n",
    "    nueva_cadena += word[0].lower() + word[1:].upper() + ' '\n",
    "    \n",
    "print(nueva_cadena)"
   ]
  },
  {
   "cell_type": "markdown",
   "id": "b3c3e893",
   "metadata": {},
   "source": [
    "### Explicación\n",
    "Decidí dividir la cadena por palabras en una lista y definir la nueva variable final, después se recorre la lista con un ciclo for donde en cada iteración se hace minúscula la primera letra, se hace mayuscula el resto de cada palabra, se suman dichas partes y se le agrega un espacio. En cada iteración se va sumando a la variable final el resultado de las operaciones anteriores."
   ]
  }
 ],
 "metadata": {
  "kernelspec": {
   "display_name": "Python 3 (ipykernel)",
   "language": "python",
   "name": "python3"
  },
  "language_info": {
   "codemirror_mode": {
    "name": "ipython",
    "version": 3
   },
   "file_extension": ".py",
   "mimetype": "text/x-python",
   "name": "python",
   "nbconvert_exporter": "python",
   "pygments_lexer": "ipython3",
   "version": "3.11.3"
  }
 },
 "nbformat": 4,
 "nbformat_minor": 5
}
