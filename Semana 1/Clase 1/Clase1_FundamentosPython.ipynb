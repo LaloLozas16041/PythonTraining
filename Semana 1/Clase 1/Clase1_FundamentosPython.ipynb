{
 "cells": [
  {
   "cell_type": "markdown",
   "metadata": {
    "id": "bIDMTVrBR0MW"
   },
   "source": [
    "# CLASE 1 : Introducción a Python"
   ]
  },
  {
   "cell_type": "code",
   "execution_count": 1,
   "metadata": {
    "id": "g13kvl9YRhaB"
   },
   "outputs": [
    {
     "name": "stdout",
     "output_type": "stream",
     "text": [
      "Hola Mundo\n"
     ]
    }
   ],
   "source": [
    "print(\"Hola Mundo\")"
   ]
  },
  {
   "cell_type": "code",
   "execution_count": 1,
   "metadata": {},
   "outputs": [
    {
     "name": "stdout",
     "output_type": "stream",
     "text": [
      "¿Cómo te llamas?\n",
      "Carolina\n",
      "Mucho gusto Carolina, espero que aprendamos juntos Python!\n"
     ]
    }
   ],
   "source": [
    "print(\"¿Cómo te llamas?\")\n",
    "nombre = input()\n",
    "print(f\"Mucho gusto {nombre}, espero que aprendamos juntos Python!\")"
   ]
  },
  {
   "cell_type": "markdown",
   "metadata": {
    "id": "Pqj2Y5oWUB2C"
   },
   "source": [
    "## Tipos de datos"
   ]
  },
  {
   "cell_type": "markdown",
   "metadata": {
    "id": "XYzndSE5myaK"
   },
   "source": [
    "### Texto o cadenas de caracteres"
   ]
  },
  {
   "cell_type": "code",
   "execution_count": 2,
   "metadata": {
    "id": "fX1ajo7ORhXS"
   },
   "outputs": [
    {
     "name": "stdout",
     "output_type": "stream",
     "text": [
      "azul perro  la escuela esta lejos\n",
      "azulperro la escuela esta lejos\n",
      "azul perro  la escuela esta lejos\n"
     ]
    }
   ],
   "source": [
    "string1 = \"azul\"\n",
    "string2 = \"perro\"\n",
    "string3 = \" la escuela esta lejos\"\n",
    "print(string1,string2,string3)\n",
    "print(string1 + string2 + string3)\n",
    "print(string1+' '+string2+' '+string3)"
   ]
  },
  {
   "cell_type": "code",
   "execution_count": 3,
   "metadata": {
    "id": "tteG_64NnBvH"
   },
   "outputs": [
    {
     "data": {
      "text/plain": [
       "str"
      ]
     },
     "execution_count": 3,
     "metadata": {},
     "output_type": "execute_result"
    }
   ],
   "source": [
    "type(string1)"
   ]
  },
  {
   "cell_type": "code",
   "execution_count": 4,
   "metadata": {},
   "outputs": [
    {
     "data": {
      "text/plain": [
       "int"
      ]
     },
     "execution_count": 4,
     "metadata": {},
     "output_type": "execute_result"
    }
   ],
   "source": [
    "# Recuerden que si asignamos un numero a una variable str su tipo cambiara a int \n",
    "string1=333\n",
    "type(string1)"
   ]
  },
  {
   "cell_type": "markdown",
   "metadata": {},
   "source": [
    "### Númericos como los enteros, decimales y complejos"
   ]
  },
  {
   "cell_type": "code",
   "execution_count": 3,
   "metadata": {
    "id": "J0WuF4U7RhUd"
   },
   "outputs": [],
   "source": [
    "integer1=1\n",
    "integer2=5\n",
    "integer3=12\n",
    "integer4=56"
   ]
  },
  {
   "cell_type": "code",
   "execution_count": 4,
   "metadata": {},
   "outputs": [
    {
     "name": "stdout",
     "output_type": "stream",
     "text": [
      "1 5 12 56\n"
     ]
    }
   ],
   "source": [
    "print(integer1,integer2,integer3,integer4)"
   ]
  },
  {
   "cell_type": "code",
   "execution_count": 9,
   "metadata": {},
   "outputs": [
    {
     "name": "stdout",
     "output_type": "stream",
     "text": [
      "Estos son los numeros =  1 , 5 , 12 y 56\n"
     ]
    }
   ],
   "source": [
    "print(\"Estos son los numeros = \",integer1,',',integer2,',',integer3,'y',integer4)"
   ]
  },
  {
   "cell_type": "code",
   "execution_count": 5,
   "metadata": {},
   "outputs": [
    {
     "name": "stdout",
     "output_type": "stream",
     "text": [
      "74\n"
     ]
    }
   ],
   "source": [
    "print(integer1+integer2+integer3+integer4)# 1+5+12+56"
   ]
  },
  {
   "cell_type": "code",
   "execution_count": 6,
   "metadata": {},
   "outputs": [
    {
     "name": "stdout",
     "output_type": "stream",
     "text": [
      "25\n"
     ]
    }
   ],
   "source": [
    "print(integer2**2) # 5^2"
   ]
  },
  {
   "cell_type": "code",
   "execution_count": 6,
   "metadata": {
    "id": "5Y8zSrBZnEsL"
   },
   "outputs": [
    {
     "data": {
      "text/plain": [
       "int"
      ]
     },
     "execution_count": 6,
     "metadata": {},
     "output_type": "execute_result"
    }
   ],
   "source": [
    "type(integer2)"
   ]
  },
  {
   "cell_type": "code",
   "execution_count": 7,
   "metadata": {
    "id": "n8FCv707RhSK"
   },
   "outputs": [
    {
     "name": "stdout",
     "output_type": "stream",
     "text": [
      "1.2 -4.2 5.123\n",
      "-5.04\n"
     ]
    }
   ],
   "source": [
    "float1 = 1.2\n",
    "float2 = -4.2\n",
    "float3 = 5.123\n",
    "print(float1,float2,float3)\n",
    "print(float1*float2) # 1.2*(-4.2)"
   ]
  },
  {
   "cell_type": "code",
   "execution_count": 8,
   "metadata": {
    "id": "Xu9bJ1QnnItf"
   },
   "outputs": [
    {
     "data": {
      "text/plain": [
       "float"
      ]
     },
     "execution_count": 8,
     "metadata": {},
     "output_type": "execute_result"
    }
   ],
   "source": [
    "type(float2)"
   ]
  },
  {
   "cell_type": "code",
   "execution_count": 9,
   "metadata": {},
   "outputs": [
    {
     "name": "stdout",
     "output_type": "stream",
     "text": [
      "(3+4j)\n",
      "La parte imaginaria de complex1 es 4.0 otra frase aqui\n",
      "La parte real de complex2 es 3.0 otra frase aqui\n"
     ]
    }
   ],
   "source": [
    "complex1 = complex(3 + 4j)\n",
    "print(complex1)\n",
    "print(\"La parte imaginaria de complex1 es\",complex1.imag,\"otra frase aqui\")\n",
    "print(f\"La parte real de complex2 es {complex1.real} otra frase aqui\")"
   ]
  },
  {
   "cell_type": "code",
   "execution_count": 10,
   "metadata": {},
   "outputs": [
    {
     "name": "stdout",
     "output_type": "stream",
     "text": [
      "(12-1j)\n",
      "La parte imaginaria de complex1 es -1.0\n",
      "La parte real de complex2 es 12.0\n"
     ]
    }
   ],
   "source": [
    "complex2 =complex(12,-1)\n",
    "print(complex2)\n",
    "print(\"La parte imaginaria de complex1 es\",complex2.imag)\n",
    "print(f\"La parte real de complex2 es {complex2.real}\")"
   ]
  },
  {
   "cell_type": "code",
   "execution_count": 11,
   "metadata": {},
   "outputs": [
    {
     "data": {
      "text/plain": [
       "complex"
      ]
     },
     "execution_count": 11,
     "metadata": {},
     "output_type": "execute_result"
    }
   ],
   "source": [
    "type(complex2)"
   ]
  },
  {
   "cell_type": "markdown",
   "metadata": {},
   "source": [
    "### Booleanos"
   ]
  },
  {
   "cell_type": "code",
   "execution_count": 12,
   "metadata": {
    "id": "B7XzgzO9ijqG"
   },
   "outputs": [
    {
     "name": "stdout",
     "output_type": "stream",
     "text": [
      "True False\n",
      "la variable bool1 dice True\n",
      "la variable bool2 dice False\n"
     ]
    }
   ],
   "source": [
    "bool1 = True\n",
    "bool2 = False\n",
    "print(bool1,bool2)\n",
    "print(f\"la variable bool1 dice {bool1}\")\n",
    "print(\"la variable bool2 dice\", bool2)"
   ]
  },
  {
   "cell_type": "code",
   "execution_count": 13,
   "metadata": {
    "id": "bhhxOKlCnNa7"
   },
   "outputs": [
    {
     "data": {
      "text/plain": [
       "bool"
      ]
     },
     "execution_count": 13,
     "metadata": {},
     "output_type": "execute_result"
    }
   ],
   "source": [
    "type(bool1)"
   ]
  },
  {
   "cell_type": "code",
   "execution_count": 14,
   "metadata": {},
   "outputs": [
    {
     "data": {
      "text/plain": [
       "0"
      ]
     },
     "execution_count": 14,
     "metadata": {},
     "output_type": "execute_result"
    }
   ],
   "source": [
    "# Para cambiar a 0 o 1 convertimos la variable booleana a entero\n",
    "int(False)"
   ]
  },
  {
   "cell_type": "code",
   "execution_count": 15,
   "metadata": {},
   "outputs": [
    {
     "data": {
      "text/plain": [
       "1"
      ]
     },
     "execution_count": 15,
     "metadata": {},
     "output_type": "execute_result"
    }
   ],
   "source": [
    "int(bool1)"
   ]
  },
  {
   "cell_type": "markdown",
   "metadata": {},
   "source": [
    "## Condicionales\n"
   ]
  },
  {
   "cell_type": "code",
   "execution_count": 52,
   "metadata": {},
   "outputs": [
    {
     "name": "stdout",
     "output_type": "stream",
     "text": [
      "Hola es mayor que 10\n"
     ]
    }
   ],
   "source": [
    "x = (\"Hola\")\n",
    "if x == \"Hola\":\n",
    "    print(f'{x} es mayor que 10')\n",
    "elif x < 10:\n",
    "    print(f'{x} es menor que 10')"
   ]
  },
  {
   "cell_type": "code",
   "execution_count": 53,
   "metadata": {},
   "outputs": [
    {
     "name": "stdout",
     "output_type": "stream",
     "text": [
      "Es True\n"
     ]
    }
   ],
   "source": [
    "x=True\n",
    "if x:\n",
    "    print(\"Es True\")\n",
    "else:\n",
    "    print(\"Es False\")\n",
    "    "
   ]
  },
  {
   "cell_type": "markdown",
   "metadata": {},
   "source": [
    "## Ejercicios en clase\n",
    "1. Escribe un programa que muestre en pantalla el resultado de la siguiente operación\n",
    "$$\\left (  \\frac{3+2}{2*5} \\right )^2$$"
   ]
  },
  {
   "cell_type": "markdown",
   "metadata": {},
   "source": [
    "2. Escribe un programa utilizando solo condicionales que reciba en pantalla un color y devuelva una frase indicando si el color pertenece o no al arcoiris. NOTA: Utilicen input para recibir el color por pantalla y las funciones lower() o upper() para estadarizar el texto.\n",
    "\n",
    "<img src = \"https://s1.significados.com/foto/colores-es.png?auto_optimize=low&width=655\">"
   ]
  },
  {
   "cell_type": "code",
   "execution_count": null,
   "metadata": {},
   "outputs": [],
   "source": []
  },
  {
   "cell_type": "code",
   "execution_count": null,
   "metadata": {},
   "outputs": [],
   "source": []
  },
  {
   "cell_type": "code",
   "execution_count": null,
   "metadata": {},
   "outputs": [],
   "source": []
  }
 ],
 "metadata": {
  "colab": {
   "private_outputs": true,
   "provenance": []
  },
  "kernelspec": {
   "display_name": "Python 3 (ipykernel)",
   "language": "python",
   "name": "python3"
  },
  "language_info": {
   "codemirror_mode": {
    "name": "ipython",
    "version": 3
   },
   "file_extension": ".py",
   "mimetype": "text/x-python",
   "name": "python",
   "nbconvert_exporter": "python",
   "pygments_lexer": "ipython3",
   "version": "3.10.10"
  }
 },
 "nbformat": 4,
 "nbformat_minor": 1
}
