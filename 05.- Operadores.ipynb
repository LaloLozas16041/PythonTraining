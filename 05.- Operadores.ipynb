{
  "nbformat": 4,
  "nbformat_minor": 0,
  "metadata": {
    "colab": {
      "provenance": [],
      "toc_visible": true
    },
    "kernelspec": {
      "name": "python3",
      "display_name": "Python 3"
    }
  },
  "cells": [
    {
      "cell_type": "markdown",
      "metadata": {
        "id": "s47zwXMk0BDU"
      },
      "source": [
        "# Variables booleanas y operadores de decisión\n",
        "\n"
      ]
    },
    {
      "cell_type": "markdown",
      "metadata": {
        "id": "1g57qvzgDhuy"
      },
      "source": [
        "## Booleanos\n",
        "\n",
        "**Dato booleano.** Es un tipo de dato que solamente puede tomar 2 valores: `True` (verdadero) o `False` (falso).\n",
        "\n",
        "**Variable lógica.** Variable que almacena datos booleanos."
      ]
    },
    {
      "cell_type": "code",
      "metadata": {
        "id": "gye-i_dlz33O",
        "colab": {
          "base_uri": "https://localhost:8080/"
        },
        "outputId": "a3f1d4b6-576b-4f07-bb82-751322c5f5aa"
      },
      "source": [
        "is_adult = True\n",
        "type(is_adult)"
      ],
      "execution_count": null,
      "outputs": [
        {
          "output_type": "execute_result",
          "data": {
            "text/plain": [
              "bool"
            ]
          },
          "metadata": {
            "tags": []
          },
          "execution_count": 1
        }
      ]
    },
    {
      "cell_type": "markdown",
      "metadata": {
        "id": "vZMLp1YN4_4-"
      },
      "source": [
        "**Observación.** Observad que tanto `True` como `False` únicamente tienen la primera letra mayúscula. Además, a diferencia de otros lenguajes de programación, como por ejemplo `R`, `Python` solamente admite los booleanos escritos de esta forma: `True` o `False`.\n",
        "\n"
      ]
    },
    {
      "cell_type": "markdown",
      "metadata": {
        "id": "SVFyPtpzDkyV"
      },
      "source": [
        "### Tablas de verdad\n",
        "\n",
        "Dadas dos variables lógicas, $A$ y $B$, , podemos definir los operadores básicos mediante tablas de verdad, donde el valor verdadero se representa con la letra $V$ o bien con un $1$, mientras que el valor falso se representa mediante la letra $F$ o bien con un $0$.\n",
        "\n",
        "La tabla de verdad para la variable $A$ sería\n",
        "\n",
        "| $A$ |\n",
        "| :---: |\n",
        "| $V$ |\n",
        "| $F$ |\n",
        "\n",
        "La tabla de verdad para la variable $B$ sería\n",
        "\n",
        "| $B$ |\n",
        "| :---: |\n",
        "| $V$ |\n",
        "| $F$ |\n",
        "\n"
      ]
    },
    {
      "cell_type": "markdown",
      "metadata": {
        "id": "TpzYQoYYDnON"
      },
      "source": [
        "#### Negación\n",
        "\n",
        "El operador negación aplicado a una variable se representa con $\\neg$ y devuelve el valor contrario.\n",
        "\n",
        "| $A$ | $\\neg A$ |\n",
        "| :---: | :---: |\n",
        "| $V$ | $F$ |\n",
        "| $F$ | $V$ |\n",
        "\n"
      ]
    },
    {
      "cell_type": "markdown",
      "metadata": {
        "id": "gDTb9pLDDo5R"
      },
      "source": [
        "#### Conjunción\n",
        "\n",
        "La conjunción entre dos variables se representa con $\\wedge$ y devuelve verdadero únicamente cuando ambas variables valen verdadero.\n",
        "\n",
        "| $A$ | $B$ | $A\\wedge B$ |\n",
        "| :---: | :---: | :---: |\n",
        "| $V$ | $V$ | $V$ |\n",
        "| $V$ | $F$ | $F$ |\n",
        "| $F$ | $V$ | $F$ |\n",
        "| $F$ | $F$ | $F$ |\n",
        "\n"
      ]
    },
    {
      "cell_type": "markdown",
      "metadata": {
        "id": "AS4LzZGcDqc5"
      },
      "source": [
        "#### Disyunción\n",
        "\n",
        "La disyunción entre dos variables se representa con $\\vee$ y devuelve verdadero cuando almenos una de las variables lógicas vale verdadero.\n",
        "\n",
        "| $A$ | $B$ | $A\\vee B$ |\n",
        "| :---: | :---: | :---: |\n",
        "| $V$ | $V$ | $V$ |\n",
        "| $V$ | $F$ | $V$ |\n",
        "| $F$ | $V$ | $V$ |\n",
        "| $F$ | $F$ | $F$ |\n",
        "\n"
      ]
    },
    {
      "cell_type": "markdown",
      "metadata": {
        "id": "VNJEPSYjDrrM"
      },
      "source": [
        "### Operadores lógicos en `Python`\n",
        "\n",
        "Para hacer la negación, utilizamos el operador `not`."
      ]
    },
    {
      "cell_type": "code",
      "metadata": {
        "id": "YedWFMKR49wc",
        "colab": {
          "base_uri": "https://localhost:8080/"
        },
        "outputId": "48eea8f2-4f88-4d15-8210-d039d39859fb"
      },
      "source": [
        "A = True\n",
        "not A"
      ],
      "execution_count": null,
      "outputs": [
        {
          "output_type": "execute_result",
          "data": {
            "text/plain": [
              "False"
            ]
          },
          "metadata": {
            "tags": []
          },
          "execution_count": 2
        }
      ]
    },
    {
      "cell_type": "code",
      "metadata": {
        "id": "bBaEocdf7Mjo",
        "colab": {
          "base_uri": "https://localhost:8080/"
        },
        "outputId": "b9f5c3b8-5349-496a-89d8-e87759e82490"
      },
      "source": [
        "B = False\n",
        "not B"
      ],
      "execution_count": null,
      "outputs": [
        {
          "output_type": "execute_result",
          "data": {
            "text/plain": [
              "True"
            ]
          },
          "metadata": {
            "tags": []
          },
          "execution_count": 3
        }
      ]
    },
    {
      "cell_type": "markdown",
      "metadata": {
        "id": "jneoqYgc7Pgm"
      },
      "source": [
        "Para hacer la conjunción entre dos variables lógicas, utilizamos el operador `and`."
      ]
    },
    {
      "cell_type": "code",
      "metadata": {
        "id": "KwQs5B1t7N1w",
        "colab": {
          "base_uri": "https://localhost:8080/"
        },
        "outputId": "9cf11d23-5471-4ad8-db80-c946edeaf7d5"
      },
      "source": [
        "A, B = True, True\n",
        "A and B"
      ],
      "execution_count": null,
      "outputs": [
        {
          "output_type": "execute_result",
          "data": {
            "text/plain": [
              "True"
            ]
          },
          "metadata": {
            "tags": []
          },
          "execution_count": 12
        }
      ]
    },
    {
      "cell_type": "code",
      "metadata": {
        "id": "34ucQLP97aNV",
        "colab": {
          "base_uri": "https://localhost:8080/"
        },
        "outputId": "3a08e7e4-655c-4c1a-f92a-3844b6aa4bc3"
      },
      "source": [
        "A and (not B)"
      ],
      "execution_count": null,
      "outputs": [
        {
          "output_type": "execute_result",
          "data": {
            "text/plain": [
              "False"
            ]
          },
          "metadata": {
            "tags": []
          },
          "execution_count": 13
        }
      ]
    },
    {
      "cell_type": "markdown",
      "metadata": {
        "id": "Ijh4Ji4D7dWX"
      },
      "source": [
        "Para hacer la disyunción entre dos variables lógicas, utilizamos el operador `or`."
      ]
    },
    {
      "cell_type": "code",
      "metadata": {
        "id": "KLQadtui7bGw",
        "colab": {
          "base_uri": "https://localhost:8080/"
        },
        "outputId": "767019f9-ec3a-4a42-de9e-8f668cac744b"
      },
      "source": [
        "A, B = False, False\n",
        "A or B"
      ],
      "execution_count": null,
      "outputs": [
        {
          "output_type": "execute_result",
          "data": {
            "text/plain": [
              "False"
            ]
          },
          "metadata": {
            "tags": []
          },
          "execution_count": 22
        }
      ]
    },
    {
      "cell_type": "code",
      "metadata": {
        "id": "4gMxSunp7iBa",
        "colab": {
          "base_uri": "https://localhost:8080/"
        },
        "outputId": "fdee777b-a23c-4703-8ca0-80cd18826f02"
      },
      "source": [
        "(not A) or B"
      ],
      "execution_count": null,
      "outputs": [
        {
          "output_type": "execute_result",
          "data": {
            "text/plain": [
              "True"
            ]
          },
          "metadata": {
            "tags": []
          },
          "execution_count": 23
        }
      ]
    },
    {
      "cell_type": "markdown",
      "metadata": {
        "id": "4LrbKUx_7lBi"
      },
      "source": [
        "### Operadores de comparación\n",
        "\n",
        "En `Python` podemos comparar datos y obtener un resultado booleano. Los operadores de comparación disponibles son\n",
        "\n",
        "| Operador | Significado |\n",
        "| :---: | :--- |\n",
        "| $>$ | Estrictamente mayor |\n",
        "| $\\ge$ | Mayor o igual |\n",
        "| $<$ | Estrictamente menor |\n",
        "| $\\le$ | Menor o igual |\n",
        "| $==$ | Igual |\n",
        "| $!=$ | Diferente |"
      ]
    },
    {
      "cell_type": "code",
      "metadata": {
        "id": "K6ai4SkG7i-B",
        "colab": {
          "base_uri": "https://localhost:8080/"
        },
        "outputId": "df55f715-6510-4a2c-a836-ecf777fec0ab"
      },
      "source": [
        "7 == 7.0"
      ],
      "execution_count": null,
      "outputs": [
        {
          "output_type": "execute_result",
          "data": {
            "text/plain": [
              "True"
            ]
          },
          "metadata": {
            "tags": []
          },
          "execution_count": 31
        }
      ]
    },
    {
      "cell_type": "code",
      "metadata": {
        "id": "TCZ848jt8K9T",
        "colab": {
          "base_uri": "https://localhost:8080/"
        },
        "outputId": "b0d3b025-fbf1-4ce5-ca9d-e95b7ac8a38c"
      },
      "source": [
        "3.14 > 9"
      ],
      "execution_count": null,
      "outputs": [
        {
          "output_type": "execute_result",
          "data": {
            "text/plain": [
              "False"
            ]
          },
          "metadata": {
            "tags": []
          },
          "execution_count": 25
        }
      ]
    },
    {
      "cell_type": "code",
      "metadata": {
        "id": "fDlhbGUB8MDS",
        "colab": {
          "base_uri": "https://localhost:8080/"
        },
        "outputId": "b04f2c90-b972-4718-cd01-765449ba0ae7"
      },
      "source": [
        "7 != \"7\""
      ],
      "execution_count": null,
      "outputs": [
        {
          "output_type": "execute_result",
          "data": {
            "text/plain": [
              "True"
            ]
          },
          "metadata": {
            "tags": []
          },
          "execution_count": 28
        }
      ]
    },
    {
      "cell_type": "code",
      "metadata": {
        "id": "mGKSNyex8OXC",
        "colab": {
          "base_uri": "https://localhost:8080/"
        },
        "outputId": "e604fc41-44ba-4794-f073-b22555e2df27"
      },
      "source": [
        "0.01 <= 1"
      ],
      "execution_count": null,
      "outputs": [
        {
          "output_type": "execute_result",
          "data": {
            "text/plain": [
              "True"
            ]
          },
          "metadata": {
            "tags": []
          },
          "execution_count": 29
        }
      ]
    },
    {
      "cell_type": "markdown",
      "metadata": {
        "id": "AYmhmERK8SxI"
      },
      "source": [
        "**Observación.** Observad que cuando hemos comparado el número 7 en formato integer y en formato float, hemos obtenido que eran iguales, mientras que al haber comparado el número 7 en formato integer con el mismo número, pero en formato string, nos ha devuelto que son diferentes. Esto lo que nos viene a decir es que numéricamente, `Python` considera iguales los números enteros tanto si están en formato integer como en formato float. No obstante, nunca considerará iguales dos datos donde uno esté en formato numérico y el otro, en formato string.\n",
        "\n"
      ]
    },
    {
      "cell_type": "markdown",
      "metadata": {
        "id": "ag98MpnSDw2M"
      },
      "source": [
        "#### Múltiples comparaciones simultáneas\n",
        "\n",
        "Podemos realizar múltiples comparaciones a la vez.\n",
        "\n",
        "Supongamos que tenemos que tener 16 años o más, pero como mucho 40 para poder concertar una entrevista y aspirar a ser miembros de la tripulación del pirata Pyratilla.\n",
        "\n",
        "Queremos saber si nos concederá una entrevista si tenemos 17 años."
      ]
    },
    {
      "cell_type": "code",
      "metadata": {
        "id": "tl1aTygu8O5A",
        "colab": {
          "base_uri": "https://localhost:8080/"
        },
        "outputId": "b14f362b-abdf-43fb-8637-3bea7b92c75f"
      },
      "source": [
        "edad = 17\n",
        "(edad >= 16) and (edad <= 40)"
      ],
      "execution_count": null,
      "outputs": [
        {
          "output_type": "execute_result",
          "data": {
            "text/plain": [
              "True"
            ]
          },
          "metadata": {
            "tags": []
          },
          "execution_count": 36
        }
      ]
    },
    {
      "cell_type": "markdown",
      "metadata": {
        "id": "msdjUkeo-PAN"
      },
      "source": [
        "Hemos obtenido `True`, por tanto podemos concertar una entrevista. Que nos admita o no en su tripulación tras la entrevista, eso ya es otra cosa."
      ]
    },
    {
      "cell_type": "markdown",
      "metadata": {
        "id": "05v5Mxqn-0Sz"
      },
      "source": [
        "#### Comparaciones de strings\n",
        "\n",
        "No solamente podemos comparar datos numéricos, sino que también podemos comparar strings en relación al orden alfabético."
      ]
    },
    {
      "cell_type": "code",
      "metadata": {
        "id": "6OmXJHWw-xwT",
        "colab": {
          "base_uri": "https://localhost:8080/"
        },
        "outputId": "55f276fd-b2a5-480d-ef1f-0f7d33d07018"
      },
      "source": [
        "\"Mallorca\" < \"Dubai\""
      ],
      "execution_count": null,
      "outputs": [
        {
          "output_type": "execute_result",
          "data": {
            "text/plain": [
              "False"
            ]
          },
          "metadata": {
            "tags": []
          },
          "execution_count": 37
        }
      ]
    },
    {
      "cell_type": "markdown",
      "metadata": {
        "id": "3qC1IlA7_Znt"
      },
      "source": [
        "El resultado que obtenemos no se debe a que Mallorca sea mejor que Dubai, sino a que la primera letra de la primera palabra, M, no se encuentra antes en el abecedario que la primera letra de la segunda palabra, D.\n",
        "\n",
        "**Observación.** En caso de que la primera letra de cada una de las palabras comparadas coincidan, se comparan los caracteres que se encuentran en la siguiente posición. En caso de empate, seguiríamos comparando los caracteres de la tercera posición y así sucesivamente."
      ]
    },
    {
      "cell_type": "code",
      "metadata": {
        "id": "ksZj0IdF_V0H",
        "colab": {
          "base_uri": "https://localhost:8080/"
        },
        "outputId": "35111c91-82d5-42de-b902-75b083fcc07f"
      },
      "source": [
        "\"Mallorca\" >= \"Madrid\""
      ],
      "execution_count": null,
      "outputs": [
        {
          "output_type": "execute_result",
          "data": {
            "text/plain": [
              "True"
            ]
          },
          "metadata": {
            "tags": []
          },
          "execution_count": 38
        }
      ]
    },
    {
      "cell_type": "markdown",
      "metadata": {
        "id": "ZBMJ5Tg9_t-2"
      },
      "source": [
        "### Más métodos de string\n",
        "\n",
        "El método `.startswith()` nos devuelve verdadero si el string empieza con el caracter o la cadena de caracteres indicado."
      ]
    },
    {
      "cell_type": "code",
      "metadata": {
        "id": "1URYsNpt_e2k",
        "colab": {
          "base_uri": "https://localhost:8080/"
        },
        "outputId": "f30eb5b2-f4a9-4baf-e72b-b96b289a66cb"
      },
      "source": [
        "s = \"Mallorca es una isla preciosa\"\n",
        "s.startswith(\"m\")"
      ],
      "execution_count": null,
      "outputs": [
        {
          "output_type": "execute_result",
          "data": {
            "text/plain": [
              "False"
            ]
          },
          "metadata": {
            "tags": []
          },
          "execution_count": 39
        }
      ]
    },
    {
      "cell_type": "code",
      "metadata": {
        "id": "59iNH5QdAC7A",
        "colab": {
          "base_uri": "https://localhost:8080/"
        },
        "outputId": "21c20926-fd72-428f-fb8e-b6ccebf781ad"
      },
      "source": [
        "s.startswith(\"Mallorca\")"
      ],
      "execution_count": null,
      "outputs": [
        {
          "output_type": "execute_result",
          "data": {
            "text/plain": [
              "True"
            ]
          },
          "metadata": {
            "tags": []
          },
          "execution_count": 40
        }
      ]
    },
    {
      "cell_type": "markdown",
      "metadata": {
        "id": "dlYrhEBXAGzQ"
      },
      "source": [
        "**Observación.** Como podéis observar, `Python` diferencia entre letras en mayúscula y letras en minúscula. Por eso es que obtenemos falso al preguntar si el string empieza por m, en vez de M.\n",
        "\n",
        "El método `.endswith()` nos devuelve verdadero si el string acaba con el caracter o la cadena de caracteres indicado."
      ]
    },
    {
      "cell_type": "code",
      "metadata": {
        "id": "mRQvBBAzAEY7",
        "colab": {
          "base_uri": "https://localhost:8080/"
        },
        "outputId": "160c728b-59a7-4c0c-c526-41ed03317464"
      },
      "source": [
        "s = \"Mallorca es una isla preciosa\"\n",
        "s.endswith(\"a\")"
      ],
      "execution_count": null,
      "outputs": [
        {
          "output_type": "execute_result",
          "data": {
            "text/plain": [
              "True"
            ]
          },
          "metadata": {
            "tags": []
          },
          "execution_count": 41
        }
      ]
    },
    {
      "cell_type": "code",
      "metadata": {
        "id": "O3C6T9NgATDz",
        "colab": {
          "base_uri": "https://localhost:8080/"
        },
        "outputId": "84e4d82b-cd95-4ca3-c912-a9e3d6c514cf"
      },
      "source": [
        "s.endswith(\"bonita\")"
      ],
      "execution_count": null,
      "outputs": [
        {
          "output_type": "execute_result",
          "data": {
            "text/plain": [
              "False"
            ]
          },
          "metadata": {
            "tags": []
          },
          "execution_count": 42
        }
      ]
    },
    {
      "cell_type": "markdown",
      "metadata": {
        "id": "CGAU5S9yAVLq"
      },
      "source": [
        "El método `.isalnum()` nos devuelve verdadero si todos los caracteres del string son alfanuméricos."
      ]
    },
    {
      "cell_type": "code",
      "metadata": {
        "id": "85hsbd2KAUP4",
        "colab": {
          "base_uri": "https://localhost:8080/"
        },
        "outputId": "de1e4971-5bb7-4730-d61a-5e60e63d8c08"
      },
      "source": [
        "s = \"Python365\"\n",
        "s.isalnum()"
      ],
      "execution_count": null,
      "outputs": [
        {
          "output_type": "execute_result",
          "data": {
            "text/plain": [
              "True"
            ]
          },
          "metadata": {
            "tags": []
          },
          "execution_count": 43
        }
      ]
    },
    {
      "cell_type": "code",
      "metadata": {
        "id": "l-MJMFuOAaCb",
        "colab": {
          "base_uri": "https://localhost:8080/"
        },
        "outputId": "474c43d5-43cc-403a-ba10-ba4f4470dd52"
      },
      "source": [
        "s = \"Han creado un blog llamado Python365\"\n",
        "s.isalnum()"
      ],
      "execution_count": null,
      "outputs": [
        {
          "output_type": "execute_result",
          "data": {
            "text/plain": [
              "False"
            ]
          },
          "metadata": {
            "tags": []
          },
          "execution_count": 44
        }
      ]
    },
    {
      "cell_type": "markdown",
      "metadata": {
        "id": "c1EL8qH6AcZP"
      },
      "source": [
        "**¡Cuidado!** No se consideran caracteres alfanuméricos los siguientes: espacio en blanco, !, %, ?, & y un largo etcétera.\n",
        "\n",
        "El método `.isalpha()` nos devuelve verdadero si todos los caracteres del string son del alfabeto."
      ]
    },
    {
      "cell_type": "code",
      "metadata": {
        "id": "D8oQyYwEAb0M",
        "colab": {
          "base_uri": "https://localhost:8080/"
        },
        "outputId": "5ffd494b-8be5-4ae1-d0e3-ecbffa2ed897"
      },
      "source": [
        "s = \"Cachalote\"\n",
        "s.isalpha()"
      ],
      "execution_count": null,
      "outputs": [
        {
          "output_type": "execute_result",
          "data": {
            "text/plain": [
              "True"
            ]
          },
          "metadata": {
            "tags": []
          },
          "execution_count": 45
        }
      ]
    },
    {
      "cell_type": "code",
      "metadata": {
        "id": "91DZ0Sf9AxpI",
        "colab": {
          "base_uri": "https://localhost:8080/"
        },
        "outputId": "3094d99f-fd18-41c4-bb5c-ef643e6f18c2"
      },
      "source": [
        "s = \"Mi perro se llama Guindilla\"\n",
        "s.isalpha()"
      ],
      "execution_count": null,
      "outputs": [
        {
          "output_type": "execute_result",
          "data": {
            "text/plain": [
              "False"
            ]
          },
          "metadata": {
            "tags": []
          },
          "execution_count": 46
        }
      ]
    },
    {
      "cell_type": "markdown",
      "metadata": {
        "id": "ceo-DE86A1WZ"
      },
      "source": [
        "El método `.isdigit()` nos devuelve verdadero si todos los caracteres del string son dígitos."
      ]
    },
    {
      "cell_type": "code",
      "metadata": {
        "id": "lEXhe8B6AzAS",
        "colab": {
          "base_uri": "https://localhost:8080/"
        },
        "outputId": "d5cb5c50-8cb6-4afb-822b-5353e8886ef6"
      },
      "source": [
        "s = \"365\"\n",
        "s.isdigit()"
      ],
      "execution_count": null,
      "outputs": [
        {
          "output_type": "execute_result",
          "data": {
            "text/plain": [
              "True"
            ]
          },
          "metadata": {
            "tags": []
          },
          "execution_count": 47
        }
      ]
    },
    {
      "cell_type": "code",
      "metadata": {
        "id": "h7bDgu1PA5M_",
        "colab": {
          "base_uri": "https://localhost:8080/"
        },
        "outputId": "295259f3-41b3-4ea2-c11f-332bceb51e6c"
      },
      "source": [
        "s = \"Pyo365\"\n",
        "s.isdigit()"
      ],
      "execution_count": null,
      "outputs": [
        {
          "output_type": "execute_result",
          "data": {
            "text/plain": [
              "False"
            ]
          },
          "metadata": {
            "tags": []
          },
          "execution_count": 48
        }
      ]
    },
    {
      "cell_type": "markdown",
      "metadata": {
        "id": "LiNtvxYoA-Vk"
      },
      "source": [
        "El método `.isspace()` nos devuelve verdadero si todos los caracteres del string son espacios en blanco."
      ]
    },
    {
      "cell_type": "code",
      "metadata": {
        "id": "UzUgTI68A8PP",
        "colab": {
          "base_uri": "https://localhost:8080/"
        },
        "outputId": "a46df570-4e84-41bb-c2bb-d11cc01b54d9"
      },
      "source": [
        "s = \"                  \"\n",
        "s.isspace()"
      ],
      "execution_count": null,
      "outputs": [
        {
          "output_type": "execute_result",
          "data": {
            "text/plain": [
              "True"
            ]
          },
          "metadata": {
            "tags": []
          },
          "execution_count": 49
        }
      ]
    },
    {
      "cell_type": "markdown",
      "metadata": {
        "id": "NF14qe4NBCyk"
      },
      "source": [
        "El método `.islower()` nos devuelve verdadero si todos los caracteres del string están en minúscula."
      ]
    },
    {
      "cell_type": "code",
      "metadata": {
        "id": "USudoA3ZBB6W",
        "colab": {
          "base_uri": "https://localhost:8080/"
        },
        "outputId": "2b718759-d5db-497e-9c6f-009a510a37e5"
      },
      "source": [
        "s = \"Mi gato se llama Bigotes\"\n",
        "s.islower()"
      ],
      "execution_count": null,
      "outputs": [
        {
          "output_type": "execute_result",
          "data": {
            "text/plain": [
              "False"
            ]
          },
          "metadata": {
            "tags": []
          },
          "execution_count": 50
        }
      ]
    },
    {
      "cell_type": "code",
      "metadata": {
        "id": "nCIDtydoBHnX",
        "colab": {
          "base_uri": "https://localhost:8080/"
        },
        "outputId": "80fbe8bf-26cd-471b-f137-ffe5b61ef95b"
      },
      "source": [
        "s = \"me gusta hacer puzzles\"\n",
        "s.islower()"
      ],
      "execution_count": null,
      "outputs": [
        {
          "output_type": "execute_result",
          "data": {
            "text/plain": [
              "True"
            ]
          },
          "metadata": {
            "tags": []
          },
          "execution_count": 51
        }
      ]
    },
    {
      "cell_type": "markdown",
      "metadata": {
        "id": "ZMaIjOzkBLY4"
      },
      "source": [
        "El método `.isupper()` nos devuelve verdadero si todos los caracteres del string están en mayúscula."
      ]
    },
    {
      "cell_type": "code",
      "metadata": {
        "id": "QbNOBb1NBJDo",
        "colab": {
          "base_uri": "https://localhost:8080/"
        },
        "outputId": "c06948da-7f16-4247-9ba5-27c9966e42a9"
      },
      "source": [
        "s = \"Mi gato se llama Bigotes\"\n",
        "s.isupper()"
      ],
      "execution_count": null,
      "outputs": [
        {
          "output_type": "execute_result",
          "data": {
            "text/plain": [
              "False"
            ]
          },
          "metadata": {
            "tags": []
          },
          "execution_count": 52
        }
      ]
    },
    {
      "cell_type": "code",
      "metadata": {
        "id": "FlPHtioaBO3Y",
        "colab": {
          "base_uri": "https://localhost:8080/"
        },
        "outputId": "994a14a9-e3be-4b7d-d969-003419eae0bc"
      },
      "source": [
        "s = \"ME GUSTA HACER PUZZLES\"\n",
        "s.isupper()"
      ],
      "execution_count": null,
      "outputs": [
        {
          "output_type": "execute_result",
          "data": {
            "text/plain": [
              "True"
            ]
          },
          "metadata": {
            "tags": []
          },
          "execution_count": 53
        }
      ]
    },
    {
      "cell_type": "markdown",
      "metadata": {
        "id": "YBuOWqm2BRuK"
      },
      "source": [
        "El método `.istitle()` nos devuelve verdadero si todas las palabras del string empiezan en mayúscula y el resto de las letras de la palabra están en minúscula."
      ]
    },
    {
      "cell_type": "code",
      "metadata": {
        "id": "aF--NJBwBQS3",
        "colab": {
          "base_uri": "https://localhost:8080/"
        },
        "outputId": "7a1729da-b408-4ece-f80d-2a435c7c4b44"
      },
      "source": [
        "s = \"Platero Y Yo\"\n",
        "s.istitle()"
      ],
      "execution_count": null,
      "outputs": [
        {
          "output_type": "execute_result",
          "data": {
            "text/plain": [
              "True"
            ]
          },
          "metadata": {
            "tags": []
          },
          "execution_count": 54
        }
      ]
    },
    {
      "cell_type": "code",
      "metadata": {
        "id": "zxkSvUe0BXto",
        "colab": {
          "base_uri": "https://localhost:8080/"
        },
        "outputId": "d391e435-13cc-449f-e396-af314cad6957"
      },
      "source": [
        "s = \"PLATERO Y YO\"\n",
        "s.istitle()"
      ],
      "execution_count": null,
      "outputs": [
        {
          "output_type": "execute_result",
          "data": {
            "text/plain": [
              "False"
            ]
          },
          "metadata": {
            "tags": []
          },
          "execution_count": 55
        }
      ]
    },
    {
      "cell_type": "markdown",
      "metadata": {
        "id": "frJnbjX3BawD"
      },
      "source": [
        "## Operadores de decisión\n",
        "\n",
        "\n"
      ]
    },
    {
      "cell_type": "markdown",
      "metadata": {
        "id": "DAK502eYD5pT"
      },
      "source": [
        "### `if`\n",
        "\n",
        "Cuando queremos comprobar si se cumple alguna condición, utilizamos el operador de decisión `if`. La sintaxis que debemos seguir es la siguiente:\n"
      ]
    },
    {
      "cell_type": "code",
      "metadata": {
        "id": "YdlOvDPjBZAk"
      },
      "source": [
        "if condicion:\n",
        "    consecuencia"
      ],
      "execution_count": null,
      "outputs": []
    },
    {
      "cell_type": "markdown",
      "metadata": {
        "id": "LdYNZT4tD1tS"
      },
      "source": [
        "**¡Cuidado!** La sintaxis de los dos puntos después de la condición y la indentación (equivalente a una tabulación, un total de 4 espacios en blanco) que precede a la consecuencia es muy importante. De hecho, si se omite alguna de las dos cosas o bien nos pasamos de indentación, nos saltará error.\n",
        "\n",
        "- Si queréis hacer una tabulación, debéis pulsar el tabulador una vez.\n",
        "- Podéis hacer tabulaciones en bloque seleccionando las líneas de código que queráis indentar y, a continuación, pulsando el tabulador.\n",
        "- Podéis deshacer tabulaciones pulsando Shift + Tab\n",
        "- Podéis deshacer tabulaciones en bloque seleccionando las líneas de código que queráis desindentar y, a continuación, pulsando el Shift + Tab.\n",
        "\n",
        "Siguiendo con nuestro ejemplo, si el usuario tiene más de 16 años, pero menos de 40, entonces puede formar parte de la tripulación de Pyratilla."
      ]
    },
    {
      "cell_type": "code",
      "metadata": {
        "id": "O6UngCPDEIgW",
        "colab": {
          "base_uri": "https://localhost:8080/"
        },
        "outputId": "5f2f47f9-844a-4ebf-9aee-8452083ac270"
      },
      "source": [
        "age = 23\n",
        "if (age >= 16 and age <= 40):\n",
        "    print(\"Puedes formar parte de la tripulación de Pyratilla\")"
      ],
      "execution_count": null,
      "outputs": [
        {
          "output_type": "stream",
          "text": [
            "Puedes formar parte de la tripulación de Pyratilla\n"
          ],
          "name": "stdout"
        }
      ]
    },
    {
      "cell_type": "markdown",
      "metadata": {
        "id": "xgXTymltFKFb"
      },
      "source": [
        "### `else`\n",
        "\n",
        "Ahora, nos podríamos preguntar qué le podríamos decir al usuario en el caso en que no satisfaga la condición. Ahí es donde entra en juego el operador de decisión `else`. Esta vez, la sintaxis a seguir es la siguiente:"
      ]
    },
    {
      "cell_type": "code",
      "metadata": {
        "id": "YXBPowOmFG_P"
      },
      "source": [
        "if condición:\n",
        "    consecuencia_si_es_verdad\n",
        "else:\n",
        "    consecuencia_si_es_falsa"
      ],
      "execution_count": null,
      "outputs": []
    },
    {
      "cell_type": "markdown",
      "metadata": {
        "id": "8e1k4FTgFZoD"
      },
      "source": [
        "Siguiendo el ejemplo anterior, si el usuario tiene 16 años o más, pero menos de 40, entonces puede formar parte de la tripulación de Pyratilla. Si no, le diremos que no satisface una necesidad básica para ser miembro."
      ]
    },
    {
      "cell_type": "code",
      "metadata": {
        "id": "ng2PZLJoFi8T",
        "colab": {
          "base_uri": "https://localhost:8080/"
        },
        "outputId": "5f3adb9c-ac36-4b6a-900f-91dbfc657b7f"
      },
      "source": [
        "age = 13\n",
        "if (age >= 16 and age <= 40):\n",
        "    print(\"Puedes formar parte de la tripulación de Pyratilla\")\n",
        "else:\n",
        "    print(\"No satisfaces una necesidad básica para pertenecer a la tripulación del gran Pyratilla\")"
      ],
      "execution_count": null,
      "outputs": [
        {
          "output_type": "stream",
          "text": [
            "No satisfaces una necesidad básica para pertenecer a la tripulación del gran Pyratilla\n"
          ],
          "name": "stdout"
        }
      ]
    },
    {
      "cell_type": "markdown",
      "metadata": {
        "id": "77HNiAkbFx-P"
      },
      "source": [
        "### `elif`\n",
        "\n",
        "Ahora, en vez de comprobar si se cumple o no una condición, nos podríamos preguntar cómo haríamos para comprobar más de una condición. Podríamos hacerlo a lo bruto anidando operadores `if`, esto es, metiendo un `if` dentro de otro; o bien, podríamos hacerlo utilizando el operador de decisión `elif`.\n",
        "\n",
        "El operador `elif` funciona del siguiente modo: se empieza con un operador `if`; si la condición de este no se cumple, pasamos a la siguiente condición posible precedida de un `elif`; si esta tampoco se cumple, pasamos al siguiente `elif`; seguimos así hasta que o bien se satisface alguna condición y realizamos su consecuencia, o hasta llegar al `else`, que implica que no se ha satisfecho ninguna de las condiciones anteriores.\n",
        "\n",
        "La sintaxis del operador de decisión `elif` es la siguiente:"
      ]
    },
    {
      "cell_type": "code",
      "metadata": {
        "id": "kH-sAyUNGNw8"
      },
      "source": [
        "if condición_1:\n",
        "  consecuencia\n",
        "elif condición_2:\n",
        "  consecuencia\n",
        "elif condición_3:\n",
        "  consecuencia\n",
        ".\n",
        ".\n",
        ".\n",
        "else:\n",
        "  consecuencia"
      ],
      "execution_count": null,
      "outputs": []
    },
    {
      "cell_type": "markdown",
      "metadata": {
        "id": "xi8inDseFUaF"
      },
      "source": [
        "Recuperemos el ejemplo de que tenemos que tener 16 años o más, pero menos de 40 para ser miembros de la tripulación del pirata Pyratilla. Vamos a mejorar lo que habíamos conseguido con el `if` y el `else`, añadiendo el operador `elif`.\n",
        "\n",
        "Además, veremos que nos dice con la edad de 20 años."
      ]
    },
    {
      "cell_type": "code",
      "metadata": {
        "id": "FuDXd3ieGY0O",
        "colab": {
          "base_uri": "https://localhost:8080/"
        },
        "outputId": "26d8eb2a-24de-48c9-fced-890165a3da54"
      },
      "source": [
        "age = 20\n",
        "\n",
        "if age > 40:\n",
        "  print(\"No puedes pertenecer a la tripulación, te pasas de la edad límite que ha puesto el gran capitán Pyratilla.\")\n",
        "elif age >= 16:\n",
        "  print(\"Podrás optar a pertenecer la tripulación. Aún te queda superar la entrevista con el capitán.\")\n",
        "else:\n",
        "  print(\"Eres muy pequeño todavía para la vida pirata!\")"
      ],
      "execution_count": null,
      "outputs": [
        {
          "output_type": "stream",
          "text": [
            "Podrás optar a pertenecer la tripulación. Aún te queda superar la entrevista con el capitán.\n"
          ],
          "name": "stdout"
        }
      ]
    },
    {
      "cell_type": "markdown",
      "metadata": {
        "id": "_3J6uQFMHq5W"
      },
      "source": [
        "El funcionamiento del código anterior es el siguiente:\n",
        "\n",
        "- El `if` comprueba si la edad introducida es mayor a 40.\n",
        "- El `elif` comprueba si la edad se encuentra en el intervalo [16, 40]\n",
        "- El `else` implica que la edad introducida es menor a 16"
      ]
    },
    {
      "cell_type": "markdown",
      "metadata": {
        "id": "5ysq4F4jH6qR"
      },
      "source": [
        "### Operador ternario\n",
        "\n",
        "Si queremos hacer un simple `if` / `else` en una sola línea de código, podemos utilizar el operador ternario, que tiene la siguiente estructura:"
      ]
    },
    {
      "cell_type": "code",
      "metadata": {
        "id": "G-u9CzRCHYTZ"
      },
      "source": [
        "consecuencia_cierto if condición else consecuencia_falso"
      ],
      "execution_count": null,
      "outputs": []
    },
    {
      "cell_type": "markdown",
      "metadata": {
        "id": "vUmCX9WGIHoD"
      },
      "source": [
        "Por ejemplo, hagamos el caso de mayor de edad. Si la edad es mayor o igual a 18, entonces es mayor de edad en España. Si no, entonces es menor de edad en España."
      ]
    },
    {
      "cell_type": "code",
      "metadata": {
        "id": "thCBwMwuIJqc",
        "colab": {
          "base_uri": "https://localhost:8080/"
        },
        "outputId": "e12e12f2-79de-40ed-81b4-acf2eeaa4a3e"
      },
      "source": [
        "age = 20\n",
        "texto_mayor = \"Eres mayor de edad en España\"\n",
        "texto_menor = \"Eres menor de edad en España\"\n",
        "\n",
        "print(texto_mayor) if age >= 18 else print(texto_menor)"
      ],
      "execution_count": null,
      "outputs": [
        {
          "output_type": "stream",
          "text": [
            "Eres mayor de edad en España\n"
          ],
          "name": "stdout"
        }
      ]
    },
    {
      "cell_type": "markdown",
      "metadata": {
        "id": "WGWZnkbKODlg"
      },
      "source": [
        "### Operadores Anidados"
      ]
    },
    {
      "cell_type": "code",
      "metadata": {
        "id": "-vvWPoz2K6gq",
        "colab": {
          "base_uri": "https://localhost:8080/"
        },
        "outputId": "dc349db6-8a65-4064-96f1-644ef903cf45"
      },
      "source": [
        "age = 20\n",
        "name = \"Martin\"\n",
        "\n",
        "if age >= 18:\n",
        "  if name.startswith(\"M\") or name.startswith(\"m\"):\n",
        "    print(\"Eres mayor de edad pues tienes {} años y tu nombre, que es {}, empieza por M\".format(age, name))\n",
        "  else:\n",
        "    print(\"Eres mayor de edad pues tienes {} años\".format(age))\n",
        "else:\n",
        "  print(\"Eres muy joven\")"
      ],
      "execution_count": null,
      "outputs": [
        {
          "output_type": "stream",
          "text": [
            "Eres muy joven\n"
          ],
          "name": "stdout"
        }
      ]
    }
  ]
}