{
  "nbformat": 4,
  "nbformat_minor": 0,
  "metadata": {
    "colab": {
      "provenance": []
    },
    "kernelspec": {
      "name": "python3",
      "display_name": "Python 3"
    }
  },
  "cells": [
    {
      "cell_type": "markdown",
      "metadata": {
        "id": "9SnH_Gggm6nf"
      },
      "source": [
        "# Estructuras de datos: Tuplas\n",
        "\n"
      ]
    },
    {
      "cell_type": "markdown",
      "metadata": {
        "id": "cWDNHdldE1mn"
      },
      "source": [
        "## Tupla\n",
        "\n",
        "La última estructura que veremos son las tuplas. Éstas son un conjunto de elementos, que pueden ser de distintos tipos, separados por comas y escritos entre paréntesis, `()`.\n",
        "\n",
        "Las tuplas son:\n",
        "- hetereogéneas: los elementos pueden ser de distinto tipo en una misma tupla\n",
        "- no mutables: los elementos no pueden ser modifcados una vez la tupla ha sido creado\n",
        "\n",
        "Un ejemplo de tupla sería"
      ]
    },
    {
      "cell_type": "code",
      "metadata": {
        "colab": {
          "base_uri": "https://localhost:8080/"
        },
        "id": "ZBKXsn2jm4lc",
        "outputId": "82cb9983-0248-4c77-c89b-f43acb8ce622"
      },
      "source": [
        "t = (\"Juan\", 32, \"profesor\", True)\n",
        "print(t)"
      ],
      "execution_count": null,
      "outputs": [
        {
          "output_type": "stream",
          "text": [
            "('Juan', 32, 'profesor', True)\n"
          ],
          "name": "stdout"
        }
      ]
    },
    {
      "cell_type": "markdown",
      "metadata": {
        "id": "azkG1SyH1qFd"
      },
      "source": [
        "Podemos declarar una tupla sin necesidad indicar sus elementos entre paréntesis"
      ]
    },
    {
      "cell_type": "code",
      "metadata": {
        "colab": {
          "base_uri": "https://localhost:8080/"
        },
        "id": "EgV8V1qPoKHH",
        "outputId": "2c1f7ee5-7bcd-4177-aa73-4eb3a0384a60"
      },
      "source": [
        "t = \"Juan\", 32, \"profesor\", True\n",
        "type(t)"
      ],
      "execution_count": null,
      "outputs": [
        {
          "output_type": "execute_result",
          "data": {
            "text/plain": [
              "tuple"
            ]
          },
          "metadata": {
            "tags": []
          },
          "execution_count": 2
        }
      ]
    },
    {
      "cell_type": "markdown",
      "metadata": {
        "id": "jHF7FBD45Mnj"
      },
      "source": [
        "Podemos declarar tuplas con la función `tuple()`"
      ]
    },
    {
      "cell_type": "code",
      "metadata": {
        "colab": {
          "base_uri": "https://localhost:8080/"
        },
        "id": "Ypkw8_2m5Qz8",
        "outputId": "118d0a21-58c0-4579-a424-83d0732578eb"
      },
      "source": [
        "t = tuple((\"Juan\", 32, \"profesor\", True))\n",
        "type(t)"
      ],
      "execution_count": null,
      "outputs": [
        {
          "output_type": "execute_result",
          "data": {
            "text/plain": [
              "tuple"
            ]
          },
          "metadata": {
            "tags": []
          },
          "execution_count": 3
        }
      ]
    },
    {
      "cell_type": "code",
      "metadata": {
        "colab": {
          "base_uri": "https://localhost:8080/"
        },
        "id": "jVGmsMefQCnX",
        "outputId": "1d355411-1ed1-4655-de2e-c3704a7051ee"
      },
      "source": [
        "tuple([1,2,3])"
      ],
      "execution_count": null,
      "outputs": [
        {
          "output_type": "execute_result",
          "data": {
            "text/plain": [
              "(1, 2, 3)"
            ]
          },
          "metadata": {
            "tags": []
          },
          "execution_count": 4
        }
      ]
    },
    {
      "cell_type": "markdown",
      "metadata": {
        "id": "0jvzP1CX4EUV"
      },
      "source": [
        "### Elementos de una tupla\n",
        "\n",
        "Podemos acceder a los elementos de una tupla mediante el índice que ocupan con la sintaxis de claudator, `[]`"
      ]
    },
    {
      "cell_type": "code",
      "metadata": {
        "colab": {
          "base_uri": "https://localhost:8080/"
        },
        "id": "mkzAeYog4ekW",
        "outputId": "acdf8043-c818-4aab-9a15-859ba4abcb90"
      },
      "source": [
        "t = 1, \"a\", 2, \"e\", 3, \"i\", 4, \"o\", 5, \"u\"\n",
        "print(t[0])\n",
        "print(t[5])"
      ],
      "execution_count": null,
      "outputs": [
        {
          "output_type": "stream",
          "text": [
            "1\n",
            "i\n"
          ],
          "name": "stdout"
        }
      ]
    },
    {
      "cell_type": "markdown",
      "metadata": {
        "id": "ggFp7EkM5gay"
      },
      "source": [
        "Al igual que con las listas, podemos acceder a los elementos de tuplas mediante el uso de índices negativos"
      ]
    },
    {
      "cell_type": "code",
      "metadata": {
        "colab": {
          "base_uri": "https://localhost:8080/"
        },
        "id": "AtJuXqs_5rYs",
        "outputId": "b77260cd-0876-4290-dfcf-7c4f0d1a5a03"
      },
      "source": [
        "print(t[-1])\n",
        "print(t[-4])"
      ],
      "execution_count": null,
      "outputs": [
        {
          "output_type": "stream",
          "text": [
            "u\n",
            "4\n"
          ],
          "name": "stdout"
        }
      ]
    },
    {
      "cell_type": "markdown",
      "metadata": {
        "id": "7FYPM_Ql5mmF"
      },
      "source": [
        "Para acceder a múltiples entradas de una tupla a la vez, podemos utilizar la función `:` para indicar un intervalo de índices."
      ]
    },
    {
      "cell_type": "code",
      "metadata": {
        "colab": {
          "base_uri": "https://localhost:8080/"
        },
        "id": "lCEajhNu56Wj",
        "outputId": "c9ac55b9-746a-4d58-a766-7512b73b2436"
      },
      "source": [
        "print(t[2:6])\n",
        "print(t[:5])\n",
        "print(t[5:])"
      ],
      "execution_count": null,
      "outputs": [
        {
          "output_type": "stream",
          "text": [
            "(2, 'e', 3, 'i')\n",
            "(1, 'a', 2, 'e', 3)\n",
            "('i', 4, 'o', 5, 'u')\n"
          ],
          "name": "stdout"
        }
      ]
    },
    {
      "cell_type": "markdown",
      "metadata": {
        "id": "HOdamNux6CxX"
      },
      "source": [
        "**Observación.** Recordad que\n",
        "- el índice indicado tras los dos puntos, `:`, nunca es incluido.\n",
        "- si no se indica índice a la izquierda de `:`, se considera desde el índice 0 hasta el inmediatamente anterior al indicado a la derecha de `:`\n",
        "- si no se indica índice a la derecha de `:`, se considera desde el índice indicado a la izquierda de `:` hasta el último elemento\n",
        "\n",
        "También podemos usar índices negativos con la función `:`"
      ]
    },
    {
      "cell_type": "code",
      "metadata": {
        "id": "tGJbYNaj6yXv",
        "colab": {
          "base_uri": "https://localhost:8080/"
        },
        "outputId": "38336716-fe77-45d5-f5ab-22ffcc9b1685"
      },
      "source": [
        "print(t[-5:-1])"
      ],
      "execution_count": null,
      "outputs": [
        {
          "output_type": "stream",
          "text": [
            "('i', 4, 'o', 5)\n"
          ],
          "name": "stdout"
        }
      ]
    },
    {
      "cell_type": "markdown",
      "metadata": {
        "id": "82ADCwpQ63OZ"
      },
      "source": [
        "Para saber si un elemento pertenece a una tupla, podemos usar la palabra clave `in`"
      ]
    },
    {
      "cell_type": "code",
      "metadata": {
        "colab": {
          "base_uri": "https://localhost:8080/"
        },
        "id": "s3aL1WAE6-Hb",
        "outputId": "d1de37e4-e106-4433-f1aa-c0d592be4cff"
      },
      "source": [
        "print(6 in t)\n",
        "print(\"i\" in t)"
      ],
      "execution_count": null,
      "outputs": [
        {
          "output_type": "stream",
          "text": [
            "False\n",
            "True\n"
          ],
          "name": "stdout"
        }
      ]
    },
    {
      "cell_type": "markdown",
      "metadata": {
        "id": "RHgvwsEo68Dn"
      },
      "source": [
        "Hemos dicho que las tuplas son inmutables. Esto es, una vez creada la tupla, sus elementos no pueden ser modificados"
      ]
    },
    {
      "cell_type": "code",
      "metadata": {
        "id": "ige9huaW7TGm",
        "colab": {
          "base_uri": "https://localhost:8080/",
          "height": 191
        },
        "outputId": "50cb937d-2fb1-4386-ac80-5c4efdef0c83"
      },
      "source": [
        "t = \"Cereza\", \"Manzana\", \"Pera\"\n",
        "t[1] = \"Kiwi\""
      ],
      "execution_count": null,
      "outputs": [
        {
          "output_type": "error",
          "ename": "TypeError",
          "evalue": "ignored",
          "traceback": [
            "\u001b[0;31m---------------------------------------------------------------------------\u001b[0m",
            "\u001b[0;31mTypeError\u001b[0m                                 Traceback (most recent call last)",
            "\u001b[0;32m<ipython-input-1-2447071d6b37>\u001b[0m in \u001b[0;36m<cell line: 2>\u001b[0;34m()\u001b[0m\n\u001b[1;32m      1\u001b[0m \u001b[0mt\u001b[0m \u001b[0;34m=\u001b[0m \u001b[0;34m\"Cereza\"\u001b[0m\u001b[0;34m,\u001b[0m \u001b[0;34m\"Manzana\"\u001b[0m\u001b[0;34m,\u001b[0m \u001b[0;34m\"Pera\"\u001b[0m\u001b[0;34m\u001b[0m\u001b[0;34m\u001b[0m\u001b[0m\n\u001b[0;32m----> 2\u001b[0;31m \u001b[0mt\u001b[0m\u001b[0;34m[\u001b[0m\u001b[0;36m1\u001b[0m\u001b[0;34m]\u001b[0m \u001b[0;34m=\u001b[0m \u001b[0;34m\"Kiwi\"\u001b[0m\u001b[0;34m\u001b[0m\u001b[0;34m\u001b[0m\u001b[0m\n\u001b[0m",
            "\u001b[0;31mTypeError\u001b[0m: 'tuple' object does not support item assignment"
          ]
        }
      ]
    },
    {
      "cell_type": "markdown",
      "metadata": {
        "id": "AsDSgoMX7jnB"
      },
      "source": [
        "Una alternativa sería convertir a lista, realizar la modificación y reconvertir a tupla"
      ]
    },
    {
      "cell_type": "code",
      "metadata": {
        "colab": {
          "base_uri": "https://localhost:8080/"
        },
        "id": "w-NmjgTQ7pul",
        "outputId": "a8bc89a0-380a-4922-b8f3-5cd47ee48a33"
      },
      "source": [
        "t = \"Cereza\", \"Manzana\", \"Pera\"\n",
        "t = list(t)\n",
        "t[1] = \"Kiwi\"\n",
        "t = tuple(t)\n",
        "\n",
        "print(t)\n",
        "print(type(t))"
      ],
      "execution_count": null,
      "outputs": [
        {
          "output_type": "stream",
          "text": [
            "('Cereza', 'Kiwi', 'Pera')\n",
            "<class 'tuple'>\n"
          ],
          "name": "stdout"
        }
      ]
    },
    {
      "cell_type": "markdown",
      "metadata": {
        "id": "RvLRzO0k8FM4"
      },
      "source": [
        "## El método de unpacking\n",
        "\n",
        "Podemos extraer los valores de una tupla en variables. Este proceso es conocido como **unpacking**"
      ]
    },
    {
      "cell_type": "code",
      "metadata": {
        "colab": {
          "base_uri": "https://localhost:8080/"
        },
        "id": "hNUEnm4g8K-T",
        "outputId": "64a08118-aec0-447a-efa7-12c67a0bd119"
      },
      "source": [
        "fruits = \"Cereza\", \"Kiwi\", \"Pera\", \"Naranja\"\n",
        "print(type(fruits))\n",
        "\n",
        "# Con paréntesis\n",
        "(fruit1, fruit2, fruit3, fruit4) = fruits\n",
        "\n",
        "print(fruit1)\n",
        "print(fruit2)\n",
        "print(fruit3)\n",
        "print(fruit4)"
      ],
      "execution_count": null,
      "outputs": [
        {
          "output_type": "stream",
          "text": [
            "<class 'tuple'>\n",
            "Cereza\n",
            "Kiwi\n",
            "Pera\n",
            "Naranja\n"
          ],
          "name": "stdout"
        }
      ]
    },
    {
      "cell_type": "markdown",
      "metadata": {
        "id": "8mEHQ88_-lvP"
      },
      "source": [
        "Funciona igual si no declaramos las variables entre paréntesis."
      ]
    },
    {
      "cell_type": "code",
      "metadata": {
        "id": "AfpWQF6e-fn3",
        "colab": {
          "base_uri": "https://localhost:8080/"
        },
        "outputId": "d8e232fb-f04b-4d0d-c5cb-a020d8b4c2d6"
      },
      "source": [
        "fruits = \"Cereza\", \"Kiwi\", \"Pera\", \"Naranja\"\n",
        "print(type(fruits))\n",
        "\n",
        "# Sin paréntesis\n",
        "fruit1, fruit2, fruit3, fruit4 = fruits\n",
        "\n",
        "print(fruit1)\n",
        "print(fruit2)\n",
        "print(fruit3)\n",
        "print(fruit4)"
      ],
      "execution_count": null,
      "outputs": [
        {
          "output_type": "stream",
          "text": [
            "<class 'tuple'>\n",
            "Cereza\n",
            "Kiwi\n",
            "Pera\n",
            "Naranja\n"
          ],
          "name": "stdout"
        }
      ]
    },
    {
      "cell_type": "markdown",
      "metadata": {
        "id": "52_BTYnF8jMd"
      },
      "source": [
        "**¡Cuidado!** El número de variables debe coincidir con el número de elementos de la tupla. De lo contrario, debe usarse un asterisco para guardar los elementos restantes en una lista."
      ]
    },
    {
      "cell_type": "code",
      "metadata": {
        "colab": {
          "base_uri": "https://localhost:8080/"
        },
        "id": "VowWDVPC8ie9",
        "outputId": "1aff9d84-3309-40f8-dc29-303a5bf38bdd"
      },
      "source": [
        "fruits = \"Cereza\", \"Kiwi\", \"Pera\", \"Naranja\"\n",
        "\n",
        "(fruit1, fruit2, *restFruits) = fruits\n",
        "\n",
        "print(fruit1)\n",
        "print(fruit2)\n",
        "print(restFruits)\n",
        "print(type(restFruits))"
      ],
      "execution_count": null,
      "outputs": [
        {
          "output_type": "stream",
          "text": [
            "Cereza\n",
            "Kiwi\n",
            "['Pera', 'Naranja']\n",
            "<class 'list'>\n"
          ],
          "name": "stdout"
        }
      ]
    },
    {
      "cell_type": "markdown",
      "metadata": {
        "id": "ZuwLwYvD9HSO"
      },
      "source": [
        "**Observación.** Si el asterisco es añadido en alguna variable que no sea la última, `Python` almacenará tantos elementos en la lista como sea necesario para que el número de elementos restantes coincida con el número de variables restantes."
      ]
    },
    {
      "cell_type": "code",
      "metadata": {
        "colab": {
          "base_uri": "https://localhost:8080/"
        },
        "id": "Ne3NaA4t9U6f",
        "outputId": "bf483fd2-17c5-417c-a27b-c7ad6c1ebe48"
      },
      "source": [
        "fruits = \"Cereza\", \"Kiwi\", \"Pera\", \"Naranja\", \"Melocotón\", \"Sandía\", \"Melón\"\n",
        "\n",
        "(fruit1, *restFruits, fruit2, fruit3) = fruits\n",
        "\n",
        "print(fruit1)\n",
        "print(restFruits)\n",
        "print(fruit2)\n",
        "print(fruit3)"
      ],
      "execution_count": null,
      "outputs": [
        {
          "output_type": "stream",
          "text": [
            "Cereza\n",
            "['Kiwi', 'Pera', 'Naranja', 'Melocotón']\n",
            "Sandía\n",
            "Melón\n"
          ],
          "name": "stdout"
        }
      ]
    },
    {
      "cell_type": "code",
      "metadata": {
        "colab": {
          "base_uri": "https://localhost:8080/"
        },
        "id": "KqRXtbsIUhXf",
        "outputId": "41e280d9-bc30-4319-e233-c9aad9ab474d"
      },
      "source": [
        "punto = (1, 2, 3)\n",
        "x, _, z = punto\n",
        "print(x + z)"
      ],
      "execution_count": null,
      "outputs": [
        {
          "output_type": "stream",
          "text": [
            "4\n"
          ],
          "name": "stdout"
        }
      ]
    },
    {
      "cell_type": "code",
      "metadata": {
        "colab": {
          "base_uri": "https://localhost:8080/"
        },
        "id": "2lXnVnBrU_U_",
        "outputId": "f7269ba2-10aa-4c57-969f-42c885ec12f7"
      },
      "source": [
        "fruits = \"Cereza\", \"Kiwi\", \"Pera\", \"Naranja\", \"Melocotón\", \"Sandía\", \"Melón\"\n",
        "\n",
        "(fruit1, *_, fruit2, fruit3) = fruits\n",
        "\n",
        "print(fruit1)\n",
        "print(fruit2)\n",
        "print(fruit3)"
      ],
      "execution_count": null,
      "outputs": [
        {
          "output_type": "stream",
          "text": [
            "Cereza\n",
            "Sandía\n",
            "Melón\n"
          ],
          "name": "stdout"
        }
      ]
    },
    {
      "cell_type": "markdown",
      "metadata": {
        "id": "hOoD2y0A2AWJ"
      },
      "source": [
        "## Concatenación de tuplas\n",
        "\n",
        "Podemos concatenar tuplas con la función `+`, aunque el resultado será una nueva tupla, ya que recordemos éstas no pueden ser modificadas"
      ]
    },
    {
      "cell_type": "code",
      "metadata": {
        "colab": {
          "base_uri": "https://localhost:8080/"
        },
        "id": "eJ9czwEz2PEt",
        "outputId": "7064f313-c1bf-4b1b-832f-c73db806c354"
      },
      "source": [
        "t1 = 1, 3\n",
        "t2 = 2, 4\n",
        "\n",
        "t1 + t2"
      ],
      "execution_count": null,
      "outputs": [
        {
          "output_type": "execute_result",
          "data": {
            "text/plain": [
              "(1, 3, 2, 4)"
            ]
          },
          "metadata": {
            "tags": []
          },
          "execution_count": 20
        }
      ]
    },
    {
      "cell_type": "markdown",
      "metadata": {
        "id": "t5r86inx_QYN"
      },
      "source": [
        "## Repetición de tuplas\n",
        "\n",
        "Podemos repetir tuplas un número $n$ de veces con la función `*`"
      ]
    },
    {
      "cell_type": "code",
      "metadata": {
        "colab": {
          "base_uri": "https://localhost:8080/"
        },
        "id": "Zyxm0I7R_Vkm",
        "outputId": "f5998e44-74c2-4ef2-86e7-8e102df2b594"
      },
      "source": [
        "t = (\"a\", \"b\", \"c\")\n",
        "t * 5"
      ],
      "execution_count": null,
      "outputs": [
        {
          "output_type": "execute_result",
          "data": {
            "text/plain": [
              "('a', 'b', 'c', 'a', 'b', 'c', 'a', 'b', 'c', 'a', 'b', 'c', 'a', 'b', 'c')"
            ]
          },
          "metadata": {
            "tags": []
          },
          "execution_count": 22
        }
      ]
    },
    {
      "cell_type": "markdown",
      "metadata": {
        "id": "8cVAvhtB12vG"
      },
      "source": [
        "## Tamaño de una tupla\n",
        "\n",
        "Podemos calcular el número de elementos de una tupla con la función `len()`"
      ]
    },
    {
      "cell_type": "code",
      "metadata": {
        "colab": {
          "base_uri": "https://localhost:8080/"
        },
        "id": "wfRHI-wP10Hi",
        "outputId": "07055568-8fc2-4f8e-fb83-adf3e1c5d8f9"
      },
      "source": [
        "t = \"Juan\", 32, \"profesor\", True\n",
        "len(t)"
      ],
      "execution_count": null,
      "outputs": [
        {
          "output_type": "execute_result",
          "data": {
            "text/plain": [
              "4"
            ]
          },
          "metadata": {
            "tags": []
          },
          "execution_count": 23
        }
      ]
    },
    {
      "cell_type": "markdown",
      "metadata": {
        "id": "fGBWU-nY4x9s"
      },
      "source": [
        "**¡Cuidado!** Si quisiésemos crear una tupla de un solo elemento, tendríamos que hacer lo siguiente"
      ]
    },
    {
      "cell_type": "code",
      "metadata": {
        "colab": {
          "base_uri": "https://localhost:8080/"
        },
        "id": "6Qf9hv-V1-UQ",
        "outputId": "e1d0aa9d-3fd9-4789-9ca7-7163d85a6879"
      },
      "source": [
        "t1 = (\"manzana\", )\n",
        "print(type(t1))\n",
        "\n",
        "# Lo siguiente no es una tupla\n",
        "t2 = (\"manzana\")\n",
        "print(type(t2))"
      ],
      "execution_count": null,
      "outputs": [
        {
          "output_type": "stream",
          "text": [
            "<class 'tuple'>\n",
            "<class 'str'>\n"
          ],
          "name": "stdout"
        }
      ]
    },
    {
      "cell_type": "markdown",
      "metadata": {
        "id": "Jgmm54cF9nfa"
      },
      "source": [
        "## Bucles y tuplas\n",
        "\n",
        "Podemos iterar una tupla utilizando un bucle `for`\n",
        "\n"
      ]
    },
    {
      "cell_type": "code",
      "metadata": {
        "id": "bDuaGS9q5Fdn",
        "colab": {
          "base_uri": "https://localhost:8080/"
        },
        "outputId": "4b2902bb-ca4d-4b6b-f01e-f3d5599c95d0"
      },
      "source": [
        "fruits = \"Cereza\", \"Kiwi\", \"Pera\", \"Naranja\", \"Melocotón\", \"Sandía\", \"Melón\"\n",
        "\n",
        "for fruit in fruits:\n",
        "  print(fruit)"
      ],
      "execution_count": null,
      "outputs": [
        {
          "output_type": "stream",
          "text": [
            "Cereza\n",
            "Kiwi\n",
            "Pera\n",
            "Naranja\n",
            "Melocotón\n",
            "Sandía\n",
            "Melón\n"
          ],
          "name": "stdout"
        }
      ]
    },
    {
      "cell_type": "markdown",
      "metadata": {
        "id": "C7PDctpj-ARY"
      },
      "source": [
        "También podemos usar la técnica de unpacking en los bucles"
      ]
    },
    {
      "cell_type": "code",
      "metadata": {
        "colab": {
          "base_uri": "https://localhost:8080/"
        },
        "id": "T2om7z4W-EZe",
        "outputId": "84a3a44b-2f6a-413d-c3c9-c404e0eba892"
      },
      "source": [
        "t = (\"cereza\", \"roja\"), (\"kiwi\", \"amarillo\"), (\"pera\", \"verde\"), (\"naranja\", \"naranja\")\n",
        "\n",
        "for fruit, color in t:\n",
        "  if fruit == \"kiwi\":\n",
        "    print(\"El color del\", fruit, \"es\", color)\n",
        "  else:\n",
        "    print(\"La {} es {}\".format(fruit, color))\n"
      ],
      "execution_count": null,
      "outputs": [
        {
          "output_type": "stream",
          "text": [
            "La cereza es roja\n",
            "El color del kiwi es amarillo\n",
            "La pera es verde\n",
            "La naranja es naranja\n"
          ],
          "name": "stdout"
        }
      ]
    },
    {
      "cell_type": "markdown",
      "metadata": {
        "id": "n07EGY5C_otr"
      },
      "source": [
        "## Tuplas y el resto de estructuras de datos\n",
        "\n",
        "Una tupla puede contener listas, diccionarios, conjuntos y tuplas"
      ]
    },
    {
      "cell_type": "code",
      "metadata": {
        "colab": {
          "base_uri": "https://localhost:8080/"
        },
        "id": "Bm2ldHvo_wXq",
        "outputId": "756f7071-ebd8-4ae1-d5c7-40456f65cac7"
      },
      "source": [
        "t = [4, 5, 6], {\"vowels\": (\"a\", \"e\", \"i\", \"o\", \"u\")}, {1, 2, 3}, (\"x\", \"y\")\n",
        "type(t)"
      ],
      "execution_count": null,
      "outputs": [
        {
          "output_type": "execute_result",
          "data": {
            "text/plain": [
              "tuple"
            ]
          },
          "metadata": {
            "tags": []
          },
          "execution_count": 25
        }
      ]
    },
    {
      "cell_type": "markdown",
      "metadata": {
        "id": "c3H2B1mrACa8"
      },
      "source": [
        "Asimismo,\n",
        "\n",
        "- las listas pueden contener diccionarios, conjuntos, tuplas y otras listas\n",
        "- los diccionarios pueden contener listas, conjuntos, tuplas y otros diccionarios\n",
        "- los conjuntos no pueden contener ni listas, ni diccionarios, ni tuplas, ni siquiera otros conjuntos"
      ]
    },
    {
      "cell_type": "code",
      "metadata": {
        "colab": {
          "base_uri": "https://localhost:8080/"
        },
        "id": "-cUGb42k_8M6",
        "outputId": "cf787f6e-356f-4d4e-f77e-7ff1c11f139b"
      },
      "source": [
        "l = [{\"vowels\": (\"a\", \"e\", \"i\", \"o\", \"u\")}, {1, 2, 3}, (\"x\", \"y\"), [4, 5, 6]]\n",
        "type(l)"
      ],
      "execution_count": null,
      "outputs": [
        {
          "output_type": "execute_result",
          "data": {
            "text/plain": [
              "list"
            ]
          },
          "metadata": {
            "tags": []
          },
          "execution_count": 26
        }
      ]
    },
    {
      "cell_type": "code",
      "metadata": {
        "colab": {
          "base_uri": "https://localhost:8080/"
        },
        "id": "IaG9qvw6AhLN",
        "outputId": "b6347018-49b6-496f-b99a-7453dae54b59"
      },
      "source": [
        "dicc = {\"list\": [4, 5, 6], \"set\": {1, 2, 3}, \"tuple\": (\"x\", \"y\"), \"dict\": {\"vowels\": (\"a\", \"e\", \"i\", \"o\", \"u\")}}\n",
        "type(dicc)"
      ],
      "execution_count": null,
      "outputs": [
        {
          "output_type": "execute_result",
          "data": {
            "text/plain": [
              "dict"
            ]
          },
          "metadata": {
            "tags": []
          },
          "execution_count": 27
        }
      ]
    },
    {
      "cell_type": "code",
      "metadata": {
        "id": "jhFHtaK3ApJj",
        "colab": {
          "base_uri": "https://localhost:8080/",
          "height": 164
        },
        "outputId": "26028edd-1f30-473e-bb39-f6c0238da2c6"
      },
      "source": [
        "set1 = {[4, 5, 6], {\"vowels\": (\"a\", \"e\", \"i\", \"o\", \"u\")}, (\"x\", \"y\"), {1, 2, 3}}"
      ],
      "execution_count": null,
      "outputs": [
        {
          "output_type": "error",
          "ename": "TypeError",
          "evalue": "ignored",
          "traceback": [
            "\u001b[0;31m---------------------------------------------------------------------------\u001b[0m",
            "\u001b[0;31mTypeError\u001b[0m                                 Traceback (most recent call last)",
            "\u001b[0;32m<ipython-input-28-1f946b14eaa4>\u001b[0m in \u001b[0;36m<module>\u001b[0;34m()\u001b[0m\n\u001b[0;32m----> 1\u001b[0;31m \u001b[0mset1\u001b[0m \u001b[0;34m=\u001b[0m \u001b[0;34m{\u001b[0m\u001b[0;34m[\u001b[0m\u001b[0;36m4\u001b[0m\u001b[0;34m,\u001b[0m \u001b[0;36m5\u001b[0m\u001b[0;34m,\u001b[0m \u001b[0;36m6\u001b[0m\u001b[0;34m]\u001b[0m\u001b[0;34m,\u001b[0m \u001b[0;34m{\u001b[0m\u001b[0;34m\"vowels\"\u001b[0m\u001b[0;34m:\u001b[0m \u001b[0;34m(\u001b[0m\u001b[0;34m\"a\"\u001b[0m\u001b[0;34m,\u001b[0m \u001b[0;34m\"e\"\u001b[0m\u001b[0;34m,\u001b[0m \u001b[0;34m\"i\"\u001b[0m\u001b[0;34m,\u001b[0m \u001b[0;34m\"o\"\u001b[0m\u001b[0;34m,\u001b[0m \u001b[0;34m\"u\"\u001b[0m\u001b[0;34m)\u001b[0m\u001b[0;34m}\u001b[0m\u001b[0;34m,\u001b[0m \u001b[0;34m(\u001b[0m\u001b[0;34m\"x\"\u001b[0m\u001b[0;34m,\u001b[0m \u001b[0;34m\"y\"\u001b[0m\u001b[0;34m)\u001b[0m\u001b[0;34m,\u001b[0m \u001b[0;34m{\u001b[0m\u001b[0;36m1\u001b[0m\u001b[0;34m,\u001b[0m \u001b[0;36m2\u001b[0m\u001b[0;34m,\u001b[0m \u001b[0;36m3\u001b[0m\u001b[0;34m}\u001b[0m\u001b[0;34m}\u001b[0m\u001b[0;34m\u001b[0m\u001b[0;34m\u001b[0m\u001b[0m\n\u001b[0m",
            "\u001b[0;31mTypeError\u001b[0m: unhashable type: 'list'"
          ]
        }
      ]
    },
    {
      "cell_type": "markdown",
      "metadata": {
        "id": "-XbkR_4FCCxL"
      },
      "source": [
        "Dado cualquier objeto iterable en `Python`, lo podemos convertir a tupla con la función `tuple()`"
      ]
    },
    {
      "cell_type": "code",
      "metadata": {
        "colab": {
          "base_uri": "https://localhost:8080/"
        },
        "id": "f84wF6YvA-Bj",
        "outputId": "987ec295-9ec7-460c-f4cb-f07fae392c2f"
      },
      "source": [
        "print(tuple(l)) # A partir de una lista\n",
        "print(type(tuple(l)))\n",
        "\n",
        "print(tuple(dicc)) # A partir de un diccionario solo se guardan las claves en la tupla\n",
        "print(type(tuple(dicc)))\n",
        "\n",
        "print(tuple({1, 2, 3, 4, 5})) # A partir de un conjunto\n",
        "print(type(tuple({1, 2, 3, 4, 5})))"
      ],
      "execution_count": null,
      "outputs": [
        {
          "output_type": "stream",
          "text": [
            "({'vowels': ('a', 'e', 'i', 'o', 'u')}, {1, 2, 3}, ('x', 'y'), [4, 5, 6])\n",
            "<class 'tuple'>\n",
            "('list', 'set', 'tuple', 'dict')\n",
            "<class 'tuple'>\n",
            "(1, 2, 3, 4, 5)\n",
            "<class 'tuple'>\n"
          ],
          "name": "stdout"
        }
      ]
    },
    {
      "cell_type": "markdown",
      "metadata": {
        "id": "Eupw4D2REOzG"
      },
      "source": [
        "## La función `zip()`"
      ]
    },
    {
      "cell_type": "markdown",
      "metadata": {
        "id": "ImiToMNbumTy"
      },
      "source": [
        "La función `zip()` sirve para juntar listas en tuplas"
      ]
    },
    {
      "cell_type": "code",
      "metadata": {
        "id": "yrnUv58XCMeM",
        "colab": {
          "base_uri": "https://localhost:8080/"
        },
        "outputId": "7d08c007-5d2c-4aee-9f80-3a5c191a4791"
      },
      "source": [
        "objects = [\"libreta\", \"pluma\", \"portaminas\", \"pack_minas\"]\n",
        "price = [5.00, 3.30, 1.29, 0.50]\n",
        "items = zip(objects, price)\n",
        "print(items)"
      ],
      "execution_count": null,
      "outputs": [
        {
          "output_type": "stream",
          "text": [
            "<zip object at 0x7f3782cff6c8>\n"
          ],
          "name": "stdout"
        }
      ]
    },
    {
      "cell_type": "markdown",
      "metadata": {
        "id": "46jwnFIhu-Os"
      },
      "source": [
        "Podemos convertir el resultado de una función `zip()` a una lista"
      ]
    },
    {
      "cell_type": "code",
      "metadata": {
        "colab": {
          "base_uri": "https://localhost:8080/"
        },
        "id": "UIopJ6u3u6jn",
        "outputId": "a1c85855-00c6-4239-fe2a-d92aace0d0a1"
      },
      "source": [
        "items = zip(objects, price)\n",
        "list(items)"
      ],
      "execution_count": null,
      "outputs": [
        {
          "output_type": "execute_result",
          "data": {
            "text/plain": [
              "[('libreta', 5.0), ('pluma', 3.3), ('portaminas', 1.29), ('pack_minas', 0.5)]"
            ]
          },
          "metadata": {
            "tags": []
          },
          "execution_count": 31
        }
      ]
    },
    {
      "cell_type": "markdown",
      "metadata": {
        "id": "RhFWwq51vG05"
      },
      "source": [
        "Podemos convertir el resultado de una función `zip()` a un diccionario"
      ]
    },
    {
      "cell_type": "code",
      "metadata": {
        "colab": {
          "base_uri": "https://localhost:8080/"
        },
        "id": "qFC9qlKAvEh2",
        "outputId": "405d6522-1ea6-4e20-cac0-c12ddeff7a49"
      },
      "source": [
        "items = zip(objects, price)\n",
        "dict(items)"
      ],
      "execution_count": null,
      "outputs": [
        {
          "output_type": "execute_result",
          "data": {
            "text/plain": [
              "{'libreta': 5.0, 'pack_minas': 0.5, 'pluma': 3.3, 'portaminas': 1.29}"
            ]
          },
          "metadata": {
            "tags": []
          },
          "execution_count": 32
        }
      ]
    },
    {
      "cell_type": "markdown",
      "metadata": {
        "id": "JNSkhZN5vOi6"
      },
      "source": [
        "**¡Cuidado!** Hay que crear de nuevo el objeto `zip()`, pues el resultado de esta función es un iterador y, una vez ha sido convertido a lista, diccionario o tupla, se considera una iteración completa y no será capaz de generar más valores.\n",
        "\n",
        "Podemos convertir el resultado de una función `zip()` a una tupla:"
      ]
    },
    {
      "cell_type": "code",
      "metadata": {
        "id": "Kbfo9aebvjAp",
        "colab": {
          "base_uri": "https://localhost:8080/"
        },
        "outputId": "10474222-1dc7-4bb5-a5bc-d7a5284ee42b"
      },
      "source": [
        "items = zip(objects, price)\n",
        "tuple(items)"
      ],
      "execution_count": null,
      "outputs": [
        {
          "output_type": "execute_result",
          "data": {
            "text/plain": [
              "(('libreta', 5.0), ('pluma', 3.3), ('portaminas', 1.29), ('pack_minas', 0.5))"
            ]
          },
          "metadata": {
            "tags": []
          },
          "execution_count": 33
        }
      ]
    },
    {
      "cell_type": "code",
      "metadata": {
        "colab": {
          "base_uri": "https://localhost:8080/"
        },
        "id": "kMDeWQyV4xOK",
        "outputId": "5aa793ff-fc03-403d-848d-b90aae213d3c"
      },
      "source": [
        "for obj, pr in zip(objects, price):\n",
        "    print(\"El objeto {} cuesta {} €.\".format(obj, pr))"
      ],
      "execution_count": null,
      "outputs": [
        {
          "output_type": "stream",
          "text": [
            "El objeto libreta cuesta 5.0 €.\n",
            "El objeto pluma cuesta 3.3 €.\n",
            "El objeto portaminas cuesta 1.29 €.\n",
            "El objeto pack_minas cuesta 0.5 €.\n"
          ],
          "name": "stdout"
        }
      ]
    },
    {
      "cell_type": "code",
      "metadata": {
        "id": "ExfDL_Wp43Gw"
      },
      "source": [],
      "execution_count": null,
      "outputs": []
    }
  ]
}