{
  "cells": [
    {
      "cell_type": "markdown",
      "metadata": {
        "id": "9QodAjU6bCnL"
      },
      "source": [
        "# `Python` básico\n",
        "\n"
      ]
    },
    {
      "cell_type": "markdown",
      "metadata": {
        "id": "wNFYdGeh2Xv6"
      },
      "source": [
        "## Variables\n",
        "\n",
        "**Variable.** Consta de un espacio en el sistema de almacenaje (memoria principal de un ordenador) y un nombre simbólico (un identificador) que está asociado a dicho espacio.\n",
        "\n",
        "Dicho de otro modo, una variable es la relación que hay entre un nombre y un objeto ubicado en algún lugar de la memoria del ordenador.\n",
        "\n",
        "En `Python` asignamos valores a las variables siguiendo el siguiente formato: `nombre_variable = valor`"
      ]
    },
    {
      "cell_type": "code",
      "execution_count": 1,
      "metadata": {
        "colab": {
          "base_uri": "https://localhost:8080/"
        },
        "id": "qYGqmlyNbAvv",
        "outputId": "b269a082-27fb-4648-dfce-616674f59367"
      },
      "outputs": [
        {
          "data": {
            "text/plain": [
              "1"
            ]
          },
          "execution_count": 1,
          "metadata": {},
          "output_type": "execute_result"
        }
      ],
      "source": [
        "x = 1\n",
        "x"
      ]
    },
    {
      "cell_type": "code",
      "execution_count": 2,
      "metadata": {
        "colab": {
          "base_uri": "https://localhost:8080/",
          "height": 35
        },
        "id": "eG1KUxvsbCYs",
        "outputId": "87b1c5a6-284c-41c1-e3c6-d49dba74bbd9"
      },
      "outputs": [
        {
          "data": {
            "text/plain": [
              "'hola'"
            ]
          },
          "execution_count": 2,
          "metadata": {},
          "output_type": "execute_result"
        }
      ],
      "source": [
        "y = \"hola\"\n",
        "y"
      ]
    },
    {
      "cell_type": "markdown",
      "metadata": {
        "id": "jgRynsvNbm2t"
      },
      "source": [
        "### Restricciones sobre los nombres de las variables\n",
        "\n",
        "- No pueden empezar ni contener carácteres especiales\n",
        "- No pueden empezar por números\n",
        "- No pueden ser llamadas igual que las palabras claves reservadas en Python\n",
        "- No pueden contener espacios\n",
        "\n",
        "**Observación.** Conviene que al darle nombre a una variable, éste tenga sentido en cuanto al dato que guarde, para que así resulte mucho más fácil la comprensión por parte de quien lea el código.\n",
        "\n",
        "**Observación.** A día de hoy, si los nombres de las variables están compuestos por múltiples palabras, hay 4 formas de escribir dichos nombres:\n",
        "\n",
        "- camelCase: `nombreMascota`\n",
        "- PascalCase: `NombreMascota`\n",
        "- snake_case: `nombre_mascota`\n",
        "- kebab-case: `nombre-mascota`"
      ]
    },
    {
      "cell_type": "markdown",
      "metadata": {
        "id": "0SrOJaa_cDyY"
      },
      "source": [
        "### Palabras clave en `Python`\n",
        "\n",
        "Las palabras clave en `Python` son las que se muestran con el siguiente chunk de código."
      ]
    },
    {
      "cell_type": "code",
      "execution_count": 3,
      "metadata": {
        "colab": {
          "base_uri": "https://localhost:8080/"
        },
        "id": "ILCoaIO-bdh5",
        "outputId": "c96fd1d1-32dc-4910-ae1d-ecad945d3afd"
      },
      "outputs": [
        {
          "data": {
            "text/plain": [
              "['False',\n",
              " 'None',\n",
              " 'True',\n",
              " '__peg_parser__',\n",
              " 'and',\n",
              " 'as',\n",
              " 'assert',\n",
              " 'async',\n",
              " 'await',\n",
              " 'break',\n",
              " 'class',\n",
              " 'continue',\n",
              " 'def',\n",
              " 'del',\n",
              " 'elif',\n",
              " 'else',\n",
              " 'except',\n",
              " 'finally',\n",
              " 'for',\n",
              " 'from',\n",
              " 'global',\n",
              " 'if',\n",
              " 'import',\n",
              " 'in',\n",
              " 'is',\n",
              " 'lambda',\n",
              " 'nonlocal',\n",
              " 'not',\n",
              " 'or',\n",
              " 'pass',\n",
              " 'raise',\n",
              " 'return',\n",
              " 'try',\n",
              " 'while',\n",
              " 'with',\n",
              " 'yield']"
            ]
          },
          "execution_count": 3,
          "metadata": {},
          "output_type": "execute_result"
        }
      ],
      "source": [
        "import keyword\n",
        "keyword.kwlist"
      ]
    },
    {
      "cell_type": "markdown",
      "metadata": {
        "id": "kSwXKsFbcWN9"
      },
      "source": [
        "### Declarando múltiples variables en una sola línea\n",
        "\n",
        "Se hace del siguiente modo:"
      ]
    },
    {
      "cell_type": "code",
      "execution_count": 4,
      "metadata": {
        "id": "tietJXkecQAu"
      },
      "outputs": [],
      "source": [
        "age, name = 22, \"Maria\""
      ]
    },
    {
      "cell_type": "code",
      "execution_count": 5,
      "metadata": {
        "colab": {
          "base_uri": "https://localhost:8080/"
        },
        "id": "xAZuwZqDcm6k",
        "outputId": "49a29e05-7eb5-442c-f471-785e95003094"
      },
      "outputs": [
        {
          "data": {
            "text/plain": [
              "22"
            ]
          },
          "execution_count": 5,
          "metadata": {},
          "output_type": "execute_result"
        }
      ],
      "source": [
        "age"
      ]
    },
    {
      "cell_type": "code",
      "execution_count": 6,
      "metadata": {
        "colab": {
          "base_uri": "https://localhost:8080/",
          "height": 35
        },
        "id": "CcRUacwdcn5G",
        "outputId": "f3b8a3d4-f2d0-4f6f-afef-4e955e1ac9d2"
      },
      "outputs": [
        {
          "data": {
            "text/plain": [
              "'Maria'"
            ]
          },
          "execution_count": 6,
          "metadata": {},
          "output_type": "execute_result"
        }
      ],
      "source": [
        "name"
      ]
    },
    {
      "cell_type": "markdown",
      "metadata": {
        "id": "qLB8cZygc0H0"
      },
      "source": [
        "### Operando con una variable numérica\n",
        "\n",
        "Una vez hemos guardado un valor numérico en una variable, podemos operar con él:"
      ]
    },
    {
      "cell_type": "code",
      "execution_count": 7,
      "metadata": {
        "colab": {
          "base_uri": "https://localhost:8080/"
        },
        "id": "4bjRNTqlcoYu",
        "outputId": "f991b365-83b1-48ec-a7fe-8f65ce1ab1cb"
      },
      "outputs": [
        {
          "data": {
            "text/plain": [
              "4"
            ]
          },
          "execution_count": 7,
          "metadata": {},
          "output_type": "execute_result"
        }
      ],
      "source": [
        "x = 3\n",
        "x + 1"
      ]
    },
    {
      "cell_type": "markdown",
      "metadata": {
        "id": "J5tRgW1rc723"
      },
      "source": [
        "Incluso podemos guardar ese valor en una nueva variable"
      ]
    },
    {
      "cell_type": "code",
      "execution_count": 8,
      "metadata": {
        "colab": {
          "base_uri": "https://localhost:8080/"
        },
        "id": "2yPmrsHac5OI",
        "outputId": "af70237e-e17d-45da-dd0d-e67866e23695"
      },
      "outputs": [
        {
          "data": {
            "text/plain": [
              "4"
            ]
          },
          "execution_count": 8,
          "metadata": {},
          "output_type": "execute_result"
        }
      ],
      "source": [
        "y = x + 1\n",
        "y"
      ]
    },
    {
      "cell_type": "markdown",
      "metadata": {
        "id": "SH8hduErdH-a"
      },
      "source": [
        "O bien, podemos sobreescribir la variable que teníamos originalmente"
      ]
    },
    {
      "cell_type": "code",
      "execution_count": 9,
      "metadata": {
        "colab": {
          "base_uri": "https://localhost:8080/"
        },
        "id": "8gLMJ9h-dERY",
        "outputId": "3cc47e4d-1560-4a7b-a488-1ac157ed2c7d"
      },
      "outputs": [
        {
          "data": {
            "text/plain": [
              "4"
            ]
          },
          "execution_count": 9,
          "metadata": {},
          "output_type": "execute_result"
        }
      ],
      "source": [
        "x = x + 1\n",
        "x"
      ]
    },
    {
      "cell_type": "markdown",
      "metadata": {
        "id": "wT8UuOHTdUPx"
      },
      "source": [
        "En `Python`, si queremos sobreescribir una variable numérica sumándole a esta una cantidad, lo podemos hacer del siguiente modo:"
      ]
    },
    {
      "cell_type": "code",
      "execution_count": 10,
      "metadata": {
        "colab": {
          "base_uri": "https://localhost:8080/"
        },
        "id": "DhwDnGSgdNEn",
        "outputId": "a5577060-3d9e-48fe-dd90-470fa7c13a53"
      },
      "outputs": [
        {
          "data": {
            "text/plain": [
              "7"
            ]
          },
          "execution_count": 10,
          "metadata": {},
          "output_type": "execute_result"
        }
      ],
      "source": [
        "x = 7\n",
        "x"
      ]
    },
    {
      "cell_type": "code",
      "execution_count": 11,
      "metadata": {
        "colab": {
          "base_uri": "https://localhost:8080/"
        },
        "id": "xs2HGOlgdfMn",
        "outputId": "6657735a-0c55-45ac-bd9e-3a906fca9645"
      },
      "outputs": [
        {
          "data": {
            "text/plain": [
              "9"
            ]
          },
          "execution_count": 11,
          "metadata": {},
          "output_type": "execute_result"
        }
      ],
      "source": [
        "x += 2\n",
        "x"
      ]
    },
    {
      "cell_type": "markdown",
      "metadata": {
        "id": "w8o5P0f3dl_Z"
      },
      "source": [
        "**Observación.** Al igual que existe `+=`, también tenemos `-=`, `*=`, `/=`, `//=`, `%=` y `**=`, que son el equivalente a `+=` con el resto de operaciones aritméticas existentes en `Python` y que trataremos en el siguiente tema.\n",
        "\n",
        "**Observación.** Todos los tipos de variable en `Python` los iremos viendo en profundidad a lo largo de este curso."
      ]
    },
    {
      "cell_type": "markdown",
      "metadata": {
        "id": "PFS0fIq2d28a"
      },
      "source": [
        "## Comentarios\n",
        "\n",
        "Dado un bloque de código, a veces puede ser útil explicar qué hace o en qué consiste, o bien hacer que una línea no se ejecute por algún motivo, pero que siga presente en dicho código. Aquí entran en juego los comentarios, que son parte del código, pero no se ejecutan.\n",
        "\n",
        "Si queremos hacer un comentario en una línea, utilizamos `#`"
      ]
    },
    {
      "cell_type": "code",
      "execution_count": 12,
      "metadata": {
        "colab": {
          "base_uri": "https://localhost:8080/"
        },
        "id": "lWQ8gsi3dkxs",
        "outputId": "fc20c02f-55f7-40a6-cd54-76f0e95fa726"
      },
      "outputs": [
        {
          "data": {
            "text/plain": [
              "1"
            ]
          },
          "execution_count": 12,
          "metadata": {},
          "output_type": "execute_result"
        }
      ],
      "source": [
        "# Vamos a definir la variable x y asignarle el valor 1\n",
        "x = 1 # Aquí está nuestra variable x\n",
        "# Esto es otro comentario\n",
        "# Y ninguno de los comentarios se ejecutará\n",
        "x"
      ]
    },
    {
      "cell_type": "markdown",
      "metadata": {
        "id": "1aSTssRWeKYy"
      },
      "source": [
        "**Observación.** Los comentarios, como ya se ha dicho, pueden ser muy útiles a la hora de entender nuestro código. Sin embargo, no conviene abusar de estos, como se ha hecho en el ejemplo anterior, pues el código pasa de ser claro a ser excesivamente largo y confuso."
      ]
    },
    {
      "cell_type": "markdown",
      "metadata": {
        "id": "RLAxJeVHoRUj"
      },
      "source": [
        "## La función `import`"
      ]
    },
    {
      "cell_type": "markdown",
      "metadata": {
        "id": "_EdJsZxKqHsg"
      },
      "source": [
        "Antes de explicar en qué consiste la función `import`, hay que definir los siguientes conceptos:\n",
        "\n",
        "- **Algoritmo.** Conjunto ordenado de operaciones sistemáticas que permite hacer un cálculo y hallar la solución de un problema.\n",
        "- **Función.** Bloque de código con un nombre asociado, que recibe cero o más argumentos como entrada, sigue una secuencia de sentencias, la cuales ejecuta una operación deseada y devuelve un valor y/o realiza una tarea.\n",
        "- **Script.** Archivo diseñado para ser ejecutado. Puede contener funciones, programas, etc.\n",
        "- **Módulo.** Script que contiene colecciones de funciones, definiciones y declaraciones de `Python`."
      ]
    },
    {
      "cell_type": "markdown",
      "metadata": {
        "id": "JzoJrjzIvDKw"
      },
      "source": [
        "Las funciones de un módulo pueden ser importadas. Es aquí donde entra en juego la función `import`.\n",
        "\n",
        "Por ejemplo, vamos a importar el módulo `math`, del cual hablaremos en futuras secciones de este curso.\n",
        "\n",
        "De momento, lo que nos interesa saber acerca de este módulo es que es de utilidad a la hora de usar funciones matemáticas (definidas según los estándares de C)."
      ]
    },
    {
      "cell_type": "code",
      "execution_count": 13,
      "metadata": {
        "id": "rfJKBW4tvbs7"
      },
      "outputs": [],
      "source": [
        "import math"
      ]
    },
    {
      "cell_type": "markdown",
      "metadata": {
        "id": "9y3WEH0Xv43a"
      },
      "source": [
        "Con la línea de código anterior, hemos cargado el módulo de `math`, permitiéndonos así poder trabajar con las funciones que contiene, haciendo uso de la sintaxis `math.funcion()` o `math.variable`.\n",
        "\n",
        "A la hora de usar funciones de un módulo, puede resultar tedioso tener que poner siempre el nombre del módulo previo a la función. Es por ello que la función `import` nos permite hacer lo siguiente:"
      ]
    },
    {
      "cell_type": "code",
      "execution_count": 14,
      "metadata": {
        "id": "_KH7UvLzxi0c"
      },
      "outputs": [],
      "source": [
        "import math as mt"
      ]
    },
    {
      "cell_type": "markdown",
      "metadata": {
        "id": "KTYProYOxmA6"
      },
      "source": [
        "Con la línea de código anterior, no solo hemos cargado el módulo de `math`, sino que a la hora de usar alguna de sus funiones, ahora podremos usar la sintaxis `mt.funcion()` o `mt.variable`. Es decir, en vez de tener que poner el nombre del módulo, podemos cambiarle el nombre o, como en este caso, usar la abreviatura `mt` (o la que quereamos utilizar), cosa que resulta de mucha utilidad para módulos con nombres muy largos.\n",
        "\n",
        "Si por el contrario no queremos cargar todo el módulo, sino que simplemente queremos cargar una función o una variable, lo podemos hacer de la siguiente forma:"
      ]
    },
    {
      "cell_type": "code",
      "execution_count": 15,
      "metadata": {
        "id": "f3zmurOyyE8z"
      },
      "outputs": [],
      "source": [
        "from math import pi"
      ]
    },
    {
      "cell_type": "markdown",
      "metadata": {
        "id": "TzkyKnUmzSHJ"
      },
      "source": [
        "La línea de código anterior nos permite acceder a la variable `pi` del módulo `math` directamente haciendo uso de la sintaxis `pi`, en vez de tener que usar la sintaxis `math.pi`.\n",
        "\n",
        "Al igual que podíamos modificar el nombre del módulo a la hora de llamarlo, también lo podemos hacer con las funciones y las variables."
      ]
    },
    {
      "cell_type": "code",
      "execution_count": 16,
      "metadata": {
        "id": "ui3CzmHz1Mqf"
      },
      "outputs": [],
      "source": [
        "from math import pi as numero_pi"
      ]
    },
    {
      "cell_type": "markdown",
      "metadata": {
        "id": "jcNYb_X61ROj"
      },
      "source": [
        "De modo que ahora ya no solo podemos acceder directamente a la variable `pi` sin necesidad de indicar el módulo del que procede, sino que le hemos cambiado el nombre a `numero_pi`."
      ]
    },
    {
      "cell_type": "markdown",
      "metadata": {
        "id": "Z1AkE1YJ1M7o"
      },
      "source": [
        "Si por el contrario quisiésemos cargar más de una función o variable, pero sin necesidad de cargar todo el módulo, lo podríamos hacer del siguiente modo:"
      ]
    },
    {
      "cell_type": "code",
      "execution_count": 17,
      "metadata": {
        "id": "4fDbomuRz0iK"
      },
      "outputs": [],
      "source": [
        "from math import pi, log, exp"
      ]
    },
    {
      "cell_type": "markdown",
      "metadata": {
        "id": "pKG5_a0tz_Ry"
      },
      "source": [
        "En este caso, la línea de código anterior nos permite acceder a la variable `pi` y las funciones `log()` y `exp()`, todas del módulo `math`, directamente haciendo uso de la sintaxis `pi`, `log()` y `exp()` en vez de tener que usar la sintaxis `math.pi`, `math.log()` o `math.exp()`, respectivamente."
      ]
    },
    {
      "cell_type": "markdown",
      "metadata": {
        "id": "3V-MWUd91nXH"
      },
      "source": [
        "Por último, si quisiésemos cargar todas las funciones del módulo `math` y evitar tener que usar la sintaxis `math.funcion()` o `math.variable`, entonces lo podríamos hacer con la siguiente instrucción"
      ]
    },
    {
      "cell_type": "code",
      "execution_count": 18,
      "metadata": {
        "id": "-KP7wAqm0O7S"
      },
      "outputs": [],
      "source": [
        "from math import *"
      ]
    },
    {
      "cell_type": "markdown",
      "metadata": {
        "id": "Xe--p_iH0dmW"
      },
      "source": [
        "No obstante, esto no es para nada recomendable puesto que puede que dos o más funciones de diferentes módulos tengan el mismo nombre aunque lleven a cabo cosas distintas, lo cual supondría un grave problema, pues no tendríamos forma de diferenciar qué función queremos utilizar."
      ]
    }
  ],
  "metadata": {
    "colab": {
      "collapsed_sections": [
        "kSwXKsFbcWN9"
      ],
      "provenance": []
    },
    "kernelspec": {
      "display_name": "Python 3",
      "name": "python3"
    },
    "language_info": {
      "codemirror_mode": {
        "name": "ipython",
        "version": 3
      },
      "file_extension": ".py",
      "mimetype": "text/x-python",
      "name": "python",
      "nbconvert_exporter": "python",
      "pygments_lexer": "ipython3",
      "version": "3.9.13"
    }
  },
  "nbformat": 4,
  "nbformat_minor": 0
}
