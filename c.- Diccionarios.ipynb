{
  "cells": [
    {
      "cell_type": "markdown",
      "metadata": {
        "id": "2jBdoqf_5JAC"
      },
      "source": [
        "# Diccionarios"
      ]
    },
    {
      "cell_type": "markdown",
      "metadata": {
        "id": "bIDMTVrBR0MW"
      },
      "source": [
        "## Por: Eduardo Lozas\n"
      ]
    },
    {
      "cell_type": "code",
      "execution_count": 23,
      "metadata": {
        "id": "ijqYE9iE5JAD"
      },
      "outputs": [
        {
          "name": "stdout",
          "output_type": "stream",
          "text": [
            "<class 'dict'>\n"
          ]
        }
      ],
      "source": [
        "my_dict0 = {}\n",
        "print(type(my_dict0))"
      ]
    },
    {
      "cell_type": "code",
      "execution_count": 24,
      "metadata": {
        "id": "jc9WrvVZ5JAD"
      },
      "outputs": [
        {
          "name": "stdout",
          "output_type": "stream",
          "text": [
            "{'a': 1, 'b': 2, 'c': 3}\n"
          ]
        }
      ],
      "source": [
        "my_dict1 = {'a': 1, 'b': 2, 'c': 3}\n",
        "print(my_dict1)"
      ]
    },
    {
      "cell_type": "code",
      "execution_count": 25,
      "metadata": {
        "id": "Na6RsAV-5JAD"
      },
      "outputs": [
        {
          "name": "stdout",
          "output_type": "stream",
          "text": [
            "{'a': 1, 'b': 2, 'c': 3}\n"
          ]
        }
      ],
      "source": [
        "my_dict0 = {\n",
        "            'a': 1,\n",
        "            'b': 2,\n",
        "            'c': 3\n",
        "}\n",
        "print(my_dict0)"
      ]
    },
    {
      "cell_type": "code",
      "execution_count": 26,
      "metadata": {
        "id": "zo0U0Fa55JAE"
      },
      "outputs": [
        {
          "name": "stdout",
          "output_type": "stream",
          "text": [
            "{'ana': 1, 'bu': 2, 'casa': 3}\n"
          ]
        }
      ],
      "source": [
        "my_dict2 = dict(ana=1, bu=2, casa=3)\n",
        "print(my_dict2)"
      ]
    },
    {
      "cell_type": "code",
      "execution_count": 27,
      "metadata": {
        "id": "5OkaN_Nj5JAF"
      },
      "outputs": [
        {
          "name": "stdout",
          "output_type": "stream",
          "text": [
            "diccionario inicial ->  {'a': 1, 'b': 2}\n"
          ]
        }
      ],
      "source": [
        "my_dict3 = {'a': 1, 'b': 2}\n",
        "print('diccionario inicial -> ',my_dict3)"
      ]
    },
    {
      "cell_type": "code",
      "execution_count": 28,
      "metadata": {
        "id": "mrVj8T1q5JAF"
      },
      "outputs": [
        {
          "name": "stdout",
          "output_type": "stream",
          "text": [
            "agregamos w ->  {'a': 1, 'b': 2, 'w': 100}\n"
          ]
        }
      ],
      "source": [
        "my_dict3['w'] = 100\n",
        "print('agregamos w -> ',my_dict3)"
      ]
    },
    {
      "cell_type": "code",
      "execution_count": 29,
      "metadata": {
        "id": "cnsuktEu5JAF"
      },
      "outputs": [
        {
          "name": "stdout",
          "output_type": "stream",
          "text": [
            "cambiamos b ->  {'a': 1, 'b': [4, 5, 'hola', (5, 9)], 'w': 100}\n"
          ]
        }
      ],
      "source": [
        "my_dict3['b'] = [4,5,'hola',(5,9)]\n",
        "print('cambiamos b -> ', my_dict3)"
      ]
    },
    {
      "cell_type": "code",
      "execution_count": 30,
      "metadata": {
        "id": "NQAeLzkZ5JAG"
      },
      "outputs": [
        {
          "name": "stdout",
          "output_type": "stream",
          "text": [
            "eliminamos a ->  {'b': [4, 5, 'hola', (5, 9)], 'w': 100}\n"
          ]
        }
      ],
      "source": [
        "del my_dict3['a']\n",
        "print('eliminamos a -> ',my_dict3)"
      ]
    },
    {
      "cell_type": "markdown",
      "metadata": {
        "id": "3fEVTzDi5JAG"
      },
      "source": [
        "#### Ejemplo:\n",
        "Escribir un programa que pregunte al usuario su nombre, edad, dirección y teléfono y lo guarde en un diccionario. Después debe mostrar por pantalla el mensaje <nombre> tiene <edad> años, vive en <dirección> y su número de teléfono es <teléfono>."
      ]
    },
    {
      "cell_type": "code",
      "execution_count": 31,
      "metadata": {
        "id": "Rx1hTrIO5JAG"
      },
      "outputs": [],
      "source": [
        "nombre = input('¿Cómo te llamas? ')\n",
        "edad = int(input('¿Cuántos años tienes? '))\n",
        "direccion = input('¿Cuál es tu dirección? ')\n",
        "telefono = input('¿Cuál es tu número de teléfono? ')\n",
        "telefono = int(telefono)"
      ]
    },
    {
      "cell_type": "code",
      "execution_count": 32,
      "metadata": {
        "id": "n2TX51i85JAG"
      },
      "outputs": [],
      "source": [
        "persona = {'nombre': nombre,\n",
        "           'edad': edad,\n",
        "           'direccion': direccion,\n",
        "           'telefono': telefono }"
      ]
    },
    {
      "cell_type": "code",
      "execution_count": 33,
      "metadata": {
        "id": "7ndJRJW55JAH"
      },
      "outputs": [
        {
          "name": "stdout",
          "output_type": "stream",
          "text": [
            "Lalo Lozas tiene 29 años, vive en CDMX y su número de teléfono es 12345678\n"
          ]
        }
      ],
      "source": [
        "print(persona[\"nombre\"], \"tiene\", persona['edad'], 'años, vive en', persona['direccion'], 'y su número de teléfono es', persona['telefono'])"
      ]
    },
    {
      "cell_type": "code",
      "execution_count": 34,
      "metadata": {
        "id": "Ktc4lR7a5JAH"
      },
      "outputs": [
        {
          "data": {
            "text/plain": [
              "dict_keys(['nombre', 'edad', 'direccion', 'telefono'])"
            ]
          },
          "execution_count": 34,
          "metadata": {},
          "output_type": "execute_result"
        }
      ],
      "source": [
        "persona.keys()"
      ]
    },
    {
      "cell_type": "code",
      "execution_count": 35,
      "metadata": {
        "id": "sEi1Vkn-5JAH"
      },
      "outputs": [
        {
          "data": {
            "text/plain": [
              "dict_values(['Lalo Lozas', 29, 'CDMX', 12345678])"
            ]
          },
          "execution_count": 35,
          "metadata": {},
          "output_type": "execute_result"
        }
      ],
      "source": [
        "persona.values()"
      ]
    },
    {
      "cell_type": "code",
      "execution_count": 36,
      "metadata": {
        "id": "Jgw_YEK55JAH"
      },
      "outputs": [
        {
          "data": {
            "text/plain": [
              "dict_items([('nombre', 'Lalo Lozas'), ('edad', 29), ('direccion', 'CDMX'), ('telefono', 12345678)])"
            ]
          },
          "execution_count": 36,
          "metadata": {},
          "output_type": "execute_result"
        }
      ],
      "source": [
        "persona.items()"
      ]
    },
    {
      "cell_type": "code",
      "execution_count": 37,
      "metadata": {
        "id": "Wkm3iPVP5JAH"
      },
      "outputs": [],
      "source": [
        "persona[\"nombre\"]=['Ana', 'juan', 'carlos']\n",
        "persona[\"edad\"]=[2, 20, 15]\n",
        "persona[\"direccion\"]=['zapopan', 'cholula', 'zacatecas']\n",
        "persona[\"telefono\"]=[222, 333, 444]"
      ]
    },
    {
      "cell_type": "code",
      "execution_count": 38,
      "metadata": {
        "id": "W6u4bm9P5JAH"
      },
      "outputs": [
        {
          "data": {
            "text/plain": [
              "'Ana'"
            ]
          },
          "execution_count": 38,
          "metadata": {},
          "output_type": "execute_result"
        }
      ],
      "source": [
        "persona[\"nombre\"][0]"
      ]
    },
    {
      "cell_type": "code",
      "execution_count": 39,
      "metadata": {
        "id": "OPnqwTnt5JAH"
      },
      "outputs": [
        {
          "name": "stdout",
          "output_type": "stream",
          "text": [
            "Ana tiene 2 años, vive en zapopan y su número de teléfono es 222\n",
            "juan tiene 20 años, vive en cholula y su número de teléfono es 333\n",
            "carlos tiene 15 años, vive en zacatecas y su número de teléfono es 444\n"
          ]
        }
      ],
      "source": [
        "for i in range(3):\n",
        "    print(persona[\"nombre\"][i], \"tiene\", persona['edad'][i], 'años, vive en', persona['direccion'][i], 'y su número de teléfono es', persona['telefono'][i])\n"
      ]
    },
    {
      "cell_type": "markdown",
      "metadata": {
        "id": "Uw-lCE1z5JAH"
      },
      "source": [
        "#### Ejercicio 1\n",
        "Escribir un programa que guarde en un diccionario los precios de las frutas de la tabla, pregunte al usuario por una fruta, un número de kilos y muestre por pantalla el precio de ese número de kilos de fruta. Si la fruta no está en el diccionario debe mostrar un mensaje informando de ello.\n",
        "|  Fruta  | Precio |\n",
        "|:-------:|:------:|\n",
        "| Plátano |  1.35  |\n",
        "| Manzana |  0.80  |\n",
        "|   Pera  |  0.85  |\n",
        "| Naranja |  0.70  |"
      ]
    },
    {
      "cell_type": "code",
      "execution_count": 40,
      "metadata": {
        "id": "x8EM9n6I5JAI"
      },
      "outputs": [
        {
          "name": "stdout",
          "output_type": "stream",
          "text": [
            "las  ya se acabaron\n"
          ]
        }
      ],
      "source": [
        "frutas = {\n",
        "    'platano':1.35,\n",
        "    'manzana':0.80,\n",
        "    'pera':0.85,\n",
        "    'naranja':0.70\n",
        "}\n",
        "\n",
        "fruta = input('que fruta deseas: ').lower()\n",
        "\n",
        "if fruta not in frutas:\n",
        "    print(f\"las {fruta} ya se acabaron\")\n",
        "else:\n",
        "    kilos = int(input(\"¿cuantos kilos quieres? \"))\n",
        "    total = round(kilos * frutas[fruta],2)\n",
        "    print(f\"son {kilos} de {fruta} = {total}\")"
      ]
    },
    {
      "cell_type": "code",
      "execution_count": 42,
      "metadata": {
        "id": "oJdgDpky5JAI"
      },
      "outputs": [
        {
          "name": "stdout",
          "output_type": "stream",
          "text": [
            " Tu total es :  0.8\n"
          ]
        }
      ],
      "source": [
        "Market = {\n",
        "  \"Platano\": 1.35,\n",
        "  \"Pera\": .80,\n",
        "  \"Manzana\": .85,\n",
        "  \"Naranja\": .70\n",
        "}\n",
        "\n",
        "Fruta = input ('por favor ingresa cual fruta quieres : Platano, Pera, Manzana o Naranja ?')\n",
        "\n",
        "kilos = input('cuantos kilos quieres?')\n",
        "\n",
        "print(' Tu total es : ', float(kilos)* Market[Fruta])"
      ]
    },
    {
      "cell_type": "code",
      "execution_count": 43,
      "metadata": {
        "id": "afKffmcs5JAI"
      },
      "outputs": [
        {
          "name": "stdout",
          "output_type": "stream",
          "text": [
            "por sus 1 kilos de Manzana son 12 pesos\n"
          ]
        }
      ],
      "source": [
        "diccionario = {}\n",
        "\n",
        "fruta1 = input(\"que le damos?:\")\n",
        "masaf1 =int(input(\"cuanto va a querer?\"))\n",
        "\n",
        "diccionario[\"fruta1\"] = masaf1\n",
        "print(\"por sus\" , masaf1 , \"kilos de\", fruta1 , \"son 12 pesos\")"
      ]
    },
    {
      "cell_type": "code",
      "execution_count": 44,
      "metadata": {
        "id": "t8sNcWkb5JAI"
      },
      "outputs": [
        {
          "data": {
            "text/plain": [
              "{'fruta1': 1}"
            ]
          },
          "execution_count": 44,
          "metadata": {},
          "output_type": "execute_result"
        }
      ],
      "source": [
        "diccionario\n"
      ]
    },
    {
      "cell_type": "code",
      "execution_count": 45,
      "metadata": {
        "id": "rsT5M7aT5JAI"
      },
      "outputs": [
        {
          "name": "stdout",
          "output_type": "stream",
          "text": [
            "El precio de 2.0 kilos de pera es: $1.7\n"
          ]
        }
      ],
      "source": [
        "precios_frutas = {\n",
        "    \"platano\":1.35,\n",
        "    \"manzana\":0.80,\n",
        "    \"pera\": 0.85,\n",
        "    \"naranja\": 0.70\n",
        "}\n",
        "fruta = input(\"Ingrese el nombre de la fruta: \").lower()\n",
        "if fruta in precios_frutas:\n",
        "    kilos = float(input(\"Ingrese la cantidad en kilos: \"))\n",
        "    precio_fruta = precios_frutas[fruta]\n",
        "    precio_total = precio_fruta * kilos\n",
        "    print(f\"El precio de {kilos} kilos de {fruta} es: ${precio_total}\")\n",
        "else:\n",
        "    print(f\"Lo siento, {fruta} no está en el diccionario de precios.\")"
      ]
    },
    {
      "cell_type": "code",
      "execution_count": 46,
      "metadata": {
        "id": "g5WVgJla5JAI"
      },
      "outputs": [
        {
          "name": "stdout",
          "output_type": "stream",
          "text": [
            "El total es: 0.85\n"
          ]
        }
      ],
      "source": [
        "frutas ={\n",
        "    \"platano\":1.35,\n",
        "    \"manzana\":0.8,\n",
        "    \"pera\": 0.85,\n",
        "    \"naranja\":0.7\n",
        "}\n",
        "res=0;\n",
        "frutaB = input(\"Que fruta estas buscando\").lower()\n",
        "for key in frutas.keys():\n",
        "    if(frutaB == key):\n",
        "        kilos = float(input(\"Cuantos kilos necesitas\"))\n",
        "        res = kilos * frutas[key]\n",
        "        print(f\"El total es: {res}\")\n",
        "\n",
        "if res==0:\n",
        "    print(\"No hay fruta\")"
      ]
    },
    {
      "cell_type": "code",
      "execution_count": 47,
      "metadata": {
        "id": "ew-_OHVE5JAI"
      },
      "outputs": [
        {
          "name": "stdout",
          "output_type": "stream",
          "text": [
            "El precio de 2 kilos de Pera es 1.7\n"
          ]
        }
      ],
      "source": [
        "dict_fruta = {'Platano': 1.35,\n",
        "              'Manzana': 0.80,\n",
        "              'Pera': 0.85,\n",
        "              'Naranja': 0.70}\n",
        "\n",
        "fruta = input(\"¿Qué fruta desea?\").capitalize()\n",
        "\n",
        "if not fruta in dict_fruta.keys():\n",
        "    print(f\"No tenemos {fruta}\")\n",
        "else:\n",
        "    kilos = int(input(f\"¿Cuantos kilos de {fruta} desea?\"))\n",
        "    precio = dict_fruta[fruta] * kilos\n",
        "    print(f\"El precio de {kilos} kilos de {fruta} es {precio}\")\n"
      ]
    },
    {
      "cell_type": "markdown",
      "metadata": {
        "id": "Kxa3ZSrt5JAJ"
      },
      "source": [
        "## Funciones\n"
      ]
    },
    {
      "cell_type": "code",
      "execution_count": 48,
      "metadata": {
        "id": "q53GEncj5JAJ"
      },
      "outputs": [],
      "source": [
        "def saludar(nombre):\n",
        "    print(\"Hola, \" + nombre + \"!\")"
      ]
    },
    {
      "cell_type": "code",
      "execution_count": 49,
      "metadata": {
        "id": "D8KMDFsD5JAJ"
      },
      "outputs": [
        {
          "name": "stdout",
          "output_type": "stream",
          "text": [
            "Hola, Pedro!\n"
          ]
        }
      ],
      "source": [
        "saludar(\"Pedro\")"
      ]
    },
    {
      "cell_type": "code",
      "execution_count": 50,
      "metadata": {
        "id": "qMtqKQlx5JAJ"
      },
      "outputs": [
        {
          "name": "stdout",
          "output_type": "stream",
          "text": [
            "Hola, Bart!\n"
          ]
        }
      ],
      "source": [
        "name ='Bart'\n",
        "saludar(name)"
      ]
    },
    {
      "cell_type": "code",
      "execution_count": 51,
      "metadata": {
        "id": "_k5N2FCf5JAJ"
      },
      "outputs": [
        {
          "name": "stdout",
          "output_type": "stream",
          "text": [
            "Hola, Lalo!\n"
          ]
        }
      ],
      "source": [
        "saludar(input(\"Cual es tu nombre?\"))"
      ]
    },
    {
      "cell_type": "code",
      "execution_count": 52,
      "metadata": {
        "id": "RVe6b0AJ5JAJ"
      },
      "outputs": [],
      "source": [
        "def suma(a,b):\n",
        "    c = a + b\n",
        "    return c"
      ]
    },
    {
      "cell_type": "code",
      "execution_count": 53,
      "metadata": {
        "id": "wy2Y_9eT5JAJ"
      },
      "outputs": [
        {
          "name": "stdout",
          "output_type": "stream",
          "text": [
            "8\n",
            "La suma entre 3 y 5 es 8\n"
          ]
        }
      ],
      "source": [
        "a=3\n",
        "b=5\n",
        "c=suma(a,b)\n",
        "print(c)\n",
        "print(f\"La suma entre {a} y {b} es {suma(a,b)}\")"
      ]
    },
    {
      "cell_type": "code",
      "execution_count": null,
      "metadata": {
        "id": "ucUdNpsV5JAJ"
      },
      "outputs": [],
      "source": [
        "suma(8,7)"
      ]
    },
    {
      "cell_type": "code",
      "execution_count": 54,
      "metadata": {
        "id": "edYT43RU5JAK"
      },
      "outputs": [],
      "source": [
        "def resta(a,b):\n",
        "    return a-b"
      ]
    },
    {
      "cell_type": "code",
      "execution_count": 55,
      "metadata": {
        "id": "g_nJgkgj5JAK"
      },
      "outputs": [
        {
          "name": "stdout",
          "output_type": "stream",
          "text": [
            "La resta entre 3 y 5 es -2\n"
          ]
        }
      ],
      "source": [
        "a=3\n",
        "b=5\n",
        "print(f\"La resta entre {a} y {b} es {resta(a,b)}\")"
      ]
    },
    {
      "cell_type": "code",
      "execution_count": 56,
      "metadata": {
        "id": "_6uKhTRP5JAO"
      },
      "outputs": [
        {
          "name": "stdout",
          "output_type": "stream",
          "text": [
            "Funcion len() = 5\n",
            "Funcion contador = 5\n"
          ]
        }
      ],
      "source": [
        "# La funcion len() devuelve la longitud (el número de elementos) de un objeto.\n",
        "\n",
        "lista= ['a','b','c','d','e']\n",
        "print('Funcion len() =' ,len(lista))\n",
        "\n",
        "def contador(lista):\n",
        "    count=0\n",
        "    for i in lista:\n",
        "        count += 1 # count = count+1\n",
        "    return(count)\n",
        "\n",
        "print('Funcion contador =',contador(lista))"
      ]
    },
    {
      "cell_type": "markdown",
      "metadata": {
        "id": "0NnL4lAI5JAO"
      },
      "source": [
        "#### Ejemplo:\n",
        "Escribir una función que calcule el total de una factura tras aplicarle el IVA. La función debe recibir la cantidad sin IVA y el porcentaje de IVA a aplicar, y devolver el total de la factura. Si se invoca la función sin pasarle el porcentaje de IVA, deberá aplicar un 21%."
      ]
    },
    {
      "cell_type": "code",
      "execution_count": 57,
      "metadata": {
        "id": "ysbcXCZN5JAO"
      },
      "outputs": [],
      "source": [
        "def factura_con_IVA(venta, iva=21):\n",
        "    impuesto = venta * iva / 100\n",
        "    total = venta + impuesto\n",
        "    return total"
      ]
    },
    {
      "cell_type": "code",
      "execution_count": 58,
      "metadata": {
        "id": "wkRUMQ3S5JAO"
      },
      "outputs": [
        {
          "name": "stdout",
          "output_type": "stream",
          "text": [
            "116.0\n",
            "116.0\n"
          ]
        }
      ],
      "source": [
        "venta=100\n",
        "iva=16\n",
        "print(factura_con_IVA(100,16))\n",
        "print(factura_con_IVA(venta,iva))"
      ]
    },
    {
      "cell_type": "code",
      "execution_count": 59,
      "metadata": {
        "id": "PvwRYDYk5JAO"
      },
      "outputs": [
        {
          "name": "stdout",
          "output_type": "stream",
          "text": [
            "121.0\n"
          ]
        }
      ],
      "source": [
        "print(factura_con_IVA(venta))"
      ]
    },
    {
      "cell_type": "markdown",
      "metadata": {
        "id": "K-M2cy9V5JAO"
      },
      "source": [
        "#### Ejercicio 2\n",
        "Escribir una función que reciba un número entero positivo y devuelva su factorial."
      ]
    },
    {
      "cell_type": "code",
      "execution_count": 60,
      "metadata": {
        "id": "4kLee8RL5JAP"
      },
      "outputs": [
        {
          "name": "stderr",
          "output_type": "stream",
          "text": [
            "C:\\Users\\jose.lozas\\AppData\\Local\\Temp\\ipykernel_10916\\3559561236.py:2: DeprecationWarning: `np.math` is a deprecated alias for the standard library `math` module (Deprecated Numpy 1.25). Replace usages of `np.math` with `math`\n",
            "  np.math.factorial(9)\n"
          ]
        },
        {
          "data": {
            "text/plain": [
              "362880"
            ]
          },
          "execution_count": 60,
          "metadata": {},
          "output_type": "execute_result"
        }
      ],
      "source": [
        "import numpy as np\n",
        "np.math.factorial(9)"
      ]
    },
    {
      "cell_type": "code",
      "execution_count": 61,
      "metadata": {
        "id": "sRh0gZCG5JAP"
      },
      "outputs": [
        {
          "name": "stdout",
          "output_type": "stream",
          "text": [
            "1\n"
          ]
        }
      ],
      "source": [
        "def factorial(num):\n",
        "    res=1\n",
        "    for i in range(num):\n",
        "        res = res * (i+1)\n",
        "    return res\n",
        "\n",
        "num = int(input(\"ingresa un numero\"))\n",
        "fact = factorial(num)\n",
        "print(fact)"
      ]
    },
    {
      "cell_type": "code",
      "execution_count": 62,
      "metadata": {
        "id": "4soceViQ5JAP"
      },
      "outputs": [
        {
          "data": {
            "text/plain": [
              "325"
            ]
          },
          "execution_count": 62,
          "metadata": {},
          "output_type": "execute_result"
        }
      ],
      "source": [
        "def factoriall (num):\n",
        "        fac=1\n",
        "        for i in range(num):\n",
        "            fac = (num * i) + fac\n",
        "        return fac\n",
        "factoriall(9)"
      ]
    },
    {
      "cell_type": "code",
      "execution_count": 66,
      "metadata": {
        "id": "M38hK12f5JAP"
      },
      "outputs": [
        {
          "name": "stdout",
          "output_type": "stream",
          "text": [
            "120\n"
          ]
        }
      ],
      "source": [
        "def Factorial (numero):\n",
        "    value = 1\n",
        "    for i in range(1,numero + 1) :\n",
        "        value = value * i\n",
        "\n",
        "    return value\n",
        "\n",
        "entrada = int(input())\n",
        "print(Factorial(entrada))"
      ]
    },
    {
      "cell_type": "code",
      "execution_count": 68,
      "metadata": {
        "id": "f-cZ9SnS5JAP"
      },
      "outputs": [
        {
          "name": "stdout",
          "output_type": "stream",
          "text": [
            "El factorial de 9 es 362880\n"
          ]
        },
        {
          "data": {
            "text/plain": [
              "362880"
            ]
          },
          "execution_count": 68,
          "metadata": {},
          "output_type": "execute_result"
        }
      ],
      "source": [
        "def funcion_factorial(num):\n",
        "    factorial = 1\n",
        "    if num < 0:\n",
        "        print(\"No existe factorial de números negativos.\")\n",
        "    elif num == 0:\n",
        "        print(\"El factorial de 0 es 1\")\n",
        "    else:\n",
        "        for i in range(1, num+1):\n",
        "            factorial = factorial * i\n",
        "        print(\"El factorial de\", num, \"es\", factorial)\n",
        "    return factorial\n",
        "\n",
        "funcion_factorial(9)"
      ]
    },
    {
      "cell_type": "code",
      "execution_count": 69,
      "metadata": {
        "id": "WSF2UkLo5JAP"
      },
      "outputs": [
        {
          "name": "stdout",
          "output_type": "stream",
          "text": [
            "El factorial de 5 es 120\n"
          ]
        }
      ],
      "source": [
        "def factorial(n):\n",
        "    if n == 0:\n",
        "        return 1\n",
        "    else:\n",
        "        return n * factorial(n - 1)\n",
        "\n",
        "# Ejemplo de uso\n",
        "numero = int(input(\"Ingresa un numero: \"))\n",
        "resultado = factorial(numero)\n",
        "print(f\"El factorial de {numero} es {resultado}\")"
      ]
    },
    {
      "cell_type": "markdown",
      "metadata": {
        "id": "BKp-kIJQ5JAP"
      },
      "source": [
        "### Funciones Recursivas\n",
        "Las funciones recursivas son aquellas que se llaman a sí mismas para resolver problemas dividiéndolos en partes más pequeñas.\n",
        "\n",
        "Por supuesto, aquí tienes una lista que incluye tanto las ventajas como los problemas de las funciones recursivas:\n",
        "\n",
        "**Ventajas de las funciones recursivas:**\n",
        "- Permiten abordar problemas de manera elegante y concisa al dividirlos en casos más pequeños y manejables.\n",
        "- Pueden simplificar la implementación de algoritmos en situaciones en las que la recursión es una solución natural, como árboles, grafos y estructuras de datos recursivas.\n",
        "- Facilitan la reutilización del código, ya que una función recursiva puede aplicarse a diferentes niveles de una estructura de datos o para resolver problemas similares.\n",
        "\n",
        "**Problemas de las funciones recursivas:**\n",
        "- Consumen más memoria debido a la acumulación de llamadas en la pila, lo que puede llevar a un desbordamiento de la pila.\n",
        "- En algunos casos, pueden ser menos eficientes en términos de tiempo de ejecución en comparación con soluciones iterativas.\n",
        "- La depuración y el seguimiento del flujo de ejecución pueden ser más complicados, lo que dificulta la detección de errores.\n",
        "- Los lenguajes de programación suelen imponer un límite de recursión, lo que puede limitar la profundidad de las llamadas.\n",
        "- Si no se manejan adecuadamente los casos base o la lógica recursiva, existe el riesgo de caer en bucles infinitos.\n",
        "- En problemas complejos, la legibilidad del código puede disminuir, lo que dificulta la comprensión para otros desarrolladores.\n",
        "\n",
        "En resumen, las funciones recursivas son una herramienta poderosa en programación que tiene ventajas en términos de claridad y abstracción, pero también pueden presentar desafíos en términos de eficiencia y gestión de la memoria. La elección de usar recursión o una solución iterativa depende del problema y de consideraciones de rendimiento y legibilidad del código."
      ]
    },
    {
      "cell_type": "code",
      "execution_count": 70,
      "metadata": {
        "id": "4KnRJ6u85JAP"
      },
      "outputs": [
        {
          "data": {
            "text/plain": [
              "362880"
            ]
          },
          "execution_count": 70,
          "metadata": {},
          "output_type": "execute_result"
        }
      ],
      "source": [
        "def funcion_factorial_recursiva(num):\n",
        "    if num < 0:\n",
        "        print(\"No existe factorial de números negativos.\")\n",
        "    elif num == 0:\n",
        "        return 1\n",
        "    elif num == 1:\n",
        "        return 1\n",
        "    else:\n",
        "        return num*funcion_factorial_recursiva(num-1)\n",
        "funcion_factorial_recursiva(9)"
      ]
    },
    {
      "cell_type": "markdown",
      "metadata": {
        "id": "PgP4sUp25JAQ"
      },
      "source": [
        "#### Ejercicio 3\n",
        "Escribir una función que calcule el área de un círculo y otra que calcule el volumen de un cilindro usando la primera función."
      ]
    },
    {
      "cell_type": "code",
      "execution_count": 71,
      "metadata": {
        "id": "YgcbKn_U5JAQ"
      },
      "outputs": [
        {
          "data": {
            "text/plain": [
              "3.141592653589793"
            ]
          },
          "execution_count": 71,
          "metadata": {},
          "output_type": "execute_result"
        }
      ],
      "source": [
        "np.pi"
      ]
    },
    {
      "cell_type": "code",
      "execution_count": 72,
      "metadata": {
        "id": "YnSdgacm5JAQ"
      },
      "outputs": [
        {
          "name": "stdout",
          "output_type": "stream",
          "text": [
            "549.7786\n"
          ]
        }
      ],
      "source": [
        "def AreaCirculo (radio) :\n",
        "    pi = 3.141592\n",
        "    area = pi * (radio ** 2)\n",
        "    return area\n",
        "\n",
        "def VolumenCilindro (radio, altura) :\n",
        "    volumen = AreaCirculo (radio) * altura\n",
        "    return volumen\n",
        "\n",
        "rad = float(input(\"ingrese el radio\"))\n",
        "alt = float(input(\"ingrese la altura\"))\n",
        "\n",
        "print (VolumenCilindro(rad,alt))"
      ]
    },
    {
      "cell_type": "code",
      "execution_count": 73,
      "metadata": {
        "id": "14J-Fjzn5JAQ"
      },
      "outputs": [
        {
          "name": "stdout",
          "output_type": "stream",
          "text": [
            "El area del circulo es: 201.06176 \n",
            "El volumen del cilindro es: 2035.7503199999999 \n"
          ]
        }
      ],
      "source": [
        "def area_circulo(radio):\n",
        "    area = 3.14159 * radio**2\n",
        "    return area\n",
        "\n",
        "radio = int(input(\"Cual es el radio?: \"))\n",
        "area = area_circulo(radio)\n",
        "print(f\"El area del circulo es: {area} \")\n",
        "\n",
        "def volumen_cilindro(radio, altura):\n",
        "    area_base = area_circulo(radio)\n",
        "    volumen = area_base * altura\n",
        "    return volumen\n",
        "radio = float(input(\"Ingresa el radio \"))\n",
        "altura = float(input(\"Ingresa la altura \"))\n",
        "respuesta = volumen_cilindro(radio,altura)\n",
        "print(f\"El volumen del cilindro es: {respuesta} \")\n"
      ]
    },
    {
      "cell_type": "code",
      "execution_count": 74,
      "metadata": {
        "id": "lw0NUbq55JAQ"
      },
      "outputs": [
        {
          "name": "stdout",
          "output_type": "stream",
          "text": [
            "el area es: 254.46959999999999 y el volumen es 2799.1656\n"
          ]
        }
      ],
      "source": [
        "def AreaCirculo (radio):\n",
        "    pi=3.1416\n",
        "    return pi * radio**2\n",
        "\n",
        "def VolumenCilindro (radio, altura):\n",
        "    area = AreaCirculo(radio)\n",
        "    volumen = area * altura\n",
        "    return(area,volumen)\n",
        "\n",
        "radio = float(input(\"ingresa el radio\"))\n",
        "altura = float(input(\"Ingresa la altura\"))\n",
        "res = VolumenCilindro(radio,altura)\n",
        "print(f\"el area es: {res[0]} y el volumen es {res[1]}\")"
      ]
    },
    {
      "cell_type": "code",
      "execution_count": 75,
      "metadata": {
        "id": "RWCWDl2-5JAQ"
      },
      "outputs": [
        {
          "name": "stdout",
          "output_type": "stream",
          "text": [
            "el area de un circulo con radio de 5 = 314.16\n",
            "el volumen de un cilindro con radio de 5 = 1570.8\n"
          ]
        }
      ],
      "source": [
        "def area_cir(radio):\n",
        "    a = round((3.1416)* radio**2,2)\n",
        "    return a\n",
        "\n",
        "def vol_cil(radio,h):\n",
        "    v = round(area_cir(radio) * h,2)\n",
        "    return v\n",
        "\n",
        "print(f\"el area de un circulo con radio de 5 = {area_cir(10)}\")\n",
        "print(f\"el volumen de un cilindro con radio de 5 = {vol_cil(10,5)}\")"
      ]
    },
    {
      "cell_type": "code",
      "execution_count": 76,
      "metadata": {
        "id": "ph2vs7xz5JAR"
      },
      "outputs": [
        {
          "data": {
            "text/plain": [
              "1570.7500000000002"
            ]
          },
          "execution_count": 76,
          "metadata": {},
          "output_type": "execute_result"
        }
      ],
      "source": [
        "def circle_area(radius):\n",
        "    pi = 3.1415\n",
        "    return pi*radius**2\n",
        "\n",
        "def cilinder_volume(radius, high):\n",
        "    return circle_area(radius)*high\n",
        "\n",
        "cilinder_volume(10, 5)"
      ]
    },
    {
      "cell_type": "markdown",
      "metadata": {
        "id": "lzp6joj55JAR"
      },
      "source": [
        "#### Ejercicio 4\n",
        "Escribir una función que reciba una parrafo (conjunto de palabras) y devuelva un diccionario con cada palabra que contiene y su frecuencia.\n",
        "\n",
        "Escribir otra función que reciba el diccionario generado con la función anterior y devuelva una tupla con la palabra más repetida y su frecuencia."
      ]
    },
    {
      "cell_type": "code",
      "execution_count": 77,
      "metadata": {
        "id": "OXQHFC2t5JAR"
      },
      "outputs": [
        {
          "name": "stdout",
          "output_type": "stream",
          "text": [
            "{'parrafo': 1, 'devuelva': 1, 'un': 2, 'una': 1, 'Escribir': 1, 'reciba': 1, 'que': 2, 'con': 1, 'cada': 1, 'su': 1, 'y': 2, 'palabras)': 1, 'de': 1, 'diccionario': 1, 'programa': 1, 'frecuencia.': 1, 'palabra': 1, 'contiene': 1, '(conjunto': 1}\n"
          ]
        }
      ],
      "source": [
        "def frecuencias(parrafo):\n",
        "    diccionario = {}\n",
        "    lista = parrafo.split()\n",
        "    conjunto = set(lista)\n",
        "    for palabra in conjunto:\n",
        "        diccionario[palabra] = lista.count(palabra)\n",
        "    return diccionario\n",
        "\n",
        "texto = 'Escribir un programa que reciba una parrafo (conjunto de palabras) y devuelva un diccionario con cada palabra que contiene y su frecuencia.'\n",
        "print(frecuencias(texto))"
      ]
    },
    {
      "cell_type": "code",
      "execution_count": 78,
      "metadata": {
        "id": "OsHT2Xg05JAR"
      },
      "outputs": [],
      "source": [
        "def contar_palabras(parrafo):\n",
        "    # Dividir la cadena en palabras\n",
        "    palabras = parrafo.lower().split()\n",
        "\n",
        "    # Crear un diccionario para contar la frecuencia de las palabras\n",
        "    frecuencia = {}\n",
        "\n",
        "    for palabra in palabras:\n",
        "        # Eliminar signos de puntuación alrededor de las palabras\n",
        "        palabra = palabra.strip('.,!?()[]{}\"\\'')\n",
        "\n",
        "        # Si la palabra ya está en el diccionario, aumentar su frecuencia\n",
        "        if palabra in frecuencia:\n",
        "            frecuencia[palabra] += 1\n",
        "        else:\n",
        "            # Si la palabra no está en el diccionario, agregarla con frecuencia 1\n",
        "            frecuencia[palabra] = 1\n",
        "\n",
        "    return frecuencia"
      ]
    },
    {
      "cell_type": "code",
      "execution_count": 79,
      "metadata": {
        "id": "1fAhte-o5JAR"
      },
      "outputs": [],
      "source": [
        "texto = \"Esto es un parrafo de ejemplo. Es un parrafo corto con varias palabras repetidas. Vamos a contar estas palabras de este parrafo.\"\n",
        "frecuencia_palabras = contar_palabras(texto)"
      ]
    },
    {
      "cell_type": "code",
      "execution_count": 80,
      "metadata": {
        "id": "_5ittOdo5JAR"
      },
      "outputs": [
        {
          "data": {
            "text/plain": [
              "{'esto': 1,\n",
              " 'es': 2,\n",
              " 'un': 2,\n",
              " 'parrafo': 3,\n",
              " 'de': 2,\n",
              " 'ejemplo': 1,\n",
              " 'corto': 1,\n",
              " 'con': 1,\n",
              " 'varias': 1,\n",
              " 'palabras': 2,\n",
              " 'repetidas': 1,\n",
              " 'vamos': 1,\n",
              " 'a': 1,\n",
              " 'contar': 1,\n",
              " 'estas': 1,\n",
              " 'este': 1}"
            ]
          },
          "execution_count": 80,
          "metadata": {},
          "output_type": "execute_result"
        }
      ],
      "source": [
        "frecuencia_palabras"
      ]
    },
    {
      "cell_type": "code",
      "execution_count": 81,
      "metadata": {
        "id": "rZGyyYfc5JAR"
      },
      "outputs": [],
      "source": [
        "def palabra_mas_repetida(diccionario):\n",
        "    palabra_mas_comun = max(diccionario, key=diccionario.get)\n",
        "    frecuencia_maxima = diccionario[palabra_mas_comun]\n",
        "\n",
        "    return (palabra_mas_comun, frecuencia_maxima)\n"
      ]
    },
    {
      "cell_type": "code",
      "execution_count": 82,
      "metadata": {
        "id": "vnUz9UrG5JAS"
      },
      "outputs": [],
      "source": [
        "tupla_repedita = palabra_mas_repetida(frecuencia_palabras)\n",
        "\n"
      ]
    },
    {
      "cell_type": "code",
      "execution_count": 83,
      "metadata": {
        "id": "1ncHiLqj5JAS"
      },
      "outputs": [
        {
          "name": "stdout",
          "output_type": "stream",
          "text": [
            "Frecuencia de palabras: {'esto': 1, 'es': 2, 'un': 2, 'parrafo': 3, 'de': 2, 'ejemplo': 1, 'corto': 1, 'con': 1, 'varias': 1, 'palabras': 2, 'repetidas': 1, 'vamos': 1, 'a': 1, 'contar': 1, 'estas': 1, 'este': 1}\n",
            "Tupla mas repetida:  ('parrafo', 3)\n",
            "Palabra más repetida: parrafo\n",
            "Frecuencia de la palabra más repetida: 3\n"
          ]
        }
      ],
      "source": [
        "print(\"Frecuencia de palabras:\", frecuencia_palabras)\n",
        "print(\"Tupla mas repetida: \",tupla_repedita)\n",
        "print(\"Palabra más repetida:\", tupla_repedita[0])\n",
        "print(\"Frecuencia de la palabra más repetida:\", tupla_repedita[1])"
      ]
    }
  ],
  "metadata": {
    "colab": {
      "private_outputs": true,
      "provenance": []
    },
    "kernelspec": {
      "display_name": "Python 3 (ipykernel)",
      "language": "python",
      "name": "python3"
    },
    "language_info": {
      "codemirror_mode": {
        "name": "ipython",
        "version": 3
      },
      "file_extension": ".py",
      "mimetype": "text/x-python",
      "name": "python",
      "nbconvert_exporter": "python",
      "pygments_lexer": "ipython3",
      "version": "3.9.13"
    }
  },
  "nbformat": 4,
  "nbformat_minor": 0
}
