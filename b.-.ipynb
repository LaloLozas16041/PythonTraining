{
  "cells": [
    {
      "cell_type": "markdown",
      "metadata": {
        "id": "bIDMTVrBR0MW"
      },
      "source": [
        "# CLASE 2"
      ]
    },
    {
      "cell_type": "markdown",
      "metadata": {
        "id": "8V9tysQR5FDD"
      },
      "source": [
        "## Ciclos"
      ]
    },
    {
      "cell_type": "code",
      "execution_count": null,
      "metadata": {
        "id": "iQWw6j4n5FDD"
      },
      "outputs": [],
      "source": [
        "for i in range(5,9):\n",
        "    print(i)"
      ]
    },
    {
      "cell_type": "code",
      "execution_count": null,
      "metadata": {
        "id": "aF47RtsQ5FDF"
      },
      "outputs": [],
      "source": [
        "for i in range(3):\n",
        "    print(i)"
      ]
    },
    {
      "cell_type": "code",
      "execution_count": null,
      "metadata": {
        "id": "Cv2zx3po5FDF"
      },
      "outputs": [],
      "source": [
        "numero = 5\n",
        "while numero <= 10:\n",
        "    print(numero)\n",
        "    numero += 1 #     numero = numero + 1\n"
      ]
    },
    {
      "cell_type": "markdown",
      "metadata": {
        "id": "OohgCADF5FDG"
      },
      "source": [
        "### Ejercicio 1\n",
        "\n",
        "Escribir un programa que pregunte al usuario su edad y muestre por pantalla todos los años que ha cumplido (desde 1 hasta su edad)."
      ]
    },
    {
      "cell_type": "code",
      "execution_count": null,
      "metadata": {
        "id": "7gGY0lcZ5FDG"
      },
      "outputs": [],
      "source": [
        "edad=int(input('Ingresa tu edad'))\n",
        "i=1;\n",
        "while i<= edad:\n",
        "  print(i)\n",
        "  i+=1"
      ]
    },
    {
      "cell_type": "code",
      "execution_count": null,
      "metadata": {
        "id": "WwM12BDk5FDH"
      },
      "outputs": [],
      "source": [
        "edad = int(input())\n",
        "for i in range(1,edad + 1) :\n",
        "    print(i)"
      ]
    },
    {
      "cell_type": "code",
      "execution_count": null,
      "metadata": {
        "id": "-Uhh7dIe5FDI"
      },
      "outputs": [],
      "source": [
        "edad = int(input(\"escribe tu edad:\"))\n",
        "anio = 2023 - edad\n",
        "\n",
        "for i in range (anio , 2024):\n",
        "                  print(anio)\n",
        "                  anio += 1"
      ]
    },
    {
      "cell_type": "code",
      "execution_count": null,
      "metadata": {
        "id": "B1MmK6I65FDI"
      },
      "outputs": [],
      "source": [
        "edad = input()\n",
        "anno = 2023\n",
        "edad = int(edad)\n",
        "while edad >= 1:\n",
        "    print('anno', anno)\n",
        "    anno = anno -1\n",
        "    edad = edad -1"
      ]
    },
    {
      "cell_type": "code",
      "execution_count": null,
      "metadata": {
        "id": "CH0VWH5R5FDI"
      },
      "outputs": [],
      "source": [
        "edad = input(\"ingresa tu edad: \")\n",
        "edad = int(edad)\n",
        "years = (range(0,edad))\n",
        "calendar_year = 2023\n",
        "\n",
        "\n",
        "for year in years:\n",
        "  print (calendar_year - year)"
      ]
    },
    {
      "cell_type": "markdown",
      "metadata": {
        "id": "tNGVO0TU5FDJ"
      },
      "source": [
        "## DECLARACIONES DE CONTROL"
      ]
    },
    {
      "cell_type": "code",
      "execution_count": null,
      "metadata": {
        "id": "7DAZJ_QA5FDJ"
      },
      "outputs": [],
      "source": [
        "def mi_funcion():\n",
        "    pass\n"
      ]
    },
    {
      "cell_type": "code",
      "execution_count": null,
      "metadata": {
        "id": "bXqU6h2X5FDK"
      },
      "outputs": [],
      "source": [
        "for i in range(1, 21):\n",
        "    if i % 3 == 0:\n",
        "        continue\n",
        "    print(i)\n"
      ]
    },
    {
      "cell_type": "code",
      "execution_count": null,
      "metadata": {
        "id": "qcp6T9I55FDK"
      },
      "outputs": [],
      "source": [
        "for i in range(1, 21):\n",
        "    if i % 3 == 0:\n",
        "        break\n",
        "    print(i)\n"
      ]
    },
    {
      "cell_type": "code",
      "execution_count": null,
      "metadata": {
        "id": "uh_PgTed5FDK"
      },
      "outputs": [],
      "source": [
        "while True:\n",
        "    respuesta = input(\"Ingrese 'q' para salir: \")\n",
        "    if respuesta == 'q':\n",
        "        break\n",
        "print(\"Saliendo del bucle\")\n"
      ]
    },
    {
      "cell_type": "code",
      "execution_count": null,
      "metadata": {
        "id": "r8tbTBvE5FDK"
      },
      "outputs": [],
      "source": [
        "for num in range(1,20):\n",
        "    print(\"Primero del for = \",num)\n",
        "    if(num < 5 and num > 3):\n",
        "        print(\"          Dentro del if = \",num)\n",
        "        continue\n",
        "    elif(num > 8):\n",
        "        break\n",
        "    print(\"Ultimo del for = \",num)\n",
        "    print(\"--------------------------------------\")"
      ]
    },
    {
      "cell_type": "markdown",
      "metadata": {
        "id": "GdqevlLQ5FDL"
      },
      "source": [
        "### Ejercicio 2\n",
        "Escribir un programa que almacene la cadena de caracteres contraseña en una variable, pregunte al usuario por la contraseña hasta que introduzca la contraseña correcta."
      ]
    },
    {
      "cell_type": "code",
      "execution_count": null,
      "metadata": {
        "id": "Nem6pTdM5FDL"
      },
      "outputs": [],
      "source": [
        "password='holA123?'\n",
        "while True:\n",
        "  password_try=str(input('Ingresa tu contraseña: '))\n",
        "  if(password_try== password):\n",
        "    print('Contraseña correcta')\n",
        "    break\n",
        "  else:\n",
        "    print('Contraseña incorrecta')"
      ]
    },
    {
      "cell_type": "code",
      "execution_count": null,
      "metadata": {
        "id": "BmvIhgOr5FDL"
      },
      "outputs": [],
      "source": [
        "password = \"qaz131$\"\n",
        "while True:\n",
        "    input_password = input (\"Ingresa el password:\")\n",
        "    if input_password == password:\n",
        "        print(\"Password correcto\")\n",
        "        break\n",
        "    else:\n",
        "        print(\"Password incorrecto. Intenta de nuevo.\")"
      ]
    },
    {
      "cell_type": "code",
      "execution_count": null,
      "metadata": {
        "id": "zN_x_O9I5FDL"
      },
      "outputs": [],
      "source": [
        "clave= \"hola\"\n",
        "contrasena= input(\"digite su contrasena\\n\")\n",
        "while contrasena != clave:\n",
        "    print(\"contrasena incorrecta\\n\")\n",
        "    contrasena=input(\"digite su contrasena\\n\")\n",
        "print(\"Acceso\")"
      ]
    },
    {
      "cell_type": "code",
      "execution_count": null,
      "metadata": {
        "id": "ARtAzgaE5FDL"
      },
      "outputs": [],
      "source": [
        "contra=\"Hola mundo\"\n",
        "while True:\n",
        "  cusuario=input(\"Ingresa tu contraseña: \")\n",
        "  if contra == cusuario:\n",
        "    break\n",
        "print(\"Contraseña correcta\")"
      ]
    },
    {
      "cell_type": "code",
      "execution_count": null,
      "metadata": {
        "id": "IfgzIVkd5FDM"
      },
      "outputs": [],
      "source": [
        "contraseña = \"hola123\"\n",
        "\n",
        "while True:\n",
        "    password =  input(\"Ingresa tu contraseña\")\n",
        "    if (password != contraseña):\n",
        "        print(\"Contraseña incorrecta\")\n",
        "    else:\n",
        "        print(\"contraseña correcta\")\n",
        "        break"
      ]
    },
    {
      "cell_type": "code",
      "execution_count": null,
      "metadata": {
        "id": "QOChR5u95FDM"
      },
      "outputs": [],
      "source": [
        "autenticado = False\n",
        "realpass = \"123\"\n",
        "while autenticado == False:\n",
        "    contraseña = input(\"Introduzca la contraseña : \")\n",
        "    if contraseña == realpass:\n",
        "        autenticado = True\n",
        "        print(\"Contraseña correcta \\nBienvenido!!!\")"
      ]
    },
    {
      "cell_type": "code",
      "execution_count": null,
      "metadata": {
        "id": "6qsSnsCT5FDM"
      },
      "outputs": [],
      "source": [
        "password = 'pass'\n",
        "contraseña=''\n",
        "while password != contraseña:\n",
        "    contraseña = input('Escribe la contraseña: ')\n",
        "    if password == contraseña:\n",
        "        break\n",
        "    else:\n",
        "        print(\"esa no es la contraseña\")\n",
        "\n",
        "print(\"Acceso correcto\")"
      ]
    },
    {
      "cell_type": "markdown",
      "metadata": {
        "id": "DEMfeaPJ5FDM"
      },
      "source": [
        "## ESTRUCTURAS DE DATOS\n",
        "### Listas"
      ]
    },
    {
      "cell_type": "code",
      "execution_count": null,
      "metadata": {
        "id": "QEn2Fldt5FDM"
      },
      "outputs": [],
      "source": [
        "calificaciones = [10,9,8,7.5,9]\n",
        "type(calificaciones)"
      ]
    },
    {
      "cell_type": "code",
      "execution_count": null,
      "metadata": {
        "id": "mDFoH8uM5FDM"
      },
      "outputs": [],
      "source": [
        "nombres = [\"Ana\",\"Juan\",\"Sofía\",\"Pablo\",\"Tania\"]\n",
        "type(nombres)"
      ]
    },
    {
      "cell_type": "code",
      "execution_count": null,
      "metadata": {
        "id": "yVY8-_Nt5FDN"
      },
      "outputs": [],
      "source": [
        "list_mix = [True, \"Pablo\", 7]\n",
        "type(list_mix)"
      ]
    },
    {
      "cell_type": "code",
      "execution_count": null,
      "metadata": {
        "id": "CdoBqTI-5FDN"
      },
      "outputs": [],
      "source": [
        "len(list_mix)"
      ]
    },
    {
      "cell_type": "code",
      "execution_count": null,
      "metadata": {
        "id": "zLGgJ01N5FDN"
      },
      "outputs": [],
      "source": [
        "list_mix[2]"
      ]
    },
    {
      "cell_type": "code",
      "execution_count": null,
      "metadata": {
        "id": "fx6mXF8O5FDN"
      },
      "outputs": [],
      "source": [
        "nombre = list_mix[1]\n",
        "nombre"
      ]
    },
    {
      "cell_type": "code",
      "execution_count": null,
      "metadata": {
        "id": "0oV5YC4C5FDO"
      },
      "outputs": [],
      "source": [
        "activo,nombre,calificacion=list_mix"
      ]
    },
    {
      "cell_type": "code",
      "execution_count": null,
      "metadata": {
        "id": "1e-73bMM5FDO"
      },
      "outputs": [],
      "source": [
        "activo"
      ]
    },
    {
      "cell_type": "code",
      "execution_count": null,
      "metadata": {
        "id": "TeW0soli5FDO"
      },
      "outputs": [],
      "source": [
        "activo = False\n",
        "list_mix"
      ]
    },
    {
      "cell_type": "code",
      "execution_count": null,
      "metadata": {
        "id": "Kztp3GiH5FDO"
      },
      "outputs": [],
      "source": [
        "nombre"
      ]
    },
    {
      "cell_type": "code",
      "execution_count": null,
      "metadata": {
        "id": "HC6csykK5FDP"
      },
      "outputs": [],
      "source": [
        "calificacion"
      ]
    },
    {
      "cell_type": "code",
      "execution_count": null,
      "metadata": {
        "id": "I6PYCVrG5FDP"
      },
      "outputs": [],
      "source": [
        "list_mix[2]=9\n",
        "list_mix"
      ]
    },
    {
      "cell_type": "code",
      "execution_count": null,
      "metadata": {
        "id": "lRuwUHdp5FDP"
      },
      "outputs": [],
      "source": [
        "# Recuerden que no pueden asignar un nuevo parametro fuera del indice inicial,\n",
        "# deben utilizar una funion para agregar, eliminar o cambiar datos en las listas\n",
        "list_mix[4]='nuevo parametro'"
      ]
    },
    {
      "cell_type": "code",
      "execution_count": null,
      "metadata": {
        "id": "pDhehaVJ5FDT"
      },
      "outputs": [],
      "source": [
        "list_mix"
      ]
    },
    {
      "cell_type": "code",
      "execution_count": null,
      "metadata": {
        "id": "RiRYNTXK5FDT"
      },
      "outputs": [],
      "source": [
        "list_mix.append('nuevo parametro')\n",
        "list_mix"
      ]
    },
    {
      "cell_type": "code",
      "execution_count": null,
      "metadata": {
        "id": "3r4UM8d05FDT"
      },
      "outputs": [],
      "source": [
        "list_mix.insert(0,\"nuevo elemento\")\n",
        "list_mix"
      ]
    },
    {
      "cell_type": "code",
      "execution_count": null,
      "metadata": {
        "id": "SfNDzOOx5FDT"
      },
      "outputs": [],
      "source": [
        "activo,nombre,calificacion=list_mix"
      ]
    },
    {
      "cell_type": "code",
      "execution_count": null,
      "metadata": {
        "id": "HFicRQoY5FDT"
      },
      "outputs": [],
      "source": [
        "activo,nombre,calificacion,param4,param5=list_mix"
      ]
    },
    {
      "cell_type": "code",
      "execution_count": null,
      "metadata": {
        "id": "K8XFwp1k5FDU"
      },
      "outputs": [],
      "source": [
        "activo"
      ]
    },
    {
      "cell_type": "code",
      "execution_count": null,
      "metadata": {
        "id": "vFxn4CRU5FDU"
      },
      "outputs": [],
      "source": [
        "nueva_lista=nombres\n",
        "nueva_lista.extend(calificaciones)"
      ]
    },
    {
      "cell_type": "code",
      "execution_count": null,
      "metadata": {
        "id": "tJQ5g4O-5FDU"
      },
      "outputs": [],
      "source": [
        "nueva_lista"
      ]
    },
    {
      "cell_type": "code",
      "execution_count": null,
      "metadata": {
        "id": "FipXZdYi5FDU"
      },
      "outputs": [],
      "source": [
        "nombres"
      ]
    },
    {
      "cell_type": "code",
      "execution_count": null,
      "metadata": {
        "id": "EgrnT8NR5FDU"
      },
      "outputs": [],
      "source": [
        "calificaciones"
      ]
    },
    {
      "cell_type": "markdown",
      "metadata": {
        "id": "w27AtdOM5FDU"
      },
      "source": [
        "### Ejercicio 3\n",
        "Escribir un programa que almacene el abecedario en una lista, elimine de la lista las letras que ocupen posiciones múltiplos de 3, y muestre por pantalla la lista resultante."
      ]
    },
    {
      "cell_type": "code",
      "execution_count": null,
      "metadata": {
        "id": "pHuO6n0M5FDU"
      },
      "outputs": [],
      "source": [
        "import string\n",
        "print(string.ascii_lowercase)"
      ]
    },
    {
      "cell_type": "code",
      "execution_count": null,
      "metadata": {
        "id": "lpYtIKB05FDU"
      },
      "outputs": [],
      "source": [
        "for i in enumerate(string.ascii_lowercase):\n",
        "    print(i)"
      ]
    },
    {
      "cell_type": "code",
      "execution_count": null,
      "metadata": {
        "id": "vKA_WHZH5FDU"
      },
      "outputs": [],
      "source": [
        "abc = ['a','b','c','d','e','f','g','h','i','j','k','l','m','n','ñ','o','p','q','r','s','t','u','v','w','x','y','z']\n",
        "\n",
        "for letra in range(len(abc)):\n",
        "\n",
        "    if letra > 0 and letra % 3 == 0:\n",
        "        abc.remove(letra)\n",
        "        continue\n",
        "    else:\n",
        "        break\n",
        "\n",
        "print(abc)"
      ]
    },
    {
      "cell_type": "code",
      "execution_count": null,
      "metadata": {
        "id": "ylnengOs5FDV"
      },
      "outputs": [],
      "source": [
        "import string\n",
        "\n",
        "abc = string.ascii_lowercase\n",
        "listaABC =[]\n",
        "for letra in abc:\n",
        "    listaABC.append(letra)\n",
        "nuevaLista =[]\n",
        "i=1\n",
        "while i < len(listaABC):\n",
        "    if i%3 > 0 or i==0:\n",
        "        nuevaLista.append(listaABC[i-1])\n",
        "    i = i+1\n",
        "print(nuevaLista)"
      ]
    },
    {
      "cell_type": "code",
      "execution_count": null,
      "metadata": {
        "id": "vYq_Vu2x5FDV"
      },
      "outputs": [],
      "source": [
        "abc_string='abcdefghijklmnopqrstuvwxyz'\n",
        "abecedario=[]\n",
        "for i, letra in enumerate(abc_string):\n",
        "  if (i+1)%3!=0 or i==0:\n",
        "    abecedario.append(letra)\n",
        "print(abecedario)"
      ]
    },
    {
      "cell_type": "code",
      "execution_count": null,
      "metadata": {
        "id": "va1HlIuE5FDV"
      },
      "outputs": [],
      "source": [
        "abc_string= 'abcdefghijklmnopqrstuvwxyz'\n",
        "abecedario=[]\n",
        "for i, letra in enumerate(abc_string):\n",
        "  if i%3!=2:\n",
        "    abecedario.append(letra)\n",
        "print(abecedario)\n"
      ]
    },
    {
      "cell_type": "code",
      "execution_count": null,
      "metadata": {
        "id": "yInLH-H35FDV"
      },
      "outputs": [],
      "source": [
        "\n",
        "abc = list(string.ascii_lowercase)\n",
        "abc_new = []\n",
        "abc_new_3 = []\n",
        "for i in range(1,len(abc)+1):\n",
        "    if i%3 != 0:\n",
        "        abc_new.append(abc[i-1])\n",
        "    else:\n",
        "        abc_new_3.append(abc[i-1])\n",
        "print(abc_new)\n",
        "print(abc_new_3)"
      ]
    },
    {
      "cell_type": "markdown",
      "metadata": {
        "id": "ewE72CGO5FDV"
      },
      "source": [
        "### Tuplas"
      ]
    },
    {
      "cell_type": "code",
      "execution_count": null,
      "metadata": {
        "id": "HGrYtb4E5FDV"
      },
      "outputs": [],
      "source": [
        "calificaciones = (10,9,8,7.5,9)\n",
        "nombres = (\"Ana\",\"Juan\",\"Sofía\",\"Pablo\",\"Tania\")\n",
        "tuple_mix = (True, \"Pablo\", \"7\")"
      ]
    },
    {
      "cell_type": "code",
      "execution_count": null,
      "metadata": {
        "id": "akduZPVb5FDV"
      },
      "outputs": [],
      "source": [
        "type(tuple_mix)"
      ]
    },
    {
      "cell_type": "code",
      "execution_count": null,
      "metadata": {
        "id": "4C7HSW095FDW"
      },
      "outputs": [],
      "source": [
        "len(tuple_mix)"
      ]
    },
    {
      "cell_type": "code",
      "execution_count": null,
      "metadata": {
        "id": "-l7PerNn5FDW"
      },
      "outputs": [],
      "source": [
        "activo,nombre,calificacion=tuple_mix"
      ]
    },
    {
      "cell_type": "code",
      "execution_count": null,
      "metadata": {
        "id": "pLNVQrq05FDW"
      },
      "outputs": [],
      "source": [
        "activo,nombre,calificacion"
      ]
    },
    {
      "cell_type": "code",
      "execution_count": null,
      "metadata": {
        "id": "xS0CwdZE5FDW"
      },
      "outputs": [],
      "source": [
        "tuple_mix[2]=9\n",
        "tuple_mix"
      ]
    },
    {
      "cell_type": "markdown",
      "metadata": {
        "id": "M3G8Zy4v5FDW"
      },
      "source": [
        "### Conjuntos\n",
        "<img src = \"https://miro.medium.com/max/700/1*sxE38q1ttzeRg1QvC28a6g.png\">\n",
        "<img src = \"https://www.programaenpython.com/wp-content/uploads/2021/09/operaciones-con-sets.png\" >"
      ]
    },
    {
      "cell_type": "code",
      "execution_count": null,
      "metadata": {
        "id": "sKzB7zKj5FDW"
      },
      "outputs": [],
      "source": [
        "lista_ingles = ['Ana', 'Marcos', 'Carlos', 'Mario']\n",
        "print(type(lista_ingles))\n"
      ]
    },
    {
      "cell_type": "code",
      "execution_count": null,
      "metadata": {
        "id": "C9esEfn-5FDW"
      },
      "outputs": [],
      "source": [
        "ingles = set(lista_ingles)\n",
        "print(type(ingles))\n"
      ]
    },
    {
      "cell_type": "code",
      "execution_count": null,
      "metadata": {
        "id": "pykyU1Fw5FDW"
      },
      "outputs": [],
      "source": [
        "matematicas = {'Ana', 'Pedro', 'Carlos', 'Antonio'}\n",
        "fisica = {'Ana', 'Antonio', 'Marcos', 'Pepe'}"
      ]
    },
    {
      "cell_type": "code",
      "execution_count": null,
      "metadata": {
        "id": "f54EwFX75FDX"
      },
      "outputs": [],
      "source": [
        "todos = ingles.union(matematicas).union(fisica)\n",
        "todos"
      ]
    },
    {
      "cell_type": "code",
      "execution_count": null,
      "metadata": {
        "id": "cMwkZe6K5FDX"
      },
      "outputs": [],
      "source": [
        "len(todos)"
      ]
    },
    {
      "cell_type": "code",
      "execution_count": null,
      "metadata": {
        "id": "fZTlIJjr5FDX"
      },
      "outputs": [],
      "source": [
        "fisica_mate= fisica.intersection(matematicas)\n",
        "print(type(list(fisica_mate)))\n",
        "print(type((fisica_mate)))"
      ]
    },
    {
      "cell_type": "code",
      "execution_count": null,
      "metadata": {
        "id": "eQNdxgC85FDX"
      },
      "outputs": [],
      "source": [
        "fisica_mate"
      ]
    },
    {
      "cell_type": "code",
      "execution_count": null,
      "metadata": {
        "id": "KCC6T99Z5FDX"
      },
      "outputs": [],
      "source": [
        "todos_los_grupos=matematicas.intersection(ingles).intersection(fisica)\n",
        "todos_los_grupos"
      ]
    },
    {
      "cell_type": "code",
      "execution_count": null,
      "metadata": {
        "id": "n5QRaBH75FDX"
      },
      "outputs": [],
      "source": []
    },
    {
      "cell_type": "markdown",
      "metadata": {
        "id": "GOvFSIK85FDX"
      },
      "source": [
        "### Ejercicio 4\n",
        "Dada una lista de números y una tupla de números, encontrar los números que son comunes entre la lista y tupla, y luego almacenar esos números en una nueva lista.\n"
      ]
    },
    {
      "cell_type": "code",
      "execution_count": null,
      "metadata": {
        "id": "o1rGEWnP5FDX"
      },
      "outputs": [],
      "source": [
        "numeros_lista = [1, 2, 3, 4, 5, 6, 8, 3, 4, 9]\n",
        "numeros_tupla = (3, 5, 7, 9, 11, 1)"
      ]
    },
    {
      "cell_type": "code",
      "execution_count": null,
      "metadata": {
        "id": "4McYmQwN5FDY"
      },
      "outputs": [],
      "source": [
        "numeros_lista = set ([1, 2, 3, 4, 5, 6, 8, 3, 4, 9])\n",
        "numeros_tupla = set ((3, 5, 7, 9, 11, 1))\n",
        "newList = list (numeros_lista & numeros_tupla)\n",
        "\n",
        "print (newList)"
      ]
    },
    {
      "cell_type": "code",
      "execution_count": null,
      "metadata": {
        "id": "G8LVyoye5FDY"
      },
      "outputs": [],
      "source": [
        "numeros_lista = [1, 2, 3, 4, 5, 6, 8, 3, 4, 9]\n",
        "numeros_tupla = (3, 5, 7, 9, 11, 1)\n",
        "lista3 = []\n",
        "\n",
        "tupla2 = set(numeros_lista)\n",
        "numeros_tupla = set(numeros_tupla)\n",
        "#Interseccion = &\n",
        "\n",
        "interseccion = tupla2 & numeros_tupla\n",
        "\n",
        "interseccion2 = list(interseccion)\n",
        "for i in interseccion2:\n",
        "    lista3.append(i)\n",
        "\n",
        "print(lista3)"
      ]
    },
    {
      "cell_type": "code",
      "execution_count": null,
      "metadata": {
        "id": "PecSp7VL5FDY"
      },
      "outputs": [],
      "source": [
        "interseccion2"
      ]
    },
    {
      "cell_type": "code",
      "execution_count": null,
      "metadata": {
        "id": "cyAbdCWL5FDY"
      },
      "outputs": [],
      "source": [
        "numeros_lista = [1, 2, 3, 4, 5, 6, 8, 3, 4, 9]\n",
        "numeros_tupla = (3, 5, 7, 9, 11, 1)\n",
        "numeros2_tupla=set(numeros_tupla)\n",
        "interseccion=numeros2_tupla.intersection(numeros_lista)\n",
        "print(list(interseccion))"
      ]
    },
    {
      "cell_type": "code",
      "execution_count": null,
      "metadata": {
        "id": "_r93sCRm5FDY"
      },
      "outputs": [],
      "source": [
        "numeros_lista = set ([1, 2, 3, 4, 5, 6, 8, 3, 4, 9])\n",
        "numeros_tupla = set ((3, 5, 7, 9, 11, 1))\n",
        "interseccion = list (numeros_lista & numeros_tupla)\n",
        "print(interseccion)"
      ]
    },
    {
      "cell_type": "code",
      "execution_count": null,
      "metadata": {
        "id": "L_UDSkL35FDY"
      },
      "outputs": [],
      "source": [
        "list(set(numeros_lista).intersection(set(numeros_tupla)))"
      ]
    },
    {
      "cell_type": "code",
      "execution_count": null,
      "metadata": {
        "id": "MG4h1XET5FDY"
      },
      "outputs": [],
      "source": [
        "numeros_lista = set ([1, 2, 3, 4, 5, 6, 8, 3, 4, 9])\n",
        "numeros_tupla = set ((3, 5, 7, 9, 11, 1))\n",
        "\n",
        "interseccion = list (numeros_lista & numeros_tupla)\n",
        "print (interseccion)"
      ]
    },
    {
      "cell_type": "markdown",
      "metadata": {
        "id": "zggoNwQK5FDY"
      },
      "source": [
        "# TITULO\n",
        "## SUBTITULO\n",
        "### SUB SUB TITULO\n",
        "\n",
        "- RECUERDEN PONER LA CELDA EN MARKDOWN\n",
        "- TAREA EN FORMATO .ipynb"
      ]
    }
  ],
  "metadata": {
    "colab": {
      "private_outputs": true,
      "provenance": []
    },
    "kernelspec": {
      "display_name": "Python 3 (ipykernel)",
      "language": "python",
      "name": "python3"
    },
    "language_info": {
      "codemirror_mode": {
        "name": "ipython",
        "version": 3
      },
      "file_extension": ".py",
      "mimetype": "text/x-python",
      "name": "python",
      "nbconvert_exporter": "python",
      "pygments_lexer": "ipython3",
      "version": "3.10.10"
    }
  },
  "nbformat": 4,
  "nbformat_minor": 0
}