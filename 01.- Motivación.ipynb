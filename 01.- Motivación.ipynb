{
  "cells": [
    {
      "cell_type": "markdown",
      "metadata": {
        "id": "9LqdYr4h3SqJ"
      },
      "source": [
        "# Antes de empezar"
      ]
    },
    {
      "cell_type": "markdown",
      "metadata": {
        "id": "ebSYX-S7VnY_"
      },
      "source": [
        "## Materiales del curso\n",
        "\n",
        "En este curso vamos a utilizar **Google Colaboratory**.\n",
        "\n",
        "Necesitarás:\n",
        "\n",
        "- Cuenta con acceso a Google Drive\n",
        "- Descargar la aplicación Colaboratory de Google Drive"
      ]
    },
    {
      "cell_type": "markdown",
      "metadata": {
        "id": "IsaIeq4vZBSM"
      },
      "source": [
        "# Funcionamiento de Google Colaboratory"
      ]
    },
    {
      "cell_type": "code",
      "execution_count": 4,
      "metadata": {
        "colab": {
          "base_uri": "https://localhost:8080/"
        },
        "id": "IVFFaGXaZFCs",
        "outputId": "3c049695-0307-41d6-b6bf-d4116bb10dc7"
      },
      "outputs": [
        {
          "data": {
            "text/plain": [
              "4"
            ]
          },
          "execution_count": 4,
          "metadata": {},
          "output_type": "execute_result"
        }
      ],
      "source": [
        "# Esto es un comentario en un bloque de código\n",
        "2 + 2"
      ]
    },
    {
      "cell_type": "markdown",
      "metadata": {
        "id": "IaHGbOrNY1yu"
      },
      "source": [
        "Esto es un bloque de Texto\n",
        "\n",
        "# Esto es un Título 1\n",
        "\n",
        "## Esto es un Título 2\n",
        "\n",
        "### Esto es un Título 3\n",
        "\n",
        "#### Esto es un Título 4\n",
        "\n",
        "**Texto en negrita**\n",
        "\n",
        "*Texto en cursiva*\n",
        "\n",
        "- Elemento 1 de una lista no numerada\n",
        "- Elemento 2 de una lista no numerada\n",
        "- Elemento 3 de una lista no numerada\n",
        "\n",
        "1. Elemento 1 de una lista numerada\n",
        "    \n",
        "    1.1. Elemento 1.1. de una lista numerada\n",
        "      \n",
        "    1.2. Elemento 1.2. de una lista numerada\n",
        "2. Elemento 2 de una lista numerada\n",
        "    \n",
        "    a. Apartado a)\n",
        "\n",
        "    b. Apartado b)\n",
        "3. Elemento 3 de una lista numerada\n",
        "\n",
        "  Nuevo párrafo dentro del tercer elemento de una lista numerada\n",
        "\n",
        "\n",
        "Para insertar un enlace: [texto del enlace](link del enlace)\n",
        "\n",
        "Para insertar una imagen: ![texto de imagen](link de imagen)\n",
        "\n",
        "---\n",
        "\n",
        "Fórmula matemática dentro de línea: $2 + 2 = 4$\n",
        "\n",
        "Fórmula matemática centrada en línea aparte: $$2 + 2 = 4$$\n"
      ]
    }
  ],
  "metadata": {
    "colab": {
      "provenance": [],
      "toc_visible": true
    },
    "kernelspec": {
      "display_name": "Python 3",
      "name": "python3"
    },
    "language_info": {
      "codemirror_mode": {
        "name": "ipython",
        "version": 3
      },
      "file_extension": ".py",
      "mimetype": "text/x-python",
      "name": "python",
      "nbconvert_exporter": "python",
      "pygments_lexer": "ipython3",
      "version": "3.7.6"
    }
  },
  "nbformat": 4,
  "nbformat_minor": 0
}
