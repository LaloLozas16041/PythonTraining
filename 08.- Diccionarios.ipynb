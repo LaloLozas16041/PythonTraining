{
  "nbformat": 4,
  "nbformat_minor": 0,
  "metadata": {
    "colab": {
      "provenance": [],
      "collapsed_sections": [
        "LjZ5hprxg0MY"
      ]
    },
    "kernelspec": {
      "name": "python3",
      "display_name": "Python 3"
    }
  },
  "cells": [
    {
      "cell_type": "markdown",
      "metadata": {
        "id": "5_q8Y0GkR2Ht"
      },
      "source": [
        "# Estructuras de datos: Diccionarios\n",
        "\n"
      ]
    },
    {
      "cell_type": "markdown",
      "metadata": {
        "id": "pQO3AMGGEiHy"
      },
      "source": [
        "## Diccionario\n",
        "\n",
        "La segunda estructura de datos que veremos son los **diccionarios**. Éstos son un conjunto de elementos no ordenados escritos entre llaves, `{}`, que constan de claves y valores.\n",
        "\n",
        "Cada conjunto `clave: valor` es separado por comas. Las claves funcionan como identificadores y preceden a `:`. A continuación van los valores, que son elementos (numéricos, booleanos, strings, listas, diccionarios...) asociados a esa clave.\n",
        "\n",
        "Los diccionarios, al igual que las listas, son:\n",
        "- hetereogéneos: los elementos pueden ser de distinto tipo en un mismo diccionario\n",
        "- mutables: los elementos pueden ser modificados\n",
        "\n",
        "Un ejemplo de diccionario sería"
      ]
    },
    {
      "cell_type": "code",
      "metadata": {
        "colab": {
          "base_uri": "https://localhost:8080/"
        },
        "id": "A814fbOyRv3o",
        "outputId": "8e59fbda-3a12-4027-a7e9-6b9f5e9f1f17"
      },
      "source": [
        "dicc = {\"Jose\": 32, \"Marina\": 21}\n",
        "print(dicc)"
      ],
      "execution_count": null,
      "outputs": [
        {
          "output_type": "stream",
          "text": [
            "{'Jose': 32, 'Marina': 21}\n"
          ],
          "name": "stdout"
        }
      ]
    },
    {
      "cell_type": "markdown",
      "metadata": {
        "id": "F8Fahrz4Ugt4"
      },
      "source": [
        "**¡Cuidado!** En `Python`, las claves de un diccionario deben ser únicas. Esto es, no puede haber dos claves que sean exactamente iguales. Si se da que hay dos claves iguales, entonces `Python` se queda con el último valor asociado a dicha clave."
      ]
    },
    {
      "cell_type": "code",
      "metadata": {
        "colab": {
          "base_uri": "https://localhost:8080/"
        },
        "id": "P-7niN0xUbKq",
        "outputId": "9342ee4e-b7d9-49b9-e007-b0fddfe3fdd5"
      },
      "source": [
        "dicc = {\"Jose\": 32,\n",
        "        \"Marina\": 21,\n",
        "        \"Jose\": 23}\n",
        "print(dicc)"
      ],
      "execution_count": null,
      "outputs": [
        {
          "output_type": "stream",
          "text": [
            "{'Jose': 23, 'Marina': 21}\n"
          ],
          "name": "stdout"
        }
      ]
    },
    {
      "cell_type": "markdown",
      "metadata": {
        "id": "hc-pD5ZkAILQ"
      },
      "source": [
        "**Observación.** Al decir que los diccionarios no tienen orden, lo que ocurre es que `Python` no mantendrá el que hemos introducido, tal y como hacía con las listas, sino que reordenará todos los elementos por orden primero numérico (yendo antes los positivos que los negativos) y luego alfabético de las claves. Esto no ocurre si usamos la función `print()`."
      ]
    },
    {
      "cell_type": "code",
      "metadata": {
        "colab": {
          "base_uri": "https://localhost:8080/"
        },
        "id": "-zpr4-45A7w8",
        "outputId": "ff489e7f-0f11-4ec0-e128-ceb6fd9b66c3"
      },
      "source": [
        "l = [\"Jose\", \"Marina\", \"Elena\"]\n",
        "l"
      ],
      "execution_count": null,
      "outputs": [
        {
          "output_type": "execute_result",
          "data": {
            "text/plain": [
              "['Jose', 'Marina', 'Elena']"
            ]
          },
          "metadata": {
            "tags": []
          },
          "execution_count": 80
        }
      ]
    },
    {
      "cell_type": "code",
      "metadata": {
        "colab": {
          "base_uri": "https://localhost:8080/"
        },
        "id": "7qjFaRCQAS2c",
        "outputId": "b8592c09-32f4-4b62-bdcc-af340cbd61d2"
      },
      "source": [
        "dicc = {\"Jose\": 32,\n",
        "        \"Marina\": 21,\n",
        "        \"Elena\": 10}\n",
        "dicc"
      ],
      "execution_count": null,
      "outputs": [
        {
          "output_type": "execute_result",
          "data": {
            "text/plain": [
              "{'Elena': 10, 'Jose': 32, 'Marina': 21}"
            ]
          },
          "metadata": {
            "tags": []
          },
          "execution_count": 3
        }
      ]
    },
    {
      "cell_type": "code",
      "metadata": {
        "colab": {
          "base_uri": "https://localhost:8080/"
        },
        "id": "flhX6oN4Aw5Q",
        "outputId": "16ddc794-5c61-4116-fe2c-ecc1e0a34791"
      },
      "source": [
        "print(dicc)"
      ],
      "execution_count": null,
      "outputs": [
        {
          "output_type": "stream",
          "text": [
            "{'Jose': 32, 'Marina': 21, 'Elena': 10}\n"
          ],
          "name": "stdout"
        }
      ]
    },
    {
      "cell_type": "code",
      "metadata": {
        "colab": {
          "base_uri": "https://localhost:8080/"
        },
        "id": "Pua6j8odBSMo",
        "outputId": "f24e7874-523c-4420-e960-0b1b8f20b5b5"
      },
      "source": [
        "dicc = {\"Alba\": 2, 7: \"a\", -5: \"b\", \"Javi\": 28}\n",
        "dicc"
      ],
      "execution_count": null,
      "outputs": [
        {
          "output_type": "execute_result",
          "data": {
            "text/plain": [
              "{-5: 'b', 7: 'a', 'Alba': 2, 'Javi': 28}"
            ]
          },
          "metadata": {
            "tags": []
          },
          "execution_count": 5
        }
      ]
    },
    {
      "cell_type": "code",
      "metadata": {
        "colab": {
          "base_uri": "https://localhost:8080/"
        },
        "id": "jUdYRjG-BkwT",
        "outputId": "31425b7b-1961-4fff-f084-d1233a2477b7"
      },
      "source": [
        "print(dicc)"
      ],
      "execution_count": null,
      "outputs": [
        {
          "output_type": "stream",
          "text": [
            "{'Alba': 2, 7: 'a', -5: 'b', 'Javi': 28}\n"
          ],
          "name": "stdout"
        }
      ]
    },
    {
      "cell_type": "markdown",
      "metadata": {
        "id": "UoinrSEqUvyi"
      },
      "source": [
        "### Elementos de un diccionario\n",
        "\n",
        "Anteriormente se ha comentado que los diccionarios no tienen orden. De modo que a sus elementos no se accede por posición, sino que debemos hacerlo mediante sus claves.\n",
        "\n",
        "La sintaxis es `diccionario[clave]`"
      ]
    },
    {
      "cell_type": "code",
      "metadata": {
        "colab": {
          "base_uri": "https://localhost:8080/"
        },
        "id": "765jVesMUgMP",
        "outputId": "443a7c73-0be3-4fdf-bb71-fd2e5ebb4777"
      },
      "source": [
        "dicc = {\n",
        "    \"names\": [\"Ana\", \"Borja\", \"Carmen\"],\n",
        "    \"ages\" : [31, 25, 16]\n",
        "    }\n",
        "dicc[\"names\"]"
      ],
      "execution_count": null,
      "outputs": [
        {
          "output_type": "execute_result",
          "data": {
            "text/plain": [
              "['Ana', 'Borja', 'Carmen']"
            ]
          },
          "metadata": {
            "tags": []
          },
          "execution_count": 10
        }
      ]
    },
    {
      "cell_type": "code",
      "metadata": {
        "colab": {
          "base_uri": "https://localhost:8080/"
        },
        "id": "Jbw8SL0jVRq1",
        "outputId": "5f406721-7ca7-4df5-d939-f6a20dcd857e"
      },
      "source": [
        "dicc[\"ages\"]"
      ],
      "execution_count": null,
      "outputs": [
        {
          "output_type": "execute_result",
          "data": {
            "text/plain": [
              "[31, 25, 16]"
            ]
          },
          "metadata": {
            "tags": []
          },
          "execution_count": 8
        }
      ]
    },
    {
      "cell_type": "markdown",
      "metadata": {
        "id": "gmmJ0X_qVWYJ"
      },
      "source": [
        "Poemos acceder a todas las claves de un diccionario con el método `.keys()`"
      ]
    },
    {
      "cell_type": "code",
      "metadata": {
        "colab": {
          "base_uri": "https://localhost:8080/"
        },
        "id": "m1uLVhcuVTQk",
        "outputId": "000bd3de-2ff9-47a9-9682-4e6d1b0857bc"
      },
      "source": [
        "dicc.keys()"
      ],
      "execution_count": null,
      "outputs": [
        {
          "output_type": "execute_result",
          "data": {
            "text/plain": [
              "dict_keys(['names', 'ages'])"
            ]
          },
          "metadata": {
            "tags": []
          },
          "execution_count": 11
        }
      ]
    },
    {
      "cell_type": "markdown",
      "metadata": {
        "id": "yrOmHPCIVfqS"
      },
      "source": [
        "También podemos acceder a todos los valores de un diccionario con el método `.values()`"
      ]
    },
    {
      "cell_type": "code",
      "metadata": {
        "colab": {
          "base_uri": "https://localhost:8080/"
        },
        "id": "dZqh3tOvVc13",
        "outputId": "c5862ec9-fe46-44f3-959a-480671c04a0b"
      },
      "source": [
        "dicc.values()"
      ],
      "execution_count": null,
      "outputs": [
        {
          "output_type": "execute_result",
          "data": {
            "text/plain": [
              "dict_values([['Ana', 'Borja', 'Carmen'], [31, 25, 16]])"
            ]
          },
          "metadata": {
            "tags": []
          },
          "execution_count": 12
        }
      ]
    },
    {
      "cell_type": "markdown",
      "metadata": {
        "id": "B-8ZTLemhlBl"
      },
      "source": [
        "Al ser una estructura mutable, podemos modificar los valores de los diccionarios"
      ]
    },
    {
      "cell_type": "code",
      "metadata": {
        "colab": {
          "base_uri": "https://localhost:8080/"
        },
        "id": "7FEAxbDAV959",
        "outputId": "071f4e7a-dafc-481b-e1c8-ce82fc1b51d2"
      },
      "source": [
        "dicc = {\"names\": [\"Ana\", \"Borja\", \"Carmen\"],\n",
        "        \"ages\": [31, 25, 16]}\n",
        "dicc[\"names\"] = [\"David\", \"Emilia\", \"Fernando\"]\n",
        "dicc[\"ages\"][2] = 36\n",
        "print(dicc)"
      ],
      "execution_count": null,
      "outputs": [
        {
          "output_type": "stream",
          "text": [
            "{'names': ['David', 'Emilia', 'Fernando'], 'ages': [31, 25, 36]}\n"
          ],
          "name": "stdout"
        }
      ]
    },
    {
      "cell_type": "markdown",
      "metadata": {
        "id": "Rfbmr696Wtqs"
      },
      "source": [
        "También podríamos partir de un diccionario vacío e ir introduciéndole valores asociados a claves. De hecho, podemos hasta pedirle a un usuario que introduzca él los datos."
      ]
    },
    {
      "cell_type": "code",
      "metadata": {
        "colab": {
          "base_uri": "https://localhost:8080/"
        },
        "id": "gfDXCMu1Wf6x",
        "outputId": "93844734-fab4-481c-fb85-594509028ff9"
      },
      "source": [
        "ficha_usuario = {}\n",
        "print(\"Introduzca su nombre:\")\n",
        "ficha_usuario[\"name\"] = str(input())\n",
        "print(\"Introduzca su edad:\")\n",
        "ficha_usuario[\"age\"] = int(input())\n",
        "print(\"¿Es usted una mujer? Responda f en caso afirmativo y m en caso contrario\")\n",
        "ficha_usuario[\"gender\"] = \"female\" if input() == \"f\" else \"male\"\n",
        "print(ficha_usuario)"
      ],
      "execution_count": null,
      "outputs": [
        {
          "output_type": "stream",
          "text": [
            "Introduzca su nombre:\n",
            "Juan Gabriel Gomila\n",
            "Introduzca su edad:\n",
            "32\n",
            "¿Es usted una mujer? Responda f en caso afirmativo y m en caso contrario\n",
            "m\n",
            "{'name': 'Juan Gabriel Gomila', 'age': 32, 'gender': 'male'}\n"
          ],
          "name": "stdout"
        }
      ]
    },
    {
      "cell_type": "markdown",
      "metadata": {
        "id": "tAtnfqcRfr6_"
      },
      "source": [
        "**Observación.** La función `str()` impone que lo que sea que introduzcamos sea un dato de tipo `string`. Funciona exactamente del mismo modo que lo hacen las funciones `int()` y `float()` introducidas y utilizadas en temas anteriores."
      ]
    },
    {
      "cell_type": "code",
      "metadata": {
        "colab": {
          "base_uri": "https://localhost:8080/"
        },
        "id": "nL3gINXcfrYY",
        "outputId": "83a6f58c-a5de-419d-e08b-460458c5840f"
      },
      "source": [
        "value = 0\n",
        "type(value)"
      ],
      "execution_count": null,
      "outputs": [
        {
          "output_type": "execute_result",
          "data": {
            "text/plain": [
              "int"
            ]
          },
          "metadata": {
            "tags": []
          },
          "execution_count": 15
        }
      ]
    },
    {
      "cell_type": "code",
      "metadata": {
        "colab": {
          "base_uri": "https://localhost:8080/"
        },
        "id": "qefPWfkLYgIg",
        "outputId": "27a855fa-d118-4b89-8e18-e831697b6295"
      },
      "source": [
        "value_string = str(0)\n",
        "type(value_string)"
      ],
      "execution_count": null,
      "outputs": [
        {
          "output_type": "execute_result",
          "data": {
            "text/plain": [
              "str"
            ]
          },
          "metadata": {
            "tags": []
          },
          "execution_count": 16
        }
      ]
    },
    {
      "cell_type": "markdown",
      "metadata": {
        "id": "LjZ5hprxg0MY"
      },
      "source": [
        "### Tamaño de un diccionario\n",
        "\n",
        "Para saber cuántos elementos contiene un diccionario, podemos usar la función `len()`del siguiente modo:"
      ]
    },
    {
      "cell_type": "code",
      "metadata": {
        "colab": {
          "base_uri": "https://localhost:8080/"
        },
        "id": "OMqs46Dmg8Ik",
        "outputId": "4015b10b-def5-4f02-8347-7c8e0ab93d03"
      },
      "source": [
        "dicc = {\"fruit\": [\"Manzana\", \"Pera\", \"Naranja\"],\n",
        "        \"price\": [2, 1.5, 1],\n",
        "        \"color\": [\"roja\", \"verde\", \"naranja\"]}\n",
        "\n",
        "print(len(dicc))"
      ],
      "execution_count": null,
      "outputs": [
        {
          "output_type": "stream",
          "text": [
            "3\n"
          ],
          "name": "stdout"
        }
      ]
    },
    {
      "cell_type": "markdown",
      "metadata": {
        "id": "09PvnVakVjBx"
      },
      "source": [
        "## Bucles y diccionarios\n",
        "\n",
        "Para recorrer todo el diccionario, podemos hacer uso de un bucle `for`, pues el diccionario es una estructura iterable:"
      ]
    },
    {
      "cell_type": "code",
      "metadata": {
        "colab": {
          "base_uri": "https://localhost:8080/"
        },
        "id": "4vvn3rfIiVh6",
        "outputId": "c9300479-80d5-4e96-eec7-5040b6af74db"
      },
      "source": [
        "dicc = {\"username\": \"msf\",\n",
        "        \"name\": \"María\",\n",
        "        \"age\": 22,\n",
        "        \"city\": \"Palma de Mallorca\"}\n",
        "\n",
        "for key in dicc:\n",
        "  print(key, \":\", dicc[key])"
      ],
      "execution_count": null,
      "outputs": [
        {
          "output_type": "stream",
          "text": [
            "username : msf\n",
            "name : María\n",
            "age : 22\n",
            "city : Palma de Mallorca\n"
          ],
          "name": "stdout"
        }
      ]
    },
    {
      "cell_type": "markdown",
      "metadata": {
        "id": "AAJmz998iVvh"
      },
      "source": [
        "Otra forma de recorrer el diccionario sería obteniendo una lista de tuplas de la forma `(clave, valor)` para cada elemento de un diccionario, que construimos con el método `.items()`. Al ser una lista, sabemos que es iterable y podemos mostrar todas sus entradas haciendo uso de un bucle `for`."
      ]
    },
    {
      "cell_type": "code",
      "metadata": {
        "colab": {
          "base_uri": "https://localhost:8080/"
        },
        "id": "PbDdjyb1V5gV",
        "outputId": "39add3f8-4170-40fa-d694-28c939288054"
      },
      "source": [
        "dicc.items()"
      ],
      "execution_count": null,
      "outputs": [
        {
          "output_type": "execute_result",
          "data": {
            "text/plain": [
              "dict_items([('username', 'msf'), ('name', 'María'), ('age', 22), ('city', 'Palma de Mallorca')])"
            ]
          },
          "metadata": {
            "tags": []
          },
          "execution_count": 19
        }
      ]
    },
    {
      "cell_type": "code",
      "metadata": {
        "colab": {
          "base_uri": "https://localhost:8080/"
        },
        "id": "DRfIFo37V624",
        "outputId": "ae0a1450-5fbf-4e03-c882-906eb535e1d6"
      },
      "source": [
        "for item in dicc.items():\n",
        "  print(item)"
      ],
      "execution_count": null,
      "outputs": [
        {
          "output_type": "stream",
          "text": [
            "('username', 'msf')\n",
            "('name', 'María')\n",
            "('age', 22)\n",
            "('city', 'Palma de Mallorca')\n"
          ],
          "name": "stdout"
        }
      ]
    },
    {
      "cell_type": "markdown",
      "metadata": {
        "id": "fXMjxa9nV_Mv"
      },
      "source": [
        "**Observación.** Veremos las tuplas, que son otro tipo de Estructuras de datos en `Python`, en futuras secciones.\n",
        "\n",
        "Para tener clave y valor por separado, podemos hacerlo del siguiente modo:"
      ]
    },
    {
      "cell_type": "code",
      "metadata": {
        "colab": {
          "base_uri": "https://localhost:8080/"
        },
        "id": "R3xNpytlqmSz",
        "outputId": "2e65e106-1e77-463e-e9c1-838aa4045186"
      },
      "source": [
        "for key, value in dicc.items():\n",
        "  print(key, \":\", value)"
      ],
      "execution_count": null,
      "outputs": [
        {
          "output_type": "stream",
          "text": [
            "username : msf\n",
            "name : María\n",
            "age : 22\n",
            "city : Palma de Mallorca\n"
          ],
          "name": "stdout"
        }
      ]
    },
    {
      "cell_type": "markdown",
      "metadata": {
        "id": "ildkak9Cf_tS"
      },
      "source": [
        "## Diccionarios y listas\n",
        "\n",
        "Como se ha mencionado antes, un diccionario puede contener listas u otros diccionarios. Por su parte, una lista también puede contener diccionarios:"
      ]
    },
    {
      "cell_type": "code",
      "metadata": {
        "colab": {
          "base_uri": "https://localhost:8080/"
        },
        "id": "qcUY4j5DgVzh",
        "outputId": "cac6f773-4444-44c6-eaae-b479b40150a9"
      },
      "source": [
        "dicc_1 = {\"name\": \"Elisa\",\n",
        "        \"age\": 30,\n",
        "        \"gender\": \"female\",\n",
        "        \"ID\": [4, 4, 2, 1, 5, 6, 7, 2, \"L\"],\n",
        "        \"user&password\": {\n",
        "            \"username\": \"eli88\",\n",
        "            \"password\": \"1234catsareawesome\"\n",
        "            }\n",
        "          }\n",
        "dicc_2 = {\"name\": \"Henry\",\n",
        "        \"age\": 27,\n",
        "        \"gender\": \"male\",\n",
        "        \"ID\": [1, 1, 0, 1, 3, 8, 6, 9, \"A\"],\n",
        "        \"user&password\": {\n",
        "            \"username\": \"superhenry\",\n",
        "            \"password\": \"1432superme\"\n",
        "            }\n",
        "          }\n",
        "lista = [dicc_1, dicc_2]\n",
        "\n",
        "for item in lista:\n",
        "  print(item)"
      ],
      "execution_count": null,
      "outputs": [
        {
          "output_type": "stream",
          "text": [
            "{'name': 'Elisa', 'age': 30, 'gender': 'female', 'ID': [4, 4, 2, 1, 5, 6, 7, 2, 'L'], 'user&password': {'username': 'eli88', 'password': '1234catsareawesome'}}\n",
            "{'name': 'Henry', 'age': 27, 'gender': 'male', 'ID': [1, 1, 0, 1, 3, 8, 6, 9, 'A'], 'user&password': {'username': 'superhenry', 'password': '1432superme'}}\n"
          ],
          "name": "stdout"
        }
      ]
    },
    {
      "cell_type": "markdown",
      "metadata": {
        "id": "cnA6Y7_XlkCI"
      },
      "source": [
        "## Más métodos de diccionarios\n",
        "\n",
        "El método `.clear()` elimina todos los elementos del diccionario dejándolo vacío.\n"
      ]
    },
    {
      "cell_type": "code",
      "metadata": {
        "colab": {
          "base_uri": "https://localhost:8080/"
        },
        "id": "4mvasP38gr3T",
        "outputId": "b08826c0-41b1-4fe9-de60-263ad320ce96"
      },
      "source": [
        "dicc = {\"a\": 4, \"b\": 3, \"c\": 2, \"d\": 1}\n",
        "print(dicc)\n",
        "\n",
        "dicc.clear()\n",
        "print(dicc)"
      ],
      "execution_count": null,
      "outputs": [
        {
          "output_type": "stream",
          "text": [
            "{'a': 4, 'b': 3, 'c': 2, 'd': 1}\n",
            "{}\n"
          ],
          "name": "stdout"
        }
      ]
    },
    {
      "cell_type": "markdown",
      "metadata": {
        "id": "mZJ5zxIhmOaT"
      },
      "source": [
        "El método `.copy()` devuelve una copia del diccionario original."
      ]
    },
    {
      "cell_type": "code",
      "metadata": {
        "colab": {
          "base_uri": "https://localhost:8080/"
        },
        "id": "DESfdpizmK0x",
        "outputId": "8633c86e-adb6-4cab-8472-ae66210f47f2"
      },
      "source": [
        "dicc = {\"a\": 4, \"b\": 3, \"c\": 2, \"d\": 1}\n",
        "dicc_copy = dicc.copy()\n",
        "\n",
        "print(dicc_copy)"
      ],
      "execution_count": null,
      "outputs": [
        {
          "output_type": "stream",
          "text": [
            "{'a': 4, 'b': 3, 'c': 2, 'd': 1}\n"
          ],
          "name": "stdout"
        }
      ]
    },
    {
      "cell_type": "markdown",
      "metadata": {
        "id": "RwgQHv3omhrr"
      },
      "source": [
        "El método `.fromkeys()` recibe como parámetros un iterable y un valor y devuelve un diccionario que contiene como claves los elementos del iterable con el mismo valor ingresado."
      ]
    },
    {
      "cell_type": "code",
      "metadata": {
        "colab": {
          "base_uri": "https://localhost:8080/"
        },
        "id": "thvxKokbmc1Z",
        "outputId": "72009ef0-cc2b-436d-c798-8a9d5f08abd5"
      },
      "source": [
        "dicc = dict.fromkeys([\"a\", \"b\", \"c\", \"d\", \"e\"], [1, 2, 3, 4])\n",
        "print(dicc)"
      ],
      "execution_count": null,
      "outputs": [
        {
          "output_type": "stream",
          "text": [
            "{'a': [1, 2, 3, 4], 'b': [1, 2, 3, 4], 'c': [1, 2, 3, 4], 'd': [1, 2, 3, 4], 'e': [1, 2, 3, 4]}\n"
          ],
          "name": "stdout"
        }
      ]
    },
    {
      "cell_type": "markdown",
      "metadata": {
        "id": "jjU2MFylnMi5"
      },
      "source": [
        "**Observación.** Si el parámetro valor se deja en blanco, el método devolverá un diccionario con el valor `None` para todas las claves."
      ]
    },
    {
      "cell_type": "code",
      "metadata": {
        "colab": {
          "base_uri": "https://localhost:8080/"
        },
        "id": "covg-bKhnBbF",
        "outputId": "720924d1-a773-4b88-fce6-a2319fd5cb45"
      },
      "source": [
        "dicc = dict.fromkeys([\"a\", \"b\", \"c\", \"d\", \"e\"])\n",
        "print(dicc)"
      ],
      "execution_count": null,
      "outputs": [
        {
          "output_type": "stream",
          "text": [
            "{'a': None, 'b': None, 'c': None, 'd': None, 'e': None}\n"
          ],
          "name": "stdout"
        }
      ]
    },
    {
      "cell_type": "markdown",
      "metadata": {
        "id": "8CW3rO0PnXN4"
      },
      "source": [
        "El método `.get()` recibe como parámetro una clave y devuelve el valor de dicha clave."
      ]
    },
    {
      "cell_type": "code",
      "metadata": {
        "colab": {
          "base_uri": "https://localhost:8080/"
        },
        "id": "Vc5p26arnXml",
        "outputId": "ef4c4772-8ba7-45fa-a1d1-4fe6337427a2"
      },
      "source": [
        "dicc = {\"a\": 1, \"e\": 2, \"i\": 3, \"o\": 4, \"u\": 5}\n",
        "print(dicc.get(\"a\"))"
      ],
      "execution_count": null,
      "outputs": [
        {
          "output_type": "stream",
          "text": [
            "1\n"
          ],
          "name": "stdout"
        }
      ]
    },
    {
      "cell_type": "markdown",
      "metadata": {
        "id": "6PpJMvjinXxH"
      },
      "source": [
        "**Observación.** Si la clave no se encuentra en el diccionario, el método devuelve un objeto `None`."
      ]
    },
    {
      "cell_type": "code",
      "metadata": {
        "colab": {
          "base_uri": "https://localhost:8080/"
        },
        "id": "Lgj_Uvv8nX7l",
        "outputId": "8f4caaa3-63a6-4546-cbbb-e857c7c51914"
      },
      "source": [
        "dicc = {\"a\": 1, \"e\": 2, \"i\": 3, \"o\": 4, \"u\": 5}\n",
        "print(dicc.get(\"b\"))"
      ],
      "execution_count": null,
      "outputs": [
        {
          "output_type": "stream",
          "text": [
            "None\n"
          ],
          "name": "stdout"
        }
      ]
    },
    {
      "cell_type": "markdown",
      "metadata": {
        "id": "pYMyp0MJnYFJ"
      },
      "source": [
        "El método `.pop()` recibe como parámetro una clave, la elimina y devuelve su valor."
      ]
    },
    {
      "cell_type": "code",
      "metadata": {
        "colab": {
          "base_uri": "https://localhost:8080/"
        },
        "id": "hoqziznFnRba",
        "outputId": "e9e244ef-0aee-454e-8e18-b0f1e3565041"
      },
      "source": [
        "dicc = {\"a\": 1, \"e\": 2, \"i\": 3, \"o\": 4, \"u\": 5}\n",
        "print(dicc)\n",
        "\n",
        "print(dicc.pop(\"i\"))\n",
        "print(dicc)"
      ],
      "execution_count": null,
      "outputs": [
        {
          "output_type": "stream",
          "text": [
            "{'a': 1, 'e': 2, 'i': 3, 'o': 4, 'u': 5}\n",
            "3\n",
            "{'a': 1, 'e': 2, 'o': 4, 'u': 5}\n"
          ],
          "name": "stdout"
        }
      ]
    },
    {
      "cell_type": "markdown",
      "metadata": {
        "id": "rznRVMoXn-sI"
      },
      "source": [
        "**Observación.** Si la clave indicada por parámetro no se encuentra en el diccionario, el método devuelve error.\n",
        "\n",
        "El método `.setdefault()` puede funcionar de dos formas:\n",
        "\n",
        "- Como el método `.get()`\n",
        "- Para agregar un nuevo elemento al diccionario."
      ]
    },
    {
      "cell_type": "code",
      "metadata": {
        "colab": {
          "base_uri": "https://localhost:8080/"
        },
        "id": "iYQ69Olgoe4z",
        "outputId": "d1509696-33f7-47e0-8747-37df31014db0"
      },
      "source": [
        "# Como .get()\n",
        "dicc = {\"a\": 1, \"e\": 2, \"i\": 3, \"o\": 4, \"u\": 5}\n",
        "print(dicc.setdefault(\"i\"))\n",
        "\n",
        "# Para agregar nuevo elemento\n",
        "print(dicc.setdefault(\"ü\", 6))\n",
        "print(dicc)"
      ],
      "execution_count": null,
      "outputs": [
        {
          "output_type": "stream",
          "text": [
            "3\n",
            "6\n",
            "{'a': 1, 'e': 2, 'i': 3, 'o': 4, 'u': 5, 'ü': 6}\n"
          ],
          "name": "stdout"
        }
      ]
    },
    {
      "cell_type": "markdown",
      "metadata": {
        "id": "lEwAhWEGoz6Z"
      },
      "source": [
        "El método `.update()` recibe como parámetro otro diccionario. En caso de tener claves iguales, actualiza el valor de la clave repetida. En caso de no haber claves iguales, el par `clave: valor` es agregado al diccionario al que es aplicado el método."
      ]
    },
    {
      "cell_type": "code",
      "metadata": {
        "colab": {
          "base_uri": "https://localhost:8080/"
        },
        "id": "Mot6r0n6owip",
        "outputId": "db571993-8cd3-47fc-df25-6153058cd3d5"
      },
      "source": [
        "dicc1 = {\"a\": 1, \"e\": 2, \"i\": 3, \"o\": 4, \"u\": 5}\n",
        "dicc2 = {\"a\": 1, \"b\": 2, \"c\": 3, \"d\": 4, \"e\": 5}\n",
        "dicc1.update(dicc2)\n",
        "\n",
        "print(dicc1)"
      ],
      "execution_count": null,
      "outputs": [
        {
          "output_type": "stream",
          "text": [
            "{'a': 1, 'e': 5, 'i': 3, 'o': 4, 'u': 5, 'b': 2, 'c': 3, 'd': 4}\n"
          ],
          "name": "stdout"
        }
      ]
    },
    {
      "cell_type": "markdown",
      "metadata": {
        "id": "C3dWk8F7pz-v"
      },
      "source": [
        "## Construyendo diccionarios con dict()\n",
        "\n",
        "Para convertir un objeto iterable de `Python` a diccionario, hay que usar la función `dict()`"
      ]
    },
    {
      "cell_type": "code",
      "metadata": {
        "colab": {
          "base_uri": "https://localhost:8080/"
        },
        "id": "Tpvr7-kWqP1u",
        "outputId": "b50b9b76-8357-4abc-fdfa-aac5d333f7a5"
      },
      "source": [
        "l = [[\"x\", 1], [\"y\", 2]]\n",
        "dict(l)"
      ],
      "execution_count": null,
      "outputs": [
        {
          "output_type": "execute_result",
          "data": {
            "text/plain": [
              "{'x': 1, 'y': 2}"
            ]
          },
          "metadata": {
            "tags": []
          },
          "execution_count": 14
        }
      ]
    },
    {
      "cell_type": "markdown",
      "metadata": {
        "id": "jR4dHHzQqP-P"
      },
      "source": [
        "Aunque la función `dict()` también sirve para definir diccionarios directamente:"
      ]
    },
    {
      "cell_type": "code",
      "metadata": {
        "colab": {
          "base_uri": "https://localhost:8080/"
        },
        "id": "UyxEclhdrb4D",
        "outputId": "69fe4ca6-0bdb-4d37-952b-82a768acb619"
      },
      "source": [
        "dicc1 = dict(x = 0, y = 1, z = -1)\n",
        "print(dicc1)"
      ],
      "execution_count": null,
      "outputs": [
        {
          "output_type": "stream",
          "text": [
            "{'x': 0, 'y': 1, 'z': -1}\n"
          ],
          "name": "stdout"
        }
      ]
    },
    {
      "cell_type": "code",
      "metadata": {
        "colab": {
          "base_uri": "https://localhost:8080/"
        },
        "id": "uFqpbpiBrgwo",
        "outputId": "dca6cb57-2ed0-4fc4-b531-0ebdc9de16a6"
      },
      "source": [
        "dicc2 = dict({\"x\": 0, \"y\": 1, \"z\": -1})\n",
        "print(dicc2)"
      ],
      "execution_count": null,
      "outputs": [
        {
          "output_type": "stream",
          "text": [
            "{'x': 0, 'y': 1, 'z': -1}\n"
          ],
          "name": "stdout"
        }
      ]
    },
    {
      "cell_type": "code",
      "metadata": {
        "colab": {
          "base_uri": "https://localhost:8080/"
        },
        "id": "LurEjQESrnNL",
        "outputId": "9070e881-56e0-4de0-89d6-deb9dd825245"
      },
      "source": [
        "dicc3 = dict({\"x\": 0}, y = 1, z = -1)\n",
        "print(dicc3)"
      ],
      "execution_count": null,
      "outputs": [
        {
          "output_type": "stream",
          "text": [
            "{'x': 0, 'y': 1, 'z': -1}\n"
          ],
          "name": "stdout"
        }
      ]
    }
  ]
}