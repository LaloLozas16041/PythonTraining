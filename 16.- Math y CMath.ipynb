{
  "nbformat": 4,
  "nbformat_minor": 0,
  "metadata": {
    "colab": {
      "provenance": [],
      "toc_visible": true
    },
    "kernelspec": {
      "name": "python3",
      "display_name": "Python 3"
    }
  },
  "cells": [
    {
      "cell_type": "markdown",
      "metadata": {
        "id": "zGV54i_GSmVj"
      },
      "source": [
        "# Módulos de `Python`: `math` y `cmath`"
      ]
    },
    {
      "cell_type": "markdown",
      "metadata": {
        "id": "nP9iEKPNUnAf"
      },
      "source": [
        "## `math`\n",
        "\n",
        "El módulo `math` nos proporciona funciones matemáticas definidas según los estándares del lenguaje de programación `C`.\n",
        "\n",
        "**¡Cuidado!** Las funciones del módulo `math` no pueden ser usadas con números complejos. Para trabajar con números complejos, tenemos el módulo `cmath` que trataremos más adelante en esta misma sección.\n",
        "\n",
        "\n",
        "\n"
      ]
    },
    {
      "cell_type": "code",
      "metadata": {
        "id": "IA-ImNswCuOw"
      },
      "source": [
        "import math"
      ],
      "execution_count": null,
      "outputs": []
    },
    {
      "cell_type": "code",
      "metadata": {
        "colab": {
          "base_uri": "https://localhost:8080/"
        },
        "id": "zK2x_OIrC06r",
        "outputId": "7264b1e7-bff0-443d-cf75-2892ec6613a9"
      },
      "source": [
        "dir(math)"
      ],
      "execution_count": null,
      "outputs": [
        {
          "output_type": "execute_result",
          "data": {
            "text/plain": [
              "['__doc__',\n",
              " '__loader__',\n",
              " '__name__',\n",
              " '__package__',\n",
              " '__spec__',\n",
              " 'acos',\n",
              " 'acosh',\n",
              " 'asin',\n",
              " 'asinh',\n",
              " 'atan',\n",
              " 'atan2',\n",
              " 'atanh',\n",
              " 'ceil',\n",
              " 'copysign',\n",
              " 'cos',\n",
              " 'cosh',\n",
              " 'degrees',\n",
              " 'e',\n",
              " 'erf',\n",
              " 'erfc',\n",
              " 'exp',\n",
              " 'expm1',\n",
              " 'fabs',\n",
              " 'factorial',\n",
              " 'floor',\n",
              " 'fmod',\n",
              " 'frexp',\n",
              " 'fsum',\n",
              " 'gamma',\n",
              " 'gcd',\n",
              " 'hypot',\n",
              " 'inf',\n",
              " 'isclose',\n",
              " 'isfinite',\n",
              " 'isinf',\n",
              " 'isnan',\n",
              " 'ldexp',\n",
              " 'lgamma',\n",
              " 'log',\n",
              " 'log10',\n",
              " 'log1p',\n",
              " 'log2',\n",
              " 'modf',\n",
              " 'nan',\n",
              " 'pi',\n",
              " 'pow',\n",
              " 'radians',\n",
              " 'sin',\n",
              " 'sinh',\n",
              " 'sqrt',\n",
              " 'tan',\n",
              " 'tanh',\n",
              " 'tau',\n",
              " 'trunc']"
            ]
          },
          "metadata": {
            "tags": []
          },
          "execution_count": 2
        }
      ]
    },
    {
      "cell_type": "markdown",
      "metadata": {
        "id": "NcJUleSnffr7"
      },
      "source": [
        "### Constantes del módulo `math`"
      ]
    },
    {
      "cell_type": "markdown",
      "metadata": {
        "id": "Gbu5OGFHfsgL"
      },
      "source": [
        "El número $\\pi = 3.141492\\dots$ lo obtenemos como atributo del módulo `math` como"
      ]
    },
    {
      "cell_type": "code",
      "metadata": {
        "colab": {
          "base_uri": "https://localhost:8080/"
        },
        "id": "XWnP3fuCf10a",
        "outputId": "3ab06f56-390c-4b72-819e-4b5595bc9e4c"
      },
      "source": [
        "math.pi"
      ],
      "execution_count": null,
      "outputs": [
        {
          "output_type": "execute_result",
          "data": {
            "text/plain": [
              "3.141592653589793"
            ]
          },
          "metadata": {
            "tags": []
          },
          "execution_count": 3
        }
      ]
    },
    {
      "cell_type": "markdown",
      "metadata": {
        "id": "8Q71FoMGf3Yl"
      },
      "source": [
        "El número $e = 2.718281\\dots$ lo botenemos como atributo del módulo `math` como"
      ]
    },
    {
      "cell_type": "code",
      "metadata": {
        "colab": {
          "base_uri": "https://localhost:8080/"
        },
        "id": "vZLtHpX-f-hH",
        "outputId": "5550415c-c3c1-4e5f-c178-cf5659005bbc"
      },
      "source": [
        "math.e"
      ],
      "execution_count": null,
      "outputs": [
        {
          "output_type": "execute_result",
          "data": {
            "text/plain": [
              "2.718281828459045"
            ]
          },
          "metadata": {
            "tags": []
          },
          "execution_count": 4
        }
      ]
    },
    {
      "cell_type": "markdown",
      "metadata": {
        "id": "iovgJc_SgEWc"
      },
      "source": [
        "La constante $\\tau = 6.283185\\dots$ también forma parte del módulo `math`"
      ]
    },
    {
      "cell_type": "code",
      "metadata": {
        "colab": {
          "base_uri": "https://localhost:8080/"
        },
        "id": "HQAWsmw-gKnW",
        "outputId": "9e4d29e5-6a1a-4846-8948-fd9f4a762a95"
      },
      "source": [
        "math.tau"
      ],
      "execution_count": null,
      "outputs": [
        {
          "output_type": "execute_result",
          "data": {
            "text/plain": [
              "6.283185307179586"
            ]
          },
          "metadata": {
            "tags": []
          },
          "execution_count": 5
        }
      ]
    },
    {
      "cell_type": "markdown",
      "metadata": {
        "id": "f9XC7IuZgMN7"
      },
      "source": [
        "El infinito positivo, $\\infty$, lo obtenemos en el módulo `math` como"
      ]
    },
    {
      "cell_type": "code",
      "metadata": {
        "colab": {
          "base_uri": "https://localhost:8080/"
        },
        "id": "N4BMgKGogSmh",
        "outputId": "8d951d4c-58b7-4f92-aae7-07d5917786fc"
      },
      "source": [
        "math.inf"
      ],
      "execution_count": null,
      "outputs": [
        {
          "output_type": "execute_result",
          "data": {
            "text/plain": [
              "inf"
            ]
          },
          "metadata": {
            "tags": []
          },
          "execution_count": 6
        }
      ]
    },
    {
      "cell_type": "markdown",
      "metadata": {
        "id": "JfzxZEM9gUp_"
      },
      "source": [
        "**Observación.** El infinito negativo, -$\\infty$, puede obtenerse multiplicando -1 al resultado de `math.inf`"
      ]
    },
    {
      "cell_type": "code",
      "metadata": {
        "colab": {
          "base_uri": "https://localhost:8080/"
        },
        "id": "uaTDdHtJga1b",
        "outputId": "b709cca3-30e8-4f22-a118-d81531e45e13"
      },
      "source": [
        "-math.inf"
      ],
      "execution_count": null,
      "outputs": [
        {
          "output_type": "execute_result",
          "data": {
            "text/plain": [
              "-inf"
            ]
          },
          "metadata": {
            "tags": []
          },
          "execution_count": 7
        }
      ]
    },
    {
      "cell_type": "markdown",
      "metadata": {
        "id": "J-ULZveWgc6B"
      },
      "source": [
        "El último atributo del módulo `math` es `nan` (valor `NaN`, not a number)"
      ]
    },
    {
      "cell_type": "code",
      "metadata": {
        "colab": {
          "base_uri": "https://localhost:8080/"
        },
        "id": "C-SIMai6gkFt",
        "outputId": "e4dfe769-83e0-427a-f91a-dd9c92ee23cb"
      },
      "source": [
        "math.nan"
      ],
      "execution_count": null,
      "outputs": [
        {
          "output_type": "execute_result",
          "data": {
            "text/plain": [
              "nan"
            ]
          },
          "metadata": {
            "tags": []
          },
          "execution_count": 8
        }
      ]
    },
    {
      "cell_type": "markdown",
      "metadata": {
        "id": "MXJZvu9Ife2B"
      },
      "source": [
        "### Métodos del módulo `math`"
      ]
    },
    {
      "cell_type": "markdown",
      "metadata": {
        "id": "VafHcFaEGZ38"
      },
      "source": [
        "#### Parte entera de un número\n",
        "\n",
        "**Parte entera de $x$.** Dado un número real $x$, se define su parte entera como el mayor número entero menor o igual que $x$.\n",
        "\n",
        "Para obtener la parte entera de un número real, podemos usar el método `.floor()`"
      ]
    },
    {
      "cell_type": "code",
      "metadata": {
        "colab": {
          "base_uri": "https://localhost:8080/"
        },
        "id": "DXCofQvHGVKu",
        "outputId": "7eff2722-baa9-400e-b326-bd43c18d6f79"
      },
      "source": [
        "x = 2.75\n",
        "math.floor(x)"
      ],
      "execution_count": null,
      "outputs": [
        {
          "output_type": "execute_result",
          "data": {
            "text/plain": [
              "2"
            ]
          },
          "metadata": {
            "tags": []
          },
          "execution_count": 9
        }
      ]
    },
    {
      "cell_type": "code",
      "metadata": {
        "colab": {
          "base_uri": "https://localhost:8080/"
        },
        "id": "sEWJKkIiE5T6",
        "outputId": "6a4450de-fff8-4cd6-94e1-3eb2bd63bd88"
      },
      "source": [
        "x = -3.1415\n",
        "math.floor(x)"
      ],
      "execution_count": null,
      "outputs": [
        {
          "output_type": "execute_result",
          "data": {
            "text/plain": [
              "-4"
            ]
          },
          "metadata": {
            "tags": []
          },
          "execution_count": 10
        }
      ]
    },
    {
      "cell_type": "markdown",
      "metadata": {
        "id": "Y9-bWS6GGgQL"
      },
      "source": [
        "**Parte entera por exceso de $x$.** Dado un número real $x$, se define su parte entera por exceso como el menor número entero mayor o igual que $x$.\n",
        "\n",
        "Para obtener la parte entera por exceso de un número real, podemos usar el método `.ceil()`"
      ]
    },
    {
      "cell_type": "code",
      "metadata": {
        "colab": {
          "base_uri": "https://localhost:8080/"
        },
        "id": "NoHQ75rxGffv",
        "outputId": "69cfe85d-5bcc-48ce-f2c4-4f769e472626"
      },
      "source": [
        "x = 2.75\n",
        "math.ceil(x)"
      ],
      "execution_count": null,
      "outputs": [
        {
          "output_type": "execute_result",
          "data": {
            "text/plain": [
              "3"
            ]
          },
          "metadata": {
            "tags": []
          },
          "execution_count": 11
        }
      ]
    },
    {
      "cell_type": "code",
      "metadata": {
        "colab": {
          "base_uri": "https://localhost:8080/"
        },
        "id": "DKB_oS9LFVLF",
        "outputId": "fbf83d9d-d991-4523-cf9d-06a27527d413"
      },
      "source": [
        "x = -3.1415\n",
        "math.ceil(x)"
      ],
      "execution_count": null,
      "outputs": [
        {
          "output_type": "execute_result",
          "data": {
            "text/plain": [
              "-3"
            ]
          },
          "metadata": {
            "tags": []
          },
          "execution_count": 12
        }
      ]
    },
    {
      "cell_type": "markdown",
      "metadata": {
        "id": "Sko8uxdtG8vQ"
      },
      "source": [
        "Existen otra función más que dado un número real, nos devuelven su parte entera. Se trata de la función de truncamiento.\n",
        "\n",
        "Para truncar un número, utilizamos el método `.trunc()`"
      ]
    },
    {
      "cell_type": "code",
      "metadata": {
        "colab": {
          "base_uri": "https://localhost:8080/"
        },
        "id": "hvog7xshHhRM",
        "outputId": "3f99f36e-1791-4cbf-e353-f7c73b0ef07d"
      },
      "source": [
        "x = 2.75\n",
        "math.trunc(x)"
      ],
      "execution_count": null,
      "outputs": [
        {
          "output_type": "execute_result",
          "data": {
            "text/plain": [
              "2"
            ]
          },
          "metadata": {
            "tags": []
          },
          "execution_count": 13
        }
      ]
    },
    {
      "cell_type": "code",
      "metadata": {
        "colab": {
          "base_uri": "https://localhost:8080/"
        },
        "id": "4Lt0Cl1gFkac",
        "outputId": "46449180-edb0-4aa2-c5f3-0e586e3f10e5"
      },
      "source": [
        "x = -3.1415\n",
        "math.trunc(x)"
      ],
      "execution_count": null,
      "outputs": [
        {
          "output_type": "execute_result",
          "data": {
            "text/plain": [
              "-3"
            ]
          },
          "metadata": {
            "tags": []
          },
          "execution_count": 14
        }
      ]
    },
    {
      "cell_type": "markdown",
      "metadata": {
        "id": "Q0WD3_NcNcmO"
      },
      "source": [
        "#### Aritmética\n",
        "\n",
        "Para calcular el resto de $x$ entre $y$ siendo $x,y$ números reales, se prefiere usar el método `.fmod()` al operador `%`, pues el primero tiene mucha más precisión al tratar con números reales."
      ]
    },
    {
      "cell_type": "code",
      "metadata": {
        "colab": {
          "base_uri": "https://localhost:8080/"
        },
        "id": "N0dvGqbcN5Gx",
        "outputId": "46e7b547-66f1-4e86-8d44-61b87d37af6f"
      },
      "source": [
        "x = 5.25\n",
        "y = 2.5\n",
        "math.fmod(x, y)"
      ],
      "execution_count": null,
      "outputs": [
        {
          "output_type": "execute_result",
          "data": {
            "text/plain": [
              "0.25"
            ]
          },
          "metadata": {
            "tags": []
          },
          "execution_count": 3
        }
      ]
    },
    {
      "cell_type": "markdown",
      "metadata": {
        "id": "T670JUaJORje"
      },
      "source": [
        "En este caso, para comprobar nuestros resultados, podríamos hacer lo siguiente"
      ]
    },
    {
      "cell_type": "code",
      "metadata": {
        "id": "Ra0oOhbXOUj7",
        "colab": {
          "base_uri": "https://localhost:8080/"
        },
        "outputId": "8fb76ad2-12f7-4aec-c37f-fb245c2d360e"
      },
      "source": [
        "x == math.floor(x / y) * y + math.fmod(x, y)"
      ],
      "execution_count": null,
      "outputs": [
        {
          "output_type": "execute_result",
          "data": {
            "text/plain": [
              "True"
            ]
          },
          "metadata": {
            "tags": []
          },
          "execution_count": 16
        }
      ]
    },
    {
      "cell_type": "markdown",
      "metadata": {
        "id": "5FH23So2OvBW"
      },
      "source": [
        "Dado un objeto iterable (por ejemplo una lista) de números reales, el método `.fsum()` calcula la suma de todos los elementos de dicho iterable de forma precisa en coma flotante"
      ]
    },
    {
      "cell_type": "code",
      "metadata": {
        "colab": {
          "base_uri": "https://localhost:8080/"
        },
        "id": "jCwNJ1E4PDHi",
        "outputId": "2274e91b-4e1c-4d85-9192-955dc933b3f5"
      },
      "source": [
        "l = [.1] * 10\n",
        "print(\"El resultado de sum() sería {}\".format(sum(l)))\n",
        "print(\"El resultado de math.fsum() sería {}\".format(math.fsum(l)))"
      ],
      "execution_count": null,
      "outputs": [
        {
          "output_type": "stream",
          "text": [
            "El resultado de sum() sería 0.9999999999999999\n",
            "El resultado de math.fsum() sería 1.0\n"
          ],
          "name": "stdout"
        }
      ]
    },
    {
      "cell_type": "markdown",
      "metadata": {
        "id": "xRh_Jq1PW48v"
      },
      "source": [
        "Con el método `.modf()` conseguimos la tupla de parte decimal y entera de un número real $x$"
      ]
    },
    {
      "cell_type": "code",
      "metadata": {
        "colab": {
          "base_uri": "https://localhost:8080/"
        },
        "id": "Jxf5BlEgXGKu",
        "outputId": "7e94d22b-db30-4aa6-936f-d270071952c8"
      },
      "source": [
        "math.modf(4.25)"
      ],
      "execution_count": null,
      "outputs": [
        {
          "output_type": "execute_result",
          "data": {
            "text/plain": [
              "(0.25, 4.0)"
            ]
          },
          "metadata": {
            "tags": []
          },
          "execution_count": 18
        }
      ]
    },
    {
      "cell_type": "code",
      "metadata": {
        "colab": {
          "base_uri": "https://localhost:8080/"
        },
        "id": "RXym1CCOHTVE",
        "outputId": "aee073a2-1991-4966-f591-d61f65a265ae"
      },
      "source": [
        "math.modf(-3.1415)"
      ],
      "execution_count": null,
      "outputs": [
        {
          "output_type": "execute_result",
          "data": {
            "text/plain": [
              "(-0.14150000000000018, -3.0)"
            ]
          },
          "metadata": {
            "tags": []
          },
          "execution_count": 19
        }
      ]
    },
    {
      "cell_type": "markdown",
      "metadata": {
        "id": "-Pgd0B1XUQE7"
      },
      "source": [
        "#### Potencias y logaritmos\n",
        "\n"
      ]
    },
    {
      "cell_type": "markdown",
      "metadata": {
        "id": "9M7nAjZiYAC_"
      },
      "source": [
        "El método `.exp()` nos devuelve el número $e^x$ donde $x$ es el valor indicado por parámetro"
      ]
    },
    {
      "cell_type": "code",
      "metadata": {
        "id": "EtC8QDs1YIsM",
        "colab": {
          "base_uri": "https://localhost:8080/"
        },
        "outputId": "0e3c3b5a-ec5e-46af-feb5-602146ba3ae3"
      },
      "source": [
        "math.exp(2)"
      ],
      "execution_count": null,
      "outputs": [
        {
          "output_type": "execute_result",
          "data": {
            "text/plain": [
              "7.38905609893065"
            ]
          },
          "metadata": {
            "tags": []
          },
          "execution_count": 20
        }
      ]
    },
    {
      "cell_type": "markdown",
      "metadata": {
        "id": "_eYEPKvQYLl6"
      },
      "source": [
        "**Observación.** Por tanto, el número $e$ en `Python` se puede obtener como la función exponencial para $x = 1$. No obstante, recordemos que el módulo  `math` tiene el atributo `e` que es precisamente dicho número"
      ]
    },
    {
      "cell_type": "code",
      "metadata": {
        "colab": {
          "base_uri": "https://localhost:8080/"
        },
        "id": "EEa-bD0LYTJ0",
        "outputId": "6dd20fd9-f258-4864-b97b-baf0a9719396"
      },
      "source": [
        "e = math.exp(1)\n",
        "e"
      ],
      "execution_count": null,
      "outputs": [
        {
          "output_type": "execute_result",
          "data": {
            "text/plain": [
              "2.718281828459045"
            ]
          },
          "metadata": {
            "tags": []
          },
          "execution_count": 21
        }
      ]
    },
    {
      "cell_type": "code",
      "metadata": {
        "colab": {
          "base_uri": "https://localhost:8080/"
        },
        "id": "gwGrTmjhY156",
        "outputId": "dd4a58d1-c7b1-4bae-ba90-c47f3035f120"
      },
      "source": [
        "math.e"
      ],
      "execution_count": null,
      "outputs": [
        {
          "output_type": "execute_result",
          "data": {
            "text/plain": [
              "2.718281828459045"
            ]
          },
          "metadata": {
            "tags": []
          },
          "execution_count": 22
        }
      ]
    },
    {
      "cell_type": "markdown",
      "metadata": {
        "id": "o7ZVx76OYYaU"
      },
      "source": [
        "Siguiendo con la función exponencial, tenemos el método `.expm1()` que es el resultado de $e^x - 1$ donde $x$ es el número que introducimos por parámetro"
      ]
    },
    {
      "cell_type": "code",
      "metadata": {
        "colab": {
          "base_uri": "https://localhost:8080/"
        },
        "id": "BrcjSGB2Yl5H",
        "outputId": "6496dea0-257f-420a-9879-46b6797e031b"
      },
      "source": [
        "math.exp(2) - 1"
      ],
      "execution_count": null,
      "outputs": [
        {
          "output_type": "execute_result",
          "data": {
            "text/plain": [
              "6.38905609893065"
            ]
          },
          "metadata": {
            "tags": []
          },
          "execution_count": 23
        }
      ]
    },
    {
      "cell_type": "code",
      "metadata": {
        "colab": {
          "base_uri": "https://localhost:8080/"
        },
        "id": "nnZEa_TzYoPI",
        "outputId": "afcaad36-4d98-4b8e-a1b0-c261729faac0"
      },
      "source": [
        "math.expm1(2)"
      ],
      "execution_count": null,
      "outputs": [
        {
          "output_type": "execute_result",
          "data": {
            "text/plain": [
              "6.38905609893065"
            ]
          },
          "metadata": {
            "tags": []
          },
          "execution_count": 24
        }
      ]
    },
    {
      "cell_type": "markdown",
      "metadata": {
        "id": "89fMBNSiZRqi"
      },
      "source": [
        "**Observación.** La existencia de este método se debe a la gran pérdida de precisión que conlleva restar una unidad directamente. De este modo, el método `.expm1()` ha sido programado de forma que no se pierda tal cantidad de precisión al llevar a cabo dicha operación."
      ]
    },
    {
      "cell_type": "markdown",
      "metadata": {
        "id": "9xwTQ5iKX_R3"
      },
      "source": [
        "El método `.frexp()` de un número real $x$ nos devuelve el par `(m, e)` donde $m$ y $e$ son tales que $x = m\\cdot 2^e$"
      ]
    },
    {
      "cell_type": "code",
      "metadata": {
        "colab": {
          "base_uri": "https://localhost:8080/"
        },
        "id": "7xtZQnxrUPUa",
        "outputId": "fdfb07b3-cbf1-4cf2-fa78-2c3884d2ede5"
      },
      "source": [
        "x = 25\n",
        "m, e = math.frexp(x)\n",
        "print(\"(m = {}, e = {})\".format(m, e))"
      ],
      "execution_count": null,
      "outputs": [
        {
          "output_type": "stream",
          "text": [
            "(m = 0.78125, e = 5)\n"
          ],
          "name": "stdout"
        }
      ]
    },
    {
      "cell_type": "markdown",
      "metadata": {
        "id": "vOR7zkDZUjkS"
      },
      "source": [
        "Para comprobar nuestro resultado, hacemos lo siguiente"
      ]
    },
    {
      "cell_type": "code",
      "metadata": {
        "colab": {
          "base_uri": "https://localhost:8080/"
        },
        "id": "CZEfCNSwUl-A",
        "outputId": "d04119ff-3d32-4a95-ba9d-347607c72b35"
      },
      "source": [
        "x == m * 2 ** e"
      ],
      "execution_count": null,
      "outputs": [
        {
          "output_type": "execute_result",
          "data": {
            "text/plain": [
              "True"
            ]
          },
          "metadata": {
            "tags": []
          },
          "execution_count": 26
        }
      ]
    },
    {
      "cell_type": "markdown",
      "metadata": {
        "id": "Tmy9EdtvVBLl"
      },
      "source": [
        "Por su parte, existe el método inverso a `.frexp()`, que es el método `.ldexp()`, al que por parámetros introducimos `x` e `i` y se nos devuelve el valor $y$ tal que $y = x \\cdot 2^i$"
      ]
    },
    {
      "cell_type": "code",
      "metadata": {
        "colab": {
          "base_uri": "https://localhost:8080/"
        },
        "id": "o9Msa8gRVOUM",
        "outputId": "3b2aa5bc-cdfe-4ea6-f46f-b2cfe8e45111"
      },
      "source": [
        "x = 0.78125\n",
        "i = 5\n",
        "math.ldexp(x, i)"
      ],
      "execution_count": null,
      "outputs": [
        {
          "output_type": "execute_result",
          "data": {
            "text/plain": [
              "25.0"
            ]
          },
          "metadata": {
            "tags": []
          },
          "execution_count": 27
        }
      ]
    },
    {
      "cell_type": "markdown",
      "metadata": {
        "id": "uRjPbGDZZlvr"
      },
      "source": [
        "El método `.log()` nos devuelve resultados diferentes según los argumentos proporcionados:\n",
        "\n",
        "* Si solamente indicamos el número $x$ al que queremos aplicar el logaritmo, entonces se nos devuelve el resultado de calcular el logaritmo neperiano (logaritmo en base $e$) de $x$\n",
        "* Si introducimos dos parámetros, el primero será el número $x$ al que aplicamos el logaritmo, y el segundo, la base."
      ]
    },
    {
      "cell_type": "code",
      "metadata": {
        "colab": {
          "base_uri": "https://localhost:8080/"
        },
        "id": "gxbQj5e3Z6qD",
        "outputId": "fa21ab98-fc76-4bc3-9225-a990560b8cbf"
      },
      "source": [
        "# Logaritmo neperiano de 55\n",
        "math.log(55)"
      ],
      "execution_count": null,
      "outputs": [
        {
          "output_type": "execute_result",
          "data": {
            "text/plain": [
              "4.007333185232471"
            ]
          },
          "metadata": {
            "tags": []
          },
          "execution_count": 28
        }
      ]
    },
    {
      "cell_type": "code",
      "metadata": {
        "colab": {
          "base_uri": "https://localhost:8080/"
        },
        "id": "7pf1R5NaaB1R",
        "outputId": "37ed5304-077d-4ea4-b15e-e6e730cd5917"
      },
      "source": [
        "# Logaritmo neperiano de 55\n",
        "math.log(55, math.e)"
      ],
      "execution_count": null,
      "outputs": [
        {
          "output_type": "execute_result",
          "data": {
            "text/plain": [
              "4.007333185232471"
            ]
          },
          "metadata": {
            "tags": []
          },
          "execution_count": 29
        }
      ]
    },
    {
      "cell_type": "code",
      "metadata": {
        "colab": {
          "base_uri": "https://localhost:8080/"
        },
        "id": "foTNDjxJaCj4",
        "outputId": "52768c12-fba7-49fe-bf9a-adb003b85df7"
      },
      "source": [
        "# Logaritmo en base 10 de 100\n",
        "math.log(100, 10)"
      ],
      "execution_count": null,
      "outputs": [
        {
          "output_type": "execute_result",
          "data": {
            "text/plain": [
              "2.0"
            ]
          },
          "metadata": {
            "tags": []
          },
          "execution_count": 30
        }
      ]
    },
    {
      "cell_type": "markdown",
      "metadata": {
        "id": "fMBu1A3tamoV"
      },
      "source": [
        "El método `.log1p()` devuelve el logaritmo neperiano de $1 + x$, donde $x$ es el número que introducimos por parámetro. La existencia de este método aumenta la precisión del resultado cuando $x$ es próximo a 0."
      ]
    },
    {
      "cell_type": "code",
      "metadata": {
        "colab": {
          "base_uri": "https://localhost:8080/"
        },
        "id": "EyMDH-zFa2lV",
        "outputId": "61ebd685-aa42-412c-ffae-ec689d2ca508"
      },
      "source": [
        "math.log1p(2)"
      ],
      "execution_count": null,
      "outputs": [
        {
          "output_type": "execute_result",
          "data": {
            "text/plain": [
              "1.0986122886681096"
            ]
          },
          "metadata": {
            "tags": []
          },
          "execution_count": 31
        }
      ]
    },
    {
      "cell_type": "code",
      "metadata": {
        "colab": {
          "base_uri": "https://localhost:8080/"
        },
        "id": "1atQamkIa51h",
        "outputId": "afc680ab-d673-4512-8cf0-4578d345b191"
      },
      "source": [
        "math.log(3)"
      ],
      "execution_count": null,
      "outputs": [
        {
          "output_type": "execute_result",
          "data": {
            "text/plain": [
              "1.0986122886681098"
            ]
          },
          "metadata": {
            "tags": []
          },
          "execution_count": 32
        }
      ]
    },
    {
      "cell_type": "markdown",
      "metadata": {
        "id": "X5oeITg2a97O"
      },
      "source": [
        "El método `.log2()` nos devuelve el logaritmo en base 2 de $x$, $\\log_2(x)$, siendo $x$ el número real que introducimos por parámetro"
      ]
    },
    {
      "cell_type": "code",
      "metadata": {
        "colab": {
          "base_uri": "https://localhost:8080/"
        },
        "id": "p7OO7TaubIbv",
        "outputId": "a9293267-04cc-4e61-c14d-b7d221b8efe9"
      },
      "source": [
        "math.log2(1024)"
      ],
      "execution_count": null,
      "outputs": [
        {
          "output_type": "execute_result",
          "data": {
            "text/plain": [
              "10.0"
            ]
          },
          "metadata": {
            "tags": []
          },
          "execution_count": 33
        }
      ]
    },
    {
      "cell_type": "code",
      "metadata": {
        "colab": {
          "base_uri": "https://localhost:8080/"
        },
        "id": "CToHpt5ebKvB",
        "outputId": "b1b9ac08-4b05-41cb-b08a-6f0189cd2b8b"
      },
      "source": [
        "math.log(1024, 2)"
      ],
      "execution_count": null,
      "outputs": [
        {
          "output_type": "execute_result",
          "data": {
            "text/plain": [
              "10.0"
            ]
          },
          "metadata": {
            "tags": []
          },
          "execution_count": 34
        }
      ]
    },
    {
      "cell_type": "markdown",
      "metadata": {
        "id": "6DggAuMCbQ4S"
      },
      "source": [
        "Del mismo modo, existe el método `.log10()` para calcular el logaritmo en base 10 de $x$, $\\log_{10}(x)$"
      ]
    },
    {
      "cell_type": "code",
      "metadata": {
        "colab": {
          "base_uri": "https://localhost:8080/"
        },
        "id": "1tAFy__pbZnx",
        "outputId": "14f0f77c-d796-46b3-cff1-fe6ea03b0ef2"
      },
      "source": [
        "math.log10(100)"
      ],
      "execution_count": null,
      "outputs": [
        {
          "output_type": "execute_result",
          "data": {
            "text/plain": [
              "2.0"
            ]
          },
          "metadata": {
            "tags": []
          },
          "execution_count": 35
        }
      ]
    },
    {
      "cell_type": "code",
      "metadata": {
        "colab": {
          "base_uri": "https://localhost:8080/"
        },
        "id": "qlUNUQDHbZuV",
        "outputId": "e7278666-58e3-4860-995a-b7620fcb2ec2"
      },
      "source": [
        "math.log(100, 10)"
      ],
      "execution_count": null,
      "outputs": [
        {
          "output_type": "execute_result",
          "data": {
            "text/plain": [
              "2.0"
            ]
          },
          "metadata": {
            "tags": []
          },
          "execution_count": 36
        }
      ]
    },
    {
      "cell_type": "markdown",
      "metadata": {
        "id": "5YOpRbk8bYaZ"
      },
      "source": [
        "El método `.pow()` ya lo conocemos. Nos calcula la potencia $x^y$, siendo `x` el primer parámetro indicado e `y` el segundo."
      ]
    },
    {
      "cell_type": "code",
      "metadata": {
        "colab": {
          "base_uri": "https://localhost:8080/"
        },
        "id": "O8rdkgWrbq1h",
        "outputId": "7c0015e2-325b-4f49-9a61-7fce5e6bc674"
      },
      "source": [
        "math.pow(2, 10)"
      ],
      "execution_count": null,
      "outputs": [
        {
          "output_type": "execute_result",
          "data": {
            "text/plain": [
              "1024.0"
            ]
          },
          "metadata": {
            "tags": []
          },
          "execution_count": 37
        }
      ]
    },
    {
      "cell_type": "code",
      "metadata": {
        "colab": {
          "base_uri": "https://localhost:8080/"
        },
        "id": "5r3WDhvHbq84",
        "outputId": "6baa588a-2416-4ca8-ea70-c8513f2a8694"
      },
      "source": [
        "2 ** 10"
      ],
      "execution_count": null,
      "outputs": [
        {
          "output_type": "execute_result",
          "data": {
            "text/plain": [
              "1024"
            ]
          },
          "metadata": {
            "tags": []
          },
          "execution_count": 38
        }
      ]
    },
    {
      "cell_type": "markdown",
      "metadata": {
        "id": "OFF03FkfTjA_"
      },
      "source": [
        "El método `.sqrt()` aplicado a un número entero $n$ nos devuelve la raíz cuadrada de dicho número entero $n$."
      ]
    },
    {
      "cell_type": "code",
      "metadata": {
        "colab": {
          "base_uri": "https://localhost:8080/"
        },
        "id": "MVySlthGT5UB",
        "outputId": "7cb12f4f-3cb6-4660-f8e8-70db047bc7a1"
      },
      "source": [
        "math.sqrt(25)"
      ],
      "execution_count": null,
      "outputs": [
        {
          "output_type": "execute_result",
          "data": {
            "text/plain": [
              "5.0"
            ]
          },
          "metadata": {
            "tags": []
          },
          "execution_count": 39
        }
      ]
    },
    {
      "cell_type": "code",
      "metadata": {
        "colab": {
          "base_uri": "https://localhost:8080/"
        },
        "id": "mtwZfUi_UAMR",
        "outputId": "1bf9a818-f2ab-4ac5-b1dd-d2803e1b35da"
      },
      "source": [
        "math.sqrt(77)"
      ],
      "execution_count": null,
      "outputs": [
        {
          "output_type": "execute_result",
          "data": {
            "text/plain": [
              "8.774964387392123"
            ]
          },
          "metadata": {
            "tags": []
          },
          "execution_count": 40
        }
      ]
    },
    {
      "cell_type": "markdown",
      "metadata": {
        "id": "3QpYulKSPhnb"
      },
      "source": [
        "#### Máximo común divisor y mínimo común múltiplo\n",
        "\n",
        "Para calcular el máximo común divisor de dos números, usamos el método `.gcd()` (del inglés, greatest common divisor)"
      ]
    },
    {
      "cell_type": "code",
      "metadata": {
        "colab": {
          "base_uri": "https://localhost:8080/"
        },
        "id": "Vs-I7N4NP05y",
        "outputId": "60d6349d-6954-4423-9919-242675d1150f"
      },
      "source": [
        "math.gcd(16, 8)"
      ],
      "execution_count": null,
      "outputs": [
        {
          "output_type": "execute_result",
          "data": {
            "text/plain": [
              "8"
            ]
          },
          "metadata": {
            "tags": []
          },
          "execution_count": 2
        }
      ]
    },
    {
      "cell_type": "markdown",
      "metadata": {
        "id": "ME5t9oqYQF2N"
      },
      "source": [
        "Para calcular el mínimo común múltiplo de dos números, usamos el método `.lcm()` (del inglés, least common multiple), disponible a partir de la versión 3.9 de `Python`. Como nosotros en este momento todavía trabajamos con la 3.8, hemos decidido crear una implementación:"
      ]
    },
    {
      "cell_type": "code",
      "metadata": {
        "id": "ewwBXjW5QPuf"
      },
      "source": [
        "def lcm(a, b):\n",
        "    return math.fabs(a*b) // math.gcd(a, b)"
      ],
      "execution_count": null,
      "outputs": []
    },
    {
      "cell_type": "code",
      "metadata": {
        "colab": {
          "base_uri": "https://localhost:8080/"
        },
        "id": "caIfGsCsROpr",
        "outputId": "24efd153-befe-4d7c-d96b-e35c7036aeab"
      },
      "source": [
        "lcm(16, 8)"
      ],
      "execution_count": null,
      "outputs": [
        {
          "output_type": "execute_result",
          "data": {
            "text/plain": [
              "16.0"
            ]
          },
          "metadata": {
            "tags": []
          },
          "execution_count": 5
        }
      ]
    },
    {
      "cell_type": "markdown",
      "metadata": {
        "id": "BACNzbZrHtig"
      },
      "source": [
        "#### Combinatoria\n",
        "\n",
        "**Factorial de $n$.** Dado un número entero positivo $n$, definimos su número factorial como $$n! = n\\cdot (n-1)\\cdot (n-2)\\cdots 2\\cdot 1$$\n",
        "\n",
        "Para calcular el factorial de un número entero, usamos el método `.factorial()`"
      ]
    },
    {
      "cell_type": "code",
      "metadata": {
        "colab": {
          "base_uri": "https://localhost:8080/"
        },
        "id": "GdYKbsuNINFd",
        "outputId": "4d27aaff-ec9d-4254-970b-b38232bfdd6d"
      },
      "source": [
        "math.factorial(10)"
      ],
      "execution_count": null,
      "outputs": [
        {
          "output_type": "execute_result",
          "data": {
            "text/plain": [
              "3628800"
            ]
          },
          "metadata": {
            "tags": []
          },
          "execution_count": 7
        }
      ]
    },
    {
      "cell_type": "markdown",
      "metadata": {
        "id": "2GFahBcnKS2H"
      },
      "source": [
        "**Número combinatorio ${n\\choose k}$.** El número de $n$ sobre $k$, siendo $n\\ge k$ ambos números enteros positivos, viene dado por\n",
        "\n",
        "$${n\\choose k} = \\frac{n!}{k!(n-k)!}$$\n",
        "\n",
        "Si quisiésemos calcular un número combinatorio, podríamos usar el método `.comb()`, pero existe un bug en el cual en versiones más recientes de `Python`, este método no forma parte del módulo `math`, de modo que hemos decidido implementar dicho método nosotros mismos."
      ]
    },
    {
      "cell_type": "code",
      "metadata": {
        "id": "7NaW9ue6LAnW"
      },
      "source": [
        "def choose(n, k):\n",
        "  if (n >= k and k >= 0):\n",
        "    return math.factorial(n) / (math.factorial(k) * math.factorial(n - k))\n",
        "  else:\n",
        "    return \"No se puede calcular el número factorial indicado\""
      ],
      "execution_count": null,
      "outputs": []
    },
    {
      "cell_type": "code",
      "metadata": {
        "colab": {
          "base_uri": "https://localhost:8080/"
        },
        "id": "F_DTTS31Mfrl",
        "outputId": "5db1cb41-845c-4541-e8f2-892c1a26a08f"
      },
      "source": [
        "choose(10, 2)"
      ],
      "execution_count": null,
      "outputs": [
        {
          "output_type": "execute_result",
          "data": {
            "text/plain": [
              "45.0"
            ]
          },
          "metadata": {
            "tags": []
          },
          "execution_count": 9
        }
      ]
    },
    {
      "cell_type": "markdown",
      "metadata": {
        "id": "r0XKKVz2Jvea"
      },
      "source": [
        "#### Valor absoluto\n",
        "\n",
        "Para calcular el valor absoluto de un número real $x$, utilizamos el método `.fabs()`"
      ]
    },
    {
      "cell_type": "code",
      "metadata": {
        "colab": {
          "base_uri": "https://localhost:8080/"
        },
        "id": "aD7Nztx3J4fD",
        "outputId": "d2936445-9222-4912-d273-2d560eab9cd3"
      },
      "source": [
        "x = -2.36\n",
        "math.fabs(x)"
      ],
      "execution_count": null,
      "outputs": [
        {
          "output_type": "execute_result",
          "data": {
            "text/plain": [
              "2.36"
            ]
          },
          "metadata": {
            "tags": []
          },
          "execution_count": 12
        }
      ]
    },
    {
      "cell_type": "markdown",
      "metadata": {
        "id": "62h1CuFYKO5x"
      },
      "source": [
        "#### Signo\n",
        "\n",
        "Dados dos números reales $x$ e $y$, si usamos el método `.copysign()` obtendremos como resultado el valor absoluto del primer parámetro introducido, $x$, pero con el signo dado por el segundo parámetro, $y$."
      ]
    },
    {
      "cell_type": "code",
      "metadata": {
        "colab": {
          "base_uri": "https://localhost:8080/"
        },
        "id": "Vw1Rpm6hM4VG",
        "outputId": "adb12e9f-7c8a-4c68-de65-3bea0519e3e2"
      },
      "source": [
        "x = 2.5\n",
        "y = -3.4\n",
        "math.copysign(x, y)"
      ],
      "execution_count": null,
      "outputs": [
        {
          "output_type": "execute_result",
          "data": {
            "text/plain": [
              "-2.5"
            ]
          },
          "metadata": {
            "tags": []
          },
          "execution_count": 13
        }
      ]
    },
    {
      "cell_type": "code",
      "metadata": {
        "colab": {
          "base_uri": "https://localhost:8080/"
        },
        "id": "C2DWqmJmM9qZ",
        "outputId": "e09966d5-3f1f-4071-b35d-e0932ecfac0d"
      },
      "source": [
        "x = -2.5\n",
        "y = -3.4\n",
        "math.copysign(x, y)"
      ],
      "execution_count": null,
      "outputs": [
        {
          "output_type": "execute_result",
          "data": {
            "text/plain": [
              "-2.5"
            ]
          },
          "metadata": {
            "tags": []
          },
          "execution_count": 14
        }
      ]
    },
    {
      "cell_type": "code",
      "metadata": {
        "colab": {
          "base_uri": "https://localhost:8080/"
        },
        "id": "25-r_127NHCB",
        "outputId": "683fb1f8-ec25-4d3b-b857-51f5b76bc7a6"
      },
      "source": [
        "x = -2.5\n",
        "y = 3.4\n",
        "math.copysign(x, y)"
      ],
      "execution_count": null,
      "outputs": [
        {
          "output_type": "execute_result",
          "data": {
            "text/plain": [
              "2.5"
            ]
          },
          "metadata": {
            "tags": []
          },
          "execution_count": 15
        }
      ]
    },
    {
      "cell_type": "code",
      "metadata": {
        "colab": {
          "base_uri": "https://localhost:8080/"
        },
        "id": "rU8Xkt4pNHKd",
        "outputId": "00b2aa4f-9b83-44ce-92e2-49a7e1f23dd2"
      },
      "source": [
        "x = 2.5\n",
        "y = 3.4\n",
        "math.copysign(x, y)"
      ],
      "execution_count": null,
      "outputs": [
        {
          "output_type": "execute_result",
          "data": {
            "text/plain": [
              "2.5"
            ]
          },
          "metadata": {
            "tags": []
          },
          "execution_count": 16
        }
      ]
    },
    {
      "cell_type": "markdown",
      "metadata": {
        "id": "w8detU-Ab08s"
      },
      "source": [
        "#### Funciones trigonométricas\n",
        "\n",
        "Todas las funciones tringonométricas toman como parámetro radianes o bien, devuelven el resultado en radianes."
      ]
    },
    {
      "cell_type": "markdown",
      "metadata": {
        "id": "5NypAafae7QV"
      },
      "source": [
        "Para convertir de grados a radianes, podemos usar el método `.radians()`"
      ]
    },
    {
      "cell_type": "code",
      "metadata": {
        "colab": {
          "base_uri": "https://localhost:8080/"
        },
        "id": "T2cQrJVofA_S",
        "outputId": "61cea2fe-31c7-48fd-8f8f-ca76acfd541a"
      },
      "source": [
        "math.radians(90)"
      ],
      "execution_count": null,
      "outputs": [
        {
          "output_type": "execute_result",
          "data": {
            "text/plain": [
              "1.5707963267948966"
            ]
          },
          "metadata": {
            "tags": []
          },
          "execution_count": 17
        }
      ]
    },
    {
      "cell_type": "markdown",
      "metadata": {
        "id": "ZEGJ5Me5fKwL"
      },
      "source": [
        "Para convertir de radianes a grados, podemos usar el método `.degrees()`"
      ]
    },
    {
      "cell_type": "code",
      "metadata": {
        "colab": {
          "base_uri": "https://localhost:8080/"
        },
        "id": "WOj6IccIfGb5",
        "outputId": "101cdb3b-7f33-42a4-8a6f-889b8c7cdb8b"
      },
      "source": [
        "math.degrees(math.pi/2)"
      ],
      "execution_count": null,
      "outputs": [
        {
          "output_type": "execute_result",
          "data": {
            "text/plain": [
              "90.0"
            ]
          },
          "metadata": {
            "tags": []
          },
          "execution_count": 18
        }
      ]
    },
    {
      "cell_type": "markdown",
      "metadata": {
        "id": "rPeBaf-tcARM"
      },
      "source": [
        "La función seno se calcula con el método `.sin()`"
      ]
    },
    {
      "cell_type": "code",
      "metadata": {
        "colab": {
          "base_uri": "https://localhost:8080/"
        },
        "id": "C-98XYjecEp7",
        "outputId": "8ed93426-6f8b-442c-8c00-d34ff46ca069"
      },
      "source": [
        "math.sin(math.pi/2)"
      ],
      "execution_count": null,
      "outputs": [
        {
          "output_type": "execute_result",
          "data": {
            "text/plain": [
              "1.0"
            ]
          },
          "metadata": {
            "tags": []
          },
          "execution_count": 19
        }
      ]
    },
    {
      "cell_type": "markdown",
      "metadata": {
        "id": "5zU1BzEUcW1q"
      },
      "source": [
        "La función coseno se calcula con el método `.cos()`"
      ]
    },
    {
      "cell_type": "code",
      "metadata": {
        "colab": {
          "base_uri": "https://localhost:8080/"
        },
        "id": "2KViX5OccYxY",
        "outputId": "470d88c7-7803-42f3-d785-fd036ee5e093"
      },
      "source": [
        "math.cos(math.pi/2)"
      ],
      "execution_count": null,
      "outputs": [
        {
          "output_type": "execute_result",
          "data": {
            "text/plain": [
              "6.123233995736766e-17"
            ]
          },
          "metadata": {
            "tags": []
          },
          "execution_count": 20
        }
      ]
    },
    {
      "cell_type": "markdown",
      "metadata": {
        "id": "45_2Owv7caQW"
      },
      "source": [
        "La función tangente se calcula con el método `.tan()`"
      ]
    },
    {
      "cell_type": "code",
      "metadata": {
        "colab": {
          "base_uri": "https://localhost:8080/"
        },
        "id": "w4h_QP7BccPe",
        "outputId": "b9972e58-0166-4eb0-8f0b-5eb40f91a424"
      },
      "source": [
        "math.tan(math.pi/4)"
      ],
      "execution_count": null,
      "outputs": [
        {
          "output_type": "execute_result",
          "data": {
            "text/plain": [
              "0.9999999999999999"
            ]
          },
          "metadata": {
            "tags": []
          },
          "execution_count": 84
        }
      ]
    },
    {
      "cell_type": "markdown",
      "metadata": {
        "id": "gmhhT4R3cpWJ"
      },
      "source": [
        "La función arcoseno se calcula con el método `.asin()`"
      ]
    },
    {
      "cell_type": "code",
      "metadata": {
        "colab": {
          "base_uri": "https://localhost:8080/"
        },
        "id": "Rub0SPHycvLm",
        "outputId": "64bca66e-6bd5-494c-e0d8-2b93c571d113"
      },
      "source": [
        "math.asin(1)"
      ],
      "execution_count": null,
      "outputs": [
        {
          "output_type": "execute_result",
          "data": {
            "text/plain": [
              "1.5707963267948966"
            ]
          },
          "metadata": {
            "tags": []
          },
          "execution_count": 21
        }
      ]
    },
    {
      "cell_type": "markdown",
      "metadata": {
        "id": "1wz2tLb2csAz"
      },
      "source": [
        "La función arcocoseno se calcula con el método `.acos()`"
      ]
    },
    {
      "cell_type": "code",
      "metadata": {
        "colab": {
          "base_uri": "https://localhost:8080/"
        },
        "id": "xP8IFi9kcuK_",
        "outputId": "170b35f8-b8bb-40c3-c89e-169859868414"
      },
      "source": [
        "math.acos(0)"
      ],
      "execution_count": null,
      "outputs": [
        {
          "output_type": "execute_result",
          "data": {
            "text/plain": [
              "1.5707963267948966"
            ]
          },
          "metadata": {
            "tags": []
          },
          "execution_count": 22
        }
      ]
    },
    {
      "cell_type": "markdown",
      "metadata": {
        "id": "YUIVDGppc1pe"
      },
      "source": [
        "La función arcotangenet se calcula con el método `.atan()`"
      ]
    },
    {
      "cell_type": "code",
      "metadata": {
        "colab": {
          "base_uri": "https://localhost:8080/"
        },
        "id": "DNCmwXpIc4Au",
        "outputId": "9f768889-e43f-4230-9e08-17e3816af2be"
      },
      "source": [
        "math.atan(1)"
      ],
      "execution_count": null,
      "outputs": [
        {
          "output_type": "execute_result",
          "data": {
            "text/plain": [
              "0.7853981633974483"
            ]
          },
          "metadata": {
            "tags": []
          },
          "execution_count": 23
        }
      ]
    },
    {
      "cell_type": "markdown",
      "metadata": {
        "id": "BUvPJlhrdImJ"
      },
      "source": [
        "Existe el método `.atan2()` que toma dos parámetros, $y$ en primer lugar y $x$ en segundo, que proceden de las coordenadas del punto $(x,y)$. El propósito de este método es que devuelve el resultado en el intervalo $(-\\pi, \\pi]$, pues conoce el signo de ambas coordenadas, de modo que puede computar el correcto cuadrante para el ángulo correspondiente al formado por el punto $(x,y)$ con respecto a la parte positiva del eje horizontal."
      ]
    },
    {
      "cell_type": "code",
      "metadata": {
        "colab": {
          "base_uri": "https://localhost:8080/"
        },
        "id": "UqL1NlSqeGP_",
        "outputId": "6c43677b-8e78-4243-e67b-0039e7d246d5"
      },
      "source": [
        "math.atan2(1, 1)"
      ],
      "execution_count": null,
      "outputs": [
        {
          "output_type": "execute_result",
          "data": {
            "text/plain": [
              "0.7853981633974483"
            ]
          },
          "metadata": {
            "tags": []
          },
          "execution_count": 24
        }
      ]
    },
    {
      "cell_type": "code",
      "metadata": {
        "colab": {
          "base_uri": "https://localhost:8080/"
        },
        "id": "XfPg9fUMeJr5",
        "outputId": "cc36c10e-d632-4754-ad1a-1a80a800f7d8"
      },
      "source": [
        "math.atan2(-1, -1)"
      ],
      "execution_count": null,
      "outputs": [
        {
          "output_type": "execute_result",
          "data": {
            "text/plain": [
              "-2.356194490192345"
            ]
          },
          "metadata": {
            "tags": []
          },
          "execution_count": 25
        }
      ]
    },
    {
      "cell_type": "markdown",
      "metadata": {
        "id": "gTcu9gPfePuC"
      },
      "source": [
        "El método `.hypot()` calcula la norma euclídea del vector 2-dimensional cuyas coordenadas indicamos por parámetro\n",
        "\n",
        "**Norma euclídea.** La norma euclídea de un vector $x$ $2$-dimensional viene dada por\n",
        "\n",
        "$$||x|| = \\sqrt{x_1^2 + x_2^2}$$"
      ]
    },
    {
      "cell_type": "code",
      "metadata": {
        "colab": {
          "base_uri": "https://localhost:8080/"
        },
        "id": "zCamKL2WeUzP",
        "outputId": "e60246b4-36e6-4211-a64e-9493a1639532"
      },
      "source": [
        "# Norma euclídea del vector (3, 4)\n",
        "math.hypot(3, 4)"
      ],
      "execution_count": null,
      "outputs": [
        {
          "output_type": "execute_result",
          "data": {
            "text/plain": [
              "5.0"
            ]
          },
          "metadata": {
            "tags": []
          },
          "execution_count": 33
        }
      ]
    },
    {
      "cell_type": "markdown",
      "metadata": {
        "id": "6WQ8tQhafa4S"
      },
      "source": [
        "#### Funciones hiperbólicas\n",
        "\n",
        "De nuevo, o bien los parámetros o bien los resultados de estas funciones se encuentran en radianes."
      ]
    },
    {
      "cell_type": "markdown",
      "metadata": {
        "id": "DkgwowPjgw4_"
      },
      "source": [
        "El seno hiperbólico se calcula con el método `.sinh()`"
      ]
    },
    {
      "cell_type": "code",
      "metadata": {
        "colab": {
          "base_uri": "https://localhost:8080/"
        },
        "id": "3I8KouQmhEmQ",
        "outputId": "6caea20f-653a-49a3-cef5-7faa1d005bf0"
      },
      "source": [
        "math.sinh(math.pi)"
      ],
      "execution_count": null,
      "outputs": [
        {
          "output_type": "execute_result",
          "data": {
            "text/plain": [
              "11.548739357257748"
            ]
          },
          "metadata": {
            "tags": []
          },
          "execution_count": 2
        }
      ]
    },
    {
      "cell_type": "markdown",
      "metadata": {
        "id": "djz8Teecg5rI"
      },
      "source": [
        "El coseno hiperbólico se calcula con el método `.cosh()`"
      ]
    },
    {
      "cell_type": "code",
      "metadata": {
        "colab": {
          "base_uri": "https://localhost:8080/"
        },
        "id": "Y5zKqzx5hJXr",
        "outputId": "a8366e32-26aa-46d9-e76a-cab92d39f279"
      },
      "source": [
        "math.cosh(math.pi)"
      ],
      "execution_count": null,
      "outputs": [
        {
          "output_type": "execute_result",
          "data": {
            "text/plain": [
              "11.591953275521519"
            ]
          },
          "metadata": {
            "tags": []
          },
          "execution_count": 4
        }
      ]
    },
    {
      "cell_type": "markdown",
      "metadata": {
        "id": "cdoaDrx7g549"
      },
      "source": [
        "La tangente hiperbólica se calcula con el método `.tanh()`"
      ]
    },
    {
      "cell_type": "code",
      "metadata": {
        "colab": {
          "base_uri": "https://localhost:8080/"
        },
        "id": "i7dKd1_qhOWT",
        "outputId": "f1c4815d-faf3-4489-811a-71109e694914"
      },
      "source": [
        "math.tanh(math.pi)"
      ],
      "execution_count": null,
      "outputs": [
        {
          "output_type": "execute_result",
          "data": {
            "text/plain": [
              "0.99627207622075"
            ]
          },
          "metadata": {
            "tags": []
          },
          "execution_count": 5
        }
      ]
    },
    {
      "cell_type": "markdown",
      "metadata": {
        "id": "5xewt9NGg6GE"
      },
      "source": [
        "El arcoseno hiperbólico se calcula con el método `.asinh()`"
      ]
    },
    {
      "cell_type": "code",
      "metadata": {
        "colab": {
          "base_uri": "https://localhost:8080/"
        },
        "id": "WJdNhh3xhS86",
        "outputId": "d14c5965-cf6c-428e-f72c-cb5139d6b8f5"
      },
      "source": [
        "math.asinh(11.548739357257748)"
      ],
      "execution_count": null,
      "outputs": [
        {
          "output_type": "execute_result",
          "data": {
            "text/plain": [
              "3.141592653589793"
            ]
          },
          "metadata": {
            "tags": []
          },
          "execution_count": 7
        }
      ]
    },
    {
      "cell_type": "markdown",
      "metadata": {
        "id": "wRS2vRhhg6Tf"
      },
      "source": [
        "El arcocoseno hiperbólico se calcula con el método `.acosh()`"
      ]
    },
    {
      "cell_type": "code",
      "metadata": {
        "colab": {
          "base_uri": "https://localhost:8080/"
        },
        "id": "rXtYr1NmhfQ2",
        "outputId": "f63d2652-98b8-4ad0-85c3-1d52bf834a90"
      },
      "source": [
        "math.acosh(11.591953275521519)"
      ],
      "execution_count": null,
      "outputs": [
        {
          "output_type": "execute_result",
          "data": {
            "text/plain": [
              "3.141592653589793"
            ]
          },
          "metadata": {
            "tags": []
          },
          "execution_count": 8
        }
      ]
    },
    {
      "cell_type": "markdown",
      "metadata": {
        "id": "pwzY-DD4g6gX"
      },
      "source": [
        "La arcotangente hiperbólica se calcula con el método `.atanh()`"
      ]
    },
    {
      "cell_type": "code",
      "metadata": {
        "colab": {
          "base_uri": "https://localhost:8080/"
        },
        "id": "N-y-9GlWhbDg",
        "outputId": "f71245e5-c361-4532-82e1-603f472179ec"
      },
      "source": [
        "math.atanh(0.99627207622075)"
      ],
      "execution_count": null,
      "outputs": [
        {
          "output_type": "execute_result",
          "data": {
            "text/plain": [
              "3.141592653589798"
            ]
          },
          "metadata": {
            "tags": []
          },
          "execution_count": 12
        }
      ]
    },
    {
      "cell_type": "markdown",
      "metadata": {
        "id": "o-SXKMg4RVfq"
      },
      "source": [
        "#### Funciones de clasificación\n",
        "\n",
        "Para comprobar si dos números son cercanos, concepto que dependerá de las tolerancias relativa y absoluta indicadas, usamos el método `isclose()`\n",
        "\n",
        "* La tolerancia relativa, `rel_tol`, es la diferencia máxima permitida entre los parámetros `a` y `b`, relativa al mayor valor absoluto de dichos parámetros. La tolerancia relativa se encuentra en el intervalo [0, 1].\n",
        "* La tolerancia absoluta es la tolerancia absoluta mínima. Como mínimo debe valer 0."
      ]
    },
    {
      "cell_type": "code",
      "metadata": {
        "colab": {
          "base_uri": "https://localhost:8080/"
        },
        "id": "SHs_1tfeRhl-",
        "outputId": "95684cb2-b95e-424e-d85e-8284d273fdb0"
      },
      "source": [
        "math.isclose(4, 4.000000000001)"
      ],
      "execution_count": null,
      "outputs": [
        {
          "output_type": "execute_result",
          "data": {
            "text/plain": [
              "True"
            ]
          },
          "metadata": {
            "tags": []
          },
          "execution_count": 13
        }
      ]
    },
    {
      "cell_type": "code",
      "metadata": {
        "colab": {
          "base_uri": "https://localhost:8080/"
        },
        "id": "ietJh878SZYp",
        "outputId": "1818614c-3cf4-42a9-8f8f-4cf14ac2cb4c"
      },
      "source": [
        "math.isclose(4, 5, rel_tol = 0.5)"
      ],
      "execution_count": null,
      "outputs": [
        {
          "output_type": "execute_result",
          "data": {
            "text/plain": [
              "True"
            ]
          },
          "metadata": {
            "tags": []
          },
          "execution_count": 15
        }
      ]
    },
    {
      "cell_type": "markdown",
      "metadata": {
        "id": "ifgrEcFNSg5I"
      },
      "source": [
        "El método `.isfinite()` nos devolverá `True` siempre que el parámetro `x` introducido no se trate ni del infinito ni de un valor `NaN`."
      ]
    },
    {
      "cell_type": "code",
      "metadata": {
        "colab": {
          "base_uri": "https://localhost:8080/"
        },
        "id": "yv8G6kckSrI_",
        "outputId": "e0761d31-b46f-4f7b-c7ac-09bfd868cd01"
      },
      "source": [
        "math.isfinite(2.8)"
      ],
      "execution_count": null,
      "outputs": [
        {
          "output_type": "execute_result",
          "data": {
            "text/plain": [
              "True"
            ]
          },
          "metadata": {
            "tags": []
          },
          "execution_count": 16
        }
      ]
    },
    {
      "cell_type": "code",
      "metadata": {
        "colab": {
          "base_uri": "https://localhost:8080/"
        },
        "id": "W76-wPJ4StWz",
        "outputId": "97e1333a-a47e-4d2f-bdef-36f02aed9022"
      },
      "source": [
        "math.isfinite(math.nan)"
      ],
      "execution_count": null,
      "outputs": [
        {
          "output_type": "execute_result",
          "data": {
            "text/plain": [
              "False"
            ]
          },
          "metadata": {
            "tags": []
          },
          "execution_count": 17
        }
      ]
    },
    {
      "cell_type": "code",
      "metadata": {
        "colab": {
          "base_uri": "https://localhost:8080/"
        },
        "id": "14jxf9xJZ4Bo",
        "outputId": "147a27f7-be79-4af5-b543-8d4a82ea4048"
      },
      "source": [
        "math.isfinite(math.inf)"
      ],
      "execution_count": null,
      "outputs": [
        {
          "output_type": "execute_result",
          "data": {
            "text/plain": [
              "False"
            ]
          },
          "metadata": {
            "tags": []
          },
          "execution_count": 21
        }
      ]
    },
    {
      "cell_type": "markdown",
      "metadata": {
        "id": "bbwKj3VoS2xP"
      },
      "source": [
        "Por el contrario, el método `.isinf()` nos devolverá `True` si el parámetro introducido `x` se trata de un valor infinito."
      ]
    },
    {
      "cell_type": "code",
      "metadata": {
        "colab": {
          "base_uri": "https://localhost:8080/"
        },
        "id": "qoFs88ENTBaf",
        "outputId": "d8e4f98c-bdeb-495a-cf03-aed681edf2ee"
      },
      "source": [
        "math.isinf(2.8)"
      ],
      "execution_count": null,
      "outputs": [
        {
          "output_type": "execute_result",
          "data": {
            "text/plain": [
              "False"
            ]
          },
          "metadata": {
            "tags": []
          },
          "execution_count": 18
        }
      ]
    },
    {
      "cell_type": "code",
      "metadata": {
        "colab": {
          "base_uri": "https://localhost:8080/"
        },
        "id": "TtQZqmD7TDc5",
        "outputId": "41a5fe3b-68a7-4260-b91c-df7991d6b571"
      },
      "source": [
        "math.isinf(math.inf)"
      ],
      "execution_count": null,
      "outputs": [
        {
          "output_type": "execute_result",
          "data": {
            "text/plain": [
              "True"
            ]
          },
          "metadata": {
            "tags": []
          },
          "execution_count": 19
        }
      ]
    },
    {
      "cell_type": "code",
      "metadata": {
        "colab": {
          "base_uri": "https://localhost:8080/"
        },
        "id": "tlG9KWF1Zxv9",
        "outputId": "59ae0876-a4d1-4d82-998c-13ea26a3cea0"
      },
      "source": [
        "math.isinf(math.nan)"
      ],
      "execution_count": null,
      "outputs": [
        {
          "output_type": "execute_result",
          "data": {
            "text/plain": [
              "False"
            ]
          },
          "metadata": {
            "tags": []
          },
          "execution_count": 20
        }
      ]
    },
    {
      "cell_type": "markdown",
      "metadata": {
        "id": "1JoNYq3Yalwc"
      },
      "source": [
        "También tenemos el método `is.nan()` que nos devuelve `True` si el parámetro `x` se trata de un valor `NaN`"
      ]
    },
    {
      "cell_type": "code",
      "metadata": {
        "colab": {
          "base_uri": "https://localhost:8080/"
        },
        "id": "lJMrEAtEayy7",
        "outputId": "20064972-bd8d-4e0e-d2b8-29b29430564b"
      },
      "source": [
        "math.isnan(math.nan)"
      ],
      "execution_count": null,
      "outputs": [
        {
          "output_type": "execute_result",
          "data": {
            "text/plain": [
              "True"
            ]
          },
          "metadata": {
            "tags": []
          },
          "execution_count": 22
        }
      ]
    },
    {
      "cell_type": "markdown",
      "metadata": {
        "id": "BWP5zxeKiKsN"
      },
      "source": [
        "#### Funciones especiales"
      ]
    },
    {
      "cell_type": "markdown",
      "metadata": {
        "id": "UFwUJn_SiMql"
      },
      "source": [
        "Ya para terminar con el módulo `math`, veremos 4 métodos más:\n",
        "\n",
        "El método `.erf()` sirve para calcular la función de error en el valor $x$ que indicamos por parámetro\n",
        "\n",
        "**Función error.** Viene dada por `erf(x)` = $\\frac{2}{\\pi}\\int_0^xe^{-t^2}dt$"
      ]
    },
    {
      "cell_type": "code",
      "metadata": {
        "colab": {
          "base_uri": "https://localhost:8080/"
        },
        "id": "NLlRMyDPiMDq",
        "outputId": "f11e5b76-93a6-4fa6-e0a6-6430107a2f0f"
      },
      "source": [
        "math.erf(25 / math.sqrt(2))"
      ],
      "execution_count": null,
      "outputs": [
        {
          "output_type": "execute_result",
          "data": {
            "text/plain": [
              "1.0"
            ]
          },
          "metadata": {
            "tags": []
          },
          "execution_count": 23
        }
      ]
    },
    {
      "cell_type": "markdown",
      "metadata": {
        "id": "vqlEwTwYimXT"
      },
      "source": [
        "El método `.erfc()` sirve para calcular el complementario de la función error en el valor $x$ que introducimos por parámetro. Este viene dado por `erfc(x) =  1 - erf(x)`"
      ]
    },
    {
      "cell_type": "code",
      "metadata": {
        "colab": {
          "base_uri": "https://localhost:8080/"
        },
        "id": "cAaqJviSilwb",
        "outputId": "ecbc0a93-3c45-4c56-c656-8b88709bd12d"
      },
      "source": [
        "math.erfc(25 / math.sqrt(2))"
      ],
      "execution_count": null,
      "outputs": [
        {
          "output_type": "execute_result",
          "data": {
            "text/plain": [
              "6.113393412765814e-138"
            ]
          },
          "metadata": {
            "tags": []
          },
          "execution_count": 24
        }
      ]
    },
    {
      "cell_type": "markdown",
      "metadata": {
        "id": "jgmiSwVvjZCK"
      },
      "source": [
        "El método `.gamma()` nos calcula el valor de la función Gamma en $x$, donde la función Gamma viene dada por\n",
        "\n",
        "$$\\Gamma(x) = \\int_0^{\\infty}y^{x-1}e^{-y}dy$$"
      ]
    },
    {
      "cell_type": "markdown",
      "metadata": {
        "id": "YJu7WabhbrU_"
      },
      "source": [
        "$\\Gamma(x) = (x-1)!$ si $x$ es un número entero"
      ]
    },
    {
      "cell_type": "code",
      "metadata": {
        "colab": {
          "base_uri": "https://localhost:8080/"
        },
        "id": "jqGwE6uXjdY0",
        "outputId": "d097acaf-09a8-469a-8933-50ccc2cc0080"
      },
      "source": [
        "math.gamma(3)"
      ],
      "execution_count": null,
      "outputs": [
        {
          "output_type": "execute_result",
          "data": {
            "text/plain": [
              "2.0"
            ]
          },
          "metadata": {
            "tags": []
          },
          "execution_count": 29
        }
      ]
    },
    {
      "cell_type": "markdown",
      "metadata": {
        "id": "qC__8QZXj3S-"
      },
      "source": [
        "Por último, el método `.lgamma()` nos devuelve el logaritmo neperiano del valor de la función Gamma evaluada en $x$. Es decir, nos calcula $\\log(\\Gamma(x))$"
      ]
    },
    {
      "cell_type": "code",
      "metadata": {
        "colab": {
          "base_uri": "https://localhost:8080/"
        },
        "id": "H5LDau1WkD8d",
        "outputId": "3e954577-5426-49d7-9eb4-343786328808"
      },
      "source": [
        "math.lgamma(3)"
      ],
      "execution_count": null,
      "outputs": [
        {
          "output_type": "execute_result",
          "data": {
            "text/plain": [
              "0.693147180559945"
            ]
          },
          "metadata": {
            "tags": []
          },
          "execution_count": 30
        }
      ]
    },
    {
      "cell_type": "code",
      "metadata": {
        "colab": {
          "base_uri": "https://localhost:8080/"
        },
        "id": "EPePHQ0QkGnW",
        "outputId": "03c421bb-7971-424f-db74-378f3faee5af"
      },
      "source": [
        "math.log(math.gamma(3))"
      ],
      "execution_count": null,
      "outputs": [
        {
          "output_type": "execute_result",
          "data": {
            "text/plain": [
              "0.6931471805599453"
            ]
          },
          "metadata": {
            "tags": []
          },
          "execution_count": 31
        }
      ]
    },
    {
      "cell_type": "markdown",
      "metadata": {
        "id": "3ake2y2wV7Mz"
      },
      "source": [
        "## `cmath`"
      ]
    },
    {
      "cell_type": "markdown",
      "metadata": {
        "id": "AMh7QFaOSOcf"
      },
      "source": [
        "El módulo `cmath` nos proporciona funciones matemáticas definidas según los estándares del lenguaje de programación `C` que pueden usarse con números complejos a modo de argumento."
      ]
    },
    {
      "cell_type": "code",
      "metadata": {
        "id": "qrhYAdn9UBv8"
      },
      "source": [
        "import cmath"
      ],
      "execution_count": null,
      "outputs": []
    },
    {
      "cell_type": "markdown",
      "metadata": {
        "id": "w7wJnDVgSkGg"
      },
      "source": [
        "### Constantes del módulo `cmath`\n",
        "\n",
        "Además de tener las mismas constantes que el módulo `math`\n",
        "\n",
        "* `cmath.pi`\n",
        "* `cmath.e`\n",
        "* `cmath.tau`\n",
        "* `cmath.inf`\n",
        "* `cmath.nan`\n",
        "\n",
        "el módulo `cmath` consta de 2 constantes extras:\n",
        "\n",
        "* `cmath.infj`: se trata del número complejo cuya parte real vale 0 y cuya parte imaginaria vale $\\infty$\n",
        "* `cmath.nanj`: se trata del número complejo cuya parte real vale 0 y cuya parte imaginaria vale `NaN`"
      ]
    },
    {
      "cell_type": "markdown",
      "metadata": {
        "id": "mIKirVsJTXeW"
      },
      "source": [
        "### Métodos del módulo `cmath`"
      ]
    },
    {
      "cell_type": "markdown",
      "metadata": {
        "id": "1LSVHUKiTbbj"
      },
      "source": [
        "#### Coordenadas polares\n",
        "\n",
        "El método `.phase()` nos calcula el argumento del número complejo `x` que introducimos por parámetro. El resultado es devuelto en radianes dentro del intervalo $[-\\pi, \\pi]$\n",
        "\n"
      ]
    },
    {
      "cell_type": "code",
      "metadata": {
        "colab": {
          "base_uri": "https://localhost:8080/"
        },
        "id": "MK9hDeVIT-_q",
        "outputId": "03d1cf8e-ef51-40eb-b927-311ede7a9e94"
      },
      "source": [
        "cmath.phase(complex(-1, 0))"
      ],
      "execution_count": null,
      "outputs": [
        {
          "output_type": "execute_result",
          "data": {
            "text/plain": [
              "3.141592653589793"
            ]
          },
          "metadata": {
            "tags": []
          },
          "execution_count": 37
        }
      ]
    },
    {
      "cell_type": "markdown",
      "metadata": {
        "id": "bbehG6szT_OP"
      },
      "source": [
        "Para pasar de coordenadas rectangulares a coordenadas polares, hacemos uso del método `.polar()`"
      ]
    },
    {
      "cell_type": "code",
      "metadata": {
        "colab": {
          "base_uri": "https://localhost:8080/"
        },
        "id": "cjzx2SDbUH1u",
        "outputId": "c0705715-c7ea-45aa-b7c6-02e373b6f676"
      },
      "source": [
        "cmath.polar(complex(-1, 0))"
      ],
      "execution_count": null,
      "outputs": [
        {
          "output_type": "execute_result",
          "data": {
            "text/plain": [
              "(1.0, 3.141592653589793)"
            ]
          },
          "metadata": {
            "tags": []
          },
          "execution_count": 38
        }
      ]
    },
    {
      "cell_type": "markdown",
      "metadata": {
        "id": "AED-yLAwUK1d"
      },
      "source": [
        "Si queremos hacer el cambio inverso, es decir, pasar de coordenadas polares a coordenadas cartesianas, entonces usamos el método `.rect()`, donde como primer parámetro pasamos el módulo, y en segundo lugar, el argumento del número complejo en cuestión."
      ]
    },
    {
      "cell_type": "code",
      "metadata": {
        "colab": {
          "base_uri": "https://localhost:8080/"
        },
        "id": "0IqPMj22UZKe",
        "outputId": "15839ebb-1c8d-4c5f-f681-07a5a7a5614b"
      },
      "source": [
        "cmath.rect(1, cmath.pi)"
      ],
      "execution_count": null,
      "outputs": [
        {
          "output_type": "execute_result",
          "data": {
            "text/plain": [
              "(-1+1.2246467991473532e-16j)"
            ]
          },
          "metadata": {
            "tags": []
          },
          "execution_count": 39
        }
      ]
    },
    {
      "cell_type": "markdown",
      "metadata": {
        "id": "NmVGSqdtUr0z"
      },
      "source": [
        "#### Potencias y logaritmos\n",
        "\n",
        "Los métodos que encontramos en este módulo en relación al cálculo de potencias y logartimos, son algunos de los que ya vimos en el módulo `math`:\n",
        "\n",
        "* `cmath.exp()`: calcula $e^x$, donde `x` es el número complejo que introducimos por parámetro\n",
        "* `cmath.log()`: si no indicamos la base, por defecto se calcula el logaritmo neperiano de $x$, siendo `x` el número complejo indicado por parámetro. Si por el contrario introducimos un segundo argumento, la base, entonces se calculará el logaritmo en la base indicada del número complejo `x`\n",
        "* `cmath.log10()`: calcula el logartimo en base 10 de $x$, siendo `x` el número complejo introducido por parámetro\n",
        "* `cmath.sqrt()`: calcula la raíz cuadrada del número complejo `x` indicado por parámetro"
      ]
    },
    {
      "cell_type": "code",
      "metadata": {
        "colab": {
          "base_uri": "https://localhost:8080/"
        },
        "id": "ph2UWfUxVg3v",
        "outputId": "ef8d5c71-cfed-4f3b-879a-4d4e4a153f66"
      },
      "source": [
        "x = complex(1, -1)\n",
        "print(\"x =\", x)\n",
        "print(\"e^x =\", cmath.exp(x))\n",
        "print(\"ln(x) =\", cmath.log(x))\n",
        "print(\"log_{10}(x) =\", cmath.log10(x))\n",
        "print(\"sqrt(x) =\", cmath.sqrt(x))"
      ],
      "execution_count": null,
      "outputs": [
        {
          "output_type": "stream",
          "text": [
            "x = (1-1j)\n",
            "e^x = (1.4686939399158851-2.2873552871788423j)\n",
            "ln(x) = (0.34657359027997264-0.7853981633974483j)\n",
            "log_{10}(x) = (0.15051499783199057-0.3410940884604603j)\n",
            "sqrt(x) = (1.09868411346781-0.45508986056222733j)\n"
          ],
          "name": "stdout"
        }
      ]
    },
    {
      "cell_type": "markdown",
      "metadata": {
        "id": "kwNmESbxWRS_"
      },
      "source": [
        "#### Funciones trigonométricas\n",
        "\n",
        "Para el caso de números complejos en `Python`, tenemos las siguientes funciones trigonométricas:\n",
        "\n",
        "* `cmath.sin()`\n",
        "* `cmath.cos()`\n",
        "* `cmath.tan()`\n",
        "* `cmath.asin()`\n",
        "* `cmath.acos()`\n",
        "* `cmath.atan()`"
      ]
    },
    {
      "cell_type": "code",
      "metadata": {
        "colab": {
          "base_uri": "https://localhost:8080/"
        },
        "id": "P9SSLXZUWkh4",
        "outputId": "0a192b0d-3762-4b62-b9dd-279fe24b84d0"
      },
      "source": [
        "x = complex(0, -1)\n",
        "print(\"x =\", x)\n",
        "print(\"sin(x) =\", cmath.sin(x))\n",
        "print(\"cos(x) =\", cmath.cos(x))\n",
        "print(\"tan(x) =\", cmath.tan(x))\n",
        "print(\"asin(-1.1752011936438014j) =\", cmath.asin(-1.1752011936438014j))\n",
        "print(\"acos(1.5430806348152437+0j) =\", cmath.acos(1.5430806348152437+0j))\n",
        "print(\"atan(-0.7615941559557649j) =\", cmath.atan(-0.7615941559557649j))"
      ],
      "execution_count": null,
      "outputs": [
        {
          "output_type": "stream",
          "text": [
            "x = -1j\n",
            "sin(x) = -1.1752011936438014j\n",
            "cos(x) = (1.5430806348152437+0j)\n",
            "tan(x) = -0.7615941559557649j\n",
            "asin(-1.1752011936438014j) = (-0-1j)\n",
            "acos(1.5430806348152437+0j) = -1j\n",
            "atan(-0.7615941559557649j) = (-0-0.9999999999999999j)\n"
          ],
          "name": "stdout"
        }
      ]
    },
    {
      "cell_type": "markdown",
      "metadata": {
        "id": "ICsSQZhVXKx5"
      },
      "source": [
        "#### Funciones hiperbólicas\n",
        "\n",
        "Las funciones hiperbólicas que vimos en el módulo `math` admiten el uso de números complejos a modo de parámetros si las llamamos desde el módulo `cmath`:\n",
        "\n",
        "* `cmath.sinh()`\n",
        "* `cmath.cosh()`\n",
        "* `cmath.tanh()`\n",
        "* `cmath.asinh()`\n",
        "* `cmath.acosh()`\n",
        "* `cmath.atanh()`"
      ]
    },
    {
      "cell_type": "code",
      "metadata": {
        "colab": {
          "base_uri": "https://localhost:8080/"
        },
        "id": "2I-ZtoZ1X0rn",
        "outputId": "d7a44cc1-af8c-43e6-b2a9-afc3109335af"
      },
      "source": [
        "x = complex(0, 1)\n",
        "print(\"x =\", x)\n",
        "print(\"sinh(x) =\", cmath.sinh(x))\n",
        "print(\"cosh(x) =\", cmath.cosh(x))\n",
        "print(\"tanh(x) =\", cmath.tanh(x))\n",
        "print(\"asinh(0.8414709848078965j) =\", cmath.asinh(0.8414709848078965j))\n",
        "print(\"acosh(0.5403023058681398+0j) =\", cmath.acosh(0.5403023058681398+0j))\n",
        "print(\"atanh(1.5574077246549023j) =\", cmath.atanh(1.5574077246549023j))"
      ],
      "execution_count": null,
      "outputs": [
        {
          "output_type": "stream",
          "text": [
            "x = 1j\n",
            "sinh(x) = 0.8414709848078965j\n",
            "cosh(x) = (0.5403023058681398+0j)\n",
            "tanh(x) = 1.5574077246549023j\n",
            "asinh(0.8414709848078965j) = 1j\n",
            "acosh(0.5403023058681398+0j) = 1j\n",
            "atanh(1.5574077246549023j) = 1j\n"
          ],
          "name": "stdout"
        }
      ]
    },
    {
      "cell_type": "markdown",
      "metadata": {
        "id": "HMF4ZNZUYYKP"
      },
      "source": [
        "#### Funciones de clasificación\n",
        "\n",
        "En el módulo `cmath` también hallamos las funciones de clasificación que tratamos al hablar del módulo `math`:\n",
        "\n",
        "* `cmath.isclose()`\n",
        "* `cmath.isfinite()`\n",
        "* `cmath.isinf()`\n",
        "* `cmath.isnan()`\n",
        "\n",
        "que funcionan exactamente igual, salvo por el hecho de que admiten números complejos como parámetro"
      ]
    },
    {
      "cell_type": "code",
      "metadata": {
        "colab": {
          "base_uri": "https://localhost:8080/"
        },
        "id": "DXlwueMjYqBl",
        "outputId": "e2780618-8ba7-4532-f1ed-eceaf8773bcb"
      },
      "source": [
        "# Comprobar si dos números complejos son cercanos según la tolerancia\n",
        "cmath.isclose(4j, 4.000000000001j)"
      ],
      "execution_count": null,
      "outputs": [
        {
          "output_type": "execute_result",
          "data": {
            "text/plain": [
              "True"
            ]
          },
          "metadata": {
            "tags": []
          },
          "execution_count": 44
        }
      ]
    },
    {
      "cell_type": "code",
      "metadata": {
        "colab": {
          "base_uri": "https://localhost:8080/"
        },
        "id": "N87tA6FwYxk8",
        "outputId": "1cd0e919-add2-4581-e075-d8bc06f3f0c4"
      },
      "source": [
        "# Comprobar si un número es finito\n",
        "cmath.isfinite(cmath.infj)"
      ],
      "execution_count": null,
      "outputs": [
        {
          "output_type": "execute_result",
          "data": {
            "text/plain": [
              "False"
            ]
          },
          "metadata": {
            "tags": []
          },
          "execution_count": 45
        }
      ]
    },
    {
      "cell_type": "code",
      "metadata": {
        "colab": {
          "base_uri": "https://localhost:8080/"
        },
        "id": "OlPzm-eUY09v",
        "outputId": "419ea457-27fb-4e5f-9517-b5dac8c04c7f"
      },
      "source": [
        "cmath.isfinite(5 + 5j)"
      ],
      "execution_count": null,
      "outputs": [
        {
          "output_type": "execute_result",
          "data": {
            "text/plain": [
              "True"
            ]
          },
          "metadata": {
            "tags": []
          },
          "execution_count": 46
        }
      ]
    },
    {
      "cell_type": "code",
      "metadata": {
        "colab": {
          "base_uri": "https://localhost:8080/"
        },
        "id": "zmI1CdArY5Vu",
        "outputId": "f1a188cd-6f07-46bc-f9fc-81b3079f023c"
      },
      "source": [
        "# Comprobar si un número es infinito\n",
        "cmath.isinf(cmath.infj)"
      ],
      "execution_count": null,
      "outputs": [
        {
          "output_type": "execute_result",
          "data": {
            "text/plain": [
              "True"
            ]
          },
          "metadata": {
            "tags": []
          },
          "execution_count": 47
        }
      ]
    },
    {
      "cell_type": "code",
      "metadata": {
        "colab": {
          "base_uri": "https://localhost:8080/"
        },
        "id": "hMO8csyJY-DA",
        "outputId": "40d9ff4d-9bfe-4b0c-b1af-c8a790d5864a"
      },
      "source": [
        "cmath.isinf(5 + 5j)"
      ],
      "execution_count": null,
      "outputs": [
        {
          "output_type": "execute_result",
          "data": {
            "text/plain": [
              "False"
            ]
          },
          "metadata": {
            "tags": []
          },
          "execution_count": 48
        }
      ]
    },
    {
      "cell_type": "code",
      "metadata": {
        "colab": {
          "base_uri": "https://localhost:8080/"
        },
        "id": "IuagQIbbZvag",
        "outputId": "2ae04b1b-c759-420d-f0f3-51174161c891"
      },
      "source": [
        "# Comprobar si un número es NaN\n",
        "cmath.isnan(cmath.nan + 1j)"
      ],
      "execution_count": null,
      "outputs": [
        {
          "output_type": "execute_result",
          "data": {
            "text/plain": [
              "True"
            ]
          },
          "metadata": {
            "tags": []
          },
          "execution_count": 49
        }
      ]
    },
    {
      "cell_type": "code",
      "metadata": {
        "colab": {
          "base_uri": "https://localhost:8080/"
        },
        "id": "UfnzRS9hZzFE",
        "outputId": "2a322ee0-a14c-484b-80e7-b26570df9d88"
      },
      "source": [
        "cmath.isnan(cmath.nanj)"
      ],
      "execution_count": null,
      "outputs": [
        {
          "output_type": "execute_result",
          "data": {
            "text/plain": [
              "True"
            ]
          },
          "metadata": {
            "tags": []
          },
          "execution_count": 50
        }
      ]
    },
    {
      "cell_type": "code",
      "metadata": {
        "colab": {
          "base_uri": "https://localhost:8080/"
        },
        "id": "jWXnMk7lZ2Kf",
        "outputId": "c147be5c-7ddb-480e-8622-8746804c8550"
      },
      "source": [
        "cmath.isnan(cmath.nan + cmath.nanj)"
      ],
      "execution_count": null,
      "outputs": [
        {
          "output_type": "execute_result",
          "data": {
            "text/plain": [
              "True"
            ]
          },
          "metadata": {
            "tags": []
          },
          "execution_count": 51
        }
      ]
    }
  ]
}