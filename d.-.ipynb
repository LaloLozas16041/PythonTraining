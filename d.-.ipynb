{
  "cells": [
    {
      "cell_type": "markdown",
      "id": "1397902e",
      "metadata": {
        "id": "1397902e"
      },
      "source": [
        "# Clase 4 Fundamentos de Python\n"
      ]
    },
    {
      "cell_type": "markdown",
      "id": "64e86232",
      "metadata": {
        "id": "64e86232"
      },
      "source": [
        "## Ejercicio 1\n",
        "Escribir una función que reciba una función y una lista de numeros, y que devuelva otra lista con el resultado de aplicar la función dada a cada uno de los elementos de la lista.\n",
        "\n",
        "- def aplicar_funcion(funcion_aplicar,lista) :\n",
        "    ????\n",
        "    return lista_nueva\n",
        "\n",
        "- def funcion_A(numero) :\n",
        "    ????\n",
        "    return calculo\n",
        "\n",
        "- def funcion_B(numero) :\n",
        "    ????\n",
        "    return calculo\n",
        "    \n",
        "aplicar_funcion(funcion_A,lista)  "
      ]
    },
    {
      "cell_type": "code",
      "execution_count": null,
      "id": "b6977ebf",
      "metadata": {
        "id": "b6977ebf",
        "outputId": "3b130671-0acf-4793-b787-18d4bbca2010"
      },
      "outputs": [
        {
          "ename": "SyntaxError",
          "evalue": "invalid syntax (1292183085.py, line 5)",
          "output_type": "error",
          "traceback": [
            "\u001b[0;36m  Cell \u001b[0;32mIn[1], line 5\u001b[0;36m\u001b[0m\n\u001b[0;31m    def aplicar_funcion(funct(),lista ):\u001b[0m\n\u001b[0m                             ^\u001b[0m\n\u001b[0;31mSyntaxError\u001b[0m\u001b[0;31m:\u001b[0m invalid syntax\n"
          ]
        }
      ],
      "source": [
        "def suma_uno (number):\n",
        "    sumauno = number +1\n",
        "    return sumauno\n",
        "\n",
        "def aplicar_funcion(funct,lista ):\n",
        "    new_list=[]\n",
        "    for i in list:\n",
        "        new_list = new_list.append(funct(lista[i]))\n",
        "    return new_list"
      ]
    },
    {
      "cell_type": "code",
      "execution_count": null,
      "id": "ae305187",
      "metadata": {
        "id": "ae305187",
        "outputId": "2c091fa4-f91f-4fca-feee-38d92631d6c3"
      },
      "outputs": [
        {
          "name": "stdout",
          "output_type": "stream",
          "text": [
            "[4, 36, 16, 49, 64, 16, 6084, 49]\n"
          ]
        }
      ],
      "source": [
        "lista = [2,6,4,7,8,4,78,7]\n",
        "\n",
        "def aplicar_funcion(funcion, listas):\n",
        "    nueva_lista = []\n",
        "    for x in listas:\n",
        "        nueva_lista.append(funcion(x))\n",
        "\n",
        "    return nueva_lista\n",
        "\n",
        "def potencia_2(num):\n",
        "    pot = num**2\n",
        "    return pot\n",
        "\n",
        "def raiz_cuadrada(num):\n",
        "    raiz = num ** (1/2)\n",
        "    return raiz\n",
        "\n",
        "print(aplicar_funcion(potencia_2,lista))"
      ]
    },
    {
      "cell_type": "code",
      "execution_count": null,
      "id": "9507dfba",
      "metadata": {
        "id": "9507dfba"
      },
      "outputs": [],
      "source": [
        "def suma_uno (number):\n",
        "    sumauno = number +1\n",
        "    return sumauno\n",
        "\n",
        "def aplicar_funcion(funct,lista ):\n",
        "    new_list=[]\n",
        "    for i in list:\n",
        "        new_list = new_list.append(funct(lista[i]))\n",
        "    return new_list"
      ]
    },
    {
      "cell_type": "code",
      "execution_count": null,
      "id": "0c24804d",
      "metadata": {
        "id": "0c24804d"
      },
      "outputs": [],
      "source": [
        "def suma_uno (number):\n",
        "    sumauno = number +1\n",
        "    return sumauno\n",
        "\n",
        "def aplicar_funcion(funct,lista ):\n",
        "    new_list=[]\n",
        "    for i in list:\n",
        "        new_list = new_list.append(funct(lista[i]))\n",
        "    return new_list"
      ]
    },
    {
      "cell_type": "code",
      "execution_count": null,
      "id": "5926820d",
      "metadata": {
        "id": "5926820d"
      },
      "outputs": [],
      "source": [
        "def suma_uno (number):\n",
        "    sumauno = number +1\n",
        "    return sumauno\n",
        "\n",
        "def aplicar_funcion(funct,lista ):\n",
        "    new_list=[]\n",
        "    for i in list:\n",
        "        new_list = new_list.append(funct(lista[i]))\n",
        "    return new_list"
      ]
    },
    {
      "cell_type": "code",
      "execution_count": null,
      "id": "c846373a",
      "metadata": {
        "id": "c846373a"
      },
      "outputs": [],
      "source": [
        "def aplicar_funcion(funcion, lista):\n",
        "    nueva_lista=[]\n",
        "    for num in lista:\n",
        "        nueva_lista.append(funcion(num))\n",
        "\n",
        "    return nueva_lista\n",
        "\n",
        "def funcion_A(numero):\n",
        "    return numero**2\n",
        "\n",
        "def funcion_B(numero):\n",
        "    return numero*2\n",
        "\n",
        "\n",
        "mi_lista=[1,2,3,4,5]\n",
        "print(aplicar_funcion(funcion_A,mi_lista))\n",
        "print(aplicar_funcion(funcion_B,mi_lista))"
      ]
    },
    {
      "cell_type": "markdown",
      "id": "fcf476e1",
      "metadata": {
        "id": "fcf476e1"
      },
      "source": [
        "## Ejercicio 2\n",
        "\n",
        "Crea un diccionario que represente tasas de conversión de una moneda internacional al peso mexicano y permite al usuario convertir una cantidad de pesos a otra moneda.\n",
        "\n",
        "Tasas de Conversión (MXN como unidad base 9/07/2023):\n",
        "\n",
        "- 1 USD (Dólar estadounidense) = 17.60 MXN\n",
        "- 1 EUR (Euro) = 18.83 MXN\n",
        "- 1 GBP (Libra esterlina) = 21.93 MXN\n",
        "- 1 JPY (Yen japonés) = 0.12 MXN\n",
        "- 1 CAD (Dólar canadiense) = 12.88 MXN"
      ]
    },
    {
      "cell_type": "code",
      "execution_count": null,
      "id": "ed6b7aa6",
      "metadata": {
        "id": "ed6b7aa6",
        "outputId": "29ebfbf8-b87c-4ed9-a3f1-b02e86512743"
      },
      "outputs": [
        {
          "name": "stdout",
          "output_type": "stream",
          "text": [
            "Moneda que deseas cambiarUSD\n",
            "Ingresa el valor en pesos MXN1000\n",
            "56.81818181818181\n"
          ]
        }
      ],
      "source": [
        "tabla_conversion_MXN= {\"USD\":17.60,\"EUR\":18.83,\"GBP\":21.93,\"JPY\":0.12,\"CAD\":12.88}\n",
        "\n",
        "moneda=input(\"Moneda que deseas cambiar\")\n",
        "def conversion(moneda):\n",
        "    if moneda not in tabla_conversion_MXN:\n",
        "        return(\"No tenemos informacion de cambio\")\n",
        "    else:\n",
        "        cant=float(input(\"Ingresa el valor en pesos MXN\"))\n",
        "        return cant / tabla_conversion_MXN[moneda]\n",
        "print(conversion(moneda))"
      ]
    },
    {
      "cell_type": "code",
      "execution_count": null,
      "id": "549f12e9",
      "metadata": {
        "id": "549f12e9",
        "outputId": "fc155470-e431-4dc8-88be-1060935a0ce5"
      },
      "outputs": [
        {
          "name": "stdout",
          "output_type": "stream",
          "text": [
            "Ingrese la cantidad a convertir: 1000\n",
            "Ingrese la monedad a la cual convertir: USD\n",
            "56.81818181818181\n"
          ]
        }
      ],
      "source": [
        "def convertir(tasa, cantidad):\n",
        "  tasas_conversion={'USD':17.60, 'EUR':18.83, 'GBP':21.93, 'JPY':0.12, 'CAD':12.88}\n",
        "  total= cantidad/tasas_conversion[tasa]\n",
        "  return total\n",
        "\n",
        "cantidad=float(input('Ingrese la cantidad a convertir: '))\n",
        "tasa=input('Ingrese la monedad a la cual convertir: ')\n",
        "print(convertir(tasa, cantidad))"
      ]
    },
    {
      "cell_type": "code",
      "execution_count": null,
      "id": "962f2093",
      "metadata": {
        "id": "962f2093",
        "outputId": "476c8962-bafe-4393-8b2d-a3003df1e978"
      },
      "outputs": [
        {
          "name": "stdout",
          "output_type": "stream",
          "text": [
            "Por favor ingresa cuanto quieres convertir\n",
            "1000\n",
            "Por favor ingresa a que moneda US, EUR, GBP, JPY, CAD\n",
            "US\n",
            "el monto es  56.81818181818181  en  17.6\n"
          ]
        }
      ],
      "source": [
        "#1 US = 17.6, 1 EUR =18.83, 1GBP = 21.93, 1JPY = .12 MXN, 1 CAD = 12.88 MXN\n",
        "convert = {'US' : 17.6, 'EUR' : 18.83, 'GBP' : 21.93, 'JPY' : .12, 'CAD' : 12.88}\n",
        "convert.keys\n",
        "\n",
        "print('Por favor ingresa cuanto quieres convertir')\n",
        "cantidad = input()\n",
        "cantidad = float(cantidad)\n",
        "print('Por favor ingresa a que moneda US, EUR, GBP, JPY, CAD')\n",
        "currency = input()\n",
        "\n",
        "print('el monto es ', cantidad / convert[currency], ' en ', convert[currency])"
      ]
    },
    {
      "cell_type": "code",
      "execution_count": null,
      "id": "47da80e6",
      "metadata": {
        "id": "47da80e6",
        "outputId": "8bf40a9f-d6d6-41bf-adc3-7289e80a860f"
      },
      "outputs": [
        {
          "name": "stdout",
          "output_type": "stream",
          "text": [
            "Cuantos pesos quieres invertir a USD, EURO, GBP, GPY, CAD, Ejemplo (16 USD): 1000 USD\n",
            "tus 1000 equivalen a 56.81818181818181 USD\n"
          ]
        }
      ],
      "source": [
        "diccionario = {\"USD\": 17.60,\n",
        "               \"EURO\": 18.83,\n",
        "               \"GBP\": 21.93,\n",
        "               \"GPY\": 0.12,\n",
        "               \"CAD\": 12.88}\n",
        "\n",
        "pesos = input(\"Cuantos pesos quieres invertir a USD, EURO, GBP, GPY, CAD, Ejemplo (16 USD): \").upper()\n",
        "\n",
        "lista = pesos.split()\n",
        "\n",
        "string = lista[1]\n",
        "pesos = int(lista[0])\n",
        "\n",
        "print(f\"tus {pesos} equivalen a {pesos/diccionario[string] } {string}\")"
      ]
    },
    {
      "cell_type": "code",
      "execution_count": null,
      "id": "17f3d464",
      "metadata": {
        "id": "17f3d464"
      },
      "outputs": [],
      "source": []
    },
    {
      "cell_type": "code",
      "execution_count": null,
      "id": "73d0e669",
      "metadata": {
        "id": "73d0e669",
        "outputId": "7f5194f2-1eda-4c17-98f0-4c94c5dba39b"
      },
      "outputs": [
        {
          "name": "stdout",
          "output_type": "stream",
          "text": [
            "Tasas de Conversión (MXN como unidad base 9/07/2023):\n",
            "1 USD = 17.6 MXN\n",
            "1 EUR = 18.83 MXN\n",
            "1 GBP = 21.93 MXN\n",
            "1 JPY = 0.12 MXN\n",
            "1 CAD = 12.88 MXN\n",
            "\n",
            "Ingrese la cantidad en pesos mexicanos (MXN) que desea convertir: 1000\n",
            "Ingrese la moneda de destino (ejemplo: USD, EUR, GBP, JPY, CAD): USD\n",
            "1000.00 MXN equivale a 56.82 USD\n",
            "\n",
            "¿Desea realizar otra conversión? (S/N): N\n",
            "¡Hasta luego!\n"
          ]
        }
      ],
      "source": [
        "# Crear un diccionario con las tasas de conversión (MXN como unidad base).\n",
        "tasas_de_conversion = {\n",
        "    \"USD\": 17.60,   # 1 USD = 17.60 MXN\n",
        "    \"EUR\": 18.83,   # 1 EUR = 18.83 MXN\n",
        "    \"GBP\": 21.93,   # 1 GBP = 21.93 MXN\n",
        "    \"JPY\": 0.12,    # 1 JPY = 0.12 MXN\n",
        "    \"CAD\": 12.88    # 1 CAD = 12.88 MXN\n",
        "}\n",
        "\n",
        "def convertir_a_otra_moneda(cantidad_mxn, moneda_destino):\n",
        "    if moneda_destino in tasas_de_conversion:\n",
        "        tasa_destino = tasas_de_conversion[moneda_destino]\n",
        "        cantidad_convertida = cantidad_mxn / tasa_destino\n",
        "        return cantidad_convertida\n",
        "    else:\n",
        "        return None\n",
        "\n",
        "print(\"Tasas de Conversión (MXN como unidad base 9/07/2023):\")\n",
        "for moneda, tasa in tasas_de_conversion.items():\n",
        "    print(f\"1 {moneda} = {tasa} MXN\")\n",
        "\n",
        "while True:\n",
        "    cantidad_mxn = float(input(\"\\nIngrese la cantidad en pesos mexicanos (MXN) que desea convertir: \"))\n",
        "    moneda_destino = input(\"Ingrese la moneda de destino (ejemplo: USD, EUR, GBP, JPY, CAD): \").upper()\n",
        "\n",
        "    resultado = convertir_a_otra_moneda(cantidad_mxn, moneda_destino)\n",
        "    if resultado is not None:\n",
        "        print(f\"{cantidad_mxn:.2f} MXN equivale a {resultado:.2f} {moneda_destino}\")\n",
        "    else:\n",
        "        print(\"Moneda de destino no válida. Intente nuevamente.\")\n",
        "\n",
        "    continuar = input(\"\\n¿Desea realizar otra conversión? (S/N): \").upper()\n",
        "    if continuar != \"S\":\n",
        "        print(\"¡Hasta luego!\")\n",
        "        break\n"
      ]
    },
    {
      "cell_type": "markdown",
      "id": "ab5ff3d9",
      "metadata": {
        "id": "ab5ff3d9"
      },
      "source": [
        "## Manejo de Archivos"
      ]
    },
    {
      "cell_type": "code",
      "execution_count": null,
      "id": "ac60428c",
      "metadata": {
        "id": "ac60428c",
        "outputId": "52e0708f-30ee-491c-a0ce-c086ed7af58c"
      },
      "outputs": [
        {
          "name": "stdout",
          "output_type": "stream",
          "text": [
            "Clase3_FundamentosPython 11092023.ipynb\r\n",
            "Clase4_FundamentosPython.ipynb\r\n",
            "\u001b[34mData\u001b[m\u001b[m/\r\n"
          ]
        }
      ],
      "source": [
        "ls"
      ]
    },
    {
      "cell_type": "code",
      "execution_count": null,
      "id": "01972e0a",
      "metadata": {
        "id": "01972e0a"
      },
      "outputs": [],
      "source": [
        "folder = 'Data/'"
      ]
    },
    {
      "cell_type": "code",
      "execution_count": null,
      "id": "7b8b0ad7",
      "metadata": {
        "id": "7b8b0ad7",
        "outputId": "9c9f3289-f0f9-4d57-d58a-c7f4805587e7"
      },
      "outputs": [
        {
          "name": "stdout",
          "output_type": "stream",
          "text": [
            "cotizacion.csv           cotizaciones_excel.xlsx\r\n",
            "cotizaciones_copy.xlsx   tabla-5.txt\r\n"
          ]
        }
      ],
      "source": [
        "ls Data"
      ]
    },
    {
      "cell_type": "markdown",
      "id": "a5011c34",
      "metadata": {
        "id": "a5011c34"
      },
      "source": [
        "### Archivos de texto"
      ]
    },
    {
      "cell_type": "code",
      "execution_count": null,
      "id": "bd2de041",
      "metadata": {
        "id": "bd2de041"
      },
      "outputs": [],
      "source": [
        "#archivo-salida.py\n",
        "file_name = 'HolaMundo2.txt'\n",
        "f = open (folder+file_name,'w') #solo escritura, si el archivo existe sobrecribe su contenido\n",
        "f.write('Adios Mundo Cruel')\n",
        "f.close()"
      ]
    },
    {
      "cell_type": "code",
      "execution_count": null,
      "id": "7ec86582",
      "metadata": {
        "id": "7ec86582",
        "outputId": "d0193faf-4b32-497b-ad4d-554a561c2b2b"
      },
      "outputs": [
        {
          "name": "stdout",
          "output_type": "stream",
          "text": [
            "HolaMundo.txt            cotizacion.csv           cotizaciones_excel.xlsx\r\n",
            "HolaMundo2.txt           cotizaciones_copy.xlsx   tabla-5.txt\r\n"
          ]
        }
      ],
      "source": [
        "ls Data/"
      ]
    },
    {
      "cell_type": "code",
      "execution_count": null,
      "id": "dcbce1e5",
      "metadata": {
        "id": "dcbce1e5",
        "outputId": "3d24be7d-e031-4d17-fc58-9f84b71b0496"
      },
      "outputs": [
        {
          "name": "stdout",
          "output_type": "stream",
          "text": [
            "Adios Mundo Cruel"
          ]
        }
      ],
      "source": [
        "cat Data/HolaMundo2.txt"
      ]
    },
    {
      "cell_type": "code",
      "execution_count": null,
      "id": "3e46ea55",
      "metadata": {
        "id": "3e46ea55",
        "outputId": "13d0032d-2822-4fc9-f7c0-9f6b89b75596"
      },
      "outputs": [
        {
          "name": "stdout",
          "output_type": "stream",
          "text": [
            "Adios Mundo Cruel\n"
          ]
        }
      ],
      "source": [
        "# archivo-entrada.py\n",
        "f = open (folder+file_name,'r') # solo lectura\n",
        "mensaje = f.read()\n",
        "print(mensaje)\n",
        "f.close()"
      ]
    },
    {
      "cell_type": "code",
      "execution_count": null,
      "id": "fbe955fc",
      "metadata": {
        "id": "fbe955fc"
      },
      "outputs": [],
      "source": [
        "# archivo-apendice.py\n",
        "f = open(folder+file_name,'a') # Permite agregar nueva informacion al archivo\n",
        "f.write('!!!\\n' + 'Hola Python')\n",
        "f.close()"
      ]
    },
    {
      "cell_type": "code",
      "execution_count": null,
      "id": "9b9e75ac",
      "metadata": {
        "id": "9b9e75ac",
        "outputId": "a288b38a-8928-4263-b573-a3c967338b93"
      },
      "outputs": [
        {
          "name": "stdout",
          "output_type": "stream",
          "text": [
            "Adios Mundo Cruel!!!\r\n",
            "Hola Python"
          ]
        }
      ],
      "source": [
        "cat Data/HolaMundo2.txt"
      ]
    },
    {
      "cell_type": "code",
      "execution_count": null,
      "id": "a1855f51",
      "metadata": {
        "id": "a1855f51",
        "outputId": "dc51ac3c-3612-4ed0-fa59-553279a8f434"
      },
      "outputs": [
        {
          "name": "stdout",
          "output_type": "stream",
          "text": [
            "Adios Mundo Cruel!!!\n",
            "\n",
            "Hola Python\n"
          ]
        }
      ],
      "source": [
        "with open(folder+file_name) as archivo:\n",
        "    for linea in archivo:\n",
        "        print(linea)"
      ]
    },
    {
      "cell_type": "code",
      "execution_count": null,
      "id": "67f8fe51",
      "metadata": {
        "id": "67f8fe51"
      },
      "outputs": [],
      "source": [
        "filename = \"app.txt\"\n",
        "data = [\"You\", \"are\\n\", \"Wizard\\n\", \"Harry \", \"Potter !!\\n\"]\n",
        "fl = open(folder+filename, \"w\")\n",
        "fl.writelines(data)\n",
        "fl.close()"
      ]
    },
    {
      "cell_type": "code",
      "execution_count": null,
      "id": "b3e3a854",
      "metadata": {
        "id": "b3e3a854",
        "outputId": "6949784a-c772-49ec-e11f-2921a5206b08"
      },
      "outputs": [
        {
          "name": "stdout",
          "output_type": "stream",
          "text": [
            "Youare\r\n",
            "Wizard\r\n",
            "Harry Potter !!\r\n"
          ]
        }
      ],
      "source": [
        "cat Data/app.txt"
      ]
    },
    {
      "cell_type": "code",
      "execution_count": null,
      "id": "daf6424a",
      "metadata": {
        "id": "daf6424a",
        "outputId": "52122225-7689-4888-e2d9-c01437d76290"
      },
      "outputs": [
        {
          "name": "stdout",
          "output_type": "stream",
          "text": [
            "Line1: Youare\n",
            "Line2: Wizard\n",
            "Line3: Harry Potter !!\n"
          ]
        }
      ],
      "source": [
        "# Using readlines()\n",
        "\n",
        "fl = open(folder+filename, \"r\")\n",
        "lines = fl.readlines()\n",
        "\n",
        "count = 0\n",
        "# Strips the newline character\n",
        "for line in lines:\n",
        "  count += 1\n",
        "  print(\"Line{}: {}\".format(count, line.strip()))"
      ]
    },
    {
      "cell_type": "markdown",
      "id": "9d3c670c",
      "metadata": {
        "id": "9d3c670c"
      },
      "source": [
        "##### Ejemplo\n",
        "Escribir una funcion que acceda a un fichero TXT y muestre por pantalla el número de palabras que contiene."
      ]
    },
    {
      "cell_type": "code",
      "execution_count": null,
      "id": "67b2c58b",
      "metadata": {
        "id": "67b2c58b"
      },
      "outputs": [],
      "source": [
        "filename = \"app.txt\"\n",
        "\n",
        "def open_txt(filename,folder):\n",
        "    try:\n",
        "        f = open(folder+filename, \"r\")\n",
        "        texto = f.read()\n",
        "        return texto\n",
        "    except:\n",
        "        print(f\"El archivo {filename} no puede ser leido o no se encuentra.\")\n",
        "        return \"\"\n",
        "\n",
        "def contar_palabras(texto):\n",
        "    palabras = texto.split()\n",
        "    return len(palabras)\n"
      ]
    },
    {
      "cell_type": "code",
      "execution_count": null,
      "id": "10858af1",
      "metadata": {
        "id": "10858af1",
        "outputId": "0ff2425a-f2f2-42aa-f8a5-6d2af71a5942"
      },
      "outputs": [
        {
          "name": "stdout",
          "output_type": "stream",
          "text": [
            "['Youare', 'Wizard', 'Harry', 'Potter', '!!']\n",
            "5\n"
          ]
        }
      ],
      "source": [
        "documento = open_txt(filename,folder)\n",
        "print(documento.split())\n",
        "print(contar_palabras(documento))"
      ]
    },
    {
      "cell_type": "markdown",
      "id": "f7b5b791",
      "metadata": {
        "id": "f7b5b791"
      },
      "source": [
        "### ARCHIVOS CSV"
      ]
    },
    {
      "cell_type": "code",
      "execution_count": null,
      "id": "5b78c98f",
      "metadata": {
        "id": "5b78c98f",
        "outputId": "c59b69dc-6ae4-4496-e79b-8b2e24229d4b"
      },
      "outputs": [
        {
          "name": "stdout",
          "output_type": "stream",
          "text": [
            "['Nombre', 'Final', 'Máximo', 'Mínimo', 'Volumen', 'Efectivo']\n",
            "['ACCIONA', '95,95', '96,75', '94,4', '84.962', '8166,11']\n",
            "['ACERINOX', '8668', '8672', '8468', '885.99', '7633,81']\n",
            "['ACS', '37,28', '37,66', '37,22', '655.982', '24517,29']\n",
            "['AENA', '167,1', '167,5', '166,1', '133.738', '22336,10']\n",
            "['AMADEUS', '69,96', '70,64', '69,56', '640.476', '44795,47']\n",
            "['ARCELORMIT.', '14152', '14318', '14,08', '702.841', '9989,65']\n",
            "['BA.SABADELL', '1,0165', '1033', '1,0165', '12.358.512', '12637,65']\n",
            "['BA.SANTANDER', '4,02', '4,0675', '4,01', '36.129.692', '145765,44']\n",
            "['BANKIA', '2249', '2262', '2224', '3.024.454', '6803,54']\n",
            "['BANKINTER', '6,56', '6604', '6522', '1.375.976', '9030,20']\n",
            "['BBVA', '5024', '5,05', '4969', '26.447.612', '132560,15']\n",
            "['CAIXABANK', '2763', '2806', '2762', '13.031.097', '36239,22']\n",
            "['CELLNEX', '30,17', '30,7', '30,17', '857.237', '25965,29']\n",
            "['CIE AUTOMOT.', '23,44', '23,74', '23,4', '99.506', '2343,09']\n",
            "['ENAGAS', '25,6', '25,66', '25,07', '842.54', '21524,77']\n",
            "['ENCE', '3882', '3974', '3846', '2.099.698', '8219,83']\n",
            "['ENDESA', '22,95', '23,03', '22,62', '1.236.799', '28233,46']\n",
            "['FERROVIAL', '21,61', '21,72', '21,38', '2.065.931', '44656,05']\n",
            "['GRIFOLS CL.A', '23,3', '23,6', '23,27', '719.503', '16787,55']\n",
            "['IAG', '5,3', '5,46', '5292', '2.155.081', '11561,95']\n",
            "['IBERDROLA', '8,45', '8,45', '8262', '15.637.958', '131426,05']\n",
            "['INDITEX', '24,93', '25,19', '24,87', '2.600.144', '65012,92']\n",
            "['INDRA A', '9,56', '9685', '9535', '392.06', '3755,57']\n",
            "['INM.COLONIAL', '9915', '9915', '9745', '671.753', '6640,38']\n",
            "['MAPFRE', '2654', '2654', '2,62', '3.045.972', '8063,13']\n",
            "['MEDIASET', '6446', '6592', '6446', '2.647.557', '17277,04']\n",
            "['MELIA HOTELS', '8,14', '8,19', '8,02', '480.21', '3914,93']\n",
            "['MERLIN', '12,08', '12,08', '11,83', '777.543', '9357,77']\n",
            "['NATURGY', '26,7', '26,77', '26,53', '2.100.737', '55986,54']\n",
            "['R.E.C.', '19705', '19875', '19675', '1.246.171', '24585,33']\n",
            "['REPSOL', '14515', '14605', '14,46', '5.046.648', '73333,78']\n",
            "['SIEMENS GAME', '14,33', '14,39', '14155', '1.054.847', '15084,56']\n",
            "['TEC.REUNIDAS', '23', '23,2', '22,78', '122.1', '2807,19']\n",
            "['TELEFONICA', '7204', '7256', '7185', '9.913.249', '71564,99']\n",
            "['VISCOFAN', '48,46', '49,12', '48,46', '67.71', '3295,43']\n"
          ]
        }
      ],
      "source": [
        "import csv\n",
        "filename = \"cotizacion.csv\"\n",
        "with open(folder+filename, newline=\"\") as csvfile:\n",
        "    reader = csv.reader(csvfile, delimiter=\";\")\n",
        "    for row in reader:\n",
        "        print(row)"
      ]
    },
    {
      "cell_type": "code",
      "execution_count": null,
      "id": "b9829a68",
      "metadata": {
        "id": "b9829a68",
        "outputId": "a1b2d492-063a-49bb-f162-34fb3d4e0f5c"
      },
      "outputs": [
        {
          "data": {
            "text/html": [
              "<div>\n",
              "<style scoped>\n",
              "    .dataframe tbody tr th:only-of-type {\n",
              "        vertical-align: middle;\n",
              "    }\n",
              "\n",
              "    .dataframe tbody tr th {\n",
              "        vertical-align: top;\n",
              "    }\n",
              "\n",
              "    .dataframe thead th {\n",
              "        text-align: right;\n",
              "    }\n",
              "</style>\n",
              "<table border=\"1\" class=\"dataframe\">\n",
              "  <thead>\n",
              "    <tr style=\"text-align: right;\">\n",
              "      <th></th>\n",
              "      <th></th>\n",
              "      <th></th>\n",
              "      <th></th>\n",
              "      <th>Nombre;Final;Máximo;Mínimo;Volumen;Efectivo</th>\n",
              "    </tr>\n",
              "  </thead>\n",
              "  <tbody>\n",
              "    <tr>\n",
              "      <th>ACCIONA;95</th>\n",
              "      <th>95;96</th>\n",
              "      <th>75;94</th>\n",
              "      <th>4;84.962;8166</th>\n",
              "      <td>11.0</td>\n",
              "    </tr>\n",
              "    <tr>\n",
              "      <th>ACERINOX;8668;8672;8468;885.99;7633</th>\n",
              "      <th>81</th>\n",
              "      <th>NaN</th>\n",
              "      <th>NaN</th>\n",
              "      <td>NaN</td>\n",
              "    </tr>\n",
              "    <tr>\n",
              "      <th>ACS;37</th>\n",
              "      <th>28;37</th>\n",
              "      <th>66;37</th>\n",
              "      <th>22;655.982;24517</th>\n",
              "      <td>29.0</td>\n",
              "    </tr>\n",
              "    <tr>\n",
              "      <th>AENA;167</th>\n",
              "      <th>1;167</th>\n",
              "      <th>5;166</th>\n",
              "      <th>1;133.738;22336</th>\n",
              "      <td>10.0</td>\n",
              "    </tr>\n",
              "    <tr>\n",
              "      <th>AMADEUS;69</th>\n",
              "      <th>96;70</th>\n",
              "      <th>64;69</th>\n",
              "      <th>56;640.476;44795</th>\n",
              "      <td>47.0</td>\n",
              "    </tr>\n",
              "    <tr>\n",
              "      <th>ARCELORMIT.;14152;14318;14</th>\n",
              "      <th>08;702.841;9989</th>\n",
              "      <th>65</th>\n",
              "      <th>NaN</th>\n",
              "      <td>NaN</td>\n",
              "    </tr>\n",
              "    <tr>\n",
              "      <th>BA.SABADELL;1</th>\n",
              "      <th>0165;1033;1</th>\n",
              "      <th>0165;12.358.512;12637</th>\n",
              "      <th>65</th>\n",
              "      <td>NaN</td>\n",
              "    </tr>\n",
              "    <tr>\n",
              "      <th>BA.SANTANDER;4</th>\n",
              "      <th>02;4</th>\n",
              "      <th>0675;4</th>\n",
              "      <th>01;36.129.692;145765</th>\n",
              "      <td>44.0</td>\n",
              "    </tr>\n",
              "    <tr>\n",
              "      <th>BANKIA;2249;2262;2224;3.024.454;6803</th>\n",
              "      <th>54</th>\n",
              "      <th>NaN</th>\n",
              "      <th>NaN</th>\n",
              "      <td>NaN</td>\n",
              "    </tr>\n",
              "    <tr>\n",
              "      <th>BANKINTER;6</th>\n",
              "      <th>56;6604;6522;1.375.976;9030</th>\n",
              "      <th>20</th>\n",
              "      <th>NaN</th>\n",
              "      <td>NaN</td>\n",
              "    </tr>\n",
              "    <tr>\n",
              "      <th>BBVA;5024;5</th>\n",
              "      <th>05;4969;26.447.612;132560</th>\n",
              "      <th>15</th>\n",
              "      <th>NaN</th>\n",
              "      <td>NaN</td>\n",
              "    </tr>\n",
              "    <tr>\n",
              "      <th>CAIXABANK;2763;2806;2762;13.031.097;36239</th>\n",
              "      <th>22</th>\n",
              "      <th>NaN</th>\n",
              "      <th>NaN</th>\n",
              "      <td>NaN</td>\n",
              "    </tr>\n",
              "    <tr>\n",
              "      <th>CELLNEX;30</th>\n",
              "      <th>17;30</th>\n",
              "      <th>7;30</th>\n",
              "      <th>17;857.237;25965</th>\n",
              "      <td>29.0</td>\n",
              "    </tr>\n",
              "    <tr>\n",
              "      <th>CIE AUTOMOT.;23</th>\n",
              "      <th>44;23</th>\n",
              "      <th>74;23</th>\n",
              "      <th>4;99.506;2343</th>\n",
              "      <td>9.0</td>\n",
              "    </tr>\n",
              "    <tr>\n",
              "      <th>ENAGAS;25</th>\n",
              "      <th>6;25</th>\n",
              "      <th>66;25</th>\n",
              "      <th>07;842.54;21524</th>\n",
              "      <td>77.0</td>\n",
              "    </tr>\n",
              "    <tr>\n",
              "      <th>ENCE;3882;3974;3846;2.099.698;8219</th>\n",
              "      <th>83</th>\n",
              "      <th>NaN</th>\n",
              "      <th>NaN</th>\n",
              "      <td>NaN</td>\n",
              "    </tr>\n",
              "    <tr>\n",
              "      <th>ENDESA;22</th>\n",
              "      <th>95;23</th>\n",
              "      <th>03;22</th>\n",
              "      <th>62;1.236.799;28233</th>\n",
              "      <td>46.0</td>\n",
              "    </tr>\n",
              "    <tr>\n",
              "      <th>FERROVIAL;21</th>\n",
              "      <th>61;21</th>\n",
              "      <th>72;21</th>\n",
              "      <th>38;2.065.931;44656</th>\n",
              "      <td>5.0</td>\n",
              "    </tr>\n",
              "    <tr>\n",
              "      <th>GRIFOLS CL.A;23</th>\n",
              "      <th>3;23</th>\n",
              "      <th>6;23</th>\n",
              "      <th>27;719.503;16787</th>\n",
              "      <td>55.0</td>\n",
              "    </tr>\n",
              "    <tr>\n",
              "      <th>IAG;5</th>\n",
              "      <th>3;5</th>\n",
              "      <th>46;5292;2.155.081;11561</th>\n",
              "      <th>95</th>\n",
              "      <td>NaN</td>\n",
              "    </tr>\n",
              "    <tr>\n",
              "      <th>IBERDROLA;8</th>\n",
              "      <th>45;8</th>\n",
              "      <th>45;8262;15.637.958;131426</th>\n",
              "      <th>05</th>\n",
              "      <td>NaN</td>\n",
              "    </tr>\n",
              "    <tr>\n",
              "      <th>INDITEX;24</th>\n",
              "      <th>93;25</th>\n",
              "      <th>19;24</th>\n",
              "      <th>87;2.600.144;65012</th>\n",
              "      <td>92.0</td>\n",
              "    </tr>\n",
              "    <tr>\n",
              "      <th>INDRA A;9</th>\n",
              "      <th>56;9685;9535;392.06;3755</th>\n",
              "      <th>57</th>\n",
              "      <th>NaN</th>\n",
              "      <td>NaN</td>\n",
              "    </tr>\n",
              "    <tr>\n",
              "      <th>INM.COLONIAL;9915;9915;9745;671.753;6640</th>\n",
              "      <th>38</th>\n",
              "      <th>NaN</th>\n",
              "      <th>NaN</th>\n",
              "      <td>NaN</td>\n",
              "    </tr>\n",
              "    <tr>\n",
              "      <th>MAPFRE;2654;2654;2</th>\n",
              "      <th>62;3.045.972;8063</th>\n",
              "      <th>13</th>\n",
              "      <th>NaN</th>\n",
              "      <td>NaN</td>\n",
              "    </tr>\n",
              "    <tr>\n",
              "      <th>MEDIASET;6446;6592;6446;2.647.557;17277</th>\n",
              "      <th>04</th>\n",
              "      <th>NaN</th>\n",
              "      <th>NaN</th>\n",
              "      <td>NaN</td>\n",
              "    </tr>\n",
              "    <tr>\n",
              "      <th>MELIA HOTELS;8</th>\n",
              "      <th>14;8</th>\n",
              "      <th>19;8</th>\n",
              "      <th>02;480.21;3914</th>\n",
              "      <td>93.0</td>\n",
              "    </tr>\n",
              "    <tr>\n",
              "      <th>MERLIN;12</th>\n",
              "      <th>08;12</th>\n",
              "      <th>08;11</th>\n",
              "      <th>83;777.543;9357</th>\n",
              "      <td>77.0</td>\n",
              "    </tr>\n",
              "    <tr>\n",
              "      <th>NATURGY;26</th>\n",
              "      <th>7;26</th>\n",
              "      <th>77;26</th>\n",
              "      <th>53;2.100.737;55986</th>\n",
              "      <td>54.0</td>\n",
              "    </tr>\n",
              "    <tr>\n",
              "      <th>R.E.C.;19705;19875;19675;1.246.171;24585</th>\n",
              "      <th>33</th>\n",
              "      <th>NaN</th>\n",
              "      <th>NaN</th>\n",
              "      <td>NaN</td>\n",
              "    </tr>\n",
              "    <tr>\n",
              "      <th>REPSOL;14515;14605;14</th>\n",
              "      <th>46;5.046.648;73333</th>\n",
              "      <th>78</th>\n",
              "      <th>NaN</th>\n",
              "      <td>NaN</td>\n",
              "    </tr>\n",
              "    <tr>\n",
              "      <th>SIEMENS GAME;14</th>\n",
              "      <th>33;14</th>\n",
              "      <th>39;14155;1.054.847;15084</th>\n",
              "      <th>56</th>\n",
              "      <td>NaN</td>\n",
              "    </tr>\n",
              "    <tr>\n",
              "      <th>TEC.REUNIDAS;23;23</th>\n",
              "      <th>2;22</th>\n",
              "      <th>78;122.1;2807</th>\n",
              "      <th>19</th>\n",
              "      <td>NaN</td>\n",
              "    </tr>\n",
              "    <tr>\n",
              "      <th>TELEFONICA;7204;7256;7185;9.913.249;71564</th>\n",
              "      <th>99</th>\n",
              "      <th>NaN</th>\n",
              "      <th>NaN</th>\n",
              "      <td>NaN</td>\n",
              "    </tr>\n",
              "    <tr>\n",
              "      <th>VISCOFAN;48</th>\n",
              "      <th>46;49</th>\n",
              "      <th>12;48</th>\n",
              "      <th>46;67.71;3295</th>\n",
              "      <td>43.0</td>\n",
              "    </tr>\n",
              "  </tbody>\n",
              "</table>\n",
              "</div>"
            ],
            "text/plain": [
              "                                                                                                                      Nombre;Final;Máximo;Mínimo;Volumen;Efectivo\n",
              "ACCIONA;95                                95;96                       75;94                     4;84.962;8166                                                11.0\n",
              "ACERINOX;8668;8672;8468;885.99;7633       81                          NaN                       NaN                                                           NaN\n",
              "ACS;37                                    28;37                       66;37                     22;655.982;24517                                             29.0\n",
              "AENA;167                                  1;167                       5;166                     1;133.738;22336                                              10.0\n",
              "AMADEUS;69                                96;70                       64;69                     56;640.476;44795                                             47.0\n",
              "ARCELORMIT.;14152;14318;14                08;702.841;9989             65                        NaN                                                           NaN\n",
              "BA.SABADELL;1                             0165;1033;1                 0165;12.358.512;12637     65                                                            NaN\n",
              "BA.SANTANDER;4                            02;4                        0675;4                    01;36.129.692;145765                                         44.0\n",
              "BANKIA;2249;2262;2224;3.024.454;6803      54                          NaN                       NaN                                                           NaN\n",
              "BANKINTER;6                               56;6604;6522;1.375.976;9030 20                        NaN                                                           NaN\n",
              "BBVA;5024;5                               05;4969;26.447.612;132560   15                        NaN                                                           NaN\n",
              "CAIXABANK;2763;2806;2762;13.031.097;36239 22                          NaN                       NaN                                                           NaN\n",
              "CELLNEX;30                                17;30                       7;30                      17;857.237;25965                                             29.0\n",
              "CIE AUTOMOT.;23                           44;23                       74;23                     4;99.506;2343                                                 9.0\n",
              "ENAGAS;25                                 6;25                        66;25                     07;842.54;21524                                              77.0\n",
              "ENCE;3882;3974;3846;2.099.698;8219        83                          NaN                       NaN                                                           NaN\n",
              "ENDESA;22                                 95;23                       03;22                     62;1.236.799;28233                                           46.0\n",
              "FERROVIAL;21                              61;21                       72;21                     38;2.065.931;44656                                            5.0\n",
              "GRIFOLS CL.A;23                           3;23                        6;23                      27;719.503;16787                                             55.0\n",
              "IAG;5                                     3;5                         46;5292;2.155.081;11561   95                                                            NaN\n",
              "IBERDROLA;8                               45;8                        45;8262;15.637.958;131426 05                                                            NaN\n",
              "INDITEX;24                                93;25                       19;24                     87;2.600.144;65012                                           92.0\n",
              "INDRA A;9                                 56;9685;9535;392.06;3755    57                        NaN                                                           NaN\n",
              "INM.COLONIAL;9915;9915;9745;671.753;6640  38                          NaN                       NaN                                                           NaN\n",
              "MAPFRE;2654;2654;2                        62;3.045.972;8063           13                        NaN                                                           NaN\n",
              "MEDIASET;6446;6592;6446;2.647.557;17277   04                          NaN                       NaN                                                           NaN\n",
              "MELIA HOTELS;8                            14;8                        19;8                      02;480.21;3914                                               93.0\n",
              "MERLIN;12                                 08;12                       08;11                     83;777.543;9357                                              77.0\n",
              "NATURGY;26                                7;26                        77;26                     53;2.100.737;55986                                           54.0\n",
              "R.E.C.;19705;19875;19675;1.246.171;24585  33                          NaN                       NaN                                                           NaN\n",
              "REPSOL;14515;14605;14                     46;5.046.648;73333          78                        NaN                                                           NaN\n",
              "SIEMENS GAME;14                           33;14                       39;14155;1.054.847;15084  56                                                            NaN\n",
              "TEC.REUNIDAS;23;23                        2;22                        78;122.1;2807             19                                                            NaN\n",
              "TELEFONICA;7204;7256;7185;9.913.249;71564 99                          NaN                       NaN                                                           NaN\n",
              "VISCOFAN;48                               46;49                       12;48                     46;67.71;3295                                                43.0"
            ]
          },
          "execution_count": 49,
          "metadata": {},
          "output_type": "execute_result"
        }
      ],
      "source": [
        "import pandas as pd\n",
        "\n",
        "data=pd.read_csv(folder+filename)\n",
        "data"
      ]
    },
    {
      "cell_type": "code",
      "execution_count": null,
      "id": "c909284b",
      "metadata": {
        "id": "c909284b",
        "outputId": "d8b90430-8b0a-4d5b-93bd-890a7f4c4b63"
      },
      "outputs": [
        {
          "data": {
            "text/html": [
              "<div>\n",
              "<style scoped>\n",
              "    .dataframe tbody tr th:only-of-type {\n",
              "        vertical-align: middle;\n",
              "    }\n",
              "\n",
              "    .dataframe tbody tr th {\n",
              "        vertical-align: top;\n",
              "    }\n",
              "\n",
              "    .dataframe thead th {\n",
              "        text-align: right;\n",
              "    }\n",
              "</style>\n",
              "<table border=\"1\" class=\"dataframe\">\n",
              "  <thead>\n",
              "    <tr style=\"text-align: right;\">\n",
              "      <th></th>\n",
              "      <th>Nombre</th>\n",
              "      <th>Final</th>\n",
              "      <th>Máximo</th>\n",
              "      <th>Mínimo</th>\n",
              "      <th>Volumen</th>\n",
              "      <th>Efectivo</th>\n",
              "    </tr>\n",
              "  </thead>\n",
              "  <tbody>\n",
              "    <tr>\n",
              "      <th>0</th>\n",
              "      <td>ACCIONA</td>\n",
              "      <td>95,95</td>\n",
              "      <td>96,75</td>\n",
              "      <td>94,4</td>\n",
              "      <td>84.962</td>\n",
              "      <td>8166,11</td>\n",
              "    </tr>\n",
              "    <tr>\n",
              "      <th>1</th>\n",
              "      <td>ACERINOX</td>\n",
              "      <td>8668</td>\n",
              "      <td>8672</td>\n",
              "      <td>8468</td>\n",
              "      <td>885.99</td>\n",
              "      <td>7633,81</td>\n",
              "    </tr>\n",
              "    <tr>\n",
              "      <th>2</th>\n",
              "      <td>ACS</td>\n",
              "      <td>37,28</td>\n",
              "      <td>37,66</td>\n",
              "      <td>37,22</td>\n",
              "      <td>655.982</td>\n",
              "      <td>24517,29</td>\n",
              "    </tr>\n",
              "    <tr>\n",
              "      <th>3</th>\n",
              "      <td>AENA</td>\n",
              "      <td>167,1</td>\n",
              "      <td>167,5</td>\n",
              "      <td>166,1</td>\n",
              "      <td>133.738</td>\n",
              "      <td>22336,10</td>\n",
              "    </tr>\n",
              "    <tr>\n",
              "      <th>4</th>\n",
              "      <td>AMADEUS</td>\n",
              "      <td>69,96</td>\n",
              "      <td>70,64</td>\n",
              "      <td>69,56</td>\n",
              "      <td>640.476</td>\n",
              "      <td>44795,47</td>\n",
              "    </tr>\n",
              "    <tr>\n",
              "      <th>5</th>\n",
              "      <td>ARCELORMIT.</td>\n",
              "      <td>14152</td>\n",
              "      <td>14318</td>\n",
              "      <td>14,08</td>\n",
              "      <td>702.841</td>\n",
              "      <td>9989,65</td>\n",
              "    </tr>\n",
              "    <tr>\n",
              "      <th>6</th>\n",
              "      <td>BA.SABADELL</td>\n",
              "      <td>1,0165</td>\n",
              "      <td>1033</td>\n",
              "      <td>1,0165</td>\n",
              "      <td>12.358.512</td>\n",
              "      <td>12637,65</td>\n",
              "    </tr>\n",
              "    <tr>\n",
              "      <th>7</th>\n",
              "      <td>BA.SANTANDER</td>\n",
              "      <td>4,02</td>\n",
              "      <td>4,0675</td>\n",
              "      <td>4,01</td>\n",
              "      <td>36.129.692</td>\n",
              "      <td>145765,44</td>\n",
              "    </tr>\n",
              "    <tr>\n",
              "      <th>8</th>\n",
              "      <td>BANKIA</td>\n",
              "      <td>2249</td>\n",
              "      <td>2262</td>\n",
              "      <td>2224</td>\n",
              "      <td>3.024.454</td>\n",
              "      <td>6803,54</td>\n",
              "    </tr>\n",
              "    <tr>\n",
              "      <th>9</th>\n",
              "      <td>BANKINTER</td>\n",
              "      <td>6,56</td>\n",
              "      <td>6604</td>\n",
              "      <td>6522</td>\n",
              "      <td>1.375.976</td>\n",
              "      <td>9030,20</td>\n",
              "    </tr>\n",
              "    <tr>\n",
              "      <th>10</th>\n",
              "      <td>BBVA</td>\n",
              "      <td>5024</td>\n",
              "      <td>5,05</td>\n",
              "      <td>4969</td>\n",
              "      <td>26.447.612</td>\n",
              "      <td>132560,15</td>\n",
              "    </tr>\n",
              "    <tr>\n",
              "      <th>11</th>\n",
              "      <td>CAIXABANK</td>\n",
              "      <td>2763</td>\n",
              "      <td>2806</td>\n",
              "      <td>2762</td>\n",
              "      <td>13.031.097</td>\n",
              "      <td>36239,22</td>\n",
              "    </tr>\n",
              "    <tr>\n",
              "      <th>12</th>\n",
              "      <td>CELLNEX</td>\n",
              "      <td>30,17</td>\n",
              "      <td>30,7</td>\n",
              "      <td>30,17</td>\n",
              "      <td>857.237</td>\n",
              "      <td>25965,29</td>\n",
              "    </tr>\n",
              "    <tr>\n",
              "      <th>13</th>\n",
              "      <td>CIE AUTOMOT.</td>\n",
              "      <td>23,44</td>\n",
              "      <td>23,74</td>\n",
              "      <td>23,4</td>\n",
              "      <td>99.506</td>\n",
              "      <td>2343,09</td>\n",
              "    </tr>\n",
              "    <tr>\n",
              "      <th>14</th>\n",
              "      <td>ENAGAS</td>\n",
              "      <td>25,6</td>\n",
              "      <td>25,66</td>\n",
              "      <td>25,07</td>\n",
              "      <td>842.54</td>\n",
              "      <td>21524,77</td>\n",
              "    </tr>\n",
              "    <tr>\n",
              "      <th>15</th>\n",
              "      <td>ENCE</td>\n",
              "      <td>3882</td>\n",
              "      <td>3974</td>\n",
              "      <td>3846</td>\n",
              "      <td>2.099.698</td>\n",
              "      <td>8219,83</td>\n",
              "    </tr>\n",
              "    <tr>\n",
              "      <th>16</th>\n",
              "      <td>ENDESA</td>\n",
              "      <td>22,95</td>\n",
              "      <td>23,03</td>\n",
              "      <td>22,62</td>\n",
              "      <td>1.236.799</td>\n",
              "      <td>28233,46</td>\n",
              "    </tr>\n",
              "    <tr>\n",
              "      <th>17</th>\n",
              "      <td>FERROVIAL</td>\n",
              "      <td>21,61</td>\n",
              "      <td>21,72</td>\n",
              "      <td>21,38</td>\n",
              "      <td>2.065.931</td>\n",
              "      <td>44656,05</td>\n",
              "    </tr>\n",
              "    <tr>\n",
              "      <th>18</th>\n",
              "      <td>GRIFOLS CL.A</td>\n",
              "      <td>23,3</td>\n",
              "      <td>23,6</td>\n",
              "      <td>23,27</td>\n",
              "      <td>719.503</td>\n",
              "      <td>16787,55</td>\n",
              "    </tr>\n",
              "    <tr>\n",
              "      <th>19</th>\n",
              "      <td>IAG</td>\n",
              "      <td>5,3</td>\n",
              "      <td>5,46</td>\n",
              "      <td>5292</td>\n",
              "      <td>2.155.081</td>\n",
              "      <td>11561,95</td>\n",
              "    </tr>\n",
              "    <tr>\n",
              "      <th>20</th>\n",
              "      <td>IBERDROLA</td>\n",
              "      <td>8,45</td>\n",
              "      <td>8,45</td>\n",
              "      <td>8262</td>\n",
              "      <td>15.637.958</td>\n",
              "      <td>131426,05</td>\n",
              "    </tr>\n",
              "    <tr>\n",
              "      <th>21</th>\n",
              "      <td>INDITEX</td>\n",
              "      <td>24,93</td>\n",
              "      <td>25,19</td>\n",
              "      <td>24,87</td>\n",
              "      <td>2.600.144</td>\n",
              "      <td>65012,92</td>\n",
              "    </tr>\n",
              "    <tr>\n",
              "      <th>22</th>\n",
              "      <td>INDRA A</td>\n",
              "      <td>9,56</td>\n",
              "      <td>9685</td>\n",
              "      <td>9535</td>\n",
              "      <td>392.06</td>\n",
              "      <td>3755,57</td>\n",
              "    </tr>\n",
              "    <tr>\n",
              "      <th>23</th>\n",
              "      <td>INM.COLONIAL</td>\n",
              "      <td>9915</td>\n",
              "      <td>9915</td>\n",
              "      <td>9745</td>\n",
              "      <td>671.753</td>\n",
              "      <td>6640,38</td>\n",
              "    </tr>\n",
              "    <tr>\n",
              "      <th>24</th>\n",
              "      <td>MAPFRE</td>\n",
              "      <td>2654</td>\n",
              "      <td>2654</td>\n",
              "      <td>2,62</td>\n",
              "      <td>3.045.972</td>\n",
              "      <td>8063,13</td>\n",
              "    </tr>\n",
              "    <tr>\n",
              "      <th>25</th>\n",
              "      <td>MEDIASET</td>\n",
              "      <td>6446</td>\n",
              "      <td>6592</td>\n",
              "      <td>6446</td>\n",
              "      <td>2.647.557</td>\n",
              "      <td>17277,04</td>\n",
              "    </tr>\n",
              "    <tr>\n",
              "      <th>26</th>\n",
              "      <td>MELIA HOTELS</td>\n",
              "      <td>8,14</td>\n",
              "      <td>8,19</td>\n",
              "      <td>8,02</td>\n",
              "      <td>480.21</td>\n",
              "      <td>3914,93</td>\n",
              "    </tr>\n",
              "    <tr>\n",
              "      <th>27</th>\n",
              "      <td>MERLIN</td>\n",
              "      <td>12,08</td>\n",
              "      <td>12,08</td>\n",
              "      <td>11,83</td>\n",
              "      <td>777.543</td>\n",
              "      <td>9357,77</td>\n",
              "    </tr>\n",
              "    <tr>\n",
              "      <th>28</th>\n",
              "      <td>NATURGY</td>\n",
              "      <td>26,7</td>\n",
              "      <td>26,77</td>\n",
              "      <td>26,53</td>\n",
              "      <td>2.100.737</td>\n",
              "      <td>55986,54</td>\n",
              "    </tr>\n",
              "    <tr>\n",
              "      <th>29</th>\n",
              "      <td>R.E.C.</td>\n",
              "      <td>19705</td>\n",
              "      <td>19875</td>\n",
              "      <td>19675</td>\n",
              "      <td>1.246.171</td>\n",
              "      <td>24585,33</td>\n",
              "    </tr>\n",
              "    <tr>\n",
              "      <th>30</th>\n",
              "      <td>REPSOL</td>\n",
              "      <td>14515</td>\n",
              "      <td>14605</td>\n",
              "      <td>14,46</td>\n",
              "      <td>5.046.648</td>\n",
              "      <td>73333,78</td>\n",
              "    </tr>\n",
              "    <tr>\n",
              "      <th>31</th>\n",
              "      <td>SIEMENS GAME</td>\n",
              "      <td>14,33</td>\n",
              "      <td>14,39</td>\n",
              "      <td>14155</td>\n",
              "      <td>1.054.847</td>\n",
              "      <td>15084,56</td>\n",
              "    </tr>\n",
              "    <tr>\n",
              "      <th>32</th>\n",
              "      <td>TEC.REUNIDAS</td>\n",
              "      <td>23</td>\n",
              "      <td>23,2</td>\n",
              "      <td>22,78</td>\n",
              "      <td>122.1</td>\n",
              "      <td>2807,19</td>\n",
              "    </tr>\n",
              "    <tr>\n",
              "      <th>33</th>\n",
              "      <td>TELEFONICA</td>\n",
              "      <td>7204</td>\n",
              "      <td>7256</td>\n",
              "      <td>7185</td>\n",
              "      <td>9.913.249</td>\n",
              "      <td>71564,99</td>\n",
              "    </tr>\n",
              "    <tr>\n",
              "      <th>34</th>\n",
              "      <td>VISCOFAN</td>\n",
              "      <td>48,46</td>\n",
              "      <td>49,12</td>\n",
              "      <td>48,46</td>\n",
              "      <td>67.71</td>\n",
              "      <td>3295,43</td>\n",
              "    </tr>\n",
              "  </tbody>\n",
              "</table>\n",
              "</div>"
            ],
            "text/plain": [
              "          Nombre   Final  Máximo  Mínimo     Volumen   Efectivo\n",
              "0        ACCIONA   95,95   96,75    94,4      84.962    8166,11\n",
              "1       ACERINOX    8668    8672    8468      885.99    7633,81\n",
              "2            ACS   37,28   37,66   37,22     655.982   24517,29\n",
              "3           AENA   167,1   167,5   166,1     133.738   22336,10\n",
              "4        AMADEUS   69,96   70,64   69,56     640.476   44795,47\n",
              "5    ARCELORMIT.   14152   14318   14,08     702.841    9989,65\n",
              "6    BA.SABADELL  1,0165    1033  1,0165  12.358.512   12637,65\n",
              "7   BA.SANTANDER    4,02  4,0675    4,01  36.129.692  145765,44\n",
              "8         BANKIA    2249    2262    2224   3.024.454    6803,54\n",
              "9      BANKINTER    6,56    6604    6522   1.375.976    9030,20\n",
              "10          BBVA    5024    5,05    4969  26.447.612  132560,15\n",
              "11     CAIXABANK    2763    2806    2762  13.031.097   36239,22\n",
              "12       CELLNEX   30,17    30,7   30,17     857.237   25965,29\n",
              "13  CIE AUTOMOT.   23,44   23,74    23,4      99.506    2343,09\n",
              "14        ENAGAS    25,6   25,66   25,07      842.54   21524,77\n",
              "15          ENCE    3882    3974    3846   2.099.698    8219,83\n",
              "16        ENDESA   22,95   23,03   22,62   1.236.799   28233,46\n",
              "17     FERROVIAL   21,61   21,72   21,38   2.065.931   44656,05\n",
              "18  GRIFOLS CL.A    23,3    23,6   23,27     719.503   16787,55\n",
              "19           IAG     5,3    5,46    5292   2.155.081   11561,95\n",
              "20     IBERDROLA    8,45    8,45    8262  15.637.958  131426,05\n",
              "21       INDITEX   24,93   25,19   24,87   2.600.144   65012,92\n",
              "22       INDRA A    9,56    9685    9535      392.06    3755,57\n",
              "23  INM.COLONIAL    9915    9915    9745     671.753    6640,38\n",
              "24        MAPFRE    2654    2654    2,62   3.045.972    8063,13\n",
              "25      MEDIASET    6446    6592    6446   2.647.557   17277,04\n",
              "26  MELIA HOTELS    8,14    8,19    8,02      480.21    3914,93\n",
              "27        MERLIN   12,08   12,08   11,83     777.543    9357,77\n",
              "28       NATURGY    26,7   26,77   26,53   2.100.737   55986,54\n",
              "29        R.E.C.   19705   19875   19675   1.246.171   24585,33\n",
              "30        REPSOL   14515   14605   14,46   5.046.648   73333,78\n",
              "31  SIEMENS GAME   14,33   14,39   14155   1.054.847   15084,56\n",
              "32  TEC.REUNIDAS      23    23,2   22,78       122.1    2807,19\n",
              "33    TELEFONICA    7204    7256    7185   9.913.249   71564,99\n",
              "34      VISCOFAN   48,46   49,12   48,46       67.71    3295,43"
            ]
          },
          "execution_count": 50,
          "metadata": {},
          "output_type": "execute_result"
        }
      ],
      "source": [
        "data=pd.read_csv(folder+filename,sep=';')\n",
        "data"
      ]
    },
    {
      "cell_type": "code",
      "execution_count": null,
      "id": "74801306",
      "metadata": {
        "id": "74801306",
        "outputId": "6fb8a926-5152-469b-e71b-b5fd3b283a47"
      },
      "outputs": [
        {
          "name": "stdout",
          "output_type": "stream",
          "text": [
            "Requirement already satisfied: xlwt in /Library/Frameworks/Python.framework/Versions/3.10/lib/python3.10/site-packages (1.3.0)\r\n",
            "Requirement already satisfied: openpyxl in /Library/Frameworks/Python.framework/Versions/3.10/lib/python3.10/site-packages (3.1.2)\r\n",
            "Requirement already satisfied: xlsxwriter in /Library/Frameworks/Python.framework/Versions/3.10/lib/python3.10/site-packages (3.1.0)\r\n",
            "Requirement already satisfied: xlrd in /Library/Frameworks/Python.framework/Versions/3.10/lib/python3.10/site-packages (2.0.1)\r\n",
            "Requirement already satisfied: et-xmlfile in /Library/Frameworks/Python.framework/Versions/3.10/lib/python3.10/site-packages (from openpyxl) (1.1.0)\r\n"
          ]
        }
      ],
      "source": [
        "! pip install xlwt openpyxl xlsxwriter xlrd"
      ]
    },
    {
      "cell_type": "code",
      "execution_count": null,
      "id": "99d979a5",
      "metadata": {
        "id": "99d979a5"
      },
      "outputs": [],
      "source": [
        "filename_xlsx = 'cotizaciones_copy.xlsx'\n",
        "data.to_excel(folder+filename_xlsx)"
      ]
    },
    {
      "cell_type": "markdown",
      "id": "25c217d4",
      "metadata": {
        "id": "25c217d4"
      },
      "source": [
        "### ARCHIVOS xlsx"
      ]
    },
    {
      "cell_type": "code",
      "execution_count": null,
      "id": "a38a90de",
      "metadata": {
        "id": "a38a90de",
        "outputId": "61d8dea3-5feb-4d41-b2f9-7b1a4d6e26d3"
      },
      "outputs": [
        {
          "name": "stdout",
          "output_type": "stream",
          "text": [
            "El libro de excel tiene 4\n",
            "a lista de nombres del libro son ['Sheet1', 'Hoja1', 'Hoja2', 'Hoja3']\n"
          ]
        }
      ],
      "source": [
        "import openpyxl\n",
        "filename_xlsx= \"cotizaciones_excel.xlsx\"\n",
        "# Carga el archivo XLSX\n",
        "libro_trabajo = openpyxl.load_workbook(folder+filename_xlsx)\n",
        "\n",
        "hojas=libro_trabajo.sheetnames\n",
        "print (f'El libro de excel tiene {len(hojas)}')\n",
        "print (f'a lista de nombres del libro son {hojas}')"
      ]
    },
    {
      "cell_type": "code",
      "execution_count": null,
      "id": "62ba6e88",
      "metadata": {
        "id": "62ba6e88",
        "outputId": "6882361f-3d60-401e-d347-fb654beabec8"
      },
      "outputs": [
        {
          "name": "stdout",
          "output_type": "stream",
          "text": [
            "HolaMundo.txt            cotizacion.csv           tabla-5.txt\r\n",
            "HolaMundo2.txt           cotizaciones_copy.xlsx\r\n",
            "app.txt                  cotizaciones_excel.xlsx\r\n"
          ]
        }
      ],
      "source": [
        "ls Data/"
      ]
    },
    {
      "cell_type": "code",
      "execution_count": null,
      "id": "0430cd9f",
      "metadata": {
        "id": "0430cd9f",
        "outputId": "0980d0ae-b38d-43ff-b5e4-61247da9424c"
      },
      "outputs": [
        {
          "name": "stdout",
          "output_type": "stream",
          "text": [
            "None\n",
            "Nombre\n",
            "Final\n",
            "Máximo\n",
            "Mínimo\n",
            "Volumen\n",
            "Efectivo\n",
            "6\n",
            "BA.SABADELL\n",
            "1,0165\n",
            "1033\n",
            "1,0165\n",
            "12.358.512\n",
            "12637,65\n",
            "7\n",
            "BA.SANTANDER\n",
            "4,02\n",
            "4,0675\n",
            "4,01\n",
            "36.129.692\n",
            "145765,44\n",
            "8\n",
            "BANKIA\n",
            "2249\n",
            "2262\n",
            "2224\n",
            "3.024.454\n",
            "6803,54\n",
            "9\n",
            "BANKINTER\n",
            "6,56\n",
            "6604\n",
            "6522\n",
            "1.375.976\n",
            "9030,20\n",
            "10\n",
            "BBVA\n",
            "5024\n",
            "5,05\n",
            "4969\n",
            "26.447.612\n",
            "132560,15\n"
          ]
        }
      ],
      "source": [
        "# Accede a una hoja específica del libro de trabajo (por nombre o índice)\n",
        "hoja = libro_trabajo[\"Hoja1\"]  # Reemplaza \"Hoja1\" con el nombre de tu hoja\n",
        "\n",
        "# Itera sobre las filas y columnas de la hoja\n",
        "for fila in hoja.iter_rows():\n",
        "    for celda in fila:\n",
        "        print(celda.value)  # Imprime el valor de cada celda"
      ]
    },
    {
      "cell_type": "code",
      "execution_count": null,
      "id": "f07882ec",
      "metadata": {
        "id": "f07882ec"
      },
      "outputs": [],
      "source": [
        "# Cierra el libro de trabajo después de usarlo\n",
        "libro_trabajo.close()"
      ]
    },
    {
      "cell_type": "markdown",
      "id": "5c3e3165",
      "metadata": {
        "id": "5c3e3165"
      },
      "source": [
        "### ARCHIVOS JSON"
      ]
    },
    {
      "cell_type": "code",
      "execution_count": null,
      "id": "a9444359",
      "metadata": {
        "id": "a9444359",
        "outputId": "85d94c46-537b-43b3-f153-3614c4fb6e2a"
      },
      "outputs": [
        {
          "data": {
            "text/plain": [
              "{'clients': [{'first_name': 'Sigrid',\n",
              "   'last_name': 'Mannock',\n",
              "   'age': 27,\n",
              "   'amount': 7.17},\n",
              "  {'first_name': 'Joe',\n",
              "   'last_name': 'Hinners',\n",
              "   'age': 31,\n",
              "   'amount': [1.9, 5.5]},\n",
              "  {'first_name': 'Theodoric',\n",
              "   'last_name': 'Rivers',\n",
              "   'age': 36,\n",
              "   'amount': 1.11}]}"
            ]
          },
          "execution_count": 59,
          "metadata": {},
          "output_type": "execute_result"
        }
      ],
      "source": [
        "import json\n",
        "\n",
        "data = {}\n",
        "data['clients'] = []\n",
        "\n",
        "data['clients'].append({\n",
        "    'first_name': 'Sigrid',\n",
        "    'last_name': 'Mannock',\n",
        "    'age': 27,\n",
        "    'amount': 7.17})\n",
        "\n",
        "data['clients'].append({\n",
        "    'first_name': 'Joe',\n",
        "    'last_name': 'Hinners',\n",
        "    'age': 31,\n",
        "    'amount': [1.90, 5.50]})\n",
        "\n",
        "data['clients'].append({\n",
        "    'first_name': 'Theodoric',\n",
        "    'last_name': 'Rivers',\n",
        "    'age': 36,\n",
        "    'amount': 1.11})\n",
        "data"
      ]
    },
    {
      "cell_type": "code",
      "execution_count": null,
      "id": "a3c898a0",
      "metadata": {
        "id": "a3c898a0"
      },
      "outputs": [],
      "source": [
        "filename = 'data.json'\n",
        "with open(folder+filename, 'w') as file:\n",
        "    json.dump(data, file, indent=4)"
      ]
    },
    {
      "cell_type": "code",
      "execution_count": null,
      "id": "57705d20",
      "metadata": {
        "id": "57705d20",
        "outputId": "56bc9938-915b-4449-c726-e1ab3c369254"
      },
      "outputs": [
        {
          "name": "stdout",
          "output_type": "stream",
          "text": [
            "First name: Sigrid\n",
            "Last name: Mannock\n",
            "Age: 27\n",
            "Amount: 7.17\n",
            "\n",
            "First name: Joe\n",
            "Last name: Hinners\n",
            "Age: 31\n",
            "Amount: [1.9, 5.5]\n",
            "\n",
            "First name: Theodoric\n",
            "Last name: Rivers\n",
            "Age: 36\n",
            "Amount: 1.11\n",
            "\n"
          ]
        }
      ],
      "source": [
        "with open(folder+filename) as file:\n",
        "    data = json.load(file)\n",
        "    for client in data['clients']:\n",
        "        print('First name:', client['first_name'])\n",
        "        print('Last name:', client['last_name'])\n",
        "        print('Age:', client['age'])\n",
        "        print('Amount:', client['amount'])\n",
        "        print('')"
      ]
    },
    {
      "cell_type": "markdown",
      "id": "ab42c2ea",
      "metadata": {
        "id": "ab42c2ea"
      },
      "source": [
        "### Ejercicio 1\n",
        "\n",
        "Escribir una función que pida un número entero entre 1 y 10 y guarde en un fichero con el nombre `tabla-n.txt` la tabla de multiplicar de ese número, done `n` es el número introducido.\n",
        "\n",
        "- 1 x 1 = 1\n",
        "- 1 x 2 = 2"
      ]
    },
    {
      "cell_type": "code",
      "execution_count": null,
      "id": "e5bbe247",
      "metadata": {
        "id": "e5bbe247",
        "outputId": "16f8ba64-7594-4938-cb03-302bf54b35d3"
      },
      "outputs": [
        {
          "name": "stdout",
          "output_type": "stream",
          "text": [
            "Ingresa un numero4\n"
          ]
        }
      ],
      "source": [
        "folder=\"Data/\"\n",
        "num=int(input(\"Ingresa un numero\"))\n",
        "archivo = open(f\"{folder}tabla-del-{num}.txt\", \"w\")\n",
        "for i in range(10):\n",
        "    archivo.writelines(f\"{num} X {i+1}= {num *(i+1)}\\n\")\n",
        "archivo.close()"
      ]
    },
    {
      "cell_type": "code",
      "execution_count": null,
      "id": "8c0ef9d5",
      "metadata": {
        "id": "8c0ef9d5",
        "outputId": "eeff5f6b-e2e4-4a7a-f472-6d80701a433d"
      },
      "outputs": [
        {
          "name": "stdout",
          "output_type": "stream",
          "text": [
            "HolaMundo.txt            cotizacion.csv           data.json\r\n",
            "HolaMundo2.txt           cotizaciones_copy.xlsx   tabla-5.txt\r\n",
            "app.txt                  cotizaciones_excel.xlsx  tabla-del-4.txt\r\n"
          ]
        }
      ],
      "source": [
        "ls Data/\n"
      ]
    },
    {
      "cell_type": "code",
      "execution_count": null,
      "id": "9e22083b",
      "metadata": {
        "id": "9e22083b",
        "outputId": "3a98033a-a16c-4707-d9e5-174095a30f91"
      },
      "outputs": [
        {
          "name": "stdout",
          "output_type": "stream",
          "text": [
            "Escribe un numero entre 1 y 108\n"
          ]
        }
      ],
      "source": [
        "def tabla_x(num):\n",
        "    filename = f\"tabla-{num}.txt\"\n",
        "    f1 = open(folder+filename, \"a\")\n",
        "    for x in range(11):\n",
        "        r = num * x\n",
        "        f1.writelines(f\"{x} X {num} = {r} \\n\")\n",
        "    f1.close\n",
        "\n",
        "numero = int(input(\"Escribe un numero entre 1 y 10\"))\n",
        "\n",
        "tabla_x(numero)"
      ]
    },
    {
      "cell_type": "code",
      "execution_count": null,
      "id": "ee7e2263",
      "metadata": {
        "id": "ee7e2263",
        "outputId": "fbeede9f-115f-4052-b039-ac24d2a43efa"
      },
      "outputs": [
        {
          "name": "stdout",
          "output_type": "stream",
          "text": [
            "HolaMundo.txt            cotizaciones_copy.xlsx   tabla-8.txt\r\n",
            "HolaMundo2.txt           cotizaciones_excel.xlsx  tabla-del-4.txt\r\n",
            "app.txt                  data.json\r\n",
            "cotizacion.csv           tabla-5.txt\r\n"
          ]
        }
      ],
      "source": [
        "ls Data/"
      ]
    },
    {
      "cell_type": "code",
      "execution_count": null,
      "id": "40f09a13",
      "metadata": {
        "id": "40f09a13",
        "outputId": "aed62048-5716-41fb-ceab-fe2b05e0f696"
      },
      "outputs": [
        {
          "name": "stdout",
          "output_type": "stream",
          "text": [
            "Ingresa un numeor del 1 y 10: 7\n",
            "La tabla de multiplicar del 7 se ha guardado en tabla-7.txt\n"
          ]
        }
      ],
      "source": [
        "def generar_tabla(numero):\n",
        "    if 1 <= numero <= 10:\n",
        "        nombre_archivo = f\"tabla-{numero}.txt\"\n",
        "        with open(folder+nombre_archivo, \"w\") as archivo:\n",
        "            for i in range(1, 11):\n",
        "                resultado = numero * i\n",
        "                archivo.write(f\"{numero} x {i} = {resultado}\\n\")\n",
        "        print(f\"La tabla de multiplicar del {numero} se ha guardado en {nombre_archivo}\")\n",
        "    else:\n",
        "        print(\"El número debe estar entre 1 al 10.\")\n",
        "\n",
        "\n",
        "numero = int(input(\"Ingresa un numeor del 1 y 10: \"))\n",
        "generar_tabla(numero)"
      ]
    },
    {
      "cell_type": "code",
      "execution_count": null,
      "id": "5577a298",
      "metadata": {
        "id": "5577a298",
        "outputId": "f9e91f19-74a5-4b7e-aca8-ea1cb6eed50c"
      },
      "outputs": [
        {
          "name": "stdout",
          "output_type": "stream",
          "text": [
            "HolaMundo.txt            cotizaciones_copy.xlsx   tabla-7.txt\r\n",
            "HolaMundo2.txt           cotizaciones_excel.xlsx  tabla-8.txt\r\n",
            "app.txt                  data.json                tabla-del-4.txt\r\n",
            "cotizacion.csv           tabla-5.txt\r\n"
          ]
        }
      ],
      "source": [
        "ls Data/\n"
      ]
    },
    {
      "cell_type": "code",
      "execution_count": null,
      "id": "9ac6235f",
      "metadata": {
        "id": "9ac6235f",
        "outputId": "dc60b075-4279-4952-f7b4-229c8acb3fd5"
      },
      "outputs": [
        {
          "name": "stdout",
          "output_type": "stream",
          "text": [
            "4 X 1= 4\r\n",
            "4 X 2= 8\r\n",
            "4 X 3= 12\r\n",
            "4 X 4= 16\r\n",
            "4 X 5= 20\r\n",
            "4 X 6= 24\r\n",
            "4 X 7= 28\r\n",
            "4 X 8= 32\r\n",
            "4 X 9= 36\r\n",
            "4 X 10= 40\r\n"
          ]
        }
      ],
      "source": [
        "cat Data/tabla-del-4.txt"
      ]
    },
    {
      "cell_type": "code",
      "execution_count": null,
      "id": "b4552723",
      "metadata": {
        "id": "b4552723",
        "outputId": "89bc86e1-82c5-4990-f7cd-c288d41209a0"
      },
      "outputs": [
        {
          "name": "stdout",
          "output_type": "stream",
          "text": [
            "Introduce un número entero entre 1 y 10: 5\n",
            "5 x 1 = 5\n",
            "\n",
            "5 x 2 = 10\n",
            "\n",
            "5 x 3 = 15\n",
            "\n",
            "5 x 4 = 20\n",
            "\n",
            "5 x 5 = 25\n",
            "\n",
            "5 x 6 = 30\n",
            "\n",
            "5 x 7 = 35\n",
            "\n",
            "5 x 8 = 40\n",
            "\n",
            "5 x 9 = 45\n",
            "\n",
            "5 x 10 = 50\n",
            "\n"
          ]
        }
      ],
      "source": [
        "n = int(input('Introduce un número entero entre 1 y 10: '))\n",
        "nombre_fichero = 'tabla-' + str(n) + '.txt'\n",
        "f = open(folder+nombre_fichero, 'w')\n",
        "for i in range(1, 10+1):\n",
        "    texto = str(n) + ' x ' + str(i) + ' = ' + str(n * i) + '\\n'\n",
        "    print(texto)\n",
        "    f.write(texto)\n",
        "f.close()"
      ]
    },
    {
      "cell_type": "markdown",
      "id": "fb7741e9",
      "metadata": {
        "id": "fb7741e9"
      },
      "source": [
        "### Ejercicio 2\n",
        "Escribir una función que pida dos números n y m entre 1 y 10, lea el fichero tabla-n.txt con la tabla de multiplicar de ese número, y muestre por pantalla la línea m del fichero. Si el fichero no existe debe mostrar un mensaje por pantalla informando de ello."
      ]
    },
    {
      "cell_type": "code",
      "execution_count": null,
      "id": "a132ca35",
      "metadata": {
        "id": "a132ca35"
      },
      "outputs": [],
      "source": []
    },
    {
      "cell_type": "code",
      "execution_count": null,
      "id": "813a8da3",
      "metadata": {
        "id": "813a8da3"
      },
      "outputs": [],
      "source": []
    },
    {
      "cell_type": "code",
      "execution_count": null,
      "id": "8363332c",
      "metadata": {
        "id": "8363332c"
      },
      "outputs": [],
      "source": []
    },
    {
      "cell_type": "code",
      "execution_count": null,
      "id": "fc54643e",
      "metadata": {
        "id": "fc54643e"
      },
      "outputs": [],
      "source": []
    },
    {
      "cell_type": "code",
      "execution_count": null,
      "id": "65a2ebd0",
      "metadata": {
        "id": "65a2ebd0"
      },
      "outputs": [],
      "source": []
    },
    {
      "cell_type": "code",
      "execution_count": null,
      "id": "a832786e",
      "metadata": {
        "id": "a832786e"
      },
      "outputs": [],
      "source": [
        "n = int(input('Introduce un número entero entre 1 y 10: '))\n",
        "m = int(input('Introduce otro número entero entre 1 y 10: '))\n",
        "nombre_fichero = 'tabla-' + str(n) + '.txt'\n",
        "try:\n",
        "    with open(folder+nombre_fichero, 'r') as f:\n",
        "        lineas = f.readlines()\n",
        "    print(lineas[m - 1])\n",
        "except FileNotFoundError:\n",
        "    print('No existe el fichero con la tabla del ', n)\n"
      ]
    },
    {
      "cell_type": "code",
      "execution_count": null,
      "id": "bf0de10c",
      "metadata": {
        "id": "bf0de10c"
      },
      "outputs": [],
      "source": []
    }
  ],
  "metadata": {
    "kernelspec": {
      "display_name": "Python 3 (ipykernel)",
      "language": "python",
      "name": "python3"
    },
    "language_info": {
      "codemirror_mode": {
        "name": "ipython",
        "version": 3
      },
      "file_extension": ".py",
      "mimetype": "text/x-python",
      "name": "python",
      "nbconvert_exporter": "python",
      "pygments_lexer": "ipython3",
      "version": "3.10.10"
    },
    "colab": {
      "provenance": []
    }
  },
  "nbformat": 4,
  "nbformat_minor": 5
}