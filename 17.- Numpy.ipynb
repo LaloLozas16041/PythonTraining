{
  "nbformat": 4,
  "nbformat_minor": 0,
  "metadata": {
    "colab": {
      "provenance": [],
      "toc_visible": true
    },
    "kernelspec": {
      "name": "python3",
      "display_name": "Python 3"
    }
  },
  "cells": [
    {
      "cell_type": "markdown",
      "metadata": {
        "id": "8v3BFtGhGsNd"
      },
      "source": [
        "# Módulos de `Python`: `numpy`"
      ]
    },
    {
      "cell_type": "markdown",
      "metadata": {
        "id": "fRmok3PiUpg8"
      },
      "source": [
        "## `numpy`"
      ]
    },
    {
      "cell_type": "markdown",
      "metadata": {
        "id": "BC5RulfgbTfY"
      },
      "source": [
        "`numpy` es un módulo para trabajar con arrays, que son un tipo de lista, lo que mucho más rápidos de procesar.\n",
        "\n",
        "El objeto array de `numpy` recibe el nombre de `ndarray`. Este tipo de dato es muy usado en el mundo de la ciencia de datos, donde la velocidad y los recursos son de gran importancia."
      ]
    },
    {
      "cell_type": "code",
      "metadata": {
        "id": "oGDJf6j-bY72"
      },
      "source": [
        "import numpy as np"
      ],
      "execution_count": null,
      "outputs": []
    },
    {
      "cell_type": "markdown",
      "metadata": {
        "id": "mRZiW-MLcUu6"
      },
      "source": [
        "Podemos comprobar la versión de `numpy` con la siguiente línea de código"
      ]
    },
    {
      "cell_type": "code",
      "metadata": {
        "colab": {
          "base_uri": "https://localhost:8080/"
        },
        "id": "hPLTB_3ccZIo",
        "outputId": "0410bc21-2baa-466c-f52f-f20fce9f275c"
      },
      "source": [
        "print(np.__version__)"
      ],
      "execution_count": null,
      "outputs": [
        {
          "output_type": "stream",
          "text": [
            "1.19.5\n"
          ],
          "name": "stdout"
        }
      ]
    },
    {
      "cell_type": "markdown",
      "metadata": {
        "id": "2bOZgYz0ciRt"
      },
      "source": [
        "#### Creando arrays\n",
        "\n",
        "Para crear un `ndarray` usamos el método `.array()`.\n",
        "\n",
        "Lo podemos hacer a partir de una lista:"
      ]
    },
    {
      "cell_type": "code",
      "metadata": {
        "colab": {
          "base_uri": "https://localhost:8080/"
        },
        "id": "xGqHw0bNcrIv",
        "outputId": "e8b9c5bf-cfd0-464d-d5ff-f9f397532daa"
      },
      "source": [
        "a = np.array([1, 2, 3, 4, 5])\n",
        "print(a)"
      ],
      "execution_count": null,
      "outputs": [
        {
          "output_type": "stream",
          "text": [
            "[1 2 3 4 5]\n"
          ],
          "name": "stdout"
        }
      ]
    },
    {
      "cell_type": "code",
      "metadata": {
        "colab": {
          "base_uri": "https://localhost:8080/"
        },
        "id": "UeF1K8lx4mP-",
        "outputId": "f3e3f550-5cce-465a-e701-07d4dcf6f884"
      },
      "source": [
        "print(type(a))"
      ],
      "execution_count": null,
      "outputs": [
        {
          "output_type": "stream",
          "text": [
            "<class 'numpy.ndarray'>\n"
          ],
          "name": "stdout"
        }
      ]
    },
    {
      "cell_type": "markdown",
      "metadata": {
        "id": "I26AgRA04v4t"
      },
      "source": [
        "O bien, a partir de una tupla:"
      ]
    },
    {
      "cell_type": "code",
      "metadata": {
        "colab": {
          "base_uri": "https://localhost:8080/"
        },
        "id": "DUn7B-ns4y7Y",
        "outputId": "20702e36-303f-45c8-8550-9785c2467174"
      },
      "source": [
        "b = np.array((1, 2, 3, 4, 5, 6, 7))\n",
        "print(b)"
      ],
      "execution_count": null,
      "outputs": [
        {
          "output_type": "stream",
          "text": [
            "[1 2 3 4 5 6 7]\n"
          ],
          "name": "stdout"
        }
      ]
    },
    {
      "cell_type": "code",
      "metadata": {
        "colab": {
          "base_uri": "https://localhost:8080/"
        },
        "id": "IrTwXkOe43j-",
        "outputId": "190a9884-f5f8-4863-ac77-4b6db3861a21"
      },
      "source": [
        "print(type(b))"
      ],
      "execution_count": null,
      "outputs": [
        {
          "output_type": "stream",
          "text": [
            "<class 'numpy.ndarray'>\n"
          ],
          "name": "stdout"
        }
      ]
    },
    {
      "cell_type": "markdown",
      "metadata": {
        "id": "gGhrumGF479l"
      },
      "source": [
        "### Dimensiones de un array\n",
        "\n",
        "La dimensión de una array viene dada por el nivel de profundidad de éste.\n",
        "\n",
        "Para saber la dimensión de un array, podemos usar la propiedad `.ndim`\n",
        "\n",
        "**¡Cuidado!**. En las versiones actuales de `Python`, si creamos un array $n$-dimensional, entonces todos los arrays de dimensión fija $m < n$, deben contener el mismo número de elementos. Es decir, si creamos un array de 4 dimensiones, todos los arrays de 3 dimensiones deben tener el mismo número de elementos; por su parte, todos los arrays de 2 dimensiones, deben tener el mismo número de elementos; y lo mismo para los arrays 1-dimensionales. Esto se debe a que en caso contrario, el atributo `.shape` que veremos a continuación no tendría sentido."
      ]
    },
    {
      "cell_type": "markdown",
      "metadata": {
        "id": "Ggws-iAn5HSS"
      },
      "source": [
        "#### Arrays 0-dimensionales\n",
        "\n",
        "Son los arrays constantes:"
      ]
    },
    {
      "cell_type": "code",
      "metadata": {
        "colab": {
          "base_uri": "https://localhost:8080/"
        },
        "id": "WAQ-A99_5NTa",
        "outputId": "d714d6ad-52fa-4fb5-c5ea-725528358c5d"
      },
      "source": [
        "d0 = np.array(77)\n",
        "d0.ndim"
      ],
      "execution_count": null,
      "outputs": [
        {
          "output_type": "execute_result",
          "data": {
            "text/plain": [
              "0"
            ]
          },
          "metadata": {
            "tags": []
          },
          "execution_count": 7
        }
      ]
    },
    {
      "cell_type": "markdown",
      "metadata": {
        "id": "sfJ7Dpp85Tuo"
      },
      "source": [
        "#### Arrays 1-dimensionales\n",
        "\n",
        "Son los arrays con un solo nivel de profundidad"
      ]
    },
    {
      "cell_type": "code",
      "metadata": {
        "colab": {
          "base_uri": "https://localhost:8080/"
        },
        "id": "W1xD2fpL5cw7",
        "outputId": "382d63ec-a5f9-441a-c85d-40672582d045"
      },
      "source": [
        "d1 = np.array([-1, 0, 1])\n",
        "d1.ndim"
      ],
      "execution_count": null,
      "outputs": [
        {
          "output_type": "execute_result",
          "data": {
            "text/plain": [
              "1"
            ]
          },
          "metadata": {
            "tags": []
          },
          "execution_count": 8
        }
      ]
    },
    {
      "cell_type": "markdown",
      "metadata": {
        "id": "Z7sl4Z635hFc"
      },
      "source": [
        "#### Arrays 2-dimensionales\n",
        "\n",
        "Son los arrays que tienen por elementos arrays unidimensionales:"
      ]
    },
    {
      "cell_type": "code",
      "metadata": {
        "colab": {
          "base_uri": "https://localhost:8080/"
        },
        "id": "Ch92bI3o5q7H",
        "outputId": "f5403b76-809b-4669-85aa-8631599986dd"
      },
      "source": [
        "d2 = np.array([[-3, -2], [-1, 0]])\n",
        "d2.ndim"
      ],
      "execution_count": null,
      "outputs": [
        {
          "output_type": "execute_result",
          "data": {
            "text/plain": [
              "2"
            ]
          },
          "metadata": {
            "tags": []
          },
          "execution_count": 11
        }
      ]
    },
    {
      "cell_type": "markdown",
      "metadata": {
        "id": "WIkw7L_X5wpm"
      },
      "source": [
        "#### Arrays 3-dimensionales\n",
        "\n",
        "Son los arrays que tinenen por elementos arrays bidimensionales:"
      ]
    },
    {
      "cell_type": "code",
      "metadata": {
        "colab": {
          "base_uri": "https://localhost:8080/"
        },
        "id": "cuSt3ZSA590b",
        "outputId": "784e259a-d34c-4525-fe46-60e27328fc2a"
      },
      "source": [
        "d3 = np.array([[[1, 2, 3, 4], [4, 3, 2, 1]], [[1, 0, 1, 0], [-1, 1, -1, 1]]])\n",
        "d3.ndim"
      ],
      "execution_count": null,
      "outputs": [
        {
          "output_type": "execute_result",
          "data": {
            "text/plain": [
              "3"
            ]
          },
          "metadata": {
            "tags": []
          },
          "execution_count": 13
        }
      ]
    },
    {
      "cell_type": "markdown",
      "metadata": {
        "id": "q76fJ1yj6jA3"
      },
      "source": [
        "#### Arrays multidimensionales\n",
        "\n",
        "Un array puede tener cualquier número finito de dimensiones.\n",
        "\n",
        "A la hora de crear un `ndarray`, podemos indicar como parámetro el número de dimensiones que queramos que tenga dicho array con el argumento `ndmin`"
      ]
    },
    {
      "cell_type": "code",
      "metadata": {
        "colab": {
          "base_uri": "https://localhost:8080/"
        },
        "id": "xy3VD4Ax6yn0",
        "outputId": "145f4bc5-d1e3-4e72-cec0-e38b4c9e13f5"
      },
      "source": [
        "a = np.array([-2, -1, 0, 1, 2], ndmin = 7)\n",
        "print(\"El array a tiene {} dimensiones\".format(a.ndim))\n",
        "print(a)"
      ],
      "execution_count": null,
      "outputs": [
        {
          "output_type": "stream",
          "text": [
            "El array a tiene 7 dimensiones\n",
            "[[[[[[[-2 -1  0  1  2]]]]]]]\n"
          ],
          "name": "stdout"
        }
      ]
    },
    {
      "cell_type": "markdown",
      "metadata": {
        "id": "fxWu8294Nwl-"
      },
      "source": [
        "### `Shape` de un array\n",
        "\n",
        "**Shape.** Es el número de elementos de cada dimensión.\n",
        "\n",
        "Lo calculamos con el atributo `.shape`"
      ]
    },
    {
      "cell_type": "code",
      "metadata": {
        "colab": {
          "base_uri": "https://localhost:8080/"
        },
        "id": "0XLnwpuDN8X1",
        "outputId": "15850d0b-3a13-4492-af14-8e227d6df125"
      },
      "source": [
        "# Hay 3 elementos en el array 1-dimensional\n",
        "d1 = np.array([-1, 0, 1])\n",
        "d1.shape"
      ],
      "execution_count": null,
      "outputs": [
        {
          "output_type": "execute_result",
          "data": {
            "text/plain": [
              "(3,)"
            ]
          },
          "metadata": {
            "tags": []
          },
          "execution_count": 15
        }
      ]
    },
    {
      "cell_type": "code",
      "metadata": {
        "colab": {
          "base_uri": "https://localhost:8080/"
        },
        "id": "DUBdOsoTOFY1",
        "outputId": "c8d745d3-cc31-49ba-d108-b9140cc0d852"
      },
      "source": [
        "# Hay 2 elementos en el array 2D y 2 elementos en los arrays 1D\n",
        "d2 = np.array([[-3, -2], [-1, 0]])\n",
        "d2.shape"
      ],
      "execution_count": null,
      "outputs": [
        {
          "output_type": "execute_result",
          "data": {
            "text/plain": [
              "(2, 2)"
            ]
          },
          "metadata": {
            "tags": []
          },
          "execution_count": 16
        }
      ]
    },
    {
      "cell_type": "code",
      "metadata": {
        "colab": {
          "base_uri": "https://localhost:8080/"
        },
        "id": "sQMH3z_aOXZj",
        "outputId": "c76db287-306a-494c-8970-cd0ecfc595a0"
      },
      "source": [
        "# Hay 2 elementos en el array 3D, 2 elementos en cada array 2D y 4 elementos en cada array 1D\n",
        "d3 = np.array([[[1, 2, 3, 4], [4, 3, 2, 1]], [[1, 0, 1, 0], [-1, 1, -1, 1]]])\n",
        "d3.shape"
      ],
      "execution_count": null,
      "outputs": [
        {
          "output_type": "execute_result",
          "data": {
            "text/plain": [
              "(2, 2, 4)"
            ]
          },
          "metadata": {
            "tags": []
          },
          "execution_count": 17
        }
      ]
    },
    {
      "cell_type": "markdown",
      "metadata": {
        "id": "eBMLZnt0O_tw"
      },
      "source": [
        "La tupla resultante del atributo `.shape` se interpreta del siguiente modo:\n",
        "* Cada elemento de la tupla nos indica el número de elementos que hay en cada dimensión.\n",
        "* El primer índice se corresponde con la mayor dimensión, correspondiente al valor obtenido con `ndim`.\n",
        "* El último índice se corresponde con la menor dimensión (dimensión 1).\n",
        "\n",
        "Aquí es donde podemo observar la razón por la cuál todos los arrays de misma dimensión $m$ pertenecientes a un array $n$-dimensional, debe tener el mismo número de elementos.\n",
        "\n",
        "Por ejemplo, dado un array 4D, todos los arrays 2D pertenecientes a este deben tener el mismo número de elementos, que será el que nos devuelva la tupla resultante de aplicar `.shape` en el índice correspondiente, que en este caso sería el índice 2 (tercer y penúltimo elemento de la tupla)."
      ]
    },
    {
      "cell_type": "markdown",
      "metadata": {
        "id": "b60MYV2_SfHL"
      },
      "source": [
        "### Reshape de un array\n",
        "\n",
        "**Reshape.** Cambiar la `shape` de un array\n",
        "\n",
        "Mediante el proceso de reshape, podemos añadir o eliminar dimensiones, o bien cambiar el número de elementos de cada dimensión."
      ]
    },
    {
      "cell_type": "markdown",
      "metadata": {
        "id": "6edrdN8QTT2D"
      },
      "source": [
        "---\n",
        "#### Ejemplo 1\n",
        "\n",
        "Partiremos de un array 1D con 8 elementos y lo transformaremos en un array 2D con 2 arrays 1D, cada uno de ellos con 4 elementos."
      ]
    },
    {
      "cell_type": "code",
      "metadata": {
        "colab": {
          "base_uri": "https://localhost:8080/"
        },
        "id": "fzRbIY_lSeMp",
        "outputId": "50120044-cf44-4ccc-8324-794ad4d15041"
      },
      "source": [
        "d1 = np.array([1, 2, 3, 4, 5, 6, 7, 8])\n",
        "print(\"d1 =\", d1)\n",
        "print(\"Dimensión:\", d1.ndim)\n",
        "print(\"Shape:\", d1.shape)"
      ],
      "execution_count": null,
      "outputs": [
        {
          "output_type": "stream",
          "text": [
            "d1 = [1 2 3 4 5 6 7 8]\n",
            "Dimensión: 1\n",
            "Shape: (8,)\n"
          ],
          "name": "stdout"
        }
      ]
    },
    {
      "cell_type": "markdown",
      "metadata": {
        "id": "iSzOyiLBTRy3"
      },
      "source": [
        "Nuestro array 1D `d1` consta de 8 elementos."
      ]
    },
    {
      "cell_type": "code",
      "metadata": {
        "colab": {
          "base_uri": "https://localhost:8080/"
        },
        "id": "bceOiZRGSee4",
        "outputId": "f05f5578-9096-4c05-de50-b8d8950e12a9"
      },
      "source": [
        "d2 = d1.reshape(2, 4)\n",
        "print(\"d2 =\", d2)\n",
        "print(\"Dimensión:\", d2.ndim)\n",
        "print(\"Shape:\", d2.shape)"
      ],
      "execution_count": null,
      "outputs": [
        {
          "output_type": "stream",
          "text": [
            "d2 = [[1 2 3 4]\n",
            " [5 6 7 8]]\n",
            "Dimensión: 2\n",
            "Shape: (2, 4)\n"
          ],
          "name": "stdout"
        }
      ]
    },
    {
      "cell_type": "markdown",
      "metadata": {
        "id": "DB6mZKxTT9Wh"
      },
      "source": [
        "Nuestro nuevo array 2D `d2` consta de 2 arrays de dimensión 1, con 4 elementos cada uno. De modo que en total, seguimos teniendo los 8 elementos originales, pero con diferente `shape`.\n",
        "\n",
        "**¡Cuidado!** A la hora de llevar a cabo un reshape, el producto de los elementos de la tupla resultante de aplicar `.shape` debe coincidir con el número total de elementos que tiene el array orignial.\n",
        "\n",
        "En este caso, partíamos de 8 elementos en 1 dimensión y hemos acabado en $2\\cdot 4 = 8$ elementos distribuidos en 2 dimensiones.\n",
        "\n",
        "---"
      ]
    },
    {
      "cell_type": "markdown",
      "metadata": {
        "id": "mnIE8sN7UuO0"
      },
      "source": [
        "---\n",
        "#### Ejemplo 2\n",
        "\n",
        "En este caso, partiremos de un array 1D y lo transformaremos en un array 3D"
      ]
    },
    {
      "cell_type": "code",
      "metadata": {
        "colab": {
          "base_uri": "https://localhost:8080/"
        },
        "id": "XZ-34B0BVBDJ",
        "outputId": "66d28e37-31c6-49ea-8e58-af423dd35eb4"
      },
      "source": [
        "d1 = np.array([1, 2, 3, 4, 5, 6, 7, 8, 9, 10, 11, 12, 13, 14, 15, 16])\n",
        "print(\"d1 =\", d1)\n",
        "print(\"Dimensión:\", d1.ndim)\n",
        "print(\"Shape:\", d1.shape)"
      ],
      "execution_count": null,
      "outputs": [
        {
          "output_type": "stream",
          "text": [
            "d1 = [ 1  2  3  4  5  6  7  8  9 10 11 12 13 14 15 16]\n",
            "Dimensión: 1\n",
            "Shape: (16,)\n"
          ],
          "name": "stdout"
        }
      ]
    },
    {
      "cell_type": "markdown",
      "metadata": {
        "id": "mheohx1yVLfe"
      },
      "source": [
        "Nuestro array 1D consta de 16 elementos."
      ]
    },
    {
      "cell_type": "code",
      "metadata": {
        "colab": {
          "base_uri": "https://localhost:8080/"
        },
        "id": "peR91w19VOgw",
        "outputId": "624b1359-42bc-49dc-9ca5-9b4c60229f2f"
      },
      "source": [
        "d3 = d1.reshape(2, 4, 2)\n",
        "print(\"d3 =\", d3)\n",
        "print(\"Dimensión:\", d3.ndim)\n",
        "print(\"Shape:\", d3.shape)"
      ],
      "execution_count": null,
      "outputs": [
        {
          "output_type": "stream",
          "text": [
            "d3 = [[[ 1  2]\n",
            "  [ 3  4]\n",
            "  [ 5  6]\n",
            "  [ 7  8]]\n",
            "\n",
            " [[ 9 10]\n",
            "  [11 12]\n",
            "  [13 14]\n",
            "  [15 16]]]\n",
            "Dimensión: 3\n",
            "Shape: (2, 4, 2)\n"
          ],
          "name": "stdout"
        }
      ]
    },
    {
      "cell_type": "markdown",
      "metadata": {
        "id": "GPZDep58VVhq"
      },
      "source": [
        "Nuestro array 3D consta de 2 arrays bidimensionales, cada uno con 4 arrays 1D, cada cual contiene 2 elementos.\n",
        "\n",
        "En total, hay $2\\cdot 4\\cdot 2 = 16$ elementos, tal y como teníamos originalmente.\n",
        "\n",
        "---"
      ]
    },
    {
      "cell_type": "markdown",
      "metadata": {
        "id": "e-YOj_D1Vybe"
      },
      "source": [
        "#### Ejemplo 3\n",
        "\n",
        "En este caso, vamos a transformar un array 2D a un array 5D."
      ]
    },
    {
      "cell_type": "code",
      "metadata": {
        "colab": {
          "base_uri": "https://localhost:8080/"
        },
        "id": "REIX8ZGdVxgb",
        "outputId": "87cfd50e-d743-4b88-d470-7e96e26c7176"
      },
      "source": [
        "d2 = np.array([[-10, -9, -8, -7], [-6, -5, -4, -3], [-2, -1, 1, 2], [3, 4, 5, 6], [7, 8, 9, 10]])\n",
        "print(\"d2 =\", d2)\n",
        "print(\"Dimensión:\", d2.ndim)\n",
        "print(\"Shape:\", d2.shape)"
      ],
      "execution_count": null,
      "outputs": [
        {
          "output_type": "stream",
          "text": [
            "d2 = [[-10  -9  -8  -7]\n",
            " [ -6  -5  -4  -3]\n",
            " [ -2  -1   1   2]\n",
            " [  3   4   5   6]\n",
            " [  7   8   9  10]]\n",
            "Dimensión: 2\n",
            "Shape: (5, 4)\n"
          ],
          "name": "stdout"
        }
      ]
    },
    {
      "cell_type": "markdown",
      "metadata": {
        "id": "gyB7V0W_WZmo"
      },
      "source": [
        "Partimos de un array 2D, que tiene 5 arrays 1D, cada uno con 4 elementos. En total hay 20 elementos."
      ]
    },
    {
      "cell_type": "code",
      "metadata": {
        "colab": {
          "base_uri": "https://localhost:8080/"
        },
        "id": "I_mXVaCDWeMZ",
        "outputId": "f6c40cff-3c28-4b6c-8345-a205915f7c13"
      },
      "source": [
        "d5 = d2.reshape(2, 1, 2, 1, 5)\n",
        "print(\"d5 =\", d5)\n",
        "print(\"Dimensión:\", d5.ndim)\n",
        "print(\"Shape:\", d5.shape)"
      ],
      "execution_count": null,
      "outputs": [
        {
          "output_type": "stream",
          "text": [
            "d5 = [[[[[-10  -9  -8  -7  -6]]\n",
            "\n",
            "   [[ -5  -4  -3  -2  -1]]]]\n",
            "\n",
            "\n",
            "\n",
            " [[[[  1   2   3   4   5]]\n",
            "\n",
            "   [[  6   7   8   9  10]]]]]\n",
            "Dimensión: 5\n",
            "Shape: (2, 1, 2, 1, 5)\n"
          ],
          "name": "stdout"
        }
      ]
    },
    {
      "cell_type": "markdown",
      "metadata": {
        "id": "6co5cqjOWtBB"
      },
      "source": [
        "Hemos transformado nuestro array original 2D en un array 5D que consta de 2 arrays 4D, cada uno de los cuales contiene un array 3D, que tiene 2 arrays 2D con 1 array 1D en su interior que consta de 5 elementos. En total, $2\\cdot 1\\cdot 2\\cdot 1\\cdot 5 = 20$\n",
        "\n",
        "---"
      ]
    },
    {
      "cell_type": "markdown",
      "metadata": {
        "id": "X3wy5uy_XGyx"
      },
      "source": [
        "**Observación.** El resultado de un `.reshape()` es una `view` del array original."
      ]
    },
    {
      "cell_type": "code",
      "metadata": {
        "colab": {
          "base_uri": "https://localhost:8080/"
        },
        "id": "HHfuKzSPXNZp",
        "outputId": "67dc6ab7-3911-44a7-fa28-0a1f740d8210"
      },
      "source": [
        "print(\"El array transformado a partir del array d2 del Ejemplo 3 es una view,\\npues al aplicar .base se nos devuelve el array 2D original:\\n\", d5.base)"
      ],
      "execution_count": null,
      "outputs": [
        {
          "output_type": "stream",
          "text": [
            "El array transformado a partir del array d2 del Ejemplo 3 es una view,\n",
            "pues al aplicar .base se nos devuelve el array 2D original:\n",
            " [[-10  -9  -8  -7]\n",
            " [ -6  -5  -4  -3]\n",
            " [ -2  -1   1   2]\n",
            " [  3   4   5   6]\n",
            " [  7   8   9  10]]\n"
          ],
          "name": "stdout"
        }
      ]
    },
    {
      "cell_type": "markdown",
      "metadata": {
        "id": "9i0RhGsEX10P"
      },
      "source": [
        "#### Dimensión desconocida\n",
        "\n",
        "Al hacer un reshape no siempre hay que especificar el número exacto de una de las dimensiones como parámetro del método `.reshape()`.\n",
        "\n",
        "Si desconocemos una dimensión, basta indicar -1 en el lugar adecuado y `numpy` la calculará por nosotros.\n",
        "\n",
        "Tomando el array 2D del Ejemplo 3,"
      ]
    },
    {
      "cell_type": "code",
      "metadata": {
        "id": "HMIUocibYNbo"
      },
      "source": [
        "d2 = np.array([[-10, -9, -8, -7], [-6, -5, -4, -3], [-2, -1, 1, 2], [3, 4, 5, 6], [7, 8, 9, 10]])"
      ],
      "execution_count": null,
      "outputs": []
    },
    {
      "cell_type": "markdown",
      "metadata": {
        "id": "Ntu4U75YYRSs"
      },
      "source": [
        "supongamos que no sabemos la última dimensión a la hora de transformarlo al array 5D. En ese caso, introducimos -1 como parámetro."
      ]
    },
    {
      "cell_type": "code",
      "metadata": {
        "colab": {
          "base_uri": "https://localhost:8080/"
        },
        "id": "Muj-XuZSYZNO",
        "outputId": "4764f027-1085-436c-9c98-408134e37ceb"
      },
      "source": [
        "d5 = d2.reshape(2, 1, 2, 1, -1)\n",
        "print(\"d5 =\", d5)\n",
        "print(\"Dimensión:\", d5.ndim)\n",
        "print(\"Shape:\", d5.shape)"
      ],
      "execution_count": null,
      "outputs": [
        {
          "output_type": "stream",
          "text": [
            "d5 = [[[[[-10  -9  -8  -7  -6]]\n",
            "\n",
            "   [[ -5  -4  -3  -2  -1]]]]\n",
            "\n",
            "\n",
            "\n",
            " [[[[  1   2   3   4   5]]\n",
            "\n",
            "   [[  6   7   8   9  10]]]]]\n",
            "Dimensión: 5\n",
            "Shape: (2, 1, 2, 1, 5)\n"
          ],
          "name": "stdout"
        }
      ]
    },
    {
      "cell_type": "markdown",
      "metadata": {
        "id": "ngF7uEwFYeZW"
      },
      "source": [
        "Observamos que `numpy` ha calculado dicha dimensión por nosotros, que coincide con el resultado indicado en el Ejemplo 3."
      ]
    },
    {
      "cell_type": "markdown",
      "metadata": {
        "id": "cbYXH6tQYlj8"
      },
      "source": [
        "**¡Cuidado!** Solamente podemos pasar -1 por parámetro al método `.reshape()` para una sola dimensión."
      ]
    },
    {
      "cell_type": "markdown",
      "metadata": {
        "id": "YwYvY0WoYxLP"
      },
      "source": [
        "**Observación.** El uso del -1 nos puede ser muy útil cuando queramos transformar cualquier array multidimensional a un array unidimensional.\n",
        "\n",
        "Por ejemplo, partiendo del array 5D del Ejemplo 3, lo podemos trasformar a array undimensional del siguiente modo:"
      ]
    },
    {
      "cell_type": "code",
      "metadata": {
        "colab": {
          "base_uri": "https://localhost:8080/"
        },
        "id": "fllAb0yEY5AS",
        "outputId": "68a61202-031b-4426-e04f-c3c21612cfa3"
      },
      "source": [
        "d1 = d5.reshape(-1)\n",
        "print(\"d1 =\", d1)\n",
        "print(\"Dimensión:\", d1.ndim)\n",
        "print(\"Shape:\", d1.shape)"
      ],
      "execution_count": null,
      "outputs": [
        {
          "output_type": "stream",
          "text": [
            "d1 = [-10  -9  -8  -7  -6  -5  -4  -3  -2  -1   1   2   3   4   5   6   7   8\n",
            "   9  10]\n",
            "Dimensión: 1\n",
            "Shape: (20,)\n"
          ],
          "name": "stdout"
        }
      ]
    },
    {
      "cell_type": "markdown",
      "metadata": {
        "id": "ZNANC2tm7T2q"
      },
      "source": [
        "### Elementos de un array\n"
      ]
    },
    {
      "cell_type": "markdown",
      "metadata": {
        "id": "aHN5Yq0x8PAe"
      },
      "source": [
        "#### Caso unidimensional\n",
        "\n",
        "Podemos acceder a los elementos de un array con la sintaxis `[]`.\n",
        "\n",
        "**Observación.** Recordad que en `Python` los índices empezaban en 0"
      ]
    },
    {
      "cell_type": "code",
      "metadata": {
        "colab": {
          "base_uri": "https://localhost:8080/"
        },
        "id": "ZzNEcvvW7eWK",
        "outputId": "1f46a2db-2930-4a35-ba7c-b0d77503288f"
      },
      "source": [
        "a = np.array([2, 3, 4, 5, 6])\n",
        "print(a)\n",
        "\n",
        "print(\"Primer elemento = \", a[0])\n",
        "print(\"Segundo elemento = \", a[1])\n",
        "print(\"Último elemento = \", a[-1])"
      ],
      "execution_count": null,
      "outputs": [
        {
          "output_type": "stream",
          "text": [
            "[2 3 4 5 6]\n",
            "Primer elemento = 2\n",
            "Segundo elemento =  3\n",
            "Último elemento =  6\n"
          ],
          "name": "stdout"
        }
      ]
    },
    {
      "cell_type": "markdown",
      "metadata": {
        "id": "PyWa7X0y8SDp"
      },
      "source": [
        "#### Caso multidimensional\n",
        "\n",
        "A la hora de acceder a elementos de un array multidimensional, tendremos que empezar indicando el índice del elemento en el nivel menos profundo y acabar indicando el índice del elemento en en nivel más profundo, todos entre `[]` separados por comas.\n",
        "\n",
        "En el caso de un array bidimiensional, como el que se muestra a continuación,"
      ]
    },
    {
      "cell_type": "code",
      "metadata": {
        "colab": {
          "base_uri": "https://localhost:8080/"
        },
        "id": "qBuwEhAQ8xw-",
        "outputId": "1aa3f65b-87ca-4152-ecf9-144af7238908"
      },
      "source": [
        "a = np.array([[-10, -9], [7, 8]])\n",
        "a.ndim"
      ],
      "execution_count": null,
      "outputs": [
        {
          "output_type": "execute_result",
          "data": {
            "text/plain": [
              "2"
            ]
          },
          "metadata": {
            "tags": []
          },
          "execution_count": 10
        }
      ]
    },
    {
      "cell_type": "markdown",
      "metadata": {
        "id": "RZxrvJfL8-KZ"
      },
      "source": [
        "Para acceder al elemento -9, primero habrá que indicar el índice 0, pues el array unidimensional al que pertenece se encuentra en el índice 0 del nivel menos profundo. A continuación, indicaremos el índice 1, pues esa es la posición que ocupa el elemento de nuestro interés dentro del array unidimensional, que se trata del nivel más profundo en este caso:"
      ]
    },
    {
      "cell_type": "code",
      "metadata": {
        "colab": {
          "base_uri": "https://localhost:8080/"
        },
        "id": "OV2DoLCy9RwO",
        "outputId": "a05d0c62-c632-4383-e05b-63038c6e39ac"
      },
      "source": [
        "a[0, 1]"
      ],
      "execution_count": null,
      "outputs": [
        {
          "output_type": "execute_result",
          "data": {
            "text/plain": [
              "-9"
            ]
          },
          "metadata": {
            "tags": []
          },
          "execution_count": 11
        }
      ]
    },
    {
      "cell_type": "markdown",
      "metadata": {
        "id": "f6m73UtJ9Wfk"
      },
      "source": [
        "En el caso de un array tridimensional, como el que se muestra a continuación,"
      ]
    },
    {
      "cell_type": "code",
      "metadata": {
        "colab": {
          "base_uri": "https://localhost:8080/"
        },
        "id": "yXx82f-A9ZnH",
        "outputId": "72bfe81b-57a2-43e8-e916-813b6aef6453"
      },
      "source": [
        "a = np.array([[[1, 2, 3], [-3, -2, -1]], [[4, 5, 6], [7, 8, 9]]])\n",
        "a.ndim"
      ],
      "execution_count": null,
      "outputs": [
        {
          "output_type": "execute_result",
          "data": {
            "text/plain": [
              "3"
            ]
          },
          "metadata": {
            "tags": []
          },
          "execution_count": 12
        }
      ]
    },
    {
      "cell_type": "markdown",
      "metadata": {
        "id": "z-qmk_ZA9rSL"
      },
      "source": [
        "Para acceder al elemento 7, primero habrá que indicar el índice 1, pues el array 2-dimensional al que pertenece se encuentra en la posición 1 del nivel menos profundo. Entramos en el siguiente nivel, el array 2-dimensional. Ahora, la posición que hay que indicar es la 1, pues el array 1-dimensional ocupa dicho índice dentro del array 2-dimensional. Finalmente, llegamos al nivel más profundo, el array 1-dimensional, y ahora hay que indicar el índice 0, pues esa es la posición que ocupa el elemento de nuestro interés dentro del array unidimensional."
      ]
    },
    {
      "cell_type": "code",
      "metadata": {
        "colab": {
          "base_uri": "https://localhost:8080/"
        },
        "id": "G974Zcjt-Lgz",
        "outputId": "fa18551d-d3ce-42c4-9ec9-14f8721549f2"
      },
      "source": [
        "a[1, 1, 0]"
      ],
      "execution_count": null,
      "outputs": [
        {
          "output_type": "execute_result",
          "data": {
            "text/plain": [
              "7"
            ]
          },
          "metadata": {
            "tags": []
          },
          "execution_count": 13
        }
      ]
    },
    {
      "cell_type": "markdown",
      "metadata": {
        "id": "zT4GRFhM-fNp"
      },
      "source": [
        "Dado un array multidimensional, si lo que queremos es que se nos devuelva un array de dimensión menor, entonces solamnente tenemos que indicar sus índices tal cuál hacíamos para obtener un elemento.\n",
        "\n",
        "Dado el array `a` tridimensional anterior, si queremos acceder al array unidimensional `[-3, -2, -1]`, entonces indicaremos entre `[]` los índices 0 y, a continuación, 1. Pues dicho array se encuentra en el primer array bidimensional y dentro de éste, ocupa la segunda posición, es decir, el índice 1:"
      ]
    },
    {
      "cell_type": "code",
      "metadata": {
        "colab": {
          "base_uri": "https://localhost:8080/"
        },
        "id": "m7NcclHJ-4xE",
        "outputId": "a8fa9bbe-a40e-48fc-fd01-ae15303e7eed"
      },
      "source": [
        "a[0, 1]"
      ],
      "execution_count": null,
      "outputs": [
        {
          "output_type": "execute_result",
          "data": {
            "text/plain": [
              "array([-3, -2, -1])"
            ]
          },
          "metadata": {
            "tags": []
          },
          "execution_count": 14
        }
      ]
    },
    {
      "cell_type": "markdown",
      "metadata": {
        "id": "8JB4HYFUAQ9l"
      },
      "source": [
        "#### Índices negativos\n",
        "\n",
        "Al igual que para el caso de las listas, los elementos de los `ndarrays` también pueden ser accedidos mediante índices negativos.\n",
        "\n",
        "El índice `-1` hace referencia al último elemento; el `-2`, al penúltimo; el `-3` al antepenúltimo; y así sucesivamente."
      ]
    },
    {
      "cell_type": "code",
      "metadata": {
        "colab": {
          "base_uri": "https://localhost:8080/"
        },
        "id": "hLFBvwEUITZt",
        "outputId": "c1259f18-5f0a-4908-cb0c-ff1e0b020a75"
      },
      "source": [
        "a[-1]"
      ],
      "execution_count": null,
      "outputs": [
        {
          "output_type": "execute_result",
          "data": {
            "text/plain": [
              "array([[4, 5, 6],\n",
              "       [7, 8, 9]])"
            ]
          },
          "metadata": {
            "tags": []
          },
          "execution_count": 15
        }
      ]
    },
    {
      "cell_type": "markdown",
      "metadata": {
        "id": "fBF975JcAy-V"
      },
      "source": [
        "### Slicing\n",
        "\n",
        "En `Python`, **slicing** hace referencia a tomar elementos desde un índice dado hasta otro proporcionado.\n",
        "\n",
        "Ya conocemos la sintaxis:\n",
        "\n",
        "* `[inicio:fin]` donde iremos desde el índice `inicio` hasta el índice `fin`-1, y lo haremos de 1 en 1\n",
        "* `[inicio:fin:paso]` donde iremos desde el índice `inicio` hasta el índice `fin`-1, y lo haremos de `paso` en `paso`\n",
        "\n"
      ]
    },
    {
      "cell_type": "markdown",
      "metadata": {
        "id": "xFkU26ZWCoMW"
      },
      "source": [
        "#### Caso unidimensional"
      ]
    },
    {
      "cell_type": "code",
      "metadata": {
        "id": "WvYZDhcCCFqH",
        "colab": {
          "base_uri": "https://localhost:8080/"
        },
        "outputId": "6ad4a051-57c5-4e94-b555-26c2dc8148f9"
      },
      "source": [
        "# Array unidimensional\n",
        "a1 = np.array([9, 8, 7, 6, 5, 4, 3])\n",
        "a1"
      ],
      "execution_count": null,
      "outputs": [
        {
          "output_type": "execute_result",
          "data": {
            "text/plain": [
              "array([9, 8, 7, 6, 5, 4, 3])"
            ]
          },
          "metadata": {},
          "execution_count": 5
        }
      ]
    },
    {
      "cell_type": "code",
      "metadata": {
        "colab": {
          "base_uri": "https://localhost:8080/"
        },
        "id": "0FUMtjTQBlnG",
        "outputId": "767bcff9-cc4d-486b-e20c-133a0c2863cb"
      },
      "source": [
        "# Del segundo elemento al cuarto de 1 en 1\n",
        "a1[1:4]"
      ],
      "execution_count": null,
      "outputs": [
        {
          "output_type": "execute_result",
          "data": {
            "text/plain": [
              "array([8, 7, 6])"
            ]
          },
          "metadata": {},
          "execution_count": 6
        }
      ]
    },
    {
      "cell_type": "code",
      "metadata": {
        "colab": {
          "base_uri": "https://localhost:8080/"
        },
        "id": "86U46AZWBzjq",
        "outputId": "97c03c60-654c-48df-c284-d95b43005fe0"
      },
      "source": [
        "# Del primer elemento al sexto de 1 en 1\n",
        "a1[:6]"
      ],
      "execution_count": null,
      "outputs": [
        {
          "output_type": "execute_result",
          "data": {
            "text/plain": [
              "array([9, 8, 7, 6, 5, 4])"
            ]
          },
          "metadata": {},
          "execution_count": 7
        }
      ]
    },
    {
      "cell_type": "code",
      "metadata": {
        "colab": {
          "base_uri": "https://localhost:8080/"
        },
        "id": "Wg6tSJFzB5Ep",
        "outputId": "c09209ad-ca45-4800-9a3c-a3c9d86bd1cc"
      },
      "source": [
        "# Del tercer elemento al último de 1 en 1\n",
        "a1[2:]"
      ],
      "execution_count": null,
      "outputs": [
        {
          "output_type": "execute_result",
          "data": {
            "text/plain": [
              "array([7, 6, 5, 4, 3])"
            ]
          },
          "metadata": {},
          "execution_count": 8
        }
      ]
    },
    {
      "cell_type": "code",
      "metadata": {
        "colab": {
          "base_uri": "https://localhost:8080/"
        },
        "id": "ODkKs9RMCslh",
        "outputId": "bc385dda-2b10-4b92-9017-7ad8798b30dd"
      },
      "source": [
        "# Del segundo elemento al sexto de 2 en 2\n",
        "a1[1:6:2]"
      ],
      "execution_count": null,
      "outputs": [
        {
          "output_type": "execute_result",
          "data": {
            "text/plain": [
              "array([8, 6, 4])"
            ]
          },
          "metadata": {},
          "execution_count": 9
        }
      ]
    },
    {
      "cell_type": "code",
      "metadata": {
        "colab": {
          "base_uri": "https://localhost:8080/"
        },
        "id": "yP_V6COaCS6F",
        "outputId": "d55e4ef2-904f-4c41-d1f4-7d24ee71c113"
      },
      "source": [
        "# Del primer elemento al quinto de 2 en 2\n",
        "a1[:5:2]"
      ],
      "execution_count": null,
      "outputs": [
        {
          "output_type": "execute_result",
          "data": {
            "text/plain": [
              "array([9, 7, 5])"
            ]
          },
          "metadata": {},
          "execution_count": 10
        }
      ]
    },
    {
      "cell_type": "code",
      "metadata": {
        "colab": {
          "base_uri": "https://localhost:8080/"
        },
        "id": "AnWBlZvACDld",
        "outputId": "6b33a117-6b70-48d8-f7dd-8e02941090fa"
      },
      "source": [
        "# Del segundo elemento al último de 3 en 3\n",
        "a1[1::3]"
      ],
      "execution_count": null,
      "outputs": [
        {
          "output_type": "execute_result",
          "data": {
            "text/plain": [
              "array([8, 5])"
            ]
          },
          "metadata": {},
          "execution_count": 11
        }
      ]
    },
    {
      "cell_type": "code",
      "metadata": {
        "colab": {
          "base_uri": "https://localhost:8080/"
        },
        "id": "RMaIy9_qCcqr",
        "outputId": "cecbf24d-16f1-4a0e-944c-3ff15b1ad405"
      },
      "source": [
        "# Del primer elemento al último de 4 en 4\n",
        "a1[::4]"
      ],
      "execution_count": null,
      "outputs": [
        {
          "output_type": "execute_result",
          "data": {
            "text/plain": [
              "array([9, 5])"
            ]
          },
          "metadata": {},
          "execution_count": 12
        }
      ]
    },
    {
      "cell_type": "markdown",
      "metadata": {
        "id": "PSqFBMlnC0Cg"
      },
      "source": [
        "#### Caso multidimensional\n"
      ]
    },
    {
      "cell_type": "code",
      "metadata": {
        "colab": {
          "base_uri": "https://localhost:8080/"
        },
        "id": "y_xc0RcQC2_I",
        "outputId": "a8643fb5-d521-4b7d-c03f-e3b1ae6c23c4"
      },
      "source": [
        "# Array 4-dimensional\n",
        "a4 = np.array([[[[-211, -210], [-29, -28], [-27, -26]], [[-25, -24], [-23, -22], [-21, -20]]],\n",
        "               [[[-111, -110], [-19, -18], [-17, -16]], [[-15, -14], [-13, -12], [-11, -10]]],\n",
        "               [[[111, 110], [19, 18], [17, 16]], [[15, 14], [13, 12], [11, 10]]],\n",
        "               [[[211, 210], [29, 28], [27, 26]], [[25, 24], [23, 22], [21, 20]]]])\n",
        "a4.ndim"
      ],
      "execution_count": null,
      "outputs": [
        {
          "output_type": "execute_result",
          "data": {
            "text/plain": [
              "4"
            ]
          },
          "metadata": {
            "tags": []
          },
          "execution_count": 23
        }
      ]
    },
    {
      "cell_type": "code",
      "metadata": {
        "colab": {
          "base_uri": "https://localhost:8080/"
        },
        "id": "E7pqRoPrKJ1g",
        "outputId": "e91bb809-e58e-4741-e9db-3b8b71872bcc"
      },
      "source": [
        "a4.shape"
      ],
      "execution_count": null,
      "outputs": [
        {
          "output_type": "execute_result",
          "data": {
            "text/plain": [
              "(4, 2, 3, 2)"
            ]
          },
          "metadata": {
            "tags": []
          },
          "execution_count": 24
        }
      ]
    },
    {
      "cell_type": "markdown",
      "metadata": {
        "id": "3Ov1Mb6MEjSO"
      },
      "source": [
        "El array 4-dimensional `a4` consta de 4 arrays tridimensionales, cada uno de ellos con 2 arrays bidimensionales que contienen cada uno 3 arrays unidimensionales."
      ]
    },
    {
      "cell_type": "code",
      "metadata": {
        "colab": {
          "base_uri": "https://localhost:8080/"
        },
        "id": "zHRORNmGE1qE",
        "outputId": "53342958-3a58-4117-f380-87c812510790"
      },
      "source": [
        "# Mostramos del segundo al tercer array 3D\n",
        "a4[1:3]"
      ],
      "execution_count": null,
      "outputs": [
        {
          "output_type": "execute_result",
          "data": {
            "text/plain": [
              "array([[[[-111, -110],\n",
              "         [ -19,  -18],\n",
              "         [ -17,  -16]],\n",
              "\n",
              "        [[ -15,  -14],\n",
              "         [ -13,  -12],\n",
              "         [ -11,  -10]]],\n",
              "\n",
              "\n",
              "       [[[ 111,  110],\n",
              "         [  19,   18],\n",
              "         [  17,   16]],\n",
              "\n",
              "        [[  15,   14],\n",
              "         [  13,   12],\n",
              "         [  11,   10]]]])"
            ]
          },
          "metadata": {
            "tags": []
          },
          "execution_count": 25
        }
      ]
    },
    {
      "cell_type": "code",
      "metadata": {
        "colab": {
          "base_uri": "https://localhost:8080/"
        },
        "id": "SkIhw5YmFBtJ",
        "outputId": "91e96c47-d363-4e6d-9233-5ee464a0dc6a"
      },
      "source": [
        "# Del segundo array 2D del primer array 3D, mostramos los dos primeros arrays 1D\n",
        "a4[0, 1, :2]"
      ],
      "execution_count": null,
      "outputs": [
        {
          "output_type": "execute_result",
          "data": {
            "text/plain": [
              "array([[-25, -24],\n",
              "       [-23, -22]])"
            ]
          },
          "metadata": {
            "tags": []
          },
          "execution_count": 26
        }
      ]
    },
    {
      "cell_type": "code",
      "metadata": {
        "colab": {
          "base_uri": "https://localhost:8080/"
        },
        "id": "OpnYYmJ9FZeP",
        "outputId": "9caff096-cd97-4747-a7fe-a798a1c8672e"
      },
      "source": [
        "# Del segundo al último array 3D, mostramos el segundo array 1D del primer array 2D\n",
        "a4[1:, 0, 1]"
      ],
      "execution_count": null,
      "outputs": [
        {
          "output_type": "execute_result",
          "data": {
            "text/plain": [
              "array([[-19, -18],\n",
              "       [ 19,  18],\n",
              "       [ 29,  28]])"
            ]
          },
          "metadata": {
            "tags": []
          },
          "execution_count": 27
        }
      ]
    },
    {
      "cell_type": "markdown",
      "metadata": {
        "id": "qzYEs42MGA2f"
      },
      "source": [
        "**Observación.** Al igual que para acceder a elementos, los índices negativos también funcionan en el slicing de arrays (Negative Slicing)"
      ]
    },
    {
      "cell_type": "code",
      "metadata": {
        "colab": {
          "base_uri": "https://localhost:8080/"
        },
        "id": "nGrkczBeGKs9",
        "outputId": "a977facc-b714-4e5e-9c71-ec911fbce9e8"
      },
      "source": [
        "# De los dos últimos arrays 3D, mostramos el último elemento de, del último array 1D de cada array 2D\n",
        "a4[-2:, :, -1, -1]"
      ],
      "execution_count": null,
      "outputs": [
        {
          "output_type": "execute_result",
          "data": {
            "text/plain": [
              "array([[16, 10],\n",
              "       [26, 20]])"
            ]
          },
          "metadata": {
            "tags": []
          },
          "execution_count": 28
        }
      ]
    },
    {
      "cell_type": "markdown",
      "metadata": {
        "id": "kgleaaEIdurF"
      },
      "source": [
        "### Filtrando arrays\n",
        "\n",
        "Filtrar un array implica la selección de elementos de un array existente que satisfagan una condición y crear un nuevo array con dichos elementos.\n",
        "\n",
        "La sintaxis es muy similar al slicing, pero en vez de eso, entre corchetes indicamos una condición booleana. Los elementos que satisfagan la condición serán los que permanezcan, mientras que el resto serán omitidos.\n",
        "\n",
        "Visto de otro modo, la condición crea un array booleano. Aquellas posiciones ocupadas por un `True` serán las contenidas en el array filtrado, mientras que las que estén ocupadas por `False` (porque no satisfacen la condición), serán descartadas."
      ]
    },
    {
      "cell_type": "code",
      "metadata": {
        "colab": {
          "base_uri": "https://localhost:8080/"
        },
        "id": "-CCaCh4feKU6",
        "outputId": "3ef681eb-5ea9-436f-d573-fbe754bcd416"
      },
      "source": [
        "a = np.array([4, 3, 2, 3, 4])\n",
        "b = a[a == 4]\n",
        "print(b)"
      ],
      "execution_count": null,
      "outputs": [
        {
          "output_type": "stream",
          "text": [
            "[4 4]\n"
          ],
          "name": "stdout"
        }
      ]
    },
    {
      "cell_type": "code",
      "metadata": {
        "colab": {
          "base_uri": "https://localhost:8080/"
        },
        "id": "W447Jf6JMRLJ",
        "outputId": "3876eee8-3f2f-40a8-c2a8-11001d3b55bb"
      },
      "source": [
        "a == 4"
      ],
      "execution_count": null,
      "outputs": [
        {
          "output_type": "execute_result",
          "data": {
            "text/plain": [
              "array([ True, False, False, False,  True])"
            ]
          },
          "metadata": {
            "tags": []
          },
          "execution_count": 30
        }
      ]
    },
    {
      "cell_type": "code",
      "metadata": {
        "colab": {
          "base_uri": "https://localhost:8080/"
        },
        "id": "t79OKWxXe1nC",
        "outputId": "57e3869a-7c28-4e2f-d7fd-c017252b3a25"
      },
      "source": [
        "c = a[a % 2 == 0]\n",
        "print(c)"
      ],
      "execution_count": null,
      "outputs": [
        {
          "output_type": "stream",
          "text": [
            "[4 2 4]\n"
          ],
          "name": "stdout"
        }
      ]
    },
    {
      "cell_type": "code",
      "metadata": {
        "colab": {
          "base_uri": "https://localhost:8080/"
        },
        "id": "d6G0E1DCe9Jn",
        "outputId": "ba89c3c0-3b28-4493-a921-453148d4b138"
      },
      "source": [
        "d = a[a <= 2]\n",
        "print(d)"
      ],
      "execution_count": null,
      "outputs": [
        {
          "output_type": "stream",
          "text": [
            "[2]\n"
          ],
          "name": "stdout"
        }
      ]
    },
    {
      "cell_type": "code",
      "metadata": {
        "colab": {
          "base_uri": "https://localhost:8080/"
        },
        "id": "U3oy5v6KM4Pm",
        "outputId": "70f2b28b-c673-4b98-ec92-2f5ece5fea81"
      },
      "source": [
        "d5[d5 % 2 == 0]"
      ],
      "execution_count": null,
      "outputs": [
        {
          "output_type": "execute_result",
          "data": {
            "text/plain": [
              "array([-10,  -8,  -6,  -4,  -2,   2,   4,   6,   8,  10])"
            ]
          },
          "metadata": {
            "tags": []
          },
          "execution_count": 36
        }
      ]
    },
    {
      "cell_type": "markdown",
      "metadata": {
        "id": "3QN-lijfHmdX"
      },
      "source": [
        "### Tipos de datos en `numpy`"
      ]
    },
    {
      "cell_type": "markdown",
      "metadata": {
        "id": "iyyGw2ayArZM"
      },
      "source": [
        "Por defecto, `Python` tiene los siguientes tipos de dato:\n",
        "\n",
        "* `int`: integer\n",
        "* `float`: float\n",
        "* `complex`: complex float\n",
        "* `bool`: boolean\n",
        "* `str`: string\n",
        "\n",
        "En `numpy` encontramos tipos de datos adicicionales\n",
        "\n",
        "* `i`: integer\n",
        "* `u`: unsigned integer\n",
        "* `f`: float\n",
        "* `c`: complex float\n",
        "* `b`: boolean\n",
        "* `m`: timedelta\n",
        "* `M`: datetime\n",
        "* `O`: object\n",
        "* `S`: string\n",
        "* `U`: unicode string\n",
        "* `V`: void"
      ]
    },
    {
      "cell_type": "markdown",
      "metadata": {
        "id": "RU1O95ghGtct"
      },
      "source": [
        "Para comprobar el tipo de dato de un array, usamos el método `.dtype`"
      ]
    },
    {
      "cell_type": "code",
      "metadata": {
        "colab": {
          "base_uri": "https://localhost:8080/"
        },
        "id": "MNWMdC_oAqmP",
        "outputId": "d0c5a8d8-b507-4315-8b2a-2bd27396822d"
      },
      "source": [
        "a = np.array([1, 2, 3])\n",
        "print(a)\n",
        "a.dtype"
      ],
      "execution_count": null,
      "outputs": [
        {
          "output_type": "stream",
          "text": [
            "[1 2 3]\n"
          ],
          "name": "stdout"
        },
        {
          "output_type": "execute_result",
          "data": {
            "text/plain": [
              "dtype('int64')"
            ]
          },
          "metadata": {
            "tags": []
          },
          "execution_count": 37
        }
      ]
    },
    {
      "cell_type": "markdown",
      "metadata": {
        "id": "UcLg6cKLHF-q"
      },
      "source": [
        "**Observación.** Como podéis ver, no solo se muestra el tipo de dato, sino también el tamaño"
      ]
    },
    {
      "cell_type": "code",
      "metadata": {
        "colab": {
          "base_uri": "https://localhost:8080/"
        },
        "id": "tVu15CACG4W7",
        "outputId": "92ca2723-8249-4d4d-f174-86427de962cb"
      },
      "source": [
        "a = np.array([1.5, 2.4, 3.7])\n",
        "print(a)\n",
        "a.dtype"
      ],
      "execution_count": null,
      "outputs": [
        {
          "output_type": "stream",
          "text": [
            "[1.5 2.4 3.7]\n"
          ],
          "name": "stdout"
        },
        {
          "output_type": "execute_result",
          "data": {
            "text/plain": [
              "dtype('float64')"
            ]
          },
          "metadata": {
            "tags": []
          },
          "execution_count": 38
        }
      ]
    },
    {
      "cell_type": "code",
      "metadata": {
        "colab": {
          "base_uri": "https://localhost:8080/"
        },
        "id": "CZ1rBju5G86i",
        "outputId": "bca168f2-00cd-4daa-b0e5-7edfb1b76190"
      },
      "source": [
        "a = np.array([1j, 2 + 3j, 3 - 7j])\n",
        "print(a)\n",
        "a.dtype"
      ],
      "execution_count": null,
      "outputs": [
        {
          "output_type": "stream",
          "text": [
            "[0.+1.j 2.+3.j 3.-7.j]\n"
          ],
          "name": "stdout"
        },
        {
          "output_type": "execute_result",
          "data": {
            "text/plain": [
              "dtype('complex128')"
            ]
          },
          "metadata": {
            "tags": []
          },
          "execution_count": 39
        }
      ]
    },
    {
      "cell_type": "code",
      "metadata": {
        "colab": {
          "base_uri": "https://localhost:8080/"
        },
        "id": "6MyrRAYQHT95",
        "outputId": "0cc33ee3-17b2-483c-d22d-7bfaac45abf6"
      },
      "source": [
        "a = np.array([\"araña\", \"barco\", \"colonia\"])\n",
        "print(a)\n",
        "a.dtype"
      ],
      "execution_count": null,
      "outputs": [
        {
          "output_type": "stream",
          "text": [
            "['araña' 'barco' 'colonia']\n"
          ],
          "name": "stdout"
        },
        {
          "output_type": "execute_result",
          "data": {
            "text/plain": [
              "dtype('<U7')"
            ]
          },
          "metadata": {
            "tags": []
          },
          "execution_count": 40
        }
      ]
    },
    {
      "cell_type": "code",
      "metadata": {
        "colab": {
          "base_uri": "https://localhost:8080/"
        },
        "id": "j1AjoQfhHMmL",
        "outputId": "0690bc5a-4e46-400e-c24c-8d0fe89b29a2"
      },
      "source": [
        "a = np.array([\"a\", \"b\", \"c\"])\n",
        "print(a)\n",
        "a.dtype"
      ],
      "execution_count": null,
      "outputs": [
        {
          "output_type": "stream",
          "text": [
            "['a' 'b' 'c']\n"
          ],
          "name": "stdout"
        },
        {
          "output_type": "execute_result",
          "data": {
            "text/plain": [
              "dtype('<U1')"
            ]
          },
          "metadata": {
            "tags": []
          },
          "execution_count": 41
        }
      ]
    },
    {
      "cell_type": "markdown",
      "metadata": {
        "id": "PwtzzQkHHh7h"
      },
      "source": [
        "Al usar el método `.array()`, existe un parámetro `dtype` que nos permite definir el tipo de dato que queremos que tengan los elementos de dicho ndarray"
      ]
    },
    {
      "cell_type": "code",
      "metadata": {
        "colab": {
          "base_uri": "https://localhost:8080/"
        },
        "id": "QJ9dBMTPHslL",
        "outputId": "ae6ff397-c3e8-4175-c6f8-30f16239c32c"
      },
      "source": [
        "a = np.array([1, 2, 3, 4, 5], dtype = \"S\")\n",
        "print(a)\n",
        "a.dtype"
      ],
      "execution_count": null,
      "outputs": [
        {
          "output_type": "stream",
          "text": [
            "[b'1' b'2' b'3' b'4' b'5']\n"
          ],
          "name": "stdout"
        },
        {
          "output_type": "execute_result",
          "data": {
            "text/plain": [
              "dtype('S1')"
            ]
          },
          "metadata": {
            "tags": []
          },
          "execution_count": 42
        }
      ]
    },
    {
      "cell_type": "markdown",
      "metadata": {
        "id": "u3_5PpXZH5Pr"
      },
      "source": [
        "**Observación.** Para el caso de los tipos de dato `i`, `u`, `f`, `S` y `U`, con el parámetro `dtype` también podemos definir el tamaño"
      ]
    },
    {
      "cell_type": "code",
      "metadata": {
        "colab": {
          "base_uri": "https://localhost:8080/"
        },
        "id": "8EEJ0rYkIZqK",
        "outputId": "f0c94979-a08d-41e3-8673-337d6255705f"
      },
      "source": [
        "a = np.array([1, 2, 3, 4, 5], dtype = \"i1\")\n",
        "print(a)\n",
        "a.dtype"
      ],
      "execution_count": null,
      "outputs": [
        {
          "output_type": "stream",
          "text": [
            "[1 2 3 4 5]\n"
          ],
          "name": "stdout"
        },
        {
          "output_type": "execute_result",
          "data": {
            "text/plain": [
              "dtype('int8')"
            ]
          },
          "metadata": {
            "tags": []
          },
          "execution_count": 43
        }
      ]
    },
    {
      "cell_type": "code",
      "metadata": {
        "colab": {
          "base_uri": "https://localhost:8080/"
        },
        "id": "79SOgnOrH4RG",
        "outputId": "94912ca8-8908-47dc-fa1c-2e197a7e9269"
      },
      "source": [
        "a = np.array([1, 2, 3, 4, 5], dtype = \"i2\")\n",
        "print(a)\n",
        "a.dtype"
      ],
      "execution_count": null,
      "outputs": [
        {
          "output_type": "stream",
          "text": [
            "[1 2 3 4 5]\n"
          ],
          "name": "stdout"
        },
        {
          "output_type": "execute_result",
          "data": {
            "text/plain": [
              "dtype('int16')"
            ]
          },
          "metadata": {
            "tags": []
          },
          "execution_count": 44
        }
      ]
    },
    {
      "cell_type": "code",
      "metadata": {
        "colab": {
          "base_uri": "https://localhost:8080/"
        },
        "id": "vHcMErNmIqKt",
        "outputId": "8ae0f901-5c3d-4eb3-8c75-7e3053422429"
      },
      "source": [
        "a = np.array([1, 2, 3, 4, 5], dtype = \"f8\")\n",
        "print(a)\n",
        "a.dtype"
      ],
      "execution_count": null,
      "outputs": [
        {
          "output_type": "stream",
          "text": [
            "[1. 2. 3. 4. 5.]\n"
          ],
          "name": "stdout"
        },
        {
          "output_type": "execute_result",
          "data": {
            "text/plain": [
              "dtype('float64')"
            ]
          },
          "metadata": {
            "tags": []
          },
          "execution_count": 45
        }
      ]
    },
    {
      "cell_type": "code",
      "metadata": {
        "colab": {
          "base_uri": "https://localhost:8080/"
        },
        "id": "oy-Lkf7eI77C",
        "outputId": "e9c44f21-21c9-431c-f80e-5b828d69cde3"
      },
      "source": [
        "a = np.array([1, 2, 3, 4, 5], dtype = \"c16\")\n",
        "print(a)\n",
        "a.dtype"
      ],
      "execution_count": null,
      "outputs": [
        {
          "output_type": "stream",
          "text": [
            "[1.+0.j 2.+0.j 3.+0.j 4.+0.j 5.+0.j]\n"
          ],
          "name": "stdout"
        },
        {
          "output_type": "execute_result",
          "data": {
            "text/plain": [
              "dtype('complex128')"
            ]
          },
          "metadata": {
            "tags": []
          },
          "execution_count": 46
        }
      ]
    },
    {
      "cell_type": "code",
      "metadata": {
        "id": "HwIUek2IIGaZ",
        "colab": {
          "base_uri": "https://localhost:8080/"
        },
        "outputId": "27f8bd90-080b-42da-e20c-e4cc52c3a4e9"
      },
      "source": [
        "a = np.array([1, 2, 3, 4, 5], dtype = \"S2\")\n",
        "print(a)\n",
        "a.dtype"
      ],
      "execution_count": null,
      "outputs": [
        {
          "output_type": "stream",
          "text": [
            "[b'1' b'2' b'3' b'4' b'5']\n"
          ],
          "name": "stdout"
        },
        {
          "output_type": "execute_result",
          "data": {
            "text/plain": [
              "dtype('S2')"
            ]
          },
          "metadata": {
            "tags": []
          },
          "execution_count": 47
        }
      ]
    },
    {
      "cell_type": "markdown",
      "metadata": {
        "id": "ABTFETRJJHFU"
      },
      "source": [
        "Si queremos cambiar el tipo de dato de un array existente, usamos el método `.astype()`"
      ]
    },
    {
      "cell_type": "code",
      "metadata": {
        "colab": {
          "base_uri": "https://localhost:8080/"
        },
        "id": "JosJT5zZJLfn",
        "outputId": "03f1b76e-7634-4b33-d112-35c967783121"
      },
      "source": [
        "a = np.array([1, 2, 3, 4, 5], dtype = \"f16\")\n",
        "print(\"El array a es de tipo\", a.dtype)\n",
        "b = a.astype(\"i\")\n",
        "print(\"El array b es de tipo\", b.dtype)"
      ],
      "execution_count": null,
      "outputs": [
        {
          "output_type": "stream",
          "text": [
            "El array a es de tipo float128\n",
            "El array b es de tipo int32\n"
          ],
          "name": "stdout"
        }
      ]
    },
    {
      "cell_type": "code",
      "metadata": {
        "colab": {
          "base_uri": "https://localhost:8080/"
        },
        "id": "s-2GbK2IJ-P9",
        "outputId": "13bc13d7-0c41-42e9-8dc4-917286d807c5"
      },
      "source": [
        "a = np.array([1, 2, 3, 4, 5], dtype = \"f16\")\n",
        "print(\"El array a es de tipo\", a.dtype)\n",
        "b = a.astype(int)\n",
        "print(\"El array b es de tipo\", b.dtype)"
      ],
      "execution_count": null,
      "outputs": [
        {
          "output_type": "stream",
          "text": [
            "El array a es de tipo float128\n",
            "El array b es de tipo int64\n"
          ],
          "name": "stdout"
        }
      ]
    },
    {
      "cell_type": "code",
      "metadata": {
        "colab": {
          "base_uri": "https://localhost:8080/"
        },
        "id": "VkiE3On1JnJo",
        "outputId": "7b1de189-97a3-4b7e-b460-75a9c55a7d57"
      },
      "source": [
        "a = np.array([1, 0, 3, 0, 5, -10])\n",
        "print(a)\n",
        "print(\"El array a es de tipo\", a.dtype)\n",
        "b = a.astype(bool)\n",
        "print(b)\n",
        "print(\"El array b es de tipo\", b.dtype)"
      ],
      "execution_count": null,
      "outputs": [
        {
          "output_type": "stream",
          "text": [
            "[  1   0   3   0   5 -10]\n",
            "El array a es de tipo int64\n",
            "[ True False  True False  True  True]\n",
            "El array b es de tipo bool\n"
          ],
          "name": "stdout"
        }
      ]
    },
    {
      "cell_type": "markdown",
      "metadata": {
        "id": "UJIMgKIYKH_e"
      },
      "source": [
        "### Copias y Views de arrays\n",
        "\n",
        "**Copia.** Una copia de un array crea un nuevo array exactamente igual al original.\n",
        "\n",
        "La copia no es afectada pos los cambios aplicados en el array original."
      ]
    },
    {
      "cell_type": "code",
      "metadata": {
        "colab": {
          "base_uri": "https://localhost:8080/"
        },
        "id": "VeHRNp2ZKR61",
        "outputId": "68de12af-1c8b-4172-81a0-d3e3016f802d"
      },
      "source": [
        "x = np.array([\"a\", \"b\", \"c\"])\n",
        "print(x)\n",
        "x_copy = x.copy()\n",
        "print(x_copy)"
      ],
      "execution_count": null,
      "outputs": [
        {
          "output_type": "stream",
          "text": [
            "['a' 'b' 'c']\n",
            "['a' 'b' 'c']\n"
          ],
          "name": "stdout"
        }
      ]
    },
    {
      "cell_type": "markdown",
      "metadata": {
        "id": "nJaD2jjTKswe"
      },
      "source": [
        "**View.** Una view de un array es una referencial al array original.\n",
        "\n",
        "Los cambios aplicados al array original afectan también a la view, y viceversa."
      ]
    },
    {
      "cell_type": "code",
      "metadata": {
        "colab": {
          "base_uri": "https://localhost:8080/"
        },
        "id": "yBPjtYamLDA2",
        "outputId": "eb127038-8f21-4789-9bdd-70dfee9709da"
      },
      "source": [
        "y = np.array([1, 2, 3])\n",
        "print(\"y =\", y)\n",
        "y_view = y.view()\n",
        "print(\"y_view =\", y_view)"
      ],
      "execution_count": null,
      "outputs": [
        {
          "output_type": "stream",
          "text": [
            "y = [1 2 3]\n",
            "y_view = [1 2 3]\n"
          ],
          "name": "stdout"
        }
      ]
    },
    {
      "cell_type": "markdown",
      "metadata": {
        "id": "JSSmmGToLK-p"
      },
      "source": [
        "Si modificamos el original, veremos los cambios también aplicados en la view"
      ]
    },
    {
      "cell_type": "code",
      "metadata": {
        "colab": {
          "base_uri": "https://localhost:8080/"
        },
        "id": "FOWkumglLQCB",
        "outputId": "ad174b82-25de-4dc9-d441-e8d967f3f1e5"
      },
      "source": [
        "y[1] = 0\n",
        "print(\"y =\", y)\n",
        "print(\"y_view =\", y_view)"
      ],
      "execution_count": null,
      "outputs": [
        {
          "output_type": "stream",
          "text": [
            "y = [1 0 3]\n",
            "y_view = [1 0 3]\n"
          ],
          "name": "stdout"
        }
      ]
    },
    {
      "cell_type": "markdown",
      "metadata": {
        "id": "q-fKsWK3LhVx"
      },
      "source": [
        "Si modificamos la view, veremos los cambios también aplicados en el array original"
      ]
    },
    {
      "cell_type": "code",
      "metadata": {
        "colab": {
          "base_uri": "https://localhost:8080/"
        },
        "id": "M0x6eMtaLlbO",
        "outputId": "48688282-004a-4145-bb73-39367ce1df6f"
      },
      "source": [
        "y_view[0] = -3\n",
        "print(\"y =\", y)\n",
        "print(\"y_view =\", y_view)"
      ],
      "execution_count": null,
      "outputs": [
        {
          "output_type": "stream",
          "text": [
            "y = [-3  0  3]\n",
            "y_view = [-3  0  3]\n"
          ],
          "name": "stdout"
        }
      ]
    },
    {
      "cell_type": "markdown",
      "metadata": {
        "id": "qwQQHWKCLv6x"
      },
      "source": [
        "Para asegurarnos de si hemos hecho una copia o una view, podemos usar el método `.base`, que nos devolverá `None` si se trata de una copia y nos devolverá el array original si se trata de una view."
      ]
    },
    {
      "cell_type": "code",
      "metadata": {
        "colab": {
          "base_uri": "https://localhost:8080/"
        },
        "id": "hRHkja5-L6Mw",
        "outputId": "8d1468f4-1a03-4457-d06f-147dea87533f"
      },
      "source": [
        "z = np.array([1j, 0, -1j])\n",
        "z_copy = z.copy()\n",
        "z_view = z.view()\n",
        "\n",
        "print(\"z_copy nos devuelve\", z_copy.base, \"porque es una copia\")\n",
        "print(\"z_view nos devuelve\", z_view.base, \"porque es una view\")"
      ],
      "execution_count": null,
      "outputs": [
        {
          "output_type": "stream",
          "text": [
            "z_copy nos devuelve None porque es una copia\n",
            "z_view nos devuelve [ 0.+1.j  0.+0.j -0.-1.j] porque es una view\n"
          ],
          "name": "stdout"
        }
      ]
    },
    {
      "cell_type": "markdown",
      "metadata": {
        "id": "bHGmjVXYZNqw"
      },
      "source": [
        "### Arrays y bucles\n",
        "\n",
        "Podemos iterar un array tal cual lo hacíamos con listas:"
      ]
    },
    {
      "cell_type": "markdown",
      "metadata": {
        "id": "_Bpp3rlLaVgE"
      },
      "source": [
        "#### Array 1D"
      ]
    },
    {
      "cell_type": "code",
      "metadata": {
        "colab": {
          "base_uri": "https://localhost:8080/"
        },
        "id": "i3Zy7nl0aBj9",
        "outputId": "632c4bc5-767f-4e55-a8d8-a3adfa86de60"
      },
      "source": [
        "d1 = np.array([\"a\", \"b\", \"c\"])\n",
        "\n",
        "for i in d1:\n",
        "  print(i)"
      ],
      "execution_count": null,
      "outputs": [
        {
          "output_type": "stream",
          "text": [
            "a\n",
            "b\n",
            "c\n"
          ],
          "name": "stdout"
        }
      ]
    },
    {
      "cell_type": "markdown",
      "metadata": {
        "id": "vZc_vDLoaYab"
      },
      "source": [
        "#### Array 2D"
      ]
    },
    {
      "cell_type": "code",
      "metadata": {
        "id": "TciBStXdaaEh"
      },
      "source": [
        "d2 = np.array([[\"a\", \"b\", \"c\"], [1, 2, 3]])"
      ],
      "execution_count": null,
      "outputs": []
    },
    {
      "cell_type": "code",
      "metadata": {
        "colab": {
          "base_uri": "https://localhost:8080/"
        },
        "id": "ZZzrgNhHa92Z",
        "outputId": "3f16f79c-aacc-4fb7-c99d-49991c875d68"
      },
      "source": [
        "# Imprimimos los elementos del array 2D\n",
        "for d1 in d2:\n",
        "  print(d1)"
      ],
      "execution_count": null,
      "outputs": [
        {
          "output_type": "stream",
          "text": [
            "['a' 'b' 'c']\n",
            "['1' '2' '3']\n"
          ],
          "name": "stdout"
        }
      ]
    },
    {
      "cell_type": "code",
      "metadata": {
        "colab": {
          "base_uri": "https://localhost:8080/"
        },
        "id": "Da4Gcojdag6s",
        "outputId": "3966f026-3d6b-4b4f-af00-07591ec244af"
      },
      "source": [
        "# Imprimimos los elementos de los arrays 1D\n",
        "for d1 in d2:\n",
        "  for i in d1:\n",
        "    print(i)"
      ],
      "execution_count": null,
      "outputs": [
        {
          "output_type": "stream",
          "text": [
            "a\n",
            "b\n",
            "c\n",
            "1\n",
            "2\n",
            "3\n"
          ],
          "name": "stdout"
        }
      ]
    },
    {
      "cell_type": "markdown",
      "metadata": {
        "id": "KAQOhCAIauCH"
      },
      "source": [
        "#### Array 3D"
      ]
    },
    {
      "cell_type": "code",
      "metadata": {
        "colab": {
          "base_uri": "https://localhost:8080/"
        },
        "id": "4v1l9dVXaxjr",
        "outputId": "5e296f90-66da-4c58-d867-ca26375c4fa7"
      },
      "source": [
        "d3 = np.array([[[\"a\", \"b\", \"c\", \"d\"], [\"e\", \"f\", \"g\", \"h\"]], [[1, 2, 3, 4], [5, 6, 7, 8]]])\n",
        "d3.dtype"
      ],
      "execution_count": null,
      "outputs": [
        {
          "output_type": "execute_result",
          "data": {
            "text/plain": [
              "dtype('<U1')"
            ]
          },
          "metadata": {
            "tags": []
          },
          "execution_count": 60
        }
      ]
    },
    {
      "cell_type": "code",
      "metadata": {
        "colab": {
          "base_uri": "https://localhost:8080/"
        },
        "id": "YbRGbkQsbPUC",
        "outputId": "01069a39-5073-4ada-daf1-669aa5182dd1"
      },
      "source": [
        "# Imprimimos los elementos del array 3D\n",
        "for d2 in d3:\n",
        "  print(d2)"
      ],
      "execution_count": null,
      "outputs": [
        {
          "output_type": "stream",
          "text": [
            "[['a' 'b' 'c' 'd']\n",
            " ['e' 'f' 'g' 'h']]\n",
            "[['1' '2' '3' '4']\n",
            " ['5' '6' '7' '8']]\n"
          ],
          "name": "stdout"
        }
      ]
    },
    {
      "cell_type": "code",
      "metadata": {
        "colab": {
          "base_uri": "https://localhost:8080/"
        },
        "id": "uLpUwyrIbWqt",
        "outputId": "17c194e0-4b3c-48e4-edc7-6aaa1de9d63d"
      },
      "source": [
        "# Imprimimos los elementos de los arrays 2D\n",
        "for d2 in d3:\n",
        "  for d1 in d2:\n",
        "    print(d1)"
      ],
      "execution_count": null,
      "outputs": [
        {
          "output_type": "stream",
          "text": [
            "['a' 'b' 'c' 'd']\n",
            "['e' 'f' 'g' 'h']\n",
            "['1' '2' '3' '4']\n",
            "['5' '6' '7' '8']\n"
          ],
          "name": "stdout"
        }
      ]
    },
    {
      "cell_type": "code",
      "metadata": {
        "colab": {
          "base_uri": "https://localhost:8080/"
        },
        "id": "Yao3BMyKbeTP",
        "outputId": "a0a2bd29-be75-4273-f815-3c767bac20eb"
      },
      "source": [
        "# Imprimimos los elementos de los arrays 1D\n",
        "for d2 in d3:\n",
        "  for d1 in d2:\n",
        "    for i in d1:\n",
        "      print(i)"
      ],
      "execution_count": null,
      "outputs": [
        {
          "output_type": "stream",
          "text": [
            "a\n",
            "b\n",
            "c\n",
            "d\n",
            "e\n",
            "f\n",
            "g\n",
            "h\n",
            "1\n",
            "2\n",
            "3\n",
            "4\n",
            "5\n",
            "6\n",
            "7\n",
            "8\n"
          ],
          "name": "stdout"
        }
      ]
    },
    {
      "cell_type": "markdown",
      "metadata": {
        "id": "M7n3UfDobqwJ"
      },
      "source": [
        "Como vemos, cada vez que aumentamos la dimensión del array, hay que anidar bucles `for` para imprimir cada uno de los elementos de los arrays 1D.\n",
        "\n",
        "Como alternativa podríamos hacer un reshape del array multidimensional a un array unidimensional, pero dado un array con dimensión suficientemente grande, este proceso sería computacionalmente muy costoso:"
      ]
    },
    {
      "cell_type": "code",
      "metadata": {
        "colab": {
          "base_uri": "https://localhost:8080/"
        },
        "id": "15CPBbNtcWhh",
        "outputId": "e34c493c-b6e1-412b-9359-3aa6adbfaac3"
      },
      "source": [
        "for i in d3.reshape(-1):\n",
        "  print(i)"
      ],
      "execution_count": null,
      "outputs": [
        {
          "output_type": "stream",
          "text": [
            "a\n",
            "b\n",
            "c\n",
            "d\n",
            "e\n",
            "f\n",
            "g\n",
            "h\n",
            "1\n",
            "2\n",
            "3\n",
            "4\n",
            "5\n",
            "6\n",
            "7\n",
            "8\n"
          ],
          "name": "stdout"
        }
      ]
    },
    {
      "cell_type": "markdown",
      "metadata": {
        "id": "i75xJF3scww9"
      },
      "source": [
        "#### El método `.nditer()`"
      ]
    },
    {
      "cell_type": "markdown",
      "metadata": {
        "id": "gBt75f7_caWa"
      },
      "source": [
        "Para evitarnos tantas líneas de código y tanto coste computacional, tenemos el método `.nditer()`, que nos crea un iterable el cual nos permite imprimir todos los elementos de los arrays 1D, tal cuál hemos estado obteniendo hasta ahora:"
      ]
    },
    {
      "cell_type": "code",
      "metadata": {
        "colab": {
          "base_uri": "https://localhost:8080/"
        },
        "id": "LAmM9rLFb-zH",
        "outputId": "94c28c97-fca3-42d6-9b6a-4cbc62aa0ca1"
      },
      "source": [
        "for i in np.nditer(d3):\n",
        "  print(i)"
      ],
      "execution_count": null,
      "outputs": [
        {
          "output_type": "stream",
          "text": [
            "a\n",
            "b\n",
            "c\n",
            "d\n",
            "e\n",
            "f\n",
            "g\n",
            "h\n",
            "1\n",
            "2\n",
            "3\n",
            "4\n",
            "5\n",
            "6\n",
            "7\n",
            "8\n"
          ],
          "name": "stdout"
        }
      ]
    },
    {
      "cell_type": "markdown",
      "metadata": {
        "id": "SneVrau9c27w"
      },
      "source": [
        "El método `.nditer()` también nos permite cambiar el tipo de dato de los elementos de un array durante la iteración mediante el parámetro `op_dtypes`.\n",
        "\n",
        "`numpy` no ambia el tipo de dato de los elementos de un array en el sitio, de modo qu enecesita algún otro espacio para llevar a cabo esta acción. Este espacio extra es llamado **buffer** y se lo proporcionamos al método `.nditer()` con el argumento `flags = [\"buffered\"]`"
      ]
    },
    {
      "cell_type": "code",
      "metadata": {
        "colab": {
          "base_uri": "https://localhost:8080/"
        },
        "id": "pBU4M5W0dbHG",
        "outputId": "9f9edae4-b3d9-40cb-c401-071084045f0a"
      },
      "source": [
        "d2 = np.array([[1, 2], [3, 4], [5, 6]])\n",
        "for i in np.nditer(d2, flags = [\"buffered\"], op_dtypes = [\"S\"]):\n",
        "  print(i)"
      ],
      "execution_count": null,
      "outputs": [
        {
          "output_type": "stream",
          "text": [
            "b'1'\n",
            "b'2'\n",
            "b'3'\n",
            "b'4'\n",
            "b'5'\n",
            "b'6'\n"
          ],
          "name": "stdout"
        }
      ]
    },
    {
      "cell_type": "markdown",
      "metadata": {
        "id": "Qb7wgD_6dzvU"
      },
      "source": [
        "El método `.nditer()` también nos permite iterar con distinto paso (de 1 en 1, de 2 en 2, ...)"
      ]
    },
    {
      "cell_type": "code",
      "metadata": {
        "colab": {
          "base_uri": "https://localhost:8080/"
        },
        "id": "GnGPzC5qeLZa",
        "outputId": "502c7e69-8a1f-4b81-a58f-9cd6292f122c"
      },
      "source": [
        "d2 = np.array([[1, 2], [3, 4], [5, 6]])\n",
        "for i in np.nditer(d2[:, ::2]):\n",
        "  print(i)"
      ],
      "execution_count": null,
      "outputs": [
        {
          "output_type": "stream",
          "text": [
            "1\n",
            "3\n",
            "5\n"
          ],
          "name": "stdout"
        }
      ]
    },
    {
      "cell_type": "markdown",
      "metadata": {
        "id": "cJnDPVe8eaIr"
      },
      "source": [
        "#### El método `.ndenumerate()`\n",
        "\n",
        "A veces necesitamos el índice correspondiente al elemento durante la iteración. El método `.ndenumerate()` nos proporciona dicha información.\n",
        "\n"
      ]
    },
    {
      "cell_type": "code",
      "metadata": {
        "colab": {
          "base_uri": "https://localhost:8080/"
        },
        "id": "Daqw8nl2fEtI",
        "outputId": "750c36c4-83e4-4021-f89f-cd7b0e143e29"
      },
      "source": [
        "d1 = np.array([\"a\", \"b\", \"c\"])\n",
        "\n",
        "for idx, i in np.ndenumerate(d1):\n",
        "  print(\"Índice:\", idx,\"Elemento:\", i)"
      ],
      "execution_count": null,
      "outputs": [
        {
          "output_type": "stream",
          "text": [
            "Índice: (0,) Elemento: a\n",
            "Índice: (1,) Elemento: b\n",
            "Índice: (2,) Elemento: c\n"
          ],
          "name": "stdout"
        }
      ]
    },
    {
      "cell_type": "code",
      "metadata": {
        "colab": {
          "base_uri": "https://localhost:8080/"
        },
        "id": "1f_KlfYqexo8",
        "outputId": "9c5c6b27-82c5-4433-a8d8-531359c6f52e"
      },
      "source": [
        "d2 = np.array([[1, 2], [3, 4], [5, 6]])\n",
        "\n",
        "for idx, i in np.ndenumerate(d2):\n",
        "  print(\"Índice:\", idx,\"Elemento:\", i)"
      ],
      "execution_count": null,
      "outputs": [
        {
          "output_type": "stream",
          "text": [
            "Índice: (0, 0) Elemento: 1\n",
            "Índice: (0, 1) Elemento: 2\n",
            "Índice: (1, 0) Elemento: 3\n",
            "Índice: (1, 1) Elemento: 4\n",
            "Índice: (2, 0) Elemento: 5\n",
            "Índice: (2, 1) Elemento: 6\n"
          ],
          "name": "stdout"
        }
      ]
    },
    {
      "cell_type": "code",
      "metadata": {
        "colab": {
          "base_uri": "https://localhost:8080/"
        },
        "id": "sqRgpIpYfFav",
        "outputId": "6e979145-a17a-4950-e9f1-9ec6fc8eeb03"
      },
      "source": [
        "d3 = np.array([[[\"a\", \"b\", \"c\", \"d\"], [\"e\", \"f\", \"g\", \"h\"]], [[1, 2, 3, 4], [5, 6, 7, 8]]])\n",
        "\n",
        "for idx, i in np.ndenumerate(d3):\n",
        "  print(\"Índice:\", idx,\"Elemento:\", i)"
      ],
      "execution_count": null,
      "outputs": [
        {
          "output_type": "stream",
          "text": [
            "Índice: (0, 0, 0) Elemento: a\n",
            "Índice: (0, 0, 1) Elemento: b\n",
            "Índice: (0, 0, 2) Elemento: c\n",
            "Índice: (0, 0, 3) Elemento: d\n",
            "Índice: (0, 1, 0) Elemento: e\n",
            "Índice: (0, 1, 1) Elemento: f\n",
            "Índice: (0, 1, 2) Elemento: g\n",
            "Índice: (0, 1, 3) Elemento: h\n",
            "Índice: (1, 0, 0) Elemento: 1\n",
            "Índice: (1, 0, 1) Elemento: 2\n",
            "Índice: (1, 0, 2) Elemento: 3\n",
            "Índice: (1, 0, 3) Elemento: 4\n",
            "Índice: (1, 1, 0) Elemento: 5\n",
            "Índice: (1, 1, 1) Elemento: 6\n",
            "Índice: (1, 1, 2) Elemento: 7\n",
            "Índice: (1, 1, 3) Elemento: 8\n"
          ],
          "name": "stdout"
        }
      ]
    },
    {
      "cell_type": "markdown",
      "metadata": {
        "id": "AkafJcV-juN0"
      },
      "source": [
        "### Concatenación de arrays"
      ]
    },
    {
      "cell_type": "markdown",
      "metadata": {
        "id": "zFsWd91SzQ3Z"
      },
      "source": [
        "Para concatenar arrays, es decir, juntar dos o más arrays en un único array, usamos el método `.concatenate()`"
      ]
    },
    {
      "cell_type": "code",
      "metadata": {
        "colab": {
          "base_uri": "https://localhost:8080/"
        },
        "id": "EkrUswDbzaCy",
        "outputId": "9ffacf8b-2d0e-40fa-8158-99fbbf53231c"
      },
      "source": [
        "# Conatenamos arrays 1D\n",
        "a1 = np.array([-3, -2, -1])\n",
        "a2 = np.array([1, 2, 3])\n",
        "a = np.concatenate((a1, a2))\n",
        "print(a)"
      ],
      "execution_count": null,
      "outputs": [
        {
          "output_type": "stream",
          "text": [
            "[-3 -2 -1  1  2  3]\n"
          ],
          "name": "stdout"
        }
      ]
    },
    {
      "cell_type": "code",
      "metadata": {
        "colab": {
          "base_uri": "https://localhost:8080/"
        },
        "id": "Ka_kv89uz1RI",
        "outputId": "18a55d4d-3eaf-4100-b3b5-1ac92449c7cc"
      },
      "source": [
        "# Concatenamos arrays 2D\n",
        "b1 = np.array([[-6, -5], [-4, -3], [-2, -1]])\n",
        "b2 = np.array([[1, 2], [3, 4], [5, 6]])\n",
        "\n",
        "# Con axis = 0\n",
        "b = np.concatenate((b1, b2), axis = 0)\n",
        "print(\"axis = 0 nos devuelve\\n\", b)\n",
        "\n",
        "# Con axis = 1\n",
        "b = np.concatenate((b1, b2), axis = 1)\n",
        "print(\"\\naxis = 1 nos devuelve\\n\", b)"
      ],
      "execution_count": null,
      "outputs": [
        {
          "output_type": "stream",
          "text": [
            "axis = 0 nos devuelve\n",
            " [[-6 -5]\n",
            " [-4 -3]\n",
            " [-2 -1]\n",
            " [ 1  2]\n",
            " [ 3  4]\n",
            " [ 5  6]]\n",
            "\n",
            "axis = 1 nos devuelve\n",
            " [[-6 -5  1  2]\n",
            " [-4 -3  3  4]\n",
            " [-2 -1  5  6]]\n"
          ],
          "name": "stdout"
        }
      ]
    },
    {
      "cell_type": "markdown",
      "metadata": {
        "id": "_da1ID4V0MDX"
      },
      "source": [
        "**Observación.** En este caso, nos funcionan ambas configuraciones del valor `axis` pues los dos arrays 2D, `b1` y `b2` tienen tanto el mismo número de arrays 1D como el mismo número de elementos dentro de cada array 1D.\n",
        "\n",
        "Si indicamos `axis = 0`, se nos combinan ambos arrays 2D en un solo array 2D. En este caso es necesario que todos los arrays 1D tengan el mismo número de elementos.\n",
        "\n",
        "Sin embargo, si seleccionamos `axis = 1`, entonces obtenemos como resultado un array 2D con cada uno de los arrays 1D concatenados. En este caso necesitamos que en ambos arrays 2D haya el mismo número de arrays 1D."
      ]
    },
    {
      "cell_type": "code",
      "metadata": {
        "colab": {
          "base_uri": "https://localhost:8080/"
        },
        "id": "rYlZJpb617_m",
        "outputId": "7dbaa925-6e06-4e01-ac0b-1ce44d1a3aaf"
      },
      "source": [
        "# Concatenamos arrays 3D\n",
        "c1 = np.array([[[-10, -9], [-8, -7], [-6, -5]], [[-4, -3], [-2, -1], [0, 0]]])\n",
        "c2 = np.array([[[0, 0], [1, 2], [3, 4]], [[5, 6], [7, 8], [9, 10]]])\n",
        "\n",
        "# Con axis = 0\n",
        "c = np.concatenate((c1, c2), axis = 0)\n",
        "print(\"axis = 0 nos devuelve\\n\", c)\n",
        "\n",
        "# Con axis = 1\n",
        "c = np.concatenate((c1, c2), axis = 1)\n",
        "print(\"\\naxis = 1 nos devuelve\\n\", c)\n",
        "\n",
        "# Con axis = 2\n",
        "c = np.concatenate((c1, c2), axis = 2)\n",
        "print(\"\\naxis = 2 nos devuelve\\n\", c)"
      ],
      "execution_count": null,
      "outputs": [
        {
          "output_type": "stream",
          "text": [
            "axis = 0 nos devuelve\n",
            " [[[-10  -9]\n",
            "  [ -8  -7]\n",
            "  [ -6  -5]]\n",
            "\n",
            " [[ -4  -3]\n",
            "  [ -2  -1]\n",
            "  [  0   0]]\n",
            "\n",
            " [[  0   0]\n",
            "  [  1   2]\n",
            "  [  3   4]]\n",
            "\n",
            " [[  5   6]\n",
            "  [  7   8]\n",
            "  [  9  10]]]\n",
            "\n",
            "axis = 1 nos devuelve\n",
            " [[[-10  -9]\n",
            "  [ -8  -7]\n",
            "  [ -6  -5]\n",
            "  [  0   0]\n",
            "  [  1   2]\n",
            "  [  3   4]]\n",
            "\n",
            " [[ -4  -3]\n",
            "  [ -2  -1]\n",
            "  [  0   0]\n",
            "  [  5   6]\n",
            "  [  7   8]\n",
            "  [  9  10]]]\n",
            "\n",
            "axis = 2 nos devuelve\n",
            " [[[-10  -9   0   0]\n",
            "  [ -8  -7   1   2]\n",
            "  [ -6  -5   3   4]]\n",
            "\n",
            " [[ -4  -3   5   6]\n",
            "  [ -2  -1   7   8]\n",
            "  [  0   0   9  10]]]\n"
          ],
          "name": "stdout"
        }
      ]
    },
    {
      "cell_type": "markdown",
      "metadata": {
        "id": "akULHV-z2j8t"
      },
      "source": [
        "**Observación.** En este caso, nos vuelven a funcionar todas las configuraciones del valor `axis` pues los dos arrays 3D, `c1` y `c2` tienen tanto el mismo número de arrays 2D, como el mismo número de arrays 1D en cada array 2D, como el mismo número de elementos dentro de cada array 1D.\n",
        "\n",
        "Si indicamos `axis = 0`, se nos combinan ambos arrays 3D en un solo array 3D. Por su parte, si seleccionamos `axis = 1`, entonces obtenemos como resultado un array 3D con cada uno de los arrays 2D concatenados. Por último, si indicamos `axis = 2`, obtendremos un array 3D donde los arrays 1D han sido concatenados.\n",
        "\n",
        "**Observación.** Si queremos concatenar arrays $n$-dimensionales, tendremos $n-1$ opciones para el parámetro `axis`."
      ]
    },
    {
      "cell_type": "markdown",
      "metadata": {
        "id": "l_ftGdLG3r2K"
      },
      "source": [
        "#### Concatenación de arrays usando `.stack()`\n",
        "\n",
        "Llevar a cabo un stack es lo mismo que concatenar, solo que el stack se hace sobre un eje nuevo.\n",
        "\n",
        "Por ejemplo, podemos concatenar dos arrays unidimensionales sobre un segundo eje, lo que resultaría en poner un array sobre el otro: realizar un stack."
      ]
    },
    {
      "cell_type": "code",
      "metadata": {
        "id": "vFXxfsxk5b-B"
      },
      "source": [
        "a1 = np.array([-3, -2, -1])\n",
        "a2 = np.array([1, 2, 3])"
      ],
      "execution_count": null,
      "outputs": []
    },
    {
      "cell_type": "code",
      "metadata": {
        "colab": {
          "base_uri": "https://localhost:8080/"
        },
        "id": "doplusNL4qaj",
        "outputId": "b37e02c1-36b9-4f3e-8441-8861ed22c4a9"
      },
      "source": [
        "# Hacemos stack de arrays 1D con axis = 0\n",
        "a = np.stack((a1, a2), axis = 0)\n",
        "print(a)"
      ],
      "execution_count": null,
      "outputs": [
        {
          "output_type": "stream",
          "text": [
            "[[-3 -2 -1]\n",
            " [ 1  2  3]]\n"
          ],
          "name": "stdout"
        }
      ]
    },
    {
      "cell_type": "code",
      "metadata": {
        "colab": {
          "base_uri": "https://localhost:8080/"
        },
        "id": "nzqhccb-4REQ",
        "outputId": "a5bba3f7-ef2d-400d-e810-f13fba0218bd"
      },
      "source": [
        "# Hacemos stack de arrays 1D con axis = 1\n",
        "a = np.stack((a1, a2), axis = 1)\n",
        "print(a)"
      ],
      "execution_count": null,
      "outputs": [
        {
          "output_type": "stream",
          "text": [
            "[[-3  1]\n",
            " [-2  2]\n",
            " [-1  3]]\n"
          ],
          "name": "stdout"
        }
      ]
    },
    {
      "cell_type": "markdown",
      "metadata": {
        "id": "03OMDf424aaU"
      },
      "source": [
        "**Observación.** Al hacer stack de los arrays 1D, habiendo seleccionado `axis = 0`, obtenemos como resultado un array 2D con los dos arrays 1D originales. Sin embargo, si elegimos `axis = 1`, obtenemos nuevamente un array 2D, pero éste consta de 3 elementos 1D (en este ejemplo en concreto), cada cual con 2 elementos (el primero se corresponde con un elemento del array original `a1`, mientras que el segundo, con un elemento del array `a2`)"
      ]
    },
    {
      "cell_type": "code",
      "metadata": {
        "id": "b3UrcKOy5gj5"
      },
      "source": [
        "b1 = np.array([[-6, -5], [-4, -3], [-2, -1]])\n",
        "b2 = np.array([[1, 2], [3, 4], [5, 6]])"
      ],
      "execution_count": null,
      "outputs": []
    },
    {
      "cell_type": "code",
      "metadata": {
        "colab": {
          "base_uri": "https://localhost:8080/"
        },
        "id": "-PQSX_6S5YAr",
        "outputId": "e88d1a34-e4d1-4596-92f3-038016035b04"
      },
      "source": [
        "# Hacemos stack de arrays 2D con axis = 0\n",
        "b = np.stack((b1, b2), axis = 0)\n",
        "print(b)"
      ],
      "execution_count": null,
      "outputs": [
        {
          "output_type": "stream",
          "text": [
            "[[[-6 -5]\n",
            "  [-4 -3]\n",
            "  [-2 -1]]\n",
            "\n",
            " [[ 1  2]\n",
            "  [ 3  4]\n",
            "  [ 5  6]]]\n"
          ],
          "name": "stdout"
        }
      ]
    },
    {
      "cell_type": "code",
      "metadata": {
        "colab": {
          "base_uri": "https://localhost:8080/"
        },
        "id": "vMkGXXAr5smy",
        "outputId": "45739ec2-8380-4b32-8e7a-bde70e783d70"
      },
      "source": [
        "# Hacemos stack de arrays 2D con axis = 1\n",
        "b = np.stack((b1, b2), axis = 1)\n",
        "print(b)"
      ],
      "execution_count": null,
      "outputs": [
        {
          "output_type": "stream",
          "text": [
            "[[[-6 -5]\n",
            "  [ 1  2]]\n",
            "\n",
            " [[-4 -3]\n",
            "  [ 3  4]]\n",
            "\n",
            " [[-2 -1]\n",
            "  [ 5  6]]]\n"
          ],
          "name": "stdout"
        }
      ]
    },
    {
      "cell_type": "code",
      "metadata": {
        "colab": {
          "base_uri": "https://localhost:8080/"
        },
        "id": "MvnMuXau5tCe",
        "outputId": "de5c618f-7acd-4c39-f205-7066967f420c"
      },
      "source": [
        "# Hacemos stack de arrays 2D con axis = 2\n",
        "b = np.stack((b1, b2), axis = 2)\n",
        "print(b)"
      ],
      "execution_count": null,
      "outputs": [
        {
          "output_type": "stream",
          "text": [
            "[[[-6  1]\n",
            "  [-5  2]]\n",
            "\n",
            " [[-4  3]\n",
            "  [-3  4]]\n",
            "\n",
            " [[-2  5]\n",
            "  [-1  6]]]\n"
          ],
          "name": "stdout"
        }
      ]
    },
    {
      "cell_type": "markdown",
      "metadata": {
        "id": "GryZyljO50yj"
      },
      "source": [
        "**Observación.** Al hacer stack de los arrays 2D, habiendo seleccionado `axis = 0`, obtenemos como resultado un array 3D con los dos arrays 2D originales. Por su parte, si elegimos `axis = 1`, obtenemos nuevamente un array 3D, pero éste consta de 3 elementos 2D (en este ejemplo en concreto), cada cual con 2 elementos 1D (el primero se corresponde con un elemento del array original `b1`, mientras que el segundo, con un elemento del array `b2`). Por último, si consideramos `axis = 2`, obtenemos también un array 3D, que consta de 3 elementos 2D (en este ejemplo en concreto), cada uno con 2 elementos 1D que han sido concatenados del siguiente modo: el primer elemento del array 1D se corresponde con un elemento original del array `b1`, mientras que el segundo y último elemento del array 1D procede del array `b2`."
      ]
    },
    {
      "cell_type": "markdown",
      "metadata": {
        "id": "VeWRAalk6qrr"
      },
      "source": [
        "**Observación.** Si queremos hacer stack de arrays $n$-dimensionales, tendremos $n$ opciones para el parámetro `axis` y siempre obtendremos como resultado un array de dimensión $n+1$ que ha sido combinado según el `axis` seleccionado."
      ]
    },
    {
      "cell_type": "markdown",
      "metadata": {
        "id": "1NS_Xu4q7EGw"
      },
      "source": [
        "#### Concatenando por filas\n",
        "\n",
        "`numpy` proporciona la función helper `hstack()` que lleva a cabo una concatenación por filas:"
      ]
    },
    {
      "cell_type": "code",
      "metadata": {
        "colab": {
          "base_uri": "https://localhost:8080/"
        },
        "id": "gRaEjrMA7O5W",
        "outputId": "2a7800d3-bbb3-4bd1-9c68-ac235e5ac7ea"
      },
      "source": [
        "# Caso 1D (se corresponde con el resultado de .concatenate())\n",
        "a1 = np.array([-3, -2, -1])\n",
        "a2 = np.array([1, 2, 3])\n",
        "a = np.hstack((a1, a2))\n",
        "print(a)"
      ],
      "execution_count": null,
      "outputs": [
        {
          "output_type": "stream",
          "text": [
            "[-3 -2 -1  1  2  3]\n"
          ],
          "name": "stdout"
        }
      ]
    },
    {
      "cell_type": "code",
      "metadata": {
        "colab": {
          "base_uri": "https://localhost:8080/"
        },
        "id": "mUgbwSyG7oVa",
        "outputId": "e3db7cfd-81fb-4f68-d0d0-363b18920676"
      },
      "source": [
        "# Caso 2D (se corresponde con el resultado de .concatenate() con axis = 1)\n",
        "b1 = np.array([[-6, -5], [-4, -3], [-2, -1]])\n",
        "b2 = np.array([[1, 2], [3, 4], [5, 6]])\n",
        "b = np.hstack((b1, b2))\n",
        "print(b)"
      ],
      "execution_count": null,
      "outputs": [
        {
          "output_type": "stream",
          "text": [
            "[[-6 -5  1  2]\n",
            " [-4 -3  3  4]\n",
            " [-2 -1  5  6]]\n"
          ],
          "name": "stdout"
        }
      ]
    },
    {
      "cell_type": "code",
      "metadata": {
        "colab": {
          "base_uri": "https://localhost:8080/"
        },
        "id": "_8bhJ2Yr8GoA",
        "outputId": "c1293c5f-e1c8-45cd-ebd0-8839166a01fc"
      },
      "source": [
        "# Caso 3D (se corresponde con el resultado de .concatenate() con axis = 1)\n",
        "c1 = np.array([[[-10, -9], [-8, -7], [-6, -5]], [[-4, -3], [-2, -1], [0, 0]]])\n",
        "c2 = np.array([[[0, 0], [1, 2], [3, 4]], [[5, 6], [7, 8], [9, 10]]])\n",
        "c = np.hstack((c1, c2))\n",
        "print(c)"
      ],
      "execution_count": null,
      "outputs": [
        {
          "output_type": "stream",
          "text": [
            "[[[-10  -9]\n",
            "  [ -8  -7]\n",
            "  [ -6  -5]\n",
            "  [  0   0]\n",
            "  [  1   2]\n",
            "  [  3   4]]\n",
            "\n",
            " [[ -4  -3]\n",
            "  [ -2  -1]\n",
            "  [  0   0]\n",
            "  [  5   6]\n",
            "  [  7   8]\n",
            "  [  9  10]]]\n"
          ],
          "name": "stdout"
        }
      ]
    },
    {
      "cell_type": "markdown",
      "metadata": {
        "id": "JL3F-8VG8bOr"
      },
      "source": [
        "#### Concatenando por columnas\n",
        "\n",
        "`numpy` proporciona la función helper `vstack()` que lleva a cabo una concatenación por columnas:"
      ]
    },
    {
      "cell_type": "code",
      "metadata": {
        "colab": {
          "base_uri": "https://localhost:8080/"
        },
        "id": "5x500yRd8i0Z",
        "outputId": "89c27a35-c354-436e-91c2-5e41fb98788b"
      },
      "source": [
        "# Caso 1D (se corresponde con el resultado de .stack() con axis = 0)\n",
        "a1 = np.array([-3, -2, -1])\n",
        "a2 = np.array([1, 2, 3])\n",
        "a = np.vstack((a1, a2))\n",
        "print(a)"
      ],
      "execution_count": null,
      "outputs": [
        {
          "output_type": "stream",
          "text": [
            "[[-3 -2 -1]\n",
            " [ 1  2  3]]\n"
          ],
          "name": "stdout"
        }
      ]
    },
    {
      "cell_type": "code",
      "metadata": {
        "colab": {
          "base_uri": "https://localhost:8080/"
        },
        "id": "bb8oiAxH8jLw",
        "outputId": "abbe7265-f21a-4d36-c022-90c2192c8d1e"
      },
      "source": [
        "# Caso 2D (se corresponde con el resultado de .concatenate() con axis = 0)\n",
        "b1 = np.array([[-6, -5], [-4, -3], [-2, -1]])\n",
        "b2 = np.array([[1, 2], [3, 4], [5, 6]])\n",
        "b = np.vstack((b1, b2))\n",
        "print(b)"
      ],
      "execution_count": null,
      "outputs": [
        {
          "output_type": "stream",
          "text": [
            "[[-6 -5]\n",
            " [-4 -3]\n",
            " [-2 -1]\n",
            " [ 1  2]\n",
            " [ 3  4]\n",
            " [ 5  6]]\n"
          ],
          "name": "stdout"
        }
      ]
    },
    {
      "cell_type": "code",
      "metadata": {
        "colab": {
          "base_uri": "https://localhost:8080/"
        },
        "id": "GQkQN2wj9IIC",
        "outputId": "8f4828be-ad30-4587-d359-068f894973f3"
      },
      "source": [
        "# Caso 3D (se corresponde con el resultado de .concatenate() con axis = 0)\n",
        "c1 = np.array([[[-10, -9], [-8, -7], [-6, -5]], [[-4, -3], [-2, -1], [0, 0]]])\n",
        "c2 = np.array([[[0, 0], [1, 2], [3, 4]], [[5, 6], [7, 8], [9, 10]]])\n",
        "c = np.vstack((c1, c2))\n",
        "print(c)"
      ],
      "execution_count": null,
      "outputs": [
        {
          "output_type": "stream",
          "text": [
            "[[[-10  -9]\n",
            "  [ -8  -7]\n",
            "  [ -6  -5]]\n",
            "\n",
            " [[ -4  -3]\n",
            "  [ -2  -1]\n",
            "  [  0   0]]\n",
            "\n",
            " [[  0   0]\n",
            "  [  1   2]\n",
            "  [  3   4]]\n",
            "\n",
            " [[  5   6]\n",
            "  [  7   8]\n",
            "  [  9  10]]]\n"
          ],
          "name": "stdout"
        }
      ]
    },
    {
      "cell_type": "markdown",
      "metadata": {
        "id": "ue4vtFKe9ZJ5"
      },
      "source": [
        "#### Concatenando por profundidad\n",
        "\n",
        "`numpy` proporciona la función helper `dstack()` que lleva a cabo una concatenación por profundidad:"
      ]
    },
    {
      "cell_type": "code",
      "metadata": {
        "colab": {
          "base_uri": "https://localhost:8080/"
        },
        "id": "PHR02r4q9jEO",
        "outputId": "fa172d02-210a-4b3c-bdb2-e540c3b334d1"
      },
      "source": [
        "# Caso 1D (se corresponde con el resultado de .stack() con axis = 1)\n",
        "a1 = np.array([-3, -2, -1])\n",
        "a2 = np.array([1, 2, 3])\n",
        "a = np.dstack((a1, a2))\n",
        "print(a)"
      ],
      "execution_count": null,
      "outputs": [
        {
          "output_type": "stream",
          "text": [
            "[[[-3  1]\n",
            "  [-2  2]\n",
            "  [-1  3]]]\n"
          ],
          "name": "stdout"
        }
      ]
    },
    {
      "cell_type": "code",
      "metadata": {
        "colab": {
          "base_uri": "https://localhost:8080/"
        },
        "id": "b9Z0bMOw9jW-",
        "outputId": "76ecdf75-2d0c-4dd4-9ea0-0581a59bd374"
      },
      "source": [
        "# Caso 2D (se corresponde con el resultado de .stack() con axis = 2)\n",
        "b1 = np.array([[-6, -5], [-4, -3], [-2, -1]])\n",
        "b2 = np.array([[1, 2], [3, 4], [5, 6]])\n",
        "b = np.dstack((b1, b2))\n",
        "print(b)"
      ],
      "execution_count": null,
      "outputs": [
        {
          "output_type": "stream",
          "text": [
            "[[[-6  1]\n",
            "  [-5  2]]\n",
            "\n",
            " [[-4  3]\n",
            "  [-3  4]]\n",
            "\n",
            " [[-2  5]\n",
            "  [-1  6]]]\n"
          ],
          "name": "stdout"
        }
      ]
    },
    {
      "cell_type": "code",
      "metadata": {
        "colab": {
          "base_uri": "https://localhost:8080/"
        },
        "id": "_bftSes59jjS",
        "outputId": "691b3cf1-dba2-4936-9544-3a311e759071"
      },
      "source": [
        "# Caso 3D (se corresponde con el resultado de .concatenate() con axis = 2)\n",
        "c1 = np.array([[[-10, -9], [-8, -7], [-6, -5]], [[-4, -3], [-2, -1], [0, 0]]])\n",
        "c2 = np.array([[[0, 0], [1, 2], [3, 4]], [[5, 6], [7, 8], [9, 10]]])\n",
        "c = np.dstack((c1, c2))\n",
        "print(c)"
      ],
      "execution_count": null,
      "outputs": [
        {
          "output_type": "stream",
          "text": [
            "[[[-10  -9   0   0]\n",
            "  [ -8  -7   1   2]\n",
            "  [ -6  -5   3   4]]\n",
            "\n",
            " [[ -4  -3   5   6]\n",
            "  [ -2  -1   7   8]\n",
            "  [  0   0   9  10]]]\n"
          ],
          "name": "stdout"
        }
      ]
    },
    {
      "cell_type": "markdown",
      "metadata": {
        "id": "zd8a3ZS-DrFT"
      },
      "source": [
        "### División de arrays\n",
        "\n",
        "El proceso inverso a la concatenación es la división de arrays. La división de arrays consiste en romper un array en múltiples arrays.\n",
        "\n",
        "Para dividir arrays usamos el método `.array_split()`"
      ]
    },
    {
      "cell_type": "markdown",
      "metadata": {
        "id": "oDxkAfOyKzsK"
      },
      "source": [
        "#### Dividiendo arrays 1D"
      ]
    },
    {
      "cell_type": "code",
      "metadata": {
        "colab": {
          "base_uri": "https://localhost:8080/"
        },
        "id": "ztfal5lcJ-id",
        "outputId": "c48546d0-1eb6-4b44-c568-16860b7877a6"
      },
      "source": [
        "x = np.array([1, 2, 3, 4, 5, 6, 7, 8])\n",
        "y = np.array_split(x, 4)\n",
        "print(\"Del array original x =\", x)\n",
        "print(\"Dividiéndolo en 4 obtenemos:\", y)"
      ],
      "execution_count": null,
      "outputs": [
        {
          "output_type": "stream",
          "text": [
            "Del array original x = [1 2 3 4 5 6 7 8]\n",
            "Dividiéndolo en 4 obtenemos: [array([1, 2]), array([3, 4]), array([5, 6]), array([7, 8])]\n"
          ],
          "name": "stdout"
        }
      ]
    },
    {
      "cell_type": "markdown",
      "metadata": {
        "id": "wCMgTMNYKciM"
      },
      "source": [
        "Como resultado, obtenemos una lista con el número de arrays 1D que hemos indicado por parámetro.\n",
        "\n",
        "**Observación.** El array original lo podemos dividir en 2, 3,... hasta en tantos arrays como elementos contenga. Es decir, dado por ejemplo un array 1D con 8 elementos, podemos dividirlo en 2, 3, 4, ..., 8 arrays:"
      ]
    },
    {
      "cell_type": "code",
      "metadata": {
        "colab": {
          "base_uri": "https://localhost:8080/"
        },
        "id": "yPoZgD94J_5A",
        "outputId": "8fc6ec8d-22a8-4798-8b4b-93630b0913cb"
      },
      "source": [
        "for i in range(2, x.shape[0] + 1):\n",
        "  print(\"Dividimos en {} arrays: {}\".format(i, np.array_split(x, i)))"
      ],
      "execution_count": null,
      "outputs": [
        {
          "output_type": "stream",
          "text": [
            "Dividimos en 2 arrays: [array([1, 2, 3, 4]), array([5, 6, 7, 8])]\n",
            "Dividimos en 3 arrays: [array([1, 2, 3]), array([4, 5, 6]), array([7, 8])]\n",
            "Dividimos en 4 arrays: [array([1, 2]), array([3, 4]), array([5, 6]), array([7, 8])]\n",
            "Dividimos en 5 arrays: [array([1, 2]), array([3, 4]), array([5, 6]), array([7]), array([8])]\n",
            "Dividimos en 6 arrays: [array([1, 2]), array([3, 4]), array([5]), array([6]), array([7]), array([8])]\n",
            "Dividimos en 7 arrays: [array([1, 2]), array([3]), array([4]), array([5]), array([6]), array([7]), array([8])]\n",
            "Dividimos en 8 arrays: [array([1]), array([2]), array([3]), array([4]), array([5]), array([6]), array([7]), array([8])]\n"
          ],
          "name": "stdout"
        }
      ]
    },
    {
      "cell_type": "markdown",
      "metadata": {
        "id": "WM0yEiBUMI10"
      },
      "source": [
        "**Observación.** Si el número de arrays en que queremos dividir el array original, $m$, es divisor del número de elementos que tiene el array original, $n$, entonces todos los arrays resultantes tendrán el mismo número de elementos, $q$, donde $q$ es el cociente de la división entera de $n$ entre $m$.\n",
        "\n",
        "En cambio, si el número introducido por parámetro, $m$, no es divisor del número total de elementos del array original, $n$, entonces los $r$ primeros arrays resultantes, siendo $r$ el resto de la división entera de $n$ entre $m$, tendrán cada uno de ellos $q + 1$ elementos, mientras que el resto de arrays, los $m-r$ restantes, tendrán $q$ elementos. De modo que\n",
        "\n",
        "$$n = r\\cdot (q + 1) + (m - r)\\cdot q = qr + r + mq - qr = mq + r $$\n"
      ]
    },
    {
      "cell_type": "markdown",
      "metadata": {
        "id": "Zqnn5ibqNj4A"
      },
      "source": [
        "---\n",
        "#### Ejemplo 4\n",
        "\n",
        "Consideremos un array 1D con 20 elementos. Entonces,"
      ]
    },
    {
      "cell_type": "code",
      "metadata": {
        "colab": {
          "base_uri": "https://localhost:8080/"
        },
        "id": "azCL_tJ8Kkxj",
        "outputId": "54f13c9d-0a20-4351-babd-4d7e39be5406"
      },
      "source": [
        "a = np.array([1, 2, 3, 4, 5, 6, 7, 8, 9, 10,\n",
        "              11, 12, 13, 14, 15, 16, 17, 18, 19, 20])\n",
        "\n",
        "n = a.shape[0]\n",
        "for m in range(2, n + 1):\n",
        "  print(\"\\nDividimos el array original en {} arrays\".format(m))\n",
        "  q = n//m\n",
        "  r = n % m\n",
        "  print(\"n = {}, m = {}, q = {}, r = {}\".format(n, m, q, r))\n",
        "\n",
        "  if r == 0:\n",
        "    print(\"Los {} arrays resultantes tienen el mismo número de elementos: {}\".format(m, q))\n",
        "\n",
        "  else:\n",
        "    print(\"Los primeros {} arrays tienen {} elementos. El resto de los arrays tienen {} elementos\".format(r, q + 1, q))\n",
        "\n",
        "  for i in np.array_split(a, m):\n",
        "    print(i)"
      ],
      "execution_count": null,
      "outputs": [
        {
          "output_type": "stream",
          "text": [
            "\n",
            "Dividimos el array original en 2 arrays\n",
            "n = 20, m = 2, q = 10, r = 0\n",
            "Los 2 arrays resultantes tienen el mismo número de elementos: 10\n",
            "[ 1  2  3  4  5  6  7  8  9 10]\n",
            "[11 12 13 14 15 16 17 18 19 20]\n",
            "\n",
            "Dividimos el array original en 3 arrays\n",
            "n = 20, m = 3, q = 6, r = 2\n",
            "Los primeros 2 arrays tienen 7 elementos. El resto de los arrays tienen 6 elementos\n",
            "[1 2 3 4 5 6 7]\n",
            "[ 8  9 10 11 12 13 14]\n",
            "[15 16 17 18 19 20]\n",
            "\n",
            "Dividimos el array original en 4 arrays\n",
            "n = 20, m = 4, q = 5, r = 0\n",
            "Los 4 arrays resultantes tienen el mismo número de elementos: 5\n",
            "[1 2 3 4 5]\n",
            "[ 6  7  8  9 10]\n",
            "[11 12 13 14 15]\n",
            "[16 17 18 19 20]\n",
            "\n",
            "Dividimos el array original en 5 arrays\n",
            "n = 20, m = 5, q = 4, r = 0\n",
            "Los 5 arrays resultantes tienen el mismo número de elementos: 4\n",
            "[1 2 3 4]\n",
            "[5 6 7 8]\n",
            "[ 9 10 11 12]\n",
            "[13 14 15 16]\n",
            "[17 18 19 20]\n",
            "\n",
            "Dividimos el array original en 6 arrays\n",
            "n = 20, m = 6, q = 3, r = 2\n",
            "Los primeros 2 arrays tienen 4 elementos. El resto de los arrays tienen 3 elementos\n",
            "[1 2 3 4]\n",
            "[5 6 7 8]\n",
            "[ 9 10 11]\n",
            "[12 13 14]\n",
            "[15 16 17]\n",
            "[18 19 20]\n",
            "\n",
            "Dividimos el array original en 7 arrays\n",
            "n = 20, m = 7, q = 2, r = 6\n",
            "Los primeros 6 arrays tienen 3 elementos. El resto de los arrays tienen 2 elementos\n",
            "[1 2 3]\n",
            "[4 5 6]\n",
            "[7 8 9]\n",
            "[10 11 12]\n",
            "[13 14 15]\n",
            "[16 17 18]\n",
            "[19 20]\n",
            "\n",
            "Dividimos el array original en 8 arrays\n",
            "n = 20, m = 8, q = 2, r = 4\n",
            "Los primeros 4 arrays tienen 3 elementos. El resto de los arrays tienen 2 elementos\n",
            "[1 2 3]\n",
            "[4 5 6]\n",
            "[7 8 9]\n",
            "[10 11 12]\n",
            "[13 14]\n",
            "[15 16]\n",
            "[17 18]\n",
            "[19 20]\n",
            "\n",
            "Dividimos el array original en 9 arrays\n",
            "n = 20, m = 9, q = 2, r = 2\n",
            "Los primeros 2 arrays tienen 3 elementos. El resto de los arrays tienen 2 elementos\n",
            "[1 2 3]\n",
            "[4 5 6]\n",
            "[7 8]\n",
            "[ 9 10]\n",
            "[11 12]\n",
            "[13 14]\n",
            "[15 16]\n",
            "[17 18]\n",
            "[19 20]\n",
            "\n",
            "Dividimos el array original en 10 arrays\n",
            "n = 20, m = 10, q = 2, r = 0\n",
            "Los 10 arrays resultantes tienen el mismo número de elementos: 2\n",
            "[1 2]\n",
            "[3 4]\n",
            "[5 6]\n",
            "[7 8]\n",
            "[ 9 10]\n",
            "[11 12]\n",
            "[13 14]\n",
            "[15 16]\n",
            "[17 18]\n",
            "[19 20]\n",
            "\n",
            "Dividimos el array original en 11 arrays\n",
            "n = 20, m = 11, q = 1, r = 9\n",
            "Los primeros 9 arrays tienen 2 elementos. El resto de los arrays tienen 1 elementos\n",
            "[1 2]\n",
            "[3 4]\n",
            "[5 6]\n",
            "[7 8]\n",
            "[ 9 10]\n",
            "[11 12]\n",
            "[13 14]\n",
            "[15 16]\n",
            "[17 18]\n",
            "[19]\n",
            "[20]\n",
            "\n",
            "Dividimos el array original en 12 arrays\n",
            "n = 20, m = 12, q = 1, r = 8\n",
            "Los primeros 8 arrays tienen 2 elementos. El resto de los arrays tienen 1 elementos\n",
            "[1 2]\n",
            "[3 4]\n",
            "[5 6]\n",
            "[7 8]\n",
            "[ 9 10]\n",
            "[11 12]\n",
            "[13 14]\n",
            "[15 16]\n",
            "[17]\n",
            "[18]\n",
            "[19]\n",
            "[20]\n",
            "\n",
            "Dividimos el array original en 13 arrays\n",
            "n = 20, m = 13, q = 1, r = 7\n",
            "Los primeros 7 arrays tienen 2 elementos. El resto de los arrays tienen 1 elementos\n",
            "[1 2]\n",
            "[3 4]\n",
            "[5 6]\n",
            "[7 8]\n",
            "[ 9 10]\n",
            "[11 12]\n",
            "[13 14]\n",
            "[15]\n",
            "[16]\n",
            "[17]\n",
            "[18]\n",
            "[19]\n",
            "[20]\n",
            "\n",
            "Dividimos el array original en 14 arrays\n",
            "n = 20, m = 14, q = 1, r = 6\n",
            "Los primeros 6 arrays tienen 2 elementos. El resto de los arrays tienen 1 elementos\n",
            "[1 2]\n",
            "[3 4]\n",
            "[5 6]\n",
            "[7 8]\n",
            "[ 9 10]\n",
            "[11 12]\n",
            "[13]\n",
            "[14]\n",
            "[15]\n",
            "[16]\n",
            "[17]\n",
            "[18]\n",
            "[19]\n",
            "[20]\n",
            "\n",
            "Dividimos el array original en 15 arrays\n",
            "n = 20, m = 15, q = 1, r = 5\n",
            "Los primeros 5 arrays tienen 2 elementos. El resto de los arrays tienen 1 elementos\n",
            "[1 2]\n",
            "[3 4]\n",
            "[5 6]\n",
            "[7 8]\n",
            "[ 9 10]\n",
            "[11]\n",
            "[12]\n",
            "[13]\n",
            "[14]\n",
            "[15]\n",
            "[16]\n",
            "[17]\n",
            "[18]\n",
            "[19]\n",
            "[20]\n",
            "\n",
            "Dividimos el array original en 16 arrays\n",
            "n = 20, m = 16, q = 1, r = 4\n",
            "Los primeros 4 arrays tienen 2 elementos. El resto de los arrays tienen 1 elementos\n",
            "[1 2]\n",
            "[3 4]\n",
            "[5 6]\n",
            "[7 8]\n",
            "[9]\n",
            "[10]\n",
            "[11]\n",
            "[12]\n",
            "[13]\n",
            "[14]\n",
            "[15]\n",
            "[16]\n",
            "[17]\n",
            "[18]\n",
            "[19]\n",
            "[20]\n",
            "\n",
            "Dividimos el array original en 17 arrays\n",
            "n = 20, m = 17, q = 1, r = 3\n",
            "Los primeros 3 arrays tienen 2 elementos. El resto de los arrays tienen 1 elementos\n",
            "[1 2]\n",
            "[3 4]\n",
            "[5 6]\n",
            "[7]\n",
            "[8]\n",
            "[9]\n",
            "[10]\n",
            "[11]\n",
            "[12]\n",
            "[13]\n",
            "[14]\n",
            "[15]\n",
            "[16]\n",
            "[17]\n",
            "[18]\n",
            "[19]\n",
            "[20]\n",
            "\n",
            "Dividimos el array original en 18 arrays\n",
            "n = 20, m = 18, q = 1, r = 2\n",
            "Los primeros 2 arrays tienen 2 elementos. El resto de los arrays tienen 1 elementos\n",
            "[1 2]\n",
            "[3 4]\n",
            "[5]\n",
            "[6]\n",
            "[7]\n",
            "[8]\n",
            "[9]\n",
            "[10]\n",
            "[11]\n",
            "[12]\n",
            "[13]\n",
            "[14]\n",
            "[15]\n",
            "[16]\n",
            "[17]\n",
            "[18]\n",
            "[19]\n",
            "[20]\n",
            "\n",
            "Dividimos el array original en 19 arrays\n",
            "n = 20, m = 19, q = 1, r = 1\n",
            "Los primeros 1 arrays tienen 2 elementos. El resto de los arrays tienen 1 elementos\n",
            "[1 2]\n",
            "[3]\n",
            "[4]\n",
            "[5]\n",
            "[6]\n",
            "[7]\n",
            "[8]\n",
            "[9]\n",
            "[10]\n",
            "[11]\n",
            "[12]\n",
            "[13]\n",
            "[14]\n",
            "[15]\n",
            "[16]\n",
            "[17]\n",
            "[18]\n",
            "[19]\n",
            "[20]\n",
            "\n",
            "Dividimos el array original en 20 arrays\n",
            "n = 20, m = 20, q = 1, r = 0\n",
            "Los 20 arrays resultantes tienen el mismo número de elementos: 1\n",
            "[1]\n",
            "[2]\n",
            "[3]\n",
            "[4]\n",
            "[5]\n",
            "[6]\n",
            "[7]\n",
            "[8]\n",
            "[9]\n",
            "[10]\n",
            "[11]\n",
            "[12]\n",
            "[13]\n",
            "[14]\n",
            "[15]\n",
            "[16]\n",
            "[17]\n",
            "[18]\n",
            "[19]\n",
            "[20]\n"
          ],
          "name": "stdout"
        }
      ]
    },
    {
      "cell_type": "markdown",
      "metadata": {
        "id": "aBbW90CbTITU"
      },
      "source": [
        "---\n",
        "\n"
      ]
    },
    {
      "cell_type": "markdown",
      "metadata": {
        "id": "wM8imj0ZeQj-"
      },
      "source": [
        "#### El método `.split()`\n",
        "\n",
        "A la hora de dividir arrays tenemos también el método `.split()`, pero falla en caso de que el número de arrays en que queramos dividir el array original no sea divisor del número de elementos del array."
      ]
    },
    {
      "cell_type": "code",
      "metadata": {
        "colab": {
          "base_uri": "https://localhost:8080/"
        },
        "id": "OK6jbUOdTkQ-",
        "outputId": "54709dae-b145-455d-c475-823ec3ca7bb4"
      },
      "source": [
        "x = np.array([1, 2, 3, 4, 5, 6, 7, 8])\n",
        "y = np.split(x, 4)\n",
        "print(\"Del array original x =\", x)\n",
        "print(\"Dividiéndolo en 4 obtenemos:\", y)"
      ],
      "execution_count": null,
      "outputs": [
        {
          "output_type": "stream",
          "text": [
            "Del array original x = [1 2 3 4 5 6 7 8]\n",
            "Dividiéndolo en 4 obtenemos: [array([1, 2]), array([3, 4]), array([5, 6]), array([7, 8])]\n"
          ],
          "name": "stdout"
        }
      ]
    },
    {
      "cell_type": "markdown",
      "metadata": {
        "id": "-TLUzf-QTxZ0"
      },
      "source": [
        "Al cumplirse que el número de arrays en que queremos dividir el array original es divisor del número de elementos del array, obtenemos el mismo resultado que al usar el método `.array_split()`.\n",
        "\n",
        "El siguiente caso, donde queremos dividir los 8 elementos en 3 arrays, nos dará error pues la división no es exacta:"
      ]
    },
    {
      "cell_type": "code",
      "metadata": {
        "id": "LuqcXMt3SmD_"
      },
      "source": [
        "x = np.array([1, 2, 3, 4, 5, 6, 7, 8])\n",
        "y = np.split(x, 3)"
      ],
      "execution_count": null,
      "outputs": []
    },
    {
      "cell_type": "markdown",
      "metadata": {
        "id": "XWh0Ha3jUJcY"
      },
      "source": [
        "#### Dividiendo arrays 2D\n",
        "\n",
        "Podemos también dividir arrays 2D en múltiples arrays 2D:"
      ]
    },
    {
      "cell_type": "code",
      "metadata": {
        "colab": {
          "base_uri": "https://localhost:8080/"
        },
        "id": "SP-vHhpITZ8B",
        "outputId": "24dd5389-5faf-4b1c-a786-14938f1cabbe"
      },
      "source": [
        "x = np.array([[-1, 0, 1], [-2, 0, 2], [-3, 0, 3],\n",
        "              [-4, 0, 4], [-5, 0, 5], [-6, 0, 6]])\n",
        "y = np.array_split(x, 3)\n",
        "print(\"Del array original x =\\n\", x)\n",
        "print(\"Dividiéndolo en 3 obtenemos:\")\n",
        "for i in y:\n",
        "  print(i)"
      ],
      "execution_count": null,
      "outputs": [
        {
          "output_type": "stream",
          "text": [
            "Del array original x =\n",
            " [[-1  0  1]\n",
            " [-2  0  2]\n",
            " [-3  0  3]\n",
            " [-4  0  4]\n",
            " [-5  0  5]\n",
            " [-6  0  6]]\n",
            "Dividiéndolo en 3 obtenemos:\n",
            "[[-1  0  1]\n",
            " [-2  0  2]]\n",
            "[[-3  0  3]\n",
            " [-4  0  4]]\n",
            "[[-5  0  5]\n",
            " [-6  0  6]]\n"
          ],
          "name": "stdout"
        }
      ]
    },
    {
      "cell_type": "markdown",
      "metadata": {
        "id": "Bb2TePrrUy0x"
      },
      "source": [
        "Como resultado, obtenemos una lista con el número de arrays 2D que hemos indicado por parámetro.\n",
        "\n",
        "De nuevo, el array 2D original lo podemos dividir en 2, 3,... hasta en tantos arrays como elementos 1D contenga. Es decir, dado por ejemplo un array 2D con 6 arrays 1D, podemos dividirlo en 2, 3, 4, ..., 6 arrays 2D:"
      ]
    },
    {
      "cell_type": "code",
      "metadata": {
        "colab": {
          "base_uri": "https://localhost:8080/"
        },
        "id": "KONsp0PvUheM",
        "outputId": "0b811793-3d6f-4d44-cd06-2279e4a05b8e"
      },
      "source": [
        "for i in range(2, x.shape[0] + 1):\n",
        "  print(\"\\nDividimos el array original en {} arrays:\".format(i))\n",
        "  for j in np.array_split(x, i):\n",
        "    print(j)"
      ],
      "execution_count": null,
      "outputs": [
        {
          "output_type": "stream",
          "text": [
            "\n",
            "Dividimos el array original en 2 arrays:\n",
            "[[-1  0  1]\n",
            " [-2  0  2]\n",
            " [-3  0  3]]\n",
            "[[-4  0  4]\n",
            " [-5  0  5]\n",
            " [-6  0  6]]\n",
            "\n",
            "Dividimos el array original en 3 arrays:\n",
            "[[-1  0  1]\n",
            " [-2  0  2]]\n",
            "[[-3  0  3]\n",
            " [-4  0  4]]\n",
            "[[-5  0  5]\n",
            " [-6  0  6]]\n",
            "\n",
            "Dividimos el array original en 4 arrays:\n",
            "[[-1  0  1]\n",
            " [-2  0  2]]\n",
            "[[-3  0  3]\n",
            " [-4  0  4]]\n",
            "[[-5  0  5]]\n",
            "[[-6  0  6]]\n",
            "\n",
            "Dividimos el array original en 5 arrays:\n",
            "[[-1  0  1]\n",
            " [-2  0  2]]\n",
            "[[-3  0  3]]\n",
            "[[-4  0  4]]\n",
            "[[-5  0  5]]\n",
            "[[-6  0  6]]\n",
            "\n",
            "Dividimos el array original en 6 arrays:\n",
            "[[-1  0  1]]\n",
            "[[-2  0  2]]\n",
            "[[-3  0  3]]\n",
            "[[-4  0  4]]\n",
            "[[-5  0  5]]\n",
            "[[-6  0  6]]\n"
          ],
          "name": "stdout"
        }
      ]
    },
    {
      "cell_type": "markdown",
      "metadata": {
        "id": "Pi_2jbqpV6lN"
      },
      "source": [
        "**Observación.** En el caso 2D, vuelve a satisfacerse que si el número de arrays en que queremos dividir el array 2D original, $m$, es divisor del número de elementos 1D que tiene el array original 2D, $n$, entonces todos los arrays 2D resultantes tendrán el mismo número de arrays 1D, $q$, donde $q$ es el cociente de la división entera de $n$ entre $m$.\n",
        "\n",
        "En cambio, si el número introducido por parámetro, $m$, no es divisor del número total de arrays 1D que contiene el array original, $n$, entonces los $r$ primeros arrays 2D resultantes, siendo $r$ el resto de la división entera de $n$ entre $m$, tendrán cada uno de ellos $q + 1$ elementos, mientras que el resto de arrays 2D, los $m-r$ restantes, tendrán $q$ elementos. De modo que\n",
        "\n",
        "$$n = r\\cdot (q + 1) + (m - r)\\cdot q = qr + r + mq - qr = mq + r $$"
      ]
    },
    {
      "cell_type": "markdown",
      "metadata": {
        "id": "rzP-PEMdWbQ6"
      },
      "source": [
        "En el caso de dividir arrays multidimensionales, volvemos a tener la opción de configurar el parámetro `axis`."
      ]
    },
    {
      "cell_type": "code",
      "metadata": {
        "colab": {
          "base_uri": "https://localhost:8080/"
        },
        "id": "N51-AKsVVFmg",
        "outputId": "cd56435b-c0f2-449f-ddb6-acedd4d7fba7"
      },
      "source": [
        "x = np.array([[-1, 0, 1], [-2, 0, 2], [-3, 0, 3],\n",
        "              [-4, 0, 4], [-5, 0, 5], [-6, 0, 6]])\n",
        "print(\"Del array original x =\\n\", x)\n",
        "print(\"Dividiéndolo en 3 con axis = 0 obtenemos:\")\n",
        "y = np.array_split(x, 3, axis = 0)\n",
        "for i in y:\n",
        "  print(i)\n",
        "\n",
        "print(\"\\nDividiéndolo en 3 con axis = 1 obtenemos:\")\n",
        "y = np.array_split(x, 3, axis = 1)\n",
        "for i in y:\n",
        "  print(i)"
      ],
      "execution_count": null,
      "outputs": [
        {
          "output_type": "stream",
          "text": [
            "Del array original x =\n",
            " [[-1  0  1]\n",
            " [-2  0  2]\n",
            " [-3  0  3]\n",
            " [-4  0  4]\n",
            " [-5  0  5]\n",
            " [-6  0  6]]\n",
            "Dividiéndolo en 3 con axis = 0 obtenemos:\n",
            "[[-1  0  1]\n",
            " [-2  0  2]]\n",
            "[[-3  0  3]\n",
            " [-4  0  4]]\n",
            "[[-5  0  5]\n",
            " [-6  0  6]]\n",
            "\n",
            "Dividiéndolo en 3 con axis = 1 obtenemos:\n",
            "[[-1]\n",
            " [-2]\n",
            " [-3]\n",
            " [-4]\n",
            " [-5]\n",
            " [-6]]\n",
            "[[0]\n",
            " [0]\n",
            " [0]\n",
            " [0]\n",
            " [0]\n",
            " [0]]\n",
            "[[1]\n",
            " [2]\n",
            " [3]\n",
            " [4]\n",
            " [5]\n",
            " [6]]\n"
          ],
          "name": "stdout"
        }
      ]
    },
    {
      "cell_type": "markdown",
      "metadata": {
        "id": "gWRimdmpZmuN"
      },
      "source": [
        "En el caso de `axis = 0`, obtenemos como resultado una lista de arrays 2D donde se han repartido los arrays 1D en el número de arrays 2D indicado por parámetro a la función y del modo que hemos explicado anteriormente.\n",
        "\n",
        "En el caso de `axis = 1`, obtenemos como resultado una lista de arrays 2D, tantos como se ha indicado por parámetro, donde se han repartido los elementos de cada array 1D.\n",
        "\n",
        "**Observación.** En el caso 2D, si configuramos `axis = 1`, si el número de arrays en que queremos dividir el array 2D original, $m$, es divisor del número de elementos contenidos en cada array 1D del array original 2D, $n$, entonces todos los arrays 2D resultantes tendrán tantos arrays 1D como tenían originalmente, los cuales tendrán todos el mismo número de elementos, $q$, donde $q$ es el cociente de la división entera de $n$ entre $m$.\n",
        "\n",
        "En cambio, si el número introducido por parámetro, $m$, no es divisor del número total de elementos contenidos en cada array 1D del array original 2D, $n$, entonces todos los arrays 2D resultantes tendrán el mismo número de arrays 1D que el original, pero los arrays 1D de los $r$ primeros arrays 2D resultantes, siendo $r$ el resto de la división entera de $n$ entre $m$, tendrán cada uno de ellos $q + 1$ elementos, mientras que los arrays 1D para el resto de arrays 2D, los $m-r$ restantes, tendrán $q$ elementos cada uno de ellos. De modo que\n",
        "\n",
        "$$n = r\\cdot (q + 1) + (m - r)\\cdot q = qr + r + mq - qr = mq + r $$"
      ]
    },
    {
      "cell_type": "markdown",
      "metadata": {
        "id": "6GZ9SQyebcRF"
      },
      "source": [
        "**Observación.** Para el caso de `axis = 1`, podremos dividir el array original en 2, 3, ..., hasta el número de elementos que contengan cada uno de los arrays 1D del array 2D original."
      ]
    },
    {
      "cell_type": "markdown",
      "metadata": {
        "id": "loZ5oyRgbQ3d"
      },
      "source": [
        "---\n",
        "#### Ejemplo 5\n",
        "\n",
        "Consideremos un array 2D con 4 arrays 1D, cada uno de los cuales contiene 5 elementos."
      ]
    },
    {
      "cell_type": "code",
      "metadata": {
        "colab": {
          "base_uri": "https://localhost:8080/"
        },
        "id": "xCZkMHP0bs6T",
        "outputId": "6d4fe3e7-8c57-472e-c2ff-14c727f98d18"
      },
      "source": [
        "a = np.array([[1, 2, 3, 4, 5],\n",
        "              [6, 7, 8, 9, 10],\n",
        "              [11, 12, 13, 14, 15],\n",
        "              [16, 17, 18, 19, 20]])\n",
        "\n",
        "print(\"La shape del array 2D original es:\", a.shape)\n",
        "\n",
        "n = a.shape[-1] # Tomamos el número de elementos que contiene cada array 1D\n",
        "for m in range(2, n + 1):\n",
        "  print(\"\\nDividimos el array original 2D en {} arrays con axis = 1\".format(m))\n",
        "  q = n//m\n",
        "  r = n % m\n",
        "  print(\"n = {}, m = {}, q = {}, r = {}\".format(n, m, q, r))\n",
        "\n",
        "  print(\"Los {} arrays resultantes contienen el mismo número de arrays 1D que el original\".format(m), sep = \" \")\n",
        "  if r == 0:\n",
        "    print(\"cada uno de ellos con el mismo número de elementos: {}\".format(q))\n",
        "\n",
        "  else:\n",
        "    print(\"\\nEn este caso, para los primeros {} arrays 2D, cada array 1D tiene {} elementos.\".format(r, q + 1))\n",
        "    print(\"para los arrays 2D restantes, cada array 1D tiene {} elementos\".format(q))\n",
        "\n",
        "  for i in np.array_split(a, m, axis = 1):\n",
        "    print(i)"
      ],
      "execution_count": null,
      "outputs": [
        {
          "output_type": "stream",
          "text": [
            "La shape del array 2D original es: (4, 5)\n",
            "\n",
            "Dividimos el array original 2D en 2 arrays con axis = 1\n",
            "n = 5, m = 2, q = 2, r = 1\n",
            "Los 2 arrays resultantes contienen el mismo número de arrays 1D que el original\n",
            "\n",
            "En este caso, para los primeros 1 arrays 2D, cada array 1D tiene 3 elementos.\n",
            "para los arrays 2D restantes, cada array 1D tiene 2 elementos\n",
            "[[ 1  2  3]\n",
            " [ 6  7  8]\n",
            " [11 12 13]\n",
            " [16 17 18]]\n",
            "[[ 4  5]\n",
            " [ 9 10]\n",
            " [14 15]\n",
            " [19 20]]\n",
            "\n",
            "Dividimos el array original 2D en 3 arrays con axis = 1\n",
            "n = 5, m = 3, q = 1, r = 2\n",
            "Los 3 arrays resultantes contienen el mismo número de arrays 1D que el original\n",
            "\n",
            "En este caso, para los primeros 2 arrays 2D, cada array 1D tiene 2 elementos.\n",
            "para los arrays 2D restantes, cada array 1D tiene 1 elementos\n",
            "[[ 1  2]\n",
            " [ 6  7]\n",
            " [11 12]\n",
            " [16 17]]\n",
            "[[ 3  4]\n",
            " [ 8  9]\n",
            " [13 14]\n",
            " [18 19]]\n",
            "[[ 5]\n",
            " [10]\n",
            " [15]\n",
            " [20]]\n",
            "\n",
            "Dividimos el array original 2D en 4 arrays con axis = 1\n",
            "n = 5, m = 4, q = 1, r = 1\n",
            "Los 4 arrays resultantes contienen el mismo número de arrays 1D que el original\n",
            "\n",
            "En este caso, para los primeros 1 arrays 2D, cada array 1D tiene 2 elementos.\n",
            "para los arrays 2D restantes, cada array 1D tiene 1 elementos\n",
            "[[ 1  2]\n",
            " [ 6  7]\n",
            " [11 12]\n",
            " [16 17]]\n",
            "[[ 3]\n",
            " [ 8]\n",
            " [13]\n",
            " [18]]\n",
            "[[ 4]\n",
            " [ 9]\n",
            " [14]\n",
            " [19]]\n",
            "[[ 5]\n",
            " [10]\n",
            " [15]\n",
            " [20]]\n",
            "\n",
            "Dividimos el array original 2D en 5 arrays con axis = 1\n",
            "n = 5, m = 5, q = 1, r = 0\n",
            "Los 5 arrays resultantes contienen el mismo número de arrays 1D que el original\n",
            "cada uno de ellos con el mismo número de elementos: 1\n",
            "[[ 1]\n",
            " [ 6]\n",
            " [11]\n",
            " [16]]\n",
            "[[ 2]\n",
            " [ 7]\n",
            " [12]\n",
            " [17]]\n",
            "[[ 3]\n",
            " [ 8]\n",
            " [13]\n",
            " [18]]\n",
            "[[ 4]\n",
            " [ 9]\n",
            " [14]\n",
            " [19]]\n",
            "[[ 5]\n",
            " [10]\n",
            " [15]\n",
            " [20]]\n"
          ],
          "name": "stdout"
        }
      ]
    },
    {
      "cell_type": "markdown",
      "metadata": {
        "id": "R1YrJtN8eJc6"
      },
      "source": [
        "---\n",
        "\n"
      ]
    },
    {
      "cell_type": "markdown",
      "metadata": {
        "id": "tVAmM1nLeXcP"
      },
      "source": [
        "#### El método `.hsplit()`\n",
        "\n",
        "`numpy` nos proporciona una función helper, el método `.hsplit()` que lleva a cabo el proceso inverso a `.hstack()`"
      ]
    },
    {
      "cell_type": "code",
      "metadata": {
        "colab": {
          "base_uri": "https://localhost:8080/"
        },
        "id": "BJb-bp3Pea4N",
        "outputId": "88ea66a6-67c3-421a-d20e-db349412599c"
      },
      "source": [
        "a = np.array([[1, 2, 3, 4, 5],\n",
        "              [6, 7, 8, 9, 10],\n",
        "              [11, 12, 13, 14, 15],\n",
        "              [16, 17, 18, 19, 20]])\n",
        "\n",
        "for i in np.hsplit(a, 5):\n",
        "  print(i)"
      ],
      "execution_count": null,
      "outputs": [
        {
          "output_type": "stream",
          "text": [
            "[[ 1]\n",
            " [ 6]\n",
            " [11]\n",
            " [16]]\n",
            "[[ 2]\n",
            " [ 7]\n",
            " [12]\n",
            " [17]]\n",
            "[[ 3]\n",
            " [ 8]\n",
            " [13]\n",
            " [18]]\n",
            "[[ 4]\n",
            " [ 9]\n",
            " [14]\n",
            " [19]]\n",
            "[[ 5]\n",
            " [10]\n",
            " [15]\n",
            " [20]]\n"
          ],
          "name": "stdout"
        }
      ]
    },
    {
      "cell_type": "markdown",
      "metadata": {
        "id": "1Sp1EvVTe4yN"
      },
      "source": [
        "El resultado de este método es equivalente al que obtendríamos si usáramos el método `.array_split()` con `axis = 1`. No obstante, este método dará error si el número de arrays en que queremos dividir el array original, $m$, no coincide con el número de elementos que contiene cada array 1D del array original 2D, $n$."
      ]
    },
    {
      "cell_type": "markdown",
      "metadata": {
        "id": "4b7WuSp9fQ0z"
      },
      "source": [
        "#### El método `.vsplit()`\n",
        "\n"
      ]
    },
    {
      "cell_type": "markdown",
      "metadata": {
        "id": "EDYbMcqvfXSp"
      },
      "source": [
        "`numpy` nos proporciona una función helper, el método `.vsplit()` que lleva a cabo el proceso inverso a `.vstack()`"
      ]
    },
    {
      "cell_type": "code",
      "metadata": {
        "colab": {
          "base_uri": "https://localhost:8080/"
        },
        "id": "AHggFGVQer2N",
        "outputId": "5de3f27c-640f-4e21-ff3e-1e2d5ade2513"
      },
      "source": [
        "a = np.array([[1, 2, 3, 4, 5],\n",
        "              [6, 7, 8, 9, 10],\n",
        "              [11, 12, 13, 14, 15],\n",
        "              [16, 17, 18, 19, 20]])\n",
        "\n",
        "for i in np.vsplit(a, 2):\n",
        "  print(i)"
      ],
      "execution_count": null,
      "outputs": [
        {
          "output_type": "stream",
          "text": [
            "[[ 1  2  3  4  5]\n",
            " [ 6  7  8  9 10]]\n",
            "[[11 12 13 14 15]\n",
            " [16 17 18 19 20]]\n"
          ],
          "name": "stdout"
        }
      ]
    },
    {
      "cell_type": "markdown",
      "metadata": {
        "id": "Wv-xEFvWffr2"
      },
      "source": [
        "El resultado de este método es equivalente al que obtendríamos si usáramos el método `.array_split()` con `axis = 0`. No obstante, este método dará error si el número de arrays en que queremos dividir el array original, $m$, no coincide con el número de arrays 1D del array original 2D, $n$."
      ]
    },
    {
      "cell_type": "markdown",
      "metadata": {
        "id": "uakblw29fr7u"
      },
      "source": [
        "#### Dividiendo arrays multidimensionales\n",
        "\n",
        "Para dividir arrays $d$-dimensionales, siendo $d > 2$, podemos usar el método `.array_split()` como hasta ahora.\n",
        "\n",
        "A medida que $d$ sea mayor, tendremos más posibilidades para el parámetro `axis`. En concreto, tendremos $d$ posibles elecciones: `axis = 0`, `axis = 1`, ..., hasta `axis = d - 1`."
      ]
    },
    {
      "cell_type": "markdown",
      "metadata": {
        "id": "FdWgT_Wggikm"
      },
      "source": [
        "#### El método `.dsplit()`\n",
        "\n",
        "Si tenemos arrays multidimensionales, cuya dimensión es mayor o igual a 3, entonces podremos usar el método `.dsplit()`, que se trata de una función helper, la inversa a `.dstack()` y se corresponde con el resultado de `.array_split()` con `axis = 2`.\n",
        "\n",
        "Lo que hay que tener en cuenta que `.dsplit()` funcionará únicamente si el número de arrays $d$-dimensionales en que queremos dividir el array $d$-dimensional original, $m$, es divisor del número de elementos que contiene cada array $(d-2)$-dimensional del array original.\n",
        "\n",
        "Si d = 3, entonces el número de arrays tridimensionales $m$ que indiquemos por parámetro deberá ser divisor del número de elementos que contiene cada array unidimensional ($d - 2 = 1$) del array tridimensional original."
      ]
    },
    {
      "cell_type": "code",
      "metadata": {
        "colab": {
          "base_uri": "https://localhost:8080/"
        },
        "id": "otgkRrLn76sH",
        "outputId": "c138e59a-1afb-4cda-ff4f-02830a02fbd5"
      },
      "source": [
        "a = np.array([[[1, 2, 3, 4],\n",
        "              [6, 7, 8, 9],\n",
        "              [11, 12, 13, 14],\n",
        "              [16, 17, 18, 19]],\n",
        "\n",
        "              [[1, 2, 3, 4],\n",
        "              [6, 7, 8, 9],\n",
        "              [11, 12, 13, 14],\n",
        "              [16, 17, 18, 19]]])\n",
        "\n",
        "for i in np.dsplit(a, 2):\n",
        "  print(i)"
      ],
      "execution_count": null,
      "outputs": [
        {
          "output_type": "stream",
          "text": [
            "[[[ 1  2]\n",
            "  [ 6  7]\n",
            "  [11 12]\n",
            "  [16 17]]\n",
            "\n",
            " [[ 1  2]\n",
            "  [ 6  7]\n",
            "  [11 12]\n",
            "  [16 17]]]\n",
            "[[[ 3  4]\n",
            "  [ 8  9]\n",
            "  [13 14]\n",
            "  [18 19]]\n",
            "\n",
            " [[ 3  4]\n",
            "  [ 8  9]\n",
            "  [13 14]\n",
            "  [18 19]]]\n"
          ],
          "name": "stdout"
        }
      ]
    },
    {
      "cell_type": "markdown",
      "metadata": {
        "id": "mxbU_Lqghkzk"
      },
      "source": [
        "### Buscando elementos en un array\n",
        "\n",
        "Podemos buscar elementos en concreto de un array con el método `.where()` que nos devolverá un array de índices en los cuales se encuentra el elemento que estamos buscando.\n",
        "\n",
        "Por ejemplo, dado el siguiente array 1D `x`, busquemos en qué posiciones éste toma el valor 0."
      ]
    },
    {
      "cell_type": "code",
      "metadata": {
        "colab": {
          "base_uri": "https://localhost:8080/"
        },
        "id": "Vyp-hqXshy9y",
        "outputId": "e90b90a7-3afe-475c-86e8-13a63c6a12d8"
      },
      "source": [
        "x = np.array([1, 0, -1, 0, 2, 0, -2, 0])\n",
        "idx0 = np.where(x == 0)\n",
        "\n",
        "print(idx0)"
      ],
      "execution_count": null,
      "outputs": [
        {
          "output_type": "stream",
          "text": [
            "(array([1, 3, 5, 7]),)\n"
          ],
          "name": "stdout"
        }
      ]
    },
    {
      "cell_type": "markdown",
      "metadata": {
        "id": "Ljmv3UfSiD9q"
      },
      "source": [
        "Como resultado hemos obtenido que en los índices 1, 3, 5 y 7 del array `x` se toma el valor 0."
      ]
    },
    {
      "cell_type": "markdown",
      "metadata": {
        "id": "KAEldycbiOhd"
      },
      "source": [
        "**Observación.** Podemos poner cualquier tipo de condición a modo de argumento del método `.where()`.\n",
        "\n",
        "Dado el siguiente array 1D `y`, busquemos en qué índices se toman valores pares."
      ]
    },
    {
      "cell_type": "code",
      "metadata": {
        "colab": {
          "base_uri": "https://localhost:8080/"
        },
        "id": "1QZcd8iPiCSr",
        "outputId": "f906e5e6-83c6-484e-a9ec-b6f89cf85cfd"
      },
      "source": [
        "y = np.array([2, 3, 6, 7, 14, 15, 30, 31])\n",
        "z = np.where(y % 2 == 0)\n",
        "\n",
        "print(z)"
      ],
      "execution_count": null,
      "outputs": [
        {
          "output_type": "stream",
          "text": [
            "(array([0, 2, 4, 6]),)\n"
          ],
          "name": "stdout"
        }
      ]
    },
    {
      "cell_type": "code",
      "metadata": {
        "colab": {
          "base_uri": "https://localhost:8080/"
        },
        "id": "mq34UMyl9-ej",
        "outputId": "da3d4859-1972-45bf-f3d7-04b81c01c4bf"
      },
      "source": [
        "y = np.array([[2, 3, 6, 7],\n",
        "              [14, 15, 30, 31]])\n",
        "z = np.where(y % 2 == 0)\n",
        "\n",
        "print(z)"
      ],
      "execution_count": null,
      "outputs": [
        {
          "output_type": "stream",
          "text": [
            "(array([0, 0, 1, 1]), array([0, 2, 0, 2]))\n"
          ],
          "name": "stdout"
        }
      ]
    },
    {
      "cell_type": "markdown",
      "metadata": {
        "id": "t3xJhvUNi5al"
      },
      "source": [
        "#### El método `.searchsorted()`\n",
        "\n",
        "El método `.searchsorted()` lleva a cabo una búsqueda binaria en el array y devuelve los índices donde el valor indicado por parámetro sería colocado de modo que se mantuviese el orden de búsqueda:"
      ]
    },
    {
      "cell_type": "code",
      "metadata": {
        "colab": {
          "base_uri": "https://localhost:8080/"
        },
        "id": "7-28sxbAinPC",
        "outputId": "f2a28138-e0c4-406f-c3c2-8f7c1b74a88a"
      },
      "source": [
        "a = np.array([-10, -9, -8, -7])\n",
        "b = np.searchsorted(a, -9.5)\n",
        "c = np.searchsorted(a, -6.5)\n",
        "print(\"El elemento -9.5 deberá ocupar el índice\", b)\n",
        "print(\"El elemento -6.5 deberá ocupar el índice\", c)"
      ],
      "execution_count": null,
      "outputs": [
        {
          "output_type": "stream",
          "text": [
            "El elemento -9.5 deberá ocupar el índice 1\n",
            "El elemento -6.5 deberá ocupar el índice 4\n"
          ],
          "name": "stdout"
        }
      ]
    },
    {
      "cell_type": "markdown",
      "metadata": {
        "id": "8V4r2yrYj7Cm"
      },
      "source": [
        "**Observación.** En caso de no proporcionar un array ya ordenado, `numpy` lo ordena por defecto:\n",
        "\n",
        "* Los números van en orden ascendente\n",
        "* Las letras y strings en orden alfabético"
      ]
    },
    {
      "cell_type": "code",
      "metadata": {
        "colab": {
          "base_uri": "https://localhost:8080/"
        },
        "id": "PeU4vDl3jeYQ",
        "outputId": "a98e6ce1-a6b0-4bdc-8a2b-95241aaf76b0"
      },
      "source": [
        "a = np.array([-10, -8, -9, -7])\n",
        "b = np.searchsorted(a, -9.5)\n",
        "c = np.searchsorted(a, -6.5)\n",
        "print(\"El elemento -9.5 deberá ocupar el índice\", b)\n",
        "print(\"El elemento -6.5 deberá ocupar el índice\", c)"
      ],
      "execution_count": null,
      "outputs": [
        {
          "output_type": "stream",
          "text": [
            "El elemento -9.5 deberá ocupar el índice 1\n",
            "El elemento -6.5 deberá ocupar el índice 4\n"
          ],
          "name": "stdout"
        }
      ]
    },
    {
      "cell_type": "markdown",
      "metadata": {
        "id": "IMy5ytnzTl6u"
      },
      "source": [
        "Por defecto, se nos devuelve el primer índice (empezando por la izquierda) que podría ocupar el elemento que queremos introducir dentro del array. Para mostrar el último índice que podría ocupar dicho elemento, existe un parámetro llamado `side` y habrá que igualarlo a `\"right\"` para obtener dicho índice:"
      ]
    },
    {
      "cell_type": "code",
      "metadata": {
        "colab": {
          "base_uri": "https://localhost:8080/"
        },
        "id": "Gji6uwXCj3HI",
        "outputId": "5cfba4a5-b452-4146-9a93-ca0a52921951"
      },
      "source": [
        "a = np.array([-10, -9, -8, -7])\n",
        "b_left = np.searchsorted(a, -9, side = \"left\")\n",
        "b_right = np.searchsorted(a, -9, side = \"right\")\n",
        "c_left = np.searchsorted(a, -7, side = \"left\")\n",
        "c_right = np.searchsorted(a, -7, side = \"right\")\n",
        "print(\"El elemento -9 puede ocupar como pronto el índice\", b_left)\n",
        "print(\"El elemento -9  puede ocupar como tarde el índice\", b_right)\n",
        "print(\"El elemento -7 puede ocupar como pronto el índice\", c_left)\n",
        "print(\"El elemento -7 puede ocupar como tarde  el índice\", c_right)"
      ],
      "execution_count": null,
      "outputs": [
        {
          "output_type": "stream",
          "text": [
            "El elemento -9 puede ocupar como pronto el índice 1\n",
            "El elemento -9  puede ocupar como tarde el índice 2\n",
            "El elemento -7 puede ocupar como pronto el índice 3\n",
            "El elemento -7 puede ocupar como tarde  el índice 4\n"
          ],
          "name": "stdout"
        }
      ]
    },
    {
      "cell_type": "markdown",
      "metadata": {
        "id": "nGUZp51zVv1-"
      },
      "source": [
        "En vez de ir de elemento en elemento, podemos introducir por parámetro una lista de elementos a introducir en el array:"
      ]
    },
    {
      "cell_type": "code",
      "metadata": {
        "colab": {
          "base_uri": "https://localhost:8080/"
        },
        "id": "EbJqfWh4Uo6v",
        "outputId": "919df299-1275-4f13-e53f-a000ac8958c8"
      },
      "source": [
        "x = np.array([4, 8, 12, 16])\n",
        "y = np.searchsorted(x, [3, 6, 9])\n",
        "print(y)"
      ],
      "execution_count": null,
      "outputs": [
        {
          "output_type": "stream",
          "text": [
            "[0 1 2]\n"
          ],
          "name": "stdout"
        }
      ]
    },
    {
      "cell_type": "markdown",
      "metadata": {
        "id": "7HswImtOWEqh"
      },
      "source": [
        "Como resultado obtendremos un array con los índices en que se introducirían cada uno de los elementos de la lista dentro del array:\n",
        "\n",
        "* El elemento 3 ocuparía el índice 0 dentro del array original `x`, quedando como resultado `[3, 4, 8, 12, 16]`\n",
        "* El elemento 6 ocuparía el índice 1 dentro del array original `x` quedando como resultado `[4, 6, 8, 12, 16]`\n",
        "* El elemento 9 ocuparía el índice 2 dentro del array original `x` quedando como resultado `[4, 8, 9, 12, 16]`"
      ]
    },
    {
      "cell_type": "markdown",
      "metadata": {
        "id": "OnUtcdCwXb3W"
      },
      "source": [
        "### Ordenando arrays\n",
        "\n",
        "Ordenar arrays implica reordenar los elementos siguiendo una secuencia ordenada.\n",
        "\n",
        "A su vez, una secuencia ordenada es cualquier sucesión que tiene un orden ciuos elementos siguen, como por ejemplo el orden alfabético o numérico, tanto ascendente como descendente.\n",
        "\n",
        "Para ordenar los elementos de un array, disponemos del método `.sort()`"
      ]
    },
    {
      "cell_type": "code",
      "metadata": {
        "colab": {
          "base_uri": "https://localhost:8080/"
        },
        "id": "JKIQN9EnXzo-",
        "outputId": "bd0f180c-6ace-4108-8776-e31e74bf3d56"
      },
      "source": [
        "x = np.array([\"c\", \"m\", \"k\", \"z\", \"a\"])\n",
        "print(np.sort(x))"
      ],
      "execution_count": null,
      "outputs": [
        {
          "output_type": "stream",
          "text": [
            "['a' 'c' 'k' 'm' 'z']\n"
          ],
          "name": "stdout"
        }
      ]
    },
    {
      "cell_type": "code",
      "metadata": {
        "colab": {
          "base_uri": "https://localhost:8080/"
        },
        "id": "QfpVtbmWX7hm",
        "outputId": "d6c52236-1583-4ff7-8786-713b2194e162"
      },
      "source": [
        "x = np.array([\"caracol\", \"mariposa\", \"escarabajo\", \"perezoso\", \"armadillo\"])\n",
        "print(np.sort(x))"
      ],
      "execution_count": null,
      "outputs": [
        {
          "output_type": "stream",
          "text": [
            "['armadillo' 'caracol' 'escarabajo' 'mariposa' 'perezoso']\n"
          ],
          "name": "stdout"
        }
      ]
    },
    {
      "cell_type": "code",
      "metadata": {
        "colab": {
          "base_uri": "https://localhost:8080/"
        },
        "id": "MEZimUTQYFbZ",
        "outputId": "cecee5f3-e2fa-49a9-96c6-fde0cc9f2bcf"
      },
      "source": [
        "x = np.array([2, -2, 5, -5, 10, -10, 0])\n",
        "print(np.sort(x))"
      ],
      "execution_count": null,
      "outputs": [
        {
          "output_type": "stream",
          "text": [
            "[-10  -5  -2   0   2   5  10]\n"
          ],
          "name": "stdout"
        }
      ]
    },
    {
      "cell_type": "code",
      "metadata": {
        "colab": {
          "base_uri": "https://localhost:8080/"
        },
        "id": "S3As5IdHYMHJ",
        "outputId": "6f19e1df-3d0c-465f-9f09-26b1c5667d19"
      },
      "source": [
        "x = np.array([2.5, -2.3, 5.1, -5.7, 10.9, -10.6, 0.4])\n",
        "print(np.sort(x))"
      ],
      "execution_count": null,
      "outputs": [
        {
          "output_type": "stream",
          "text": [
            "[-10.6  -5.7  -2.3   0.4   2.5   5.1  10.9]\n"
          ],
          "name": "stdout"
        }
      ]
    },
    {
      "cell_type": "code",
      "metadata": {
        "colab": {
          "base_uri": "https://localhost:8080/"
        },
        "id": "yW8PhfBdYgUS",
        "outputId": "21cf94b6-d252-4e77-c390-35695190ceb8"
      },
      "source": [
        "x = np.array([True, False, True, False])\n",
        "print(np.sort(x))"
      ],
      "execution_count": null,
      "outputs": [
        {
          "output_type": "stream",
          "text": [
            "[False False  True  True]\n"
          ],
          "name": "stdout"
        }
      ]
    },
    {
      "cell_type": "markdown",
      "metadata": {
        "id": "AuRAAzZYYXNE"
      },
      "source": [
        "A modo de resultado obtenemos una copia del array original, con los elementos ordenados por defecto de forma ascendente."
      ]
    },
    {
      "cell_type": "markdown",
      "metadata": {
        "id": "elIDMGwja1GS"
      },
      "source": [
        "También podemos ordenar arrays multidimensionales:"
      ]
    },
    {
      "cell_type": "code",
      "metadata": {
        "colab": {
          "base_uri": "https://localhost:8080/"
        },
        "id": "z5zUkUiaYQRn",
        "outputId": "5c970134-94e6-45f9-f37c-089ec39661ff"
      },
      "source": [
        "y = np.array([[2, 4, 3], [-4, -2, -3]])\n",
        "print(np.sort(y))"
      ],
      "execution_count": null,
      "outputs": [
        {
          "output_type": "stream",
          "text": [
            "[[ 2  3  4]\n",
            " [-4 -3 -2]]\n"
          ],
          "name": "stdout"
        }
      ]
    },
    {
      "cell_type": "markdown",
      "metadata": {
        "id": "OnHTxGO1bCtJ"
      },
      "source": [
        "Y podemos elegir sobre qué eje ordenarlos con el parámetro `axis`"
      ]
    },
    {
      "cell_type": "code",
      "metadata": {
        "colab": {
          "base_uri": "https://localhost:8080/"
        },
        "id": "A69ReS8HYqLx",
        "outputId": "19743423-9eeb-4484-b308-60da20a10ca3"
      },
      "source": [
        "y = np.array([[2, 4, 3], [-4, -2, -3]])\n",
        "print(np.sort(y, axis = 0))\n",
        "print(np.sort(y, axis = 1))"
      ],
      "execution_count": null,
      "outputs": [
        {
          "output_type": "stream",
          "text": [
            "[[-4 -2 -3]\n",
            " [ 2  4  3]]\n",
            "[[ 2  3  4]\n",
            " [-4 -3 -2]]\n"
          ],
          "name": "stdout"
        }
      ]
    },
    {
      "cell_type": "markdown",
      "metadata": {
        "id": "CnlXuZgWbhh3"
      },
      "source": [
        "Por defecto, si no indicamos el parámetro `axis` se ordena siempre con respecto al último eje.\n",
        "\n",
        "`axis = 0` ordena los elementos dentro de la mayor dimensión. En este caso, ordena los arrays 1D dentro del array 2D.\n",
        "\n",
        "`axis = 1` ordena los elementos dentro de la segunda mayor dimensión. En este caso, ordena los elementos de los arrays 1D.\n",
        "\n",
        "**Observación.** Dado un array $n$-dimensional, tendremos $n$ opciones para `axis`: 0 (dimensión mayor), 1 (segunda mayor dimensión), ..., $n-1$ (dimensión menor, equivalente a no indicar parámetro `axis` o igualar `axis = -1`)."
      ]
    },
    {
      "cell_type": "markdown",
      "metadata": {
        "id": "NHmbVPwUfqJo"
      },
      "source": [
        "### Elementos aleatorios en `numpy`\n",
        "\n",
        "**Número aleatorio.** Un número aleatorio singifica que se trata de un número que no puede ser predicho lógicamente.\n",
        "\n",
        "**¡Cuidado!** No hay que confundir número aleatorio con que se genere un número diferente cada vez que ejecutemos.\n",
        "\n",
        "Como los ordenadores trabajan mediante algoritmos, un programa destinado a generar números aleatorios implica que los números no serán realmente aleatorios. Los números aleatorios generados mediante un algoritmo son conocidos como **números pseudoaleatorios**.\n",
        "\n",
        "En este apartado trabajaremos con números pseudoaleatorios y veremos como generarlos.\n",
        "\n"
      ]
    },
    {
      "cell_type": "markdown",
      "metadata": {
        "id": "9WUzoMhKg9eB"
      },
      "source": [
        "#### El módulo `random`\n",
        "\n",
        "`numpy` tiene el módulo `random` dedicado a trabajar con números aleatorios\n",
        "\n",
        "Para generar números enteros aleatorios, usamos el método `.randint()`\n"
      ]
    },
    {
      "cell_type": "code",
      "metadata": {
        "id": "aRCcROTtbKz5"
      },
      "source": [
        "from numpy import random"
      ],
      "execution_count": null,
      "outputs": []
    },
    {
      "cell_type": "code",
      "metadata": {
        "colab": {
          "base_uri": "https://localhost:8080/"
        },
        "id": "bFN7O7oHhJin",
        "outputId": "4a346679-e42c-4922-d79c-38d7730f90b0"
      },
      "source": [
        "# Generamos un número entero aleatorio del 1 al 20\n",
        "n = random.randint(1, 20)\n",
        "print(n)"
      ],
      "execution_count": null,
      "outputs": [
        {
          "output_type": "stream",
          "text": [
            "4\n"
          ],
          "name": "stdout"
        }
      ]
    },
    {
      "cell_type": "code",
      "metadata": {
        "colab": {
          "base_uri": "https://localhost:8080/"
        },
        "id": "nsUMXOAphVWB",
        "outputId": "0a4ed194-ca7b-40ea-d337-dbb176adcf7f"
      },
      "source": [
        "# Generamos un número entero aleatorio del 0 al 10\n",
        "m = random.randint(10)\n",
        "print(m)"
      ],
      "execution_count": null,
      "outputs": [
        {
          "output_type": "stream",
          "text": [
            "7\n"
          ],
          "name": "stdout"
        }
      ]
    },
    {
      "cell_type": "markdown",
      "metadata": {
        "id": "NRpnodAkhjDo"
      },
      "source": [
        "Para generar números reales aleatorios dentro del intervalo $[0, 1]$, usamos el método `.rand()`"
      ]
    },
    {
      "cell_type": "code",
      "metadata": {
        "colab": {
          "base_uri": "https://localhost:8080/"
        },
        "id": "ZONsA67fharJ",
        "outputId": "0bbc8937-7aeb-4e7e-8022-63dc4a33cf42"
      },
      "source": [
        "# Generamos un número real aleatorio entre el 0 y el 1\n",
        "x = random.rand()\n",
        "print(x)"
      ],
      "execution_count": null,
      "outputs": [
        {
          "output_type": "stream",
          "text": [
            "0.9872404246913139\n"
          ],
          "name": "stdout"
        }
      ]
    },
    {
      "cell_type": "markdown",
      "metadata": {
        "id": "-N1BS6noiFdf"
      },
      "source": [
        "#### Arrays aleatorios\n",
        "\n",
        "Podemos generar arrays aleatorios tanto con el método `.randint()` como con el método `.rand()`"
      ]
    },
    {
      "cell_type": "code",
      "metadata": {
        "colab": {
          "base_uri": "https://localhost:8080/"
        },
        "id": "_2aM6VEZh214",
        "outputId": "56991ef2-bc2a-4a5e-bc95-db9f2b315721"
      },
      "source": [
        "# Generamos un array 1D de 5 elementos enteros aleatorios\n",
        "a = random.randint(100, size = 5)\n",
        "print(a)"
      ],
      "execution_count": null,
      "outputs": [
        {
          "output_type": "stream",
          "text": [
            "[ 0 18 73 87 82]\n"
          ],
          "name": "stdout"
        }
      ]
    },
    {
      "cell_type": "code",
      "metadata": {
        "colab": {
          "base_uri": "https://localhost:8080/"
        },
        "id": "ulnO_Cvwib5l",
        "outputId": "a76e8a09-452f-4f4c-d2fb-1d7eccb1d2f0"
      },
      "source": [
        "# Generamos un array 1D de 3 elementos reales aleatorios\n",
        "b = random.rand(3)\n",
        "print(b)"
      ],
      "execution_count": null,
      "outputs": [
        {
          "output_type": "stream",
          "text": [
            "[0.28538885 0.24082085 0.72590504]\n"
          ],
          "name": "stdout"
        }
      ]
    },
    {
      "cell_type": "code",
      "metadata": {
        "colab": {
          "base_uri": "https://localhost:8080/"
        },
        "id": "O6-11x2fiifb",
        "outputId": "270555af-1d77-4d73-fc2f-c257a9f30da4"
      },
      "source": [
        "# Generamos un array 2D de 5 arrays 1D cada uno con 4 enteros aleatorios\n",
        "c = random.randint(50, size = (5, 4))\n",
        "print(c)"
      ],
      "execution_count": null,
      "outputs": [
        {
          "output_type": "stream",
          "text": [
            "[[12 42 26 22]\n",
            " [35 26 34 27]\n",
            " [33 40 37 23]\n",
            " [41 18 42  7]\n",
            " [23 16 20 42]]\n"
          ],
          "name": "stdout"
        }
      ]
    },
    {
      "cell_type": "code",
      "metadata": {
        "colab": {
          "base_uri": "https://localhost:8080/"
        },
        "id": "iXoNyurdisZn",
        "outputId": "0f8ac8c8-4ca3-4f1f-de67-d039251a2cc8"
      },
      "source": [
        "# Generamos un array 3D de 2 arrays 2D cada uno con 4 arrays 1D\n",
        "#   cada uno con 3 reales aleatorios\n",
        "d = random.rand(2, 4, 3)\n",
        "print(d)"
      ],
      "execution_count": null,
      "outputs": [
        {
          "output_type": "stream",
          "text": [
            "[[[0.46069412 0.0086092  0.24248074]\n",
            "  [0.88073955 0.10352765 0.17196375]\n",
            "  [0.49542079 0.62747938 0.64115075]\n",
            "  [0.38815409 0.01471381 0.67536626]]\n",
            "\n",
            " [[0.80869612 0.59833229 0.77580883]\n",
            "  [0.86167062 0.77539749 0.39963423]\n",
            "  [0.05566117 0.70641905 0.34602174]\n",
            "  [0.62572813 0.6268239  0.96415304]]]\n"
          ],
          "name": "stdout"
        }
      ]
    },
    {
      "cell_type": "markdown",
      "metadata": {
        "id": "Mm_4umkJjI_-"
      },
      "source": [
        "#### Elegir un elemento aleatorio de un array\n",
        "\n",
        "Dado un array, podemos elegir aleatoriamente un elemento suyo con el método `.choice()`"
      ]
    },
    {
      "cell_type": "code",
      "metadata": {
        "colab": {
          "base_uri": "https://localhost:8080/"
        },
        "id": "jZTvsIL0jA_V",
        "outputId": "585013fb-2aed-4574-cf7f-73e351f3970c"
      },
      "source": [
        "x = np.array([1, 2, 3, 4, 5, -5, -4, -3, -2, -1])\n",
        "print(random.choice(x))"
      ],
      "execution_count": null,
      "outputs": [
        {
          "output_type": "stream",
          "text": [
            "-4\n"
          ],
          "name": "stdout"
        }
      ]
    },
    {
      "cell_type": "markdown",
      "metadata": {
        "id": "yJrriJDgjh-r"
      },
      "source": [
        "El método `.choice()` también consta del parámetro `size`, con lo cual podemos generar un array aleatorio con los elementos de un array dado:"
      ]
    },
    {
      "cell_type": "code",
      "metadata": {
        "colab": {
          "base_uri": "https://localhost:8080/"
        },
        "id": "Zaq-KcLHjbjP",
        "outputId": "ae4c5449-beb6-436c-f8a9-41b98637042e"
      },
      "source": [
        "print(random.choice(x, size = (3, 6)))"
      ],
      "execution_count": null,
      "outputs": [
        {
          "output_type": "stream",
          "text": [
            "[[-1  5  5  5  4 -2]\n",
            " [ 1  2 -4  4 -5 -3]\n",
            " [ 2 -2  3 -2  1  5]]\n"
          ],
          "name": "stdout"
        }
      ]
    },
    {
      "cell_type": "markdown",
      "metadata": {
        "id": "zbOew4_Ij7lH"
      },
      "source": [
        "**¡Cuidado!** El método `.choice()` solamente toma como parámetro arrays unidimensionales"
      ]
    },
    {
      "cell_type": "markdown",
      "metadata": {
        "id": "STDkSuc9lE3F"
      },
      "source": [
        "Existe otro parámetro del método `.choice()` que nos permite modificar las probabilidades de cada elemento. Éste es el parámetro `p`, al que le tendremos que proporcionar una lista de probabilidades (todos los elementos deben ser menores o iguales a 1 y la suma de todos ellos debe ser 1).\n",
        "\n",
        "**Observación.** Por defecto, todos los elementos son equiprobables, es decir, tienen la misma probabilidad que es $\\frac{1}{n}$, siendo $n$ el número de elementos del array."
      ]
    },
    {
      "cell_type": "code",
      "metadata": {
        "colab": {
          "base_uri": "https://localhost:8080/"
        },
        "id": "oUK1Bv-rlXm7",
        "outputId": "8998dc6f-b056-416c-d8da-d66602639865"
      },
      "source": [
        "x = np.array([1, 2, 3, 4, 5, -5, -4, -3, -2, -1])\n",
        "print(random.choice(x,\n",
        "                    p = [0.2, 0.2, 0.05, 0.05, 0.05, 0.05, 0.1, 0.1, 0.05, 0.15],\n",
        "                    size = (2, 6)))"
      ],
      "execution_count": null,
      "outputs": [
        {
          "output_type": "stream",
          "text": [
            "[[-4  4  2  1 -2  2]\n",
            " [-1  1 -2  4  1  1]]\n"
          ],
          "name": "stdout"
        }
      ]
    },
    {
      "cell_type": "markdown",
      "metadata": {
        "id": "BtCUS1vgmBCr"
      },
      "source": [
        "En el chunk anterior se ha generado un array 2D con 2 arrays 1D cada uno con 6 elementos, donde las probabilidades para los elementos del array original son:\n",
        "\n",
        "* Los elementos `1` y `2` tienen probabilidad 0.2 de salir\n",
        "* El elemento `-1` tiene probabilidad 0.15\n",
        "* Los elementos `-4` y `-3` tienen probabilidad 0.1 de salir\n",
        "* Los elementos `3`, `4`, `5`, `6` y `-2` tienen probabilidad 0.05\n",
        "\n",
        "Todas las probabilidades se encuentran en el intervalo $[0, 1]$ y si las sumamos dan 1."
      ]
    },
    {
      "cell_type": "markdown",
      "metadata": {
        "id": "t4hsNgnim2Lc"
      },
      "source": [
        "#### Permutaciones aleatorias\n",
        "\n",
        "**Permutación.** Una permutación de un array se refiere a la reordenación de sus elementos.\n",
        "\n",
        "El módulo `random` de `numpy` nos proporciona dos métodos para crear permutaciones aleatorias de un array dado:\n",
        "\n",
        "* `.shuffle()` modifica el array original\n",
        "* `.permutation()` que crea una copia\n"
      ]
    },
    {
      "cell_type": "code",
      "metadata": {
        "colab": {
          "base_uri": "https://localhost:8080/"
        },
        "id": "c6JyERwfl_R6",
        "outputId": "bd089c5a-585a-4a76-92dc-31ea4cab9b67"
      },
      "source": [
        "a = np.array([1, 2, 3, 4])\n",
        "random.shuffle(a)\n",
        "\n",
        "print(\"Array original permutado:\", a)"
      ],
      "execution_count": null,
      "outputs": [
        {
          "output_type": "stream",
          "text": [
            "Array original permutado: [4 2 1 3]\n"
          ],
          "name": "stdout"
        }
      ]
    },
    {
      "cell_type": "code",
      "metadata": {
        "colab": {
          "base_uri": "https://localhost:8080/"
        },
        "id": "Un9yJnDLpml6",
        "outputId": "5de3a2a5-901c-40a9-db03-fe8a8a3a347f"
      },
      "source": [
        "a = np.array([1, 2, 3, 4])\n",
        "b = random.permutation(a)\n",
        "\n",
        "print(\"Array original permutado:\", b)\n",
        "print(\"Array original:\", a)"
      ],
      "execution_count": null,
      "outputs": [
        {
          "output_type": "stream",
          "text": [
            "Array original permutado: [4 1 3 2]\n",
            "Array original: [1 2 3 4]\n"
          ],
          "name": "stdout"
        }
      ]
    },
    {
      "cell_type": "markdown",
      "metadata": {
        "id": "fRE51UGhqkCh"
      },
      "source": [
        "### Funciones universales\n",
        "\n",
        "Las funciones universales son aquellas que operan sobre el objeto ndarray\n",
        "\n",
        "Podemos comprobar si un método se trata de una función universal con la función `type`. Cuando se trata de una función universal, obtenemos que es de tipo `np.ufunc`"
      ]
    },
    {
      "cell_type": "code",
      "metadata": {
        "colab": {
          "base_uri": "https://localhost:8080/"
        },
        "id": "kySYHm3PsQvH",
        "outputId": "e235e14c-856a-43d8-eb39-c7568dce1eee"
      },
      "source": [
        "# Es una función universal\n",
        "print(type(np.multiply))"
      ],
      "execution_count": null,
      "outputs": [
        {
          "output_type": "stream",
          "text": [
            "<class 'numpy.ufunc'>\n"
          ],
          "name": "stdout"
        }
      ]
    },
    {
      "cell_type": "code",
      "metadata": {
        "colab": {
          "base_uri": "https://localhost:8080/"
        },
        "id": "a1E9M6IMs2Bt",
        "outputId": "62b8e629-f420-419f-c904-c2db6927f211"
      },
      "source": [
        "type(np.multiply) == np.ufunc"
      ],
      "execution_count": null,
      "outputs": [
        {
          "output_type": "execute_result",
          "data": {
            "text/plain": [
              "True"
            ]
          },
          "metadata": {
            "tags": []
          },
          "execution_count": 62
        }
      ]
    },
    {
      "cell_type": "code",
      "metadata": {
        "colab": {
          "base_uri": "https://localhost:8080/"
        },
        "id": "6W7x51u9sLZD",
        "outputId": "7aa92544-accb-42eb-9fff-9aaed29f30e8"
      },
      "source": [
        "# No es una función universal\n",
        "print(type(np.concatenate))"
      ],
      "execution_count": null,
      "outputs": [
        {
          "output_type": "stream",
          "text": [
            "<class 'function'>\n"
          ],
          "name": "stdout"
        }
      ]
    },
    {
      "cell_type": "code",
      "metadata": {
        "colab": {
          "base_uri": "https://localhost:8080/"
        },
        "id": "a2pXuSfZs7J3",
        "outputId": "6d8d7cff-8543-4f98-837d-d129fb70511e"
      },
      "source": [
        "type(np.concatenate) == np.ufunc"
      ],
      "execution_count": null,
      "outputs": [
        {
          "output_type": "execute_result",
          "data": {
            "text/plain": [
              "False"
            ]
          },
          "metadata": {
            "tags": []
          },
          "execution_count": 64
        }
      ]
    },
    {
      "cell_type": "markdown",
      "metadata": {
        "id": "h8Xb-y8rq3e7"
      },
      "source": [
        "#### Creando nuestras propias funciones universales\n",
        "\n",
        "Para crear una función universal propia, primero necesitamos definir una función tal cual aprendimos. A continuación, hay que añadirla a `numpy` con el método `.frompyfunc()`, que tomará por parámetros la función `function`, el número de inputs (arrays), `inputs` y el número de arrays que devuelve, `outputs`:"
      ]
    },
    {
      "cell_type": "code",
      "metadata": {
        "colab": {
          "base_uri": "https://localhost:8080/"
        },
        "id": "dusgi-ERqIBf",
        "outputId": "1cea7c4e-9690-4808-8899-418237fa1645"
      },
      "source": [
        "def my_sum(x, y):\n",
        "  return x + y\n",
        "\n",
        "my_sum = np.frompyfunc(my_sum, 2, 1)\n",
        "# function = my_sum\n",
        "# inputs = 2, pues my_sum toma dos arrays\n",
        "# outputs = 1, pues my_sum devuelve un array, el array suma\n",
        "\n",
        "a = np.array([1, 0, 7])\n",
        "b = np.array([-1, 2, 5])\n",
        "print(my_sum(a, b))"
      ],
      "execution_count": null,
      "outputs": [
        {
          "output_type": "stream",
          "text": [
            "[0 2 12]\n"
          ],
          "name": "stdout"
        }
      ]
    },
    {
      "cell_type": "code",
      "metadata": {
        "colab": {
          "base_uri": "https://localhost:8080/"
        },
        "id": "JaNYKqmgx2DZ",
        "outputId": "466cc968-fb66-4dfc-ae24-4d2209cef511"
      },
      "source": [
        "my_sum(np.array([[1,2], [3,4]]), np.array([[1,0], [-1,0]]))"
      ],
      "execution_count": null,
      "outputs": [
        {
          "output_type": "execute_result",
          "data": {
            "text/plain": [
              "array([[2, 2],\n",
              "       [2, 4]], dtype=object)"
            ]
          },
          "metadata": {
            "tags": []
          },
          "execution_count": 67
        }
      ]
    },
    {
      "cell_type": "code",
      "metadata": {
        "colab": {
          "base_uri": "https://localhost:8080/"
        },
        "id": "UiostM1Er7bq",
        "outputId": "b6db3599-e61e-4855-a3ae-584d23fe7bed"
      },
      "source": [
        "print(type(my_sum))"
      ],
      "execution_count": null,
      "outputs": [
        {
          "output_type": "stream",
          "text": [
            "<class 'numpy.ufunc'>\n"
          ],
          "name": "stdout"
        }
      ]
    },
    {
      "cell_type": "markdown",
      "metadata": {
        "id": "sq0dnZcStDUF"
      },
      "source": [
        "#### Aritmética"
      ]
    },
    {
      "cell_type": "code",
      "metadata": {
        "id": "V0FwLLiMtig-"
      },
      "source": [
        "a = np.array([12, 0, 7])\n",
        "b = np.array([8, 2, 5])"
      ],
      "execution_count": null,
      "outputs": []
    },
    {
      "cell_type": "markdown",
      "metadata": {
        "id": "wUY04PQXtG9U"
      },
      "source": [
        "El método `.add()` suma arrays elemento a elemento"
      ]
    },
    {
      "cell_type": "code",
      "metadata": {
        "colab": {
          "base_uri": "https://localhost:8080/"
        },
        "id": "DAGzTDjHsm8K",
        "outputId": "1b366206-7493-4bfe-ee38-434099ff342b"
      },
      "source": [
        "print(np.add(a, b))"
      ],
      "execution_count": null,
      "outputs": [
        {
          "output_type": "stream",
          "text": [
            "[20  2 12]\n"
          ],
          "name": "stdout"
        }
      ]
    },
    {
      "cell_type": "markdown",
      "metadata": {
        "id": "ndLenDpJtarZ"
      },
      "source": [
        "El método `.subtract()` resta arrays elemento a elemento\n"
      ]
    },
    {
      "cell_type": "code",
      "metadata": {
        "colab": {
          "base_uri": "https://localhost:8080/"
        },
        "id": "Gv_lwATztxEO",
        "outputId": "6d5aa22e-1911-4c44-b7e3-30e96fd37202"
      },
      "source": [
        "print(np.subtract(a, b))"
      ],
      "execution_count": null,
      "outputs": [
        {
          "output_type": "stream",
          "text": [
            "[ 4 -2  2]\n"
          ],
          "name": "stdout"
        }
      ]
    },
    {
      "cell_type": "markdown",
      "metadata": {
        "id": "5zjDL_TEt99L"
      },
      "source": [
        "El método `.multiply()` multiplica arrays elemento a elemento"
      ]
    },
    {
      "cell_type": "code",
      "metadata": {
        "colab": {
          "base_uri": "https://localhost:8080/"
        },
        "id": "TxW1U-RZtzCe",
        "outputId": "891e4af6-dcca-4dcd-fbfa-51a9a0d366f6"
      },
      "source": [
        "print(np.multiply(a, b))"
      ],
      "execution_count": null,
      "outputs": [
        {
          "output_type": "stream",
          "text": [
            "[96  0 35]\n"
          ],
          "name": "stdout"
        }
      ]
    },
    {
      "cell_type": "markdown",
      "metadata": {
        "id": "0bbljeruuXhi"
      },
      "source": [
        "El método `.divide()` divide arrays elemento a elemento"
      ]
    },
    {
      "cell_type": "code",
      "metadata": {
        "colab": {
          "base_uri": "https://localhost:8080/"
        },
        "id": "CjTsfUIAuVl0",
        "outputId": "a9a8b375-fe2a-4eef-9b24-838790264484"
      },
      "source": [
        "print(np.divide(a, b))"
      ],
      "execution_count": null,
      "outputs": [
        {
          "output_type": "stream",
          "text": [
            "[1.5 0.  1.4]\n"
          ],
          "name": "stdout"
        }
      ]
    },
    {
      "cell_type": "markdown",
      "metadata": {
        "id": "4nJ3rEhqupkX"
      },
      "source": [
        "El método `.power()` calcula la potencia del primer array elevado al segundo elemento a elemento"
      ]
    },
    {
      "cell_type": "code",
      "metadata": {
        "colab": {
          "base_uri": "https://localhost:8080/"
        },
        "id": "Bp3nbY0JufQk",
        "outputId": "d056fb56-db32-4c51-8e67-da0a9e84679c"
      },
      "source": [
        "print(np.power(a, b))"
      ],
      "execution_count": null,
      "outputs": [
        {
          "output_type": "stream",
          "text": [
            "[429981696         0     16807]\n"
          ],
          "name": "stdout"
        }
      ]
    },
    {
      "cell_type": "markdown",
      "metadata": {
        "id": "AI3bxfs-u8dA"
      },
      "source": [
        "Tanto el método `.mod()` como el método `.remainder()` calculan el resto de la división entera del primer array entre el segundo, elemento a elemento"
      ]
    },
    {
      "cell_type": "code",
      "metadata": {
        "colab": {
          "base_uri": "https://localhost:8080/"
        },
        "id": "QMg3YX-NuyLj",
        "outputId": "a8c931da-8cd3-4322-8ffd-8e6ff92afe89"
      },
      "source": [
        "print(np.mod(a, b))\n",
        "print(np.remainder(a, b))"
      ],
      "execution_count": null,
      "outputs": [
        {
          "output_type": "stream",
          "text": [
            "[4 0 2]\n",
            "[4 0 2]\n"
          ],
          "name": "stdout"
        }
      ]
    },
    {
      "cell_type": "markdown",
      "metadata": {
        "id": "2SKk39eGvaOe"
      },
      "source": [
        "El método `.divmod()` devuelve una tupla con 2 arrays, el primero contiene los cocientes y el segundo los restos de las divisiones enteras elemento a elemento"
      ]
    },
    {
      "cell_type": "code",
      "metadata": {
        "colab": {
          "base_uri": "https://localhost:8080/"
        },
        "id": "xxj-TwfxvJQP",
        "outputId": "e35cd1fb-c668-45b8-82f3-29b3e4f8a09a"
      },
      "source": [
        "print(np.divmod(a, b))"
      ],
      "execution_count": null,
      "outputs": [
        {
          "output_type": "stream",
          "text": [
            "(array([1, 0, 1]), array([4, 0, 2]))\n"
          ],
          "name": "stdout"
        }
      ]
    },
    {
      "cell_type": "markdown",
      "metadata": {
        "id": "pR3BhPcnv4AJ"
      },
      "source": [
        "El método `.absolute()` devuelve el valor absoluto de cada elemento de un array"
      ]
    },
    {
      "cell_type": "code",
      "metadata": {
        "colab": {
          "base_uri": "https://localhost:8080/"
        },
        "id": "HB4oQZw5vzt9",
        "outputId": "74c79c28-a798-44ef-c005-84f44a84fee3"
      },
      "source": [
        "print(np.absolute(np.array([-1, 0, -2, 1, 2])))"
      ],
      "execution_count": null,
      "outputs": [
        {
          "output_type": "stream",
          "text": [
            "[1 0 2 1 2]\n"
          ],
          "name": "stdout"
        }
      ]
    },
    {
      "cell_type": "markdown",
      "metadata": {
        "id": "AYlHpKkwfpXT"
      },
      "source": [
        "#### Redondeando decimales\n",
        "\n",
        "En `numpy` tenemos 5 formas de redondear los decimales de un número\n",
        "\n",
        "* `.trunc()` para truncar\n",
        "* `.fix()` también para truncar\n",
        "* `.round()` para redondear\n",
        "* `.floor()` para redondear a la baja\n",
        "* `.ceil()` para redondear a la alza"
      ]
    },
    {
      "cell_type": "code",
      "metadata": {
        "id": "QDh6w8rXwGOW"
      },
      "source": [
        "a = np.array([-5.1777, 5.7778, 5.5234])"
      ],
      "execution_count": null,
      "outputs": []
    },
    {
      "cell_type": "code",
      "metadata": {
        "colab": {
          "base_uri": "https://localhost:8080/"
        },
        "id": "k00osHyRgZOU",
        "outputId": "e79aa666-5780-4b97-b5d6-912f999deef5"
      },
      "source": [
        "print(\"Si truncamos con .trunc(), obtendremos {}\".format(np.trunc(a)))\n",
        "print(\"Si truncamos con .fix(), obtendremos {}\".format(np.fix(a)))"
      ],
      "execution_count": null,
      "outputs": [
        {
          "output_type": "stream",
          "text": [
            "Si truncamos con .trunc(), obtendremos [-5.  5.  5.]\n",
            "Si truncamos con .fix(), obtendremos [-5.  5.  5.]\n"
          ],
          "name": "stdout"
        }
      ]
    },
    {
      "cell_type": "code",
      "metadata": {
        "colab": {
          "base_uri": "https://localhost:8080/"
        },
        "id": "6hAXO7fMgtnk",
        "outputId": "31e8f970-fdef-4f14-9978-758600ebc13f"
      },
      "source": [
        "print(\"Si rendondeamos con .around(), obtendremos {}\".format(np.around(a)))"
      ],
      "execution_count": null,
      "outputs": [
        {
          "output_type": "stream",
          "text": [
            "Si rendondeamos con .around(), obtendremos [-5.  6.  6.]\n"
          ],
          "name": "stdout"
        }
      ]
    },
    {
      "cell_type": "markdown",
      "metadata": {
        "id": "VrMrpkBCg81C"
      },
      "source": [
        "**Observación.** Como segundo parámetro, podemos indicar a cuántas cifras decimales queremos redondear"
      ]
    },
    {
      "cell_type": "code",
      "metadata": {
        "colab": {
          "base_uri": "https://localhost:8080/"
        },
        "id": "xjicgCI0g1xe",
        "outputId": "8f7ffa8a-0921-4e3e-97da-4f6fd2dd6d68"
      },
      "source": [
        "print(\"Si rendondeamos con .round() a 3 cifras decimales, obtendremos {}\".\n",
        "      format(np.round(a, 3)))"
      ],
      "execution_count": null,
      "outputs": [
        {
          "output_type": "stream",
          "text": [
            "Si rendondeamos con .round() a 3 cifras decimales, obtendremos [-5.178  5.778  5.523]\n"
          ],
          "name": "stdout"
        }
      ]
    },
    {
      "cell_type": "code",
      "metadata": {
        "colab": {
          "base_uri": "https://localhost:8080/"
        },
        "id": "xjgNAcYDhHp0",
        "outputId": "6af12dd8-9f4b-4916-d550-cf728474073d"
      },
      "source": [
        "print(\"Si rendondeamos a la baja con .floor(), obtendremos {}\".format(np.floor(a)))"
      ],
      "execution_count": null,
      "outputs": [
        {
          "output_type": "stream",
          "text": [
            "Si rendondeamos a la baja con .floor(), obtendremos [-6.  5.  5.]\n"
          ],
          "name": "stdout"
        }
      ]
    },
    {
      "cell_type": "code",
      "metadata": {
        "colab": {
          "base_uri": "https://localhost:8080/"
        },
        "id": "_fVSaRzYhM7e",
        "outputId": "8a67af45-5154-4d17-e67f-81dcc4290daf"
      },
      "source": [
        "print(\"Si rendondeamos con a la alza .ceil(), obtendremos {}\".format(np.ceil(a)))"
      ],
      "execution_count": null,
      "outputs": [
        {
          "output_type": "stream",
          "text": [
            "Si rendondeamos con a la alza .ceil(), obtendremos [-5.  6.  6.]\n"
          ],
          "name": "stdout"
        }
      ]
    },
    {
      "cell_type": "markdown",
      "metadata": {
        "id": "_vHqBMzPhVWh"
      },
      "source": [
        "#### Sumas y Diferencias\n",
        "\n",
        "Ya concoemos el método `.add()` que dados dos arrays los suma elemento a elemento"
      ]
    },
    {
      "cell_type": "code",
      "metadata": {
        "id": "VdG_u-juhQSf"
      },
      "source": [
        "x = np.array([2, 3, 7])\n",
        "y = np.array([-1, 5, 0])"
      ],
      "execution_count": null,
      "outputs": []
    },
    {
      "cell_type": "code",
      "metadata": {
        "colab": {
          "base_uri": "https://localhost:8080/"
        },
        "id": "FDHZO1UhhqSK",
        "outputId": "da0e84b8-97ba-4d94-d0e1-d873f46c0aa6"
      },
      "source": [
        "print(np.add(x, y))"
      ],
      "execution_count": null,
      "outputs": [
        {
          "output_type": "stream",
          "text": [
            "[1 8 7]\n"
          ],
          "name": "stdout"
        }
      ]
    },
    {
      "cell_type": "markdown",
      "metadata": {
        "id": "1dh7Hty2h0d-"
      },
      "source": [
        "El método `.sum()` nos calcula la suma de los elementos de un array"
      ]
    },
    {
      "cell_type": "code",
      "metadata": {
        "colab": {
          "base_uri": "https://localhost:8080/"
        },
        "id": "Hk6fQhvehtBl",
        "outputId": "209fe1dc-d051-4175-d3b6-fd9ec1c1c239"
      },
      "source": [
        "print(\"La suma de los elementos de x es\", np.sum(x))\n",
        "print(\"La suma de los elementos de y es\", np.sum(y))"
      ],
      "execution_count": null,
      "outputs": [
        {
          "output_type": "stream",
          "text": [
            "La suma de los elementos de x es 12\n",
            "La suma de los elementos de y es 4\n"
          ],
          "name": "stdout"
        }
      ]
    },
    {
      "cell_type": "markdown",
      "metadata": {
        "id": "NmpOOboOiUkA"
      },
      "source": [
        "**Observación.** Cuando por parámetro pasamos un array multidimensional, volvemos a tener disponible el ya más que conocido parámetro `axis`, para seleccionar sobre qué eje queremos realizar la suma"
      ]
    },
    {
      "cell_type": "code",
      "metadata": {
        "colab": {
          "base_uri": "https://localhost:8080/"
        },
        "id": "DTBeNHbRiDka",
        "outputId": "e29e1e1b-783b-41df-8d1f-e1f758709409"
      },
      "source": [
        "z = np.array([[[1, 2], [3, 4], [5, 6], [7, 8]],\n",
        "              [[2, 4], [3, 6], [4, 8], [5, 10]],\n",
        "              [[1, 3], [2, 4], [5, 7], [6, 8]]])\n",
        "\n",
        "for i in range(z.ndim):\n",
        "  print(\"\\nLa suma de los elementos de z sobre el axis {}  es\\n{}\".format(i, np.sum(z, axis = i)))\n",
        "\n",
        "print(\"\\nLa suma de todos los elementos de z es\", np.sum(z))"
      ],
      "execution_count": null,
      "outputs": [
        {
          "output_type": "stream",
          "text": [
            "\n",
            "La suma de los elementos de z sobre el axis 0  es\n",
            "[[ 4  9]\n",
            " [ 8 14]\n",
            " [14 21]\n",
            " [18 26]]\n",
            "\n",
            "La suma de los elementos de z sobre el axis 1  es\n",
            "[[16 20]\n",
            " [14 28]\n",
            " [14 22]]\n",
            "\n",
            "La suma de los elementos de z sobre el axis 2  es\n",
            "[[ 3  7 11 15]\n",
            " [ 6  9 12 15]\n",
            " [ 4  6 12 14]]\n",
            "\n",
            "La suma de todos los elementos de z es 114\n"
          ],
          "name": "stdout"
        }
      ]
    },
    {
      "cell_type": "markdown",
      "metadata": {
        "id": "xFHeTdsejlpg"
      },
      "source": [
        "Para calcular la suma acumulada de los elementos de un array, disponemos del método `.cumsum()`"
      ]
    },
    {
      "cell_type": "code",
      "metadata": {
        "colab": {
          "base_uri": "https://localhost:8080/"
        },
        "id": "gb2ibXHqjs72",
        "outputId": "cd0a25af-a68b-4381-d055-6f4bc297e424"
      },
      "source": [
        "print(\"La suma acumulada de los elementos de x es\", np.cumsum(x))\n",
        "print(\"La suma acumulada de los elementos de y es\", np.cumsum(y))"
      ],
      "execution_count": null,
      "outputs": [
        {
          "output_type": "stream",
          "text": [
            "La suma acumulada de los elementos de x es [ 2  5 12]\n",
            "La suma acumulada de los elementos de y es [-1  4  4]\n"
          ],
          "name": "stdout"
        }
      ]
    },
    {
      "cell_type": "markdown",
      "metadata": {
        "id": "xPx64XfQj44p"
      },
      "source": [
        "**Observación.** Cuando por parámetro pasamos un array multidimensional, volvemos a tener disponible el ya más que conocido parámetro `axis`, para seleccionar sobre qué eje queremos realizar la suma acumulada"
      ]
    },
    {
      "cell_type": "code",
      "metadata": {
        "colab": {
          "base_uri": "https://localhost:8080/"
        },
        "id": "4RS6oyeYj-V3",
        "outputId": "97cfc35c-61c5-4ed9-d519-88e92ac62ac9"
      },
      "source": [
        "z = np.array([[[1, 2], [3, 4], [5, 6], [7, 8]],\n",
        "              [[2, 4], [3, 6], [4, 8], [5, 10]],\n",
        "              [[1, 3], [2, 4], [5, 7], [6, 8]]])\n",
        "\n",
        "for i in range(z.ndim):\n",
        "  print(\"\\nLa suma acumulada de los elementos de z sobre el axis {}  es\\n{}\".format(i, np.cumsum(z, axis = i)))\n",
        "\n",
        "print(\"\\nLa suma acumulada de todos los elementos de z es\", np.cumsum(z))"
      ],
      "execution_count": null,
      "outputs": [
        {
          "output_type": "stream",
          "text": [
            "\n",
            "La suma acumulada de los elementos de z sobre el axis 0  es\n",
            "[[[ 1  2]\n",
            "  [ 3  4]\n",
            "  [ 5  6]\n",
            "  [ 7  8]]\n",
            "\n",
            " [[ 3  6]\n",
            "  [ 6 10]\n",
            "  [ 9 14]\n",
            "  [12 18]]\n",
            "\n",
            " [[ 4  9]\n",
            "  [ 8 14]\n",
            "  [14 21]\n",
            "  [18 26]]]\n",
            "\n",
            "La suma acumulada de los elementos de z sobre el axis 1  es\n",
            "[[[ 1  2]\n",
            "  [ 4  6]\n",
            "  [ 9 12]\n",
            "  [16 20]]\n",
            "\n",
            " [[ 2  4]\n",
            "  [ 5 10]\n",
            "  [ 9 18]\n",
            "  [14 28]]\n",
            "\n",
            " [[ 1  3]\n",
            "  [ 3  7]\n",
            "  [ 8 14]\n",
            "  [14 22]]]\n",
            "\n",
            "La suma acumulada de los elementos de z sobre el axis 2  es\n",
            "[[[ 1  3]\n",
            "  [ 3  7]\n",
            "  [ 5 11]\n",
            "  [ 7 15]]\n",
            "\n",
            " [[ 2  6]\n",
            "  [ 3  9]\n",
            "  [ 4 12]\n",
            "  [ 5 15]]\n",
            "\n",
            " [[ 1  4]\n",
            "  [ 2  6]\n",
            "  [ 5 12]\n",
            "  [ 6 14]]]\n",
            "\n",
            "La suma acumulada de todos los elementos de z es [  1   3   6  10  15  21  28  36  38  42  45  51  55  63  68  78  79  82\n",
            "  84  88  93 100 106 114]\n"
          ],
          "name": "stdout"
        }
      ]
    },
    {
      "cell_type": "markdown",
      "metadata": {
        "id": "m4Dx-NaUkyo8"
      },
      "source": [
        "Para calcular las diferencias entre los elementos de un array, disponemos del método `.diff()`"
      ]
    },
    {
      "cell_type": "code",
      "metadata": {
        "colab": {
          "base_uri": "https://localhost:8080/"
        },
        "id": "IYRXRu0MkEI4",
        "outputId": "0fc7158a-c0b3-4637-c1cf-8ad2b53fc5d6"
      },
      "source": [
        "print(\"La diferencia de elementos sucesivos de x es\", np.diff(x))\n",
        "print(\"La diferencia de elementos sucesivos de y es\", np.diff(y))"
      ],
      "execution_count": null,
      "outputs": [
        {
          "output_type": "stream",
          "text": [
            "La diferencia de elementos sucesivos de x es [1 4]\n",
            "La diferencia de elementos sucesivos de y es [ 6 -5]\n"
          ],
          "name": "stdout"
        }
      ]
    },
    {
      "cell_type": "markdown",
      "metadata": {
        "id": "_opM_ONMlW1k"
      },
      "source": [
        "**Observación.** Cuando por parámetro pasamos un array multidimensional, volvemos a tener disponible el ya más que conocido parámetro `axis`, para seleccionar sobre qué eje queremos realizar la diferencia"
      ]
    },
    {
      "cell_type": "code",
      "metadata": {
        "colab": {
          "base_uri": "https://localhost:8080/"
        },
        "id": "iqVK9oeMlHNH",
        "outputId": "2cb1d2ba-38ce-49a0-9a22-f4df54bf40aa"
      },
      "source": [
        "z = np.array([[[1, 2], [3, 4], [5, 6], [7, 8]],\n",
        "              [[2, 4], [3, 6], [4, 8], [5, 10]],\n",
        "              [[1, 3], [2, 4], [5, 7], [6, 8]]])\n",
        "\n",
        "for i in range(z.ndim):\n",
        "  print(\"\\nLa diferencia de los elementos sucesivos de z sobre el axis {}  es\\n{}\".format(i, np.diff(z, axis = i)))"
      ],
      "execution_count": null,
      "outputs": [
        {
          "output_type": "stream",
          "text": [
            "\n",
            "La diferencia de los elementos sucesivos de z sobre el axis 0  es\n",
            "[[[ 1  2]\n",
            "  [ 0  2]\n",
            "  [-1  2]\n",
            "  [-2  2]]\n",
            "\n",
            " [[-1 -1]\n",
            "  [-1 -2]\n",
            "  [ 1 -1]\n",
            "  [ 1 -2]]]\n",
            "\n",
            "La diferencia de los elementos sucesivos de z sobre el axis 1  es\n",
            "[[[2 2]\n",
            "  [2 2]\n",
            "  [2 2]]\n",
            "\n",
            " [[1 2]\n",
            "  [1 2]\n",
            "  [1 2]]\n",
            "\n",
            " [[1 1]\n",
            "  [3 3]\n",
            "  [1 1]]]\n",
            "\n",
            "La diferencia de los elementos sucesivos de z sobre el axis 2  es\n",
            "[[[1]\n",
            "  [1]\n",
            "  [1]\n",
            "  [1]]\n",
            "\n",
            " [[2]\n",
            "  [3]\n",
            "  [4]\n",
            "  [5]]\n",
            "\n",
            " [[2]\n",
            "  [2]\n",
            "  [2]\n",
            "  [2]]]\n"
          ],
          "name": "stdout"
        }
      ]
    },
    {
      "cell_type": "markdown",
      "metadata": {
        "id": "_EYwUgE5whaq"
      },
      "source": [
        "El parámetro `n` nos permite elegir cuántas veces queremos calcular la diferencia entre los elementos sucesivos de un array:"
      ]
    },
    {
      "cell_type": "code",
      "metadata": {
        "colab": {
          "base_uri": "https://localhost:8080/"
        },
        "id": "XYMOSA8vwRdE",
        "outputId": "0654b8e8-cee4-4e75-83bf-e2c89b9b33f7"
      },
      "source": [
        "print(\"x =\", x)\n",
        "print(\"Realizando la diferencia entre sus elementos sucesivos obtenemos\", np.diff(x))\n",
        "print(\"Realizando 2 veces la diferencia entre sus elementos sucesivos obtenemos\", np.diff(x, n = 2))"
      ],
      "execution_count": null,
      "outputs": [
        {
          "output_type": "stream",
          "text": [
            "x = [2 3 7]\n",
            "Realizando la diferencia entre sus elementos sucesivos obtenemos [1 4]\n",
            "Realizando 2 veces la diferencia entre sus elementos sucesivos obtenemos [3]\n"
          ],
          "name": "stdout"
        }
      ]
    },
    {
      "cell_type": "code",
      "metadata": {
        "colab": {
          "base_uri": "https://localhost:8080/"
        },
        "id": "Lz55Sb10w75m",
        "outputId": "f9ce1f80-77fd-4780-d545-4d3398001ac0"
      },
      "source": [
        "print(\"y =\", y)\n",
        "print(\"Realizando la diferencia entre sus elementos sucesivos obtenemos\", np.diff(y))\n",
        "print(\"Realizando 2 veces la diferencia entre sus elementos sucesivos obtenemos\", np.diff(y, n = 2))"
      ],
      "execution_count": null,
      "outputs": [
        {
          "output_type": "stream",
          "text": [
            "y = [-1  5  0]\n",
            "Realizando la diferencia entre sus elementos sucesivos obtenemos [ 6 -5]\n",
            "Realizando 2 veces la diferencia entre sus elementos sucesivos obtenemos [-11]\n"
          ],
          "name": "stdout"
        }
      ]
    },
    {
      "cell_type": "markdown",
      "metadata": {
        "id": "cgVSH9eExLIg"
      },
      "source": [
        "#### Productos\n",
        "\n",
        "El método `.prod()` calcula el producto de los elementos de un array"
      ]
    },
    {
      "cell_type": "code",
      "metadata": {
        "colab": {
          "base_uri": "https://localhost:8080/"
        },
        "id": "oe5Jy23IxD_m",
        "outputId": "ed680902-e261-49bf-aca8-811275416d47"
      },
      "source": [
        "a = np.array([2, 4, 6, 8])\n",
        "np.prod(a)"
      ],
      "execution_count": null,
      "outputs": [
        {
          "output_type": "execute_result",
          "data": {
            "text/plain": [
              "384"
            ]
          },
          "metadata": {
            "tags": []
          },
          "execution_count": 94
        }
      ]
    },
    {
      "cell_type": "markdown",
      "metadata": {
        "id": "gU7QCdfTxnEw"
      },
      "source": [
        "**Observación.** Cuando por parámetro pasamos un array multidimensional, volvemos a tener disponible el parámetro `axis`, para seleccionar sobre qué eje queremos realizar el producto de los elementos"
      ]
    },
    {
      "cell_type": "code",
      "metadata": {
        "colab": {
          "base_uri": "https://localhost:8080/"
        },
        "id": "DjdUhWonxdfy",
        "outputId": "1837e5c8-4e63-43b5-e2ac-beff42c02492"
      },
      "source": [
        "b = np.array([[[1, 2], [3, 4], [5, 6], [7, 8]],\n",
        "              [[2, -4], [3, -6], [4, -8], [5, -10]],\n",
        "              [[-1, 3], [-2, 4], [-5, 7], [-6, 8]]])\n",
        "\n",
        "for i in range(b.ndim):\n",
        "  print(\"\\nEl producto de los elementos de b sobre el axis {}  es\\n{}\".format(i, np.prod(b, axis = i)))\n",
        "\n",
        "print(\"\\nEl producto de todos los elementos de b es\", np.prod(b))"
      ],
      "execution_count": null,
      "outputs": [
        {
          "output_type": "stream",
          "text": [
            "\n",
            "El producto de los elementos de b sobre el axis 0  es\n",
            "[[  -2  -24]\n",
            " [ -18  -96]\n",
            " [-100 -336]\n",
            " [-210 -640]]\n",
            "\n",
            "El producto de los elementos de b sobre el axis 1  es\n",
            "[[ 105  384]\n",
            " [ 120 1920]\n",
            " [  60  672]]\n",
            "\n",
            "El producto de los elementos de b sobre el axis 2  es\n",
            "[[  2  12  30  56]\n",
            " [ -8 -18 -32 -50]\n",
            " [ -3  -8 -35 -48]]\n",
            "\n",
            "El producto de todos los elementos de b es 374561832960000\n"
          ],
          "name": "stdout"
        }
      ]
    },
    {
      "cell_type": "markdown",
      "metadata": {
        "id": "WDvO_syhyD3b"
      },
      "source": [
        "Con el método `.cumprod()` podemos calcular el producto acumulado de un array"
      ]
    },
    {
      "cell_type": "code",
      "metadata": {
        "colab": {
          "base_uri": "https://localhost:8080/"
        },
        "id": "yJOwTsxGx63e",
        "outputId": "4343f1f9-715b-442a-a556-47b7d3e7487a"
      },
      "source": [
        "a = np.array([2, 4, 6, 8])\n",
        "np.cumprod(a)"
      ],
      "execution_count": null,
      "outputs": [
        {
          "output_type": "execute_result",
          "data": {
            "text/plain": [
              "array([  2,   8,  48, 384])"
            ]
          },
          "metadata": {
            "tags": []
          },
          "execution_count": 96
        }
      ]
    },
    {
      "cell_type": "markdown",
      "metadata": {
        "id": "RocoPakoyMyW"
      },
      "source": [
        "**Observación.** Cuando por parámetro pasamos un array multidimensional, volvemos a tener disponible el parámetro `axis`, para seleccionar sobre qué eje queremos realizar el producto de los elementos"
      ]
    },
    {
      "cell_type": "code",
      "metadata": {
        "colab": {
          "base_uri": "https://localhost:8080/"
        },
        "id": "DXBtyoJIySU7",
        "outputId": "997112d1-ca05-49f2-ca0f-0d79aa063063"
      },
      "source": [
        "b = np.array([[[1, 2], [3, 4], [5, 6], [7, 8]],\n",
        "              [[2, -4], [3, -6], [4, -8], [5, -10]],\n",
        "              [[-1, 3], [-2, 4], [-5, 7], [-6, 8]]])\n",
        "\n",
        "for i in range(b.ndim):\n",
        "  print(\"\\nEl producto acumulado de los elementos de b sobre el axis {}  es\\n{}\".format(i, np.cumprod(b, axis = i)))\n",
        "\n",
        "print(\"\\nEl producto acumulado de todos los elementos de b es\", np.cumprod(b))"
      ],
      "execution_count": null,
      "outputs": [
        {
          "output_type": "stream",
          "text": [
            "\n",
            "El producto acumulado de los elementos de b sobre el axis 0  es\n",
            "[[[   1    2]\n",
            "  [   3    4]\n",
            "  [   5    6]\n",
            "  [   7    8]]\n",
            "\n",
            " [[   2   -8]\n",
            "  [   9  -24]\n",
            "  [  20  -48]\n",
            "  [  35  -80]]\n",
            "\n",
            " [[  -2  -24]\n",
            "  [ -18  -96]\n",
            "  [-100 -336]\n",
            "  [-210 -640]]]\n",
            "\n",
            "El producto acumulado de los elementos de b sobre el axis 1  es\n",
            "[[[   1    2]\n",
            "  [   3    8]\n",
            "  [  15   48]\n",
            "  [ 105  384]]\n",
            "\n",
            " [[   2   -4]\n",
            "  [   6   24]\n",
            "  [  24 -192]\n",
            "  [ 120 1920]]\n",
            "\n",
            " [[  -1    3]\n",
            "  [   2   12]\n",
            "  [ -10   84]\n",
            "  [  60  672]]]\n",
            "\n",
            "El producto acumulado de los elementos de b sobre el axis 2  es\n",
            "[[[  1   2]\n",
            "  [  3  12]\n",
            "  [  5  30]\n",
            "  [  7  56]]\n",
            "\n",
            " [[  2  -8]\n",
            "  [  3 -18]\n",
            "  [  4 -32]\n",
            "  [  5 -50]]\n",
            "\n",
            " [[ -1  -3]\n",
            "  [ -2  -8]\n",
            "  [ -5 -35]\n",
            "  [ -6 -48]]]\n",
            "\n",
            "El producto acumulado de todos los elementos de b es [              1               2               6              24\n",
            "             120             720            5040           40320\n",
            "           80640         -322560         -967680         5806080\n",
            "        23224320      -185794560      -928972800      9289728000\n",
            "     -9289728000    -27869184000     55738368000    222953472000\n",
            "  -1114767360000  -7803371520000  46820229120000 374561832960000]\n"
          ],
          "name": "stdout"
        }
      ]
    },
    {
      "cell_type": "markdown",
      "metadata": {
        "id": "KdGK-yMUyd0W"
      },
      "source": [
        "#### Logaritmos\n",
        "\n",
        "Podemos calcular el logaritmo neperiano de todos los elementos de un array con el método `.log()`"
      ]
    },
    {
      "cell_type": "code",
      "metadata": {
        "colab": {
          "base_uri": "https://localhost:8080/"
        },
        "id": "zLj-NZExyW1j",
        "outputId": "1d5b59f3-bfdc-453b-dac7-e10e118ad455"
      },
      "source": [
        "a = np.array([5, 12, 34, 7, 55])\n",
        "print(np.log(a))"
      ],
      "execution_count": null,
      "outputs": [
        {
          "output_type": "stream",
          "text": [
            "[1.60943791 2.48490665 3.52636052 1.94591015 4.00733319]\n"
          ],
          "name": "stdout"
        }
      ]
    },
    {
      "cell_type": "markdown",
      "metadata": {
        "id": "ZWbqsRK4y0U4"
      },
      "source": [
        "`numpy` no ofrece ningún método que calcule logartimos en cualquier otra base que no sea `e`. Por eso, la creamos nosotros a partir del método `math.log()`"
      ]
    },
    {
      "cell_type": "code",
      "metadata": {
        "colab": {
          "base_uri": "https://localhost:8080/"
        },
        "id": "0VUsgjEeyuvA",
        "outputId": "7e83e835-ec18-47b4-dfd3-476278a53b92"
      },
      "source": [
        "from math import log\n",
        "\n",
        "nplog = np.frompyfunc(log, 2, 1)\n",
        "print(nplog(np.array([100, 1000, 50, 500]), 10))"
      ],
      "execution_count": null,
      "outputs": [
        {
          "output_type": "stream",
          "text": [
            "[2.0 2.9999999999999996 1.6989700043360185 2.6989700043360183]\n"
          ],
          "name": "stdout"
        }
      ]
    },
    {
      "cell_type": "markdown",
      "metadata": {
        "id": "u23Pa-FUzcs5"
      },
      "source": [
        "#### MCM y MCD\n",
        "\n",
        "Podemos calcular el Mínimo Común Múltiplo de los elementos de un array con el método `.lcm.reduce()`"
      ]
    },
    {
      "cell_type": "code",
      "metadata": {
        "colab": {
          "base_uri": "https://localhost:8080/"
        },
        "id": "ltJpkd54zRAJ",
        "outputId": "a756d3f1-521f-49d1-bff9-8c9468f484a5"
      },
      "source": [
        "a = np.array([2, 3, 5, 12])\n",
        "np.lcm.reduce(a)"
      ],
      "execution_count": null,
      "outputs": [
        {
          "output_type": "execute_result",
          "data": {
            "text/plain": [
              "60"
            ]
          },
          "metadata": {
            "tags": []
          },
          "execution_count": 101
        }
      ]
    },
    {
      "cell_type": "markdown",
      "metadata": {
        "id": "oSwX7URr0M-X"
      },
      "source": [
        "Podemos calcular el Máximo Común Divisor de los elementos de un array con el método `.gcd.reduce()`"
      ]
    },
    {
      "cell_type": "code",
      "metadata": {
        "colab": {
          "base_uri": "https://localhost:8080/"
        },
        "id": "wPyfNSg1zyOp",
        "outputId": "7f9aef53-6341-444b-bc94-a546d424bf3d"
      },
      "source": [
        "b = np.array([15, 12, 27])\n",
        "np.gcd.reduce(b)"
      ],
      "execution_count": null,
      "outputs": [
        {
          "output_type": "execute_result",
          "data": {
            "text/plain": [
              "3"
            ]
          },
          "metadata": {
            "tags": []
          },
          "execution_count": 102
        }
      ]
    },
    {
      "cell_type": "markdown",
      "metadata": {
        "id": "9l2LrbmA0ita"
      },
      "source": [
        "#### Trigonometría\n",
        "\n",
        "En `numpy` el número $\\pi$ se obtiene con `np.pi`.\n",
        "\n",
        "En `numpy` disponemos de los métodos:\n",
        "\n",
        "* `.sin()`\n",
        "* `.cos()`\n",
        "* `.tan()`\n",
        "\n",
        "para calcular el seno, coseno y tangente de los elementos de un array (los valores se consideran en radianes)\n",
        "\n",
        "* `.deg2rad()`\n",
        "* `.rad2deg()`\n",
        "\n",
        "para calcular conversión de ángulos a radianes y de radianes a ángulos respectivamente\n",
        "\n",
        "* `.arcsin()`\n",
        "* `.arccos()`\n",
        "* `.arctan()`\n",
        "\n",
        "para calcular el arcoseno, arcocoseno y arcotangente y hallar ángulos (el resultado es devuelto en radianes)"
      ]
    },
    {
      "cell_type": "markdown",
      "metadata": {
        "id": "oUPLPsLG0lAp"
      },
      "source": [
        "#### Funciones hiperbólicas\n",
        "\n",
        "En `numpy` disponemos de los métodos:\n",
        "\n",
        "* `.sinh()`\n",
        "* `.cosh()`\n",
        "* `.tanh()`\n",
        "\n",
        "para calcular el seno, coseno y tangente hiperbólicos de los elementos de un array (los valores se consideran en radianes)\n",
        "\n",
        "* `.arcsinh()`\n",
        "* `.arccosh()`\n",
        "* `.arctanh()`\n",
        "\n",
        "para calcular el arcoseno, arcocoseno y arcotangente hiperbólicos y hallar ángulos (el resultado es devuelto en radianes)"
      ]
    },
    {
      "cell_type": "markdown",
      "metadata": {
        "id": "Kbn9ilSX0nh5"
      },
      "source": [
        "#### Conjuntos en `numpy`\n",
        "\n",
        "Para crear un conjunto a partir de un array, usamos el método `.unique()`:  "
      ]
    },
    {
      "cell_type": "code",
      "metadata": {
        "colab": {
          "base_uri": "https://localhost:8080/"
        },
        "id": "R1duUxYI1i2j",
        "outputId": "1c701ed2-2d9c-4995-ddcd-46d9edcc8fb5"
      },
      "source": [
        "a = np.array([1, 2, -1, 1, 5, 6, 2, 4, -1, 2])\n",
        "set_a = np.unique(a)\n",
        "print(set_a)"
      ],
      "execution_count": null,
      "outputs": [
        {
          "output_type": "stream",
          "text": [
            "[-1  1  2  4  5  6]\n"
          ],
          "name": "stdout"
        }
      ]
    },
    {
      "cell_type": "markdown",
      "metadata": {
        "id": "jWonCV2B2cex"
      },
      "source": [
        "Para hallar la unión entre dos arrays 1D, usamos el m\bétodo `.union1d()`"
      ]
    },
    {
      "cell_type": "code",
      "metadata": {
        "colab": {
          "base_uri": "https://localhost:8080/"
        },
        "id": "KXCxPjsp2W1l",
        "outputId": "cef87f7c-cb22-4283-9cb3-c7a021a42c37"
      },
      "source": [
        "x = np.array([1, 2, 3, 4])\n",
        "y = np.array([-2, -1, 0, 1])\n",
        "print(np.union1d(x, y))"
      ],
      "execution_count": null,
      "outputs": [
        {
          "output_type": "stream",
          "text": [
            "[-2 -1  0  1  2  3  4]\n"
          ],
          "name": "stdout"
        }
      ]
    },
    {
      "cell_type": "markdown",
      "metadata": {
        "id": "iXwnm2CG2ypz"
      },
      "source": [
        "Para hallar la intersección entre dos arrays 1D, usamos el método `.intersect1d()`"
      ]
    },
    {
      "cell_type": "code",
      "metadata": {
        "colab": {
          "base_uri": "https://localhost:8080/"
        },
        "id": "vw2ssToe2u6c",
        "outputId": "bd57d032-3991-43b8-8d81-b689dda24168"
      },
      "source": [
        "print(np.intersect1d(x, y))"
      ],
      "execution_count": null,
      "outputs": [
        {
          "output_type": "stream",
          "text": [
            "[1]\n"
          ],
          "name": "stdout"
        }
      ]
    },
    {
      "cell_type": "markdown",
      "metadata": {
        "id": "rUq3jndq3CZB"
      },
      "source": [
        "Para hallar la diferencia entre dos arrays 1D, disponemos del método `.setdiff1d()`"
      ]
    },
    {
      "cell_type": "code",
      "metadata": {
        "colab": {
          "base_uri": "https://localhost:8080/"
        },
        "id": "eBGuFG0V28bk",
        "outputId": "a63f5e8c-c088-444a-fd9d-da71f908058f"
      },
      "source": [
        "print(np.setdiff1d(x, y))\n",
        "print(np.setdiff1d(y, x))"
      ],
      "execution_count": null,
      "outputs": [
        {
          "output_type": "stream",
          "text": [
            "[2 3 4]\n",
            "[-2 -1  0]\n"
          ],
          "name": "stdout"
        }
      ]
    },
    {
      "cell_type": "markdown",
      "metadata": {
        "id": "KB--3Jju3PJ4"
      },
      "source": [
        "Para hallar la diferencia simétrica entre dos arrays 1D, usamos el método `.setxor1d()`"
      ]
    },
    {
      "cell_type": "code",
      "metadata": {
        "colab": {
          "base_uri": "https://localhost:8080/"
        },
        "id": "6k-uIwGw3MAy",
        "outputId": "9ec9e9b3-2c7e-41c7-fcc3-00f8eea2b8c3"
      },
      "source": [
        "print(np.setxor1d(x, y))"
      ],
      "execution_count": null,
      "outputs": [
        {
          "output_type": "stream",
          "text": [
            "[-2 -1  0  2  3  4]\n"
          ],
          "name": "stdout"
        }
      ]
    }
  ]
}