{
  "nbformat": 4,
  "nbformat_minor": 0,
  "metadata": {
    "colab": {
      "provenance": [],
      "toc_visible": true
    },
    "kernelspec": {
      "name": "python3",
      "display_name": "Python 3"
    }
  },
  "cells": [
    {
      "cell_type": "markdown",
      "metadata": {
        "id": "tFwm2WhMiR7F"
      },
      "source": [
        "# Archivos `txt` y `csv`"
      ]
    },
    {
      "cell_type": "markdown",
      "metadata": {
        "id": "YmXrRVwXkltU"
      },
      "source": [
        "## Leyendo el primer `txt`\n",
        "\n",
        "Vamos a crear un archivo `txt` con Text Editor que diga\n",
        "\n",
        "\"¡Qué ilusión! Vamos a cargar por primera vez un archivo `txt` con `Python`\"\n",
        "\n",
        "y lo guardaremos en la carpeta datasets con el nombre `first_read.txt`.\n",
        "\n",
        "A continuación, vamos a cargar el archivo que acabamos de crear en este mismo notebook. Para ello vamos a usar la función `open()` y los métodos `.read()` y `.close()`, para abrir, leer y cerrar, respectivamente, el archivo `txt`.\n",
        "\n",
        "**Observación.** Para poder cargar algún archivo que tengamos guardado en Google Drive, habrá que conectar el propio notebook con Drive."
      ]
    },
    {
      "cell_type": "code",
      "metadata": {
        "colab": {
          "base_uri": "https://localhost:8080/"
        },
        "id": "McGpP0G7bz2R",
        "outputId": "b1a430d6-c091-4935-9d61-342e4d01f89e"
      },
      "source": [
        "from google.colab import drive\n",
        "drive.mount('/content/drive')"
      ],
      "execution_count": null,
      "outputs": [
        {
          "output_type": "stream",
          "text": [
            "Mounted at /content/drive\n"
          ],
          "name": "stdout"
        }
      ]
    },
    {
      "cell_type": "code",
      "metadata": {
        "id": "-aIoVSfoiMKP",
        "colab": {
          "base_uri": "https://localhost:8080/"
        },
        "outputId": "e00a70c2-19bd-42b0-ddbf-fccdef2b1544"
      },
      "source": [
        "f = open(\"/content/drive/MyDrive/python-basico/datasets/first_read.txt\")\n",
        "print(f.read())\n",
        "f.close()"
      ],
      "execution_count": null,
      "outputs": [
        {
          "output_type": "stream",
          "text": [
            "\"¡Qué ilusión! Vamos a cargar por primera vez un archivo txt con Python\"\n"
          ],
          "name": "stdout"
        }
      ]
    },
    {
      "cell_type": "markdown",
      "metadata": {
        "id": "1srvprWkpm6_"
      },
      "source": [
        "* La función `open()` abre el archivo indicado y nos permite acceder a él. Como parámetro necesita el path del archivo que queremos abrir.\n",
        "* El método `.read()` lo usamos para leer el contenido del output que nos proporciona la función `open()` al cual hemos llamado `f`\n",
        "* Cuando hayamos acabado de trabajar con el archivo `f`, hay que cerrarlo. Este proceso se lleva a cabo con el método `.close()`\n"
      ]
    },
    {
      "cell_type": "markdown",
      "metadata": {
        "id": "_4HZO2klqoQP"
      },
      "source": [
        "Otra forma de abrir el archivo y guardarlo en la variable `f` sería:"
      ]
    },
    {
      "cell_type": "code",
      "metadata": {
        "colab": {
          "base_uri": "https://localhost:8080/"
        },
        "id": "e7gNakACqv_Z",
        "outputId": "d71be9c0-d31d-40eb-a6fe-f1b4cf29dda3"
      },
      "source": [
        "with open(\"/content/drive/MyDrive/python-basico/datasets/first_read.txt\") as f:\n",
        "  print(f.read())"
      ],
      "execution_count": null,
      "outputs": [
        {
          "output_type": "stream",
          "text": [
            "\"¡Qué ilusión! Vamos a cargar por primera vez un archivo txt con Python\"\n"
          ],
          "name": "stdout"
        }
      ]
    },
    {
      "cell_type": "markdown",
      "metadata": {
        "id": "joCOZWxaq8HP"
      },
      "source": [
        "**Observación.** Con esta nueva sintaxis ya no es necesario hacer uso del método `.close()` para cerrar el archivo `f`. El comando `with` garantiza que el objeto `file` precedente, `f`, se cerrará automáticamente después de salir del bloque de código."
      ]
    },
    {
      "cell_type": "markdown",
      "metadata": {
        "id": "zv6M-RO1qL_1"
      },
      "source": [
        "### Leyendo parcialmente un archivo\n",
        "\n",
        "Dado un archivo `txt` abierto con la función `open()`, no es necesario leerlo al completo. Si solamente nos interesase leer una parte, podríamos indicárselo por parámetro al método `.read()`\n",
        "\n",
        "En el siguiente chunk de código vamos a leer solamente los 7 primeros caracteres del archivo `f`"
      ]
    },
    {
      "cell_type": "code",
      "metadata": {
        "id": "RBLgOCXBo4pj",
        "colab": {
          "base_uri": "https://localhost:8080/"
        },
        "outputId": "f1cc1981-21e4-477c-f2e8-3d16bc5adbcf"
      },
      "source": [
        "f = open(\"/content/drive/MyDrive/python-basico/datasets/first_read.txt\")\n",
        "print(f.read(7))\n",
        "f.close()"
      ],
      "execution_count": null,
      "outputs": [
        {
          "output_type": "stream",
          "text": [
            "\"¡Qué i\n"
          ],
          "name": "stdout"
        }
      ]
    },
    {
      "cell_type": "markdown",
      "metadata": {
        "id": "Xnys_msjrrrn"
      },
      "source": [
        "### Leyendo un archivo línea a línea\n",
        "\n",
        "El método `.readline()` hace que el archivo `f` sea leido línea a línea.\n",
        "\n",
        "* Si solamente llamamos una vez al método `.readline()` leeremos únicamente la primera línea del fichero.\n",
        "* Si llamamos dos veces al método, leeremos las dos primeras líneas del fichero.\n",
        "* Y así sucesivamente.\n",
        "\n",
        "En nuestro caso solo tenemos una línea, de modo que nos sirve una llamada al método `.readline()` para leer todo el fichero. Sin embargo, podemos probar con un archivo con más de una línea como el `first_read_multiline` que hemos creado para esta clase.\n"
      ]
    },
    {
      "cell_type": "code",
      "metadata": {
        "colab": {
          "base_uri": "https://localhost:8080/"
        },
        "id": "R6DQWAIMrJfb",
        "outputId": "d0d19277-2cbb-4330-910a-1fc3be2e28dd"
      },
      "source": [
        "with open(\"/content/drive/MyDrive/python-basico/datasets/first_read_multiline.txt\") as f:\n",
        "  print(f.readline())\n",
        "  print(f.readline())\n",
        "  print(f.readline())"
      ],
      "execution_count": null,
      "outputs": [
        {
          "output_type": "stream",
          "text": [
            "\"¡Qué ilusión!\n",
            "\n",
            "Vamos a cargar por primera vez un archivo txt con Python\n",
            "\n",
            "¡Y encima contiene múltiples líneas! =D\"\n"
          ],
          "name": "stdout"
        }
      ]
    },
    {
      "cell_type": "markdown",
      "metadata": {
        "id": "Jsc7y-gosGs1"
      },
      "source": [
        "## Escribiendo un archivo `txt`\n",
        "\n",
        "Podemos crear y escribir un archivo `txt` desde este mismo notebook.\n",
        "\n",
        "Para ello, volveremos a usar la función `open()`, pero esta vez con un parámetro adicional: `mode = \"w\"`. Este nuevo parámetro nos permitirá acceder al archivo en modo escritura, mientras que si no indicásemos nada, por defecto accederíamos en modo lectura.\n",
        "\n",
        "Para escribir en el fichero, tendremos que usar el método `.write()` e indicarle el string que queremos plasmar en nuestro `txt`.\n",
        "\n",
        "Además, para crear un nuevo archivo `txt`, a la hora de introducir el path (que será el mismo que el del archivo `first_read.txt`), como nombre del archivo indicaremos `first_write.txt`."
      ]
    },
    {
      "cell_type": "code",
      "metadata": {
        "id": "cJLnAOpur3DJ"
      },
      "source": [
        "f = open(\"/content/drive/MyDrive/python-basico/datasets/first_write.txt\", mode = \"w\")\n",
        "f.write(\"Este es el primer archivo txt que escribimos\\ny lo estamos haciendo desde el notebook de Google Colab!\")\n",
        "f.close()"
      ],
      "execution_count": null,
      "outputs": []
    },
    {
      "cell_type": "markdown",
      "metadata": {
        "id": "a6vb53GMziFo"
      },
      "source": [
        "**¡Cuidado!** El archivo que creemos no debe existir. En caso de existir un archivo con el mismo nombre, lo estaríamos rescribiendo."
      ]
    },
    {
      "cell_type": "markdown",
      "metadata": {
        "id": "yOpnI4bXtrkX"
      },
      "source": [
        "Comprobamos que se ha guardado el nuevo archivo `txt` llamado `first_write` en nuestra carpeta datasets.\n",
        "\n",
        "Una vez comprobada la existencia de este archivo `txt`, podemos leerlo desde este notebook tal cuál hemos hecho en el apartado anterior"
      ]
    },
    {
      "cell_type": "code",
      "metadata": {
        "colab": {
          "base_uri": "https://localhost:8080/"
        },
        "id": "236zWdeovFin",
        "outputId": "5a42ce52-47ec-4e58-c057-0ccf3644bc6f"
      },
      "source": [
        "# Con el método .read()\n",
        "with open(\"/content/drive/MyDrive/python-basico/datasets/first_write.txt\") as f:\n",
        "  print(f.read())"
      ],
      "execution_count": null,
      "outputs": [
        {
          "output_type": "stream",
          "text": [
            "Este es el primer archivo txt que escribimos\n",
            "y lo estamos haciendo desde el notebook de Google Colab!\n"
          ],
          "name": "stdout"
        }
      ]
    },
    {
      "cell_type": "code",
      "metadata": {
        "colab": {
          "base_uri": "https://localhost:8080/"
        },
        "id": "14t8yagPtqmG",
        "outputId": "260d3556-ef32-4c23-9eb6-e6c08394b671"
      },
      "source": [
        "# Con el método .readline()\n",
        "with open(\"/content/drive/MyDrive/python-basico/datasets/first_write.txt\") as f:\n",
        "  print(f.readline())\n",
        "  print(f.readline())"
      ],
      "execution_count": null,
      "outputs": [
        {
          "output_type": "stream",
          "text": [
            "Este es el primer archivo txt que escribimos\n",
            "\n",
            "y lo estamos haciendo desde el notebook de Google Colab!\n",
            "\n"
          ],
          "name": "stdout"
        }
      ]
    },
    {
      "cell_type": "markdown",
      "metadata": {
        "id": "xEOA6W7QwKKo"
      },
      "source": [
        "Al haber más de una línea, también podemos leer todas ellas con un bucle:"
      ]
    },
    {
      "cell_type": "code",
      "metadata": {
        "colab": {
          "base_uri": "https://localhost:8080/"
        },
        "id": "CHPkqkmqwNej",
        "outputId": "72b53641-b892-49e6-cf6d-a552f5d4cdb0"
      },
      "source": [
        "with open(\"/content/drive/MyDrive/python-basico/datasets/first_write.txt\") as f:\n",
        "  for line in f:\n",
        "    print(line)"
      ],
      "execution_count": null,
      "outputs": [
        {
          "output_type": "stream",
          "text": [
            "Este es el primer archivo txt que escribimos\n",
            "\n",
            "y lo estamos haciendo desde el notebook de Google Colab!\n"
          ],
          "name": "stdout"
        }
      ]
    },
    {
      "cell_type": "markdown",
      "metadata": {
        "id": "Bon87AVIzJiT"
      },
      "source": [
        "### Creando un `txt` vacío\n",
        "\n",
        "Si queremos crear un `txt` vacío, indicamos `mode = \"x\"`.\n",
        "\n",
        "En este caso vamos a crear un `txt` vacío llamado `first_empty`"
      ]
    },
    {
      "cell_type": "code",
      "metadata": {
        "id": "6ABkigENzRZE"
      },
      "source": [
        "f = open(\"/content/drive/MyDrive/python-basico/datasets/first_empty.txt\", mode = \"x\")\n",
        "f.close()"
      ],
      "execution_count": null,
      "outputs": []
    },
    {
      "cell_type": "markdown",
      "metadata": {
        "id": "m0_Eg1Pfz56c"
      },
      "source": [
        "**¡Cuidado!** El archivo que creemos no debe existir. En caso de existir un archivo con el mismo nombre, nos saltaría error indicando que el archivo en cuestión ya existe."
      ]
    },
    {
      "cell_type": "markdown",
      "metadata": {
        "id": "ctH8rjZ1we5B"
      },
      "source": [
        "## Sobrescribiendo un archivo `txt` existente\n",
        "\n",
        "Al igual que podemos crear y escribir un archivo `txt` desde 0, podemos modificar un archivo `txt` ya existente.\n",
        "\n",
        "En este caso, el parámetro `mode` debe ser igualado a `\"a\"`.\n",
        "\n",
        "Vamos entonces a modificar el archivo `first_write` y vamos a añadirle al final la siguiente frase:\n",
        "\n",
        "\"\\nY esta última línea se ha añadido posteriormente.\"\n",
        "\n",
        "**Observación.** Añadimos el comando `\\n` al principio de la frase para que ésta se considere una nueva frase tras un salto de línea."
      ]
    },
    {
      "cell_type": "code",
      "metadata": {
        "id": "tHgcugydwpCZ"
      },
      "source": [
        "f = open(\"/content/drive/MyDrive/python-basico/datasets/first_write.txt\", mode = \"a\")\n",
        "f.write(\"\\nY esta última línea se ha añadido posteriormente.\")\n",
        "f.close()"
      ],
      "execution_count": null,
      "outputs": []
    },
    {
      "cell_type": "markdown",
      "metadata": {
        "id": "OYpglQ9fxpaJ"
      },
      "source": [
        "**¡Cuidado!** Cada vez que ejecutéis la celda anterior se añadirá el string indicado. Por tanto, no la ejecutéis más de una vez u os encontraréis con la frase en cuestión repetida múltiples veces!"
      ]
    },
    {
      "cell_type": "code",
      "metadata": {
        "colab": {
          "base_uri": "https://localhost:8080/"
        },
        "id": "_4rWBWyGxN8h",
        "outputId": "fbf32c24-61c1-4aea-eb5a-de7418fb602f"
      },
      "source": [
        "with open(\"/content/drive/MyDrive/python-basico/datasets/first_write.txt\") as f:\n",
        "  for line in f:\n",
        "    print(line)"
      ],
      "execution_count": null,
      "outputs": [
        {
          "output_type": "stream",
          "text": [
            "Este es el primer archivo txt que escribimos\n",
            "\n",
            "y lo estamos haciendo desde el notebook de Google Colab!\n",
            "\n",
            "Y esta última línea se ha añadido posteriormente.\n"
          ],
          "name": "stdout"
        }
      ]
    },
    {
      "cell_type": "markdown",
      "metadata": {
        "id": "pu4-EH3Kx-3F"
      },
      "source": [
        "**¡Cuidado!** Si en vez de indicar `mode = \"a\"` indicáis `mode = \"w\"` eliminaréis el contenido del fichero y lo sobrescribiréis por completo por el string que indiquéis al método `.write()`"
      ]
    },
    {
      "cell_type": "code",
      "metadata": {
        "id": "5d1LXm_lx95n"
      },
      "source": [
        "f = open(\"/content/drive/MyDrive/python-basico/datasets/first_write.txt\", mode = \"w\")\n",
        "f.write(\"Ups! Todo lo anterior ha sido borrado!!!\\n\")\n",
        "f.write(\"Hay que ir con cuidado cuando queremos editar un archivo txt...\\n\")\n",
        "f.write(\"Hay que prestar mucha atención al método con el que accedemos al fichero!\")\n",
        "f.close()"
      ],
      "execution_count": null,
      "outputs": []
    },
    {
      "cell_type": "code",
      "metadata": {
        "colab": {
          "base_uri": "https://localhost:8080/"
        },
        "id": "jYky7eYQxQfY",
        "outputId": "a87d514e-b411-4e96-ccfe-fe2570d92d1d"
      },
      "source": [
        "with open(\"/content/drive/MyDrive/python-basico/datasets/first_write.txt\") as f:\n",
        "  for line in f:\n",
        "    print(line)"
      ],
      "execution_count": null,
      "outputs": [
        {
          "output_type": "stream",
          "text": [
            "Ups! Todo lo anterior ha sido borrado!!!\n",
            "\n",
            "Hay que ir con cuidado cuando queremos editar un archivo txt...\n",
            "\n",
            "Hay que prestar mucha atención al método con el que accedemos al fichero!\n"
          ],
          "name": "stdout"
        }
      ]
    },
    {
      "cell_type": "markdown",
      "metadata": {
        "id": "jmkn_hic01rq"
      },
      "source": [
        "## Eliminando archivos\n",
        "\n",
        "En este caso vamos a tener que importar el módulo `os`"
      ]
    },
    {
      "cell_type": "code",
      "metadata": {
        "id": "V2UwpkF4yXK1"
      },
      "source": [
        "import os"
      ],
      "execution_count": null,
      "outputs": []
    },
    {
      "cell_type": "markdown",
      "metadata": {
        "id": "ousR2pWV08Yj"
      },
      "source": [
        "Para eliminar un archivo usaremos el método `.remove()` al que por parámetro indicaremos el path de dicho archivo."
      ]
    },
    {
      "cell_type": "code",
      "metadata": {
        "id": "lmWHNqcN1E_V"
      },
      "source": [
        "os.remove(\"/content/drive/MyDrive/python-basico/datasets/first_empty.txt\")"
      ],
      "execution_count": null,
      "outputs": []
    },
    {
      "cell_type": "markdown",
      "metadata": {
        "id": "HAkSYkwz1SLi"
      },
      "source": [
        "Podemos comprobar en la carpeta datasets que efectivamente ha dejado de existir el archivo `first_empty`.\n",
        "\n",
        "Para evitar errores, antes de proceder a la eliminación de un archivo, podemos comprobar su existencia con el método `.path.exists()`, al que por parámetro le indicamos el path del archivo en cuestión.\n",
        "\n",
        "Para realizar este ejemplo, vamos a volver a crear el `txt` `first_empty`. Luego comprobaremos su existencia y, de existir, lo eliminaremos. De no existir, lo indicaremos por pantalla."
      ]
    },
    {
      "cell_type": "code",
      "metadata": {
        "id": "tDoRyjP_1MKH"
      },
      "source": [
        "path = \"/content/drive/MyDrive/python-basico/datasets/first_empty.txt\"\n",
        "f = open(path, mode = \"x\")\n",
        "f.close()"
      ],
      "execution_count": null,
      "outputs": []
    },
    {
      "cell_type": "code",
      "metadata": {
        "id": "BVxKYJzH1w54"
      },
      "source": [
        "if os.path.exists(path):\n",
        "  os.remove(path)\n",
        "else:\n",
        "  print(\"El archivo que se quiere eliminar no existe\")"
      ],
      "execution_count": null,
      "outputs": []
    },
    {
      "cell_type": "markdown",
      "metadata": {
        "id": "ZPT41iyT1_2s"
      },
      "source": [
        "Si volvemos a ejecutar la celda anterior, puesto que el archivo `first_empty` se habrá eliminado, obtendremos el mensaje `\"El archivo que se quiere eliminar no existe\"`"
      ]
    },
    {
      "cell_type": "code",
      "metadata": {
        "colab": {
          "base_uri": "https://localhost:8080/"
        },
        "id": "YRWn4tCV1-Z6",
        "outputId": "42da8f85-49a3-4739-ce45-31eff6f96030"
      },
      "source": [
        "if os.path.exists(path):\n",
        "  os.remove(path)\n",
        "else:\n",
        "  print(\"El archivo que se quiere eliminar no existe\")"
      ],
      "execution_count": null,
      "outputs": [
        {
          "output_type": "stream",
          "text": [
            "El archivo que se quiere eliminar no existe\n"
          ],
          "name": "stdout"
        }
      ]
    },
    {
      "cell_type": "markdown",
      "metadata": {
        "id": "J7oPjjyA2QBa"
      },
      "source": [
        "### Eliminando carpetas\n",
        "\n",
        "Si se deseara eliminar toda una carpeta, esto sería posible con el método `.rmdir()`.\n",
        "\n",
        "Para ver su funcionamiento, vamos a crear una carpeta dentro de la carpeta datasets. A esta nueva carpeta la llamaremos `carpeta_temporal` y estará vacía.\n",
        "\n",
        "**Observación.** Este métodosolo nos permite eliminar carpetas vacías."
      ]
    },
    {
      "cell_type": "code",
      "metadata": {
        "id": "FaCEggUn2P3S"
      },
      "source": [
        "path = \"/content/drive/MyDrive/python-basico/datasets/carpeta_temporal\"\n",
        "os.rmdir(path)"
      ],
      "execution_count": null,
      "outputs": []
    },
    {
      "cell_type": "markdown",
      "metadata": {
        "id": "GzLM_vnm2_eQ"
      },
      "source": [
        "Navegamos hasta la carpeta datasets de nuestro Google Drive y comprobamos que efectivamente, la carpeta vacía que acabábamos de crear, `carpeta_temporal`, ha sido eliminada."
      ]
    },
    {
      "cell_type": "markdown",
      "metadata": {
        "id": "WAolyfJ5B9vh"
      },
      "source": [
        "## Leyendo `csv` con `open()`"
      ]
    },
    {
      "cell_type": "markdown",
      "metadata": {
        "id": "K7bIwlR9DZpw"
      },
      "source": [
        "Además de usar la función `open()`, vamos a necesitar algunos métodos del módulo `csv`."
      ]
    },
    {
      "cell_type": "code",
      "metadata": {
        "id": "fLY_tAn728p-"
      },
      "source": [
        "import csv"
      ],
      "execution_count": null,
      "outputs": []
    },
    {
      "cell_type": "markdown",
      "metadata": {
        "id": "O0RQXJa-Diqz"
      },
      "source": [
        "Empezaremos mostrando como leer un `csv` haciendo uso del método `.reader()` del módulo `csv`.\n",
        "\n",
        "En este caso vamos a trabajar con el archivo `csv_example.csv`. Si abrimos el archivo, veremos que todos los valores están separados por comas y cada observación se encuentra en una línea diferente.\n",
        "\n",
        "Para leerlo, ejecutaremos el siguiente chunk de código:"
      ]
    },
    {
      "cell_type": "code",
      "metadata": {
        "colab": {
          "base_uri": "https://localhost:8080/"
        },
        "id": "4iuaRGD-DVDC",
        "outputId": "a7210dcc-cd89-455e-b6d5-4d0dd5e713bb"
      },
      "source": [
        "with open(\"/content/drive/MyDrive/python-basico/datasets/csv_example.csv\", \"r\") as f:\n",
        "    reader = csv.reader(f)\n",
        "    for row in reader:\n",
        "        print(row)"
      ],
      "execution_count": null,
      "outputs": [
        {
          "output_type": "stream",
          "text": [
            "['id', 'Name', 'City', 'Age']\n",
            "['1234', 'Arturo', 'Madrid', '22']\n",
            "['2345', 'Beatriz', 'Barcelona', '25']\n",
            "['3456', 'Carlos', 'Sevilla', '18']\n",
            "['4567', 'Dolores', 'Cuenca', '34']\n"
          ],
          "name": "stdout"
        }
      ]
    },
    {
      "cell_type": "markdown",
      "metadata": {
        "id": "nEbsKHyBGpx_"
      },
      "source": [
        "Con la función `open()` hemos accedido al archivo, al cuál hemos identificado por `f`. A continuación, hemos usado el método `.reader()` para leer el archivo `f`. Dicho método nos ha devuelto el iterable `reader`, del cuál hemos mostrado todas sus filas iterando con un bucle `for`."
      ]
    },
    {
      "cell_type": "markdown",
      "metadata": {
        "id": "1upIrAGoNSBS"
      },
      "source": [
        "### Cambiando el separador\n",
        "\n",
        "Por defecto, los archivos `csv` tienen como delimitador la coma `,`. No obstante, algunos archivos `csv` usan otros delimitadores. Las alternativas más populares a la coma suelen ser `|` o `\\t`.\n",
        "\n",
        "Observemos el archivo `csv_delimiter_example.csv`, donde esta vez sus elementos están separados por tabuladores, `\\t`.\n",
        "\n",
        "El método `.reader()` nos permite configurar dicho separador con el parámetro `delimiter`."
      ]
    },
    {
      "cell_type": "code",
      "metadata": {
        "colab": {
          "base_uri": "https://localhost:8080/"
        },
        "id": "-81xMYHDHBUy",
        "outputId": "66fdce81-c56b-4cdd-ff4b-20ce51f52332"
      },
      "source": [
        "with open(\"/content/drive/MyDrive/python-basico/datasets/csv_delimiter_example.csv\", \"r\") as f:\n",
        "    reader = csv.reader(f, delimiter = \"|\")\n",
        "    for row in reader:\n",
        "        print(row)"
      ],
      "execution_count": null,
      "outputs": [
        {
          "output_type": "stream",
          "text": [
            "['id', 'Name', 'City', 'Age']\n",
            "['1234', 'Arturo', 'Madrid', '22']\n",
            "['2345', 'Beatriz', 'Barcelona', '25']\n",
            "['3456', 'Carlos', 'Sevilla', '18']\n",
            "['4567', 'Dolores', 'Cuenca', '34']\n"
          ],
          "name": "stdout"
        }
      ]
    },
    {
      "cell_type": "markdown",
      "metadata": {
        "id": "HLQbsecfgbk-"
      },
      "source": [
        "### Eliminando espacios adicionales\n",
        "\n",
        "A veces puede ocurrir que algunos `csv` tengan un espacio en blanco tras el delimitador, cosa que se ve reflejado al leer los datos.\n",
        "\n",
        "Para eliminar estos espacios en blanco adicionales, el método `.reader()` trae el parámetro `skipinitialspace`. Si lo igualamos a `True`, los espacios adicionales desaparecerán.\n",
        "\n",
        "Observemos que el archivo `csv_spaces_example.csv` tiene espacios en blanco adicionales tras el separador, que es la coma. Veamos la diferencia entre igualar el parámetro `skipinitialspace` a `True` o a `False`."
      ]
    },
    {
      "cell_type": "code",
      "metadata": {
        "colab": {
          "base_uri": "https://localhost:8080/"
        },
        "id": "T5yOgbYqgyjq",
        "outputId": "5bf5e25a-3611-47e8-a903-afb41a0366b6"
      },
      "source": [
        "# skipinitialspace = False (valor por defecto)\n",
        "with open(\"/content/drive/MyDrive/python-basico/datasets/csv_spaces_example.csv\", \"r\") as f:\n",
        "    reader = csv.reader(f, skipinitialspace = False)\n",
        "    for row in reader:\n",
        "        print(row)"
      ],
      "execution_count": null,
      "outputs": [
        {
          "output_type": "stream",
          "text": [
            "['id', ' Name', ' City', ' Age']\n",
            "['1234', ' Arturo', ' Madrid', ' 22']\n",
            "['2345', ' Beatriz', ' Barcelona', ' 25']\n",
            "['3456', ' Carlos', ' Sevilla', ' 18']\n",
            "['4567', ' Dolores', ' Cuenca', ' 34']\n"
          ],
          "name": "stdout"
        }
      ]
    },
    {
      "cell_type": "markdown",
      "metadata": {
        "id": "j410VTOpGNAy"
      },
      "source": [
        "**Observación.** Salvo la primera entrada de cada fila, todas tienen un espacio inicial adicional."
      ]
    },
    {
      "cell_type": "code",
      "metadata": {
        "colab": {
          "base_uri": "https://localhost:8080/"
        },
        "id": "fc4u7f2gGAAk",
        "outputId": "8197ac1c-6c21-478e-927a-e14b532d4933"
      },
      "source": [
        "# skipinitialspace = True\n",
        "with open(\"/content/drive/MyDrive/python-basico/datasets/csv_spaces_example.csv\", \"r\") as f:\n",
        "    reader = csv.reader(f, skipinitialspace = True)\n",
        "    for row in reader:\n",
        "        print(row)"
      ],
      "execution_count": null,
      "outputs": [
        {
          "output_type": "stream",
          "text": [
            "['id', 'Name', 'City', 'Age']\n",
            "['1234', 'Arturo', 'Madrid', '22']\n",
            "['2345', 'Beatriz', 'Barcelona', '25']\n",
            "['3456', 'Carlos', 'Sevilla', '18']\n",
            "['4567', 'Dolores', 'Cuenca', '34']\n"
          ],
          "name": "stdout"
        }
      ]
    },
    {
      "cell_type": "markdown",
      "metadata": {
        "id": "rWZoFO3rg_vY"
      },
      "source": [
        "### Comillas en las entradas\n",
        "\n",
        "Algunos archivos `csv` puede que tengan entradas entre comillas. Si no indicamos nada, por defecto aparecerán las comillas en las entradas tras haber leído el fichero.\n",
        "\n",
        "Si en cambio queremos deshacernos de ellas, disponemos del parámetro `quoting`, que admite diferentes valores:\n",
        "\n",
        "* `csv.QUOTE_ALL`: indica al objeto `reader` que todos los valores en el archivo `csv` están entre comillas\n",
        "* `csv.QUOTE_MINIMAL`: indica al objeto `reader` que los valores en el archivo `csv` que están entre comillas son entradas que contienen caracteres como el delimitador, comillas o cualquier caracter de terminación de línea\n",
        "* `csv.QUOTE_NONNUMERIC`: indica al objeto `reader` que los valores en el archivo `csv` que están entre comillas son entradas que contienen entradas no-numéricas\n",
        "* `csv.QUOTE_NONE`: indica al objeto `reader` que ninguno los valores en el archivo `csv` están entre comillas\n",
        "\n",
        "Observemos el archivo `csv_quotation_example.csv`, donde las observaciones entre comillas son aquellas que no tienen valores numéricos. En este caso, nos convendría usar la opción `csv.QUOTE_NONNUMERIC`"
      ]
    },
    {
      "cell_type": "code",
      "metadata": {
        "colab": {
          "base_uri": "https://localhost:8080/"
        },
        "id": "bewS5DP6BTPd",
        "outputId": "3d2e75dc-903d-4ebb-e465-35ddc475b56b"
      },
      "source": [
        "with open(\"/content/drive/MyDrive/python-basico/datasets/csv_quotation_example.csv\", \"r\") as f:\n",
        "    reader = csv.reader(f, quoting = csv.QUOTE_NONNUMERIC)\n",
        "    for row in reader:\n",
        "        print(row)"
      ],
      "execution_count": null,
      "outputs": [
        {
          "output_type": "stream",
          "text": [
            "['id', 'Name', 'City', 'Age']\n",
            "[1234.0, 'Arturo', 'Madrid', 22.0]\n",
            "[2345.0, 'Beatriz', 'Barcelona', 25.0]\n",
            "[3456.0, 'Carlos', 'Sevilla', 18.0]\n",
            "[4567.0, 'Dolores', 'Cuenca', 34.0]\n"
          ],
          "name": "stdout"
        }
      ]
    },
    {
      "cell_type": "markdown",
      "metadata": {
        "id": "GJtlP5ntHO5N"
      },
      "source": [
        "**Observación.** Las entradas numéricas han dejado de ser leídas como strings y han pasado a ser consideradas entradas de tipo `float`.\n",
        "\n",
        "Si en cambio hubiésemos usado la opción `csv.QUOTATE_ALL`, no hubiésemos obtenido ningún error, pero las entradas numéricas habrían sido tratadas como `string`."
      ]
    },
    {
      "cell_type": "code",
      "metadata": {
        "colab": {
          "base_uri": "https://localhost:8080/"
        },
        "id": "yBhgfqv0HHdZ",
        "outputId": "616b1cd2-0669-45cb-b3fa-cfedc06cefd0"
      },
      "source": [
        "with open(\"/content/drive/MyDrive/python-basico/datasets/csv_quotation_example.csv\", \"r\") as f:\n",
        "    reader = csv.reader(f, quoting = csv.QUOTE_ALL)\n",
        "    for row in reader:\n",
        "        print(row)"
      ],
      "execution_count": null,
      "outputs": [
        {
          "output_type": "stream",
          "text": [
            "['id', 'Name', 'City', 'Age']\n",
            "['1234', 'Arturo', 'Madrid', '22']\n",
            "['2345', 'Beatriz', 'Barcelona', '25']\n",
            "['3456', 'Carlos', 'Sevilla', '18']\n",
            "['4567', 'Dolores', 'Cuenca', '34']\n"
          ],
          "name": "stdout"
        }
      ]
    },
    {
      "cell_type": "markdown",
      "metadata": {
        "id": "2_Oi8GfUHqW2"
      },
      "source": [
        "### Dialectos\n",
        "\n",
        "Hasta ahora solamente hemos usado uno de los parámetros cada vez, pero podría darse el caso de que tuviésemos un csv con un delimitador distinto a la coma, con espacios adicionales y entradas entrecomilladas a causa de contener delimitadores o finales de línea.\n",
        "\n",
        "Una opción sería indicar todos los parámetros a la función, pero existe una alternativa que nos será muy útil en caso de no estar tratando con un solo archivo `csv` sino con múltiples con formatos similares. Es el caso de los dialectos.\n",
        "\n",
        "Los dialectos ayudan a agrupar patrones de formato específicos como el delimitador, las comillas, los espacios adicionales tras los delimitadores...\n",
        "\n",
        "En caso de querer usar nuestro dialecto personalizado, `.reader()` nos ofrece el parámetros `dialect` al cual podemos pasarle dicho dialecto.\n",
        "\n",
        "Consideremos el archivo `csv_dialect_example.csv`, el cual tiene el delimitador `|`, espacios adicionales y todos sus valores no numéricos entrecomillados.\n",
        "\n",
        "En vez de indicar todos esos parámetros al método `.reader()`, vamos a crear nuestro dialecto, `my_dialect`, con el método `.register_dialect()` y se lo vamos a pasar al parámetro `dialect` de `.reader()`"
      ]
    },
    {
      "cell_type": "code",
      "metadata": {
        "colab": {
          "base_uri": "https://localhost:8080/"
        },
        "id": "RanrowD-HmnL",
        "outputId": "23b89b7f-3aee-46ac-f1ea-55424e3421fe"
      },
      "source": [
        "csv.register_dialect(\"my_dialect\",\n",
        "                     delimiter = \"|\",\n",
        "                     skipinitialspace = True,\n",
        "                     quoting = csv.QUOTE_NONNUMERIC)\n",
        "\n",
        "with open(\"/content/drive/MyDrive/python-basico/datasets/csv_dialect_example.csv\", \"r\") as f:\n",
        "    reader = csv.reader(f, dialect = \"my_dialect\")\n",
        "    for row in reader:\n",
        "        print(row)"
      ],
      "execution_count": null,
      "outputs": [
        {
          "output_type": "stream",
          "text": [
            "['id', 'Name', 'City', 'Age']\n",
            "[1234.0, 'Arturo', 'Madrid', 22.0]\n",
            "[2345.0, 'Beatriz', 'Barcelona', 25.0]\n",
            "[3456.0, 'Carlos', 'Sevilla', 18.0]\n",
            "[4567.0, 'Dolores', 'Cuenca', 34.0]\n"
          ],
          "name": "stdout"
        }
      ]
    },
    {
      "cell_type": "markdown",
      "metadata": {
        "id": "-ITRLGReN7LU"
      },
      "source": [
        "Al método `.register_dialect()` en primer lugar le hemos dado un nombre en formato `string` y luego hemos configurado los parámetros `delimiter`, `skipinitialspace` y `quoting`.\n",
        "\n",
        "A continuación, al método `.reader()` le hemos pasado el nombre del dialecto, `my_dialect`, al parámetro `dialect` y se ha leído el archivo correctamente.\n",
        "\n",
        "Una vez creado el dialecto personalizado, podemos usarlo tantas veces como queramos para abrir y leer archivos `csv` con el mismo formato, en este caso, que `csv_dialect_example.csv`."
      ]
    },
    {
      "cell_type": "markdown",
      "metadata": {
        "id": "Owht-USeQFEe"
      },
      "source": [
        "### Diccionarios y `csv`\n",
        "\n",
        "En este caso vamos a trabajar de nuevo con el archivo `csv_example.csv`.\n",
        "\n",
        "Para leerlo, usaremos el método `.DictReader()` del módulo `csv`, lo que nos devolverá un objeto `OrderedDict`, que es iterable."
      ]
    },
    {
      "cell_type": "code",
      "metadata": {
        "colab": {
          "base_uri": "https://localhost:8080/"
        },
        "id": "xLdaWuOhN6zV",
        "outputId": "2772f64d-2e0d-4069-b8a7-32802a8a8356"
      },
      "source": [
        "with open(\"/content/drive/MyDrive/python-basico/datasets/csv_example.csv\", \"r\") as f:\n",
        "    reader = csv.DictReader(f)\n",
        "    for row in reader:\n",
        "        print(row)"
      ],
      "execution_count": null,
      "outputs": [
        {
          "output_type": "stream",
          "text": [
            "OrderedDict([('id', '1234'), ('Name', 'Arturo'), ('City', 'Madrid'), ('Age', '22')])\n",
            "OrderedDict([('id', '2345'), ('Name', 'Beatriz'), ('City', 'Barcelona'), ('Age', '25')])\n",
            "OrderedDict([('id', '3456'), ('Name', 'Carlos'), ('City', 'Sevilla'), ('Age', '18')])\n",
            "OrderedDict([('id', '4567'), ('Name', 'Dolores'), ('City', 'Cuenca'), ('Age', '34')])\n"
          ],
          "name": "stdout"
        }
      ]
    },
    {
      "cell_type": "markdown",
      "metadata": {
        "id": "-s9I1zbXSmp3"
      },
      "source": [
        "**Observación.** Podríamos usar la función `dict()` dentro del `print()` para mostrar los objetos `OrderedDict` como diccionarios."
      ]
    },
    {
      "cell_type": "code",
      "metadata": {
        "colab": {
          "base_uri": "https://localhost:8080/"
        },
        "id": "a81P4VF8SmJd",
        "outputId": "a7749559-ed99-4fd1-eaad-49f2562dbea9"
      },
      "source": [
        "with open(\"/content/drive/MyDrive/python-basico/datasets/csv_example.csv\", \"r\") as f:\n",
        "    reader = csv.DictReader(f)\n",
        "    for row in reader:\n",
        "        print(dict(row))"
      ],
      "execution_count": null,
      "outputs": [
        {
          "output_type": "stream",
          "text": [
            "{'id': '1234', 'Name': 'Arturo', 'City': 'Madrid', 'Age': '22'}\n",
            "{'id': '2345', 'Name': 'Beatriz', 'City': 'Barcelona', 'Age': '25'}\n",
            "{'id': '3456', 'Name': 'Carlos', 'City': 'Sevilla', 'Age': '18'}\n",
            "{'id': '4567', 'Name': 'Dolores', 'City': 'Cuenca', 'Age': '34'}\n"
          ],
          "name": "stdout"
        }
      ]
    },
    {
      "cell_type": "markdown",
      "metadata": {
        "id": "pojdRtgeS3W5"
      },
      "source": [
        "**Observación.** Si se usa una versión de `Python` 3.8 o superior, podría ser que no fuera necesario usar la función `dict()` pues el resultado de `.DictReader()` ya sería un diccionario."
      ]
    },
    {
      "cell_type": "markdown",
      "metadata": {
        "id": "nxCMVMr5Tu2n"
      },
      "source": [
        "## Escribiendo `csv`\n",
        "\n",
        "Para crear y escribir un `csv` usamos la función `open()` junto al método `csv.writer()`:"
      ]
    },
    {
      "cell_type": "code",
      "metadata": {
        "id": "W1itYXPiT9Ya"
      },
      "source": [
        "data = [[\"id\", \"Name\", \"City\", \"Age\"],\n",
        "        [1234, \"Arturo\", \"Madrid\", 22],\n",
        "        [2345, \"Beatriz\", \"Barcelona\", 25],\n",
        "        [3456, \"Carlos\", \"Sevilla\", 18],\n",
        "        [4567, \"Dolores\", \"Cuenca\", 34]]\n",
        "\n",
        "with open(\"/content/drive/MyDrive/python-basico/datasets/csv_write.csv\", \"w\") as f:\n",
        "  writer = csv.writer(f)\n",
        "  for row in data:\n",
        "    writer.writerow(row)\n"
      ],
      "execution_count": null,
      "outputs": []
    },
    {
      "cell_type": "markdown",
      "metadata": {
        "id": "ZOZcgLyJU6Ie"
      },
      "source": [
        "Si ahora vamos a la carpeta datasets, observaremos que ha aparecido un nuevo archivo llamado `csv_write.csv` el cual contiene como valores las entradas de la lista `data`, donde cada sublista corresponde a una fila del `csv` gracias al bucle `for` y al método `.writerow()`.\n",
        "\n",
        "Podríamos haber obtenido exactamente el mismo resultado sin haber usado un bucle, lo que para ello tendríamos que haber hecho uso del método `.writerows()`."
      ]
    },
    {
      "cell_type": "code",
      "metadata": {
        "id": "8cYxIh48Ux8n"
      },
      "source": [
        "with open(\"/content/drive/MyDrive/python-basico/datasets/csv_write_writerows.csv\", \"w\") as f:\n",
        "  writer = csv.writer(f)\n",
        "  writer.writerows(data)"
      ],
      "execution_count": null,
      "outputs": []
    },
    {
      "cell_type": "markdown",
      "metadata": {
        "id": "6XN12BkKVml3"
      },
      "source": [
        "Si ahora vamos a la carpeta datasets, observaremos que ha aparecido un nuevo archivo llamado `csv_write_writerows.csv` el cual contiene como valores las entradas de la lista `data`, donde cada sublista corresponde a una fila del `csv` gracias al método `.writerows()`."
      ]
    },
    {
      "cell_type": "markdown",
      "metadata": {
        "id": "v_F0HT-KWEF5"
      },
      "source": [
        "### Diccionarios y csv\n",
        "\n",
        "También podemos escribir un `csv` a partir de un diccionario. Para ello tendremos que usar el método `.DictWriter()`."
      ]
    },
    {
      "cell_type": "code",
      "metadata": {
        "id": "kf8Wh4e5VkoI"
      },
      "source": [
        "data = [{\"id\": 1234, \"Name\": \"Arturo\", \"City\": \"Madrid\", \"Age\": 22},\n",
        "        {\"id\": 2345, \"Name\": \"Beatriz\", \"City\": \"Barcelona\", \"Age\": 25},\n",
        "        {\"id\": 3456, \"Name\": \"Carlos\", \"City\": \"Sevilla\", \"Age\": 18},\n",
        "        {\"id\": 4567, \"Name\": \"Dolores\", \"City\": \"Cuenca\", \"Age\": 34}]\n",
        "\n",
        "# La cabecera es la lista de las keys de cualquiera de las entradas de data\n",
        "header = list(data[0].keys())"
      ],
      "execution_count": null,
      "outputs": []
    },
    {
      "cell_type": "code",
      "metadata": {
        "id": "57dv5P9EYinH"
      },
      "source": [
        "with open(\"/content/drive/MyDrive/python-basico/datasets/csv_write_dict.csv\", \"w\") as f:\n",
        "  writer = csv.DictWriter(f, fieldnames = header)\n",
        "\n",
        "  writer.writeheader()\n",
        "  for d in data:\n",
        "    writer.writerow(d)"
      ],
      "execution_count": null,
      "outputs": []
    },
    {
      "cell_type": "markdown",
      "metadata": {
        "id": "DIgGBa8AXtcP"
      },
      "source": [
        "En este caso, los datos están guardado en una lista de diccionarios llamada `data`. A continuación guardamos la cabecera en la variable `header` como una lista de los nombres de las variables.\n",
        "\n",
        "Abrimos (y creamos) el archivo `csv_write_dict.csv` y creamos el objeto `writer` con el método `.DictWriter()` al cual le pasamos la cabecera `header` mediante el parámetro `fieldnames`.\n",
        "\n",
        "Finalmente, escribimos en primer lugar la cabecera con el método `.writeheader()` y luego, con la ayuda de un bucle `for`, cada observación, correspondiente a cada uno de los diccionarios de la lista `data`, en una fila diferente con el método `.writerow()`.\n",
        "\n",
        "Podríamos haber obtenido el mismo resultado sin usar ningún bucle, pero haciendo uso del método `.writerows()`"
      ]
    },
    {
      "cell_type": "code",
      "metadata": {
        "id": "5kZkK50pW8lM"
      },
      "source": [
        "with open(\"/content/drive/MyDrive/python-basico/datasets/csv_write_dict_writerows.csv\", \"w\") as f:\n",
        "  writer = csv.DictWriter(f, fieldnames = header)\n",
        "\n",
        "  writer.writeheader()\n",
        "  writer.writerows(data)"
      ],
      "execution_count": null,
      "outputs": []
    },
    {
      "cell_type": "markdown",
      "metadata": {
        "id": "ai7lAW71YqRJ"
      },
      "source": [
        "Observamos que efectivamente tanto el archivo `csv_write_dict.csv` como `csv_write_dict_writerows.csv` son idénticos."
      ]
    }
  ]
}