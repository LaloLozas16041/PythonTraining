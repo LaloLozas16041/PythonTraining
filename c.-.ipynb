{
  "cells": [
    {
      "cell_type": "markdown",
      "metadata": {
        "id": "bIDMTVrBR0MW"
      },
      "source": [
        "# CLASE 3\n"
      ]
    },
    {
      "cell_type": "code",
      "execution_count": null,
      "metadata": {
        "id": "NJaAixwV5JAB"
      },
      "outputs": [],
      "source": [
        "saludar('Clase')"
      ]
    },
    {
      "cell_type": "markdown",
      "metadata": {
        "id": "2jBdoqf_5JAC"
      },
      "source": [
        "## Diccionarios"
      ]
    },
    {
      "cell_type": "code",
      "execution_count": null,
      "metadata": {
        "id": "ijqYE9iE5JAD"
      },
      "outputs": [],
      "source": [
        "my_dict0 = {}\n",
        "print(type(my_dict0))"
      ]
    },
    {
      "cell_type": "code",
      "execution_count": null,
      "metadata": {
        "id": "jc9WrvVZ5JAD"
      },
      "outputs": [],
      "source": [
        "my_dict1 = {'a': 1, 'b': 2, 'c': 3}\n",
        "print(my_dict1)"
      ]
    },
    {
      "cell_type": "code",
      "execution_count": null,
      "metadata": {
        "id": "Na6RsAV-5JAD"
      },
      "outputs": [],
      "source": [
        "my_dict0 = {\n",
        "            'a': 1,\n",
        "            'b': 2,\n",
        "            'c': 3\n",
        "}\n",
        "print(my_dict0)"
      ]
    },
    {
      "cell_type": "code",
      "execution_count": null,
      "metadata": {
        "id": "zo0U0Fa55JAE"
      },
      "outputs": [],
      "source": [
        "my_dict2 = dict(ana=1, bu=2, casa=3)\n",
        "print(my_dict2)"
      ]
    },
    {
      "cell_type": "code",
      "execution_count": null,
      "metadata": {
        "id": "5OkaN_Nj5JAF"
      },
      "outputs": [],
      "source": [
        "my_dict3 = {'a': 1, 'b': 2}\n",
        "print('diccionario inicial -> ',my_dict3)"
      ]
    },
    {
      "cell_type": "code",
      "execution_count": null,
      "metadata": {
        "id": "mrVj8T1q5JAF"
      },
      "outputs": [],
      "source": [
        "my_dict3['w'] = 100\n",
        "print('agregamos w -> ',my_dict3)"
      ]
    },
    {
      "cell_type": "code",
      "execution_count": null,
      "metadata": {
        "id": "cnsuktEu5JAF"
      },
      "outputs": [],
      "source": [
        "my_dict3['b'] = [4,5,'hola',(5,9)]\n",
        "print('cambiamos b -> ', my_dict3)"
      ]
    },
    {
      "cell_type": "code",
      "execution_count": null,
      "metadata": {
        "id": "NQAeLzkZ5JAG"
      },
      "outputs": [],
      "source": [
        "del my_dict3['a']\n",
        "print('eliminamos a -> ',my_dict3)"
      ]
    },
    {
      "cell_type": "markdown",
      "metadata": {
        "id": "3fEVTzDi5JAG"
      },
      "source": [
        "#### Ejemplo:\n",
        "Escribir un programa que pregunte al usuario su nombre, edad, dirección y teléfono y lo guarde en un diccionario. Después debe mostrar por pantalla el mensaje <nombre> tiene <edad> años, vive en <dirección> y su número de teléfono es <teléfono>."
      ]
    },
    {
      "cell_type": "code",
      "execution_count": null,
      "metadata": {
        "id": "Rx1hTrIO5JAG"
      },
      "outputs": [],
      "source": [
        "nombre = input('¿Cómo te llamas? ')\n",
        "edad = int(input('¿Cuántos años tienes? '))\n",
        "direccion = input('¿Cuál es tu dirección? ')\n",
        "telefono = input('¿Cuál es tu número de teléfono? ')\n",
        "telefono = int(telefono)"
      ]
    },
    {
      "cell_type": "code",
      "execution_count": null,
      "metadata": {
        "id": "n2TX51i85JAG"
      },
      "outputs": [],
      "source": [
        "persona = {'nombre': nombre,\n",
        "           'edad': edad,\n",
        "           'direccion': direccion,\n",
        "           'telefono': telefono }"
      ]
    },
    {
      "cell_type": "code",
      "execution_count": null,
      "metadata": {
        "id": "7ndJRJW55JAH"
      },
      "outputs": [],
      "source": [
        "print(persona[\"nombre\"], \"tiene\", persona['edad'], 'años, vive en', persona['direccion'], 'y su número de teléfono es', persona['telefono'])"
      ]
    },
    {
      "cell_type": "code",
      "execution_count": null,
      "metadata": {
        "id": "Ktc4lR7a5JAH"
      },
      "outputs": [],
      "source": [
        "persona.keys()"
      ]
    },
    {
      "cell_type": "code",
      "execution_count": null,
      "metadata": {
        "id": "sEi1Vkn-5JAH"
      },
      "outputs": [],
      "source": [
        "persona.values()"
      ]
    },
    {
      "cell_type": "code",
      "execution_count": null,
      "metadata": {
        "id": "Jgw_YEK55JAH"
      },
      "outputs": [],
      "source": [
        "persona.items()"
      ]
    },
    {
      "cell_type": "code",
      "execution_count": null,
      "metadata": {
        "id": "Wkm3iPVP5JAH"
      },
      "outputs": [],
      "source": [
        "persona[\"nombre\"]=['Ana', 'juan', 'carlos']\n",
        "persona[\"edad\"]=[2, 20, 15]\n",
        "persona[\"direccion\"]=['zapopan', 'cholula', 'zacatecas']\n",
        "persona[\"telefono\"]=[222, 333, 444]"
      ]
    },
    {
      "cell_type": "code",
      "execution_count": null,
      "metadata": {
        "id": "W6u4bm9P5JAH"
      },
      "outputs": [],
      "source": [
        "persona[\"nombre\"][0]"
      ]
    },
    {
      "cell_type": "code",
      "execution_count": null,
      "metadata": {
        "id": "OPnqwTnt5JAH"
      },
      "outputs": [],
      "source": [
        "for i in range(3):\n",
        "    print(persona[\"nombre\"][i], \"tiene\", persona['edad'][i], 'años, vive en', persona['direccion'][i], 'y su número de teléfono es', persona['telefono'][i])\n"
      ]
    },
    {
      "cell_type": "markdown",
      "metadata": {
        "id": "Uw-lCE1z5JAH"
      },
      "source": [
        "#### Ejercicio 1\n",
        "Escribir un programa que guarde en un diccionario los precios de las frutas de la tabla, pregunte al usuario por una fruta, un número de kilos y muestre por pantalla el precio de ese número de kilos de fruta. Si la fruta no está en el diccionario debe mostrar un mensaje informando de ello.\n",
        "|  Fruta  | Precio |\n",
        "|:-------:|:------:|\n",
        "| Plátano |  1.35  |\n",
        "| Manzana |  0.80  |\n",
        "|   Pera  |  0.85  |\n",
        "| Naranja |  0.70  |"
      ]
    },
    {
      "cell_type": "code",
      "execution_count": null,
      "metadata": {
        "id": "x8EM9n6I5JAI"
      },
      "outputs": [],
      "source": [
        "frutas = {\n",
        "    'platano':1.35,\n",
        "    'manzana':0.80,\n",
        "    'pera':0.85,\n",
        "    'naranja':0.70\n",
        "}\n",
        "\n",
        "fruta = input('que fruta deseas: ').lower()\n",
        "\n",
        "if fruta not in frutas:\n",
        "    print(f\"las {fruta} ya se acabaron\")\n",
        "else:\n",
        "    kilos = int(input(\"¿cuantos kilos quieres? \"))\n",
        "    total = round(kilos * frutas[fruta],2)\n",
        "    print(f\"son {kilos} de {fruta} = {total}\")"
      ]
    },
    {
      "cell_type": "code",
      "execution_count": null,
      "metadata": {
        "id": "oJdgDpky5JAI"
      },
      "outputs": [],
      "source": [
        "Market = {\n",
        "  \"Platano\": 1.35,\n",
        "  \"Pera\": .80,\n",
        "  \"Manzana\": .85,\n",
        "  \"Naranja\": .70\n",
        "}\n",
        "\n",
        "Fruta = input ('por favor ingresa cual fruta quieres : Platano, Pera, Manzana o Naranja ?')\n",
        "\n",
        "kilos = input('cuantos kilos quieres?')\n",
        "\n",
        "print(' Tu total es : ', float(kilos)* Market[Fruta])"
      ]
    },
    {
      "cell_type": "code",
      "execution_count": null,
      "metadata": {
        "id": "afKffmcs5JAI"
      },
      "outputs": [],
      "source": [
        "diccionario = {}\n",
        "\n",
        "fruta1 = input(\"que le damos?:\")\n",
        "masaf1 =int(input(\"cuanto va a querer?\"))\n",
        "\n",
        "diccionario[\"fruta1\"] = masaf1\n",
        "print(\"por sus\" , masaf1 , \"kilos de\", fruta1 , \"son 12 pesos\")"
      ]
    },
    {
      "cell_type": "code",
      "execution_count": null,
      "metadata": {
        "id": "t8sNcWkb5JAI"
      },
      "outputs": [],
      "source": [
        "diccionario\n"
      ]
    },
    {
      "cell_type": "code",
      "execution_count": null,
      "metadata": {
        "id": "rsT5M7aT5JAI"
      },
      "outputs": [],
      "source": [
        "precios_frutas = {\n",
        "    \"platano\":1.35,\n",
        "    \"manzana\":0.80,\n",
        "    \"pera\": 0.85,\n",
        "    \"naranja\": 0.70\n",
        "}\n",
        "fruta = input(\"Ingrese el nombre de la fruta: \").lower()\n",
        "if fruta in precios_frutas:\n",
        "    kilos = float(input(\"Ingrese la cantidad en kilos: \"))\n",
        "    precio_fruta = precios_frutas[fruta]\n",
        "    precio_total = precio_fruta * kilos\n",
        "    print(f\"El precio de {kilos} kilos de {fruta} es: ${precio_total}\")\n",
        "else:\n",
        "    print(f\"Lo siento, {fruta} no está en el diccionario de precios.\")"
      ]
    },
    {
      "cell_type": "code",
      "execution_count": null,
      "metadata": {
        "id": "g5WVgJla5JAI"
      },
      "outputs": [],
      "source": [
        "frutas ={\n",
        "    \"platano\":1.35,\n",
        "    \"manzana\":0.8,\n",
        "    \"pera\": 0.85,\n",
        "    \"naranja\":0.7\n",
        "}\n",
        "res=0;\n",
        "frutaB = input(\"Que fruta estas buscando\").lower()\n",
        "for key in frutas.keys():\n",
        "    if(frutaB == key):\n",
        "        kilos = float(input(\"Cuantos kilos necesitas\"))\n",
        "        res = kilos * frutas[key]\n",
        "        print(f\"El total es: {res}\")\n",
        "\n",
        "if res==0:\n",
        "    print(\"No hay fruta\")"
      ]
    },
    {
      "cell_type": "code",
      "execution_count": null,
      "metadata": {
        "id": "ew-_OHVE5JAI"
      },
      "outputs": [],
      "source": [
        "dict_fruta = {'Platano': 1.35,\n",
        "              'Manzana': 0.80,\n",
        "              'Pera': 0.85,\n",
        "              'Naranja': 0.70}\n",
        "\n",
        "fruta = input(\"¿Qué fruta desea?\").capitalize()\n",
        "\n",
        "if not fruta in dict_fruta.keys():\n",
        "    print(f\"No tenemos {fruta}\")\n",
        "else:\n",
        "    kilos = int(input(f\"¿Cuantos kilos de {fruta} desea?\"))\n",
        "    precio = dict_fruta[fruta] * kilos\n",
        "    print(f\"El precio de {kilos} kilos de {fruta} es {precio}\")\n"
      ]
    },
    {
      "cell_type": "markdown",
      "metadata": {
        "id": "Kxa3ZSrt5JAJ"
      },
      "source": [
        "## Funciones\n"
      ]
    },
    {
      "cell_type": "code",
      "execution_count": null,
      "metadata": {
        "id": "q53GEncj5JAJ"
      },
      "outputs": [],
      "source": [
        "def saludar(nombre):\n",
        "    print(\"Hola, \" + nombre + \"!\")"
      ]
    },
    {
      "cell_type": "code",
      "execution_count": null,
      "metadata": {
        "id": "D8KMDFsD5JAJ"
      },
      "outputs": [],
      "source": [
        "saludar(\"Pedro\")"
      ]
    },
    {
      "cell_type": "code",
      "execution_count": null,
      "metadata": {
        "id": "qMtqKQlx5JAJ"
      },
      "outputs": [],
      "source": [
        "name ='Bart'\n",
        "saludar(name)"
      ]
    },
    {
      "cell_type": "code",
      "execution_count": null,
      "metadata": {
        "id": "_k5N2FCf5JAJ"
      },
      "outputs": [],
      "source": [
        "saludar(input(\"Cual es tu nombre?\"))"
      ]
    },
    {
      "cell_type": "code",
      "execution_count": null,
      "metadata": {
        "id": "RVe6b0AJ5JAJ"
      },
      "outputs": [],
      "source": [
        "def suma(a,b):\n",
        "    c = a + b\n",
        "    return c"
      ]
    },
    {
      "cell_type": "code",
      "execution_count": null,
      "metadata": {
        "id": "wy2Y_9eT5JAJ"
      },
      "outputs": [],
      "source": [
        "a=3\n",
        "b=5\n",
        "c=suma(a,b)\n",
        "print(c)\n",
        "print(f\"La suma entre {a} y {b} es {suma(a,b)}\")"
      ]
    },
    {
      "cell_type": "code",
      "execution_count": null,
      "metadata": {
        "id": "ucUdNpsV5JAJ"
      },
      "outputs": [],
      "source": [
        "suma(8,7)"
      ]
    },
    {
      "cell_type": "code",
      "execution_count": null,
      "metadata": {
        "id": "edYT43RU5JAK"
      },
      "outputs": [],
      "source": [
        "def resta(a,b):\n",
        "    return a-b"
      ]
    },
    {
      "cell_type": "code",
      "execution_count": null,
      "metadata": {
        "id": "g_nJgkgj5JAK"
      },
      "outputs": [],
      "source": [
        "a=3\n",
        "b=5\n",
        "print(f\"La resta entre {a} y {b} es {resta(a,b)}\")"
      ]
    },
    {
      "cell_type": "code",
      "execution_count": null,
      "metadata": {
        "id": "_6uKhTRP5JAO"
      },
      "outputs": [],
      "source": [
        "# La funcion len() devuelve la longitud (el número de elementos) de un objeto.\n",
        "\n",
        "lista= ['a','b','c','d','e']\n",
        "print('Funcion len() =' ,len(lista))\n",
        "\n",
        "def contador(lista):\n",
        "    count=0\n",
        "    for i in lista:\n",
        "        count += 1 # count = count+1\n",
        "    return(count)\n",
        "\n",
        "print('Funcion contador =',contador(lista))"
      ]
    },
    {
      "cell_type": "markdown",
      "metadata": {
        "id": "0NnL4lAI5JAO"
      },
      "source": [
        "#### Ejemplo:\n",
        "Escribir una función que calcule el total de una factura tras aplicarle el IVA. La función debe recibir la cantidad sin IVA y el porcentaje de IVA a aplicar, y devolver el total de la factura. Si se invoca la función sin pasarle el porcentaje de IVA, deberá aplicar un 21%."
      ]
    },
    {
      "cell_type": "code",
      "execution_count": null,
      "metadata": {
        "id": "ysbcXCZN5JAO"
      },
      "outputs": [],
      "source": [
        "def factura_con_IVA(venta, iva=21):\n",
        "    impuesto = venta * iva / 100\n",
        "    total = venta + impuesto\n",
        "    return total"
      ]
    },
    {
      "cell_type": "code",
      "execution_count": null,
      "metadata": {
        "id": "wkRUMQ3S5JAO"
      },
      "outputs": [],
      "source": [
        "venta=100\n",
        "iva=16\n",
        "print(factura_con_IVA(100,16))\n",
        "print(factura_con_IVA(venta,iva))"
      ]
    },
    {
      "cell_type": "code",
      "execution_count": null,
      "metadata": {
        "id": "PvwRYDYk5JAO"
      },
      "outputs": [],
      "source": [
        "print(factura_con_IVA(venta))"
      ]
    },
    {
      "cell_type": "markdown",
      "metadata": {
        "id": "K-M2cy9V5JAO"
      },
      "source": [
        "#### Ejercicio 2\n",
        "Escribir una función que reciba un número entero positivo y devuelva su factorial."
      ]
    },
    {
      "cell_type": "code",
      "execution_count": null,
      "metadata": {
        "id": "4kLee8RL5JAP"
      },
      "outputs": [],
      "source": [
        "import numpy as np\n",
        "np.math.factorial(9)"
      ]
    },
    {
      "cell_type": "code",
      "execution_count": null,
      "metadata": {
        "id": "sRh0gZCG5JAP"
      },
      "outputs": [],
      "source": [
        "def factorial(num):\n",
        "    res=1\n",
        "    for i in range(num):\n",
        "        res = res * (i+1)\n",
        "    return res\n",
        "\n",
        "num = int(input(\"ingresa un numero\"))\n",
        "fact = factorial(num)\n",
        "print(fact)"
      ]
    },
    {
      "cell_type": "code",
      "execution_count": null,
      "metadata": {
        "id": "4soceViQ5JAP"
      },
      "outputs": [],
      "source": [
        "def factoriall (num):\n",
        "        fac=1\n",
        "        for i in range(num):\n",
        "            fac = (num * i) + fac\n",
        "        return fac\n",
        "factoriall(9)"
      ]
    },
    {
      "cell_type": "code",
      "execution_count": null,
      "metadata": {
        "id": "M38hK12f5JAP"
      },
      "outputs": [],
      "source": [
        "def Factorial (numero):\n",
        "    value = 1\n",
        "    for i in range(1,numero + 1) :\n",
        "        value = value * i\n",
        "\n",
        "    return value\n",
        "\n",
        "entrada = int(input())\n",
        "print(Factorial(entrada))"
      ]
    },
    {
      "cell_type": "code",
      "execution_count": null,
      "metadata": {
        "id": "f-cZ9SnS5JAP"
      },
      "outputs": [],
      "source": [
        "def funcion_factorial(num):\n",
        "    factorial = 1\n",
        "    if num < 0:\n",
        "        print(\"No existe factorial de números negativos.\")\n",
        "    elif num == 0:\n",
        "        print(\"El factorial de 0 es 1\")\n",
        "    else:\n",
        "        for i in range(1, num+1):\n",
        "            factorial = factorial * i\n",
        "        print(\"El factorial de\", num, \"es\", factorial)\n",
        "    return factorial\n",
        "\n",
        "funcion_factorial(9)"
      ]
    },
    {
      "cell_type": "code",
      "execution_count": null,
      "metadata": {
        "id": "WSF2UkLo5JAP"
      },
      "outputs": [],
      "source": [
        "def factorial(n):\n",
        "    if n == 0:\n",
        "        return 1\n",
        "    else:\n",
        "        return n * factorial(n - 1)\n",
        "\n",
        "# Ejemplo de uso\n",
        "numero = int(input(\"Ingresa un numero: \"))\n",
        "resultado = factorial(numero)\n",
        "print(f\"El factorial de {numero} es {resultado}\")"
      ]
    },
    {
      "cell_type": "markdown",
      "metadata": {
        "id": "BKp-kIJQ5JAP"
      },
      "source": [
        "### Funciones Recursivas\n",
        "Las funciones recursivas son aquellas que se llaman a sí mismas para resolver problemas dividiéndolos en partes más pequeñas.\n",
        "\n",
        "Por supuesto, aquí tienes una lista que incluye tanto las ventajas como los problemas de las funciones recursivas:\n",
        "\n",
        "**Ventajas de las funciones recursivas:**\n",
        "- Permiten abordar problemas de manera elegante y concisa al dividirlos en casos más pequeños y manejables.\n",
        "- Pueden simplificar la implementación de algoritmos en situaciones en las que la recursión es una solución natural, como árboles, grafos y estructuras de datos recursivas.\n",
        "- Facilitan la reutilización del código, ya que una función recursiva puede aplicarse a diferentes niveles de una estructura de datos o para resolver problemas similares.\n",
        "\n",
        "**Problemas de las funciones recursivas:**\n",
        "- Consumen más memoria debido a la acumulación de llamadas en la pila, lo que puede llevar a un desbordamiento de la pila.\n",
        "- En algunos casos, pueden ser menos eficientes en términos de tiempo de ejecución en comparación con soluciones iterativas.\n",
        "- La depuración y el seguimiento del flujo de ejecución pueden ser más complicados, lo que dificulta la detección de errores.\n",
        "- Los lenguajes de programación suelen imponer un límite de recursión, lo que puede limitar la profundidad de las llamadas.\n",
        "- Si no se manejan adecuadamente los casos base o la lógica recursiva, existe el riesgo de caer en bucles infinitos.\n",
        "- En problemas complejos, la legibilidad del código puede disminuir, lo que dificulta la comprensión para otros desarrolladores.\n",
        "\n",
        "En resumen, las funciones recursivas son una herramienta poderosa en programación que tiene ventajas en términos de claridad y abstracción, pero también pueden presentar desafíos en términos de eficiencia y gestión de la memoria. La elección de usar recursión o una solución iterativa depende del problema y de consideraciones de rendimiento y legibilidad del código."
      ]
    },
    {
      "cell_type": "code",
      "execution_count": null,
      "metadata": {
        "id": "4KnRJ6u85JAP"
      },
      "outputs": [],
      "source": [
        "def funcion_factorial_recursiva(num):\n",
        "    if num < 0:\n",
        "        print(\"No existe factorial de números negativos.\")\n",
        "    elif num == 0:\n",
        "        return 1\n",
        "    elif num == 1:\n",
        "        return 1\n",
        "    else:\n",
        "        return num*funcion_factorial_recursiva(num-1)\n",
        "funcion_factorial_recursiva(9)"
      ]
    },
    {
      "cell_type": "markdown",
      "metadata": {
        "id": "PgP4sUp25JAQ"
      },
      "source": [
        "#### Ejercicio 3\n",
        "Escribir una función que calcule el área de un círculo y otra que calcule el volumen de un cilindro usando la primera función."
      ]
    },
    {
      "cell_type": "code",
      "execution_count": null,
      "metadata": {
        "id": "YgcbKn_U5JAQ"
      },
      "outputs": [],
      "source": [
        "np.pi"
      ]
    },
    {
      "cell_type": "code",
      "execution_count": null,
      "metadata": {
        "id": "YnSdgacm5JAQ"
      },
      "outputs": [],
      "source": [
        "def AreaCirculo (radio) :\n",
        "    pi = 3.141592\n",
        "    area = pi * (radio ** 2)\n",
        "    return area\n",
        "\n",
        "def VolumenCilindro (radio, altura) :\n",
        "    volumen = AreaCirculo (radio) * altura\n",
        "    return volumen\n",
        "\n",
        "rad = float(input(\"ingrese el radio\"))\n",
        "alt = float(input(\"ingrese la altura\"))\n",
        "\n",
        "print (VolumenCilindro(rad,alt))"
      ]
    },
    {
      "cell_type": "code",
      "execution_count": null,
      "metadata": {
        "id": "14J-Fjzn5JAQ"
      },
      "outputs": [],
      "source": [
        "def area_circulo(radio):\n",
        "    area = 3.14159 * radio**2\n",
        "    return area\n",
        "\n",
        "radio = int(input(\"Cual es el radio?: \"))\n",
        "area = area_circulo(radio)\n",
        "print(f\"El area del circulo es: {area} \")\n",
        "\n",
        "def volumen_cilindro(radio, altura):\n",
        "    area_base = area_circulo(radio)\n",
        "    volumen = area_base * altura\n",
        "    return volumen\n",
        "radio = float(input(\"Ingresa el radio \"))\n",
        "altura = float(input(\"Ingresa la altura \"))\n",
        "respuesta = volumen_cilindro(radio,altura)\n",
        "print(f\"El volumen del cilindro es: {respuesta} \")\n"
      ]
    },
    {
      "cell_type": "code",
      "execution_count": null,
      "metadata": {
        "id": "lw0NUbq55JAQ"
      },
      "outputs": [],
      "source": [
        "def AreaCirculo (radio):\n",
        "    pi=3.1416\n",
        "    return pi * radio**2\n",
        "\n",
        "def VolumenCilindro (radio, altura):\n",
        "    area = AreaCirculo(radio)\n",
        "    volumen = area * altura\n",
        "    return(area,volumen)\n",
        "\n",
        "radio = float(input(\"ingresa el radio\"))\n",
        "altura = float(input(\"Ingresa la altura\"))\n",
        "res = VolumenCilindro(radio,altura)\n",
        "print(f\"el area es: {res[0]} y el volumen es {res[1]}\")"
      ]
    },
    {
      "cell_type": "code",
      "execution_count": null,
      "metadata": {
        "id": "RWCWDl2-5JAQ"
      },
      "outputs": [],
      "source": [
        "def area_cir(radio):\n",
        "    a = round((3.1416)* radio**2,2)\n",
        "    return a\n",
        "\n",
        "def vol_cil(radio,h):\n",
        "    v = round(area_cir(radio) * h,2)\n",
        "    return v\n",
        "\n",
        "print(f\"el area de un circulo con radio de 5 = {area_cir(10)}\")\n",
        "print(f\"el volumen de un cilindro con radio de 5 = {vol_cil(10,5)}\")"
      ]
    },
    {
      "cell_type": "code",
      "execution_count": null,
      "metadata": {
        "id": "ph2vs7xz5JAR"
      },
      "outputs": [],
      "source": [
        "def circle_area(radius):\n",
        "    pi = 3.1415\n",
        "    return pi*radius**2\n",
        "\n",
        "def cilinder_volume(radius, high):\n",
        "    return circle_area(radius)*high\n",
        "\n",
        "cilinder_volume(10, 5)"
      ]
    },
    {
      "cell_type": "markdown",
      "metadata": {
        "id": "lzp6joj55JAR"
      },
      "source": [
        "#### Ejercicio 4\n",
        "Escribir una función que reciba una parrafo (conjunto de palabras) y devuelva un diccionario con cada palabra que contiene y su frecuencia.\n",
        "\n",
        "Escribir otra función que reciba el diccionario generado con la función anterior y devuelva una tupla con la palabra más repetida y su frecuencia."
      ]
    },
    {
      "cell_type": "code",
      "execution_count": null,
      "metadata": {
        "id": "OXQHFC2t5JAR"
      },
      "outputs": [],
      "source": [
        "def frecuencias(parrafo):\n",
        "    diccionario = {}\n",
        "    lista = parrafo.split()\n",
        "    conjunto = set(lista)\n",
        "    for palabra in conjunto:\n",
        "        diccionario[palabra] = lista.count(palabra)\n",
        "    return diccionario\n",
        "\n",
        "texto = 'Escribir un programa que reciba una parrafo (conjunto de palabras) y devuelva un diccionario con cada palabra que contiene y su frecuencia.'\n",
        "print(frecuencias(texto))"
      ]
    },
    {
      "cell_type": "code",
      "execution_count": null,
      "metadata": {
        "id": "OsHT2Xg05JAR"
      },
      "outputs": [],
      "source": [
        "def contar_palabras(parrafo):\n",
        "    # Dividir la cadena en palabras\n",
        "    palabras = parrafo.lower().split()\n",
        "\n",
        "    # Crear un diccionario para contar la frecuencia de las palabras\n",
        "    frecuencia = {}\n",
        "\n",
        "    for palabra in palabras:\n",
        "        # Eliminar signos de puntuación alrededor de las palabras\n",
        "        palabra = palabra.strip('.,!?()[]{}\"\\'')\n",
        "\n",
        "        # Si la palabra ya está en el diccionario, aumentar su frecuencia\n",
        "        if palabra in frecuencia:\n",
        "            frecuencia[palabra] += 1\n",
        "        else:\n",
        "            # Si la palabra no está en el diccionario, agregarla con frecuencia 1\n",
        "            frecuencia[palabra] = 1\n",
        "\n",
        "    return frecuencia"
      ]
    },
    {
      "cell_type": "code",
      "execution_count": null,
      "metadata": {
        "id": "1fAhte-o5JAR"
      },
      "outputs": [],
      "source": [
        "texto = \"Esto es un parrafo de ejemplo. Es un parrafo corto con varias palabras repetidas. Vamos a contar estas palabras de este parrafo.\"\n",
        "frecuencia_palabras = contar_palabras(texto)"
      ]
    },
    {
      "cell_type": "code",
      "execution_count": null,
      "metadata": {
        "id": "_5ittOdo5JAR"
      },
      "outputs": [],
      "source": [
        "frecuencia_palabras"
      ]
    },
    {
      "cell_type": "code",
      "execution_count": null,
      "metadata": {
        "id": "rZGyyYfc5JAR"
      },
      "outputs": [],
      "source": [
        "def palabra_mas_repetida(diccionario):\n",
        "    palabra_mas_comun = max(diccionario, key=diccionario.get)\n",
        "    frecuencia_maxima = diccionario[palabra_mas_comun]\n",
        "\n",
        "    return (palabra_mas_comun, frecuencia_maxima)\n"
      ]
    },
    {
      "cell_type": "code",
      "execution_count": null,
      "metadata": {
        "id": "vnUz9UrG5JAS"
      },
      "outputs": [],
      "source": [
        "tupla_repedita = palabra_mas_repetida(frecuencia_palabras)\n",
        "\n"
      ]
    },
    {
      "cell_type": "code",
      "execution_count": null,
      "metadata": {
        "id": "1ncHiLqj5JAS"
      },
      "outputs": [],
      "source": [
        "print(\"Frecuencia de palabras:\", frecuencia_palabras)\n",
        "print(\"Tupla mas repetida: \",tupla_repedita)\n",
        "print(\"Palabra más repetida:\", tupla_repedita[0])\n",
        "print(\"Frecuencia de la palabra más repetida:\", tupla_repedita[1])"
      ]
    },
    {
      "cell_type": "code",
      "execution_count": null,
      "metadata": {
        "id": "Nj6RyuJn5JAS"
      },
      "outputs": [],
      "source": []
    },
    {
      "cell_type": "code",
      "execution_count": null,
      "metadata": {
        "id": "B9k9y3yG5JAS"
      },
      "outputs": [],
      "source": []
    },
    {
      "cell_type": "code",
      "execution_count": null,
      "metadata": {
        "id": "KpntULT05JAS"
      },
      "outputs": [],
      "source": []
    },
    {
      "cell_type": "code",
      "execution_count": null,
      "metadata": {
        "id": "9wkl30he5JAS"
      },
      "outputs": [],
      "source": []
    }
  ],
  "metadata": {
    "colab": {
      "private_outputs": true,
      "provenance": []
    },
    "kernelspec": {
      "display_name": "Python 3 (ipykernel)",
      "language": "python",
      "name": "python3"
    },
    "language_info": {
      "codemirror_mode": {
        "name": "ipython",
        "version": 3
      },
      "file_extension": ".py",
      "mimetype": "text/x-python",
      "name": "python",
      "nbconvert_exporter": "python",
      "pygments_lexer": "ipython3",
      "version": "3.10.10"
    }
  },
  "nbformat": 4,
  "nbformat_minor": 0
}