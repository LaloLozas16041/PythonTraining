{
  "nbformat": 4,
  "nbformat_minor": 0,
  "metadata": {
    "colab": {
      "provenance": []
    },
    "kernelspec": {
      "name": "python3",
      "display_name": "Python 3"
    }
  },
  "cells": [
    {
      "cell_type": "markdown",
      "metadata": {
        "id": "nkxrQsiAtRZU"
      },
      "source": [
        "# Estructuras de datos: Conjuntos\n",
        "\n"
      ]
    },
    {
      "cell_type": "markdown",
      "metadata": {
        "id": "md0PRYAzEqTC"
      },
      "source": [
        "## Conjunto\n",
        "\n",
        "Ahora, es el turno de los **conjuntos**. Éstos son una estructura sin orden que no admiten múltiples ocurrencias de un mismo elemento. Pueden ser definidos a partir de una lista con la función `set()`, o bien, los elementos del conjunto pueden ir entre llaves, `{}`, y estar separados por comas.\n",
        "\n",
        "Los conjuntos son:\n",
        "- hetereogéneos: los elementos pueden ser de distinto tipo en un mismo conjunto\n",
        "- no mutables: los elementos no pueden ser modifcados una vez el conjunto ha sido creado\n",
        "\n",
        "Los conjuntos pueden construirse con la función `set()` o directamente entre llaves, `{}`."
      ]
    },
    {
      "cell_type": "code",
      "metadata": {
        "colab": {
          "base_uri": "https://localhost:8080/"
        },
        "id": "n659E-WvtPu2",
        "outputId": "fd8528cc-2b72-4353-dc23-2778218e3c48"
      },
      "source": [
        "set1 = set([1, 7, 4, 2, 0])\n",
        "print(set1)\n",
        "type(set1)"
      ],
      "execution_count": null,
      "outputs": [
        {
          "output_type": "stream",
          "text": [
            "{0, 1, 2, 4, 7}\n"
          ],
          "name": "stdout"
        },
        {
          "output_type": "execute_result",
          "data": {
            "text/plain": [
              "set"
            ]
          },
          "metadata": {
            "tags": []
          },
          "execution_count": 1
        }
      ]
    },
    {
      "cell_type": "code",
      "metadata": {
        "colab": {
          "base_uri": "https://localhost:8080/"
        },
        "id": "D1TeNyqkKiYs",
        "outputId": "c0688046-d00b-4a69-82b9-4e527c5d26ec"
      },
      "source": [
        "set2 = set((1, 7, 4, 2, 0))\n",
        "print(set2)\n",
        "type(set2)"
      ],
      "execution_count": null,
      "outputs": [
        {
          "output_type": "stream",
          "text": [
            "{0, 1, 2, 4, 7}\n"
          ],
          "name": "stdout"
        },
        {
          "output_type": "execute_result",
          "data": {
            "text/plain": [
              "set"
            ]
          },
          "metadata": {
            "tags": []
          },
          "execution_count": 2
        }
      ]
    },
    {
      "cell_type": "code",
      "metadata": {
        "colab": {
          "base_uri": "https://localhost:8080/"
        },
        "id": "e3YZVsDh_LQa",
        "outputId": "c48e6ea6-583c-4a08-ca9a-53ab8c799d44"
      },
      "source": [
        "set3 = {1, 7, 4, 2, 0}\n",
        "print(set3)\n",
        "type(set3)"
      ],
      "execution_count": null,
      "outputs": [
        {
          "output_type": "stream",
          "text": [
            "{0, 1, 2, 4, 7}\n"
          ],
          "name": "stdout"
        },
        {
          "output_type": "execute_result",
          "data": {
            "text/plain": [
              "set"
            ]
          },
          "metadata": {
            "tags": []
          },
          "execution_count": 3
        }
      ]
    },
    {
      "cell_type": "markdown",
      "metadata": {
        "id": "RzwF7Fx7DPRu"
      },
      "source": [
        "Como se ha dicho antes, los conjuntos no admiten elementos repetidos:"
      ]
    },
    {
      "cell_type": "code",
      "metadata": {
        "colab": {
          "base_uri": "https://localhost:8080/"
        },
        "id": "yoCU1ou6DSLk",
        "outputId": "74b616ca-cc1e-4680-f359-59ca768d223d"
      },
      "source": [
        "set1 = {1, 2, 2, 3, 3, 3, 4, 4, 4, 4}\n",
        "set1"
      ],
      "execution_count": null,
      "outputs": [
        {
          "output_type": "execute_result",
          "data": {
            "text/plain": [
              "{1, 2, 3, 4}"
            ]
          },
          "metadata": {
            "tags": []
          },
          "execution_count": 4
        }
      ]
    },
    {
      "cell_type": "markdown",
      "metadata": {
        "id": "MrkPkKChDblw"
      },
      "source": [
        "**Observación.** Al decir que los conjuntos no tienen orden, lo que ocurre es que `Python` no mantendrá el que hemos introducido, tal y como hacía con las listas, sino que reordenará todos los elementos por orden primero numérico (yendo antes los negativos que los positivos) y luego alfabético de las claves. Con la función `print()`, si hay elementos negativos, el conjunto no se ordena correctamente."
      ]
    },
    {
      "cell_type": "code",
      "metadata": {
        "colab": {
          "base_uri": "https://localhost:8080/"
        },
        "id": "L-wP6EyfDWWd",
        "outputId": "da52fa86-0ce8-474c-ce10-9b48631fde50"
      },
      "source": [
        "set1 = {1, \"a\", \"i\", \"o\", 2, \"e\", 4, 3, 5, \"u\"}\n",
        "set1"
      ],
      "execution_count": null,
      "outputs": [
        {
          "output_type": "execute_result",
          "data": {
            "text/plain": [
              "{1, 2, 3, 4, 5, 'a', 'e', 'i', 'o', 'u'}"
            ]
          },
          "metadata": {
            "tags": []
          },
          "execution_count": 6
        }
      ]
    },
    {
      "cell_type": "code",
      "metadata": {
        "colab": {
          "base_uri": "https://localhost:8080/"
        },
        "id": "Z04lrN-1SfKK",
        "outputId": "3f3842ed-e0be-402a-8615-8786ea37faa3"
      },
      "source": [
        "print(set1)"
      ],
      "execution_count": null,
      "outputs": [
        {
          "output_type": "stream",
          "text": [
            "{1, 2, 'e', 4, 'a', 3, 5, 'o', 'u', 'i'}\n"
          ],
          "name": "stdout"
        }
      ]
    },
    {
      "cell_type": "code",
      "metadata": {
        "colab": {
          "base_uri": "https://localhost:8080/"
        },
        "id": "JEJ10Z2KFzMp",
        "outputId": "f564ff41-3854-48cb-831b-229e087f22be"
      },
      "source": [
        "set2 = {-1, \"a\", 3, \"i\", \"o\", 2, \"e\", 4, -3, 5, \"u\", 1}\n",
        "set2"
      ],
      "execution_count": null,
      "outputs": [
        {
          "output_type": "execute_result",
          "data": {
            "text/plain": [
              "{-1, -3, 1, 2, 3, 4, 5, 'a', 'e', 'i', 'o', 'u'}"
            ]
          },
          "metadata": {
            "tags": []
          },
          "execution_count": 8
        }
      ]
    },
    {
      "cell_type": "code",
      "metadata": {
        "colab": {
          "base_uri": "https://localhost:8080/"
        },
        "id": "aczfgZymF8Yn",
        "outputId": "604c63c4-be87-47d8-a616-742f9db1feb3"
      },
      "source": [
        "print(set2)"
      ],
      "execution_count": null,
      "outputs": [
        {
          "output_type": "stream",
          "text": [
            "{1, 2, 3, 'e', 'a', 4, 5, 'o', 'u', 'i', -3, -1}\n"
          ],
          "name": "stdout"
        }
      ]
    },
    {
      "cell_type": "markdown",
      "metadata": {
        "id": "dpcIi0kvERiw"
      },
      "source": [
        "Por lo que hemos visto hasta ahora, podemos decir que los conjuntos en `Python` son fieles a la definición matemática de éstos, salvo por el hecho de que en `Python` un conjunto no puede contener como elemento a otro conjunto:\n",
        "\n",
        "**Conjunto.** Colección de elementos pertenecientes a la misma categoría, y cuya agrupación puede ser considerada o identificada en sí misma como un objeto. Un conjunto queda definido únicamente por sus elementos y por nada más. En particular, un conjunto puede escribirse como una lista de elementos, pero cambiar el orden de dicha lista o añadir elementos repetidos no define un conjunto nuevo.\n",
        "\n"
      ]
    },
    {
      "cell_type": "markdown",
      "metadata": {
        "id": "W66XHIiKEtSw"
      },
      "source": [
        "### Subconjuntos\n",
        "\n",
        "**Subconjunto.** Un subconjunto $B$ de un conjunto $A$ es un conjunto que contiene algunos de los elementos de $A$ (o quizá todos). Se denota por $B\\subseteq A$\n",
        "\n",
        "**Subconjunto propio.** Un subconjunto propio $B$ de un conjunto $A$ es un conjunto que tiene algunos de los elementos de $A$, pero no todos. Se denota por $B\\subset A$\n",
        "\n",
        "Para saber si un conjunto $B$ es subconjunto del conjunto $A$, podemos utilizar el método `.issubset()` o el comparador `<=`. Para saber si se trata de un subconjunto propio, tenemos el comparador `<`."
      ]
    },
    {
      "cell_type": "code",
      "metadata": {
        "colab": {
          "base_uri": "https://localhost:8080/"
        },
        "id": "hYt-4Gd9HYtY",
        "outputId": "0e76836e-1a94-4c7b-8bbf-19282418a24c"
      },
      "source": [
        "A, B = {0, 3, 7, 2, 5}, {2, 3, 0}\n",
        "B.issubset(A)"
      ],
      "execution_count": null,
      "outputs": [
        {
          "output_type": "execute_result",
          "data": {
            "text/plain": [
              "True"
            ]
          },
          "metadata": {
            "tags": []
          },
          "execution_count": 12
        }
      ]
    },
    {
      "cell_type": "code",
      "metadata": {
        "colab": {
          "base_uri": "https://localhost:8080/"
        },
        "id": "RSSpvZKSHa3i",
        "outputId": "df63dde1-72aa-4125-939b-1f647f8ac9dd"
      },
      "source": [
        "B <= A"
      ],
      "execution_count": null,
      "outputs": [
        {
          "output_type": "execute_result",
          "data": {
            "text/plain": [
              "True"
            ]
          },
          "metadata": {
            "tags": []
          },
          "execution_count": 13
        }
      ]
    },
    {
      "cell_type": "code",
      "metadata": {
        "colab": {
          "base_uri": "https://localhost:8080/"
        },
        "id": "vb54HrpVHeHP",
        "outputId": "4276c681-0e38-4610-ec4c-7805d579cdb6"
      },
      "source": [
        "B < A"
      ],
      "execution_count": null,
      "outputs": [
        {
          "output_type": "execute_result",
          "data": {
            "text/plain": [
              "True"
            ]
          },
          "metadata": {
            "tags": []
          },
          "execution_count": 14
        }
      ]
    },
    {
      "cell_type": "markdown",
      "metadata": {
        "id": "ixLS6vXGHiZl"
      },
      "source": [
        "**Superconjunto.** Un superconjunto $A$ de un conjunto $B$ es un conjunto que contiene a $B$. Se denota por $A\\supseteq B$\n",
        "\n",
        "**Superconjunto propio.** Un superconjunto propio $A$ de un conjunto $B$ es un conjunto que contiene a $B$ y consta de al menos un elemento más. Se denota por $A\\supset B$\n",
        "\n",
        "Para saber si un conjunto $A$ es superconjunto del conjunto $B$, podemos utilizar el método `.issuperset()` o el comparador `>=`. Para saber si se trata de un superconjunto propio, tenemos el comparador `>`."
      ]
    },
    {
      "cell_type": "code",
      "metadata": {
        "colab": {
          "base_uri": "https://localhost:8080/"
        },
        "id": "enfcKIqMH9KI",
        "outputId": "f14797db-2a90-4034-85c5-4fa959d7d1ae"
      },
      "source": [
        "A, B = {0, 3, 7, 2, 5}, {2, 3, 0}\n",
        "A.issuperset(B)"
      ],
      "execution_count": null,
      "outputs": [
        {
          "output_type": "execute_result",
          "data": {
            "text/plain": [
              "True"
            ]
          },
          "metadata": {
            "tags": []
          },
          "execution_count": 15
        }
      ]
    },
    {
      "cell_type": "code",
      "metadata": {
        "colab": {
          "base_uri": "https://localhost:8080/"
        },
        "id": "x3L--V4UH_XI",
        "outputId": "796e2203-3a0a-4beb-f155-0cc8a57aa78c"
      },
      "source": [
        "A >= B"
      ],
      "execution_count": null,
      "outputs": [
        {
          "output_type": "execute_result",
          "data": {
            "text/plain": [
              "True"
            ]
          },
          "metadata": {
            "tags": []
          },
          "execution_count": 16
        }
      ]
    },
    {
      "cell_type": "code",
      "metadata": {
        "colab": {
          "base_uri": "https://localhost:8080/"
        },
        "id": "31jsS_o4IAhc",
        "outputId": "92447eeb-54b9-4dcc-fe05-443b800fc63f"
      },
      "source": [
        "A > B"
      ],
      "execution_count": null,
      "outputs": [
        {
          "output_type": "execute_result",
          "data": {
            "text/plain": [
              "True"
            ]
          },
          "metadata": {
            "tags": []
          },
          "execution_count": 17
        }
      ]
    },
    {
      "cell_type": "markdown",
      "metadata": {
        "id": "Lv72mRsRXLzs"
      },
      "source": [
        "**Ojo:** ¡Pero no todos los conjuntos son siempre subconjunto o superconjunto unos de otros!"
      ]
    },
    {
      "cell_type": "code",
      "metadata": {
        "id": "1BBpH0zYW5xn"
      },
      "source": [
        "X = {1,2,3}\n",
        "Y = {'a', 'b', 'c'}"
      ],
      "execution_count": null,
      "outputs": []
    },
    {
      "cell_type": "code",
      "metadata": {
        "colab": {
          "base_uri": "https://localhost:8080/"
        },
        "id": "YxDqb224XAcl",
        "outputId": "ae605ec9-a59f-440a-f5a4-8ee6c8e45fd1"
      },
      "source": [
        "X <= Y"
      ],
      "execution_count": null,
      "outputs": [
        {
          "output_type": "execute_result",
          "data": {
            "text/plain": [
              "False"
            ]
          },
          "metadata": {
            "tags": []
          },
          "execution_count": 19
        }
      ]
    },
    {
      "cell_type": "code",
      "metadata": {
        "colab": {
          "base_uri": "https://localhost:8080/"
        },
        "id": "3L-ZtdSpXEdC",
        "outputId": "f010e20b-e4ef-45a2-a209-43e2be90f594"
      },
      "source": [
        "X >= Y"
      ],
      "execution_count": null,
      "outputs": [
        {
          "output_type": "execute_result",
          "data": {
            "text/plain": [
              "False"
            ]
          },
          "metadata": {
            "tags": []
          },
          "execution_count": 20
        }
      ]
    },
    {
      "cell_type": "markdown",
      "metadata": {
        "id": "I5Fm6wDxIOCl"
      },
      "source": [
        "### Operaciones con conjuntos\n",
        "\n",
        "Dados los conjuntos $A$ y $B$, vamos a ver una serie de operaciones que podemos hacer con ellos.\n",
        "\n",
        "![setA.png](data:image/png;base64,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)\n",
        "![setB.png](data:image/png;base64,iVBORw0KGgoAAAANSUhEUgAAAcwAAAFACAYAAAAxqUwlAAAAAXNSR0IArs4c6QAAAERlWElmTU0AKgAAAAgAAYdpAAQAAAABAAAAGgAAAAAAA6ABAAMAAAABAAEAAKACAAQAAAABAAABzKADAAQAAAABAAABQAAAAABNy4RNAABAAElEQVR4Ae29C3xU5Z3//zxnJjdCwl0gCRR0FbxRbVEQrRW8tGpdq4UQUKzVlq2u2tWu2u12/WXb2q3aaiut9k9XV0EgBOqlWtu1CtYLgrK19QpYhUISQIhAAoQkM+f5f76TnJkzyQRmkrmdzOe8Xk/O7TnP833e32/Od57r0YobCZBAqgj4kPBpCKMRRiEMQ2hH2IHwKsLfELpuEucLCBM7wwTsj0H4GGGDKzyF450I3EiABEiABEjA0wRKIf27CKYzNGG/BWF/53kQ+18hiFOVTRzlnQgSz0b4COEZhLsRvoHw7wiLEd5AaEaQdH6EMBiBGwmQAAmQAAl4loA4uYMIUxAGdilFCc6/iiDO8dcI4vjkWGqMNyAUI8xGOAHhGoS7ECS96QhHIQxAuB2hEWEPwi0I3EiABEiABEjAkwSWQurnjiC5OEOpgYqzvAPB7VgX4vxyhGsR1iPsRZC4AYTlCFMRpBb7AwSprd6GwI0ESIAESIAEPEfgbUj8kyNI/QDuP4kw4gjxnNsST2qmf0YQ5/knhKEI30KQZtw5CNxIgARIgARIwDMENCQ9hPC1w0gsNUdpapW4vdnOwUPShCt9mlLTFOfcinAWAjcSIAESIAES8ASBUZBSaoDn9iBtEa5LH2Rft5OQwC6ElxGkX/MFhHUI3EiABEiABEjAEwROhpTiME/pQdqjcd3q4V6ilyfjAcnrmwjzOo/PxJ4bCZAACZAACWQ9gXMgoTixcQi92crw0HcRliHcj3AGwuG2N3FTwiAEaZb9IQI3EiABEiABEsh6Av8ICcVhytzKRLfP44EWBHF8zyNsQpD+0MP1Tf4n7svo2UKEpxFWI3AjARIgARIggawncAUkFIdZkKCkpyL+PoR7EWQgj2zSdPtnhJ/LSQ/bJFxvR5BVgWR6yhYEbiRAAkkm4E9yekyOBEigY+EBmRsptcREtqsRWVYHusX1UD6ORyM0uK51PXwLFz6NILXRNoSBCNxIgASSTCBZAw+SLBaTIwFPE5BRsLLKT6LbHjxwIsLxnQ9KLbMGwYewqPNaT7v3cENqtVLTlD03EiCBJBOgw0wyUCZHAiAgDlP6HRPdpNl1C8JfEKT/8kOEKQiXImxHiGcbj0jb4onIOCRAAokRoMNMjBdjk0A8BKSrQ5pGE92khnkGwncRdiLcgyDryb6GEO8mU0pkMQNuJEACJEACJJD1BGTU6uYMSDkBeUrf6WkZyJtZkkC/J8AaZr9XMQuYAQJSw5S+xHRvP0CGMgCINcx0k2d+OUGAo2RzQs0sZJoJZMJhfhVlnIlweZrLyuxIgARIgARIoNcEfoonZeBOOjYZQXsjgkxh+Y90ZMg8SIAESIAESCBZBO5HQuloFp2KfGRRA5lGcriFDXCbGwmQQF8JsEm2rwT5PAl0J5DKeZDlyO4LCBcjXIYg38GsRFiBwI0ESCCFBDjoJ4VwmXTOEpCRqqn435Lm17Gdactcy60Icu1WhM8gcCMBEiABEiABTxG4B9Kmow9TnPJ5CM8gyOLrtyFwIwESIAESIAHPEPgxJJXpHenaNDKSflNpCq5KV6bMhwRyjQD7MHNN4yxvOgikqkm2J9nFUd6EIKsL/Q+CrCubToeN7LiRQP8nkIp+lv5PjSUkgcMTEIcpfYvp3v4dGe5CkKX1uJEACSSZAB1mkoEyORIAAelPzETrjczFlGX5ZAGDcQjcSIAEkkiADjOJMJkUCXQS2I99cR9oDMOz4vheR/gA4TGE4QjxbI8g0gGEOfFEZhwSIIH4CWTiV3D80jEmCXiTgDjM3n7EWRzjnxDGIPwO4SOEqxD+gDAZ4UibNAf/FeGUI0XkfRIggcQI0GEmxouxSSAeAs2I1JsaZh6e+1+ERoSzEORzX7K9g7AUQZzpboQjbTKl5fwjReJ9EiCBxAjQYSbGi7FJIB4CexFJujsGIeyL54HOOCOwlwUIZMk7x1nKrbMR6hHEkcazNSCSpMWNBEiABEiABLKagDSHylSP4xKUUmqlHyOsRqhAkPMfIUhaVyPEu92JiB/GG5nxSIAESIAESCBTBI5CxuLkPtcLAT6PZ6SGKCNtZV6lNO9eh5DI9gAi/18iDzAuCZAACZAACWSCgDTHyhSPub3MXOZwSh9kJYI430S3DXjgV4k+xPgkQAIkQAIkkAkCMlL1hxnIeBLylNrt9AzkzSxJgARIgARIIGECi/DEk3E8dSriJHPwXQ3S24bAOdZxwGcUEiABEiCBzBO4HiLICNnCI4giixT81xHixHv7GkS0Eb4Y7wOMRwIkQAIkQAKZJjASAsjAnW/EIYiMar0XQccRt6con8WN/Qg/6ykCr5MACZAACZBAthL4KQQ7hCDzKA+3FeDm+whPISQ6FSUfz8gyejKiVlYIkrS4kQAJkAAJkICnCMhoV1neTmp+8gWRnppny3FPVvCRwTpSK30YYRzC4bZ/wM1/RXgXQUbk3obAfktA4EYCqSLQlyagVMnEdEmgPxGQxQfuQPgXBHGcLyC8gSAOUv7/pA/zWwiyss/FCDKV5AaEsQh1CH/rDLLKj0wxkaZecZYTEJoQnkGQPtB3ELiRAAmkkAAdZgrhMmkScBE4GsfyBZFzESYiiKO0EWRg0AqEHyDIKj+ySc30EgQZQTsO4VMIQxF2IexA2I6wCuF5BGmK5UYCJEACJEACJEACJEACJEACJEACJEACJEACJEACJEACJEACJEACJEACJEACJEACJEACJEACJEACJEACJEACJEACJEACJEACJEACJEACJEACJEACJEACJEACJEACJEACJEACJEACJEACJEACJEACJEACJEACJEACJEACJEACJEACJEACJEACJEACJEACJEACJEACJEACJEACJEACJEACJEACJEACJEACJEACJEACJEACJEACJEACJEACJEACJEACJEACJEACJEACJEACJEACJEACJEACJEACJEACJEACJEACJEACJEACJEACJEACJEACJEACJEACJEACJEACJEACJEACJEACJEACJEACJEACJEACJEACJEACJEACJEACJEACJEACJEACJEACJEACJEACJEACJEACJEACJEACJEACJEACJEACJEACJEACJEACJEAC2UpA9yBYHq5/uTNMxr4MYSACNxIgARIgARLobwT2o0ANCOsRnuwM7dhHbbEc5mWIcQ/CMVExeUICJEACJEACuUHgQxTzVoQn3MX1uU4sHN+FcD/CUNd1HpIACZAACZBALhEQHzgboRjhBQSDoNwOU5yleFRuJEACJEACJEACSp0JCAMQ/igwnCZZaYZ9XC5wIwESIAESIAESiCJwOc5CzbMywOdvCFLl7BpewrVLEEYjcCMBEiABEiCB/khAfJz4OvF5Xf2gnIuPFF+pZiHEinAnrku/JjcSIAESIAESyAUC4vPE98XyieIr1ZIYN8XL0lkKHW4kQAIkQAK5REB8n/jArk5TfKXaGOOGVE25kQAJkAAJkEAuEhAf2NVhiq9UzTFusM9SyHAjARIgARLIRQLiA7s6zGYZJSsXu27O6Nmu13lOAiRAAiRAArlAoJtvZD9lLqidZSQBEiABEugzATrMPiNkAiRAAiRAArlAgA4zF7TMMpIACZAACfSZAB1mnxEyARIgARIggVwgQIeZC1pmGUmABEiABPpMgA6zzwiZAAmQAAmQQC4QoMPMBS2zjCRAAiRAAn0mQIfZZ4RMgARIgARIIBcI0GHmgpZZRhIgARIggT4ToMPsM0ImQAIkQAIkkAsE/LlQSJYx+wnc+Kwp2NW+e5huPzRcaz0saCvZlxjbFGD1xnxLWwUGeymJVrrNNnYrjtq0pVuNMc0+S+3GvtHkFe4ekTe8ccFFGve5ZZLABzeaguZdu4e16UPDFXRqB9VwS3RqTIGGLo1lFSjToVPcb9O23WpEp1q32tCp5VO7cb8x3xTuLhkxvPHYBdRpJvXJvOXdw7VkaQdpIjD3mb1DVOvBk4NB+0RLmfG21uPw4hyvjB4HZzg8mWLAqe5W2mzBC3izZcwWG3ufz3pXFQx4e+mXBu9JZl65nNZbc/cOOaQ6dKot6NTW48B9PPiPg2NMrk613g072QJ72WxZ0K3dodNCNeDtSUup01y2wxSVvdtasnSYKSKd68neXGuKdvoazjRBc46t1Klaq0l4gVZkAxfUYOqMUW+hP+JN7dMvjgyWvXpfpW7JBtmyWYY1N5sivbPhTNT6zlG2OhU/t7NKp/iMxFv4iu+bqK2+aEaWvTrtPuo0m+3JA7LRYXpASZ4UsbrW5G/Q26coZWYYY89AIaYihJpQ4ykQfrm14wWMZlXViONG1Ax3a232oTbRivM2WxvsdZukJU2zltFookX62hQYowehpjoc58PgmIchghznxZNvZxxJd63W1io0uqyaaEavq67syCuBNPpd1HerTf7+Ddun2J06hR6mhpjHWVLoKwBdNSE6PiFoEKwm6PeApVW7rVUANf921PwDkhxaHPxoccizjPLbRuVBj8VK2aXQRwlulyCtUqQVdxeS2AxkDenUgk4HThy97sRq6lRYc4ubAEwoeoNd4fXSfZPr3EjgsASqVjZMNnbwPLzcpsPBnYWax4DDPoCbUrvDbiOMbiMc4kZL+TbaPr1x4pdHba3WGpXRvm/Vxlgbntwx1gqaCbYKToBDnQCDnoCUcRxHLVfrg3DAr+DlvlpbvudrZpat77tU3khhXRV0aoLnwaFN10afBSd1ZJ3ixw2caj3eJPWwBejXqrdtux6vll1Gg2ISNsgCFeoRlmWVw5GWI9UK/MAqhzMsh4xHbPqFwz0IWV6BQ16tte/5KTW5o9Mk4M/VJLrZLh1mrppCL8s9+4mdx+hA2zw8Pg8vraN7TAbeEA70Xam14VW3Fpa3Ia/Et2nxF0Yd6PGZNNyY9787itubg8fB8CdC/qmh2rDWJ0JW+V+IuUH+j3BjsfHnL15+2cgPY0by8MX1s3ce067b5kFH8+D0etQpnA6Qma1wXG+B10al7Tpj++ptHczoACvL+Aq0FSxXxoIT1fhhZCZB1rGQtUedwtl+hJuL80z+4snL+59OPWyO2SQ6HWY2acMrslz9xJ7BrYEDs9FUBkdpzuxJbtQeP4CFrUJtYHWe37d68eWjPu4pbjZdn/f4jqPaA8HpqIFMx0sUTcrm2J7l06+iSXFxgb94+SOXDdnbc7zsvvPm1XsGt7QemI06PRxlzzpFKRrgRN+C64GTVG/byt6X3SXrkM5S1iA4xZPxs20S9pNwtawnueFcXzWWWlxUULz81Ee8q9OeysfrvSZAh9lrdDn24Pz1Jq/po4YL4SDnwZFcgpclpndEb3Aue/CL/reWOElLrVrylQppbvX8dsVv6iqMrWagfXgGalL/iP+aId0KpVUrfhg8jdrW4tKjy36/cLJu7xYnyy6sn2/y2psaLoSDRE0SOlXddYqy7ocDWYfa41s4fsu2TWOWFaNX4liWHgZ7nYRa6CSUfwqOB8ZIqBX2/DTKvzivtOz3kxdmv05jlIGXkkeADjN5LPtnStc8taukpa3tOtSybsGLZWTXUuJFI4NznkUz5eIJdsXT/X1wjMwP3X2w7ktoi5TmyovwH9RtMBFesDtRu763KD//wYcvHYHBLdm1bbhmV8melrbr4CRvgV5j6BQDb7Rab5S9Oqj0G8q2QwNxsqsUyZPGZ+Vh8FDgNK2s6dDpZNg5zqM36HMnnOe9Q4ryH5z4cPbpNFra+M5MrfGt+03drRhc9VnUvGG2aldBke+OUz81as+6DQ1XQf9fCqVkOsYSoFWhEdN3fjJ16ZgP4suh38Wiw+yLSqXmETT6UgypP4RhfX+e+JWyv1YnaaBKX+RKxrPX1u4bekA33YQXyE2wkm41KjjK142yFltFumbZJWW7k5Gn19KY83TDcLvFVGllS3/f6V3lByPUuNX9xab0/ocqB33S9X66z9dcu2+oPtAk+hS9xtLpJnTdroYjfSmo7axz9Ong5TNWCRzj2ehyx8A1dVy3PLXaA73eb4pL75/2UOZ12k2+BC68XlV3bsDoM8/4StmdulIH182uOy6ozK/x46AVC4A8jJHKG/CDaTgWC/knONSPMeXqZRO0zzWW/mjasor/SiCr/hIVJhG9wRbwr9R9k+vcXASqVm67CS+XsT6jHsMIwmE4PhMvzlPyVN63F1eO2uyK6qnDOU/tHGm3td2C8RHXwxSimqnwjyRNrIv8Ri96rLJ8o6cKlmJhr6ytnxDQ5ipkc1W3kbdaw/mYB638/HuXXTpyZ4pF6Zb82jk7Rxq7DS0EMXQaWtBBrQqiNokXI0aycnMIwGmU+zpqnTNQ6+wy8lY3Y+T0g9rKv3fqsvTr1JGxL/vXZtfdovx63RlLyl+VdNZfuWt0INB2hb+07Oddm59fr6ofA2c6H87hU4i6BV0Pf59WU/6QPJdDWzffSIcZh/Znr9h2lzbWnzFIcAr2jy+rLHtFHruqdnc5lv36lc/4v7ukctTbcSSVNVGqnqwfg9mNt8EiroVQRW7B0FazCc7yxyXjyx7zQt+cW/Z0H0tfb/PmhivhNL+Dl2zXGkoL/sEeUvnW3TVfLt+Watk6XnL2bfgJfC30GqVTvPDq0SqyMhC0X8SLP5hqWbycPn5o+Pw+SxZnmIkfPpjGEtmgzxa0IjwEx3r36TWp12kk574fvVZVd29evvWzyYvKMNJZqTfm7TjptMWj3jlcymvnbPuKrazJGB99wtTLyy+Xmunh4veze3SYiSq0amX9P8NY8jDPDMPtrReWzyp/yp3G9bUfD/xEty3ThdbXvNBUKfI26rZqlEma6rr2x72Nfp07J84qW9FfmprdukrlcTXmfm5a2VAZNPZ3kc/J7rzwkm3HNML7h5n86gcqj9rvvpeM43ev/3hgU2NbNX7QoRUkWqf48bMFtluL2uSrGLzV7QWQjPz7axoy99Py67O0rWfhx9A4dznRh9+OVpn7S4flV5/4QPJ16s4rWcdrquoWDR1Q8M+x+mTXz/9kUHvTwf/Cj60K1LQXTF1W/kcnXzz3DBaZ+KPB0pJnLC1/3rmeA/tu/y8Y4MitJwJwlqcqY38GL5oD+NfZ2NVZynPyAjQ+9W3TYt/ZUzrZcn32irpZjap1A/qsvu12lnihvw5HeWnNrIpP11SWL6ezTFxjwmzprPIaYSgshamTSog1mAt70YFzPRn7NbPrZjU1tm7AC/3bbmeJ/Dfhff/DgAnehIXqX6GzTJy2MMO6xy8LQ2EpTJ1UhLUwF/aiA+d6Nu8hf/GEscNjzoOGs/yZ8fkfNGXlszE3+eroclgP2dq3VdnmH6Kv594ZGLIPM5bapcawYWX9M2huvT2oArfWVFZIf1WPW9WKujsxeGBlzczyN3uMlKEbc1duOxZzKH+Bf/IL3CKg9vEKwveXVUZ+Tbrv87hvBObU1p+Pl+odCGe5U0Lt5DnM5bxh6czejz5cOxc6tdUv8N8bpVPk8x5+ENWg/+kv7jx5nBwCPqVPwf95FVI7ISpF0amlbsjmEaVokn3qjJqKS6Pk7jxZU7XtHpTrEzRDn+rT1gKshPSyO97aqvpr0BRtUPP8H/f1fn7MGma8Ct60sv5KTH5eEtSB7xUp37eP9Fyhv/ge/AK76Ujx0nn/6tWmEI78+0FMOHc7S7ywt2vluwI/Aj5HZ5k6jQhbYSyshbmTk+hCdCK6ER051+PZb77aFKKJ7Pv4VNbbXZzlJ5hj+BM0CX+HzjIekr2LI2yFsbBGCpGR0NCp6ER0IzrqXeqpfQo/3Lo5ACfHM5ZV3Iam2JeKiornd3WWHXFQu9RY4SnHN9YwYxhAaCFxVf/ffr/6aQDf8EMz2wsxonW7hOa2Xw4yA767sHLovm4303yhqrbuYvyDLEC24yNZ6yAG8/zSV1z4H0suGiaLYnNLE4Ernm0sDR449AMMDvpnNOr4XNluRi3/RjjW37muxTxcV1V3Mb4TuQBvvSidIvKzaEF4zKggv7gSk1xqLuKHUBFaCq5E6he5dYqX6mZ89/PGKTVH1mlqJIud6prZ256YtnzMZbHv9nz1jbk7j2632xdOq6k4r+dY/fJOtx8YdJgx9Dy7tv4GdO5uzFN646LKjhFlEk0c6fuqYT4WfP4bRsr+oeujGE17IQYKDMfLb3HXe+k6l89qbVd18lK91p0nXsqvoUzXL62sYFOdG0yaj+fW1p1io+sbP2bOcGeNf8SHRquKG2N9Ziz0Wa3t0ClGv7qfwcjXDehnexALnW+Ovs6zdBLAgvDj8X9/HZzmRHe+aFV4yIyuuDFbPjP2WtW2x8+oGXO5W8YjHa+bUzcDTf/fK/BZX/vM0rK/Hyl+P7vfzWFy0E8XDVevNn6M37hEmtPczlKibVR1P8TKFx9jRYzZMn+xy6PqeIOaqO7Wp9Q1WsrO56xsmNig6rDAQOTFiholPpdlfX3ZrPIz6SxThj7uhEUHogvRiejGeVB0JroTHTrXZL9+Ds4boFOXs8Sz8pmsBUETvI3O0k0rM8eiA9GF6ER040gR0hl0F9Khc9Ej+7/O23EUppT8J5ZGfAaO/4EcdJYxNUWH2QXLpsbt58Loa7pcDp1iSanhy2ZW1GL4/m4dCHbrpwgtE2dM6/zaTwbFej6V1+auqLvK2PZ65HGSkw9eyI8Vm5LjMPL1IRx3+7XkxOM+vQREF6KTfJ+aIDpy5X6S6FB0KdfWzK27qt100anSqwOW+iYWQQ8P+3c9z8MMEhCdBHX7dWjNWe0S4yTRoejSdS1Dh/G/Az69eNTHU5eN+X/FvhJ8Pk1/bu2cuiOO48hQodKaLR1mF9z4tXgp1gRd2eVy6BSDxLaib/ABnBQt/Urs5gmsv/hsk2r5YqznU3Ft/tMNA9B3+nDQmEfRzIeP7mKT7zla1rXoe52XDUu0paLc/SHNRZdXNIqORFeiMymT6FB0eeuCbZsCCjo1nTpVWOwdy+5hisN9KhhI+lzO/sAzG8pgbN0sOhJdQZ7QZ89COgyaR7HSzsPr5zcMyAY545Vh0tLBe86oKf8W5vFOlIUO4n2uv8ajw3RpVlZtwenAnhbQrpk1ploXWXdgf4PrsahDv6Uxp9H+bNTFFJ1cUbv9hKZDwdcx+O1rrizes7TvdExvedh1jYdZTEB0JTpDzeR9R8ytI9WxNTMwDLNEruit0PG3A7adS5PGHRSe3Id0BZ3BcW5zCoAfQ19rawq+vvaK7dFTUpwIqd5DgMNlIStFramqvzaWfHl5hXcE2gIxp6QcLs3+do8O06XRps11Z8LAQ+ssui5HHR5pNR/5xBWabsdEPZSCk6rahrkBHXwD/SQnOsmjee/RQUW+05bNHP2uc417bxAQnX3jWXX38Vvx5ZDOrbFUqaXn6eBzk9XjmM6w1bnOvTcIiM4wYOZm/OCJjLLH/6sJBN9YN6d+TgZK0W6qu3+ZReTA4J4zIO/PfMrswGoN/w/xonzD5MdGbMf4jKj+9QzIn/Eso6BkXJoMC4Bh4v+AL3K811cx0HR72F9yfU1/dm3dLfgCz2PIpqN5B815+N7f1Wjeu3rhJWWhpr2+5sHn00tAFsYe0KIevuAN479gvVJ+u6O/KWgZ3/vj1Lee+pyV87/u06uR5OSGfs02DAj6ORrbf4YUO5polRmAwTRLQouhJyebeFP55P82bh8cK3LQ1ufjB/evlF/VoSIa1NUdn/hyx0XT8lj3eS4e+3Ox0D2VGaNfx6v8gmfd92vxDbnf+rZ/GgZ+nLJ0gwraTfjtdRw6wkfAuH6bjkW1HXlgsBoDQu7C2qC3uhpX3vMb36wls0b32dE7+XCfPgKi03VzoVMbOu3cjv+73pofUI8+91n91bY8vKQQZ9tIde3KGdaQmavsR5x43HuHAPqlV2HO5gcYUHg7nOdYOCWZ0vdTjEQdNWVpxe0yECzVpUGOjcZnhiGf3V3zyh+kf4Lm4v9UAd1SnJf3L13vy8fH2/bVDe16PdfO6TDdGjeqbNk/Dt/uHiJb2bE6/5/nrKyfgKaKf1La2oYVfc4bqvLOeeDLsRddhjOVf4akbjLdBTL8N/6rvuokjEz+VKqKL82GhRIcmbiPn4A0j62dA52aiE7xMn3H1tYPx9UFDlY2+d99/Gz7ewcLdWiwxY6h6vLHvuAbdMUL9gIdMHb8OTFmNhDAohPbsJrObZaxv4dm2pBO0WR7K2zgKNjC11GrCzfHp0JeNCd+gIVY5Is6G530ZeH+E345AmtlhwadhX+0OfedfaB5+xQs/fd75zxX92ySdWkek8Cb/2nFHvQcdd+wgPWMAQWF36yZVf4dLMT+qz1WIOaqF7KiC156we4p9P6KjITdsKv+SdRG3M7yiREDK75AZ9l7rpl8UkZLvrYhWqfoI3pNaf8dxg6EmtUHNwUOXvm8/46Sg7jeue0tMecuusD69wNFVr5zjXvvEAjpFjoO6bpTbPm/FltI9Qhao3wvo2XqEjetE44acQj9qd9wX+t6vOGaXSW2Cf6HPaD0x13v5do5HaZL437LWr5PH/zRjc+aAtdldeVvGj6DEYybndGzE2aOfhjz5a64svbjf3DiSdNt1cqGycEDLf/jM/onzvW+7q+t3Te0qcV+Hk04FztpQZaFl6uKWQsu0qE+Eec6994gsObafUPbmjDi1UR0ipaLP+DFeVfQbo+qZeQfag9c9Xtz17AmK7yyVPMAc1rNufqHu4f4B3qjxJTSTUB0LLoWnYevwxbEJsQ2wteSfHBGzegtSLLltar6n+ODbz5JXmq1tlbD5BNe666s+7Rcc7Y/z234lAxO2nOg9XHt9/3btIcGRdbOdSLl2F6aDmO1nSe9SdErXOfUYikopf4FvwC3oZthJxYpOAYw6guHl3//ken6kFMOWenHtLZ9D/GGAaAM0TiEAUN/sQr8K5ZdmpwvsssHqltVy3PIMzwMHU0nP8DgnjscObj3FoE1V+0u160tz8FmwjpFE34NfsEvPVJJVk73zd0xzFQ58fLb9dYL16k7xuwI5vyLzGHitT2mE83FIMGwTvGuec8UFF0wbdHw+lSURUa/rn2/Hl1L5vyO9LGon1G77Lz8n+j2tm/ifXYsnDl8KMZoKLUP4zV+W+z3P4aFDA6kQp4sT7Obb6TD7EFjc5/ZO0QfbBldrArqM9HsKTXL/arpZYgXerHCgPHhc30T5uz9sgeReTnLCUjtQe9vetlxlvjxI/2QCwN2MGqg2eGK8bvP+S7aMlLNR4tDqHVInOblL+nvDN/DxQwOxy2b7/kt30WQbz4cVUinIac5sPRzrNFlXGt0mBlXQRwCSJ9lZzPsGZ3R2zCO6MrlsypWxPE4o2QhAemf6myGDekUL8V2fGHkXkw7OOy831hFeeF066wNY9TNGPWYJ/eLDukNVS+Y7xW32G2x4vNa9hOwtHUWvOXNeEOHdIr/99fyS63zJi/kNLEMaq+bw2QfZga1EStrGQ0LZ1mLGkTnixW1EDrLWKg8c01Gw8JZ1qLPskOnqFn21llKoc993X5l4jZ1X6jVAecthWbiyun6dnw2gP/PnrGKaEExqPAVNDdgSb3O+Y+wFbEZsZ3omDzLJAH+g2WSfpe80SSjN+yWqSOuwSBohmXNsgsoD52KTtduqP/vqAE+aIbtTc3SXWxxmuN2qoXONRkItORc60bnnHvvERCnCanDOhWbEdsRG/JeafqnxHSYWaRXWZQA/xxfdUQKDfBhn6WDw5N7WZTArVMZ4JNIn+XhCn3xy8FnRzXq8LRhmXKCxQ2uPtwzvJfdBMQ2xEYcKcV2xIacc+4zS4AOM7P8w7nLcndokglPHJapIxwNG8bjyQNZ+kwmpoeFxzSCeEbDhuPHcTBzdXCpe8qJLG7AZfTiAJfFUUI24ppyIjaUgWX0sphQ5kSjw8wc+3DOspA6hnOH526i/eWJy1X59eEIPPAcgTVV0KmK6BT6fc2Y4K9SUZCqPwZ/5V7cYNsofc3zp/nPTkVeTDM9BEK2IgtZRLafdNpU5AqP0k6ADjPtyKMzlE90YSH1X6O/ItRPgT9/wgo+czqX5IuOzDNPEJDPI2lj/xp90SGdynJ3SvnuwdJoMo0k6ZtGunNW+e4ZcEjywQZb2vgp+8b3x6X+qzlJLwwTDBHosBXfPR22I5PlDVabtX8d69NbRJY+AnSY6WPdLSeZPhJQgRV4wQ3ovPmerA3LFXy6ofLMBZk+YgKBFXjBdepUb7W174ddV/BJdoFkRaDLX/L9UOZlStoYD1/w8qet27mEXrJJpy89sRmxndD3UEM6NSHbSvUSeukrofdyosPMoM4wfUQWITghJAIWP/Yr/6xMLJKQQQT9Luv2JvuXcFYdOsXnnPAFnLuctWFTXVhZe/Zzf7XvQrW2VfKSL508ebb5ZqrzZfqpIyC2IzaEHEI6Fdtq32f/InU5MuXDEaDDPBydFN7DiNirUAu52skCn/65fkklP9Hl8PDifs1c6NREdIp63oPyhYp0luX4LWbbsfXmQSfPPSX6vD9O1dOdc+69R6DDhiI6xXvja2Jr3iuJ9yWmw8yADmc/3nA8Jq4/4GSN6SOPLptZ8ahzzr33CLw2u+F4TDkP6xTNaC/INxAzUZILXjOrBjfrF5y8PyjX17033lfhnHPvPQIdthTRqdia2Jz3SuJtiekw06y/m2tNkQoEZSWf4s6s3ysttK5PsxjMLokE1txsioyCTo2jU70Vx+FaXhKzijupy14yDxYE8AEBbFhJu/CVSYb9mXHTy86IYlP40m5Ip2JrYnNie9kpbf+Uig4zzXrdruoWIMvQx2Ox5N1By/JXLryE60WmWQ1JzU5vd+lU+pqMfTdW8snouq6yruyZfzWu/kz1qafOVvOTWnAmllYCYlPGxmfBOvszsT+p0/bSKkcuZ0aHmUbtV9XWXYxO+2udLC2lb1g2c/S7zjn33iOwrgo6NRGd4osyvwoqszUbSnLCZrP1mAb1/zmyfFKiLvjTKdZk55x77xEQ20ItM6xTsT2xQe+VxJsS02GmSW/SFItmWKldhjb0Wz62bFb5/zjn3HuPgDSHYUBGRKdKrw4Gg+G+w2wo0RfX2M8P3q9XO7JsGK/mc6qJQ8Ob+4BtP4+VwMI6FRtk02x6dEmHmR7Oaruu/zdkNV6yg7NsLDYl30pT1swmVQS21/8bWgw6dKqspoClf52qrPqS7hfX6V/7bKtJ0mj3qVG/n6pn9iU9Ppt5AmJrGjYnkoRsELaYean6vwR0mGnQ8dyV245F7fK2cFZG3/5Q5aBPwuc88ByBtXO3HYsFJ8I6xZcmHlXB7PyIs3xcelw95Ovcdg61v/LBON9o55x7DxKArYVszhEdthiySeec+5QQoMNMCdboRDGF5Bf4GVggV9GU8tqyWWUPR8fgmdcIYEFsmTwe0im0ugEDMv6YzWW4cJ39R/nQtMiIRdbyXj2JCxpks77ika3D5jp0ivgFnTYZz6OM00sCdJi9BBfvY7NX1M1Cx/wFHfF1EMCvR5MsWlG4eZXAmtl1s/ADKKxTozM7hSRejpM3ipw6KPH3F6pTXzjNOjPeZxkvOwl02F6HTsUmQ7aZnaL2C6noMFOoxutrPx6IZrv7nCwA+xdLKyv+4pxz7z0C717/8UCtIjrF8uq/s217sxdK8ukP7M0j9qrfObJ+UK6+vn+AKnTOufceAbE9sUFHcrFNsVHnnPvkEqDDTC7PqNQadVs1LpTLRQwF324NLLpDjrl5l0BTY1s1mgdCOkUpPsH3R5Z4qTQXvKGW+GwV6j8P+NWw302z5nhJfsranUCnDYZ0KrYpNto9Fq8kgwAdZjIoxkij6sn6Mfjs0k3OLa2tby+5aFhoVJtzjXtvEXi9qn6M0hGdognsYay20uKlUgzZF2w5dpsV7kPfPVhfsqVcD/dSGShrNIGQDZqITsVGQ7YaHY1nSSBAh5kEiDGTaLNvw6+9PLmHgT6vLJtZvixmPF70DIGggk5Nh04h9Hs4f8kzwrsEPe+NwEtFreo9uYTR2/61J+jLXbd56EECQRUQW+zQKWxUbNWDxch6kekwU6CiOU/tHAlnGV7RBw7z+ynIhkmmkcDaOTtHwruEdYq+6Zo0Zp/0rPBVk7D8jaXq/LoRanDSM2GC6SXgtknYashm0ytBv8+NDjMFKrbb2m5BsqFFkbVSry+rLM/qKQcpQNDvkjR22y34EeTodBOWKPP04K1pb5u/FLaqTaIoDBopeO3T1qX9Tmk5ViCxSbxvOnQKWxWbzTEEKS8uHWaSEV9bu28oGmGviyRr3Rk55pEXCay5dt9Q49KprXWtF8vRVeZj6iPlQF/mhbuH+Dm6siskj527bVNsVmzXY0XIanHpMJOsngO66SY015V0Jvs2Fil4OslZMLk0E9AHoFPVoVM0r2+x7eDraRYhJdlN/3Pw9YJ2vUUSR+1kwJ9OCV6SkoyYaNoIiG2KjXZkaEo6bDdt2ff7jOgwk6jia57aVYJ+rsjIWGXdyUUKkgg4A0ltuGZXCZpiwzq1lekXtUsH5fjtkfLsHKIv2TOwo9nZuc+99wi4bVRsV2zYe6XITonpMJOol4Nth66HgQ6RJPErb9PEWWUrkpg8k8oAgT0HD12PH0EhnUKr9fge4asZECNlWc5Yb17ND+h6ycC21MA/fcZ3YcoyY8JpIdBhox06Fdvd09Lm6iJKiwj9NhM6zCSpdv56k4fREzc7yaFm+eNqrW3nnHvvEVg/HzpVEZ0qS63EUmT4TdR/NgvfhvrUTrXSKdGO4erS1nztc8659x6BkI3CVsOSG3NLhy2Hr/CglwToMHsJrutjTR81XIg5bSPlOpxlXcn4sse6xuG5twi0N0GnplOnSu8OBO0XvVWC+KQ95//sF/1BvVtiBywzZM1J1mfje5KxspWA2CpauUI6FRsWW85WWb0kFx1m0rRl5rmSWrRwsm53nfPQgwTwAyiiU61WYZ3O0MLlHizKYUUuaDPBEfvUKifStpFqunPMvTcJhGwVNutIH2XLzkXuEyZAh5kwsu4PXP3EnsFoBgmPMPQbvah7LF7xEoE3r94zGKOdwzrFyimrvSR/orKe8FGkfM0D7NM/GaSLE02D8bOLQJTNwpZDNp1dInpOGjrMJKisNXBgNjrXO793qV5/rLJ8YxKSZRIZJNDSCp12fu9SJoNjIEVoYEwGRUpp1lj5pz6ykIHOW3eSPiulGTLxlBMQm3UWMkBmBZ02nfJ8+3MGdJhJ0C5GgVzlJGOUtdg55t7DBIxLp0b369qlo6VRjZFyNgxjs6zDxct747JdDEGMdDF4uVAZlJ0Os4/wZz+x8xh0qk+TZPBrrt0q0uE1OvuYNB/PEIH1s3ceg+bYTp3qAI5fypAoac329I3mJQwUCUimLfnqhE1jrVFpFYCZJZ8AbNfRKfoxzwzZdvJzyZkU6TD7qGodaIv8atPq2WWXlIVGpvUxWT6eQQLtOkqn64Pabs6gOGnL+qhGu7mkRa13Mnz7GMPBPw4Mj+5DtqsjOo2ybY+WKZNi02H2nX7YYaJpdlHfk2MKmSYAPUZ0akcGw2RarnTkX/FxpLxYX5YOMx3QU5yHcQ1Yc9t2irPtl8nTYfZBrVf8ZvtpmMZ+tCSB5tg9x5uKZ/qQHB/NAgKvX7H9NAzgCukUL5f9QUu/kQVipU2Es972v2HZar9k2O5To/4y0fcPacucGaWIgP8NseVQ4rDtkI2nKKf+niwdZh80HAgGzg0/rvVvqyt1W/icB54kYAciOkXfzzpl26E+PU8WphdC5x9qD5QeQLk7ty1HqU87x9x7k0DQbg+EbLlTfLeNe7NEmZOaDrMP7GGEM5zHATI8Sdi5xr33CBgd0anS9lveK0HfJR65L1LuvaVmUt9TZAoZJ+CyZVtzBHRv9UGH2Uty1bUmHx/ePdN5XFt0mA4Lr+7frTb5aI4N6xTNWDnpMCdsjZT7QKE6oS3P8ntVp5S7g4DblrXRZ4VsnXASJkCHmTCyjgc26O1TMN1ggJxh7dgPlnyloq6XSfGxLCGwf8P2KRh6H9IpRGqwbdOYJaKlVYyxDaYxL6AaJFO8aAv+fJw6Lq0CMLOkE+i05U6dmgFi60nPJAcSpMPstZLNDOdRvFTYHOvA8PAe3xEM6xSeIidrl476Sg5Gyt9wlMVmWQeMl/cum46ydS+XKc2y02H2ErgxdvjlarkWOe5lcnwsCwi4dYrm9px2mCP3Rsq/d6BNh5kF9tlXEdw27bb1vqabS8/TYfZC2zfXmiI8NjX0qNbGb/lf7EUyfCSLCKy52RRhalBIpxjMhZZZ9XYWiZd2UY7/EOWHbUvGWPVnwoEiKz/tQjDD5BKATYdsG6mKrYvNJzeD/p8aHWYvdLzT1yADQzpeIMa8u/jyUR/3Ihk+kkUE9M6GM+EdQjqFt9xqK3tfFomXdlHKGu19+W1mq2SMmkneWxPM8WkXghkmlYDYtNi2JCq2Ljaf1AxyIDE6zF4o2QTNOc5jWlvsv3RgeHlvIjrF7++cbo511Fh6MMKhYYg62bnOvZcJRHSKQYvneLkkmZCdDrMX1G2lTnUe01qtdY659zABO6JTvEj4eTaocvjeCIfmAfpoD2uXojsE3LbttnnnPveHJUCHeVg8sW/CSYYHQaBpY0PsWLzqKQIunWLBAk4RgvKG74twOJSvx3lKnxQ2NgG3bbttPnZsXu1CgA6zC5Ajnc59Zu8QfM6rwomXV+Lb5Bxz700Cb82N1qmxff36Y9HxaumY+giHgM8M/2SovzjeZxkvOwm4bVveY2L72SlpdkpFh5moXloPhvtysGBB3eIvjDqQaBKMn10EDimXTpXebetga3ZJmBlpSg4EW/1BHf5c3Qdl9rjMSMJck0VAbBsjZcM6ddt+svLoz+nQYSao3WDQPtH1CPu6XDC8eujWKSZ0s3bpUmRBe4THrkF6rOsWDz1KwG3jbtv3aHHSKjYdZoK4LWXGO4+g/5IO04Hh4b22IjrFeHs6TJcuC1sjPA4VmJGuWzz0KgGXjUfZvlfLk0a56TAThG1rPc55BPO66TAdGB7e27Ye54iPAV0c8OPAwH7goQiPg4X6KNctHnqUgNvG3bbv0eKkVWw6zARxa1cN01I+OswE+WVldO2qYSqLNUyXkoY2R3i057GG6ULj4cOITrGoVbjFzMMFSpvodJiJojZ6nPOI7dN0mA4MD+8xCGKcI75t23SYDgzsR+2K8GjzKTbJuth49dBt427b92p50ik3HWYCtG981hRgaanh8gjWYmyf+OVRWxN4nFGzkMAHN0KnxtGpDmDRsF1ZKGbGRBq/3ezCSxVclApaqrStMI/fxsyYNpKVcUSnYvvyP5CslPt7OnSYCWh43/7GkLMMPaLV7mqtsegPNy8T2LUvolP8GGoy2mAsFzeHgGUbg9DknO8cbJc6x9x7k4DYuNi6I737f8C5xn1sAnSYsbnEvNputQxzbsDicvLjwk75+8veao/oFGVq7i/lSmY5fMEIl70Dg3SYyYSbubTCtt7lfyBzEnkgZzrMRJRk63ANE4sWhCf/JpIE42YXATQ3hnWKhvbwr+7skjKz0vjtCJfmIk2HmVl1JCn3iE6j/weSlHw/TYYOMwHF2lqxhpkALy9EDdoRnULe8K9uL8ieLhn9gQiXlkJdkq58mU9KCYRtvcv/QEoz9XridJgJaFCbyK9rzMHM6e8lJoAtu6PqiE7RzM5lDmNoC02yYS5tlhoQIwoveYxAlK27/gc8Voy0i0uHmQBydJRHvjpvdGsCjzJqlhLA+IewTi2t2rNUzIyK5TMRLkG/5ijZjGojOZm7bd39P5Cc1PtvKnSYCek28nLFtJK2hB5l5KwkgIUowg4TTe6h6RNZKWgGhdImwgUjLOkwM6iLZGXttnX3/0Cy0u+v6dBhJqBZS1vh+Uq2NqxhJsAuW6MaK6JTyxjWMGMoCusnh7kELZ0XIwoveYyA29bd/wMeK0baxaXDTAC5u0kWI8tYw0yAXdZGdTXJ2p0T9LNW1gwJpu2OhQske2OxhpkhNSQ12yhbd/0PJDWTfpgYHWY/VCqLRAIkQAIkkHwCdJgJMHXXKt21zQSSYNRsI6AjLQVoemT/XAz9uGuV7tpmjKi85BECUbbu+h/wiPgZE5MOMwH0trHD/ZaW0eH+zASSYNQsI6DtiE7x6Tb2z8XQD5rvwlx8dqQ/M0ZUXvIIAbetu/8HPCJ+xsSkw0wIfaQ2ggVHw6MrE0qCkbOKgHH1RVtGsYYZQztGR7hgLjJHEsdg5LVLblt3/w94rRzplpcOMwHi7iZZfEeONcwE2GVrVONqjrKNCtekslXeTMgV1BEufo4kzoQKkp6n29axzGe45SzpGfWzBOkwE1Ao5qCF1xo1Rg9K4FFGzVYCJqJTfIm+OFvFzKRcQV+ES167asmkLMw7OQTcto4P0oSXyUtO6v03FTrMBHTrs1R4wXVM9nUt2p1AIoyaVQQsX0SnSvHTVbGUE/BFuAxojfzAiBWX17xCIKLT6P8Br8ifGTnpMBPgjq/IhT/phT7M8ELsCSTBqNlGwKVTfK2EC4vH0E/AF+Ey8CBrIzEQefBSRKcq6n/Ag0VJo8h0mAnAzrOLwg4TTRp0mAmwy9aodl5Ep5CRDjOGotAkG+ZSut8X7paIEZWXvEMgrNN8UxhuOfOO+JmRlA4zAe6DBg6LGJZRw6vxMfoEHmfULCQwYlBEpxjUVYpRoFgmmJtDwLa0Rgh/A3P0XosO04Hj0b3YuNi6I37JiOHhioBzjfvYBPjCj80l5tUFF+lWGFrIaaJJNm/DkzvGxozIi54hcOwC6LTzY+BYjALTSvQIzwifBkE3j9YjOrgo5bNVU/6hdk4rSQP31GYR0anYvvwPpDa//pM6HWaiutRmi/OIFTQTnGPuvUsADmGLI71lWeXOMfdK7RgR4ZEfVDvJxPsE3Dbutn3vlyz1JaDDTJAxJvludh6xVZAO04Hh5b2J6BQjZekwXbr8pCTCI69d02G62Hj3MKJTFWX73i1RuiSnw0yQND6Ls8V5BHMx6TAdGB7eW5Zbp6rCw0VJuuj7CyM8BhwyHyc9AyaYdgLGRHTqtv20C+LBDOkwE1Qa1tUM1zAxOoQOM0F+2Rjd2BGdKq1Yw3Qp6VBBhEdhK2uYLjTePXTZeJTte7dEaZOcDjNB1D6f9a7rETpMFwyvHrp1ailNh+lSZGtehMeIfWar6xYPPUrAbeNu2/docdIqNh1morgLBrztPIKFDCrm/e8OLqfmAPHovlC5dIoVnCzjK/BoUZIqdnOxryDgi6xodWyDtSWpGTCxtBMQ28ZAn/AqZW7bT7swHsyQDjNBpS390uA9GIpd5zzW3hw8zjnm3psEJi2N1qm2gqxlQpUflkc4+IN699BPAge8qWFK7RBw27a8x8T2nXvcH5kAHeaRGXWLgU7zt5yL6Mec6Bxz72ECLp0qY3HgD1S5e1CEQ2FbZGCUh7VM0d227bZ5komLAB1mXJiiIwHam84VOM+pzjH3HiZgRXSqNEc/iyZ3D45wKDloPvKwdim6Q8Bt226bd+5zf1gCdJiHxRP7pvbpF507xtgznGPuPUxAR3SqlJnk4ZIkTfSmAREOZXtUuO8+aRkwoQwQiOgUPwxfzIAAns6SDrMX6hsZLHsVj7WFHtX6xHmP7ziqF8nwkSwiYEaWvYrm9ZBOsfzhWEtZOf2904Zh1qC2fB1a+lEb1T5po34/i9RFUXpBQGxabFseFVsXm+9FMjn9CB1mL9R/X6WWj+iuDT2K1QvaA8HpvUiGj2QRgWn36RasDxzSKUYR4r2iTs4i8dIuynvHoPywbcm4qE1tLG6xO34gpl0SZpg0ArDpkG0jQbF1sfmkpZ0jCdFh9lLRWlurnEeNNnSYDgwP7906Ra0qp5tlPx4cKf/g/VZ4kJuH1Zvzortt2m3rOQ8mAQB0mAnAio6qww4TP8NnRN/jmRcJYEJ3WKeoYea0w2weECl/2cc2HaYXDbqrzC6bjrL1rvF43iMBOswe0Rz+xkQzeh06zQ9KLCxgcOwVv6njVITDI8v6uwMnjl6HttiQTiFsmWXpnPxI+NYyPazdr8pEYfgx2PqZTWpT1iuPAh6WQKctd+pUHxRbP+wDvBmTAB1mTCxHvlhdqdu0Mq84MY3NWqbDwqv7E6t1G5rXwzqFs8jJWubGsZFyFx9S7+W32/wGpleNulNuty2LjYute7xIGRGfDrMP2DEHc7XzuM1mWQeFp/eWS6dYwCAnHebOQZFyD27SbI71tEV3Cu+y5Sgb7w9lS2MZ6DD7AFtbvufDjxvzj9W1Jj98zgNPEtA6olOMKJyiLMvvyYL0Uui2wjx/UzHK3bmN2aH+6hxz700CPivPH7LlTvHdNu7NEmVOajrMPrCvmVm2Xmv1kSSBYdpDNlp1l/QhOT6aBQSm1JStR8ddSKdoxhroU+a0LBArbSK8cnLgNNtSAyXDvKDa8dlNwb+lLXNmlCICgdPElkOJw7ZDNp6inPp7snSYfdfwYicJNNHOc4659y4BvFzCOtXKmu7dkiQued1RkfIO32vCXQ6Jp8QnsoWA24bdtp0t8nlJDjrMPmrL+PPDL1dUMy+a83RD+NM5fUyaj2eIQJ6J0ulkn7FKMiRKWrP9eJhV0lykJjuZnvyhpsN0YHh0H7JdE9FplG17tEyZFJsOs4/0l1828kMMvg8tMYVm2Ty7xVT1MUk+nmECk5eP/BDTSzp1avyYPnR2hkVKS/avT9Bno68r1GeL1X3eO26rvSMtGTOT1BGA7To6FZsW205dZv0/ZTrMJOjY0u4mPJvNsklgmukkjOXSaY6s5LRjWGTFqrLGyAjwTOuC+feegHbZrtume59ibj9Jh5kE/Rf4i5djoEirJIVa5ulX1tZPSEKyTCKDBIoKoFNM2hcRoNPjtKX79Uel3x+nyw8VqNDH0LUx7VPeicxHzaAamHUfCIjNiu12JtHaadN9SJGP0mEmwQYeuWzIXm30005SAW2uco659yaBUx8ZshdNsWGd+vr54J/3jo4M9ik5aL0+dJ854E3NUWqHQJTNwpZDNu3c5L5XBOgwe4Ut1kM6MvhHqavmrzd5sWLxmncIoM8nolOjZhilfd6RPn5JW/O1b9egyEpVY3ayOTZ+etkZM2SrsFlHuihbdi5ynzABOsyEkcV+oPTost/DKHfKXawtW9G8ueHK2DF51SsE8kqhU92pU2WG+33WOV6RPRE5X/ysdU7AZ0Kju/223jPtHfv/EnmecbOPgNgqBvuEdCo2LLacfVJ6TyI6zCTpbOFk3Q7DvNdJDk7zO9UG3ezcPEtg8kLdjmbZsE6VrWai6R1T2frPZlta/32kmumUaNRu9VRBmwk659x7j0DIRmGrYclhwyFbDl/gQW8J8IXeW3IxnivKz38Qb9M9cgu/7o7btLKhMkY0XvIQgSFF+Q9iQFdIp9BqueXXZ3lI/COKunqyPqvNb0IDmixb7f/8n4OsiRyRWnZH6LDRDp2K7YZsOLtF9ox0dJhJVNXDl45ohoHe7yQZNPZ3UdPsVzUSp2y5sp/48IhmKDCsU23rWf2p7B+NjpRn5B7z9JD9qqU/lS8Xy+K2UbFdseFc5JCKMtNhJplqsSnFy1Xv70z25DkrGri+bJIZpzs5UxzRKVoOxlmW7/R0y5CK/FZ/xnd6a54ZJ2n78B3Qz//FFx4VnIr8mGbqCYhtio125KSbO2w39fnmSg50mEnW9EOVgz5R2jwQSdb+98gxj7xIYNpDgz7Bt0/DOrWM6RdN7R+WR8qBdWN/P3xPwPmh50U1UWYQcNsmbPZBsV2CSR4BOszksQynZOXny0CRUNOWLGQwp7b+/PBNHniSgLby70XzlqPT41AjO8WTBekUes3J+pTIQgWq9Yy/2k95uTyUPdRKcIqzUIHYqtgsuSSXbNIUOwAAGixJREFUAB1mcnmGUlt26cidMNiHnKTRRHKHc8y9NwlMXTZyJ/qnwzrF6FlPrxmMlX3C8g9rUn+s2KX2elMzlDpMwG2TsNWQzYZv8iAZBOgwk0ExVhr51t1wmu1yCw7zrKrahrmxovGadwhg5ZS7MakkpFNIfYJP+c/2jvQRSZ8/zX92S4E6Qa5g7nBg6nvm8chdHnmRQKctdugUNiq26sVyZLvMdJgp0lDNl8u3YcpeeHSl0sGfXPFsY2mKsmOyaSBwek35NmXcOrWv0cpXlIask5bFnkG+og/G2Nc4CaLv8ulx9Wa3c8699wiEbFBHdCo2GrJV7xUl6yWmw0yhioaZ/GokXy9Z4OPSo4MHDv1Ajrl5l0DpsPxqtByEdIpSDMWXajy1otP/nq6uDFpqqGjAH1CNF6+xl3lXG5RcCHTaYEinYptioySTGgJ0mKnhGkr1gcqj9qOv62YnC8zJ/Oe5tXWeHizilCVX9yc+cNR+rNMZ1ik4XGRZ1ngv8Pjrsdb43YPURY6sx9ar/x54UB1yzrn3HoFO2wvrVGxTbNR7JfGGxHSYKdbT8lkVK9Dv9VxHNsZnK/UAFzNIMfQUJz9tecUKdP6FdYqlyK5LcZZJSX79BJHThBaQH3hIvXnuG/arSUmYiWSMQIftdehUbDJkmxmTpv9nTIeZBh2jyeQGGHPntxXNGVjM4Jo0ZMssUkjAsqDTzu9lwglNtJSV1VOHfj/FOr+l0EwUJPK9yzPf0b9KIR4mnQYCHTbXoVNk19ppk2nIOXezoMNMg+6XzhzzAUYjRkataXPXtbX7Qn0OacieWaSAwNSlYz5Ac3tYp5a2vqp8/oEpyKrPSe4e4h+4pRzydW4jP7F+c+yW4HbnnHsPEoCthWzOER22GLJJ55z7lBCgw0wJ1u6JFg4v/xGubpY7aJIddkA3/7x7LF7xEoHRheU/wiCLDp0qu9Rvm29ko/x/mGK+EbTs0AjtvKDa8aV1ZkU2ykmZ4icgtmZgc/KE2KDYYvxPM2ZvCdBh9pZcgs89Ml0fQi3zRucxOM0rq1bWs2nWAeLB/fhH9CF8HSuiU2Wm+y3rvGwqyh+mWeftHWimOzJN3KwWFh60nbmkzmXuPURAbAxzu8M6FRsUW/RQETwrKh1mGlVXU1nxO/waDK8WA6e5YM7K7SemUQRmlWQCU2qgU9cKQJg+9E9YNm9skrPpVXLvjddjPyxT/+Q8PLRZPff5v9jrnXPuvUdAbEtszJFcbE9s0DnnPrUE6DBTy7db6qNVhdRI3gndMGaAbQdq5z/dMKBbRF7wDAEz2qVTpQqUtm7DgIz8TBbgQJGV/8ok6zasLVogcuS3q79f+pJamEmZmHffCIRsCraFVEI6xf6dTtvrW8J8Om4CdJhxo0pOxPsqdQs+wTMLzbMHOlM8oemQHf4SRnJyYSrpJDDtPt2SLzrVjk7NWBxndKrJE2fr69ryTKimaxl16HN/1T8ubrHb0smFeSWXQIdNdehUbE1sTmwvubkwtcMRoMM8HJ0U3Vs2s2wDpppc7ySPptmvzllZFx7F6Fzn3jsEJi8r22CsiE4xtOtcn9YzMlGC587QM/aWmHOdvI+tNw8evyXorE7kXObeQwQ6bCmiU7E1sTkPFaFfiEqHmSE1Lp1VsQjTEv7Hyd426oEraref4Jxz7z0C05ZWLELLQVinGL94HQZkjElnSfAVkjEflEdqt0OazfPnrzWr0ykD80ougQ4biuhUbExsLbm5MLV4CNBhxkMpRXEGFVo3oNP+3VDy6M8MqMCK+bWfDEpRdkw2DQTyBlmySEWHTtHXpJV1u7b8aemj3lvqH/Dyp63bjdNvGdB///JLXKAgDWpPWRZiO2JDyKCj3xK2FbKxlOXIhA9HgA7zcHRSfG/hJWUHfcZfiZrmwc6sTmhSB5668VnjdOqnWAImn2wCkxeWHbR8/krUAjp1asZaJvg9n5XnT3Ze7vTaCvP8j58d/J7Tb4nR2K2f+4t9N/st3ZS8dSw2I7aD5v1QX7TYlNiW2Ji3StJ/pKXDzLAul1SOfg9NLl+H00TFAP8aSn1+1/66ZdUGvRTcPElg6hLo1NJfxwsupFM0zZ6kVPBWrPsJP5b8Dclay2YEbz1YKPlggy1N+LtacPwWsy35uTHFdBDAOwH//8FbO2wHf2FLYlNiW+nIn3nEJsCXcmwuab26bGb5MnjKf3UyxVv2sg0r6h90zrn3HoEpy6BTFdEp9HuG5fOlZORszfm+bzYPUGc4lMbsMA+f94b9knPOvfcIaO37ptiMS/J/7bQp1yUeppsAHWa6ifeQ3/LKinuhjHuc21jJY37VirrvO+fce4/AGcuhUyuiU2XsL1raNzeZJVk53Te3sdT+opPmqE/U45e+bD/lnHPvPQIhG4GtOJKLDYktOefcZ44AHWbm2HfLGSNnb8f8qkedG5hu8h9YPu+fnXPuvUdgytJonWplqvyW76JklOR3n/NdtGOYqXLSGtysX5i5yn7EOefeewTENsRGHMnlfSA25Jxzn1kCdJiZ5R+VO/45zMTh5dL39bvwDdvcP3tF3azwOQ88RUB0OnViufRRR3Sq1Hys2nJmXwrywmnWmVtGqvlOGiUH9RtXvGAvcM659x6BTpsI61RsRmxHbMh7pemfEtNhZpleq6frQGmRJaMsXxPR0DRr4fMmj9FpZpmiEhBHV+tAfqklo6E7dIoBXVi44pbeOk1xlhvGqltCtgE5ig7pDTNXm7t0wOD75Ny8SEBsQWwCrUod72TYitiM2I4Xy9NfZZZRe7F+vaRkNF9/hZiKcsn3MverppeRdmgxAzhQW1n6ppqZ5b9MRX5MM/UE1ly7b6je3/Qy/uE6dKqhU6UWBuzgs/HmLs2wUrN0nGV+u956+Uv6O8P3BPbHmwbjZReBzib6+Y6zxMv3PTOw9HPTHhr0SXZJmnPSdPONdJhZbANX1e4ub1Utz0HE0AtWREXzzA9qZlXckcViU7TDEFhz1e5y3drynOM0JapRusY2waWHeSx0Swb4uPssxVleuE7dMWZHkC/WI8HL0vsywCeqz1KcZUHRBdMWDedShpnXGR1m5nWQmARS0zygmp9BjSI8xBy1zYUTZ5VfV91RQ0ksQcbOOAGpaaoDzc+gqT2sU3zh5A92MPig0fh4U5dN5lnK1BH3aFhphr30Vf191iy7wPLIqcyz7Jg6EhkNG2qyLy75EmuWWaPEbv+LrGFmjW56FkQ+/9XUYtfCaV7sxILinhgxsGLOgot0q3ONe+8QWD+/YUBbk10LpxnWKWano4/Td0/Qbg/3W8kKPrIogXuepQzwkT5LruLjHX27Je1Y9QmLErjnWWKAj/RZchUfN6mMH9NhZlwFvRSgerXxb9hd/9/yZRMnCTjNP5Wq4ksXVg7d51zj3jsETLXxr90QrVM00L5ja98PjR04KGvDynJ34RV8UDSZOiKjYTnAxzt6dksqa8N2LHfXuSoTbqKb5dHQaFgO8HGjyoZjOsxs0EJvZYCz1HNX1N2FkSK3utJ4z6/8s2SJPdc1HnqEgOh03Vzo1HbrVG/9sFw9+txn1VedtWGlOLIoAedZekSxMcREG+yYjoXUO9aGlSiyKEHnXN1uL+cYSfBSegl00wmbZNOrgKTkNru27hY03/0EzXmiP/mJelC+r7lsZsWjScmAiaSdwGuzoVOlfoJmd/3+p5Ra9RltAlZYv0aWu+MKPmlXS9Iy7PieZegTXQWSKMYhyMv4X7mCT9IQpyIhOsxUUM1EmlW1DXONtn8NpznAyV+adkoLrevlKyjONe69Q+CFq+uufvkk9ev3x5rwl018tg4et00tOPeN4CrvlISSOgQwvzIf/5dYQzjy8Wc4y4OykDrXhnUoZe2eDjNrVdMLweSD0/INTTwannaCY3wpw1+5bObod3uRJB/JEIE5K7efaNuBWmQf1uWwJqUuWqvU0Ga9FevQ3h1UZmuGxGO2vSDgU3osRj/fBmc5Nvw4vmcpn+jiV0fCRLL5oJvD5Eo/2ayuI8gm/ZaDinyn4RfrI66oJ2BO3+tzVtR/zXWNh1lMQHQlOoOIYWf5qZ36gyrUKYc2i+B44Wr9U5/Pd24WF4OiuQj4Les80ZnbWaKm+Uh+qe90OksXKI8dsg/TYwrrSVwMBrrKNuoB9IEVO3HwD/pYsSn51kOVXDHEYZJN+9AcW938cwz8udKRCz9+Dkh/NBbiX7Rmbt1VWAvoAdyP6FTp1QFL/1oFubKPwyyr9j7/QL9tYyUmdY4jF/4PD2DBu+unLa1Y5Fzj3hMEutUw6TA9obf4hJz9eMPxKhCUZr2ODwnjAP+sjRhHcvuyWWUP47ibAcSXMmMlk4CMjJ2zouEajPu4C8fDXGm/o/y+yuWXl73vXHttdsPxRnXRqbKabGM/aiv7j0487jNPAP2V51va+qpRdqlLmne08lWesTyiU9c9HmY3gW7vSzrM7FZYwtLdXGuKtqu6BdD0te6HUXN5De3v1y+trPiL+zqP00tgbm3dKZgWJC0BkVV+IAL+ER8arSpuvK9St3SVaM3Npkhvh05NtE7x1AasDPSgbdubuz7D8/QRsCxrvDahgT0T3blqrR4yoytunHZfd5264/E4awnQYWatapIsWFVt3cV4KcvnnsZHktZBOM1fWAOL7lhykQwp4ZYuAlc8i4Xt9rd8H87yBvRr+Vz5bsaPmRtrKivcn/9y3Y4crququ9g2Rn4MRekUk09+h++ULEFNtJuzjTzNo2QTQM2xSFvqCrTbYLWmiE7x42cz5lzeOKXmyDpNtkxML6kE6DCTijPLEwvVNnX9v8Fx3oZluELzv0Rk/PLdjqUsv71sZvmyLC9CvxBvzsr6OcbYP0UNcXS4QFq1wlHeXTi8/EePTNeHwtePcCC1TbW9/t8wnQijLyM6xfEn0PHDQWW/dIQkeDsJBHzKOhvNAtcgqaGu5Frxz3X36MLyH41/JH6dup7nYXYRoMPMLn2kR5q5K7cdiwFBv8AL+wJ3jnhhv4Lw/WWV5ewLc4NJ0vGc2vrz8WPlDoSz3EniB8tzGNhzw9KZYz5wX0/keO1c6NRWv4CTjNIp0ngPzrQGU1DY9J4I0DjjYqrIKXCKVYgeHtEcelR0aqkbpi7tvU7jFIHR0keADjN9rLMvp9BHqI25D5KVu6VDExKmNFh3YmDQ0xwY5CaT+HHngJ5LlLL/Hf9tp3dJoR4v25uXz6qQubNJ2dbMrpuFz0Pdh7y66nSTrXWtbYemqyQlr1xOxLJ8p1vGVILzcW4O+N+px+fZbp62PHk6dafP44wSoMPMKP4syPz62o8HNuq2anxF6iZYQ14Xkd7GWpd3TpxVtqKanw7rgubwp9XGWJtWNlQGjf1dxDzZHRsv1XZ8ouv+YSa/+oHKo5L+oed3r/94YFNjWzVG3d6EVoQonaIFYYutTK2xzauxPh3mlpPH0QQwkAdrpeuztK1noZVgnPsuWgnaMfr8/tJh+dUnPpB8nbrz4nHGCNBhZgx9lmVc9WT9GNVm3waLkNG0RW7x8JLdhJrmj0vGlz22cLJud9/jcTSB+etNXvPmhitRs/wOXqpRtQ/EbIGzfEjlW3fXfLl8W/STyT97vap+DPowpb/6Wug1Sqfoua5XlloZCNovokYaTH7u/SdF1Bh9fp91jrLVTAzm6Vpzb0Hf5UPow7z79JrU67T/UPVkSegwPam2FAo956mdI+22tlvwa/l6vBwGurOC06zD+SK/0Yseqyzf6L6X68dX1tZPCGhzFThcBWdZEcVDa6zPYx608vPvXXbpyJ1R99JwsnbOzpHGbrsFL/7uOlV6N174q+BYV6PWWZ8GcTyTBT7pXA5HOB0/OGbgx8/waMF1M35oPKit/HunLku/TqNl4VmaCNBhpgm057LpWHWm6Sa8LKSpdkjXAkg/p1HWYqtI1yy7pGx31/u5cD7n6Ybhdoup0sqeB0Zd+yfhh9Qe/Lm/2JTenw2rK625dt9QfaBJ9Cl6jaXTTVhDYTUGCb0U1HZoEb5c0KO7jD5jlaBf+Wys6TEdnLq2EKBirvZAr/eb4tL7pz3EFbPc7HLgGCYRvcEW8K/UfZPr3HKQwDVP7So52HboetQ4b8av7JFdEcAw2vESeRZGs+h4U/FMdaVu6xqnP53f+Kwp+PhA3cUo91X4T7kI5Y7qI5Syogl7J/oP7xuQX/jAw5eOyDrHs+GaXSV7DkKnGJyC2nAMneoACrHe2PbqoKXfUFgFvj/psGtZfFaeX9mB07RlSW1yMuw8/HUYJy5aV9AyYO4bMqDwgYkPZ59OHTm5TymBbr6RDjOlvL2buPTNNX3UcCFeGvMwWOQSvFjC8zidUsF4UKPSv8ViCKswgXvVkq9USBOu57crflNXgYUAZmCRgRmoff0j/mu61c7gYFoxKORpOKHFpUeX/d4Lfb3r55u89qaGC+Eg5qFcGMnbXaco6378AFintP0Wjt+ybdPoeYWiAPic1jDY6yRlrEko/xQcR3U/dJZR5lE+jfIvzist+/3khey/7w+670MZ6DD7AC9nH736iT2DWwMHZsN6pL9uWk8g8Kv8A8RZhTmGq/yW/8XFl4/6uKe42XR93uM7jgrYgXMwV3UGXqQzUMZje5IPZVyDOIsK/MXLH7lsyN6e4mX79Tev3jO4pfXAbPwQQs25Z52iHA2I8xZWE3oL+7exfu2+bC+byId1XQfhR83JWIVnEvaTcKmsR7mhU8RZVFRQvPzUR7yr0x7Lxxu9JUCH2VtyfK6DwOwndh6jA23zcDYPUxiO7pGLLPRuzLsYmL8KQ/DXwvI25JX4Ni3+wqgDPT6Thhvz/ndHcXtz8Dg4vYmQfypW4JmBWsWJkBWXYm+Q/yPcWWz8+YuXXzbyw9ixvHt1/eydx7TrNumXRc2zZ52i5gVk8k1ODedpNqIWWmdsXz2+cd2aydJbxlegrWA5ao8V0OUEtIpMgqxjIWuPOoWD/Ag3F+eZ/MWTl/c/nWZSH/0obzrMfqTMjBflit9sPy0QDJyLl9MMvJrOxEt0wJGE6hx5uxGWuBE+daOlfBttn9448cujtlYnae5nNeZEbnhyx1graCbYKjgBvnACXo54kSocdxnRGktgrQ/C3b+KF+4qv8//wpKvjH4jVrT+eO31K7afZgcC52IKIpqj1ZlgcGSdYuQt5nrWI349flygWd6qx4LwGIFrdiVr7qfMiYSjHoGFzjHNwy6H54ZzVOWW0uWQscuI1u6agY0eRPxX4fJXWX7/C6cvyR2ddqfBK3ESoMOMExSjJUigutbkb9Dbp+AliSZN1NqUmoqQH28yeBvKYKLdeBE2wql27s0+VBKw5ipmjGoja6+GBhjhBZlvGV0Aa85HpacADnEQXqfD4AyHyx4v7uG4121wzmFkkXTXSm0YL+VVE83odf19MNNhWIRvvVtt8vdv2D4FzjCkU+hhaoh5OMbhD6CvAHQli/xjIJQO7aFf+d5nu61VACvntNuII6lYGHiDlYnyLKP8aBrPgx7lG6AlsCf5VFYJ0ipFWt0G58izsTaxGcga0imc6qqBE0evO7G6fw9Qi8WB1/pEACYUvcGu8Hrpvsl1biTQawKy8PtOX8OZJmjOweCZU/ECnBRX7a7XOcb/oNRy8eJ+C4OV3tQ+/eLIYNmrsT6rFX+KuREz9JmxnQ3SkiCT+k/FD5ys0ineZG/B876JZtkXzciyV/lZrdywyxSWsptvpMNMIW0mHU1g7jN7h6jWgycHg/aJqFGMR41iHCaDj0ctclw8zWrRqR3+DDUSTNA3WzB5fzNqMltQk9ns81nvqoIBby/90uA9h3+ad+Ml8NbcvUMOqQ6dags6tfU4cB8P/uOkxh9vOvHEC7U8KLMF9rLZsqBbu0OnhWrA25OWUqfxMGSchAjQYSaEi5HTRkDmO+7b3zi83WoZpmw9HE12w/CCLMFqNJjOgiZYbaEJ1oSaePEybrONjYEmug2rs7TixdyMprxGZZndeXZR46CBw3YvuEhndCBK2sBlcUYf3GgKdu1rHG61t2BKhx4etNUwfCeyBPoqwA+lfGNZBaitdjTba+jStlvxA6cNem/Fdz+bfZZqhM5323lFjSMGDdt97ALqNIvV3R9Fo8Psj1plmUiABEiABJJOoJvDRDcONxIgARIgARIggSMRoMM8EiHeJwESIAESIAEQoMOkGZAACZAACZBAHAToMOOAxCgkQAIkQAIkQIdJGyABEiABEiCBOAjQYcYBiVFIgARIgARIgA6TNkACJEACJEACcRCgw4wDEqOQAAmQAAmQAB0mbYAESIAESIAE4iBAhxkHJEYhARIgARIgATpM2gAJkAAJkAAJxEGADjMOSIxCAiRAAiRAAnSYtAESIAESIAESiIMAHWYckBiFBEiABEiABOgwaQMkQAIkQAIkEAcBOsw4IDEKCZAACZAACdBh0gZIgARIgARIIA4CdJhxQGIUEiABEiABEqDDpA2QAAmQAAmQQBwE6DDjgMQoJEACJEACJECHSRsgARIgARIggTgIiMPcHyPe6BjXeIkESIAESIAEcoFALB+4XxxmQ4zST45xjZdIgARIgARIIBcIxPKBIV+5BKU3XcJLOGdzbS6YBctIAiRAAiTgJiC+T3xgV78ovlLNinFDIt6JQKcJCNxIgARIgARygoD4PPF9XZ2lnIuvVHkIf0OIFUG87CUIsdpzcZkbCZAACZAACXiegPg48XWxapbiG8VH5mn8ke0yhMdDR/xDAiRAAiRAAiTgJnA5Tp7wdV7ZgH0xwpmd59yRAAmQAAmQAAkodQ8gLBAQjsOU4xcQBiDQaQoNbiRAAiRAArlOQJzldxCkWTbKYcqFPyK8hSBDaocicCMBEiABEiCBXCPwIQr8dQSpWYacpQBw+jDl2L3JQKAvdwZxnmUIAxG4kQAJkAAJkEB/I7AfBZJ5lusRnuwM7dhHbf8/pJHOCG4ZG7AAAAAASUVORK5CYII=)"
      ]
    },
    {
      "cell_type": "markdown",
      "metadata": {
        "id": "mVHzZBV7I0QW"
      },
      "source": [
        "**Unión.** La unión de dos conjuntos $A$ y $B$ es un nuevo conjunto $A\\cup B$ que contiene todos los elementos de $A$ y/o todos los de $B$.\n",
        "![setUnion.png](data:image/png;base64,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)"
      ]
    },
    {
      "cell_type": "markdown",
      "metadata": {
        "id": "5D-fpEVyJEun"
      },
      "source": [
        "En `Python`, la unión de dos conjuntos se consigue con la función `|` o bien, con el método `.union()`"
      ]
    },
    {
      "cell_type": "code",
      "metadata": {
        "colab": {
          "base_uri": "https://localhost:8080/"
        },
        "id": "L3i5RxQ1IthU",
        "outputId": "a9ea84e4-91c2-4176-d317-b3758a499cae"
      },
      "source": [
        "A, B = {1, 3, 5, 7, 9}, {0, 2, 4, 6, 8}\n",
        "A | B"
      ],
      "execution_count": null,
      "outputs": [
        {
          "output_type": "execute_result",
          "data": {
            "text/plain": [
              "{0, 1, 2, 3, 4, 5, 6, 7, 8, 9}"
            ]
          },
          "metadata": {
            "tags": []
          },
          "execution_count": 25
        }
      ]
    },
    {
      "cell_type": "code",
      "metadata": {
        "colab": {
          "base_uri": "https://localhost:8080/"
        },
        "id": "n-LT27fIJKri",
        "outputId": "6a2b648f-89bc-41c1-976c-f49ec037f5c0"
      },
      "source": [
        "A.union(B)"
      ],
      "execution_count": null,
      "outputs": [
        {
          "output_type": "execute_result",
          "data": {
            "text/plain": [
              "{0, 1, 2, 3, 4, 5, 6, 7, 8, 9}"
            ]
          },
          "metadata": {
            "tags": []
          },
          "execution_count": 22
        }
      ]
    },
    {
      "cell_type": "code",
      "metadata": {
        "colab": {
          "base_uri": "https://localhost:8080/"
        },
        "id": "r1mndNGTJMkF",
        "outputId": "45a5017f-0bac-48f6-e4a4-ce0b19c2d1ba"
      },
      "source": [
        "B.union(A)"
      ],
      "execution_count": null,
      "outputs": [
        {
          "output_type": "execute_result",
          "data": {
            "text/plain": [
              "{0, 1, 2, 3, 4, 5, 6, 7, 8, 9}"
            ]
          },
          "metadata": {
            "tags": []
          },
          "execution_count": 23
        }
      ]
    },
    {
      "cell_type": "markdown",
      "metadata": {
        "id": "cZ3H6MOZJUUh"
      },
      "source": [
        "**Intersección.** La intersección entre dos conjuntos $A$ y $B$ es un nuevo conjunto $A\\cap B$ que contiene todos los elementos comunes de $A$ y $B$.\n",
        "\n",
        "![setIntersection.png](data:image/png;base64,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)"
      ]
    },
    {
      "cell_type": "markdown",
      "metadata": {
        "id": "t6go6WipJiE8"
      },
      "source": [
        "En `Python`, la intersección de dos conjuntos se consigue con la función `&` o bien, con el método `.intersection()`"
      ]
    },
    {
      "cell_type": "code",
      "metadata": {
        "id": "2Kes2fz_Jp5w",
        "colab": {
          "base_uri": "https://localhost:8080/"
        },
        "outputId": "96c08a16-6174-4cb2-9a3c-2389a30e9983"
      },
      "source": [
        "A, B = {0, 1, 3, 5, 8, 13}, {0, 2, 4, 6, 8}\n",
        "A & B"
      ],
      "execution_count": null,
      "outputs": [
        {
          "output_type": "execute_result",
          "data": {
            "text/plain": [
              "{0, 8}"
            ]
          },
          "metadata": {
            "tags": []
          },
          "execution_count": 26
        }
      ]
    },
    {
      "cell_type": "code",
      "metadata": {
        "id": "1R1CwCPxJrv9",
        "colab": {
          "base_uri": "https://localhost:8080/"
        },
        "outputId": "2148d1cd-1194-4e60-b3c5-9b03ef843975"
      },
      "source": [
        "A.intersection(B)"
      ],
      "execution_count": null,
      "outputs": [
        {
          "output_type": "execute_result",
          "data": {
            "text/plain": [
              "{0, 8}"
            ]
          },
          "metadata": {
            "tags": []
          },
          "execution_count": 27
        }
      ]
    },
    {
      "cell_type": "code",
      "metadata": {
        "id": "SLpGYZhNJtU0",
        "colab": {
          "base_uri": "https://localhost:8080/"
        },
        "outputId": "a80b06b9-d7c6-473a-ea36-affc040078c6"
      },
      "source": [
        "B.intersection(A)"
      ],
      "execution_count": null,
      "outputs": [
        {
          "output_type": "execute_result",
          "data": {
            "text/plain": [
              "{0, 8}"
            ]
          },
          "metadata": {
            "tags": []
          },
          "execution_count": 28
        }
      ]
    },
    {
      "cell_type": "markdown",
      "metadata": {
        "id": "-jYOC3YzJo_O"
      },
      "source": [
        "**Diferencia.** La diferencia entre dos conjuntos $A$ y $B$ es un nuevo conjunto $A - B$ que contiene todos los elementos de $A$ que no están en $B$\n",
        "\n",
        "![setDifference.png](data:image/png;base64,iVBORw0KGgoAAAANSUhEUgAAAcwAAAFACAYAAAAxqUwlAAAAAXNSR0IArs4c6QAAAERlWElmTU0AKgAAAAgAAYdpAAQAAAABAAAAGgAAAAAAA6ABAAMAAAABAAEAAKACAAQAAAABAAABzKADAAQAAAABAAABQAAAAABNy4RNAABAAElEQVR4AexdB3wcxdWf2b07Vcu9qNjYgLHBlBAcsE0KEBISaiiWJYMNgcQQwCaEQAIhoPCFEEoCAUICCc1NskzokBASSgLGGIdusDFgY0tykZtk9bvd+f7vpNk7NUsnXVvdm9/vaWZnZ2fe/Oe0b+fNmzdScGAEGIGBjoCJDn4FlAsaAxoO8oO2gl4HfQrqGKjMSaDJbTQJ8QGg7aC1YfQU0ttAHBgBRoARYAQYAVcjkAPu14BUG9Ui3giqa7u2EP8ZREKVAgnKm0FUzgZ9DnoWdBvoh6BfgBaB3gLtBVE9vwENAXFgBBgBRoARSEEEtABxe9dJyDWAjgFld+jMIFyfDyLh+BcQCT5K04zxclAWaBboENCFoFtBVN/xoFGgTNDPQDtBu0E/AXFgBBgBRoARSAEESF15O+gzEM2uSHhQ+jHQuSASEG4LS8HwP3tgmoQhzUCpvzeAwgXrA7g+C3QRaDVoD4jKBkDLQNNANIv9PxDNVq8BcWAEGAFGgBEYwAicir6RwPgf6GLQCaBzQD8B/R1Ea36bQXNAbgofgNk7emD4Ptx/EjSyh3L6NpWjmenbIBKer4KGga4A0YdGMYgDI8AIMAKMwABEgNSKtBZ3OUh20z8ymHkGRAKiDOSG2Sb1pQn0fVB3gWaOpGrtrt/dPafzj0OCVLi0pkkzTRLOzaCvgjgwAowAI8AIDBAEDPRjIYjW4I4FmaB7QK+AugskVBtBb4KSXWiSipkE/DdBXYUMZNLHQn/DoaigGvRfEGHybxDhw4ERYAQYAUZggCBwJ/pBxioHg0h4kFqS1LIngvYVDsPNjaBl+yqUBPeITxKYX+qGl/2RTx8N0QhTUQm1dQmI1NaUpo8QDowAI8AIMAIuR+BS8E9GKt8FeUD/AlWBjgD1JhyJQmR9en1vCieozHFolwTXeFBfQh4eug5UCrobNB20r/AObhINBpFa9tcgDowAI8AIMAIuRuAk8E5WniQMKPwZtAt0EF1EEGgmRUYu34vgmXgWPR2NkcAc3odGv4FnSPVMgo8+Jj4B0XroV0HdhV/hBuGaDqL13pdBHBgBRoARYARcigDtH9wOWt7G/3zEZAHbkxq2rXiniGZeu0FkJZps4VwwRAIzLULGaPZcA/o9iAx5KJDq9m3QH+iim3A48gnLSSDanrIRxIERYAQYAUbApQjQOuUHoGzQUaAWEBny9DV48eDHoN/1tYIYPjcPddOML9JAQnFFh4do1rgF1JOR0CEoQxa3PwftAHFgBBgBRoARcCECF4BnWrckIxiy5lwLegLU33A2KiDV5fj+VhTl569AfWTEFGkowQM0wyRjKAo0y6QPDZqZ54J6E65CIbKc5cAIMAKMACPgMgSGgF96gdMmfQoUk5HPcLqIQliFOpZEoZ5oVkGzPBJykYaheOA9kF6/JNxodjkd1NtwLwqSCpcDI8AIMAKMgMsQuAv8koqQ1hq/DiJjnW+DohVoryPVeWS0KoxCPdejjoo+1kMzcJol0kfANSASopGEd1D4/kge4LKMACPACDACiUeAVItkjEJ7BNNApIp9EBTt8BIq/Gu0K+1HfWS1uqEfz/f10Ul4kFTfdKQYB0aAEWAEGAEXIfAP8ErqQbL0pK0gNOsiFW20QyEq3Asig6JkCDeDCdoOEu9QjgZphsmBEWAEGAFGwEUIzACvtLXiayAyWDkf1Fsn4ygaUaDZ607QRRE9FbvCt6LqNbGrvsuaCV9STX+vy7ucyQgwAowAI5C0CDwLzl5v4y4fMc0wexPIMrQvgYxd3ujLgzF4hra6vBuDeruq0kQm7WklQ6FfdlWA8xgBRoARYASSF4EjwBrNLs+MgEWahS4G0SzpQ9ApoEjCUShMbR4SyUMxKktOFd6KUd3h1U7DBam8qd9/CL/BaUaAEWAEGAF3IFAGNj8F9dbBuA9lScCsBp0M+hNoKygLFEn4CIVpS0eiAwmvWAlMmq1fCPobiD4uyEHCTBAHRoARYAQYAZchMBr8kmXsZRHwfQHKNoHGtj1DArQBFMkMlR69E/QKJRIcfo/2/xcDHkj9Oh30AxBt19kIotnlKtCXQRwYAUaAEWAEXITA1eB1JygzAp5pRvloh/K7cD23Q15Pl3QCCrncG9RTwRjfvx31x2MNk2bwJ4JovZhmmrRvkwMjwAgwAoyASxD4GHySwIgkvIrC4QYr38A1qRvHgyIJWShMxi+nR/JQDMr+FnW+H4N6u6tS4gatm9Jss6i7QpzPCLgVAY9bGWe+GYF9IEDqwsmgSGeGFXjmBBBZulIdN4JeAW0ERRLqUXgF6CTQ0108SDOyMaAC0FAQzYKJ0kCk7iTBQ4EEjwXSa4QkhEllTDHt99wN2gOqBlG5joHyqK14BeJ3AYhm1w+DaC03ngIbzXFgBGKHAAvM2GHLNScOgXPQ9GbQWxGyQAJyJYjUsCSkykA3gPoSXsFDHWeY30AerfkNAZGwI8FKApDUmNQekQ4kNEnYEZEQ9YJoTZUoHZTTRqT2pefeBp0FqgTpQAKTno13+AUaLARdB+KZZrzR5/ZihgALzJhByxUnEIFT0PYTfWj/UzxD1p/HgEjwfAbqa3gPD14Lov8xEogUTgaREP8naH/QCBAJPBKAJBBpZkazx45Ea7H3g74NegEUHkigEs+/Bd0EugikA7WbiP9x4v9XIOJ5PGgjiAMj4HoE6J+NAyMwkBAgQTQJ9HgfO0Uv+/+A+iMsqWlSRZKKdTJdtAUSjjSjXAAioUzqWLLC3QL6HLQdRPdpFknClPryJdCxIHp2DojqDA80u6TZNBksnRp+A+k6UFaHvEguh6MwCb5VoPWgxSDiqzfhERSiGXRxbwpzGUaAEWAEGIH4I3A5miTBkwhVZHhvSaVaCzo3LHMR0rGyIM1F3bSGOCysvXlIEw99CSQY14Do+VLQzSASzLRHtbeBPjyW9bYwl2MEkh2BRKhrkh0T5s/dCEwH+y+DaP0ukYGE14egw0FL2hjJRkwzylgE+kigQLPWXcFUq2FQX2aYpB5+AUSq4K+CaL2VAvVnKYiE6Q5QT+FdFPhWT4X4PiPgFgQMtzDKfDICvUSAXNO908uysS5GM7K8sEZotharma/+QAg3HNqD9uh/fHAYD71JjkShL4OuBmlhSc99HVQJIkHam1CFQlQXB0ZgQCDAAnNADCN3og0BmsFNBCWLwKRZ36g23iiqBmWGXUczSSpgCv7WKPiX1kYpjG6Nev23BiWJVzIkKgDRLPU3oEtA14No9tybQOuuVBcHRmBAIMACc0AMI3eiDYEpiOk3TarDngK9zE8ETeqpYNt9EkhUPxnC9DaQ0AkXmDQ7IwEUi7A/KiUr221hldMMj0KkArMez8wEETYbQTTLnA+6FPQIqLeB1MM0y+XACAwIBHgNc0AMI3eiDYEhbTEJqp4Cbfx/CURGOfeA6BkSaEQkaNJBpE4kgXcA6CAQza7WgHobaJ2P1vt0eBGJG0AkgDaAaK2R+KB1zWYQzQ41BZAmNSsRqXHpf9XbBWUhj4T4d0C0ZkjP60DtkxAdqzMiiF9te+4ExCT4XgHpdVIkexXo2Vd6VZILMQKMACPACMQVgbPRGgmgSEMaHlgM0gKKVI6aViM9G0QCNNIwDw9UdXjoe7j+I+gZ0Gsgmg2TkCYhSoKTeNBtd4xJiNK2E1oLpXrXglaAloNuAx0G6hjeQ8avO2bG4ZqMnYj/4+PQFjfBCDACjAAjECEC56H8zgif0cXJKvR+EKlec0A0M/w3aAmor+EKPPh5Hx6mmWQGiGaPtC5LaVI19yUsxENP9uLBI1GGZrHRCmWoiIye+sp3tPjgehgBRoARYAS6QOBY5NGsJlLDGlJZ0uxtGig8nIkLUpVGugao61iExHP6IkExrTvWgHqaIZNa95Yo8Xgh6rFBpCbmwAgwAowAI5CECNAaJgnMoyLk7TcoT+t/HQPNuGiW9OeON3pxPRFlSMX6g16UjWUREvb0MfDDXjRyM8r8HkSz7L4Gwr4OdFdfK+DnGAFGgBFgBOKDwCto5vEImqJ9kntBRd08cxLyaV3xgm7ud5X9VWR+AfoPKBlUkr8DH02gr4P2FWgt92PQU6CD9lWwi3s+5P0KREZGr4KoLg6MACPACDACSYwAGZuQpSgZwhT0wKeJ+38DkeHMvgTbT3GfVLOksqQ1xe7CJNy4HUQzur+AkkVoUD9JNUwzv+tA3aln83GPLGtplk59eAg0HrSvcCBuEj5kPUwYXQPaF5a4zYERcCcC0p1sM9eMwD4R+AruPgCil/kdIJrx0Au9GkTrmzR7IuF2Pog82tDM6xPQvgKVJYFJ/zMvg9aBSF07EkRroFQHWal+ACKhuQiUTCELzNwA+jGIBCcZNL0FIgFJfRoOIiMlstY9BVQIuhw0DlQB+rSNyKhqFIhUvYQv4UhWu8+CCJ8PQRwYgQGJAAvMATms3Ckg4AGRALgSRDMnCvRiHwSi3z3Nop4D/QS0HtSbkI1Cl4COBB0MohnsVtAXIBLIpaD3QMkc9gdzxaBvgiaDSFDaoBrQctD/gbaDKJig00DU3/Gg/UDDQNUg6vcW0Eugf4FIFcuBERjQCLDAHNDDy51rQ2AwYhJwNCPaA9oMIiFHaQ6MACPACDACjAAjwAgwAowAI8AIMAKMACPACDACjAAjwAgwAowAI8AIMAKMACPACDACjAAjwAgwAowAI8AIMAKMACPACDACjAAjwAgwAowAI8AIMAKMACPACDACjAAjwAgwAowAI8AIMAKMACPACDACjAAjwAgwAowAI8AIMAKMACPACDACjAAjwAgwAowAI8AIMAKMACPACDACjAAjwAgwAowAI8AIMAKMACPACDACjAAjwAgwAowAI8AIMAKMACPACDACjAAjwAgwAowAI8AIMAKMACPACDACjAAjwAgwAowAI8AIMAKMACPACDACjAAjwAgwAowAI8AIMAKMACPACDACjAAjwAgwAowAI8AIMAKMACPACDACjAAjwAgwAowAI8AIMAKMACPACDACjAAjwAgwAowAI8AIMAKMACPACDACjAAjwAgwAowAI8AIMAKMACPACDACjAAjwAgwAowAI8AIMAKMACPACDACjAAjwAgwAowAI8AIMAKMQB8RkN0850X+99poKuI8UDaIAyPACDACjAAjMNAQqEOHqkCrQU+2kR9xu9CVwDwTJW4HHdCuJF8wAowAI8AIMAKpgcBn6ObVoCfCu2uGXRhI3wq6GzQsLJ+TjAAjwAgwAoxAKiFAMnAWKAv0b5ACiXCBScKSJCoHRoARYAQYAUaAERDiWICQCXqRwNAqWVLDPk4ZHBgBRoARYAQYAUagHQJn4SqoniUDn09BNOXsSP9B3mmgXBAHRoARYAQYAUZgICJAMo5kHcm8jnKQrklGkqwUM0FdFbgZ+bSuyYERYAQYAUaAEUgFBEjmkezrSiaSrBRLurhJUpaFJaHDgRFgBBgBRiCVECDZRzKwo9AkWSnWdXGDpqYcGAFGgBFgBBiBVESAZGBHgUmyUuzt4gavWRIyHBgBRoARYARSEQGSgR0F5l6ykqXMjkFbz3bM52tGgBFgBBgBRiAVEOgkG3mdMhWGnfvICDACjAAj0G8EWGD2G0KugBFgBBgBRiAVEGCBmQqjzH1kBBgBRoAR6DcCLDD7DSFXwAgwAowAI5AKCLDATIVR5j4yAowAI8AI9BsBFpj9hpArYAQYAUaAEUgFBFhgpsIocx8ZAUaAEWAE+o0AC8x+Q8gVMAKMACPACKQCAiwwU2GUuY+MACPACDAC/UaABWa/IeQKGAFGgBFgBFIBAU8qdJL7mPwIzCzfnCHSvWM8gcAYaclRtlKjhZQ5Sqk0pew0Kcw0eHH0CVPY0hIN0hANyjbqLanqTSHqlLRrPYZR2+Kxt1XnfLrxleOPDyR/rwc2h+vnq7S91TuGt8imERjL4bYlRhhSDqIxlRhLZRhpQmFMKUjZIm27WQnEUjZj/PcaptiB+zt9Kn3HoJEjdk68RzYPbMS4d8mOAPuSTfYRGkD8nfn41lGZVuDogBJHSGXvr6QxTkpRgBcoOToeHLWuShmQSm3HW3iLEnaFlOYXUgQ2SNv3SZOn+Z3Hzx6/JWptpXhF78/eM7RJNBxmWfYUaagJti3HC6kmSCHHY1xHRBMeCNIdSqiNQskNhqE2KltuME1jTbrI/ODwpUN2R7MtrosRAAKdfMmywOTfRUwQmLNQZQUyK76jlDwRdBheogdhtjAyJo1FWCmENASp+EBI421pq9e8TfmvLJor6yOsJuWKr7hSZchtVcdiHI8TtjhSSHE4hGJBMgABYVqB19v7OMX3HcxWX1Gj816fcadsTAbemAfXIsAC07VDl+SMz39epVXXVZ6opDwJKtSv4UtsClj29p5tKFqlasBLjwQXSNbhA68R9fghcANQuQYwa/HjZSiFrdIR+5BIgwoPqlpJaj2kSdUnB+G57N63SyXRtlCf49m3hSH/mW5mPv7ImUP3RFbHwCu9pkT56tZuOcYW6gSM6QkYi2l4g7SqUHvRXYyUH+WhVhU7kd6JmeEOJVUNcG5WUkAFq5pJFRusCqpZZcg0qYQvOI5KDsbvYYRSYjgE83C0Tele/55QvgVtr5TSeMkQ8qXsyblvTilpa6sXvHMRRgAIsMDkn0H0EJj9ty3HBwL+kw1Dfg1C7Qj8vtJ7rF1KvDDFdsxMtuAlWolf5GYI2Q3KtqugRu30A+2xvi4KmMLw2YaRJyx7rDRFLl7Uo1HxSLysR+CFPAaP9LB2L7H+qd41hHpBetMfW3rmqHe7aGZAZr1ZVDVVKetEW4rjpZJfhfDK7KmjNLsDvuuA7ToIuXWGYa6DanbdtMljNskSaff0fG/uqxJlrFy7dRxUsZNs25qEMZ0EoTsJv6VJvZnlQkg3YPxfM5R4GSr6fx1Tlre6N+1ymZRGoNP7CL+3zlIUeZTPgRHohMCsx7ceKgL+iyHszoJ4y+tUQGdIvD6V2obLtZi1faws9YUw7Q3CEglVk0nD8OIVPtE21MFCGAeBy/3xLzAKfHb7m4dA+AKdedFQsrS0sOAl3cWBEq+ete0Av2yZg7fDHLwNgEfXAUIHQ67WBGdtUqyE8Fnr85qfHLFoTELV2e/N2ZrV4rcOgpCfbCvMgoOzYTkFvHY7phhtaBTEIq/yLZq6bPRnXfeYc1McARaYKf4D6FP3i5+pHaEa9syDVeMsCMHDu6sEL9QdtrAx0zDek9J+C5aOO7srm0z5punJDtiBw8H34XiRHg4BmY9+dvOylZsgNZYY6Wn3lp0xsiqZ+hEJL+9csHtIY3P9LHw8QFCqY7t7Flisx0fFS9ACvJzpNV+GcIQxVfIHCNFRDX4Ls2R1PEYSKmU1sTuu8bt9XRliUUZa1rIjH2FVfHc4pWA+C8wUHPQ+dXlmufIZsrIIM465QthfxwSsq/WjRvyiPsAL9X1Yo65CQ1v71FiSPWTYxih8HBwrpD0Va2xQ/7VtfWjHJ9S2UrwKXP5qq7zlywtpHTS5w+p5yuuvrfouBCRmkuo0cIv13w5Bit0QIE9DgLxkSPHStCUFFR1KuPJy5bkVBZh9noAPhBPQ/9Pxux7aRUdoTfUZ9H+RNyfv71MfwJo5h1RGgAVmKo9+b/p+wROYefjrrsP06gf4tXTxUiHBYH8MK8lXICxehjHOgH6pYHaSBqOR6VIY0/GiPRIYdrFOK0n1XOY1025dfPbIpNuysvbC6kG7G1t+BCH5E8y0Rnf8HbQZ5zwPAblo0KSCZwa6cQztD925o+JUCNA5+J2fDI1Bp49BzKy3QXj+fmiG70+THxq5tyNmbrxW5cp8828VV9tSHoWPXHwXiOq0DPOGI/cbs/vNtVVz8dF7arBf+KemGL/9nVgzvmPa0rHr3djfKPDMArM/IJ77t4oCS8kzICyaYL7+9uSz894rge6xP3Umy7PFS7eNtj0t1+MlcT5erLA07RCU2Ix/sP/CbcALSlopuefNa3syLcP6Nv6LTgBO4zsghEvZhBdwmbDkDWXF+Zs7349vzoqLaobJ+toF4HdBVzMqCMpVShmLoEoom1qatyO+3CVHa6uLq0a02KoI/8ZzIDiP7sRVcMYt7lZZOXfPeHDwrk73XZSxqqjimzA3P3b62Xk3S2hE3pxVcZAl1F/wcdAsDfkQjNzWwlR9hLLVxRCo26Up/6ss+5uwXv58RmnBLS7qarRYZYHZVySLHtu8AMta40wlFsO4YDjSx2Jbw5e8wnvVosIxG/pab6KfK3py51jV0nAjXvaz8U2Z0Y4fWLRiRvIGLFj/gZfr5+3upfgFnC7sD281p2LdczpsYbI6wNGCr/PyNDXohkWFQ+L+21hZvG20slt+gknEpRjTdlts8HIkFetCj0cu/Mri/HUd+E7py7fOq5wUCKi5AGFuZ8tbuRfj/Sdp+H4/rXQ0aRRcF96YVfET4ZFvTl+S/zoxv/q86txAoOVcT07eHzqqn1cVVY6FMJ0HibEfim7E++GLGWX5D9JzKRTQ/fYBH8T49uwcKJ9DGwKzlm++FS/Gt/FiPAbx46WFea/RrbnlO/Lh9uvPpvJct6RwzAduAmzmU9sPNJuaboJ65iwMdru1LOhqdsBg52m89J+FRx52MbePgZUBA99M6kS8UE5Hsfz2RZUfqtzHDcP3y6XnjIq5Wqv1JWdfg//oi/BP3e7jB4LyE9BvPYPyFnd8Obbnma9orTewt+o8CM2fgw4KRwT/K43QtDyIrUu3HV2WeC1COG89pd8oqvi912fcNXVh3iYq+9acrYd+ZdGYD/f13MrizWfbwpgK46lDpp2VfxbNTPdVfoDd6yQbWWD2MMJFj1Vehh+LF5u3YW5v/HvZzPynwh+5tHx79i7ZUirTje+Xnpb8aq155bsG14iGu9CH8/Ct5AnvC663CnwQ2NJ+AX3u9GNpX5avOiIAgXQcfiMzgePYDvf8UHOXmlk5P156avRduK25dHt27c6WEnzQQQvSfj0O/+Dk0ejmaZPzlkdrT2SHvg3YS9r7+eYnVYVQS16Hf4bDwjtK675Y5Ls7Z7ivZMp9o+BkI/nDiqKKhcMy0y7rak129bxdg/21DbfgY6sA6tl7ppXmv6h7hOeeNZR6UcEN4fSl+f/S+SkQd3oHGinQ6T53EcLySKHsL2PDcz32nq3rKCyp4vsKR9UpU1ylGu2b+9xQnB4sKq+YV6PqP8UL/YJ2whLrk+jjnZCRUMFY/2Bh2bcBAX6vYNP/ZRBat2HGuTGsFi/WPOdaDXs/LVpWeVlYfr+TK2ZVzKzd2bwWBklXhQtLWp/Eb/aMaWUFR0wvy1/GwjJyqAmzaUvzywhDwpIw1bUQ1oQ5YU9joPOTOcbHU9akcSO63DMLYXmXMj1/Unn5s7CP9YL2/TAetKW5CR62Dmyfn3pXPMPsZsxLYA2x9rHKZ6Fu/ZklAleXFRbQ2ka3oWh5xc14KT5Wdk7+O90WStCNWWWfHyFN7/34Jz+mAwsbhG0sg+e5FR3y+TIqCMC6VooiCM8J7auT75jCvGRpYa7zAm5/v+erlbM3T7RtcS9mBN8OL41Z7mugm8JnCOH3Od0/BFYWV34LH0Y3gL7ariYp/mkY4vJktiiFSvap6WUFZ7Tju+1iRdHm2/H+2kU+gk1p3ANPSP8NL7eyqPJCqKIVflcPh+cP8DTPMHs7wJ88VnmeIYwllgxcnyHMq3p6Lt2TdTu+wBb0VC6e9097RmXOWlbxR2F43monLKXYC0s4CFD7ChaWsRwRGEwpdQXUsffhZVQTakkdaQlrBT6yHvketvGE8ntObbhApUNFdhOOyvqgnbCEQ3khzXPxQvwaC8uecexrCcKWMCasIUBCW4jw4UJjQmNDY9TX+mP5HGbEnQSAbm96acE1UMX+JyMja15HYdlaBrNLKd/X5VM1ZpVsFyNfgk372KN1omHatCD+wMOFudVdFGuXRc66YSTTQGuE7W4k6GJW2eZzMxorPsW6FiwltdOB4BaYV6B+vRj5zyWItZRrFi+qf9jKfzFirAtpowllQpien+av+4zGqjegvFlUccrWxoqP8N77Jcq3GWrh9FBp3G2YmZNnlOUt7U09XKb/CBDWhDlhHxpTjAnGhsaIxqr/rUS5BvwAu6sRWglF1rNdeTp6a/a2/W0hjp62NO9/3T2fKvkdjD5Spdv77ufHomoeNqsvMgJyd1lh3nu6NAnStnufwlL2Hzo/FKtna0UDWUsuCuXFN0XHavnTKxbhP+NM0reHAvyh0kyHnA6kkp1bCICEpmBd3YB143uwOfzveDnhI0bo9aBh2NO7uHD5plMa08f+4JnTJMq1D8FjtbZU3GMpdVG7O1K+4THEpUcvzU8Z5/Dt+p/gi2lLhteChStWza54OGDL+yAspxNL+N+bgLF69o2izQ+q3IL5yXLMGJYHuhWY3UH5ZnHFCQHLf326aXy/uzKplM8zzA6jXfKy8mAT82mlhfkvLixsNb/WRdaJil/D88V2vPRmFT+1rZPHlINVwb+hpmm3pqSfjUc8u7zqqOb0zR+QsHTak3gBK/kwjFHmB4Wlc4MTiUFAfQpV+E8wJvSCpRduMOBkkOLMxooP5pZvabd5HhvrJ4uqCjgYEI6whMDdCcvXH0wvzT/26KUFLCw1iAmKaQxoLGhMgmPTxkdwzDB2wTFMEG99bZZ88WJLya9sWz0LQXvfl5fmfdHXugbScywwO4zmJzu3fBN758o6ZAcvsWdxROk5BeVQZ+6QAavTOkVJIc7bU6o5EWrZ4rKKH9vCeg17KMMNTFaDz0tg+fpEV/3hvMQhELRGto3Loc5zNBjgZv9mEfjvrMeqfkGcrZhdMdev7NVIHkrXFPBCXqyyBh1Em8iRjnjG0FoL/402AjQWNCaGD0eOYYzC6j+UxpDGMiwvQcne/17Iyf600rE3ZpmD8uEA42sriyt6tONIUKfi2iwLzA5w27Z9RobP91iH7OAlNBqbsDUDak2RsfTsrr+4sI75fK1o/E5Xz8ci78IH1w6CY4UncVzVnXh7aiHuBx8PYSZzk22IPbFol+vsPwK2Ye3BzB/rkeoR1OZvq9EnbOvXlz64eUu9x34UavSgFyF8CDUY0rgIBidz3O6irf/IJW8Nxyws2EljRGNFY0acBsfQUo/C085Dq+dVZSYv9505O3zpkN3YlnQFjAQnk6ODziVSK4cFZth4z1utyAlz9kNndO1suWzm2BKZYdyA+PKwx9olPYZcBZd5R7XLjNHFnMeqp9bnZL2HlQnHVBxCczvmIT8Xtv1kjJrlaqOMAF6oj2PqeA2qrdJV7xwkxiz+Fk7XHoXRFOIj0zCPnlaW/5C+z3FyI0BjRWOG2ebHmlPY3Hy/pdZatfLcLYfovLjG+zD6IT7IU9SKosqLuuLP602/IdAScN4zceU7iRpjgRk2GLUbKo6Fvj7oZzEsu12yJ28+S84uqIDqdmy7h2JwAcvKy1vs5v9CWDoqWAjLVdKWl2PWsj4GTXKVMURA2dZnBdvlCghOR83a7JPifwfJ9c+d4Dv96NLcNTFsnquOAQI0Zt4cuJWT8lGneiWmqID11pvFlcVOXvwSfngv6tLQE8Y90+E79i4T3r6UZd1IXo7C2Zq6GKfw4IDu8LxUTLcDJRUBCO+zFOaBShgfhef1JQ3VrfPS68vzPT1TtKziN8KUMGd39nv58WP+K7wS/RoniTT19DzfTz4ExlebV1aNEmfjp4MJpRAeW6qx1cYTG0dZV30ypOmQWWWbDkg+rpmjnhCY+kBeA1S0F2CP4wWOilaoTBjTLAk6Q++pguje3/W/dVuGdFWlZctvQbD/WXhEBSaiVleeoaAJGdfVs6mU1+XXRioBEN5XWL9OEL6058PzynGG3NPmliPwAz9IGLJKWHYtvr0OwkL4SPy4ni77XvwcMOMHK4vLN/8V+ygv1AbipII1lPytrSy4vOPgRgQKdhg3fzFKOb5KM5uFf0K1ccGH+S3YGC+zqU8Y80POLf8ibfHMcR/jxRbTDzI3YpjsPMMxwKNQdb4lAoHlGLxDIJTow+h3sEQdc8zSgp/FY0zR4k7s/h2Odnd0xMs3WN4BdfGvREA2Znm9P+54nxzSt9RUDOuYn2rXPMMMH3El8kpPHxHy3oF7hfDOv/jsvLfxY5O2ZV0MdWuRssU1w2zvo90JSwjT4CwhvOr+pufdr7xF5ZVPKSkvDKvrM8OyroR1LAvLMFDckjThLmb0HuO+ypEhx96DG0T9mHrPl274Sd7SIXt2vGYYnp26P34lDigu++JLJR3UZfo+x8mNwLQluR95B2fNwNvhVc0p3BteDXd7D3enKtXlohHjZb8+YImDwusix/30IU4z4RllY6+eUVZwA1nIhpehdGDvlmPg+u/vHfNT7ZoFZtiI4yt+78XLd+eEZTlJW9knZKalX1I2M//n8O7x591G4ETnZlji3Od34nkVVdcAZAlbM6TyZWxnOU03BYn8PhS/P7MNuVfnceweBDJaPNlD9hoPbR8qCjTXI2tk9fjaIRNuuSQ3uCzwwMVT/ZZ6/U3s0dyqy2C8C9ZO2viVkpKXWTukQXFRPPWBYTUjRhacBKHpbPWCwDr/jbWVT8baglYJk2wenHcIwXbIqJFNWE/94b4gXHth9SBosH5pZ+b8dl/lUuEeC8ywUfYYxrIa2fCb+c+rNrdjrTfP+1vVlzHB3KCtZyedk/sQDlU+97zy7Qfqx0l1W/RY1VSrvvFhU8k7dH5/4+Kl20bXZ2fBGEQd69Sl5Osw874BjghanDxOuAaBnEYz12fZD+7KUUM10wU7xPqjPPnjrlswqJ0bxuWFhVbZrLGrpbI26bK2YYxad8j+02aWr/HpPI7dg8DEe2TztLMKZkIR9YDDtVKntNTa/1pxUU3M1J7Ty3I3or3GN4oq/6DwvqK2sVYJJ0ViOB3h9eZ5FUdQng5vz67aj4yTdtc3Py495rW8nSlosa5XwzRMwTjqKsV2tSfxRXF5xQm2ED+GEc1mLDNsg6A6AGBUpo/Iv+mR46VjUEOeflRzy/UoNxxrEjDREE0wGHrXSPMsLz0jOieyzyrbdoAw/P/CjHW8hgyC+zl87d2vrzl2FwLD6r0TmrzWHY1poXMrD9hivHbzgryv97SOVbx0w2TLNCaGeqzqlDRXLi8c2xjK45SbECBn7TD0wl7c1oB3zUcqLePbMxaOqNR50YzJ+nXlx5XkS/pbbS1CsSaqba/vDulvuQTvs4mY8UKGwkZDiBrYazyd5fEshpq2y2PBoslbEtbVyVaABGOnTOSlrMDUgzb72T1DZUNjbpZIq3ygcFiNzo9XTDNL2+NfGSYsaZxK8VsuixcP3E50EaCZJRxM3Fuf3ios8VJSh26SZdf/NH92b1uaWb5xAlS0h4bKk9Csf3154RTWNoRAcVUKR2ddBiOguyGoghq/oNDMzvkaz+gSPoydZCMLzISPSWcGaM2yVQ3ruESDL2fxZ0xkX+hcmnPcgIAv4Bvqs6z769NbtwLBub86/DN5x7XX5l8TKf9FT23KU40KB5u3ftiaUuye9NHnK0tKjg9EWheXTw4E3iiuKMTxgHRoQquaHY71fTnGiWSMkxwcpiQXnQQmr2Em2e+ArGHrs7P/jlehnkXgw5OFZZINU0TseAxPVppl/VELS3r4oE3iT30RlvRs2RnjqmSGfJvSFCwlhq6dNP4otp5txcONf7HtpBzb1uZALY8VIQScfII1zfJ4WM+6Ea9E8cwCM1HId9EuJKOENezfMPkIGfhADcszyy7AckuWKc2sBvu+unSVrVk+sFI89aufFlymr/sSk9DE4hOd1xoMZAi0dtIXR9BvSOdx7C4ESGhCabDA4RqGQCvXVv6Vx9RBJOEJFpgJH4IQA+SUAMLSMfvGP89zvGYZwseNqeE1xl21GcKxhh2/Va68+cqx34tGX5YXjt9gWrbjBpG2nJy3fNPB0aib60gMAvBB+0dYz/6fbh3C8vw3Z1fcqq85TiwCLDATi7/TeuGyipvbOSXA1hG2hnXgcWViTI15465Baj/NPG0d+e38/Bn6Ohpx6ewJa8O3nJBzA3ajFw1kE1cHOQ8I33JCzg0S4EYvcQAkccssMJNgcMiRujTEtZoV6NTeh1/Y2/U1x+5DIH+XOW/bUPFlzfno3XLbfuMLDutp64guH0lcNmvC++HODYJu9BavdxwiRFIXl00OBKaflX9puHMDcHXHiqKqXltTJ0cvBh4XLDATPKZ0RBcW+2/XTrfBzme2Ejfhpde6+J9g/rj5yBEYWe85duswcYoe0+G1ojbXyj54wcmyOfLaen6ChLBtrHy7nRs9b/rhFz5VPajnp7lEMiIg4ZITHoGKtRs98j2LUf5LV0dvJSP/A5UnFpgJHFnaPoIjupbDJC6d2IAN83ZpWTewB58EDko/m073m8Pq0tRV8GQRNL4ZXC+bJzR6v3TtpUN297PqfT5OHoFydsG5t1B1rQVts66pfiq70NsnbEl9kzwCeXOyzsAPKegqEUIzU8F5e6xd6CU1KAlmjgVmAgegYVD2Yrzgxrex4A+eOsK+YRM4Iv1vOr1F3NHkbT1zMM0v1OGbvKddPX/Mhv7X3HMN5Hs2Oz1rtRBGmy9jmf3JIRP19qSeK+ASSYcA+Z6VHs9MGAAG92Pio/oQf419b9IxmiIMscBM0EAXl1X8GF+MpzvNS/EonzrioOHKxPC98mc12WqEZv6wL+QfLr9x9Iv6Oh4x+Ts2bOMD3VZAWWOLSitjfqC5bo/j6CNAp5wIQ1yqa8Z74/srZlfM1dccxw8BFpjxw9ppafYTVUcpQ92iM/DVuArO3J/W1xy7D4Fhe83jd+UYjgXswZvlB1dfV3BlInpSVpy/2bBVhW7bNuzDLnxqLa9nakBcGNN5mlirflSzDvcG970xq4q3EGlA4hSzwIwT0LqZOQtVVsAfPEQ2tG5pR+90E90Ox/FDwBfw5jRmiPlQrwfXLXN3i/pvfOZzhGf8OAm1NHndBswyTWc9s6El66iZbSdUhEpxyk0IeHMMWM7Kj4ln7M/MUsIqX3GlynBTH9zOKwvMOI+gP71iEdYjJrQ160f6ViUt5xSUOLPDzUUBgaEN9m/1umW6Hz5iN6afcvx9o9qEVRQa6EMV5Fc2Oz3NWc+0bRszzI2H9aEqfiRJECC/snAc5axngq1D5ZaKe5KEvZRggwVmHIcZ+y3Phfr1TN0kfMQuUspyPLXofI7dg0D+Llm0fbBy9jxO3iT/dOEtI19Nhh7QeiaO//pQ8yKVMbZ46eej9TXH7kPg6NLcNZhlQpvRGvAOuejNoopT9DXHsUWABWZs8XVqJ1UsDu8Jd0aAr3/7SacAJ1yHgBdbSHYONmZpxvN3yI1wqH6Zvk6GeHlh3iaplHO2omWah7FqNhlGpu88wH3eQxCasLBvDbZS97BqVqMR25gFZmzxdWpvSau8DQtcucEMKRukZd/t3OSEKxEY1Gzf0OxpPbk+s0nYB9ZkfzMZO2Ib9R+a0va38ZbhCWwMO4Q6GTlmnnpCQGUNugJCcyeVg9ZqgthS6XgK6+lZvt93BFhg9h27Xj85q+zzI4S0f+g8YItltiH2ONeccB0Cwxo8M3bnGHotWkz5wvjjpdcO+TwZO0KHS3tFWnDzO/GnPN4DZpavyU5GXpmn3iFAh0srIX/mlFbqmpWzN/OHkANIbBIsMGODa7tapem9Xwjpbc2UX8C67Yl2BfjCVQjASZlsMewF2vXduO1y51XX512RzJ14dGbuZjpomniEU3/DsAezQ4NkHrBe8Da9NO8hOGl/o61oGpy039uLx7hIPxBggdkP8HrzaFF5xTwszB/TWlZiuUHd15vnuEzyIjBmj7ysPkNkEoce+MCbWKXo4F9oxpI3EH8BEXAcGsAye2RR6aa85OWYOesJARpTT9ChgWz17KTEt1fMqpjZ03N8v+8IsMDsO3Y9PjmvfNdgCMibnYJKwHrS/ti55oTrEMC2kZF7BokTNeMTN4s35v1m7N/1dTLHywsPqIGL2w2aR2mqKSUvt7rx03kcuwuBo5cWvAsvQM7MUgp155pLt7O6PUbDyAIzRsBStTWi4S4hxYhgE1LsVab9lxg2x1XHAYGcBuPaFhOvKITBDTJw0NacM+LQbNSaGFyzfR2EZvDUFEuJ9HVbNk2KWuVcUUIQMIwMnJ8ptlDjUHPk1+5sKUkIIynQKAvMGA3yzKe2H4iqz3OqJzNwS58k4eRywkUIDK8zJ+4cIg7QLB9YJe+a/bucHfraDTE5aPcEmh0DIBifTZhZvpm9xbhh8LrhcdoSHCAnzJ86t6VasKqI/Qc7eEQxwQIzimCGV2U2Nd1E9ohteRuUZblCbRfeB063R8C01RV2m/u7EXtE7TXX5V/dvoQ7rpacN7ECnO4ibuHMD7udBH3ccXAxAjPK8pZiTfM16gJsJryWsK9xcXeSlnUWmDEYmqInd461pTzLqdo2ljlpTrgSgewGNbl6sHRO/RhXLfFB5N6QJX2faO5NYY2b/7xK09ccuxMBCMzQbxIegFYWbxvtzp4kL9csMGMwNqql4UZ8tre+gJTYrGRgRQya4SrjiIBXmXBH1upcPX+nqPnZLwp+F8fmo97Uw4W51YYhg3uBbSWNrXWbHFVz1BvjCuOCwLTS/BelFKuoMaxlZii75SdxaTiFGmGBGeXBLl5KX3Vytq4Wx3g9ptMcuxOBrEZjwp5s6fiL3b8q7EvenV0Kcm2F+TGG+7zxcGbgc3F3mPUgAoZjlQ/HBj9acVHNMAYmegiwwIwelsGabE/L9fi+azOiUFuxS/zlKDfB1cUZgUy/gH9YPbuUey+7Kf/OOLMQk+bKZ47fZtj23tbKpZkmhjiei2LSIFcacwSmleY9A+1W235bNUjW1y6IeaMp1AALzCgO9gVP7B4CzxvnO1Uq43EnzQlXIpDV4hmxO0c6LscKqsUfaMO4KzvTgWnqh2V6nNNyYCgygfdldgDJZZfB36YMn2WKBWsvrB7ksm4kLbssMKM4NI3+uutgohb8ccL4cIct7ReiWD1XlQAEBtXb8y1sXKSmh++VTVfa+TcmgI2YNVk+s6DKlKqeGrCU7f20umJ8zBrjiuOCwLTJecshOFuNupQYurux5UdxaTgFGmGBGaVBxpFJPrxVf6Crgw+8p7EuNCBmIrpPqRabluHbkyOP0P0u2Gk8Kkukra8HQkwzkoCwPtV9aVGBA0pKcBAdB9ciQL9RjOtvnQ4o9ZPV85TXueZEnxHgf4w+Q9f+QUNWFkE6Dg3mSlmDOcmz7UvwldsQGFkrinB8V/B/ZFCTEchtyP2x2/rQG36nfLR/BRyzN7WWNXxrDtk4qjfPcZnkRcAzKG8xhCbtt4XSS43211Z9N3m5dQ9nLDCjNVZKzNVV4Qf6hlR2QF9z7E4EmtKEc74ltpKs+H6JbBMq7uxPd1yXYEZi2yr4cqUypmE6FsHdPcP5yY3A1AcknX+6UHOphJqj0xz3HQEWmH3Hznmy+Jla+Iu1v64zlG3/Q6c5dicC2c1yXG2WHELck4nPmBp7QK1ddhwV28jc7OTZxuh5q1mF5+Dh0oTHIx2BiWnmae9cAKNEDv1CgAVmv+BrfVg17JnnnHcJRwXYPPx5FKrlKhKIQEaLMRdf5UFjn9zdYs+PSsa+kkB2Yt708sJRdSFHBpZRu35jfswb5QZiisBXFuev044M0FBaY3P9rJg2mAKVs8CMwiArwyhyqpHiv06aE65FoC5dHamZz6s2/qbTAzn2KttRy1qmwWrZATDYShmLdDdgrsZqWQ1GH2MWmH0ETj826/Gth0LdcVjrNQ5ytSVvJdHguDQeVmdOa/KJoFUhzr9Uh232/dKlXYmI7SFb/VVQPwctuxEPnbNwa1ZEFXDhpEPAZ8gyzDJpPRMDq45dPWvbAUnHpIsYYoHZ38EK+C8OVWF/jJPsd4euOeVGBDyWfabmO2+n2PSdB0YGzxrUeQM1vmfBxGbbsLbr/ql0i2eZGgyXxlNL83bgC+h5zb5ftvAsU4PRh5gFZh9AC38EX2/OqSRKypfC73HanQg0ZBqOZ58he+3F7uxF37g2LY+jlg3IAAvMvsGYVE8ZUjhqWQhPFpj9GB0WmP0Ar7i84gS4Jshrq6IRCtlX+1EdP5oECOTtNr5e72s9x9TrFyrXN/aWJGArbixY5sptpjSCKjzbFpmzl3zRurc4bhxwQ9FGYPiIgmdx6mmr5kuJ/Vedu+Ur0W4jVepjgdmPkYYrMWczML7cPlDSDr5o+lElP5pgBCxDfkuzkLtbfj73ahl0G6fzBnq8vLAQh5hY20L9DGDLFAc3IzDxHtkMV51P6z7YgcA3dZrjyBBggRkZXu1KG1I6ey9hJPF+u5t84UoEGtLEgZrxYbXyOZ1Ordi7Q/fXMtOG6zTH7kUA/qqc5SJbiuPd25PEcs4Cs4/40wn1OG/ucP24Enbw4FZ9zbH7EPApb059hsgkzslZQf4e+Wf39aL/HFum7QhMJdWwEuxN6H+tXEMiEcA6piMwcZbAV9eUKD77tA8Dwv8IfQCNHqmuqzwRhtrplKaTSRBtpTQH9yIwuNY+STsrGFErm+belvexe3vTd86XF45tNKXZpoq2zc+fqOR1zL7DmRRPTltSUAHfsuuJGfzGM+vWbjkmKRhzGRMsMPs4YLCIPUk/agt7nU5z7F4EMJtyXiLDa+VH7u1JFDg3lDPLbAy08DpmFCBNdBXQmjizTFuoExLNjxvbZ4HZx1FTyv6afhRrme/qNMfuRQDrl/tp7gfX2yl92ozyhgSmVCYLTP3DcHEcvo6J9xcLzD6MJQvMPoA2Z6HKgpPRKcFHcZ4gPP2s7kM1/EgSIeAJmMMb00UaseSxpZpcnfmXJGIv7qyM9Dbv1I3iFz4U572a+ppjdyKQ6fG8guUjrM7TMpKYtuJKleHOniSOaxaYfcA+kFnxHTzWeiCrUttwWLTzculDdfxIEiAwok4cp9kYWisaT75nuLOBX+enUnzPyRObDcPYS32GC3q8X7cOS6X+D8S+HrFozHZ83a8JjqkQPrmt6tiB2M9Y9okFZh/QVUrC4McJa50UJ1yLgKHElzXz2U0iaByhr1M1VlZILesxFG8vGQA/BCkNZx0TmrHjBkCX4toFFph9gBsCs83ZOh42ZEpaUvYBtqR+pMUnHDdwGX5jRVIzGyfm0gzp+EVWwhocp2a5mRgigO0lK53qbeGcyOPkcWKfCLDA3Cc83dyU6iB9B1/hX+g0x+5FoC5N5GjuBzeKf+t0KseNIqtO91/atoOPzuPYfQhAkxLSiEnh7CN3X08SwzELzAhxP/PxraOgyhgZfIwMfkx7Q4RVcPEkQ2Bws3dMs7fVqMUbEOKIKg8f0YYxmjLyvba9mEJYSqTPLF/Dm92T7LcbKTs+r/mJfkYpVfD+7D28x1YD0ouYBWYvQAovkmkFjg67rhWWaAy75qQLEchusJ31yyH1ouX4+0Y5MysXdidqLJccf3zAlKJJV5jhGTxIpzl2JwIw/KmHAwPHoK1JNISWl9zZpbhyzQIzQrgDShyhH4HpoHN2oM7j2IUI2CEVe2az2OXCHsSQZdP5eGhp9rPAjCHS8aoa+0ocRyuWZbduj4tX4y5vhwVmhAMolb2/fgQqjZQ4WFj3d6DGtin1EW0io1k4X98Dtb+R9MsQyhGYpmkE/exG8jyXTT4EsJDkCExpqAnJx2HycsQCM8KxUdIYpx/B4dGVOs2xexFoMcUIzX16C1s9aywoVn47tI5pSRaY4eC4NS2VIzBtW453azcSwTcLzAhRh5B0th9AtbE5wse5eBIi0OJRjqoxM6D+l4QsJowlM8PvzDBto/Ukl4Qxww1HBQHDMB2BCcc/PMOMAFUWmBGARUWhhs3Vj8ABO1vIajBcHLd4ZavXJvTBsMzXXdyVqLOe4c10BCYqZ1dqUUc4/hViVukITDhxGh9/DtzbIgvMCMZuZvlmemG0beCWlrLtqgge56JJiECGZfj8nrbzHrFN6FCRy470w8bp/lNzG7HmBWUKBeWbWV7OPmVbwXDt32mTx2yCpswfHFGlRqyfr4I+lF3boTgyzgIzArAN2+cYh0CV0SAx3YzgcS6ahAhkNBm58JUaDDD4UceXSOzE5KARwBYE/MZli74WYjrvxQyB4cqULJE2BtU5vq26Zqezhu/KDsWRaRaYEYCNucgop7gSjjGEk8cJ1yHgC1jOR1BaiwoTDK7rSswYlmZIYPqyMx31dcwa5Ipjj4ASO3Ujhr+R/QRrMHqIWWD2AFC727YxOuyaBWYYGK5NKumMaVpAshOKLgfScj4kbKuZZ5hdYuSuTGgOnBkm1jF5htnL4WOB2UugqBjWLEMzTCHDjSEiqIWLJhMC8K3pfF17/aw16HJspOEITFUXYIHZJUguywybYVp26H/AZb2IO7ssMCOAXAkZdmKD4tlIBNglbVEV2luIfwYe0y4GyrAtZ13XZ3o8XRThLJchoKSqcViWkh3rO2DsO8ECc9/4dLirnK9r2IkErcw6FOBLtyGgbGdMDUvxmHYxfiqgbJ3dYjXzO0OD4eIYathmzT6MF53/AZ3HcdcI8I+/a1y6zFXKdsyvcSam89XdZWHOdAUCOFA3ZMQiQ8YtrmA+TkzahscRmIbP4HdGnHCPZTOwDHfU7BLbhWLZ1kCqm3/8EYymFGZIYEqbBWYE2CVrUTvsZeG1lPPVnaz8JoIv2wjNMA2LBWYixiDabWJjifNbV4bhvNei3c5Aq48FZkQjGvoSg0qD1XcRYZekhQ0ZWpNToa/uJOU2IWx5DNuZYfptye+MhIxClBsN16awSrbX4PKPv9dQcUFGgBFgBBiBVEaABWZEox9a44K3sNDaV0R1cOFkQgDrN46mAM7FWTXVxeAE7JAa1humnu2iKGe5BYHwWWX4bNMt/CeITxaYEQCvhOXo/aUyQqq8COrgosmFgLRDqnXLkGz80MXwGGFqWNsMqWe7KMpZLkFAGdL5OJS27bzXXMJ+wthkgRkB9LCodH5YcLHJAjMC7JK1KCyfnRkmjqJhgdnFQBl2wHlP2C0sMLuAyHVZ8BDs/Naxv9yxmHVdR+LMsPOPEOd2Xdpc6IcF58WsknXpKLZjW4W82Fhm6JivdmVS/EJ6QoY+lpnmGAClOCyu7j6WlEIzTBnak+nqTsWBeRaYEYCM9a6Qdwwh+WzACLBL2qKmatC84SOIx1SDERbbhuloU0wrwNupwrBxa1KqkNcyW6m9bu1HvPlmgRkB4oaU20LFVXYozSm3IgBDH8cJtd/LY9rlOCrTUd9hJYLVd12C5LJMqRyH64YZ+h9wWS/izi4LzAggV6baHlY8KyzNSdciEBrTZo9Id203Ysp4mPvAIWksMGOKdXwqx0m+zqEDWLt3jvqKT+vubYUFZgRjZ7d4QwJTChaYEWCXrEVbPGaV5q3Zx1ayGovwWFkhYyhvRi0LzHBw3JqWIYHpU+mOlsWt3YkX3ywwI0DaNlqcl6vAKRcKh8pF8DgXTUIEGtPtLbAYDIbGNCFfLmHr5/BhUnCajIPtHJVsffVbIavi8IKcdg0CqgSbSoRwVLKDRo7gGWYvR48FZi+BomLLC8fS8U9thj/KlIaRF8HjXDQJEWg0oTcIyFbLTwiHdf4dX0pCNhPG0sXPbsmAyGz7MJQtywsLrYQxww1HBYGVa7eOg0o2aOVPB0lPvIetZHsLLAvM3iLVVg4/sC36ERyLM0GnOXYvAmlWyIdsc3rTse7tSfQ5b/Q3hBu38Xmh0Yc47jUahpqkG8X2ko06zXHPCLDA7BmjdiXwZVahM/DZPVanOXYvAt4WUae5b/DIo3SaYyGsRq8jMA1bOFtwGBv3ImDbliMwsbS0wb09iT/nLDAjxFwqoBVxMwAAJMpJREFUe5N+BMIzX6c5di8CPitkVt/kUwe7tyfR51x6Dce4zQzbsxr9lrjGuCGgpCMwMdvcGLd2B0BDLDAjHEQljc/1I1DP5uo0x+5FwLCUY8wFw58C9/Yk+pzbQjozTMuyeYYZfYjjXiPWpB2BqWyeYUYyACwwI0ELZT1SvKcfgXHlKJ3m2MUIGPITzX1Dmhim0xwTApYjMH1pXvYIMwB+FFhKcgSmaRprBkCX4tYFFpgRQt1gelY5jyg1WJjsTs3Bw6WJukzjbc36nizhe/nS7Y6Q0PmpGJe8/LLHUiFnDo2BGhaYLv8hvDdnaxa2CjlalHSR+YHLuxRX9llgRgj3E2eN2S6krHYeswy2lHXAcGeiJs2/Nc0vg9sl/PCa+l5e4CR39iS6XK+pPiK0filF0/LCKey0ILoQx722Fr91kG4US0oVhy8dsltfc9wzAiwwe8aocwkVUuFJU+7XuQDnuA2B7GZRq3muyRDf1OlUjjNEvTPTVobh4JPKmLi977YUk50+KPG+k+ZErxBggdkrmNoXwlmYITWGzVaV7dFx55WvJbRdqNFrz3BnL6LLdbOthuoapTDDTurRuRy7DQFbiWkOz4Z4x0lzolcIsMDsFUztC0Fg/issJ/TFFpbJSXchgC9vZx2zLl1MdBf3seEW2hPHfVrAluw+LTYwx7VWHJh+gtOglK84aU70CgEWmL2CqX0hT0PBP5DT6lNTytE49mt4+xJ85TYEdmSLVzTPu3NExvPzdzqGETo/leL5z69Ps217EPUZvnZhED5mVyr1fyD2FQY/o+DlcEpwTIVoUaPzXh+I/Yxln1hg9gHdRXNlPd4grebY8D+qlPGVPlTDjyQRAgGPtTOjSTQTSwEDi9Qjm36YROzFnZWtdenO7BL79nYvL2w1ioo7I9xg1BBo8FvH49sHu0rgTl+IlTPulOzqMEJ0WWBGCJguLqXxX51W0j5Cpzl2LwKZzeILzf3uLHGqTqdi7DFCxz8pae1IRQwGWp/xZX+87hPeXy/pNMe9R4AFZu+xalcSP74XdIYhDGcjsM7j2H0ISCXf1FzvzFGH6HRKxnZo/TLD42OBOQB+BJhbnqC7YQjJAlODEUHMAjMCsMKLjszOh+GPbKI8qDlIfTUm/D6n3YdATY7xAtZ4oK0SYkeOSl94TVVK+pWdWb45w1JW2x5Mw9r/zHzeq+e+n3M7jleeW1EAhwVBYzb8xhuyJ+c6H4ftCvLFPhFggblPeLq/ec/JshnWso6bPCmMo7svzXfcgECL9NdmNbaeyEErPZVDrUvcwHe0eTQtw1m/xKx7V4lsOy802g1xfXFDANtJnNklrC5em1Ii2QlFH9BngdkH0PQjtq3C1jHF4TqfY/cikNmkPtXc7xokT9Hp1Ir9jsA0rWbeTjIABh+fPI7ANJR4eQB0KSFdYIHZD9gNw/ucfhwTksOkMrz6mmN3IgCF7Iua8y1D1f4Lb1eOezidP5DjmeXlpjTN0bqPvkyjWqc5dicC6+erNCwbna65l9IM30eusznuBQIsMHsBUndFymbmviKl0EdDZWA107FC6+4Zzk9uBLYOtf+T1SIDxKXfK+S2QOW1yc1xdLkzrWmjLWUHP/wMQzQ8cuaEPdFtgWuLNwI7d1ScCkOLVq9NUnx+TFne6njzMFDaY4HZz5HEIdKPO1UY4jgnzQnXIpDZoJzjvnZlifNc25E+MG6ZgQL9mEd5KnSaY/cigPXLOZp7aMIW6TTHkSPAAjNyzNo/4fHeH8owDpbKdPxvhvI55SYEAqZ8UvNbNVyM+8e86lx9PZDj+XevTzNs0znjVTaZLDBdPuCri6tGQEierLvhVT4WmBqMPsQsMPsAWvgjy84a8yGO+2pzxq5MYSg+GiocIBemd2VbK9P9ImhF2ORV8oOxLf/nwm5EzPKeMd48WAfj/YrFBXj3WTR3TH3ElfADSYVAi62KoAULqtgxtK9PXTb6s6Ri0GXMsMCMwoBJ2y5zqlHia06aE65FILtRvquZrxppn63TAzn2S8NRx5qWzbPLATDY2BHkqGOVwerY/g4pC8z+IojnZeaQB/BN3uaMXYzFF93+UaiWq0ggAo0+e6F2YrBlqBjyp5LNxyWQnZg3PbN8eza2SQ2hhgxp2jkTx1fGvFFuIKYIvHVe5SS8i/T+8OaMtKxlMW0wBSpngRmFQS49LQeuw4z/6KqkYXxHpzl2JwJ1aWrT4DoVtBAlJwZbBxu/cmdPese1YTeMdUoa9rYHpsrWD0AnkxNuQyAQUHMdnqV85shHhgZ/z04eJyJGgAVmxJB184AUC/UdKeV0JQ2PvubYnQiktYh/a84rh4sZD5eodH09kOKSEmUYhnTUsZZtsTrW5QO8ep6idUtHYEJbwsY+URhTFphRAJGqsFV+GSYirT43lRqMDfCnRqlqriZBCFTniLI0f6tbuL3ptmdL5pa7EsRKTJtdc8jnBZYSbR8DdsuUj8Zvj2mDXHnMEQjsrToPvmODH0H4gN/mzcn7e8wbTYEGWGBGaZBxXmALzsX8i64Oh0qfrvBL1dccuw8By7RbhtaJdzXnFcPt8xVmY/p6IMR4qUqPMA/UffFJz2clJew7VuPhxph+oxjXnzu8S/n7qQ+wit3Box+JAfXP3w8covJohi/zFmwx2UuV0QkmOPaL1zKjgmziKqnNlPea8FZNHOwcpNLvNLYMqLXMwuUVeZaSQfd/pjT8B44s2Jg4tLnlaCDw5idVhRCYBwXrwvagoRm+P0WjXq4DlioMQvQQeORMLKor9WioRvvMUJpTbkSg3hfYMbRWrde8V4y0r6BZmb52c0z9MK3ARN0HbCLeUHJ8q1tAncexuxCgMVWWfZ3mGj/Uuyc/NDL4Ea/zOO47Aiww+45dl08aAd+vsdGksfWmHAMb/eO7LMiZrkGg3ifuw5gGZ5mVw9WgP95QeaVrmN8Ho4XLN462DWNQaxFlNYs9G/ZRnG+5AIGVxVWn4Yd6WCurcq/KyrnbBWy7hkUWmFEeqtLZo7dBIbtUVytteY5Oc+xOBBrS7c+H1CnHcvTzPHWDO3vSnmscS+LMLrHevnF54ZSgd6P2pfjKXQjYv9D8SqH+NOPBwbv0Ncf9R4AFZv8x7FSD9GX+Cl95zcEbUoyVyjOjUyHOcBUCfmndE5plisG33lxxlas60IHZ75dvGRlyVKDsMdnjPutQhC9dhsDK4spvaUcFUMU2SsP3e5d1IenZZYEZgyEq+97wzTBTCzvFxJ4Vg2a4yjgiUJcp146sUZt1k5tGunuWWa9aWo1C0CFLmJvuOVm2fuDpDnLsOgSwfhnSfEjx4LRS0nZxiCYCLDCjiWZYXVZ6On68jgHFBHizPiXsNiddiIBlyD8YbWuZO4aInFtvrrrDhd0Q5y5eT/vzhhHvWJmltdlPKc3BvQisKKqaDYH5VeoBNrP5YcB1m3t7k7ycs8CM0dgsP2MUvYQW6+qlKWcLU2bra47dh8DObGv9iD3KUV1+lm9fsfSq2hFu6sm8+1d7A560QzTPhi02LC8c22akpnM5dhMCK8/dmQM9QejjTcm7jy7Ld7QhbupLsvPKAjOGIzRYZP4Y3+87gk0oMQgGQPNi2BxXHQcEajLVLT5L2NQU0p71o2ufjkOzUWuiZvCoSdh4kEYVmlI0Tcodty5qlXNFCUFAWU3/h/dM8MxWrF1W5gz3lSSEkRRolAVmDAf5gcJhNXD241itQVnydWx9PTiGTXLVMUYA52NWD9kr/qWb+WScmPbAdZu/q6+TOZ5Z/tlgCMsJmkdlyTW871Kj4c541eyKL0EVe5nmXgl55ZT7RtXpa46jiwALzOji2am2ssKCB7Cm8GbrDQWPefLSToU4w1UIbB2i/pjVKBqI6YCh5Po8uYg2jCdzJ4g/j/C07c+jtUuzuqx4XFUy88y87RsBGtOATXuEcXA9BSn+OWNZwfJ9P8V3+4MAC8z+oNfLZ5Xlv9g5L1Oo/aQw2QNQL7FLxmISbyqfbdwN6woymBGbRqnhv/t11R+SkVfN0/nLt4yFg/WhdE3nXdpGzYf6HsfuROCN4qoL4Vlsehv3zYYhLndnT9zDNQvMOIzVsqL93xNhjtnhkHAWjC2GxKFpbiJGCOzKDKwYWmtv0NWv2c++7L5b9uyvr5Mpnlm+xucXzY6hjwz4P4OTAlbbJdMgRcjLiotqhsExwa3OY1LeNm3pWMeFo5PPiagiwAIzqnB2X1lDZv7VmI5sCZZQKlOZxoLuS/MdNyBQl278Ki0gLeK1IV0Ynw2uc87PTCb+DTvrUEsZdD4ihcaAZzy/WFuxcO1fWb/3D1B0DKcOYC1gQ256/m9c2xkXMc4CM06D9cxpsgGHJl0d1txUYRjfC7vmpMsQaPFYu4fX2Ms02xUj1Pjf/qYCa0rJE2aWV42D27t8zZFpWR/gKLqgkNd5HLsLgZVFlRdCWJ6nuYZhxPwJj8gmfc1x7BBggRk7bDvVvKxo7BJ8DT6hb2AFbI4M8+ep8zl2DwKVw1TZqBrp+Jn9eD9xyUPXVn8jGXpw4VPVg3B0xaGaFyXtzaWz99+mrzl2HwKrirdMgbCEm8bWAIPCB48pK3hOX3McWwRYYMYW3061e5sK5sC5il778iL9M1gstp1236k4Z7gAgd2Zxs/T/a1enbDtRL4/vum5ly/dnp1I1ktKXvbUNdVPFcIOWlAahrFXiPEfJJInbrt/CKyeV5Vp2YFyvDMy22r6UOUWzO9frfx0JAiwwIwErSiUXTRX1vtszzmYaQZVKIhH4Xz0n0ahaq4iQQi0ePy1mU2wmm1zm7dlqMh69YCWFQliJ9js2kkTsIVEe5YyrMza+v+xKjaRI9L/tv219n2wgwgab2F7Wr3PMGfOuFMfJdj/+rmGnhFggdkzRlEvsbgo7214/blWVwyhebQ0jNP1NcfuQ2Bntv+VYbW2IyQ/HqsOu/03FXcmoidFpZVjbUMW6LYN2/jgoYsmY4bJwa0IvFFccT5Usedr/pUhLp1amrdWX3McHwTwrg46X+7YGuVziDECs5ZvfhLon9HWjF8q+TNbWOSDloNLERhSbz5Uk61GEPtpfqGO/tR30uU3jn4xXt2hdcu6pqavaVWsR5qblxYWvBuv9rmd6COw8twth6iA9ZZWxUohH56+rODC6LfENXZAABP69oFnmO3xiOtVVm39HNiEO+uZtlQ/N2w1KK5McGNRRaDJJ36q1zObvUK+P87/zO33bJ0Q1Ua6qYwcq4evW+JbuO6gj9Z/2E1xznYBAqvn7RqsAoHlWljifbHGO9hgBwUJGjsWmAkCnpolNZlPphdirSm0nmmaN8EXiy+BbHHT/UCgyWvtym6Wv4PHvODXaU2WStuQ4X/3lvv2BL3s9KPqfT46s7zcrB2W+5Xwdcvs9KzVJSXHB/b5IN9MWgTWz1dp/tr6p/BDal23FLLBMD2FUx/IC7plTFrGBzBjLDATPLiLzhm5GvuortJu1sDOAYYUN2DvHKvFEzw2fW2+Oivw+phd4jk9pjh8KWeLWfdxSbmKyYcQ1rakYU/7sm0Hhmue06V476EzRvK6pQbEZbEqV+aO6opSpcQ3iHWoYZVhyB9MW5L7kcu6MqDYZYGZBMNZOjP/PmWLWzQr+KI83FDGNfqaY/chUDnMemD0bvG25nzbUDV6746KD0m46bxoxUXLNhyOCe0YXR/Wwj9aWDi2Ul9z7D4E3ni88j4Iy3Cf0z89pjS/1H09GVgcs8BMkvEsn1XwCzj1fshhR6pj4SQbTts5uBWBrYOtXw3bK7/Q/FeMEBN/fk+lY0mr8/sTFy/dMFlJc5yuwyvFZ8uKxn2mrzl2HwIriipuglP1eZpzOFW/HUY+v9fXHCcOAfraDa61dGAh6l/BHernyy4QoNlHUXnlU9C+nBZ2e6lSdlnYNSfdhIApzZw648G9mWqYZvvASvHUzVeO7bdbxJnlGydgNul48oHBWEVp0X7vQpvf1f+0bp7jJEYAbu8us5V9r2YRY/notNL87/OYakTiGnf6P+IZZlzx33dj9E8xeE/+2ULJ18NKFsMI6KSwa066CQFLWQ1Z8rLsJlmn2f40X5xx4x2Vf9TXfYmLSjfltReW9vbJ6/Z7j1+sfUEzOZ5ZMatiJqxh4QCjLUj53LTJ+T/gMdWAJD5mgZn4MWjHwQMXS39WXd13Me/X2wHw/yIugWszFprtkHLPRcAO1Deb5mVZTSEH2Z+MUz+65ZbK2/rSCxKWWLP8sn7WlGL35HUb/1dSAvf+HFyJAAlLHNe1GFqm1neylG/4coxCWdLqctGVnRqATLNKNkkHtXjpttG2x78SGvPxbSySegBWc6yeTdIh65GtnEYz1zbUvfXpInjUFlk+HrpJll3/0/zZPT7cVqCjGpb2WipZ/zrOt2zpbR1cLrkQIDUszSy1sMRL+SOVnfO1GQ8O3pVcnKYcN51Usiwwk/g3MKts2wHC8P8rTGiSeflztrLuT2K2mbV9IDC4wbt/wGPf3pCm9PmU4oAtxms3L8j7ek+qNzLwsUxjYqh6EpbmyuWFYxtDeZxyEwJtBj6/1DwHhWVaxrdnLBxRqfM4ThgCLDATBn0fGw7ONM2Wf0FSOsYdtMZpS/s2WNV2GtA+NsOPxREBmmlC/XZXbabI0M0W7BDr9wsUHLZggWzWeToOGoMFt46ErGFJDRsQdat4ZqlRcldM+yxp60i4NSz27b4hsgadyjPLpBnLTu9XnmEmzdh0z8iFD64dVJ+d/Xdo8I7VpTBw79tK3ASfoayK06C4KM5o8WRnNqs/7spRjgegkTWyOq9x8JTrFgyq1l0hDz7klCB8n6Vhk4EPrVmyFx+Nk5ti8uDT5pQgtM8SBj60ZslefJJqJFlgJtVwRMDMvPuVt2ZI5d86bDn5TFrWDTiZgj26RIBlshT12oZnWK24e/tQ4ZwsMrhB1A9v8hx9yyW5H5FvWHJ3F+7Bh7aOkDUsG/gkyyhGxgf5hg26u2vz4ENPQxX/aNAalg18IgMz9qVZYMYe49i1QKq54vLNf4XbvAt1KxjR7fBb+ls+5UQj4r64YIdxc+VIgfMrW0Nms/BPqDYv+DC/ZUvIN6wQ5JRg8cxxH/e01qnr4Ti5EGg9dYQcqbf6hiXuyCnBMUsLfsZjmlxj1cYNC8ykHJYImSpaVvEbGJ//HOsfpFKn4Mca56PKtp9uveS/bkNgfLV55eZR4jgbC9TEuwdH1+TtkE9+MTLwMF2Tuzv24ENIuDPQeZbCFjgAWmVSD8hCGtFP2YNPUo8nC8ykHp4ImCtatukyuNy+Axa06foxjO4qHEx9h5JW8PQTnc+xOxAYW23OrRgt4LiiVWjSK3Xcdrne5/N+99cXj2Z3d+4YxnZcrp5XlemvteEXNnT4M4RlAzlSZ9+w7aBKxgsWmMk4Kn3lac5j1VNb7Obl4dtOMMLb8Q95q1LW+r7Wy8/FHwFpmAdAUF6NlvN06+nNSpy8SkJoio9Mw1N4dGnuGn2P4+RHYFXxlimWHSjH/2TweK4gxzjPko7o4lNHkn/8wCELTFcMUwRMkgVtw6DsxVD1nB72mB8bThbBgvbJsDxOJikCWL86C0q6c8Geszdz+F6x9cxX1JisllatO81KpCEvh1/Rh5O0G8xWGAJwRnAhZpX3aBUs3cI4P+LNMS5jS9gwoJI7yQIzucen79wVl1X8WBnqFoywo6JFbaulZd9tG2JP32vmJ2OFgGGLIco0r8KH7BFhbbQIw7xp2Tl5N6+YXTEXzu5InZel7+Olu1hlDbqC9+ppRJIrXnFRzTBZV3s3/g/pAygYMGb1sDm4dMbSgoU6j2NXIMAC0xXD1EcmZz9RdVTAH1iO2cgEpwopG2BssEwJ6wknjxMJR0AK8zvQAJyHaUeOZgazkQ3pXm/RwjNzV+m8N2ZVHYyxK8e147gCL+CdSsifTS/NewjpTv/U+lmO44cAWbC/UVx1IRxSYDlEOQd5g4MPMdaF05flfRw/brilKCHQ6X+L9D2dMpHXqgeKUqtcTfwQmLNQZfnTKxZhUEObooPNyy/wj3wfXtL8jxu/4eiiJXkghNyPcCPMxR2ulCpryBx70TOn4QOnQ1hxpcqQWyrugZr9ona34BnGg5nL0UsL3m2XzxdxRWDV7IovBaAJwBhOD28YhyY8qHIL5s+4U7LrwnBg3JPuJBtZYLpn8CLidFbZ5nOhBrodA5wbehAKPiVeVab9F2Ep57ip0H1OxQoBJe1MzDQuksI4AdLRDGtnFzQAC5YVjV0Sltdl8s2iilPs4LqYmBAqIC1hiHsNI+OGaUuG14byORVrBFaeuzPHthtvwvhdHj6m+J/bYEg5/5iygudizQPXH1MEWGDGFN4kq5xmmy1pOEJK2j+E0sAxKIH+YC9UgYuVZf09yVgemOzgaDaoyc/DDGRwqIPSwgxkcZMn68dPnjm012vMNNsUWyqvRV3XoK40pz4ptpjSuIq3KjiIxDTxZnFlsaXs3+EDNOyDVDTj/+q23PT830x4JHSUW0wZ4cpjiQALzFiim6x1zyr7/Ahpeu+HSu+YDjxuELaxTMnAig75fBkVBOR0CMUifKyEzQipYvmOKcxLlhaG1iojbW7l7M0TbVvcixf2t8Ofhbr3NdBNsKZ9MTyf09FBYGVx5bewtHED6KvtapTin/Dac/m0pWN5O1c7YFx9wQLT1cPXT+aLyivm4R/9ZswwR7SrSonNsLB9TNjq5Xb5fNFHBIyvQmgVQk03vkMFdL7hjcsKx97bIb/Pl20HD9+J/+z88EogqGE4ZNw8rTTvGfDS6R8/vCyn940A/mfkyuKq07D+/wt8dB4dXhrq10oYYF05Y1kB9kNzGGAIdPq/wXiz0c8AG+R9dmde+a7BNaLhLhQ6D0PvaV9YbRXKeBxHh73AR4e1R6Y3VxBMx0FIzQSuYzuUh+tCWWpmZP946alDdne41+/LNZduz67d2VICb2sL8EIPqd5RM/7BPxASgnNy3nJZgjVsDr1GQJUo481PqgqVZV+HN6fj65cqwAeJH14M784Z7iuZct8otgfoNaquKsgC01XDFUNmZz61/UCzqekmG5vm8VINrYWhTay37YBxydNw0PasVHYghmy4vmoZMLzCq04EauQ4ot0sD4LTDyOfxw3D98ul54yKuapuVVHlWEvY1+AT+CL8pztnbRLIEOafgH7rGZS3eOoD0u964GPYgdXzlDewt+o8zCx/DjoovCn8rzTiH+RBUxi3HV2Wvzn8HqcHHAIsMAfckPazQ0VP7hyrWhpuxCt1Nl7w7V6yeMvW4IXxBpy6/wNf1J/3s6kB9ThmcvvDnd0pUHbOwMzOcSzQ1skWfGyUp6lBNywqHLIh3h1fWbxttLJbfgJV4aUY0+zw9iE0K3C90OORC7+yOH9d+L1UT791XuWkQEDNBQ5z8bt3jlxrxUXuxR7LP0nD9/tppaO3pTpWKdJ/FpgpMtARd7N46bbRtqflegjJ82GBOahTBVjnxJf1f4UtX4Bz96irFTu1l4QZXtuTaRnWt3G82vFgb0JnFmUTZiBl2Odx4/LCvE2d78c3J+h1pr52Af7rF2DW6RxUrbmgdU6ljEU+Q5ZNLc3bofNTKV5dXDWixVZFUtpzOq5PBnGQYjfG9G6VlXM3e1dKpV9GsK8sMFNuyCPs8AVP7B7S6K+7Di+JH+DX0ukli5moRc4PIDReQupV7C8c0Oo9zBTTsKdumlTGDHjiORJwhrsebENX0oyjzGum3br47JE4wzK5wtoLqwftbmjCbFNeiZnT6I7c0Xocxvp5zJYX5hxc8OyUEtnSscxAul4/X6Xt2F5xCsZ2Ln7nJ3dc96W+YiaOMVV3Ds1Mv2/yQyP5gPaB9APofV9YYPYeq9QuObNcYeJRWYSZCVRU9tfxCmlnTNKGTiN+UR/gRfu+EjasMsXWgYCaYRujbEMeC+PSqXhzTsKM29e5XzKAGferwOWvtspbvryQPiSSO9DanL+26rsQ/HPQJ1h9tl+7DnIfnFHJp+H04iVDipemLSkgFa7rw8pzKwpsJU6A2dMJ6P/pXc240UnaR/kM1vAXeXPy/s5rva4f9v52gAVmfxFMxednPr93pLl39w+VYUCAqnbWguF4BI2FhL0OM7J3UW41DId2ht9P1rRperIDduBwGOhQ347A7CIf/GPy0Tmgj5vw4l1ipKfdW3bGyKrOJdyR884F0CQ0188KfhApNaM7roHFenwQvUQCNNPjeeWIRWO2d1c2mfLfm7N1VEMgcFxQQEoISaUmdsuflCvw8bMwIy1r2ZGP9N6JRLf18Y2BggALzIEykonqx6zHtx4qAv6LocY7C6os5+zGTvzQ3j+lSFW5VhjyY2WpL4RpbxAWrAwTGAyP4REBcZBtqIOxBeQgcLk/VG+jwFKXApJYhdD4Ap150SNk2ZKZBf9OIPsxaXr1rG0H+GXLHLwdMPMkPLoO+FjAkKs1Uho0+1xpKLHW5zU/gRCt7/qJ+ORCOGa1+K2DbCkm42NmmlL2CeB1Cnjtdkwx2p/j5iKv8i2auowP547PSLmuFRaYrhuyJGa4uLziBLgH+y5mlF+HRebhEDxdrO916AAsb/Gi2o4v/i0Qutj0DacJUm6AJW5VtPZ+SgNbPYSRLyx7rDThukzJ0WhnpJJqBATkGHDUYf9pBx4F1K1CvWsI9YIyzL+VnZP/TscSA/V61blbvmIHAt/EmJwA4XkshE5mT33FB0UF8F0HbNdBpq4zDHOdbct10yaP2RStvZ+0J3Ll2q3jDENNsm0LanI5CeJwEn5LkzpbtHbmGAK0AULydfzGXjI8nn8fvST3rc6lOIcRaIcAC8x2cPBF1BCY/7xKq66rPBEv2pPwhf81vMimoPKu1j27aRNrgFI14CVNsxWQxGZw1Yh6cBi2DMC4KICXHjkAILmahjTIToOgxvqipH2kSCvEMhvm/4O6aaSbbFp/VJhxyLcxG/5nupn5+CMR+HftplLXZ68pUb66tVuOgcd+qDRp1obZmxBdrOd23dU2Y6IdGNOdGLZgjI8WfDDJZgi7FmkrWjNsNTDCOrEyMKZK+GgcpZKDIeCG/3979/MSRRjHcXxm1tXcrChXQ4vQoAhCIYguXhI6dAmy8NKhU39E/0Cnjv4JUYcO1j0KiYKCQrCEiELDsESFUjPXHzN9vtsKq42gjyubPu+Bx90d95nd5/Us8/F5nJ1RX+ftVq+dTzs4J/2V9SkIgkW911fF0XAQPms40/J6rx/MtJEF650FCExnOipuScBO/L6c+3pZYXdJpUNheFpTtE1b2sgOPVk7Ux3JGr7XDvqtdtovsgvHBu7dDKs6rbhDTa3oZouXGZsY71I/XtQVOs4plTo3M7qr6JvYYGM2ylUwD+nKLYMK4YHkaOtLLqu1ARarNytAYG5WiudVXqCn/3tzbmX5wnKiA2uS+GQSRic0Cjmuna5d8aHsSh7bfO0w1Gg0mUzi8FsQJWM6mOdLGCyPhHHtx4WawmD/9bb/7qsf22xx1aoP3fhxeCGY71hZic+GUdKuqdg2/XHUrlFkW3F0WMF3ZqNUjT5HNR07oqnZUfXvSCYTDe8Lcu86H1T+lIMVfOtsancKEJi7s9/2/rvufThWH8W1rVHtUrOuoKIz1cTNGikc1E63TtOBmn7NaLpVX+/I6Le6CKHOj/oriVWiYF5ztLOasp2piaKZxZrsxOTB4dGB7m5O6Vflj41933Hy53Q+WvqtKdUwvxIHjfp/9wHrU/1BoynYqE6j1b9TvJqaDeO4oCn2RQVjQUdYz2aiYFoBORVn66ebDjVOneoLC1VuEi/vlwCB6Vd/01oEEEAAAUeBfwIzctwQ1RBAAAEEEPBKgMD0qrtpLAIIIICAqwCB6SpHPQQQQAABrwQITK+6m8YigAACCLgKEJiuctRDAAEEEPBKgMD0qrtpLAIIIICAqwCB6SpHPQQQQAABrwQITK+6m8YigAACCLgKEJiuctRDAAEEEPBKgMD0qrtpLAIIIICAqwCB6SpHPQQQQAABrwQITK+6m8YigAACCLgKEJiuctRDAAEEEPBKgMD0qrtpLAIIIICAqwCB6SpHPQQQQAABrwQITK+6m8YigAACCLgKEJiuctRDAAEEEPBKgMD0qrtpLAIIIICAqwCB6SpHPQQQQAABrwQITK+6m8YigAACCLgKEJiuctRDAAEEEPBKwAJzLqXFLSnrWIUAAggggIAPAmkZOGeBOZ7S+vMp61iFAAIIIICADwJpGVjMyvtqfbKuPNdjpmt9+FjQRgQQQACBcgHLPsvA9bloWRn0pvzCnnhHhdAUAgsCCCCAgBcClnmWfevD0h5bVgZZlU8qaU+wlL2ikjafq9UsCCCAAAII7HoByzjLurSRpWWjZWQ21A9belT6i/f4gQACCCCAAALlAtf04FGmtOaDbverdJUec4MAAggggAACQXBXCH0GsRqYdv+pSk6F0DQNFgQQQAAB3wUsLG+r2LTsmsC0FU9UhlTskNojKiwIIIAAAgj4JvBZDb6lYiPLYlgawOr/MO1++WIHAl0tFQvPVpUGFRYEEEAAAQT2msCcGmTfs3yj8rhUlnS7ZvkDwQXd6hMQGDAAAAAASUVORK5CYII=)"
      ]
    },
    {
      "cell_type": "markdown",
      "metadata": {
        "id": "8gnEJXqoJ9ux"
      },
      "source": [
        "En `Python`, la diferencia de dos conjuntos se consigue con la función `-` o bien, con el método `.difference()`\n",
        "\n"
      ]
    },
    {
      "cell_type": "code",
      "metadata": {
        "id": "ARFmtFmFJ6Ok",
        "colab": {
          "base_uri": "https://localhost:8080/"
        },
        "outputId": "1a5fbe9c-ca1d-4483-b2ac-dcc25c0ae1ef"
      },
      "source": [
        "A, B = {0, 1, 4, 5, 8, 13}, {0, 3, 4, 7, 8}\n",
        "A - B"
      ],
      "execution_count": null,
      "outputs": [
        {
          "output_type": "execute_result",
          "data": {
            "text/plain": [
              "{1, 5, 13}"
            ]
          },
          "metadata": {
            "tags": []
          },
          "execution_count": 29
        }
      ]
    },
    {
      "cell_type": "code",
      "metadata": {
        "id": "UOZwsB07KGtj",
        "colab": {
          "base_uri": "https://localhost:8080/"
        },
        "outputId": "4d242b03-755b-4091-9eaa-c9a36f7ccf15"
      },
      "source": [
        "A.difference(B)"
      ],
      "execution_count": null,
      "outputs": [
        {
          "output_type": "execute_result",
          "data": {
            "text/plain": [
              "{1, 5, 13}"
            ]
          },
          "metadata": {
            "tags": []
          },
          "execution_count": 30
        }
      ]
    },
    {
      "cell_type": "code",
      "metadata": {
        "colab": {
          "base_uri": "https://localhost:8080/"
        },
        "id": "U3yLqo5uaXMD",
        "outputId": "931c7caf-5877-4ff3-a3af-de2bfa34035a"
      },
      "source": [
        "B.difference(A)"
      ],
      "execution_count": null,
      "outputs": [
        {
          "output_type": "execute_result",
          "data": {
            "text/plain": [
              "{3, 7}"
            ]
          },
          "metadata": {
            "tags": []
          },
          "execution_count": 31
        }
      ]
    },
    {
      "cell_type": "markdown",
      "metadata": {
        "id": "iqG2_80RkPYM"
      },
      "source": [
        "**Diferencia simétrica.** La diferencia entre dos conjuntos $A$ y $B$ es un nuevo conjunto $A \\vartriangle B$ que contiene todos los elementos de $A\\cup B$ no están en $A\\cap B$\n",
        "\n",
        "$$A\\vartriangle B = (A\\cup B) - (A\\cap B) = (A - B)\\cup (B - A)$$\n",
        "\n",
        "![setSimetricDifference.png](data:image/png;base64,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)"
      ]
    },
    {
      "cell_type": "markdown",
      "metadata": {
        "id": "G_5Fr_jRlNhv"
      },
      "source": [
        "En `Python`, la diferencia simétrica de dos conjuntos se consigue con el método `.symmetric_difference()`\n",
        "\n"
      ]
    },
    {
      "cell_type": "code",
      "metadata": {
        "colab": {
          "base_uri": "https://localhost:8080/"
        },
        "id": "lcIY_nn_lVNv",
        "outputId": "2514dd5e-e9ff-4d9b-b497-c322b0ab0a01"
      },
      "source": [
        "A, B = {0, 1, 4, 5, 8, 13}, {0, 3, 4, 7, 8}\n",
        "A.symmetric_difference(B)"
      ],
      "execution_count": null,
      "outputs": [
        {
          "output_type": "execute_result",
          "data": {
            "text/plain": [
              "{1, 3, 5, 7, 13}"
            ]
          },
          "metadata": {
            "tags": []
          },
          "execution_count": 32
        }
      ]
    },
    {
      "cell_type": "code",
      "metadata": {
        "colab": {
          "base_uri": "https://localhost:8080/"
        },
        "id": "Wn_ESF79a5uN",
        "outputId": "876be127-3acc-449f-fa7c-8dc126bda2df"
      },
      "source": [
        "(A-B) | (B-A)"
      ],
      "execution_count": null,
      "outputs": [
        {
          "output_type": "execute_result",
          "data": {
            "text/plain": [
              "{1, 3, 5, 7, 13}"
            ]
          },
          "metadata": {
            "tags": []
          },
          "execution_count": 33
        }
      ]
    },
    {
      "cell_type": "code",
      "metadata": {
        "colab": {
          "base_uri": "https://localhost:8080/"
        },
        "id": "Qncc2P9FbAST",
        "outputId": "9a0cde6a-8b7e-401f-a117-5c59e1d3b04a"
      },
      "source": [
        "(A | B) - (A & B)"
      ],
      "execution_count": null,
      "outputs": [
        {
          "output_type": "execute_result",
          "data": {
            "text/plain": [
              "{1, 3, 5, 7, 13}"
            ]
          },
          "metadata": {
            "tags": []
          },
          "execution_count": 34
        }
      ]
    },
    {
      "cell_type": "markdown",
      "metadata": {
        "id": "AbCHzdgeDxcd"
      },
      "source": [
        "### Elementos de un conjunto\n",
        "\n",
        "Podemos añadir un  elemento a un conjunto con el método `.add()`"
      ]
    },
    {
      "cell_type": "code",
      "metadata": {
        "colab": {
          "base_uri": "https://localhost:8080/"
        },
        "id": "p-1h7mHWDnXm",
        "outputId": "465d8641-06c8-4877-c759-efb97fc28de6"
      },
      "source": [
        "set1 = {1, 2, 3, 4, 5}\n",
        "set1.add(-1)\n",
        "print(set1)\n",
        "\n",
        "set1.add(0)\n",
        "print(set1)"
      ],
      "execution_count": null,
      "outputs": [
        {
          "output_type": "stream",
          "text": [
            "{1, 2, 3, 4, 5, -1}\n",
            "{0, 1, 2, 3, 4, 5, -1}\n"
          ],
          "name": "stdout"
        }
      ]
    },
    {
      "cell_type": "markdown",
      "metadata": {
        "id": "xvqMlZjDLUK-"
      },
      "source": [
        "Para añadir elementos de otro conjunto en el conjunto actual, podemos usar el método `.update()`"
      ]
    },
    {
      "cell_type": "code",
      "metadata": {
        "colab": {
          "base_uri": "https://localhost:8080/"
        },
        "id": "5jj6yiUVLY7k",
        "outputId": "5007ea35-f259-41af-c4a1-cbc2fdb0b4bf"
      },
      "source": [
        "set1 = {1, 2, 3, 4, 5}\n",
        "set2 = {-1, -2, -3, -4, -5}\n",
        "\n",
        "print(set1)\n",
        "\n",
        "set1.update(set2)\n",
        "print(set1)"
      ],
      "execution_count": null,
      "outputs": [
        {
          "output_type": "stream",
          "text": [
            "{1, 2, 3, 4, 5}\n",
            "{1, 2, 3, 4, 5, -1, -5, -4, -3, -2}\n"
          ],
          "name": "stdout"
        }
      ]
    },
    {
      "cell_type": "markdown",
      "metadata": {
        "id": "Exwp4Y3yLpID"
      },
      "source": [
        "**Observación.** El método `.update()` nos permite añadir los elementos de un iterable al conjunto actual"
      ]
    },
    {
      "cell_type": "code",
      "metadata": {
        "colab": {
          "base_uri": "https://localhost:8080/"
        },
        "id": "Oue-I2o_LoaT",
        "outputId": "052d36c6-47d3-460e-ac4c-f85e3626f36a"
      },
      "source": [
        "set1 = {1, 2, 3, 4, 5}\n",
        "l = [-1, -2, -3, -4, -5]\n",
        "\n",
        "set1.update(l)\n",
        "print(set1)"
      ],
      "execution_count": null,
      "outputs": [
        {
          "output_type": "stream",
          "text": [
            "{1, 2, 3, 4, 5, -2, -5, -4, -3, -1}\n"
          ],
          "name": "stdout"
        }
      ]
    },
    {
      "cell_type": "markdown",
      "metadata": {
        "id": "u15Jl6W7K_Kd"
      },
      "source": [
        "Podemos averiguar si un elemento pertenece a un conjunto con el operador `in`"
      ]
    },
    {
      "cell_type": "code",
      "metadata": {
        "colab": {
          "base_uri": "https://localhost:8080/"
        },
        "id": "iJf10DefLESi",
        "outputId": "a336f162-7e81-42a0-f89f-9cbbaf656aef"
      },
      "source": [
        "set1 = {1, -1, 2, -2, 3, -3}\n",
        "print(3 in set1)\n",
        "print(0 in set1)"
      ],
      "execution_count": null,
      "outputs": [
        {
          "output_type": "stream",
          "text": [
            "True\n",
            "False\n"
          ],
          "name": "stdout"
        }
      ]
    },
    {
      "cell_type": "markdown",
      "metadata": {
        "id": "87Rl-K2fd21K"
      },
      "source": [
        "También podemos eliminar elementos de un conjunto con los métodos `.remove()` o `.discard()`"
      ]
    },
    {
      "cell_type": "code",
      "metadata": {
        "colab": {
          "base_uri": "https://localhost:8080/"
        },
        "id": "0ZO18mrvd9w5",
        "outputId": "2cb348a5-03f0-4fd5-e8bc-8fbbc59df9ff"
      },
      "source": [
        "set1 = {\"a\",  \"e\", \"i\", \"o\", \"u\"}\n",
        "set1.remove(\"a\")\n",
        "set1.discard(\"o\")\n",
        "\n",
        "print(\"a\" in set1)\n",
        "print(\"o\" in set1)\n",
        "print(set1)"
      ],
      "execution_count": null,
      "outputs": [
        {
          "output_type": "stream",
          "text": [
            "False\n",
            "False\n",
            "{'e', 'u', 'i'}\n"
          ],
          "name": "stdout"
        }
      ]
    },
    {
      "cell_type": "markdown",
      "metadata": {
        "id": "uIvFSnMheNOk"
      },
      "source": [
        "**Observación.** Si intentamos eliminar un elemento que no existe ya de por sí en el conjunto con el método `.remove()`, `Python` nos devolverá error, mientras que con el método `.discard()` no devolverá ningún error."
      ]
    },
    {
      "cell_type": "markdown",
      "metadata": {
        "id": "XXQbZe8_D2ts"
      },
      "source": [
        "### Tamaño de un conjunto\n",
        "\n",
        "Para saber cuántos elementos contiene un conjunto, podemos usar la función `len()`del siguiente modo:"
      ]
    },
    {
      "cell_type": "code",
      "metadata": {
        "colab": {
          "base_uri": "https://localhost:8080/"
        },
        "id": "WnzZ0Em_ECo1",
        "outputId": "5a2706d1-5c5f-4498-f9c3-43cb3a337c65"
      },
      "source": [
        "set1 = {1, \"a\", \"i\", \"o\", 2, \"e\", 4, 3, 5, \"u\"}\n",
        "print(len(set1))"
      ],
      "execution_count": null,
      "outputs": [
        {
          "output_type": "stream",
          "text": [
            "10\n"
          ],
          "name": "stdout"
        }
      ]
    },
    {
      "cell_type": "markdown",
      "metadata": {
        "id": "SVWIyrklKtXY"
      },
      "source": [
        "## Bucles y conjuntos\n",
        "\n",
        "Podemos acceder a todos los elementos de un conjunto mediante un bucle `for`"
      ]
    },
    {
      "cell_type": "code",
      "metadata": {
        "colab": {
          "base_uri": "https://localhost:8080/"
        },
        "id": "7fbcNGGdKsru",
        "outputId": "e4b85d72-ddc6-4e4d-ec24-d2f60a1ff79d"
      },
      "source": [
        "set1 = {\"manzana\", \"pera\", \"melón\"}\n",
        "for item in set1:\n",
        "  print(item)"
      ],
      "execution_count": null,
      "outputs": [
        {
          "output_type": "stream",
          "text": [
            "pera\n",
            "melón\n",
            "manzana\n"
          ],
          "name": "stdout"
        }
      ]
    },
    {
      "cell_type": "markdown",
      "metadata": {
        "id": "J80fcI8qec32"
      },
      "source": [
        "## Más métodos de conjuntos\n",
        "\n",
        "El método `.pop()` nos devuelve un objeto del conjunto (como no hay orden, no sabemos cuál es) y lo elimina de éste."
      ]
    },
    {
      "cell_type": "code",
      "metadata": {
        "colab": {
          "base_uri": "https://localhost:8080/"
        },
        "id": "x8FTYhQDGPe2",
        "outputId": "b33763e6-3aeb-42b5-8b37-4c1bf25461ba"
      },
      "source": [
        "set1 = {\"u\", 5, -3, \"a\", \"b\"}\n",
        "set1"
      ],
      "execution_count": null,
      "outputs": [
        {
          "output_type": "execute_result",
          "data": {
            "text/plain": [
              "{-3, 5, 'a', 'b', 'u'}"
            ]
          },
          "metadata": {
            "tags": []
          },
          "execution_count": 47
        }
      ]
    },
    {
      "cell_type": "code",
      "metadata": {
        "colab": {
          "base_uri": "https://localhost:8080/",
          "height": 35
        },
        "id": "hWDXGu2ke6f4",
        "outputId": "d123376e-da18-4e8c-e827-4a1e0af83959"
      },
      "source": [
        "set1.pop()"
      ],
      "execution_count": null,
      "outputs": [
        {
          "output_type": "execute_result",
          "data": {
            "application/vnd.google.colaboratory.intrinsic+json": {
              "type": "string"
            },
            "text/plain": [
              "'b'"
            ]
          },
          "metadata": {
            "tags": []
          },
          "execution_count": 48
        }
      ]
    },
    {
      "cell_type": "code",
      "metadata": {
        "colab": {
          "base_uri": "https://localhost:8080/"
        },
        "id": "AOyzWghpe9q4",
        "outputId": "21fb2632-e13b-42c2-c423-422d46554542"
      },
      "source": [
        "set1"
      ],
      "execution_count": null,
      "outputs": [
        {
          "output_type": "execute_result",
          "data": {
            "text/plain": [
              "{-3, 5, 'a', 'u'}"
            ]
          },
          "metadata": {
            "tags": []
          },
          "execution_count": 49
        }
      ]
    },
    {
      "cell_type": "markdown",
      "metadata": {
        "id": "17BVwSuOfnjn"
      },
      "source": [
        "El método `.clear()` vacía el conjunto."
      ]
    },
    {
      "cell_type": "code",
      "metadata": {
        "colab": {
          "base_uri": "https://localhost:8080/"
        },
        "id": "XzFz3cr1fB-m",
        "outputId": "d6317f71-fc53-40e7-d98d-5f632c65b72c"
      },
      "source": [
        "set1 = {\"a\", \"e\", \"i\", \"o\", \"u\"}\n",
        "set1.clear()\n",
        "print(set1)"
      ],
      "execution_count": null,
      "outputs": [
        {
          "output_type": "stream",
          "text": [
            "set()\n"
          ],
          "name": "stdout"
        }
      ]
    }
  ]
}