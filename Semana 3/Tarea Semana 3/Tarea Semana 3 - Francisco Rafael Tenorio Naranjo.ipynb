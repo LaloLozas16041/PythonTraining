{
 "cells": [
  {
   "cell_type": "markdown",
   "id": "f874da24",
   "metadata": {},
   "source": [
    "TAREA SEMANA 3 - FUNDAMENTOS DE PYTHON\n",
    "\n",
    "Nombre: Francisco Rafael Tenorio Naranjo"
   ]
  },
  {
   "cell_type": "markdown",
   "id": "9d92062f",
   "metadata": {},
   "source": [
    "Ejercicio 1"
   ]
  },
  {
   "cell_type": "markdown",
   "id": "efe04712",
   "metadata": {},
   "source": [
    "Escribir dos funciones que simulan una calculadora científica que permita calcular el seno, coseno, tangente, exponencial y logaritmo neperiano o natural (logaritmo en base euler). "
   ]
  },
  {
   "cell_type": "markdown",
   "id": "45c88b9c",
   "metadata": {},
   "source": [
    "A.\tLa función uno preguntará al usuario el intervalo donde quiere aplicar la función matemática y la función a aplicar, y mostrará por pantalla una tabla donde la primera columna será los valores del intervalo dado (x) y la columna 2 tendrá los resultados de el resultado de aplicar la función a este intervalo (y)."
   ]
  },
  {
   "cell_type": "code",
   "execution_count": 51,
   "id": "35553b26",
   "metadata": {},
   "outputs": [
    {
     "name": "stdout",
     "output_type": "stream",
     "text": [
      "Introduce la función que quieres aplicar (seno, coseno, tan, exp, log): exp\n",
      "Introduce el intervalo separado por comas : 1.1,2.2,3.3,4.4,5,6,7,8,9,10.1,11.11\n",
      "Tabla de valores de exp en el intervalo 1.1 , 11.11 :\n",
      "x\t| y = exp(x)\n",
      "----------------------------\n",
      "1.1 \t| 3.0041660239464334\n",
      "2.2 \t| 9.025013499434122\n",
      "3.3 \t| 27.112638920657883\n",
      "4.4 \t| 81.45086866496814\n",
      "5.0 \t| 148.4131591025766\n",
      "6.0 \t| 403.4287934927351\n",
      "7.0 \t| 1096.6331584284585\n",
      "8.0 \t| 2980.9579870417283\n",
      "9.0 \t| 8103.083927575384\n",
      "10.1 \t| 24343.00942440838\n",
      "11.11 \t| 66836.191384222\n"
     ]
    }
   ],
   "source": [
    "import numpy as np\n",
    "\n",
    "\n",
    "funcion = input(\"Introduce la función que quieres aplicar (seno, coseno, tan, exp, log): \")\n",
    "intervalo = input(\"Introduce el intervalo separado por comas : \")\n",
    "intervalo = [float(x) for x in intervalo.split(\",\")]    \n",
    "\n",
    "resultados = []\n",
    "for x in intervalo:\n",
    "    if funcion == \"seno\":\n",
    "        y = np.sin(x)\n",
    "    elif funcion == \"coseno\":\n",
    "        y = np.cos(x)\n",
    "    elif funcion == \"tan\":\n",
    "        y = np.tan(x)\n",
    "    elif funcion == \"exp\":\n",
    "        y = np.exp(x)\n",
    "    elif funcion == \"log\":\n",
    "        y = np.log(x)\n",
    "    resultados.append(y)\n",
    "\n",
    "\n",
    "print(\"Tabla de valores de\",funcion,\"en el intervalo\",intervalo[0],\",\", intervalo[-1],\":\")\n",
    "print(\"x\\t| y = \"+funcion+\"(x)\")\n",
    "print(\"----------------------------\")\n",
    "for i in range(len(intervalo)):\n",
    "    print(f\"{intervalo[i]} \\t| {resultados[i]}\")\n",
    "\n"
   ]
  },
  {
   "cell_type": "markdown",
   "id": "2a1bfe54",
   "metadata": {},
   "source": [
    "Explicacion\n",
    "\n",
    "1. Se importa la libreria numpy, especifica para operaciones matematicas.\n",
    "2. Se crean dos inputs para determinar las variables funcion e intervalo por el usuario.\n",
    "3. Se aplica la funcion for para que cada numero del intervalo dado inicie la funcion matematica a realizar , la cual los resultados se escriben en la lista con la variable resultados usando la funcion append().\n",
    "4. Se utiliza el commando print para crear la tabla con el intervalo y el resultado de la funcion.\n"
   ]
  },
  {
   "cell_type": "markdown",
   "id": "c1ce5606",
   "metadata": {},
   "source": [
    "B.\tLa función dos graficara con matplotlib el resultado de función anterior y la mostrará en pantalla. Recuerden poner los títulos ejes y demás configuraciones de las gráficas para que queden de la mejor manera posible."
   ]
  },
  {
   "cell_type": "code",
   "execution_count": 63,
   "id": "3403fa37",
   "metadata": {},
   "outputs": [
    {
     "data": {
      "image/png": "[encoded data removed]",
      "text/plain": [
       "<Figure size 640x480 with 1 Axes>"
      ]
     },
     "metadata": {},
     "output_type": "display_data"
    }
   ],
   "source": [
    "import matplotlib.pyplot as plt \n",
    "\n",
    "x = intervalo\n",
    "y = resultados\n",
    "plt.plot(x, y,'r--')\n",
    "plt.title(\"Gráfica de \"+funcion+\" en el intervalo \"+str(intervalo[0])+\",\"+str(intervalo[-1]))\n",
    "plt.xlabel(\"x\")\n",
    "plt.ylabel(funcion+\"(x)\")\n",
    "plt.show()"
   ]
  },
  {
   "cell_type": "markdown",
   "id": "b3365d68",
   "metadata": {},
   "source": [
    "1. Se importa la libreria matplotlib.\n",
    "2. Se crean las variables x,y que seran usadas para graficar. A la variable x se le asignan los numeros de intervalos definidos y a la variable \"y\" se le asignan los resultados dados por la funcion anterior.\n",
    "3. Se escribe el codigo plt.plot para grafica las variables x,y.\n",
    "4. Se agrega el titulo, etiquetas para los ejes x,y.\n",
    "5. Se muestra la grafica con el codigo plt.show()\n",
    "\n"
   ]
  },
  {
   "cell_type": "markdown",
   "id": "26fca450",
   "metadata": {},
   "source": [
    "Ejercicio 2\n",
    "Escribir un programa para ver los beneficios de una empresa en un periodo de años.\n",
    "El programa debe cumplir los siguientes requisitos:\n",
    "\n",
    "A.\tEl programa tiene que preguntar al usuario por un año inicial y otro final, y después preguntar por los ingresos y egresos de cada año desde el año inicial hasta el año final.\n",
    "a.\tDebe garantizar que por lo menos haya 5 años entre el año inicial y el final.\n"
   ]
  },
  {
   "cell_type": "code",
   "execution_count": 30,
   "id": "d63f068b",
   "metadata": {},
   "outputs": [
    {
     "name": "stdout",
     "output_type": "stream",
     "text": [
      "Por favor introduce los anhos fiscales (minimo 5)\n",
      "Cual es tu anho fiscal de inicio? :2010\n",
      "Cual es tu anho fiscal final? :2015\n",
      "Cuales son los ingresos del anho 2010 :2000\n",
      "Cuales son los egresos del anho 2010: 2500\n",
      "Cuales son los ingresos del anho 2011 :3000\n",
      "Cuales son los egresos del anho 2011: 2500\n",
      "Cuales son los ingresos del anho 2012 :4500\n",
      "Cuales son los egresos del anho 2012: 5000\n",
      "Cuales son los ingresos del anho 2013 :5500\n",
      "Cuales son los egresos del anho 2013: 5000\n",
      "Cuales son los ingresos del anho 2014 :6500\n",
      "Cuales son los egresos del anho 2014: 6500\n",
      "2010\n",
      "2015\n",
      "[2010, 2011, 2012, 2013, 2014]\n",
      "[2000, 3000, 4500, 5500, 6500]\n",
      "[2500, 2500, 5000, 5000, 6500]\n"
     ]
    }
   ],
   "source": [
    "print('Por favor introduce los anhos fiscales (minimo 5)')\n",
    " \n",
    "ainicial = int(input('Cual es tu anho fiscal de inicio? :'))\n",
    "afinal = int(input('Cual es tu anho fiscal final? :' ))\n",
    "anhos=[]\n",
    "ingresos=[]\n",
    "egresos=[]\n",
    "\n",
    "for anho in range(ainicial,afinal,1):\n",
    "    ingresos.append(int(input('Cuales son los ingresos del anho '+str(anho)+' :')))\n",
    "    egresos.append(int(input('Cuales son los egresos del anho '+str(anho)+': ')))\n",
    "    anhos.append(anho)\n",
    "    \n",
    "print(ainicial)\n",
    "print(afinal)\n",
    "print(anhos)\n",
    "print(ingresos)\n",
    "print(egresos)\n",
    "    "
   ]
  },
  {
   "cell_type": "markdown",
   "id": "d6171c0a",
   "metadata": {},
   "source": [
    "Explicacion:\n",
    "1. Se crean dos variables en las cuales se ingresaran los anhos fiscales determinados por el usuario como commando inpu().\n",
    "2. Se crean 3 listas vacias (anhos,ingresos y egresos)\n",
    "3. Se aplica el comando for que el usuario ingrese los ingresos y egeresos por anho determinados anteriormente\n",
    "4. Los ingresos, egresos y anhos se anexan a las listas anteriormente creadas con el comando append.\n",
    "5. Se imprimen los valores y las listas para verificar si son correctos."
   ]
  },
  {
   "cell_type": "markdown",
   "id": "9f6e3168",
   "metadata": {},
   "source": [
    "B.\tCon los datos introducidos se deben crear un dataframe, con las columnas fecha, ingresos y egresos."
   ]
  },
  {
   "cell_type": "code",
   "execution_count": 24,
   "id": "cc11834a",
   "metadata": {},
   "outputs": [
    {
     "data": {
      "text/html": [
       "<div>\n",
       "<style scoped>\n",
       "    .dataframe tbody tr th:only-of-type {\n",
       "        vertical-align: middle;\n",
       "    }\n",
       "\n",
       "    .dataframe tbody tr th {\n",
       "        vertical-align: top;\n",
       "    }\n",
       "\n",
       "    .dataframe thead th {\n",
       "        text-align: right;\n",
       "    }\n",
       "</style>\n",
       "<table border=\"1\" class=\"dataframe\">\n",
       "  <thead>\n",
       "    <tr style=\"text-align: right;\">\n",
       "      <th></th>\n",
       "      <th>Fecha</th>\n",
       "      <th>Ingresos</th>\n",
       "      <th>Egresos</th>\n",
       "    </tr>\n",
       "  </thead>\n",
       "  <tbody>\n",
       "    <tr>\n",
       "      <th>0</th>\n",
       "      <td>2010</td>\n",
       "      <td>2000</td>\n",
       "      <td>2500</td>\n",
       "    </tr>\n",
       "    <tr>\n",
       "      <th>1</th>\n",
       "      <td>2011</td>\n",
       "      <td>3000</td>\n",
       "      <td>2500</td>\n",
       "    </tr>\n",
       "    <tr>\n",
       "      <th>2</th>\n",
       "      <td>2012</td>\n",
       "      <td>4000</td>\n",
       "      <td>5000</td>\n",
       "    </tr>\n",
       "    <tr>\n",
       "      <th>3</th>\n",
       "      <td>2013</td>\n",
       "      <td>6000</td>\n",
       "      <td>7000</td>\n",
       "    </tr>\n",
       "    <tr>\n",
       "      <th>4</th>\n",
       "      <td>2014</td>\n",
       "      <td>1000</td>\n",
       "      <td>1500</td>\n",
       "    </tr>\n",
       "  </tbody>\n",
       "</table>\n",
       "</div>"
      ],
      "text/plain": [
       "   Fecha  Ingresos  Egresos\n",
       "0   2010      2000     2500\n",
       "1   2011      3000     2500\n",
       "2   2012      4000     5000\n",
       "3   2013      6000     7000\n",
       "4   2014      1000     1500"
      ]
     },
     "execution_count": 24,
     "metadata": {},
     "output_type": "execute_result"
    }
   ],
   "source": [
    "import pandas as pd\n",
    "\n",
    "datos = {'Fecha': anhos,'Ingresos': ingresos,'Egresos': egresos}\n",
    "\n",
    "df=pd.DataFrame(datos)\n",
    "\n",
    "df"
   ]
  },
  {
   "cell_type": "markdown",
   "id": "aae13f56",
   "metadata": {},
   "source": [
    "Explicacion:\n",
    "\n",
    "1. Se importa la libreria pandas.\n",
    "2. Se crea el diccionario llamado datos , donde se determinan las fechas,ingresos,egresos con sus respectivos valores tomados de las listas creadas anteriormente(anhos,ingresos,egresos).\n",
    "3. Se crea df Utilizando la funcion pd.DataFrame() de pandas.\n",
    "4. El dataframe se muestra en pantalla."
   ]
  },
  {
   "cell_type": "markdown",
   "id": "3aaf895b",
   "metadata": {},
   "source": [
    "C.\tEl programa debe generar otra columna con el beneficio de cada año (ingresos menos egresos) y mostrarla por pantalla."
   ]
  },
  {
   "cell_type": "code",
   "execution_count": 25,
   "id": "c0c664e0",
   "metadata": {},
   "outputs": [
    {
     "data": {
      "text/html": [
       "<div>\n",
       "<style scoped>\n",
       "    .dataframe tbody tr th:only-of-type {\n",
       "        vertical-align: middle;\n",
       "    }\n",
       "\n",
       "    .dataframe tbody tr th {\n",
       "        vertical-align: top;\n",
       "    }\n",
       "\n",
       "    .dataframe thead th {\n",
       "        text-align: right;\n",
       "    }\n",
       "</style>\n",
       "<table border=\"1\" class=\"dataframe\">\n",
       "  <thead>\n",
       "    <tr style=\"text-align: right;\">\n",
       "      <th></th>\n",
       "      <th>Fecha</th>\n",
       "      <th>Ingresos</th>\n",
       "      <th>Egresos</th>\n",
       "      <th>Beneficio</th>\n",
       "    </tr>\n",
       "  </thead>\n",
       "  <tbody>\n",
       "    <tr>\n",
       "      <th>0</th>\n",
       "      <td>2010</td>\n",
       "      <td>2000</td>\n",
       "      <td>2500</td>\n",
       "      <td>-500</td>\n",
       "    </tr>\n",
       "    <tr>\n",
       "      <th>1</th>\n",
       "      <td>2011</td>\n",
       "      <td>3000</td>\n",
       "      <td>2500</td>\n",
       "      <td>500</td>\n",
       "    </tr>\n",
       "    <tr>\n",
       "      <th>2</th>\n",
       "      <td>2012</td>\n",
       "      <td>4000</td>\n",
       "      <td>5000</td>\n",
       "      <td>-1000</td>\n",
       "    </tr>\n",
       "    <tr>\n",
       "      <th>3</th>\n",
       "      <td>2013</td>\n",
       "      <td>6000</td>\n",
       "      <td>7000</td>\n",
       "      <td>-1000</td>\n",
       "    </tr>\n",
       "    <tr>\n",
       "      <th>4</th>\n",
       "      <td>2014</td>\n",
       "      <td>1000</td>\n",
       "      <td>1500</td>\n",
       "      <td>-500</td>\n",
       "    </tr>\n",
       "  </tbody>\n",
       "</table>\n",
       "</div>"
      ],
      "text/plain": [
       "   Fecha  Ingresos  Egresos  Beneficio\n",
       "0   2010      2000     2500       -500\n",
       "1   2011      3000     2500        500\n",
       "2   2012      4000     5000      -1000\n",
       "3   2013      6000     7000      -1000\n",
       "4   2014      1000     1500       -500"
      ]
     },
     "execution_count": 25,
     "metadata": {},
     "output_type": "execute_result"
    }
   ],
   "source": [
    "df['Beneficio']=df['Ingresos']-df['Egresos']\n",
    "df"
   ]
  },
  {
   "cell_type": "markdown",
   "id": "bdb12f90",
   "metadata": {},
   "source": [
    "Explicacion:\n",
    "\n",
    "Se crea la columna 'Beneficio' la cual es la diferencia aritmetica de las columnas 'Ingresos' y 'Egresos'"
   ]
  },
  {
   "cell_type": "markdown",
   "id": "3d278d88",
   "metadata": {},
   "source": [
    "D.\tEl programa debe crear otra columna llamada ganancia la cuál indique para cada año si ha habido beneficios o no de manera booleana y mostrarla por pantalla."
   ]
  },
  {
   "cell_type": "code",
   "execution_count": 28,
   "id": "d3006ebe",
   "metadata": {},
   "outputs": [
    {
     "data": {
      "text/html": [
       "<div>\n",
       "<style scoped>\n",
       "    .dataframe tbody tr th:only-of-type {\n",
       "        vertical-align: middle;\n",
       "    }\n",
       "\n",
       "    .dataframe tbody tr th {\n",
       "        vertical-align: top;\n",
       "    }\n",
       "\n",
       "    .dataframe thead th {\n",
       "        text-align: right;\n",
       "    }\n",
       "</style>\n",
       "<table border=\"1\" class=\"dataframe\">\n",
       "  <thead>\n",
       "    <tr style=\"text-align: right;\">\n",
       "      <th></th>\n",
       "      <th>Fecha</th>\n",
       "      <th>Ingresos</th>\n",
       "      <th>Egresos</th>\n",
       "      <th>Beneficio</th>\n",
       "      <th>Ganancia</th>\n",
       "    </tr>\n",
       "  </thead>\n",
       "  <tbody>\n",
       "    <tr>\n",
       "      <th>0</th>\n",
       "      <td>2010</td>\n",
       "      <td>2000</td>\n",
       "      <td>2500</td>\n",
       "      <td>-500</td>\n",
       "      <td>False</td>\n",
       "    </tr>\n",
       "    <tr>\n",
       "      <th>1</th>\n",
       "      <td>2011</td>\n",
       "      <td>3000</td>\n",
       "      <td>2500</td>\n",
       "      <td>500</td>\n",
       "      <td>True</td>\n",
       "    </tr>\n",
       "    <tr>\n",
       "      <th>2</th>\n",
       "      <td>2012</td>\n",
       "      <td>4000</td>\n",
       "      <td>5000</td>\n",
       "      <td>-1000</td>\n",
       "      <td>False</td>\n",
       "    </tr>\n",
       "    <tr>\n",
       "      <th>3</th>\n",
       "      <td>2013</td>\n",
       "      <td>6000</td>\n",
       "      <td>7000</td>\n",
       "      <td>-1000</td>\n",
       "      <td>False</td>\n",
       "    </tr>\n",
       "    <tr>\n",
       "      <th>4</th>\n",
       "      <td>2014</td>\n",
       "      <td>1000</td>\n",
       "      <td>1500</td>\n",
       "      <td>-500</td>\n",
       "      <td>False</td>\n",
       "    </tr>\n",
       "  </tbody>\n",
       "</table>\n",
       "</div>"
      ],
      "text/plain": [
       "   Fecha  Ingresos  Egresos  Beneficio  Ganancia\n",
       "0   2010      2000     2500       -500     False\n",
       "1   2011      3000     2500        500      True\n",
       "2   2012      4000     5000      -1000     False\n",
       "3   2013      6000     7000      -1000     False\n",
       "4   2014      1000     1500       -500     False"
      ]
     },
     "execution_count": 28,
     "metadata": {},
     "output_type": "execute_result"
    }
   ],
   "source": [
    "df['Ganancia']=df['Beneficio']>0\n",
    "df"
   ]
  },
  {
   "cell_type": "markdown",
   "id": "99647e08",
   "metadata": {},
   "source": [
    "Explicacion:\n",
    "\n",
    "1. Se crea la columna 'Ganancia', y sus valores son determinados si los valores de la columna beneficio es mayor a cero."
   ]
  },
  {
   "cell_type": "markdown",
   "id": "e13c1359",
   "metadata": {},
   "source": [
    "E.\tFinalmente el programa debe mostrar por pantalla la lista de los años con pérdidas."
   ]
  },
  {
   "cell_type": "code",
   "execution_count": 29,
   "id": "cbbe61ce",
   "metadata": {},
   "outputs": [
    {
     "data": {
      "text/html": [
       "<div>\n",
       "<style scoped>\n",
       "    .dataframe tbody tr th:only-of-type {\n",
       "        vertical-align: middle;\n",
       "    }\n",
       "\n",
       "    .dataframe tbody tr th {\n",
       "        vertical-align: top;\n",
       "    }\n",
       "\n",
       "    .dataframe thead th {\n",
       "        text-align: right;\n",
       "    }\n",
       "</style>\n",
       "<table border=\"1\" class=\"dataframe\">\n",
       "  <thead>\n",
       "    <tr style=\"text-align: right;\">\n",
       "      <th></th>\n",
       "      <th>Fecha</th>\n",
       "      <th>Ingresos</th>\n",
       "      <th>Egresos</th>\n",
       "      <th>Beneficio</th>\n",
       "      <th>Ganancia</th>\n",
       "    </tr>\n",
       "  </thead>\n",
       "  <tbody>\n",
       "    <tr>\n",
       "      <th>0</th>\n",
       "      <td>2010</td>\n",
       "      <td>2000</td>\n",
       "      <td>2500</td>\n",
       "      <td>-500</td>\n",
       "      <td>False</td>\n",
       "    </tr>\n",
       "    <tr>\n",
       "      <th>2</th>\n",
       "      <td>2012</td>\n",
       "      <td>4000</td>\n",
       "      <td>5000</td>\n",
       "      <td>-1000</td>\n",
       "      <td>False</td>\n",
       "    </tr>\n",
       "    <tr>\n",
       "      <th>3</th>\n",
       "      <td>2013</td>\n",
       "      <td>6000</td>\n",
       "      <td>7000</td>\n",
       "      <td>-1000</td>\n",
       "      <td>False</td>\n",
       "    </tr>\n",
       "    <tr>\n",
       "      <th>4</th>\n",
       "      <td>2014</td>\n",
       "      <td>1000</td>\n",
       "      <td>1500</td>\n",
       "      <td>-500</td>\n",
       "      <td>False</td>\n",
       "    </tr>\n",
       "  </tbody>\n",
       "</table>\n",
       "</div>"
      ],
      "text/plain": [
       "   Fecha  Ingresos  Egresos  Beneficio  Ganancia\n",
       "0   2010      2000     2500       -500     False\n",
       "2   2012      4000     5000      -1000     False\n",
       "3   2013      6000     7000      -1000     False\n",
       "4   2014      1000     1500       -500     False"
      ]
     },
     "execution_count": 29,
     "metadata": {},
     "output_type": "execute_result"
    }
   ],
   "source": [
    "df[df['Ganancia']==False]"
   ]
  },
  {
   "cell_type": "markdown",
   "id": "67e9b88f",
   "metadata": {},
   "source": [
    "Explicacion:\n",
    "\n",
    "1. Se filtran los valores donde la ganancia es falsa."
   ]
  },
  {
   "cell_type": "markdown",
   "id": "cd2bee51",
   "metadata": {},
   "source": [
    "Ejercicio 3\n",
    "\n",
    "El fichero horas-trabajo.csv contiene el número de horas mensuales trabajadas por los empleados de una empresa durante el primer cuatrimestre. Crear un programa que realice las siguientes operaciones utilizando la librería Pandas:\n",
    "A.\tCrea una columna con el número total de horas trabajadas para cada operador.\n"
   ]
  },
  {
   "cell_type": "code",
   "execution_count": 59,
   "id": "e5d7c3ea",
   "metadata": {},
   "outputs": [
    {
     "data": {
      "text/html": [
       "<div>\n",
       "<style scoped>\n",
       "    .dataframe tbody tr th:only-of-type {\n",
       "        vertical-align: middle;\n",
       "    }\n",
       "\n",
       "    .dataframe tbody tr th {\n",
       "        vertical-align: top;\n",
       "    }\n",
       "\n",
       "    .dataframe thead th {\n",
       "        text-align: right;\n",
       "    }\n",
       "</style>\n",
       "<table border=\"1\" class=\"dataframe\">\n",
       "  <thead>\n",
       "    <tr style=\"text-align: right;\">\n",
       "      <th></th>\n",
       "      <th>Id</th>\n",
       "      <th>Departamento</th>\n",
       "      <th>Enero</th>\n",
       "      <th>Febrero</th>\n",
       "      <th>Marzo</th>\n",
       "      <th>Abril</th>\n",
       "      <th>total_horas</th>\n",
       "    </tr>\n",
       "  </thead>\n",
       "  <tbody>\n",
       "    <tr>\n",
       "      <th>0</th>\n",
       "      <td>OP1</td>\n",
       "      <td>Proveedores</td>\n",
       "      <td>180</td>\n",
       "      <td>160.0</td>\n",
       "      <td>140.0</td>\n",
       "      <td>180.0</td>\n",
       "      <td>660.0</td>\n",
       "    </tr>\n",
       "    <tr>\n",
       "      <th>1</th>\n",
       "      <td>OP2</td>\n",
       "      <td>Ventas</td>\n",
       "      <td>120</td>\n",
       "      <td>140.0</td>\n",
       "      <td>0.0</td>\n",
       "      <td>100.0</td>\n",
       "      <td>360.0</td>\n",
       "    </tr>\n",
       "    <tr>\n",
       "      <th>2</th>\n",
       "      <td>OP3</td>\n",
       "      <td>Ventas</td>\n",
       "      <td>80</td>\n",
       "      <td>90.0</td>\n",
       "      <td>80.0</td>\n",
       "      <td>80.0</td>\n",
       "      <td>330.0</td>\n",
       "    </tr>\n",
       "    <tr>\n",
       "      <th>3</th>\n",
       "      <td>OP5</td>\n",
       "      <td>IT</td>\n",
       "      <td>180</td>\n",
       "      <td>170.0</td>\n",
       "      <td>180.0</td>\n",
       "      <td>180.0</td>\n",
       "      <td>710.0</td>\n",
       "    </tr>\n",
       "    <tr>\n",
       "      <th>4</th>\n",
       "      <td>OP6</td>\n",
       "      <td>Marketing</td>\n",
       "      <td>100</td>\n",
       "      <td>0.0</td>\n",
       "      <td>100.0</td>\n",
       "      <td>0.0</td>\n",
       "      <td>200.0</td>\n",
       "    </tr>\n",
       "    <tr>\n",
       "      <th>5</th>\n",
       "      <td>OP7</td>\n",
       "      <td>Ventas</td>\n",
       "      <td>160</td>\n",
       "      <td>160.0</td>\n",
       "      <td>160.0</td>\n",
       "      <td>160.0</td>\n",
       "      <td>640.0</td>\n",
       "    </tr>\n",
       "    <tr>\n",
       "      <th>6</th>\n",
       "      <td>OP8</td>\n",
       "      <td>Proveedores</td>\n",
       "      <td>100</td>\n",
       "      <td>80.0</td>\n",
       "      <td>110.0</td>\n",
       "      <td>80.0</td>\n",
       "      <td>370.0</td>\n",
       "    </tr>\n",
       "    <tr>\n",
       "      <th>7</th>\n",
       "      <td>OP9</td>\n",
       "      <td>IT</td>\n",
       "      <td>80</td>\n",
       "      <td>80.0</td>\n",
       "      <td>80.0</td>\n",
       "      <td>80.0</td>\n",
       "      <td>320.0</td>\n",
       "    </tr>\n",
       "    <tr>\n",
       "      <th>8</th>\n",
       "      <td>OP10</td>\n",
       "      <td>Ventas</td>\n",
       "      <td>180</td>\n",
       "      <td>160.0</td>\n",
       "      <td>180.0</td>\n",
       "      <td>180.0</td>\n",
       "      <td>700.0</td>\n",
       "    </tr>\n",
       "  </tbody>\n",
       "</table>\n",
       "</div>"
      ],
      "text/plain": [
       "     Id Departamento  Enero  Febrero  Marzo  Abril  total_horas\n",
       "0   OP1  Proveedores    180    160.0  140.0  180.0        660.0\n",
       "1   OP2       Ventas    120    140.0    0.0  100.0        360.0\n",
       "2   OP3       Ventas     80     90.0   80.0   80.0        330.0\n",
       "3   OP5           IT    180    170.0  180.0  180.0        710.0\n",
       "4   OP6    Marketing    100      0.0  100.0    0.0        200.0\n",
       "5   OP7       Ventas    160    160.0  160.0  160.0        640.0\n",
       "6   OP8  Proveedores    100     80.0  110.0   80.0        370.0\n",
       "7   OP9           IT     80     80.0   80.0   80.0        320.0\n",
       "8  OP10       Ventas    180    160.0  180.0  180.0        700.0"
      ]
     },
     "execution_count": 59,
     "metadata": {},
     "output_type": "execute_result"
    }
   ],
   "source": [
    "import pandas as pd\n",
    "\n",
    "ht = pd.read_csv('horas-trabajo.csv', sep=';')\n",
    "ht = ht.fillna(0)\n",
    "ht['total_horas']=ht['Enero']+ht['Febrero']+ht['Marzo']+ht['Abril']\n",
    "ht\n"
   ]
  },
  {
   "cell_type": "markdown",
   "id": "a636db92",
   "metadata": {},
   "source": [
    "Explicacion:\n",
    "\n",
    "1. Se importa la librerias pandas.\n",
    "2. Se lee el archivo 'horas-trabajo.csv', separado por ';', se define como ht.\n",
    "3. Los valores Naan son reemplazados por 0 utiloiando el comando fillna.\n",
    "4. Se crea una nueva columna llamada 'total_horas' la cual es la sumatoria de todas los meses.\n",
    "5. se muesta el dtaframe llamado ht."
   ]
  },
  {
   "cell_type": "markdown",
   "id": "5cb5727f",
   "metadata": {},
   "source": [
    "B.\tMuestra cual es el promedio de horas trabajadas en total en la empresa durante el mes Marzo"
   ]
  },
  {
   "cell_type": "code",
   "execution_count": 60,
   "id": "c2042e62",
   "metadata": {},
   "outputs": [
    {
     "name": "stdout",
     "output_type": "stream",
     "text": [
      "El promedio de hora trabajadas para el mes de marzo son:  114.44\n"
     ]
    }
   ],
   "source": [
    "ht_marzo=ht['Marzo'].mean()\n",
    "ht_marzo=format(ht_marzo, \".2f\")\n",
    "\n",
    "print('El promedio de hora trabajadas para el mes de marzo son: ',ht_marzo)"
   ]
  },
  {
   "cell_type": "markdown",
   "id": "2d9e83c9",
   "metadata": {},
   "source": [
    "Explicacion:\n",
    "\n",
    "1. Se busca el promedio del los valors del mes de Marzo utilizando el commando mean(), se asigna a la variable ht_marzo.\n",
    "2. Se le asigna formato a la variable ht_marzo para motrar el valor con dos decimales.\n",
    "3. Se imprime el resultado."
   ]
  },
  {
   "cell_type": "markdown",
   "id": "53ceaab6",
   "metadata": {},
   "source": [
    "C.\tMuestra cuántos operadores hay por cada departamento de la empresa."
   ]
  },
  {
   "cell_type": "code",
   "execution_count": 73,
   "id": "896b5f0e",
   "metadata": {},
   "outputs": [
    {
     "data": {
      "text/html": [
       "<div>\n",
       "<style scoped>\n",
       "    .dataframe tbody tr th:only-of-type {\n",
       "        vertical-align: middle;\n",
       "    }\n",
       "\n",
       "    .dataframe tbody tr th {\n",
       "        vertical-align: top;\n",
       "    }\n",
       "\n",
       "    .dataframe thead th {\n",
       "        text-align: right;\n",
       "    }\n",
       "</style>\n",
       "<table border=\"1\" class=\"dataframe\">\n",
       "  <thead>\n",
       "    <tr style=\"text-align: right;\">\n",
       "      <th></th>\n",
       "      <th>Id</th>\n",
       "    </tr>\n",
       "    <tr>\n",
       "      <th>Departamento</th>\n",
       "      <th></th>\n",
       "    </tr>\n",
       "  </thead>\n",
       "  <tbody>\n",
       "    <tr>\n",
       "      <th>IT</th>\n",
       "      <td>2</td>\n",
       "    </tr>\n",
       "    <tr>\n",
       "      <th>Marketing</th>\n",
       "      <td>1</td>\n",
       "    </tr>\n",
       "    <tr>\n",
       "      <th>Proveedores</th>\n",
       "      <td>2</td>\n",
       "    </tr>\n",
       "    <tr>\n",
       "      <th>Ventas</th>\n",
       "      <td>4</td>\n",
       "    </tr>\n",
       "  </tbody>\n",
       "</table>\n",
       "</div>"
      ],
      "text/plain": [
       "              Id\n",
       "Departamento    \n",
       "IT             2\n",
       "Marketing      1\n",
       "Proveedores    2\n",
       "Ventas         4"
      ]
     },
     "execution_count": 73,
     "metadata": {},
     "output_type": "execute_result"
    }
   ],
   "source": [
    "ht.groupby('Departamento')[['Id']].count()"
   ]
  },
  {
   "cell_type": "markdown",
   "id": "e8e54980",
   "metadata": {},
   "source": [
    "1. Se utiliza el comando groupby por departamento, haciendo conteo de los operadores los cuales se encuentran en la columna 'Id'."
   ]
  },
  {
   "cell_type": "markdown",
   "id": "21c178d4",
   "metadata": {},
   "source": [
    "D.\tMuestra el número de empleados que han trabajado todos los meses, es decir, que tienen un número de horas todos los meses del cuatrimestre."
   ]
  },
  {
   "cell_type": "code",
   "execution_count": 69,
   "id": "6d0d19e8",
   "metadata": {},
   "outputs": [
    {
     "data": {
      "text/html": [
       "<div>\n",
       "<style scoped>\n",
       "    .dataframe tbody tr th:only-of-type {\n",
       "        vertical-align: middle;\n",
       "    }\n",
       "\n",
       "    .dataframe tbody tr th {\n",
       "        vertical-align: top;\n",
       "    }\n",
       "\n",
       "    .dataframe thead th {\n",
       "        text-align: right;\n",
       "    }\n",
       "</style>\n",
       "<table border=\"1\" class=\"dataframe\">\n",
       "  <thead>\n",
       "    <tr style=\"text-align: right;\">\n",
       "      <th></th>\n",
       "      <th>Id</th>\n",
       "      <th>Departamento</th>\n",
       "      <th>Enero</th>\n",
       "      <th>Febrero</th>\n",
       "      <th>Marzo</th>\n",
       "      <th>Abril</th>\n",
       "      <th>total_horas</th>\n",
       "    </tr>\n",
       "  </thead>\n",
       "  <tbody>\n",
       "    <tr>\n",
       "      <th>0</th>\n",
       "      <td>OP1</td>\n",
       "      <td>Proveedores</td>\n",
       "      <td>180</td>\n",
       "      <td>160.0</td>\n",
       "      <td>140.0</td>\n",
       "      <td>180.0</td>\n",
       "      <td>660.0</td>\n",
       "    </tr>\n",
       "    <tr>\n",
       "      <th>1</th>\n",
       "      <td>OP3</td>\n",
       "      <td>Ventas</td>\n",
       "      <td>80</td>\n",
       "      <td>90.0</td>\n",
       "      <td>80.0</td>\n",
       "      <td>80.0</td>\n",
       "      <td>330.0</td>\n",
       "    </tr>\n",
       "    <tr>\n",
       "      <th>2</th>\n",
       "      <td>OP5</td>\n",
       "      <td>IT</td>\n",
       "      <td>180</td>\n",
       "      <td>170.0</td>\n",
       "      <td>180.0</td>\n",
       "      <td>180.0</td>\n",
       "      <td>710.0</td>\n",
       "    </tr>\n",
       "    <tr>\n",
       "      <th>3</th>\n",
       "      <td>OP7</td>\n",
       "      <td>Ventas</td>\n",
       "      <td>160</td>\n",
       "      <td>160.0</td>\n",
       "      <td>160.0</td>\n",
       "      <td>160.0</td>\n",
       "      <td>640.0</td>\n",
       "    </tr>\n",
       "    <tr>\n",
       "      <th>4</th>\n",
       "      <td>OP8</td>\n",
       "      <td>Proveedores</td>\n",
       "      <td>100</td>\n",
       "      <td>80.0</td>\n",
       "      <td>110.0</td>\n",
       "      <td>80.0</td>\n",
       "      <td>370.0</td>\n",
       "    </tr>\n",
       "    <tr>\n",
       "      <th>5</th>\n",
       "      <td>OP9</td>\n",
       "      <td>IT</td>\n",
       "      <td>80</td>\n",
       "      <td>80.0</td>\n",
       "      <td>80.0</td>\n",
       "      <td>80.0</td>\n",
       "      <td>320.0</td>\n",
       "    </tr>\n",
       "    <tr>\n",
       "      <th>6</th>\n",
       "      <td>OP10</td>\n",
       "      <td>Ventas</td>\n",
       "      <td>180</td>\n",
       "      <td>160.0</td>\n",
       "      <td>180.0</td>\n",
       "      <td>180.0</td>\n",
       "      <td>700.0</td>\n",
       "    </tr>\n",
       "  </tbody>\n",
       "</table>\n",
       "</div>"
      ],
      "text/plain": [
       "     Id Departamento  Enero  Febrero  Marzo  Abril  total_horas\n",
       "0   OP1  Proveedores    180    160.0  140.0  180.0        660.0\n",
       "1   OP3       Ventas     80     90.0   80.0   80.0        330.0\n",
       "2   OP5           IT    180    170.0  180.0  180.0        710.0\n",
       "3   OP7       Ventas    160    160.0  160.0  160.0        640.0\n",
       "4   OP8  Proveedores    100     80.0  110.0   80.0        370.0\n",
       "5   OP9           IT     80     80.0   80.0   80.0        320.0\n",
       "6  OP10       Ventas    180    160.0  180.0  180.0        700.0"
      ]
     },
     "execution_count": 69,
     "metadata": {},
     "output_type": "execute_result"
    }
   ],
   "source": [
    "ht1 = ht.drop(ht.index[(ht == 0).any(axis=1)]).reset_index(drop=True)\n",
    "ht1"
   ]
  },
  {
   "cell_type": "markdown",
   "id": "6e5724fc",
   "metadata": {},
   "source": [
    "Explicacion:\n",
    "    \n",
    "1. (ht == 0).any(axis=1) crea una Serie booleana que indica para cada fila si hay al menos un valor igual a cero.\n",
    "2. ht.index[(ht == 0).any(axis=1)] obtiene los índices de las filas que cumplen esta condición, y luego ht.drop() elimina esas filas del DataFrame. \n",
    "3.El comando reset_index() es utilizado para resetear el índice del DataFrame resultante."
   ]
  },
  {
   "cell_type": "markdown",
   "id": "3c57ad65",
   "metadata": {},
   "source": [
    "Ejercicio 4\n",
    "Crear un programa utilizando la librería Pandas y Matplotlib que realice lo siguiente:\n",
    "\n",
    "A.\tCrear el siguiente DataFrame indexado:\n"
   ]
  },
  {
   "cell_type": "code",
   "execution_count": 95,
   "id": "21859b31",
   "metadata": {},
   "outputs": [
    {
     "data": {
      "text/html": [
       "<div>\n",
       "<style scoped>\n",
       "    .dataframe tbody tr th:only-of-type {\n",
       "        vertical-align: middle;\n",
       "    }\n",
       "\n",
       "    .dataframe tbody tr th {\n",
       "        vertical-align: top;\n",
       "    }\n",
       "\n",
       "    .dataframe thead th {\n",
       "        text-align: right;\n",
       "    }\n",
       "</style>\n",
       "<table border=\"1\" class=\"dataframe\">\n",
       "  <thead>\n",
       "    <tr style=\"text-align: right;\">\n",
       "      <th></th>\n",
       "      <th>Dia</th>\n",
       "      <th>Calorias</th>\n",
       "      <th>Tiempo</th>\n",
       "    </tr>\n",
       "  </thead>\n",
       "  <tbody>\n",
       "    <tr>\n",
       "      <th>0</th>\n",
       "      <td>Lunes</td>\n",
       "      <td>420</td>\n",
       "      <td>60</td>\n",
       "    </tr>\n",
       "    <tr>\n",
       "      <th>1</th>\n",
       "      <td>Martes</td>\n",
       "      <td>380</td>\n",
       "      <td>40</td>\n",
       "    </tr>\n",
       "    <tr>\n",
       "      <th>2</th>\n",
       "      <td>Miercoles</td>\n",
       "      <td>390</td>\n",
       "      <td>75</td>\n",
       "    </tr>\n",
       "    <tr>\n",
       "      <th>3</th>\n",
       "      <td>Jueves</td>\n",
       "      <td>490</td>\n",
       "      <td>55</td>\n",
       "    </tr>\n",
       "    <tr>\n",
       "      <th>4</th>\n",
       "      <td>Viernes</td>\n",
       "      <td>300</td>\n",
       "      <td>45</td>\n",
       "    </tr>\n",
       "  </tbody>\n",
       "</table>\n",
       "</div>"
      ],
      "text/plain": [
       "         Dia  Calorias  Tiempo\n",
       "0      Lunes       420      60\n",
       "1     Martes       380      40\n",
       "2  Miercoles       390      75\n",
       "3     Jueves       490      55\n",
       "4    Viernes       300      45"
      ]
     },
     "execution_count": 95,
     "metadata": {},
     "output_type": "execute_result"
    }
   ],
   "source": [
    "import pandas as pd \n",
    "import matplotlib.pyplot as plt \n",
    "\n",
    "ejer4={'Dia':['Lunes','Martes','Miercoles','Jueves','Viernes'],'Calorias':[420,380,390,490,300],'Tiempo':[60,40,75,55,45]}\n",
    "dataf=pd.DataFrame(ejer4)\n",
    "dataf"
   ]
  },
  {
   "cell_type": "markdown",
   "id": "eb95e5f2",
   "metadata": {},
   "source": [
    "Explicacion:\n",
    "\n",
    "1. Se importa la libreria pandas y matplotlib.\n",
    "2. Se cea el diccionario con los valores dados por el ejercicio.\n",
    "3. Se crea el dataframe 'dataf' con el comando pd.DataFrame.\n",
    "4. se muestra el dataframe 'dataf' en pantalla."
   ]
  },
  {
   "cell_type": "markdown",
   "id": "92adb42d",
   "metadata": {},
   "source": [
    "B.\tCalcular la media, mediana y desviación típica de ambas columnas."
   ]
  },
  {
   "cell_type": "code",
   "execution_count": 96,
   "id": "147bdd07",
   "metadata": {},
   "outputs": [
    {
     "name": "stdout",
     "output_type": "stream",
     "text": [
      "Media: \n",
      " Calorias    396.0\n",
      "Tiempo       55.0\n",
      "dtype: float64 \n",
      "\n",
      "Mediana: \n",
      " Calorias    390.0\n",
      "Tiempo       55.0\n",
      "dtype: float64 \n",
      "\n",
      "Desviacion: \n",
      " Calorias    68.774995\n",
      "Tiempo      13.693064\n",
      "dtype: float64 \n",
      "\n"
     ]
    }
   ],
   "source": [
    "media = dataf[['Calorias','Tiempo']].mean()\n",
    "mediana = dataf[['Calorias','Tiempo']].median()\n",
    "desviacion= dataf[['Calorias','Tiempo']].std()\n",
    "\n",
    "print('Media: \\n',media,'\\n')\n",
    "print('Mediana: \\n',mediana,'\\n')\n",
    "print('Desviacion: \\n',desviacion,'\\n')"
   ]
  },
  {
   "cell_type": "markdown",
   "id": "c48ff230",
   "metadata": {},
   "source": [
    "Explicacion:\n",
    "\n",
    "1. Se calcula la media de las columnas 'calorias' y 'tiempo' con el comando mean(), resultado se asigna a la variable media.\n",
    "2. Se calcula la mediana de las columnas 'calorias' y 'tiempo' con el comando median(), resltado se asgina a la variable mediana.\n",
    "3. Se calcula la desv std de las columnas 'calorias' y 'tiempo' con el comando std(), resultado se asgina al a variable desviacion.\n",
    "4. Se muestrna los tres resultados en pantalla con el comando print."
   ]
  },
  {
   "cell_type": "markdown",
   "id": "ad698332",
   "metadata": {},
   "source": [
    "C.\tAñadir otra columna booleana al DataFrame para ver si se ha cumplido el reto de quemar más de 400 calorías por hora. La nueva columna debe generarse aplicando una fórmula a las otras columnas. "
   ]
  },
  {
   "cell_type": "code",
   "execution_count": 97,
   "id": "ce0fbb42",
   "metadata": {},
   "outputs": [
    {
     "data": {
      "text/html": [
       "<div>\n",
       "<style scoped>\n",
       "    .dataframe tbody tr th:only-of-type {\n",
       "        vertical-align: middle;\n",
       "    }\n",
       "\n",
       "    .dataframe tbody tr th {\n",
       "        vertical-align: top;\n",
       "    }\n",
       "\n",
       "    .dataframe thead th {\n",
       "        text-align: right;\n",
       "    }\n",
       "</style>\n",
       "<table border=\"1\" class=\"dataframe\">\n",
       "  <thead>\n",
       "    <tr style=\"text-align: right;\">\n",
       "      <th></th>\n",
       "      <th>Dia</th>\n",
       "      <th>Calorias</th>\n",
       "      <th>Tiempo</th>\n",
       "      <th>400cal_Reto_cumplido</th>\n",
       "    </tr>\n",
       "  </thead>\n",
       "  <tbody>\n",
       "    <tr>\n",
       "      <th>0</th>\n",
       "      <td>Lunes</td>\n",
       "      <td>420</td>\n",
       "      <td>60</td>\n",
       "      <td>True</td>\n",
       "    </tr>\n",
       "    <tr>\n",
       "      <th>1</th>\n",
       "      <td>Martes</td>\n",
       "      <td>380</td>\n",
       "      <td>40</td>\n",
       "      <td>False</td>\n",
       "    </tr>\n",
       "    <tr>\n",
       "      <th>2</th>\n",
       "      <td>Miercoles</td>\n",
       "      <td>390</td>\n",
       "      <td>75</td>\n",
       "      <td>False</td>\n",
       "    </tr>\n",
       "    <tr>\n",
       "      <th>3</th>\n",
       "      <td>Jueves</td>\n",
       "      <td>490</td>\n",
       "      <td>55</td>\n",
       "      <td>True</td>\n",
       "    </tr>\n",
       "    <tr>\n",
       "      <th>4</th>\n",
       "      <td>Viernes</td>\n",
       "      <td>300</td>\n",
       "      <td>45</td>\n",
       "      <td>False</td>\n",
       "    </tr>\n",
       "  </tbody>\n",
       "</table>\n",
       "</div>"
      ],
      "text/plain": [
       "         Dia  Calorias  Tiempo  400cal_Reto_cumplido\n",
       "0      Lunes       420      60                  True\n",
       "1     Martes       380      40                 False\n",
       "2  Miercoles       390      75                 False\n",
       "3     Jueves       490      55                  True\n",
       "4    Viernes       300      45                 False"
      ]
     },
     "execution_count": 97,
     "metadata": {},
     "output_type": "execute_result"
    }
   ],
   "source": [
    "dataf['400cal_Reto_cumplido']=dataf['Calorias']>=400\n",
    "dataf"
   ]
  },
  {
   "cell_type": "markdown",
   "id": "a39b24f2",
   "metadata": {},
   "source": [
    "Explicacion:\n",
    "    \n",
    "1. Se crea la columna '400cal_Reto_cumplido' en el data frame con valores booleanos cumpliendo la formula >=400 en la columna 'Calorias'.\n",
    "2. Se muestra el dataframe con la columna anexada."
   ]
  },
  {
   "cell_type": "markdown",
   "id": "2754f792",
   "metadata": {},
   "source": [
    "D.\tFiltrar el DataFrame y devolver otro DataFrame con las filas pares que cumplan que el número de calorías es mayor de 400."
   ]
  },
  {
   "cell_type": "code",
   "execution_count": 104,
   "id": "27d2374b",
   "metadata": {},
   "outputs": [
    {
     "data": {
      "text/html": [
       "<div>\n",
       "<style scoped>\n",
       "    .dataframe tbody tr th:only-of-type {\n",
       "        vertical-align: middle;\n",
       "    }\n",
       "\n",
       "    .dataframe tbody tr th {\n",
       "        vertical-align: top;\n",
       "    }\n",
       "\n",
       "    .dataframe thead th {\n",
       "        text-align: right;\n",
       "    }\n",
       "</style>\n",
       "<table border=\"1\" class=\"dataframe\">\n",
       "  <thead>\n",
       "    <tr style=\"text-align: right;\">\n",
       "      <th></th>\n",
       "      <th>Dia</th>\n",
       "      <th>Calorias</th>\n",
       "      <th>Tiempo</th>\n",
       "      <th>400cal_Reto_cumplido</th>\n",
       "    </tr>\n",
       "  </thead>\n",
       "  <tbody>\n",
       "    <tr>\n",
       "      <th>3</th>\n",
       "      <td>Jueves</td>\n",
       "      <td>490</td>\n",
       "      <td>55</td>\n",
       "      <td>True</td>\n",
       "    </tr>\n",
       "  </tbody>\n",
       "</table>\n",
       "</div>"
      ],
      "text/plain": [
       "      Dia  Calorias  Tiempo  400cal_Reto_cumplido\n",
       "3  Jueves       490      55                  True"
      ]
     },
     "execution_count": 104,
     "metadata": {},
     "output_type": "execute_result"
    }
   ],
   "source": [
    "import numpy as np\n",
    "\n",
    "mascara=np.arange(1,5,2)\n",
    "dataf1=dataf.loc[mascara]\n",
    "dataf1[dataf1['400cal_Reto_cumplido']==True]\n"
   ]
  },
  {
   "cell_type": "markdown",
   "id": "7084d24a",
   "metadata": {},
   "source": [
    "Explicacion:\n",
    "    \n",
    "1. Se importa la libreria numpy.\n",
    "2. Se crea una mascara para tomar los valores pares de entre los rangos 1 y 5.\n",
    "3. Se utiliza la mascara y el comando loc para mostrar las filas pares.\n",
    "4. Se muestran las filas pares que cumplen la condicion del reto de 400 calorias."
   ]
  },
  {
   "cell_type": "markdown",
   "id": "8c125083",
   "metadata": {},
   "source": [
    "E.\tAñadir otra columna con los porcentajes de días que se ha conseguido el reto y los que no."
   ]
  },
  {
   "cell_type": "code",
   "execution_count": 117,
   "id": "2a6581a1",
   "metadata": {},
   "outputs": [
    {
     "name": "stdout",
     "output_type": "stream",
     "text": [
      "El porcentaje de dias de reto cumplido y no complido son: \n",
      " False    60.0\n",
      "True     40.0\n",
      "Name: 400cal_Reto_cumplido, dtype: float64\n"
     ]
    }
   ],
   "source": [
    "print('El porcentaje de dias de reto cumplido y no complido son: \\n', dataf['400cal_Reto_cumplido'].value_counts(normalize=True) * 100)"
   ]
  },
  {
   "cell_type": "markdown",
   "id": "e566cc0b",
   "metadata": {},
   "source": [
    "Explicacion:\n",
    "\n",
    "No me quedo claro ese ejercicio, ya que creo que seria confuso crear una nueva columna representando el mismo numero de porcentaje por los dias de retos cumplidos y no cumplidos.\n",
    "\n",
    "\n",
    "Asi que utilize el commando value_counts(normalize=True) para mostrar los porcentajes."
   ]
  },
  {
   "cell_type": "code",
   "execution_count": 108,
   "id": "1219c21d",
   "metadata": {},
   "outputs": [
    {
     "data": {
      "image/png": "[encoded data removed]",
      "text/plain": [
       "<Figure size 640x480 with 1 Axes>"
      ]
     },
     "metadata": {},
     "output_type": "display_data"
    }
   ],
   "source": [
    "plt.plot(dataf['Dia'], dataf['Calorias'], label='Calorias')\n",
    "plt.plot(dataf['Dia'], dataf['Tiempo'], label='Tiempo')\n",
    "plt.xlabel('Día')\n",
    "plt.ylabel('Calorias/Tiempo')\n",
    "plt.title('Progresión semanal de Calorías y Tiempo')\n",
    "plt.legend()\n",
    "plt.show()"
   ]
  },
  {
   "cell_type": "markdown",
   "id": "e60fc95b",
   "metadata": {},
   "source": [
    "Explicacion:\n",
    "\n",
    "1. Se utiliza el commando plt.plot dos veces para crear dos lienas de graficas vs tiempo en el mismo plano.\n",
    "2. La primera grafica es dias vs calorias.\n",
    "3. La segunda grafica es de dias vs tiempo.\n",
    "4. Se asignan las extiquetas para los ejes x,y.\n",
    "5. Se asigna el titulo del grafico.\n",
    "6. Se utiliza el comando plt.legend() para mostrar las leyendas de cada grafica y distinguir el color de su linea.\n",
    "7. se muestra la grafica comando plt.show()."
   ]
  },
  {
   "cell_type": "markdown",
   "id": "08dd9609",
   "metadata": {},
   "source": [
    "Ejercicio 5\n",
    "El fichero coches.csv contiene información sobre los modelos de coches vendidos en USA durante un determinado año. Se pide:\n",
    "\n",
    "A.\tCrear un DataFrame a partir del fichero anterior.\n"
   ]
  },
  {
   "cell_type": "code",
   "execution_count": 1,
   "id": "35ebc8fb",
   "metadata": {},
   "outputs": [
    {
     "data": {
      "text/html": [
       "<div>\n",
       "<style scoped>\n",
       "    .dataframe tbody tr th:only-of-type {\n",
       "        vertical-align: middle;\n",
       "    }\n",
       "\n",
       "    .dataframe tbody tr th {\n",
       "        vertical-align: top;\n",
       "    }\n",
       "\n",
       "    .dataframe thead th {\n",
       "        text-align: right;\n",
       "    }\n",
       "</style>\n",
       "<table border=\"1\" class=\"dataframe\">\n",
       "  <thead>\n",
       "    <tr style=\"text-align: right;\">\n",
       "      <th></th>\n",
       "      <th>Marca</th>\n",
       "      <th>Modelo</th>\n",
       "      <th>Tipo</th>\n",
       "      <th>Potencia</th>\n",
       "      <th>Precio</th>\n",
       "    </tr>\n",
       "  </thead>\n",
       "  <tbody>\n",
       "    <tr>\n",
       "      <th>0</th>\n",
       "      <td>Acura</td>\n",
       "      <td>MDX</td>\n",
       "      <td>SUV</td>\n",
       "      <td>265.0</td>\n",
       "      <td>33337.0</td>\n",
       "    </tr>\n",
       "    <tr>\n",
       "      <th>1</th>\n",
       "      <td>Acura</td>\n",
       "      <td>RSX Type S 2dr</td>\n",
       "      <td>Sedan</td>\n",
       "      <td>200.0</td>\n",
       "      <td>21761.0</td>\n",
       "    </tr>\n",
       "    <tr>\n",
       "      <th>2</th>\n",
       "      <td>Acura</td>\n",
       "      <td>TSX 4dr</td>\n",
       "      <td>Sedan</td>\n",
       "      <td>200.0</td>\n",
       "      <td>24647.0</td>\n",
       "    </tr>\n",
       "    <tr>\n",
       "      <th>3</th>\n",
       "      <td>Acura</td>\n",
       "      <td>TL 4dr</td>\n",
       "      <td>Sedan</td>\n",
       "      <td>270.0</td>\n",
       "      <td>30299.0</td>\n",
       "    </tr>\n",
       "    <tr>\n",
       "      <th>4</th>\n",
       "      <td>Acura</td>\n",
       "      <td>3.5 RL 4dr</td>\n",
       "      <td>Sedan</td>\n",
       "      <td>225.0</td>\n",
       "      <td>39014.0</td>\n",
       "    </tr>\n",
       "    <tr>\n",
       "      <th>...</th>\n",
       "      <td>...</td>\n",
       "      <td>...</td>\n",
       "      <td>...</td>\n",
       "      <td>...</td>\n",
       "      <td>...</td>\n",
       "    </tr>\n",
       "    <tr>\n",
       "      <th>423</th>\n",
       "      <td>Volvo</td>\n",
       "      <td>C70 LPT convertible 2dr</td>\n",
       "      <td>Sedan</td>\n",
       "      <td>197.0</td>\n",
       "      <td>38203.0</td>\n",
       "    </tr>\n",
       "    <tr>\n",
       "      <th>424</th>\n",
       "      <td>Volvo</td>\n",
       "      <td>C70 HPT convertible 2dr</td>\n",
       "      <td>Sedan</td>\n",
       "      <td>242.0</td>\n",
       "      <td>40083.0</td>\n",
       "    </tr>\n",
       "    <tr>\n",
       "      <th>425</th>\n",
       "      <td>Volvo</td>\n",
       "      <td>S80 T6 4dr</td>\n",
       "      <td>Sedan</td>\n",
       "      <td>268.0</td>\n",
       "      <td>42573.0</td>\n",
       "    </tr>\n",
       "    <tr>\n",
       "      <th>426</th>\n",
       "      <td>Volvo</td>\n",
       "      <td>V40</td>\n",
       "      <td>Wagon</td>\n",
       "      <td>170.0</td>\n",
       "      <td>24641.0</td>\n",
       "    </tr>\n",
       "    <tr>\n",
       "      <th>427</th>\n",
       "      <td>Volvo</td>\n",
       "      <td>XC70</td>\n",
       "      <td>Wagon</td>\n",
       "      <td>208.0</td>\n",
       "      <td>33112.0</td>\n",
       "    </tr>\n",
       "  </tbody>\n",
       "</table>\n",
       "<p>428 rows × 5 columns</p>\n",
       "</div>"
      ],
      "text/plain": [
       "     Marca                   Modelo   Tipo  Potencia   Precio\n",
       "0    Acura                      MDX    SUV     265.0  33337.0\n",
       "1    Acura           RSX Type S 2dr  Sedan     200.0  21761.0\n",
       "2    Acura                  TSX 4dr  Sedan     200.0  24647.0\n",
       "3    Acura                   TL 4dr  Sedan     270.0  30299.0\n",
       "4    Acura               3.5 RL 4dr  Sedan     225.0  39014.0\n",
       "..     ...                      ...    ...       ...      ...\n",
       "423  Volvo  C70 LPT convertible 2dr  Sedan     197.0  38203.0\n",
       "424  Volvo  C70 HPT convertible 2dr  Sedan     242.0  40083.0\n",
       "425  Volvo               S80 T6 4dr  Sedan     268.0  42573.0\n",
       "426  Volvo                      V40  Wagon     170.0  24641.0\n",
       "427  Volvo                     XC70  Wagon     208.0  33112.0\n",
       "\n",
       "[428 rows x 5 columns]"
      ]
     },
     "execution_count": 1,
     "metadata": {},
     "output_type": "execute_result"
    }
   ],
   "source": [
    "import pandas as pd\n",
    "\n",
    "dafr = pd.read_csv('coches.csv')\n",
    "\n",
    "dafr"
   ]
  },
  {
   "cell_type": "markdown",
   "id": "9ea0946f",
   "metadata": {},
   "source": [
    "Explicacion:\n",
    "    \n",
    "1.Se importa la libreria pandas.\n",
    "2.Se usa la función read_csv() para leer el archivo CSV\n",
    "3.Se almacenan los datos en un DataFrame 'dafr'."
   ]
  },
  {
   "cell_type": "markdown",
   "id": "9043fd9d",
   "metadata": {},
   "source": [
    "B. Eliminar las filas con valores desconocidos y mostrar el número de filas del DataFrame resultante."
   ]
  },
  {
   "cell_type": "code",
   "execution_count": 2,
   "id": "6a21affa",
   "metadata": {},
   "outputs": [
    {
     "name": "stdout",
     "output_type": "stream",
     "text": [
      "421\n"
     ]
    }
   ],
   "source": [
    "dafr = dafr.dropna()\n",
    "print(dafr.shape[0])\n"
   ]
  },
  {
   "cell_type": "markdown",
   "id": "eb7e8145",
   "metadata": {},
   "source": [
    "1. Se utiliza el comando dropna() del DataFrame.   \n",
    "2. Se usa el commando shape para mostrar el número de filas del DataFrame."
   ]
  },
  {
   "cell_type": "markdown",
   "id": "31779f57",
   "metadata": {},
   "source": [
    "C. Crear una columna con el precio en euros (cambio 1$ = 0.94€)"
   ]
  },
  {
   "cell_type": "code",
   "execution_count": 4,
   "id": "37bbf1b5",
   "metadata": {},
   "outputs": [
    {
     "name": "stderr",
     "output_type": "stream",
     "text": [
      "C:\\Users\\solid\\AppData\\Local\\Temp\\ipykernel_19164\\3329634162.py:1: SettingWithCopyWarning: \n",
      "A value is trying to be set on a copy of a slice from a DataFrame.\n",
      "Try using .loc[row_indexer,col_indexer] = value instead\n",
      "\n",
      "See the caveats in the documentation: https://pandas.pydata.org/pandas-docs/stable/user_guide/indexing.html#returning-a-view-versus-a-copy\n",
      "  dafr['precio_euros'] = dafr['Precio'].apply(lambda x: x * 0.94)\n"
     ]
    },
    {
     "data": {
      "text/html": [
       "<div>\n",
       "<style scoped>\n",
       "    .dataframe tbody tr th:only-of-type {\n",
       "        vertical-align: middle;\n",
       "    }\n",
       "\n",
       "    .dataframe tbody tr th {\n",
       "        vertical-align: top;\n",
       "    }\n",
       "\n",
       "    .dataframe thead th {\n",
       "        text-align: right;\n",
       "    }\n",
       "</style>\n",
       "<table border=\"1\" class=\"dataframe\">\n",
       "  <thead>\n",
       "    <tr style=\"text-align: right;\">\n",
       "      <th></th>\n",
       "      <th>Marca</th>\n",
       "      <th>Modelo</th>\n",
       "      <th>Tipo</th>\n",
       "      <th>Potencia</th>\n",
       "      <th>Precio</th>\n",
       "      <th>precio_euros</th>\n",
       "    </tr>\n",
       "  </thead>\n",
       "  <tbody>\n",
       "    <tr>\n",
       "      <th>0</th>\n",
       "      <td>Acura</td>\n",
       "      <td>MDX</td>\n",
       "      <td>SUV</td>\n",
       "      <td>265.0</td>\n",
       "      <td>33337.0</td>\n",
       "      <td>31336.78</td>\n",
       "    </tr>\n",
       "    <tr>\n",
       "      <th>1</th>\n",
       "      <td>Acura</td>\n",
       "      <td>RSX Type S 2dr</td>\n",
       "      <td>Sedan</td>\n",
       "      <td>200.0</td>\n",
       "      <td>21761.0</td>\n",
       "      <td>20455.34</td>\n",
       "    </tr>\n",
       "    <tr>\n",
       "      <th>2</th>\n",
       "      <td>Acura</td>\n",
       "      <td>TSX 4dr</td>\n",
       "      <td>Sedan</td>\n",
       "      <td>200.0</td>\n",
       "      <td>24647.0</td>\n",
       "      <td>23168.18</td>\n",
       "    </tr>\n",
       "    <tr>\n",
       "      <th>3</th>\n",
       "      <td>Acura</td>\n",
       "      <td>TL 4dr</td>\n",
       "      <td>Sedan</td>\n",
       "      <td>270.0</td>\n",
       "      <td>30299.0</td>\n",
       "      <td>28481.06</td>\n",
       "    </tr>\n",
       "    <tr>\n",
       "      <th>4</th>\n",
       "      <td>Acura</td>\n",
       "      <td>3.5 RL 4dr</td>\n",
       "      <td>Sedan</td>\n",
       "      <td>225.0</td>\n",
       "      <td>39014.0</td>\n",
       "      <td>36673.16</td>\n",
       "    </tr>\n",
       "    <tr>\n",
       "      <th>...</th>\n",
       "      <td>...</td>\n",
       "      <td>...</td>\n",
       "      <td>...</td>\n",
       "      <td>...</td>\n",
       "      <td>...</td>\n",
       "      <td>...</td>\n",
       "    </tr>\n",
       "    <tr>\n",
       "      <th>423</th>\n",
       "      <td>Volvo</td>\n",
       "      <td>C70 LPT convertible 2dr</td>\n",
       "      <td>Sedan</td>\n",
       "      <td>197.0</td>\n",
       "      <td>38203.0</td>\n",
       "      <td>35910.82</td>\n",
       "    </tr>\n",
       "    <tr>\n",
       "      <th>424</th>\n",
       "      <td>Volvo</td>\n",
       "      <td>C70 HPT convertible 2dr</td>\n",
       "      <td>Sedan</td>\n",
       "      <td>242.0</td>\n",
       "      <td>40083.0</td>\n",
       "      <td>37678.02</td>\n",
       "    </tr>\n",
       "    <tr>\n",
       "      <th>425</th>\n",
       "      <td>Volvo</td>\n",
       "      <td>S80 T6 4dr</td>\n",
       "      <td>Sedan</td>\n",
       "      <td>268.0</td>\n",
       "      <td>42573.0</td>\n",
       "      <td>40018.62</td>\n",
       "    </tr>\n",
       "    <tr>\n",
       "      <th>426</th>\n",
       "      <td>Volvo</td>\n",
       "      <td>V40</td>\n",
       "      <td>Wagon</td>\n",
       "      <td>170.0</td>\n",
       "      <td>24641.0</td>\n",
       "      <td>23162.54</td>\n",
       "    </tr>\n",
       "    <tr>\n",
       "      <th>427</th>\n",
       "      <td>Volvo</td>\n",
       "      <td>XC70</td>\n",
       "      <td>Wagon</td>\n",
       "      <td>208.0</td>\n",
       "      <td>33112.0</td>\n",
       "      <td>31125.28</td>\n",
       "    </tr>\n",
       "  </tbody>\n",
       "</table>\n",
       "<p>421 rows × 6 columns</p>\n",
       "</div>"
      ],
      "text/plain": [
       "     Marca                   Modelo   Tipo  Potencia   Precio  precio_euros\n",
       "0    Acura                      MDX    SUV     265.0  33337.0      31336.78\n",
       "1    Acura           RSX Type S 2dr  Sedan     200.0  21761.0      20455.34\n",
       "2    Acura                  TSX 4dr  Sedan     200.0  24647.0      23168.18\n",
       "3    Acura                   TL 4dr  Sedan     270.0  30299.0      28481.06\n",
       "4    Acura               3.5 RL 4dr  Sedan     225.0  39014.0      36673.16\n",
       "..     ...                      ...    ...       ...      ...           ...\n",
       "423  Volvo  C70 LPT convertible 2dr  Sedan     197.0  38203.0      35910.82\n",
       "424  Volvo  C70 HPT convertible 2dr  Sedan     242.0  40083.0      37678.02\n",
       "425  Volvo               S80 T6 4dr  Sedan     268.0  42573.0      40018.62\n",
       "426  Volvo                      V40  Wagon     170.0  24641.0      23162.54\n",
       "427  Volvo                     XC70  Wagon     208.0  33112.0      31125.28\n",
       "\n",
       "[421 rows x 6 columns]"
      ]
     },
     "execution_count": 4,
     "metadata": {},
     "output_type": "execute_result"
    }
   ],
   "source": [
    "dafr['precio_euros'] = dafr['Precio'].apply(lambda x: x * 0.94)\n",
    "dafr\n"
   ]
  },
  {
   "cell_type": "markdown",
   "id": "ffe931f5",
   "metadata": {},
   "source": [
    "D. Mostrar las 10 últimas filas del DataFrame."
   ]
  },
  {
   "cell_type": "code",
   "execution_count": 7,
   "id": "2cc564fe",
   "metadata": {},
   "outputs": [
    {
     "data": {
      "text/html": [
       "<div>\n",
       "<style scoped>\n",
       "    .dataframe tbody tr th:only-of-type {\n",
       "        vertical-align: middle;\n",
       "    }\n",
       "\n",
       "    .dataframe tbody tr th {\n",
       "        vertical-align: top;\n",
       "    }\n",
       "\n",
       "    .dataframe thead th {\n",
       "        text-align: right;\n",
       "    }\n",
       "</style>\n",
       "<table border=\"1\" class=\"dataframe\">\n",
       "  <thead>\n",
       "    <tr style=\"text-align: right;\">\n",
       "      <th></th>\n",
       "      <th>Marca</th>\n",
       "      <th>Modelo</th>\n",
       "      <th>Tipo</th>\n",
       "      <th>Potencia</th>\n",
       "      <th>Precio</th>\n",
       "      <th>precio_euros</th>\n",
       "    </tr>\n",
       "  </thead>\n",
       "  <tbody>\n",
       "    <tr>\n",
       "      <th>418</th>\n",
       "      <td>Volvo</td>\n",
       "      <td>S60 2.5 4dr</td>\n",
       "      <td>Sedan</td>\n",
       "      <td>208.0</td>\n",
       "      <td>29916.0</td>\n",
       "      <td>28121.04</td>\n",
       "    </tr>\n",
       "    <tr>\n",
       "      <th>419</th>\n",
       "      <td>Volvo</td>\n",
       "      <td>S60 T5 4dr</td>\n",
       "      <td>Sedan</td>\n",
       "      <td>247.0</td>\n",
       "      <td>32902.0</td>\n",
       "      <td>30927.88</td>\n",
       "    </tr>\n",
       "    <tr>\n",
       "      <th>420</th>\n",
       "      <td>Volvo</td>\n",
       "      <td>S60 R 4dr</td>\n",
       "      <td>Sedan</td>\n",
       "      <td>300.0</td>\n",
       "      <td>35382.0</td>\n",
       "      <td>33259.08</td>\n",
       "    </tr>\n",
       "    <tr>\n",
       "      <th>421</th>\n",
       "      <td>Volvo</td>\n",
       "      <td>S80 2.9 4dr</td>\n",
       "      <td>Sedan</td>\n",
       "      <td>208.0</td>\n",
       "      <td>35542.0</td>\n",
       "      <td>33409.48</td>\n",
       "    </tr>\n",
       "    <tr>\n",
       "      <th>422</th>\n",
       "      <td>Volvo</td>\n",
       "      <td>S80 2.5T 4dr</td>\n",
       "      <td>Sedan</td>\n",
       "      <td>194.0</td>\n",
       "      <td>35688.0</td>\n",
       "      <td>33546.72</td>\n",
       "    </tr>\n",
       "    <tr>\n",
       "      <th>423</th>\n",
       "      <td>Volvo</td>\n",
       "      <td>C70 LPT convertible 2dr</td>\n",
       "      <td>Sedan</td>\n",
       "      <td>197.0</td>\n",
       "      <td>38203.0</td>\n",
       "      <td>35910.82</td>\n",
       "    </tr>\n",
       "    <tr>\n",
       "      <th>424</th>\n",
       "      <td>Volvo</td>\n",
       "      <td>C70 HPT convertible 2dr</td>\n",
       "      <td>Sedan</td>\n",
       "      <td>242.0</td>\n",
       "      <td>40083.0</td>\n",
       "      <td>37678.02</td>\n",
       "    </tr>\n",
       "    <tr>\n",
       "      <th>425</th>\n",
       "      <td>Volvo</td>\n",
       "      <td>S80 T6 4dr</td>\n",
       "      <td>Sedan</td>\n",
       "      <td>268.0</td>\n",
       "      <td>42573.0</td>\n",
       "      <td>40018.62</td>\n",
       "    </tr>\n",
       "    <tr>\n",
       "      <th>426</th>\n",
       "      <td>Volvo</td>\n",
       "      <td>V40</td>\n",
       "      <td>Wagon</td>\n",
       "      <td>170.0</td>\n",
       "      <td>24641.0</td>\n",
       "      <td>23162.54</td>\n",
       "    </tr>\n",
       "    <tr>\n",
       "      <th>427</th>\n",
       "      <td>Volvo</td>\n",
       "      <td>XC70</td>\n",
       "      <td>Wagon</td>\n",
       "      <td>208.0</td>\n",
       "      <td>33112.0</td>\n",
       "      <td>31125.28</td>\n",
       "    </tr>\n",
       "  </tbody>\n",
       "</table>\n",
       "</div>"
      ],
      "text/plain": [
       "     Marca                   Modelo   Tipo  Potencia   Precio  precio_euros\n",
       "418  Volvo              S60 2.5 4dr  Sedan     208.0  29916.0      28121.04\n",
       "419  Volvo               S60 T5 4dr  Sedan     247.0  32902.0      30927.88\n",
       "420  Volvo                S60 R 4dr  Sedan     300.0  35382.0      33259.08\n",
       "421  Volvo              S80 2.9 4dr  Sedan     208.0  35542.0      33409.48\n",
       "422  Volvo             S80 2.5T 4dr  Sedan     194.0  35688.0      33546.72\n",
       "423  Volvo  C70 LPT convertible 2dr  Sedan     197.0  38203.0      35910.82\n",
       "424  Volvo  C70 HPT convertible 2dr  Sedan     242.0  40083.0      37678.02\n",
       "425  Volvo               S80 T6 4dr  Sedan     268.0  42573.0      40018.62\n",
       "426  Volvo                      V40  Wagon     170.0  24641.0      23162.54\n",
       "427  Volvo                     XC70  Wagon     208.0  33112.0      31125.28"
      ]
     },
     "execution_count": 7,
     "metadata": {},
     "output_type": "execute_result"
    }
   ],
   "source": [
    "dafr.tail(10)"
   ]
  },
  {
   "cell_type": "markdown",
   "id": "0d50e4cf",
   "metadata": {},
   "source": [
    "Explicacion\n",
    "\n",
    "1.Se utiliza el comando tail() del DataFrame para mostrar las últimas filas. "
   ]
  },
  {
   "cell_type": "markdown",
   "id": "fce5a8d4",
   "metadata": {},
   "source": [
    "E. Mostrar el número de marcas de coches que contiene el DataFrame."
   ]
  },
  {
   "cell_type": "code",
   "execution_count": 9,
   "id": "a4a95993",
   "metadata": {},
   "outputs": [
    {
     "data": {
      "text/plain": [
       "38"
      ]
     },
     "execution_count": 9,
     "metadata": {},
     "output_type": "execute_result"
    }
   ],
   "source": [
    "num_marcas = dafr['Marca'].nunique()\n",
    "num_marcas\n"
   ]
  },
  {
   "cell_type": "markdown",
   "id": "cc985655",
   "metadata": {},
   "source": [
    "Explicacion\n",
    "\n",
    "1. Se utiliza el comando nunique() del DataFrame para contar el número de marcas únicas en la columna."
   ]
  },
  {
   "cell_type": "markdown",
   "id": "01abc328",
   "metadata": {},
   "source": [
    "F. Mostrar el número de modelos de cada marca que hay en el DataFrame, de mayor a menor frecuencia."
   ]
  },
  {
   "cell_type": "code",
   "execution_count": 11,
   "id": "e12a894d",
   "metadata": {},
   "outputs": [
    {
     "data": {
      "text/plain": [
       "Toyota           28\n",
       "Chevrolet        27\n",
       "Mercedes-Benz    26\n",
       "Ford             23\n",
       "BMW              19\n",
       "Audi             19\n",
       "Nissan           17\n",
       "Honda            16\n",
       "Volkswagen       15\n",
       "Chrysler         14\n",
       "Dodge            13\n",
       "Mitsubishi       13\n",
       "Volvo            12\n",
       "Hyundai          12\n",
       "Jaguar           12\n",
       "Kia              11\n",
       "Mazda            11\n",
       "Subaru           10\n",
       "Lexus            10\n",
       "Pontiac          10\n",
       "Buick             9\n",
       "Mercury           9\n",
       "Lincoln           9\n",
       "Cadillac          8\n",
       "Suzuki            8\n",
       "Infiniti          8\n",
       "GMC               8\n",
       "Saturn            8\n",
       "Acura             7\n",
       "Saab              7\n",
       "Porsche           7\n",
       "Oldsmobile        3\n",
       "Land Rover        3\n",
       "MINI              2\n",
       "Scion             2\n",
       "Isuzu             2\n",
       "Jeep              2\n",
       "Hummer            1\n",
       "Name: Marca, dtype: int64"
      ]
     },
     "execution_count": 11,
     "metadata": {},
     "output_type": "execute_result"
    }
   ],
   "source": [
    "modelos_por_marca = dafr['Marca'].value_counts().sort_values(ascending=False)\n",
    "modelos_por_marca\n"
   ]
  },
  {
   "cell_type": "markdown",
   "id": "107a92a4",
   "metadata": {},
   "source": [
    "Explicacion\n",
    "\n",
    "1. Se utiliza el comando value_counts() para contar el número de modelos de cada marca en el DataFrame.\n",
    "2. Para ordenarlos de mayor a menor, se utiliza el comando sort_values()"
   ]
  },
  {
   "cell_type": "markdown",
   "id": "fdd990b0",
   "metadata": {},
   "source": [
    "G. Mostrar cuál es la marca y el modelo del coche más caro."
   ]
  },
  {
   "cell_type": "code",
   "execution_count": 13,
   "id": "1de5aea7",
   "metadata": {},
   "outputs": [
    {
     "data": {
      "text/plain": [
       "Marca         Porsche\n",
       "Modelo    911 GT2 2dr\n",
       "Name: 334, dtype: object"
      ]
     },
     "execution_count": 13,
     "metadata": {},
     "output_type": "execute_result"
    }
   ],
   "source": [
    "indice_max = dafr['Precio'].idxmax()\n",
    "marca_modelo = dafr.loc[indice_max, ['Marca', 'Modelo']]\n",
    "marca_modelo\n"
   ]
  },
  {
   "cell_type": "markdown",
   "id": "dee2d93b",
   "metadata": {},
   "source": [
    "Explicacion\n",
    "\n",
    "1. Se utiliza el comando idxmax() para encontrar el valor maximo en la columna de precios.\n",
    "2. Se utiliza el comando loc[] para acceder a la fila correspondiente"
   ]
  }
 ],
 "metadata": {
  "kernelspec": {
   "display_name": "Python 3 (ipykernel)",
   "language": "python",
   "name": "python3"
  },
  "language_info": {
   "codemirror_mode": {
    "name": "ipython",
    "version": 3
   },
   "file_extension": ".py",
   "mimetype": "text/x-python",
   "name": "python",
   "nbconvert_exporter": "python",
   "pygments_lexer": "ipython3",
   "version": "3.10.9"
  }
 },
 "nbformat": 4,
 "nbformat_minor": 5
}
