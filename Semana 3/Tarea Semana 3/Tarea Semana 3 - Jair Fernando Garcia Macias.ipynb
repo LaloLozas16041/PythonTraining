{
 "cells": [
  {
   "cell_type": "markdown",
   "id": "e3cb8222",
   "metadata": {},
   "source": [
    "# TAREA SEMANA 3 : FUNDAMENTOS DE PYTHON\n",
    "## Nombre: Jair Fernando Garcia Macias"
   ]
  },
  {
   "cell_type": "markdown",
   "id": "d8ed0a46",
   "metadata": {},
   "source": [
    "### Ejercicio 1\n",
    "Escribir dos funciones que simulan una calculadora científica que permita calcular el seno, coseno, tangente, exponencial y logaritmo neperiano o natural (logaritmo en base euler).\n",
    "\n",
    "A. La función uno preguntará al usuario el intervalo donde quiere aplicar la función matemática y la función a aplicar, y mostrará por pantalla una tabla donde la primera columna será los valores del intervalo dado (x) y la columna 2 tendrá los resultados de el resultado de aplicar la función a este intervalo (y)."
   ]
  },
  {
   "cell_type": "code",
   "execution_count": 4,
   "id": "980e7fd4",
   "metadata": {},
   "outputs": [
    {
     "name": "stdout",
     "output_type": "stream",
     "text": [
      "Ingresa límite inferior de la función: 1\n",
      "Ingresa límite superior de la función: 10\n",
      "Ingresa el número de la función que deseas realizar: \n",
      "1. Seno\n",
      "2. Coseno\n",
      "3. Tangente\n",
      "4. Exponencial\n",
      "5. Logaritmo natural\n",
      "3\n"
     ]
    },
    {
     "data": {
      "text/html": [
       "<div>\n",
       "<style scoped>\n",
       "    .dataframe tbody tr th:only-of-type {\n",
       "        vertical-align: middle;\n",
       "    }\n",
       "\n",
       "    .dataframe tbody tr th {\n",
       "        vertical-align: top;\n",
       "    }\n",
       "\n",
       "    .dataframe thead th {\n",
       "        text-align: right;\n",
       "    }\n",
       "</style>\n",
       "<table border=\"1\" class=\"dataframe\">\n",
       "  <thead>\n",
       "    <tr style=\"text-align: right;\">\n",
       "      <th></th>\n",
       "      <th>Intervalo</th>\n",
       "      <th>Tangente</th>\n",
       "    </tr>\n",
       "  </thead>\n",
       "  <tbody>\n",
       "    <tr>\n",
       "      <th>0</th>\n",
       "      <td>1</td>\n",
       "      <td>1.557408</td>\n",
       "    </tr>\n",
       "    <tr>\n",
       "      <th>1</th>\n",
       "      <td>2</td>\n",
       "      <td>-2.185040</td>\n",
       "    </tr>\n",
       "    <tr>\n",
       "      <th>2</th>\n",
       "      <td>3</td>\n",
       "      <td>-0.142547</td>\n",
       "    </tr>\n",
       "    <tr>\n",
       "      <th>3</th>\n",
       "      <td>4</td>\n",
       "      <td>1.157821</td>\n",
       "    </tr>\n",
       "    <tr>\n",
       "      <th>4</th>\n",
       "      <td>5</td>\n",
       "      <td>-3.380515</td>\n",
       "    </tr>\n",
       "    <tr>\n",
       "      <th>5</th>\n",
       "      <td>6</td>\n",
       "      <td>-0.291006</td>\n",
       "    </tr>\n",
       "    <tr>\n",
       "      <th>6</th>\n",
       "      <td>7</td>\n",
       "      <td>0.871448</td>\n",
       "    </tr>\n",
       "    <tr>\n",
       "      <th>7</th>\n",
       "      <td>8</td>\n",
       "      <td>-6.799711</td>\n",
       "    </tr>\n",
       "    <tr>\n",
       "      <th>8</th>\n",
       "      <td>9</td>\n",
       "      <td>-0.452316</td>\n",
       "    </tr>\n",
       "    <tr>\n",
       "      <th>9</th>\n",
       "      <td>10</td>\n",
       "      <td>0.648361</td>\n",
       "    </tr>\n",
       "  </tbody>\n",
       "</table>\n",
       "</div>"
      ],
      "text/plain": [
       "   Intervalo  Tangente\n",
       "0          1  1.557408\n",
       "1          2 -2.185040\n",
       "2          3 -0.142547\n",
       "3          4  1.157821\n",
       "4          5 -3.380515\n",
       "5          6 -0.291006\n",
       "6          7  0.871448\n",
       "7          8 -6.799711\n",
       "8          9 -0.452316\n",
       "9         10  0.648361"
      ]
     },
     "execution_count": 4,
     "metadata": {},
     "output_type": "execute_result"
    }
   ],
   "source": [
    "import numpy as np\n",
    "import matplotlib.pyplot as plt\n",
    "import pandas as pd\n",
    "\n",
    "def funciones_matematicas():\n",
    "    limite_inferior = int(input('Ingresa límite inferior de la función: '))\n",
    "    limite_superior = int(input('Ingresa límite superior de la función: '))\n",
    "    funcion = int(input('Ingresa el número de la función que deseas realizar: '\n",
    "                        '\\n1. Seno'\n",
    "                        '\\n2. Coseno'\n",
    "                        '\\n3. Tangente'\n",
    "                        '\\n4. Exponencial'\n",
    "                        '\\n5. Logaritmo natural\\n'))\n",
    "\n",
    "    if funcion == 1:\n",
    "        tipo = 'Seno'\n",
    "    elif funcion == 2:\n",
    "        tipo = 'Coseno'\n",
    "    elif funcion == 3:\n",
    "        tipo = 'Tangente'\n",
    "    elif funcion == 4:\n",
    "        tipo = 'Exponencial'\n",
    "    else:\n",
    "        tipo = 'Logaritmo'\n",
    "\n",
    "    rango = range(limite_inferior, limite_superior + 1)\n",
    "\n",
    "    calculo = {\n",
    "        'Intervalo': [],\n",
    "        f'{tipo}': []\n",
    "    }\n",
    "    for num in rango:\n",
    "        if tipo == 'Seno':\n",
    "            calc = np.sin(num)\n",
    "        elif tipo == 'Coseno':\n",
    "            calc = np.cos(num)\n",
    "        elif tipo == 'Tangente':\n",
    "            calc = np.tan(num)\n",
    "        elif tipo == 'Exponencial':\n",
    "            calc = np.exp(num)\n",
    "        else:\n",
    "            calc = np.log(num)\n",
    "        calculo['Intervalo'].append(num)\n",
    "        calculo[f'{tipo}'].append(calc)\n",
    "\n",
    "    tabla = pd.DataFrame(calculo)\n",
    "    return tabla\n",
    "funciones_matematicas()"
   ]
  },
  {
   "cell_type": "markdown",
   "id": "fb3b722a",
   "metadata": {},
   "source": [
    "#### Explicación:\n",
    "Pude haber solicitado al usuario el nombre de la función que deseaba calcular, pero eso podría haber generado problemas de sintaxis o algo por el estilo, por eso sólo lo dejé como un menú con números."
   ]
  },
  {
   "cell_type": "markdown",
   "id": "868d7879",
   "metadata": {},
   "source": [
    "B. La función dos graficara con matplotlib el resultado de función anterior y la mostrará en pantalla. Recuerden poner los títulos ejes y demás configuraciones de las gráficas para que queden de la mejor manera posible."
   ]
  },
  {
   "cell_type": "code",
   "execution_count": 5,
   "id": "6603c917",
   "metadata": {},
   "outputs": [
    {
     "name": "stdout",
     "output_type": "stream",
     "text": [
      "Ingresa límite inferior de la función: 1\n",
      "Ingresa límite superior de la función: 10\n",
      "Ingresa el número de la función que deseas realizar: \n",
      "1. Seno\n",
      "2. Coseno\n",
      "3. Tangente\n",
      "4. Exponencial\n",
      "5. Logaritmo natural\n",
      "3\n"
     ]
    },
    {
     "data": {
      "image/png": "[encoded data removed]",
      "text/plain": [
       "<Figure size 640x480 with 1 Axes>"
      ]
     },
     "metadata": {},
     "output_type": "display_data"
    },
    {
     "name": "stdout",
     "output_type": "stream",
     "text": [
      "None\n"
     ]
    }
   ],
   "source": [
    "def grafica(tabla):\n",
    "    # Data for plotting\n",
    "    funcion = tabla.columns[1]\n",
    "    x = tabla['Intervalo']\n",
    "    y = tabla[f'{funcion}']\n",
    "    fig, ax = plt.subplots()\n",
    "    ax.plot(x, y, solid_capstyle='round')\n",
    "\n",
    "    ax.set(xlabel='time (s)', ylabel='Valor', title=f'{funcion}')\n",
    "    ax.grid()\n",
    "    plt.show()\n",
    "    \n",
    "print(grafica(funciones_matematicas()))"
   ]
  },
  {
   "cell_type": "markdown",
   "id": "d1acbade",
   "metadata": {},
   "source": [
    "#### Explicación:\n",
    "No hubo mayor complicación. Basta con consultar la página de matplotlib, copiar el código, pegarlo y sustituir los valores."
   ]
  },
  {
   "cell_type": "markdown",
   "id": "918deee5",
   "metadata": {},
   "source": [
    "### Ejercicio 2\n",
    "Escribir un programa para ver los beneficios de una empresa en un periodo de años.\n",
    "El programa debe cumplir los siguientes requisitos:\n",
    "\n",
    "A. El programa tiene que preguntar al usuario por un año inicial y otro final, y después preguntar por los ingresos y egresos de cada año desde el año inicial hasta el año final.\n",
    "\n",
    "        a) Debe garantizar que por lo menos haya 5 años entre el año inicial y el final."
   ]
  },
  {
   "cell_type": "code",
   "execution_count": 6,
   "id": "f5297848",
   "metadata": {},
   "outputs": [
    {
     "name": "stdout",
     "output_type": "stream",
     "text": [
      "Ingresa el año de inicio del periodo: 2000\n",
      "Ingresa el año del final del periodo: 2004\n",
      "Ingresa los ingresos del año 2000: 100\n",
      "Ingresa los egresos del año 2000: 10\n",
      "Ingresa los ingresos del año 2001: 100\n",
      "Ingresa los egresos del año 2001: 120\n",
      "Ingresa los ingresos del año 2002: 100\n",
      "Ingresa los egresos del año 2002: 120\n",
      "Ingresa los ingresos del año 2003: 100\n",
      "Ingresa los egresos del año 2003: 10\n",
      "Ingresa los ingresos del año 2004: 100\n",
      "Ingresa los egresos del año 2004: 10\n"
     ]
    }
   ],
   "source": [
    "año_inicial = int(input('Ingresa el año de inicio del periodo: '))\n",
    "año_final = int(input('Ingresa el año del final del periodo: '))\n",
    "if año_final - año_inicial >= 4:\n",
    "    ingresos_egresos = []\n",
    "    for año in range(año_inicial, año_final + 1):\n",
    "        ingresos = float(input(f'Ingresa los ingresos del año {año}: '))\n",
    "        egresos = float(input(f'Ingresa los egresos del año {año}: '))\n",
    "        fila = [año, ingresos, egresos]\n",
    "        ingresos_egresos.append(fila)\n",
    "else:\n",
    "    print('Para realizar el cálculo se deben contemplear al menos 5 años dentro del periodo...')"
   ]
  },
  {
   "cell_type": "markdown",
   "id": "57ab9f34",
   "metadata": {},
   "source": [
    "#### Eplicación:\n",
    "Pude haber solicitado al usuario ingresar los ingresos y egresos en una sola línea, pero lo hice de esta manera para evitar errores."
   ]
  },
  {
   "cell_type": "markdown",
   "id": "9c3192e6",
   "metadata": {},
   "source": [
    "B. Con los datos introducidos se deben crear un dataframe, con las columnas fecha, ingresos y egresos."
   ]
  },
  {
   "cell_type": "code",
   "execution_count": 8,
   "id": "d1df8656",
   "metadata": {},
   "outputs": [],
   "source": [
    "tabla = pd.DataFrame(ingresos_egresos, columns=['Fecha', 'Ingresos', 'Egresos'])"
   ]
  },
  {
   "cell_type": "markdown",
   "id": "6218ea0c",
   "metadata": {},
   "source": [
    "#### Explicación:\n",
    "Con la librería de pandas, es fácil realizar este tipo de tareas."
   ]
  },
  {
   "cell_type": "markdown",
   "id": "7d240425",
   "metadata": {},
   "source": [
    "C. El programa debe generar otra columna con el beneficio de cada año (ingresos menos egresos) y mostrarla por pantalla."
   ]
  },
  {
   "cell_type": "code",
   "execution_count": 9,
   "id": "5d29a6cd",
   "metadata": {},
   "outputs": [
    {
     "name": "stdout",
     "output_type": "stream",
     "text": [
      "###################################### Columna con beneficios ######################################\n",
      "   Fecha  Beneficios\n",
      "0   2000        90.0\n",
      "1   2001       -20.0\n",
      "2   2002       -20.0\n",
      "3   2003        90.0\n",
      "4   2004        90.0\n"
     ]
    }
   ],
   "source": [
    "tabla['Beneficios'] = tabla['Ingresos'] - tabla['Egresos']\n",
    "print(' Columna con beneficios '.center(100,'#'))\n",
    "print(tabla[['Fecha', 'Beneficios']])"
   ]
  },
  {
   "cell_type": "markdown",
   "id": "57b367fa",
   "metadata": {},
   "source": [
    "#### Explicación:\n",
    "Para resaltar la nueva columna agregada, es lo único que imprimí en pantalla (además de que es lo que pide). Muy sencillo realizar operaciónes simples entre columnas usando pandas."
   ]
  },
  {
   "cell_type": "markdown",
   "id": "ef3a75e7",
   "metadata": {},
   "source": [
    "D. El programa debe crear otra columna llamada ganancia la cuál indique para cada año si ha habido beneficios o no de manera booleana y mostrarla por pantalla."
   ]
  },
  {
   "cell_type": "code",
   "execution_count": 10,
   "id": "ba17af73",
   "metadata": {},
   "outputs": [
    {
     "name": "stdout",
     "output_type": "stream",
     "text": [
      "###################################### Columna con ganancias #######################################\n",
      "   Fecha  Ganancia\n",
      "0   2000      True\n",
      "1   2001     False\n",
      "2   2002     False\n",
      "3   2003      True\n",
      "4   2004      True\n"
     ]
    }
   ],
   "source": [
    "tabla['Ganancia'] = False\n",
    "mask = tabla['Beneficios'] > 0\n",
    "tabla.loc[mask, 'Ganancia'] = True\n",
    "print(' Columna con ganancias '.center(100, '#'))\n",
    "print(tabla[['Fecha', 'Ganancia']])"
   ]
  },
  {
   "cell_type": "markdown",
   "id": "52184a54",
   "metadata": {},
   "source": [
    "#### Explicación:\n",
    "Primero creo la columna con valores \"False\" y después le asigno su valor real después de haber sido evaluado."
   ]
  },
  {
   "cell_type": "markdown",
   "id": "2e9b251a",
   "metadata": {},
   "source": [
    "E. Finalmente el programa debe mostrar por pantalla la lista de los años con pérdidas."
   ]
  },
  {
   "cell_type": "code",
   "execution_count": 12,
   "id": "8f2a86e8",
   "metadata": {},
   "outputs": [
    {
     "name": "stdout",
     "output_type": "stream",
     "text": [
      "Años con pérdidas:\n",
      "\n",
      "1    2001\n",
      "2    2002\n",
      "Name: Fecha, dtype: int64\n"
     ]
    }
   ],
   "source": [
    "perdidas = tabla[tabla['Ganancia'] == False]\n",
    "print('Años con pérdidas:\\n')\n",
    "print(perdidas['Fecha'])"
   ]
  },
  {
   "cell_type": "markdown",
   "id": "30e32ce8",
   "metadata": {},
   "source": [
    "#### Explicación:\n",
    "Para filtrar la información del dataframe, generé un nuevo DF con la condición solicitada para, posteriormente, imprimirla."
   ]
  },
  {
   "cell_type": "markdown",
   "id": "b928ad92",
   "metadata": {},
   "source": [
    "### Ejercicio 3\n",
    "El fichero horas-trabajo.csv contiene el número de horas mensuales trabajadas por los empleados de una empresa durante el primer cuatrimestre. Crear un programa que realice las siguientes operaciones utilizando la librería Pandas:\n",
    "\n",
    "A. Crea una columna con el número total de horas trabajadas para cada operador."
   ]
  },
  {
   "cell_type": "code",
   "execution_count": 14,
   "id": "14e211ab",
   "metadata": {},
   "outputs": [
    {
     "name": "stdout",
     "output_type": "stream",
     "text": [
      "     Id Departamento  Enero  Febrero  Marzo  Abril  Total horas\n",
      "0   OP1  Proveedores    180    160.0  140.0  180.0        660.0\n",
      "1   OP2       Ventas    120    140.0    0.0  100.0        360.0\n",
      "2   OP3       Ventas     80     90.0   80.0   80.0        330.0\n",
      "3   OP5           IT    180    170.0  180.0  180.0        710.0\n",
      "4   OP6    Marketing    100      0.0  100.0    0.0        200.0\n",
      "5   OP7       Ventas    160    160.0  160.0  160.0        640.0\n",
      "6   OP8  Proveedores    100     80.0  110.0   80.0        370.0\n",
      "7   OP9           IT     80     80.0   80.0   80.0        320.0\n",
      "8  OP10       Ventas    180    160.0  180.0  180.0        700.0\n",
      "\n",
      "\n"
     ]
    }
   ],
   "source": [
    "archivo = 'horas-trabajo.csv'\n",
    "tabla_horas = pd.read_csv(archivo)\n",
    "tabla_horas = tabla_horas.fillna(0)\n",
    "\n",
    "tabla_horas['Total horas'] = tabla_horas.sum(axis=1, numeric_only=True)\n",
    "print(tabla_horas)\n",
    "print('\\n')"
   ]
  },
  {
   "cell_type": "markdown",
   "id": "c2d03d50",
   "metadata": {},
   "source": [
    "#### Explicación:\n",
    "Sin problemas para abrir archivoc csv con pandas"
   ]
  },
  {
   "cell_type": "markdown",
   "id": "28181b5e",
   "metadata": {},
   "source": [
    "B. Muestra cual es el promedio de horas trabajadas en total en la empresa durante el mes Marzo"
   ]
  },
  {
   "cell_type": "code",
   "execution_count": 15,
   "id": "b18e9b8b",
   "metadata": {},
   "outputs": [
    {
     "name": "stdout",
     "output_type": "stream",
     "text": [
      "El promedio de horas trabajadas en Marzo fue de: 114.44444444444444\n",
      "\n"
     ]
    }
   ],
   "source": [
    "print(f\"El promedio de horas trabajadas en Marzo fue de: {tabla_horas['Marzo'].mean()}\\n\")"
   ]
  },
  {
   "cell_type": "markdown",
   "id": "5f2286f9",
   "metadata": {},
   "source": [
    "#### Explicación:\n",
    "Con mean() es muy sencillo determinar promedios por columna."
   ]
  },
  {
   "cell_type": "markdown",
   "id": "85661880",
   "metadata": {},
   "source": [
    "C. Muestra cuántos operadores hay por cada departamento de la empresa."
   ]
  },
  {
   "cell_type": "code",
   "execution_count": 16,
   "id": "4c066c9b",
   "metadata": {},
   "outputs": [
    {
     "name": "stdout",
     "output_type": "stream",
     "text": [
      "Operadores por departamento: \n",
      "\n",
      "Departamento\n",
      "IT             2\n",
      "Marketing      1\n",
      "Proveedores    2\n",
      "Ventas         4\n",
      "Name: Id, dtype: int64\n",
      "\n",
      "\n"
     ]
    }
   ],
   "source": [
    "print('Operadores por departamento: \\n')\n",
    "operadores = tabla_horas.groupby('Departamento')['Id'].count()\n",
    "print(operadores)\n",
    "print('\\n')"
   ]
  },
  {
   "cell_type": "markdown",
   "id": "dcf7a4b0",
   "metadata": {},
   "source": [
    "#### Explicación:\n",
    "Para este punto utilicé y count() y groupby() para contabilizar el contenidpo de las filas y agrupar los elementos por una determinada columna (Id) respectivamente."
   ]
  },
  {
   "cell_type": "markdown",
   "id": "8766d70d",
   "metadata": {},
   "source": [
    "D. Muestra el número de empleados que han trabajado todos los meses, es decir, que tienen un número de horas todos los meses del cuatrimestre."
   ]
  },
  {
   "cell_type": "code",
   "execution_count": 19,
   "id": "ae55d9ef",
   "metadata": {},
   "outputs": [
    {
     "name": "stdout",
     "output_type": "stream",
     "text": [
      "\n",
      "\n",
      "     Id Departamento  Enero  Febrero  Marzo  Abril  Total horas\n",
      "0   OP1  Proveedores    180    160.0  140.0  180.0        660.0\n",
      "2   OP3       Ventas     80     90.0   80.0   80.0        330.0\n",
      "3   OP5           IT    180    170.0  180.0  180.0        710.0\n",
      "5   OP7       Ventas    160    160.0  160.0  160.0        640.0\n",
      "6   OP8  Proveedores    100     80.0  110.0   80.0        370.0\n",
      "7   OP9           IT     80     80.0   80.0   80.0        320.0\n",
      "8  OP10       Ventas    180    160.0  180.0  180.0        700.0\n",
      "\n",
      "\n",
      "Empleados sin faltas: 7\n"
     ]
    }
   ],
   "source": [
    "sin_faltas = tabla_horas.loc[(tabla_horas != 0).all(axis=1),:]\n",
    "print('\\n')\n",
    "print(sin_faltas)\n",
    "print('\\n')\n",
    "print(f\"Empleados sin faltas: {sin_faltas['Departamento'].count()}\")"
   ]
  },
  {
   "cell_type": "markdown",
   "id": "92615c33",
   "metadata": {},
   "source": [
    "#### Explicación:\n",
    "Se genera un nuevo dataFrame donde no contemple las filas con algún valor igual a 0. Para ello, utilizo \"loc\" y dentro del mismo especifico el filtro que necesito para generar el nuevo DF."
   ]
  },
  {
   "attachments": {},
   "cell_type": "markdown",
   "id": "ab2dc663",
   "metadata": {},
   "source": [
    "### Ejercicio 4\n",
    "Crear un programa utilizando la librería Pandas y Matplotlib que realice lo siguiente:\n",
    "\n",
    "A. Crear el siguiente DataFrame indexado:\n",
    "        \n",
    "        Dia - Calorias - Tiempo\n",
    "        Lunes - 420 - 60\n",
    "        Martes - 380 - 40\n",
    "        Miercoles - 390 - 75\n",
    "        Jueves - 490 - 55\n",
    "        Viernes - 300 - 45"
   ]
  },
  {
   "cell_type": "code",
   "execution_count": 21,
   "id": "a1f77f19",
   "metadata": {},
   "outputs": [
    {
     "name": "stdout",
     "output_type": "stream",
     "text": [
      "           Calorias  Tiempo\n",
      "Dia                        \n",
      "Lunes           420      60\n",
      "Martes          380      40\n",
      "Miercoles       390      75\n",
      "Jueves          490      55\n",
      "Viernes         300      45\n"
     ]
    }
   ],
   "source": [
    "ejercicio = {\n",
    "    'Dia': ['Lunes', 'Martes', 'Miercoles', 'Jueves', 'Viernes'],\n",
    "    'Calorias': [420, 380, 390, 490, 300],\n",
    "    'Tiempo': [60, 40, 75, 55, 45]\n",
    "}\n",
    "df = pd.DataFrame(ejercicio).set_index('Dia')\n",
    "print(df)"
   ]
  },
  {
   "cell_type": "markdown",
   "id": "d370d657",
   "metadata": {},
   "source": [
    "#### Explicación:\n",
    "Dado que la tabla no la tenemos en un archivo, se generó de forma manual y después se transforma a un Dataframe."
   ]
  },
  {
   "cell_type": "markdown",
   "id": "b658ae8f",
   "metadata": {},
   "source": [
    "B. Calcular la media, mediana y desviación típica de ambas columnas."
   ]
  },
  {
   "cell_type": "code",
   "execution_count": 22,
   "id": "5ffc950a",
   "metadata": {},
   "outputs": [
    {
     "name": "stdout",
     "output_type": "stream",
     "text": [
      "              Calorias     Tiempo\n",
      "Calculo                          \n",
      "Media       396.000000  55.000000\n",
      "Mediana     390.000000  55.000000\n",
      "Desviación   68.774995  13.693064\n"
     ]
    }
   ],
   "source": [
    "calculos = {\n",
    "    'Calculo': ['Media', 'Mediana', 'Desviación'],\n",
    "    'Calorias': [df['Calorias'].mean(), df['Calorias'].median(), df['Calorias'].std()],\n",
    "    'Tiempo': [df['Tiempo'].mean(), df['Tiempo'].median(), df['Tiempo'].std()]\n",
    "}\n",
    "df1 = pd.DataFrame(calculos).set_index('Calculo')\n",
    "print(df1)"
   ]
  },
  {
   "cell_type": "markdown",
   "id": "be3145f5",
   "metadata": {},
   "source": [
    "#### Explicación:\n",
    "Para ver los cálculos de una forma más digerible, creé un diccionario que es alimentado mediante las funciones de pandas primeramente en un diccionario, y después convirtiendolo a un DF."
   ]
  },
  {
   "cell_type": "markdown",
   "id": "5783f2e0",
   "metadata": {},
   "source": [
    "C. Añadir otra columna booleana al DataFrame para ver si se ha cumplido el reto de quemar más de 400 calorías por hora. La nueva columna debe generarse aplicando una fórmula a las otras columnas. "
   ]
  },
  {
   "cell_type": "code",
   "execution_count": 23,
   "id": "e129138c",
   "metadata": {},
   "outputs": [
    {
     "name": "stdout",
     "output_type": "stream",
     "text": [
      "           Calorias  Tiempo   Reto\n",
      "Dia                               \n",
      "Lunes           420      60   True\n",
      "Martes          380      40  False\n",
      "Miercoles       390      75  False\n",
      "Jueves          490      55   True\n",
      "Viernes         300      45  False\n",
      "\n",
      "\n"
     ]
    }
   ],
   "source": [
    "df['Reto'] = np.where((df['Calorias']>400) & (df['Tiempo'] <= 60), True, False)\n",
    "print(df)\n",
    "print('\\n')"
   ]
  },
  {
   "cell_type": "markdown",
   "id": "91e0221f",
   "metadata": {},
   "source": [
    "#### Explicación:\n",
    "Al usar la condición where, se puede emplear tal y como se hace en SQL."
   ]
  },
  {
   "cell_type": "markdown",
   "id": "f3474492",
   "metadata": {},
   "source": [
    "D. Filtrar el DataFrame y devolver otro DataFrame con las filas que cumplan que el número de calorías es mayor de 400."
   ]
  },
  {
   "cell_type": "code",
   "execution_count": 24,
   "id": "c31febc0",
   "metadata": {},
   "outputs": [
    {
     "name": "stdout",
     "output_type": "stream",
     "text": [
      "        Calorias  Tiempo  Reto\n",
      "Dia                           \n",
      "Lunes      420.0    60.0  True\n",
      "Jueves     490.0    55.0  True\n",
      "\n",
      "\n"
     ]
    }
   ],
   "source": [
    "calorias = df.where(df['Calorias'] > 400).dropna()\n",
    "print(calorias)"
   ]
  },
  {
   "cell_type": "markdown",
   "id": "2777946e",
   "metadata": {},
   "source": [
    "#### Explicación:\n",
    "Utilicé dropna para generar un DF filtrado junto con la función where."
   ]
  },
  {
   "cell_type": "markdown",
   "id": "399cbce2",
   "metadata": {},
   "source": [
    "E. Añadir otra columna con los porcentajes de días que se ha conseguido el reto y los que no."
   ]
  },
  {
   "cell_type": "code",
   "execution_count": 25,
   "id": "d0c6c86e",
   "metadata": {},
   "outputs": [
    {
     "name": "stdout",
     "output_type": "stream",
     "text": [
      "           Calorias  Tiempo   Reto  Cumplimiento\n",
      "Dia                                             \n",
      "Lunes           420      60   True         105.0\n",
      "Martes          380      40  False          95.0\n",
      "Miercoles       390      75  False          97.5\n",
      "Jueves          490      55   True         122.5\n",
      "Viernes         300      45  False          75.0\n"
     ]
    }
   ],
   "source": [
    "df['Cumplimiento'] = (df['Calorias'] / 400) * 100\n",
    "print(df)"
   ]
  },
  {
   "cell_type": "markdown",
   "id": "973da5f2",
   "metadata": {},
   "source": [
    "#### Explicación:\n",
    "Agregué la columna 'Cumplimiento' considerando la fórmula que determina el porcentaje."
   ]
  },
  {
   "cell_type": "markdown",
   "id": "da861464",
   "metadata": {},
   "source": [
    "F. Crear un gráfico donde se  muestre la progresión de las calorías y tiempo durante la semana."
   ]
  },
  {
   "cell_type": "code",
   "execution_count": 26,
   "id": "5d05a044",
   "metadata": {},
   "outputs": [
    {
     "data": {
      "image/png": "[encoded data removed]",
      "text/plain": [
       "<Figure size 640x480 with 2 Axes>"
      ]
     },
     "metadata": {},
     "output_type": "display_data"
    }
   ],
   "source": [
    "x = df.index.values\n",
    "y1 = df['Calorias']\n",
    "y2 = df['Tiempo']\n",
    "\n",
    "ax1 = plt.subplot(311)\n",
    "plt.plot(x, y1)\n",
    "plt.tick_params('x', labelbottom=False)\n",
    "plt.ylabel('Calorías')\n",
    "plt.grid(True)\n",
    "\n",
    "ax2 = plt.subplot(312, sharex=ax1)\n",
    "plt.plot(x, y2)\n",
    "plt.tick_params('x', labelsize=6)\n",
    "plt.ylabel('Tiempo')\n",
    "plt.grid(True)\n",
    "\n",
    "plt.show()"
   ]
  },
  {
   "cell_type": "markdown",
   "id": "291501f7",
   "metadata": {},
   "source": [
    "#### Explicación:\n",
    "Generé 2 gráficas que hacen referencia al mismo eje X, pero renombrando cada eje Y con su respectiva información para poder hacer la gráfica más digerible para el usuario."
   ]
  },
  {
   "cell_type": "markdown",
   "id": "576ec7e3",
   "metadata": {},
   "source": [
    "### Ejercicio 5\n",
    "El fichero coches.csv contiene información sobre los modelos de coches vendidos en USA durante un determinado año. Se pide:\n",
    "\n",
    "A. Crear un DataFrame a partir del fichero anterior."
   ]
  },
  {
   "cell_type": "code",
   "execution_count": 27,
   "id": "38f024d9",
   "metadata": {},
   "outputs": [
    {
     "name": "stdout",
     "output_type": "stream",
     "text": [
      "     Marca                   Modelo   Tipo  Potencia  Precio\n",
      "0    Acura                      MDX    SUV     265.0   33337\n",
      "1    Acura           RSX Type S 2dr  Sedan     200.0   21761\n",
      "2    Acura                  TSX 4dr  Sedan     200.0   24647\n",
      "3    Acura                   TL 4dr  Sedan     270.0   30299\n",
      "4    Acura               3.5 RL 4dr  Sedan     225.0   39014\n",
      "..     ...                      ...    ...       ...     ...\n",
      "423  Volvo  C70 LPT convertible 2dr  Sedan     197.0   38203\n",
      "424  Volvo  C70 HPT convertible 2dr  Sedan     242.0   40083\n",
      "425  Volvo               S80 T6 4dr  Sedan     268.0   42573\n",
      "426  Volvo                      V40  Wagon     170.0   24641\n",
      "427  Volvo                     XC70  Wagon     208.0   33112\n",
      "\n",
      "[428 rows x 5 columns]\n"
     ]
    }
   ],
   "source": [
    "file = 'coches.csv'\n",
    "coches = pd.read_csv(file)\n",
    "print(coches)"
   ]
  },
  {
   "cell_type": "markdown",
   "id": "64ae7949",
   "metadata": {},
   "source": [
    "#### Explicación:\n",
    "SIn problemas para abrir archivos csv utilizando pandas."
   ]
  },
  {
   "cell_type": "markdown",
   "id": "4827bd52",
   "metadata": {},
   "source": [
    "B. Eliminar las filas con valores desconocidos y mostrar el número de filas del DataFrame resultante."
   ]
  },
  {
   "cell_type": "code",
   "execution_count": 28,
   "id": "ebc9cd6d",
   "metadata": {},
   "outputs": [
    {
     "name": "stdout",
     "output_type": "stream",
     "text": [
      "Número de filas en DF sin valores desconocidos: 421\n"
     ]
    }
   ],
   "source": [
    "coches = coches.dropna()\n",
    "print(f'Número de filas en DF sin valores desconocidos: {len(coches)}')"
   ]
  },
  {
   "cell_type": "markdown",
   "id": "f6c1e10d",
   "metadata": {},
   "source": [
    "#### Explicación:\n",
    "Eliminé las filas que contenían celdas vacías con dropna() y cuento el número de filas con len()."
   ]
  },
  {
   "cell_type": "markdown",
   "id": "b329590a",
   "metadata": {},
   "source": [
    "C. Crear una columna con el precio en euros (cambio 1$ = 0.94€)"
   ]
  },
  {
   "cell_type": "code",
   "execution_count": 29,
   "id": "3ba5c7c1",
   "metadata": {},
   "outputs": [
    {
     "name": "stdout",
     "output_type": "stream",
     "text": [
      "     Marca                   Modelo   Tipo  Potencia  Precio  Precio EUR\n",
      "0    Acura                      MDX    SUV     265.0   33337    31336.78\n",
      "1    Acura           RSX Type S 2dr  Sedan     200.0   21761    20455.34\n",
      "2    Acura                  TSX 4dr  Sedan     200.0   24647    23168.18\n",
      "3    Acura                   TL 4dr  Sedan     270.0   30299    28481.06\n",
      "4    Acura               3.5 RL 4dr  Sedan     225.0   39014    36673.16\n",
      "..     ...                      ...    ...       ...     ...         ...\n",
      "423  Volvo  C70 LPT convertible 2dr  Sedan     197.0   38203    35910.82\n",
      "424  Volvo  C70 HPT convertible 2dr  Sedan     242.0   40083    37678.02\n",
      "425  Volvo               S80 T6 4dr  Sedan     268.0   42573    40018.62\n",
      "426  Volvo                      V40  Wagon     170.0   24641    23162.54\n",
      "427  Volvo                     XC70  Wagon     208.0   33112    31125.28\n",
      "\n",
      "[421 rows x 6 columns]\n"
     ]
    }
   ],
   "source": [
    "coches['Precio EUR'] = coches['Precio'] * 0.94\n",
    "print(coches)"
   ]
  },
  {
   "cell_type": "markdown",
   "id": "8443f397",
   "metadata": {},
   "source": [
    "#### Explicación:\n",
    "Para realizar operaciónes entre columnas y usando pandas, no hay problema."
   ]
  },
  {
   "cell_type": "markdown",
   "id": "6b974923",
   "metadata": {},
   "source": [
    "D. Mostrar las 10 últimas filas del DataFrame."
   ]
  },
  {
   "cell_type": "code",
   "execution_count": 30,
   "id": "a166801a",
   "metadata": {},
   "outputs": [
    {
     "name": "stdout",
     "output_type": "stream",
     "text": [
      "     Marca                   Modelo   Tipo  Potencia  Precio  Precio EUR\n",
      "418  Volvo              S60 2.5 4dr  Sedan     208.0   29916    28121.04\n",
      "419  Volvo               S60 T5 4dr  Sedan     247.0   32902    30927.88\n",
      "420  Volvo                S60 R 4dr  Sedan     300.0   35382    33259.08\n",
      "421  Volvo              S80 2.9 4dr  Sedan     208.0   35542    33409.48\n",
      "422  Volvo             S80 2.5T 4dr  Sedan     194.0   35688    33546.72\n",
      "423  Volvo  C70 LPT convertible 2dr  Sedan     197.0   38203    35910.82\n",
      "424  Volvo  C70 HPT convertible 2dr  Sedan     242.0   40083    37678.02\n",
      "425  Volvo               S80 T6 4dr  Sedan     268.0   42573    40018.62\n",
      "426  Volvo                      V40  Wagon     170.0   24641    23162.54\n",
      "427  Volvo                     XC70  Wagon     208.0   33112    31125.28\n"
     ]
    }
   ],
   "source": [
    "print(coches.tail(10))"
   ]
  },
  {
   "cell_type": "markdown",
   "id": "69f0a983",
   "metadata": {},
   "source": [
    "#### Explicación:\n",
    "Tan simple como usar la función tail()."
   ]
  },
  {
   "cell_type": "markdown",
   "id": "5333db8f",
   "metadata": {},
   "source": [
    "E. Mostrar el número de marcas de coches que contiene el DataFrame."
   ]
  },
  {
   "cell_type": "code",
   "execution_count": 31,
   "id": "b76bc8a2",
   "metadata": {},
   "outputs": [
    {
     "name": "stdout",
     "output_type": "stream",
     "text": [
      "El Dataframe contiene 38 marcas distintas de coches\n"
     ]
    }
   ],
   "source": [
    "distintas_marcas = coches['Marca'].drop_duplicates()\n",
    "print(f'El Dataframe contiene {len(distintas_marcas)} marcas distintas de coches')"
   ]
  },
  {
   "cell_type": "markdown",
   "id": "234da6ec",
   "metadata": {},
   "source": [
    "#### Explicación:\n",
    "Utilizo Drop para eliminar los duplicados y después poder contabilizar los elementos distintos dentro de la columna 'Marca'."
   ]
  },
  {
   "cell_type": "markdown",
   "id": "c0216e38",
   "metadata": {},
   "source": [
    "F. Mostrar el número de modelos de cada marca que hay en el DataFrame, de mayor a menor frecuencia."
   ]
  },
  {
   "cell_type": "code",
   "execution_count": 32,
   "id": "47e50688",
   "metadata": {},
   "outputs": [
    {
     "name": "stdout",
     "output_type": "stream",
     "text": [
      "               Cantidad_Modelos\n",
      "Marca                          \n",
      "Toyota                       28\n",
      "Chevrolet                    27\n",
      "Mercedes-Benz                26\n",
      "Ford                         23\n",
      "BMW                          19\n",
      "Audi                         19\n",
      "Nissan                       17\n",
      "Honda                        16\n",
      "Volkswagen                   15\n",
      "Chrysler                     14\n",
      "Dodge                        13\n",
      "Mitsubishi                   13\n",
      "Volvo                        12\n",
      "Hyundai                      12\n",
      "Jaguar                       12\n",
      "Kia                          11\n",
      "Mazda                        11\n",
      "Pontiac                      10\n",
      "Subaru                       10\n",
      "Lexus                        10\n",
      "Lincoln                       9\n",
      "Buick                         9\n",
      "Mercury                       9\n",
      "Cadillac                      8\n",
      "Suzuki                        8\n",
      "Infiniti                      8\n",
      "GMC                           8\n",
      "Saturn                        8\n",
      "Saab                          7\n",
      "Porsche                       7\n",
      "Acura                         7\n",
      "Oldsmobile                    3\n",
      "Land Rover                    3\n",
      "MINI                          2\n",
      "Scion                         2\n",
      "Isuzu                         2\n",
      "Jeep                          2\n",
      "Hummer                        1\n"
     ]
    }
   ],
   "source": [
    "modelos = pd.DataFrame(coches.groupby('Marca')['Modelo'].count())\n",
    "modelos.rename(columns={'Modelo': 'Cantidad_Modelos'}, inplace=True)\n",
    "print(modelos.sort_values(by=['Cantidad_Modelos'], ascending=False))"
   ]
  },
  {
   "cell_type": "markdown",
   "id": "73ecb5ee",
   "metadata": {},
   "source": [
    "#### Explicación:\n",
    "Para este punto, creé un nuevo DF con la suma de los modelos de coches agrupado por la marca, renombre la columna 'Modelo' por 'Cantidad_Modelos' para hacer más entendible la información y finalmente muestro la tabla colocando un filtro descendente."
   ]
  },
  {
   "cell_type": "markdown",
   "id": "6e218c4b",
   "metadata": {},
   "source": [
    "G. Mostrar cuál es la marca y el modelo del coche más caro."
   ]
  },
  {
   "cell_type": "code",
   "execution_count": 33,
   "id": "be8cbb5b",
   "metadata": {},
   "outputs": [
    {
     "name": "stdout",
     "output_type": "stream",
     "text": [
      "El coche más caro es el modelo 911 GT2 2dr de la marca Porsche\n"
     ]
    }
   ],
   "source": [
    "mas_caro = coches['Precio'].max()\n",
    "datos_mas_caro = coches[coches['Precio'] == mas_caro]\n",
    "print(f\"El coche más caro es el modelo {datos_mas_caro['Modelo'].values[0]} de la marca {datos_mas_caro['Marca'].values[0]}\")"
   ]
  },
  {
   "cell_type": "markdown",
   "id": "92b2914c",
   "metadata": {},
   "source": [
    "#### Explicación:\n",
    "Primero, guardo el valor más caro de la columna 'Precio' en una variable que después utilizó como parte de la creación de un nuevo DF con un solo valor. Al final mando llamar sólo las columnas que necesito para completar el enunciado de la impresión."
   ]
  },
  {
   "cell_type": "markdown",
   "id": "bd634ad3",
   "metadata": {},
   "source": [
    "H. Mostrar el precio medio en euros de los coches agrupando por marca y ordenando de menor a mayor precio."
   ]
  },
  {
   "cell_type": "code",
   "execution_count": 34,
   "id": "51cda7c6",
   "metadata": {},
   "outputs": [
    {
     "name": "stdout",
     "output_type": "stream",
     "text": [
      "                 Precio EUR\n",
      "Marca                      \n",
      "Porsche        69243.085714\n",
      "Mercedes-Benz  53066.109231\n",
      "Jaguar         52732.511667\n",
      "Cadillac       43641.262500\n",
      "Hummer         43066.100000\n",
      "Land Rover     39339.940000\n",
      "Lexus          37501.864000\n",
      "BMW            37391.864211\n",
      "Audi           36970.298947\n",
      "Lincoln        36787.631111\n",
      "Acura          36275.405714\n",
      "Saab           33483.068571\n",
      "Volvo          32163.196667\n",
      "Infiniti       30907.200000\n",
      "Volkswagen     27901.706667\n",
      "Buick          26183.595556\n",
      "GMC            24712.012500\n",
      "Mercury        24118.102222\n",
      "Chrysler       23778.105714\n",
      "Isuzu          23141.860000\n",
      "Dodge          22710.472308\n",
      "Chevrolet      22617.165926\n",
      "Nissan         21617.622353\n",
      "Subaru         21351.442000\n",
      "Pontiac        20878.528000\n",
      "Ford           20635.820000\n",
      "Mitsubishi     20524.683077\n",
      "Oldsmobile     20444.060000\n",
      "Jeep           19856.560000\n",
      "Toyota         19078.172857\n",
      "Mazda          18980.907273\n",
      "Honda          18773.092500\n",
      "MINI           15779.780000\n",
      "Saturn         15103.920000\n",
      "Hyundai        15073.213333\n",
      "Suzuki         14937.775000\n",
      "Kia            13996.941818\n",
      "Scion          12135.400000\n"
     ]
    }
   ],
   "source": [
    "media_modelos = pd.DataFrame(coches.groupby('Marca')['Precio EUR'].mean())\n",
    "print(media_modelos.sort_values(by=['Precio EUR'], ascending=False))"
   ]
  },
  {
   "cell_type": "markdown",
   "id": "850fba5f",
   "metadata": {},
   "source": [
    "#### Explicación:\n",
    "Utilizo groupby para agrupar, en este caso, la media del precio de cada marca. Esto lo guardo en un nuevo DF que después imprimo ordenado de mayor a menor."
   ]
  },
  {
   "cell_type": "markdown",
   "id": "c690b95b",
   "metadata": {},
   "source": [
    "I. Gráfica el diagrama de barras del porcentaje de modelos de cada marca."
   ]
  },
  {
   "cell_type": "code",
   "execution_count": 36,
   "id": "3a620376",
   "metadata": {},
   "outputs": [
    {
     "data": {
      "image/png": "[encoded data removed]",
      "text/plain": [
       "<Figure size 640x480 with 1 Axes>"
      ]
     },
     "metadata": {},
     "output_type": "display_data"
    }
   ],
   "source": [
    "def add_value_label(eje_x,eje_y):\n",
    "    for i in range(1, len(eje_x)+1):\n",
    "        plt.text(i,round(eje_y[i-1],1),round(eje_y[i-1],1), ha=\"right\", size=6, rotation=45)\n",
    "\n",
    "modelos['Porcentaje'] = (modelos['Cantidad_Modelos'] / modelos['Cantidad_Modelos'].sum()) * 100\n",
    "modelos = modelos.sort_values(by=['Porcentaje'], ascending=False)\n",
    "\n",
    "fig, ax = plt.subplots()\n",
    "\n",
    "marcas = modelos.index.values\n",
    "porcentajes = modelos['Porcentaje']\n",
    "\n",
    "ax.bar(marcas, porcentajes)\n",
    "add_value_label(marcas,porcentajes)\n",
    "plt.xticks(rotation=90, size=5)\n",
    "ax.set_ylabel('% por modelo')\n",
    "ax.set_title('Porcentaje de modelos por marca')\n",
    "plt.show()"
   ]
  },
  {
   "cell_type": "markdown",
   "id": "cd543c30",
   "metadata": {},
   "source": [
    "#### Explicación:\n",
    "Aghregué una pequeña fuinción que me ayuda a mostrar el valor del porcentaje sobre cada una de las barras y hacer la información un poco más digerible. También utilicé \"size\" y \"rotation\" para ajustar el tamaño de los textos."
   ]
  },
  {
   "cell_type": "markdown",
   "id": "3b7c53de",
   "metadata": {},
   "source": [
    "J. Gráfica el diagrama de dispersión de la potencia y el precio."
   ]
  },
  {
   "cell_type": "code",
   "execution_count": 37,
   "id": "2f39aab1",
   "metadata": {},
   "outputs": [
    {
     "data": {
      "image/png": "[encoded data removed]",
      "text/plain": [
       "<Figure size 640x480 with 1 Axes>"
      ]
     },
     "metadata": {},
     "output_type": "display_data"
    }
   ],
   "source": [
    "x = coches['Potencia']\n",
    "y = (coches['Precio'] / 1000)\n",
    "sizes = 100\n",
    "\n",
    "fig, ax = plt.subplots()\n",
    "ax.scatter(x, y, sizes, c=\"green\", alpha=0.5, marker='.')\n",
    "ax.set_xlabel(\"Potencia\")\n",
    "ax.set_ylabel(\"Precio (x 1000)\")\n",
    "ax.set_title('Relación Potencia vs Precio')\n",
    "plt.show()"
   ]
  },
  {
   "cell_type": "markdown",
   "id": "488eb040",
   "metadata": {},
   "source": [
    "#### Explicación:\n",
    "En este caso sólo modifiqué el tamaño de los puntos con la variable sizes y cambié el formato del punto (maker). Para el eje Y, divido los valores entgre 1000 para que las etiquetas del eje no abarquen tanto espacio."
   ]
  }
 ],
 "metadata": {
  "kernelspec": {
   "display_name": "Python 3 (ipykernel)",
   "language": "python",
   "name": "python3"
  },
  "language_info": {
   "codemirror_mode": {
    "name": "ipython",
    "version": 3
   },
   "file_extension": ".py",
   "mimetype": "text/x-python",
   "name": "python",
   "nbconvert_exporter": "python",
   "pygments_lexer": "ipython3",
   "version": "3.9.7"
  }
 },
 "nbformat": 4,
 "nbformat_minor": 5
}
