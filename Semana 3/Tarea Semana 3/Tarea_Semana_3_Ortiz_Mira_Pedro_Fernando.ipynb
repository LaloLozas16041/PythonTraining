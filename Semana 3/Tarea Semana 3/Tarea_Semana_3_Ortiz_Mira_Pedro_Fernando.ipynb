{
  "nbformat": 4,
  "nbformat_minor": 0,
  "metadata": {
    "colab": {
      "provenance": []
    },
    "kernelspec": {
      "name": "python3",
      "display_name": "Python 3"
    },
    "language_info": {
      "name": "python"
    }
  },
  "cells": [
    {
      "cell_type": "markdown",
      "source": [
        "TAREA SEMANA 3 : FUNDAMENTOS DE PYTHON\n",
        "Nombre : Pedro Fernando Ortiz Mira\n",
        "\n"
      ],
      "metadata": {
        "id": "kIwj5slqfL_k"
      }
    },
    {
      "cell_type": "markdown",
      "source": [
        "Ejercicio 1\n",
        "\n",
        "\n",
        "Escribir dos funciones que simulan una calculadora científica que permita calcular el seno, coseno, tangente, exponencial y logaritmo neperiano o natural (logaritmo en base euler). \n",
        "\n",
        "A)La función uno preguntará al usuario el intervalo donde quiere aplicar la función matemática y la función a aplicar, y mostrará por pantalla una tabla donde la primera columna será los valores del intervalo dado (x) y la columna 2 tendrá los resultados de el resultado de aplicar la función a este intervalo (y).\n",
        "\n",
        "\n",
        "B)La función dos graficara con matplotlib el resultado de función anterior y la mostrará en pantalla. Recuerden poner los títulos ejes y demás configuraciones de las gráficas para que queden de la mejor manera posible.\n"
      ],
      "metadata": {
        "id": "TYqmhGDtf3BT"
      }
    },
    {
      "cell_type": "code",
      "source": [
        "import matplotlib.pyplot as plt\n",
        "from math import sin, cos, tan, exp, log\n",
        "\n",
        "funcion = input('Introduce la función a aplicar (seno, coseno, tangente, exponencial, logaritmo): ')\n",
        "numero = int(input('Introduce un entero positivo: '))\n",
        "\n",
        "\n",
        "def aplicar_funcion(funcion, numero):\n",
        "    \n",
        "    funciones = {'seno':sin, 'tangente':tan ,'coseno':cos ,'logaritmo':log ,'exponencial':exp}\n",
        "    result = {}\n",
        "    numeros = range(1, numero+1)\n",
        "\n",
        "    for numero in numeros:\n",
        "        result[numero] = funciones[funcion](numero)\n",
        "    return result\n",
        "\n",
        "def calculator():\n",
        "    \n",
        "    arr_x = []\n",
        "    arr_y = []\n",
        "    for x, y in aplicar_funcion(funcion, numero).items():\n",
        "        print (f\"Intervalo {x}\", '\\t', f\"Resultado: {y}\")\n",
        "        arr_x.append(x)\n",
        "        arr_y.append(y)\n",
        "    # return\n",
        "    # fig, ax = plt.subplots()\n",
        "    # ax.scatter(arr_x, arr_y)\n",
        "    # plt.savefig('diagrama-dispersion.png')\n",
        "    # plt.show()\n",
        "\n",
        "    fig, ax = plt.subplots()\n",
        "    ax.plot(arr_x, arr_y)\n",
        "    plt.plot(arr_x,arr_y,color='red', linestyle='-')\n",
        "    plt.title(\"Función Lineal\")\n",
        "    plt.ylabel(\"Eje Y\")\n",
        "    plt.xlabel(\"Eje X\")\n",
        "    plt.show()\n",
        "\n",
        "calculator()\n"
      ],
      "metadata": {
        "id": "y9InIdgGf7zH"
      },
      "execution_count": null,
      "outputs": []
    },
    {
      "cell_type": "markdown",
      "source": [
        "Explicacion:\n",
        "\n",
        "el primer reto fue como preguntar al usuario que funcion iba a querer aplicar\n",
        "la verdad tuve que buscar varios videos y tutoriales para al final darme cuenta que \n",
        "podia meter las funciones de la libreria en un diccionario y ya nadamas dependiendo de\n",
        "la eleccion del usuario meti ese key y su value en otro diccionario el cual mandare a llamar\n",
        "en mi bucle por que necesitamos que se vean todos los resultados del 1 al n numero seleccionado\n",
        "por el user.\n",
        "despues lo de la grafia ya fue mas facil, busque en los archivos que nos pasaste como \n",
        "hiciste las graficas y ya solo reemplace los arrays por arrays que yo cree con los resultados\n",
        "en mi for dentro de mi funcion de calculadora."
      ],
      "metadata": {
        "id": "goGrfVhf0SjH"
      }
    },
    {
      "cell_type": "markdown",
      "source": [
        "Ejercicio 2\n",
        "\n",
        "\n",
        "Escribir un programa para ver los beneficios de una empresa en un periodo de años.\n",
        "El programa debe cumplir los siguientes requisitos:\n",
        "\n",
        "A)El programa tiene que preguntar al usuario por un año inicial y otro final, y después preguntar por los ingresos y egresos de cada año desde el año inicial hasta el año final.\n",
        "Debe garantizar que por lo menos haya 5 años entre el año inicial y el final.\n",
        "\n",
        "\n",
        "\n",
        "B)Con los datos introducidos se deben crear un dataframe, con las columnas fecha, ingresos y egresos.\n",
        "\n",
        "\n",
        "\n",
        "C)El programa debe generar otra columna con el beneficio de cada año (ingresos menos egresos) y mostrarla por pantalla.\n",
        "\n",
        "\n",
        "\n",
        "D)El programa debe crear otra columna llamada ganancia la cuál indique para cada año si ha habido beneficios o no de manera booleana y mostrarla por pantalla.\n",
        "\n",
        "\n",
        "\n",
        "E)Finalmente el programa debe mostrar por pantalla la lista de los años con pérdidas.\n"
      ],
      "metadata": {
        "id": "JsyfC1t-0ahO"
      }
    },
    {
      "cell_type": "code",
      "source": [
        "# Pregunta por los años inicial y final\n",
        "\n",
        "\n",
        "check = True\n",
        "\n",
        "inicio = int(input('Introduce el año inicial: '))\n",
        "fin = int(input('Introduce el año final: '))\n",
        "\n",
        "while check:\n",
        "\n",
        "  difference_in_years = fin - inicio\n",
        "\n",
        "\n",
        "  if difference_in_years >= 2:\n",
        "   \n",
        "    años = []\n",
        "    ingresos = []\n",
        "    gastos = []\n",
        "    \n",
        "    for i in range(inicio, fin+1):\n",
        "        años.append(i)\n",
        "        ingresos.append(float(input('Ingresos del año ' + str(i) + ': ')))\n",
        "        gastos.append(float(input('Gastos del año ' + str(i) + ': ')))\n",
        "    \n",
        "    beneficios = []\n",
        "   \n",
        "    for i in range(len(ingresos)):\n",
        "        beneficios.append(ingresos[i] - gastos[i])\n",
        "       \n",
        "        print(f\"Fecha: {i} ingresos: {ingresos[i]} Egresos: {gastos[i]}\") #AQUI ESTOOOOOOOYYYYYYYYYYYYYYYYYYYYYYYYYYYY\n",
        "    \n",
        "    hay_beneficio = []\n",
        "    \n",
        "    for i in range(len(beneficios)):\n",
        "        hay_beneficio.append(beneficios[i] > 0)\n",
        "    print(hay_beneficio)\n",
        "    \n",
        "    años_beneficios = []\n",
        "    años_perdidas = []\n",
        "    \n",
        "    for i in range(len(hay_beneficio)):\n",
        "        if hay_beneficio[i]:\n",
        "            años_beneficios.append(años[i])\n",
        "        else:\n",
        "            años_perdidas.append(años[i])\n",
        "\n",
        "    print('Años con beneficios: ', años_beneficios)\n",
        "    print('Años con pérdidas: ', años_perdidas)\n",
        "\n",
        "    check = False\n",
        "\n",
        "  else: \n",
        "    print('Introduzca de nuevo cada año. La diferencia entre ambos años debe ser mayor o igual a 5') \n",
        "    inicio = int(input('Introduce el año inicial: '))\n",
        "    fin = int(input('Introduce el año final: '))         \n",
        "    "
      ],
      "metadata": {
        "id": "I5sRvSCD8qKa",
        "colab": {
          "base_uri": "https://localhost:8080/",
          "height": 380
        },
        "outputId": "c5761996-4ae3-4d19-c501-779159775223"
      },
      "execution_count": 67,
      "outputs": [
        {
          "output_type": "error",
          "ename": "KeyboardInterrupt",
          "evalue": "ignored",
          "traceback": [
            "\u001b[0;31m---------------------------------------------------------------------------\u001b[0m",
            "\u001b[0;31mKeyboardInterrupt\u001b[0m                         Traceback (most recent call last)",
            "\u001b[0;32m<ipython-input-67-fbd74f220a3f>\u001b[0m in \u001b[0;36m<cell line: 6>\u001b[0;34m()\u001b[0m\n\u001b[1;32m      4\u001b[0m \u001b[0mcheck\u001b[0m \u001b[0;34m=\u001b[0m \u001b[0;32mTrue\u001b[0m\u001b[0;34m\u001b[0m\u001b[0;34m\u001b[0m\u001b[0m\n\u001b[1;32m      5\u001b[0m \u001b[0;34m\u001b[0m\u001b[0m\n\u001b[0;32m----> 6\u001b[0;31m \u001b[0minicio\u001b[0m \u001b[0;34m=\u001b[0m \u001b[0mint\u001b[0m\u001b[0;34m(\u001b[0m\u001b[0minput\u001b[0m\u001b[0;34m(\u001b[0m\u001b[0;34m'Introduce el año inicial: '\u001b[0m\u001b[0;34m)\u001b[0m\u001b[0;34m)\u001b[0m\u001b[0;34m\u001b[0m\u001b[0;34m\u001b[0m\u001b[0m\n\u001b[0m\u001b[1;32m      7\u001b[0m \u001b[0mfin\u001b[0m \u001b[0;34m=\u001b[0m \u001b[0mint\u001b[0m\u001b[0;34m(\u001b[0m\u001b[0minput\u001b[0m\u001b[0;34m(\u001b[0m\u001b[0;34m'Introduce el año final: '\u001b[0m\u001b[0;34m)\u001b[0m\u001b[0;34m)\u001b[0m\u001b[0;34m\u001b[0m\u001b[0;34m\u001b[0m\u001b[0m\n\u001b[1;32m      8\u001b[0m \u001b[0;34m\u001b[0m\u001b[0m\n",
            "\u001b[0;32m/usr/local/lib/python3.10/dist-packages/ipykernel/kernelbase.py\u001b[0m in \u001b[0;36mraw_input\u001b[0;34m(self, prompt)\u001b[0m\n\u001b[1;32m    849\u001b[0m                 \u001b[0;34m\"raw_input was called, but this frontend does not support input requests.\"\u001b[0m\u001b[0;34m\u001b[0m\u001b[0;34m\u001b[0m\u001b[0m\n\u001b[1;32m    850\u001b[0m             )\n\u001b[0;32m--> 851\u001b[0;31m         return self._input_request(str(prompt),\n\u001b[0m\u001b[1;32m    852\u001b[0m             \u001b[0mself\u001b[0m\u001b[0;34m.\u001b[0m\u001b[0m_parent_ident\u001b[0m\u001b[0;34m,\u001b[0m\u001b[0;34m\u001b[0m\u001b[0;34m\u001b[0m\u001b[0m\n\u001b[1;32m    853\u001b[0m             \u001b[0mself\u001b[0m\u001b[0;34m.\u001b[0m\u001b[0m_parent_header\u001b[0m\u001b[0;34m,\u001b[0m\u001b[0;34m\u001b[0m\u001b[0;34m\u001b[0m\u001b[0m\n",
            "\u001b[0;32m/usr/local/lib/python3.10/dist-packages/ipykernel/kernelbase.py\u001b[0m in \u001b[0;36m_input_request\u001b[0;34m(self, prompt, ident, parent, password)\u001b[0m\n\u001b[1;32m    893\u001b[0m             \u001b[0;32mexcept\u001b[0m \u001b[0mKeyboardInterrupt\u001b[0m\u001b[0;34m:\u001b[0m\u001b[0;34m\u001b[0m\u001b[0;34m\u001b[0m\u001b[0m\n\u001b[1;32m    894\u001b[0m                 \u001b[0;31m# re-raise KeyboardInterrupt, to truncate traceback\u001b[0m\u001b[0;34m\u001b[0m\u001b[0;34m\u001b[0m\u001b[0m\n\u001b[0;32m--> 895\u001b[0;31m                 \u001b[0;32mraise\u001b[0m \u001b[0mKeyboardInterrupt\u001b[0m\u001b[0;34m(\u001b[0m\u001b[0;34m\"Interrupted by user\"\u001b[0m\u001b[0;34m)\u001b[0m \u001b[0;32mfrom\u001b[0m \u001b[0;32mNone\u001b[0m\u001b[0;34m\u001b[0m\u001b[0;34m\u001b[0m\u001b[0m\n\u001b[0m\u001b[1;32m    896\u001b[0m             \u001b[0;32mexcept\u001b[0m \u001b[0mException\u001b[0m \u001b[0;32mas\u001b[0m \u001b[0me\u001b[0m\u001b[0;34m:\u001b[0m\u001b[0;34m\u001b[0m\u001b[0;34m\u001b[0m\u001b[0m\n\u001b[1;32m    897\u001b[0m                 \u001b[0mself\u001b[0m\u001b[0;34m.\u001b[0m\u001b[0mlog\u001b[0m\u001b[0;34m.\u001b[0m\u001b[0mwarning\u001b[0m\u001b[0;34m(\u001b[0m\u001b[0;34m\"Invalid Message:\"\u001b[0m\u001b[0;34m,\u001b[0m \u001b[0mexc_info\u001b[0m\u001b[0;34m=\u001b[0m\u001b[0;32mTrue\u001b[0m\u001b[0;34m)\u001b[0m\u001b[0;34m\u001b[0m\u001b[0;34m\u001b[0m\u001b[0m\n",
            "\u001b[0;31mKeyboardInterrupt\u001b[0m: Interrupted by user"
          ]
        }
      ]
    },
    {
      "cell_type": "markdown",
      "source": [
        "Explicacion\n",
        "\n",
        "\n",
        "Este ejercicio tuvo varios puntos, el primer reto con el que me encontre es como iterar tantas veces fuera necesario el preguntarle al user por un intervalo de años mayor a 5 una vez con eso ya el resto fue facil, aunque tuve que buscar mucho sobre estructura de datos, mucha documentacion de arrays para darme una idea de como meter la info que queria donde."
      ],
      "metadata": {
        "id": "BtuYBSuZnriw"
      }
    },
    {
      "cell_type": "markdown",
      "source": [
        "Ejercicio 3\n",
        "\n",
        "\n",
        "El fichero horas-trabajo.csv contiene el número de horas mensuales trabajadas por los empleados de una empresa durante el primer cuatrimestre. Crear un programa que realice las siguientes operaciones utilizando la librería Pandas:\n",
        "\n",
        "A)Crea una columna con el número total de horas trabajadas para cada operador.\n",
        "\n",
        "\n",
        "B)Muestra cual es el promedio de horas trabajadas en total en la empresa durante el mes Marzo\n",
        "\n",
        "\n",
        "C)Muestra cuántos operadores hay por cada departamento de la empresa.\n",
        "\n",
        "\n",
        "\n",
        "D)Muestra el número de empleados que han trabajado todos los meses, es decir, que tienen un número de horas todos los meses del cuatrimestre.\n",
        "\n",
        "\n"
      ],
      "metadata": {
        "id": "_03iOzTdn6Dg"
      }
    },
    {
      "cell_type": "code",
      "source": [
        "import pandas as pd\n",
        "import numpy as np\n",
        "#A)columna con el número total de horas trabajadas para cada operador\n",
        "\n",
        "horas_trabajo = pd.read_csv('/content/horas-trabajo.csv', index_col=0)\n",
        "\n",
        "total_horas = horas_trabajo.sum(axis=1)\n",
        "horas_trabajo[\"Total de horas\"] = total_horas\n",
        "horas_trabajo\n",
        "\n"
      ],
      "metadata": {
        "colab": {
          "base_uri": "https://localhost:8080/",
          "height": 418
        },
        "id": "TmgVtMwzobzS",
        "outputId": "f0bf177d-8aca-48ee-e085-71d737d47dc6"
      },
      "execution_count": null,
      "outputs": [
        {
          "output_type": "stream",
          "name": "stderr",
          "text": [
            "<ipython-input-89-07cac0aad5f7>:6: FutureWarning: Dropping of nuisance columns in DataFrame reductions (with 'numeric_only=None') is deprecated; in a future version this will raise TypeError.  Select only valid columns before calling the reduction.\n",
            "  total_horas = horas_trabajo.sum(axis=1)\n"
          ]
        },
        {
          "output_type": "execute_result",
          "data": {
            "text/plain": [
              "     Departamento  Enero  Febrero  Marzo  Abril  Total de horas\n",
              "Id                                                             \n",
              "OP1   Proveedores    180    160.0  140.0  180.0           660.0\n",
              "OP2        Ventas    120    140.0    NaN  100.0           360.0\n",
              "OP3        Ventas     80     90.0   80.0   80.0           330.0\n",
              "OP5            IT    180    170.0  180.0  180.0           710.0\n",
              "OP6     Marketing    100      NaN  100.0    NaN           200.0\n",
              "OP7        Ventas    160    160.0  160.0  160.0           640.0\n",
              "OP8   Proveedores    100     80.0  110.0   80.0           370.0\n",
              "OP9            IT     80     80.0   80.0   80.0           320.0\n",
              "OP10       Ventas    180    160.0  180.0  180.0           700.0"
            ],
            "text/html": [
              "\n",
              "  <div id=\"df-94915a8c-b420-437d-aa95-c5c1712b7082\">\n",
              "    <div class=\"colab-df-container\">\n",
              "      <div>\n",
              "<style scoped>\n",
              "    .dataframe tbody tr th:only-of-type {\n",
              "        vertical-align: middle;\n",
              "    }\n",
              "\n",
              "    .dataframe tbody tr th {\n",
              "        vertical-align: top;\n",
              "    }\n",
              "\n",
              "    .dataframe thead th {\n",
              "        text-align: right;\n",
              "    }\n",
              "</style>\n",
              "<table border=\"1\" class=\"dataframe\">\n",
              "  <thead>\n",
              "    <tr style=\"text-align: right;\">\n",
              "      <th></th>\n",
              "      <th>Departamento</th>\n",
              "      <th>Enero</th>\n",
              "      <th>Febrero</th>\n",
              "      <th>Marzo</th>\n",
              "      <th>Abril</th>\n",
              "      <th>Total de horas</th>\n",
              "    </tr>\n",
              "    <tr>\n",
              "      <th>Id</th>\n",
              "      <th></th>\n",
              "      <th></th>\n",
              "      <th></th>\n",
              "      <th></th>\n",
              "      <th></th>\n",
              "      <th></th>\n",
              "    </tr>\n",
              "  </thead>\n",
              "  <tbody>\n",
              "    <tr>\n",
              "      <th>OP1</th>\n",
              "      <td>Proveedores</td>\n",
              "      <td>180</td>\n",
              "      <td>160.0</td>\n",
              "      <td>140.0</td>\n",
              "      <td>180.0</td>\n",
              "      <td>660.0</td>\n",
              "    </tr>\n",
              "    <tr>\n",
              "      <th>OP2</th>\n",
              "      <td>Ventas</td>\n",
              "      <td>120</td>\n",
              "      <td>140.0</td>\n",
              "      <td>NaN</td>\n",
              "      <td>100.0</td>\n",
              "      <td>360.0</td>\n",
              "    </tr>\n",
              "    <tr>\n",
              "      <th>OP3</th>\n",
              "      <td>Ventas</td>\n",
              "      <td>80</td>\n",
              "      <td>90.0</td>\n",
              "      <td>80.0</td>\n",
              "      <td>80.0</td>\n",
              "      <td>330.0</td>\n",
              "    </tr>\n",
              "    <tr>\n",
              "      <th>OP5</th>\n",
              "      <td>IT</td>\n",
              "      <td>180</td>\n",
              "      <td>170.0</td>\n",
              "      <td>180.0</td>\n",
              "      <td>180.0</td>\n",
              "      <td>710.0</td>\n",
              "    </tr>\n",
              "    <tr>\n",
              "      <th>OP6</th>\n",
              "      <td>Marketing</td>\n",
              "      <td>100</td>\n",
              "      <td>NaN</td>\n",
              "      <td>100.0</td>\n",
              "      <td>NaN</td>\n",
              "      <td>200.0</td>\n",
              "    </tr>\n",
              "    <tr>\n",
              "      <th>OP7</th>\n",
              "      <td>Ventas</td>\n",
              "      <td>160</td>\n",
              "      <td>160.0</td>\n",
              "      <td>160.0</td>\n",
              "      <td>160.0</td>\n",
              "      <td>640.0</td>\n",
              "    </tr>\n",
              "    <tr>\n",
              "      <th>OP8</th>\n",
              "      <td>Proveedores</td>\n",
              "      <td>100</td>\n",
              "      <td>80.0</td>\n",
              "      <td>110.0</td>\n",
              "      <td>80.0</td>\n",
              "      <td>370.0</td>\n",
              "    </tr>\n",
              "    <tr>\n",
              "      <th>OP9</th>\n",
              "      <td>IT</td>\n",
              "      <td>80</td>\n",
              "      <td>80.0</td>\n",
              "      <td>80.0</td>\n",
              "      <td>80.0</td>\n",
              "      <td>320.0</td>\n",
              "    </tr>\n",
              "    <tr>\n",
              "      <th>OP10</th>\n",
              "      <td>Ventas</td>\n",
              "      <td>180</td>\n",
              "      <td>160.0</td>\n",
              "      <td>180.0</td>\n",
              "      <td>180.0</td>\n",
              "      <td>700.0</td>\n",
              "    </tr>\n",
              "  </tbody>\n",
              "</table>\n",
              "</div>\n",
              "      <button class=\"colab-df-convert\" onclick=\"convertToInteractive('df-94915a8c-b420-437d-aa95-c5c1712b7082')\"\n",
              "              title=\"Convert this dataframe to an interactive table.\"\n",
              "              style=\"display:none;\">\n",
              "        \n",
              "  <svg xmlns=\"http://www.w3.org/2000/svg\" height=\"24px\"viewBox=\"0 0 24 24\"\n",
              "       width=\"24px\">\n",
              "    <path d=\"M0 0h24v24H0V0z\" fill=\"none\"/>\n",
              "    <path d=\"M18.56 5.44l.94 2.06.94-2.06 2.06-.94-2.06-.94-.94-2.06-.94 2.06-2.06.94zm-11 1L8.5 8.5l.94-2.06 2.06-.94-2.06-.94L8.5 2.5l-.94 2.06-2.06.94zm10 10l.94 2.06.94-2.06 2.06-.94-2.06-.94-.94-2.06-.94 2.06-2.06.94z\"/><path d=\"M17.41 7.96l-1.37-1.37c-.4-.4-.92-.59-1.43-.59-.52 0-1.04.2-1.43.59L10.3 9.45l-7.72 7.72c-.78.78-.78 2.05 0 2.83L4 21.41c.39.39.9.59 1.41.59.51 0 1.02-.2 1.41-.59l7.78-7.78 2.81-2.81c.8-.78.8-2.07 0-2.86zM5.41 20L4 18.59l7.72-7.72 1.47 1.35L5.41 20z\"/>\n",
              "  </svg>\n",
              "      </button>\n",
              "      \n",
              "  <style>\n",
              "    .colab-df-container {\n",
              "      display:flex;\n",
              "      flex-wrap:wrap;\n",
              "      gap: 12px;\n",
              "    }\n",
              "\n",
              "    .colab-df-convert {\n",
              "      background-color: #E8F0FE;\n",
              "      border: none;\n",
              "      border-radius: 50%;\n",
              "      cursor: pointer;\n",
              "      display: none;\n",
              "      fill: #1967D2;\n",
              "      height: 32px;\n",
              "      padding: 0 0 0 0;\n",
              "      width: 32px;\n",
              "    }\n",
              "\n",
              "    .colab-df-convert:hover {\n",
              "      background-color: #E2EBFA;\n",
              "      box-shadow: 0px 1px 2px rgba(60, 64, 67, 0.3), 0px 1px 3px 1px rgba(60, 64, 67, 0.15);\n",
              "      fill: #174EA6;\n",
              "    }\n",
              "\n",
              "    [theme=dark] .colab-df-convert {\n",
              "      background-color: #3B4455;\n",
              "      fill: #D2E3FC;\n",
              "    }\n",
              "\n",
              "    [theme=dark] .colab-df-convert:hover {\n",
              "      background-color: #434B5C;\n",
              "      box-shadow: 0px 1px 3px 1px rgba(0, 0, 0, 0.15);\n",
              "      filter: drop-shadow(0px 1px 2px rgba(0, 0, 0, 0.3));\n",
              "      fill: #FFFFFF;\n",
              "    }\n",
              "  </style>\n",
              "\n",
              "      <script>\n",
              "        const buttonEl =\n",
              "          document.querySelector('#df-94915a8c-b420-437d-aa95-c5c1712b7082 button.colab-df-convert');\n",
              "        buttonEl.style.display =\n",
              "          google.colab.kernel.accessAllowed ? 'block' : 'none';\n",
              "\n",
              "        async function convertToInteractive(key) {\n",
              "          const element = document.querySelector('#df-94915a8c-b420-437d-aa95-c5c1712b7082');\n",
              "          const dataTable =\n",
              "            await google.colab.kernel.invokeFunction('convertToInteractive',\n",
              "                                                     [key], {});\n",
              "          if (!dataTable) return;\n",
              "\n",
              "          const docLinkHtml = 'Like what you see? Visit the ' +\n",
              "            '<a target=\"_blank\" href=https://colab.research.google.com/notebooks/data_table.ipynb>data table notebook</a>'\n",
              "            + ' to learn more about interactive tables.';\n",
              "          element.innerHTML = '';\n",
              "          dataTable['output_type'] = 'display_data';\n",
              "          await google.colab.output.renderOutput(dataTable, element);\n",
              "          const docLink = document.createElement('div');\n",
              "          docLink.innerHTML = docLinkHtml;\n",
              "          element.appendChild(docLink);\n",
              "        }\n",
              "      </script>\n",
              "    </div>\n",
              "  </div>\n",
              "  "
            ]
          },
          "metadata": {},
          "execution_count": 89
        }
      ]
    },
    {
      "cell_type": "code",
      "source": [
        "#B)Muestra cual es el promedio de horas trabajadas en total en la empresa durante el mes Marzo\n",
        "horas_marzo = pd.DataFrame(horas_trabajo)\n",
        "mean_horas_marzo = horas_marzo[\"Marzo\"].mean()\n",
        "print(f\"Promedio de horas trabajadas en marzo {mean_horas_marzo}\")\n",
        "\n",
        "#C)Muestra cuántos operadores hay por cada departamento de la empresa.\n",
        "df = pd.DataFrame(horas_trabajo)\n",
        "df[\"Departamento\"].value_counts()\n",
        "\n"
      ],
      "metadata": {
        "colab": {
          "base_uri": "https://localhost:8080/"
        },
        "id": "LE7VZmHZ1uUw",
        "outputId": "505cad80-2554-40cd-a204-f4ed61c96f84"
      },
      "execution_count": null,
      "outputs": [
        {
          "output_type": "stream",
          "name": "stdout",
          "text": [
            "Promedio de horas trabajadas en marzo 128.75\n"
          ]
        },
        {
          "output_type": "execute_result",
          "data": {
            "text/plain": [
              "Ventas         4\n",
              "Proveedores    2\n",
              "IT             2\n",
              "Marketing      1\n",
              "Name: Departamento, dtype: int64"
            ]
          },
          "metadata": {},
          "execution_count": 95
        }
      ]
    },
    {
      "cell_type": "code",
      "source": [
        "#D)Muestra el número de empleados que han trabajado todos los meses, es decir, que tienen un \n",
        "#  número de horas todos los meses del cuatrimestre.\n",
        "horas_trabajo.dropna()\n"
      ],
      "metadata": {
        "colab": {
          "base_uri": "https://localhost:8080/",
          "height": 300
        },
        "id": "v4j6zZ6e8ras",
        "outputId": "c28fa936-7659-4a8c-a8af-a6f9d5d48266"
      },
      "execution_count": null,
      "outputs": [
        {
          "output_type": "execute_result",
          "data": {
            "text/plain": [
              "     Departamento  Enero  Febrero  Marzo  Abril  Total de horas\n",
              "Id                                                             \n",
              "OP1   Proveedores    180    160.0  140.0  180.0           660.0\n",
              "OP3        Ventas     80     90.0   80.0   80.0           330.0\n",
              "OP5            IT    180    170.0  180.0  180.0           710.0\n",
              "OP7        Ventas    160    160.0  160.0  160.0           640.0\n",
              "OP8   Proveedores    100     80.0  110.0   80.0           370.0\n",
              "OP9            IT     80     80.0   80.0   80.0           320.0\n",
              "OP10       Ventas    180    160.0  180.0  180.0           700.0"
            ],
            "text/html": [
              "\n",
              "  <div id=\"df-81a2e0b6-66fb-4e94-8930-e731842a2a1f\">\n",
              "    <div class=\"colab-df-container\">\n",
              "      <div>\n",
              "<style scoped>\n",
              "    .dataframe tbody tr th:only-of-type {\n",
              "        vertical-align: middle;\n",
              "    }\n",
              "\n",
              "    .dataframe tbody tr th {\n",
              "        vertical-align: top;\n",
              "    }\n",
              "\n",
              "    .dataframe thead th {\n",
              "        text-align: right;\n",
              "    }\n",
              "</style>\n",
              "<table border=\"1\" class=\"dataframe\">\n",
              "  <thead>\n",
              "    <tr style=\"text-align: right;\">\n",
              "      <th></th>\n",
              "      <th>Departamento</th>\n",
              "      <th>Enero</th>\n",
              "      <th>Febrero</th>\n",
              "      <th>Marzo</th>\n",
              "      <th>Abril</th>\n",
              "      <th>Total de horas</th>\n",
              "    </tr>\n",
              "    <tr>\n",
              "      <th>Id</th>\n",
              "      <th></th>\n",
              "      <th></th>\n",
              "      <th></th>\n",
              "      <th></th>\n",
              "      <th></th>\n",
              "      <th></th>\n",
              "    </tr>\n",
              "  </thead>\n",
              "  <tbody>\n",
              "    <tr>\n",
              "      <th>OP1</th>\n",
              "      <td>Proveedores</td>\n",
              "      <td>180</td>\n",
              "      <td>160.0</td>\n",
              "      <td>140.0</td>\n",
              "      <td>180.0</td>\n",
              "      <td>660.0</td>\n",
              "    </tr>\n",
              "    <tr>\n",
              "      <th>OP3</th>\n",
              "      <td>Ventas</td>\n",
              "      <td>80</td>\n",
              "      <td>90.0</td>\n",
              "      <td>80.0</td>\n",
              "      <td>80.0</td>\n",
              "      <td>330.0</td>\n",
              "    </tr>\n",
              "    <tr>\n",
              "      <th>OP5</th>\n",
              "      <td>IT</td>\n",
              "      <td>180</td>\n",
              "      <td>170.0</td>\n",
              "      <td>180.0</td>\n",
              "      <td>180.0</td>\n",
              "      <td>710.0</td>\n",
              "    </tr>\n",
              "    <tr>\n",
              "      <th>OP7</th>\n",
              "      <td>Ventas</td>\n",
              "      <td>160</td>\n",
              "      <td>160.0</td>\n",
              "      <td>160.0</td>\n",
              "      <td>160.0</td>\n",
              "      <td>640.0</td>\n",
              "    </tr>\n",
              "    <tr>\n",
              "      <th>OP8</th>\n",
              "      <td>Proveedores</td>\n",
              "      <td>100</td>\n",
              "      <td>80.0</td>\n",
              "      <td>110.0</td>\n",
              "      <td>80.0</td>\n",
              "      <td>370.0</td>\n",
              "    </tr>\n",
              "    <tr>\n",
              "      <th>OP9</th>\n",
              "      <td>IT</td>\n",
              "      <td>80</td>\n",
              "      <td>80.0</td>\n",
              "      <td>80.0</td>\n",
              "      <td>80.0</td>\n",
              "      <td>320.0</td>\n",
              "    </tr>\n",
              "    <tr>\n",
              "      <th>OP10</th>\n",
              "      <td>Ventas</td>\n",
              "      <td>180</td>\n",
              "      <td>160.0</td>\n",
              "      <td>180.0</td>\n",
              "      <td>180.0</td>\n",
              "      <td>700.0</td>\n",
              "    </tr>\n",
              "  </tbody>\n",
              "</table>\n",
              "</div>\n",
              "      <button class=\"colab-df-convert\" onclick=\"convertToInteractive('df-81a2e0b6-66fb-4e94-8930-e731842a2a1f')\"\n",
              "              title=\"Convert this dataframe to an interactive table.\"\n",
              "              style=\"display:none;\">\n",
              "        \n",
              "  <svg xmlns=\"http://www.w3.org/2000/svg\" height=\"24px\"viewBox=\"0 0 24 24\"\n",
              "       width=\"24px\">\n",
              "    <path d=\"M0 0h24v24H0V0z\" fill=\"none\"/>\n",
              "    <path d=\"M18.56 5.44l.94 2.06.94-2.06 2.06-.94-2.06-.94-.94-2.06-.94 2.06-2.06.94zm-11 1L8.5 8.5l.94-2.06 2.06-.94-2.06-.94L8.5 2.5l-.94 2.06-2.06.94zm10 10l.94 2.06.94-2.06 2.06-.94-2.06-.94-.94-2.06-.94 2.06-2.06.94z\"/><path d=\"M17.41 7.96l-1.37-1.37c-.4-.4-.92-.59-1.43-.59-.52 0-1.04.2-1.43.59L10.3 9.45l-7.72 7.72c-.78.78-.78 2.05 0 2.83L4 21.41c.39.39.9.59 1.41.59.51 0 1.02-.2 1.41-.59l7.78-7.78 2.81-2.81c.8-.78.8-2.07 0-2.86zM5.41 20L4 18.59l7.72-7.72 1.47 1.35L5.41 20z\"/>\n",
              "  </svg>\n",
              "      </button>\n",
              "      \n",
              "  <style>\n",
              "    .colab-df-container {\n",
              "      display:flex;\n",
              "      flex-wrap:wrap;\n",
              "      gap: 12px;\n",
              "    }\n",
              "\n",
              "    .colab-df-convert {\n",
              "      background-color: #E8F0FE;\n",
              "      border: none;\n",
              "      border-radius: 50%;\n",
              "      cursor: pointer;\n",
              "      display: none;\n",
              "      fill: #1967D2;\n",
              "      height: 32px;\n",
              "      padding: 0 0 0 0;\n",
              "      width: 32px;\n",
              "    }\n",
              "\n",
              "    .colab-df-convert:hover {\n",
              "      background-color: #E2EBFA;\n",
              "      box-shadow: 0px 1px 2px rgba(60, 64, 67, 0.3), 0px 1px 3px 1px rgba(60, 64, 67, 0.15);\n",
              "      fill: #174EA6;\n",
              "    }\n",
              "\n",
              "    [theme=dark] .colab-df-convert {\n",
              "      background-color: #3B4455;\n",
              "      fill: #D2E3FC;\n",
              "    }\n",
              "\n",
              "    [theme=dark] .colab-df-convert:hover {\n",
              "      background-color: #434B5C;\n",
              "      box-shadow: 0px 1px 3px 1px rgba(0, 0, 0, 0.15);\n",
              "      filter: drop-shadow(0px 1px 2px rgba(0, 0, 0, 0.3));\n",
              "      fill: #FFFFFF;\n",
              "    }\n",
              "  </style>\n",
              "\n",
              "      <script>\n",
              "        const buttonEl =\n",
              "          document.querySelector('#df-81a2e0b6-66fb-4e94-8930-e731842a2a1f button.colab-df-convert');\n",
              "        buttonEl.style.display =\n",
              "          google.colab.kernel.accessAllowed ? 'block' : 'none';\n",
              "\n",
              "        async function convertToInteractive(key) {\n",
              "          const element = document.querySelector('#df-81a2e0b6-66fb-4e94-8930-e731842a2a1f');\n",
              "          const dataTable =\n",
              "            await google.colab.kernel.invokeFunction('convertToInteractive',\n",
              "                                                     [key], {});\n",
              "          if (!dataTable) return;\n",
              "\n",
              "          const docLinkHtml = 'Like what you see? Visit the ' +\n",
              "            '<a target=\"_blank\" href=https://colab.research.google.com/notebooks/data_table.ipynb>data table notebook</a>'\n",
              "            + ' to learn more about interactive tables.';\n",
              "          element.innerHTML = '';\n",
              "          dataTable['output_type'] = 'display_data';\n",
              "          await google.colab.output.renderOutput(dataTable, element);\n",
              "          const docLink = document.createElement('div');\n",
              "          docLink.innerHTML = docLinkHtml;\n",
              "          element.appendChild(docLink);\n",
              "        }\n",
              "      </script>\n",
              "    </div>\n",
              "  </div>\n",
              "  "
            ]
          },
          "metadata": {},
          "execution_count": 93
        }
      ]
    },
    {
      "cell_type": "markdown",
      "source": [
        "Explicacion:\n",
        "\n",
        "hubo un error que me estuvo volviendo loco: \"Dropping of nuisance columns in DataFrame reductions (with 'numeric_only=None')\" entiendo que en mi data frame habia datos null pero no entiendo de que forma impactaba al resultado final, y despues simplemente opte por usar una celda de codigo a parte, pense que todo se podia poner en la misma celda pero no me salian los outputs que esperaba/queria por mas que trataba, igual para hacer operaciones pense que tenia que iterar en las columnas y se me estaba haciendo suuuuper complicado pero despues encontre funciones como sum(axis=1) y la vida fue bella de nuevo."
      ],
      "metadata": {
        "id": "inF-yFki9vRh"
      }
    },
    {
      "cell_type": "markdown",
      "source": [
        "Ejercicio 4\n",
        "\n",
        "\n",
        "\n",
        "Crear un programa utilizando la librería Pandas y Matplotlib que realice lo siguiente:\n",
        "\n",
        "\n",
        "\n",
        "![Capture.PNG](data:image/png;base64,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)\n",
        "\n",
        "\n",
        "\n",
        "A)Crear el siguiente DataFrame indexado:\n",
        "\n",
        "\n",
        "B)Calcular la media, mediana y desviación típica de ambas columnas.\n",
        "\n",
        "\n",
        "C)Añadir otra columna booleana al DataFrame para ver si se ha cumplido el reto de quemar más de 400 calorías por hora. La nueva columna debe generarse aplicando una fórmula a las otras columnas. \n",
        "\n",
        "\n",
        "D)Filtrar el DataFrame y devolver otro DataFrame con las filas que cumplan que el número de calorías es mayor de 400.\n",
        "\n",
        "\n",
        "E)Añadir otra columna con los porcentajes de días que se ha conseguido el reto y los que no.\n",
        "\n",
        "\n",
        "F)Crear un gráfico donde se  muestre la progresión de las calorías y tiempo durante la semana.\n"
      ],
      "metadata": {
        "id": "luz9lkbJ-X-w"
      }
    },
    {
      "cell_type": "code",
      "source": [
        "import pandas as pd\n",
        "import matplotlib.pyplot as plt\n",
        "\n",
        "#A)Crear el siguiente DataFrame indexado:\n",
        "tabla = {\n",
        "  \"Dia\": [\"Lunes\", \"Martes\", \"Miercoles\", \"Jueves\", \"Viernes\"],\n",
        "  \"Calorias\": [420, 380, 390, 490, 300],\n",
        "  \"Tiempo\": [60, 40, 75, 55, 45]\n",
        "}\n",
        "\n",
        "df_tabla_calorias = pd.DataFrame(tabla)\n",
        "print(df_tabla_calorias)\n",
        "\n",
        "\n",
        "\n",
        "\n",
        "\n",
        "\n",
        "\n",
        "\n"
      ],
      "metadata": {
        "colab": {
          "base_uri": "https://localhost:8080/"
        },
        "id": "hT4S0UG2_B0X",
        "outputId": "c2f14c6f-9ced-4b91-8adb-c82319213ca2"
      },
      "execution_count": null,
      "outputs": [
        {
          "output_type": "stream",
          "name": "stdout",
          "text": [
            "         Dia  Calorias  Tiempo\n",
            "0      Lunes       420      60\n",
            "1     Martes       380      40\n",
            "2  Miercoles       390      75\n",
            "3     Jueves       490      55\n",
            "4    Viernes       300      45\n"
          ]
        }
      ]
    },
    {
      "cell_type": "code",
      "source": [
        "#B)Calcular la media, mediana y desviación típica de ambas columnas.\n",
        "print(\"\\nMedia:\")\n",
        "print(df_tabla_calorias.mean())\n",
        "print('\\nMediana:')\n",
        "print(df_tabla_calorias.median())\n",
        "print('\\nDesviaciones típicas:')\n",
        "print(df_tabla_calorias.std(),\"\\n\")"
      ],
      "metadata": {
        "colab": {
          "base_uri": "https://localhost:8080/"
        },
        "id": "6lQgRqn2IO3z",
        "outputId": "5ff82ba6-9249-439d-b022-46337799f30d"
      },
      "execution_count": null,
      "outputs": [
        {
          "output_type": "stream",
          "name": "stdout",
          "text": [
            "\n",
            "Media:\n",
            "Calorias    396.0\n",
            "Tiempo       55.0\n",
            "dtype: float64\n",
            "\n",
            "Mediana:\n",
            "Calorias    390.0\n",
            "Tiempo       55.0\n",
            "dtype: float64\n",
            "\n",
            "Desviaciones típicas:\n",
            "Calorias    68.774995\n",
            "Tiempo      13.693064\n",
            "dtype: float64 \n",
            "\n"
          ]
        },
        {
          "output_type": "stream",
          "name": "stderr",
          "text": [
            "<ipython-input-47-b3eed63f06a6>:3: FutureWarning: The default value of numeric_only in DataFrame.mean is deprecated. In a future version, it will default to False. In addition, specifying 'numeric_only=None' is deprecated. Select only valid columns or specify the value of numeric_only to silence this warning.\n",
            "  print(df_tabla_calorias.mean())\n",
            "<ipython-input-47-b3eed63f06a6>:5: FutureWarning: The default value of numeric_only in DataFrame.median is deprecated. In a future version, it will default to False. In addition, specifying 'numeric_only=None' is deprecated. Select only valid columns or specify the value of numeric_only to silence this warning.\n",
            "  print(df_tabla_calorias.median())\n",
            "<ipython-input-47-b3eed63f06a6>:7: FutureWarning: The default value of numeric_only in DataFrame.std is deprecated. In a future version, it will default to False. In addition, specifying 'numeric_only=None' is deprecated. Select only valid columns or specify the value of numeric_only to silence this warning.\n",
            "  print(df_tabla_calorias.std(),\"\\n\")\n"
          ]
        }
      ]
    },
    {
      "cell_type": "code",
      "source": [
        "#C)Añadir otra columna booleana al DataFrame para ver si se ha cumplido el reto de quemar más de 400 \n",
        "#calorías por hora. La nueva columna debe generarse aplicando una fórmula a las otras columnas.\n",
        "df_tabla_calorias[\"Boolean Column\"] = df_tabla_calorias.Calorias / df_tabla_calorias.Tiempo > 400 / 60\n",
        "print(f\"\\n{df_tabla_calorias}\")"
      ],
      "metadata": {
        "colab": {
          "base_uri": "https://localhost:8080/"
        },
        "id": "kvgdXrTFITdn",
        "outputId": "cfdd53ed-3db3-4774-9a53-9f5e91726070"
      },
      "execution_count": null,
      "outputs": [
        {
          "output_type": "stream",
          "name": "stdout",
          "text": [
            "\n",
            "         Dia  Calorias  Tiempo  Boolean Column\n",
            "0      Lunes       420      60            True\n",
            "1     Martes       380      40            True\n",
            "2  Miercoles       390      75           False\n",
            "3     Jueves       490      55            True\n",
            "4    Viernes       300      45           False\n"
          ]
        }
      ]
    },
    {
      "cell_type": "code",
      "source": [
        "#D)Filtrar el DataFrame y devolver otro DataFrame con las filas que cumplan que el número de calorías es mayor de 400.\n",
        "\n",
        "df_filtrado = df_tabla_calorias[df_tabla_calorias.Calorias > 400]\n",
        "print(f\"{df_filtrado}\")\n",
        "# df_tabla_calorias\n",
        "\n",
        "\n",
        "# df_filtrado = df_filtrado[df_filtrado.Calorias > 400]\n",
        "# print(df_filtrado)"
      ],
      "metadata": {
        "colab": {
          "base_uri": "https://localhost:8080/"
        },
        "id": "CioACtxOHcha",
        "outputId": "2b838d29-ab55-41a5-ac0d-b2f4fe500870"
      },
      "execution_count": null,
      "outputs": [
        {
          "output_type": "stream",
          "name": "stdout",
          "text": [
            "      Dia  Calorias  Tiempo  Boolean Column  Reto\n",
            "0   Lunes       420      60            True   NaN\n",
            "3  Jueves       490      55            True   NaN\n"
          ]
        }
      ]
    },
    {
      "cell_type": "code",
      "source": [
        "#E)Añadir otra columna con los porcentajes de días que se ha conseguido el reto y los que no.\n",
        "df_tabla_calorias[\"Reto\"] = df_tabla_calorias.Calorias / df_tabla_calorias.Tiempo > 400 / 60\n",
        "# df_tabla_calorias[\"Reto\"] = df_tabla_calorias.Reto.value_counts(normalize = True) * 100\n",
        "print(df_tabla_calorias.Reto.value_counts(normalize = True) * 100)\n",
        "df_tabla_calorias"
      ],
      "metadata": {
        "colab": {
          "base_uri": "https://localhost:8080/",
          "height": 258
        },
        "id": "1CIMhpHsCSZf",
        "outputId": "d1f836c3-1979-40c6-d93b-66dbb5b85b9b"
      },
      "execution_count": null,
      "outputs": [
        {
          "output_type": "stream",
          "name": "stdout",
          "text": [
            "True     60.0\n",
            "False    40.0\n",
            "Name: Reto, dtype: float64\n"
          ]
        },
        {
          "output_type": "execute_result",
          "data": {
            "text/plain": [
              "         Dia  Calorias  Tiempo  Boolean Column   Reto\n",
              "0      Lunes       420      60            True   True\n",
              "1     Martes       380      40            True   True\n",
              "2  Miercoles       390      75           False  False\n",
              "3     Jueves       490      55            True   True\n",
              "4    Viernes       300      45           False  False"
            ],
            "text/html": [
              "\n",
              "  <div id=\"df-c3ea9fe6-204a-4679-87fb-144224ae560b\">\n",
              "    <div class=\"colab-df-container\">\n",
              "      <div>\n",
              "<style scoped>\n",
              "    .dataframe tbody tr th:only-of-type {\n",
              "        vertical-align: middle;\n",
              "    }\n",
              "\n",
              "    .dataframe tbody tr th {\n",
              "        vertical-align: top;\n",
              "    }\n",
              "\n",
              "    .dataframe thead th {\n",
              "        text-align: right;\n",
              "    }\n",
              "</style>\n",
              "<table border=\"1\" class=\"dataframe\">\n",
              "  <thead>\n",
              "    <tr style=\"text-align: right;\">\n",
              "      <th></th>\n",
              "      <th>Dia</th>\n",
              "      <th>Calorias</th>\n",
              "      <th>Tiempo</th>\n",
              "      <th>Boolean Column</th>\n",
              "      <th>Reto</th>\n",
              "    </tr>\n",
              "  </thead>\n",
              "  <tbody>\n",
              "    <tr>\n",
              "      <th>0</th>\n",
              "      <td>Lunes</td>\n",
              "      <td>420</td>\n",
              "      <td>60</td>\n",
              "      <td>True</td>\n",
              "      <td>True</td>\n",
              "    </tr>\n",
              "    <tr>\n",
              "      <th>1</th>\n",
              "      <td>Martes</td>\n",
              "      <td>380</td>\n",
              "      <td>40</td>\n",
              "      <td>True</td>\n",
              "      <td>True</td>\n",
              "    </tr>\n",
              "    <tr>\n",
              "      <th>2</th>\n",
              "      <td>Miercoles</td>\n",
              "      <td>390</td>\n",
              "      <td>75</td>\n",
              "      <td>False</td>\n",
              "      <td>False</td>\n",
              "    </tr>\n",
              "    <tr>\n",
              "      <th>3</th>\n",
              "      <td>Jueves</td>\n",
              "      <td>490</td>\n",
              "      <td>55</td>\n",
              "      <td>True</td>\n",
              "      <td>True</td>\n",
              "    </tr>\n",
              "    <tr>\n",
              "      <th>4</th>\n",
              "      <td>Viernes</td>\n",
              "      <td>300</td>\n",
              "      <td>45</td>\n",
              "      <td>False</td>\n",
              "      <td>False</td>\n",
              "    </tr>\n",
              "  </tbody>\n",
              "</table>\n",
              "</div>\n",
              "      <button class=\"colab-df-convert\" onclick=\"convertToInteractive('df-c3ea9fe6-204a-4679-87fb-144224ae560b')\"\n",
              "              title=\"Convert this dataframe to an interactive table.\"\n",
              "              style=\"display:none;\">\n",
              "        \n",
              "  <svg xmlns=\"http://www.w3.org/2000/svg\" height=\"24px\"viewBox=\"0 0 24 24\"\n",
              "       width=\"24px\">\n",
              "    <path d=\"M0 0h24v24H0V0z\" fill=\"none\"/>\n",
              "    <path d=\"M18.56 5.44l.94 2.06.94-2.06 2.06-.94-2.06-.94-.94-2.06-.94 2.06-2.06.94zm-11 1L8.5 8.5l.94-2.06 2.06-.94-2.06-.94L8.5 2.5l-.94 2.06-2.06.94zm10 10l.94 2.06.94-2.06 2.06-.94-2.06-.94-.94-2.06-.94 2.06-2.06.94z\"/><path d=\"M17.41 7.96l-1.37-1.37c-.4-.4-.92-.59-1.43-.59-.52 0-1.04.2-1.43.59L10.3 9.45l-7.72 7.72c-.78.78-.78 2.05 0 2.83L4 21.41c.39.39.9.59 1.41.59.51 0 1.02-.2 1.41-.59l7.78-7.78 2.81-2.81c.8-.78.8-2.07 0-2.86zM5.41 20L4 18.59l7.72-7.72 1.47 1.35L5.41 20z\"/>\n",
              "  </svg>\n",
              "      </button>\n",
              "      \n",
              "  <style>\n",
              "    .colab-df-container {\n",
              "      display:flex;\n",
              "      flex-wrap:wrap;\n",
              "      gap: 12px;\n",
              "    }\n",
              "\n",
              "    .colab-df-convert {\n",
              "      background-color: #E8F0FE;\n",
              "      border: none;\n",
              "      border-radius: 50%;\n",
              "      cursor: pointer;\n",
              "      display: none;\n",
              "      fill: #1967D2;\n",
              "      height: 32px;\n",
              "      padding: 0 0 0 0;\n",
              "      width: 32px;\n",
              "    }\n",
              "\n",
              "    .colab-df-convert:hover {\n",
              "      background-color: #E2EBFA;\n",
              "      box-shadow: 0px 1px 2px rgba(60, 64, 67, 0.3), 0px 1px 3px 1px rgba(60, 64, 67, 0.15);\n",
              "      fill: #174EA6;\n",
              "    }\n",
              "\n",
              "    [theme=dark] .colab-df-convert {\n",
              "      background-color: #3B4455;\n",
              "      fill: #D2E3FC;\n",
              "    }\n",
              "\n",
              "    [theme=dark] .colab-df-convert:hover {\n",
              "      background-color: #434B5C;\n",
              "      box-shadow: 0px 1px 3px 1px rgba(0, 0, 0, 0.15);\n",
              "      filter: drop-shadow(0px 1px 2px rgba(0, 0, 0, 0.3));\n",
              "      fill: #FFFFFF;\n",
              "    }\n",
              "  </style>\n",
              "\n",
              "      <script>\n",
              "        const buttonEl =\n",
              "          document.querySelector('#df-c3ea9fe6-204a-4679-87fb-144224ae560b button.colab-df-convert');\n",
              "        buttonEl.style.display =\n",
              "          google.colab.kernel.accessAllowed ? 'block' : 'none';\n",
              "\n",
              "        async function convertToInteractive(key) {\n",
              "          const element = document.querySelector('#df-c3ea9fe6-204a-4679-87fb-144224ae560b');\n",
              "          const dataTable =\n",
              "            await google.colab.kernel.invokeFunction('convertToInteractive',\n",
              "                                                     [key], {});\n",
              "          if (!dataTable) return;\n",
              "\n",
              "          const docLinkHtml = 'Like what you see? Visit the ' +\n",
              "            '<a target=\"_blank\" href=https://colab.research.google.com/notebooks/data_table.ipynb>data table notebook</a>'\n",
              "            + ' to learn more about interactive tables.';\n",
              "          element.innerHTML = '';\n",
              "          dataTable['output_type'] = 'display_data';\n",
              "          await google.colab.output.renderOutput(dataTable, element);\n",
              "          const docLink = document.createElement('div');\n",
              "          docLink.innerHTML = docLinkHtml;\n",
              "          element.appendChild(docLink);\n",
              "        }\n",
              "      </script>\n",
              "    </div>\n",
              "  </div>\n",
              "  "
            ]
          },
          "metadata": {},
          "execution_count": 66
        }
      ]
    },
    {
      "cell_type": "code",
      "source": [
        "#F)Crear un gráfico donde se muestre la progresión de las calorías y tiempo durante la semana.\n",
        "\n",
        "fig, ax = plt.subplots()\n",
        "df_tabla_calorias.plot(y = 'Calorias',color='blue', ax = ax)\n",
        "df_tabla_calorias.plot(y = 'Tiempo', color='red', ax = ax)\n",
        "plt.title('Progresion de calorias')\n",
        "plt.show()"
      ],
      "metadata": {
        "colab": {
          "base_uri": "https://localhost:8080/",
          "height": 452
        },
        "id": "6jNifUeJGsGn",
        "outputId": "f5ff535a-47b6-490d-ebd8-afa9abd8291a"
      },
      "execution_count": null,
      "outputs": [
        {
          "output_type": "display_data",
          "data": {
            "text/plain": [
              "<Figure size 640x480 with 1 Axes>"
            ],
            "image/png": "[encoded data removed]"
          },
          "metadata": {}
        }
      ]
    },
    {
      "cell_type": "markdown",
      "source": [
        "Explicacion\n",
        "\n",
        "En este ejercicio si me rompi la cabeza horrible por en el inciso C) vi esta sintaxis: df_tabla_calorias.Calorias \n",
        "en vez de df_tabla_calorias[\"Calorias\"] e hice calculos de ambas formas y me salian resultados diferentes y fue mucho buscar la manera correcta y creo creeeeo que con el .Calorias es la correcta, mmm en ruby le llamamos accessor no se si en python se llame igual, pero bueno eso fue lo primero con lo que me quebre la cabeza pero mucho video de youtube y ejemplos en google ayudaron"
      ],
      "metadata": {
        "id": "M4Z_KV-oEKyf"
      }
    },
    {
      "cell_type": "markdown",
      "source": [
        "Ejercicio 5\n",
        "\n",
        "El fichero coches.csv contiene información sobre los modelos de coches vendidos en USA durante un determinado año. Se pide:\n",
        "\n",
        "A)Crear un DataFrame a partir del fichero anterior.\n",
        "\n",
        "\n",
        "B)Eliminar las filas con valores desconocidos y mostrar el número de filas del DataFrame resultante.\n",
        "\n",
        "\n",
        "C)Crear una columna con el precio en euros (cambio 1$ = 0.94€)\n",
        "\n",
        "\n",
        "D)Mostrar las 10 últimas filas del DataFrame.\n",
        "\n",
        "\n",
        "E)Mostrar el número de marcas de coches que contiene el DataFrame.\n",
        "\n",
        "\n",
        "F)Mostrar el número de modelos de cada marca que hay en el DataFrame, de mayor a menor frecuencia.\n",
        "\n",
        "\n",
        "G)Mostrar cuál es la marca y el modelo del coche más caro.\n",
        "\n",
        "\n",
        "H)Mostrar el precio medio en euros de los coches agrupando por marca y ordenando de menor a mayor precio.\n",
        "\n",
        "\n",
        "I)Gráfica el diagrama de barras del porcentaje de modelos de cada marca.\n",
        "\n",
        "\n",
        "J)Gráfica el diagrama de dispersión de la potencia y el precio.\n",
        "\n"
      ],
      "metadata": {
        "id": "fb2Y61524mBH"
      }
    },
    {
      "cell_type": "code",
      "source": [
        "import pandas as pd\n",
        "import matplotlib.pyplot as plt\n",
        "\n",
        "#A)Crear un DataFrame a partir del fichero anterior.\n",
        "df_coches = pd.read_csv(\"/content/coches - coches.csv\", sep = \",\")\n",
        "print(df)"
      ],
      "metadata": {
        "id": "ngPwM7UQ5Yvw",
        "colab": {
          "base_uri": "https://localhost:8080/"
        },
        "outputId": "4c594af5-7479-4c06-98bf-a3f4984a01f0"
      },
      "execution_count": 68,
      "outputs": [
        {
          "output_type": "stream",
          "name": "stdout",
          "text": [
            "     Marca                   Modelo   Tipo  Potencia        Precio  \\\n",
            "0    Acura                      MDX    SUV     265.0  26027.828080   \n",
            "1    Acura           RSX Type S 2dr  Sedan     200.0  16989.878119   \n",
            "2    Acura                  TSX 4dr  Sedan     200.0  19243.119617   \n",
            "3    Acura                   TL 4dr  Sedan     270.0  23655.912739   \n",
            "4    Acura               3.5 RL 4dr  Sedan     225.0  30460.139925   \n",
            "..     ...                      ...    ...       ...           ...   \n",
            "423  Volvo  C70 LPT convertible 2dr  Sedan     197.0  29826.952519   \n",
            "424  Volvo  C70 HPT convertible 2dr  Sedan     242.0  31294.760564   \n",
            "425  Volvo               S80 T6 4dr  Sedan     268.0  33238.825474   \n",
            "426  Volvo                      V40  Wagon     170.0  19238.435123   \n",
            "427  Volvo                     XC70  Wagon     208.0  25852.159564   \n",
            "\n",
            "         Precio €  \n",
            "0    24466.158395  \n",
            "1    15970.485431  \n",
            "2    18088.532440  \n",
            "3    22236.557975  \n",
            "4    28632.531530  \n",
            "..            ...  \n",
            "423  28037.335368  \n",
            "424  29417.074930  \n",
            "425  31244.495946  \n",
            "426  18084.129016  \n",
            "427  24301.029990  \n",
            "\n",
            "[421 rows x 6 columns]\n"
          ]
        }
      ]
    },
    {
      "cell_type": "code",
      "source": [
        "#B)Eliminar las filas con valores desconocidos y mostrar el número de filas del DataFrame resultante.\n",
        "df_coches.dropna(inplace = True)\n",
        "filas, columnas = df_coches.shape\n",
        "print(\"Número de filas:\", filas)\n",
        "print(\"Número de columnas:\", columnas)\n",
        "\n",
        "\n"
      ],
      "metadata": {
        "colab": {
          "base_uri": "https://localhost:8080/"
        },
        "id": "YX14HkUj52q9",
        "outputId": "3b989cb2-67df-494d-e802-8d143592bb6d"
      },
      "execution_count": 70,
      "outputs": [
        {
          "output_type": "stream",
          "name": "stdout",
          "text": [
            "Número de filas: 421\n",
            "Número de columnas: 5\n"
          ]
        }
      ]
    },
    {
      "cell_type": "code",
      "source": [
        "#C)Crear una columna con el precio en euros (cambio 1$ = 0.94€)\n",
        "df_coches['Precio €'] = df_coches.Precio * 0.94\n",
        "print(df_coches.tail(10))"
      ],
      "metadata": {
        "id": "Iwm5Vgme60nl",
        "colab": {
          "base_uri": "https://localhost:8080/"
        },
        "outputId": "58ac21d0-cbdd-45d5-8e64-fa04824d47f4"
      },
      "execution_count": 71,
      "outputs": [
        {
          "output_type": "stream",
          "name": "stdout",
          "text": [
            "     Marca                   Modelo   Tipo  Potencia  Precio  Precio €\n",
            "418  Volvo              S60 2.5 4dr  Sedan     208.0   29916  28121.04\n",
            "419  Volvo               S60 T5 4dr  Sedan     247.0   32902  30927.88\n",
            "420  Volvo                S60 R 4dr  Sedan     300.0   35382  33259.08\n",
            "421  Volvo              S80 2.9 4dr  Sedan     208.0   35542  33409.48\n",
            "422  Volvo             S80 2.5T 4dr  Sedan     194.0   35688  33546.72\n",
            "423  Volvo  C70 LPT convertible 2dr  Sedan     197.0   38203  35910.82\n",
            "424  Volvo  C70 HPT convertible 2dr  Sedan     242.0   40083  37678.02\n",
            "425  Volvo               S80 T6 4dr  Sedan     268.0   42573  40018.62\n",
            "426  Volvo                      V40  Wagon     170.0   24641  23162.54\n",
            "427  Volvo                     XC70  Wagon     208.0   33112  31125.28\n"
          ]
        }
      ]
    },
    {
      "cell_type": "code",
      "source": [
        "#D)Mostrar el número de marcas de coches que contiene el DataFrame.\n",
        "print(\"Número de marcas:\", len(df_coches.Marca.unique()))\n",
        "\n",
        "#F)Mostrar el número de modelos de cada marca que hay en el DataFrame, de mayor a menor frecuencia.\n",
        "print(\"\\nNumero de modelos de cada marca: \")\n",
        "print(f'{df_coches.Marca.value_counts(ascending = True)}')"
      ],
      "metadata": {
        "id": "j3vbfi5c-MeY",
        "colab": {
          "base_uri": "https://localhost:8080/"
        },
        "outputId": "6f816b14-29a5-46a9-b661-afcc557757b8"
      },
      "execution_count": 72,
      "outputs": [
        {
          "output_type": "stream",
          "name": "stdout",
          "text": [
            "Número de marcas: 38\n",
            "\n",
            "Numero de modelos de cada marca: \n",
            "Hummer            1\n",
            "Scion             2\n",
            "MINI              2\n",
            "Jeep              2\n",
            "Isuzu             2\n",
            "Land Rover        3\n",
            "Oldsmobile        3\n",
            "Saab              7\n",
            "Porsche           7\n",
            "Acura             7\n",
            "Suzuki            8\n",
            "Cadillac          8\n",
            "Infiniti          8\n",
            "Saturn            8\n",
            "GMC               8\n",
            "Buick             9\n",
            "Mercury           9\n",
            "Lincoln           9\n",
            "Subaru           10\n",
            "Lexus            10\n",
            "Pontiac          10\n",
            "Kia              11\n",
            "Mazda            11\n",
            "Jaguar           12\n",
            "Hyundai          12\n",
            "Volvo            12\n",
            "Mitsubishi       13\n",
            "Dodge            13\n",
            "Chrysler         14\n",
            "Volkswagen       15\n",
            "Honda            16\n",
            "Nissan           17\n",
            "Audi             19\n",
            "BMW              19\n",
            "Ford             23\n",
            "Mercedes-Benz    26\n",
            "Chevrolet        27\n",
            "Toyota           28\n",
            "Name: Marca, dtype: int64\n"
          ]
        }
      ]
    },
    {
      "cell_type": "code",
      "source": [
        "#G)Mostrar cuál es la marca y el modelo del coche más caro.\n",
        "print(df_coches[df_coches.Precio == df_coches.Precio.max()][[\"Marca\", \"Modelo\"]])"
      ],
      "metadata": {
        "id": "NrVG3BX8-05-",
        "colab": {
          "base_uri": "https://localhost:8080/"
        },
        "outputId": "49a4ad28-8598-4ec7-9e7b-1fccc5aabb07"
      },
      "execution_count": 73,
      "outputs": [
        {
          "output_type": "stream",
          "name": "stdout",
          "text": [
            "       Marca       Modelo\n",
            "334  Porsche  911 GT2 2dr\n"
          ]
        }
      ]
    },
    {
      "cell_type": "code",
      "source": [
        "#H)Mostrar el precio medio en euros de los coches agrupando por marca y ordenando de menor a mayor precio.\n",
        "print(df_coches.groupby(\"Marca\")[\"Precio €\"].mean().sort_values())"
      ],
      "metadata": {
        "id": "-QpkCspE--f3",
        "colab": {
          "base_uri": "https://localhost:8080/"
        },
        "outputId": "51f0f7a1-6212-48f4-d638-2d4ee2b1a824"
      },
      "execution_count": 74,
      "outputs": [
        {
          "output_type": "stream",
          "name": "stdout",
          "text": [
            "Marca\n",
            "Scion            12135.400000\n",
            "Kia              13996.941818\n",
            "Suzuki           14937.775000\n",
            "Hyundai          15073.213333\n",
            "Saturn           15103.920000\n",
            "MINI             15779.780000\n",
            "Honda            18773.092500\n",
            "Mazda            18980.907273\n",
            "Toyota           19078.172857\n",
            "Jeep             19856.560000\n",
            "Oldsmobile       20444.060000\n",
            "Mitsubishi       20524.683077\n",
            "Ford             20635.820000\n",
            "Pontiac          20878.528000\n",
            "Subaru           21351.442000\n",
            "Nissan           21617.622353\n",
            "Chevrolet        22617.165926\n",
            "Dodge            22710.472308\n",
            "Isuzu            23141.860000\n",
            "Chrysler         23778.105714\n",
            "Mercury          24118.102222\n",
            "GMC              24712.012500\n",
            "Buick            26183.595556\n",
            "Volkswagen       27901.706667\n",
            "Infiniti         30907.200000\n",
            "Volvo            32163.196667\n",
            "Saab             33483.068571\n",
            "Acura            36275.405714\n",
            "Lincoln          36787.631111\n",
            "Audi             36970.298947\n",
            "BMW              37391.864211\n",
            "Lexus            37501.864000\n",
            "Land Rover       39339.940000\n",
            "Hummer           43066.100000\n",
            "Cadillac         43641.262500\n",
            "Jaguar           52732.511667\n",
            "Mercedes-Benz    53066.109231\n",
            "Porsche          69243.085714\n",
            "Name: Precio €, dtype: float64\n"
          ]
        }
      ]
    },
    {
      "cell_type": "code",
      "source": [
        "#I)Gráfica el diagrama de barras del porcentaje de modelos de cada marca.\n",
        "df_coches.Marca.value_counts(normalize = True).plot(kind = \"barh\", color='gray',title = \"Porcentaje de modelos de cada marca\")\n",
        "plt.show()"
      ],
      "metadata": {
        "id": "nu4yZQyt_M1P",
        "colab": {
          "base_uri": "https://localhost:8080/",
          "height": 452
        },
        "outputId": "40c1f819-9431-4aa8-d6c8-c9e898dd1434"
      },
      "execution_count": 78,
      "outputs": [
        {
          "output_type": "display_data",
          "data": {
            "text/plain": [
              "<Figure size 640x480 with 1 Axes>"
            ],
            "image/png": "[encoded data removed]"
          },
          "metadata": {}
        }
      ]
    },
    {
      "cell_type": "code",
      "source": [
        "#J)Gráfica el diagrama de dispersión de la potencia y el precio.\n",
        "df.plot(x = \"Potencia\", y = \"Precio €\", kind = \"scatter\",color='yellow', title = \"Potencia y el precio diagrama dispercion\")\n",
        "plt.show()"
      ],
      "metadata": {
        "id": "RJBqZHZE_WwT",
        "colab": {
          "base_uri": "https://localhost:8080/",
          "height": 472
        },
        "outputId": "4ee74bb7-6ffe-4315-946d-147f1a1d5dc1"
      },
      "execution_count": 80,
      "outputs": [
        {
          "output_type": "display_data",
          "data": {
            "text/plain": [
              "<Figure size 640x480 with 1 Axes>"
            ],
            "image/png": "[encoded data removed]"
          },
          "metadata": {}
        }
      ]
    },
    {
      "cell_type": "markdown",
      "source": [
        "Explicacion:\n",
        "\n",
        "En este ejercicio ya de tanto data frame que habia hecho me quedo mucho mas claro como accesar a la informacion de los csv files y como nos dijiste creo que ya amo pandas ayuda mucho tener funciones como max, sort, sum, etc, e igual lo que me sigue confundiendo mucho es la sintaxis de los accesors de si pongo el df[\"Nombre de la columna\"] o df.nombre_de_la_columna por que los resultados si varian asi que no se si esten correctos los calculos D:\n",
        "\n",
        "PD: en el ultimo inciso te deje la grafia asi como mas te gustan XD, no es cierto cambiale el color al que mas te guste pero no me la pongas mal por eso jeje."
      ],
      "metadata": {
        "id": "E4uPfBQ4LI8O"
      }
    }
  ]
}