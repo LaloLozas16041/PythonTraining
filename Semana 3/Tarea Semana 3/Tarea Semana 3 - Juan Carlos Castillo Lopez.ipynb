{
 "cells": [
  {
   "cell_type": "markdown",
   "id": "88ffa903",
   "metadata": {},
   "source": [
    "# Tarea semana 3 - Fundamentos de Python\n",
    "## Nombre: Juan Carlos Castillo López"
   ]
  },
  {
   "cell_type": "markdown",
   "id": "42b41b7d",
   "metadata": {},
   "source": [
    "## Ejercicio 1\n",
    "### Escribir dos funciones que simulan una calculadora científica que permita calcular el seno, coseno, tangente, exponencial y logaritmo neperiano o natural (logaritmo en base euler). "
   ]
  },
  {
   "cell_type": "markdown",
   "id": "9642f1eb",
   "metadata": {},
   "source": [
    "### A.\tLa función uno preguntará al usuario el intervalo donde quiere aplicar la función matemática y la función a aplicar, y mostrará por pantalla una tabla donde la primera columna será los valores del intervalo dado (x) y la columna 2 tendrá los resultados de el resultado de aplicar la función a este intervalo (y)."
   ]
  },
  {
   "cell_type": "code",
   "execution_count": 97,
   "id": "3acf033a",
   "metadata": {},
   "outputs": [
    {
     "name": "stdout",
     "output_type": "stream",
     "text": [
      "Escriba elnumero inicial y final para calcular la funcion (inicio-fin): 90-100\n",
      "\n",
      "\n",
      "Estas son las funciones disponibles: \n",
      "\n",
      "1.-Seno \n",
      "\n",
      "2.-Coseno \n",
      "\n",
      "3.-Tangente \n",
      "\n",
      "4.-Exponencial \n",
      "\n",
      "5.-Logaritmo natural \n",
      "\n",
      "¿Que funcion desea obtener?: 4\n",
      "\n",
      "\n"
     ]
    }
   ],
   "source": [
    "import math\n",
    "\n",
    "def func_math(func,func_1):\n",
    "    func_2=[]\n",
    "    for i in func_1:\n",
    "        if func== \"1\":\n",
    "            func_2.append(math.sin(i))\n",
    "            str_func = \"funcion seno\"\n",
    "        elif func== \"2\":\n",
    "            func_2.append(math.cos(i))\n",
    "            str_func = \"funcion coseno\"\n",
    "        elif func== \"3\":\n",
    "            func_2.append(math.tan(i))\n",
    "            str_func = \"funcion tangente\"\n",
    "        elif func== \"4\":\n",
    "            func_2.append(math.exp(i))\n",
    "            str_func = \"funcion exponencial\"\n",
    "        elif func== \"2\":\n",
    "            func_2.append(math.log(i))\n",
    "            str_func = \"funcion logaritmica\"\n",
    "        else:\n",
    "            print(\"opcion no valida\")\n",
    "            return(0,0)\n",
    "            exit()\n",
    "    return(func_2,str_func)\n",
    "\n",
    "    \n",
    "range = input(\"Escriba elnumero inicial y final para calcular la funcion (inicio-fin): \")\n",
    "ran_sta =int(range.split('-')[0])\n",
    "ran_end =int(range.split('-')[1])\n",
    "\n",
    "count = ran_sta\n",
    "func_1=[]\n",
    "while count <= ran_end:\n",
    "    func_1.append(count)\n",
    "    count = count + 1\n",
    "\n",
    "print(\"\\n\")\n",
    "print(\"Estas son las funciones disponibles:\",\"\\n\")\n",
    "print(\"1.-Seno\",\"\\n\")\n",
    "print(\"2.-Coseno\",\"\\n\")\n",
    "print(\"3.-Tangente\",\"\\n\")\n",
    "print(\"4.-Exponencial\",\"\\n\")\n",
    "print(\"5.-Logaritmo natural\",\"\\n\")\n",
    "\n",
    "func = input(\"¿Que funcion desea obtener?: \")\n",
    "print(\"\\n\")\n",
    "\n",
    "func_2,str_func = func_math(func,func_1)\n",
    "\n",
    "#count= ran_sta-1\n",
    "#end = ran_end\n",
    "#while count < ran_end:\n",
    "#    print(func_1[count],round(func_2[count],2),\"\\n\")\n",
    "#    count = count + 1"
   ]
  },
  {
   "cell_type": "markdown",
   "id": "bd028c12",
   "metadata": {},
   "source": [
    "### B.\tLa función dos graficara con matplotlib el resultado de función anterior y la mostrará en pantalla. Recuerden poner los títulos ejes y demás configuraciones de las gráficas para que queden de la mejor manera posible."
   ]
  },
  {
   "cell_type": "code",
   "execution_count": 98,
   "id": "c7197f27",
   "metadata": {},
   "outputs": [
    {
     "data": {
      "image/png": "[encoded data removed]",
      "text/plain": [
       "<Figure size 640x480 with 1 Axes>"
      ]
     },
     "metadata": {},
     "output_type": "display_data"
    }
   ],
   "source": [
    "import matplotlib.pyplot as plt\n",
    "\n",
    "values1 = func_2\n",
    "desc= func_1\n",
    "\n",
    "fig, ax = plt.subplots()\n",
    "\n",
    "ax.plot(desc, values1, label= str_func)\n",
    "\n",
    "ax.legend()\n",
    "\n",
    "plt.show()"
   ]
  },
  {
   "cell_type": "markdown",
   "id": "2dd9075c",
   "metadata": {},
   "source": [
    "## Ejercicio 2\n",
    "### Escribir un programa para ver los beneficios de una empresa en un periodo de años. <br>El programa debe cumplir los siguientes requisitos:\n"
   ]
  },
  {
   "cell_type": "markdown",
   "id": "558a8965",
   "metadata": {},
   "source": [
    "### A.\tEl programa tiene que preguntar al usuario por un año inicial y otro final, y después preguntar por los ingresos y egresos de cada año desde el año inicial hasta el año final.\n",
    "### A.1.\tDebe garantizar que por lo menos haya 5 años entre el año inicial y el final.\n",
    "### C.\tEl programa debe generar otra columna con el beneficio de cada año (ingresos menos egresos) y mostrarla por pantalla.\n",
    "### D.\tEl programa debe crear otra columna llamada ganancia la cuál indique para cada año si ha habido beneficios o no de manera booleana y mostrarla por pantalla.\n"
   ]
  },
  {
   "cell_type": "code",
   "execution_count": 99,
   "id": "fd64afc2",
   "metadata": {},
   "outputs": [
    {
     "name": "stdout",
     "output_type": "stream",
     "text": [
      "¿Cual es el año inicial?: 2000\n",
      "¿Cual es el año final?: 2002\n",
      "\n",
      "¿Cual fue el INGRESO en 2000: 10\n",
      "\n",
      "¿Cuals fue el EGRESO en 2000: 8\n",
      "\n",
      "¿Cual fue el INGRESO en 2001: 20\n",
      "\n",
      "¿Cuals fue el EGRESO en 2001: 50\n",
      "\n",
      "¿Cual fue el INGRESO en 2002: 30\n",
      "\n",
      "¿Cuals fue el EGRESO en 2002: 70\n",
      "\n",
      "\n",
      "[2000, 2001, 2002]\n",
      "[10, 20, 30]\n",
      "[8, 50, 70]\n",
      "[2, -30, -40]\n",
      "[True, False, False]\n"
     ]
    }
   ],
   "source": [
    "inicial = int(input(\"¿Cual es el año inicial?: \"))\n",
    "final = int(input(\"¿Cual es el año final?: \"))\n",
    "anios = []\n",
    "ingresos = []\n",
    "egresos = []\n",
    "beneficios = []\n",
    "ganancias = []\n",
    "conteo = inicial\n",
    "\n",
    "if (final-inicial) < 2:\n",
    "    print(\"El conteo de años debe ser mayor a 3\")\n",
    "    exit()\n",
    "\n",
    "while conteo <= final:\n",
    "    anios.append(conteo)\n",
    "    \n",
    "    ingreso = int(input(\"\\n\" + \"¿Cual fue el INGRESO en \" + str(conteo) + \": \"))\n",
    "    ingresos.append(ingreso)\n",
    "\n",
    "    egreso = int(input(\"\\n\" + \"¿Cuals fue el EGRESO en \" + str(conteo)+ \": \"))\n",
    "    egresos.append(egreso)\n",
    "\n",
    "    beneficios.append(ingreso-egreso)\n",
    "\n",
    "    if int(beneficios[-1]) >= 0 :\n",
    "        ganancias.append(True)\n",
    "    else:\n",
    "        ganancias.append(False)\n",
    "\n",
    "    conteo = conteo + 1\n",
    "\n",
    "print(\"\\n\")\n",
    "print(anios)\n",
    "print(ingresos)\n",
    "print(egresos)\n",
    "print(beneficios)\n",
    "print(ganancias)"
   ]
  },
  {
   "cell_type": "markdown",
   "id": "d8798873",
   "metadata": {},
   "source": [
    "### B.\tCon los datos introducidos se deben crear un dataframe, con las columnas fecha, ingresos y egresos."
   ]
  },
  {
   "cell_type": "code",
   "execution_count": 100,
   "id": "c60156ed",
   "metadata": {},
   "outputs": [
    {
     "name": "stdout",
     "output_type": "stream",
     "text": [
      "   Anio  Ingreso  Egreso   Beneficio\n",
      "0  2000       10       8           2\n",
      "1  2001       20      50         -30\n",
      "2  2002       30      70         -40\n"
     ]
    }
   ],
   "source": [
    "import pandas as pd  \n",
    "  \n",
    "# assign data of lists.  \n",
    "#data = {'Name': ['Tom', 'Joseph', 'Krish', 'John'], 'Age': [20, 21, 19, 18]}  \n",
    "data = {'Anio':anios, 'Ingreso':ingresos, 'Egreso':egresos, ' Beneficio':beneficios}  \n",
    "  \n",
    "# Create DataFrame  \n",
    "datfra = pd.DataFrame(data)  \n",
    "  \n",
    "# Print the output.  \n",
    "print(datfra)"
   ]
  },
  {
   "cell_type": "markdown",
   "id": "9b23e03f",
   "metadata": {},
   "source": [
    "### E.\tFinalmente el programa debe mostrar por pantalla la lista de los años con pérdidas."
   ]
  },
  {
   "cell_type": "code",
   "execution_count": 101,
   "id": "549d2b32",
   "metadata": {},
   "outputs": [
    {
     "name": "stdout",
     "output_type": "stream",
     "text": [
      "2001\n",
      "2002\n"
     ]
    }
   ],
   "source": [
    "conteo = -1\n",
    "while conteo < len(ganancias)-1:\n",
    "    conteo = conteo +1\n",
    "    if not ganancias[conteo]:\n",
    "        print(anios[conteo])"
   ]
  },
  {
   "cell_type": "markdown",
   "id": "50b6be5c",
   "metadata": {},
   "source": [
    "## Ejercicio 3\n",
    "### El fichero horas-trabajo.csv contiene el número de horas mensuales trabajadas por los empleados de una empresa durante el primer cuatrimestre. Crear un programa que realice las siguientes operaciones utilizando la librería Pandas:\n",
    "#### A.\tCrea una columna con el número total de horas trabajadas para cada operador.\n",
    "#### B.\tMuestra cual es el promedio de horas trabajadas en total en la empresa durante el mes Marzo\n"
   ]
  },
  {
   "cell_type": "code",
   "execution_count": 102,
   "id": "0eef6fa4",
   "metadata": {},
   "outputs": [
    {
     "name": "stdout",
     "output_type": "stream",
     "text": [
      "\n",
      "\n",
      "imprimiendo data frame con columna de horas TOTALES\n",
      "\n",
      "\n",
      "     Id  TOTALES Departamento  Enero  Febrero  Marzo  Abril\n",
      "0   OP1    660.0  Proveedores    180    160.0  140.0  180.0\n",
      "1   OP2    360.0       Ventas    120    140.0    0.0  100.0\n",
      "2   OP3    330.0       Ventas     80     90.0   80.0   80.0\n",
      "3   OP5    710.0           IT    180    170.0  180.0  180.0\n",
      "4   OP6    200.0    Marketing    100      0.0  100.0    0.0\n",
      "5   OP7    640.0       Ventas    160    160.0  160.0  160.0\n",
      "6   OP8    370.0  Proveedores    100     80.0  110.0   80.0\n",
      "7   OP9    320.0           IT     80     80.0   80.0   80.0\n",
      "8  OP10    700.0       Ventas    180    160.0  180.0  180.0\n",
      "\n",
      "\n",
      "El promedio de horas en marzo es: 114.44\n"
     ]
    }
   ],
   "source": [
    "import pandas as pd\n",
    "import statistics\n",
    "\n",
    "path= r\"C:\\Users\\juan carlos\\Documents\\Cursos\\Aletia\\Aletia-Python fundamentals\\Semana 3 Python Fundamentals\\horas-trabajo.csv\"\n",
    "df = pd.read_csv(path, delimiter=';')\n",
    "#df = pd.read_csv(path, index_col=0, delimiter=';')\n",
    "\n",
    "#print(\"imprimiendo dataset original\")\n",
    "#print(\"\\n\")\n",
    "#print(df)\n",
    "\n",
    "#print(\"\\n\")\n",
    "df = df.fillna(0)\n",
    "#print(\"imprimiendo dataset con valores NA corregidos\")\n",
    "#print(df)\n",
    "\n",
    "Data = df.values.tolist() #todo a lista\n",
    "#print(\"\\n\")\n",
    "#print(\"imprimiendo dataset convertido en lista\")\n",
    "#print(Data)\n",
    "\n",
    "horas=[]\n",
    "horas_marzo = []\n",
    "Operadores_sin_falta = []\n",
    "for i in Data:\n",
    "    if (i[2]>0 and i[3]>0) and (i[4]>0 and i[5]>0):\n",
    "        Operadores_sin_falta.append(i) # agrega el operador\n",
    "    #print(i)\n",
    "    x = i[2]+i[3]+i[4]+i[5]\n",
    "    #print(x)\n",
    "    horas.append(x)\n",
    "    horas_marzo.append(i[4])\n",
    "   \n",
    "\n",
    "#print(\"\\n\")\n",
    "#print(\"imprimiendo lista de HORAS TOTALES\")\n",
    "#print(horas)\n",
    "\n",
    "print(\"\\n\")\n",
    "print(\"imprimiendo data frame con columna de horas TOTALES\")\n",
    "print(\"\\n\")\n",
    "df.insert(1,\"TOTALES\",horas)\n",
    "print(df)\n",
    "print(\"\\n\")\n",
    "print(\"El promedio de horas en marzo es: \" + str(round(statistics.mean(horas_marzo),2)))"
   ]
  },
  {
   "cell_type": "markdown",
   "id": "2189d653",
   "metadata": {},
   "source": [
    "### C.\tMuestra cuántos operadores hay por cada departamento de la empresa.\n",
    "#### Creo lista con valores unicos de departamento <br> ambos pmetdoso arrojan lo mismo"
   ]
  },
  {
   "cell_type": "code",
   "execution_count": 103,
   "id": "bce27cfd",
   "metadata": {},
   "outputs": [
    {
     "name": "stdout",
     "output_type": "stream",
     "text": [
      "['Proveedores' 'Ventas' 'IT' 'Marketing']\n"
     ]
    }
   ],
   "source": [
    "Deptos = df.Departamento.unique()\n",
    "print(Deptos)"
   ]
  },
  {
   "cell_type": "code",
   "execution_count": 104,
   "id": "f0718db8",
   "metadata": {},
   "outputs": [
    {
     "name": "stdout",
     "output_type": "stream",
     "text": [
      "['Proveedores' 'Ventas' 'IT' 'Marketing']\n"
     ]
    }
   ],
   "source": [
    "print(pd.unique(df['Departamento']))"
   ]
  },
  {
   "cell_type": "markdown",
   "id": "42368a25",
   "metadata": {},
   "source": [
    "#### creo una mascara que liste un solo departamento"
   ]
  },
  {
   "cell_type": "code",
   "execution_count": 105,
   "id": "55b764c4",
   "metadata": {},
   "outputs": [
    {
     "data": {
      "text/html": [
       "<div>\n",
       "<style scoped>\n",
       "    .dataframe tbody tr th:only-of-type {\n",
       "        vertical-align: middle;\n",
       "    }\n",
       "\n",
       "    .dataframe tbody tr th {\n",
       "        vertical-align: top;\n",
       "    }\n",
       "\n",
       "    .dataframe thead th {\n",
       "        text-align: right;\n",
       "    }\n",
       "</style>\n",
       "<table border=\"1\" class=\"dataframe\">\n",
       "  <thead>\n",
       "    <tr style=\"text-align: right;\">\n",
       "      <th></th>\n",
       "      <th>Id</th>\n",
       "      <th>TOTALES</th>\n",
       "      <th>Departamento</th>\n",
       "      <th>Enero</th>\n",
       "      <th>Febrero</th>\n",
       "      <th>Marzo</th>\n",
       "      <th>Abril</th>\n",
       "    </tr>\n",
       "  </thead>\n",
       "  <tbody>\n",
       "    <tr>\n",
       "      <th>1</th>\n",
       "      <td>OP2</td>\n",
       "      <td>360.0</td>\n",
       "      <td>Ventas</td>\n",
       "      <td>120</td>\n",
       "      <td>140.0</td>\n",
       "      <td>0.0</td>\n",
       "      <td>100.0</td>\n",
       "    </tr>\n",
       "    <tr>\n",
       "      <th>2</th>\n",
       "      <td>OP3</td>\n",
       "      <td>330.0</td>\n",
       "      <td>Ventas</td>\n",
       "      <td>80</td>\n",
       "      <td>90.0</td>\n",
       "      <td>80.0</td>\n",
       "      <td>80.0</td>\n",
       "    </tr>\n",
       "    <tr>\n",
       "      <th>5</th>\n",
       "      <td>OP7</td>\n",
       "      <td>640.0</td>\n",
       "      <td>Ventas</td>\n",
       "      <td>160</td>\n",
       "      <td>160.0</td>\n",
       "      <td>160.0</td>\n",
       "      <td>160.0</td>\n",
       "    </tr>\n",
       "    <tr>\n",
       "      <th>8</th>\n",
       "      <td>OP10</td>\n",
       "      <td>700.0</td>\n",
       "      <td>Ventas</td>\n",
       "      <td>180</td>\n",
       "      <td>160.0</td>\n",
       "      <td>180.0</td>\n",
       "      <td>180.0</td>\n",
       "    </tr>\n",
       "  </tbody>\n",
       "</table>\n",
       "</div>"
      ],
      "text/plain": [
       "     Id  TOTALES Departamento  Enero  Febrero  Marzo  Abril\n",
       "1   OP2    360.0       Ventas    120    140.0    0.0  100.0\n",
       "2   OP3    330.0       Ventas     80     90.0   80.0   80.0\n",
       "5   OP7    640.0       Ventas    160    160.0  160.0  160.0\n",
       "8  OP10    700.0       Ventas    180    160.0  180.0  180.0"
      ]
     },
     "execution_count": 105,
     "metadata": {},
     "output_type": "execute_result"
    }
   ],
   "source": [
    "df[df[\"Departamento\"]=='Ventas']"
   ]
  },
  {
   "cell_type": "markdown",
   "id": "2b178741",
   "metadata": {},
   "source": [
    "#### SHAPE me da el tamaño de la matriz resultante en (renglones , columnas)"
   ]
  },
  {
   "cell_type": "code",
   "execution_count": 106,
   "id": "91e914d1",
   "metadata": {},
   "outputs": [
    {
     "name": "stdout",
     "output_type": "stream",
     "text": [
      "(4, 7)\n"
     ]
    }
   ],
   "source": [
    "print(df[df[\"Departamento\"]=='Ventas'].shape)"
   ]
  },
  {
   "cell_type": "markdown",
   "id": "b5272080",
   "metadata": {},
   "source": [
    "#### puedo obtener solo los renglones"
   ]
  },
  {
   "cell_type": "code",
   "execution_count": 107,
   "id": "48a8c673",
   "metadata": {},
   "outputs": [
    {
     "name": "stdout",
     "output_type": "stream",
     "text": [
      "4\n"
     ]
    }
   ],
   "source": [
    "print(df[df[\"Departamento\"]=='Ventas'].shape[0])"
   ]
  },
  {
   "cell_type": "code",
   "execution_count": 108,
   "id": "76567724",
   "metadata": {},
   "outputs": [
    {
     "name": "stdout",
     "output_type": "stream",
     "text": [
      "Proveedores tiene 2 operadores\n",
      "Ventas tiene 4 operadores\n",
      "IT tiene 2 operadores\n",
      "Marketing tiene 1 operadores\n"
     ]
    }
   ],
   "source": [
    "for i in df.Departamento.unique():\n",
    "    print(i + \" tiene \" + str(df[df[\"Departamento\"]==i].shape[0]) + \" operadores\")"
   ]
  },
  {
   "cell_type": "markdown",
   "id": "26953654",
   "metadata": {},
   "source": [
    "#### D.\tMuestra el número de empleados que han trabajado todos los meses, es decir, que tienen un número de horas todos los meses del cuatrimestre."
   ]
  },
  {
   "cell_type": "code",
   "execution_count": 109,
   "id": "af7081fc",
   "metadata": {},
   "outputs": [
    {
     "name": "stdout",
     "output_type": "stream",
     "text": [
      "El operador  OP1  no ha tenido faltas hasta el momento\n",
      "El operador  OP3  no ha tenido faltas hasta el momento\n",
      "El operador  OP5  no ha tenido faltas hasta el momento\n",
      "El operador  OP7  no ha tenido faltas hasta el momento\n",
      "El operador  OP8  no ha tenido faltas hasta el momento\n",
      "El operador  OP9  no ha tenido faltas hasta el momento\n",
      "El operador  OP10  no ha tenido faltas hasta el momento\n"
     ]
    }
   ],
   "source": [
    "for i in Operadores_sin_falta:\n",
    "    print(\"El operador \", i[0],\" no ha tenido faltas hasta el momento\")"
   ]
  },
  {
   "cell_type": "markdown",
   "id": "f36e1a27",
   "metadata": {},
   "source": [
    "### Ejercicio 4\n",
    "#### Crear un programa utilizando la librería Pandas y Matplotlib que realice lo siguiente:\n",
    "\n",
    "#### A.\tCrear el siguiente DataFrame indexado:\n",
    "\n",
    "#### Dia\tCalorias\tTiempo\n",
    "#### Lunes\t420\t60\n",
    "#### Martes\t380\t40\n",
    "#### Miercoles\t390\t75\n",
    "#### Jueves\t490\t55\n",
    "#### Viernes\t300\t45"
   ]
  },
  {
   "cell_type": "code",
   "execution_count": 111,
   "id": "c1870c3e",
   "metadata": {},
   "outputs": [],
   "source": [
    "import pandas as pd\n",
    "import numpy as np\n",
    "import statistics as stat\n",
    "\n",
    "df = pd.DataFrame({'dia':['lunes','Martes','Miercoles','Jueves','Viernes'],\n",
    "                   'calorias':[420,380,390,490,300],\n",
    "                   'tiempo': [60,40,75,55,45]})"
   ]
  },
  {
   "cell_type": "markdown",
   "id": "653d6468",
   "metadata": {},
   "source": [
    "#### B.\tCalcular la media, mediana y desviación típica de ambas columnas."
   ]
  },
  {
   "cell_type": "code",
   "execution_count": 112,
   "id": "316a41f3",
   "metadata": {},
   "outputs": [
    {
     "name": "stdout",
     "output_type": "stream",
     "text": [
      "la media es: 396.0\n"
     ]
    }
   ],
   "source": [
    "print(\"la media es:\", np.mean(df[\"calorias\"]))"
   ]
  },
  {
   "cell_type": "code",
   "execution_count": 113,
   "id": "2d1d5ef4",
   "metadata": {},
   "outputs": [
    {
     "name": "stdout",
     "output_type": "stream",
     "text": [
      "la mediana es: 390.0\n"
     ]
    }
   ],
   "source": [
    "print(\"la mediana es:\", np.median(df[\"calorias\"]))"
   ]
  },
  {
   "cell_type": "code",
   "execution_count": 114,
   "id": "7d9a03c0",
   "metadata": {},
   "outputs": [
    {
     "name": "stdout",
     "output_type": "stream",
     "text": [
      "la desviacion estandar es: 68.775\n"
     ]
    }
   ],
   "source": [
    "print(\"la desviacion estandar es:\", round(stat.stdev(df[\"calorias\"]),3))"
   ]
  },
  {
   "cell_type": "markdown",
   "id": "f96972d4",
   "metadata": {},
   "source": [
    "#### C.\tAñadir otra columna booleana al DataFrame para ver si se ha cumplido el reto de quemar más de 400 calorías por hora. La nueva columna debe generarse aplicando una fórmula a las otras columnas. \n",
    "#### E.\tAñadir otra columna con los porcentajes de días que se ha conseguido el reto y los que no."
   ]
  },
  {
   "cell_type": "code",
   "execution_count": 115,
   "id": "2bb7ee40",
   "metadata": {},
   "outputs": [
    {
     "name": "stdout",
     "output_type": "stream",
     "text": [
      "[True, True, False, True, True]\n"
     ]
    }
   ],
   "source": [
    "cumplido = []\n",
    "porcentaje = []\n",
    "cont = 0 \n",
    "cals = df[\"calorias\"].values.tolist()\n",
    "tiempo  = df[\"tiempo\"].values.tolist()\n",
    "for i in cals:\n",
    "#400/60 = 6.666\n",
    "    calorias = cals[cont]/tiempo[cont]\n",
    "    porceCump = round(calorias*100/6.66,2)\n",
    "    porcentaje.append(porceCump)\n",
    "    cont = cont+1\n",
    "    if calorias > 6.5:\n",
    "        cumplido.append(True)\n",
    "    else:\n",
    "        cumplido.append(False)\n",
    "\n",
    "print(cumplido)"
   ]
  },
  {
   "cell_type": "code",
   "execution_count": 116,
   "id": "9f1102ff",
   "metadata": {},
   "outputs": [
    {
     "data": {
      "text/html": [
       "<div>\n",
       "<style scoped>\n",
       "    .dataframe tbody tr th:only-of-type {\n",
       "        vertical-align: middle;\n",
       "    }\n",
       "\n",
       "    .dataframe tbody tr th {\n",
       "        vertical-align: top;\n",
       "    }\n",
       "\n",
       "    .dataframe thead th {\n",
       "        text-align: right;\n",
       "    }\n",
       "</style>\n",
       "<table border=\"1\" class=\"dataframe\">\n",
       "  <thead>\n",
       "    <tr style=\"text-align: right;\">\n",
       "      <th></th>\n",
       "      <th>dia</th>\n",
       "      <th>calorias</th>\n",
       "      <th>tiempo</th>\n",
       "      <th>cumplido</th>\n",
       "      <th>Porcentaje</th>\n",
       "    </tr>\n",
       "  </thead>\n",
       "  <tbody>\n",
       "    <tr>\n",
       "      <th>0</th>\n",
       "      <td>lunes</td>\n",
       "      <td>420</td>\n",
       "      <td>60</td>\n",
       "      <td>True</td>\n",
       "      <td>105.11</td>\n",
       "    </tr>\n",
       "    <tr>\n",
       "      <th>1</th>\n",
       "      <td>Martes</td>\n",
       "      <td>380</td>\n",
       "      <td>40</td>\n",
       "      <td>True</td>\n",
       "      <td>142.64</td>\n",
       "    </tr>\n",
       "    <tr>\n",
       "      <th>2</th>\n",
       "      <td>Miercoles</td>\n",
       "      <td>390</td>\n",
       "      <td>75</td>\n",
       "      <td>False</td>\n",
       "      <td>78.08</td>\n",
       "    </tr>\n",
       "    <tr>\n",
       "      <th>3</th>\n",
       "      <td>Jueves</td>\n",
       "      <td>490</td>\n",
       "      <td>55</td>\n",
       "      <td>True</td>\n",
       "      <td>133.77</td>\n",
       "    </tr>\n",
       "    <tr>\n",
       "      <th>4</th>\n",
       "      <td>Viernes</td>\n",
       "      <td>300</td>\n",
       "      <td>45</td>\n",
       "      <td>True</td>\n",
       "      <td>100.10</td>\n",
       "    </tr>\n",
       "  </tbody>\n",
       "</table>\n",
       "</div>"
      ],
      "text/plain": [
       "         dia  calorias  tiempo  cumplido  Porcentaje\n",
       "0      lunes       420      60      True      105.11\n",
       "1     Martes       380      40      True      142.64\n",
       "2  Miercoles       390      75     False       78.08\n",
       "3     Jueves       490      55      True      133.77\n",
       "4    Viernes       300      45      True      100.10"
      ]
     },
     "execution_count": 116,
     "metadata": {},
     "output_type": "execute_result"
    }
   ],
   "source": [
    "df[\"cumplido\"]=cumplido\n",
    "df[\"Porcentaje\"]=porcentaje\n",
    "df"
   ]
  },
  {
   "cell_type": "markdown",
   "id": "37b80d22",
   "metadata": {},
   "source": [
    "#### D.\tFiltrar el DataFrame y devolver otro DataFrame con las filas pares que cumplan que el número de calorías es mayor de 400."
   ]
  },
  {
   "cell_type": "code",
   "execution_count": 117,
   "id": "f94c10b6",
   "metadata": {},
   "outputs": [
    {
     "name": "stdout",
     "output_type": "stream",
     "text": [
      "[0 2 4]\n"
     ]
    }
   ],
   "source": [
    "pares = np.arange(0,5,2)\n",
    "print(pares)"
   ]
  },
  {
   "cell_type": "code",
   "execution_count": 118,
   "id": "81562f25",
   "metadata": {},
   "outputs": [
    {
     "data": {
      "text/html": [
       "<div>\n",
       "<style scoped>\n",
       "    .dataframe tbody tr th:only-of-type {\n",
       "        vertical-align: middle;\n",
       "    }\n",
       "\n",
       "    .dataframe tbody tr th {\n",
       "        vertical-align: top;\n",
       "    }\n",
       "\n",
       "    .dataframe thead th {\n",
       "        text-align: right;\n",
       "    }\n",
       "</style>\n",
       "<table border=\"1\" class=\"dataframe\">\n",
       "  <thead>\n",
       "    <tr style=\"text-align: right;\">\n",
       "      <th></th>\n",
       "      <th>dia</th>\n",
       "      <th>calorias</th>\n",
       "      <th>tiempo</th>\n",
       "      <th>cumplido</th>\n",
       "      <th>Porcentaje</th>\n",
       "    </tr>\n",
       "  </thead>\n",
       "  <tbody>\n",
       "    <tr>\n",
       "      <th>0</th>\n",
       "      <td>lunes</td>\n",
       "      <td>420</td>\n",
       "      <td>60</td>\n",
       "      <td>True</td>\n",
       "      <td>105.11</td>\n",
       "    </tr>\n",
       "    <tr>\n",
       "      <th>2</th>\n",
       "      <td>Miercoles</td>\n",
       "      <td>390</td>\n",
       "      <td>75</td>\n",
       "      <td>False</td>\n",
       "      <td>78.08</td>\n",
       "    </tr>\n",
       "    <tr>\n",
       "      <th>4</th>\n",
       "      <td>Viernes</td>\n",
       "      <td>300</td>\n",
       "      <td>45</td>\n",
       "      <td>True</td>\n",
       "      <td>100.10</td>\n",
       "    </tr>\n",
       "  </tbody>\n",
       "</table>\n",
       "</div>"
      ],
      "text/plain": [
       "         dia  calorias  tiempo  cumplido  Porcentaje\n",
       "0      lunes       420      60      True      105.11\n",
       "2  Miercoles       390      75     False       78.08\n",
       "4    Viernes       300      45      True      100.10"
      ]
     },
     "execution_count": 118,
     "metadata": {},
     "output_type": "execute_result"
    }
   ],
   "source": [
    "df.iloc[pares]"
   ]
  },
  {
   "cell_type": "code",
   "execution_count": 119,
   "id": "899d8e5e",
   "metadata": {},
   "outputs": [
    {
     "name": "stderr",
     "output_type": "stream",
     "text": [
      "C:\\Users\\juan carlos\\AppData\\Local\\Temp\\ipykernel_12280\\340795389.py:1: UserWarning: Boolean Series key will be reindexed to match DataFrame index.\n",
      "  df.iloc[pares][df[\"calorias\"]>400]\n"
     ]
    },
    {
     "data": {
      "text/html": [
       "<div>\n",
       "<style scoped>\n",
       "    .dataframe tbody tr th:only-of-type {\n",
       "        vertical-align: middle;\n",
       "    }\n",
       "\n",
       "    .dataframe tbody tr th {\n",
       "        vertical-align: top;\n",
       "    }\n",
       "\n",
       "    .dataframe thead th {\n",
       "        text-align: right;\n",
       "    }\n",
       "</style>\n",
       "<table border=\"1\" class=\"dataframe\">\n",
       "  <thead>\n",
       "    <tr style=\"text-align: right;\">\n",
       "      <th></th>\n",
       "      <th>dia</th>\n",
       "      <th>calorias</th>\n",
       "      <th>tiempo</th>\n",
       "      <th>cumplido</th>\n",
       "      <th>Porcentaje</th>\n",
       "    </tr>\n",
       "  </thead>\n",
       "  <tbody>\n",
       "    <tr>\n",
       "      <th>0</th>\n",
       "      <td>lunes</td>\n",
       "      <td>420</td>\n",
       "      <td>60</td>\n",
       "      <td>True</td>\n",
       "      <td>105.11</td>\n",
       "    </tr>\n",
       "  </tbody>\n",
       "</table>\n",
       "</div>"
      ],
      "text/plain": [
       "     dia  calorias  tiempo  cumplido  Porcentaje\n",
       "0  lunes       420      60      True      105.11"
      ]
     },
     "execution_count": 119,
     "metadata": {},
     "output_type": "execute_result"
    }
   ],
   "source": [
    "df.iloc[pares][df[\"calorias\"]>400]"
   ]
  },
  {
   "cell_type": "markdown",
   "id": "1f60dcc4",
   "metadata": {},
   "source": [
    "#### F.\tCrear un gráfico donde se  muestre la progresión de las calorías y tiempo durante la semana."
   ]
  },
  {
   "cell_type": "code",
   "execution_count": 120,
   "id": "e8e7c5b8",
   "metadata": {},
   "outputs": [
    {
     "data": {
      "text/html": [
       "<div>\n",
       "<style scoped>\n",
       "    .dataframe tbody tr th:only-of-type {\n",
       "        vertical-align: middle;\n",
       "    }\n",
       "\n",
       "    .dataframe tbody tr th {\n",
       "        vertical-align: top;\n",
       "    }\n",
       "\n",
       "    .dataframe thead th {\n",
       "        text-align: right;\n",
       "    }\n",
       "</style>\n",
       "<table border=\"1\" class=\"dataframe\">\n",
       "  <thead>\n",
       "    <tr style=\"text-align: right;\">\n",
       "      <th></th>\n",
       "      <th>dia</th>\n",
       "      <th>calorias</th>\n",
       "      <th>tiempo</th>\n",
       "      <th>cumplido</th>\n",
       "      <th>Porcentaje</th>\n",
       "    </tr>\n",
       "  </thead>\n",
       "  <tbody>\n",
       "    <tr>\n",
       "      <th>0</th>\n",
       "      <td>lunes</td>\n",
       "      <td>420</td>\n",
       "      <td>60</td>\n",
       "      <td>True</td>\n",
       "      <td>105.11</td>\n",
       "    </tr>\n",
       "    <tr>\n",
       "      <th>1</th>\n",
       "      <td>Martes</td>\n",
       "      <td>380</td>\n",
       "      <td>40</td>\n",
       "      <td>True</td>\n",
       "      <td>142.64</td>\n",
       "    </tr>\n",
       "    <tr>\n",
       "      <th>2</th>\n",
       "      <td>Miercoles</td>\n",
       "      <td>390</td>\n",
       "      <td>75</td>\n",
       "      <td>False</td>\n",
       "      <td>78.08</td>\n",
       "    </tr>\n",
       "    <tr>\n",
       "      <th>3</th>\n",
       "      <td>Jueves</td>\n",
       "      <td>490</td>\n",
       "      <td>55</td>\n",
       "      <td>True</td>\n",
       "      <td>133.77</td>\n",
       "    </tr>\n",
       "    <tr>\n",
       "      <th>4</th>\n",
       "      <td>Viernes</td>\n",
       "      <td>300</td>\n",
       "      <td>45</td>\n",
       "      <td>True</td>\n",
       "      <td>100.10</td>\n",
       "    </tr>\n",
       "  </tbody>\n",
       "</table>\n",
       "</div>"
      ],
      "text/plain": [
       "         dia  calorias  tiempo  cumplido  Porcentaje\n",
       "0      lunes       420      60      True      105.11\n",
       "1     Martes       380      40      True      142.64\n",
       "2  Miercoles       390      75     False       78.08\n",
       "3     Jueves       490      55      True      133.77\n",
       "4    Viernes       300      45      True      100.10"
      ]
     },
     "execution_count": 120,
     "metadata": {},
     "output_type": "execute_result"
    }
   ],
   "source": [
    "df"
   ]
  },
  {
   "cell_type": "code",
   "execution_count": 121,
   "id": "49157d7d",
   "metadata": {},
   "outputs": [
    {
     "data": {
      "image/png": "[encoded data removed]",
      "text/plain": [
       "<Figure size 640x480 with 1 Axes>"
      ]
     },
     "metadata": {},
     "output_type": "display_data"
    }
   ],
   "source": [
    "import matplotlib.pyplot as plt\n",
    "Calorias = df[\"calorias\"].values.tolist()\n",
    "Tiempo = df[\"tiempo\"].values.tolist()\n",
    "Dias = df[\"dia\"].values.tolist()\n",
    "\n",
    "#cat = [\"bored\", \"happy\", \"bored\", \"bored\", \"happy\", \"bored\"]\n",
    "#dog = [\"happy\", \"happy\", \"happy\", \"happy\", \"bored\", \"bored\"]\n",
    "#activity = [\"combing\", \"drinking\", \"feeding\", \"napping\", \"playing\", \"washing\"]\n",
    "\n",
    "fig, ax = plt.subplots()\n",
    "ax.plot(Dias, Tiempo, label=\"Tiempo\")\n",
    "ax.plot(Dias, Calorias, label=\"Calorias\")\n",
    "ax.legend()\n",
    "plt.show()"
   ]
  }
 ],
 "metadata": {
  "kernelspec": {
   "display_name": "Python 3 (ipykernel)",
   "language": "python",
   "name": "python3"
  },
  "language_info": {
   "codemirror_mode": {
    "name": "ipython",
    "version": 3
   },
   "file_extension": ".py",
   "mimetype": "text/x-python",
   "name": "python",
   "nbconvert_exporter": "python",
   "pygments_lexer": "ipython3",
   "version": "3.9.13"
  }
 },
 "nbformat": 4,
 "nbformat_minor": 5
}
