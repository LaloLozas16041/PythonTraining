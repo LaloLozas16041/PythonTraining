{
 "cells": [
  {
   "cell_type": "code",
   "execution_count": 4,
   "id": "7877faa0",
   "metadata": {},
   "outputs": [],
   "source": [
    "import pandas as pd\n",
    "import math\n",
    "import matplotlib.pyplot as plt"
   ]
  },
  {
   "cell_type": "markdown",
   "id": "a093cf85",
   "metadata": {},
   "source": [
    "# TAREA SEMANA 3: FUNDAMENTOS DE PYTHON\n",
    "    \n",
    "### Nombre: Alfredo Ernesto Hernandez de Haro"
   ]
  },
  {
   "cell_type": "markdown",
   "id": "1ce9595d",
   "metadata": {},
   "source": [
    "#### Ejercicio 1\n",
    "Escribir dos funciones que simulan una calculadora científica que permita calcular el seno, coseno, tangente, exponencial y logaritmo neperiano o natural (logaritmo en base euler). "
   ]
  },
  {
   "cell_type": "markdown",
   "id": "b29bac6a",
   "metadata": {},
   "source": [
    "A. La función uno preguntará al usuario el intervalo donde quiere aplicar la función matemática y la función a aplicar, y mostrará por pantalla una tabla donde la primera columna será los valores del intervalo dado (x) y la columna 2 tendrá los resultados de aplicar la función a este intervalo (y).\n"
   ]
  },
  {
   "cell_type": "code",
   "execution_count": 136,
   "id": "e9afda72",
   "metadata": {},
   "outputs": [
    {
     "name": "stdout",
     "output_type": "stream",
     "text": [
      "Indica operacion(SIN,COS,TAN,EXP,LN): sin\n",
      "Indica valor de inicio: 0\n",
      "Indica valor final: 180\n",
      "introduce step size: 20\n"
     ]
    },
    {
     "data": {
      "text/html": [
       "<div>\n",
       "<style scoped>\n",
       "    .dataframe tbody tr th:only-of-type {\n",
       "        vertical-align: middle;\n",
       "    }\n",
       "\n",
       "    .dataframe tbody tr th {\n",
       "        vertical-align: top;\n",
       "    }\n",
       "\n",
       "    .dataframe thead th {\n",
       "        text-align: right;\n",
       "    }\n",
       "</style>\n",
       "<table border=\"1\" class=\"dataframe\">\n",
       "  <thead>\n",
       "    <tr style=\"text-align: right;\">\n",
       "      <th></th>\n",
       "      <th>X</th>\n",
       "      <th>Y</th>\n",
       "    </tr>\n",
       "  </thead>\n",
       "  <tbody>\n",
       "    <tr>\n",
       "      <th>0</th>\n",
       "      <td>0.0</td>\n",
       "      <td>0.000000e+00</td>\n",
       "    </tr>\n",
       "    <tr>\n",
       "      <th>1</th>\n",
       "      <td>20.0</td>\n",
       "      <td>3.420201e-01</td>\n",
       "    </tr>\n",
       "    <tr>\n",
       "      <th>2</th>\n",
       "      <td>40.0</td>\n",
       "      <td>6.427876e-01</td>\n",
       "    </tr>\n",
       "    <tr>\n",
       "      <th>3</th>\n",
       "      <td>60.0</td>\n",
       "      <td>8.660254e-01</td>\n",
       "    </tr>\n",
       "    <tr>\n",
       "      <th>4</th>\n",
       "      <td>80.0</td>\n",
       "      <td>9.848078e-01</td>\n",
       "    </tr>\n",
       "    <tr>\n",
       "      <th>5</th>\n",
       "      <td>100.0</td>\n",
       "      <td>9.848078e-01</td>\n",
       "    </tr>\n",
       "    <tr>\n",
       "      <th>6</th>\n",
       "      <td>120.0</td>\n",
       "      <td>8.660254e-01</td>\n",
       "    </tr>\n",
       "    <tr>\n",
       "      <th>7</th>\n",
       "      <td>140.0</td>\n",
       "      <td>6.427876e-01</td>\n",
       "    </tr>\n",
       "    <tr>\n",
       "      <th>8</th>\n",
       "      <td>160.0</td>\n",
       "      <td>3.420201e-01</td>\n",
       "    </tr>\n",
       "    <tr>\n",
       "      <th>9</th>\n",
       "      <td>180.0</td>\n",
       "      <td>1.224647e-16</td>\n",
       "    </tr>\n",
       "  </tbody>\n",
       "</table>\n",
       "</div>"
      ],
      "text/plain": [
       "       X             Y\n",
       "0    0.0  0.000000e+00\n",
       "1   20.0  3.420201e-01\n",
       "2   40.0  6.427876e-01\n",
       "3   60.0  8.660254e-01\n",
       "4   80.0  9.848078e-01\n",
       "5  100.0  9.848078e-01\n",
       "6  120.0  8.660254e-01\n",
       "7  140.0  6.427876e-01\n",
       "8  160.0  3.420201e-01\n",
       "9  180.0  1.224647e-16"
      ]
     },
     "execution_count": 136,
     "metadata": {},
     "output_type": "execute_result"
    }
   ],
   "source": [
    "def calculadora():\n",
    "    opcion=input(\"Indica operacion(SIN,COS,TAN,EXP,LN): \")\n",
    "    operacion=opcion.upper()\n",
    "    inicio=float(input(\"Indica valor de inicio: \"))\n",
    "    final=float(input(\"Indica valor final: \"))\n",
    "    step = float(input(\"introduce step size: \"))\n",
    "    \n",
    "    interval=[]\n",
    "    resultados=[]\n",
    "    \n",
    "    val_actual=inicio\n",
    "    while val_actual<=final:\n",
    "        interval.append(val_actual)\n",
    "        if operacion==\"SIN\":\n",
    "            resultados.append(math.sin(math.radians(val_actual)))\n",
    "        elif operacion==\"COS\":\n",
    "            resultados.append(math.cos(math.radians(val_actual)))\n",
    "        elif operacion==\"TAN\":\n",
    "            resultados.append(math.tan(math.radians(val_actual)))\n",
    "        elif operacion==\"EXP\":\n",
    "            resultados.append(math.exp(math.radians(val_actual)))\n",
    "        elif operacion==\"LN\":\n",
    "            resultados.append(math.log(math.radians(val_actual)))\n",
    "        else:\n",
    "            print(\"Operacion no encontrada\")\n",
    "            \n",
    "        val_actual=val_actual+step\n",
    "    \n",
    "    data=pd.DataFrame({\"X\":interval,\"Y\":resultados})\n",
    "\n",
    "    return data\n",
    "\n",
    "\n",
    "\n",
    "calculo=calculadora()\n",
    "\n",
    "calculo\n"
   ]
  },
  {
   "cell_type": "markdown",
   "id": "7176ebf8",
   "metadata": {},
   "source": [
    "B. La función dos graficara con matplotlib el resultado de función anterior y la mostrará en pantalla. Recuerden poner los títulos ejes y demás configuraciones de las gráficas para que queden de la mejor manera posible.\n"
   ]
  },
  {
   "cell_type": "code",
   "execution_count": 137,
   "id": "ec7e2815",
   "metadata": {},
   "outputs": [
    {
     "data": {
      "image/png": "[encoded data removed]",
      "text/plain": [
       "<Figure size 640x480 with 1 Axes>"
      ]
     },
     "metadata": {},
     "output_type": "display_data"
    }
   ],
   "source": [
    "def imprimeGraf(data):\n",
    "    interval=data[\"X\"]\n",
    "    resultados=data[\"Y\"]\n",
    "    plt.plot(interval,resultados)\n",
    "    plt.title(\"Funcion\")\n",
    "    plt.xlabel(\"Angulo en grados\")\n",
    "    plt.ylabel(\"Output\")\n",
    "    plt.show()\n",
    "\n",
    "    \n",
    "imprimeGraf(calculo)"
   ]
  },
  {
   "cell_type": "markdown",
   "id": "9f18b5c3",
   "metadata": {},
   "source": [
    "#### Explicacion\n",
    "\n",
    "El usuario ingresa la operacion que desea calcular, ademas de el valor inicial y valor final y el step size que es el incremento para cada uno de los valores dentro de valor inicial a valor final. Los resultados se muestran en un dataframe de 2 columnas (entrada X, salida Y)\n",
    "\n",
    "Finalmente, graficamos por medio de la funcion imprimeGraf que recibe la variable \"calculo\" que representa al dataframe obtenido anteriormente."
   ]
  },
  {
   "cell_type": "markdown",
   "id": "4cdd5a63",
   "metadata": {},
   "source": [
    "#### Ejercicio 2\n",
    "Escribir un programa para ver los beneficios de una empresa en un periodo de años.\n",
    "El programa debe cumplir los siguientes requisitos:\n"
   ]
  },
  {
   "cell_type": "markdown",
   "id": "7a8077eb",
   "metadata": {},
   "source": [
    "A. El programa tiene que preguntar al usuario por un año inicial y otro final, y después preguntar por los ingresos y egresos de cada año desde el año inicial hasta el año final.\n",
    "Debe garantizar que por lo menos haya 5 años entre el año inicial y el final.\n"
   ]
  },
  {
   "cell_type": "code",
   "execution_count": 167,
   "id": "573400dd",
   "metadata": {},
   "outputs": [
    {
     "name": "stdout",
     "output_type": "stream",
     "text": [
      "Ingrese el año inicial: 2008\n",
      "Ingrese el año final: 2010\n",
      "El periodo debe ser de al menos 5 años\n",
      "Ingrese el año inicial: 2008\n",
      "Ingrese el año final: 2013\n",
      "Ingrese los ingresos del año 2008: 45\n",
      "Ingrese los egresos del año 2008: 34\n",
      "Ingrese los ingresos del año 2009: 56\n",
      "Ingrese los egresos del año 2009: 67\n",
      "Ingrese los ingresos del año 2010: 67\n",
      "Ingrese los egresos del año 2010: 68\n",
      "Ingrese los ingresos del año 2011: 45\n",
      "Ingrese los egresos del año 2011: 34\n",
      "Ingrese los ingresos del año 2012: 80\n",
      "Ingrese los egresos del año 2012: 56\n",
      "Ingrese los ingresos del año 2013: 82\n",
      "Ingrese los egresos del año 2013: 78\n"
     ]
    }
   ],
   "source": [
    "while True:\n",
    "    año_inicial = int(input(\"Ingrese el año inicial: \"))\n",
    "    año_final = int(input(\"Ingrese el año final: \"))\n",
    "    if (año_final - año_inicial) >= 5:\n",
    "        break\n",
    "    print(\"El periodo debe ser de al menos 5 años\")\n",
    "\n",
    "años=list(range (año_inicial,año_final+1))\n",
    "ingresos=[]\n",
    "egresos=[]\n",
    "\n",
    "for periodo in años:\n",
    "    ingreso = float(input(f\"Ingrese los ingresos del año {periodo}: \"))\n",
    "    egreso = float(input(f\"Ingrese los egresos del año {periodo}: \"))\n",
    "    ingresos.append(ingreso)\n",
    "    egresos.append(egreso)\n"
   ]
  },
  {
   "cell_type": "markdown",
   "id": "2d33018f",
   "metadata": {},
   "source": [
    "B. Con los datos introducidos se deben crear un dataframe, con las columnas fecha, ingresos y egresos.\n"
   ]
  },
  {
   "cell_type": "code",
   "execution_count": 168,
   "id": "187f035f",
   "metadata": {},
   "outputs": [
    {
     "data": {
      "text/html": [
       "<div>\n",
       "<style scoped>\n",
       "    .dataframe tbody tr th:only-of-type {\n",
       "        vertical-align: middle;\n",
       "    }\n",
       "\n",
       "    .dataframe tbody tr th {\n",
       "        vertical-align: top;\n",
       "    }\n",
       "\n",
       "    .dataframe thead th {\n",
       "        text-align: right;\n",
       "    }\n",
       "</style>\n",
       "<table border=\"1\" class=\"dataframe\">\n",
       "  <thead>\n",
       "    <tr style=\"text-align: right;\">\n",
       "      <th></th>\n",
       "      <th>Fecha</th>\n",
       "      <th>Ingresos</th>\n",
       "      <th>Egresos</th>\n",
       "    </tr>\n",
       "  </thead>\n",
       "  <tbody>\n",
       "    <tr>\n",
       "      <th>0</th>\n",
       "      <td>2008</td>\n",
       "      <td>45.0</td>\n",
       "      <td>34.0</td>\n",
       "    </tr>\n",
       "    <tr>\n",
       "      <th>1</th>\n",
       "      <td>2009</td>\n",
       "      <td>56.0</td>\n",
       "      <td>67.0</td>\n",
       "    </tr>\n",
       "    <tr>\n",
       "      <th>2</th>\n",
       "      <td>2010</td>\n",
       "      <td>67.0</td>\n",
       "      <td>68.0</td>\n",
       "    </tr>\n",
       "    <tr>\n",
       "      <th>3</th>\n",
       "      <td>2011</td>\n",
       "      <td>45.0</td>\n",
       "      <td>34.0</td>\n",
       "    </tr>\n",
       "    <tr>\n",
       "      <th>4</th>\n",
       "      <td>2012</td>\n",
       "      <td>80.0</td>\n",
       "      <td>56.0</td>\n",
       "    </tr>\n",
       "    <tr>\n",
       "      <th>5</th>\n",
       "      <td>2013</td>\n",
       "      <td>82.0</td>\n",
       "      <td>78.0</td>\n",
       "    </tr>\n",
       "  </tbody>\n",
       "</table>\n",
       "</div>"
      ],
      "text/plain": [
       "   Fecha  Ingresos  Egresos\n",
       "0   2008      45.0     34.0\n",
       "1   2009      56.0     67.0\n",
       "2   2010      67.0     68.0\n",
       "3   2011      45.0     34.0\n",
       "4   2012      80.0     56.0\n",
       "5   2013      82.0     78.0"
      ]
     },
     "execution_count": 168,
     "metadata": {},
     "output_type": "execute_result"
    }
   ],
   "source": [
    "df2=pd.DataFrame({\"Fecha\":años, \"Ingresos\": ingresos, \"Egresos\": egresos})\n",
    "df2"
   ]
  },
  {
   "cell_type": "markdown",
   "id": "6e66c2b7",
   "metadata": {},
   "source": [
    "#### Explicacion\n",
    "\n",
    "Creamos un ciclo que se rompera por medio un break cuando la diferencia entre año inicial y final sea menor a 5. Creamos listas que almacenan los valores de ingreso y egreso por año por medio de un ciclo for y la funcion .append.\n",
    "\n",
    "Para crear el df, ingrese los datos de años, ingresos y egresos en formato de diccionario.\n"
   ]
  },
  {
   "cell_type": "markdown",
   "id": "5615b752",
   "metadata": {},
   "source": [
    "#### Ejercicio 3:\n",
    "El fichero horas-trabajo.csv contiene el número de horas mensuales trabajadas por los empleados de una empresa durante el primer cuatrimestre. Crear un programa que realice las siguientes operaciones utilizando la librería Pandas:\n"
   ]
  },
  {
   "cell_type": "markdown",
   "id": "e4b3ec8c",
   "metadata": {},
   "source": [
    "A. Crea una columna con el número total de horas trabajadas para cada operador.\n"
   ]
  },
  {
   "cell_type": "code",
   "execution_count": 7,
   "id": "abf96b95",
   "metadata": {},
   "outputs": [],
   "source": [
    "df=pd.read_csv(\"horas-trabajo.csv\", sep=\";\")"
   ]
  },
  {
   "cell_type": "code",
   "execution_count": 8,
   "id": "b3865305",
   "metadata": {},
   "outputs": [
    {
     "data": {
      "text/html": [
       "<div>\n",
       "<style scoped>\n",
       "    .dataframe tbody tr th:only-of-type {\n",
       "        vertical-align: middle;\n",
       "    }\n",
       "\n",
       "    .dataframe tbody tr th {\n",
       "        vertical-align: top;\n",
       "    }\n",
       "\n",
       "    .dataframe thead th {\n",
       "        text-align: right;\n",
       "    }\n",
       "</style>\n",
       "<table border=\"1\" class=\"dataframe\">\n",
       "  <thead>\n",
       "    <tr style=\"text-align: right;\">\n",
       "      <th></th>\n",
       "      <th>Id</th>\n",
       "      <th>Departamento</th>\n",
       "      <th>Enero</th>\n",
       "      <th>Febrero</th>\n",
       "      <th>Marzo</th>\n",
       "      <th>Abril</th>\n",
       "    </tr>\n",
       "  </thead>\n",
       "  <tbody>\n",
       "    <tr>\n",
       "      <th>0</th>\n",
       "      <td>OP1</td>\n",
       "      <td>Proveedores</td>\n",
       "      <td>180</td>\n",
       "      <td>160.0</td>\n",
       "      <td>140.0</td>\n",
       "      <td>180.0</td>\n",
       "    </tr>\n",
       "    <tr>\n",
       "      <th>1</th>\n",
       "      <td>OP2</td>\n",
       "      <td>Ventas</td>\n",
       "      <td>120</td>\n",
       "      <td>140.0</td>\n",
       "      <td>NaN</td>\n",
       "      <td>100.0</td>\n",
       "    </tr>\n",
       "    <tr>\n",
       "      <th>2</th>\n",
       "      <td>OP3</td>\n",
       "      <td>Ventas</td>\n",
       "      <td>80</td>\n",
       "      <td>90.0</td>\n",
       "      <td>80.0</td>\n",
       "      <td>80.0</td>\n",
       "    </tr>\n",
       "    <tr>\n",
       "      <th>3</th>\n",
       "      <td>OP5</td>\n",
       "      <td>IT</td>\n",
       "      <td>180</td>\n",
       "      <td>170.0</td>\n",
       "      <td>180.0</td>\n",
       "      <td>180.0</td>\n",
       "    </tr>\n",
       "    <tr>\n",
       "      <th>4</th>\n",
       "      <td>OP6</td>\n",
       "      <td>Marketing</td>\n",
       "      <td>100</td>\n",
       "      <td>NaN</td>\n",
       "      <td>100.0</td>\n",
       "      <td>NaN</td>\n",
       "    </tr>\n",
       "    <tr>\n",
       "      <th>5</th>\n",
       "      <td>OP7</td>\n",
       "      <td>Ventas</td>\n",
       "      <td>160</td>\n",
       "      <td>160.0</td>\n",
       "      <td>160.0</td>\n",
       "      <td>160.0</td>\n",
       "    </tr>\n",
       "    <tr>\n",
       "      <th>6</th>\n",
       "      <td>OP8</td>\n",
       "      <td>Proveedores</td>\n",
       "      <td>100</td>\n",
       "      <td>80.0</td>\n",
       "      <td>110.0</td>\n",
       "      <td>80.0</td>\n",
       "    </tr>\n",
       "    <tr>\n",
       "      <th>7</th>\n",
       "      <td>OP9</td>\n",
       "      <td>IT</td>\n",
       "      <td>80</td>\n",
       "      <td>80.0</td>\n",
       "      <td>80.0</td>\n",
       "      <td>80.0</td>\n",
       "    </tr>\n",
       "    <tr>\n",
       "      <th>8</th>\n",
       "      <td>OP10</td>\n",
       "      <td>Ventas</td>\n",
       "      <td>180</td>\n",
       "      <td>160.0</td>\n",
       "      <td>180.0</td>\n",
       "      <td>180.0</td>\n",
       "    </tr>\n",
       "  </tbody>\n",
       "</table>\n",
       "</div>"
      ],
      "text/plain": [
       "     Id Departamento  Enero  Febrero  Marzo  Abril\n",
       "0   OP1  Proveedores    180    160.0  140.0  180.0\n",
       "1   OP2       Ventas    120    140.0    NaN  100.0\n",
       "2   OP3       Ventas     80     90.0   80.0   80.0\n",
       "3   OP5           IT    180    170.0  180.0  180.0\n",
       "4   OP6    Marketing    100      NaN  100.0    NaN\n",
       "5   OP7       Ventas    160    160.0  160.0  160.0\n",
       "6   OP8  Proveedores    100     80.0  110.0   80.0\n",
       "7   OP9           IT     80     80.0   80.0   80.0\n",
       "8  OP10       Ventas    180    160.0  180.0  180.0"
      ]
     },
     "execution_count": 8,
     "metadata": {},
     "output_type": "execute_result"
    }
   ],
   "source": [
    "df"
   ]
  },
  {
   "cell_type": "code",
   "execution_count": 9,
   "id": "9c193610",
   "metadata": {},
   "outputs": [],
   "source": [
    "df_filtrado=df.fillna(0)"
   ]
  },
  {
   "cell_type": "code",
   "execution_count": 10,
   "id": "6f620fde",
   "metadata": {},
   "outputs": [
    {
     "data": {
      "text/html": [
       "<div>\n",
       "<style scoped>\n",
       "    .dataframe tbody tr th:only-of-type {\n",
       "        vertical-align: middle;\n",
       "    }\n",
       "\n",
       "    .dataframe tbody tr th {\n",
       "        vertical-align: top;\n",
       "    }\n",
       "\n",
       "    .dataframe thead th {\n",
       "        text-align: right;\n",
       "    }\n",
       "</style>\n",
       "<table border=\"1\" class=\"dataframe\">\n",
       "  <thead>\n",
       "    <tr style=\"text-align: right;\">\n",
       "      <th></th>\n",
       "      <th>Id</th>\n",
       "      <th>Departamento</th>\n",
       "      <th>Enero</th>\n",
       "      <th>Febrero</th>\n",
       "      <th>Marzo</th>\n",
       "      <th>Abril</th>\n",
       "    </tr>\n",
       "  </thead>\n",
       "  <tbody>\n",
       "    <tr>\n",
       "      <th>0</th>\n",
       "      <td>OP1</td>\n",
       "      <td>Proveedores</td>\n",
       "      <td>180</td>\n",
       "      <td>160.0</td>\n",
       "      <td>140.0</td>\n",
       "      <td>180.0</td>\n",
       "    </tr>\n",
       "    <tr>\n",
       "      <th>1</th>\n",
       "      <td>OP2</td>\n",
       "      <td>Ventas</td>\n",
       "      <td>120</td>\n",
       "      <td>140.0</td>\n",
       "      <td>0.0</td>\n",
       "      <td>100.0</td>\n",
       "    </tr>\n",
       "    <tr>\n",
       "      <th>2</th>\n",
       "      <td>OP3</td>\n",
       "      <td>Ventas</td>\n",
       "      <td>80</td>\n",
       "      <td>90.0</td>\n",
       "      <td>80.0</td>\n",
       "      <td>80.0</td>\n",
       "    </tr>\n",
       "    <tr>\n",
       "      <th>3</th>\n",
       "      <td>OP5</td>\n",
       "      <td>IT</td>\n",
       "      <td>180</td>\n",
       "      <td>170.0</td>\n",
       "      <td>180.0</td>\n",
       "      <td>180.0</td>\n",
       "    </tr>\n",
       "    <tr>\n",
       "      <th>4</th>\n",
       "      <td>OP6</td>\n",
       "      <td>Marketing</td>\n",
       "      <td>100</td>\n",
       "      <td>0.0</td>\n",
       "      <td>100.0</td>\n",
       "      <td>0.0</td>\n",
       "    </tr>\n",
       "    <tr>\n",
       "      <th>5</th>\n",
       "      <td>OP7</td>\n",
       "      <td>Ventas</td>\n",
       "      <td>160</td>\n",
       "      <td>160.0</td>\n",
       "      <td>160.0</td>\n",
       "      <td>160.0</td>\n",
       "    </tr>\n",
       "    <tr>\n",
       "      <th>6</th>\n",
       "      <td>OP8</td>\n",
       "      <td>Proveedores</td>\n",
       "      <td>100</td>\n",
       "      <td>80.0</td>\n",
       "      <td>110.0</td>\n",
       "      <td>80.0</td>\n",
       "    </tr>\n",
       "    <tr>\n",
       "      <th>7</th>\n",
       "      <td>OP9</td>\n",
       "      <td>IT</td>\n",
       "      <td>80</td>\n",
       "      <td>80.0</td>\n",
       "      <td>80.0</td>\n",
       "      <td>80.0</td>\n",
       "    </tr>\n",
       "    <tr>\n",
       "      <th>8</th>\n",
       "      <td>OP10</td>\n",
       "      <td>Ventas</td>\n",
       "      <td>180</td>\n",
       "      <td>160.0</td>\n",
       "      <td>180.0</td>\n",
       "      <td>180.0</td>\n",
       "    </tr>\n",
       "  </tbody>\n",
       "</table>\n",
       "</div>"
      ],
      "text/plain": [
       "     Id Departamento  Enero  Febrero  Marzo  Abril\n",
       "0   OP1  Proveedores    180    160.0  140.0  180.0\n",
       "1   OP2       Ventas    120    140.0    0.0  100.0\n",
       "2   OP3       Ventas     80     90.0   80.0   80.0\n",
       "3   OP5           IT    180    170.0  180.0  180.0\n",
       "4   OP6    Marketing    100      0.0  100.0    0.0\n",
       "5   OP7       Ventas    160    160.0  160.0  160.0\n",
       "6   OP8  Proveedores    100     80.0  110.0   80.0\n",
       "7   OP9           IT     80     80.0   80.0   80.0\n",
       "8  OP10       Ventas    180    160.0  180.0  180.0"
      ]
     },
     "execution_count": 10,
     "metadata": {},
     "output_type": "execute_result"
    }
   ],
   "source": [
    "df_filtrado"
   ]
  },
  {
   "cell_type": "code",
   "execution_count": 11,
   "id": "be8bb734",
   "metadata": {},
   "outputs": [],
   "source": [
    "\n",
    "\n",
    "df_filtrado[\"Total horas\"]=df_filtrado[\"Enero\"]+df_filtrado[\"Febrero\"]+df_filtrado[\"Marzo\"]+df_filtrado[\"Abril\"]\n",
    "    "
   ]
  },
  {
   "cell_type": "code",
   "execution_count": 12,
   "id": "c7c03353",
   "metadata": {},
   "outputs": [
    {
     "data": {
      "text/html": [
       "<div>\n",
       "<style scoped>\n",
       "    .dataframe tbody tr th:only-of-type {\n",
       "        vertical-align: middle;\n",
       "    }\n",
       "\n",
       "    .dataframe tbody tr th {\n",
       "        vertical-align: top;\n",
       "    }\n",
       "\n",
       "    .dataframe thead th {\n",
       "        text-align: right;\n",
       "    }\n",
       "</style>\n",
       "<table border=\"1\" class=\"dataframe\">\n",
       "  <thead>\n",
       "    <tr style=\"text-align: right;\">\n",
       "      <th></th>\n",
       "      <th>Id</th>\n",
       "      <th>Departamento</th>\n",
       "      <th>Enero</th>\n",
       "      <th>Febrero</th>\n",
       "      <th>Marzo</th>\n",
       "      <th>Abril</th>\n",
       "      <th>Total horas</th>\n",
       "    </tr>\n",
       "  </thead>\n",
       "  <tbody>\n",
       "    <tr>\n",
       "      <th>0</th>\n",
       "      <td>OP1</td>\n",
       "      <td>Proveedores</td>\n",
       "      <td>180</td>\n",
       "      <td>160.0</td>\n",
       "      <td>140.0</td>\n",
       "      <td>180.0</td>\n",
       "      <td>660.0</td>\n",
       "    </tr>\n",
       "    <tr>\n",
       "      <th>1</th>\n",
       "      <td>OP2</td>\n",
       "      <td>Ventas</td>\n",
       "      <td>120</td>\n",
       "      <td>140.0</td>\n",
       "      <td>0.0</td>\n",
       "      <td>100.0</td>\n",
       "      <td>360.0</td>\n",
       "    </tr>\n",
       "    <tr>\n",
       "      <th>2</th>\n",
       "      <td>OP3</td>\n",
       "      <td>Ventas</td>\n",
       "      <td>80</td>\n",
       "      <td>90.0</td>\n",
       "      <td>80.0</td>\n",
       "      <td>80.0</td>\n",
       "      <td>330.0</td>\n",
       "    </tr>\n",
       "    <tr>\n",
       "      <th>3</th>\n",
       "      <td>OP5</td>\n",
       "      <td>IT</td>\n",
       "      <td>180</td>\n",
       "      <td>170.0</td>\n",
       "      <td>180.0</td>\n",
       "      <td>180.0</td>\n",
       "      <td>710.0</td>\n",
       "    </tr>\n",
       "    <tr>\n",
       "      <th>4</th>\n",
       "      <td>OP6</td>\n",
       "      <td>Marketing</td>\n",
       "      <td>100</td>\n",
       "      <td>0.0</td>\n",
       "      <td>100.0</td>\n",
       "      <td>0.0</td>\n",
       "      <td>200.0</td>\n",
       "    </tr>\n",
       "    <tr>\n",
       "      <th>5</th>\n",
       "      <td>OP7</td>\n",
       "      <td>Ventas</td>\n",
       "      <td>160</td>\n",
       "      <td>160.0</td>\n",
       "      <td>160.0</td>\n",
       "      <td>160.0</td>\n",
       "      <td>640.0</td>\n",
       "    </tr>\n",
       "    <tr>\n",
       "      <th>6</th>\n",
       "      <td>OP8</td>\n",
       "      <td>Proveedores</td>\n",
       "      <td>100</td>\n",
       "      <td>80.0</td>\n",
       "      <td>110.0</td>\n",
       "      <td>80.0</td>\n",
       "      <td>370.0</td>\n",
       "    </tr>\n",
       "    <tr>\n",
       "      <th>7</th>\n",
       "      <td>OP9</td>\n",
       "      <td>IT</td>\n",
       "      <td>80</td>\n",
       "      <td>80.0</td>\n",
       "      <td>80.0</td>\n",
       "      <td>80.0</td>\n",
       "      <td>320.0</td>\n",
       "    </tr>\n",
       "    <tr>\n",
       "      <th>8</th>\n",
       "      <td>OP10</td>\n",
       "      <td>Ventas</td>\n",
       "      <td>180</td>\n",
       "      <td>160.0</td>\n",
       "      <td>180.0</td>\n",
       "      <td>180.0</td>\n",
       "      <td>700.0</td>\n",
       "    </tr>\n",
       "  </tbody>\n",
       "</table>\n",
       "</div>"
      ],
      "text/plain": [
       "     Id Departamento  Enero  Febrero  Marzo  Abril  Total horas\n",
       "0   OP1  Proveedores    180    160.0  140.0  180.0        660.0\n",
       "1   OP2       Ventas    120    140.0    0.0  100.0        360.0\n",
       "2   OP3       Ventas     80     90.0   80.0   80.0        330.0\n",
       "3   OP5           IT    180    170.0  180.0  180.0        710.0\n",
       "4   OP6    Marketing    100      0.0  100.0    0.0        200.0\n",
       "5   OP7       Ventas    160    160.0  160.0  160.0        640.0\n",
       "6   OP8  Proveedores    100     80.0  110.0   80.0        370.0\n",
       "7   OP9           IT     80     80.0   80.0   80.0        320.0\n",
       "8  OP10       Ventas    180    160.0  180.0  180.0        700.0"
      ]
     },
     "execution_count": 12,
     "metadata": {},
     "output_type": "execute_result"
    }
   ],
   "source": [
    "df_filtrado"
   ]
  },
  {
   "cell_type": "markdown",
   "id": "d1d41927",
   "metadata": {},
   "source": [
    "B. Muestra cual es el promedio de horas trabajadas en total en la empresa durante el mes Marzo\n"
   ]
  },
  {
   "cell_type": "code",
   "execution_count": 14,
   "id": "dd1e0ff7",
   "metadata": {},
   "outputs": [
    {
     "name": "stdout",
     "output_type": "stream",
     "text": [
      "Promedio de horas trabajadas en marzo: 114.44\n"
     ]
    }
   ],
   "source": [
    "horas_marzo=df_filtrado[\"Marzo\"]\n",
    "prom_horas_marzo=horas_marzo.mean()\n",
    "print(f\"Promedio de horas trabajadas en marzo: {prom_horas_marzo:.2f}\")"
   ]
  },
  {
   "cell_type": "markdown",
   "id": "5c57171e",
   "metadata": {},
   "source": [
    "C. Muestra cuántos operadores hay por cada departamento de la empresa."
   ]
  },
  {
   "cell_type": "code",
   "execution_count": 20,
   "id": "357dc41a",
   "metadata": {},
   "outputs": [
    {
     "name": "stdout",
     "output_type": "stream",
     "text": [
      "Numero de operadores por departamento: \n",
      "Departamento\n",
      "IT             2\n",
      "Marketing      1\n",
      "Proveedores    2\n",
      "Ventas         4\n",
      "Name: Id, dtype: int64\n"
     ]
    }
   ],
   "source": [
    "depto_counts=df_filtrado.groupby(\"Departamento\")[\"Id\"].count()\n",
    "print(\"Numero de operadores por departamento: \")\n",
    "print(depto_counts)"
   ]
  },
  {
   "cell_type": "markdown",
   "id": "1ee32820",
   "metadata": {},
   "source": [
    "D. Muestra el número de empleados que han trabajado todos los meses, es decir, que tienen un número de horas todos los meses del cuatrimestre.\n"
   ]
  },
  {
   "cell_type": "code",
   "execution_count": 24,
   "id": "926968f8",
   "metadata": {},
   "outputs": [
    {
     "name": "stdout",
     "output_type": "stream",
     "text": [
      "Numero de empleados que trabajaron los 4 meses: 7\n"
     ]
    }
   ],
   "source": [
    "full_meses=df.drop([\"Id\",\"Departamento\"],axis=1).count(axis=1)\n",
    "full_meses_count=full_meses.value_counts().loc[4]\n",
    "print(f\"Numero de empleados que trabajaron los 4 meses: {full_meses_count}\")"
   ]
  },
  {
   "cell_type": "markdown",
   "id": "e7bd08a4",
   "metadata": {},
   "source": [
    "#### Explicacion\n",
    "\n",
    "Obtenemos el dataframe y lo filtramos con fillna(0) para rellenar con ceros en las celdas que esten como NaN. \n",
    "\n",
    "Para crear la nueva columna del total de horas simplemente sumamos las horas correspondientes a las columnas de cada mes. Para obtener la media del mes de marzo solo tomamos las horas de la columna de Marzo y con la funcion .mean() obtenemos la media.\n",
    "\n",
    "Para contar el numero de operadores por departamento agrupamos los elementos por departamento y simplemente con el Id contamos cuantos hay.\n",
    "\n",
    "Para mostrar trabajadores que trabajaron los 4 meses solo me interesaban las columnas de Enero, Febrero, Marzo, Abril. Con la funcion .drop no tomo en cuenta las columnas de Id y Departamento. "
   ]
  },
  {
   "cell_type": "markdown",
   "id": "74dbebfd",
   "metadata": {},
   "source": [
    "#### Ejercicio 4\n",
    "Crear un programa utilizando la librería Pandas y Matplotlib que realice lo siguiente:\n"
   ]
  },
  {
   "cell_type": "markdown",
   "id": "e66a1371",
   "metadata": {},
   "source": [
    "A. Crear el siguiente DataFrame indexado:"
   ]
  },
  {
   "cell_type": "code",
   "execution_count": 29,
   "id": "2f56939d",
   "metadata": {},
   "outputs": [
    {
     "data": {
      "text/html": [
       "<div>\n",
       "<style scoped>\n",
       "    .dataframe tbody tr th:only-of-type {\n",
       "        vertical-align: middle;\n",
       "    }\n",
       "\n",
       "    .dataframe tbody tr th {\n",
       "        vertical-align: top;\n",
       "    }\n",
       "\n",
       "    .dataframe thead th {\n",
       "        text-align: right;\n",
       "    }\n",
       "</style>\n",
       "<table border=\"1\" class=\"dataframe\">\n",
       "  <thead>\n",
       "    <tr style=\"text-align: right;\">\n",
       "      <th></th>\n",
       "      <th>Dia</th>\n",
       "      <th>Calorias</th>\n",
       "      <th>Tiempo</th>\n",
       "    </tr>\n",
       "  </thead>\n",
       "  <tbody>\n",
       "    <tr>\n",
       "      <th>0</th>\n",
       "      <td>Lunes</td>\n",
       "      <td>420</td>\n",
       "      <td>60</td>\n",
       "    </tr>\n",
       "    <tr>\n",
       "      <th>1</th>\n",
       "      <td>Martes</td>\n",
       "      <td>380</td>\n",
       "      <td>40</td>\n",
       "    </tr>\n",
       "    <tr>\n",
       "      <th>2</th>\n",
       "      <td>Miercoles</td>\n",
       "      <td>390</td>\n",
       "      <td>75</td>\n",
       "    </tr>\n",
       "    <tr>\n",
       "      <th>3</th>\n",
       "      <td>Jueves</td>\n",
       "      <td>490</td>\n",
       "      <td>55</td>\n",
       "    </tr>\n",
       "    <tr>\n",
       "      <th>4</th>\n",
       "      <td>Viernes</td>\n",
       "      <td>300</td>\n",
       "      <td>45</td>\n",
       "    </tr>\n",
       "  </tbody>\n",
       "</table>\n",
       "</div>"
      ],
      "text/plain": [
       "         Dia Calorias Tiempo\n",
       "0      Lunes      420     60\n",
       "1     Martes      380     40\n",
       "2  Miercoles      390     75\n",
       "3     Jueves      490     55\n",
       "4    Viernes      300     45"
      ]
     },
     "execution_count": 29,
     "metadata": {},
     "output_type": "execute_result"
    }
   ],
   "source": [
    "df4=pd.DataFrame({\"Dia\":[\"Lunes\",\"Martes\",\"Miercoles\",\"Jueves\", \"Viernes\"], \"Calorias\":[\"420\",\"380\",\"390\",\"490\",\"300\"],\"Tiempo\":[\"60\",\"40\",\"75\",\"55\",\"45\"]})\n",
    "df4"
   ]
  },
  {
   "cell_type": "markdown",
   "id": "dfd37ccb",
   "metadata": {},
   "source": [
    "B. Calcular la media, mediana y desviación típica de ambas columnas.\n"
   ]
  },
  {
   "cell_type": "code",
   "execution_count": 31,
   "id": "1f1a6e93",
   "metadata": {},
   "outputs": [
    {
     "name": "stdout",
     "output_type": "stream",
     "text": [
      "Media Calorias:  396.0\n",
      "Mediana Calorias:  390.0\n",
      "Desviacion Estandar Calorias:  68.7749954561976\n",
      "Media Tiempo:  55.0\n",
      "Mediana Tiempo:  55.0\n",
      "Desviacion Estandar Tiempo:  13.693063937629153\n"
     ]
    }
   ],
   "source": [
    "df4[\"Calorias\"] = pd.to_numeric(df4[\"Calorias\"])\n",
    "df4[\"Tiempo\"] = pd.to_numeric(df4[\"Tiempo\"])\n",
    "\n",
    "media_calorias = df4[\"Calorias\"].mean()\n",
    "media_tiempo = df4[\"Tiempo\"].mean()\n",
    "\n",
    "mediana_calorias = df4[\"Calorias\"].median()\n",
    "mediana_tiempo = df4[\"Tiempo\"].median()\n",
    "\n",
    "std_calorias = df4[\"Calorias\"].std()\n",
    "std_tiempo = df4[\"Tiempo\"].std()\n",
    "\n",
    "print(\"Media Calorias: \", media_calorias)\n",
    "print(\"Mediana Calorias: \", mediana_calorias)\n",
    "print(\"Desviacion Estandar Calorias: \", std_calorias)\n",
    "print(\"Media Tiempo: \", media_tiempo)\n",
    "print(\"Mediana Tiempo: \", mediana_tiempo)\n",
    "print(\"Desviacion Estandar Tiempo: \", std_tiempo)"
   ]
  },
  {
   "cell_type": "markdown",
   "id": "9d0acef5",
   "metadata": {},
   "source": [
    "C. Añadir otra columna booleana al DataFrame para ver si se ha cumplido el reto de quemar más de 400 calorías por hora. La nueva columna debe generarse aplicando una fórmula a las otras columnas."
   ]
  },
  {
   "cell_type": "code",
   "execution_count": 41,
   "id": "bdf2961a",
   "metadata": {},
   "outputs": [
    {
     "data": {
      "text/html": [
       "<div>\n",
       "<style scoped>\n",
       "    .dataframe tbody tr th:only-of-type {\n",
       "        vertical-align: middle;\n",
       "    }\n",
       "\n",
       "    .dataframe tbody tr th {\n",
       "        vertical-align: top;\n",
       "    }\n",
       "\n",
       "    .dataframe thead th {\n",
       "        text-align: right;\n",
       "    }\n",
       "</style>\n",
       "<table border=\"1\" class=\"dataframe\">\n",
       "  <thead>\n",
       "    <tr style=\"text-align: right;\">\n",
       "      <th></th>\n",
       "      <th>Dia</th>\n",
       "      <th>Calorias</th>\n",
       "      <th>Tiempo</th>\n",
       "      <th>Reto cumplido</th>\n",
       "    </tr>\n",
       "  </thead>\n",
       "  <tbody>\n",
       "    <tr>\n",
       "      <th>0</th>\n",
       "      <td>Lunes</td>\n",
       "      <td>420</td>\n",
       "      <td>60</td>\n",
       "      <td>True</td>\n",
       "    </tr>\n",
       "    <tr>\n",
       "      <th>1</th>\n",
       "      <td>Martes</td>\n",
       "      <td>380</td>\n",
       "      <td>40</td>\n",
       "      <td>False</td>\n",
       "    </tr>\n",
       "    <tr>\n",
       "      <th>2</th>\n",
       "      <td>Miercoles</td>\n",
       "      <td>390</td>\n",
       "      <td>75</td>\n",
       "      <td>False</td>\n",
       "    </tr>\n",
       "    <tr>\n",
       "      <th>3</th>\n",
       "      <td>Jueves</td>\n",
       "      <td>490</td>\n",
       "      <td>55</td>\n",
       "      <td>False</td>\n",
       "    </tr>\n",
       "    <tr>\n",
       "      <th>4</th>\n",
       "      <td>Viernes</td>\n",
       "      <td>300</td>\n",
       "      <td>45</td>\n",
       "      <td>False</td>\n",
       "    </tr>\n",
       "  </tbody>\n",
       "</table>\n",
       "</div>"
      ],
      "text/plain": [
       "         Dia  Calorias  Tiempo  Reto cumplido\n",
       "0      Lunes       420      60           True\n",
       "1     Martes       380      40          False\n",
       "2  Miercoles       390      75          False\n",
       "3     Jueves       490      55          False\n",
       "4    Viernes       300      45          False"
      ]
     },
     "execution_count": 41,
     "metadata": {},
     "output_type": "execute_result"
    }
   ],
   "source": [
    "df4[\"Reto cumplido\"]=(df4[\"Calorias\"].astype(int) > 400) & (df4[\"Tiempo\"].astype(int) >= 60)\n",
    "df4"
   ]
  },
  {
   "cell_type": "markdown",
   "id": "b31e1847",
   "metadata": {},
   "source": [
    "D. Filtrar el DataFrame y devolver otro DataFrame con las filas que cumplan que el número de calorías es mayor de 400.\n"
   ]
  },
  {
   "cell_type": "code",
   "execution_count": 44,
   "id": "d03e267f",
   "metadata": {},
   "outputs": [
    {
     "data": {
      "text/html": [
       "<div>\n",
       "<style scoped>\n",
       "    .dataframe tbody tr th:only-of-type {\n",
       "        vertical-align: middle;\n",
       "    }\n",
       "\n",
       "    .dataframe tbody tr th {\n",
       "        vertical-align: top;\n",
       "    }\n",
       "\n",
       "    .dataframe thead th {\n",
       "        text-align: right;\n",
       "    }\n",
       "</style>\n",
       "<table border=\"1\" class=\"dataframe\">\n",
       "  <thead>\n",
       "    <tr style=\"text-align: right;\">\n",
       "      <th></th>\n",
       "      <th>Dia</th>\n",
       "      <th>Calorias</th>\n",
       "      <th>Tiempo</th>\n",
       "      <th>Reto cumplido</th>\n",
       "    </tr>\n",
       "  </thead>\n",
       "  <tbody>\n",
       "    <tr>\n",
       "      <th>0</th>\n",
       "      <td>Lunes</td>\n",
       "      <td>420</td>\n",
       "      <td>60</td>\n",
       "      <td>True</td>\n",
       "    </tr>\n",
       "    <tr>\n",
       "      <th>3</th>\n",
       "      <td>Jueves</td>\n",
       "      <td>490</td>\n",
       "      <td>55</td>\n",
       "      <td>False</td>\n",
       "    </tr>\n",
       "  </tbody>\n",
       "</table>\n",
       "</div>"
      ],
      "text/plain": [
       "      Dia  Calorias  Tiempo  Reto cumplido\n",
       "0   Lunes       420      60           True\n",
       "3  Jueves       490      55          False"
      ]
     },
     "execution_count": 44,
     "metadata": {},
     "output_type": "execute_result"
    }
   ],
   "source": [
    "df4_filtrado=df4[df4[\"Calorias\"].astype(int) > 400]\n",
    "df4_filtrado"
   ]
  },
  {
   "cell_type": "markdown",
   "id": "4777df1a",
   "metadata": {},
   "source": [
    "\n",
    "E. Añadir otra columna con los porcentajes de días que se ha conseguido el reto y los que no.\n"
   ]
  },
  {
   "cell_type": "code",
   "execution_count": 45,
   "id": "9cfe92cf",
   "metadata": {},
   "outputs": [
    {
     "data": {
      "text/html": [
       "<div>\n",
       "<style scoped>\n",
       "    .dataframe tbody tr th:only-of-type {\n",
       "        vertical-align: middle;\n",
       "    }\n",
       "\n",
       "    .dataframe tbody tr th {\n",
       "        vertical-align: top;\n",
       "    }\n",
       "\n",
       "    .dataframe thead th {\n",
       "        text-align: right;\n",
       "    }\n",
       "</style>\n",
       "<table border=\"1\" class=\"dataframe\">\n",
       "  <thead>\n",
       "    <tr style=\"text-align: right;\">\n",
       "      <th></th>\n",
       "      <th>Dia</th>\n",
       "      <th>Calorias</th>\n",
       "      <th>Tiempo</th>\n",
       "      <th>Reto cumplido</th>\n",
       "      <th>Porcentaje</th>\n",
       "    </tr>\n",
       "  </thead>\n",
       "  <tbody>\n",
       "    <tr>\n",
       "      <th>0</th>\n",
       "      <td>Lunes</td>\n",
       "      <td>420</td>\n",
       "      <td>60</td>\n",
       "      <td>True</td>\n",
       "      <td>105.0</td>\n",
       "    </tr>\n",
       "    <tr>\n",
       "      <th>1</th>\n",
       "      <td>Martes</td>\n",
       "      <td>380</td>\n",
       "      <td>40</td>\n",
       "      <td>False</td>\n",
       "      <td>95.0</td>\n",
       "    </tr>\n",
       "    <tr>\n",
       "      <th>2</th>\n",
       "      <td>Miercoles</td>\n",
       "      <td>390</td>\n",
       "      <td>75</td>\n",
       "      <td>False</td>\n",
       "      <td>97.5</td>\n",
       "    </tr>\n",
       "    <tr>\n",
       "      <th>3</th>\n",
       "      <td>Jueves</td>\n",
       "      <td>490</td>\n",
       "      <td>55</td>\n",
       "      <td>False</td>\n",
       "      <td>122.5</td>\n",
       "    </tr>\n",
       "    <tr>\n",
       "      <th>4</th>\n",
       "      <td>Viernes</td>\n",
       "      <td>300</td>\n",
       "      <td>45</td>\n",
       "      <td>False</td>\n",
       "      <td>75.0</td>\n",
       "    </tr>\n",
       "  </tbody>\n",
       "</table>\n",
       "</div>"
      ],
      "text/plain": [
       "         Dia  Calorias  Tiempo  Reto cumplido  Porcentaje\n",
       "0      Lunes       420      60           True       105.0\n",
       "1     Martes       380      40          False        95.0\n",
       "2  Miercoles       390      75          False        97.5\n",
       "3     Jueves       490      55          False       122.5\n",
       "4    Viernes       300      45          False        75.0"
      ]
     },
     "execution_count": 45,
     "metadata": {},
     "output_type": "execute_result"
    }
   ],
   "source": [
    "df4[\"Calorias\"]=pd.to_numeric(df4[\"Calorias\"])\n",
    "df4[\"Porcentaje\"]=(df4[\"Calorias\"]/400)*100\n",
    "df4"
   ]
  },
  {
   "cell_type": "markdown",
   "id": "d4487074",
   "metadata": {},
   "source": [
    "F. Crear un gráfico donde se  muestre la progresión de las calorías y tiempo durante la semana.\n",
    "\n"
   ]
  },
  {
   "cell_type": "code",
   "execution_count": 60,
   "id": "441081d2",
   "metadata": {},
   "outputs": [
    {
     "data": {
      "image/png": "[encoded data removed]",
      "text/plain": [
       "<Figure size 640x480 with 1 Axes>"
      ]
     },
     "metadata": {},
     "output_type": "display_data"
    }
   ],
   "source": [
    "fig,ax=plt.subplots()\n",
    "df4.plot(x='Dia', y='Calorias',ax=ax, marker='o')\n",
    "df4.plot(x='Dia', y='Tiempo', ax=ax, marker='*')\n",
    "ax.set_xlabel('Día')\n",
    "ax.set_ylabel('Calorías / Tiempo (min)')\n",
    "ax.set_title('Progresión de calorías y tiempo durante la semana')\n",
    "plt.show()"
   ]
  },
  {
   "cell_type": "markdown",
   "id": "61b63ac8",
   "metadata": {},
   "source": [
    "#### Explicacion\n",
    "\n",
    "Creamos el df por medio de un diccionario. Utilizamos la funcion to_numeric() para trabajar con datos numericos y aplicar las funcion de .mean(), .median() y .std() para cada de los calculos e imprimir en pantalla.\n",
    "\n",
    "Para determinar el reto cumplido yo lo entendi como aquella persona que tiene mas de 400 calorias y al menos 60 minutos por lo que solo en el dia Lunes se cumplio el objetivo. \n",
    "\n",
    "Para devolver otro Dataframe con solo las filas que cumplen con mas de 400 calorias tomamos la columna Calorias del df original y la condicion de que sean mayores a 400.\n",
    "\n",
    "Para el porcentaje de calorias tome la misma columna de Calorias y crear una nueva columna llamada Porcentaje donde se muestra el porcentaje de la meta de 400 calorias donde 400 calorias seria el 100%.\n",
    "\n",
    "Para graficar, usamos .subplots debido a que graficamos 2 graficas distintas correspondientes a las calorias y el tiempo aunque las empalmamos sobre la misma.\n"
   ]
  },
  {
   "cell_type": "markdown",
   "id": "2a8a3df9",
   "metadata": {},
   "source": [
    "####  Ejercicio 5\n",
    "El fichero coches.csv contiene información sobre los modelos de coches vendidos en USA durante un determinado año. Se pide:"
   ]
  },
  {
   "cell_type": "markdown",
   "id": "978d43ec",
   "metadata": {},
   "source": [
    "A. Crear un DataFrame a partir del fichero anterior.\n"
   ]
  },
  {
   "cell_type": "code",
   "execution_count": 74,
   "id": "8d209032",
   "metadata": {},
   "outputs": [
    {
     "data": {
      "text/html": [
       "<div>\n",
       "<style scoped>\n",
       "    .dataframe tbody tr th:only-of-type {\n",
       "        vertical-align: middle;\n",
       "    }\n",
       "\n",
       "    .dataframe tbody tr th {\n",
       "        vertical-align: top;\n",
       "    }\n",
       "\n",
       "    .dataframe thead th {\n",
       "        text-align: right;\n",
       "    }\n",
       "</style>\n",
       "<table border=\"1\" class=\"dataframe\">\n",
       "  <thead>\n",
       "    <tr style=\"text-align: right;\">\n",
       "      <th></th>\n",
       "      <th>Marca</th>\n",
       "      <th>Modelo</th>\n",
       "      <th>Tipo</th>\n",
       "      <th>Potencia</th>\n",
       "      <th>Precio</th>\n",
       "    </tr>\n",
       "  </thead>\n",
       "  <tbody>\n",
       "    <tr>\n",
       "      <th>0</th>\n",
       "      <td>Acura</td>\n",
       "      <td>MDX</td>\n",
       "      <td>SUV</td>\n",
       "      <td>265.0</td>\n",
       "      <td>33337.0</td>\n",
       "    </tr>\n",
       "    <tr>\n",
       "      <th>1</th>\n",
       "      <td>Acura</td>\n",
       "      <td>RSX Type S 2dr</td>\n",
       "      <td>Sedan</td>\n",
       "      <td>200.0</td>\n",
       "      <td>21761.0</td>\n",
       "    </tr>\n",
       "    <tr>\n",
       "      <th>2</th>\n",
       "      <td>Acura</td>\n",
       "      <td>TSX 4dr</td>\n",
       "      <td>Sedan</td>\n",
       "      <td>200.0</td>\n",
       "      <td>24647.0</td>\n",
       "    </tr>\n",
       "    <tr>\n",
       "      <th>3</th>\n",
       "      <td>Acura</td>\n",
       "      <td>TL 4dr</td>\n",
       "      <td>Sedan</td>\n",
       "      <td>270.0</td>\n",
       "      <td>30299.0</td>\n",
       "    </tr>\n",
       "    <tr>\n",
       "      <th>4</th>\n",
       "      <td>Acura</td>\n",
       "      <td>3.5 RL 4dr</td>\n",
       "      <td>Sedan</td>\n",
       "      <td>225.0</td>\n",
       "      <td>39014.0</td>\n",
       "    </tr>\n",
       "    <tr>\n",
       "      <th>...</th>\n",
       "      <td>...</td>\n",
       "      <td>...</td>\n",
       "      <td>...</td>\n",
       "      <td>...</td>\n",
       "      <td>...</td>\n",
       "    </tr>\n",
       "    <tr>\n",
       "      <th>423</th>\n",
       "      <td>Volvo</td>\n",
       "      <td>C70 LPT convertible 2dr</td>\n",
       "      <td>Sedan</td>\n",
       "      <td>197.0</td>\n",
       "      <td>38203.0</td>\n",
       "    </tr>\n",
       "    <tr>\n",
       "      <th>424</th>\n",
       "      <td>Volvo</td>\n",
       "      <td>C70 HPT convertible 2dr</td>\n",
       "      <td>Sedan</td>\n",
       "      <td>242.0</td>\n",
       "      <td>40083.0</td>\n",
       "    </tr>\n",
       "    <tr>\n",
       "      <th>425</th>\n",
       "      <td>Volvo</td>\n",
       "      <td>S80 T6 4dr</td>\n",
       "      <td>Sedan</td>\n",
       "      <td>268.0</td>\n",
       "      <td>42573.0</td>\n",
       "    </tr>\n",
       "    <tr>\n",
       "      <th>426</th>\n",
       "      <td>Volvo</td>\n",
       "      <td>V40</td>\n",
       "      <td>Wagon</td>\n",
       "      <td>170.0</td>\n",
       "      <td>24641.0</td>\n",
       "    </tr>\n",
       "    <tr>\n",
       "      <th>427</th>\n",
       "      <td>Volvo</td>\n",
       "      <td>XC70</td>\n",
       "      <td>Wagon</td>\n",
       "      <td>208.0</td>\n",
       "      <td>33112.0</td>\n",
       "    </tr>\n",
       "  </tbody>\n",
       "</table>\n",
       "<p>428 rows × 5 columns</p>\n",
       "</div>"
      ],
      "text/plain": [
       "     Marca                   Modelo   Tipo  Potencia   Precio\n",
       "0    Acura                      MDX    SUV     265.0  33337.0\n",
       "1    Acura           RSX Type S 2dr  Sedan     200.0  21761.0\n",
       "2    Acura                  TSX 4dr  Sedan     200.0  24647.0\n",
       "3    Acura                   TL 4dr  Sedan     270.0  30299.0\n",
       "4    Acura               3.5 RL 4dr  Sedan     225.0  39014.0\n",
       "..     ...                      ...    ...       ...      ...\n",
       "423  Volvo  C70 LPT convertible 2dr  Sedan     197.0  38203.0\n",
       "424  Volvo  C70 HPT convertible 2dr  Sedan     242.0  40083.0\n",
       "425  Volvo               S80 T6 4dr  Sedan     268.0  42573.0\n",
       "426  Volvo                      V40  Wagon     170.0  24641.0\n",
       "427  Volvo                     XC70  Wagon     208.0  33112.0\n",
       "\n",
       "[428 rows x 5 columns]"
      ]
     },
     "execution_count": 74,
     "metadata": {},
     "output_type": "execute_result"
    }
   ],
   "source": [
    "df5=pd.read_csv(\"coches.csv\",sep=\";\")\n",
    "df5\n"
   ]
  },
  {
   "cell_type": "markdown",
   "id": "8f5436b5",
   "metadata": {},
   "source": [
    "B. Eliminar las filas con valores desconocidos y mostrar el número de filas del DataFrame resultante.\n"
   ]
  },
  {
   "cell_type": "code",
   "execution_count": 75,
   "id": "dd026cea",
   "metadata": {},
   "outputs": [],
   "source": [
    "df5_filtrado=df5.copy()"
   ]
  },
  {
   "cell_type": "code",
   "execution_count": 79,
   "id": "6abda3be",
   "metadata": {},
   "outputs": [
    {
     "data": {
      "text/plain": [
       "428"
      ]
     },
     "execution_count": 79,
     "metadata": {},
     "output_type": "execute_result"
    }
   ],
   "source": [
    "len(df5_filtrado)"
   ]
  },
  {
   "cell_type": "code",
   "execution_count": 82,
   "id": "68f0489a",
   "metadata": {},
   "outputs": [
    {
     "data": {
      "text/plain": [
       "421"
      ]
     },
     "execution_count": 82,
     "metadata": {},
     "output_type": "execute_result"
    }
   ],
   "source": [
    "df5_filtrado=df5_filtrado.dropna()\n",
    "len(df5_filtrado)"
   ]
  },
  {
   "cell_type": "markdown",
   "id": "7ad9b2f8",
   "metadata": {},
   "source": [
    "C. Crear una columna con el precio en euros (cambio 1$ = 0.94€)\n"
   ]
  },
  {
   "cell_type": "code",
   "execution_count": 83,
   "id": "c79b9224",
   "metadata": {},
   "outputs": [
    {
     "data": {
      "text/html": [
       "<div>\n",
       "<style scoped>\n",
       "    .dataframe tbody tr th:only-of-type {\n",
       "        vertical-align: middle;\n",
       "    }\n",
       "\n",
       "    .dataframe tbody tr th {\n",
       "        vertical-align: top;\n",
       "    }\n",
       "\n",
       "    .dataframe thead th {\n",
       "        text-align: right;\n",
       "    }\n",
       "</style>\n",
       "<table border=\"1\" class=\"dataframe\">\n",
       "  <thead>\n",
       "    <tr style=\"text-align: right;\">\n",
       "      <th></th>\n",
       "      <th>Marca</th>\n",
       "      <th>Modelo</th>\n",
       "      <th>Tipo</th>\n",
       "      <th>Potencia</th>\n",
       "      <th>Precio</th>\n",
       "      <th>Precio en euros</th>\n",
       "    </tr>\n",
       "  </thead>\n",
       "  <tbody>\n",
       "    <tr>\n",
       "      <th>0</th>\n",
       "      <td>Acura</td>\n",
       "      <td>MDX</td>\n",
       "      <td>SUV</td>\n",
       "      <td>265.0</td>\n",
       "      <td>33337.0</td>\n",
       "      <td>31336.78</td>\n",
       "    </tr>\n",
       "    <tr>\n",
       "      <th>1</th>\n",
       "      <td>Acura</td>\n",
       "      <td>RSX Type S 2dr</td>\n",
       "      <td>Sedan</td>\n",
       "      <td>200.0</td>\n",
       "      <td>21761.0</td>\n",
       "      <td>20455.34</td>\n",
       "    </tr>\n",
       "    <tr>\n",
       "      <th>2</th>\n",
       "      <td>Acura</td>\n",
       "      <td>TSX 4dr</td>\n",
       "      <td>Sedan</td>\n",
       "      <td>200.0</td>\n",
       "      <td>24647.0</td>\n",
       "      <td>23168.18</td>\n",
       "    </tr>\n",
       "    <tr>\n",
       "      <th>3</th>\n",
       "      <td>Acura</td>\n",
       "      <td>TL 4dr</td>\n",
       "      <td>Sedan</td>\n",
       "      <td>270.0</td>\n",
       "      <td>30299.0</td>\n",
       "      <td>28481.06</td>\n",
       "    </tr>\n",
       "    <tr>\n",
       "      <th>4</th>\n",
       "      <td>Acura</td>\n",
       "      <td>3.5 RL 4dr</td>\n",
       "      <td>Sedan</td>\n",
       "      <td>225.0</td>\n",
       "      <td>39014.0</td>\n",
       "      <td>36673.16</td>\n",
       "    </tr>\n",
       "    <tr>\n",
       "      <th>...</th>\n",
       "      <td>...</td>\n",
       "      <td>...</td>\n",
       "      <td>...</td>\n",
       "      <td>...</td>\n",
       "      <td>...</td>\n",
       "      <td>...</td>\n",
       "    </tr>\n",
       "    <tr>\n",
       "      <th>423</th>\n",
       "      <td>Volvo</td>\n",
       "      <td>C70 LPT convertible 2dr</td>\n",
       "      <td>Sedan</td>\n",
       "      <td>197.0</td>\n",
       "      <td>38203.0</td>\n",
       "      <td>35910.82</td>\n",
       "    </tr>\n",
       "    <tr>\n",
       "      <th>424</th>\n",
       "      <td>Volvo</td>\n",
       "      <td>C70 HPT convertible 2dr</td>\n",
       "      <td>Sedan</td>\n",
       "      <td>242.0</td>\n",
       "      <td>40083.0</td>\n",
       "      <td>37678.02</td>\n",
       "    </tr>\n",
       "    <tr>\n",
       "      <th>425</th>\n",
       "      <td>Volvo</td>\n",
       "      <td>S80 T6 4dr</td>\n",
       "      <td>Sedan</td>\n",
       "      <td>268.0</td>\n",
       "      <td>42573.0</td>\n",
       "      <td>40018.62</td>\n",
       "    </tr>\n",
       "    <tr>\n",
       "      <th>426</th>\n",
       "      <td>Volvo</td>\n",
       "      <td>V40</td>\n",
       "      <td>Wagon</td>\n",
       "      <td>170.0</td>\n",
       "      <td>24641.0</td>\n",
       "      <td>23162.54</td>\n",
       "    </tr>\n",
       "    <tr>\n",
       "      <th>427</th>\n",
       "      <td>Volvo</td>\n",
       "      <td>XC70</td>\n",
       "      <td>Wagon</td>\n",
       "      <td>208.0</td>\n",
       "      <td>33112.0</td>\n",
       "      <td>31125.28</td>\n",
       "    </tr>\n",
       "  </tbody>\n",
       "</table>\n",
       "<p>421 rows × 6 columns</p>\n",
       "</div>"
      ],
      "text/plain": [
       "     Marca                   Modelo   Tipo  Potencia   Precio  Precio en euros\n",
       "0    Acura                      MDX    SUV     265.0  33337.0         31336.78\n",
       "1    Acura           RSX Type S 2dr  Sedan     200.0  21761.0         20455.34\n",
       "2    Acura                  TSX 4dr  Sedan     200.0  24647.0         23168.18\n",
       "3    Acura                   TL 4dr  Sedan     270.0  30299.0         28481.06\n",
       "4    Acura               3.5 RL 4dr  Sedan     225.0  39014.0         36673.16\n",
       "..     ...                      ...    ...       ...      ...              ...\n",
       "423  Volvo  C70 LPT convertible 2dr  Sedan     197.0  38203.0         35910.82\n",
       "424  Volvo  C70 HPT convertible 2dr  Sedan     242.0  40083.0         37678.02\n",
       "425  Volvo               S80 T6 4dr  Sedan     268.0  42573.0         40018.62\n",
       "426  Volvo                      V40  Wagon     170.0  24641.0         23162.54\n",
       "427  Volvo                     XC70  Wagon     208.0  33112.0         31125.28\n",
       "\n",
       "[421 rows x 6 columns]"
      ]
     },
     "execution_count": 83,
     "metadata": {},
     "output_type": "execute_result"
    }
   ],
   "source": [
    "df5_filtrado[\"Precio en euros\"]=df5_filtrado[\"Precio\"]*0.94\n",
    "df5_filtrado"
   ]
  },
  {
   "cell_type": "markdown",
   "id": "e8eb22bc",
   "metadata": {},
   "source": [
    "D. Mostrar las 10 últimas filas del DataFrame.\n"
   ]
  },
  {
   "cell_type": "code",
   "execution_count": 85,
   "id": "6a5e8309",
   "metadata": {},
   "outputs": [
    {
     "data": {
      "text/html": [
       "<div>\n",
       "<style scoped>\n",
       "    .dataframe tbody tr th:only-of-type {\n",
       "        vertical-align: middle;\n",
       "    }\n",
       "\n",
       "    .dataframe tbody tr th {\n",
       "        vertical-align: top;\n",
       "    }\n",
       "\n",
       "    .dataframe thead th {\n",
       "        text-align: right;\n",
       "    }\n",
       "</style>\n",
       "<table border=\"1\" class=\"dataframe\">\n",
       "  <thead>\n",
       "    <tr style=\"text-align: right;\">\n",
       "      <th></th>\n",
       "      <th>Marca</th>\n",
       "      <th>Modelo</th>\n",
       "      <th>Tipo</th>\n",
       "      <th>Potencia</th>\n",
       "      <th>Precio</th>\n",
       "      <th>Precio en euros</th>\n",
       "    </tr>\n",
       "  </thead>\n",
       "  <tbody>\n",
       "    <tr>\n",
       "      <th>418</th>\n",
       "      <td>Volvo</td>\n",
       "      <td>S60 2.5 4dr</td>\n",
       "      <td>Sedan</td>\n",
       "      <td>208.0</td>\n",
       "      <td>29916.0</td>\n",
       "      <td>28121.04</td>\n",
       "    </tr>\n",
       "    <tr>\n",
       "      <th>419</th>\n",
       "      <td>Volvo</td>\n",
       "      <td>S60 T5 4dr</td>\n",
       "      <td>Sedan</td>\n",
       "      <td>247.0</td>\n",
       "      <td>32902.0</td>\n",
       "      <td>30927.88</td>\n",
       "    </tr>\n",
       "    <tr>\n",
       "      <th>420</th>\n",
       "      <td>Volvo</td>\n",
       "      <td>S60 R 4dr</td>\n",
       "      <td>Sedan</td>\n",
       "      <td>300.0</td>\n",
       "      <td>35382.0</td>\n",
       "      <td>33259.08</td>\n",
       "    </tr>\n",
       "    <tr>\n",
       "      <th>421</th>\n",
       "      <td>Volvo</td>\n",
       "      <td>S80 2.9 4dr</td>\n",
       "      <td>Sedan</td>\n",
       "      <td>208.0</td>\n",
       "      <td>35542.0</td>\n",
       "      <td>33409.48</td>\n",
       "    </tr>\n",
       "    <tr>\n",
       "      <th>422</th>\n",
       "      <td>Volvo</td>\n",
       "      <td>S80 2.5T 4dr</td>\n",
       "      <td>Sedan</td>\n",
       "      <td>194.0</td>\n",
       "      <td>35688.0</td>\n",
       "      <td>33546.72</td>\n",
       "    </tr>\n",
       "    <tr>\n",
       "      <th>423</th>\n",
       "      <td>Volvo</td>\n",
       "      <td>C70 LPT convertible 2dr</td>\n",
       "      <td>Sedan</td>\n",
       "      <td>197.0</td>\n",
       "      <td>38203.0</td>\n",
       "      <td>35910.82</td>\n",
       "    </tr>\n",
       "    <tr>\n",
       "      <th>424</th>\n",
       "      <td>Volvo</td>\n",
       "      <td>C70 HPT convertible 2dr</td>\n",
       "      <td>Sedan</td>\n",
       "      <td>242.0</td>\n",
       "      <td>40083.0</td>\n",
       "      <td>37678.02</td>\n",
       "    </tr>\n",
       "    <tr>\n",
       "      <th>425</th>\n",
       "      <td>Volvo</td>\n",
       "      <td>S80 T6 4dr</td>\n",
       "      <td>Sedan</td>\n",
       "      <td>268.0</td>\n",
       "      <td>42573.0</td>\n",
       "      <td>40018.62</td>\n",
       "    </tr>\n",
       "    <tr>\n",
       "      <th>426</th>\n",
       "      <td>Volvo</td>\n",
       "      <td>V40</td>\n",
       "      <td>Wagon</td>\n",
       "      <td>170.0</td>\n",
       "      <td>24641.0</td>\n",
       "      <td>23162.54</td>\n",
       "    </tr>\n",
       "    <tr>\n",
       "      <th>427</th>\n",
       "      <td>Volvo</td>\n",
       "      <td>XC70</td>\n",
       "      <td>Wagon</td>\n",
       "      <td>208.0</td>\n",
       "      <td>33112.0</td>\n",
       "      <td>31125.28</td>\n",
       "    </tr>\n",
       "  </tbody>\n",
       "</table>\n",
       "</div>"
      ],
      "text/plain": [
       "     Marca                   Modelo   Tipo  Potencia   Precio  Precio en euros\n",
       "418  Volvo              S60 2.5 4dr  Sedan     208.0  29916.0         28121.04\n",
       "419  Volvo               S60 T5 4dr  Sedan     247.0  32902.0         30927.88\n",
       "420  Volvo                S60 R 4dr  Sedan     300.0  35382.0         33259.08\n",
       "421  Volvo              S80 2.9 4dr  Sedan     208.0  35542.0         33409.48\n",
       "422  Volvo             S80 2.5T 4dr  Sedan     194.0  35688.0         33546.72\n",
       "423  Volvo  C70 LPT convertible 2dr  Sedan     197.0  38203.0         35910.82\n",
       "424  Volvo  C70 HPT convertible 2dr  Sedan     242.0  40083.0         37678.02\n",
       "425  Volvo               S80 T6 4dr  Sedan     268.0  42573.0         40018.62\n",
       "426  Volvo                      V40  Wagon     170.0  24641.0         23162.54\n",
       "427  Volvo                     XC70  Wagon     208.0  33112.0         31125.28"
      ]
     },
     "execution_count": 85,
     "metadata": {},
     "output_type": "execute_result"
    }
   ],
   "source": [
    "df5_filtrado.tail(10)"
   ]
  },
  {
   "cell_type": "markdown",
   "id": "75ff71e4",
   "metadata": {},
   "source": [
    "E. Mostrar el número de marcas de coches que contiene el DataFrame.\n"
   ]
  },
  {
   "cell_type": "code",
   "execution_count": 98,
   "id": "fbff1210",
   "metadata": {},
   "outputs": [
    {
     "name": "stdout",
     "output_type": "stream",
     "text": [
      "Existen 38 marcas diferentes\n"
     ]
    }
   ],
   "source": [
    "num_marcas=df5_filtrado[\"Marca\"].nunique()\n",
    "print(f\"Existen {num_marcas} marcas diferentes\")"
   ]
  },
  {
   "cell_type": "markdown",
   "id": "869bbdcd",
   "metadata": {},
   "source": [
    "F. Mostrar el número de modelos de cada marca que hay en el DataFrame, de mayor a menor frecuencia.\n"
   ]
  },
  {
   "cell_type": "code",
   "execution_count": 103,
   "id": "99f16c42",
   "metadata": {},
   "outputs": [
    {
     "name": "stdout",
     "output_type": "stream",
     "text": [
      "Numero de modelos por marca\n",
      "Marca\n",
      "Toyota           28\n",
      "Chevrolet        27\n",
      "Mercedes-Benz    26\n",
      "Ford             23\n",
      "BMW              19\n",
      "Audi             19\n",
      "Nissan           17\n",
      "Honda            16\n",
      "Volkswagen       15\n",
      "Chrysler         14\n",
      "Dodge            13\n",
      "Mitsubishi       13\n",
      "Volvo            12\n",
      "Hyundai          12\n",
      "Jaguar           12\n",
      "Kia              11\n",
      "Mazda            11\n",
      "Pontiac          10\n",
      "Subaru           10\n",
      "Lexus            10\n",
      "Lincoln           9\n",
      "Buick             9\n",
      "Mercury           9\n",
      "Cadillac          8\n",
      "Suzuki            8\n",
      "Infiniti          8\n",
      "GMC               8\n",
      "Saturn            8\n",
      "Saab              7\n",
      "Porsche           7\n",
      "Acura             7\n",
      "Oldsmobile        3\n",
      "Land Rover        3\n",
      "MINI              2\n",
      "Scion             2\n",
      "Isuzu             2\n",
      "Jeep              2\n",
      "Hummer            1\n",
      "Name: Modelo, dtype: int64\n"
     ]
    }
   ],
   "source": [
    "num_modelos=df5_filtrado.groupby(\"Marca\")[\"Modelo\"].count()\n",
    "sort_num_modelos=num_modelos.sort_values(ascending=False)\n",
    "print(\"Numero de modelos por marca\")\n",
    "print(sort_num_modelos)"
   ]
  },
  {
   "cell_type": "markdown",
   "id": "73f4acb5",
   "metadata": {},
   "source": [
    "G. Mostrar cuál es la marca y el modelo del coche más caro.\n"
   ]
  },
  {
   "cell_type": "code",
   "execution_count": 125,
   "id": "c02fefc5",
   "metadata": {},
   "outputs": [
    {
     "name": "stdout",
     "output_type": "stream",
     "text": [
      "El coche mas caro pertenece a la marca Porsche y al modelo 911 GT2 2dr\n"
     ]
    }
   ],
   "source": [
    "df5_ordenado_precio=df5_filtrado.sort_values(by=\"Precio\", ascending=False)\n",
    "\n",
    "marca_mas_caro=df5_ordenado_precio.iloc[0][\"Marca\"]\n",
    "modelo_mas_caro=df5_ordenado_precio.iloc[0][\"Modelo\"]\n",
    "\n",
    "print(f\"El coche mas caro pertenece a la marca {marca_mas_caro} y al modelo {modelo_mas_caro}\")"
   ]
  },
  {
   "cell_type": "markdown",
   "id": "e7341288",
   "metadata": {},
   "source": [
    "H. Mostrar el precio medio en euros de los coches agrupando por marca y ordenando de menor a mayor precio.\n"
   ]
  },
  {
   "cell_type": "code",
   "execution_count": 113,
   "id": "313798f9",
   "metadata": {},
   "outputs": [
    {
     "name": "stdout",
     "output_type": "stream",
     "text": [
      "Marca\n",
      "Scion            12135.40\n",
      "Kia              13996.94\n",
      "Suzuki           14937.78\n",
      "Hyundai          15073.21\n",
      "Saturn           15103.92\n",
      "MINI             15779.78\n",
      "Honda            18773.09\n",
      "Mazda            18980.91\n",
      "Toyota           19078.17\n",
      "Jeep             19856.56\n",
      "Oldsmobile       20444.06\n",
      "Mitsubishi       20524.68\n",
      "Ford             20635.82\n",
      "Pontiac          20878.53\n",
      "Subaru           21351.44\n",
      "Nissan           21617.62\n",
      "Chevrolet        22617.17\n",
      "Dodge            22710.47\n",
      "Isuzu            23141.86\n",
      "Chrysler         23778.11\n",
      "Mercury          24118.10\n",
      "GMC              24712.01\n",
      "Buick            26183.60\n",
      "Volkswagen       27901.71\n",
      "Infiniti         30907.20\n",
      "Volvo            32163.20\n",
      "Saab             33483.07\n",
      "Acura            36275.41\n",
      "Lincoln          36787.63\n",
      "Audi             36970.30\n",
      "BMW              37391.86\n",
      "Lexus            37501.86\n",
      "Land Rover       39339.94\n",
      "Hummer           43066.10\n",
      "Cadillac         43641.26\n",
      "Jaguar           52732.51\n",
      "Mercedes-Benz    53066.11\n",
      "Porsche          69243.09\n",
      "Name: Precio en euros, dtype: float64\n"
     ]
    }
   ],
   "source": [
    "media_marcas=df5_filtrado.groupby(\"Marca\")[\"Precio en euros\"].mean()\n",
    "media_marcas_ordenado=media_marcas.sort_values()\n",
    "print(media_marcas_ordenado.round(2))"
   ]
  },
  {
   "cell_type": "markdown",
   "id": "c366aee7",
   "metadata": {},
   "source": [
    "I. Gráfica el diagrama de barras del porcentaje de modelos de cada marca.\n"
   ]
  },
  {
   "cell_type": "code",
   "execution_count": 118,
   "id": "ba394125",
   "metadata": {},
   "outputs": [
    {
     "data": {
      "image/png": "[encoded data removed]",
      "text/plain": [
       "<Figure size 640x480 with 1 Axes>"
      ]
     },
     "metadata": {},
     "output_type": "display_data"
    }
   ],
   "source": [
    "porcentaje_marcas=sort_num_modelos/sort_num_modelos.sum()*100\n",
    "\n",
    "plt.bar(porcentaje_marcas.index,porcentaje_marcas)\n",
    "plt.title(\"Proporción de modelos por marcas en %\")\n",
    "plt.xticks(rotation=90)\n",
    "plt.ylabel(\"% de modelos por marca\")\n",
    "plt.show()"
   ]
  },
  {
   "cell_type": "markdown",
   "id": "d158d8a8",
   "metadata": {},
   "source": [
    "J. Gráfica el diagrama de dispersión de la potencia y el precio.\n"
   ]
  },
  {
   "cell_type": "code",
   "execution_count": 122,
   "id": "f5119fa6",
   "metadata": {
    "scrolled": true
   },
   "outputs": [
    {
     "data": {
      "image/png": "[encoded data removed]",
      "text/plain": [
       "<Figure size 640x480 with 1 Axes>"
      ]
     },
     "metadata": {},
     "output_type": "display_data"
    }
   ],
   "source": [
    "plt.scatter(df5_filtrado[\"Potencia\"], df5_filtrado[\"Precio\"])\n",
    "plt.title(\"Diagrama de dispersión potencia y precio\")\n",
    "plt.xlabel(\"Potencia\")\n",
    "plt.ylabel(\"Precio\")\n",
    "plt.show()"
   ]
  },
  {
   "cell_type": "markdown",
   "id": "f00849aa",
   "metadata": {},
   "source": [
    "#### Explicacion\n",
    "Primeramente, creamos una copia del dataFrama original y lo limpiamos por medio de la funcion .dropna resultando en 7 filas menos. Despues crear la columna de Precio en Euros utilzando el valor en Precio por 0.94 que es el factor de conversion. Funcion .tail para tomar los ultimos valores. Funcion nunique() para determinar cuantas marcas existen en total y sin repetirlas. \n",
    "\n",
    "Para el inciso F utilizamos funcion groupby para agrupar los mismo elementos que pertenecen a la misma marca y contar los modelos por medio de .count para cada marca. Para la marca y modelo mas caro hicimos una funcion para ordenar de mayo a menor costo (.sort_values) y simplemente tomar los datos del elemento de hasta arriba. Despues, misma funcion .groupby para agrupar elementos de la misma marca y tomar la media .mean() para el precio en euros.\n",
    "\n",
    "Para las graficas se usa plt.bar para grafico de barras y plt.scatter  para diagrama de dispersion."
   ]
  },
  {
   "cell_type": "code",
   "execution_count": null,
   "id": "3a9d6539",
   "metadata": {},
   "outputs": [],
   "source": []
  }
 ],
 "metadata": {
  "kernelspec": {
   "display_name": "Python 3 (ipykernel)",
   "language": "python",
   "name": "python3"
  },
  "language_info": {
   "codemirror_mode": {
    "name": "ipython",
    "version": 3
   },
   "file_extension": ".py",
   "mimetype": "text/x-python",
   "name": "python",
   "nbconvert_exporter": "python",
   "pygments_lexer": "ipython3",
   "version": "3.9.13"
  }
 },
 "nbformat": 4,
 "nbformat_minor": 5
}
