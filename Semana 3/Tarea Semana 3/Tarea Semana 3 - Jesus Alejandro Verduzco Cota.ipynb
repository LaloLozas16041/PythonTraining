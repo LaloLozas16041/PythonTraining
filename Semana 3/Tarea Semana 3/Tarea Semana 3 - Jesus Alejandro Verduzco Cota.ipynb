{
 "cells": [
  {
   "cell_type": "markdown",
   "id": "56450d0f",
   "metadata": {},
   "source": [
    "# TAREA SEMANA  3: FUNDAMENTOS DE PYTHON\n",
    "## Nombre : Jesus Alejandro Verduzco Cota\n"
   ]
  },
  {
   "cell_type": "markdown",
   "id": "a49fb6c4",
   "metadata": {},
   "source": [
    "### Ejercicio 1\n",
    "Escribir dos funciones que simulan una calculadora científica que permita calcular el seno, coseno, tangente, exponencial y logaritmo neperiano o natural (logaritmo en base euler). \n",
    "\n"
   ]
  },
  {
   "cell_type": "markdown",
   "id": "6f7805ae",
   "metadata": {},
   "source": [
    " - A. La función uno preguntará al usuario el intervalo donde quiere aplicar la función matemática y la función a aplicar, y mostrará por pantalla una tabla donde la primera columna será los valores del intervalo dado (x) y la columna 2 tendrá los resultados de el resultado de aplicar la función a este intervalo (y).\n"
   ]
  },
  {
   "cell_type": "code",
   "execution_count": null,
   "id": "e610966a",
   "metadata": {},
   "outputs": [],
   "source": [
    "import numpy as np\n",
    "import pandas as pd\n",
    "\n",
    "def calculo_funciones():\n",
    "    func = int(input(f'''Indique el número correspondiente a la función a aplicar:\n",
    "        1. Seno\n",
    "        2. Coseno\n",
    "        3. Tangente\n",
    "        4. Exponencial\n",
    "        5. Logaritmo natural.\\n'''))\n",
    "    inicio = float(input('Ingrese el inicio del intervalo: '))\n",
    "    fin = float(input('Ingrese el fin del intervalo: '))\n",
    "    x = np.linspace(inicio,fin,20)\n",
    "\n",
    "    # Decisión de que funcion aplicar\n",
    "    if func == 1:\n",
    "        operacion = 'Seno'\n",
    "        y = np.sin(x)\n",
    "        result_df = pd.DataFrame({'x':x, 'y':y})\n",
    "    elif func == 2:\n",
    "        operacion = 'Coseno'\n",
    "        y = np.cos(x)\n",
    "        result_df = pd.DataFrame({'x':x, 'y':y})\n",
    "    elif func == 3:\n",
    "        operacion = 'Tangente'\n",
    "        y = np.tan(x)\n",
    "        result_df = pd.DataFrame({'x':x, 'y':y})    \n",
    "    elif func == 4:\n",
    "        operacion = 'Exponencial'\n",
    "        y = np.exp(x)\n",
    "        result_df = pd.DataFrame({'x':x, 'y':y})\n",
    "    elif func == 5:\n",
    "        operacion = 'Logaritmo natural'\n",
    "        y = np.log(x)\n",
    "        result_df = pd.DataFrame({'x':x, 'y':y})\n",
    "    else:\n",
    "        print('Opción no válida')\n",
    "    print(f'Resultados de la función {operacion}.')\n",
    "    print(result_df)\n",
    "    return result_df, operacion"
   ]
  },
  {
   "cell_type": "markdown",
   "id": "c05b37a2",
   "metadata": {},
   "source": [
    "#### Explicación 1A\n",
    "La funcion no recibe parámetros de entrada al momento de llamarla, si no que pregunta al usuario los datos de interés ya iniciada. Se le solicita al usuario el inicio y fin del rango de datos para la variable independiente (x) y la función matemática que se aplicará. Despues de esto, solo se verifica qué opción de operación escogió el usuario y se introduce el rango x a la función de numpy que hace esta operación. Al final se acomodan los datos en un DataFrame para su impresió. La funcion regresa en una tupla el dataframe con los resultados y el nombre de la función matemática que se aplicó."
   ]
  },
  {
   "cell_type": "markdown",
   "id": "e996190d",
   "metadata": {},
   "source": [
    "- B. La función dos graficará con matplotlib el resultado de función anterior y la mostrará en pantalla. Recuerden poner los títulos ejes y demás configuraciones de las gráficas para que queden de la mejor manera posible."
   ]
  },
  {
   "cell_type": "code",
   "execution_count": null,
   "id": "fbf42237",
   "metadata": {},
   "outputs": [],
   "source": [
    "import matplotlib.pyplot as plt\n",
    "\n",
    "def graficar_funcion(result_df):\n",
    "\n",
    "    fig, ax = plt.subplots()\n",
    "    ax.plot(result_df[0]['x'], result_df[0]['y'])\n",
    "\n",
    "    ax.set(title=f'Gráfica de función {result_df[1]}',\n",
    "           xlabel='X',\n",
    "           ylabel='Y');\n"
   ]
  },
  {
   "cell_type": "code",
   "execution_count": null,
   "id": "42fff792",
   "metadata": {},
   "outputs": [],
   "source": [
    "graficar_funcion(calculo_funciones())"
   ]
  },
  {
   "cell_type": "markdown",
   "id": "dec82fc2",
   "metadata": {},
   "source": [
    "#### Explicación 1B\n",
    "Conociendo lo básico de matplotlib resulta sencillo esta función, la cual toma como argumento la tupla que resulta de la función 1A. Se toma el dataframe y se grafican sus dos columnas. Seguido se pone el titulo usando el segundo elemento de la tupla y se etiquetan los ejes."
   ]
  },
  {
   "cell_type": "markdown",
   "id": "6b99b628",
   "metadata": {},
   "source": [
    "### Ejercicio 2\n",
    "Escribir un programa para ver los beneficios de una empresa en un periodo de años.\n",
    "El programa debe cumplir los siguientes requisitos:\n",
    "\n",
    "    A. El programa tiene que preguntar al usuario por un año inicial y otro final, y después preguntar por los ingresos y egresos de cada año desde el año inicial hasta el año final.\n",
    "        a. Debe garantizar que por lo menos haya 5 años entre el año inicial y el final.\n",
    "\n",
    "    B. Con los datos introducidos se deben crear un dataframe, con las columnas fecha, ingresos y egresos.\n",
    "\n",
    "    C. El programa debe generar otra columna con el beneficio de cada año (ingresos menos egresos) y mostrarla por pantalla.\n",
    "\n",
    "    D. El programa debe crear otra columna llamada ganancia la cuál indique para cada año si ha habido beneficios o no de manera booleana y mostrarla por pantalla.\n",
    "    \n",
    "    E. Finalmente el programa debe mostrar por pantalla la lista de los años con pérdidas.\n"
   ]
  },
  {
   "cell_type": "code",
   "execution_count": null,
   "id": "64299883",
   "metadata": {
    "scrolled": true
   },
   "outputs": [],
   "source": [
    "import pandas as pd\n",
    "# A. El programa tiene que preguntar al usuario por un año inicial y otro final, y después preguntar por los ingresos y egresos de cada año desde el año inicial hasta el año final.\n",
    "#     a. Debe garantizar que por lo menos haya 5 años entre el año inicial y el final.\n",
    "\n",
    "# Inicio seccion A\n",
    "dif_años = 0\n",
    "while dif_años < 5:\n",
    "    año_i = int(input('¿Cuál es el año de inicio? '))\n",
    "    año_f = int(input('¿Cuál es el año final? '))\n",
    "    dif_años = año_f-año_i\n",
    "    if dif_años < 5:\n",
    "        print('Tiene que haber al menos 5 años entre el año de inicio y el final. Intente de nuevo.')\n",
    "        \n",
    "año_i_ingr = float(input('Ingresos del año inicial: '))\n",
    "año_i_egr  = float(input('Egresos del año inicial: '))\n",
    "\n",
    "año_f_ingr = float(input('Ingresos del año final: '))\n",
    "año_f_egr  = float(input('Egresos del año final: '))\n",
    "# Fin seccion A\n",
    "\n"
   ]
  },
  {
   "cell_type": "markdown",
   "id": "e209907c",
   "metadata": {},
   "source": [
    "#### Explicación 2A\n",
    "Para poder con cumplir con la verificación de que la diferencia entre año final e inicial sea 5 o más, pongo un ciclo while, el cual solicitará el input de año inicial y final del usuario una y otra vez hasta que la diferencia no sea menor de 5. Después de esto, solo se solicita al usuario los ingresos y egresos de los años introducidos"
   ]
  },
  {
   "cell_type": "code",
   "execution_count": null,
   "id": "2f3ddc95",
   "metadata": {},
   "outputs": [],
   "source": [
    "# B. Con los datos introducidos se deben crear un dataframe, con las columnas fecha, ingresos y egresos.\n",
    "# Inicio seccion B\n",
    "df_ing_egr = pd.DataFrame({'Fecha':[año_i,año_f], 'Ingresos':[año_i_ingr,año_f_ingr], 'Egresos':[año_i_egr,año_f_egr] })\n",
    "df_ing_egr\n",
    "# Fin seccion B\n"
   ]
  },
  {
   "cell_type": "markdown",
   "id": "cf7e03ec",
   "metadata": {},
   "source": [
    "#### Explicación 2B\n",
    "Esta sección solo se usa para crear el dataframe y mostrarlo. La creación del dataframe se hace organizando los datos del usuario en un diccionario dónde las llaves son los nombres de las columnas y los valores son los registros de dicha columna."
   ]
  },
  {
   "cell_type": "code",
   "execution_count": null,
   "id": "0d673ac8",
   "metadata": {},
   "outputs": [],
   "source": [
    "# C. El programa debe generar otra columna con el beneficio de cada año (ingresos menos egresos) y mostrarla por pantalla.\n",
    "\n",
    "# Inicio seccion C\n",
    "df_ing_egr['Beneficio'] = df_ing_egr['Ingresos']-df_ing_egr['Egresos']\n",
    "df_ing_egr\n",
    "# Fin seccion C"
   ]
  },
  {
   "cell_type": "markdown",
   "id": "f9e8e0ff",
   "metadata": {},
   "source": [
    "#### Explicación 2C\n",
    "En esta sección solo se agrega una columna llamada Beneficio y sus filas serán el resultado de la columna 'Ingresos' menos la columna 'Egresos'."
   ]
  },
  {
   "cell_type": "code",
   "execution_count": null,
   "id": "db19db9b",
   "metadata": {},
   "outputs": [],
   "source": [
    "# D. El programa debe crear otra columna llamada ganancia la cuál indique para cada año si ha \n",
    "#    habido beneficios o no de manera booleana y mostrarla por pantalla\n",
    "\n",
    "# Inicio seccion D\n",
    "df_ing_egr['Ganancia'] = df_ing_egr['Beneficio'] > 0\n",
    "df_ing_egr\n",
    "# Fin seccion D\n"
   ]
  },
  {
   "cell_type": "markdown",
   "id": "8456d4b0",
   "metadata": {},
   "source": [
    "#### Explicación 2D\n",
    "De nuevo se agrega una columna llamada ganancia que mostrará True si el valor de la columna 'Beneficio' es mayor que cero. En caso contrario mostrará False (hubo pérdidas)."
   ]
  },
  {
   "cell_type": "code",
   "execution_count": null,
   "id": "eeaebbb6",
   "metadata": {},
   "outputs": [],
   "source": [
    "# E. Finalmente el programa debe mostrar por pantalla la lista de los años con pérdidas.\n",
    "\n",
    "# Inicio seccion E\n",
    "años_df = df_ing_egr[['Fecha']]\n",
    "años_df\n",
    "años_df[~df_ing_egr['Ganancia']]\n",
    "# Fin seccion E"
   ]
  },
  {
   "cell_type": "markdown",
   "id": "64b3f9de",
   "metadata": {},
   "source": [
    "#### Explicación 2E\n",
    "Por último se tiene que mostrar los años que cuenten con pérdidas. Ya contamos con la columna ganancia que tiene valores True cuando hay ganancias y False cuando hay pérdidas, por lo se usa para filtrar los años con pérdidas usando un operador de negación que invierte los valores booleanos."
   ]
  },
  {
   "cell_type": "markdown",
   "id": "35795a16",
   "metadata": {},
   "source": [
    "### Ejercicio 3\n",
    "El fichero horas-trabajo.csv contiene el número de horas mensuales trabajadas por los empleados de una empresa durante el primer cuatrimestre. Crear un programa que realice las siguientes operaciones utilizando la librería Pandas:"
   ]
  },
  {
   "cell_type": "code",
   "execution_count": null,
   "id": "4e14ae5d",
   "metadata": {},
   "outputs": [],
   "source": [
    "# A. Crea una columna con el número total de horas trabajadas para cada operador.\n",
    "import pandas as pd\n",
    "horas_trabajo_df = pd.read_csv('data//horas-trabajo.csv',sep=';')\n",
    "horas_trabajo_df['Total de horas'] = horas_trabajo_df.fillna(0)['Enero'] + horas_trabajo_df.fillna(0)['Febrero']+ horas_trabajo_df.fillna(0)['Marzo'] + horas_trabajo_df.fillna(0)['Abril']\n",
    "# horas_trabajo_df['Total de horas'] = horas_trabajo_df['Enero'] + horas_trabajo_df['Febrero']+ horas_trabajo_df['Marzo'] + horas_trabajo_df['Abril']\n",
    "\n",
    "horas_trabajo_df"
   ]
  },
  {
   "cell_type": "markdown",
   "id": "c54e1832",
   "metadata": {},
   "source": [
    "#### Explicación 3A\n",
    "Se importa pandas y se carga el csv como dataframa, indicandole que el separador es ';'. Después de esto es necesario sumar las columnas de los meses que tienen las horas trabajadas para poder crear la columna de total. Al principio me mostró Nan en las filas donde habia al menos un Nan, esto lo solucioné aplicando fillna con valor de cero a los elementos que se sumarían, sin rellenar el dataframe original."
   ]
  },
  {
   "cell_type": "code",
   "execution_count": null,
   "id": "32ce7ab2",
   "metadata": {},
   "outputs": [],
   "source": [
    "# B. Muestra cual es el promedio de horas trabajadas en total en la empresa durante el mes Marzo\n",
    "prom_marzo = horas_trabajo_df['Marzo'].mean()\n",
    "print(f'Promedio de horas trabajadas en Marzo {prom_marzo}.')"
   ]
  },
  {
   "cell_type": "markdown",
   "id": "1d8a973a",
   "metadata": {},
   "source": [
    "#### Explicación 3B\n",
    "Se selecciona la columna de Marzo y se le aplica mean(), que calcula el promedio de dicha columna y por defecto no toma en cuenta los valores nulos"
   ]
  },
  {
   "cell_type": "code",
   "execution_count": null,
   "id": "31055699",
   "metadata": {},
   "outputs": [],
   "source": [
    "# C. Muestra cuántos operadores hay por cada departamento de la empresa.\n",
    "# --------------------------------------------------------------\n",
    "\n",
    "horas_trabajo_df.groupby('Departamento')['Id'].count()"
   ]
  },
  {
   "cell_type": "code",
   "execution_count": null,
   "id": "81726208",
   "metadata": {},
   "outputs": [],
   "source": [
    "horas_trabajo_df.groupby('Departamento')['Id'].count().plot(kind='bar',figsize=(3,3),ylabel='No. de operadores');"
   ]
  },
  {
   "cell_type": "markdown",
   "id": "c9d29cb3",
   "metadata": {},
   "source": [
    "#### Explicación 3C\n",
    "Se usa groupby sobre la columna departamento para que agrupe los datos, después se le indica con corchetes la columna donde se aplicará la operación, que en este caso es contar (count()). Así se muestra los operadores por departamento.\n",
    "\n",
    "Agregado .plot() se muestra esta información visualmente."
   ]
  },
  {
   "cell_type": "code",
   "execution_count": null,
   "id": "292db904",
   "metadata": {},
   "outputs": [],
   "source": [
    "# D. Muestra el número de empleados que han trabajado todos los meses, es decir, que tienen un número de horas todos los meses del cuatrimestre.\n",
    "trabajadores_todos_meses = horas_trabajo_df.notna().all(axis=1).sum()\n",
    "print(f'Número de empleados que han trabajado todos los meses: {trabajadores_todos_meses}.')"
   ]
  },
  {
   "cell_type": "markdown",
   "id": "067fa3e7",
   "metadata": {},
   "source": [
    "#### Explicación 3D\n",
    "Primero, el método notna() crea un dataframe booleano con True dónde no haya NAN en el dataframe original. Luego, se utiliza el método all() para comprobar si todos los valores de cada fila del DataFrame booleano son True. Finalmente, se utiliza el método sum() para contar el número de filas donde todos los valores son True, lo que corresponde al número de filas sin valores NaN."
   ]
  },
  {
   "cell_type": "markdown",
   "id": "5042335d",
   "metadata": {},
   "source": [
    "### Ejercicio 4\n",
    "Crear un programa utilizando la librería Pandas y Matplotlib que realice lo siguiente:"
   ]
  },
  {
   "cell_type": "code",
   "execution_count": null,
   "id": "73608d96",
   "metadata": {},
   "outputs": [],
   "source": [
    "# A. Crear el siguiente DataFrame indexado:\n",
    "\n",
    "#          Dia    Calorias    Tiempo\n",
    "#         --------------------------\n",
    "#         Lunes    420         60\n",
    "#        Martes    380         40\n",
    "#       Miercoles  390         75\n",
    "#        Jueves    490         55\n",
    "#        Viernes   300         45\n",
    "\n",
    "import pandas as pd\n",
    "df_calorias = pd.DataFrame({'Día':['Lunes','Martes','Miercoles','Jueves','Viernes'],\n",
    "                            'Calorias': [420,380,390,490,300],\n",
    "                            'Tiempo': [60,40,75,55,45]})\n",
    "df_calorias"
   ]
  },
  {
   "cell_type": "markdown",
   "id": "7be3b491",
   "metadata": {},
   "source": [
    "#### Explicación 4A\n",
    "Para crear el DataFrame hay que importar pandas y a la función pd.DataFrame() pasarle un diccionario dónde las llaves son los nombres de las columnas y los valores serán los registros."
   ]
  },
  {
   "cell_type": "code",
   "execution_count": null,
   "id": "d942ae0b",
   "metadata": {},
   "outputs": [],
   "source": [
    "# B. Calcular la media, mediana y desviación típica de ambas columnas.\n",
    "\n",
    "print(f'Media, mediana y desviación típica de la columna Calorías: {df_calorias[\"Calorias\"].mean()}, {df_calorias[\"Calorias\"].median()} y {round(df_calorias[\"Calorias\"].std(),2)}.')\n",
    "print(f'Media, mediana y desviación típica de la columna Tiempo: {df_calorias[\"Tiempo\"].mean()}, {df_calorias[\"Tiempo\"].median()} y {round(df_calorias[\"Tiempo\"].std(),2)}.')\n"
   ]
  },
  {
   "cell_type": "markdown",
   "id": "62aaea8a",
   "metadata": {},
   "source": [
    "#### Explicación 4B\n",
    "Para este inciso solo se deben aplicar las funciones mean(), median() y std() a las columnas de interés."
   ]
  },
  {
   "cell_type": "code",
   "execution_count": null,
   "id": "f40ea8c3",
   "metadata": {
    "scrolled": false
   },
   "outputs": [],
   "source": [
    "# C. Añadir otra columna booleana al DataFrame para ver si se ha cumplido el reto de quemar más de 400 calorías por hora. \n",
    "#    La nueva columna debe generarse aplicando una fórmula a las otras columnas. \n",
    "df_calorias['Reto cumplido'] = ( df_calorias['Calorias'] / (df_calorias['Tiempo']/60) ) > 400\n",
    "df_calorias"
   ]
  },
  {
   "cell_type": "markdown",
   "id": "e58b1d2e",
   "metadata": {},
   "source": [
    "#### Explicación 4C\n",
    "Primero es necesario calcular cuántas calorías se quemaron por hora, por lo que se divide la columna Calorias entre la columna Tiempo ya convertida en horas, porque el tiempo esta dado en minutos. Después se compara para ver si estos resultados son mayores que 400, en caso de serlo mostrará True para esa fila. Esta columna booleana se agrega al dataframe con el nombre de 'Reto cumplido'."
   ]
  },
  {
   "cell_type": "code",
   "execution_count": null,
   "id": "adf88c8d",
   "metadata": {
    "scrolled": true
   },
   "outputs": [],
   "source": [
    "# D. Filtrar el DataFrame y devolver otro DataFrame con las filas pares que cumplan que el número de calorías es mayor de 400.\n",
    "\n",
    "filas_pares = df_calorias.loc[range(0,len(df_calorias),2)]\n",
    "filas_pares_400 = filas_pares[filas_pares['Calorias']>400]\n",
    "filas_pares_400"
   ]
  },
  {
   "cell_type": "markdown",
   "id": "b62c3e30",
   "metadata": {},
   "source": [
    "#### Explicación 4D\n",
    "Comienzo filtrando las filas pares (0,2 y 4) y guardando este dataframe en filas_pares. Después creo el dataframe filas_pares_400 removiendo de filas_pares las filas que no tengan más de 400 calorias en la columna de Calorías. Podemos ver que solo la fila 0 es fila par con valor de calorías mayor de 400."
   ]
  },
  {
   "cell_type": "code",
   "execution_count": null,
   "id": "174aacf7",
   "metadata": {
    "scrolled": false
   },
   "outputs": [],
   "source": [
    "# E. Añadir otra columna con los porcentajes de días que se ha conseguido el reto y los que no.\n",
    "# Slack Caro: porcentaje es que tanto lo cumplio si cumplio la mitad de las calorias seria 50 , si cumplio todas seria 100 y si cumplio mas el valor sera mayor a 100\n",
    "\n",
    "df_calorias['Porcentaje de reto']= round((( df_calorias['Calorias'] / (df_calorias['Tiempo']/60) ) / 400 ) * 100,2)\n",
    "df_calorias"
   ]
  },
  {
   "cell_type": "markdown",
   "id": "d7be3286",
   "metadata": {},
   "source": [
    "#### Explicación 4E\n",
    "El reto es quemar más de 400 calorias por hora, entonces se calcula de nuevo cuántas calorías por hora se quemaron cada día , se divide entre 400 y se multiplica por 100 para obtener el porcentaje de cumplimiento del reto."
   ]
  },
  {
   "cell_type": "code",
   "execution_count": null,
   "id": "5ef4d552",
   "metadata": {
    "scrolled": true
   },
   "outputs": [],
   "source": [
    "# F. Crear un gráfico donde se  muestre la progresión de las calorías y tiempo durante la semana.\n",
    "\n",
    "fig, ax = plt.subplots(nrows=2,ncols=1,figsize=(10,5))\n",
    "ax[0].plot(df_calorias['Día'],df_calorias['Calorias'])\n",
    "ax[0].set(ylabel='Calorías')\n",
    "ax[0].grid()\n",
    "ax[1].plot(df_calorias['Día'],df_calorias['Tiempo'],color='r')\n",
    "ax[1].set(ylabel='Minutos');\n",
    "ax[1].grid()\n"
   ]
  },
  {
   "cell_type": "markdown",
   "id": "d656c2d9",
   "metadata": {},
   "source": [
    "#### Explicación 4F\n",
    "Se grafica a modo de subplots las progresiones de calorías y minutos para tener separados los valores que manejan diferentes unidades y escalas"
   ]
  },
  {
   "cell_type": "markdown",
   "id": "163688fe",
   "metadata": {},
   "source": [
    "### Ejercicio 5\n",
    "El fichero coches.csv contiene información sobre los modelos de coches vendidos en USA durante un determinado año. Se pide:\n",
    "\n"
   ]
  },
  {
   "cell_type": "code",
   "execution_count": null,
   "id": "737330cc",
   "metadata": {
    "scrolled": false
   },
   "outputs": [],
   "source": [
    "# A. Crear un DataFrame a partir del fichero anterior.\n",
    "import pandas as pd\n",
    "coches_df = pd.read_csv('data//coches.csv',sep=';')\n",
    "coches_df"
   ]
  },
  {
   "cell_type": "markdown",
   "id": "0e5f5a22",
   "metadata": {},
   "source": [
    "#### Explicación 5A\n",
    "Se importa pandas y se carga el archivo desde la carpeta local, el separador es ';'."
   ]
  },
  {
   "cell_type": "code",
   "execution_count": null,
   "id": "cbcef182",
   "metadata": {
    "scrolled": true
   },
   "outputs": [],
   "source": [
    "# B. Eliminar las filas con valores desconocidos y mostrar el número de filas del DataFrame resultante.\n",
    "coches_df_nonan = coches_df.dropna()\n",
    "print(f'Número de filas después de quitar valores nulos: {len(coches_df_nonan)}.')"
   ]
  },
  {
   "cell_type": "markdown",
   "id": "020fd449",
   "metadata": {},
   "source": [
    "#### Explicación 5B\n",
    "Se usa dropna() para quitar las filas que contengan valores nulos y se guarda en una nueva variable."
   ]
  },
  {
   "cell_type": "code",
   "execution_count": null,
   "id": "db6c8f5b",
   "metadata": {
    "scrolled": true
   },
   "outputs": [],
   "source": [
    "# C. Crear una columna con el precio en euros (cambio 1$ = 0.94€)\n",
    "coches_df_nonan['Precio €'] = coches_df_nonan['Precio'] * 0.94\n",
    "coches_df_nonan.head()\n"
   ]
  },
  {
   "cell_type": "markdown",
   "id": "47ea4f7c",
   "metadata": {},
   "source": [
    "#### Explicación 5C\n",
    "Para crear esta nueva columna solo se multiplica la columna actual con el Precio por el factor de conversión 0.94 ."
   ]
  },
  {
   "cell_type": "code",
   "execution_count": null,
   "id": "86e0abc2",
   "metadata": {
    "scrolled": false
   },
   "outputs": [],
   "source": [
    "# D. Mostrar las 10 últimas filas del DataFrame.\n",
    "coches_df_nonan.tail(10)"
   ]
  },
  {
   "cell_type": "markdown",
   "id": "550bdac1",
   "metadata": {},
   "source": [
    "#### Explicación 5D\n",
    "Con la funcion tail() y agregando el valor 10 podemos ver las últimas 10 filas del dataframe."
   ]
  },
  {
   "cell_type": "code",
   "execution_count": null,
   "id": "7b428856",
   "metadata": {},
   "outputs": [],
   "source": [
    "# E. Mostrar el número de marcas de coches que contiene el DataFrame.\n",
    "marcas=coches_df_nonan['Marca'].unique()\n",
    "\n",
    "print(f'Número de marcas en el dataframe: {len(marcas)}.')"
   ]
  },
  {
   "cell_type": "markdown",
   "id": "8d846c95",
   "metadata": {},
   "source": [
    "#### Explicación 5E\n",
    "Con la función unique() podemos obtener un array que contiene todas las marcas en la columna 'Marca'. Después se usa la función len() para conocer la cantidad de elementos de este array."
   ]
  },
  {
   "cell_type": "code",
   "execution_count": null,
   "id": "9b885b53",
   "metadata": {
    "scrolled": true
   },
   "outputs": [],
   "source": [
    "# F. Mostrar el número de modelos de cada marca que hay en el DataFrame, de mayor a menor frecuencia.\n",
    "coches_df_nonan.groupby('Marca')['Modelo'].nunique().sort_values(ascending=False)"
   ]
  },
  {
   "cell_type": "markdown",
   "id": "c4a37731",
   "metadata": {},
   "source": [
    "#### Explicación 5F\n",
    "Para esta sección hay que agrupar por marca primero, seguido seleccionar la columna Modelo, el metodo nunique() regresa el número de valores únicos por fila. Con sort_values() se ordena de forma descendente los datos."
   ]
  },
  {
   "cell_type": "code",
   "execution_count": null,
   "id": "3a998dd0",
   "metadata": {
    "scrolled": false
   },
   "outputs": [],
   "source": [
    "# G. Mostrar cuál es la marca y el modelo del coche más caro.\n",
    "coches_df_nonan[coches_df_nonan['Precio']==coches_df_nonan['Precio'].max()]"
   ]
  },
  {
   "cell_type": "markdown",
   "id": "20d16ba9",
   "metadata": {},
   "source": [
    "#### Explicación 5G\n",
    "Con la funcion max() se obtiene el valor mayor en la columna de Precio, después se hace una comparación booleana con toda la columna Precio para encontrar la fila del valor máximo."
   ]
  },
  {
   "cell_type": "code",
   "execution_count": null,
   "id": "ebb566ec",
   "metadata": {
    "scrolled": true
   },
   "outputs": [],
   "source": [
    "# H. Mostrar el precio medio en euros de los coches agrupando por marca y \n",
    "#    ordenando de menor a mayor precio.\n",
    "coches_df_nonan.groupby('Marca')['Precio €'].mean().sort_values(ascending=True)"
   ]
  },
  {
   "cell_type": "markdown",
   "id": "261ebbdb",
   "metadata": {},
   "source": [
    "#### Explicación 5H\n",
    "Primero agrupamos por marca, seleccionamos la columna 'Precio €' y le aplicamos la operación de promedio. Con ayuda de sort_values ordenamos de menor a mayor.\n"
   ]
  },
  {
   "cell_type": "code",
   "execution_count": null,
   "id": "c364d517",
   "metadata": {
    "scrolled": true
   },
   "outputs": [],
   "source": [
    "# I. Grafica el diagrama de barras del porcentaje de modelos de cada marca. (?)\n",
    "porcentaje_modelos = ( coches_df_nonan.groupby('Marca')['Modelo'].nunique() / coches_df_nonan.groupby('Marca')['Modelo'].nunique().sum() )*100\n",
    "porcentaje_modelos.sort_values().plot(kind='bar',ylabel='Porcentaje')\n",
    "plt.grid()"
   ]
  },
  {
   "cell_type": "markdown",
   "id": "283e6a0f",
   "metadata": {},
   "source": [
    "#### Explicación 5I\n",
    "Para graficar el \"el porcentaje de modelos de cada marca\" en un diagrama de barras, primero obtuve el número de modelos que tiene cada marca en este dataframe, cada uno de estos valores se dividen entre el total de modelos y se multiplica por 100. Por ultimo se ordenaron los valores de forma ascendente. Con esto se muestra en una gráfica de barras, del total de modelos que hay en el dataframe, qué porcentaje le pertenece a cada marca."
   ]
  },
  {
   "cell_type": "code",
   "execution_count": null,
   "id": "ca8d4d2b",
   "metadata": {
    "scrolled": true
   },
   "outputs": [],
   "source": [
    "# J. Gráfica el diagrama de dispersión de la potencia y el precio.\n",
    "coches_df_nonan.plot(kind='scatter',x='Potencia',y='Precio',title='Potencia vs. Precio');"
   ]
  },
  {
   "cell_type": "markdown",
   "id": "1f3d76a0",
   "metadata": {},
   "source": [
    "#### Explicación 5J\n",
    "De forma sencilla podemos hacer esta gráfica, solo agregando .plot al dataframe y especificando las columnas a usar como ejes."
   ]
  }
 ],
 "metadata": {
  "kernelspec": {
   "display_name": "Python 3 (ipykernel)",
   "language": "python",
   "name": "python3"
  },
  "language_info": {
   "codemirror_mode": {
    "name": "ipython",
    "version": 3
   },
   "file_extension": ".py",
   "mimetype": "text/x-python",
   "name": "python",
   "nbconvert_exporter": "python",
   "pygments_lexer": "ipython3",
   "version": "3.11.3"
  }
 },
 "nbformat": 4,
 "nbformat_minor": 5
}
