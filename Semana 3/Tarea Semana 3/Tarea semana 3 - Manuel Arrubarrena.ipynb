{
 "cells": [
  {
   "cell_type": "markdown",
   "metadata": {},
   "source": [
    "## TAREA 3: FUNDAMENTOS DE PYTHON\n",
    "### NOMBRE: Manuel Arrubarrena"
   ]
  },
  {
   "cell_type": "markdown",
   "metadata": {},
   "source": [
    "### EJERCICIO 1:\n",
    "Escribir dos funciones que simulan una calculadora científica que permita calcular el seno, coseno, tangente, exponencial y logaritmo neperiano o natural (logaritmo en base euler). \n",
    "La función uno preguntará al usuario el intervalo donde quiere aplicar la función matemática y la función a aplicar, y mostrará por pantalla una tabla donde la primera columna será los valores del intervalo dado (x) y la columna 2 tendrá los resultados de el resultado de aplicar la función a este intervalo (y).\n",
    "La función dos graficara con matplotlib el resultado de función anterior y la mostrará en pantalla. Recuerden poner los títulos ejes y demás configuraciones de las gráficas para que queden de la mejor manera posible."
   ]
  },
  {
   "cell_type": "code",
   "execution_count": null,
   "metadata": {},
   "outputs": [],
   "source": [
    "import pandas as pd\n",
    "import numpy as np\n",
    "import matplotlib.pyplot as plt\n",
    "import math \n",
    "\n",
    "def calcu():\n",
    "    print('Dame el inicio del rango')\n",
    "    ini = float(input())\n",
    "    print('Dame el fin del rango')\n",
    "    fini = float(input())\n",
    "    print('Dame el incremento del rango, o el step')\n",
    "    ste = float(input())\n",
    "    interv = np.arange(ini, fini, ste)\n",
    "    print('Dame la función a generar, en minúsculas y con su nombre completo')\n",
    "    funi = input()\n",
    "    vali, gradi,radianes1 = [], [], []\n",
    "    seni, cosi, tani, espi, logi = [], [], [], [], []\n",
    "    for y in interv:\n",
    "        gradi.append(y)\n",
    "        radianes = (y*math.pi)/180\n",
    "        seni.append(math.sin(radianes))\n",
    "        cosi.append(math.cos(radianes))\n",
    "        tani.append(math.tan(radianes))\n",
    "        espi.append(math.exp(radianes))\n",
    "        logi.append(math.log(radianes))\n",
    "        radianes1.append(radianes)\n",
    "    if funi == 'seno':\n",
    "        df1 = pd.DataFrame(radianes1, columns =['Radianes'])\n",
    "        df1['Values'] = seni\n",
    "    elif funi == 'coseno' :\n",
    "        df1 = pd.DataFrame(radianes1, columns =['Radianes'])\n",
    "        df1['Values'] = cosi\n",
    "    elif funi == 'tangente' :\n",
    "        df1 = pd.DataFrame(radianes1, columns =['Radianes'])\n",
    "        df1['Values'] = tani\n",
    "    elif funi == 'exponencial' :\n",
    "        df1 = pd.DataFrame(radianes1, columns =['Radianes'])\n",
    "        df1['Values'] = espi\n",
    "    elif funi == 'logaritmo' :\n",
    "        df1 = pd.DataFrame(radianes1, columns =['Radianes'])\n",
    "        df1['Values'] = logi\n",
    "    else: df1 = 'No es una funcion válida'\n",
    "    return df1\n",
    "#calcu()\n",
    "def grafica_calc():\n",
    "    df = calcu()\n",
    "    xg = df['Radianes']\n",
    "    yg = df['Values']\n",
    "    plt.plot(xg, yg)\n",
    "    plt.title('Gráfico de función deseada')\n",
    "    plt.xlabel('Radianes')\n",
    "    plt.ylabel('Valores')\n",
    "    plt.show()\n",
    "    return \n",
    "\n",
    "#grafica_calc()"
   ]
  },
  {
   "cell_type": "markdown",
   "metadata": {},
   "source": [
    "### EXPLICACION\n",
    "Fue difícil ir definiendo en función de lo deseado, pero al final pude unir las listas para hacer un dataframe y graficarlo con las especificaciones deseadas"
   ]
  },
  {
   "cell_type": "markdown",
   "metadata": {},
   "source": [
    "### EJERCICIO 2\n",
    "Escribir un programa para ver los beneficios de una empresa en un periodo de años.\n",
    "El programa debe cumplir los siguientes requisitos:\n",
    "\n",
    "El programa tiene que preguntar al usuario por un año inicial y otro final, y después preguntar por los ingresos y egresos de cada año desde el año inicial hasta el año final.\n",
    "Debe garantizar que por lo menos haya 5 años entre el año inicial y el final.\n",
    "Con los datos introducidos se deben crear un dataframe, con las columnas fecha, ingresos y egresos.\n",
    "El programa debe generar otra columna con el beneficio de cada año (ingresos menos egresos) y mostrarla por pantalla.\n",
    "El programa debe crear otra columna llamada ganancia la cuál indique para cada año si ha habido beneficios o no de manera booleana y mostrarla por pantalla.\n",
    "Finalmente el programa debe mostrar por pantalla la lista de los años con pérdidas."
   ]
  },
  {
   "cell_type": "code",
   "execution_count": null,
   "metadata": {},
   "outputs": [],
   "source": [
    "import pandas as pd\n",
    "import numpy as np\n",
    "import matplotlib.pyplot as plt\n",
    "import math \n",
    "\n",
    "def ganancias():\n",
    "    print('Dame el año inicial')\n",
    "    inic = int(input())\n",
    "    print('Dame el año final')\n",
    "    finc = int(input())\n",
    "    while (finc - inic) < 5 :\n",
    "        print('La diferencia de años debe de ser mayor a 5')\n",
    "        print('Dame el año inicial')\n",
    "        inic = int(input())\n",
    "        print('Dame el año final')\n",
    "        finc = int(input())\n",
    "    dif = finc - inic\n",
    "    ing = []\n",
    "    egr = []\n",
    "    fech = []\n",
    "    rango = np.arange(0, dif+1, 1)\n",
    "    for d in rango:\n",
    "        print('Dame el ingreso del año ', d+inic)\n",
    "        ingr = float(input())\n",
    "        ing.append(ingr)\n",
    "        print('Dame el egreso del año ', d+inic)\n",
    "        egre = float(input())\n",
    "        egr.append(egre)\n",
    "        fech.append(d+inic)\n",
    "    df = pd.DataFrame(fech, columns =['Fechas'])\n",
    "    df['Ingresos'] = ing\n",
    "    df['Egresos'] = egr\n",
    "    df['Beneficio'] = df['Ingresos']-df['Egresos']\n",
    "    df['Ganancia'] = df['Ingresos'] > df['Egresos']\n",
    "    aperd = []\n",
    "    for j in range(0, len(df)):\n",
    "        if df['Egresos'][j] > df['Ingresos'][j] :\n",
    "            aperd.append(df['Fechas'][j])\n",
    "    return print(df), print('Los años de pérdida son: ', aperd)\n",
    "#ganancias()"
   ]
  },
  {
   "cell_type": "markdown",
   "metadata": {},
   "source": [
    "### EXPLICACION\n",
    "tuve que ir declarando las variables y jugar con las posiciones dentro de las columnas con referencias, ya después los valores se fueron dando sin mucho problema, armando un dataFrame con los valores solicitados"
   ]
  },
  {
   "cell_type": "markdown",
   "metadata": {},
   "source": [
    "### EJERCICIO 3\n",
    "El fichero horas-trabajo.csv contiene el número de horas mensuales trabajadas por los empleados de una empresa durante el primer cuatrimestre. Crear un programa que realice las siguientes operaciones utilizando la librería Pandas:\n",
    "Crea una columna con el número total de horas trabajadas para cada operador.\n",
    "Muestra cual es el promedio de horas trabajadas en total en la empresa durante el mes Marzo\n",
    "Muestra cuántos operadores hay por cada departamento de la empresa.\n",
    "Muestra el número de empleados que han trabajado todos los meses, es decir, que tienen un número de horas todos los meses del cuatrimestre."
   ]
  },
  {
   "cell_type": "code",
   "execution_count": null,
   "metadata": {},
   "outputs": [],
   "source": [
    "import pandas as pd\n",
    "import numpy as np\n",
    "import matplotlib.pyplot as plt\n",
    "import math \n",
    "\n",
    "df_i = pd.read_csv('horas-trabajo.csv')\n",
    "#df_i.head(10)\n",
    "df_i = df_i.fillna(0)\n",
    "df_i['H_Totales'] = df_i['Enero']+df_i['Febrero']+df_i['Marzo']+df_i['Abril']\n",
    "h_marzo = round(df_i['Marzo'].mean(),2)\n",
    "print('Las horas promedio trabajadas en Marzo son: ', h_marzo)\n",
    "departamentos = df_i.groupby('Departamento')['Id'].count()\n",
    "print('Cantidad de trabajadores por departamento', departamentos)\n",
    "todos = []\n",
    "for i in range(0, len(df_i)):\n",
    "    busc = list(df_i.iloc[i, 2:5])\n",
    "    if 0 not in busc :\n",
    "        todos.append(df_i['Id'][i])\n",
    "\n",
    "print('La lista de los operadores que trabajaron todos los cuatrimestres es: ', todos)\n",
    "#df_i"
   ]
  },
  {
   "cell_type": "markdown",
   "metadata": {},
   "source": [
    "### EXPLICACION\n",
    "ME costó un poco de trabajo localizarme en rangos dentro del dataframe, pero después de entrender un poco mejor como funciona iloc, pude har el resto del problema"
   ]
  },
  {
   "cell_type": "markdown",
   "metadata": {},
   "source": [
    "### EJERCICIO 4\n",
    "Crear un programa utilizando la librería Pandas y Matplotlib que realice lo siguiente:"
   ]
  },
  {
   "cell_type": "markdown",
   "metadata": {},
   "source": [
    "Data frame del ejemplo:"
   ]
  },
  {
   "cell_type": "code",
   "execution_count": null,
   "metadata": {},
   "outputs": [],
   "source": [
    "import pandas as pd\n",
    "import numpy as np\n",
    "import matplotlib.pyplot as plt\n",
    "import math \n",
    "\n",
    "dict1 = {\n",
    "    'Dia' : ['Lunes', 'Martes', 'Miercoles', 'Jueves', 'Viernes'],\n",
    "    'Calorias' : [420, 380, 390, 490, 300],\n",
    "    'Tiempo' : [60, 40, 75, 55, 45]\n",
    "}\n",
    "dt = pd.DataFrame(dict1)\n",
    "#dt.head(10)"
   ]
  },
  {
   "cell_type": "markdown",
   "metadata": {},
   "source": [
    "Calcular la media, mediana y desviación típica de ambas columnas.\n",
    "Añadir otra columna booleana al DataFrame para ver si se ha cumplido el reto de quemar más de 400 calorías por hora. La nueva columna debe generarse aplicando una fórmula a las otras columnas. \n",
    "Filtrar el DataFrame y devolver otro DataFrame con las filas pares que cumplan que el número de calorías es mayor de 400.\n",
    "Añadir otra columna con los porcentajes de días que se ha conseguido el reto y los que no.\n",
    "Crear un gráfico donde se  muestre la progresión de las calorías y tiempo durante la semana."
   ]
  },
  {
   "cell_type": "code",
   "execution_count": null,
   "metadata": {},
   "outputs": [],
   "source": [
    "### MEDIA, MEDIANA, DESVIACIÓN TIPICA \n",
    "meda_cal = np.mean(dt['Calorias'])\n",
    "meda_tiempo = np.mean(dt['Tiempo'])\n",
    "print('media calorias: ', meda_cal, 'media tiempo: ', meda_tiempo)\n",
    "medi_cal = np.median(dt['Calorias'])\n",
    "medi_tiempo = np.median(dt['Tiempo'])\n",
    "print('mediana calorias: ', medi_cal, 'mediana tiempo: ', medi_tiempo)\n",
    "desv_cal = round(np.std(dt['Calorias']), 2)\n",
    "desv_tiempo = round(np.std(dt['Tiempo']), 2)\n",
    "print('desviacion típica calorias: ', desv_cal, 'desviacion típica tiempo: ', desv_tiempo)\n",
    "\n",
    "### BOOLEANA \n",
    "tiempo_H = round((dt['Tiempo'] / 60), 2)\n",
    "valor_reto = dt['Calorias'] / tiempo_H\n",
    "dt['Reto'] = valor_reto >= 400\n",
    "dt\n",
    "\n",
    "### DATAFRAME PAR\n",
    "fil_par = np.arange(0, len(dt), 2)\n",
    "dt_par = dt.iloc[fil_par]\n",
    "\n",
    "#[['Dia', 'Calorias', 'Tiempo']]\n",
    "dt_par = dt_par[dt_par['Calorias'] > 400]\n",
    "dt_par\n",
    "\n",
    "#### COLUMNA CON PORCENTAGES DE DIAS\n",
    "cant_dias = dt['Dia'].count()\n",
    "cant_reto = sum(dt['Reto'])\n",
    "perc = round((cant_reto / cant_dias) * 100, 2)\n",
    "#print(cant_dias, cant_reto, perc,'%')\n",
    "dt['Porcentaje'] = perc\n",
    "dt\n",
    "\n",
    "### CALORIAS Y TIEMPO\n",
    "x = dt['Dia']\n",
    "y = dt['Tiempo']\n",
    "z = dt['Calorias']\n",
    "plt.subplot(2,1,1)\n",
    "plt.plot(x, y)\n",
    "plt.title(\"Progresión en la Semana\")\n",
    "plt.xlabel('Dias')\n",
    "plt.ylabel('Tiempo')\n",
    "plt.subplot(2,1,2)\n",
    "plt.plot(x, z, color = 'tab:orange')\n",
    "#plt.title(\"Progresión en la Semana\")\n",
    "plt.xlabel('Dias')\n",
    "plt.ylabel('Calorias')\n",
    "plt.show()"
   ]
  },
  {
   "cell_type": "markdown",
   "metadata": {},
   "source": [
    "### EXPLICACION\n",
    "Usando Mascaras pude ir dando forma a la dataframe tal como quería. Para hacer las gráficas, pude hacerlo pero me gustaría tener más control con el área donde se ponen las gráficas, aunque jugando pude encontrar algunas maneras de hacerlo"
   ]
  },
  {
   "cell_type": "markdown",
   "metadata": {},
   "source": [
    "### EJERCICIO 5\n",
    "El fichero coches.csv contiene información sobre los modelos de coches vendidos en USA durante un determinado año. Se pide:\n",
    "\n",
    "Crear un DataFrame a partir del fichero anterior.\n",
    "Eliminar las filas con valores desconocidos y mostrar el número de filas del DataFrame resultante.\n",
    "Crear una columna con el precio en euros (cambio 1$ = 0.94€)\n",
    "Mostrar las 10 últimas filas del DataFrame.\n",
    "Mostrar el número de marcas de coches que contiene el DataFrame.\n",
    "Mostrar el número de modelos de cada marca que hay en el DataFrame, de mayor a menor frecuencia.\n",
    "Mostrar cuál es la marca y el modelo del coche más caro.\n",
    "Mostrar el precio medio en euros de los coches agrupando por marca y ordenando de menor a mayor precio.\n",
    "Gráfica el diagrama de barras del porcentaje de modelos de cada marca.\n",
    "Gráfica el diagrama de dispersión de la potencia y el precio."
   ]
  },
  {
   "cell_type": "code",
   "execution_count": null,
   "metadata": {},
   "outputs": [],
   "source": [
    "import pandas as pd\n",
    "import numpy as np\n",
    "import matplotlib.pyplot as plt\n",
    "import math \n",
    "\n",
    "## DATAFRAME\n",
    "df_f = pd.read_csv('coches.csv')\n",
    "\n",
    "## ELIMINAR NA\n",
    "df_n = df_f.dropna().copy()\n",
    "print(len(df_n))\n",
    "\n",
    "### COLUMNA CON EUROS y ULTIMAS FILAS\n",
    "df_n['Euros'] = df_n['Precio']* 0.94\n",
    "df_n.tail(10)\n",
    "\n",
    "## MARCAS DE COCHES QUE HAY\n",
    "print(df_n['Marca'].value_counts())\n",
    "\n",
    "## NUMERO DE MODELOS DE CADA UNO DE MAYOR A MENOR\n",
    "marcas = df_n.groupby('Marca')\n",
    "marcas['Modelo'].count().sort_values(ascending = False)\n",
    "#print(df_n.sort_values(by=['Marca'], ascending=False))\n",
    "\n",
    "## MARCA Y MODELO DE COCHE MAS CARO\n",
    "df_p = df_n.sort_values(by=['Precio'], ascending=False).copy()\n",
    "print('El coche mas caro es: ')\n",
    "print(df_p[['Marca', 'Modelo']].head(1))\n",
    "\n",
    "## precio medio en euros de los coches agrupando por marca y ordenando de menor a mayor precio.\n",
    "print('precio medio en euros de los coches')\n",
    "marcas['Euros'].mean().round(2).sort_values()\n",
    "#df_n.tail(10)\n"
   ]
  },
  {
   "cell_type": "code",
   "execution_count": null,
   "metadata": {},
   "outputs": [],
   "source": [
    "## Gráfica el diagrama de barras del porcentaje de modelos de cada marca.\n",
    "\n",
    "((marcas['Modelo'].count().round(2)/df_n['Modelo'].count())*100).round(2).plot(kind='bar', figsize=(20, 10))\n",
    "#(marcas['Modelo'].value_counts(normalize=True)*100).round(2)\n",
    "#plt.bar(((marcas['Modelo'].count().round(2)/df_n['Modelo'].count())*100).round(2))\n",
    "plt.title(\"porcentaje de modelos de cada marca\")\n",
    "plt.show()"
   ]
  },
  {
   "cell_type": "code",
   "execution_count": null,
   "metadata": {},
   "outputs": [],
   "source": [
    "### Gráfica el diagrama de dispersión de la potencia y el precio.\n",
    "\n",
    "df_n.head(10)\n",
    "x = df_n['Potencia']\n",
    "y = df_n['Precio']\n",
    "plt.figure(figsize=(20,10))\n",
    "plt.scatter(x, y, color='orange')\n",
    "plt.title('Gráfico de dispersión de Potencia y precio')\n",
    "plt.xlabel('Potencia')\n",
    "plt.ylabel('Precio')\n",
    "plt.show()"
   ]
  },
  {
   "cell_type": "markdown",
   "metadata": {},
   "source": [
    "### EXPLICACION\n",
    "Estuvo interesante el irme moviendo por los valores para conseguir los resultados deseados. A veces pensaba que era más dificil, pero con las máscaras y el ir aplicando ciertos comandos directamente en la misma línea, pude ir consiguiendo los datos deseados. Al final también fui aplicando las gráficas para mejor entendimiento."
   ]
  }
 ],
 "metadata": {
  "kernelspec": {
   "display_name": "Python 3",
   "language": "python",
   "name": "python3"
  },
  "language_info": {
   "codemirror_mode": {
    "name": "ipython",
    "version": 3
   },
   "file_extension": ".py",
   "mimetype": "text/x-python",
   "name": "python",
   "nbconvert_exporter": "python",
   "pygments_lexer": "ipython3",
   "version": "3.7.0"
  }
 },
 "nbformat": 4,
 "nbformat_minor": 2
}
