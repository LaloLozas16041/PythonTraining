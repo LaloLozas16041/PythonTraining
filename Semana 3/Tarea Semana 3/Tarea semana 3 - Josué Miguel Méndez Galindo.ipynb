{
 "cells": [
  {
   "cell_type": "markdown",
   "id": "8e9789de",
   "metadata": {},
   "source": [
    " # TAREA SEMANA 3 : FUNDAMENTOS DE PYTHON\n",
    "## Josué Miguel Méndez Galindo"
   ]
  },
  {
   "cell_type": "markdown",
   "id": "2b06f52f",
   "metadata": {},
   "source": [
    "# Ejercicio 1\n",
    "\n",
    "Escribir dos funciones que simulan una calculadora científica que permita calcular el seno, coseno, tangente, exponencial y logaritmo neperiano o natural (logaritmo en base euler). \n",
    "   \n",
    "    La función uno preguntará al usuario el intervalo donde quiere aplicar la función matemática y la función a aplicar, y mostrará por pantalla una tabla donde la primera columna será los valores del intervalo dado (x) y la columna 2 tendrá los resultados de el resultado de aplicar la función a este intervalo (y).\n",
    "    \n",
    "    La función dos graficara con matplotlib el resultado de función anterior y la mostrará en pantalla. Recuerden poner los títulos ejes y demás configuraciones de las gráficas para que queden de la mejor manera posible.\n"
   ]
  },
  {
   "cell_type": "code",
   "execution_count": null,
   "id": "1a0ad534",
   "metadata": {},
   "outputs": [],
   "source": [
    "import math\n",
    "\n",
    "#La función uno preguntará al usuario el intervalo donde quiere aplicar la función matemática y la función a aplicar, y mostrará por pantalla una tabla donde la primera columna será los valores del intervalo dado (x) y la columna 2 tendrá los resultados de el resultado de aplicar la función a este intervalo (y).\n",
    "\n",
    "n = int(input(\"Escribe un numero: \\n\"))\n",
    "op = input(\"Que funcion desea aplicar? \\n 1-coseno \\n 2-seno \\n 3-tangente \\n 4-exponencial \\n 5-logaritmico\\n\")\n",
    "if op == \"1\":\n",
    "    for i in range (1, n+1, 1):\n",
    "         print(\"El coseno de\" + str(i) + \" es \" + str(math.cos(i)))\n",
    "elif op == \"2\":\n",
    "    for i in range (1, n+1, 1):\n",
    "        print(\"El seno de\" + str(i) + \" es \" + str(math.sin(i)))\n",
    "elif op == \"3\":\n",
    "    for i in range (1, n+1, 1):\n",
    "        print(\"La tangente de\" + str(i) + \" es \" + str(math.tan(i)))\n",
    "elif op == \"4\":\n",
    "    for i in range (1, n+1, 1):\n",
    "        print(\"El exponencial de\" + str(i) + \" es \" + str(math.exp(i)))\n",
    "elif op == \"5\":\n",
    "    for i in range (1, n+1, 1):\n",
    "        print(\"El logaritmo de\" + str(1) + \" es \" + str(math.log(i)))\n",
    "        break\n",
    "    else:\n",
    "        print (\"opcion erronea\")\n",
    "#La función dos graficara con matplotlib el resultado de función anterior y la mostrará en pantalla. Recuerden poner los títulos ejes y demás configuraciones de las gráficas para que queden de la mejor manera posible.\n",
    "plt.style.use('_mpl-gallery')\n",
    "x = op  \n",
    "y = range (1, n+1, 1) \n",
    "        \n",
    "fig, ax = plt.subplots()\n",
    "\n",
    "\n",
    "plt.show()\n",
    "        "
   ]
  },
  {
   "cell_type": "markdown",
   "id": "50822823",
   "metadata": {},
   "source": [
    "con este ejercicio encontre varias soluciones, al desarrollar un menu paratodas las funciones y el uso de los condicionas para identificar la funcion solicitada."
   ]
  },
  {
   "cell_type": "markdown",
   "id": "047d933f",
   "metadata": {},
   "source": [
    "#  Ejercicio 2\n",
    "\n",
    "Escribir un programa para ver los beneficios de una empresa en un periodo de años.\n",
    "El programa debe cumplir los siguientes requisitos:\n",
    "\n",
    "\n",
    "    El programa tiene que preguntar al usuario por un año inicial y otro final, y después preguntar por los ingresos y egresos de cada año desde el año inicial hasta el año final.\n",
    "        Debe garantizar que por lo menos haya 5 años entre el año inicial y el final.\n",
    "\n",
    "    Con los datos introducidos se deben crear un dataframe, con las columnas fecha, ingresos y egresos.\n",
    "\n",
    "    El programa debe generar otra columna con el beneficio de cada año (ingresos menos egresos) y mostrarla por pantalla.\n",
    "\n",
    "    El programa debe crear otra columna llamada ganancia la cuál indique para cada año si ha habido beneficios o no de manera booleana y mostrarla por pantalla.\n",
    "\n",
    "    Finalmente el programa debe mostrar por pantalla la lista de los años con pérdidas.\n"
   ]
  },
  {
   "cell_type": "code",
   "execution_count": null,
   "id": "33b5d588",
   "metadata": {},
   "outputs": [],
   "source": [
    "# Pregunta por los años inicial y final\n",
    "inicio = int(input('Introduce el año inicial: '))\n",
    "fin = int(input('Introduce el año final: '))\n",
    "\n",
    "\n",
    "# Definimos las listas de años, ingresos y gastos vacías\n",
    "años = []\n",
    "ingresos = []\n",
    "gastos = []"
   ]
  },
  {
   "cell_type": "code",
   "execution_count": null,
   "id": "e8bf4335",
   "metadata": {},
   "outputs": [],
   "source": [
    "#Con los datos introducidos se deben crear un dataframe, con las columnas fecha, ingresos y egresos.\n",
    "for i in range(inicio, fin+1):\n",
    "    años.append(i)\n",
    "    ingresos.append(float(input('Ingresos del año ' + str(i) + ': ')))\n",
    "    gastos.append(float(input('Gastos del año ' + str(i) + ': ')))\n"
   ]
  },
  {
   "cell_type": "code",
   "execution_count": null,
   "id": "78c2ebb6",
   "metadata": {},
   "outputs": [],
   "source": [
    "#El programa debe generar otra columna con el beneficio de cada año (ingresos menos egresos) y mostrarla por pantalla.\n",
    "    \n",
    "beneficios = []\n",
    "for i in range(len(ingresos)):\n",
    "    beneficios.append(ingresos[i] - gastos[i])\n",
    "print(beneficios)"
   ]
  },
  {
   "cell_type": "code",
   "execution_count": null,
   "id": "c208b9a4",
   "metadata": {},
   "outputs": [],
   "source": [
    "#El programa debe crear otra columna llamada ganancia la cuál indique para cada año si ha habido beneficios o no de manera booleana y mostrarla por pantalla.\n",
    "\n",
    "hay_beneficio = []\n",
    "for i in range(len(beneficios)):\n",
    "    hay_beneficio.append(beneficios[i] > 0)\n",
    "print(hay_beneficio)"
   ]
  },
  {
   "cell_type": "code",
   "execution_count": null,
   "id": "fb53e90c",
   "metadata": {},
   "outputs": [],
   "source": [
    "años_beneficios = []\n",
    "años_perdidas = []\n",
    "\n",
    "#Finalmente el programa debe mostrar por pantalla la lista de los años con pérdidas.\n",
    "for i in range(len(hay_beneficio)):\n",
    "    if hay_beneficio[i]:\n",
    "        años_beneficios.append(años[i])\n",
    "    else:\n",
    "        años_perdidas.append(años[i])\n",
    "print('Años con beneficios: ', años_beneficios)\n",
    "print('Años con pérdidas: ', años_perdidas)"
   ]
  },
  {
   "cell_type": "markdown",
   "id": "423d0cc7",
   "metadata": {},
   "source": [
    "con los colos condicionales y los ciclos se me complico un poco el desarrollo pero logre superar el reto y complementarlo con el uso de las listas se mejorola utilidad."
   ]
  },
  {
   "cell_type": "markdown",
   "id": "cf27b04f",
   "metadata": {},
   "source": [
    "# Ejercicio 3\n",
    "\n",
    "El fichero horas-trabajo.csv contiene el número de horas mensuales trabajadas por los empleados de una empresa durante el primer cuatrimestre. Crear un programa que realice las siguientes operaciones utilizando la librería Pandas:\n",
    "    \n",
    "    Crea una columna con el número total de horas trabajadas para cada operador.\n",
    "    \n",
    "    Muestra cual es el promedio de horas trabajadas en total en la empresa durante el mes Marzo\n",
    "    \n",
    "    Muestra cuántos operadores hay por cada departamento de la empresa.\n",
    "    \n",
    "    Muestra el número de empleados que han trabajado todos los meses, es decir, que tienen un número de horas todos los meses del cuatrimestre.\n",
    "\n"
   ]
  },
  {
   "cell_type": "code",
   "execution_count": null,
   "id": "e52e45d8",
   "metadata": {},
   "outputs": [],
   "source": [
    "folder = \"C:\\Users\\Isaac\"\n",
    "import pandas as pd\n",
    "\n",
    "horas-trabajo = pd.read_csv('horas-trabajo.csv',sep = ';')\n",
    "horas-trabajo\n",
    "\n",
    "\n",
    "#Crea una columna con el número total de horas trabajadas para cada operador.\n",
    "print(\"Total de horas trabajadas de cada operario\")\n",
    "print(operarios_largo.groupby('Id').Horas.sum())"
   ]
  },
  {
   "cell_type": "code",
   "execution_count": null,
   "id": "1e4d635d",
   "metadata": {},
   "outputs": [],
   "source": [
    "#Muestra cual es el promedio de horas trabajadas en total en la empresa durante el mes Marzo\n",
    "print('Número de horas trabajadas durante marzo')\n",
    "print(operarios[['Marzo']].sum())"
   ]
  },
  {
   "cell_type": "code",
   "execution_count": null,
   "id": "69aa5943",
   "metadata": {},
   "outputs": [],
   "source": [
    "#Muestra cuántos operadores hay por cada departamento de la empresa.\n",
    "print('Número de operarios por departamentos')\n",
    "print(operarios.Departamento.value_counts())"
   ]
  },
  {
   "cell_type": "code",
   "execution_count": null,
   "id": "100ed18e",
   "metadata": {},
   "outputs": [],
   "source": [
    "#Muestra el número de empleados que han trabajado todos los meses, es decir, que tienen un número de horas todos los meses del cuatrimestre.\n",
    "print('Número operarios que han trabajado todos los meses: ', operarios.dropna().shape[0])"
   ]
  },
  {
   "cell_type": "markdown",
   "id": "a0344a80",
   "metadata": {},
   "source": [
    "Relatvamente facial ya que se solicitaban operalicones especificas que se pudieron utilizar al tener el formato correcto de los datos."
   ]
  },
  {
   "cell_type": "markdown",
   "id": "1eb92095",
   "metadata": {},
   "source": [
    "# Ejercicio 4\n",
    "\n",
    "Crear un programa utilizando la librería Pandas y Matplotlib que realice lo siguiente:\n",
    "\n",
    "    Crear el siguiente DataFrame indexado:\n",
    "\n",
    "            Dia       Calorias Tiempo\n",
    "            Lunes       420     60\n",
    "            Martes      380     40\n",
    "            Miercoles   390     75\n",
    "            Jueves      490     55\n",
    "            Viernes     300     45\n",
    "\n",
    "\n",
    "    Calcular la media, mediana y desviación típica de ambas columnas.\n",
    "    \n",
    "    Añadir otra columna booleana al DataFrame para ver si se ha cumplido el reto de quemar más de 400 calorías por hora. La nueva columna debe generarse aplicando una fórmula a las otras columnas. \n",
    "\n",
    "    Filtrar el DataFrame y devolver otro DataFrame con las filas pares que cumplan que el número de calorías es mayor de 400.\n",
    "\n",
    "    Añadir otra columna con los porcentajes de días que se ha conseguido el reto y los que no.\n",
    "\n",
    "    Crear un gráfico donde se  muestre la progresión de las calorías y tiempo durante la semana.\n",
    "\n"
   ]
  },
  {
   "cell_type": "code",
   "execution_count": null,
   "id": "599abcc9",
   "metadata": {},
   "outputs": [],
   "source": [
    "import pandas as pd\n",
    "import matplotlib.pyplot as plt\n",
    "\n",
    "# Creamos un diccionario con los nombres de las columnas y valores.\n",
    "datos = {\n",
    "  \"Calorias\": [420, 380, 390, 490, 300],\n",
    "  \"Tiempo\": [60, 40, 75, 55, 45]\n",
    "}\n",
    "# Creamos una lista con los días de la semana para utilizarla como índice\n",
    "semana = [\"L\", \"M\", \"X\", \"J\", \"V\"]\n",
    "# Creamos el DataFrame\n",
    "df = pd.DataFrame(datos, semana)\n",
    "print(df)"
   ]
  },
  {
   "cell_type": "code",
   "execution_count": null,
   "id": "f4523a4b",
   "metadata": {},
   "outputs": [],
   "source": [
    "# Calcular la media, mediana y desviación típica de ambas columnas.\n",
    "# Calculamos la media.\n",
    "print('Medias:')\n",
    "print(df.mean())\n",
    "# Calculamos la mediana.\n",
    "print('Medianas:')\n",
    "print(df.median())\n",
    "# Calculamos la desviación típica.\n",
    "print('Desviaciones típicas:')\n",
    "print(df.std())"
   ]
  },
  {
   "cell_type": "code",
   "execution_count": null,
   "id": "7ed4727a",
   "metadata": {},
   "outputs": [],
   "source": [
    "# Añadir otra columna booleana al DataFrame para ver si se ha cumplido el reto de quemar más de 400 calorías por hora. La nueva columna debe generarse aplicando una fórmula a las otras columnas. \n",
    "df[\"Reto\"] = df.Calorias / df.Tiempo > 400 / 60\n",
    "print(df)\n"
   ]
  },
  {
   "cell_type": "code",
   "execution_count": null,
   "id": "e6871457",
   "metadata": {},
   "outputs": [],
   "source": [
    "# Filtrar el DataFrame y devolver otro DataFrame con las filas pares que cumplan que el número de calorías es mayor de 400.\n",
    "# Obtenemos la filas pares.\n",
    "df_filtrado = df.iloc[range(0, df.shape[0], 2)]\n",
    "# Obtenemos las filas con un número de calorías mayor de 400.\n",
    "df_filtrado = df_filtrado[df_filtrado.Calorias > 400]\n",
    "print(df_filtrado)"
   ]
  },
  {
   "cell_type": "code",
   "execution_count": null,
   "id": "d4e1734f",
   "metadata": {},
   "outputs": [],
   "source": [
    "# Añadir otra columna con los porcentajes de días que se ha conseguido el reto y los que no.\n",
    "print(df.Reto.value_counts(normalize = True) * 100)"
   ]
  },
  {
   "cell_type": "code",
   "execution_count": null,
   "id": "c9dc48c7",
   "metadata": {},
   "outputs": [],
   "source": [
    "#Crear un gráfico donde se  muestre la progresión de las calorías y tiempo durante la semana.\n",
    "fig, ax = plt.subplots()\n",
    "df.plot(y = 'Calorias', marker = \"x\", ax = ax)\n",
    "df.plot(y = 'Tiempo', marker = \"<\", ax = ax)\n",
    "plt.title('Evolución diaria')\n",
    "plt.xlabel('Calorias')\n",
    "plt.ylabel('Dia de la semana')\n",
    "\n",
    "plt.show()"
   ]
  },
  {
   "cell_type": "markdown",
   "id": "6eb0d989",
   "metadata": {},
   "source": [
    "con el uso de los condicionales y los data frames se puede hacer clasificaciones faciles de procesar y ejecutar operaciones."
   ]
  },
  {
   "cell_type": "markdown",
   "id": "3f3f403f",
   "metadata": {},
   "source": [
    "# Ejercicio 5\n",
    "\n",
    "El fichero coches.csv contiene información sobre los modelos de coches vendidos en USA durante un determinado año. Se pide:\n",
    "\n",
    "\n",
    "    Crear un DataFrame a partir del fichero anterior.\n",
    "\n",
    "    Eliminar las filas con valores desconocidos y mostrar el número de filas del DataFrame resultante.\n",
    "\n",
    "    Crear una columna con el precio en euros (cambio 1$ = 0.94€)\n",
    "\n",
    "    Mostrar las 10 últimas filas del DataFrame.\n",
    "\n",
    "    Mostrar el número de marcas de coches que contiene el DataFrame.\n",
    "\n",
    "    Mostrar el número de modelos de cada marca que hay en el DataFrame, de mayor a menor frecuencia.\n",
    "\n",
    "    Mostrar cuál es la marca y el modelo del coche más caro.\n",
    "\n",
    "    Mostrar el precio medio en euros de los coches agrupando por marca y ordenando de menor a mayor precio.\n",
    "\n",
    "    Gráfica el diagrama de barras del porcentaje de modelos de cada marca.\n",
    "\n",
    "    Gráfica el diagrama de dispersión de la potencia y el precio.\n",
    "    "
   ]
  },
  {
   "cell_type": "code",
   "execution_count": null,
   "id": "15c94501",
   "metadata": {},
   "outputs": [],
   "source": [
    "import pandas as pd\n",
    "import matplotlib.pyplot as plt\n",
    "import csv\n",
    "folder = \"C:\\Users\\Isaac\"\n",
    "filename = \"coches.csv\"\n",
    "\n",
    "# Creamos el dataframe desde el fichero csv.\n",
    "df = pd.read_csv(\"https://aprendeconalf.es/docencia/python/examenes/inteligencia-negocios/soluciones/examen-2022-06-04/coches.csv\", sep = \";\")\n",
    "print(df)"
   ]
  },
  {
   "cell_type": "code",
   "execution_count": null,
   "id": "3c5ed436",
   "metadata": {},
   "outputs": [],
   "source": [
    "# Eliminar las filas con valores desconocidos y mostrar el número de filas del dataframe resultante.\n",
    "df.dropna(inplace = True)\n",
    "filas, columnas = df.shape\n",
    "print(\"Número de filas:\", filas)\n",
    "print(\"Número de columnas:\", columnas)"
   ]
  },
  {
   "cell_type": "code",
   "execution_count": null,
   "id": "6db1fcf8",
   "metadata": {},
   "outputs": [],
   "source": [
    "# Crear una columna con el precio en euros (cambio 1$ = 0.94€)\n",
    "df[\"Precio€\"] = df.Precio * 0.94"
   ]
  },
  {
   "cell_type": "code",
   "execution_count": null,
   "id": "239d6b3e",
   "metadata": {},
   "outputs": [],
   "source": [
    "#Mostrar las 10 últimas filas del DataFrame\n",
    "print(df.tail(10))"
   ]
  },
  {
   "cell_type": "code",
   "execution_count": null,
   "id": "f4b23ac8",
   "metadata": {},
   "outputs": [],
   "source": [
    "#Mostrar el número de marcas de coches que contiene el DataFrame.\n",
    "print(\"Número de marcas:\", len(df.Marca.unique()))\n"
   ]
  },
  {
   "cell_type": "code",
   "execution_count": null,
   "id": "fb85b13a",
   "metadata": {},
   "outputs": [],
   "source": [
    "#Mostrar el número de modelos de cada marca que hay en el DataFrame, de mayor a menor frecuencia.\n",
    "print(df.Marca.value_counts(ascending = False))"
   ]
  },
  {
   "cell_type": "code",
   "execution_count": null,
   "id": "906f9649",
   "metadata": {},
   "outputs": [],
   "source": [
    "#Mostrar cuál es la marca y el modelo del coche más caro.\n",
    "print(df[df.Precio == df.Precio.max()][[\"Marca\", \"Modelo\"]])"
   ]
  },
  {
   "cell_type": "code",
   "execution_count": null,
   "id": "97865151",
   "metadata": {},
   "outputs": [],
   "source": [
    "#Mostrar el precio medio en euros de los coches agrupando por marca y ordenando de menor a mayor precio.\n",
    "print(df.groupby(\"Marca\")[\"Precio€\"].mean().sort_values())"
   ]
  },
  {
   "cell_type": "code",
   "execution_count": null,
   "id": "7aa82542",
   "metadata": {},
   "outputs": [],
   "source": [
    "#Gráfica el diagrama de barras del porcentaje de modelos de cada marca.\n",
    "df.Marca.value_counts(normalize = True).plot(kind = \"barh\",color='purple', title = \"Distribución del número de modelos por marca\")\n",
    "plt.ylabel('Brand')\n",
    "\n",
    "plt.show()"
   ]
  },
  {
   "cell_type": "code",
   "execution_count": null,
   "id": "b3ce3497",
   "metadata": {},
   "outputs": [],
   "source": [
    "#Gráfica el diagrama de dispersión de la potencia y el precio.\n",
    "df.plot(x = \"Potencia\", y = \"Precio€\", kind = \"scatter\",color='purple', title = \"Diagrama de dispersión de la potencia frente al precio\")\n",
    "plt.show()"
   ]
  },
  {
   "cell_type": "markdown",
   "id": "25ef83ea",
   "metadata": {},
   "source": [
    "el ejercicio se redujo en dificultad con el uso de los dataframes y en los graficos creo que se pudieron implentar varios tipos de estos y hacerlos mas digeribles para el publico."
   ]
  }
 ],
 "metadata": {
  "kernelspec": {
   "display_name": "Python 3 (ipykernel)",
   "language": "python",
   "name": "python3"
  },
  "language_info": {
   "codemirror_mode": {
    "name": "ipython",
    "version": 3
   },
   "file_extension": ".py",
   "mimetype": "text/x-python",
   "name": "python",
   "nbconvert_exporter": "python",
   "pygments_lexer": "ipython3",
   "version": "3.11.3"
  }
 },
 "nbformat": 4,
 "nbformat_minor": 5
}
