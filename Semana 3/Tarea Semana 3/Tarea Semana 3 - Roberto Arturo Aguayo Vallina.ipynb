{
 "cells": [
  {
   "cell_type": "markdown",
   "id": "b9a13041",
   "metadata": {},
   "source": [
    "TAREA SEMANA 3 : FUNDAMENTOS DE PYTHON\n",
    "    ROBERTO ARTURO AGUAYO VALLINA"
   ]
  },
  {
   "cell_type": "markdown",
   "id": "fa062bf1",
   "metadata": {},
   "source": [
    "Ejercicio 1, parte A: Escribir dos funciones que simulan una calculadora científica que permita calcular el seno, coseno, tangente, exponencial y logaritmo neperiano o natural (logaritmo en base euler). \n",
    "La función uno preguntará al usuario el intervalo donde quiere aplicar la función matemática y la función a aplicar, y mostrará por pantalla una tabla donde la primera columna será los valores del intervalo dado (x) y la columna 2 tendrá los resultados de el resultado de aplicar la función a este intervalo (y).\n"
   ]
  },
  {
   "cell_type": "code",
   "execution_count": 12,
   "id": "7489e964",
   "metadata": {},
   "outputs": [],
   "source": [
    "def calculadora_cientifica():\n",
    "    funcion = input(\"Ingrese la función a aplicar (sin/cos/tan/exp/ln): \")\n",
    "    inicio = float(input(\"Ingrese el valor inicial del intervalo: \"))\n",
    "    fin = float(input(\"Ingrese el valor final del intervalo: \"))\n",
    "    paso = float(input(\"Ingrese el paso del intervalo: \"))\n",
    "\n",
    "    print(\"x \\t y\")\n",
    "    print(\"-----------------\")\n",
    "\n",
    "    x = inicio\n",
    "    while x <= fin:\n",
    "        if funcion == \"sin\":\n",
    "            y = math.sin(x)\n",
    "        elif funcion == \"cos\":\n",
    "            y = math.cos(x)\n",
    "        elif funcion == \"tan\":\n",
    "            y = math.tan(x)\n",
    "        elif funcion == \"exp\":\n",
    "            y = math.exp(x)\n",
    "        elif funcion == \"ln\":\n",
    "            y = math.log(x)\n",
    "\n",
    "        print(f\"{x:.2f} \\t {y:.4f}\")\n",
    "        x += paso"
   ]
  },
  {
   "cell_type": "markdown",
   "id": "10868486",
   "metadata": {},
   "source": [
    "Ejercicio 1, parte B: La función dos graficara con matplotlib el resultado de función anterior y la mostrará en pantalla. Recuerden poner los títulos ejes y demás configuraciones de las gráficas para que queden de la mejor manera posible."
   ]
  },
  {
   "cell_type": "code",
   "execution_count": 15,
   "id": "1d913262",
   "metadata": {},
   "outputs": [],
   "source": [
    "import matplotlib.pyplot as plt\n",
    "import numpy as np\n",
    "\n",
    "def graficar_funcion(x, y, funcion):\n",
    "    plt.plot(x, y, label=funcion)\n",
    "    plt.legend()\n",
    "    plt.title('Gráfico de '+ funcion)\n",
    "    plt.xlabel('Tiempo')\n",
    "    plt.ylabel('Calorias')\n",
    "    plt.grid(True)\n",
    "    plt.show()"
   ]
  },
  {
   "cell_type": "markdown",
   "id": "e001d4a6",
   "metadata": {},
   "source": [
    "Explicación: El parámetro intervalo es una tupla que contiene el inicio, fin y paso del intervalo en el que se aplicará la función. El parámetro funcion es una cadena que indica la función matemática a aplicar (seno, coseno, tangente, exponencial o logaritmo).\n",
    "\n",
    "La función utiliza un bucle for para iterar sobre los valores del intervalo y aplicar la función matemática a cada uno de ellos. Luego, almacena los resultados en una lista de listas para mostrarlos luego."
   ]
  },
  {
   "cell_type": "markdown",
   "id": "cefd7895",
   "metadata": {},
   "source": [
    "Ejercicio 2: Escribir un programa para ver los beneficios de una empresa en un periodo de años.\n",
    "El programa debe cumplir los siguientes requisitos:\n",
    "\n",
    "El programa tiene que preguntar al usuario por un año inicial y otro final, y después preguntar por los ingresos y egresos de cada año desde el año inicial hasta el año final.\n",
    "Debe garantizar que por lo menos haya 5 años entre el año inicial y el final.\n"
   ]
  },
  {
   "cell_type": "code",
   "execution_count": null,
   "id": "f8de424b",
   "metadata": {},
   "outputs": [],
   "source": [
    "year_start = int(input(\"Ingresa el año inicial (debe ser mínimo 5 años antes del año final): \"))\n",
    "year_end = int(input(\"Ingresa el año final (debe ser mínimo 5 años después del año inicial): \"))\n",
    "\n",
    "while (year_end - year_start) < 5:\n",
    "    print(\"Error: la diferencia entre el año inicial y final debe ser de al menos 5 años\")\n",
    "    year_start = int(input(\"Ingresa el año inicial: \"))\n",
    "    year_end = int(input(\"Ingresa el año final: \"))\n",
    "\n",
    "total_ingresos = 0\n",
    "total_egresos = 0\n",
    "\n",
    "for year in range(year_start, year_end+1):\n",
    "    ingresos = float(input(f\"Ingresos para el año {year}: \"))\n",
    "    egresos = float(input(f\"Egresos para el año {year}: \"))\n",
    "    total_ingresos += ingresos\n",
    "    total_egresos += egresos\n",
    "\n",
    "beneficio_total = total_ingresos - total_egresos\n",
    "print(f\"El beneficio total de la empresa entre {year_start} y {year_end} fue de {beneficio_total} pesos.\")\n"
   ]
  },
  {
   "cell_type": "markdown",
   "id": "142eabec",
   "metadata": {},
   "source": [
    "Ejercicio 2, parte B: Con los datos introducidos se deben crear un dataframe, con las columnas fecha, ingresos y egresos."
   ]
  },
  {
   "cell_type": "code",
   "execution_count": null,
   "id": "a69241ad",
   "metadata": {},
   "outputs": [],
   "source": [
    "import pandas as pd\n",
    "\n",
    "year_start = int(input(\"Ingresa el año inicial (debe ser mínimo 5 años antes del año final): \"))\n",
    "year_end = int(input(\"Ingresa el año final (debe ser mínimo 5 años después del año inicial): \"))\n",
    "\n",
    "while (year_end - year_start) < 5:\n",
    "    print(\"Error: la diferencia entre el año inicial y final debe ser de al menos 5 años\")\n",
    "    year_start = int(input(\"Ingresa el año inicial: \"))\n",
    "    year_end = int(input(\"Ingresa el año final: \"))\n",
    "\n",
    "datos = []\n",
    "\n",
    "for year in range(year_start, year_end+1):\n",
    "    ingresos = float(input(f\"Ingresos para el año {year}: \"))\n",
    "    egresos = float(input(f\"Egresos para el año {year}: \"))\n",
    "    datos.append([year, ingresos, egresos])\n",
    "\n",
    "df = pd.DataFrame(datos, columns=[\"fecha\", \"ingresos\", \"egresos\"])\n",
    "\n",
    "print(df)"
   ]
  },
  {
   "cell_type": "markdown",
   "id": "edb2612d",
   "metadata": {},
   "source": [
    "Explicación: Se añaden inputs para ingresar los datos a trabajar. un while para hacerle entender al Jupyter que la diferencia de años debe ser al menos 5 y el for para las operaciones con los datos de ingresos y egresos."
   ]
  },
  {
   "cell_type": "markdown",
   "id": "0293f47e",
   "metadata": {},
   "source": [
    "Ejercicio 3: El fichero horas-trabajo.csv contiene el número de horas mensuales trabajadas por los empleados de una empresa durante el primer cuatrimestre. Crear un programa que realice las siguientes operaciones utilizando la librería Pandas:\n",
    "Crea una columna con el número total de horas trabajadas para cada operador.\n",
    "Muestra cual es el promedio de horas trabajadas en total en la empresa durante el mes Marzo\n",
    "Muestra cuántos operadores hay por cada departamento de la empresa.\n",
    "Muestra el número de empleados que han trabajado todos los meses, es decir, que tienen un número de horas todos los meses del cuatrimestre.\n"
   ]
  },
  {
   "cell_type": "code",
   "execution_count": null,
   "id": "1d6029aa",
   "metadata": {},
   "outputs": [],
   "source": [
    "import pandas as pd\n",
    "df = pd.read_csv(\"horas-trabajo.csv\")\n",
    "df[\"total_horas\"] = df.sum(axis=1)\n",
    "\n",
    "promedio_marzo = df.loc[df[\"mes\"] == \"Marzo\", \"total_horas\"].mean()\n",
    "print(\"Promedio de horas trabajadas en Marzo:\", promedio_marzo)\n",
    "\n",
    "operadores_por_depto = df.groupby(\"departamento\").count()[\"operador\"]\n",
    "print(\"Número de operadores por departamento:\")\n",
    "print(operadores_por_depto)\n",
    "\n",
    "empleados_todos_meses = df.loc[df.iloc[:,1:5].all(axis=1), \"operador\"].tolist()\n",
    "print(\"Empleados que trabajaron todos los meses:\", empleados_todos_meses)\n"
   ]
  },
  {
   "cell_type": "markdown",
   "id": "267828ea",
   "metadata": {},
   "source": [
    "Explicación: Con pandas se creó la columna total_horas para sumar las horas trabajadas y luego revisar como calcular el promedio con apoyo de libros y el material de Classroom ya que no me cuadraba hasta dar con mean(), se cuenta el número de operadores por departamento utilizando la función groupby() y count().\n"
   ]
  },
  {
   "cell_type": "markdown",
   "id": "352f9174",
   "metadata": {},
   "source": [
    "Ejercicio 4: Crear un programa utilizando la librería Pandas y Matplotlib que realice lo siguiente:\n",
    "Crear el siguiente DataFrame indexado. Calcular la media, mediana y desviación típica de ambas columnas.\n",
    "Añadir otra columna booleana al DataFrame para ver si se ha cumplido el reto de quemar más de 400 calorías por hora. La nueva columna debe generarse aplicando una fórmula a las otras columnas. \n",
    "Filtrar el DataFrame y devolver otro DataFrame con las filas que cumplan que el número de calorías es mayor de 400.\n",
    "Añadir otra columna con los porcentajes de días que se ha conseguido el reto y los que no.\n",
    "Crear un gráfico donde se  muestre la progresión de las calorías y tiempo durante la semana.\n",
    "\n"
   ]
  },
  {
   "cell_type": "code",
   "execution_count": null,
   "id": "b7157d26",
   "metadata": {},
   "outputs": [],
   "source": [
    "import pandas as pd\n",
    "import matplotlib.pyplot as plt\n",
    "\n",
    "data = {'Día': ['Lunes', 'Martes', 'Miércoles', 'Jueves', 'Viernes', 'Sábado', 'Domingo'],\n",
    "        'Calorías por hora': [350, 390, 420, 380, 400, 410, 390],\n",
    "        'Tiempo (min)': [40, 45, 50, 45, 50, 55, 50]}\n",
    "df = pd.DataFrame(data)\n",
    "print(df)\n",
    "\n",
    "print('Media:')\n",
    "print(df.mean())\n",
    "print('Mediana:')\n",
    "print(df.median())\n",
    "print('Desviación típica:')\n",
    "print(df.std())\n",
    "\n",
    "df['Cumplido'] = df['Calorías por hora'] > 400\n",
    "print(df)\n",
    "\n",
    "\n",
    "df_filtrado = df.loc[df['Calorías por hora'] > 400]\n",
    "print(df_filtrado)\n",
    "\n",
    "df['Porcentaje'] = df['Cumplido']*100/7\n",
    "print(df)\n",
    "\n",
    "df.plot(x='Día', y=['Calorías por hora', 'Tiempo (min)'])\n",
    "plt.show()\n",
    "\n"
   ]
  },
  {
   "cell_type": "markdown",
   "id": "662c231e",
   "metadata": {},
   "source": [
    "Explicación: Se filtra el DataFrame utilizando la función loc[] y la condición df['Calorías por hora'] > 400. Para la nueva columna con los porcentajes, se puede utilizar la fórmula df['Porcentaje'] = df['Cumplido']*100/7, donde df['Cumplido'] es la columna booleana creada anteriormente y 7 es el número total de días.\n",
    "Luego, para crear el gráfico, se puede aplicar plot(). Por más que traté no me compila al querer correr."
   ]
  },
  {
   "cell_type": "markdown",
   "id": "d31b2dcd",
   "metadata": {},
   "source": [
    "Ejercicio 5: El fichero coches.csv contiene información sobre los modelos de coches vendidos en USA durante un determinado año. Se pide:\n",
    "\n",
    "Crear un DataFrame a partir del fichero anterior.\n",
    "Eliminar las filas con valores desconocidos y mostrar el número de filas del DataFrame resultante.\n",
    "Crear una columna con el precio en euros (cambio 1$ = 0.94€)\n",
    "Mostrar las 10 últimas filas del DataFrame.\n",
    "Mostrar el número de marcas de coches que contiene el DataFrame.\n",
    "Mostrar el número de modelos de cada marca que hay en el DataFrame, de mayor a menor frecuencia.\n",
    "Mostrar cuál es la marca y el modelo del coche más caro.\n",
    "Mostrar el precio medio en euros de los coches agrupando por marca y ordenando de menor a mayor precio.\n",
    "Gráfica el diagrama de barras del porcentaje de modelos de cada marca.\n",
    "Gráfica el diagrama de dispersión de la potencia y el precio.\n"
   ]
  },
  {
   "cell_type": "code",
   "execution_count": null,
   "id": "6f5df906",
   "metadata": {},
   "outputs": [],
   "source": [
    "import pandas as pd\n",
    "import matplotlib.pyplot as plt\n",
    "\n",
    "df = pd.read_csv('coches.csv')\n",
    "\n",
    "df.dropna(inplace=True)\n",
    "\n",
    "print(\"Número de filas: \", len(df))\n",
    "\n",
    "df['precio_euros'] = df['precio_dolares'] * 0.94\n",
    "\n",
    "print(df.tail(10))\n",
    "\n",
    "num_marcas = len(df['marca'].unique())\n",
    "print(\"Número de marcas: \", num_marcas)\n",
    "\n",
    "num_modelos = df.groupby('marca')['modelo'].nunique().sort_values(ascending=False)\n",
    "print(\"Número de modelos de cada marca:\\n\", num_modelos)\n",
    "\n",
    "coche_mas_caro = df.loc[df['precio_euros'].idxmax()]\n",
    "print(\"Coche más caro: \", coche_mas_caro['marca'], coche_mas_caro['modelo'])\n",
    "\n",
    "precio_medio = df.groupby('marca')['precio_euros'].mean().sort_values(ascending=True)\n",
    "print(\"Precio medio por marca:\\n\", precio_medio)\n",
    "\n",
    "num_modelos.plot(kind='bar', title='Porcentaje de modelos de cada marca')\n",
    "plt.ylabel('Porcentaje')\n",
    "plt.show()\n",
    "\n",
    "plt.scatter(df['potencia'], df['precio_euros'])\n",
    "plt.title('Potencia vs. Precio')\n",
    "plt.xlabel('Potencia')\n",
    "plt.ylabel('Precio (en euros)')\n",
    "plt.show()\n"
   ]
  },
  {
   "cell_type": "markdown",
   "id": "39adba69",
   "metadata": {},
   "source": [
    "Se quitan las filas con valores desconocidos dropna() del dataframe.\n",
    "Se muestra el número de filas del dataframe resultante utilizando la función len().\n",
    "Se crea una columna llamada \"precio_euros\" para el precio en euros a partir de la columna \"precio_dolares\".\n",
    "Se muestran las diez últimas filas del dataframe utilizando usando tail().\n",
    "Se calcula el número de marcas de coches con unique().\n",
    "Se calcula el número de modelos de cada marca y se ordena mayor a menor frecuencia con groupby() y nunique().\n",
    "Se muestra la marca y modelo del carro más caro utilizando el métodocon loc() y idxmax().\n",
    "Se saca el precio medio en euros agrupando por marca y ordenando de menor a mayor con groupby() y mean().\n",
    "Se crea un gráfico de barras del porcentaje de modelos de cada marca con plot().\n",
    "\n",
    "Me apoyé en el libro Python CookBook: Recipes para entender la lógica de como hacerlo aunque en mi jupyter tampoco me lo corrió."
   ]
  }
 ],
 "metadata": {
  "kernelspec": {
   "display_name": "Python 3 (ipykernel)",
   "language": "python",
   "name": "python3"
  },
  "language_info": {
   "codemirror_mode": {
    "name": "ipython",
    "version": 3
   },
   "file_extension": ".py",
   "mimetype": "text/x-python",
   "name": "python",
   "nbconvert_exporter": "python",
   "pygments_lexer": "ipython3",
   "version": "3.10.9"
  }
 },
 "nbformat": 4,
 "nbformat_minor": 5
}
