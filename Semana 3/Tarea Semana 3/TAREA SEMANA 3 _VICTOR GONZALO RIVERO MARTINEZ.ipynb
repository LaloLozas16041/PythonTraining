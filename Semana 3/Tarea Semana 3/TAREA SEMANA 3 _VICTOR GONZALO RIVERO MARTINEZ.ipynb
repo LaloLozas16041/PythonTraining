{
 "cells": [
  {
   "cell_type": "code",
   "execution_count": null,
   "id": "ce5b93dd",
   "metadata": {},
   "outputs": [],
   "source": [
    "TAREA SEMANA 3 : FUNDAMENTOS DE PYTHON\n",
    "Nombre : Victor Gonzalo Rivero Martinez"
   ]
  },
  {
   "cell_type": "code",
   "execution_count": null,
   "id": "fba93057",
   "metadata": {},
   "outputs": [],
   "source": [
    "#Ejercicio 1.\n",
    "#Escribir dos funciones que simulan una calculadora científica que permita calcular el seno, coseno, tangente, exponencial y logaritmo neperiano o natural (logaritmo en base euler). \n",
    "#A.\tLa función uno preguntará al usuario el intervalo donde quiere aplicar la función matemática y la función a aplicar, y mostrará por pantalla una tabla donde la primera columna será los valores del intervalo dado (x) y la columna 2 tendrá los resultados de el resultado de aplicar la función a este intervalo (y).\n"
   ]
  },
  {
   "cell_type": "code",
   "execution_count": 2,
   "id": "c3e2793c",
   "metadata": {},
   "outputs": [
    {
     "name": "stdout",
     "output_type": "stream",
     "text": [
      "Funcion a aplicar (sen,cos,tan, exp,ln): sen\n",
      "Limit 1: 2\n",
      "Limit 2: 4\n",
      "      x       sen\n",
      "0   2.0  0.909297\n",
      "1   2.1  0.863209\n",
      "2   2.2  0.808496\n",
      "3   2.3  0.745705\n",
      "4   2.4  0.675463\n",
      "5   2.5  0.598472\n",
      "6   2.6  0.515501\n",
      "7   2.7  0.427380\n",
      "8   2.8  0.334988\n",
      "9   2.9  0.239249\n",
      "10  3.0  0.141120\n",
      "11  3.1  0.041581\n",
      "12  3.2 -0.058374\n",
      "13  3.3 -0.157746\n",
      "14  3.4 -0.255541\n",
      "15  3.5 -0.350783\n",
      "16  3.6 -0.442520\n",
      "17  3.7 -0.529836\n",
      "18  3.8 -0.611858\n",
      "19  3.9 -0.687766\n"
     ]
    }
   ],
   "source": [
    "import numpy as np  \n",
    "import pandas as pd\n",
    "import matplotlib.pyplot as plt\n",
    "\n",
    "def s(x):\n",
    "    return np.sin(x)\n",
    "def c(x):\n",
    "    return np.cos(x)\n",
    "def t(x):\n",
    "    return np.tan(x)\n",
    "def e(x):\n",
    "    return np.exp(x)\n",
    "def l(x):\n",
    "    return np.log(x)\n",
    "\n",
    "def grafica(x,y,func):\n",
    "    plt.figure()\n",
    "    plt.plot(x, y, 'k')\n",
    "    plt.title(\"f(x)=\"+func)\n",
    "    plt.ylabel('f(x)')\n",
    "    plt.xlabel('x')\n",
    "    \n",
    "    \n",
    "func=input('Funcion a aplicar (sen,cos,tan, exp,ln): ')\n",
    "lim1 = float(input('Limit 1: '))\n",
    "lim2 = float(input('Limit 2: '))\n",
    "x= np.arange(lim1, lim2, 0.1)\n",
    "\n",
    "if func=='sen':\n",
    "   y = s(x)\n",
    "elif func=='cos':\n",
    "   y = c(x)\n",
    "elif func=='tan':\n",
    "   y =t(x)\n",
    "elif func=='exp':\n",
    "   y = e(x)\n",
    "elif func=='ln':\n",
    "   y = l(x)\n",
    "else: print('No se encuentra la funcion')\n",
    "\n",
    "tabla = pd.DataFrame( list(zip(x, y)), columns=['x', func] )\n",
    "print(tabla)\n"
   ]
  },
  {
   "cell_type": "markdown",
   "id": "bb088931",
   "metadata": {},
   "source": [
    "#La función dos graficará con matplotlib el resultado de función anterior y la mostrará en pantalla. Recuerden poner los títulos ejes y demás configuraciones de las gráficas para que queden de la mejor manera posible."
   ]
  },
  {
   "cell_type": "code",
   "execution_count": 3,
   "id": "112e4026",
   "metadata": {},
   "outputs": [
    {
     "data": {
      "image/png": "[encoded data removed]",
      "text/plain": [
       "<Figure size 640x480 with 1 Axes>"
      ]
     },
     "metadata": {},
     "output_type": "display_data"
    }
   ],
   "source": [
    "grafica(x,y,func)"
   ]
  },
  {
   "cell_type": "code",
   "execution_count": null,
   "id": "2f8e64a7",
   "metadata": {},
   "outputs": [],
   "source": [
    "#En este ejercicio se programaron funciones para hacer una table de las funciones trigonometricas dado un intervalo, imprimir una \n",
    "#Tabla y su grafica."
   ]
  },
  {
   "cell_type": "code",
   "execution_count": null,
   "id": "b65cc14a",
   "metadata": {},
   "outputs": [],
   "source": [
    "#Ejercicio 2\n",
    "#Escribir un programa para ver los beneficios de una empresa en un periodo de años.\n",
    "#El programa debe cumplir los siguientes requisitos:\n",
    "#A.\tEl programa tiene que preguntar al usuario por un año inicial y otro final, y después preguntar por los ingresos y egresos de cada año desde el año inicial hasta el año final.\n",
    "#e garantizar que por lo menos haya 5 años entre el año inicial y el final."
   ]
  },
  {
   "cell_type": "code",
   "execution_count": 6,
   "id": "450ac1f0",
   "metadata": {},
   "outputs": [
    {
     "name": "stdout",
     "output_type": "stream",
     "text": [
      "Año inicial: 1999\n",
      "Año final: 2004\n",
      "Ingresos  1999:40\n",
      "egresos  1999:50\n",
      "Ingresos  2000:70\n",
      "egresos  2000:50\n",
      "Ingresos  2001:80\n",
      "egresos  2001:90\n",
      "Ingresos  2002:70\n",
      "egresos  2002:10\n",
      "Ingresos  2003:30\n",
      "egresos  2003:20\n",
      "[40, 70, 80, 70, 30]\n"
     ]
    }
   ],
   "source": [
    "import numpy as np  \n",
    "import pandas as pd\n",
    "import matplotlib.pyplot as plt\n",
    "inicio= int(input('Año inicial: '))\n",
    "fin= int(input('Año final: '))\n",
    "if  fin-inicio>4:\n",
    "    x= np.arange(inicio, fin, 1)\n",
    "    ingresos=[]\n",
    "    egresos=[]\n",
    "    beneficio=[]\n",
    "    ganancia=[]\n",
    "    años_perdidas=[]\n",
    "    j=0\n",
    "\n",
    "    for i in x:\n",
    "        ingresos.append(int(input('Ingresos  '+str(i)+':')))\n",
    "        egresos.append(int(input('egresos  '+str(i)+':')))\n",
    "        \n",
    "        if ingresos[j]-egresos[j]>0:\n",
    "            ganancia.append(1)\n",
    "        else:\n",
    "            ganancia.append(0)\n",
    "            años_perdidas.append(i)\n",
    "        beneficio.append(ingresos[j]-egresos[j])\n",
    "        \n",
    "            \n",
    "        j+=1\n",
    "    print(ingresos)"
   ]
  },
  {
   "cell_type": "code",
   "execution_count": null,
   "id": "e4b6c351",
   "metadata": {},
   "outputs": [],
   "source": [
    "#B.\tCon los datos introducidos se deben crear un dataframe, con las columnas fecha, ingresos y egresos."
   ]
  },
  {
   "cell_type": "code",
   "execution_count": 7,
   "id": "7bedd2e8",
   "metadata": {},
   "outputs": [
    {
     "name": "stdout",
     "output_type": "stream",
     "text": [
      "    Año  Ingresos  Egresos\n",
      "0  1999        40       50\n",
      "1  2000        70       50\n",
      "2  2001        80       90\n",
      "3  2002        70       10\n",
      "4  2003        30       20\n"
     ]
    }
   ],
   "source": [
    "    data={'Año':x,'Ingresos':ingresos,'Egresos':egresos}\n",
    "    df = pd.DataFrame(data)\n",
    "    print(df)"
   ]
  },
  {
   "cell_type": "code",
   "execution_count": null,
   "id": "f0a3caba",
   "metadata": {},
   "outputs": [],
   "source": [
    "#C.\tEl programa debe generar otra columna con el beneficio de cada año (ingresos menos egresos) y mostrarla por pantalla."
   ]
  },
  {
   "cell_type": "code",
   "execution_count": 9,
   "id": "9d71c9e4",
   "metadata": {},
   "outputs": [
    {
     "name": "stdout",
     "output_type": "stream",
     "text": [
      "    Año  Ingresos  Egresos  beneficio\n",
      "0  1999        40       50        -10\n",
      "1  2000        70       50         20\n",
      "2  2001        80       90        -10\n",
      "3  2002        70       10         60\n",
      "4  2003        30       20         10\n"
     ]
    }
   ],
   "source": [
    "    data={'Año':x,'Ingresos':ingresos,'Egresos':egresos,\n",
    "          'beneficio':beneficio}\n",
    "    df = pd.DataFrame(data)\n",
    "    print(df)"
   ]
  },
  {
   "cell_type": "code",
   "execution_count": null,
   "id": "ed5e0b9d",
   "metadata": {},
   "outputs": [],
   "source": [
    "#D.\tEl programa debe crear otra columna llamada ganancia la cuál indique para cada año si ha habido beneficios o no de manera booleana y mostrarla por pantalla."
   ]
  },
  {
   "cell_type": "code",
   "execution_count": 10,
   "id": "e974c78e",
   "metadata": {},
   "outputs": [
    {
     "name": "stdout",
     "output_type": "stream",
     "text": [
      "    Año  Ingresos  Egresos  beneficio  ganancia\n",
      "0  1999        40       50        -10         0\n",
      "1  2000        70       50         20         1\n",
      "2  2001        80       90        -10         0\n",
      "3  2002        70       10         60         1\n",
      "4  2003        30       20         10         1\n"
     ]
    }
   ],
   "source": [
    "data={'Año':x,'Ingresos':ingresos,'Egresos':egresos,\n",
    "          'beneficio':beneficio,'ganancia':ganancia}\n",
    "df = pd.DataFrame(data)\n",
    "print(df)"
   ]
  },
  {
   "cell_type": "code",
   "execution_count": null,
   "id": "d2c199ea",
   "metadata": {},
   "outputs": [],
   "source": [
    "#E.\tFinalmente el programa debe mostrar por pantalla la lista de los años con pérdidas."
   ]
  },
  {
   "cell_type": "code",
   "execution_count": 12,
   "id": "52cd236e",
   "metadata": {},
   "outputs": [
    {
     "name": "stdout",
     "output_type": "stream",
     "text": [
      "   Años con perdidas\n",
      "0               1999\n",
      "1               2001\n"
     ]
    }
   ],
   "source": [
    "datap={'Años con perdidas':años_perdidas}\n",
    "dfp=pd.DataFrame(datap)\n",
    "print(dfp)"
   ]
  },
  {
   "cell_type": "code",
   "execution_count": null,
   "id": "58754d0d",
   "metadata": {},
   "outputs": [],
   "source": [
    "#En este ejercicio se aprendio a crear un data frame, agregar columnas y operaciones en columnas"
   ]
  },
  {
   "cell_type": "code",
   "execution_count": null,
   "id": "aa31a578",
   "metadata": {},
   "outputs": [],
   "source": [
    "#Ejercicio 3\n",
    "#El fichero horas-trabajo.csv contiene el número de horas mensuales trabajadas por los empleados de una empresa durante el primer cuatrimestre. Crear un programa que realice las siguientes operaciones utilizando la librería Pandas:\n",
    "#A.\tCrea una columna con el número total de horas trabajadas para cada operador.\n"
   ]
  },
  {
   "cell_type": "code",
   "execution_count": 18,
   "id": "a428cf74",
   "metadata": {},
   "outputs": [
    {
     "name": "stdout",
     "output_type": "stream",
     "text": [
      "     Id Departamento  Enero  Febrero  Marzo  Abril  Horas de trabajo\n",
      "0   OP1  Proveedores    180    160.0  140.0  180.0             660.0\n",
      "1   OP2       Ventas    120    140.0    NaN  100.0             360.0\n",
      "2   OP3       Ventas     80     90.0   80.0   80.0             330.0\n",
      "3   OP5           IT    180    170.0  180.0  180.0             710.0\n",
      "4   OP6    Marketing    100      NaN  100.0    NaN             200.0\n",
      "5   OP7       Ventas    160    160.0  160.0  160.0             640.0\n",
      "6   OP8  Proveedores    100     80.0  110.0   80.0             370.0\n",
      "7   OP9           IT     80     80.0   80.0   80.0             320.0\n",
      "8  OP10       Ventas    180    160.0  180.0  180.0             700.0\n"
     ]
    }
   ],
   "source": [
    "import pandas as pd\n",
    "data = pd.read_csv(\"horas-trabajo.csv\")\n",
    "df=data.iloc[:,[2,3,4,5]]\n",
    "data['Horas de trabajo']=df.sum(axis=1)\n",
    "print(data)"
   ]
  },
  {
   "cell_type": "code",
   "execution_count": null,
   "id": "9afbc364",
   "metadata": {},
   "outputs": [],
   "source": [
    "#.\tMuestra cual es el promedio de horas trabajadas en total en la empresa durante el mes Marzo"
   ]
  },
  {
   "cell_type": "code",
   "execution_count": 17,
   "id": "4a289743",
   "metadata": {},
   "outputs": [
    {
     "name": "stdout",
     "output_type": "stream",
     "text": [
      "Promedio Mes de Marzo: \n",
      "128.75\n"
     ]
    }
   ],
   "source": [
    "print('Promedio Mes de Marzo: ')\n",
    "print(data['Marzo'].mean())"
   ]
  },
  {
   "cell_type": "code",
   "execution_count": null,
   "id": "334df5c9",
   "metadata": {},
   "outputs": [],
   "source": [
    "#C.\tMuestra cuántos operadores hay por cada departamento de la empresa."
   ]
  },
  {
   "cell_type": "code",
   "execution_count": 19,
   "id": "8aee4898",
   "metadata": {},
   "outputs": [
    {
     "name": "stdout",
     "output_type": "stream",
     "text": [
      "Número de operarios por departamentos\n",
      "Ventas         4\n",
      "Proveedores    2\n",
      "IT             2\n",
      "Marketing      1\n",
      "Name: Departamento, dtype: int64\n"
     ]
    }
   ],
   "source": [
    "print('Número de operarios por departamentos')\n",
    "print(data.Departamento.value_counts())"
   ]
  },
  {
   "cell_type": "code",
   "execution_count": null,
   "id": "afdde7a0",
   "metadata": {},
   "outputs": [],
   "source": [
    "#D.\tMuestra el número de empleados que han trabajado todos los meses, es decir, que tienen un número de horas todos los meses del cuatrimestre."
   ]
  },
  {
   "cell_type": "code",
   "execution_count": 20,
   "id": "864e694b",
   "metadata": {},
   "outputs": [
    {
     "name": "stdout",
     "output_type": "stream",
     "text": [
      "Operarios que han trabajado todos los meses:  7\n"
     ]
    }
   ],
   "source": [
    "print('Operarios que han trabajado todos los meses: ', data.dropna().shape[0])"
   ]
  },
  {
   "cell_type": "code",
   "execution_count": null,
   "id": "bcc36598",
   "metadata": {},
   "outputs": [],
   "source": [
    "#En este ejercicio se parendio a resumir la informacion de un dataframe"
   ]
  },
  {
   "cell_type": "code",
   "execution_count": null,
   "id": "036ecb03",
   "metadata": {},
   "outputs": [],
   "source": [
    "#Ejercicio 4\n",
    "#Crear un programa utilizando la librería Pandas y Matplotlib que realice lo siguiente:\n",
    "#A.\tCrear el siguiente DataFrame indexado:\n"
   ]
  },
  {
   "cell_type": "code",
   "execution_count": 22,
   "id": "378d35b6",
   "metadata": {},
   "outputs": [
    {
     "name": "stdout",
     "output_type": "stream",
     "text": [
      "        Dias  Calorias  Tiempo\n",
      "0      Lunes       420      60\n",
      "1     Martes       380      40\n",
      "2  Miercoles       390      75\n",
      "3     Jueves       490      55\n",
      "4    Viernes       300      45\n"
     ]
    }
   ],
   "source": [
    "import pandas as pd\n",
    "import matplotlib.pyplot as plt\n",
    "\n",
    "df=pd.DataFrame({\"Dias\":['Lunes','Martes','Miercoles','Jueves','Viernes']\n",
    "                 ,\"Calorias\":[420,380,390,490,300],\n",
    "                 \"Tiempo\":[60,40,75,55,45]})\n",
    "print(df)"
   ]
  },
  {
   "cell_type": "code",
   "execution_count": null,
   "id": "2a7d8fb6",
   "metadata": {},
   "outputs": [],
   "source": [
    "#B.\tCalcular la media, mediana y desviación típica de ambas columnas."
   ]
  },
  {
   "cell_type": "code",
   "execution_count": 23,
   "id": "f3ad66e9",
   "metadata": {},
   "outputs": [
    {
     "name": "stdout",
     "output_type": "stream",
     "text": [
      "Media calorias : 396.0\n",
      "Media Tiempo : 55.0\n",
      "Mediana calorias : 390.0\n",
      "Mediana Tiempo : 55.0\n",
      "Desviación típica calorias : 68.7749954561976\n",
      "Desviación  típica Tiempo : 13.693063937629153\n"
     ]
    }
   ],
   "source": [
    "print('Media calorias :',df['Calorias'].mean())\n",
    "print('Media Tiempo :',df['Tiempo'].mean())\n",
    "\n",
    "print('Mediana calorias :',df['Calorias'].median())\n",
    "print('Mediana Tiempo :',df['Tiempo'].median())\n",
    "\n",
    "print('Desviación típica calorias :',df['Calorias'].std())\n",
    "print('Desviación  típica Tiempo :',df['Tiempo'].std())"
   ]
  },
  {
   "cell_type": "code",
   "execution_count": null,
   "id": "b79eb7da",
   "metadata": {},
   "outputs": [],
   "source": [
    "#B.\tAñadir otra columna booleana al DataFrame para ver si se ha cumplido el reto de quemar más de 400 calorías por hora. La nueva columna debe generarse aplicando una fórmula a las otras columnas. "
   ]
  },
  {
   "cell_type": "code",
   "execution_count": 24,
   "id": "da465754",
   "metadata": {},
   "outputs": [
    {
     "name": "stdout",
     "output_type": "stream",
     "text": [
      "        Dias  Calorias  Tiempo  Reto_cumplido\n",
      "0      Lunes       420      60           True\n",
      "1     Martes       380      40           True\n",
      "2  Miercoles       390      75          False\n",
      "3     Jueves       490      55           True\n",
      "4    Viernes       300      45          False\n"
     ]
    }
   ],
   "source": [
    "df[\"Reto_cumplido\"] = (df.Calorias/df.Tiempo)> 400 / 60\n",
    "print(df)"
   ]
  },
  {
   "cell_type": "code",
   "execution_count": null,
   "id": "3d774e9d",
   "metadata": {},
   "outputs": [],
   "source": [
    "#B.\tFiltrar el DataFrame y devolver otro DataFrame con las filas pares que cumplan que el número de calorías es mayor de 400."
   ]
  },
  {
   "cell_type": "code",
   "execution_count": 26,
   "id": "c74da121",
   "metadata": {},
   "outputs": [
    {
     "name": "stdout",
     "output_type": "stream",
     "text": [
      "        Dias  Calorias  Tiempo  Reto_cumplido\n",
      "0      Lunes       420      60           True\n",
      "2  Miercoles       390      75          False\n",
      "4    Viernes       300      45          False\n"
     ]
    }
   ],
   "source": [
    "nuevo_df= df.iloc[range(0, df.shape[0], 2)]\n",
    "print(nuevo_df)"
   ]
  },
  {
   "cell_type": "code",
   "execution_count": null,
   "id": "4e4f626e",
   "metadata": {},
   "outputs": [],
   "source": [
    "#B.\tAñadir otra columna con los porcentajes de días que se ha conseguido el reto y los que no."
   ]
  },
  {
   "cell_type": "code",
   "execution_count": 27,
   "id": "b5ffbb9c",
   "metadata": {},
   "outputs": [
    {
     "name": "stdout",
     "output_type": "stream",
     "text": [
      "True     60.0\n",
      "False    40.0\n",
      "Name: Reto_cumplido, dtype: float64\n"
     ]
    }
   ],
   "source": [
    "print(df.Reto_cumplido.value_counts(normalize = True) * 100)"
   ]
  },
  {
   "cell_type": "code",
   "execution_count": null,
   "id": "1685535c",
   "metadata": {},
   "outputs": [],
   "source": [
    "#B.\tCrear un gráfico donde se  muestre la progresión de las calorías y tiempo durante la semana."
   ]
  },
  {
   "cell_type": "code",
   "execution_count": 29,
   "id": "617741b8",
   "metadata": {},
   "outputs": [
    {
     "data": {
      "text/plain": [
       "<AxesSubplot:>"
      ]
     },
     "execution_count": 29,
     "metadata": {},
     "output_type": "execute_result"
    },
    {
     "data": {
      "image/png": "[encoded data removed]",
      "text/plain": [
       "<Figure size 640x480 with 1 Axes>"
      ]
     },
     "metadata": {},
     "output_type": "display_data"
    }
   ],
   "source": [
    "df.plot()\n"
   ]
  },
  {
   "cell_type": "code",
   "execution_count": null,
   "id": "483acf93",
   "metadata": {},
   "outputs": [],
   "source": [
    "#En este ejercicio se aprendio a hacer operaciones y graficas de un dataframe"
   ]
  },
  {
   "cell_type": "code",
   "execution_count": null,
   "id": "fea10980",
   "metadata": {},
   "outputs": [],
   "source": [
    "#Ejercicio 5\n",
    "#El fichero coches.csv contiene información sobre los modelos de coches vendidos en USA durante un determinado año. Se pide:\n"
   ]
  },
  {
   "cell_type": "code",
   "execution_count": 30,
   "id": "6798f210",
   "metadata": {},
   "outputs": [
    {
     "name": "stdout",
     "output_type": "stream",
     "text": [
      "     Marca                   Modelo   Tipo  Potencia   Precio\n",
      "0    Acura                      MDX    SUV     265.0  33337.0\n",
      "1    Acura           RSX Type S 2dr  Sedan     200.0  21761.0\n",
      "2    Acura                  TSX 4dr  Sedan     200.0  24647.0\n",
      "3    Acura                   TL 4dr  Sedan     270.0  30299.0\n",
      "4    Acura               3.5 RL 4dr  Sedan     225.0  39014.0\n",
      "..     ...                      ...    ...       ...      ...\n",
      "423  Volvo  C70 LPT convertible 2dr  Sedan     197.0  38203.0\n",
      "424  Volvo  C70 HPT convertible 2dr  Sedan     242.0  40083.0\n",
      "425  Volvo               S80 T6 4dr  Sedan     268.0  42573.0\n",
      "426  Volvo                      V40  Wagon     170.0  24641.0\n",
      "427  Volvo                     XC70  Wagon     208.0  33112.0\n",
      "\n",
      "[428 rows x 5 columns]\n"
     ]
    }
   ],
   "source": [
    "import pandas as pd\n",
    "data = pd.read_csv(\"coches.csv\")\n",
    "print(data)"
   ]
  },
  {
   "cell_type": "code",
   "execution_count": null,
   "id": "e2a6a195",
   "metadata": {},
   "outputs": [],
   "source": [
    "#B.\tEliminar las filas con valores desconocidos y mostrar el número de filas del DataFrame resultante."
   ]
  },
  {
   "cell_type": "code",
   "execution_count": 31,
   "id": "59718a53",
   "metadata": {},
   "outputs": [
    {
     "name": "stdout",
     "output_type": "stream",
     "text": [
      "     Marca                   Modelo   Tipo  Potencia   Precio\n",
      "0    Acura                      MDX    SUV     265.0  33337.0\n",
      "1    Acura           RSX Type S 2dr  Sedan     200.0  21761.0\n",
      "2    Acura                  TSX 4dr  Sedan     200.0  24647.0\n",
      "3    Acura                   TL 4dr  Sedan     270.0  30299.0\n",
      "4    Acura               3.5 RL 4dr  Sedan     225.0  39014.0\n",
      "..     ...                      ...    ...       ...      ...\n",
      "423  Volvo  C70 LPT convertible 2dr  Sedan     197.0  38203.0\n",
      "424  Volvo  C70 HPT convertible 2dr  Sedan     242.0  40083.0\n",
      "425  Volvo               S80 T6 4dr  Sedan     268.0  42573.0\n",
      "426  Volvo                      V40  Wagon     170.0  24641.0\n",
      "427  Volvo                     XC70  Wagon     208.0  33112.0\n",
      "\n",
      "[428 rows x 5 columns]\n"
     ]
    }
   ],
   "source": [
    "data.dropna()\n",
    "print(data)"
   ]
  },
  {
   "cell_type": "code",
   "execution_count": null,
   "id": "87a47f80",
   "metadata": {},
   "outputs": [],
   "source": [
    "#C.\tCrear una columna con el precio en euros (cambio 1$ = 0.94€)"
   ]
  },
  {
   "cell_type": "code",
   "execution_count": 32,
   "id": "d8d37bdc",
   "metadata": {},
   "outputs": [
    {
     "name": "stdout",
     "output_type": "stream",
     "text": [
      "     Marca                   Modelo   Tipo  Potencia   Precio  Precio_Euros\n",
      "0    Acura                      MDX    SUV     265.0  33337.0      31336.78\n",
      "1    Acura           RSX Type S 2dr  Sedan     200.0  21761.0      20455.34\n",
      "2    Acura                  TSX 4dr  Sedan     200.0  24647.0      23168.18\n",
      "3    Acura                   TL 4dr  Sedan     270.0  30299.0      28481.06\n",
      "4    Acura               3.5 RL 4dr  Sedan     225.0  39014.0      36673.16\n",
      "..     ...                      ...    ...       ...      ...           ...\n",
      "423  Volvo  C70 LPT convertible 2dr  Sedan     197.0  38203.0      35910.82\n",
      "424  Volvo  C70 HPT convertible 2dr  Sedan     242.0  40083.0      37678.02\n",
      "425  Volvo               S80 T6 4dr  Sedan     268.0  42573.0      40018.62\n",
      "426  Volvo                      V40  Wagon     170.0  24641.0      23162.54\n",
      "427  Volvo                     XC70  Wagon     208.0  33112.0      31125.28\n",
      "\n",
      "[428 rows x 6 columns]\n"
     ]
    }
   ],
   "source": [
    "data['Precio_Euros']=data.Precio * 0.94\n",
    "print(data)"
   ]
  },
  {
   "cell_type": "code",
   "execution_count": null,
   "id": "93ba6099",
   "metadata": {},
   "outputs": [],
   "source": [
    "#D.\tMostrar las 10 últimas filas del DataFrame."
   ]
  },
  {
   "cell_type": "code",
   "execution_count": 34,
   "id": "222b8ffc",
   "metadata": {},
   "outputs": [
    {
     "name": "stdout",
     "output_type": "stream",
     "text": [
      "     Marca                   Modelo   Tipo  Potencia   Precio  Precio_Euros\n",
      "417  Volvo                  S40 4dr  Sedan     170.0  23701.0      22278.94\n",
      "418  Volvo              S60 2.5 4dr  Sedan     208.0  29916.0      28121.04\n",
      "419  Volvo               S60 T5 4dr  Sedan     247.0  32902.0      30927.88\n",
      "420  Volvo                S60 R 4dr  Sedan     300.0  35382.0      33259.08\n",
      "421  Volvo              S80 2.9 4dr  Sedan     208.0  35542.0      33409.48\n",
      "422  Volvo             S80 2.5T 4dr  Sedan     194.0  35688.0      33546.72\n",
      "423  Volvo  C70 LPT convertible 2dr  Sedan     197.0  38203.0      35910.82\n",
      "424  Volvo  C70 HPT convertible 2dr  Sedan     242.0  40083.0      37678.02\n",
      "425  Volvo               S80 T6 4dr  Sedan     268.0  42573.0      40018.62\n",
      "426  Volvo                      V40  Wagon     170.0  24641.0      23162.54\n",
      "427  Volvo                     XC70  Wagon     208.0  33112.0      31125.28\n"
     ]
    }
   ],
   "source": [
    "print(data.iloc[-11:])\n"
   ]
  },
  {
   "cell_type": "code",
   "execution_count": null,
   "id": "e3131b39",
   "metadata": {},
   "outputs": [],
   "source": [
    "#E.\tMostrar el número de marcas de coches que contiene el DataFrame."
   ]
  },
  {
   "cell_type": "code",
   "execution_count": 36,
   "id": "283ee416",
   "metadata": {},
   "outputs": [
    {
     "name": "stdout",
     "output_type": "stream",
     "text": [
      "Cantidad de Marcas: 38\n"
     ]
    }
   ],
   "source": [
    "print(\"Cantidad de Marcas:\", len(data.Marca.unique()))"
   ]
  },
  {
   "cell_type": "code",
   "execution_count": null,
   "id": "db52dfab",
   "metadata": {},
   "outputs": [],
   "source": [
    "#F.\tMostrar el número de modelos de cada marca que hay en el DataFrame, de mayor a menor frecuencia."
   ]
  },
  {
   "cell_type": "code",
   "execution_count": 37,
   "id": "49c76463",
   "metadata": {},
   "outputs": [
    {
     "name": "stdout",
     "output_type": "stream",
     "text": [
      "Toyota           28\n",
      "Chevrolet        27\n",
      "Mercedes-Benz    26\n",
      "Ford             23\n",
      "BMW              20\n",
      "Audi             19\n",
      "Honda            17\n",
      "Nissan           17\n",
      "Volkswagen       15\n",
      "Chrysler         15\n",
      "Dodge            13\n",
      "Mitsubishi       13\n",
      "Volvo            12\n",
      "Jaguar           12\n",
      "Hyundai          12\n",
      "Subaru           11\n",
      "Pontiac          11\n",
      "Mazda            11\n",
      "Lexus            11\n",
      "Kia              11\n",
      "Buick             9\n",
      "Mercury           9\n",
      "Lincoln           9\n",
      "Saturn            8\n",
      "Cadillac          8\n",
      "Suzuki            8\n",
      "Infiniti          8\n",
      "GMC               8\n",
      "Acura             7\n",
      "Porsche           7\n",
      "Saab              7\n",
      "Land Rover        3\n",
      "Oldsmobile        3\n",
      "Jeep              3\n",
      "Scion             2\n",
      "Isuzu             2\n",
      "MINI              2\n",
      "Hummer            1\n",
      "Name: Marca, dtype: int64\n"
     ]
    }
   ],
   "source": [
    "print(data.Marca.value_counts(ascending = False))"
   ]
  },
  {
   "cell_type": "code",
   "execution_count": null,
   "id": "c49787f6",
   "metadata": {},
   "outputs": [],
   "source": [
    "#G.\tMostrar cuál es la marca y el modelo del coche más caro."
   ]
  },
  {
   "cell_type": "code",
   "execution_count": 38,
   "id": "ab7fe40c",
   "metadata": {},
   "outputs": [
    {
     "name": "stdout",
     "output_type": "stream",
     "text": [
      "       Marca       Modelo\n",
      "334  Porsche  911 GT2 2dr\n"
     ]
    }
   ],
   "source": [
    "print(data[data.Precio == data.Precio.max()][[\"Marca\", \"Modelo\"]])"
   ]
  },
  {
   "cell_type": "code",
   "execution_count": null,
   "id": "17d2a9d1",
   "metadata": {},
   "outputs": [],
   "source": [
    "#H.\tMostrar el precio medio en euros de los coches agrupando por marca y ordenando de menor a mayor precio."
   ]
  },
  {
   "cell_type": "code",
   "execution_count": 39,
   "id": "6856f21c",
   "metadata": {},
   "outputs": [
    {
     "name": "stdout",
     "output_type": "stream",
     "text": [
      "Marca\n",
      "Scion            12135.400000\n",
      "Kia              13996.941818\n",
      "Suzuki           14937.775000\n",
      "Hyundai          15073.213333\n",
      "Saturn           15103.920000\n",
      "MINI             15779.780000\n",
      "Honda            18341.998824\n",
      "Mazda            18980.907273\n",
      "Toyota           19078.172857\n",
      "Oldsmobile       20444.060000\n",
      "Mitsubishi       20524.683077\n",
      "Ford             20635.820000\n",
      "Pontiac          20830.058182\n",
      "Jeep             21285.986667\n",
      "Nissan           21617.622353\n",
      "Subaru           21899.692727\n",
      "Chevrolet        22617.165926\n",
      "Dodge            22710.472308\n",
      "Isuzu            23141.860000\n",
      "Chrysler         23753.862667\n",
      "Mercury          24118.102222\n",
      "GMC              24712.012500\n",
      "Buick            26183.595556\n",
      "Volkswagen       27901.706667\n",
      "Infiniti         30907.200000\n",
      "Volvo            32163.196667\n",
      "Saab             33483.068571\n",
      "Acura            36275.405714\n",
      "Lexus            36434.400000\n",
      "Lincoln          36787.631111\n",
      "Audi             36970.298947\n",
      "BMW              37243.411000\n",
      "Land Rover       39339.940000\n",
      "Hummer           43066.100000\n",
      "Cadillac         43641.262500\n",
      "Jaguar           52732.511667\n",
      "Mercedes-Benz    53066.109231\n",
      "Porsche          69243.085714\n",
      "Name: Precio_Euros, dtype: float64\n"
     ]
    }
   ],
   "source": [
    "print(data.groupby(\"Marca\")[\"Precio_Euros\"].mean().sort_values())"
   ]
  },
  {
   "cell_type": "code",
   "execution_count": null,
   "id": "d8b12b9a",
   "metadata": {},
   "outputs": [],
   "source": [
    "#I.\tGráfica el diagrama de barras del porcentaje de modelos de cada marca."
   ]
  },
  {
   "cell_type": "code",
   "execution_count": 41,
   "id": "492a3fd2",
   "metadata": {},
   "outputs": [
    {
     "data": {
      "text/plain": [
       "<AxesSubplot:title={'center':'Modelos por marca'}>"
      ]
     },
     "execution_count": 41,
     "metadata": {},
     "output_type": "execute_result"
    },
    {
     "data": {
      "image/png": "[encoded data removed]",
      "text/plain": [
       "<Figure size 640x480 with 1 Axes>"
      ]
     },
     "metadata": {},
     "output_type": "display_data"
    }
   ],
   "source": [
    "data.Marca.value_counts(normalize = True).plot(color='green',kind = \"bar\", title = \"Modelos por marca\")"
   ]
  },
  {
   "cell_type": "code",
   "execution_count": null,
   "id": "df386096",
   "metadata": {},
   "outputs": [],
   "source": [
    "#J.\tGráfica el diagrama de dispersión de la potencia y el precio."
   ]
  },
  {
   "cell_type": "code",
   "execution_count": 42,
   "id": "a87dda26",
   "metadata": {},
   "outputs": [
    {
     "data": {
      "text/plain": [
       "<AxesSubplot:title={'center':'Potencia-Precio'}, xlabel='Potencia', ylabel='Precio_Euros'>"
      ]
     },
     "execution_count": 42,
     "metadata": {},
     "output_type": "execute_result"
    },
    {
     "data": {
      "image/png": "[encoded data removed]",
      "text/plain": [
       "<Figure size 640x480 with 1 Axes>"
      ]
     },
     "metadata": {},
     "output_type": "display_data"
    }
   ],
   "source": [
    "data.plot(x ='Potencia', y = 'Precio_Euros',kind = \"scatter\", title = \"Potencia-Precio\")"
   ]
  },
  {
   "cell_type": "code",
   "execution_count": null,
   "id": "da35e91c",
   "metadata": {},
   "outputs": [],
   "source": [
    "#En este ejercicio se aprendio a realizar graficas y operaciones a partir de un dataframe"
   ]
  }
 ],
 "metadata": {
  "kernelspec": {
   "display_name": "Python 3 (ipykernel)",
   "language": "python",
   "name": "python3"
  },
  "language_info": {
   "codemirror_mode": {
    "name": "ipython",
    "version": 3
   },
   "file_extension": ".py",
   "mimetype": "text/x-python",
   "name": "python",
   "nbconvert_exporter": "python",
   "pygments_lexer": "ipython3",
   "version": "3.9.13"
  }
 },
 "nbformat": 4,
 "nbformat_minor": 5
}
