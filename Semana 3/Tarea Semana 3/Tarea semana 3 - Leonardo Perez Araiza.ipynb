{
 "cells": [
  {
   "cell_type": "markdown",
   "id": "00fc0f7c",
   "metadata": {},
   "source": [
    "# TAREA SEMANA 3 : FUNDAMENTOS DE PYTHON\n",
    "\n",
    "## Nombre: Leonardo Perez Araiza"
   ]
  },
  {
   "cell_type": "markdown",
   "id": "2a15b3b0",
   "metadata": {},
   "source": [
    "### Ejercicio 1\n",
    "Escribir dos funciones que simulan una calculadora científica que permita calcular el seno, coseno, tangente, exponencial y logaritmo neperiano o natural (logaritmo en base euler). \n"
   ]
  },
  {
   "cell_type": "markdown",
   "id": "1c767a06",
   "metadata": {},
   "source": [
    "A. La función uno preguntará al usuario el intervalo donde quiere aplicar la función matemática y la función a aplicar, y mostrará por pantalla una tabla donde la primera columna será los valores del intervalo dado (x) y la columna 2 tendrá los resultados de el resultado de aplicar la función a este intervalo (y).\n"
   ]
  },
  {
   "cell_type": "code",
   "execution_count": null,
   "id": "fa1fb089",
   "metadata": {},
   "outputs": [],
   "source": [
    "import pandas as pd \n",
    "import matplotlib.pyplot as plt \n",
    "import numpy as np\n",
    "import math\n",
    "\n",
    "def funcion ():\n",
    "    funcion_df = pd.DataFrame()\n",
    "    cifra =[]\n",
    "    sel = int()\n",
    "    funcion = str(input(\"Selecciona una funcion de la siguiente lista\\n A.Seno\\n B.Coseno\\n C.Tangente\\n D.Exponencial\\n E.Logaritmo Natural\\n\"))\n",
    "    funcion.lower()\n",
    "    if funcion == 'a':\n",
    "        seno =[]\n",
    "        inicio = int(input('Especifica un valor entero de inicio:'))\n",
    "        final = int(input('Especifica un valor entero final:'))+1\n",
    "        for n in range (inicio,final):\n",
    "            cifra.append(n)\n",
    "            seno.append(math.sin(n))\n",
    "        funcion_df['Cifra'] = cifra\n",
    "        funcion_df['Seno'] = seno   \n",
    "        print(funcion_df)\n",
    "        sel = 1\n",
    "        return (sel,inicio,final,seno)\n",
    "    elif funcion == 'b':\n",
    "        coseno =[]\n",
    "        inicio = int(input('Especifica un valor entero de inicio:'))\n",
    "        final = int(input('Especifica un valor entero final:'))+1\n",
    "        for n in range (inicio,final):\n",
    "            cifra.append(n)\n",
    "            coseno.append(math.cos(n))\n",
    "        funcion_df['Cifra'] = cifra\n",
    "        funcion_df['Coseno'] = coseno   \n",
    "        print(funcion_df)\n",
    "        sel = 2\n",
    "        return (sel,inicio,final,coseno)\n",
    "    elif funcion == 'c':\n",
    "        tangente =[]\n",
    "        inicio = int(input('Especifica un valor entero de inicio:'))\n",
    "        final = int(input('Especifica un valor entero final:'))+1\n",
    "        for n in range (inicio,final):\n",
    "            cifra.append(n)\n",
    "            tangente.append(math.tan(n))\n",
    "        funcion_df['Cifra'] = cifra\n",
    "        funcion_df['Tangente'] = tangente\n",
    "        print(funcion_df)\n",
    "        sel = 3\n",
    "        return (sel,inicio,final,tangente)\n",
    "    elif funcion == 'd':\n",
    "        exponente = []\n",
    "        inicio = int(input('Especifica un valor entero de inicio:'))\n",
    "        final = int(input('Especifica un valor entero final:'))+1\n",
    "        for n in range (inicio,final):\n",
    "            cifra.append(n)\n",
    "            exponente.append(math.exp(n))\n",
    "        funcion_df['Cifra'] = cifra\n",
    "        funcion_df['Exponente'] = exponente\n",
    "        print(funcion_df)\n",
    "        sel = 4\n",
    "        return (sel,inicio,final,exponente)\n",
    "    elif funcion == 'e':\n",
    "        logaritmo = []\n",
    "        inicio = int(input('Especifica un valor entero de inicio mayor a cero:'))\n",
    "        final = int(input('Especifica un valor entero final:'))+1\n",
    "        for n in range (inicio,final):\n",
    "            cifra.append(n)\n",
    "            logaritmo.append(math.log(n))\n",
    "        funcion_df['Cifra'] = cifra\n",
    "        funcion_df['Logaritmo'] = logaritmo\n",
    "        print(funcion_df)\n",
    "        sel = 5\n",
    "        return (sel,inicio,final,logaritmo)\n",
    "    else:\n",
    "        print ('OPCION INVALIDA')\n",
    "        pass\n",
    "\n",
    "x = funcion()"
   ]
  },
  {
   "cell_type": "markdown",
   "id": "432ffaf1",
   "metadata": {},
   "source": [
    "EXPLICACION: Me di a la tarea de hacer un ciclo para cada funcion para no tener ningun problema a la hora de darle seguimiento a los datos, tal vez pude haber hecho una funcion mas corta o simplificar la funcion ejecutando un solo ciclo independientemente de la funcion a calcular"
   ]
  },
  {
   "cell_type": "markdown",
   "id": "3bd68a67",
   "metadata": {},
   "source": [
    "B. La función dos graficara con matplotlib el resultado de función anterior y la mostrará en pantalla. Recuerden poner los títulos ejes y demás configuraciones de las gráficas para que queden de la mejor manera posible.\n"
   ]
  },
  {
   "cell_type": "code",
   "execution_count": null,
   "id": "d561d0b2",
   "metadata": {},
   "outputs": [],
   "source": [
    "def grafica (fun,x,y,f):\n",
    "    if fun == 1:\n",
    "        fig = plt.figure()\n",
    "        ax = fig.add_subplot()\n",
    "        fig.suptitle('Funcion seno', fontsize=13, fontweight='bold')\n",
    "        ax.set_xlabel('Valores')\n",
    "        ax.set_ylabel('Valor de seno')\n",
    "        plt.ylim(-1.5,1.5)\n",
    "        plt.plot(range (x,y),f,\"r\")\n",
    "    elif fun == 2:\n",
    "        fig = plt.figure()\n",
    "        ax = fig.add_subplot()\n",
    "        fig.suptitle('Funcion coseno', fontsize=13, fontweight='bold')\n",
    "        ax.set_xlabel('Valores')\n",
    "        ax.set_ylabel('Valor de coseno')\n",
    "        plt.ylim(-1.5,1.5)\n",
    "        plt.plot(range (x,y),f,\"r\")\n",
    "    elif fun == 3:\n",
    "        fig = plt.figure()\n",
    "        ax = fig.add_subplot()\n",
    "        fig.suptitle('Funcion tangente', fontsize=13, fontweight='bold')\n",
    "        ax.set_xlabel('Valores')\n",
    "        ax.set_ylabel('Valor de tangente')\n",
    "        plt.ylim(-10,10)\n",
    "        plt.plot(range (x,y),f,\"r\")\n",
    "    elif fun == 4:\n",
    "        fig = plt.figure()\n",
    "        ax = fig.add_subplot()\n",
    "        fig.suptitle('Funcion exponencial', fontsize=13, fontweight='bold')\n",
    "        ax.set_xlabel('Valores')\n",
    "        ax.set_ylabel('Valores exponenciales')\n",
    "        plt.ylim(0,exponente[final-inicio-1])\n",
    "        plt.plot(range (x,y),f,\"r\")\n",
    "    else: \n",
    "        fig = plt.figure()\n",
    "        ax = fig.add_subplot()\n",
    "        fig.suptitle('Funcion del logaritmo natural', fontsize=13, fontweight='bold')\n",
    "        ax.set_xlabel('Valores')\n",
    "        ax.set_ylabel('Valor del logaritmo natural')\n",
    "        plt.ylim(0,logaritmo[final-inicio-1])\n",
    "        plt.plot(range (x,y),f,\"r\")\n",
    "\n",
    "grafica(x[0],x[1],x[2],x[3])"
   ]
  },
  {
   "cell_type": "markdown",
   "id": "26bab717",
   "metadata": {},
   "source": [
    "EXPLICACION: De igual modo hice un ciclo para cada funcion matematica ya que en algunos los valores quedaban por fuera de la grafica y no se alcanzaban a apreciar, asi que hice un ajuste para cada una de ellas"
   ]
  },
  {
   "cell_type": "markdown",
   "id": "69c65e2f",
   "metadata": {},
   "source": [
    "### Ejercicio 2\n",
    "Escribir un programa para ver los beneficios de una empresa en un periodo de años.\n",
    "El programa debe cumplir los siguientes requisitos:\n",
    "\n"
   ]
  },
  {
   "cell_type": "markdown",
   "id": "1a070d60",
   "metadata": {},
   "source": [
    "El programa tiene que preguntar al usuario por un año inicial y otro final, y después preguntar por los ingresos y egresos de cada año desde el año inicial hasta el año final.\n",
    "Debe garantizar que por lo menos haya 5 años entre el año inicial y el final.\n",
    "Con los datos introducidos se deben crear un dataframe, con las columnas fecha, ingresos y egresos.\n",
    "El programa debe generar otra columna con el beneficio de cada año (ingresos menos egresos) y mostrarla por pantalla.\n",
    "El programa debe crear otra columna llamada ganancia la cuál indique para cada año si ha habido beneficios o no de manera booleana y mostrarla por pantalla.\n",
    "Finalmente el programa debe mostrar por pantalla la lista de los años con pérdidas.\n"
   ]
  },
  {
   "cell_type": "code",
   "execution_count": null,
   "id": "31265fd2",
   "metadata": {},
   "outputs": [],
   "source": [
    "import pandas as pd \n",
    "import numpy as np\n",
    "\n",
    "inicio = int(input('Establece el año inicial '))\n",
    "final = int(input('Establece el año final '))\n",
    "periodo = int(final-inicio)\n",
    "if periodo >= 6:\n",
    "    fecha = []\n",
    "    ingreso = []\n",
    "    egreso = []\n",
    "    beneficio = []\n",
    "    perdida = []\n",
    "    ganancia = []\n",
    "    flag = bool()\n",
    "    beneficios_df = pd.DataFrame()\n",
    "    for n in range(periodo+1):\n",
    "        fecha.append(inicio+n)\n",
    "    for n in range(periodo+1):\n",
    "        print (\"Introduce el ingreso en el año\",inicio+n)\n",
    "        ingreso.append(float(input()))\n",
    "    for n in range(periodo+1):\n",
    "        print (\"Introduce el egreso en el año\",inicio+n)\n",
    "        egreso.append(float(input()))\n",
    "    for n in range(periodo+1):\n",
    "        beneficio.append(ingreso[n]-egreso[n])\n",
    "    for n in range(periodo+1):\n",
    "        if beneficio[n] > 0:\n",
    "            flag = True\n",
    "        else:\n",
    "            flag = False\n",
    "        ganancia.append(flag)\n",
    "    beneficios_df ['Año'] = fecha\n",
    "    beneficios_df ['Año'] = fecha\n",
    "    beneficios_df ['Ingresos'] = ingreso\n",
    "    beneficios_df ['Egresos'] = egreso\n",
    "    beneficios_df ['Beneficios'] = beneficio\n",
    "    beneficios_df ['Ganancias'] = ganancia\n",
    "    print (beneficios_df)\n",
    "    mascara = beneficios_df['Ganancias']==False\n",
    "    print (\"Años con perdidas:\\n\",beneficios_df[mascara]['Año']) \n",
    "else:\n",
    "    print ('OPCION INVALIDA\\nDebe de haber por lo menos 5 años entre el año inicial y el año final')"
   ]
  },
  {
   "cell_type": "markdown",
   "id": "448ce33f",
   "metadata": {},
   "source": [
    "EXPLICACION: Aqui no me fue posible hacer cada inciso por celdas ya que todo el programa quedo dentro de un ciclo para cumplir la condicion inicial de tener un periodo de cinco años, al final lo mas dificil en este programa para mi fue implementar una mascara para mostrar los años con perdidas "
   ]
  },
  {
   "cell_type": "markdown",
   "id": "4457ab17",
   "metadata": {},
   "source": [
    "### Ejercicio 3\n",
    "El fichero horas-trabajo.csv contiene el número de horas mensuales trabajadas por los empleados de una empresa durante el primer cuatrimestre. Crear un programa que realice las siguientes operaciones utilizando la librería Pandas:\n"
   ]
  },
  {
   "cell_type": "code",
   "execution_count": 8,
   "id": "fbc145de",
   "metadata": {},
   "outputs": [],
   "source": [
    "import pandas as pd \n",
    "import numpy as np\n",
    "\n",
    "def constcol(col,lista):\n",
    "    flist = list()\n",
    "    for n in range(len(lista)-1):\n",
    "        nlist = list()\n",
    "        nlist = lista[n+1]\n",
    "        flist.append(nlist[col])\n",
    "    return flist\n",
    "\n",
    "def constcolint(col,lista):\n",
    "    flist = list()\n",
    "    for n in range(len(lista)-1):\n",
    "        nlist = list()\n",
    "        nlist = lista[n+1]\n",
    "        flist.append(nlist[col])\n",
    "    for n in range(len(flist)):\n",
    "        if flist[n] == '':\n",
    "            flist[n] = 0\n",
    "        else:\n",
    "            flist[n] = int(flist[n])\n",
    "    return flist\n",
    "\n",
    "import csv\n",
    "lista = list()\n",
    "with open(\"horas-trabajo.csv\", newline='') as archivo:\n",
    "        lector = csv.reader(archivo,delimiter=\";\")\n",
    "        lista = list(lector)\n",
    "horas = pd.DataFrame()\n",
    "horas['ID'] = constcol(0,lista)\n",
    "horas['Departamento'] = constcol(1,lista)\n",
    "horas['Enero'] = constcolint(2,lista)\n",
    "horas['Febrero'] = constcolint(3,lista)\n",
    "horas['Marzo'] = constcolint(4,lista)\n",
    "horas['Abril'] = constcolint(5,lista)"
   ]
  },
  {
   "cell_type": "markdown",
   "id": "92a79eb7",
   "metadata": {},
   "source": [
    "Lo primero fue vaciar los datos del CSV a un nuevo data frame, utilice dos funciones, una para las variables string y otra para los enteros"
   ]
  },
  {
   "cell_type": "markdown",
   "id": "f8a0dbc3",
   "metadata": {},
   "source": [
    "A. Crea una columna con el número total de horas trabajadas para cada operador."
   ]
  },
  {
   "cell_type": "code",
   "execution_count": 10,
   "id": "8f79ae61",
   "metadata": {},
   "outputs": [
    {
     "name": "stdout",
     "output_type": "stream",
     "text": [
      "     ID Departamento  Enero  Febrero  Marzo  Abril  Horas por operador\n",
      "0   OP1  Proveedores    180      160    140    180                 660\n",
      "1   OP2       Ventas    120      140      0    100                 360\n",
      "2   OP3       Ventas     80       90     80     80                 330\n",
      "3   OP5           IT    180      170    180    180                 710\n",
      "4   OP6    Marketing    100        0    100      0                 200\n",
      "5   OP7       Ventas    160      160    160    160                 640\n",
      "6   OP8  Proveedores    100       80    110     80                 370\n",
      "7   OP9           IT     80       80     80     80                 320\n",
      "8  OP10       Ventas    180      160    180    180                 700\n"
     ]
    }
   ],
   "source": [
    "horas['Horas por operador'] = horas.sum(axis=1,numeric_only=True)\n",
    "print (horas)"
   ]
  },
  {
   "cell_type": "markdown",
   "id": "679f3bb2",
   "metadata": {},
   "source": [
    "EXPLICACION: Con sum se hace una suma de todos los datos numericos recorriendo en el eje x y todo lo guarde en una nueva columna del data frame"
   ]
  },
  {
   "cell_type": "markdown",
   "id": "1114dec8",
   "metadata": {},
   "source": [
    "B. Muestra cual es el promedio de horas trabajadas en total en la empresa durante el mes Marzo"
   ]
  },
  {
   "cell_type": "code",
   "execution_count": null,
   "id": "fcfeb2a0",
   "metadata": {},
   "outputs": [],
   "source": [
    "print (\"El promedio de horas trabajadas en el mes de marzo es:\",horas['Marzo'].mean())"
   ]
  },
  {
   "cell_type": "markdown",
   "id": "043bb2e4",
   "metadata": {},
   "source": [
    "EXPLICACION: Con mean se aplica el promedio a la columna marzo, antes sustitui los valores vacios por cero para evitar promediar entre menos valores"
   ]
  },
  {
   "cell_type": "markdown",
   "id": "254c3e25",
   "metadata": {},
   "source": [
    "C. Muestra cuántos operadores hay por cada departamento de la empresa.\n"
   ]
  },
  {
   "cell_type": "code",
   "execution_count": null,
   "id": "fc259d9a",
   "metadata": {},
   "outputs": [],
   "source": [
    "print (\"NUMERO DE OPERADORES POR DEPARTAMENTO\\n\",horas['Departamento'].value_counts())"
   ]
  },
  {
   "cell_type": "markdown",
   "id": "68ee910a",
   "metadata": {},
   "source": [
    "EXPLICACION: Se hace un conteo de los diferentes valores en 'Departamento' y se imprime"
   ]
  },
  {
   "cell_type": "markdown",
   "id": "7da918ef",
   "metadata": {},
   "source": [
    "D. Muestra el número de empleados que han trabajado todos los meses, es decir, que tienen un número de horas todos los meses del cuatrimestre."
   ]
  },
  {
   "cell_type": "code",
   "execution_count": null,
   "id": "9d36a104",
   "metadata": {},
   "outputs": [],
   "source": [
    "horas.replace(0, np.nan, inplace=True)\n",
    "horas = horas.dropna()\n",
    "print (\"NUMERO DE OPERADORES QUE TRABAJARON TODOS LOS MESES\\n\",horas['Departamento'].value_counts())"
   ]
  },
  {
   "cell_type": "markdown",
   "id": "e55e0454",
   "metadata": {},
   "source": [
    "EXPLICACION: Reemplace todos los valores de 0 con NAN para poder deshacerme de esas filas y despues solo conte las restantes"
   ]
  },
  {
   "cell_type": "markdown",
   "id": "54caab43",
   "metadata": {},
   "source": [
    "### Ejercicio 4\n",
    "Crear un programa utilizando la librería Pandas y Matplotlib que realice lo siguiente:\n"
   ]
  },
  {
   "cell_type": "markdown",
   "id": "e73ba1a8",
   "metadata": {},
   "source": [
    "A. Crear el siguiente DataFrame indexado:"
   ]
  },
  {
   "cell_type": "code",
   "execution_count": null,
   "id": "c01e3b10",
   "metadata": {},
   "outputs": [],
   "source": [
    "import pandas as pd \n",
    "import matplotlib.pyplot as plt \n",
    "import numpy as np\n",
    "from mpl_toolkits.axes_grid1 import host_subplot\n",
    "\n",
    "cal = pd.DataFrame()\n",
    "cal ['Dia'] = ['Lunes','Martes','Miercoles','Jueves','Viernes']\n",
    "cal ['Calorias'] = [420,380,390,490,300]\n",
    "cal ['Tiempo'] = [60,40,75,55,45]\n",
    "print (cal)"
   ]
  },
  {
   "cell_type": "markdown",
   "id": "7ed5f07d",
   "metadata": {},
   "source": [
    "EXPLICACION: Hice una lista por cada columna y luego la pase a cada columna del data frame"
   ]
  },
  {
   "cell_type": "markdown",
   "id": "9e439691",
   "metadata": {},
   "source": [
    "B. Calcular la media, mediana y desviación típica de ambas columnas.\n"
   ]
  },
  {
   "cell_type": "code",
   "execution_count": null,
   "id": "4e08f968",
   "metadata": {},
   "outputs": [],
   "source": [
    "print (\"Media de calorias:\",cal['Calorias'].mean())\n",
    "print (\"Media de tiempo:\",cal['Tiempo'].mean())\n",
    "print (\"Mediana de calorias:\",cal['Calorias'].median())\n",
    "print (\"Mediana de tiempo:\",cal['Tiempo'].median())\n",
    "print (\"Desviacion estandar de calorias:\",cal['Calorias'].std())\n",
    "print (\"Desviacion estandar de tiempo:\",cal['Tiempo'].std())"
   ]
  },
  {
   "cell_type": "markdown",
   "id": "3568298d",
   "metadata": {},
   "source": [
    "EXPLICACION: Se hace el calculo para cada columna usando mean median y std y despues se imprime"
   ]
  },
  {
   "cell_type": "markdown",
   "id": "61021bb4",
   "metadata": {},
   "source": [
    "C. Añadir otra columna booleana al DataFrame para ver si se ha cumplido el reto de quemar más de 400 calorías por hora. La nueva columna debe generarse aplicando una fórmula a las otras columnas. \n"
   ]
  },
  {
   "cell_type": "code",
   "execution_count": null,
   "id": "8cc4c56a",
   "metadata": {},
   "outputs": [],
   "source": [
    "cal ['Reto cumplido'] = (cal['Calorias']>400) & (cal['Tiempo']<=60)\n",
    "print (cal)"
   ]
  },
  {
   "cell_type": "markdown",
   "id": "3d5bcf6f",
   "metadata": {},
   "source": [
    "EXPLICACION: Se hace una operacion booleana AND para determinar que se cumplen con ambas condiciones y se guardan en una nueva columna"
   ]
  },
  {
   "cell_type": "markdown",
   "id": "ed9270b0",
   "metadata": {},
   "source": [
    "D. Filtrar el DataFrame y devolver otro DataFrame con las filas que cumplan que el número de calorías es mayor de 400.\n"
   ]
  },
  {
   "cell_type": "code",
   "execution_count": null,
   "id": "5e066d17",
   "metadata": {},
   "outputs": [],
   "source": [
    "cal[cal['Calorias']>400]"
   ]
  },
  {
   "cell_type": "markdown",
   "id": "31283415",
   "metadata": {},
   "source": [
    "EXPLICACION:  Se hace una comparacion y esto devuelve un data frame en el que solo se incluyen las lineas que cumplen con la condicionante"
   ]
  },
  {
   "cell_type": "markdown",
   "id": "d6a57e64",
   "metadata": {},
   "source": [
    "E. Añadir otra columna con los porcentajes de días que se ha conseguido el reto y los que no.\n"
   ]
  },
  {
   "cell_type": "code",
   "execution_count": null,
   "id": "cd5064b6",
   "metadata": {},
   "outputs": [],
   "source": [
    "cal['Porcentaje'] = cal['Calorias']/400*100\n",
    "print (cal)"
   ]
  },
  {
   "cell_type": "markdown",
   "id": "7d776f7c",
   "metadata": {},
   "source": [
    "EXPLICACION: Se hace un calculo del porcentaje tomando en cuenta 400 con el cien por ciento y se captura en una nueva columna"
   ]
  },
  {
   "cell_type": "markdown",
   "id": "911c31d8",
   "metadata": {},
   "source": [
    "F. Crear un gráfico donde se  muestre la progresión de las calorías y tiempo durante la semana.\n"
   ]
  },
  {
   "cell_type": "code",
   "execution_count": null,
   "id": "9c4dd245",
   "metadata": {},
   "outputs": [],
   "source": [
    "host = host_subplot(111)\n",
    "par = host.twinx()\n",
    "host.set_xlabel(\"Dia\")\n",
    "host.set_ylabel(\"Calorias\")\n",
    "par.set_ylabel(\"Tiempo (min)\")\n",
    "p1, = host.plot(cal['Dia'], cal['Calorias'], label=\"Calorias\")\n",
    "p2, = par.plot(cal['Dia'], cal['Tiempo'], label=\"Tiempo\")\n",
    "host.legend(labelcolor=\"linecolor\")\n",
    "host.yaxis.get_label().set_color(p1.get_color())\n",
    "par.yaxis.get_label().set_color(p2.get_color())\n",
    "plt.grid(True)\n",
    "plt.show()"
   ]
  },
  {
   "cell_type": "markdown",
   "id": "a4696e3a",
   "metadata": {},
   "source": [
    "EXPLICACION: Con una grafica que tome de ejemplo de la pagina de matplotlib, solo sustitui los valores que necesitaba para graficar dos valores en una sola grafica"
   ]
  },
  {
   "cell_type": "markdown",
   "id": "e7296311",
   "metadata": {},
   "source": [
    "### Ejercicio 5\n",
    "El fichero coches.csv contiene información sobre los modelos de coches vendidos en USA durante un determinado año. Se pide:\n",
    "\n"
   ]
  },
  {
   "cell_type": "markdown",
   "id": "3b819ca6",
   "metadata": {},
   "source": [
    "A. Crear un DataFrame a partir del fichero anterior.\n"
   ]
  },
  {
   "cell_type": "code",
   "execution_count": 43,
   "id": "be1c7d5d",
   "metadata": {},
   "outputs": [
    {
     "name": "stdout",
     "output_type": "stream",
     "text": [
      "     Marca                   Modelo   Tipo  Potencia   Precio\n",
      "0    Acura                      MDX    SUV     265.0  33337.0\n",
      "1    Acura           RSX Type S 2dr  Sedan     200.0  21761.0\n",
      "2    Acura                  TSX 4dr  Sedan     200.0  24647.0\n",
      "3    Acura                   TL 4dr  Sedan     270.0  30299.0\n",
      "4    Acura               3.5 RL 4dr  Sedan     225.0  39014.0\n",
      "..     ...                      ...    ...       ...      ...\n",
      "423  Volvo  C70 LPT convertible 2dr  Sedan     197.0  38203.0\n",
      "424  Volvo  C70 HPT convertible 2dr  Sedan     242.0  40083.0\n",
      "425  Volvo               S80 T6 4dr  Sedan     268.0  42573.0\n",
      "426  Volvo                      V40  Wagon     170.0  24641.0\n",
      "427  Volvo                     XC70  Wagon     208.0  33112.0\n",
      "\n",
      "[428 rows x 5 columns]\n"
     ]
    }
   ],
   "source": [
    "import pandas as pd \n",
    "import numpy as np\n",
    "\n",
    "def constcol(col,lista):\n",
    "    flist = list()\n",
    "    for n in range(len(lista)-1):\n",
    "        nlist = list()\n",
    "        nlist = lista[n+1]\n",
    "        flist.append(nlist[col])\n",
    "    return flist\n",
    "def constcolint(col,lista):\n",
    "    flist = list()\n",
    "    for n in range(len(lista)-1):\n",
    "        nlist = list()\n",
    "        nlist = lista[n+1]\n",
    "        flist.append(nlist[col])\n",
    "    for n in range(len(flist)):\n",
    "        if flist[n] == '':\n",
    "            flist[n] = 0\n",
    "        else:\n",
    "            flist[n] = float(flist[n])\n",
    "    return flist\n",
    "\n",
    "import csv\n",
    "lista = list()\n",
    "with open(\"coches.csv\", newline='') as archivo:\n",
    "        lector = csv.reader(archivo,delimiter=\";\")\n",
    "        lista = list(lector)\n",
    "coches = pd.DataFrame()\n",
    "cochesn = pd.DataFrame()\n",
    "coches['Marca'] = constcol(0,lista)\n",
    "coches['Modelo'] = constcol(1,lista)\n",
    "coches['Tipo'] = constcol(2,lista)\n",
    "coches['Potencia'] = constcolint(3,lista)\n",
    "coches['Precio'] = constcolint(4,lista)\n",
    "print (coches)"
   ]
  },
  {
   "cell_type": "markdown",
   "id": "e1546adf",
   "metadata": {},
   "source": [
    "EXPLICACION: Con las funciones creadas en el ejercicio anterior hice lo mismo para vaciarlos datos del CSV a un nuevo data frame"
   ]
  },
  {
   "cell_type": "markdown",
   "id": "671825b1",
   "metadata": {},
   "source": [
    "B. Eliminar las filas con valores desconocidos y mostrar el número de filas del DataFrame resultante."
   ]
  },
  {
   "cell_type": "code",
   "execution_count": 21,
   "id": "1c828c59",
   "metadata": {},
   "outputs": [
    {
     "name": "stdout",
     "output_type": "stream",
     "text": [
      "     Marca                   Modelo   Tipo  Potencia   Precio\n",
      "0    Acura                      MDX    SUV     265.0  33337.0\n",
      "1    Acura           RSX Type S 2dr  Sedan     200.0  21761.0\n",
      "2    Acura                  TSX 4dr  Sedan     200.0  24647.0\n",
      "3    Acura                   TL 4dr  Sedan     270.0  30299.0\n",
      "4    Acura               3.5 RL 4dr  Sedan     225.0  39014.0\n",
      "..     ...                      ...    ...       ...      ...\n",
      "423  Volvo  C70 LPT convertible 2dr  Sedan     197.0  38203.0\n",
      "424  Volvo  C70 HPT convertible 2dr  Sedan     242.0  40083.0\n",
      "425  Volvo               S80 T6 4dr  Sedan     268.0  42573.0\n",
      "426  Volvo                      V40  Wagon     170.0  24641.0\n",
      "427  Volvo                     XC70  Wagon     208.0  33112.0\n",
      "\n",
      "[421 rows x 5 columns]\n"
     ]
    }
   ],
   "source": [
    "cochesn = coches\n",
    "cochesn.replace(0, np.nan, inplace=True)\n",
    "cochesn = cochesn.dropna()\n",
    "print (cochesn)"
   ]
  },
  {
   "cell_type": "markdown",
   "id": "33c518b7",
   "metadata": {},
   "source": [
    "EXPLICACION: Para poder eliminar las flas que contenian valores desconocidos reemplace los ceros con NaN para poder utilizar la funcion drop y despues el resultante lo guarde en un nuevo data frame para poder desplegarlo"
   ]
  },
  {
   "cell_type": "markdown",
   "id": "686d6b06",
   "metadata": {},
   "source": [
    "C. Crear una columna con el precio en euros (cambio 1$ = 0.94€)\n"
   ]
  },
  {
   "cell_type": "code",
   "execution_count": null,
   "id": "24948bee",
   "metadata": {},
   "outputs": [],
   "source": [
    "coches['Precio EUR'] = coches['Precio']*0.94\n",
    "print (coches)"
   ]
  },
  {
   "cell_type": "markdown",
   "id": "5c83d024",
   "metadata": {},
   "source": [
    "EXPLICACION: En este caso solo multiplique el valor del precio por el valor en euros y lo guarde en una nueva columna"
   ]
  },
  {
   "cell_type": "markdown",
   "id": "2d3139ec",
   "metadata": {},
   "source": [
    "D. Mostrar las 10 últimas filas del DataFrame."
   ]
  },
  {
   "cell_type": "code",
   "execution_count": null,
   "id": "c558f519",
   "metadata": {},
   "outputs": [],
   "source": [
    "coches.tail(10)"
   ]
  },
  {
   "cell_type": "markdown",
   "id": "3cc899d7",
   "metadata": {},
   "source": [
    "EXPLICACION: La funcion tail permite mostrar las filas finales solamente hay que especificar cuantas quieres mostrar en este caso 10"
   ]
  },
  {
   "cell_type": "markdown",
   "id": "f06d1742",
   "metadata": {},
   "source": [
    "E. Mostrar el número de marcas de coches que contiene el DataFrame."
   ]
  },
  {
   "cell_type": "code",
   "execution_count": null,
   "id": "7a0d7097",
   "metadata": {},
   "outputs": [],
   "source": [
    "coches['Marca'].value_counts()"
   ]
  },
  {
   "cell_type": "markdown",
   "id": "ac76408a",
   "metadata": {},
   "source": [
    "EXPLICACION: Value counts permite desplegar el numero de elementos en una columna, en este caso el numero de elementos diferentes en 'Marca'"
   ]
  },
  {
   "cell_type": "markdown",
   "id": "f99d71c8",
   "metadata": {},
   "source": [
    "F. Mostrar el número de modelos de cada marca que hay en el DataFrame, de mayor a menor frecuencia.\n"
   ]
  },
  {
   "cell_type": "code",
   "execution_count": null,
   "id": "ad59477c",
   "metadata": {},
   "outputs": [],
   "source": [
    "coches.groupby('Marca')['Modelo'].value_counts()"
   ]
  },
  {
   "cell_type": "markdown",
   "id": "e922fbf6",
   "metadata": {},
   "source": [
    "EXPLICACION: De igual manera hice un conteo pero esta vez agrupando por marca y de esa manera averiguar cuantos modelos por marca hay"
   ]
  },
  {
   "cell_type": "markdown",
   "id": "7eba40eb",
   "metadata": {},
   "source": [
    "G. Mostrar cuál es la marca y el modelo del coche más caro.\n"
   ]
  },
  {
   "cell_type": "code",
   "execution_count": null,
   "id": "0da12119",
   "metadata": {},
   "outputs": [],
   "source": [
    "mascara = coches.iloc[coches['Precio'].idxmax()]\n",
    "print ('El auto mas caro es el modelo',mascara['Modelo'],'de la marca',mascara['Marca'])"
   ]
  },
  {
   "cell_type": "markdown",
   "id": "87072c4e",
   "metadata": {},
   "source": [
    "EXPLICACION: Hice una variable que localizara la fila con el valor mas alto en 'Precio' y de ahi extraje el modelo y la marca para desplegarlos"
   ]
  },
  {
   "cell_type": "markdown",
   "id": "5ead3a5e",
   "metadata": {},
   "source": [
    "H. Mostrar el precio medio en euros de los coches agrupando por marca y ordenando de menor a mayor precio.\n"
   ]
  },
  {
   "cell_type": "code",
   "execution_count": null,
   "id": "a8095a75",
   "metadata": {},
   "outputs": [],
   "source": [
    "mascara = coches.groupby('Marca')['Precio'].mean()\n",
    "print(mascara.sort_values())"
   ]
  },
  {
   "cell_type": "markdown",
   "id": "e2c69e99",
   "metadata": {},
   "source": [
    "EXPLICACION: Con una variable primero agrupe los coches por marca y despues esa variable la acomode para que fueran de menor  a mayor"
   ]
  },
  {
   "cell_type": "markdown",
   "id": "721d3210",
   "metadata": {},
   "source": [
    "I. Gráfica el diagrama de barras del porcentaje de modelos de cada marca."
   ]
  },
  {
   "cell_type": "code",
   "execution_count": 3,
   "id": "a3370885",
   "metadata": {},
   "outputs": [
    {
     "name": "stderr",
     "output_type": "stream",
     "text": [
      "C:\\Users\\elper\\AppData\\Local\\Temp\\ipykernel_12272\\3301221075.py:54: UserWarning: Boolean Series key will be reindexed to match DataFrame index.\n",
      "  orden.append(porc[mask][mask1]['Porcentaje'])\n",
      "C:\\Users\\elper\\AppData\\Local\\Temp\\ipykernel_12272\\3301221075.py:54: UserWarning: Boolean Series key will be reindexed to match DataFrame index.\n",
      "  orden.append(porc[mask][mask1]['Porcentaje'])\n",
      "C:\\Users\\elper\\AppData\\Local\\Temp\\ipykernel_12272\\3301221075.py:54: UserWarning: Boolean Series key will be reindexed to match DataFrame index.\n",
      "  orden.append(porc[mask][mask1]['Porcentaje'])\n",
      "C:\\Users\\elper\\AppData\\Local\\Temp\\ipykernel_12272\\3301221075.py:54: UserWarning: Boolean Series key will be reindexed to match DataFrame index.\n",
      "  orden.append(porc[mask][mask1]['Porcentaje'])\n",
      "C:\\Users\\elper\\AppData\\Local\\Temp\\ipykernel_12272\\3301221075.py:54: UserWarning: Boolean Series key will be reindexed to match DataFrame index.\n",
      "  orden.append(porc[mask][mask1]['Porcentaje'])\n",
      "C:\\Users\\elper\\AppData\\Local\\Temp\\ipykernel_12272\\3301221075.py:54: UserWarning: Boolean Series key will be reindexed to match DataFrame index.\n",
      "  orden.append(porc[mask][mask1]['Porcentaje'])\n",
      "C:\\Users\\elper\\AppData\\Local\\Temp\\ipykernel_12272\\3301221075.py:54: UserWarning: Boolean Series key will be reindexed to match DataFrame index.\n",
      "  orden.append(porc[mask][mask1]['Porcentaje'])\n",
      "C:\\Users\\elper\\AppData\\Local\\Temp\\ipykernel_12272\\3301221075.py:54: UserWarning: Boolean Series key will be reindexed to match DataFrame index.\n",
      "  orden.append(porc[mask][mask1]['Porcentaje'])\n",
      "C:\\Users\\elper\\AppData\\Local\\Temp\\ipykernel_12272\\3301221075.py:54: UserWarning: Boolean Series key will be reindexed to match DataFrame index.\n",
      "  orden.append(porc[mask][mask1]['Porcentaje'])\n",
      "C:\\Users\\elper\\AppData\\Local\\Temp\\ipykernel_12272\\3301221075.py:54: UserWarning: Boolean Series key will be reindexed to match DataFrame index.\n",
      "  orden.append(porc[mask][mask1]['Porcentaje'])\n",
      "C:\\Users\\elper\\AppData\\Local\\Temp\\ipykernel_12272\\3301221075.py:54: UserWarning: Boolean Series key will be reindexed to match DataFrame index.\n",
      "  orden.append(porc[mask][mask1]['Porcentaje'])\n",
      "C:\\Users\\elper\\AppData\\Local\\Temp\\ipykernel_12272\\3301221075.py:54: UserWarning: Boolean Series key will be reindexed to match DataFrame index.\n",
      "  orden.append(porc[mask][mask1]['Porcentaje'])\n",
      "C:\\Users\\elper\\AppData\\Local\\Temp\\ipykernel_12272\\3301221075.py:54: UserWarning: Boolean Series key will be reindexed to match DataFrame index.\n",
      "  orden.append(porc[mask][mask1]['Porcentaje'])\n",
      "C:\\Users\\elper\\AppData\\Local\\Temp\\ipykernel_12272\\3301221075.py:54: UserWarning: Boolean Series key will be reindexed to match DataFrame index.\n",
      "  orden.append(porc[mask][mask1]['Porcentaje'])\n",
      "C:\\Users\\elper\\AppData\\Local\\Temp\\ipykernel_12272\\3301221075.py:54: UserWarning: Boolean Series key will be reindexed to match DataFrame index.\n",
      "  orden.append(porc[mask][mask1]['Porcentaje'])\n",
      "C:\\Users\\elper\\AppData\\Local\\Temp\\ipykernel_12272\\3301221075.py:54: UserWarning: Boolean Series key will be reindexed to match DataFrame index.\n",
      "  orden.append(porc[mask][mask1]['Porcentaje'])\n",
      "C:\\Users\\elper\\AppData\\Local\\Temp\\ipykernel_12272\\3301221075.py:54: UserWarning: Boolean Series key will be reindexed to match DataFrame index.\n",
      "  orden.append(porc[mask][mask1]['Porcentaje'])\n",
      "C:\\Users\\elper\\AppData\\Local\\Temp\\ipykernel_12272\\3301221075.py:54: UserWarning: Boolean Series key will be reindexed to match DataFrame index.\n",
      "  orden.append(porc[mask][mask1]['Porcentaje'])\n",
      "C:\\Users\\elper\\AppData\\Local\\Temp\\ipykernel_12272\\3301221075.py:54: UserWarning: Boolean Series key will be reindexed to match DataFrame index.\n",
      "  orden.append(porc[mask][mask1]['Porcentaje'])\n",
      "C:\\Users\\elper\\AppData\\Local\\Temp\\ipykernel_12272\\3301221075.py:54: UserWarning: Boolean Series key will be reindexed to match DataFrame index.\n",
      "  orden.append(porc[mask][mask1]['Porcentaje'])\n",
      "C:\\Users\\elper\\AppData\\Local\\Temp\\ipykernel_12272\\3301221075.py:54: UserWarning: Boolean Series key will be reindexed to match DataFrame index.\n",
      "  orden.append(porc[mask][mask1]['Porcentaje'])\n",
      "C:\\Users\\elper\\AppData\\Local\\Temp\\ipykernel_12272\\3301221075.py:54: UserWarning: Boolean Series key will be reindexed to match DataFrame index.\n",
      "  orden.append(porc[mask][mask1]['Porcentaje'])\n",
      "C:\\Users\\elper\\AppData\\Local\\Temp\\ipykernel_12272\\3301221075.py:54: UserWarning: Boolean Series key will be reindexed to match DataFrame index.\n",
      "  orden.append(porc[mask][mask1]['Porcentaje'])\n",
      "C:\\Users\\elper\\AppData\\Local\\Temp\\ipykernel_12272\\3301221075.py:54: UserWarning: Boolean Series key will be reindexed to match DataFrame index.\n",
      "  orden.append(porc[mask][mask1]['Porcentaje'])\n",
      "C:\\Users\\elper\\AppData\\Local\\Temp\\ipykernel_12272\\3301221075.py:54: UserWarning: Boolean Series key will be reindexed to match DataFrame index.\n",
      "  orden.append(porc[mask][mask1]['Porcentaje'])\n",
      "C:\\Users\\elper\\AppData\\Local\\Temp\\ipykernel_12272\\3301221075.py:54: UserWarning: Boolean Series key will be reindexed to match DataFrame index.\n",
      "  orden.append(porc[mask][mask1]['Porcentaje'])\n",
      "C:\\Users\\elper\\AppData\\Local\\Temp\\ipykernel_12272\\3301221075.py:54: UserWarning: Boolean Series key will be reindexed to match DataFrame index.\n",
      "  orden.append(porc[mask][mask1]['Porcentaje'])\n",
      "C:\\Users\\elper\\AppData\\Local\\Temp\\ipykernel_12272\\3301221075.py:54: UserWarning: Boolean Series key will be reindexed to match DataFrame index.\n",
      "  orden.append(porc[mask][mask1]['Porcentaje'])\n",
      "C:\\Users\\elper\\AppData\\Local\\Temp\\ipykernel_12272\\3301221075.py:54: UserWarning: Boolean Series key will be reindexed to match DataFrame index.\n",
      "  orden.append(porc[mask][mask1]['Porcentaje'])\n",
      "C:\\Users\\elper\\AppData\\Local\\Temp\\ipykernel_12272\\3301221075.py:54: UserWarning: Boolean Series key will be reindexed to match DataFrame index.\n",
      "  orden.append(porc[mask][mask1]['Porcentaje'])\n",
      "C:\\Users\\elper\\AppData\\Local\\Temp\\ipykernel_12272\\3301221075.py:54: UserWarning: Boolean Series key will be reindexed to match DataFrame index.\n",
      "  orden.append(porc[mask][mask1]['Porcentaje'])\n",
      "C:\\Users\\elper\\AppData\\Local\\Temp\\ipykernel_12272\\3301221075.py:54: UserWarning: Boolean Series key will be reindexed to match DataFrame index.\n",
      "  orden.append(porc[mask][mask1]['Porcentaje'])\n",
      "C:\\Users\\elper\\AppData\\Local\\Temp\\ipykernel_12272\\3301221075.py:54: UserWarning: Boolean Series key will be reindexed to match DataFrame index.\n",
      "  orden.append(porc[mask][mask1]['Porcentaje'])\n",
      "C:\\Users\\elper\\AppData\\Local\\Temp\\ipykernel_12272\\3301221075.py:54: UserWarning: Boolean Series key will be reindexed to match DataFrame index.\n",
      "  orden.append(porc[mask][mask1]['Porcentaje'])\n",
      "C:\\Users\\elper\\AppData\\Local\\Temp\\ipykernel_12272\\3301221075.py:54: UserWarning: Boolean Series key will be reindexed to match DataFrame index.\n",
      "  orden.append(porc[mask][mask1]['Porcentaje'])\n",
      "C:\\Users\\elper\\AppData\\Local\\Temp\\ipykernel_12272\\3301221075.py:54: UserWarning: Boolean Series key will be reindexed to match DataFrame index.\n",
      "  orden.append(porc[mask][mask1]['Porcentaje'])\n",
      "C:\\Users\\elper\\AppData\\Local\\Temp\\ipykernel_12272\\3301221075.py:54: UserWarning: Boolean Series key will be reindexed to match DataFrame index.\n",
      "  orden.append(porc[mask][mask1]['Porcentaje'])\n",
      "C:\\Users\\elper\\AppData\\Local\\Temp\\ipykernel_12272\\3301221075.py:54: UserWarning: Boolean Series key will be reindexed to match DataFrame index.\n",
      "  orden.append(porc[mask][mask1]['Porcentaje'])\n",
      "C:\\Users\\elper\\AppData\\Local\\Temp\\ipykernel_12272\\3301221075.py:54: UserWarning: Boolean Series key will be reindexed to match DataFrame index.\n",
      "  orden.append(porc[mask][mask1]['Porcentaje'])\n",
      "C:\\Users\\elper\\AppData\\Local\\Temp\\ipykernel_12272\\3301221075.py:54: UserWarning: Boolean Series key will be reindexed to match DataFrame index.\n",
      "  orden.append(porc[mask][mask1]['Porcentaje'])\n",
      "C:\\Users\\elper\\AppData\\Local\\Temp\\ipykernel_12272\\3301221075.py:54: UserWarning: Boolean Series key will be reindexed to match DataFrame index.\n",
      "  orden.append(porc[mask][mask1]['Porcentaje'])\n",
      "C:\\Users\\elper\\AppData\\Local\\Temp\\ipykernel_12272\\3301221075.py:54: UserWarning: Boolean Series key will be reindexed to match DataFrame index.\n",
      "  orden.append(porc[mask][mask1]['Porcentaje'])\n",
      "C:\\Users\\elper\\AppData\\Local\\Temp\\ipykernel_12272\\3301221075.py:54: UserWarning: Boolean Series key will be reindexed to match DataFrame index.\n",
      "  orden.append(porc[mask][mask1]['Porcentaje'])\n",
      "C:\\Users\\elper\\AppData\\Local\\Temp\\ipykernel_12272\\3301221075.py:54: UserWarning: Boolean Series key will be reindexed to match DataFrame index.\n",
      "  orden.append(porc[mask][mask1]['Porcentaje'])\n",
      "C:\\Users\\elper\\AppData\\Local\\Temp\\ipykernel_12272\\3301221075.py:54: UserWarning: Boolean Series key will be reindexed to match DataFrame index.\n",
      "  orden.append(porc[mask][mask1]['Porcentaje'])\n",
      "C:\\Users\\elper\\AppData\\Local\\Temp\\ipykernel_12272\\3301221075.py:54: UserWarning: Boolean Series key will be reindexed to match DataFrame index.\n",
      "  orden.append(porc[mask][mask1]['Porcentaje'])\n",
      "C:\\Users\\elper\\AppData\\Local\\Temp\\ipykernel_12272\\3301221075.py:54: UserWarning: Boolean Series key will be reindexed to match DataFrame index.\n",
      "  orden.append(porc[mask][mask1]['Porcentaje'])\n",
      "C:\\Users\\elper\\AppData\\Local\\Temp\\ipykernel_12272\\3301221075.py:54: UserWarning: Boolean Series key will be reindexed to match DataFrame index.\n",
      "  orden.append(porc[mask][mask1]['Porcentaje'])\n",
      "C:\\Users\\elper\\AppData\\Local\\Temp\\ipykernel_12272\\3301221075.py:54: UserWarning: Boolean Series key will be reindexed to match DataFrame index.\n",
      "  orden.append(porc[mask][mask1]['Porcentaje'])\n",
      "C:\\Users\\elper\\AppData\\Local\\Temp\\ipykernel_12272\\3301221075.py:54: UserWarning: Boolean Series key will be reindexed to match DataFrame index.\n",
      "  orden.append(porc[mask][mask1]['Porcentaje'])\n",
      "C:\\Users\\elper\\AppData\\Local\\Temp\\ipykernel_12272\\3301221075.py:54: UserWarning: Boolean Series key will be reindexed to match DataFrame index.\n",
      "  orden.append(porc[mask][mask1]['Porcentaje'])\n",
      "C:\\Users\\elper\\AppData\\Local\\Temp\\ipykernel_12272\\3301221075.py:54: UserWarning: Boolean Series key will be reindexed to match DataFrame index.\n",
      "  orden.append(porc[mask][mask1]['Porcentaje'])\n",
      "C:\\Users\\elper\\AppData\\Local\\Temp\\ipykernel_12272\\3301221075.py:54: UserWarning: Boolean Series key will be reindexed to match DataFrame index.\n",
      "  orden.append(porc[mask][mask1]['Porcentaje'])\n",
      "C:\\Users\\elper\\AppData\\Local\\Temp\\ipykernel_12272\\3301221075.py:54: UserWarning: Boolean Series key will be reindexed to match DataFrame index.\n",
      "  orden.append(porc[mask][mask1]['Porcentaje'])\n",
      "C:\\Users\\elper\\AppData\\Local\\Temp\\ipykernel_12272\\3301221075.py:54: UserWarning: Boolean Series key will be reindexed to match DataFrame index.\n",
      "  orden.append(porc[mask][mask1]['Porcentaje'])\n",
      "C:\\Users\\elper\\AppData\\Local\\Temp\\ipykernel_12272\\3301221075.py:54: UserWarning: Boolean Series key will be reindexed to match DataFrame index.\n",
      "  orden.append(porc[mask][mask1]['Porcentaje'])\n",
      "C:\\Users\\elper\\AppData\\Local\\Temp\\ipykernel_12272\\3301221075.py:54: UserWarning: Boolean Series key will be reindexed to match DataFrame index.\n",
      "  orden.append(porc[mask][mask1]['Porcentaje'])\n",
      "C:\\Users\\elper\\AppData\\Local\\Temp\\ipykernel_12272\\3301221075.py:54: UserWarning: Boolean Series key will be reindexed to match DataFrame index.\n",
      "  orden.append(porc[mask][mask1]['Porcentaje'])\n",
      "C:\\Users\\elper\\AppData\\Local\\Temp\\ipykernel_12272\\3301221075.py:54: UserWarning: Boolean Series key will be reindexed to match DataFrame index.\n",
      "  orden.append(porc[mask][mask1]['Porcentaje'])\n",
      "C:\\Users\\elper\\AppData\\Local\\Temp\\ipykernel_12272\\3301221075.py:54: UserWarning: Boolean Series key will be reindexed to match DataFrame index.\n",
      "  orden.append(porc[mask][mask1]['Porcentaje'])\n",
      "C:\\Users\\elper\\AppData\\Local\\Temp\\ipykernel_12272\\3301221075.py:54: UserWarning: Boolean Series key will be reindexed to match DataFrame index.\n",
      "  orden.append(porc[mask][mask1]['Porcentaje'])\n",
      "C:\\Users\\elper\\AppData\\Local\\Temp\\ipykernel_12272\\3301221075.py:54: UserWarning: Boolean Series key will be reindexed to match DataFrame index.\n",
      "  orden.append(porc[mask][mask1]['Porcentaje'])\n",
      "C:\\Users\\elper\\AppData\\Local\\Temp\\ipykernel_12272\\3301221075.py:54: UserWarning: Boolean Series key will be reindexed to match DataFrame index.\n",
      "  orden.append(porc[mask][mask1]['Porcentaje'])\n",
      "C:\\Users\\elper\\AppData\\Local\\Temp\\ipykernel_12272\\3301221075.py:54: UserWarning: Boolean Series key will be reindexed to match DataFrame index.\n",
      "  orden.append(porc[mask][mask1]['Porcentaje'])\n",
      "C:\\Users\\elper\\AppData\\Local\\Temp\\ipykernel_12272\\3301221075.py:54: UserWarning: Boolean Series key will be reindexed to match DataFrame index.\n",
      "  orden.append(porc[mask][mask1]['Porcentaje'])\n",
      "C:\\Users\\elper\\AppData\\Local\\Temp\\ipykernel_12272\\3301221075.py:54: UserWarning: Boolean Series key will be reindexed to match DataFrame index.\n",
      "  orden.append(porc[mask][mask1]['Porcentaje'])\n",
      "C:\\Users\\elper\\AppData\\Local\\Temp\\ipykernel_12272\\3301221075.py:54: UserWarning: Boolean Series key will be reindexed to match DataFrame index.\n",
      "  orden.append(porc[mask][mask1]['Porcentaje'])\n",
      "C:\\Users\\elper\\AppData\\Local\\Temp\\ipykernel_12272\\3301221075.py:54: UserWarning: Boolean Series key will be reindexed to match DataFrame index.\n",
      "  orden.append(porc[mask][mask1]['Porcentaje'])\n",
      "C:\\Users\\elper\\AppData\\Local\\Temp\\ipykernel_12272\\3301221075.py:54: UserWarning: Boolean Series key will be reindexed to match DataFrame index.\n",
      "  orden.append(porc[mask][mask1]['Porcentaje'])\n",
      "C:\\Users\\elper\\AppData\\Local\\Temp\\ipykernel_12272\\3301221075.py:54: UserWarning: Boolean Series key will be reindexed to match DataFrame index.\n",
      "  orden.append(porc[mask][mask1]['Porcentaje'])\n",
      "C:\\Users\\elper\\AppData\\Local\\Temp\\ipykernel_12272\\3301221075.py:54: UserWarning: Boolean Series key will be reindexed to match DataFrame index.\n",
      "  orden.append(porc[mask][mask1]['Porcentaje'])\n",
      "C:\\Users\\elper\\AppData\\Local\\Temp\\ipykernel_12272\\3301221075.py:54: UserWarning: Boolean Series key will be reindexed to match DataFrame index.\n",
      "  orden.append(porc[mask][mask1]['Porcentaje'])\n",
      "C:\\Users\\elper\\AppData\\Local\\Temp\\ipykernel_12272\\3301221075.py:54: UserWarning: Boolean Series key will be reindexed to match DataFrame index.\n",
      "  orden.append(porc[mask][mask1]['Porcentaje'])\n",
      "C:\\Users\\elper\\AppData\\Local\\Temp\\ipykernel_12272\\3301221075.py:54: UserWarning: Boolean Series key will be reindexed to match DataFrame index.\n",
      "  orden.append(porc[mask][mask1]['Porcentaje'])\n",
      "C:\\Users\\elper\\AppData\\Local\\Temp\\ipykernel_12272\\3301221075.py:54: UserWarning: Boolean Series key will be reindexed to match DataFrame index.\n",
      "  orden.append(porc[mask][mask1]['Porcentaje'])\n",
      "C:\\Users\\elper\\AppData\\Local\\Temp\\ipykernel_12272\\3301221075.py:54: UserWarning: Boolean Series key will be reindexed to match DataFrame index.\n",
      "  orden.append(porc[mask][mask1]['Porcentaje'])\n",
      "C:\\Users\\elper\\AppData\\Local\\Temp\\ipykernel_12272\\3301221075.py:54: UserWarning: Boolean Series key will be reindexed to match DataFrame index.\n",
      "  orden.append(porc[mask][mask1]['Porcentaje'])\n",
      "C:\\Users\\elper\\AppData\\Local\\Temp\\ipykernel_12272\\3301221075.py:54: UserWarning: Boolean Series key will be reindexed to match DataFrame index.\n",
      "  orden.append(porc[mask][mask1]['Porcentaje'])\n",
      "C:\\Users\\elper\\AppData\\Local\\Temp\\ipykernel_12272\\3301221075.py:54: UserWarning: Boolean Series key will be reindexed to match DataFrame index.\n",
      "  orden.append(porc[mask][mask1]['Porcentaje'])\n",
      "C:\\Users\\elper\\AppData\\Local\\Temp\\ipykernel_12272\\3301221075.py:54: UserWarning: Boolean Series key will be reindexed to match DataFrame index.\n",
      "  orden.append(porc[mask][mask1]['Porcentaje'])\n",
      "C:\\Users\\elper\\AppData\\Local\\Temp\\ipykernel_12272\\3301221075.py:54: UserWarning: Boolean Series key will be reindexed to match DataFrame index.\n",
      "  orden.append(porc[mask][mask1]['Porcentaje'])\n",
      "C:\\Users\\elper\\AppData\\Local\\Temp\\ipykernel_12272\\3301221075.py:54: UserWarning: Boolean Series key will be reindexed to match DataFrame index.\n",
      "  orden.append(porc[mask][mask1]['Porcentaje'])\n",
      "C:\\Users\\elper\\AppData\\Local\\Temp\\ipykernel_12272\\3301221075.py:54: UserWarning: Boolean Series key will be reindexed to match DataFrame index.\n",
      "  orden.append(porc[mask][mask1]['Porcentaje'])\n",
      "C:\\Users\\elper\\AppData\\Local\\Temp\\ipykernel_12272\\3301221075.py:54: UserWarning: Boolean Series key will be reindexed to match DataFrame index.\n",
      "  orden.append(porc[mask][mask1]['Porcentaje'])\n",
      "C:\\Users\\elper\\AppData\\Local\\Temp\\ipykernel_12272\\3301221075.py:54: UserWarning: Boolean Series key will be reindexed to match DataFrame index.\n",
      "  orden.append(porc[mask][mask1]['Porcentaje'])\n",
      "C:\\Users\\elper\\AppData\\Local\\Temp\\ipykernel_12272\\3301221075.py:54: UserWarning: Boolean Series key will be reindexed to match DataFrame index.\n",
      "  orden.append(porc[mask][mask1]['Porcentaje'])\n",
      "C:\\Users\\elper\\AppData\\Local\\Temp\\ipykernel_12272\\3301221075.py:54: UserWarning: Boolean Series key will be reindexed to match DataFrame index.\n",
      "  orden.append(porc[mask][mask1]['Porcentaje'])\n",
      "C:\\Users\\elper\\AppData\\Local\\Temp\\ipykernel_12272\\3301221075.py:54: UserWarning: Boolean Series key will be reindexed to match DataFrame index.\n",
      "  orden.append(porc[mask][mask1]['Porcentaje'])\n",
      "C:\\Users\\elper\\AppData\\Local\\Temp\\ipykernel_12272\\3301221075.py:54: UserWarning: Boolean Series key will be reindexed to match DataFrame index.\n",
      "  orden.append(porc[mask][mask1]['Porcentaje'])\n",
      "C:\\Users\\elper\\AppData\\Local\\Temp\\ipykernel_12272\\3301221075.py:54: UserWarning: Boolean Series key will be reindexed to match DataFrame index.\n",
      "  orden.append(porc[mask][mask1]['Porcentaje'])\n",
      "C:\\Users\\elper\\AppData\\Local\\Temp\\ipykernel_12272\\3301221075.py:54: UserWarning: Boolean Series key will be reindexed to match DataFrame index.\n",
      "  orden.append(porc[mask][mask1]['Porcentaje'])\n",
      "C:\\Users\\elper\\AppData\\Local\\Temp\\ipykernel_12272\\3301221075.py:54: UserWarning: Boolean Series key will be reindexed to match DataFrame index.\n",
      "  orden.append(porc[mask][mask1]['Porcentaje'])\n",
      "C:\\Users\\elper\\AppData\\Local\\Temp\\ipykernel_12272\\3301221075.py:54: UserWarning: Boolean Series key will be reindexed to match DataFrame index.\n",
      "  orden.append(porc[mask][mask1]['Porcentaje'])\n",
      "C:\\Users\\elper\\AppData\\Local\\Temp\\ipykernel_12272\\3301221075.py:54: UserWarning: Boolean Series key will be reindexed to match DataFrame index.\n",
      "  orden.append(porc[mask][mask1]['Porcentaje'])\n",
      "C:\\Users\\elper\\AppData\\Local\\Temp\\ipykernel_12272\\3301221075.py:54: UserWarning: Boolean Series key will be reindexed to match DataFrame index.\n",
      "  orden.append(porc[mask][mask1]['Porcentaje'])\n",
      "C:\\Users\\elper\\AppData\\Local\\Temp\\ipykernel_12272\\3301221075.py:54: UserWarning: Boolean Series key will be reindexed to match DataFrame index.\n",
      "  orden.append(porc[mask][mask1]['Porcentaje'])\n",
      "C:\\Users\\elper\\AppData\\Local\\Temp\\ipykernel_12272\\3301221075.py:54: UserWarning: Boolean Series key will be reindexed to match DataFrame index.\n",
      "  orden.append(porc[mask][mask1]['Porcentaje'])\n",
      "C:\\Users\\elper\\AppData\\Local\\Temp\\ipykernel_12272\\3301221075.py:54: UserWarning: Boolean Series key will be reindexed to match DataFrame index.\n",
      "  orden.append(porc[mask][mask1]['Porcentaje'])\n",
      "C:\\Users\\elper\\AppData\\Local\\Temp\\ipykernel_12272\\3301221075.py:54: UserWarning: Boolean Series key will be reindexed to match DataFrame index.\n",
      "  orden.append(porc[mask][mask1]['Porcentaje'])\n",
      "C:\\Users\\elper\\AppData\\Local\\Temp\\ipykernel_12272\\3301221075.py:54: UserWarning: Boolean Series key will be reindexed to match DataFrame index.\n",
      "  orden.append(porc[mask][mask1]['Porcentaje'])\n",
      "C:\\Users\\elper\\AppData\\Local\\Temp\\ipykernel_12272\\3301221075.py:54: UserWarning: Boolean Series key will be reindexed to match DataFrame index.\n",
      "  orden.append(porc[mask][mask1]['Porcentaje'])\n",
      "C:\\Users\\elper\\AppData\\Local\\Temp\\ipykernel_12272\\3301221075.py:54: UserWarning: Boolean Series key will be reindexed to match DataFrame index.\n",
      "  orden.append(porc[mask][mask1]['Porcentaje'])\n",
      "C:\\Users\\elper\\AppData\\Local\\Temp\\ipykernel_12272\\3301221075.py:54: UserWarning: Boolean Series key will be reindexed to match DataFrame index.\n",
      "  orden.append(porc[mask][mask1]['Porcentaje'])\n",
      "C:\\Users\\elper\\AppData\\Local\\Temp\\ipykernel_12272\\3301221075.py:54: UserWarning: Boolean Series key will be reindexed to match DataFrame index.\n",
      "  orden.append(porc[mask][mask1]['Porcentaje'])\n",
      "C:\\Users\\elper\\AppData\\Local\\Temp\\ipykernel_12272\\3301221075.py:54: UserWarning: Boolean Series key will be reindexed to match DataFrame index.\n",
      "  orden.append(porc[mask][mask1]['Porcentaje'])\n",
      "C:\\Users\\elper\\AppData\\Local\\Temp\\ipykernel_12272\\3301221075.py:54: UserWarning: Boolean Series key will be reindexed to match DataFrame index.\n",
      "  orden.append(porc[mask][mask1]['Porcentaje'])\n",
      "C:\\Users\\elper\\AppData\\Local\\Temp\\ipykernel_12272\\3301221075.py:54: UserWarning: Boolean Series key will be reindexed to match DataFrame index.\n",
      "  orden.append(porc[mask][mask1]['Porcentaje'])\n",
      "C:\\Users\\elper\\AppData\\Local\\Temp\\ipykernel_12272\\3301221075.py:54: UserWarning: Boolean Series key will be reindexed to match DataFrame index.\n",
      "  orden.append(porc[mask][mask1]['Porcentaje'])\n",
      "C:\\Users\\elper\\AppData\\Local\\Temp\\ipykernel_12272\\3301221075.py:54: UserWarning: Boolean Series key will be reindexed to match DataFrame index.\n",
      "  orden.append(porc[mask][mask1]['Porcentaje'])\n",
      "C:\\Users\\elper\\AppData\\Local\\Temp\\ipykernel_12272\\3301221075.py:54: UserWarning: Boolean Series key will be reindexed to match DataFrame index.\n",
      "  orden.append(porc[mask][mask1]['Porcentaje'])\n",
      "C:\\Users\\elper\\AppData\\Local\\Temp\\ipykernel_12272\\3301221075.py:54: UserWarning: Boolean Series key will be reindexed to match DataFrame index.\n",
      "  orden.append(porc[mask][mask1]['Porcentaje'])\n",
      "C:\\Users\\elper\\AppData\\Local\\Temp\\ipykernel_12272\\3301221075.py:54: UserWarning: Boolean Series key will be reindexed to match DataFrame index.\n",
      "  orden.append(porc[mask][mask1]['Porcentaje'])\n",
      "C:\\Users\\elper\\AppData\\Local\\Temp\\ipykernel_12272\\3301221075.py:54: UserWarning: Boolean Series key will be reindexed to match DataFrame index.\n",
      "  orden.append(porc[mask][mask1]['Porcentaje'])\n",
      "C:\\Users\\elper\\AppData\\Local\\Temp\\ipykernel_12272\\3301221075.py:54: UserWarning: Boolean Series key will be reindexed to match DataFrame index.\n",
      "  orden.append(porc[mask][mask1]['Porcentaje'])\n",
      "C:\\Users\\elper\\AppData\\Local\\Temp\\ipykernel_12272\\3301221075.py:54: UserWarning: Boolean Series key will be reindexed to match DataFrame index.\n",
      "  orden.append(porc[mask][mask1]['Porcentaje'])\n",
      "C:\\Users\\elper\\AppData\\Local\\Temp\\ipykernel_12272\\3301221075.py:54: UserWarning: Boolean Series key will be reindexed to match DataFrame index.\n",
      "  orden.append(porc[mask][mask1]['Porcentaje'])\n",
      "C:\\Users\\elper\\AppData\\Local\\Temp\\ipykernel_12272\\3301221075.py:54: UserWarning: Boolean Series key will be reindexed to match DataFrame index.\n",
      "  orden.append(porc[mask][mask1]['Porcentaje'])\n",
      "C:\\Users\\elper\\AppData\\Local\\Temp\\ipykernel_12272\\3301221075.py:54: UserWarning: Boolean Series key will be reindexed to match DataFrame index.\n",
      "  orden.append(porc[mask][mask1]['Porcentaje'])\n",
      "C:\\Users\\elper\\AppData\\Local\\Temp\\ipykernel_12272\\3301221075.py:54: UserWarning: Boolean Series key will be reindexed to match DataFrame index.\n",
      "  orden.append(porc[mask][mask1]['Porcentaje'])\n",
      "C:\\Users\\elper\\AppData\\Local\\Temp\\ipykernel_12272\\3301221075.py:54: UserWarning: Boolean Series key will be reindexed to match DataFrame index.\n",
      "  orden.append(porc[mask][mask1]['Porcentaje'])\n",
      "C:\\Users\\elper\\AppData\\Local\\Temp\\ipykernel_12272\\3301221075.py:54: UserWarning: Boolean Series key will be reindexed to match DataFrame index.\n",
      "  orden.append(porc[mask][mask1]['Porcentaje'])\n",
      "C:\\Users\\elper\\AppData\\Local\\Temp\\ipykernel_12272\\3301221075.py:54: UserWarning: Boolean Series key will be reindexed to match DataFrame index.\n",
      "  orden.append(porc[mask][mask1]['Porcentaje'])\n",
      "C:\\Users\\elper\\AppData\\Local\\Temp\\ipykernel_12272\\3301221075.py:54: UserWarning: Boolean Series key will be reindexed to match DataFrame index.\n",
      "  orden.append(porc[mask][mask1]['Porcentaje'])\n",
      "C:\\Users\\elper\\AppData\\Local\\Temp\\ipykernel_12272\\3301221075.py:54: UserWarning: Boolean Series key will be reindexed to match DataFrame index.\n",
      "  orden.append(porc[mask][mask1]['Porcentaje'])\n",
      "C:\\Users\\elper\\AppData\\Local\\Temp\\ipykernel_12272\\3301221075.py:54: UserWarning: Boolean Series key will be reindexed to match DataFrame index.\n",
      "  orden.append(porc[mask][mask1]['Porcentaje'])\n",
      "C:\\Users\\elper\\AppData\\Local\\Temp\\ipykernel_12272\\3301221075.py:54: UserWarning: Boolean Series key will be reindexed to match DataFrame index.\n",
      "  orden.append(porc[mask][mask1]['Porcentaje'])\n",
      "C:\\Users\\elper\\AppData\\Local\\Temp\\ipykernel_12272\\3301221075.py:54: UserWarning: Boolean Series key will be reindexed to match DataFrame index.\n",
      "  orden.append(porc[mask][mask1]['Porcentaje'])\n",
      "C:\\Users\\elper\\AppData\\Local\\Temp\\ipykernel_12272\\3301221075.py:54: UserWarning: Boolean Series key will be reindexed to match DataFrame index.\n",
      "  orden.append(porc[mask][mask1]['Porcentaje'])\n",
      "C:\\Users\\elper\\AppData\\Local\\Temp\\ipykernel_12272\\3301221075.py:54: UserWarning: Boolean Series key will be reindexed to match DataFrame index.\n",
      "  orden.append(porc[mask][mask1]['Porcentaje'])\n",
      "C:\\Users\\elper\\AppData\\Local\\Temp\\ipykernel_12272\\3301221075.py:54: UserWarning: Boolean Series key will be reindexed to match DataFrame index.\n",
      "  orden.append(porc[mask][mask1]['Porcentaje'])\n",
      "C:\\Users\\elper\\AppData\\Local\\Temp\\ipykernel_12272\\3301221075.py:54: UserWarning: Boolean Series key will be reindexed to match DataFrame index.\n",
      "  orden.append(porc[mask][mask1]['Porcentaje'])\n",
      "C:\\Users\\elper\\AppData\\Local\\Temp\\ipykernel_12272\\3301221075.py:54: UserWarning: Boolean Series key will be reindexed to match DataFrame index.\n",
      "  orden.append(porc[mask][mask1]['Porcentaje'])\n",
      "C:\\Users\\elper\\AppData\\Local\\Temp\\ipykernel_12272\\3301221075.py:54: UserWarning: Boolean Series key will be reindexed to match DataFrame index.\n",
      "  orden.append(porc[mask][mask1]['Porcentaje'])\n",
      "C:\\Users\\elper\\AppData\\Local\\Temp\\ipykernel_12272\\3301221075.py:54: UserWarning: Boolean Series key will be reindexed to match DataFrame index.\n",
      "  orden.append(porc[mask][mask1]['Porcentaje'])\n",
      "C:\\Users\\elper\\AppData\\Local\\Temp\\ipykernel_12272\\3301221075.py:54: UserWarning: Boolean Series key will be reindexed to match DataFrame index.\n",
      "  orden.append(porc[mask][mask1]['Porcentaje'])\n",
      "C:\\Users\\elper\\AppData\\Local\\Temp\\ipykernel_12272\\3301221075.py:54: UserWarning: Boolean Series key will be reindexed to match DataFrame index.\n",
      "  orden.append(porc[mask][mask1]['Porcentaje'])\n",
      "C:\\Users\\elper\\AppData\\Local\\Temp\\ipykernel_12272\\3301221075.py:54: UserWarning: Boolean Series key will be reindexed to match DataFrame index.\n",
      "  orden.append(porc[mask][mask1]['Porcentaje'])\n",
      "C:\\Users\\elper\\AppData\\Local\\Temp\\ipykernel_12272\\3301221075.py:54: UserWarning: Boolean Series key will be reindexed to match DataFrame index.\n",
      "  orden.append(porc[mask][mask1]['Porcentaje'])\n",
      "C:\\Users\\elper\\AppData\\Local\\Temp\\ipykernel_12272\\3301221075.py:54: UserWarning: Boolean Series key will be reindexed to match DataFrame index.\n",
      "  orden.append(porc[mask][mask1]['Porcentaje'])\n",
      "C:\\Users\\elper\\AppData\\Local\\Temp\\ipykernel_12272\\3301221075.py:54: UserWarning: Boolean Series key will be reindexed to match DataFrame index.\n",
      "  orden.append(porc[mask][mask1]['Porcentaje'])\n",
      "C:\\Users\\elper\\AppData\\Local\\Temp\\ipykernel_12272\\3301221075.py:54: UserWarning: Boolean Series key will be reindexed to match DataFrame index.\n",
      "  orden.append(porc[mask][mask1]['Porcentaje'])\n",
      "C:\\Users\\elper\\AppData\\Local\\Temp\\ipykernel_12272\\3301221075.py:54: UserWarning: Boolean Series key will be reindexed to match DataFrame index.\n",
      "  orden.append(porc[mask][mask1]['Porcentaje'])\n",
      "C:\\Users\\elper\\AppData\\Local\\Temp\\ipykernel_12272\\3301221075.py:54: UserWarning: Boolean Series key will be reindexed to match DataFrame index.\n",
      "  orden.append(porc[mask][mask1]['Porcentaje'])\n",
      "C:\\Users\\elper\\AppData\\Local\\Temp\\ipykernel_12272\\3301221075.py:54: UserWarning: Boolean Series key will be reindexed to match DataFrame index.\n",
      "  orden.append(porc[mask][mask1]['Porcentaje'])\n",
      "C:\\Users\\elper\\AppData\\Local\\Temp\\ipykernel_12272\\3301221075.py:54: UserWarning: Boolean Series key will be reindexed to match DataFrame index.\n",
      "  orden.append(porc[mask][mask1]['Porcentaje'])\n",
      "C:\\Users\\elper\\AppData\\Local\\Temp\\ipykernel_12272\\3301221075.py:54: UserWarning: Boolean Series key will be reindexed to match DataFrame index.\n",
      "  orden.append(porc[mask][mask1]['Porcentaje'])\n",
      "C:\\Users\\elper\\AppData\\Local\\Temp\\ipykernel_12272\\3301221075.py:54: UserWarning: Boolean Series key will be reindexed to match DataFrame index.\n",
      "  orden.append(porc[mask][mask1]['Porcentaje'])\n",
      "C:\\Users\\elper\\AppData\\Local\\Temp\\ipykernel_12272\\3301221075.py:54: UserWarning: Boolean Series key will be reindexed to match DataFrame index.\n",
      "  orden.append(porc[mask][mask1]['Porcentaje'])\n",
      "C:\\Users\\elper\\AppData\\Local\\Temp\\ipykernel_12272\\3301221075.py:54: UserWarning: Boolean Series key will be reindexed to match DataFrame index.\n",
      "  orden.append(porc[mask][mask1]['Porcentaje'])\n",
      "C:\\Users\\elper\\AppData\\Local\\Temp\\ipykernel_12272\\3301221075.py:54: UserWarning: Boolean Series key will be reindexed to match DataFrame index.\n",
      "  orden.append(porc[mask][mask1]['Porcentaje'])\n",
      "C:\\Users\\elper\\AppData\\Local\\Temp\\ipykernel_12272\\3301221075.py:54: UserWarning: Boolean Series key will be reindexed to match DataFrame index.\n",
      "  orden.append(porc[mask][mask1]['Porcentaje'])\n",
      "C:\\Users\\elper\\AppData\\Local\\Temp\\ipykernel_12272\\3301221075.py:54: UserWarning: Boolean Series key will be reindexed to match DataFrame index.\n",
      "  orden.append(porc[mask][mask1]['Porcentaje'])\n",
      "C:\\Users\\elper\\AppData\\Local\\Temp\\ipykernel_12272\\3301221075.py:54: UserWarning: Boolean Series key will be reindexed to match DataFrame index.\n",
      "  orden.append(porc[mask][mask1]['Porcentaje'])\n",
      "C:\\Users\\elper\\AppData\\Local\\Temp\\ipykernel_12272\\3301221075.py:54: UserWarning: Boolean Series key will be reindexed to match DataFrame index.\n",
      "  orden.append(porc[mask][mask1]['Porcentaje'])\n",
      "C:\\Users\\elper\\AppData\\Local\\Temp\\ipykernel_12272\\3301221075.py:54: UserWarning: Boolean Series key will be reindexed to match DataFrame index.\n",
      "  orden.append(porc[mask][mask1]['Porcentaje'])\n",
      "C:\\Users\\elper\\AppData\\Local\\Temp\\ipykernel_12272\\3301221075.py:54: UserWarning: Boolean Series key will be reindexed to match DataFrame index.\n",
      "  orden.append(porc[mask][mask1]['Porcentaje'])\n",
      "C:\\Users\\elper\\AppData\\Local\\Temp\\ipykernel_12272\\3301221075.py:54: UserWarning: Boolean Series key will be reindexed to match DataFrame index.\n",
      "  orden.append(porc[mask][mask1]['Porcentaje'])\n",
      "C:\\Users\\elper\\AppData\\Local\\Temp\\ipykernel_12272\\3301221075.py:54: UserWarning: Boolean Series key will be reindexed to match DataFrame index.\n",
      "  orden.append(porc[mask][mask1]['Porcentaje'])\n",
      "C:\\Users\\elper\\AppData\\Local\\Temp\\ipykernel_12272\\3301221075.py:54: UserWarning: Boolean Series key will be reindexed to match DataFrame index.\n",
      "  orden.append(porc[mask][mask1]['Porcentaje'])\n",
      "C:\\Users\\elper\\AppData\\Local\\Temp\\ipykernel_12272\\3301221075.py:54: UserWarning: Boolean Series key will be reindexed to match DataFrame index.\n",
      "  orden.append(porc[mask][mask1]['Porcentaje'])\n",
      "C:\\Users\\elper\\AppData\\Local\\Temp\\ipykernel_12272\\3301221075.py:54: UserWarning: Boolean Series key will be reindexed to match DataFrame index.\n",
      "  orden.append(porc[mask][mask1]['Porcentaje'])\n",
      "C:\\Users\\elper\\AppData\\Local\\Temp\\ipykernel_12272\\3301221075.py:54: UserWarning: Boolean Series key will be reindexed to match DataFrame index.\n",
      "  orden.append(porc[mask][mask1]['Porcentaje'])\n",
      "C:\\Users\\elper\\AppData\\Local\\Temp\\ipykernel_12272\\3301221075.py:54: UserWarning: Boolean Series key will be reindexed to match DataFrame index.\n",
      "  orden.append(porc[mask][mask1]['Porcentaje'])\n",
      "C:\\Users\\elper\\AppData\\Local\\Temp\\ipykernel_12272\\3301221075.py:54: UserWarning: Boolean Series key will be reindexed to match DataFrame index.\n",
      "  orden.append(porc[mask][mask1]['Porcentaje'])\n",
      "C:\\Users\\elper\\AppData\\Local\\Temp\\ipykernel_12272\\3301221075.py:54: UserWarning: Boolean Series key will be reindexed to match DataFrame index.\n",
      "  orden.append(porc[mask][mask1]['Porcentaje'])\n",
      "C:\\Users\\elper\\AppData\\Local\\Temp\\ipykernel_12272\\3301221075.py:54: UserWarning: Boolean Series key will be reindexed to match DataFrame index.\n",
      "  orden.append(porc[mask][mask1]['Porcentaje'])\n",
      "C:\\Users\\elper\\AppData\\Local\\Temp\\ipykernel_12272\\3301221075.py:54: UserWarning: Boolean Series key will be reindexed to match DataFrame index.\n",
      "  orden.append(porc[mask][mask1]['Porcentaje'])\n",
      "C:\\Users\\elper\\AppData\\Local\\Temp\\ipykernel_12272\\3301221075.py:54: UserWarning: Boolean Series key will be reindexed to match DataFrame index.\n",
      "  orden.append(porc[mask][mask1]['Porcentaje'])\n",
      "C:\\Users\\elper\\AppData\\Local\\Temp\\ipykernel_12272\\3301221075.py:54: UserWarning: Boolean Series key will be reindexed to match DataFrame index.\n",
      "  orden.append(porc[mask][mask1]['Porcentaje'])\n",
      "C:\\Users\\elper\\AppData\\Local\\Temp\\ipykernel_12272\\3301221075.py:54: UserWarning: Boolean Series key will be reindexed to match DataFrame index.\n",
      "  orden.append(porc[mask][mask1]['Porcentaje'])\n",
      "C:\\Users\\elper\\AppData\\Local\\Temp\\ipykernel_12272\\3301221075.py:54: UserWarning: Boolean Series key will be reindexed to match DataFrame index.\n",
      "  orden.append(porc[mask][mask1]['Porcentaje'])\n",
      "C:\\Users\\elper\\AppData\\Local\\Temp\\ipykernel_12272\\3301221075.py:54: UserWarning: Boolean Series key will be reindexed to match DataFrame index.\n",
      "  orden.append(porc[mask][mask1]['Porcentaje'])\n",
      "C:\\Users\\elper\\AppData\\Local\\Temp\\ipykernel_12272\\3301221075.py:54: UserWarning: Boolean Series key will be reindexed to match DataFrame index.\n",
      "  orden.append(porc[mask][mask1]['Porcentaje'])\n",
      "C:\\Users\\elper\\AppData\\Local\\Temp\\ipykernel_12272\\3301221075.py:54: UserWarning: Boolean Series key will be reindexed to match DataFrame index.\n",
      "  orden.append(porc[mask][mask1]['Porcentaje'])\n",
      "C:\\Users\\elper\\AppData\\Local\\Temp\\ipykernel_12272\\3301221075.py:54: UserWarning: Boolean Series key will be reindexed to match DataFrame index.\n",
      "  orden.append(porc[mask][mask1]['Porcentaje'])\n",
      "C:\\Users\\elper\\AppData\\Local\\Temp\\ipykernel_12272\\3301221075.py:54: UserWarning: Boolean Series key will be reindexed to match DataFrame index.\n",
      "  orden.append(porc[mask][mask1]['Porcentaje'])\n",
      "C:\\Users\\elper\\AppData\\Local\\Temp\\ipykernel_12272\\3301221075.py:54: UserWarning: Boolean Series key will be reindexed to match DataFrame index.\n",
      "  orden.append(porc[mask][mask1]['Porcentaje'])\n",
      "C:\\Users\\elper\\AppData\\Local\\Temp\\ipykernel_12272\\3301221075.py:54: UserWarning: Boolean Series key will be reindexed to match DataFrame index.\n",
      "  orden.append(porc[mask][mask1]['Porcentaje'])\n",
      "C:\\Users\\elper\\AppData\\Local\\Temp\\ipykernel_12272\\3301221075.py:54: UserWarning: Boolean Series key will be reindexed to match DataFrame index.\n",
      "  orden.append(porc[mask][mask1]['Porcentaje'])\n",
      "C:\\Users\\elper\\AppData\\Local\\Temp\\ipykernel_12272\\3301221075.py:54: UserWarning: Boolean Series key will be reindexed to match DataFrame index.\n",
      "  orden.append(porc[mask][mask1]['Porcentaje'])\n",
      "C:\\Users\\elper\\AppData\\Local\\Temp\\ipykernel_12272\\3301221075.py:54: UserWarning: Boolean Series key will be reindexed to match DataFrame index.\n",
      "  orden.append(porc[mask][mask1]['Porcentaje'])\n",
      "C:\\Users\\elper\\AppData\\Local\\Temp\\ipykernel_12272\\3301221075.py:54: UserWarning: Boolean Series key will be reindexed to match DataFrame index.\n",
      "  orden.append(porc[mask][mask1]['Porcentaje'])\n",
      "C:\\Users\\elper\\AppData\\Local\\Temp\\ipykernel_12272\\3301221075.py:54: UserWarning: Boolean Series key will be reindexed to match DataFrame index.\n",
      "  orden.append(porc[mask][mask1]['Porcentaje'])\n",
      "C:\\Users\\elper\\AppData\\Local\\Temp\\ipykernel_12272\\3301221075.py:54: UserWarning: Boolean Series key will be reindexed to match DataFrame index.\n",
      "  orden.append(porc[mask][mask1]['Porcentaje'])\n",
      "C:\\Users\\elper\\AppData\\Local\\Temp\\ipykernel_12272\\3301221075.py:54: UserWarning: Boolean Series key will be reindexed to match DataFrame index.\n",
      "  orden.append(porc[mask][mask1]['Porcentaje'])\n",
      "C:\\Users\\elper\\AppData\\Local\\Temp\\ipykernel_12272\\3301221075.py:54: UserWarning: Boolean Series key will be reindexed to match DataFrame index.\n",
      "  orden.append(porc[mask][mask1]['Porcentaje'])\n",
      "C:\\Users\\elper\\AppData\\Local\\Temp\\ipykernel_12272\\3301221075.py:54: UserWarning: Boolean Series key will be reindexed to match DataFrame index.\n",
      "  orden.append(porc[mask][mask1]['Porcentaje'])\n",
      "C:\\Users\\elper\\AppData\\Local\\Temp\\ipykernel_12272\\3301221075.py:54: UserWarning: Boolean Series key will be reindexed to match DataFrame index.\n",
      "  orden.append(porc[mask][mask1]['Porcentaje'])\n",
      "C:\\Users\\elper\\AppData\\Local\\Temp\\ipykernel_12272\\3301221075.py:54: UserWarning: Boolean Series key will be reindexed to match DataFrame index.\n",
      "  orden.append(porc[mask][mask1]['Porcentaje'])\n",
      "C:\\Users\\elper\\AppData\\Local\\Temp\\ipykernel_12272\\3301221075.py:54: UserWarning: Boolean Series key will be reindexed to match DataFrame index.\n",
      "  orden.append(porc[mask][mask1]['Porcentaje'])\n",
      "C:\\Users\\elper\\AppData\\Local\\Temp\\ipykernel_12272\\3301221075.py:54: UserWarning: Boolean Series key will be reindexed to match DataFrame index.\n",
      "  orden.append(porc[mask][mask1]['Porcentaje'])\n",
      "C:\\Users\\elper\\AppData\\Local\\Temp\\ipykernel_12272\\3301221075.py:54: UserWarning: Boolean Series key will be reindexed to match DataFrame index.\n",
      "  orden.append(porc[mask][mask1]['Porcentaje'])\n",
      "C:\\Users\\elper\\AppData\\Local\\Temp\\ipykernel_12272\\3301221075.py:54: UserWarning: Boolean Series key will be reindexed to match DataFrame index.\n",
      "  orden.append(porc[mask][mask1]['Porcentaje'])\n",
      "C:\\Users\\elper\\AppData\\Local\\Temp\\ipykernel_12272\\3301221075.py:54: UserWarning: Boolean Series key will be reindexed to match DataFrame index.\n",
      "  orden.append(porc[mask][mask1]['Porcentaje'])\n",
      "C:\\Users\\elper\\AppData\\Local\\Temp\\ipykernel_12272\\3301221075.py:54: UserWarning: Boolean Series key will be reindexed to match DataFrame index.\n",
      "  orden.append(porc[mask][mask1]['Porcentaje'])\n",
      "C:\\Users\\elper\\AppData\\Local\\Temp\\ipykernel_12272\\3301221075.py:54: UserWarning: Boolean Series key will be reindexed to match DataFrame index.\n",
      "  orden.append(porc[mask][mask1]['Porcentaje'])\n",
      "C:\\Users\\elper\\AppData\\Local\\Temp\\ipykernel_12272\\3301221075.py:54: UserWarning: Boolean Series key will be reindexed to match DataFrame index.\n",
      "  orden.append(porc[mask][mask1]['Porcentaje'])\n",
      "C:\\Users\\elper\\AppData\\Local\\Temp\\ipykernel_12272\\3301221075.py:54: UserWarning: Boolean Series key will be reindexed to match DataFrame index.\n",
      "  orden.append(porc[mask][mask1]['Porcentaje'])\n",
      "C:\\Users\\elper\\AppData\\Local\\Temp\\ipykernel_12272\\3301221075.py:54: UserWarning: Boolean Series key will be reindexed to match DataFrame index.\n",
      "  orden.append(porc[mask][mask1]['Porcentaje'])\n",
      "C:\\Users\\elper\\AppData\\Local\\Temp\\ipykernel_12272\\3301221075.py:54: UserWarning: Boolean Series key will be reindexed to match DataFrame index.\n",
      "  orden.append(porc[mask][mask1]['Porcentaje'])\n",
      "C:\\Users\\elper\\AppData\\Local\\Temp\\ipykernel_12272\\3301221075.py:54: UserWarning: Boolean Series key will be reindexed to match DataFrame index.\n",
      "  orden.append(porc[mask][mask1]['Porcentaje'])\n",
      "C:\\Users\\elper\\AppData\\Local\\Temp\\ipykernel_12272\\3301221075.py:54: UserWarning: Boolean Series key will be reindexed to match DataFrame index.\n",
      "  orden.append(porc[mask][mask1]['Porcentaje'])\n",
      "C:\\Users\\elper\\AppData\\Local\\Temp\\ipykernel_12272\\3301221075.py:54: UserWarning: Boolean Series key will be reindexed to match DataFrame index.\n",
      "  orden.append(porc[mask][mask1]['Porcentaje'])\n",
      "C:\\Users\\elper\\AppData\\Local\\Temp\\ipykernel_12272\\3301221075.py:54: UserWarning: Boolean Series key will be reindexed to match DataFrame index.\n",
      "  orden.append(porc[mask][mask1]['Porcentaje'])\n",
      "C:\\Users\\elper\\AppData\\Local\\Temp\\ipykernel_12272\\3301221075.py:54: UserWarning: Boolean Series key will be reindexed to match DataFrame index.\n",
      "  orden.append(porc[mask][mask1]['Porcentaje'])\n",
      "C:\\Users\\elper\\AppData\\Local\\Temp\\ipykernel_12272\\3301221075.py:54: UserWarning: Boolean Series key will be reindexed to match DataFrame index.\n",
      "  orden.append(porc[mask][mask1]['Porcentaje'])\n",
      "C:\\Users\\elper\\AppData\\Local\\Temp\\ipykernel_12272\\3301221075.py:54: UserWarning: Boolean Series key will be reindexed to match DataFrame index.\n",
      "  orden.append(porc[mask][mask1]['Porcentaje'])\n",
      "C:\\Users\\elper\\AppData\\Local\\Temp\\ipykernel_12272\\3301221075.py:54: UserWarning: Boolean Series key will be reindexed to match DataFrame index.\n",
      "  orden.append(porc[mask][mask1]['Porcentaje'])\n",
      "C:\\Users\\elper\\AppData\\Local\\Temp\\ipykernel_12272\\3301221075.py:54: UserWarning: Boolean Series key will be reindexed to match DataFrame index.\n",
      "  orden.append(porc[mask][mask1]['Porcentaje'])\n",
      "C:\\Users\\elper\\AppData\\Local\\Temp\\ipykernel_12272\\3301221075.py:54: UserWarning: Boolean Series key will be reindexed to match DataFrame index.\n",
      "  orden.append(porc[mask][mask1]['Porcentaje'])\n",
      "C:\\Users\\elper\\AppData\\Local\\Temp\\ipykernel_12272\\3301221075.py:54: UserWarning: Boolean Series key will be reindexed to match DataFrame index.\n",
      "  orden.append(porc[mask][mask1]['Porcentaje'])\n",
      "C:\\Users\\elper\\AppData\\Local\\Temp\\ipykernel_12272\\3301221075.py:54: UserWarning: Boolean Series key will be reindexed to match DataFrame index.\n",
      "  orden.append(porc[mask][mask1]['Porcentaje'])\n",
      "C:\\Users\\elper\\AppData\\Local\\Temp\\ipykernel_12272\\3301221075.py:54: UserWarning: Boolean Series key will be reindexed to match DataFrame index.\n",
      "  orden.append(porc[mask][mask1]['Porcentaje'])\n",
      "C:\\Users\\elper\\AppData\\Local\\Temp\\ipykernel_12272\\3301221075.py:54: UserWarning: Boolean Series key will be reindexed to match DataFrame index.\n",
      "  orden.append(porc[mask][mask1]['Porcentaje'])\n",
      "C:\\Users\\elper\\AppData\\Local\\Temp\\ipykernel_12272\\3301221075.py:54: UserWarning: Boolean Series key will be reindexed to match DataFrame index.\n",
      "  orden.append(porc[mask][mask1]['Porcentaje'])\n",
      "C:\\Users\\elper\\AppData\\Local\\Temp\\ipykernel_12272\\3301221075.py:54: UserWarning: Boolean Series key will be reindexed to match DataFrame index.\n",
      "  orden.append(porc[mask][mask1]['Porcentaje'])\n",
      "C:\\Users\\elper\\AppData\\Local\\Temp\\ipykernel_12272\\3301221075.py:54: UserWarning: Boolean Series key will be reindexed to match DataFrame index.\n",
      "  orden.append(porc[mask][mask1]['Porcentaje'])\n",
      "C:\\Users\\elper\\AppData\\Local\\Temp\\ipykernel_12272\\3301221075.py:54: UserWarning: Boolean Series key will be reindexed to match DataFrame index.\n",
      "  orden.append(porc[mask][mask1]['Porcentaje'])\n",
      "C:\\Users\\elper\\AppData\\Local\\Temp\\ipykernel_12272\\3301221075.py:54: UserWarning: Boolean Series key will be reindexed to match DataFrame index.\n",
      "  orden.append(porc[mask][mask1]['Porcentaje'])\n",
      "C:\\Users\\elper\\AppData\\Local\\Temp\\ipykernel_12272\\3301221075.py:54: UserWarning: Boolean Series key will be reindexed to match DataFrame index.\n",
      "  orden.append(porc[mask][mask1]['Porcentaje'])\n",
      "C:\\Users\\elper\\AppData\\Local\\Temp\\ipykernel_12272\\3301221075.py:54: UserWarning: Boolean Series key will be reindexed to match DataFrame index.\n",
      "  orden.append(porc[mask][mask1]['Porcentaje'])\n",
      "C:\\Users\\elper\\AppData\\Local\\Temp\\ipykernel_12272\\3301221075.py:54: UserWarning: Boolean Series key will be reindexed to match DataFrame index.\n",
      "  orden.append(porc[mask][mask1]['Porcentaje'])\n",
      "C:\\Users\\elper\\AppData\\Local\\Temp\\ipykernel_12272\\3301221075.py:54: UserWarning: Boolean Series key will be reindexed to match DataFrame index.\n",
      "  orden.append(porc[mask][mask1]['Porcentaje'])\n",
      "C:\\Users\\elper\\AppData\\Local\\Temp\\ipykernel_12272\\3301221075.py:54: UserWarning: Boolean Series key will be reindexed to match DataFrame index.\n",
      "  orden.append(porc[mask][mask1]['Porcentaje'])\n",
      "C:\\Users\\elper\\AppData\\Local\\Temp\\ipykernel_12272\\3301221075.py:54: UserWarning: Boolean Series key will be reindexed to match DataFrame index.\n",
      "  orden.append(porc[mask][mask1]['Porcentaje'])\n",
      "C:\\Users\\elper\\AppData\\Local\\Temp\\ipykernel_12272\\3301221075.py:54: UserWarning: Boolean Series key will be reindexed to match DataFrame index.\n",
      "  orden.append(porc[mask][mask1]['Porcentaje'])\n",
      "C:\\Users\\elper\\AppData\\Local\\Temp\\ipykernel_12272\\3301221075.py:54: UserWarning: Boolean Series key will be reindexed to match DataFrame index.\n",
      "  orden.append(porc[mask][mask1]['Porcentaje'])\n",
      "C:\\Users\\elper\\AppData\\Local\\Temp\\ipykernel_12272\\3301221075.py:54: UserWarning: Boolean Series key will be reindexed to match DataFrame index.\n",
      "  orden.append(porc[mask][mask1]['Porcentaje'])\n"
     ]
    }
   ],
   "source": [
    "lista = coches['Marca']\n",
    "index = []\n",
    "for n in lista:\n",
    "    if n not in index:\n",
    "        index.append(n)\n",
    "lista = coches['Tipo']\n",
    "index1 = []\n",
    "for n in lista:\n",
    "    if n not in index1:\n",
    "        index1.append(n)\n",
    "index2 = []\n",
    "porcentajes = coches.groupby('Marca')['Tipo'].value_counts()/coches.groupby('Marca')['Tipo'].count() * 100\n",
    "for n in range(len(porcentajes)):\n",
    "    index2.append(porcentajes[n]) \n",
    "nlista = list()\n",
    "tipo = list()\n",
    "marca = list()\n",
    "mask = coches.groupby('Marca')['Tipo'].value_counts()\n",
    "lista = mask.keys()\n",
    "for n in range(len(lista)):\n",
    "    nlista.append(lista[n])\n",
    "for n in range(len(nlista)):\n",
    "    temp = list()\n",
    "    temp = nlista[n]\n",
    "    tipo.append(temp[1])\n",
    "for n in range(len(nlista)):\n",
    "    temp = list()\n",
    "    temp = nlista[n]\n",
    "    marca.append(temp[0])\n",
    "\n",
    "porc = pd.DataFrame()\n",
    "porc['Marca'] = marca\n",
    "porc['Tipo'] = tipo\n",
    "porc['Porcentaje'] = index2\n",
    "\n",
    "vacio = list()\n",
    "for n in index:\n",
    "    vacio.append(0)\n",
    "barras = pd.DataFrame()\n",
    "barras['Marca'] = index\n",
    "barras['SUV'] = vacio\n",
    "barras['Sedan'] = vacio\n",
    "barras['Sports'] = vacio\n",
    "barras['Wagon'] = vacio\n",
    "barras['Truck'] = vacio\n",
    "barras['Hybrid'] = vacio\n",
    "\n",
    "orden = list()\n",
    "for n in range(len(index)):\n",
    "    temp = float()\n",
    "    mask = porc['Marca']==index[n]\n",
    "    for i in range(len(index1)):\n",
    "        mask1 = porc['Tipo']==index1[i]\n",
    "        orden.append(porc[mask][mask1]['Porcentaje'])\n",
    "x=0\n",
    "for n in range(len(index)):  \n",
    "    for i in range(len(index1)):\n",
    "        try:\n",
    "            barras.iloc[n,i+1]=orden[x]\n",
    "        except: \n",
    "            pass\n",
    "        x +=1"
   ]
  },
  {
   "cell_type": "code",
   "execution_count": 57,
   "id": "dfa6a29c",
   "metadata": {},
   "outputs": [
    {
     "data": {
      "text/plain": [
       "Text(0.5, 1.0, 'Porcentajes de tipo de auto por marca')"
      ]
     },
     "execution_count": 57,
     "metadata": {},
     "output_type": "execute_result"
    },
    {
     "data": {
      "image/png": "[encoded data removed]",
      "text/plain": [
       "<Figure size 640x480 with 1 Axes>"
      ]
     },
     "metadata": {},
     "output_type": "display_data"
    }
   ],
   "source": [
    "import numpy as np\n",
    "import matplotlib.pyplot as plt\n",
    "suv = list(barras['SUV'])\n",
    "sedan = list(barras['Sedan'])\n",
    "sports = list(barras['Sports'])\n",
    "wagon = list(barras['Wagon'])\n",
    "truck = list(barras['Truck'])\n",
    "hybrid = list(barras['Hybrid'])\n",
    "df = pd.DataFrame({'SUV': suv,'Sedan':sedan,'Sports':sports,'Wagon':wagon,'Truck':truck,'Hybrid':hybrid}, index=barras['Marca'])\n",
    "ax = df.plot.bar(stacked=True)\n",
    "ax.set_ylabel('Porcentaje')\n",
    "ax.set_title('Porcentajes de tipo de auto por marca', fontsize=13, fontweight='bold')"
   ]
  },
  {
   "cell_type": "markdown",
   "id": "aa52b271",
   "metadata": {},
   "source": [
    "EXPLICACION: Este fue el ejercico que mas me ha costado trabajo ya que del modo en que yo lo entendi teniamos que graficar repreentando la suma de todas las partes de una barra como el cien por ciento pero en vez de graficar los modelos como decia el enunciado decidi graficar los tipos ya que si graficaba por modelo no se iban a apreciar los porcentajes ya que cada uno representaba cerca del uno por ciento. Lo que hice al inicio fue hacer un indice de las marcas y los tipos para construir un nuevo data frame junto con los datos de los porcentajes. Una vez creado ese data frame cree otro en el que cada tipo representaba una columna y en estas columnas fui vaciando los datos de los porcentajes del data frame anterior, lo ultimo fue graficar, ya que pedian una grafica de barras  hice una por cada marca y cada color represntando el porcentaje de los tipos de vehiculo de cada marca. Ya no me adentre a moverle mucho ya que estaba muy corto de tiempo."
   ]
  },
  {
   "cell_type": "markdown",
   "id": "58a0c7ad",
   "metadata": {},
   "source": [
    "J. Gráfica el diagrama de dispersión de la potencia y el precio."
   ]
  },
  {
   "cell_type": "code",
   "execution_count": 51,
   "id": "44706010",
   "metadata": {},
   "outputs": [
    {
     "data": {
      "image/png": "[encoded data removed]",
      "text/plain": [
       "<Figure size 640x480 with 1 Axes>"
      ]
     },
     "metadata": {},
     "output_type": "display_data"
    }
   ],
   "source": [
    "import numpy as np\n",
    "import matplotlib.pyplot as plt\n",
    "cochesn = coches\n",
    "cochesn.replace(0, np.nan, inplace=True)\n",
    "cochesn = cochesn.dropna()\n",
    "N = len(cochesn['Precio'])\n",
    "x = cochesn['Precio']\n",
    "y = cochesn['Potencia']\n",
    "\n",
    "area = 7  # 0 to 15 point radii\n",
    "fig = plt.figure()\n",
    "ax = fig.add_subplot()\n",
    "fig.suptitle('Diagrama de dispersion de potencia contra precio', fontsize=13, fontweight='bold')\n",
    "ax.set_xlabel('Precio')\n",
    "ax.set_ylabel('Potencia')\n",
    "plt.scatter(x, y, s=area, c='r',alpha=0.5)\n",
    "plt.show()"
   ]
  },
  {
   "cell_type": "markdown",
   "id": "c5ffe836",
   "metadata": {},
   "source": [
    "EXPLICACION: para este inciso tome el ejemplo de diagrama de dispersion y sustitui con los datos de mi data frame, primero elimine las filas de las cuales no tenia el valor de la potencia y grafique con los datos restantes."
   ]
  }
 ],
 "metadata": {
  "kernelspec": {
   "display_name": "Python 3 (ipykernel)",
   "language": "python",
   "name": "python3"
  },
  "language_info": {
   "codemirror_mode": {
    "name": "ipython",
    "version": 3
   },
   "file_extension": ".py",
   "mimetype": "text/x-python",
   "name": "python",
   "nbconvert_exporter": "python",
   "pygments_lexer": "ipython3",
   "version": "3.11.3"
  }
 },
 "nbformat": 4,
 "nbformat_minor": 5
}
