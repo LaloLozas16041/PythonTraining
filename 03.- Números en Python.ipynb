{
  "nbformat": 4,
  "nbformat_minor": 0,
  "metadata": {
    "colab": {
      "provenance": []
    },
    "kernelspec": {
      "name": "python3",
      "display_name": "Python 3"
    }
  },
  "cells": [
    {
      "cell_type": "markdown",
      "metadata": {
        "id": "b646bCQCSJBh"
      },
      "source": [
        "# Números en `Python`"
      ]
    },
    {
      "cell_type": "markdown",
      "metadata": {
        "id": "cw3g5xzu2yuL"
      },
      "source": [
        "## Tipos de números\n",
        "\n",
        "- `int`: número entero\n",
        "- `float`: número en coma flotante\n",
        "\n",
        "Para saber el tipo de dato de un número podemos utilizar la función `type()`"
      ]
    },
    {
      "cell_type": "code",
      "metadata": {
        "id": "zQqqcJGoSIaf",
        "colab": {
          "base_uri": "https://localhost:8080/"
        },
        "outputId": "010521d8-b538-44b6-9b5f-ce2a123c3360"
      },
      "source": [
        "type(5)"
      ],
      "execution_count": null,
      "outputs": [
        {
          "output_type": "execute_result",
          "data": {
            "text/plain": [
              "int"
            ]
          },
          "metadata": {
            "tags": []
          },
          "execution_count": 1
        }
      ]
    },
    {
      "cell_type": "code",
      "metadata": {
        "id": "OJKbBjVmSwnW",
        "colab": {
          "base_uri": "https://localhost:8080/"
        },
        "outputId": "2400dcff-0315-4f23-d565-42574ab5a7f1"
      },
      "source": [
        "type(5.0)"
      ],
      "execution_count": null,
      "outputs": [
        {
          "output_type": "execute_result",
          "data": {
            "text/plain": [
              "float"
            ]
          },
          "metadata": {
            "tags": []
          },
          "execution_count": 2
        }
      ]
    },
    {
      "cell_type": "markdown",
      "metadata": {
        "id": "m1trN--lS4GF"
      },
      "source": [
        "**Observación.** En `Python`, para referirnos a números de tipo `float` con todo 0's en la parte decimal como `3.0`, basta que indiquemos `3.`. Es decir, `Python` entiende que los números `3.0` y `3.` son el mismo, incluyendo que son del mismo tipo: `float`."
      ]
    },
    {
      "cell_type": "code",
      "metadata": {
        "id": "ffZAuMNoSxjh",
        "colab": {
          "base_uri": "https://localhost:8080/",
          "height": 34
        },
        "outputId": "96b91365-88f7-4b93-d398-ffd6bbc216a2"
      },
      "source": [
        "type(3.0)"
      ],
      "execution_count": null,
      "outputs": [
        {
          "output_type": "execute_result",
          "data": {
            "text/plain": [
              "float"
            ]
          },
          "metadata": {
            "tags": []
          },
          "execution_count": 3
        }
      ]
    },
    {
      "cell_type": "code",
      "metadata": {
        "id": "DowHXrxZTJ9g",
        "colab": {
          "base_uri": "https://localhost:8080/",
          "height": 34
        },
        "outputId": "b18588ba-8235-40e3-838e-c8fb0ab8bd14"
      },
      "source": [
        "type(3.)"
      ],
      "execution_count": null,
      "outputs": [
        {
          "output_type": "execute_result",
          "data": {
            "text/plain": [
              "float"
            ]
          },
          "metadata": {
            "tags": []
          },
          "execution_count": 4
        }
      ]
    },
    {
      "cell_type": "markdown",
      "metadata": {
        "id": "ElLWlwxBTRe0"
      },
      "source": [
        "Podemos indicar el tipo de número que deseamos utilizar con las funciones `int()` y `float()`."
      ]
    },
    {
      "cell_type": "code",
      "metadata": {
        "id": "DkTL4yy1TK0u",
        "colab": {
          "base_uri": "https://localhost:8080/"
        },
        "outputId": "d16efaaf-6a58-4529-bd72-d74cd52b7b5d"
      },
      "source": [
        "type(int(7.0))"
      ],
      "execution_count": null,
      "outputs": [
        {
          "output_type": "execute_result",
          "data": {
            "text/plain": [
              "int"
            ]
          },
          "metadata": {
            "tags": []
          },
          "execution_count": 3
        }
      ]
    },
    {
      "cell_type": "code",
      "metadata": {
        "id": "s3XqJt9TTazP",
        "colab": {
          "base_uri": "https://localhost:8080/",
          "height": 34
        },
        "outputId": "48de7afd-32cf-4c0d-ffdf-9346f6c9fb48"
      },
      "source": [
        "type(int(9.))"
      ],
      "execution_count": null,
      "outputs": [
        {
          "output_type": "execute_result",
          "data": {
            "text/plain": [
              "int"
            ]
          },
          "metadata": {
            "tags": []
          },
          "execution_count": 8
        }
      ]
    },
    {
      "cell_type": "code",
      "metadata": {
        "id": "aOn0gnD5TXu6",
        "colab": {
          "base_uri": "https://localhost:8080/",
          "height": 34
        },
        "outputId": "02326f62-5a91-4bd9-c459-c0c480a7eb83"
      },
      "source": [
        "type(float(3))"
      ],
      "execution_count": null,
      "outputs": [
        {
          "output_type": "execute_result",
          "data": {
            "text/plain": [
              "float"
            ]
          },
          "metadata": {
            "tags": []
          },
          "execution_count": 6
        }
      ]
    },
    {
      "cell_type": "markdown",
      "metadata": {
        "id": "ZnzC3eaWTod8"
      },
      "source": [
        "**¡Cuidado!** Es sencillo pasar de enteros a números en coma flotante, ya que siempre es posible, pero no siempre podemos pasar de números en coma flotante a números enteros, pues se pierde la parte decimal."
      ]
    },
    {
      "cell_type": "code",
      "metadata": {
        "id": "WBSZHBjtTYzT",
        "colab": {
          "base_uri": "https://localhost:8080/"
        },
        "outputId": "896b9b82-45fa-48b2-ef65-c892bb392013"
      },
      "source": [
        "int(3.5)"
      ],
      "execution_count": null,
      "outputs": [
        {
          "output_type": "execute_result",
          "data": {
            "text/plain": [
              "3"
            ]
          },
          "metadata": {
            "tags": []
          },
          "execution_count": 4
        }
      ]
    },
    {
      "cell_type": "markdown",
      "metadata": {
        "id": "wB4seOhPT8A1"
      },
      "source": [
        "## Operaciones aritméticas"
      ]
    },
    {
      "cell_type": "markdown",
      "metadata": {
        "id": "6HYWiK_hqQ2k"
      },
      "source": [
        "### Suma\n",
        "\n",
        "Para sumar dos números, utilizamos la función `+`"
      ]
    },
    {
      "cell_type": "code",
      "metadata": {
        "id": "lpkSr0OyT4DH",
        "colab": {
          "base_uri": "https://localhost:8080/",
          "height": 34
        },
        "outputId": "07bd9e2e-49b2-4379-f3b9-35c9255ee59d"
      },
      "source": [
        "2 + 1"
      ],
      "execution_count": null,
      "outputs": [
        {
          "output_type": "execute_result",
          "data": {
            "text/plain": [
              "3"
            ]
          },
          "metadata": {
            "tags": []
          },
          "execution_count": 16
        }
      ]
    },
    {
      "cell_type": "code",
      "metadata": {
        "id": "NMGfttFkUEdf",
        "colab": {
          "base_uri": "https://localhost:8080/",
          "height": 34
        },
        "outputId": "6b45ee2e-0f24-4490-d20b-c4c607ab2bed"
      },
      "source": [
        "2.0 + 1."
      ],
      "execution_count": null,
      "outputs": [
        {
          "output_type": "execute_result",
          "data": {
            "text/plain": [
              "3.0"
            ]
          },
          "metadata": {
            "tags": []
          },
          "execution_count": 15
        }
      ]
    },
    {
      "cell_type": "code",
      "metadata": {
        "id": "1JahgnC-UFja",
        "colab": {
          "base_uri": "https://localhost:8080/",
          "height": 34
        },
        "outputId": "fca59dad-90f7-4984-901f-e8f377536841"
      },
      "source": [
        "2 + 1.0"
      ],
      "execution_count": null,
      "outputs": [
        {
          "output_type": "execute_result",
          "data": {
            "text/plain": [
              "3.0"
            ]
          },
          "metadata": {
            "tags": []
          },
          "execution_count": 14
        }
      ]
    },
    {
      "cell_type": "markdown",
      "metadata": {
        "id": "X_F3oJh4UJXf"
      },
      "source": [
        "**Observación.** Fijémonos que al combinar un número entero (int) y un número en coma flotante (float), el resutado es un número float. Esto ocurre para todas las operaciones aritméticas en `Python`.\n",
        "\n"
      ]
    },
    {
      "cell_type": "markdown",
      "metadata": {
        "id": "sADWMHcGBvu2"
      },
      "source": [
        "### Resta\n",
        "\n",
        "Para restar dos números, utilizamos la función `-`"
      ]
    },
    {
      "cell_type": "code",
      "metadata": {
        "id": "ezk6U1OXUIKk",
        "colab": {
          "base_uri": "https://localhost:8080/",
          "height": 34
        },
        "outputId": "be3a94cb-db4d-45af-95ac-3ed01bf7d33a"
      },
      "source": [
        "7 - 3"
      ],
      "execution_count": null,
      "outputs": [
        {
          "output_type": "execute_result",
          "data": {
            "text/plain": [
              "4"
            ]
          },
          "metadata": {
            "tags": []
          },
          "execution_count": 17
        }
      ]
    },
    {
      "cell_type": "code",
      "metadata": {
        "id": "BH6O20_PUdQB",
        "colab": {
          "base_uri": "https://localhost:8080/",
          "height": 34
        },
        "outputId": "5f5f3760-fe01-4d45-93b1-c1c20dda4f09"
      },
      "source": [
        "7.0 - 3."
      ],
      "execution_count": null,
      "outputs": [
        {
          "output_type": "execute_result",
          "data": {
            "text/plain": [
              "4.0"
            ]
          },
          "metadata": {
            "tags": []
          },
          "execution_count": 18
        }
      ]
    },
    {
      "cell_type": "code",
      "metadata": {
        "id": "8dwxYzaZUfH0",
        "colab": {
          "base_uri": "https://localhost:8080/",
          "height": 34
        },
        "outputId": "88c3dc20-c3a9-47bc-f401-c0a5b27fb073"
      },
      "source": [
        "7 - 3.0"
      ],
      "execution_count": null,
      "outputs": [
        {
          "output_type": "execute_result",
          "data": {
            "text/plain": [
              "4.0"
            ]
          },
          "metadata": {
            "tags": []
          },
          "execution_count": 19
        }
      ]
    },
    {
      "cell_type": "markdown",
      "metadata": {
        "id": "RGb47kNzUidM"
      },
      "source": [
        "### Producto\n",
        "\n",
        "Para multiplicar dos números, utilizamos la función `*`"
      ]
    },
    {
      "cell_type": "code",
      "metadata": {
        "id": "dfXOHZNiUgS2",
        "colab": {
          "base_uri": "https://localhost:8080/",
          "height": 34
        },
        "outputId": "cca2b7d3-8aae-4e69-b6b2-9d9e94056d8c"
      },
      "source": [
        "8 * 6"
      ],
      "execution_count": null,
      "outputs": [
        {
          "output_type": "execute_result",
          "data": {
            "text/plain": [
              "48"
            ]
          },
          "metadata": {
            "tags": []
          },
          "execution_count": 20
        }
      ]
    },
    {
      "cell_type": "code",
      "metadata": {
        "id": "bFZPzM5rUpfP",
        "colab": {
          "base_uri": "https://localhost:8080/",
          "height": 34
        },
        "outputId": "ea5febcc-6388-4af7-a645-9a5c219b9b8d"
      },
      "source": [
        "8. * 6."
      ],
      "execution_count": null,
      "outputs": [
        {
          "output_type": "execute_result",
          "data": {
            "text/plain": [
              "48.0"
            ]
          },
          "metadata": {
            "tags": []
          },
          "execution_count": 21
        }
      ]
    },
    {
      "cell_type": "code",
      "metadata": {
        "id": "qzleGK7UUrF8",
        "colab": {
          "base_uri": "https://localhost:8080/",
          "height": 34
        },
        "outputId": "3fa41489-3abc-4d2c-8c4f-94ff691ca14f"
      },
      "source": [
        "8.0 * 6"
      ],
      "execution_count": null,
      "outputs": [
        {
          "output_type": "execute_result",
          "data": {
            "text/plain": [
              "48.0"
            ]
          },
          "metadata": {
            "tags": []
          },
          "execution_count": 22
        }
      ]
    },
    {
      "cell_type": "markdown",
      "metadata": {
        "id": "9nXOuvCGUt2W"
      },
      "source": [
        "### División\n",
        "\n",
        "Para dividir dos números, utilizamos la función `/`"
      ]
    },
    {
      "cell_type": "code",
      "metadata": {
        "id": "J4GRM9fcUsx6",
        "colab": {
          "base_uri": "https://localhost:8080/",
          "height": 34
        },
        "outputId": "9febbbc5-ce9b-4d42-de46-86ba00389e41"
      },
      "source": [
        "6 / 5"
      ],
      "execution_count": null,
      "outputs": [
        {
          "output_type": "execute_result",
          "data": {
            "text/plain": [
              "1.2"
            ]
          },
          "metadata": {
            "tags": []
          },
          "execution_count": 23
        }
      ]
    },
    {
      "cell_type": "code",
      "metadata": {
        "id": "wrVwRtynU4ZM",
        "colab": {
          "base_uri": "https://localhost:8080/",
          "height": 34
        },
        "outputId": "e28391a0-ad27-4296-ed1d-fecc1be94681"
      },
      "source": [
        "6. / 5.0"
      ],
      "execution_count": null,
      "outputs": [
        {
          "output_type": "execute_result",
          "data": {
            "text/plain": [
              "1.2"
            ]
          },
          "metadata": {
            "tags": []
          },
          "execution_count": 24
        }
      ]
    },
    {
      "cell_type": "code",
      "metadata": {
        "id": "JeDoEiuEU6W7",
        "colab": {
          "base_uri": "https://localhost:8080/",
          "height": 34
        },
        "outputId": "2548e63f-00f2-4381-cc64-9e9120fda9d7"
      },
      "source": [
        "6 / 5.0"
      ],
      "execution_count": null,
      "outputs": [
        {
          "output_type": "execute_result",
          "data": {
            "text/plain": [
              "1.2"
            ]
          },
          "metadata": {
            "tags": []
          },
          "execution_count": 25
        }
      ]
    },
    {
      "cell_type": "markdown",
      "metadata": {
        "id": "q4M_PC4JU8TV"
      },
      "source": [
        "**¡Cuidado!** Hay que tener en cuenta el tipo de número (int o float) cuando vayamos a dividir en `Python`, porque en algunas versiones, si dividimos dos números enteros, se lleva a cabo la división entera automáticamente.\n",
        "\n"
      ]
    },
    {
      "cell_type": "markdown",
      "metadata": {
        "id": "zeXGfu_aB1kg"
      },
      "source": [
        "### División entera o Euclídea\n",
        "\n",
        "Dados dos números naturales $a$ y $b$, con $b \\ne 0$, la división Euclídea de $a$ entre $b$ asocia un cociente $q$ y un resto $r$, ambos números naturales, que satisfacen\n",
        "\n",
        "- $a = b \\cdot q + r$\n",
        "- $r < b$\n",
        "\n"
      ]
    },
    {
      "cell_type": "markdown",
      "metadata": {
        "id": "MoLVXYp2DIUI"
      },
      "source": [
        "---\n",
        "\n",
        "#### Ejemplo 1\n",
        "\n",
        "Si queremos la división entera de $a = 7$ entre $b = 5$, tendremos que el cociente es $q = 1$ y el resto es $r = 2$, ya que\n",
        "\n",
        "$$7 = 5\\cdot 1 + 2$$\n",
        "\n",
        "y el resto $r$ es menor al divisor $b$. Es decir, $2 < 5$.\n",
        "\n",
        "---\n",
        "\n",
        "Para obtener el cociente de la división entera, utilizamos la función `//`"
      ]
    },
    {
      "cell_type": "code",
      "metadata": {
        "id": "win8schFU7hk",
        "colab": {
          "base_uri": "https://localhost:8080/",
          "height": 34
        },
        "outputId": "2a0e94ee-06cb-4c72-dae3-aa1223fc8df4"
      },
      "source": [
        "10 // 3"
      ],
      "execution_count": null,
      "outputs": [
        {
          "output_type": "execute_result",
          "data": {
            "text/plain": [
              "3"
            ]
          },
          "metadata": {
            "tags": []
          },
          "execution_count": 26
        }
      ]
    },
    {
      "cell_type": "markdown",
      "metadata": {
        "id": "VKOLoGr9WmFv"
      },
      "source": [
        "Para obtener el resto de la división entera, utilizamos la función `%`"
      ]
    },
    {
      "cell_type": "code",
      "metadata": {
        "id": "JcxeNMeaWjyE",
        "colab": {
          "base_uri": "https://localhost:8080/",
          "height": 34
        },
        "outputId": "816df653-7fc3-4ff8-a0ec-f6df3260bafc"
      },
      "source": [
        "10 % 3"
      ],
      "execution_count": null,
      "outputs": [
        {
          "output_type": "execute_result",
          "data": {
            "text/plain": [
              "1"
            ]
          },
          "metadata": {
            "tags": []
          },
          "execution_count": 27
        }
      ]
    },
    {
      "cell_type": "markdown",
      "metadata": {
        "id": "OV-lRxhtWses"
      },
      "source": [
        "### Potencia\n",
        "\n",
        "Para calcular la potencia $n$-ésima de un número, usamos la función `**`"
      ]
    },
    {
      "cell_type": "code",
      "metadata": {
        "id": "Gpkix_PqWoss",
        "colab": {
          "base_uri": "https://localhost:8080/",
          "height": 34
        },
        "outputId": "01549f3f-7cb8-4b59-eaac-be8f666aff15"
      },
      "source": [
        "5 ** 3"
      ],
      "execution_count": null,
      "outputs": [
        {
          "output_type": "execute_result",
          "data": {
            "text/plain": [
              "125"
            ]
          },
          "metadata": {
            "tags": []
          },
          "execution_count": 28
        }
      ]
    },
    {
      "cell_type": "code",
      "metadata": {
        "id": "qeu9iuKQW1GL",
        "colab": {
          "base_uri": "https://localhost:8080/",
          "height": 34
        },
        "outputId": "3ad5e637-4b95-4d35-c079-cca1df99637c"
      },
      "source": [
        "5.0 ** 3.0"
      ],
      "execution_count": null,
      "outputs": [
        {
          "output_type": "execute_result",
          "data": {
            "text/plain": [
              "125.0"
            ]
          },
          "metadata": {
            "tags": []
          },
          "execution_count": 29
        }
      ]
    },
    {
      "cell_type": "code",
      "metadata": {
        "id": "61_rCh_WW2bu",
        "colab": {
          "base_uri": "https://localhost:8080/",
          "height": 34
        },
        "outputId": "04d9635a-3c7f-44db-f265-f39e0ef86834"
      },
      "source": [
        "5.0 ** 3"
      ],
      "execution_count": null,
      "outputs": [
        {
          "output_type": "execute_result",
          "data": {
            "text/plain": [
              "125.0"
            ]
          },
          "metadata": {
            "tags": []
          },
          "execution_count": 30
        }
      ]
    },
    {
      "cell_type": "markdown",
      "metadata": {
        "id": "4FV5ZaBHW6XR"
      },
      "source": [
        "Para calcular la potencia $n$-ésima de un número, también podemos usar la función `pow()`"
      ]
    },
    {
      "cell_type": "code",
      "metadata": {
        "id": "FA-UxXngW3WG",
        "colab": {
          "base_uri": "https://localhost:8080/",
          "height": 34
        },
        "outputId": "8f970ae2-702d-43c4-c124-6e91f549599f"
      },
      "source": [
        "pow(5, 3)"
      ],
      "execution_count": null,
      "outputs": [
        {
          "output_type": "execute_result",
          "data": {
            "text/plain": [
              "125"
            ]
          },
          "metadata": {
            "tags": []
          },
          "execution_count": 31
        }
      ]
    },
    {
      "cell_type": "code",
      "metadata": {
        "id": "Y6qS6ytLW_Bq",
        "colab": {
          "base_uri": "https://localhost:8080/",
          "height": 34
        },
        "outputId": "e3e85fc6-7fa4-4637-d5f1-47d10bf0f97e"
      },
      "source": [
        "pow(5., 3.0)"
      ],
      "execution_count": null,
      "outputs": [
        {
          "output_type": "execute_result",
          "data": {
            "text/plain": [
              "125.0"
            ]
          },
          "metadata": {
            "tags": []
          },
          "execution_count": 32
        }
      ]
    },
    {
      "cell_type": "code",
      "metadata": {
        "id": "Qw2lNZ8dXAIp",
        "colab": {
          "base_uri": "https://localhost:8080/",
          "height": 34
        },
        "outputId": "f160f91d-279d-4317-a913-07dfd4d4db98"
      },
      "source": [
        "pow(5, 3.)"
      ],
      "execution_count": null,
      "outputs": [
        {
          "output_type": "execute_result",
          "data": {
            "text/plain": [
              "125.0"
            ]
          },
          "metadata": {
            "tags": []
          },
          "execution_count": 33
        }
      ]
    },
    {
      "cell_type": "markdown",
      "metadata": {
        "id": "CJJ_bjj5XRX1"
      },
      "source": [
        "## Orden de las operaciones aritméticas\n",
        "\n",
        "El orden en que se llevan a cabo las operaciones aritméticas en `Python` es el siguiente:\n",
        "\n",
        "- Primero se calcula lo que se halla entre paréntesis.\n",
        "- A continuación, las potencias.\n",
        "- Después, productos y divisiones. En caso de haber varias, el orden que se sigue es de izquierda a derecha.\n",
        "- Finalmente, sumas y restas. En caso de haber varias, el orden que se sigue es de izquierda a derecha."
      ]
    },
    {
      "cell_type": "code",
      "metadata": {
        "id": "DoO70cwKXBlb",
        "colab": {
          "base_uri": "https://localhost:8080/"
        },
        "outputId": "413f5a1e-1b71-4ebe-fca7-da80767857c4"
      },
      "source": [
        "6 + 2 * 8 / 4 - 2 ** 3"
      ],
      "execution_count": null,
      "outputs": [
        {
          "output_type": "execute_result",
          "data": {
            "text/plain": [
              "2.0"
            ]
          },
          "metadata": {
            "tags": []
          },
          "execution_count": 1
        }
      ]
    },
    {
      "cell_type": "code",
      "metadata": {
        "id": "FISOdzAwXg5p",
        "colab": {
          "base_uri": "https://localhost:8080/"
        },
        "outputId": "0764b2c4-8953-4e9c-b657-ac13979b7448"
      },
      "source": [
        "(6 + 2) * (8 / (4 - 2)) ** 3"
      ],
      "execution_count": null,
      "outputs": [
        {
          "output_type": "execute_result",
          "data": {
            "text/plain": [
              "512.0"
            ]
          },
          "metadata": {
            "tags": []
          },
          "execution_count": 8
        }
      ]
    },
    {
      "cell_type": "code",
      "metadata": {
        "id": "MCN3TGOkXiwi",
        "colab": {
          "base_uri": "https://localhost:8080/"
        },
        "outputId": "ffef0ba0-84ea-4c19-8376-7e09a1b83927"
      },
      "source": [
        "(6 + 2) * 8 / (4 - 2) ** 3"
      ],
      "execution_count": null,
      "outputs": [
        {
          "output_type": "execute_result",
          "data": {
            "text/plain": [
              "8.0"
            ]
          },
          "metadata": {
            "tags": []
          },
          "execution_count": 9
        }
      ]
    },
    {
      "cell_type": "markdown",
      "metadata": {
        "id": "ALpWUP2KXncK"
      },
      "source": [
        "**Observación.** El uso de los paréntesis puede cambiar completamente el resultado. No conviene abusar de ellos, aunque es mejor que sobren, ya que ayudan a entender el orden en que se van a llevar a cabo las operaciones."
      ]
    },
    {
      "cell_type": "markdown",
      "metadata": {
        "id": "hnIAaPgbXuoU"
      },
      "source": [
        "## Números complejos\n",
        "\n",
        "\n",
        "\n",
        "\n"
      ]
    },
    {
      "cell_type": "markdown",
      "metadata": {
        "id": "CyFbhpyECDnl"
      },
      "source": [
        "### Definiciones\n",
        "\n",
        "- **Número complejo.** Es un par ordenado de números reales $z = (a, b)$, con $a,b\\in\\mathbb{R}$.\n",
        "- **Parte real.** Es el primer elemento del par ordenado, $\\text{Re}(z) = a$.\n",
        "- **Parte imaginaria.** Es el segundo elemento del par ordenado, $\\text{Im}(z) = b$.\n",
        "- **Complejo real.** $z = (a, 0)$.\n",
        "- **Imaginario puro.** $z = (0, b)$.\n",
        "- **Unidad imaginaria.** $i = (0, 1)$.\n",
        "- **Conjunto de números complejos.** $\\mathbb{C} = \\{z = (a,b)\\ :\\ a,b\\in\\mathbb{R}\\}$.\n",
        "\n"
      ]
    },
    {
      "cell_type": "markdown",
      "metadata": {
        "id": "-1cj7iqWCFGU"
      },
      "source": [
        "### Operaciones\n",
        "\n",
        "- Suma: $(a, b) + (c, d) = (a + c, b + d)$\n",
        "- Resta: $(a, b) - (c, d) = (a - c, b - d)$\n",
        "- Producto: $(a, b) \\cdot (c, d) = (a \\cdot c - b \\cdot d, a\\cdot d + b\\cdot c)$\n",
        "- División: $(a, b) \\div (c, d) = \\frac{(a \\cdot c + b \\cdot d, b \\cdot c - a \\cdot d)}{c^2 + d^2} = \\left(\\frac{a \\cdot c + b \\cdot d}{c^2 + d^2},\\frac{b \\cdot c - a \\cdot d}{c^2 + d^2}\\right)$\n",
        "\n"
      ]
    },
    {
      "cell_type": "markdown",
      "metadata": {
        "id": "lEz__b2GCGoZ"
      },
      "source": [
        "### Conjugado, Módulo y Argumento\n",
        "\n",
        "Dado un complejo $z = (a,b)$,\n",
        "\n",
        "- **Conjugado.** $\\bar{z} = (a, -b)$.\n",
        "- **Módulo.** $\\text{Mod}(z) = |z| = \\sqrt{\\text{Re}(z)^2 + \\text{Im}(z)^2} = \\sqrt{a^2 + b^2}$.\n",
        "- **Argumento.** $\\text{Arg}(z) = \\arctan\\left(\\frac{\\text{Im}(z)}{\\text{Re}(z)}\\right) = \\arctan\\left(\\frac{b}{a}\\right)$\n",
        "\n"
      ]
    },
    {
      "cell_type": "markdown",
      "metadata": {
        "id": "wcrZgFPRCH5X"
      },
      "source": [
        "### Unidad imaginaria\n",
        "\n",
        "$i = (0, 1)$ satisface\n",
        "\n",
        "$$i^2 = (0, 1)^2 = (0, 1)\\cdot (0, 1) = (-1, 0)$$\n",
        "\n",
        "De aquí obtenemos la igualdad $i = \\sqrt{-1}$, que es otra de las definiciones que se le da a la unidad imaginaria.\n",
        "\n"
      ]
    },
    {
      "cell_type": "markdown",
      "metadata": {
        "id": "9muVLk51CJEc"
      },
      "source": [
        "### Otras representaciones\n",
        "\n",
        "Representación binómica: $z = a + bi$\n",
        "\n",
        "- $a = \\text{Re}(z)$\n",
        "- $b = \\text{Im}(z)$\n",
        "\n",
        "Representación polar: $z = re^{i\\phi}$\n",
        "\n",
        "- $r = \\text{Mod}(z)$\n",
        "- $\\phi = \\text{Arg}(z)$"
      ]
    },
    {
      "cell_type": "markdown",
      "metadata": {
        "id": "3t2_gS8rB_S3"
      },
      "source": [
        "\n",
        "### Números complejos en `Python`\n",
        "\n",
        "**Observación.** En `Python`, los números complejos se definen en forma binómica y en vez de utilizar una `i`, se utiliza la letra `j` para representar la unidad imaginaria.\n",
        "\n"
      ]
    },
    {
      "cell_type": "code",
      "metadata": {
        "id": "gi1AkKvcXkeE",
        "colab": {
          "base_uri": "https://localhost:8080/"
        },
        "outputId": "0ada6b2f-e904-4862-f76b-2bd8e038dac9"
      },
      "source": [
        "z = 2 + 5j\n",
        "z"
      ],
      "execution_count": null,
      "outputs": [
        {
          "output_type": "execute_result",
          "data": {
            "text/plain": [
              "(2+5j)"
            ]
          },
          "metadata": {
            "tags": []
          },
          "execution_count": 2
        }
      ]
    },
    {
      "cell_type": "code",
      "metadata": {
        "id": "I4A7wfd6dzY0",
        "colab": {
          "base_uri": "https://localhost:8080/"
        },
        "outputId": "780cd5fa-8cd9-479b-b74b-1b74d16db3d7"
      },
      "source": [
        "type(z)"
      ],
      "execution_count": null,
      "outputs": [
        {
          "output_type": "execute_result",
          "data": {
            "text/plain": [
              "complex"
            ]
          },
          "metadata": {
            "tags": []
          },
          "execution_count": 3
        }
      ]
    },
    {
      "cell_type": "markdown",
      "metadata": {
        "id": "STMrzIARd5xX"
      },
      "source": [
        "También podemos definir números complejos en `Python` con la función `complex()`"
      ]
    },
    {
      "cell_type": "code",
      "metadata": {
        "id": "fCwnmAp2d2_m",
        "colab": {
          "base_uri": "https://localhost:8080/"
        },
        "outputId": "08553398-2356-498e-ff15-5e38e6691e27"
      },
      "source": [
        "z = complex(1, -7)\n",
        "z"
      ],
      "execution_count": null,
      "outputs": [
        {
          "output_type": "execute_result",
          "data": {
            "text/plain": [
              "(1-7j)"
            ]
          },
          "metadata": {
            "tags": []
          },
          "execution_count": 10
        }
      ]
    },
    {
      "cell_type": "code",
      "metadata": {
        "id": "RjklDHWWd-aq",
        "colab": {
          "base_uri": "https://localhost:8080/"
        },
        "outputId": "49a687bc-a707-4335-ba07-c6df3d93623b"
      },
      "source": [
        "type(z)"
      ],
      "execution_count": null,
      "outputs": [
        {
          "output_type": "execute_result",
          "data": {
            "text/plain": [
              "complex"
            ]
          },
          "metadata": {
            "tags": []
          },
          "execution_count": 11
        }
      ]
    },
    {
      "cell_type": "markdown",
      "metadata": {
        "id": "07A6HHDl_S06"
      },
      "source": [
        "Para obtener la parte real, utilizamos el método `.real`"
      ]
    },
    {
      "cell_type": "code",
      "metadata": {
        "id": "3-W1icz_d_HT",
        "colab": {
          "base_uri": "https://localhost:8080/"
        },
        "outputId": "65731b44-d968-4bb4-d0f8-e8b098d59190"
      },
      "source": [
        "z.real"
      ],
      "execution_count": null,
      "outputs": [
        {
          "output_type": "execute_result",
          "data": {
            "text/plain": [
              "1.0"
            ]
          },
          "metadata": {
            "tags": []
          },
          "execution_count": 12
        }
      ]
    },
    {
      "cell_type": "markdown",
      "metadata": {
        "id": "TUes0F0c_WsI"
      },
      "source": [
        "Para obtener la parte imaginaria, utilizamos el método `.imag`"
      ]
    },
    {
      "cell_type": "code",
      "metadata": {
        "id": "ifODsy08_Vsq",
        "colab": {
          "base_uri": "https://localhost:8080/"
        },
        "outputId": "c85ae8bf-e9e0-487e-ab29-c2a2acf2f4e2"
      },
      "source": [
        "z.imag"
      ],
      "execution_count": null,
      "outputs": [
        {
          "output_type": "execute_result",
          "data": {
            "text/plain": [
              "-7.0"
            ]
          },
          "metadata": {
            "tags": []
          },
          "execution_count": 13
        }
      ]
    },
    {
      "cell_type": "markdown",
      "metadata": {
        "id": "6T4K84e-_ex7"
      },
      "source": [
        "Para sumar números complejos, utilizamos la función `+`"
      ]
    },
    {
      "cell_type": "code",
      "metadata": {
        "id": "UjST8q0j_Z9c",
        "colab": {
          "base_uri": "https://localhost:8080/"
        },
        "outputId": "85d51744-47bf-45d3-a595-f143b4393998"
      },
      "source": [
        "z1 = 2-6j\n",
        "z2 = 5+4j\n",
        "\n",
        "z1 + z2"
      ],
      "execution_count": null,
      "outputs": [
        {
          "output_type": "execute_result",
          "data": {
            "text/plain": [
              "(7-2j)"
            ]
          },
          "metadata": {
            "tags": []
          },
          "execution_count": 14
        }
      ]
    },
    {
      "cell_type": "markdown",
      "metadata": {
        "id": "ZSnIb7gK_i2S"
      },
      "source": [
        "Para restar números complejos, utilizamos la función `-`"
      ]
    },
    {
      "cell_type": "code",
      "metadata": {
        "id": "Dnj8COfl_csJ",
        "colab": {
          "base_uri": "https://localhost:8080/"
        },
        "outputId": "b01861aa-6a4c-42b6-ae85-01b03688cbc5"
      },
      "source": [
        "z1 - z2"
      ],
      "execution_count": null,
      "outputs": [
        {
          "output_type": "execute_result",
          "data": {
            "text/plain": [
              "(-3-10j)"
            ]
          },
          "metadata": {
            "tags": []
          },
          "execution_count": 15
        }
      ]
    },
    {
      "cell_type": "markdown",
      "metadata": {
        "id": "ukK7dawe_lz9"
      },
      "source": [
        "Para multiplicar una constante por un número complejo, o bien multiplicar dos números complejos, utilizamos la función `*`"
      ]
    },
    {
      "cell_type": "code",
      "metadata": {
        "id": "gjQ0sBz1_k7s",
        "colab": {
          "base_uri": "https://localhost:8080/",
          "height": 34
        },
        "outputId": "4b642850-6f77-4c64-d3ad-c45e7f9c4f1d"
      },
      "source": [
        "-1 * z1"
      ],
      "execution_count": null,
      "outputs": [
        {
          "output_type": "execute_result",
          "data": {
            "text/plain": [
              "(-2+6j)"
            ]
          },
          "metadata": {
            "tags": []
          },
          "execution_count": 48
        }
      ]
    },
    {
      "cell_type": "code",
      "metadata": {
        "id": "8nIF9I8n_qo6",
        "colab": {
          "base_uri": "https://localhost:8080/",
          "height": 34
        },
        "outputId": "e832a453-f825-42ff-b188-f89074a9de1c"
      },
      "source": [
        "z1 * z2"
      ],
      "execution_count": null,
      "outputs": [
        {
          "output_type": "execute_result",
          "data": {
            "text/plain": [
              "(34-22j)"
            ]
          },
          "metadata": {
            "tags": []
          },
          "execution_count": 49
        }
      ]
    },
    {
      "cell_type": "markdown",
      "metadata": {
        "id": "66NOmMzQ_sfh"
      },
      "source": [
        "Para dividir números complejos, utilizamos la función `/`"
      ]
    },
    {
      "cell_type": "code",
      "metadata": {
        "id": "-xHQhzzn_rs-",
        "colab": {
          "base_uri": "https://localhost:8080/"
        },
        "outputId": "bcc853f2-210c-4017-fc31-fdc1df94705e"
      },
      "source": [
        "z1 = -1 - 1j\n",
        "z2 = 1 - 1j\n",
        "\n",
        "z1 / z2"
      ],
      "execution_count": null,
      "outputs": [
        {
          "output_type": "execute_result",
          "data": {
            "text/plain": [
              "-1j"
            ]
          },
          "metadata": {
            "tags": []
          },
          "execution_count": 16
        }
      ]
    },
    {
      "cell_type": "markdown",
      "metadata": {
        "id": "P43dIsZO_x8X"
      },
      "source": [
        "**Observación.** Si queremos indicar que la parte imaginaria es 1 o -1, no basta con poner `j` o `-j`, sino que hay que escribir `1j` o `-1j`, siempre que definamos el número complejo en su forma binómica.\n",
        "\n",
        "Para calcular el conjugado de un número complejo, utilizamos el método `.conjugate()`"
      ]
    },
    {
      "cell_type": "code",
      "metadata": {
        "id": "wcgbkdEj_wmp",
        "colab": {
          "base_uri": "https://localhost:8080/"
        },
        "outputId": "4e905cc2-c3f4-4680-ade9-1fe4a5881b60"
      },
      "source": [
        "z = -2 + 1j\n",
        "z.conjugate()"
      ],
      "execution_count": null,
      "outputs": [
        {
          "output_type": "execute_result",
          "data": {
            "text/plain": [
              "(-2-1j)"
            ]
          },
          "metadata": {
            "tags": []
          },
          "execution_count": 17
        }
      ]
    },
    {
      "cell_type": "markdown",
      "metadata": {
        "id": "-FeczLvPAJAh"
      },
      "source": [
        "Para calcular el módulo de un número complejo, utilizamos la función `abs()`"
      ]
    },
    {
      "cell_type": "code",
      "metadata": {
        "id": "KTc0OOHKAGcl",
        "colab": {
          "base_uri": "https://localhost:8080/"
        },
        "outputId": "05ad4cc8-ea70-4876-8169-db7df7153304"
      },
      "source": [
        "z = -2j\n",
        "abs(z)"
      ],
      "execution_count": null,
      "outputs": [
        {
          "output_type": "execute_result",
          "data": {
            "text/plain": [
              "2.0"
            ]
          },
          "metadata": {
            "tags": []
          },
          "execution_count": 18
        }
      ]
    },
    {
      "cell_type": "markdown",
      "metadata": {
        "id": "A8wRA_JsAMt8"
      },
      "source": [
        "Para calcular el argumento de un número complejo, utilizamos la función `phase()` del paquete `cmath`."
      ]
    },
    {
      "cell_type": "code",
      "metadata": {
        "id": "Ck8u6atKALvV",
        "colab": {
          "base_uri": "https://localhost:8080/"
        },
        "outputId": "61163913-8003-426b-dda1-0177c33fb065"
      },
      "source": [
        "import cmath\n",
        "cmath.phase(z)"
      ],
      "execution_count": null,
      "outputs": [
        {
          "output_type": "execute_result",
          "data": {
            "text/plain": [
              "-1.5707963267948966"
            ]
          },
          "metadata": {
            "tags": []
          },
          "execution_count": 20
        }
      ]
    },
    {
      "cell_type": "markdown",
      "metadata": {
        "id": "BwcTwZmZAgWe"
      },
      "source": [
        "Para pasar de forma binómica a forma polar, usamos la función `polar()` del paquete `cmath`."
      ]
    },
    {
      "cell_type": "code",
      "metadata": {
        "id": "xPOAqf2rA8gC",
        "colab": {
          "base_uri": "https://localhost:8080/",
          "height": 34
        },
        "outputId": "bcc827e4-6a75-4d3a-83a0-28a6ad34d195"
      },
      "source": [
        "z"
      ],
      "execution_count": null,
      "outputs": [
        {
          "output_type": "execute_result",
          "data": {
            "text/plain": [
              "(-0-2j)"
            ]
          },
          "metadata": {
            "tags": []
          },
          "execution_count": 57
        }
      ]
    },
    {
      "cell_type": "code",
      "metadata": {
        "id": "_tiVpgPqAdu0",
        "colab": {
          "base_uri": "https://localhost:8080/"
        },
        "outputId": "ac4baa82-a606-419b-8140-0b716099dac1"
      },
      "source": [
        "cmath.polar(z)"
      ],
      "execution_count": null,
      "outputs": [
        {
          "output_type": "execute_result",
          "data": {
            "text/plain": [
              "(2.0, -1.5707963267948966)"
            ]
          },
          "metadata": {
            "tags": []
          },
          "execution_count": 21
        }
      ]
    },
    {
      "cell_type": "markdown",
      "metadata": {
        "id": "A6cLaSYOAyiq"
      },
      "source": [
        "Para pasar de forma polar a forma binómica, usamos la función `rect()` del paquete `cmath`."
      ]
    },
    {
      "cell_type": "code",
      "metadata": {
        "id": "PzY6qrX4Al2m",
        "colab": {
          "base_uri": "https://localhost:8080/",
          "height": 34
        },
        "outputId": "ecc4a7c7-f353-43e6-ab1c-3736a9dfc909"
      },
      "source": [
        "cmath.rect(abs(z), cmath.phase(z))"
      ],
      "execution_count": null,
      "outputs": [
        {
          "output_type": "execute_result",
          "data": {
            "text/plain": [
              "(1.2246467991473532e-16-2j)"
            ]
          },
          "metadata": {
            "tags": []
          },
          "execution_count": 56
        }
      ]
    }
  ]
}