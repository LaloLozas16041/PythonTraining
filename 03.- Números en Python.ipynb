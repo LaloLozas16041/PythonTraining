{
  "cells": [
    {
      "cell_type": "markdown",
      "metadata": {
        "id": "b646bCQCSJBh"
      },
      "source": [
        "# Números en `Python`"
      ]
    },
    {
      "cell_type": "markdown",
      "metadata": {
        "id": "cw3g5xzu2yuL"
      },
      "source": [
        "## Tipos de números\n",
        "\n",
        "- `int`: número entero\n",
        "- `float`: número en coma flotante\n",
        "\n",
        "Para saber el tipo de dato de un número podemos utilizar la función `type()`"
      ]
    },
    {
      "cell_type": "code",
      "execution_count": 49,
      "metadata": {
        "colab": {
          "base_uri": "https://localhost:8080/"
        },
        "id": "zQqqcJGoSIaf",
        "outputId": "010521d8-b538-44b6-9b5f-ce2a123c3360"
      },
      "outputs": [
        {
          "data": {
            "text/plain": [
              "int"
            ]
          },
          "execution_count": 49,
          "metadata": {},
          "output_type": "execute_result"
        }
      ],
      "source": [
        "type(5)"
      ]
    },
    {
      "cell_type": "code",
      "execution_count": 50,
      "metadata": {
        "colab": {
          "base_uri": "https://localhost:8080/"
        },
        "id": "OJKbBjVmSwnW",
        "outputId": "2400dcff-0315-4f23-d565-42574ab5a7f1"
      },
      "outputs": [
        {
          "data": {
            "text/plain": [
              "float"
            ]
          },
          "execution_count": 50,
          "metadata": {},
          "output_type": "execute_result"
        }
      ],
      "source": [
        "type(5.0)"
      ]
    },
    {
      "cell_type": "markdown",
      "metadata": {
        "id": "m1trN--lS4GF"
      },
      "source": [
        "**Observación.** En `Python`, para referirnos a números de tipo `float` con todo 0's en la parte decimal como `3.0`, basta que indiquemos `3.`. Es decir, `Python` entiende que los números `3.0` y `3.` son el mismo, incluyendo que son del mismo tipo: `float`."
      ]
    },
    {
      "cell_type": "code",
      "execution_count": 51,
      "metadata": {
        "colab": {
          "base_uri": "https://localhost:8080/",
          "height": 34
        },
        "id": "ffZAuMNoSxjh",
        "outputId": "96b91365-88f7-4b93-d398-ffd6bbc216a2"
      },
      "outputs": [
        {
          "data": {
            "text/plain": [
              "float"
            ]
          },
          "execution_count": 51,
          "metadata": {},
          "output_type": "execute_result"
        }
      ],
      "source": [
        "type(3.0)"
      ]
    },
    {
      "cell_type": "code",
      "execution_count": 52,
      "metadata": {
        "colab": {
          "base_uri": "https://localhost:8080/",
          "height": 34
        },
        "id": "DowHXrxZTJ9g",
        "outputId": "b18588ba-8235-40e3-838e-c8fb0ab8bd14"
      },
      "outputs": [
        {
          "data": {
            "text/plain": [
              "float"
            ]
          },
          "execution_count": 52,
          "metadata": {},
          "output_type": "execute_result"
        }
      ],
      "source": [
        "type(3.)"
      ]
    },
    {
      "cell_type": "markdown",
      "metadata": {
        "id": "ElLWlwxBTRe0"
      },
      "source": [
        "Podemos indicar el tipo de número que deseamos utilizar con las funciones `int()` y `float()`."
      ]
    },
    {
      "cell_type": "code",
      "execution_count": 53,
      "metadata": {
        "colab": {
          "base_uri": "https://localhost:8080/"
        },
        "id": "DkTL4yy1TK0u",
        "outputId": "d16efaaf-6a58-4529-bd72-d74cd52b7b5d"
      },
      "outputs": [
        {
          "data": {
            "text/plain": [
              "int"
            ]
          },
          "execution_count": 53,
          "metadata": {},
          "output_type": "execute_result"
        }
      ],
      "source": [
        "type(int(7.0))"
      ]
    },
    {
      "cell_type": "code",
      "execution_count": 54,
      "metadata": {
        "colab": {
          "base_uri": "https://localhost:8080/",
          "height": 34
        },
        "id": "s3XqJt9TTazP",
        "outputId": "48de7afd-32cf-4c0d-ffdf-9346f6c9fb48"
      },
      "outputs": [
        {
          "data": {
            "text/plain": [
              "int"
            ]
          },
          "execution_count": 54,
          "metadata": {},
          "output_type": "execute_result"
        }
      ],
      "source": [
        "type(int(9.))"
      ]
    },
    {
      "cell_type": "code",
      "execution_count": 55,
      "metadata": {
        "colab": {
          "base_uri": "https://localhost:8080/",
          "height": 34
        },
        "id": "aOn0gnD5TXu6",
        "outputId": "02326f62-5a91-4bd9-c459-c0c480a7eb83"
      },
      "outputs": [
        {
          "data": {
            "text/plain": [
              "float"
            ]
          },
          "execution_count": 55,
          "metadata": {},
          "output_type": "execute_result"
        }
      ],
      "source": [
        "type(float(3))"
      ]
    },
    {
      "cell_type": "markdown",
      "metadata": {
        "id": "ZnzC3eaWTod8"
      },
      "source": [
        "**¡Cuidado!** Es sencillo pasar de enteros a números en coma flotante, ya que siempre es posible, pero no siempre podemos pasar de números en coma flotante a números enteros, pues se pierde la parte decimal."
      ]
    },
    {
      "cell_type": "code",
      "execution_count": 56,
      "metadata": {
        "colab": {
          "base_uri": "https://localhost:8080/"
        },
        "id": "WBSZHBjtTYzT",
        "outputId": "896b9b82-45fa-48b2-ef65-c892bb392013"
      },
      "outputs": [
        {
          "data": {
            "text/plain": [
              "3"
            ]
          },
          "execution_count": 56,
          "metadata": {},
          "output_type": "execute_result"
        }
      ],
      "source": [
        "int(3.5)"
      ]
    },
    {
      "cell_type": "markdown",
      "metadata": {
        "id": "wB4seOhPT8A1"
      },
      "source": [
        "## Operaciones aritméticas"
      ]
    },
    {
      "cell_type": "markdown",
      "metadata": {
        "id": "6HYWiK_hqQ2k"
      },
      "source": [
        "### Suma\n",
        "\n",
        "Para sumar dos números, utilizamos la función `+`"
      ]
    },
    {
      "cell_type": "code",
      "execution_count": 57,
      "metadata": {
        "colab": {
          "base_uri": "https://localhost:8080/",
          "height": 34
        },
        "id": "lpkSr0OyT4DH",
        "outputId": "07bd9e2e-49b2-4379-f3b9-35c9255ee59d"
      },
      "outputs": [
        {
          "data": {
            "text/plain": [
              "3"
            ]
          },
          "execution_count": 57,
          "metadata": {},
          "output_type": "execute_result"
        }
      ],
      "source": [
        "2 + 1"
      ]
    },
    {
      "cell_type": "code",
      "execution_count": 58,
      "metadata": {
        "colab": {
          "base_uri": "https://localhost:8080/",
          "height": 34
        },
        "id": "NMGfttFkUEdf",
        "outputId": "6b45ee2e-0f24-4490-d20b-c4c607ab2bed"
      },
      "outputs": [
        {
          "data": {
            "text/plain": [
              "3.0"
            ]
          },
          "execution_count": 58,
          "metadata": {},
          "output_type": "execute_result"
        }
      ],
      "source": [
        "2.0 + 1."
      ]
    },
    {
      "cell_type": "code",
      "execution_count": 59,
      "metadata": {
        "colab": {
          "base_uri": "https://localhost:8080/",
          "height": 34
        },
        "id": "1JahgnC-UFja",
        "outputId": "fca59dad-90f7-4984-901f-e8f377536841"
      },
      "outputs": [
        {
          "data": {
            "text/plain": [
              "3.0"
            ]
          },
          "execution_count": 59,
          "metadata": {},
          "output_type": "execute_result"
        }
      ],
      "source": [
        "2 + 1.0"
      ]
    },
    {
      "cell_type": "markdown",
      "metadata": {
        "id": "X_F3oJh4UJXf"
      },
      "source": [
        "**Observación.** Fijémonos que al combinar un número entero (int) y un número en coma flotante (float), el resutado es un número float. Esto ocurre para todas las operaciones aritméticas en `Python`.\n",
        "\n"
      ]
    },
    {
      "cell_type": "markdown",
      "metadata": {
        "id": "sADWMHcGBvu2"
      },
      "source": [
        "### Resta\n",
        "\n",
        "Para restar dos números, utilizamos la función `-`"
      ]
    },
    {
      "cell_type": "code",
      "execution_count": 60,
      "metadata": {
        "colab": {
          "base_uri": "https://localhost:8080/",
          "height": 34
        },
        "id": "ezk6U1OXUIKk",
        "outputId": "be3a94cb-db4d-45af-95ac-3ed01bf7d33a"
      },
      "outputs": [
        {
          "data": {
            "text/plain": [
              "4"
            ]
          },
          "execution_count": 60,
          "metadata": {},
          "output_type": "execute_result"
        }
      ],
      "source": [
        "7 - 3"
      ]
    },
    {
      "cell_type": "code",
      "execution_count": 61,
      "metadata": {
        "colab": {
          "base_uri": "https://localhost:8080/",
          "height": 34
        },
        "id": "BH6O20_PUdQB",
        "outputId": "5f5f3760-fe01-4d45-93b1-c1c20dda4f09"
      },
      "outputs": [
        {
          "data": {
            "text/plain": [
              "4.0"
            ]
          },
          "execution_count": 61,
          "metadata": {},
          "output_type": "execute_result"
        }
      ],
      "source": [
        "7.0 - 3."
      ]
    },
    {
      "cell_type": "code",
      "execution_count": 62,
      "metadata": {
        "colab": {
          "base_uri": "https://localhost:8080/",
          "height": 34
        },
        "id": "8dwxYzaZUfH0",
        "outputId": "88c3dc20-c3a9-47bc-f401-c0a5b27fb073"
      },
      "outputs": [
        {
          "data": {
            "text/plain": [
              "4.0"
            ]
          },
          "execution_count": 62,
          "metadata": {},
          "output_type": "execute_result"
        }
      ],
      "source": [
        "7 - 3.0"
      ]
    },
    {
      "cell_type": "markdown",
      "metadata": {
        "id": "RGb47kNzUidM"
      },
      "source": [
        "### Producto\n",
        "\n",
        "Para multiplicar dos números, utilizamos la función `*`"
      ]
    },
    {
      "cell_type": "code",
      "execution_count": 63,
      "metadata": {
        "colab": {
          "base_uri": "https://localhost:8080/",
          "height": 34
        },
        "id": "dfXOHZNiUgS2",
        "outputId": "cca2b7d3-8aae-4e69-b6b2-9d9e94056d8c"
      },
      "outputs": [
        {
          "data": {
            "text/plain": [
              "48"
            ]
          },
          "execution_count": 63,
          "metadata": {},
          "output_type": "execute_result"
        }
      ],
      "source": [
        "8 * 6"
      ]
    },
    {
      "cell_type": "code",
      "execution_count": 64,
      "metadata": {
        "colab": {
          "base_uri": "https://localhost:8080/",
          "height": 34
        },
        "id": "bFZPzM5rUpfP",
        "outputId": "ea5febcc-6388-4af7-a645-9a5c219b9b8d"
      },
      "outputs": [
        {
          "data": {
            "text/plain": [
              "48.0"
            ]
          },
          "execution_count": 64,
          "metadata": {},
          "output_type": "execute_result"
        }
      ],
      "source": [
        "8. * 6."
      ]
    },
    {
      "cell_type": "code",
      "execution_count": 65,
      "metadata": {
        "colab": {
          "base_uri": "https://localhost:8080/",
          "height": 34
        },
        "id": "qzleGK7UUrF8",
        "outputId": "3fa41489-3abc-4d2c-8c4f-94ff691ca14f"
      },
      "outputs": [
        {
          "data": {
            "text/plain": [
              "48.0"
            ]
          },
          "execution_count": 65,
          "metadata": {},
          "output_type": "execute_result"
        }
      ],
      "source": [
        "8.0 * 6"
      ]
    },
    {
      "cell_type": "markdown",
      "metadata": {
        "id": "9nXOuvCGUt2W"
      },
      "source": [
        "### División\n",
        "\n",
        "Para dividir dos números, utilizamos la función `/`"
      ]
    },
    {
      "cell_type": "code",
      "execution_count": 66,
      "metadata": {
        "colab": {
          "base_uri": "https://localhost:8080/",
          "height": 34
        },
        "id": "J4GRM9fcUsx6",
        "outputId": "9febbbc5-ce9b-4d42-de46-86ba00389e41"
      },
      "outputs": [
        {
          "data": {
            "text/plain": [
              "1.2"
            ]
          },
          "execution_count": 66,
          "metadata": {},
          "output_type": "execute_result"
        }
      ],
      "source": [
        "6 / 5"
      ]
    },
    {
      "cell_type": "code",
      "execution_count": 67,
      "metadata": {
        "colab": {
          "base_uri": "https://localhost:8080/",
          "height": 34
        },
        "id": "wrVwRtynU4ZM",
        "outputId": "e28391a0-ad27-4296-ed1d-fecc1be94681"
      },
      "outputs": [
        {
          "data": {
            "text/plain": [
              "1.2"
            ]
          },
          "execution_count": 67,
          "metadata": {},
          "output_type": "execute_result"
        }
      ],
      "source": [
        "6. / 5.0"
      ]
    },
    {
      "cell_type": "code",
      "execution_count": 68,
      "metadata": {
        "colab": {
          "base_uri": "https://localhost:8080/",
          "height": 34
        },
        "id": "JeDoEiuEU6W7",
        "outputId": "2548e63f-00f2-4381-cc64-9e9120fda9d7"
      },
      "outputs": [
        {
          "data": {
            "text/plain": [
              "1.2"
            ]
          },
          "execution_count": 68,
          "metadata": {},
          "output_type": "execute_result"
        }
      ],
      "source": [
        "6 / 5.0"
      ]
    },
    {
      "cell_type": "markdown",
      "metadata": {
        "id": "q4M_PC4JU8TV"
      },
      "source": [
        "**¡Cuidado!** Hay que tener en cuenta el tipo de número (int o float) cuando vayamos a dividir en `Python`, porque en algunas versiones, si dividimos dos números enteros, se lleva a cabo la división entera automáticamente.\n",
        "\n"
      ]
    },
    {
      "cell_type": "markdown",
      "metadata": {
        "id": "zeXGfu_aB1kg"
      },
      "source": [
        "### División entera o Euclídea\n",
        "\n",
        "Dados dos números naturales $a$ y $b$, con $b \\ne 0$, la división Euclídea de $a$ entre $b$ asocia un cociente $q$ y un resto $r$, ambos números naturales, que satisfacen\n",
        "\n",
        "- $a = b \\cdot q + r$\n",
        "- $r < b$\n",
        "\n"
      ]
    },
    {
      "cell_type": "markdown",
      "metadata": {
        "id": "MoLVXYp2DIUI"
      },
      "source": [
        "---\n",
        "\n",
        "#### Ejemplo 1\n",
        "\n",
        "Si queremos la división entera de $a = 7$ entre $b = 5$, tendremos que el cociente es $q = 1$ y el resto es $r = 2$, ya que\n",
        "\n",
        "$$7 = 5\\cdot 1 + 2$$\n",
        "\n",
        "y el resto $r$ es menor al divisor $b$. Es decir, $2 < 5$.\n",
        "\n",
        "---\n",
        "\n",
        "Para obtener el cociente de la división entera, utilizamos la función `//`"
      ]
    },
    {
      "cell_type": "code",
      "execution_count": 69,
      "metadata": {
        "colab": {
          "base_uri": "https://localhost:8080/",
          "height": 34
        },
        "id": "win8schFU7hk",
        "outputId": "2a0e94ee-06cb-4c72-dae3-aa1223fc8df4"
      },
      "outputs": [
        {
          "data": {
            "text/plain": [
              "3"
            ]
          },
          "execution_count": 69,
          "metadata": {},
          "output_type": "execute_result"
        }
      ],
      "source": [
        "10 // 3"
      ]
    },
    {
      "cell_type": "markdown",
      "metadata": {
        "id": "VKOLoGr9WmFv"
      },
      "source": [
        "Para obtener el resto de la división entera, utilizamos la función `%`"
      ]
    },
    {
      "cell_type": "code",
      "execution_count": 70,
      "metadata": {
        "colab": {
          "base_uri": "https://localhost:8080/",
          "height": 34
        },
        "id": "JcxeNMeaWjyE",
        "outputId": "816df653-7fc3-4ff8-a0ec-f6df3260bafc"
      },
      "outputs": [
        {
          "data": {
            "text/plain": [
              "1"
            ]
          },
          "execution_count": 70,
          "metadata": {},
          "output_type": "execute_result"
        }
      ],
      "source": [
        "10 % 3"
      ]
    },
    {
      "cell_type": "markdown",
      "metadata": {
        "id": "OV-lRxhtWses"
      },
      "source": [
        "### Potencia\n",
        "\n",
        "Para calcular la potencia $n$-ésima de un número, usamos la función `**`"
      ]
    },
    {
      "cell_type": "code",
      "execution_count": 71,
      "metadata": {
        "colab": {
          "base_uri": "https://localhost:8080/",
          "height": 34
        },
        "id": "Gpkix_PqWoss",
        "outputId": "01549f3f-7cb8-4b59-eaac-be8f666aff15"
      },
      "outputs": [
        {
          "data": {
            "text/plain": [
              "125"
            ]
          },
          "execution_count": 71,
          "metadata": {},
          "output_type": "execute_result"
        }
      ],
      "source": [
        "5 ** 3"
      ]
    },
    {
      "cell_type": "code",
      "execution_count": 72,
      "metadata": {
        "colab": {
          "base_uri": "https://localhost:8080/",
          "height": 34
        },
        "id": "qeu9iuKQW1GL",
        "outputId": "3ad5e637-4b95-4d35-c079-cca1df99637c"
      },
      "outputs": [
        {
          "data": {
            "text/plain": [
              "125.0"
            ]
          },
          "execution_count": 72,
          "metadata": {},
          "output_type": "execute_result"
        }
      ],
      "source": [
        "5.0 ** 3.0"
      ]
    },
    {
      "cell_type": "code",
      "execution_count": 73,
      "metadata": {
        "colab": {
          "base_uri": "https://localhost:8080/",
          "height": 34
        },
        "id": "61_rCh_WW2bu",
        "outputId": "04d9635a-3c7f-44db-f265-f39e0ef86834"
      },
      "outputs": [
        {
          "data": {
            "text/plain": [
              "125.0"
            ]
          },
          "execution_count": 73,
          "metadata": {},
          "output_type": "execute_result"
        }
      ],
      "source": [
        "5.0 ** 3"
      ]
    },
    {
      "cell_type": "markdown",
      "metadata": {
        "id": "4FV5ZaBHW6XR"
      },
      "source": [
        "Para calcular la potencia $n$-ésima de un número, también podemos usar la función `pow()`"
      ]
    },
    {
      "cell_type": "code",
      "execution_count": 74,
      "metadata": {
        "colab": {
          "base_uri": "https://localhost:8080/",
          "height": 34
        },
        "id": "FA-UxXngW3WG",
        "outputId": "8f970ae2-702d-43c4-c124-6e91f549599f"
      },
      "outputs": [
        {
          "data": {
            "text/plain": [
              "125"
            ]
          },
          "execution_count": 74,
          "metadata": {},
          "output_type": "execute_result"
        }
      ],
      "source": [
        "pow(5, 3)"
      ]
    },
    {
      "cell_type": "code",
      "execution_count": 75,
      "metadata": {
        "colab": {
          "base_uri": "https://localhost:8080/",
          "height": 34
        },
        "id": "Y6qS6ytLW_Bq",
        "outputId": "e3e85fc6-7fa4-4637-d5f1-47d10bf0f97e"
      },
      "outputs": [
        {
          "data": {
            "text/plain": [
              "125.0"
            ]
          },
          "execution_count": 75,
          "metadata": {},
          "output_type": "execute_result"
        }
      ],
      "source": [
        "pow(5., 3.0)"
      ]
    },
    {
      "cell_type": "code",
      "execution_count": 76,
      "metadata": {
        "colab": {
          "base_uri": "https://localhost:8080/",
          "height": 34
        },
        "id": "Qw2lNZ8dXAIp",
        "outputId": "f160f91d-279d-4317-a913-07dfd4d4db98"
      },
      "outputs": [
        {
          "data": {
            "text/plain": [
              "125.0"
            ]
          },
          "execution_count": 76,
          "metadata": {},
          "output_type": "execute_result"
        }
      ],
      "source": [
        "pow(5, 3.)"
      ]
    },
    {
      "cell_type": "markdown",
      "metadata": {
        "id": "CJJ_bjj5XRX1"
      },
      "source": [
        "## Orden de las operaciones aritméticas\n",
        "\n",
        "El orden en que se llevan a cabo las operaciones aritméticas en `Python` es el siguiente:\n",
        "\n",
        "- Primero se calcula lo que se halla entre paréntesis.\n",
        "- A continuación, las potencias.\n",
        "- Después, productos y divisiones. En caso de haber varias, el orden que se sigue es de izquierda a derecha.\n",
        "- Finalmente, sumas y restas. En caso de haber varias, el orden que se sigue es de izquierda a derecha."
      ]
    },
    {
      "cell_type": "code",
      "execution_count": 77,
      "metadata": {
        "colab": {
          "base_uri": "https://localhost:8080/"
        },
        "id": "DoO70cwKXBlb",
        "outputId": "413f5a1e-1b71-4ebe-fca7-da80767857c4"
      },
      "outputs": [
        {
          "data": {
            "text/plain": [
              "2.0"
            ]
          },
          "execution_count": 77,
          "metadata": {},
          "output_type": "execute_result"
        }
      ],
      "source": [
        "6 + 2 * 8 / 4 - 2 ** 3"
      ]
    },
    {
      "cell_type": "code",
      "execution_count": 78,
      "metadata": {
        "colab": {
          "base_uri": "https://localhost:8080/"
        },
        "id": "FISOdzAwXg5p",
        "outputId": "0764b2c4-8953-4e9c-b657-ac13979b7448"
      },
      "outputs": [
        {
          "data": {
            "text/plain": [
              "512.0"
            ]
          },
          "execution_count": 78,
          "metadata": {},
          "output_type": "execute_result"
        }
      ],
      "source": [
        "(6 + 2) * (8 / (4 - 2)) ** 3"
      ]
    },
    {
      "cell_type": "code",
      "execution_count": 79,
      "metadata": {
        "colab": {
          "base_uri": "https://localhost:8080/"
        },
        "id": "MCN3TGOkXiwi",
        "outputId": "ffef0ba0-84ea-4c19-8376-7e09a1b83927"
      },
      "outputs": [
        {
          "data": {
            "text/plain": [
              "8.0"
            ]
          },
          "execution_count": 79,
          "metadata": {},
          "output_type": "execute_result"
        }
      ],
      "source": [
        "(6 + 2) * 8 / (4 - 2) ** 3"
      ]
    },
    {
      "cell_type": "markdown",
      "metadata": {
        "id": "ALpWUP2KXncK"
      },
      "source": [
        "**Observación.** El uso de los paréntesis puede cambiar completamente el resultado. No conviene abusar de ellos, aunque es mejor que sobren, ya que ayudan a entender el orden en que se van a llevar a cabo las operaciones."
      ]
    },
    {
      "cell_type": "markdown",
      "metadata": {
        "id": "hnIAaPgbXuoU"
      },
      "source": [
        "## Números complejos\n",
        "\n",
        "\n",
        "\n",
        "\n"
      ]
    },
    {
      "cell_type": "markdown",
      "metadata": {
        "id": "CyFbhpyECDnl"
      },
      "source": [
        "### Definiciones\n",
        "\n",
        "- **Número complejo.** Es un par ordenado de números reales $z = (a, b)$, con $a,b\\in\\mathbb{R}$.\n",
        "- **Parte real.** Es el primer elemento del par ordenado, $\\text{Re}(z) = a$.\n",
        "- **Parte imaginaria.** Es el segundo elemento del par ordenado, $\\text{Im}(z) = b$.\n",
        "- **Complejo real.** $z = (a, 0)$.\n",
        "- **Imaginario puro.** $z = (0, b)$.\n",
        "- **Unidad imaginaria.** $i = (0, 1)$.\n",
        "- **Conjunto de números complejos.** $\\mathbb{C} = \\{z = (a,b)\\ :\\ a,b\\in\\mathbb{R}\\}$.\n",
        "\n"
      ]
    },
    {
      "cell_type": "markdown",
      "metadata": {
        "id": "-1cj7iqWCFGU"
      },
      "source": [
        "### Operaciones\n",
        "\n",
        "- Suma: $(a, b) + (c, d) = (a + c, b + d)$\n",
        "- Resta: $(a, b) - (c, d) = (a - c, b - d)$\n",
        "- Producto: $(a, b) \\cdot (c, d) = (a \\cdot c - b \\cdot d, a\\cdot d + b\\cdot c)$\n",
        "- División: $(a, b) \\div (c, d) = \\frac{(a \\cdot c + b \\cdot d, b \\cdot c - a \\cdot d)}{c^2 + d^2} = \\left(\\frac{a \\cdot c + b \\cdot d}{c^2 + d^2},\\frac{b \\cdot c - a \\cdot d}{c^2 + d^2}\\right)$\n",
        "\n"
      ]
    },
    {
      "cell_type": "markdown",
      "metadata": {
        "id": "lEz__b2GCGoZ"
      },
      "source": [
        "### Conjugado, Módulo y Argumento\n",
        "\n",
        "Dado un complejo $z = (a,b)$,\n",
        "\n",
        "- **Conjugado.** $\\bar{z} = (a, -b)$.\n",
        "- **Módulo.** $\\text{Mod}(z) = |z| = \\sqrt{\\text{Re}(z)^2 + \\text{Im}(z)^2} = \\sqrt{a^2 + b^2}$.\n",
        "- **Argumento.** $\\text{Arg}(z) = \\arctan\\left(\\frac{\\text{Im}(z)}{\\text{Re}(z)}\\right) = \\arctan\\left(\\frac{b}{a}\\right)$\n",
        "\n"
      ]
    },
    {
      "cell_type": "markdown",
      "metadata": {
        "id": "wcrZgFPRCH5X"
      },
      "source": [
        "### Unidad imaginaria\n",
        "\n",
        "$i = (0, 1)$ satisface\n",
        "\n",
        "$$i^2 = (0, 1)^2 = (0, 1)\\cdot (0, 1) = (-1, 0)$$\n",
        "\n",
        "De aquí obtenemos la igualdad $i = \\sqrt{-1}$, que es otra de las definiciones que se le da a la unidad imaginaria.\n",
        "\n"
      ]
    },
    {
      "cell_type": "markdown",
      "metadata": {
        "id": "9muVLk51CJEc"
      },
      "source": [
        "### Otras representaciones\n",
        "\n",
        "Representación binómica: $z = a + bi$\n",
        "\n",
        "- $a = \\text{Re}(z)$\n",
        "- $b = \\text{Im}(z)$\n",
        "\n",
        "Representación polar: $z = re^{i\\phi}$\n",
        "\n",
        "- $r = \\text{Mod}(z)$\n",
        "- $\\phi = \\text{Arg}(z)$"
      ]
    },
    {
      "cell_type": "markdown",
      "metadata": {
        "id": "3t2_gS8rB_S3"
      },
      "source": [
        "\n",
        "### Números complejos en `Python`\n",
        "\n",
        "**Observación.** En `Python`, los números complejos se definen en forma binómica y en vez de utilizar una `i`, se utiliza la letra `j` para representar la unidad imaginaria.\n",
        "\n"
      ]
    },
    {
      "cell_type": "code",
      "execution_count": 80,
      "metadata": {
        "colab": {
          "base_uri": "https://localhost:8080/"
        },
        "id": "gi1AkKvcXkeE",
        "outputId": "0ada6b2f-e904-4862-f76b-2bd8e038dac9"
      },
      "outputs": [
        {
          "data": {
            "text/plain": [
              "(2+5j)"
            ]
          },
          "execution_count": 80,
          "metadata": {},
          "output_type": "execute_result"
        }
      ],
      "source": [
        "z = 2 + 5j\n",
        "z"
      ]
    },
    {
      "cell_type": "code",
      "execution_count": 81,
      "metadata": {
        "colab": {
          "base_uri": "https://localhost:8080/"
        },
        "id": "I4A7wfd6dzY0",
        "outputId": "780cd5fa-8cd9-479b-b74b-1b74d16db3d7"
      },
      "outputs": [
        {
          "data": {
            "text/plain": [
              "complex"
            ]
          },
          "execution_count": 81,
          "metadata": {},
          "output_type": "execute_result"
        }
      ],
      "source": [
        "type(z)"
      ]
    },
    {
      "cell_type": "markdown",
      "metadata": {
        "id": "STMrzIARd5xX"
      },
      "source": [
        "También podemos definir números complejos en `Python` con la función `complex()`"
      ]
    },
    {
      "cell_type": "code",
      "execution_count": 82,
      "metadata": {
        "colab": {
          "base_uri": "https://localhost:8080/"
        },
        "id": "fCwnmAp2d2_m",
        "outputId": "08553398-2356-498e-ff15-5e38e6691e27"
      },
      "outputs": [
        {
          "data": {
            "text/plain": [
              "(1-7j)"
            ]
          },
          "execution_count": 82,
          "metadata": {},
          "output_type": "execute_result"
        }
      ],
      "source": [
        "z = complex(1, -7)\n",
        "z"
      ]
    },
    {
      "cell_type": "code",
      "execution_count": 83,
      "metadata": {
        "colab": {
          "base_uri": "https://localhost:8080/"
        },
        "id": "RjklDHWWd-aq",
        "outputId": "49a687bc-a707-4335-ba07-c6df3d93623b"
      },
      "outputs": [
        {
          "data": {
            "text/plain": [
              "complex"
            ]
          },
          "execution_count": 83,
          "metadata": {},
          "output_type": "execute_result"
        }
      ],
      "source": [
        "type(z)"
      ]
    },
    {
      "cell_type": "markdown",
      "metadata": {
        "id": "07A6HHDl_S06"
      },
      "source": [
        "Para obtener la parte real, utilizamos el método `.real`"
      ]
    },
    {
      "cell_type": "code",
      "execution_count": 84,
      "metadata": {
        "colab": {
          "base_uri": "https://localhost:8080/"
        },
        "id": "3-W1icz_d_HT",
        "outputId": "65731b44-d968-4bb4-d0f8-e8b098d59190"
      },
      "outputs": [
        {
          "data": {
            "text/plain": [
              "1.0"
            ]
          },
          "execution_count": 84,
          "metadata": {},
          "output_type": "execute_result"
        }
      ],
      "source": [
        "z.real"
      ]
    },
    {
      "cell_type": "markdown",
      "metadata": {
        "id": "TUes0F0c_WsI"
      },
      "source": [
        "Para obtener la parte imaginaria, utilizamos el método `.imag`"
      ]
    },
    {
      "cell_type": "code",
      "execution_count": 85,
      "metadata": {
        "colab": {
          "base_uri": "https://localhost:8080/"
        },
        "id": "ifODsy08_Vsq",
        "outputId": "c85ae8bf-e9e0-487e-ab29-c2a2acf2f4e2"
      },
      "outputs": [
        {
          "data": {
            "text/plain": [
              "-7.0"
            ]
          },
          "execution_count": 85,
          "metadata": {},
          "output_type": "execute_result"
        }
      ],
      "source": [
        "z.imag"
      ]
    },
    {
      "cell_type": "markdown",
      "metadata": {
        "id": "6T4K84e-_ex7"
      },
      "source": [
        "Para sumar números complejos, utilizamos la función `+`"
      ]
    },
    {
      "cell_type": "code",
      "execution_count": 86,
      "metadata": {
        "colab": {
          "base_uri": "https://localhost:8080/"
        },
        "id": "UjST8q0j_Z9c",
        "outputId": "85d51744-47bf-45d3-a595-f143b4393998"
      },
      "outputs": [
        {
          "data": {
            "text/plain": [
              "(7-2j)"
            ]
          },
          "execution_count": 86,
          "metadata": {},
          "output_type": "execute_result"
        }
      ],
      "source": [
        "z1 = 2-6j\n",
        "z2 = 5+4j\n",
        "\n",
        "z1 + z2"
      ]
    },
    {
      "cell_type": "markdown",
      "metadata": {
        "id": "ZSnIb7gK_i2S"
      },
      "source": [
        "Para restar números complejos, utilizamos la función `-`"
      ]
    },
    {
      "cell_type": "code",
      "execution_count": 87,
      "metadata": {
        "colab": {
          "base_uri": "https://localhost:8080/"
        },
        "id": "Dnj8COfl_csJ",
        "outputId": "b01861aa-6a4c-42b6-ae85-01b03688cbc5"
      },
      "outputs": [
        {
          "data": {
            "text/plain": [
              "(-3-10j)"
            ]
          },
          "execution_count": 87,
          "metadata": {},
          "output_type": "execute_result"
        }
      ],
      "source": [
        "z1 - z2"
      ]
    },
    {
      "cell_type": "markdown",
      "metadata": {
        "id": "ukK7dawe_lz9"
      },
      "source": [
        "Para multiplicar una constante por un número complejo, o bien multiplicar dos números complejos, utilizamos la función `*`"
      ]
    },
    {
      "cell_type": "code",
      "execution_count": 88,
      "metadata": {
        "colab": {
          "base_uri": "https://localhost:8080/",
          "height": 34
        },
        "id": "gjQ0sBz1_k7s",
        "outputId": "4b642850-6f77-4c64-d3ad-c45e7f9c4f1d"
      },
      "outputs": [
        {
          "data": {
            "text/plain": [
              "(-2+6j)"
            ]
          },
          "execution_count": 88,
          "metadata": {},
          "output_type": "execute_result"
        }
      ],
      "source": [
        "-1 * z1"
      ]
    },
    {
      "cell_type": "code",
      "execution_count": 89,
      "metadata": {
        "colab": {
          "base_uri": "https://localhost:8080/",
          "height": 34
        },
        "id": "8nIF9I8n_qo6",
        "outputId": "e832a453-f825-42ff-b188-f89074a9de1c"
      },
      "outputs": [
        {
          "data": {
            "text/plain": [
              "(34-22j)"
            ]
          },
          "execution_count": 89,
          "metadata": {},
          "output_type": "execute_result"
        }
      ],
      "source": [
        "z1 * z2"
      ]
    },
    {
      "cell_type": "markdown",
      "metadata": {
        "id": "66NOmMzQ_sfh"
      },
      "source": [
        "Para dividir números complejos, utilizamos la función `/`"
      ]
    },
    {
      "cell_type": "code",
      "execution_count": 90,
      "metadata": {
        "colab": {
          "base_uri": "https://localhost:8080/"
        },
        "id": "-xHQhzzn_rs-",
        "outputId": "bcc853f2-210c-4017-fc31-fdc1df94705e"
      },
      "outputs": [
        {
          "data": {
            "text/plain": [
              "-1j"
            ]
          },
          "execution_count": 90,
          "metadata": {},
          "output_type": "execute_result"
        }
      ],
      "source": [
        "z1 = -1 - 1j\n",
        "z2 = 1 - 1j\n",
        "\n",
        "z1 / z2"
      ]
    },
    {
      "cell_type": "markdown",
      "metadata": {
        "id": "P43dIsZO_x8X"
      },
      "source": [
        "**Observación.** Si queremos indicar que la parte imaginaria es 1 o -1, no basta con poner `j` o `-j`, sino que hay que escribir `1j` o `-1j`, siempre que definamos el número complejo en su forma binómica.\n",
        "\n",
        "Para calcular el conjugado de un número complejo, utilizamos el método `.conjugate()`"
      ]
    },
    {
      "cell_type": "code",
      "execution_count": 91,
      "metadata": {
        "colab": {
          "base_uri": "https://localhost:8080/"
        },
        "id": "wcgbkdEj_wmp",
        "outputId": "4e905cc2-c3f4-4680-ade9-1fe4a5881b60"
      },
      "outputs": [
        {
          "data": {
            "text/plain": [
              "(-2-1j)"
            ]
          },
          "execution_count": 91,
          "metadata": {},
          "output_type": "execute_result"
        }
      ],
      "source": [
        "z = -2 + 1j\n",
        "z.conjugate()"
      ]
    },
    {
      "cell_type": "markdown",
      "metadata": {
        "id": "-FeczLvPAJAh"
      },
      "source": [
        "Para calcular el módulo de un número complejo, utilizamos la función `abs()`"
      ]
    },
    {
      "cell_type": "code",
      "execution_count": 92,
      "metadata": {
        "colab": {
          "base_uri": "https://localhost:8080/"
        },
        "id": "KTc0OOHKAGcl",
        "outputId": "05ad4cc8-ea70-4876-8169-db7df7153304"
      },
      "outputs": [
        {
          "data": {
            "text/plain": [
              "2.0"
            ]
          },
          "execution_count": 92,
          "metadata": {},
          "output_type": "execute_result"
        }
      ],
      "source": [
        "z = -2j\n",
        "abs(z)"
      ]
    },
    {
      "cell_type": "markdown",
      "metadata": {
        "id": "A8wRA_JsAMt8"
      },
      "source": [
        "Para calcular el argumento de un número complejo, utilizamos la función `phase()` del paquete `cmath`."
      ]
    },
    {
      "cell_type": "code",
      "execution_count": 93,
      "metadata": {
        "colab": {
          "base_uri": "https://localhost:8080/"
        },
        "id": "Ck8u6atKALvV",
        "outputId": "61163913-8003-426b-dda1-0177c33fb065"
      },
      "outputs": [
        {
          "data": {
            "text/plain": [
              "-1.5707963267948966"
            ]
          },
          "execution_count": 93,
          "metadata": {},
          "output_type": "execute_result"
        }
      ],
      "source": [
        "import cmath\n",
        "cmath.phase(z)"
      ]
    },
    {
      "cell_type": "markdown",
      "metadata": {
        "id": "BwcTwZmZAgWe"
      },
      "source": [
        "Para pasar de forma binómica a forma polar, usamos la función `polar()` del paquete `cmath`."
      ]
    },
    {
      "cell_type": "code",
      "execution_count": 94,
      "metadata": {
        "colab": {
          "base_uri": "https://localhost:8080/",
          "height": 34
        },
        "id": "xPOAqf2rA8gC",
        "outputId": "bcc827e4-6a75-4d3a-83a0-28a6ad34d195"
      },
      "outputs": [
        {
          "data": {
            "text/plain": [
              "(-0-2j)"
            ]
          },
          "execution_count": 94,
          "metadata": {},
          "output_type": "execute_result"
        }
      ],
      "source": [
        "z"
      ]
    },
    {
      "cell_type": "code",
      "execution_count": 95,
      "metadata": {
        "colab": {
          "base_uri": "https://localhost:8080/"
        },
        "id": "_tiVpgPqAdu0",
        "outputId": "ac4baa82-a606-419b-8140-0b716099dac1"
      },
      "outputs": [
        {
          "data": {
            "text/plain": [
              "(2.0, -1.5707963267948966)"
            ]
          },
          "execution_count": 95,
          "metadata": {},
          "output_type": "execute_result"
        }
      ],
      "source": [
        "cmath.polar(z)"
      ]
    },
    {
      "cell_type": "markdown",
      "metadata": {
        "id": "A6cLaSYOAyiq"
      },
      "source": [
        "Para pasar de forma polar a forma binómica, usamos la función `rect()` del paquete `cmath`."
      ]
    },
    {
      "cell_type": "code",
      "execution_count": 96,
      "metadata": {
        "colab": {
          "base_uri": "https://localhost:8080/",
          "height": 34
        },
        "id": "PzY6qrX4Al2m",
        "outputId": "ecc4a7c7-f353-43e6-ab1c-3736a9dfc909"
      },
      "outputs": [
        {
          "data": {
            "text/plain": [
              "(1.2246467991473532e-16-2j)"
            ]
          },
          "execution_count": 96,
          "metadata": {},
          "output_type": "execute_result"
        }
      ],
      "source": [
        "cmath.rect(abs(z), cmath.phase(z))"
      ]
    }
  ],
  "metadata": {
    "colab": {
      "provenance": []
    },
    "kernelspec": {
      "display_name": "Python 3",
      "name": "python3"
    },
    "language_info": {
      "codemirror_mode": {
        "name": "ipython",
        "version": 3
      },
      "file_extension": ".py",
      "mimetype": "text/x-python",
      "name": "python",
      "nbconvert_exporter": "python",
      "pygments_lexer": "ipython3",
      "version": "3.7.6"
    }
  },
  "nbformat": 4,
  "nbformat_minor": 0
}
